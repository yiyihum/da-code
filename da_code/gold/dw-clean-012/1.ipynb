{
 "cells": [
  {
   "cell_type": "code",
   "execution_count": null,
   "metadata": {},
   "outputs": [],
   "source": [
    "import pandas as pd\n",
    "import re\n",
    "\n",
    "# Load the resume dataset from a CSV file into a DataFrame\n",
    "resumes = pd.read_csv('resumes.csv')\n",
    "\n",
    "# Regular expression for extracting specific technical skills listed in resumes\n",
    "# The word boundaries (\\b) ensure that the matches are complete words, not substrings of larger words\n",
    "regex_skills = r\"\\b(python|sql|r|excel)\\b\"\n",
    "\n",
    "# regex_job_title: Captures job titles as a sequence of uppercase letters, possibly including spaces, \n",
    "# periods, or hyphens to ensure it includes complete titles only.\n",
    "regex_job_title = r\"^([A-Z\\s\\.\\,\\-]+)\\b\"\n",
    "\n",
    "# Regular expression for identifying educational degrees\n",
    "# Similar to skills, it uses word boundaries to match complete words related to degrees\n",
    "regex_education = r\"\\b(PHD|MCs|Master|BCs|Bachelor)\\b\"\n",
    "\n",
    "# Lists to store the extracted information\n",
    "job_titles = []\n",
    "tech_skills = []\n",
    "educations = []\n",
    "\n",
    "# Loop through each resume in the DataFrame\n",
    "for resume in resumes['Resume_str']:\n",
    "\n",
    "    # Extract the job title using regex\n",
    "    job_title_match = re.search(regex_job_title, resume)\n",
    "    if job_title_match is not None:  # If a job title is found in the resume\n",
    "        job_title = job_title_match.group(0).strip()  \n",
    "    else:  # If no job title is found in the resume\n",
    "        job_title = \"\"  # Assign an empty string to indicate no job title found\n",
    "    job_titles.append(job_title)  # Add the extracted job title to the list of job titles\n",
    "\n",
    "    # Find all programming skills mentioned in the resume and make them unique\n",
    "    skills_matches = re.findall(regex_skills, resume, flags=re.IGNORECASE)\n",
    "    unique_skills = []\n",
    "    for skill in skills_matches:  # Remove duplicates and format to title case\n",
    "        skill_title = skill.title()\n",
    "        if skill_title not in unique_skills:\n",
    "            unique_skills.append(skill_title)\n",
    "    tech_skills.append(\", \".join(unique_skills))  # Convert list to comma-separated string\n",
    "\n",
    "    # Find all educational degrees mentioned in the resume and make them unique\n",
    "    education_matches = re.findall(regex_education, resume, flags=re.IGNORECASE)\n",
    "    unique_education = []\n",
    "    for education in education_matches:  # Remove duplicates and format to title case\n",
    "        education_title = education.title()\n",
    "        if education_title not in unique_education:\n",
    "            unique_education.append(education_title)\n",
    "    educations.append(\", \".join(unique_education))  # Convert list to comma-separated string\n",
    "\n",
    "# Add the extracted data to the DataFrame\n",
    "resumes['job_title'] = job_titles\n",
    "resumes['tech_skills'] = tech_skills\n",
    "resumes['education'] = educations\n",
    "\n",
    "# Filter out rows missing any job title, tech skill, or education information\n",
    "resumes_filtered = resumes[(resumes['job_title'] != \"\") & (resumes['tech_skills'] != \"\") & (resumes['education'] != \"\")]\n",
    "\n",
    "# Create a new DataFrame 'candidates_df' from 'resumes_filtered' with selected columns and lowercase column names for consistency\n",
    "candidates_df = resumes_filtered[[\"job_title\", \"tech_skills\", \"education\"]]\n",
    "candidates_df.columns = candidates_df.columns.str.lower()\n",
    "\n",
    "# Remove any rows that contain NaN values to ensure data integrity\n",
    "candidates_df.dropna(inplace=True)\n",
    "\n",
    "# Save the resulting DataFrame to a CSV file, excluding the index\n",
    "candidates_df.to_csv('result.csv', index=False)\n"
   ]
  }
 ],
 "metadata": {
  "kernelspec": {
   "display_name": "osworld",
   "language": "python",
   "name": "python3"
  },
  "language_info": {
   "codemirror_mode": {
    "name": "ipython",
    "version": 3
   },
   "file_extension": ".py",
   "mimetype": "text/x-python",
   "name": "python",
   "nbconvert_exporter": "python",
   "pygments_lexer": "ipython3",
   "version": "3.11.9 | packaged by Anaconda, Inc. | (main, Apr 19 2024, 16:40:41) [MSC v.1916 64 bit (AMD64)]"
  },
  "orig_nbformat": 4,
  "vscode": {
   "interpreter": {
    "hash": "7a133c8acbb1b015b1e9ef98cdb760047915d615fb3cc37bb998d2cb6800e34d"
   }
  }
 },
 "nbformat": 4,
 "nbformat_minor": 2
}
