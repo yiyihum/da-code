{
 "cells": [
  {
   "cell_type": "markdown",
   "metadata": {
    "papermill": {
     "duration": 0.035717,
     "end_time": "2022-03-04T08:33:48.831898",
     "exception": false,
     "start_time": "2022-03-04T08:33:48.796181",
     "status": "completed"
    },
    "tags": []
   },
   "source": [
    "# Load data "
   ]
  },
  {
   "cell_type": "code",
   "execution_count": 1,
   "metadata": {
    "execution": {
     "iopub.execute_input": "2022-03-04T08:33:48.901587Z",
     "iopub.status.busy": "2022-03-04T08:33:48.900641Z",
     "iopub.status.idle": "2022-03-04T08:33:49.892522Z",
     "shell.execute_reply": "2022-03-04T08:33:49.893103Z",
     "shell.execute_reply.started": "2022-03-04T08:18:08.741969Z"
    },
    "papermill": {
     "duration": 1.028481,
     "end_time": "2022-03-04T08:33:49.893294",
     "exception": false,
     "start_time": "2022-03-04T08:33:48.864813",
     "status": "completed"
    },
    "tags": []
   },
   "outputs": [
    {
     "data": {
      "text/html": [
       "<div>\n",
       "<style scoped>\n",
       "    .dataframe tbody tr th:only-of-type {\n",
       "        vertical-align: middle;\n",
       "    }\n",
       "\n",
       "    .dataframe tbody tr th {\n",
       "        vertical-align: top;\n",
       "    }\n",
       "\n",
       "    .dataframe thead th {\n",
       "        text-align: right;\n",
       "    }\n",
       "</style>\n",
       "<table border=\"1\" class=\"dataframe\">\n",
       "  <thead>\n",
       "    <tr style=\"text-align: right;\">\n",
       "      <th></th>\n",
       "      <th>item_id</th>\n",
       "      <th>deposit</th>\n",
       "      <th>monthly_rent</th>\n",
       "      <th>district_uuid</th>\n",
       "      <th>room_qty</th>\n",
       "      <th>unit_area</th>\n",
       "      <th>has_elevator</th>\n",
       "      <th>building_floor_count</th>\n",
       "      <th>unit_floor</th>\n",
       "      <th>has_storage_area</th>\n",
       "      <th>property_age</th>\n",
       "    </tr>\n",
       "  </thead>\n",
       "  <tbody>\n",
       "    <tr>\n",
       "      <th>0</th>\n",
       "      <td>91c0e569-bddd-4128-9720-2550bb85580e</td>\n",
       "      <td>64800000.0</td>\n",
       "      <td>0</td>\n",
       "      <td>263682f6-d0cd-4569-aeec-e727b76b7665</td>\n",
       "      <td>1.0</td>\n",
       "      <td>42</td>\n",
       "      <td>False</td>\n",
       "      <td>3.0</td>\n",
       "      <td>0.0</td>\n",
       "      <td>True</td>\n",
       "      <td>23.0</td>\n",
       "    </tr>\n",
       "    <tr>\n",
       "      <th>1</th>\n",
       "      <td>b00b7919-06be-4d26-98b8-1971787e1d46</td>\n",
       "      <td>72000000.0</td>\n",
       "      <td>4320000</td>\n",
       "      <td>97c9535e-3985-47ce-a84c-a962c838a76b</td>\n",
       "      <td>2.0</td>\n",
       "      <td>116</td>\n",
       "      <td>True</td>\n",
       "      <td>NaN</td>\n",
       "      <td>1.0</td>\n",
       "      <td>True</td>\n",
       "      <td>16.0</td>\n",
       "    </tr>\n",
       "    <tr>\n",
       "      <th>2</th>\n",
       "      <td>9eddb6bc-e424-4774-b55f-bfd54366d627</td>\n",
       "      <td>50400000.0</td>\n",
       "      <td>1440000</td>\n",
       "      <td>b790f536-c274-4147-86e0-94d9b6d7352d</td>\n",
       "      <td>1.0</td>\n",
       "      <td>74</td>\n",
       "      <td>False</td>\n",
       "      <td>2.0</td>\n",
       "      <td>0.0</td>\n",
       "      <td>True</td>\n",
       "      <td>19.0</td>\n",
       "    </tr>\n",
       "    <tr>\n",
       "      <th>3</th>\n",
       "      <td>12cf6b07-5d56-4126-94d2-ce9cbfe2214f</td>\n",
       "      <td>36000000.0</td>\n",
       "      <td>864000</td>\n",
       "      <td>93d06676-4975-4cc5-919b-3a0c29c7ad43</td>\n",
       "      <td>1.0</td>\n",
       "      <td>60</td>\n",
       "      <td>True</td>\n",
       "      <td>NaN</td>\n",
       "      <td>2.0</td>\n",
       "      <td>False</td>\n",
       "      <td>6.0</td>\n",
       "    </tr>\n",
       "    <tr>\n",
       "      <th>4</th>\n",
       "      <td>929eb20c-3694-46b2-b96c-91117b995d1b</td>\n",
       "      <td>28800000.0</td>\n",
       "      <td>1296000</td>\n",
       "      <td>58e59fa9-9947-478f-9cef-bc6a2cbe49a9</td>\n",
       "      <td>1.0</td>\n",
       "      <td>45</td>\n",
       "      <td>True</td>\n",
       "      <td>NaN</td>\n",
       "      <td>1.0</td>\n",
       "      <td>True</td>\n",
       "      <td>4.0</td>\n",
       "    </tr>\n",
       "  </tbody>\n",
       "</table>\n",
       "</div>"
      ],
      "text/plain": [
       "                                item_id     deposit  monthly_rent  \\\n",
       "0  91c0e569-bddd-4128-9720-2550bb85580e  64800000.0             0   \n",
       "1  b00b7919-06be-4d26-98b8-1971787e1d46  72000000.0       4320000   \n",
       "2  9eddb6bc-e424-4774-b55f-bfd54366d627  50400000.0       1440000   \n",
       "3  12cf6b07-5d56-4126-94d2-ce9cbfe2214f  36000000.0        864000   \n",
       "4  929eb20c-3694-46b2-b96c-91117b995d1b  28800000.0       1296000   \n",
       "\n",
       "                          district_uuid  room_qty  unit_area has_elevator  \\\n",
       "0  263682f6-d0cd-4569-aeec-e727b76b7665       1.0         42        False   \n",
       "1  97c9535e-3985-47ce-a84c-a962c838a76b       2.0        116         True   \n",
       "2  b790f536-c274-4147-86e0-94d9b6d7352d       1.0         74        False   \n",
       "3  93d06676-4975-4cc5-919b-3a0c29c7ad43       1.0         60         True   \n",
       "4  58e59fa9-9947-478f-9cef-bc6a2cbe49a9       1.0         45         True   \n",
       "\n",
       "   building_floor_count  unit_floor has_storage_area  property_age  \n",
       "0                   3.0         0.0             True          23.0  \n",
       "1                   NaN         1.0             True          16.0  \n",
       "2                   2.0         0.0             True          19.0  \n",
       "3                   NaN         2.0            False           6.0  \n",
       "4                   NaN         1.0             True           4.0  "
      ]
     },
     "metadata": {},
     "output_type": "display_data"
    },
    {
     "name": "stdout",
     "output_type": "stream",
     "text": [
      "(4930, 11)\n"
     ]
    }
   ],
   "source": [
    "import pandas as pd\n",
    "import numpy as np\n",
    "import matplotlib.pyplot as plt\n",
    "import seaborn as sns\n",
    "%matplotlib inline\n",
    "from tqdm.auto import tqdm\n",
    "from IPython.display import display, HTML\n",
    "from scipy.stats import norm, beta\n",
    "\n",
    "home = pd.read_csv('../property.csv')\n",
    "display(home.head())\n",
    "\n",
    "print(home.shape)"
   ]
  },
  {
   "cell_type": "markdown",
   "metadata": {
    "papermill": {
     "duration": 0.033371,
     "end_time": "2022-03-04T08:33:49.962218",
     "exception": false,
     "start_time": "2022-03-04T08:33:49.928847",
     "status": "completed"
    },
    "tags": []
   },
   "source": [
    "# Preprocessing"
   ]
  },
  {
   "cell_type": "markdown",
   "metadata": {
    "papermill": {
     "duration": 0.033238,
     "end_time": "2022-03-04T08:33:50.029854",
     "exception": false,
     "start_time": "2022-03-04T08:33:49.996616",
     "status": "completed"
    },
    "tags": []
   },
   "source": [
    "## Drop NaN "
   ]
  },
  {
   "cell_type": "code",
   "execution_count": 2,
   "metadata": {
    "execution": {
     "iopub.execute_input": "2022-03-04T08:33:50.103359Z",
     "iopub.status.busy": "2022-03-04T08:33:50.102585Z",
     "iopub.status.idle": "2022-03-04T08:33:50.129637Z",
     "shell.execute_reply": "2022-03-04T08:33:50.130508Z",
     "shell.execute_reply.started": "2022-03-04T08:18:09.712003Z"
    },
    "papermill": {
     "duration": 0.06706,
     "end_time": "2022-03-04T08:33:50.130660",
     "exception": false,
     "start_time": "2022-03-04T08:33:50.063600",
     "status": "completed"
    },
    "tags": []
   },
   "outputs": [],
   "source": [
    "# allow deposit 0\n",
    "# drop 0 value on  'unit_area', 'room_qty'\n",
    "# drop nan on 'district_uuid','room_qty','property_age','deposit','has_storage_area','unit_floor'\n",
    "clean_home = (home\n",
    "              .loc[~((home['unit_area'] == 0)|(home['room_qty'] == 0))]\n",
    "              .dropna(subset=['district_uuid',\n",
    "                              'room_qty',\n",
    "                              'property_age',\n",
    "                              'deposit',\n",
    "                              'has_storage_area',\n",
    "                              'has_elevator',\n",
    "                              'unit_floor'])\n",
    "             )\n",
    "# clean_home['has_storage_area'] = clean_home['has_storage_area'].map({True:1,False:0})\n",
    "# clean_home['has_elevator'] = clean_home['has_elevator'].map({True:1,False:0})"
   ]
  },
  {
   "cell_type": "markdown",
   "metadata": {
    "papermill": {
     "duration": 0.033945,
     "end_time": "2022-03-04T08:33:50.198950",
     "exception": false,
     "start_time": "2022-03-04T08:33:50.165005",
     "status": "completed"
    },
    "tags": []
   },
   "source": [
    "## Imputing building_floor_count"
   ]
  },
  {
   "cell_type": "code",
   "execution_count": 3,
   "metadata": {
    "_kg_hide-input": false,
    "execution": {
     "iopub.execute_input": "2022-03-04T08:33:50.272899Z",
     "iopub.status.busy": "2022-03-04T08:33:50.272284Z",
     "iopub.status.idle": "2022-03-04T08:34:00.080604Z",
     "shell.execute_reply": "2022-03-04T08:34:00.082351Z",
     "shell.execute_reply.started": "2022-03-04T08:18:09.744788Z"
    },
    "papermill": {
     "duration": 9.849748,
     "end_time": "2022-03-04T08:34:00.082575",
     "exception": false,
     "start_time": "2022-03-04T08:33:50.232827",
     "status": "completed"
    },
    "scrolled": true,
    "tags": []
   },
   "outputs": [
    {
     "name": "stdout",
     "output_type": "stream",
     "text": [
      "Imputing row 1/4783 with 0 missing, elapsed time: 1.452\n",
      "Imputing row 101/4783 with 0 missing, elapsed time: 1.453\n",
      "Imputing row 201/4783 with 0 missing, elapsed time: 1.454\n",
      "Imputing row 301/4783 with 1 missing, elapsed time: 1.455\n",
      "Imputing row 401/4783 with 1 missing, elapsed time: 1.455\n",
      "Imputing row 501/4783 with 0 missing, elapsed time: 1.456\n",
      "Imputing row 601/4783 with 1 missing, elapsed time: 1.457\n",
      "Imputing row 701/4783 with 0 missing, elapsed time: 1.458\n",
      "Imputing row 801/4783 with 1 missing, elapsed time: 1.459\n",
      "Imputing row 901/4783 with 1 missing, elapsed time: 1.460\n",
      "Imputing row 1001/4783 with 1 missing, elapsed time: 1.461\n",
      "Imputing row 1101/4783 with 0 missing, elapsed time: 1.462\n",
      "Imputing row 1201/4783 with 1 missing, elapsed time: 1.462\n",
      "Imputing row 1301/4783 with 0 missing, elapsed time: 1.464\n",
      "Imputing row 1401/4783 with 0 missing, elapsed time: 1.464\n",
      "Imputing row 1501/4783 with 0 missing, elapsed time: 1.465\n",
      "Imputing row 1601/4783 with 0 missing, elapsed time: 1.466\n",
      "Imputing row 1701/4783 with 0 missing, elapsed time: 1.466\n",
      "Imputing row 1801/4783 with 0 missing, elapsed time: 1.467\n",
      "Imputing row 1901/4783 with 1 missing, elapsed time: 1.468\n",
      "Imputing row 2001/4783 with 1 missing, elapsed time: 1.468\n",
      "Imputing row 2101/4783 with 0 missing, elapsed time: 1.469\n",
      "Imputing row 2201/4783 with 1 missing, elapsed time: 1.470\n",
      "Imputing row 2301/4783 with 1 missing, elapsed time: 1.471\n",
      "Imputing row 2401/4783 with 1 missing, elapsed time: 1.472\n",
      "Imputing row 2501/4783 with 0 missing, elapsed time: 1.473\n",
      "Imputing row 2601/4783 with 0 missing, elapsed time: 1.474\n",
      "Imputing row 2701/4783 with 1 missing, elapsed time: 1.474\n",
      "Imputing row 2801/4783 with 1 missing, elapsed time: 1.475\n",
      "Imputing row 2901/4783 with 0 missing, elapsed time: 1.475\n",
      "Imputing row 3001/4783 with 0 missing, elapsed time: 1.476\n",
      "Imputing row 3101/4783 with 0 missing, elapsed time: 1.477\n",
      "Imputing row 3201/4783 with 0 missing, elapsed time: 1.478\n",
      "Imputing row 3301/4783 with 0 missing, elapsed time: 1.478\n",
      "Imputing row 3401/4783 with 1 missing, elapsed time: 1.479\n",
      "Imputing row 3501/4783 with 0 missing, elapsed time: 1.480\n",
      "Imputing row 3601/4783 with 1 missing, elapsed time: 1.481\n",
      "Imputing row 3701/4783 with 0 missing, elapsed time: 1.482\n",
      "Imputing row 3801/4783 with 0 missing, elapsed time: 1.483\n",
      "Imputing row 3901/4783 with 0 missing, elapsed time: 1.484\n",
      "Imputing row 4001/4783 with 1 missing, elapsed time: 1.485\n",
      "Imputing row 4101/4783 with 1 missing, elapsed time: 1.485\n",
      "Imputing row 4201/4783 with 0 missing, elapsed time: 1.486\n",
      "Imputing row 4301/4783 with 0 missing, elapsed time: 1.487\n",
      "Imputing row 4401/4783 with 1 missing, elapsed time: 1.487\n",
      "Imputing row 4501/4783 with 0 missing, elapsed time: 1.488\n",
      "Imputing row 4601/4783 with 1 missing, elapsed time: 1.490\n",
      "Imputing row 4701/4783 with 1 missing, elapsed time: 1.490\n"
     ]
    }
   ],
   "source": [
    "import fancyimpute\n",
    "# select only numrical columns\n",
    "X = clean_home[[c for c in clean_home.columns if c not in ['item_id','district_uuid']]].copy()\n",
    "\n",
    "# Use 3 nearest rows which have a feature to fill in each row's missing features\n",
    "X_filled_knn = fancyimpute.KNN(k=3).fit_transform(X)\n",
    "\n",
    "# round the number\n",
    "clean_home['imputing_building_floor_count'] = X_filled_knn[:,5]"
   ]
  },
  {
   "cell_type": "markdown",
   "metadata": {
    "papermill": {
     "duration": 0.033853,
     "end_time": "2022-03-04T08:34:00.151192",
     "exception": false,
     "start_time": "2022-03-04T08:34:00.117339",
     "status": "completed"
    },
    "tags": []
   },
   "source": [
    "# Categorize Features ( Feature Engineering)\n",
    "convert every feature to categorical features as interval bin"
   ]
  },
  {
   "cell_type": "code",
   "execution_count": 4,
   "metadata": {
    "execution": {
     "iopub.execute_input": "2022-03-04T08:34:00.228064Z",
     "iopub.status.busy": "2022-03-04T08:34:00.227432Z",
     "iopub.status.idle": "2022-03-04T08:34:00.230195Z",
     "shell.execute_reply": "2022-03-04T08:34:00.229660Z",
     "shell.execute_reply.started": "2022-03-04T08:18:19.303154Z"
    },
    "papermill": {
     "duration": 0.044853,
     "end_time": "2022-03-04T08:34:00.230310",
     "exception": false,
     "start_time": "2022-03-04T08:34:00.185457",
     "status": "completed"
    },
    "tags": []
   },
   "outputs": [],
   "source": [
    "import math\n",
    "from pandas.api.types import CategoricalDtype\n",
    "def gen_labels(number_range):\n",
    "    labels = []\n",
    "    for i, value in enumerate(number_range):\n",
    "    #     old_value = value\n",
    "        if i == 0:\n",
    "            pass\n",
    "        elif i+1 == len(number_range):\n",
    "            labels.append(f\"{number_range[i-1]}+\")\n",
    "        else:\n",
    "            labels.append(f\"{number_range[i-1]}-{value}\")\n",
    "        old_value = value\n",
    "    return labels\n",
    "\n",
    "def get_cut_extreme_to_inf(numbers, w):\n",
    "    # w is how many bins\n",
    "    max_range_bin = np.quantile(numbers,0.95)\n",
    "    min_range_bin = min(numbers)\n",
    "    n = math.ceil((max_range_bin - min_range_bin)/w)\n",
    "    range_numbers = [-np.inf]+list(np.arange(min_range_bin, max_range_bin+1, n)) + [+np.inf]\n",
    "    # labels = gen_labels(range_numbers)\n",
    "    # return pd.cut(numbers ,range_numbers, labels)\n",
    "    return pd.cut(numbers ,range_numbers)\n"
   ]
  },
  {
   "cell_type": "code",
   "execution_count": 5,
   "metadata": {
    "execution": {
     "iopub.execute_input": "2022-03-04T08:34:00.304136Z",
     "iopub.status.busy": "2022-03-04T08:34:00.303456Z",
     "iopub.status.idle": "2022-03-04T08:34:00.306362Z",
     "shell.execute_reply": "2022-03-04T08:34:00.305831Z",
     "shell.execute_reply.started": "2022-03-04T08:18:19.316571Z"
    },
    "papermill": {
     "duration": 0.040695,
     "end_time": "2022-03-04T08:34:00.306472",
     "exception": false,
     "start_time": "2022-03-04T08:34:00.265777",
     "status": "completed"
    },
    "tags": []
   },
   "outputs": [],
   "source": [
    "# Not eqaully distributed value\n",
    "# clean_home['deposit_bin'] = get_cut_extreme_to_inf(clean_home['deposit'],10)\n",
    "# clean_home['monthly_rent_bin'] = get_cut_extreme_to_inf(clean_home['monthly_rent'],10)\n",
    "# clean_home['property_age_bin'] = get_cut_extreme_to_inf(clean_home['property_age'],10)\n",
    "# clean_home['unit_area_bin'] = get_cut_extreme_to_inf(clean_home['unit_area'],10)\n",
    "# clean_home['imputing_building_floor_count_bin'] = get_cut_extreme_to_inf(clean_home['imputing_building_floor_count'],10)\n",
    "# sorted([(k,v) for k,v in  get_cut_extreme_to_inf(clean_home['unit_area'],10).value_counts().items()], key = lambda d : d[0])"
   ]
  },
  {
   "cell_type": "markdown",
   "metadata": {
    "papermill": {
     "duration": 0.034811,
     "end_time": "2022-03-04T08:34:00.375640",
     "exception": false,
     "start_time": "2022-03-04T08:34:00.340829",
     "status": "completed"
    },
    "tags": []
   },
   "source": [
    "## unit_area"
   ]
  },
  {
   "cell_type": "code",
   "execution_count": 6,
   "metadata": {
    "execution": {
     "iopub.execute_input": "2022-03-04T08:34:00.447091Z",
     "iopub.status.busy": "2022-03-04T08:34:00.446508Z",
     "iopub.status.idle": "2022-03-04T08:34:00.533850Z",
     "shell.execute_reply": "2022-03-04T08:34:00.533250Z",
     "shell.execute_reply.started": "2022-03-04T08:18:19.332290Z"
    },
    "papermill": {
     "duration": 0.124004,
     "end_time": "2022-03-04T08:34:00.533977",
     "exception": false,
     "start_time": "2022-03-04T08:34:00.409973",
     "status": "completed"
    },
    "tags": []
   },
   "outputs": [],
   "source": [
    "def group_interval_unit_area(interval):\n",
    "    if (0 in interval)|(5 in interval)|(17 in interval)|(29 in interval)|(41.0 in interval):\n",
    "        return pd.Interval(-np.inf,41.0,closed='right')\n",
    "    elif (101.0 in interval) | (113.0 in interval)| (np.inf in interval):\n",
    "        return pd.Interval(89.0, np.inf,closed='right')\n",
    "    else:\n",
    "        return interval\n",
    "    \n",
    "clean_home['unit_area_bin'] = (\n",
    "    get_cut_extreme_to_inf(clean_home['unit_area'],10)\n",
    "    .astype(object)\n",
    "    .apply( lambda interval : group_interval_unit_area(interval))\n",
    "    .astype(\"category\")\n",
    ")"
   ]
  },
  {
   "cell_type": "code",
   "execution_count": 7,
   "metadata": {
    "execution": {
     "iopub.execute_input": "2022-03-04T08:34:00.607827Z",
     "iopub.status.busy": "2022-03-04T08:34:00.607228Z",
     "iopub.status.idle": "2022-03-04T08:34:00.615393Z",
     "shell.execute_reply": "2022-03-04T08:34:00.614835Z",
     "shell.execute_reply.started": "2022-03-04T08:18:19.486417Z"
    },
    "papermill": {
     "duration": 0.047291,
     "end_time": "2022-03-04T08:34:00.615506",
     "exception": false,
     "start_time": "2022-03-04T08:34:00.568215",
     "status": "completed"
    },
    "tags": []
   },
   "outputs": [
    {
     "data": {
      "text/plain": [
       "[(Interval(-inf, 41.0, closed='right'), 86),\n",
       " (Interval(41.0, 53.0, closed='right'), 938),\n",
       " (Interval(53.0, 65.0, closed='right'), 1236),\n",
       " (Interval(65.0, 77.0, closed='right'), 905),\n",
       " (Interval(77.0, 89.0, closed='right'), 763),\n",
       " (Interval(89.0, inf, closed='right'), 855)]"
      ]
     },
     "execution_count": 7,
     "metadata": {},
     "output_type": "execute_result"
    }
   ],
   "source": [
    "sorted([(k,v) for k,v in  clean_home['unit_area_bin'].value_counts().items()], key = lambda d : d[0])"
   ]
  },
  {
   "cell_type": "markdown",
   "metadata": {
    "papermill": {
     "duration": 0.0341,
     "end_time": "2022-03-04T08:34:00.684314",
     "exception": false,
     "start_time": "2022-03-04T08:34:00.650214",
     "status": "completed"
    },
    "tags": []
   },
   "source": [
    "## Property Age "
   ]
  },
  {
   "cell_type": "code",
   "execution_count": 8,
   "metadata": {
    "execution": {
     "iopub.execute_input": "2022-03-04T08:34:00.761079Z",
     "iopub.status.busy": "2022-03-04T08:34:00.760463Z",
     "iopub.status.idle": "2022-03-04T08:34:00.827890Z",
     "shell.execute_reply": "2022-03-04T08:34:00.828406Z",
     "shell.execute_reply.started": "2022-03-04T08:18:19.501005Z"
    },
    "papermill": {
     "duration": 0.109656,
     "end_time": "2022-03-04T08:34:00.828552",
     "exception": false,
     "start_time": "2022-03-04T08:34:00.718896",
     "status": "completed"
    },
    "tags": []
   },
   "outputs": [],
   "source": [
    "def group_interval_property_age(interval):\n",
    "    if (0 in interval)|(3 in interval):\n",
    "        return pd.Interval(-np.inf,3,closed='right')\n",
    "    elif (24.0 in interval) | (27.0 in interval)| (30.0 in interval) | (np.inf in interval):\n",
    "        return pd.Interval(21.0, np.inf,closed='right')\n",
    "    else:\n",
    "        return interval\n",
    "    \n",
    "clean_home['property_age_bin'] = (\n",
    "    get_cut_extreme_to_inf(clean_home['property_age'],10)\n",
    "    .astype(object)\n",
    "    .apply( lambda interval : group_interval_property_age(interval))\n",
    "    .astype(\"category\")\n",
    ")"
   ]
  },
  {
   "cell_type": "code",
   "execution_count": 9,
   "metadata": {
    "execution": {
     "iopub.execute_input": "2022-03-04T08:34:00.906925Z",
     "iopub.status.busy": "2022-03-04T08:34:00.904656Z",
     "iopub.status.idle": "2022-03-04T08:34:00.909847Z",
     "shell.execute_reply": "2022-03-04T08:34:00.910335Z",
     "shell.execute_reply.started": "2022-03-04T08:18:19.632814Z"
    },
    "papermill": {
     "duration": 0.047221,
     "end_time": "2022-03-04T08:34:00.910471",
     "exception": false,
     "start_time": "2022-03-04T08:34:00.863250",
     "status": "completed"
    },
    "tags": []
   },
   "outputs": [
    {
     "data": {
      "text/plain": [
       "[(Interval(-inf, 3.0, closed='right'), 479),\n",
       " (Interval(3.0, 6.0, closed='right'), 541),\n",
       " (Interval(6.0, 9.0, closed='right'), 546),\n",
       " (Interval(9.0, 12.0, closed='right'), 596),\n",
       " (Interval(12.0, 15.0, closed='right'), 860),\n",
       " (Interval(15.0, 18.0, closed='right'), 612),\n",
       " (Interval(18.0, 21.0, closed='right'), 555),\n",
       " (Interval(21.0, inf, closed='right'), 594)]"
      ]
     },
     "execution_count": 9,
     "metadata": {},
     "output_type": "execute_result"
    }
   ],
   "source": [
    "sorted([(k,v) for k,v in  clean_home['property_age_bin'].value_counts().items()], key = lambda d : d[0])"
   ]
  },
  {
   "cell_type": "markdown",
   "metadata": {
    "papermill": {
     "duration": 0.034834,
     "end_time": "2022-03-04T08:34:00.980339",
     "exception": false,
     "start_time": "2022-03-04T08:34:00.945505",
     "status": "completed"
    },
    "tags": []
   },
   "source": [
    "## Deposit "
   ]
  },
  {
   "cell_type": "code",
   "execution_count": 10,
   "metadata": {
    "execution": {
     "iopub.execute_input": "2022-03-04T08:34:01.053642Z",
     "iopub.status.busy": "2022-03-04T08:34:01.053050Z",
     "iopub.status.idle": "2022-03-04T08:34:01.125542Z",
     "shell.execute_reply": "2022-03-04T08:34:01.126101Z",
     "shell.execute_reply.started": "2022-03-04T08:18:19.647637Z"
    },
    "papermill": {
     "duration": 0.110485,
     "end_time": "2022-03-04T08:34:01.126256",
     "exception": false,
     "start_time": "2022-03-04T08:34:01.015771",
     "status": "completed"
    },
    "tags": []
   },
   "outputs": [],
   "source": [
    "def group_interval_deposit_bin(interval):\n",
    "    if (18720000 in interval)|(0 in interval):\n",
    "        return pd.Interval(-np.inf,18720000,closed='right')\n",
    "    elif (168480000 in interval) | (187200000 in interval)| (np.inf in interval) :\n",
    "        return pd.Interval(149760000.0, np.inf,closed='right')\n",
    "    else:\n",
    "        return interval\n",
    "\n",
    "clean_home['deposit_bin'] = (\n",
    "    get_cut_extreme_to_inf(clean_home['deposit'],10)\n",
    "    .astype(object)\n",
    "    .apply( lambda interval : group_interval_deposit_bin(interval))\n",
    "    .astype(\"category\")\n",
    ")"
   ]
  },
  {
   "cell_type": "code",
   "execution_count": 11,
   "metadata": {
    "execution": {
     "iopub.execute_input": "2022-03-04T08:34:01.199950Z",
     "iopub.status.busy": "2022-03-04T08:34:01.199330Z",
     "iopub.status.idle": "2022-03-04T08:34:01.209150Z",
     "shell.execute_reply": "2022-03-04T08:34:01.208546Z",
     "shell.execute_reply.started": "2022-03-04T08:18:19.782019Z"
    },
    "papermill": {
     "duration": 0.047369,
     "end_time": "2022-03-04T08:34:01.209273",
     "exception": false,
     "start_time": "2022-03-04T08:34:01.161904",
     "status": "completed"
    },
    "tags": []
   },
   "outputs": [
    {
     "data": {
      "text/plain": [
       "[(Interval(-inf, 18720000.0, closed='right'), 192),\n",
       " (Interval(18720000.0, 37440000.0, closed='right'), 920),\n",
       " (Interval(37440000.0, 56160000.0, closed='right'), 527),\n",
       " (Interval(56160000.0, 74880000.0, closed='right'), 937),\n",
       " (Interval(74880000.0, 93600000.0, closed='right'), 599),\n",
       " (Interval(93600000.0, 112320000.0, closed='right'), 453),\n",
       " (Interval(112320000.0, 131040000.0, closed='right'), 321),\n",
       " (Interval(131040000.0, 149760000.0, closed='right'), 307),\n",
       " (Interval(149760000.0, inf, closed='right'), 527)]"
      ]
     },
     "execution_count": 11,
     "metadata": {},
     "output_type": "execute_result"
    }
   ],
   "source": [
    "sorted([(k,v) for k,v in  clean_home['deposit_bin'].value_counts().items()], key = lambda d : d[0])"
   ]
  },
  {
   "cell_type": "markdown",
   "metadata": {
    "papermill": {
     "duration": 0.034711,
     "end_time": "2022-03-04T08:34:01.279487",
     "exception": false,
     "start_time": "2022-03-04T08:34:01.244776",
     "status": "completed"
    },
    "tags": []
   },
   "source": [
    "## Monthly rent "
   ]
  },
  {
   "cell_type": "code",
   "execution_count": 12,
   "metadata": {
    "execution": {
     "iopub.execute_input": "2022-03-04T08:34:01.352971Z",
     "iopub.status.busy": "2022-03-04T08:34:01.352358Z",
     "iopub.status.idle": "2022-03-04T08:34:01.361143Z",
     "shell.execute_reply": "2022-03-04T08:34:01.361571Z",
     "shell.execute_reply.started": "2022-03-04T08:18:19.794867Z"
    },
    "papermill": {
     "duration": 0.046968,
     "end_time": "2022-03-04T08:34:01.361734",
     "exception": false,
     "start_time": "2022-03-04T08:34:01.314766",
     "status": "completed"
    },
    "tags": []
   },
   "outputs": [],
   "source": [
    "def group_interval_monthly_rent(n):\n",
    "    if  0 < n <= 1641600.0:\n",
    "        #return pd.Interval(0,1641600.0,closed='right')\n",
    "        return \"medium\"\n",
    "    elif n > 1641600.0:\n",
    "        #return pd.Interval(1641600.0,np.inf,closed='right')\n",
    "        return \"expensive\"\n",
    "    elif n <= 0:\n",
    "        return \"not_allowed_rent\"\n",
    "        #return pd.Interval(-np.inf,0,closed='right')\n",
    "\n",
    "cat_type = CategoricalDtype(categories=[\"not_allowed_rent\", \"medium\", \"expensive\"], ordered=True)\n",
    "clean_home['monthly_rent_bin'] = (clean_home['monthly_rent']\n",
    "                                                   .apply(group_interval_monthly_rent)\n",
    "                                                   .astype(cat_type)\n",
    "                                                  )"
   ]
  },
  {
   "cell_type": "code",
   "execution_count": 13,
   "metadata": {
    "execution": {
     "iopub.execute_input": "2022-03-04T08:34:01.437520Z",
     "iopub.status.busy": "2022-03-04T08:34:01.436893Z",
     "iopub.status.idle": "2022-03-04T08:34:01.443708Z",
     "shell.execute_reply": "2022-03-04T08:34:01.444177Z",
     "shell.execute_reply.started": "2022-03-04T08:18:19.810627Z"
    },
    "papermill": {
     "duration": 0.045627,
     "end_time": "2022-03-04T08:34:01.444315",
     "exception": false,
     "start_time": "2022-03-04T08:34:01.398688",
     "status": "completed"
    },
    "tags": []
   },
   "outputs": [
    {
     "data": {
      "text/plain": [
       "[('expensive', 1043), ('medium', 1940), ('not_allowed_rent', 1800)]"
      ]
     },
     "execution_count": 13,
     "metadata": {},
     "output_type": "execute_result"
    }
   ],
   "source": [
    "sorted([(k,v) for k,v in  clean_home['monthly_rent_bin'].value_counts().items()], key = lambda d : d[0])"
   ]
  },
  {
   "cell_type": "markdown",
   "metadata": {
    "papermill": {
     "duration": 0.034877,
     "end_time": "2022-03-04T08:34:01.514311",
     "exception": false,
     "start_time": "2022-03-04T08:34:01.479434",
     "status": "completed"
    },
    "tags": []
   },
   "source": [
    "## Building Floor count"
   ]
  },
  {
   "cell_type": "code",
   "execution_count": 14,
   "metadata": {
    "execution": {
     "iopub.execute_input": "2022-03-04T08:34:01.588255Z",
     "iopub.status.busy": "2022-03-04T08:34:01.587608Z",
     "iopub.status.idle": "2022-03-04T08:34:01.599306Z",
     "shell.execute_reply": "2022-03-04T08:34:01.598707Z",
     "shell.execute_reply.started": "2022-03-04T08:18:19.823913Z"
    },
    "papermill": {
     "duration": 0.049828,
     "end_time": "2022-03-04T08:34:01.599433",
     "exception": false,
     "start_time": "2022-03-04T08:34:01.549605",
     "status": "completed"
    },
    "tags": []
   },
   "outputs": [],
   "source": [
    "def group_interval_building_floor_count(n):\n",
    "    if  3 < n <= 4:\n",
    "        return \"4\"\n",
    "        #return pd.Interval(n-1,n,closed='right')\n",
    "    elif n > 4:\n",
    "        return \"more_than_4\"\n",
    "        #return pd.Interval(4,np.inf,closed='right')\n",
    "    elif n <= 3:\n",
    "        return \"less_than_4\"\n",
    "        #return pd.Interval(-np.inf,3,closed='right')\n",
    "\n",
    "\n",
    "clean_home['imputing_building_floor_count_bin'] = (clean_home['imputing_building_floor_count']\n",
    "                                                   .apply(round)\n",
    "                                                   .apply(group_interval_building_floor_count)\n",
    "                                                   .astype(CategoricalDtype(\n",
    "                                                       categories=[\"less_than_4\", \"4\", \"more_than_4\"], \n",
    "                                                       ordered=True)\n",
    "                                                          )\n",
    "                                                  )"
   ]
  },
  {
   "cell_type": "code",
   "execution_count": 15,
   "metadata": {
    "execution": {
     "iopub.execute_input": "2022-03-04T08:34:01.674739Z",
     "iopub.status.busy": "2022-03-04T08:34:01.674095Z",
     "iopub.status.idle": "2022-03-04T08:34:01.682076Z",
     "shell.execute_reply": "2022-03-04T08:34:01.682581Z",
     "shell.execute_reply.started": "2022-03-04T08:18:19.841747Z"
    },
    "papermill": {
     "duration": 0.046741,
     "end_time": "2022-03-04T08:34:01.682740",
     "exception": false,
     "start_time": "2022-03-04T08:34:01.635999",
     "status": "completed"
    },
    "tags": []
   },
   "outputs": [
    {
     "data": {
      "text/plain": [
       "imputing_building_floor_count_bin\n",
       "4              2528\n",
       "less_than_4    1234\n",
       "more_than_4    1021\n",
       "Name: count, dtype: int64"
      ]
     },
     "execution_count": 15,
     "metadata": {},
     "output_type": "execute_result"
    }
   ],
   "source": [
    "clean_home['imputing_building_floor_count_bin'].value_counts()"
   ]
  },
  {
   "cell_type": "markdown",
   "metadata": {
    "papermill": {
     "duration": 0.035705,
     "end_time": "2022-03-04T08:34:01.754584",
     "exception": false,
     "start_time": "2022-03-04T08:34:01.718879",
     "status": "completed"
    },
    "tags": []
   },
   "source": [
    "## Unit Floor"
   ]
  },
  {
   "cell_type": "code",
   "execution_count": 16,
   "metadata": {
    "execution": {
     "iopub.execute_input": "2022-03-04T08:34:01.837704Z",
     "iopub.status.busy": "2022-03-04T08:34:01.837057Z",
     "iopub.status.idle": "2022-03-04T08:34:01.839943Z",
     "shell.execute_reply": "2022-03-04T08:34:01.840440Z",
     "shell.execute_reply.started": "2022-03-04T08:18:19.858547Z"
    },
    "papermill": {
     "duration": 0.050213,
     "end_time": "2022-03-04T08:34:01.840587",
     "exception": false,
     "start_time": "2022-03-04T08:34:01.790374",
     "status": "completed"
    },
    "tags": []
   },
   "outputs": [],
   "source": [
    "def group_interval_unit_floor(n):\n",
    "    if  0 < n <= 3:\n",
    "        return f\"{int(n)}\"\n",
    "        #return pd.Interval(n-1,n,closed='right')\n",
    "    elif n > 3:\n",
    "        return \">= 4\"\n",
    "        #return pd.Interval(4,np.inf,closed='right')\n",
    "    elif n <= 0:\n",
    "        return \"<= 0\"\n",
    "        #return pd.Interval(-np.inf,0,closed='right')\n",
    "    \n",
    "clean_home['unit_floor_bin'] =(clean_home['unit_floor']\n",
    "                               .apply(group_interval_unit_floor)\n",
    "                               .astype(CategoricalDtype(\n",
    "                                                       categories=[\"<= 0\",\"1\",\"2\",\"3\",\">= 4\"], \n",
    "                                                       ordered=True))\n",
    "                              )"
   ]
  },
  {
   "cell_type": "markdown",
   "metadata": {
    "papermill": {
     "duration": 0.035323,
     "end_time": "2022-03-04T08:34:01.911817",
     "exception": false,
     "start_time": "2022-03-04T08:34:01.876494",
     "status": "completed"
    },
    "tags": []
   },
   "source": [
    "## Room qty "
   ]
  },
  {
   "cell_type": "code",
   "execution_count": 17,
   "metadata": {
    "execution": {
     "iopub.execute_input": "2022-03-04T08:34:01.993985Z",
     "iopub.status.busy": "2022-03-04T08:34:01.993333Z",
     "iopub.status.idle": "2022-03-04T08:34:01.995866Z",
     "shell.execute_reply": "2022-03-04T08:34:01.996293Z",
     "shell.execute_reply.started": "2022-03-04T08:18:19.875311Z"
    },
    "papermill": {
     "duration": 0.048297,
     "end_time": "2022-03-04T08:34:01.996445",
     "exception": false,
     "start_time": "2022-03-04T08:34:01.948148",
     "status": "completed"
    },
    "tags": []
   },
   "outputs": [],
   "source": [
    "def group_interval_room_qty(n):\n",
    "    if  0 < n <= 1:\n",
    "        return \"1\"\n",
    "        #return pd.Interval(n-1,n,closed='right')\n",
    "    elif n > 1:\n",
    "        return \">= 2\"\n",
    "        #return pd.Interval(1,np.inf,closed='right')\n",
    "    elif n <= 0:\n",
    "        return \"<= 0\"\n",
    "        #return pd.Interval(-np.inf,0,closed='right')\n",
    "clean_home['room_qty_bin'] = (clean_home['room_qty']\n",
    "                              .apply(group_interval_room_qty)\n",
    "#                               .astype(\"category\")\n",
    "                              .astype(CategoricalDtype(\n",
    "                                                       categories=[\"<= 0\",\"1\",\">= 2\"], \n",
    "                                                       ordered=True)))"
   ]
  },
  {
   "cell_type": "code",
   "execution_count": 18,
   "metadata": {
    "execution": {
     "iopub.execute_input": "2022-03-04T08:34:02.077229Z",
     "iopub.status.busy": "2022-03-04T08:34:02.076599Z",
     "iopub.status.idle": "2022-03-04T08:34:02.079683Z",
     "shell.execute_reply": "2022-03-04T08:34:02.080155Z",
     "shell.execute_reply.started": "2022-03-04T08:18:19.889647Z"
    },
    "papermill": {
     "duration": 0.04739,
     "end_time": "2022-03-04T08:34:02.080293",
     "exception": false,
     "start_time": "2022-03-04T08:34:02.032903",
     "status": "completed"
    },
    "tags": []
   },
   "outputs": [
    {
     "data": {
      "text/plain": [
       "room_qty_bin\n",
       "1       2504\n",
       ">= 2    2279\n",
       "<= 0       0\n",
       "Name: count, dtype: int64"
      ]
     },
     "execution_count": 18,
     "metadata": {},
     "output_type": "execute_result"
    }
   ],
   "source": [
    "clean_home['room_qty_bin'].value_counts()"
   ]
  },
  {
   "cell_type": "markdown",
   "metadata": {
    "papermill": {
     "duration": 0.036148,
     "end_time": "2022-03-04T08:34:02.152219",
     "exception": false,
     "start_time": "2022-03-04T08:34:02.116071",
     "status": "completed"
    },
    "tags": []
   },
   "source": [
    "## District UUID "
   ]
  },
  {
   "cell_type": "code",
   "execution_count": 19,
   "metadata": {
    "execution": {
     "iopub.execute_input": "2022-03-04T08:34:02.227063Z",
     "iopub.status.busy": "2022-03-04T08:34:02.226467Z",
     "iopub.status.idle": "2022-03-04T08:34:02.238697Z",
     "shell.execute_reply": "2022-03-04T08:34:02.239239Z",
     "shell.execute_reply.started": "2022-03-04T08:18:19.904757Z"
    },
    "papermill": {
     "duration": 0.051165,
     "end_time": "2022-03-04T08:34:02.239387",
     "exception": false,
     "start_time": "2022-03-04T08:34:02.188222",
     "status": "completed"
    },
    "tags": []
   },
   "outputs": [],
   "source": [
    "top_100_district_uuid_list = list(clean_home['district_uuid'].value_counts().head(100).keys())\n",
    "clean_home['top_100_district_uuid'] = clean_home['district_uuid'].apply(lambda uuid : uuid if uuid in top_100_district_uuid_list else 'other').astype(\"category\")"
   ]
  },
  {
   "cell_type": "code",
   "execution_count": null,
   "metadata": {
    "execution": {
     "iopub.execute_input": "2022-03-04T08:34:02.315758Z",
     "iopub.status.busy": "2022-03-04T08:34:02.315138Z",
     "iopub.status.idle": "2022-03-04T08:34:03.465438Z",
     "shell.execute_reply": "2022-03-04T08:34:03.464931Z",
     "shell.execute_reply.started": "2022-03-04T08:18:19.925484Z"
    },
    "papermill": {
     "duration": 1.188763,
     "end_time": "2022-03-04T08:34:03.465574",
     "exception": false,
     "start_time": "2022-03-04T08:34:02.276811",
     "status": "completed"
    },
    "tags": []
   },
   "outputs": [],
   "source": []
  },
  {
   "cell_type": "code",
   "execution_count": 20,
   "metadata": {
    "execution": {
     "iopub.execute_input": "2022-03-04T08:34:03.549418Z",
     "iopub.status.busy": "2022-03-04T08:34:03.547761Z",
     "iopub.status.idle": "2022-03-04T08:34:03.552510Z",
     "shell.execute_reply": "2022-03-04T08:34:03.552031Z",
     "shell.execute_reply.started": "2022-03-04T08:18:21.124503Z"
    },
    "papermill": {
     "duration": 0.050989,
     "end_time": "2022-03-04T08:34:03.552629",
     "exception": false,
     "start_time": "2022-03-04T08:34:03.501640",
     "status": "completed"
    },
    "tags": []
   },
   "outputs": [],
   "source": [
    "categorized_clean_home = clean_home.loc[:,['deposit_bin','monthly_rent_bin','property_age_bin','unit_area_bin',\n",
    "            'has_elevator','has_storage_area',\n",
    "            'unit_floor_bin', 'room_qty_bin',\n",
    "            'imputing_building_floor_count_bin',\n",
    "            'top_100_district_uuid'\n",
    "           ]].copy()"
   ]
  },
  {
   "cell_type": "markdown",
   "metadata": {
    "papermill": {
     "duration": 0.035608,
     "end_time": "2022-03-04T08:34:03.624215",
     "exception": false,
     "start_time": "2022-03-04T08:34:03.588607",
     "status": "completed"
    },
    "tags": []
   },
   "source": [
    "## EDA Categorized Feature"
   ]
  },
  {
   "cell_type": "code",
   "execution_count": null,
   "metadata": {
    "execution": {
     "iopub.execute_input": "2022-03-04T08:34:03.702608Z",
     "iopub.status.busy": "2022-03-04T08:34:03.702031Z",
     "iopub.status.idle": "2022-03-04T08:34:14.686267Z",
     "shell.execute_reply": "2022-03-04T08:34:14.686744Z",
     "shell.execute_reply.started": "2022-03-04T08:18:21.141018Z"
    },
    "papermill": {
     "duration": 11.026368,
     "end_time": "2022-03-04T08:34:14.686887",
     "exception": false,
     "start_time": "2022-03-04T08:34:03.660519",
     "status": "completed"
    },
    "tags": []
   },
   "outputs": [],
   "source": []
  },
  {
   "cell_type": "markdown",
   "metadata": {
    "papermill": {
     "duration": 0.073376,
     "end_time": "2022-03-04T08:34:14.878672",
     "exception": false,
     "start_time": "2022-03-04T08:34:14.805296",
     "status": "completed"
    },
    "tags": []
   },
   "source": [
    "### Thoughts\n",
    "* according to cramer's correlations : \n",
    "    *  unit area, room qty are strongly associated\n",
    "    *  monthly rent, deposit are strongly associated\n",
    "    *  property age, has elevator  are strongly associated\n",
    " "
   ]
  },
  {
   "cell_type": "markdown",
   "metadata": {
    "papermill": {
     "duration": 0.07405,
     "end_time": "2022-03-04T08:34:15.025613",
     "exception": false,
     "start_time": "2022-03-04T08:34:14.951563",
     "status": "completed"
    },
    "tags": []
   },
   "source": [
    "# Preprocessing"
   ]
  },
  {
   "cell_type": "code",
   "execution_count": 21,
   "metadata": {
    "execution": {
     "iopub.execute_input": "2022-03-04T08:34:15.181820Z",
     "iopub.status.busy": "2022-03-04T08:34:15.180900Z",
     "iopub.status.idle": "2022-03-04T08:34:15.233188Z",
     "shell.execute_reply": "2022-03-04T08:34:15.233687Z",
     "shell.execute_reply.started": "2022-03-04T08:18:33.973242Z"
    },
    "papermill": {
     "duration": 0.135241,
     "end_time": "2022-03-04T08:34:15.233853",
     "exception": false,
     "start_time": "2022-03-04T08:34:15.098612",
     "status": "completed"
    },
    "tags": []
   },
   "outputs": [],
   "source": [
    "from sklearn import preprocessing\n",
    "labelencoder_for_feature = { col : preprocessing.LabelEncoder() for col in categorized_clean_home.columns }\n",
    "encoded_data = categorized_clean_home.copy()\n",
    "for col in categorized_clean_home.columns:\n",
    "    encoded_data[col] = labelencoder_for_feature[col].fit_transform(categorized_clean_home[col])"
   ]
  },
  {
   "cell_type": "markdown",
   "metadata": {
    "papermill": {
     "duration": 0.074333,
     "end_time": "2022-03-04T08:34:15.380430",
     "exception": false,
     "start_time": "2022-03-04T08:34:15.306097",
     "status": "completed"
    },
    "tags": []
   },
   "source": [
    "# Custering"
   ]
  },
  {
   "cell_type": "code",
   "execution_count": 22,
   "metadata": {
    "execution": {
     "iopub.execute_input": "2022-03-04T08:34:15.529837Z",
     "iopub.status.busy": "2022-03-04T08:34:15.529209Z",
     "iopub.status.idle": "2022-03-04T08:34:15.546147Z",
     "shell.execute_reply": "2022-03-04T08:34:15.546671Z",
     "shell.execute_reply.started": "2022-03-04T08:18:34.079327Z"
    },
    "papermill": {
     "duration": 0.094253,
     "end_time": "2022-03-04T08:34:15.546838",
     "exception": false,
     "start_time": "2022-03-04T08:34:15.452585",
     "status": "completed"
    },
    "tags": []
   },
   "outputs": [],
   "source": [
    "from kmodes.kmodes import KModes"
   ]
  },
  {
   "cell_type": "markdown",
   "metadata": {
    "papermill": {
     "duration": 0.072245,
     "end_time": "2022-03-04T08:34:15.692110",
     "exception": false,
     "start_time": "2022-03-04T08:34:15.619865",
     "status": "completed"
    },
    "tags": []
   },
   "source": [
    "## Cao algorithm "
   ]
  },
  {
   "cell_type": "code",
   "execution_count": 23,
   "metadata": {
    "execution": {
     "iopub.execute_input": "2022-03-04T08:34:15.848183Z",
     "iopub.status.busy": "2022-03-04T08:34:15.847588Z",
     "iopub.status.idle": "2022-03-04T08:35:19.860614Z",
     "shell.execute_reply": "2022-03-04T08:35:19.857126Z",
     "shell.execute_reply.started": "2022-03-04T08:18:34.092787Z"
    },
    "papermill": {
     "duration": 64.096214,
     "end_time": "2022-03-04T08:35:19.860808",
     "exception": false,
     "start_time": "2022-03-04T08:34:15.764594",
     "status": "completed"
    },
    "tags": []
   },
   "outputs": [
    {
     "data": {
      "application/vnd.jupyter.widget-view+json": {
       "model_id": "7cfed18e3c254386b8dbc58b9d8fdb17",
       "version_major": 2,
       "version_minor": 0
      },
      "text/plain": [
       "  0%|          | 0/3 [00:00<?, ?it/s]"
      ]
     },
     "metadata": {},
     "output_type": "display_data"
    },
    {
     "name": "stdout",
     "output_type": "stream",
     "text": [
      "轮廓系数为: -0.010408931403896165\n"
     ]
    }
   ],
   "source": [
    "cao_kmode_models = []\n",
    "cao_costs = []\n",
    "for n in tqdm(range(2,5,1)):\n",
    "    km_cao = KModes(n_clusters=n, init = \"Cao\",n_jobs=-1, random_state=2022)\n",
    "    fitClusters_cao = km_cao.fit_predict(encoded_data)\n",
    "    cao_kmode_models.append(km_cao)\n",
    "    cao_costs.append(km_cao.cost_)\n",
    "\n",
    "selected_model = cao_kmode_models[2]  # 假设索引2对应4个簇\n",
    "\n",
    "# 使用所选的聚类模型对数据进行聚类\n",
    "cluster_labels = selected_model.predict(encoded_data)\n",
    "\n",
    "# 创建包含特征值和聚类标签的DataFrame\n",
    "feature_columns = [f\"Feature_{i}\" for i in range(encoded_data.shape[1])]\n",
    "data = pd.DataFrame(data=encoded_data, columns=feature_columns)\n",
    "data['Cluster'] = cluster_labels\n",
    "\n",
    "from sklearn.metrics import silhouette_score\n",
    "\n",
    "# 已经从聚类模型中获得的聚类标签\n",
    "cluster_labels = selected_model.predict(encoded_data)\n",
    "\n",
    "# 计算轮廓系数\n",
    "silhouette_avg = silhouette_score(encoded_data, cluster_labels)\n",
    "\n",
    "print(f\"轮廓系数为: {silhouette_avg}\")\n",
    "\n",
    "# 将DataFrame保存为CSV文件\n",
    "data.to_csv('cluster.csv', index=False)"
   ]
  },
  {
   "cell_type": "markdown",
   "metadata": {
    "papermill": {
     "duration": 0.07272,
     "end_time": "2022-03-04T08:35:20.007837",
     "exception": false,
     "start_time": "2022-03-04T08:35:19.935117",
     "status": "completed"
    },
    "tags": []
   },
   "source": [
    "## Haung Algorithm"
   ]
  },
  {
   "cell_type": "code",
   "execution_count": 27,
   "metadata": {
    "execution": {
     "iopub.execute_input": "2022-03-04T08:35:20.157358Z",
     "iopub.status.busy": "2022-03-04T08:35:20.156773Z",
     "iopub.status.idle": "2022-03-04T08:36:17.401361Z",
     "shell.execute_reply": "2022-03-04T08:36:17.400882Z",
     "shell.execute_reply.started": "2022-03-04T08:20:31.354036Z"
    },
    "papermill": {
     "duration": 57.32125,
     "end_time": "2022-03-04T08:36:17.401471",
     "exception": false,
     "start_time": "2022-03-04T08:35:20.080221",
     "status": "completed"
    },
    "tags": []
   },
   "outputs": [
    {
     "data": {
      "application/vnd.jupyter.widget-view+json": {
       "model_id": "64d206ef2e38456d9e12f07117849097",
       "version_major": 2,
       "version_minor": 0
      },
      "text/plain": [
       "  0%|          | 0/3 [00:00<?, ?it/s]"
      ]
     },
     "metadata": {},
     "output_type": "display_data"
    },
    {
     "name": "stdout",
     "output_type": "stream",
     "text": [
      "-0.01855624928960742\n"
     ]
    }
   ],
   "source": [
    "huang_kmode_models = []\n",
    "huang_costs = []\n",
    "for n in tqdm(range(2,5,1)):\n",
    "    km_huang = KModes(n_clusters=n, init = \"Huang\",n_jobs=-1, random_state=2022)\n",
    "    fitClusters_huang = km_huang.fit_predict(encoded_data)\n",
    "    huang_kmode_models.append(km_huang)\n",
    "    huang_costs.append(km_huang.cost_)\n",
    "    \n",
    "selected_model = huang_kmode_models[2]  \n",
    "\n",
    "# 使用所选的聚类模型对数据进行聚类\n",
    "cluster_labels = selected_model.predict(encoded_data)\n",
    "\n",
    "# 创建包含特征值和聚类标签的DataFrame\n",
    "feature_columns = [f\"Feature_{i}\" for i in range(encoded_data.shape[1])]\n",
    "data = pd.DataFrame(data=encoded_data, columns=feature_columns)\n",
    "data['Cluster'] = cluster_labels\n",
    "\n",
    "# 计算轮廓系数\n",
    "silhouette_avg = silhouette_score(encoded_data, cluster_labels)\n",
    "print(silhouette_avg)"
   ]
  },
  {
   "cell_type": "markdown",
   "metadata": {
    "papermill": {
     "duration": 0.07271,
     "end_time": "2022-03-04T08:36:17.557388",
     "exception": false,
     "start_time": "2022-03-04T08:36:17.484678",
     "status": "completed"
    },
    "tags": []
   },
   "source": [
    "## Random"
   ]
  },
  {
   "cell_type": "code",
   "execution_count": 28,
   "metadata": {
    "execution": {
     "iopub.execute_input": "2022-03-04T08:36:17.706670Z",
     "iopub.status.busy": "2022-03-04T08:36:17.705765Z",
     "iopub.status.idle": "2022-03-04T08:36:43.182700Z",
     "shell.execute_reply": "2022-03-04T08:36:43.182255Z",
     "shell.execute_reply.started": "2022-03-04T08:22:12.751254Z"
    },
    "papermill": {
     "duration": 25.55274,
     "end_time": "2022-03-04T08:36:43.182834",
     "exception": false,
     "start_time": "2022-03-04T08:36:17.630094",
     "status": "completed"
    },
    "tags": []
   },
   "outputs": [
    {
     "data": {
      "application/vnd.jupyter.widget-view+json": {
       "model_id": "2974f1ff6e2a406d81562580f4be2f80",
       "version_major": 2,
       "version_minor": 0
      },
      "text/plain": [
       "  0%|          | 0/3 [00:00<?, ?it/s]"
      ]
     },
     "metadata": {},
     "output_type": "display_data"
    },
    {
     "name": "stdout",
     "output_type": "stream",
     "text": [
      "-0.027193611620017582\n"
     ]
    }
   ],
   "source": [
    "random_kmode_models = []\n",
    "random_costs = []\n",
    "for n in tqdm(range(2,5,1)):\n",
    "    km_random = KModes(n_clusters=n, init = \"random\",n_jobs=-1, random_state=2022)\n",
    "    fitClusters_random = km_random.fit_predict(encoded_data)\n",
    "    random_kmode_models.append(km_random)\n",
    "    random_costs.append(km_random.cost_)\n",
    "\n",
    "selected_model = random_kmode_models[2]  \n",
    "\n",
    "# 使用所选的聚类模型对数据进行聚类\n",
    "cluster_labels = selected_model.predict(encoded_data)\n",
    "\n",
    "# 创建包含特征值和聚类标签的DataFrame\n",
    "feature_columns = [f\"Feature_{i}\" for i in range(encoded_data.shape[1])]\n",
    "data = pd.DataFrame(data=encoded_data, columns=feature_columns)\n",
    "data['Cluster'] = cluster_labels\n",
    "\n",
    "# 计算轮廓系数\n",
    "silhouette_avg = silhouette_score(encoded_data, cluster_labels)\n",
    "print(silhouette_avg)\n"
   ]
  },
  {
   "cell_type": "markdown",
   "metadata": {
    "papermill": {
     "duration": 0.073424,
     "end_time": "2022-03-04T08:36:43.330275",
     "exception": false,
     "start_time": "2022-03-04T08:36:43.256851",
     "status": "completed"
    },
    "tags": []
   },
   "source": [
    "## Check appropriate K clusters"
   ]
  },
  {
   "cell_type": "code",
   "execution_count": null,
   "metadata": {
    "execution": {
     "iopub.execute_input": "2022-03-04T08:36:43.485917Z",
     "iopub.status.busy": "2022-03-04T08:36:43.485286Z",
     "iopub.status.idle": "2022-03-04T08:36:43.723314Z",
     "shell.execute_reply": "2022-03-04T08:36:43.722749Z",
     "shell.execute_reply.started": "2022-03-04T08:22:51.264515Z"
    },
    "papermill": {
     "duration": 0.318812,
     "end_time": "2022-03-04T08:36:43.723427",
     "exception": false,
     "start_time": "2022-03-04T08:36:43.404615",
     "status": "completed"
    },
    "tags": []
   },
   "outputs": [
    {
     "data": {
      "image/png": "[encoded data removed]",
      "text/plain": [
       "<Figure size 576x396 with 1 Axes>"
      ]
     },
     "metadata": {},
     "output_type": "display_data"
    },
    {
     "data": {
      "text/plain": [
       "<Figure size 576x396 with 0 Axes>"
      ]
     },
     "metadata": {},
     "output_type": "display_data"
    }
   ],
   "source": [
    "plt.plot([*range(2,30,1)],cao_costs, linestyle ='-')\n",
    "plt.plot([*range(2,30,1)],huang_costs, linestyle='--')\n",
    "plt.plot([*range(2,30,1)],random_costs, linestyle='dotted')\n",
    "plt.legend(['Cao','Haung','random'])\n",
    "plt.figure(20)\n",
    "plt.show()"
   ]
  },
  {
   "cell_type": "markdown",
   "metadata": {
    "papermill": {
     "duration": 0.074712,
     "end_time": "2022-03-04T08:36:43.873558",
     "exception": false,
     "start_time": "2022-03-04T08:36:43.798846",
     "status": "completed"
    },
    "tags": []
   },
   "source": [
    "### Thoughts\n",
    "* around 10-13 probalby apropriate clusters\n",
    "* lets choose 10 with cao initial"
   ]
  },
  {
   "cell_type": "markdown",
   "metadata": {
    "papermill": {
     "duration": 0.075655,
     "end_time": "2022-03-04T08:36:44.024545",
     "exception": false,
     "start_time": "2022-03-04T08:36:43.948890",
     "status": "completed"
    },
    "tags": []
   },
   "source": [
    "## Chosen random K-mode 10 clusters"
   ]
  },
  {
   "cell_type": "code",
   "execution_count": null,
   "metadata": {
    "execution": {
     "iopub.execute_input": "2022-03-04T08:36:44.178805Z",
     "iopub.status.busy": "2022-03-04T08:36:44.178187Z",
     "iopub.status.idle": "2022-03-04T08:36:44.185506Z",
     "shell.execute_reply": "2022-03-04T08:36:44.185988Z",
     "shell.execute_reply.started": "2022-03-04T08:22:51.548954Z"
    },
    "papermill": {
     "duration": 0.086109,
     "end_time": "2022-03-04T08:36:44.186143",
     "exception": false,
     "start_time": "2022-03-04T08:36:44.100034",
     "status": "completed"
    },
    "tags": []
   },
   "outputs": [
    {
     "name": "stdout",
     "output_type": "stream",
     "text": [
      "KModes(init='random', n_clusters=10, n_jobs=-1, random_state=2022)\n"
     ]
    }
   ],
   "source": [
    "chosen_model = random_kmode_models[8]\n",
    "print(chosen_model)"
   ]
  },
  {
   "cell_type": "code",
   "execution_count": null,
   "metadata": {
    "execution": {
     "iopub.execute_input": "2022-03-04T08:36:44.344719Z",
     "iopub.status.busy": "2022-03-04T08:36:44.343766Z",
     "iopub.status.idle": "2022-03-04T08:36:44.347219Z",
     "shell.execute_reply": "2022-03-04T08:36:44.347734Z",
     "shell.execute_reply.started": "2022-03-04T08:22:51.557673Z"
    },
    "papermill": {
     "duration": 0.085003,
     "end_time": "2022-03-04T08:36:44.347892",
     "exception": false,
     "start_time": "2022-03-04T08:36:44.262889",
     "status": "completed"
    },
    "tags": []
   },
   "outputs": [],
   "source": [
    "# save the model\n",
    "import pickle\n",
    "pickle.dump(chosen_model, open(\"random_kmode_10_cluster_model.pkl\", \"wb\"))"
   ]
  },
  {
   "cell_type": "markdown",
   "metadata": {
    "papermill": {
     "duration": 0.075904,
     "end_time": "2022-03-04T08:36:44.499710",
     "exception": false,
     "start_time": "2022-03-04T08:36:44.423806",
     "status": "completed"
    },
    "tags": []
   },
   "source": [
    "### Label Distribution"
   ]
  },
  {
   "cell_type": "code",
   "execution_count": null,
   "metadata": {
    "execution": {
     "iopub.execute_input": "2022-03-04T08:36:44.659238Z",
     "iopub.status.busy": "2022-03-04T08:36:44.658335Z",
     "iopub.status.idle": "2022-03-04T08:36:44.835069Z",
     "shell.execute_reply": "2022-03-04T08:36:44.834517Z",
     "shell.execute_reply.started": "2022-03-04T08:22:51.571852Z"
    },
    "papermill": {
     "duration": 0.259572,
     "end_time": "2022-03-04T08:36:44.835187",
     "exception": false,
     "start_time": "2022-03-04T08:36:44.575615",
     "status": "completed"
    },
    "tags": []
   },
   "outputs": [
    {
     "name": "stdout",
     "output_type": "stream",
     "text": [
      "[659 814 357 488 725 324 423 351 327 315]\n"
     ]
    },
    {
     "data": {
      "image/png": "[encoded data removed]",
      "text/plain": [
       "<Figure size 576x396 with 1 Axes>"
      ]
     },
     "metadata": {},
     "output_type": "display_data"
    }
   ],
   "source": [
    "labels = chosen_model.labels_\n",
    "counts = np.bincount(labels[labels>=0])\n",
    "print(counts)\n",
    "plt.hist([str(n) for n in sorted(labels)])\n",
    "plt.show()"
   ]
  },
  {
   "cell_type": "markdown",
   "metadata": {
    "papermill": {
     "duration": 0.077329,
     "end_time": "2022-03-04T08:36:44.988693",
     "exception": false,
     "start_time": "2022-03-04T08:36:44.911364",
     "status": "completed"
    },
    "tags": []
   },
   "source": [
    "### Thoughts\n",
    "* not unifrom distribution, which is bad"
   ]
  },
  {
   "cell_type": "markdown",
   "metadata": {
    "papermill": {
     "duration": 0.076039,
     "end_time": "2022-03-04T08:36:45.140995",
     "exception": false,
     "start_time": "2022-03-04T08:36:45.064956",
     "status": "completed"
    },
    "tags": []
   },
   "source": [
    "### Centroids Analysis"
   ]
  },
  {
   "cell_type": "code",
   "execution_count": null,
   "metadata": {
    "execution": {
     "iopub.execute_input": "2022-03-04T08:36:45.302319Z",
     "iopub.status.busy": "2022-03-04T08:36:45.301551Z",
     "iopub.status.idle": "2022-03-04T08:36:45.314463Z",
     "shell.execute_reply": "2022-03-04T08:36:45.313950Z",
     "shell.execute_reply.started": "2022-03-04T08:22:51.799935Z"
    },
    "papermill": {
     "duration": 0.096455,
     "end_time": "2022-03-04T08:36:45.314575",
     "exception": false,
     "start_time": "2022-03-04T08:36:45.218120",
     "status": "completed"
    },
    "tags": []
   },
   "outputs": [],
   "source": [
    "import plotly.graph_objects as go\n",
    "import numpy as np\n",
    "def plot_boundary_line(boundary_feature):\n",
    "    x_array = []\n",
    "    y_array = []\n",
    "    for cluster,interval in centroids_df[boundary_feature].items():\n",
    "        x_array.append([cluster,cluster])\n",
    "        y_array.append([interval.left, interval.right])\n",
    "    fig = go.Figure(data=[go.Scatter(x=y, y=x,name=f\"cluster {x[0]}\",line=dict(width=10), marker=dict(size=10)) for x,y in zip(x_array,y_array)])\n",
    "    fig.update_layout({'title' : f\"{boundary_feature} Boundary\"})\n",
    "    return fig"
   ]
  },
  {
   "cell_type": "code",
   "execution_count": null,
   "metadata": {
    "execution": {
     "iopub.execute_input": "2022-03-04T08:36:45.471178Z",
     "iopub.status.busy": "2022-03-04T08:36:45.470551Z",
     "iopub.status.idle": "2022-03-04T08:36:45.691305Z",
     "shell.execute_reply": "2022-03-04T08:36:45.690683Z",
     "shell.execute_reply.started": "2022-03-04T08:22:51.820401Z"
    },
    "papermill": {
     "duration": 0.300448,
     "end_time": "2022-03-04T08:36:45.691416",
     "exception": false,
     "start_time": "2022-03-04T08:36:45.390968",
     "status": "completed"
    },
    "tags": []
   },
   "outputs": [
    {
     "data": {
      "text/html": [
       "<div>\n",
       "<style scoped>\n",
       "    .dataframe tbody tr th:only-of-type {\n",
       "        vertical-align: middle;\n",
       "    }\n",
       "\n",
       "    .dataframe tbody tr th {\n",
       "        vertical-align: top;\n",
       "    }\n",
       "\n",
       "    .dataframe thead th {\n",
       "        text-align: right;\n",
       "    }\n",
       "</style>\n",
       "<table border=\"1\" class=\"dataframe\">\n",
       "  <thead>\n",
       "    <tr style=\"text-align: right;\">\n",
       "      <th></th>\n",
       "      <th>deposit_bin</th>\n",
       "      <th>monthly_rent_bin</th>\n",
       "      <th>property_age_bin</th>\n",
       "      <th>unit_area_bin</th>\n",
       "      <th>has_elevator</th>\n",
       "      <th>has_storage_area</th>\n",
       "      <th>unit_floor_bin</th>\n",
       "      <th>room_qty_bin</th>\n",
       "      <th>imputing_building_floor_count_bin</th>\n",
       "      <th>top_100_district_uuid</th>\n",
       "    </tr>\n",
       "  </thead>\n",
       "  <tbody>\n",
       "    <tr>\n",
       "      <th>0</th>\n",
       "      <td>(56160000.0, 74880000.0]</td>\n",
       "      <td>medium</td>\n",
       "      <td>(12.0, 15.0]</td>\n",
       "      <td>(77.0, 89.0]</td>\n",
       "      <td>False</td>\n",
       "      <td>False</td>\n",
       "      <td>1</td>\n",
       "      <td>&gt;= 2</td>\n",
       "      <td>4</td>\n",
       "      <td>fd5ad07f-14b2-4491-aeb3-31651e92e1fd</td>\n",
       "    </tr>\n",
       "    <tr>\n",
       "      <th>1</th>\n",
       "      <td>(18720000.0, 37440000.0]</td>\n",
       "      <td>medium</td>\n",
       "      <td>(15.0, 18.0]</td>\n",
       "      <td>(41.0, 53.0]</td>\n",
       "      <td>False</td>\n",
       "      <td>True</td>\n",
       "      <td>3</td>\n",
       "      <td>1</td>\n",
       "      <td>less_than_4</td>\n",
       "      <td>b790f536-c274-4147-86e0-94d9b6d7352d</td>\n",
       "    </tr>\n",
       "    <tr>\n",
       "      <th>2</th>\n",
       "      <td>(131040000.0, 149760000.0]</td>\n",
       "      <td>not_allowed_rent</td>\n",
       "      <td>(21.0, inf]</td>\n",
       "      <td>(77.0, 89.0]</td>\n",
       "      <td>False</td>\n",
       "      <td>False</td>\n",
       "      <td>1</td>\n",
       "      <td>&gt;= 2</td>\n",
       "      <td>less_than_4</td>\n",
       "      <td>b790f536-c274-4147-86e0-94d9b6d7352d</td>\n",
       "    </tr>\n",
       "    <tr>\n",
       "      <th>3</th>\n",
       "      <td>(149760000.0, inf]</td>\n",
       "      <td>not_allowed_rent</td>\n",
       "      <td>(3.0, 6.0]</td>\n",
       "      <td>(89.0, inf]</td>\n",
       "      <td>True</td>\n",
       "      <td>True</td>\n",
       "      <td>2</td>\n",
       "      <td>&gt;= 2</td>\n",
       "      <td>more_than_4</td>\n",
       "      <td>fd5ad07f-14b2-4491-aeb3-31651e92e1fd</td>\n",
       "    </tr>\n",
       "    <tr>\n",
       "      <th>4</th>\n",
       "      <td>(74880000.0, 93600000.0]</td>\n",
       "      <td>not_allowed_rent</td>\n",
       "      <td>(18.0, 21.0]</td>\n",
       "      <td>(53.0, 65.0]</td>\n",
       "      <td>False</td>\n",
       "      <td>True</td>\n",
       "      <td>1</td>\n",
       "      <td>1</td>\n",
       "      <td>4</td>\n",
       "      <td>b790f536-c274-4147-86e0-94d9b6d7352d</td>\n",
       "    </tr>\n",
       "    <tr>\n",
       "      <th>5</th>\n",
       "      <td>(56160000.0, 74880000.0]</td>\n",
       "      <td>expensive</td>\n",
       "      <td>(3.0, 6.0]</td>\n",
       "      <td>(65.0, 77.0]</td>\n",
       "      <td>True</td>\n",
       "      <td>True</td>\n",
       "      <td>2</td>\n",
       "      <td>&gt;= 2</td>\n",
       "      <td>4</td>\n",
       "      <td>fd5ad07f-14b2-4491-aeb3-31651e92e1fd</td>\n",
       "    </tr>\n",
       "    <tr>\n",
       "      <th>6</th>\n",
       "      <td>(18720000.0, 37440000.0]</td>\n",
       "      <td>medium</td>\n",
       "      <td>(18.0, 21.0]</td>\n",
       "      <td>(53.0, 65.0]</td>\n",
       "      <td>False</td>\n",
       "      <td>False</td>\n",
       "      <td>2</td>\n",
       "      <td>1</td>\n",
       "      <td>4</td>\n",
       "      <td>b790f536-c274-4147-86e0-94d9b6d7352d</td>\n",
       "    </tr>\n",
       "    <tr>\n",
       "      <th>7</th>\n",
       "      <td>(149760000.0, inf]</td>\n",
       "      <td>not_allowed_rent</td>\n",
       "      <td>(-inf, 3.0]</td>\n",
       "      <td>(89.0, inf]</td>\n",
       "      <td>True</td>\n",
       "      <td>True</td>\n",
       "      <td>&gt;= 4</td>\n",
       "      <td>&gt;= 2</td>\n",
       "      <td>more_than_4</td>\n",
       "      <td>fd5ad07f-14b2-4491-aeb3-31651e92e1fd</td>\n",
       "    </tr>\n",
       "    <tr>\n",
       "      <th>8</th>\n",
       "      <td>(56160000.0, 74880000.0]</td>\n",
       "      <td>expensive</td>\n",
       "      <td>(21.0, inf]</td>\n",
       "      <td>(89.0, inf]</td>\n",
       "      <td>False</td>\n",
       "      <td>True</td>\n",
       "      <td>3</td>\n",
       "      <td>&gt;= 2</td>\n",
       "      <td>4</td>\n",
       "      <td>1c10c124-59c8-4f0f-954d-1b1993c1c01b</td>\n",
       "    </tr>\n",
       "    <tr>\n",
       "      <th>9</th>\n",
       "      <td>(56160000.0, 74880000.0]</td>\n",
       "      <td>medium</td>\n",
       "      <td>(3.0, 6.0]</td>\n",
       "      <td>(41.0, 53.0]</td>\n",
       "      <td>True</td>\n",
       "      <td>True</td>\n",
       "      <td>2</td>\n",
       "      <td>1</td>\n",
       "      <td>4</td>\n",
       "      <td>b790f536-c274-4147-86e0-94d9b6d7352d</td>\n",
       "    </tr>\n",
       "  </tbody>\n",
       "</table>\n",
       "</div>"
      ],
      "text/plain": [
       "                  deposit_bin  monthly_rent_bin property_age_bin  \\\n",
       "0    (56160000.0, 74880000.0]            medium     (12.0, 15.0]   \n",
       "1    (18720000.0, 37440000.0]            medium     (15.0, 18.0]   \n",
       "2  (131040000.0, 149760000.0]  not_allowed_rent      (21.0, inf]   \n",
       "3          (149760000.0, inf]  not_allowed_rent       (3.0, 6.0]   \n",
       "4    (74880000.0, 93600000.0]  not_allowed_rent     (18.0, 21.0]   \n",
       "5    (56160000.0, 74880000.0]         expensive       (3.0, 6.0]   \n",
       "6    (18720000.0, 37440000.0]            medium     (18.0, 21.0]   \n",
       "7          (149760000.0, inf]  not_allowed_rent      (-inf, 3.0]   \n",
       "8    (56160000.0, 74880000.0]         expensive      (21.0, inf]   \n",
       "9    (56160000.0, 74880000.0]            medium       (3.0, 6.0]   \n",
       "\n",
       "  unit_area_bin has_elevator has_storage_area unit_floor_bin room_qty_bin  \\\n",
       "0  (77.0, 89.0]        False            False              1         >= 2   \n",
       "1  (41.0, 53.0]        False             True              3            1   \n",
       "2  (77.0, 89.0]        False            False              1         >= 2   \n",
       "3   (89.0, inf]         True             True              2         >= 2   \n",
       "4  (53.0, 65.0]        False             True              1            1   \n",
       "5  (65.0, 77.0]         True             True              2         >= 2   \n",
       "6  (53.0, 65.0]        False            False              2            1   \n",
       "7   (89.0, inf]         True             True           >= 4         >= 2   \n",
       "8   (89.0, inf]        False             True              3         >= 2   \n",
       "9  (41.0, 53.0]         True             True              2            1   \n",
       "\n",
       "  imputing_building_floor_count_bin                 top_100_district_uuid  \n",
       "0                                 4  fd5ad07f-14b2-4491-aeb3-31651e92e1fd  \n",
       "1                       less_than_4  b790f536-c274-4147-86e0-94d9b6d7352d  \n",
       "2                       less_than_4  b790f536-c274-4147-86e0-94d9b6d7352d  \n",
       "3                       more_than_4  fd5ad07f-14b2-4491-aeb3-31651e92e1fd  \n",
       "4                                 4  b790f536-c274-4147-86e0-94d9b6d7352d  \n",
       "5                                 4  fd5ad07f-14b2-4491-aeb3-31651e92e1fd  \n",
       "6                                 4  b790f536-c274-4147-86e0-94d9b6d7352d  \n",
       "7                       more_than_4  fd5ad07f-14b2-4491-aeb3-31651e92e1fd  \n",
       "8                                 4  1c10c124-59c8-4f0f-954d-1b1993c1c01b  \n",
       "9                                 4  b790f536-c274-4147-86e0-94d9b6d7352d  "
      ]
     },
     "metadata": {},
     "output_type": "display_data"
    }
   ],
   "source": [
    "centroids = chosen_model.cluster_centroids_ \n",
    "centroids_df = pd.DataFrame(centroids, columns=encoded_data.columns)\n",
    "for col in centroids_df.columns:\n",
    "    centroids_df[col] = labelencoder_for_feature[col].inverse_transform(centroids_df[col])\n",
    "\n",
    "centroids_df.to_csv('centroid_df.csv')\n",
    "display(centroids_df)"
   ]
  },
  {
   "cell_type": "code",
   "execution_count": null,
   "metadata": {
    "execution": {
     "iopub.execute_input": "2022-03-04T08:36:45.852256Z",
     "iopub.status.busy": "2022-03-04T08:36:45.851587Z",
     "iopub.status.idle": "2022-03-04T08:36:45.995932Z",
     "shell.execute_reply": "2022-03-04T08:36:45.995328Z",
     "shell.execute_reply.started": "2022-03-04T08:22:52.230999Z"
    },
    "papermill": {
     "duration": 0.22733,
     "end_time": "2022-03-04T08:36:45.996049",
     "exception": false,
     "start_time": "2022-03-04T08:36:45.768719",
     "status": "completed"
    },
    "tags": []
   },
   "outputs": [
    {
     "data": {
      "text/html": [
       "        <script type=\"text/javascript\">\n",
       "        window.PlotlyConfig = {MathJaxConfig: 'local'};\n",
       "        if (window.MathJax) {MathJax.Hub.Config({SVG: {font: \"STIX-Web\"}});}\n",
       "        if (typeof require !== 'undefined') {\n",
       "        require.undef(\"plotly\");\n",
       "        requirejs.config({\n",
       "            paths: {\n",
       "                'plotly': ['https://cdn.plot.ly/plotly-latest.min']\n",
       "            }\n",
       "        });\n",
       "        require(['plotly'], function(Plotly) {\n",
       "            window._Plotly = Plotly;\n",
       "        });\n",
       "        }\n",
       "        </script>\n",
       "        "
      ]
     },
     "metadata": {},
     "output_type": "display_data"
    },
    {
     "data": {
      "text/html": [
       "<div>                            <div id=\"c8107223-86a6-495c-85e7-5038b78a28f2\" class=\"plotly-graph-div\" style=\"height:525px; width:100%;\"></div>            <script type=\"text/javascript\">                require([\"plotly\"], function(Plotly) {                    window.PLOTLYENV=window.PLOTLYENV || {};                                    if (document.getElementById(\"c8107223-86a6-495c-85e7-5038b78a28f2\")) {                    Plotly.newPlot(                        \"c8107223-86a6-495c-85e7-5038b78a28f2\",                        [{\"line\": {\"width\": 10}, \"marker\": {\"size\": 10}, \"name\": \"cluster 0\", \"type\": \"scatter\", \"x\": [56160000.0, 74880000.0], \"y\": [0, 0]}, {\"line\": {\"width\": 10}, \"marker\": {\"size\": 10}, \"name\": \"cluster 1\", \"type\": \"scatter\", \"x\": [18720000.0, 37440000.0], \"y\": [1, 1]}, {\"line\": {\"width\": 10}, \"marker\": {\"size\": 10}, \"name\": \"cluster 2\", \"type\": \"scatter\", \"x\": [131040000.0, 149760000.0], \"y\": [2, 2]}, {\"line\": {\"width\": 10}, \"marker\": {\"size\": 10}, \"name\": \"cluster 3\", \"type\": \"scatter\", \"x\": [149760000.0, null], \"y\": [3, 3]}, {\"line\": {\"width\": 10}, \"marker\": {\"size\": 10}, \"name\": \"cluster 4\", \"type\": \"scatter\", \"x\": [74880000.0, 93600000.0], \"y\": [4, 4]}, {\"line\": {\"width\": 10}, \"marker\": {\"size\": 10}, \"name\": \"cluster 5\", \"type\": \"scatter\", \"x\": [56160000.0, 74880000.0], \"y\": [5, 5]}, {\"line\": {\"width\": 10}, \"marker\": {\"size\": 10}, \"name\": \"cluster 6\", \"type\": \"scatter\", \"x\": [18720000.0, 37440000.0], \"y\": [6, 6]}, {\"line\": {\"width\": 10}, \"marker\": {\"size\": 10}, \"name\": \"cluster 7\", \"type\": \"scatter\", \"x\": [149760000.0, null], \"y\": [7, 7]}, {\"line\": {\"width\": 10}, \"marker\": {\"size\": 10}, \"name\": \"cluster 8\", \"type\": \"scatter\", \"x\": [56160000.0, 74880000.0], \"y\": [8, 8]}, {\"line\": {\"width\": 10}, \"marker\": {\"size\": 10}, \"name\": \"cluster 9\", \"type\": \"scatter\", \"x\": [56160000.0, 74880000.0], \"y\": [9, 9]}],                        {\"template\": {\"data\": {\"bar\": [{\"error_x\": {\"color\": \"#2a3f5f\"}, \"error_y\": {\"color\": \"#2a3f5f\"}, \"marker\": {\"line\": {\"color\": \"#E5ECF6\", \"width\": 0.5}}, \"type\": \"bar\"}], \"barpolar\": [{\"marker\": {\"line\": {\"color\": \"#E5ECF6\", \"width\": 0.5}}, \"type\": \"barpolar\"}], \"carpet\": [{\"aaxis\": {\"endlinecolor\": \"#2a3f5f\", \"gridcolor\": \"white\", \"linecolor\": \"white\", \"minorgridcolor\": \"white\", \"startlinecolor\": \"#2a3f5f\"}, \"baxis\": {\"endlinecolor\": \"#2a3f5f\", \"gridcolor\": \"white\", \"linecolor\": \"white\", \"minorgridcolor\": \"white\", \"startlinecolor\": \"#2a3f5f\"}, \"type\": \"carpet\"}], \"choropleth\": [{\"colorbar\": {\"outlinewidth\": 0, \"ticks\": \"\"}, \"type\": \"choropleth\"}], \"contour\": [{\"colorbar\": {\"outlinewidth\": 0, \"ticks\": \"\"}, \"colorscale\": [[0.0, \"#0d0887\"], [0.1111111111111111, \"#46039f\"], [0.2222222222222222, \"#7201a8\"], [0.3333333333333333, \"#9c179e\"], [0.4444444444444444, \"#bd3786\"], [0.5555555555555556, \"#d8576b\"], [0.6666666666666666, \"#ed7953\"], [0.7777777777777778, \"#fb9f3a\"], [0.8888888888888888, \"#fdca26\"], [1.0, \"#f0f921\"]], \"type\": \"contour\"}], \"contourcarpet\": [{\"colorbar\": {\"outlinewidth\": 0, \"ticks\": \"\"}, \"type\": \"contourcarpet\"}], \"heatmap\": [{\"colorbar\": {\"outlinewidth\": 0, \"ticks\": \"\"}, \"colorscale\": [[0.0, \"#0d0887\"], [0.1111111111111111, \"#46039f\"], [0.2222222222222222, \"#7201a8\"], [0.3333333333333333, \"#9c179e\"], [0.4444444444444444, \"#bd3786\"], [0.5555555555555556, \"#d8576b\"], [0.6666666666666666, \"#ed7953\"], [0.7777777777777778, \"#fb9f3a\"], [0.8888888888888888, \"#fdca26\"], [1.0, \"#f0f921\"]], \"type\": \"heatmap\"}], \"heatmapgl\": [{\"colorbar\": {\"outlinewidth\": 0, \"ticks\": \"\"}, \"colorscale\": [[0.0, \"#0d0887\"], [0.1111111111111111, \"#46039f\"], [0.2222222222222222, \"#7201a8\"], [0.3333333333333333, \"#9c179e\"], [0.4444444444444444, \"#bd3786\"], [0.5555555555555556, \"#d8576b\"], [0.6666666666666666, \"#ed7953\"], [0.7777777777777778, \"#fb9f3a\"], [0.8888888888888888, \"#fdca26\"], [1.0, \"#f0f921\"]], \"type\": \"heatmapgl\"}], \"histogram\": [{\"marker\": {\"colorbar\": {\"outlinewidth\": 0, \"ticks\": \"\"}}, \"type\": \"histogram\"}], \"histogram2d\": [{\"colorbar\": {\"outlinewidth\": 0, \"ticks\": \"\"}, \"colorscale\": [[0.0, \"#0d0887\"], [0.1111111111111111, \"#46039f\"], [0.2222222222222222, \"#7201a8\"], [0.3333333333333333, \"#9c179e\"], [0.4444444444444444, \"#bd3786\"], [0.5555555555555556, \"#d8576b\"], [0.6666666666666666, \"#ed7953\"], [0.7777777777777778, \"#fb9f3a\"], [0.8888888888888888, \"#fdca26\"], [1.0, \"#f0f921\"]], \"type\": \"histogram2d\"}], \"histogram2dcontour\": [{\"colorbar\": {\"outlinewidth\": 0, \"ticks\": \"\"}, \"colorscale\": [[0.0, \"#0d0887\"], [0.1111111111111111, \"#46039f\"], [0.2222222222222222, \"#7201a8\"], [0.3333333333333333, \"#9c179e\"], [0.4444444444444444, \"#bd3786\"], [0.5555555555555556, \"#d8576b\"], [0.6666666666666666, \"#ed7953\"], [0.7777777777777778, \"#fb9f3a\"], [0.8888888888888888, \"#fdca26\"], [1.0, \"#f0f921\"]], \"type\": \"histogram2dcontour\"}], \"mesh3d\": [{\"colorbar\": {\"outlinewidth\": 0, \"ticks\": \"\"}, \"type\": \"mesh3d\"}], \"parcoords\": [{\"line\": {\"colorbar\": {\"outlinewidth\": 0, \"ticks\": \"\"}}, \"type\": \"parcoords\"}], \"pie\": [{\"automargin\": true, \"type\": \"pie\"}], \"scatter\": [{\"marker\": {\"colorbar\": {\"outlinewidth\": 0, \"ticks\": \"\"}}, \"type\": \"scatter\"}], \"scatter3d\": [{\"line\": {\"colorbar\": {\"outlinewidth\": 0, \"ticks\": \"\"}}, \"marker\": {\"colorbar\": {\"outlinewidth\": 0, \"ticks\": \"\"}}, \"type\": \"scatter3d\"}], \"scattercarpet\": [{\"marker\": {\"colorbar\": {\"outlinewidth\": 0, \"ticks\": \"\"}}, \"type\": \"scattercarpet\"}], \"scattergeo\": [{\"marker\": {\"colorbar\": {\"outlinewidth\": 0, \"ticks\": \"\"}}, \"type\": \"scattergeo\"}], \"scattergl\": [{\"marker\": {\"colorbar\": {\"outlinewidth\": 0, \"ticks\": \"\"}}, \"type\": \"scattergl\"}], \"scattermapbox\": [{\"marker\": {\"colorbar\": {\"outlinewidth\": 0, \"ticks\": \"\"}}, \"type\": \"scattermapbox\"}], \"scatterpolar\": [{\"marker\": {\"colorbar\": {\"outlinewidth\": 0, \"ticks\": \"\"}}, \"type\": \"scatterpolar\"}], \"scatterpolargl\": [{\"marker\": {\"colorbar\": {\"outlinewidth\": 0, \"ticks\": \"\"}}, \"type\": \"scatterpolargl\"}], \"scatterternary\": [{\"marker\": {\"colorbar\": {\"outlinewidth\": 0, \"ticks\": \"\"}}, \"type\": \"scatterternary\"}], \"surface\": [{\"colorbar\": {\"outlinewidth\": 0, \"ticks\": \"\"}, \"colorscale\": [[0.0, \"#0d0887\"], [0.1111111111111111, \"#46039f\"], [0.2222222222222222, \"#7201a8\"], [0.3333333333333333, \"#9c179e\"], [0.4444444444444444, \"#bd3786\"], [0.5555555555555556, \"#d8576b\"], [0.6666666666666666, \"#ed7953\"], [0.7777777777777778, \"#fb9f3a\"], [0.8888888888888888, \"#fdca26\"], [1.0, \"#f0f921\"]], \"type\": \"surface\"}], \"table\": [{\"cells\": {\"fill\": {\"color\": \"#EBF0F8\"}, \"line\": {\"color\": \"white\"}}, \"header\": {\"fill\": {\"color\": \"#C8D4E3\"}, \"line\": {\"color\": \"white\"}}, \"type\": \"table\"}]}, \"layout\": {\"annotationdefaults\": {\"arrowcolor\": \"#2a3f5f\", \"arrowhead\": 0, \"arrowwidth\": 1}, \"coloraxis\": {\"colorbar\": {\"outlinewidth\": 0, \"ticks\": \"\"}}, \"colorscale\": {\"diverging\": [[0, \"#8e0152\"], [0.1, \"#c51b7d\"], [0.2, \"#de77ae\"], [0.3, \"#f1b6da\"], [0.4, \"#fde0ef\"], [0.5, \"#f7f7f7\"], [0.6, \"#e6f5d0\"], [0.7, \"#b8e186\"], [0.8, \"#7fbc41\"], [0.9, \"#4d9221\"], [1, \"#276419\"]], \"sequential\": [[0.0, \"#0d0887\"], [0.1111111111111111, \"#46039f\"], [0.2222222222222222, \"#7201a8\"], [0.3333333333333333, \"#9c179e\"], [0.4444444444444444, \"#bd3786\"], [0.5555555555555556, \"#d8576b\"], [0.6666666666666666, \"#ed7953\"], [0.7777777777777778, \"#fb9f3a\"], [0.8888888888888888, \"#fdca26\"], [1.0, \"#f0f921\"]], \"sequentialminus\": [[0.0, \"#0d0887\"], [0.1111111111111111, \"#46039f\"], [0.2222222222222222, \"#7201a8\"], [0.3333333333333333, \"#9c179e\"], [0.4444444444444444, \"#bd3786\"], [0.5555555555555556, \"#d8576b\"], [0.6666666666666666, \"#ed7953\"], [0.7777777777777778, \"#fb9f3a\"], [0.8888888888888888, \"#fdca26\"], [1.0, \"#f0f921\"]]}, \"colorway\": [\"#636efa\", \"#EF553B\", \"#00cc96\", \"#ab63fa\", \"#FFA15A\", \"#19d3f3\", \"#FF6692\", \"#B6E880\", \"#FF97FF\", \"#FECB52\"], \"font\": {\"color\": \"#2a3f5f\"}, \"geo\": {\"bgcolor\": \"white\", \"lakecolor\": \"white\", \"landcolor\": \"#E5ECF6\", \"showlakes\": true, \"showland\": true, \"subunitcolor\": \"white\"}, \"hoverlabel\": {\"align\": \"left\"}, \"hovermode\": \"closest\", \"mapbox\": {\"style\": \"light\"}, \"paper_bgcolor\": \"white\", \"plot_bgcolor\": \"#E5ECF6\", \"polar\": {\"angularaxis\": {\"gridcolor\": \"white\", \"linecolor\": \"white\", \"ticks\": \"\"}, \"bgcolor\": \"#E5ECF6\", \"radialaxis\": {\"gridcolor\": \"white\", \"linecolor\": \"white\", \"ticks\": \"\"}}, \"scene\": {\"xaxis\": {\"backgroundcolor\": \"#E5ECF6\", \"gridcolor\": \"white\", \"gridwidth\": 2, \"linecolor\": \"white\", \"showbackground\": true, \"ticks\": \"\", \"zerolinecolor\": \"white\"}, \"yaxis\": {\"backgroundcolor\": \"#E5ECF6\", \"gridcolor\": \"white\", \"gridwidth\": 2, \"linecolor\": \"white\", \"showbackground\": true, \"ticks\": \"\", \"zerolinecolor\": \"white\"}, \"zaxis\": {\"backgroundcolor\": \"#E5ECF6\", \"gridcolor\": \"white\", \"gridwidth\": 2, \"linecolor\": \"white\", \"showbackground\": true, \"ticks\": \"\", \"zerolinecolor\": \"white\"}}, \"shapedefaults\": {\"line\": {\"color\": \"#2a3f5f\"}}, \"ternary\": {\"aaxis\": {\"gridcolor\": \"white\", \"linecolor\": \"white\", \"ticks\": \"\"}, \"baxis\": {\"gridcolor\": \"white\", \"linecolor\": \"white\", \"ticks\": \"\"}, \"bgcolor\": \"#E5ECF6\", \"caxis\": {\"gridcolor\": \"white\", \"linecolor\": \"white\", \"ticks\": \"\"}}, \"title\": {\"x\": 0.05}, \"xaxis\": {\"automargin\": true, \"gridcolor\": \"white\", \"linecolor\": \"white\", \"ticks\": \"\", \"title\": {\"standoff\": 15}, \"zerolinecolor\": \"white\", \"zerolinewidth\": 2}, \"yaxis\": {\"automargin\": true, \"gridcolor\": \"white\", \"linecolor\": \"white\", \"ticks\": \"\", \"title\": {\"standoff\": 15}, \"zerolinecolor\": \"white\", \"zerolinewidth\": 2}}}, \"title\": {\"text\": \"deposit_bin Boundary\"}},                        {\"responsive\": true}                    ).then(function(){\n",
       "                            \n",
       "var gd = document.getElementById('c8107223-86a6-495c-85e7-5038b78a28f2');\n",
       "var x = new MutationObserver(function (mutations, observer) {{\n",
       "        var display = window.getComputedStyle(gd).display;\n",
       "        if (!display || display === 'none') {{\n",
       "            console.log([gd, 'removed!']);\n",
       "            Plotly.purge(gd);\n",
       "            observer.disconnect();\n",
       "        }}\n",
       "}});\n",
       "\n",
       "// Listen for the removal of the full notebook cells\n",
       "var notebookContainer = gd.closest('#notebook-container');\n",
       "if (notebookContainer) {{\n",
       "    x.observe(notebookContainer, {childList: true});\n",
       "}}\n",
       "\n",
       "// Listen for the clearing of the current output cell\n",
       "var outputEl = gd.closest('.output');\n",
       "if (outputEl) {{\n",
       "    x.observe(outputEl, {childList: true});\n",
       "}}\n",
       "\n",
       "                        })                };                });            </script>        </div>"
      ]
     },
     "metadata": {},
     "output_type": "display_data"
    }
   ],
   "source": [
    "plot_boundary_line('deposit_bin')"
   ]
  },
  {
   "cell_type": "code",
   "execution_count": null,
   "metadata": {
    "execution": {
     "iopub.execute_input": "2022-03-04T08:36:46.157617Z",
     "iopub.status.busy": "2022-03-04T08:36:46.157010Z",
     "iopub.status.idle": "2022-03-04T08:36:46.171964Z",
     "shell.execute_reply": "2022-03-04T08:36:46.172386Z",
     "shell.execute_reply.started": "2022-03-04T08:22:52.388107Z"
    },
    "papermill": {
     "duration": 0.097744,
     "end_time": "2022-03-04T08:36:46.172534",
     "exception": false,
     "start_time": "2022-03-04T08:36:46.074790",
     "status": "completed"
    },
    "tags": []
   },
   "outputs": [
    {
     "data": {
      "text/html": [
       "<div>                            <div id=\"ce194a3a-1464-4884-bc6d-cb047cc8c5cc\" class=\"plotly-graph-div\" style=\"height:525px; width:100%;\"></div>            <script type=\"text/javascript\">                require([\"plotly\"], function(Plotly) {                    window.PLOTLYENV=window.PLOTLYENV || {};                                    if (document.getElementById(\"ce194a3a-1464-4884-bc6d-cb047cc8c5cc\")) {                    Plotly.newPlot(                        \"ce194a3a-1464-4884-bc6d-cb047cc8c5cc\",                        [{\"line\": {\"width\": 10}, \"marker\": {\"size\": 10}, \"name\": \"cluster 0\", \"type\": \"scatter\", \"x\": [12.0, 15.0], \"y\": [0, 0]}, {\"line\": {\"width\": 10}, \"marker\": {\"size\": 10}, \"name\": \"cluster 1\", \"type\": \"scatter\", \"x\": [15.0, 18.0], \"y\": [1, 1]}, {\"line\": {\"width\": 10}, \"marker\": {\"size\": 10}, \"name\": \"cluster 2\", \"type\": \"scatter\", \"x\": [21.0, null], \"y\": [2, 2]}, {\"line\": {\"width\": 10}, \"marker\": {\"size\": 10}, \"name\": \"cluster 3\", \"type\": \"scatter\", \"x\": [3.0, 6.0], \"y\": [3, 3]}, {\"line\": {\"width\": 10}, \"marker\": {\"size\": 10}, \"name\": \"cluster 4\", \"type\": \"scatter\", \"x\": [18.0, 21.0], \"y\": [4, 4]}, {\"line\": {\"width\": 10}, \"marker\": {\"size\": 10}, \"name\": \"cluster 5\", \"type\": \"scatter\", \"x\": [3.0, 6.0], \"y\": [5, 5]}, {\"line\": {\"width\": 10}, \"marker\": {\"size\": 10}, \"name\": \"cluster 6\", \"type\": \"scatter\", \"x\": [18.0, 21.0], \"y\": [6, 6]}, {\"line\": {\"width\": 10}, \"marker\": {\"size\": 10}, \"name\": \"cluster 7\", \"type\": \"scatter\", \"x\": [null, 3.0], \"y\": [7, 7]}, {\"line\": {\"width\": 10}, \"marker\": {\"size\": 10}, \"name\": \"cluster 8\", \"type\": \"scatter\", \"x\": [21.0, null], \"y\": [8, 8]}, {\"line\": {\"width\": 10}, \"marker\": {\"size\": 10}, \"name\": \"cluster 9\", \"type\": \"scatter\", \"x\": [3.0, 6.0], \"y\": [9, 9]}],                        {\"template\": {\"data\": {\"bar\": [{\"error_x\": {\"color\": \"#2a3f5f\"}, \"error_y\": {\"color\": \"#2a3f5f\"}, \"marker\": {\"line\": {\"color\": \"#E5ECF6\", \"width\": 0.5}}, \"type\": \"bar\"}], \"barpolar\": [{\"marker\": {\"line\": {\"color\": \"#E5ECF6\", \"width\": 0.5}}, \"type\": \"barpolar\"}], \"carpet\": [{\"aaxis\": {\"endlinecolor\": \"#2a3f5f\", \"gridcolor\": \"white\", \"linecolor\": \"white\", \"minorgridcolor\": \"white\", \"startlinecolor\": \"#2a3f5f\"}, \"baxis\": {\"endlinecolor\": \"#2a3f5f\", \"gridcolor\": \"white\", \"linecolor\": \"white\", \"minorgridcolor\": \"white\", \"startlinecolor\": \"#2a3f5f\"}, \"type\": \"carpet\"}], \"choropleth\": [{\"colorbar\": {\"outlinewidth\": 0, \"ticks\": \"\"}, \"type\": \"choropleth\"}], \"contour\": [{\"colorbar\": {\"outlinewidth\": 0, \"ticks\": \"\"}, \"colorscale\": [[0.0, \"#0d0887\"], [0.1111111111111111, \"#46039f\"], [0.2222222222222222, \"#7201a8\"], [0.3333333333333333, \"#9c179e\"], [0.4444444444444444, \"#bd3786\"], [0.5555555555555556, \"#d8576b\"], [0.6666666666666666, \"#ed7953\"], [0.7777777777777778, \"#fb9f3a\"], [0.8888888888888888, \"#fdca26\"], [1.0, \"#f0f921\"]], \"type\": \"contour\"}], \"contourcarpet\": [{\"colorbar\": {\"outlinewidth\": 0, \"ticks\": \"\"}, \"type\": \"contourcarpet\"}], \"heatmap\": [{\"colorbar\": {\"outlinewidth\": 0, \"ticks\": \"\"}, \"colorscale\": [[0.0, \"#0d0887\"], [0.1111111111111111, \"#46039f\"], [0.2222222222222222, \"#7201a8\"], [0.3333333333333333, \"#9c179e\"], [0.4444444444444444, \"#bd3786\"], [0.5555555555555556, \"#d8576b\"], [0.6666666666666666, \"#ed7953\"], [0.7777777777777778, \"#fb9f3a\"], [0.8888888888888888, \"#fdca26\"], [1.0, \"#f0f921\"]], \"type\": \"heatmap\"}], \"heatmapgl\": [{\"colorbar\": {\"outlinewidth\": 0, \"ticks\": \"\"}, \"colorscale\": [[0.0, \"#0d0887\"], [0.1111111111111111, \"#46039f\"], [0.2222222222222222, \"#7201a8\"], [0.3333333333333333, \"#9c179e\"], [0.4444444444444444, \"#bd3786\"], [0.5555555555555556, \"#d8576b\"], [0.6666666666666666, \"#ed7953\"], [0.7777777777777778, \"#fb9f3a\"], [0.8888888888888888, \"#fdca26\"], [1.0, \"#f0f921\"]], \"type\": \"heatmapgl\"}], \"histogram\": [{\"marker\": {\"colorbar\": {\"outlinewidth\": 0, \"ticks\": \"\"}}, \"type\": \"histogram\"}], \"histogram2d\": [{\"colorbar\": {\"outlinewidth\": 0, \"ticks\": \"\"}, \"colorscale\": [[0.0, \"#0d0887\"], [0.1111111111111111, \"#46039f\"], [0.2222222222222222, \"#7201a8\"], [0.3333333333333333, \"#9c179e\"], [0.4444444444444444, \"#bd3786\"], [0.5555555555555556, \"#d8576b\"], [0.6666666666666666, \"#ed7953\"], [0.7777777777777778, \"#fb9f3a\"], [0.8888888888888888, \"#fdca26\"], [1.0, \"#f0f921\"]], \"type\": \"histogram2d\"}], \"histogram2dcontour\": [{\"colorbar\": {\"outlinewidth\": 0, \"ticks\": \"\"}, \"colorscale\": [[0.0, \"#0d0887\"], [0.1111111111111111, \"#46039f\"], [0.2222222222222222, \"#7201a8\"], [0.3333333333333333, \"#9c179e\"], [0.4444444444444444, \"#bd3786\"], [0.5555555555555556, \"#d8576b\"], [0.6666666666666666, \"#ed7953\"], [0.7777777777777778, \"#fb9f3a\"], [0.8888888888888888, \"#fdca26\"], [1.0, \"#f0f921\"]], \"type\": \"histogram2dcontour\"}], \"mesh3d\": [{\"colorbar\": {\"outlinewidth\": 0, \"ticks\": \"\"}, \"type\": \"mesh3d\"}], \"parcoords\": [{\"line\": {\"colorbar\": {\"outlinewidth\": 0, \"ticks\": \"\"}}, \"type\": \"parcoords\"}], \"pie\": [{\"automargin\": true, \"type\": \"pie\"}], \"scatter\": [{\"marker\": {\"colorbar\": {\"outlinewidth\": 0, \"ticks\": \"\"}}, \"type\": \"scatter\"}], \"scatter3d\": [{\"line\": {\"colorbar\": {\"outlinewidth\": 0, \"ticks\": \"\"}}, \"marker\": {\"colorbar\": {\"outlinewidth\": 0, \"ticks\": \"\"}}, \"type\": \"scatter3d\"}], \"scattercarpet\": [{\"marker\": {\"colorbar\": {\"outlinewidth\": 0, \"ticks\": \"\"}}, \"type\": \"scattercarpet\"}], \"scattergeo\": [{\"marker\": {\"colorbar\": {\"outlinewidth\": 0, \"ticks\": \"\"}}, \"type\": \"scattergeo\"}], \"scattergl\": [{\"marker\": {\"colorbar\": {\"outlinewidth\": 0, \"ticks\": \"\"}}, \"type\": \"scattergl\"}], \"scattermapbox\": [{\"marker\": {\"colorbar\": {\"outlinewidth\": 0, \"ticks\": \"\"}}, \"type\": \"scattermapbox\"}], \"scatterpolar\": [{\"marker\": {\"colorbar\": {\"outlinewidth\": 0, \"ticks\": \"\"}}, \"type\": \"scatterpolar\"}], \"scatterpolargl\": [{\"marker\": {\"colorbar\": {\"outlinewidth\": 0, \"ticks\": \"\"}}, \"type\": \"scatterpolargl\"}], \"scatterternary\": [{\"marker\": {\"colorbar\": {\"outlinewidth\": 0, \"ticks\": \"\"}}, \"type\": \"scatterternary\"}], \"surface\": [{\"colorbar\": {\"outlinewidth\": 0, \"ticks\": \"\"}, \"colorscale\": [[0.0, \"#0d0887\"], [0.1111111111111111, \"#46039f\"], [0.2222222222222222, \"#7201a8\"], [0.3333333333333333, \"#9c179e\"], [0.4444444444444444, \"#bd3786\"], [0.5555555555555556, \"#d8576b\"], [0.6666666666666666, \"#ed7953\"], [0.7777777777777778, \"#fb9f3a\"], [0.8888888888888888, \"#fdca26\"], [1.0, \"#f0f921\"]], \"type\": \"surface\"}], \"table\": [{\"cells\": {\"fill\": {\"color\": \"#EBF0F8\"}, \"line\": {\"color\": \"white\"}}, \"header\": {\"fill\": {\"color\": \"#C8D4E3\"}, \"line\": {\"color\": \"white\"}}, \"type\": \"table\"}]}, \"layout\": {\"annotationdefaults\": {\"arrowcolor\": \"#2a3f5f\", \"arrowhead\": 0, \"arrowwidth\": 1}, \"coloraxis\": {\"colorbar\": {\"outlinewidth\": 0, \"ticks\": \"\"}}, \"colorscale\": {\"diverging\": [[0, \"#8e0152\"], [0.1, \"#c51b7d\"], [0.2, \"#de77ae\"], [0.3, \"#f1b6da\"], [0.4, \"#fde0ef\"], [0.5, \"#f7f7f7\"], [0.6, \"#e6f5d0\"], [0.7, \"#b8e186\"], [0.8, \"#7fbc41\"], [0.9, \"#4d9221\"], [1, \"#276419\"]], \"sequential\": [[0.0, \"#0d0887\"], [0.1111111111111111, \"#46039f\"], [0.2222222222222222, \"#7201a8\"], [0.3333333333333333, \"#9c179e\"], [0.4444444444444444, \"#bd3786\"], [0.5555555555555556, \"#d8576b\"], [0.6666666666666666, \"#ed7953\"], [0.7777777777777778, \"#fb9f3a\"], [0.8888888888888888, \"#fdca26\"], [1.0, \"#f0f921\"]], \"sequentialminus\": [[0.0, \"#0d0887\"], [0.1111111111111111, \"#46039f\"], [0.2222222222222222, \"#7201a8\"], [0.3333333333333333, \"#9c179e\"], [0.4444444444444444, \"#bd3786\"], [0.5555555555555556, \"#d8576b\"], [0.6666666666666666, \"#ed7953\"], [0.7777777777777778, \"#fb9f3a\"], [0.8888888888888888, \"#fdca26\"], [1.0, \"#f0f921\"]]}, \"colorway\": [\"#636efa\", \"#EF553B\", \"#00cc96\", \"#ab63fa\", \"#FFA15A\", \"#19d3f3\", \"#FF6692\", \"#B6E880\", \"#FF97FF\", \"#FECB52\"], \"font\": {\"color\": \"#2a3f5f\"}, \"geo\": {\"bgcolor\": \"white\", \"lakecolor\": \"white\", \"landcolor\": \"#E5ECF6\", \"showlakes\": true, \"showland\": true, \"subunitcolor\": \"white\"}, \"hoverlabel\": {\"align\": \"left\"}, \"hovermode\": \"closest\", \"mapbox\": {\"style\": \"light\"}, \"paper_bgcolor\": \"white\", \"plot_bgcolor\": \"#E5ECF6\", \"polar\": {\"angularaxis\": {\"gridcolor\": \"white\", \"linecolor\": \"white\", \"ticks\": \"\"}, \"bgcolor\": \"#E5ECF6\", \"radialaxis\": {\"gridcolor\": \"white\", \"linecolor\": \"white\", \"ticks\": \"\"}}, \"scene\": {\"xaxis\": {\"backgroundcolor\": \"#E5ECF6\", \"gridcolor\": \"white\", \"gridwidth\": 2, \"linecolor\": \"white\", \"showbackground\": true, \"ticks\": \"\", \"zerolinecolor\": \"white\"}, \"yaxis\": {\"backgroundcolor\": \"#E5ECF6\", \"gridcolor\": \"white\", \"gridwidth\": 2, \"linecolor\": \"white\", \"showbackground\": true, \"ticks\": \"\", \"zerolinecolor\": \"white\"}, \"zaxis\": {\"backgroundcolor\": \"#E5ECF6\", \"gridcolor\": \"white\", \"gridwidth\": 2, \"linecolor\": \"white\", \"showbackground\": true, \"ticks\": \"\", \"zerolinecolor\": \"white\"}}, \"shapedefaults\": {\"line\": {\"color\": \"#2a3f5f\"}}, \"ternary\": {\"aaxis\": {\"gridcolor\": \"white\", \"linecolor\": \"white\", \"ticks\": \"\"}, \"baxis\": {\"gridcolor\": \"white\", \"linecolor\": \"white\", \"ticks\": \"\"}, \"bgcolor\": \"#E5ECF6\", \"caxis\": {\"gridcolor\": \"white\", \"linecolor\": \"white\", \"ticks\": \"\"}}, \"title\": {\"x\": 0.05}, \"xaxis\": {\"automargin\": true, \"gridcolor\": \"white\", \"linecolor\": \"white\", \"ticks\": \"\", \"title\": {\"standoff\": 15}, \"zerolinecolor\": \"white\", \"zerolinewidth\": 2}, \"yaxis\": {\"automargin\": true, \"gridcolor\": \"white\", \"linecolor\": \"white\", \"ticks\": \"\", \"title\": {\"standoff\": 15}, \"zerolinecolor\": \"white\", \"zerolinewidth\": 2}}}, \"title\": {\"text\": \"property_age_bin Boundary\"}},                        {\"responsive\": true}                    ).then(function(){\n",
       "                            \n",
       "var gd = document.getElementById('ce194a3a-1464-4884-bc6d-cb047cc8c5cc');\n",
       "var x = new MutationObserver(function (mutations, observer) {{\n",
       "        var display = window.getComputedStyle(gd).display;\n",
       "        if (!display || display === 'none') {{\n",
       "            console.log([gd, 'removed!']);\n",
       "            Plotly.purge(gd);\n",
       "            observer.disconnect();\n",
       "        }}\n",
       "}});\n",
       "\n",
       "// Listen for the removal of the full notebook cells\n",
       "var notebookContainer = gd.closest('#notebook-container');\n",
       "if (notebookContainer) {{\n",
       "    x.observe(notebookContainer, {childList: true});\n",
       "}}\n",
       "\n",
       "// Listen for the clearing of the current output cell\n",
       "var outputEl = gd.closest('.output');\n",
       "if (outputEl) {{\n",
       "    x.observe(outputEl, {childList: true});\n",
       "}}\n",
       "\n",
       "                        })                };                });            </script>        </div>"
      ]
     },
     "metadata": {},
     "output_type": "display_data"
    }
   ],
   "source": [
    "plot_boundary_line('property_age_bin')"
   ]
  },
  {
   "cell_type": "code",
   "execution_count": null,
   "metadata": {
    "execution": {
     "iopub.execute_input": "2022-03-04T08:36:46.339821Z",
     "iopub.status.busy": "2022-03-04T08:36:46.339207Z",
     "iopub.status.idle": "2022-03-04T08:36:46.349483Z",
     "shell.execute_reply": "2022-03-04T08:36:46.348924Z",
     "shell.execute_reply.started": "2022-03-04T08:22:52.415507Z"
    },
    "papermill": {
     "duration": 0.098447,
     "end_time": "2022-03-04T08:36:46.349639",
     "exception": false,
     "start_time": "2022-03-04T08:36:46.251192",
     "status": "completed"
    },
    "tags": []
   },
   "outputs": [
    {
     "data": {
      "text/html": [
       "<div>                            <div id=\"0566b7d0-31da-420d-8008-b58443df5c44\" class=\"plotly-graph-div\" style=\"height:525px; width:100%;\"></div>            <script type=\"text/javascript\">                require([\"plotly\"], function(Plotly) {                    window.PLOTLYENV=window.PLOTLYENV || {};                                    if (document.getElementById(\"0566b7d0-31da-420d-8008-b58443df5c44\")) {                    Plotly.newPlot(                        \"0566b7d0-31da-420d-8008-b58443df5c44\",                        [{\"line\": {\"width\": 10}, \"marker\": {\"size\": 10}, \"name\": \"cluster 0\", \"type\": \"scatter\", \"x\": [77.0, 89.0], \"y\": [0, 0]}, {\"line\": {\"width\": 10}, \"marker\": {\"size\": 10}, \"name\": \"cluster 1\", \"type\": \"scatter\", \"x\": [41.0, 53.0], \"y\": [1, 1]}, {\"line\": {\"width\": 10}, \"marker\": {\"size\": 10}, \"name\": \"cluster 2\", \"type\": \"scatter\", \"x\": [77.0, 89.0], \"y\": [2, 2]}, {\"line\": {\"width\": 10}, \"marker\": {\"size\": 10}, \"name\": \"cluster 3\", \"type\": \"scatter\", \"x\": [89.0, null], \"y\": [3, 3]}, {\"line\": {\"width\": 10}, \"marker\": {\"size\": 10}, \"name\": \"cluster 4\", \"type\": \"scatter\", \"x\": [53.0, 65.0], \"y\": [4, 4]}, {\"line\": {\"width\": 10}, \"marker\": {\"size\": 10}, \"name\": \"cluster 5\", \"type\": \"scatter\", \"x\": [65.0, 77.0], \"y\": [5, 5]}, {\"line\": {\"width\": 10}, \"marker\": {\"size\": 10}, \"name\": \"cluster 6\", \"type\": \"scatter\", \"x\": [53.0, 65.0], \"y\": [6, 6]}, {\"line\": {\"width\": 10}, \"marker\": {\"size\": 10}, \"name\": \"cluster 7\", \"type\": \"scatter\", \"x\": [89.0, null], \"y\": [7, 7]}, {\"line\": {\"width\": 10}, \"marker\": {\"size\": 10}, \"name\": \"cluster 8\", \"type\": \"scatter\", \"x\": [89.0, null], \"y\": [8, 8]}, {\"line\": {\"width\": 10}, \"marker\": {\"size\": 10}, \"name\": \"cluster 9\", \"type\": \"scatter\", \"x\": [41.0, 53.0], \"y\": [9, 9]}],                        {\"template\": {\"data\": {\"bar\": [{\"error_x\": {\"color\": \"#2a3f5f\"}, \"error_y\": {\"color\": \"#2a3f5f\"}, \"marker\": {\"line\": {\"color\": \"#E5ECF6\", \"width\": 0.5}}, \"type\": \"bar\"}], \"barpolar\": [{\"marker\": {\"line\": {\"color\": \"#E5ECF6\", \"width\": 0.5}}, \"type\": \"barpolar\"}], \"carpet\": [{\"aaxis\": {\"endlinecolor\": \"#2a3f5f\", \"gridcolor\": \"white\", \"linecolor\": \"white\", \"minorgridcolor\": \"white\", \"startlinecolor\": \"#2a3f5f\"}, \"baxis\": {\"endlinecolor\": \"#2a3f5f\", \"gridcolor\": \"white\", \"linecolor\": \"white\", \"minorgridcolor\": \"white\", \"startlinecolor\": \"#2a3f5f\"}, \"type\": \"carpet\"}], \"choropleth\": [{\"colorbar\": {\"outlinewidth\": 0, \"ticks\": \"\"}, \"type\": \"choropleth\"}], \"contour\": [{\"colorbar\": {\"outlinewidth\": 0, \"ticks\": \"\"}, \"colorscale\": [[0.0, \"#0d0887\"], [0.1111111111111111, \"#46039f\"], [0.2222222222222222, \"#7201a8\"], [0.3333333333333333, \"#9c179e\"], [0.4444444444444444, \"#bd3786\"], [0.5555555555555556, \"#d8576b\"], [0.6666666666666666, \"#ed7953\"], [0.7777777777777778, \"#fb9f3a\"], [0.8888888888888888, \"#fdca26\"], [1.0, \"#f0f921\"]], \"type\": \"contour\"}], \"contourcarpet\": [{\"colorbar\": {\"outlinewidth\": 0, \"ticks\": \"\"}, \"type\": \"contourcarpet\"}], \"heatmap\": [{\"colorbar\": {\"outlinewidth\": 0, \"ticks\": \"\"}, \"colorscale\": [[0.0, \"#0d0887\"], [0.1111111111111111, \"#46039f\"], [0.2222222222222222, \"#7201a8\"], [0.3333333333333333, \"#9c179e\"], [0.4444444444444444, \"#bd3786\"], [0.5555555555555556, \"#d8576b\"], [0.6666666666666666, \"#ed7953\"], [0.7777777777777778, \"#fb9f3a\"], [0.8888888888888888, \"#fdca26\"], [1.0, \"#f0f921\"]], \"type\": \"heatmap\"}], \"heatmapgl\": [{\"colorbar\": {\"outlinewidth\": 0, \"ticks\": \"\"}, \"colorscale\": [[0.0, \"#0d0887\"], [0.1111111111111111, \"#46039f\"], [0.2222222222222222, \"#7201a8\"], [0.3333333333333333, \"#9c179e\"], [0.4444444444444444, \"#bd3786\"], [0.5555555555555556, \"#d8576b\"], [0.6666666666666666, \"#ed7953\"], [0.7777777777777778, \"#fb9f3a\"], [0.8888888888888888, \"#fdca26\"], [1.0, \"#f0f921\"]], \"type\": \"heatmapgl\"}], \"histogram\": [{\"marker\": {\"colorbar\": {\"outlinewidth\": 0, \"ticks\": \"\"}}, \"type\": \"histogram\"}], \"histogram2d\": [{\"colorbar\": {\"outlinewidth\": 0, \"ticks\": \"\"}, \"colorscale\": [[0.0, \"#0d0887\"], [0.1111111111111111, \"#46039f\"], [0.2222222222222222, \"#7201a8\"], [0.3333333333333333, \"#9c179e\"], [0.4444444444444444, \"#bd3786\"], [0.5555555555555556, \"#d8576b\"], [0.6666666666666666, \"#ed7953\"], [0.7777777777777778, \"#fb9f3a\"], [0.8888888888888888, \"#fdca26\"], [1.0, \"#f0f921\"]], \"type\": \"histogram2d\"}], \"histogram2dcontour\": [{\"colorbar\": {\"outlinewidth\": 0, \"ticks\": \"\"}, \"colorscale\": [[0.0, \"#0d0887\"], [0.1111111111111111, \"#46039f\"], [0.2222222222222222, \"#7201a8\"], [0.3333333333333333, \"#9c179e\"], [0.4444444444444444, \"#bd3786\"], [0.5555555555555556, \"#d8576b\"], [0.6666666666666666, \"#ed7953\"], [0.7777777777777778, \"#fb9f3a\"], [0.8888888888888888, \"#fdca26\"], [1.0, \"#f0f921\"]], \"type\": \"histogram2dcontour\"}], \"mesh3d\": [{\"colorbar\": {\"outlinewidth\": 0, \"ticks\": \"\"}, \"type\": \"mesh3d\"}], \"parcoords\": [{\"line\": {\"colorbar\": {\"outlinewidth\": 0, \"ticks\": \"\"}}, \"type\": \"parcoords\"}], \"pie\": [{\"automargin\": true, \"type\": \"pie\"}], \"scatter\": [{\"marker\": {\"colorbar\": {\"outlinewidth\": 0, \"ticks\": \"\"}}, \"type\": \"scatter\"}], \"scatter3d\": [{\"line\": {\"colorbar\": {\"outlinewidth\": 0, \"ticks\": \"\"}}, \"marker\": {\"colorbar\": {\"outlinewidth\": 0, \"ticks\": \"\"}}, \"type\": \"scatter3d\"}], \"scattercarpet\": [{\"marker\": {\"colorbar\": {\"outlinewidth\": 0, \"ticks\": \"\"}}, \"type\": \"scattercarpet\"}], \"scattergeo\": [{\"marker\": {\"colorbar\": {\"outlinewidth\": 0, \"ticks\": \"\"}}, \"type\": \"scattergeo\"}], \"scattergl\": [{\"marker\": {\"colorbar\": {\"outlinewidth\": 0, \"ticks\": \"\"}}, \"type\": \"scattergl\"}], \"scattermapbox\": [{\"marker\": {\"colorbar\": {\"outlinewidth\": 0, \"ticks\": \"\"}}, \"type\": \"scattermapbox\"}], \"scatterpolar\": [{\"marker\": {\"colorbar\": {\"outlinewidth\": 0, \"ticks\": \"\"}}, \"type\": \"scatterpolar\"}], \"scatterpolargl\": [{\"marker\": {\"colorbar\": {\"outlinewidth\": 0, \"ticks\": \"\"}}, \"type\": \"scatterpolargl\"}], \"scatterternary\": [{\"marker\": {\"colorbar\": {\"outlinewidth\": 0, \"ticks\": \"\"}}, \"type\": \"scatterternary\"}], \"surface\": [{\"colorbar\": {\"outlinewidth\": 0, \"ticks\": \"\"}, \"colorscale\": [[0.0, \"#0d0887\"], [0.1111111111111111, \"#46039f\"], [0.2222222222222222, \"#7201a8\"], [0.3333333333333333, \"#9c179e\"], [0.4444444444444444, \"#bd3786\"], [0.5555555555555556, \"#d8576b\"], [0.6666666666666666, \"#ed7953\"], [0.7777777777777778, \"#fb9f3a\"], [0.8888888888888888, \"#fdca26\"], [1.0, \"#f0f921\"]], \"type\": \"surface\"}], \"table\": [{\"cells\": {\"fill\": {\"color\": \"#EBF0F8\"}, \"line\": {\"color\": \"white\"}}, \"header\": {\"fill\": {\"color\": \"#C8D4E3\"}, \"line\": {\"color\": \"white\"}}, \"type\": \"table\"}]}, \"layout\": {\"annotationdefaults\": {\"arrowcolor\": \"#2a3f5f\", \"arrowhead\": 0, \"arrowwidth\": 1}, \"coloraxis\": {\"colorbar\": {\"outlinewidth\": 0, \"ticks\": \"\"}}, \"colorscale\": {\"diverging\": [[0, \"#8e0152\"], [0.1, \"#c51b7d\"], [0.2, \"#de77ae\"], [0.3, \"#f1b6da\"], [0.4, \"#fde0ef\"], [0.5, \"#f7f7f7\"], [0.6, \"#e6f5d0\"], [0.7, \"#b8e186\"], [0.8, \"#7fbc41\"], [0.9, \"#4d9221\"], [1, \"#276419\"]], \"sequential\": [[0.0, \"#0d0887\"], [0.1111111111111111, \"#46039f\"], [0.2222222222222222, \"#7201a8\"], [0.3333333333333333, \"#9c179e\"], [0.4444444444444444, \"#bd3786\"], [0.5555555555555556, \"#d8576b\"], [0.6666666666666666, \"#ed7953\"], [0.7777777777777778, \"#fb9f3a\"], [0.8888888888888888, \"#fdca26\"], [1.0, \"#f0f921\"]], \"sequentialminus\": [[0.0, \"#0d0887\"], [0.1111111111111111, \"#46039f\"], [0.2222222222222222, \"#7201a8\"], [0.3333333333333333, \"#9c179e\"], [0.4444444444444444, \"#bd3786\"], [0.5555555555555556, \"#d8576b\"], [0.6666666666666666, \"#ed7953\"], [0.7777777777777778, \"#fb9f3a\"], [0.8888888888888888, \"#fdca26\"], [1.0, \"#f0f921\"]]}, \"colorway\": [\"#636efa\", \"#EF553B\", \"#00cc96\", \"#ab63fa\", \"#FFA15A\", \"#19d3f3\", \"#FF6692\", \"#B6E880\", \"#FF97FF\", \"#FECB52\"], \"font\": {\"color\": \"#2a3f5f\"}, \"geo\": {\"bgcolor\": \"white\", \"lakecolor\": \"white\", \"landcolor\": \"#E5ECF6\", \"showlakes\": true, \"showland\": true, \"subunitcolor\": \"white\"}, \"hoverlabel\": {\"align\": \"left\"}, \"hovermode\": \"closest\", \"mapbox\": {\"style\": \"light\"}, \"paper_bgcolor\": \"white\", \"plot_bgcolor\": \"#E5ECF6\", \"polar\": {\"angularaxis\": {\"gridcolor\": \"white\", \"linecolor\": \"white\", \"ticks\": \"\"}, \"bgcolor\": \"#E5ECF6\", \"radialaxis\": {\"gridcolor\": \"white\", \"linecolor\": \"white\", \"ticks\": \"\"}}, \"scene\": {\"xaxis\": {\"backgroundcolor\": \"#E5ECF6\", \"gridcolor\": \"white\", \"gridwidth\": 2, \"linecolor\": \"white\", \"showbackground\": true, \"ticks\": \"\", \"zerolinecolor\": \"white\"}, \"yaxis\": {\"backgroundcolor\": \"#E5ECF6\", \"gridcolor\": \"white\", \"gridwidth\": 2, \"linecolor\": \"white\", \"showbackground\": true, \"ticks\": \"\", \"zerolinecolor\": \"white\"}, \"zaxis\": {\"backgroundcolor\": \"#E5ECF6\", \"gridcolor\": \"white\", \"gridwidth\": 2, \"linecolor\": \"white\", \"showbackground\": true, \"ticks\": \"\", \"zerolinecolor\": \"white\"}}, \"shapedefaults\": {\"line\": {\"color\": \"#2a3f5f\"}}, \"ternary\": {\"aaxis\": {\"gridcolor\": \"white\", \"linecolor\": \"white\", \"ticks\": \"\"}, \"baxis\": {\"gridcolor\": \"white\", \"linecolor\": \"white\", \"ticks\": \"\"}, \"bgcolor\": \"#E5ECF6\", \"caxis\": {\"gridcolor\": \"white\", \"linecolor\": \"white\", \"ticks\": \"\"}}, \"title\": {\"x\": 0.05}, \"xaxis\": {\"automargin\": true, \"gridcolor\": \"white\", \"linecolor\": \"white\", \"ticks\": \"\", \"title\": {\"standoff\": 15}, \"zerolinecolor\": \"white\", \"zerolinewidth\": 2}, \"yaxis\": {\"automargin\": true, \"gridcolor\": \"white\", \"linecolor\": \"white\", \"ticks\": \"\", \"title\": {\"standoff\": 15}, \"zerolinecolor\": \"white\", \"zerolinewidth\": 2}}}, \"title\": {\"text\": \"unit_area_bin Boundary\"}},                        {\"responsive\": true}                    ).then(function(){\n",
       "                            \n",
       "var gd = document.getElementById('0566b7d0-31da-420d-8008-b58443df5c44');\n",
       "var x = new MutationObserver(function (mutations, observer) {{\n",
       "        var display = window.getComputedStyle(gd).display;\n",
       "        if (!display || display === 'none') {{\n",
       "            console.log([gd, 'removed!']);\n",
       "            Plotly.purge(gd);\n",
       "            observer.disconnect();\n",
       "        }}\n",
       "}});\n",
       "\n",
       "// Listen for the removal of the full notebook cells\n",
       "var notebookContainer = gd.closest('#notebook-container');\n",
       "if (notebookContainer) {{\n",
       "    x.observe(notebookContainer, {childList: true});\n",
       "}}\n",
       "\n",
       "// Listen for the clearing of the current output cell\n",
       "var outputEl = gd.closest('.output');\n",
       "if (outputEl) {{\n",
       "    x.observe(outputEl, {childList: true});\n",
       "}}\n",
       "\n",
       "                        })                };                });            </script>        </div>"
      ]
     },
     "metadata": {},
     "output_type": "display_data"
    }
   ],
   "source": [
    "plot_boundary_line('unit_area_bin')"
   ]
  },
  {
   "cell_type": "code",
   "execution_count": null,
   "metadata": {
    "execution": {
     "iopub.execute_input": "2022-03-04T08:36:46.515902Z",
     "iopub.status.busy": "2022-03-04T08:36:46.515285Z",
     "iopub.status.idle": "2022-03-04T08:36:46.518078Z",
     "shell.execute_reply": "2022-03-04T08:36:46.517620Z",
     "shell.execute_reply.started": "2022-03-04T08:22:52.441002Z"
    },
    "papermill": {
     "duration": 0.089397,
     "end_time": "2022-03-04T08:36:46.518201",
     "exception": false,
     "start_time": "2022-03-04T08:36:46.428804",
     "status": "completed"
    },
    "tags": []
   },
   "outputs": [],
   "source": [
    "categorized_clean_home['kmode_cluster'] = labels"
   ]
  },
  {
   "cell_type": "code",
   "execution_count": null,
   "metadata": {
    "execution": {
     "iopub.execute_input": "2022-03-04T08:36:46.683386Z",
     "iopub.status.busy": "2022-03-04T08:36:46.682771Z",
     "iopub.status.idle": "2022-03-04T08:36:46.964046Z",
     "shell.execute_reply": "2022-03-04T08:36:46.963491Z",
     "shell.execute_reply.started": "2022-03-04T08:22:52.447824Z"
    },
    "papermill": {
     "duration": 0.366584,
     "end_time": "2022-03-04T08:36:46.964217",
     "exception": false,
     "start_time": "2022-03-04T08:36:46.597633",
     "status": "completed"
    },
    "tags": []
   },
   "outputs": [
    {
     "data": {
      "image/png": "[encoded data removed]",
      "text/plain": [
       "<Figure size 1080x360 with 1 Axes>"
      ]
     },
     "metadata": {},
     "output_type": "display_data"
    }
   ],
   "source": [
    "plt.subplots(figsize = (15,5))\n",
    "sns.countplot(x='kmode_cluster',hue='monthly_rent_bin', data = categorized_clean_home)\n",
    "plt.show()"
   ]
  },
  {
   "cell_type": "code",
   "execution_count": null,
   "metadata": {
    "execution": {
     "iopub.execute_input": "2022-03-04T08:36:47.133682Z",
     "iopub.status.busy": "2022-03-04T08:36:47.133087Z",
     "iopub.status.idle": "2022-03-04T08:36:47.446939Z",
     "shell.execute_reply": "2022-03-04T08:36:47.446437Z",
     "shell.execute_reply.started": "2022-03-04T08:22:52.778356Z"
    },
    "papermill": {
     "duration": 0.399291,
     "end_time": "2022-03-04T08:36:47.447053",
     "exception": false,
     "start_time": "2022-03-04T08:36:47.047762",
     "status": "completed"
    },
    "tags": []
   },
   "outputs": [
    {
     "data": {
      "image/png": "[encoded data removed]",
      "text/plain": [
       "<Figure size 1080x360 with 1 Axes>"
      ]
     },
     "metadata": {},
     "output_type": "display_data"
    }
   ],
   "source": [
    "plt.subplots(figsize = (15,5))\n",
    "sns.countplot(x='kmode_cluster',hue='unit_floor_bin', data = categorized_clean_home)\n",
    "plt.show()"
   ]
  },
  {
   "cell_type": "code",
   "execution_count": null,
   "metadata": {
    "execution": {
     "iopub.execute_input": "2022-03-04T08:36:47.612879Z",
     "iopub.status.busy": "2022-03-04T08:36:47.612228Z",
     "iopub.status.idle": "2022-03-04T08:36:47.889674Z",
     "shell.execute_reply": "2022-03-04T08:36:47.889081Z",
     "shell.execute_reply.started": "2022-03-04T08:22:57.423422Z"
    },
    "papermill": {
     "duration": 0.362843,
     "end_time": "2022-03-04T08:36:47.889812",
     "exception": false,
     "start_time": "2022-03-04T08:36:47.526969",
     "status": "completed"
    },
    "tags": []
   },
   "outputs": [
    {
     "data": {
      "image/png": "[encoded data removed]",
      "text/plain": [
       "<Figure size 1080x360 with 1 Axes>"
      ]
     },
     "metadata": {},
     "output_type": "display_data"
    }
   ],
   "source": [
    "plt.subplots(figsize = (15,5))\n",
    "sns.countplot(x='kmode_cluster',hue='room_qty_bin', data = categorized_clean_home)\n",
    "plt.show()"
   ]
  },
  {
   "cell_type": "code",
   "execution_count": null,
   "metadata": {
    "execution": {
     "iopub.execute_input": "2022-03-04T08:36:48.057257Z",
     "iopub.status.busy": "2022-03-04T08:36:48.056604Z",
     "iopub.status.idle": "2022-03-04T08:36:48.327121Z",
     "shell.execute_reply": "2022-03-04T08:36:48.326411Z",
     "shell.execute_reply.started": "2022-03-04T08:22:53.173336Z"
    },
    "papermill": {
     "duration": 0.35706,
     "end_time": "2022-03-04T08:36:48.327246",
     "exception": false,
     "start_time": "2022-03-04T08:36:47.970186",
     "status": "completed"
    },
    "tags": []
   },
   "outputs": [
    {
     "data": {
      "image/png": "[encoded data removed]",
      "text/plain": [
       "<Figure size 1080x360 with 1 Axes>"
      ]
     },
     "metadata": {},
     "output_type": "display_data"
    }
   ],
   "source": [
    "plt.subplots(figsize = (15,5))\n",
    "sns.countplot(x='kmode_cluster',hue='imputing_building_floor_count_bin', data = categorized_clean_home)\n",
    "plt.show()"
   ]
  },
  {
   "cell_type": "code",
   "execution_count": null,
   "metadata": {
    "execution": {
     "iopub.execute_input": "2022-03-04T08:36:48.782619Z",
     "iopub.status.busy": "2022-03-04T08:36:48.778206Z",
     "iopub.status.idle": "2022-03-04T08:36:49.012287Z",
     "shell.execute_reply": "2022-03-04T08:36:49.011556Z",
     "shell.execute_reply.started": "2022-03-04T08:22:53.486279Z"
    },
    "papermill": {
     "duration": 0.603766,
     "end_time": "2022-03-04T08:36:49.012411",
     "exception": false,
     "start_time": "2022-03-04T08:36:48.408645",
     "status": "completed"
    },
    "tags": []
   },
   "outputs": [
    {
     "data": {
      "image/png": "[encoded data removed]",
      "text/plain": [
       "<Figure size 1080x360 with 1 Axes>"
      ]
     },
     "metadata": {},
     "output_type": "display_data"
    }
   ],
   "source": [
    "plt.subplots(figsize = (15,5))\n",
    "sns.countplot(x='kmode_cluster',hue='has_elevator', data = categorized_clean_home)\n",
    "plt.show()"
   ]
  },
  {
   "cell_type": "code",
   "execution_count": null,
   "metadata": {
    "execution": {
     "iopub.execute_input": "2022-03-04T08:36:49.191381Z",
     "iopub.status.busy": "2022-03-04T08:36:49.181522Z",
     "iopub.status.idle": "2022-03-04T08:36:49.419870Z",
     "shell.execute_reply": "2022-03-04T08:36:49.419264Z",
     "shell.execute_reply.started": "2022-03-04T08:22:54.090274Z"
    },
    "papermill": {
     "duration": 0.324759,
     "end_time": "2022-03-04T08:36:49.419983",
     "exception": false,
     "start_time": "2022-03-04T08:36:49.095224",
     "status": "completed"
    },
    "tags": []
   },
   "outputs": [
    {
     "data": {
      "image/png": "[encoded data removed]",
      "text/plain": [
       "<Figure size 1080x360 with 1 Axes>"
      ]
     },
     "metadata": {},
     "output_type": "display_data"
    }
   ],
   "source": [
    "plt.subplots(figsize = (15,5))\n",
    "sns.countplot(x='kmode_cluster',hue='has_storage_area', data = categorized_clean_home)\n",
    "plt.show()"
   ]
  },
  {
   "cell_type": "code",
   "execution_count": null,
   "metadata": {
    "execution": {
     "iopub.execute_input": "2022-03-04T08:36:49.595908Z",
     "iopub.status.busy": "2022-03-04T08:36:49.595277Z",
     "iopub.status.idle": "2022-03-04T08:36:52.270341Z",
     "shell.execute_reply": "2022-03-04T08:36:52.269677Z",
     "shell.execute_reply.started": "2022-03-04T08:22:54.370807Z"
    },
    "papermill": {
     "duration": 2.767823,
     "end_time": "2022-03-04T08:36:52.270456",
     "exception": false,
     "start_time": "2022-03-04T08:36:49.502633",
     "status": "completed"
    },
    "tags": []
   },
   "outputs": [
    {
     "data": {
      "image/png": "[encoded data removed]",
      "text/plain": [
       "<Figure size 1080x360 with 1 Axes>"
      ]
     },
     "metadata": {},
     "output_type": "display_data"
    },
    {
     "data": {
      "image/png": "[encoded data removed]",
      "text/plain": [
       "<Figure size 1080x360 with 1 Axes>"
      ]
     },
     "metadata": {},
     "output_type": "display_data"
    },
    {
     "data": {
      "image/png": "[encoded data removed]",
      "text/plain": [
       "<Figure size 1080x360 with 1 Axes>"
      ]
     },
     "metadata": {},
     "output_type": "display_data"
    },
    {
     "data": {
      "image/png": "[encoded data removed]",
      "text/plain": [
       "<Figure size 1080x360 with 1 Axes>"
      ]
     },
     "metadata": {},
     "output_type": "display_data"
    },
    {
     "data": {
      "image/png": "[encoded data removed]",
      "text/plain": [
       "<Figure size 1080x360 with 1 Axes>"
      ]
     },
     "metadata": {},
     "output_type": "display_data"
    },
    {
     "data": {
      "image/png": "[encoded data removed]",
      "text/plain": [
       "<Figure size 1080x360 with 1 Axes>"
      ]
     },
     "metadata": {},
     "output_type": "display_data"
    },
    {
     "data": {
      "image/png": "[encoded data removed]",
      "text/plain": [
       "<Figure size 1080x360 with 1 Axes>"
      ]
     },
     "metadata": {},
     "output_type": "display_data"
    },
    {
     "data": {
      "image/png": "[encoded data removed]",
      "text/plain": [
       "<Figure size 1080x360 with 1 Axes>"
      ]
     },
     "metadata": {},
     "output_type": "display_data"
    },
    {
     "data": {
      "image/png": "[encoded data removed]",
      "text/plain": [
       "<Figure size 1080x360 with 1 Axes>"
      ]
     },
     "metadata": {},
     "output_type": "display_data"
    }
   ],
   "source": [
    "for col in [c for c in categorized_clean_home.columns if c not in ['kmode_cluster','top_100_district_uuid']]:\n",
    "    plt.subplots(figsize = (15,5))\n",
    "    sns.countplot(x=col,hue=\"kmode_cluster\", data = categorized_clean_home)\n",
    "    plt.show()"
   ]
  },
  {
   "cell_type": "code",
   "execution_count": null,
   "metadata": {
    "papermill": {
     "duration": 0.087724,
     "end_time": "2022-03-04T08:36:52.448827",
     "exception": false,
     "start_time": "2022-03-04T08:36:52.361103",
     "status": "completed"
    },
    "tags": []
   },
   "outputs": [],
   "source": []
  }
 ],
 "metadata": {
  "kernelspec": {
   "display_name": "Python 3",
   "language": "python",
   "name": "python3"
  },
  "language_info": {
   "codemirror_mode": {
    "name": "ipython",
    "version": 3
   },
   "file_extension": ".py",
   "mimetype": "text/x-python",
   "name": "python",
   "nbconvert_exporter": "python",
   "pygments_lexer": "ipython3",
   "version": "3.11.0"
  },
  "papermill": {
   "duration": 188.157801,
   "end_time": "2022-03-04T08:36:52.649660",
   "environment_variables": {},
   "exception": null,
   "input_path": "__notebook__.ipynb",
   "output_path": "__notebook__.ipynb",
   "parameters": {},
   "start_time": "2022-03-04T08:33:44.491859",
   "version": "2.1.0"
  },
  "widgets": {
   "application/vnd.jupyter.widget-state+json": {
    "state": {
     "0e6f553900204823ba55b2b75a77bede": {
      "model_module": "@jupyter-widgets/controls",
      "model_module_version": "1.5.0",
      "model_name": "HBoxModel",
      "state": {
       "_dom_classes": [],
       "_model_module": "@jupyter-widgets/controls",
       "_model_module_version": "1.5.0",
       "_model_name": "HBoxModel",
       "_view_count": null,
       "_view_module": "@jupyter-widgets/controls",
       "_view_module_version": "1.5.0",
       "_view_name": "HBoxView",
       "box_style": "",
       "children": [
        "IPY_MODEL_6a13191dc2b64348a48cb4d9622dded5",
        "IPY_MODEL_1ff6a07980df4fa09eff34d44d3970f1"
       ],
       "layout": "IPY_MODEL_353fa7e72f4a487ab6b041b2809685c0"
      }
     },
     "1092fe6fdba943549502ff0c62703238": {
      "model_module": "@jupyter-widgets/controls",
      "model_module_version": "1.5.0",
      "model_name": "ProgressStyleModel",
      "state": {
       "_model_module": "@jupyter-widgets/controls",
       "_model_module_version": "1.5.0",
       "_model_name": "ProgressStyleModel",
       "_view_count": null,
       "_view_module": "@jupyter-widgets/base",
       "_view_module_version": "1.2.0",
       "_view_name": "StyleView",
       "bar_color": null,
       "description_width": "initial"
      }
     },
     "1aee2c7eaf2742b1a9f1cf2666a23969": {
      "model_module": "@jupyter-widgets/base",
      "model_module_version": "1.2.0",
      "model_name": "LayoutModel",
      "state": {
       "_model_module": "@jupyter-widgets/base",
       "_model_module_version": "1.2.0",
       "_model_name": "LayoutModel",
       "_view_count": null,
       "_view_module": "@jupyter-widgets/base",
       "_view_module_version": "1.2.0",
       "_view_name": "LayoutView",
       "align_content": null,
       "align_items": null,
       "align_self": null,
       "border": null,
       "bottom": null,
       "display": null,
       "flex": null,
       "flex_flow": null,
       "grid_area": null,
       "grid_auto_columns": null,
       "grid_auto_flow": null,
       "grid_auto_rows": null,
       "grid_column": null,
       "grid_gap": null,
       "grid_row": null,
       "grid_template_areas": null,
       "grid_template_columns": null,
       "grid_template_rows": null,
       "height": null,
       "justify_content": null,
       "justify_items": null,
       "left": null,
       "margin": null,
       "max_height": null,
       "max_width": null,
       "min_height": null,
       "min_width": null,
       "object_fit": null,
       "object_position": null,
       "order": null,
       "overflow": null,
       "overflow_x": null,
       "overflow_y": null,
       "padding": null,
       "right": null,
       "top": null,
       "visibility": null,
       "width": null
      }
     },
     "1ff6a07980df4fa09eff34d44d3970f1": {
      "model_module": "@jupyter-widgets/controls",
      "model_module_version": "1.5.0",
      "model_name": "HTMLModel",
      "state": {
       "_dom_classes": [],
       "_model_module": "@jupyter-widgets/controls",
       "_model_module_version": "1.5.0",
       "_model_name": "HTMLModel",
       "_view_count": null,
       "_view_module": "@jupyter-widgets/controls",
       "_view_module_version": "1.5.0",
       "_view_name": "HTMLView",
       "description": "",
       "description_tooltip": null,
       "layout": "IPY_MODEL_57f1ccde5f394365b1dd9380edf24fb7",
       "placeholder": "​",
       "style": "IPY_MODEL_424a1916592a41d7bd9520532a064d83",
       "value": " 28/28 [00:31&lt;00:00,  1.11s/it]"
      }
     },
     "2c4302e6ab5b4a25a3c45c9d398c4afe": {
      "model_module": "@jupyter-widgets/controls",
      "model_module_version": "1.5.0",
      "model_name": "DescriptionStyleModel",
      "state": {
       "_model_module": "@jupyter-widgets/controls",
       "_model_module_version": "1.5.0",
       "_model_name": "DescriptionStyleModel",
       "_view_count": null,
       "_view_module": "@jupyter-widgets/base",
       "_view_module_version": "1.2.0",
       "_view_name": "StyleView",
       "description_width": ""
      }
     },
     "353fa7e72f4a487ab6b041b2809685c0": {
      "model_module": "@jupyter-widgets/base",
      "model_module_version": "1.2.0",
      "model_name": "LayoutModel",
      "state": {
       "_model_module": "@jupyter-widgets/base",
       "_model_module_version": "1.2.0",
       "_model_name": "LayoutModel",
       "_view_count": null,
       "_view_module": "@jupyter-widgets/base",
       "_view_module_version": "1.2.0",
       "_view_name": "LayoutView",
       "align_content": null,
       "align_items": null,
       "align_self": null,
       "border": null,
       "bottom": null,
       "display": null,
       "flex": null,
       "flex_flow": null,
       "grid_area": null,
       "grid_auto_columns": null,
       "grid_auto_flow": null,
       "grid_auto_rows": null,
       "grid_column": null,
       "grid_gap": null,
       "grid_row": null,
       "grid_template_areas": null,
       "grid_template_columns": null,
       "grid_template_rows": null,
       "height": null,
       "justify_content": null,
       "justify_items": null,
       "left": null,
       "margin": null,
       "max_height": null,
       "max_width": null,
       "min_height": null,
       "min_width": null,
       "object_fit": null,
       "object_position": null,
       "order": null,
       "overflow": null,
       "overflow_x": null,
       "overflow_y": null,
       "padding": null,
       "right": null,
       "top": null,
       "visibility": null,
       "width": null
      }
     },
     "424a1916592a41d7bd9520532a064d83": {
      "model_module": "@jupyter-widgets/controls",
      "model_module_version": "1.5.0",
      "model_name": "DescriptionStyleModel",
      "state": {
       "_model_module": "@jupyter-widgets/controls",
       "_model_module_version": "1.5.0",
       "_model_name": "DescriptionStyleModel",
       "_view_count": null,
       "_view_module": "@jupyter-widgets/base",
       "_view_module_version": "1.2.0",
       "_view_name": "StyleView",
       "description_width": ""
      }
     },
     "43c185f027d8432595f184dd9dbdc59f": {
      "model_module": "@jupyter-widgets/base",
      "model_module_version": "1.2.0",
      "model_name": "LayoutModel",
      "state": {
       "_model_module": "@jupyter-widgets/base",
       "_model_module_version": "1.2.0",
       "_model_name": "LayoutModel",
       "_view_count": null,
       "_view_module": "@jupyter-widgets/base",
       "_view_module_version": "1.2.0",
       "_view_name": "LayoutView",
       "align_content": null,
       "align_items": null,
       "align_self": null,
       "border": null,
       "bottom": null,
       "display": null,
       "flex": null,
       "flex_flow": null,
       "grid_area": null,
       "grid_auto_columns": null,
       "grid_auto_flow": null,
       "grid_auto_rows": null,
       "grid_column": null,
       "grid_gap": null,
       "grid_row": null,
       "grid_template_areas": null,
       "grid_template_columns": null,
       "grid_template_rows": null,
       "height": null,
       "justify_content": null,
       "justify_items": null,
       "left": null,
       "margin": null,
       "max_height": null,
       "max_width": null,
       "min_height": null,
       "min_width": null,
       "object_fit": null,
       "object_position": null,
       "order": null,
       "overflow": null,
       "overflow_x": null,
       "overflow_y": null,
       "padding": null,
       "right": null,
       "top": null,
       "visibility": null,
       "width": null
      }
     },
     "4c96cb78ecbc47ad8adbbf595cda610b": {
      "model_module": "@jupyter-widgets/controls",
      "model_module_version": "1.5.0",
      "model_name": "DescriptionStyleModel",
      "state": {
       "_model_module": "@jupyter-widgets/controls",
       "_model_module_version": "1.5.0",
       "_model_name": "DescriptionStyleModel",
       "_view_count": null,
       "_view_module": "@jupyter-widgets/base",
       "_view_module_version": "1.2.0",
       "_view_name": "StyleView",
       "description_width": ""
      }
     },
     "4cf6a2b6f43a4763a38d7ef44bffb99e": {
      "model_module": "@jupyter-widgets/base",
      "model_module_version": "1.2.0",
      "model_name": "LayoutModel",
      "state": {
       "_model_module": "@jupyter-widgets/base",
       "_model_module_version": "1.2.0",
       "_model_name": "LayoutModel",
       "_view_count": null,
       "_view_module": "@jupyter-widgets/base",
       "_view_module_version": "1.2.0",
       "_view_name": "LayoutView",
       "align_content": null,
       "align_items": null,
       "align_self": null,
       "border": null,
       "bottom": null,
       "display": null,
       "flex": null,
       "flex_flow": null,
       "grid_area": null,
       "grid_auto_columns": null,
       "grid_auto_flow": null,
       "grid_auto_rows": null,
       "grid_column": null,
       "grid_gap": null,
       "grid_row": null,
       "grid_template_areas": null,
       "grid_template_columns": null,
       "grid_template_rows": null,
       "height": null,
       "justify_content": null,
       "justify_items": null,
       "left": null,
       "margin": null,
       "max_height": null,
       "max_width": null,
       "min_height": null,
       "min_width": null,
       "object_fit": null,
       "object_position": null,
       "order": null,
       "overflow": null,
       "overflow_x": null,
       "overflow_y": null,
       "padding": null,
       "right": null,
       "top": null,
       "visibility": null,
       "width": null
      }
     },
     "5524b74a7ea847ed9da656e8bce07115": {
      "model_module": "@jupyter-widgets/base",
      "model_module_version": "1.2.0",
      "model_name": "LayoutModel",
      "state": {
       "_model_module": "@jupyter-widgets/base",
       "_model_module_version": "1.2.0",
       "_model_name": "LayoutModel",
       "_view_count": null,
       "_view_module": "@jupyter-widgets/base",
       "_view_module_version": "1.2.0",
       "_view_name": "LayoutView",
       "align_content": null,
       "align_items": null,
       "align_self": null,
       "border": null,
       "bottom": null,
       "display": null,
       "flex": null,
       "flex_flow": null,
       "grid_area": null,
       "grid_auto_columns": null,
       "grid_auto_flow": null,
       "grid_auto_rows": null,
       "grid_column": null,
       "grid_gap": null,
       "grid_row": null,
       "grid_template_areas": null,
       "grid_template_columns": null,
       "grid_template_rows": null,
       "height": null,
       "justify_content": null,
       "justify_items": null,
       "left": null,
       "margin": null,
       "max_height": null,
       "max_width": null,
       "min_height": null,
       "min_width": null,
       "object_fit": null,
       "object_position": null,
       "order": null,
       "overflow": null,
       "overflow_x": null,
       "overflow_y": null,
       "padding": null,
       "right": null,
       "top": null,
       "visibility": null,
       "width": null
      }
     },
     "57f1ccde5f394365b1dd9380edf24fb7": {
      "model_module": "@jupyter-widgets/base",
      "model_module_version": "1.2.0",
      "model_name": "LayoutModel",
      "state": {
       "_model_module": "@jupyter-widgets/base",
       "_model_module_version": "1.2.0",
       "_model_name": "LayoutModel",
       "_view_count": null,
       "_view_module": "@jupyter-widgets/base",
       "_view_module_version": "1.2.0",
       "_view_name": "LayoutView",
       "align_content": null,
       "align_items": null,
       "align_self": null,
       "border": null,
       "bottom": null,
       "display": null,
       "flex": null,
       "flex_flow": null,
       "grid_area": null,
       "grid_auto_columns": null,
       "grid_auto_flow": null,
       "grid_auto_rows": null,
       "grid_column": null,
       "grid_gap": null,
       "grid_row": null,
       "grid_template_areas": null,
       "grid_template_columns": null,
       "grid_template_rows": null,
       "height": null,
       "justify_content": null,
       "justify_items": null,
       "left": null,
       "margin": null,
       "max_height": null,
       "max_width": null,
       "min_height": null,
       "min_width": null,
       "object_fit": null,
       "object_position": null,
       "order": null,
       "overflow": null,
       "overflow_x": null,
       "overflow_y": null,
       "padding": null,
       "right": null,
       "top": null,
       "visibility": null,
       "width": null
      }
     },
     "6a13191dc2b64348a48cb4d9622dded5": {
      "model_module": "@jupyter-widgets/controls",
      "model_module_version": "1.5.0",
      "model_name": "FloatProgressModel",
      "state": {
       "_dom_classes": [],
       "_model_module": "@jupyter-widgets/controls",
       "_model_module_version": "1.5.0",
       "_model_name": "FloatProgressModel",
       "_view_count": null,
       "_view_module": "@jupyter-widgets/controls",
       "_view_module_version": "1.5.0",
       "_view_name": "ProgressView",
       "bar_style": "success",
       "description": "100%",
       "description_tooltip": null,
       "layout": "IPY_MODEL_5524b74a7ea847ed9da656e8bce07115",
       "max": 28,
       "min": 0,
       "orientation": "horizontal",
       "style": "IPY_MODEL_1092fe6fdba943549502ff0c62703238",
       "value": 28
      }
     },
     "6fa48b5f65df4e64b543e64b8ef74d73": {
      "model_module": "@jupyter-widgets/controls",
      "model_module_version": "1.5.0",
      "model_name": "FloatProgressModel",
      "state": {
       "_dom_classes": [],
       "_model_module": "@jupyter-widgets/controls",
       "_model_module_version": "1.5.0",
       "_model_name": "FloatProgressModel",
       "_view_count": null,
       "_view_module": "@jupyter-widgets/controls",
       "_view_module_version": "1.5.0",
       "_view_name": "ProgressView",
       "bar_style": "success",
       "description": "100%",
       "description_tooltip": null,
       "layout": "IPY_MODEL_4cf6a2b6f43a4763a38d7ef44bffb99e",
       "max": 28,
       "min": 0,
       "orientation": "horizontal",
       "style": "IPY_MODEL_862683aeb8d54f11a47318aa3b56a85b",
       "value": 28
      }
     },
     "84d294ac3e68423597684b353c369a84": {
      "model_module": "@jupyter-widgets/controls",
      "model_module_version": "1.5.0",
      "model_name": "HBoxModel",
      "state": {
       "_dom_classes": [],
       "_model_module": "@jupyter-widgets/controls",
       "_model_module_version": "1.5.0",
       "_model_name": "HBoxModel",
       "_view_count": null,
       "_view_module": "@jupyter-widgets/controls",
       "_view_module_version": "1.5.0",
       "_view_name": "HBoxView",
       "box_style": "",
       "children": [
        "IPY_MODEL_c532bb13a2ac4daeab1748b74cdebfe4",
        "IPY_MODEL_ccb5840cefb34eca96dd7b81d1725f4d"
       ],
       "layout": "IPY_MODEL_ce23d2c5d2e242de9231c279cf9a6c30"
      }
     },
     "862683aeb8d54f11a47318aa3b56a85b": {
      "model_module": "@jupyter-widgets/controls",
      "model_module_version": "1.5.0",
      "model_name": "ProgressStyleModel",
      "state": {
       "_model_module": "@jupyter-widgets/controls",
       "_model_module_version": "1.5.0",
       "_model_name": "ProgressStyleModel",
       "_view_count": null,
       "_view_module": "@jupyter-widgets/base",
       "_view_module_version": "1.2.0",
       "_view_name": "StyleView",
       "bar_color": null,
       "description_width": "initial"
      }
     },
     "c532bb13a2ac4daeab1748b74cdebfe4": {
      "model_module": "@jupyter-widgets/controls",
      "model_module_version": "1.5.0",
      "model_name": "FloatProgressModel",
      "state": {
       "_dom_classes": [],
       "_model_module": "@jupyter-widgets/controls",
       "_model_module_version": "1.5.0",
       "_model_name": "FloatProgressModel",
       "_view_count": null,
       "_view_module": "@jupyter-widgets/controls",
       "_view_module_version": "1.5.0",
       "_view_name": "ProgressView",
       "bar_style": "success",
       "description": "100%",
       "description_tooltip": null,
       "layout": "IPY_MODEL_43c185f027d8432595f184dd9dbdc59f",
       "max": 28,
       "min": 0,
       "orientation": "horizontal",
       "style": "IPY_MODEL_f548dd539de54b55b571fc6b201dce78",
       "value": 28
      }
     },
     "cbb15ef357a047679530120377985984": {
      "model_module": "@jupyter-widgets/controls",
      "model_module_version": "1.5.0",
      "model_name": "HBoxModel",
      "state": {
       "_dom_classes": [],
       "_model_module": "@jupyter-widgets/controls",
       "_model_module_version": "1.5.0",
       "_model_name": "HBoxModel",
       "_view_count": null,
       "_view_module": "@jupyter-widgets/controls",
       "_view_module_version": "1.5.0",
       "_view_name": "HBoxView",
       "box_style": "",
       "children": [
        "IPY_MODEL_6fa48b5f65df4e64b543e64b8ef74d73",
        "IPY_MODEL_db1bd690c2e84b4f8894f859bcc641d6"
       ],
       "layout": "IPY_MODEL_1aee2c7eaf2742b1a9f1cf2666a23969"
      }
     },
     "ccb5840cefb34eca96dd7b81d1725f4d": {
      "model_module": "@jupyter-widgets/controls",
      "model_module_version": "1.5.0",
      "model_name": "HTMLModel",
      "state": {
       "_dom_classes": [],
       "_model_module": "@jupyter-widgets/controls",
       "_model_module_version": "1.5.0",
       "_model_name": "HTMLModel",
       "_view_count": null,
       "_view_module": "@jupyter-widgets/controls",
       "_view_module_version": "1.5.0",
       "_view_name": "HTMLView",
       "description": "",
       "description_tooltip": null,
       "layout": "IPY_MODEL_fd5c02bc53f44bfd89eb3cb9e432bce7",
       "placeholder": "​",
       "style": "IPY_MODEL_4c96cb78ecbc47ad8adbbf595cda610b",
       "value": " 28/28 [02:32&lt;00:00,  5.46s/it]"
      }
     },
     "ce23d2c5d2e242de9231c279cf9a6c30": {
      "model_module": "@jupyter-widgets/base",
      "model_module_version": "1.2.0",
      "model_name": "LayoutModel",
      "state": {
       "_model_module": "@jupyter-widgets/base",
       "_model_module_version": "1.2.0",
       "_model_name": "LayoutModel",
       "_view_count": null,
       "_view_module": "@jupyter-widgets/base",
       "_view_module_version": "1.2.0",
       "_view_name": "LayoutView",
       "align_content": null,
       "align_items": null,
       "align_self": null,
       "border": null,
       "bottom": null,
       "display": null,
       "flex": null,
       "flex_flow": null,
       "grid_area": null,
       "grid_auto_columns": null,
       "grid_auto_flow": null,
       "grid_auto_rows": null,
       "grid_column": null,
       "grid_gap": null,
       "grid_row": null,
       "grid_template_areas": null,
       "grid_template_columns": null,
       "grid_template_rows": null,
       "height": null,
       "justify_content": null,
       "justify_items": null,
       "left": null,
       "margin": null,
       "max_height": null,
       "max_width": null,
       "min_height": null,
       "min_width": null,
       "object_fit": null,
       "object_position": null,
       "order": null,
       "overflow": null,
       "overflow_x": null,
       "overflow_y": null,
       "padding": null,
       "right": null,
       "top": null,
       "visibility": null,
       "width": null
      }
     },
     "cf7cdf36c2d146fcb2748dbb6e4feeed": {
      "model_module": "@jupyter-widgets/base",
      "model_module_version": "1.2.0",
      "model_name": "LayoutModel",
      "state": {
       "_model_module": "@jupyter-widgets/base",
       "_model_module_version": "1.2.0",
       "_model_name": "LayoutModel",
       "_view_count": null,
       "_view_module": "@jupyter-widgets/base",
       "_view_module_version": "1.2.0",
       "_view_name": "LayoutView",
       "align_content": null,
       "align_items": null,
       "align_self": null,
       "border": null,
       "bottom": null,
       "display": null,
       "flex": null,
       "flex_flow": null,
       "grid_area": null,
       "grid_auto_columns": null,
       "grid_auto_flow": null,
       "grid_auto_rows": null,
       "grid_column": null,
       "grid_gap": null,
       "grid_row": null,
       "grid_template_areas": null,
       "grid_template_columns": null,
       "grid_template_rows": null,
       "height": null,
       "justify_content": null,
       "justify_items": null,
       "left": null,
       "margin": null,
       "max_height": null,
       "max_width": null,
       "min_height": null,
       "min_width": null,
       "object_fit": null,
       "object_position": null,
       "order": null,
       "overflow": null,
       "overflow_x": null,
       "overflow_y": null,
       "padding": null,
       "right": null,
       "top": null,
       "visibility": null,
       "width": null
      }
     },
     "db1bd690c2e84b4f8894f859bcc641d6": {
      "model_module": "@jupyter-widgets/controls",
      "model_module_version": "1.5.0",
      "model_name": "HTMLModel",
      "state": {
       "_dom_classes": [],
       "_model_module": "@jupyter-widgets/controls",
       "_model_module_version": "1.5.0",
       "_model_name": "HTMLModel",
       "_view_count": null,
       "_view_module": "@jupyter-widgets/controls",
       "_view_module_version": "1.5.0",
       "_view_name": "HTMLView",
       "description": "",
       "description_tooltip": null,
       "layout": "IPY_MODEL_cf7cdf36c2d146fcb2748dbb6e4feeed",
       "placeholder": "​",
       "style": "IPY_MODEL_2c4302e6ab5b4a25a3c45c9d398c4afe",
       "value": " 28/28 [01:28&lt;00:00,  3.16s/it]"
      }
     },
     "f548dd539de54b55b571fc6b201dce78": {
      "model_module": "@jupyter-widgets/controls",
      "model_module_version": "1.5.0",
      "model_name": "ProgressStyleModel",
      "state": {
       "_model_module": "@jupyter-widgets/controls",
       "_model_module_version": "1.5.0",
       "_model_name": "ProgressStyleModel",
       "_view_count": null,
       "_view_module": "@jupyter-widgets/base",
       "_view_module_version": "1.2.0",
       "_view_name": "StyleView",
       "bar_color": null,
       "description_width": "initial"
      }
     },
     "fd5c02bc53f44bfd89eb3cb9e432bce7": {
      "model_module": "@jupyter-widgets/base",
      "model_module_version": "1.2.0",
      "model_name": "LayoutModel",
      "state": {
       "_model_module": "@jupyter-widgets/base",
       "_model_module_version": "1.2.0",
       "_model_name": "LayoutModel",
       "_view_count": null,
       "_view_module": "@jupyter-widgets/base",
       "_view_module_version": "1.2.0",
       "_view_name": "LayoutView",
       "align_content": null,
       "align_items": null,
       "align_self": null,
       "border": null,
       "bottom": null,
       "display": null,
       "flex": null,
       "flex_flow": null,
       "grid_area": null,
       "grid_auto_columns": null,
       "grid_auto_flow": null,
       "grid_auto_rows": null,
       "grid_column": null,
       "grid_gap": null,
       "grid_row": null,
       "grid_template_areas": null,
       "grid_template_columns": null,
       "grid_template_rows": null,
       "height": null,
       "justify_content": null,
       "justify_items": null,
       "left": null,
       "margin": null,
       "max_height": null,
       "max_width": null,
       "min_height": null,
       "min_width": null,
       "object_fit": null,
       "object_position": null,
       "order": null,
       "overflow": null,
       "overflow_x": null,
       "overflow_y": null,
       "padding": null,
       "right": null,
       "top": null,
       "visibility": null,
       "width": null
      }
     }
    },
    "version_major": 2,
    "version_minor": 0
   }
  }
 },
 "nbformat": 4,
 "nbformat_minor": 4
}
