{
 "cells": [
  {
   "cell_type": "code",
   "execution_count": 26,
   "metadata": {},
   "outputs": [
    {
     "name": "stderr",
     "output_type": "stream",
     "text": [
      "/var/folders/pn/9t8hjz551fxgxlw6qx40xhl40000gn/T/ipykernel_9350/2597645805.py:3: DtypeWarning: Columns (22,32) have mixed types. Specify dtype option on import or set low_memory=False.\n",
      "  df = pd.read_csv('./Building_Permits.csv')\n"
     ]
    }
   ],
   "source": [
    "import pandas as pd\n",
    "import numpy as np\n",
    "df = pd.read_csv('./Building_Permits.csv')"
   ]
  },
  {
   "cell_type": "code",
   "execution_count": 27,
   "metadata": {},
   "outputs": [
    {
     "data": {
      "text/plain": [
       "Permit Number                                 0\n",
       "Permit Type                                   0\n",
       "Permit Type Definition                        0\n",
       "Permit Creation Date                          0\n",
       "Block                                         0\n",
       "Lot                                           0\n",
       "Street Number                                 0\n",
       "Street Number Suffix                      49183\n",
       "Street Name                                   0\n",
       "Street Suffix                               611\n",
       "Unit                                      42665\n",
       "Unit Suffix                               49161\n",
       "Description                                  62\n",
       "Current Status                                0\n",
       "Current Status Date                           0\n",
       "Filed Date                                    0\n",
       "Issued Date                                1968\n",
       "Completed Date                            20098\n",
       "First Construction Document Date           1977\n",
       "Structural Notification                   48073\n",
       "Number of Existing Stories                10070\n",
       "Number of Proposed Stories                10409\n",
       "Voluntary Soft-Story Retrofit             49681\n",
       "Fire Only Permit                          45087\n",
       "Permit Expiration Date                    10741\n",
       "Estimated Cost                             8990\n",
       "Revised Cost                                731\n",
       "Existing Use                               9765\n",
       "Existing Units                            11977\n",
       "Proposed Use                              10287\n",
       "Proposed Units                            12088\n",
       "Plansets                                   8850\n",
       "TIDF Compliance                           49697\n",
       "Existing Construction Type                10207\n",
       "Existing Construction Type Description    10207\n",
       "Proposed Construction Type                10496\n",
       "Proposed Construction Type Description    10496\n",
       "Site Permit                               48585\n",
       "Supervisor District                         426\n",
       "Neighborhoods - Analysis Boundaries         426\n",
       "Zipcode                                     427\n",
       "Location                                    423\n",
       "Record ID                                     0\n",
       "dtype: int64"
      ]
     },
     "execution_count": 27,
     "metadata": {},
     "output_type": "execute_result"
    }
   ],
   "source": [
    "# Looks like we have a lot of work to do\n",
    "\n",
    "df.isnull().sum()"
   ]
  },
  {
   "cell_type": "code",
   "execution_count": 28,
   "metadata": {},
   "outputs": [],
   "source": [
    "date_columns = ['Permit Creation Date', 'Current Status Date', 'Filed Date', 'Issued Date',\n",
    "                 'Completed Date', 'First Construction Document Date', 'Permit Expiration Date']\n",
    "df[date_columns] = df[date_columns].astype('datetime64[ns]')"
   ]
  },
  {
   "cell_type": "code",
   "execution_count": 29,
   "metadata": {},
   "outputs": [],
   "source": [
    "df['Days_to_Issue'] = (df['Issued Date'] - df['Filed Date']).dt.days"
   ]
  },
  {
   "cell_type": "markdown",
   "metadata": {},
   "source": [
    "Challenges:\n",
    "\n",
    "\n",
    "1. Can you try predicting permit issue times for various permit types? Which ones matter more?\n",
    "2. Can you suggest which is the best week day to visit Department of Building Inspections, based on this data?\n",
    "3. Can you conclude anything on the city's developments based on this data?"
   ]
  },
  {
   "cell_type": "code",
   "execution_count": 30,
   "metadata": {},
   "outputs": [
    {
     "name": "stdout",
     "output_type": "stream",
     "text": [
      "Fire Only Permit\n",
      "Y    4611\n",
      "Name: count, dtype: int64\n",
      "Structural Notification\n",
      "Y    1625\n",
      "Name: count, dtype: int64\n",
      "Site Permit\n",
      "Y    1113\n",
      "Name: count, dtype: int64\n"
     ]
    }
   ],
   "source": [
    "fire_only_permit_counts = df['Fire Only Permit'].value_counts()\n",
    "structural_notification_counts = df['Structural Notification'].value_counts()\n",
    "site_permit_counts = df['Site Permit'].value_counts()\n",
    "\n",
    "print(fire_only_permit_counts)\n",
    "print(structural_notification_counts)\n",
    "print(site_permit_counts)"
   ]
  },
  {
   "cell_type": "code",
   "execution_count": 31,
   "metadata": {},
   "outputs": [
    {
     "name": "stdout",
     "output_type": "stream",
     "text": [
      "Fire Only Permit\n",
      "False    45087\n",
      "True      4611\n",
      "Name: count, dtype: int64\n",
      "Structural Notification\n",
      "False    48073\n",
      "True      1625\n",
      "Name: count, dtype: int64\n",
      "Site Permit\n",
      "False    48585\n",
      "True      1113\n",
      "Name: count, dtype: int64\n"
     ]
    }
   ],
   "source": [
    "df['Fire Only Permit'] = df['Fire Only Permit'].map({'Y': True, np.nan: False})\n",
    "df['Structural Notification'] = df['Structural Notification'].map({'Y': True, np.nan: False})\n",
    "df['Site Permit'] = df['Site Permit'].map({'Y': True, np.nan: False})\n",
    "\n",
    "print(df['Fire Only Permit'].value_counts())\n",
    "print(df['Structural Notification'].value_counts())\n",
    "print(df['Site Permit'].value_counts())"
   ]
  },
  {
   "cell_type": "code",
   "execution_count": 32,
   "metadata": {},
   "outputs": [],
   "source": [
    "# in uploading file we saw an error for columns 22 and 32. And moreover, they are completely empty. Let's get rid of them \n",
    "\n",
    "columns_to_drop = ['TIDF Compliance', 'Voluntary Soft-Story Retrofit']\n",
    "df.drop(columns=columns_to_drop, inplace=True)"
   ]
  },
  {
   "cell_type": "code",
   "execution_count": 33,
   "metadata": {},
   "outputs": [
    {
     "name": "stdout",
     "output_type": "stream",
     "text": [
      "Number of Duplicate Rows: 0\n"
     ]
    }
   ],
   "source": [
    "duplicates = df[df.duplicated()]\n",
    "num_duplicates = duplicates.shape[0]\n",
    "print(f\"Number of Duplicate Rows: {num_duplicates}\")"
   ]
  },
  {
   "cell_type": "code",
   "execution_count": 34,
   "metadata": {},
   "outputs": [
    {
     "name": "stderr",
     "output_type": "stream",
     "text": [
      "/var/folders/pn/9t8hjz551fxgxlw6qx40xhl40000gn/T/ipykernel_9350/3292237043.py:8: FutureWarning: Downcasting object dtype arrays on .fillna, .ffill, .bfill is deprecated and will change in a future version. Call result.infer_objects(copy=False) instead. To opt-in to the future behavior, set `pd.set_option('future.no_silent_downcasting', True)`\n",
      "  return x.fillna(mode_values[0] if not mode_values.empty else x)\n",
      "/var/folders/pn/9t8hjz551fxgxlw6qx40xhl40000gn/T/ipykernel_9350/3292237043.py:8: FutureWarning: Downcasting object dtype arrays on .fillna, .ffill, .bfill is deprecated and will change in a future version. Call result.infer_objects(copy=False) instead. To opt-in to the future behavior, set `pd.set_option('future.no_silent_downcasting', True)`\n",
      "  return x.fillna(mode_values[0] if not mode_values.empty else x)\n",
      "/var/folders/pn/9t8hjz551fxgxlw6qx40xhl40000gn/T/ipykernel_9350/3292237043.py:8: FutureWarning: Downcasting object dtype arrays on .fillna, .ffill, .bfill is deprecated and will change in a future version. Call result.infer_objects(copy=False) instead. To opt-in to the future behavior, set `pd.set_option('future.no_silent_downcasting', True)`\n",
      "  return x.fillna(mode_values[0] if not mode_values.empty else x)\n",
      "/var/folders/pn/9t8hjz551fxgxlw6qx40xhl40000gn/T/ipykernel_9350/3292237043.py:8: FutureWarning: Downcasting object dtype arrays on .fillna, .ffill, .bfill is deprecated and will change in a future version. Call result.infer_objects(copy=False) instead. To opt-in to the future behavior, set `pd.set_option('future.no_silent_downcasting', True)`\n",
      "  return x.fillna(mode_values[0] if not mode_values.empty else x)\n",
      "/var/folders/pn/9t8hjz551fxgxlw6qx40xhl40000gn/T/ipykernel_9350/3292237043.py:8: FutureWarning: Downcasting object dtype arrays on .fillna, .ffill, .bfill is deprecated and will change in a future version. Call result.infer_objects(copy=False) instead. To opt-in to the future behavior, set `pd.set_option('future.no_silent_downcasting', True)`\n",
      "  return x.fillna(mode_values[0] if not mode_values.empty else x)\n",
      "/var/folders/pn/9t8hjz551fxgxlw6qx40xhl40000gn/T/ipykernel_9350/3292237043.py:8: FutureWarning: Downcasting object dtype arrays on .fillna, .ffill, .bfill is deprecated and will change in a future version. Call result.infer_objects(copy=False) instead. To opt-in to the future behavior, set `pd.set_option('future.no_silent_downcasting', True)`\n",
      "  return x.fillna(mode_values[0] if not mode_values.empty else x)\n",
      "/var/folders/pn/9t8hjz551fxgxlw6qx40xhl40000gn/T/ipykernel_9350/3292237043.py:8: FutureWarning: Downcasting object dtype arrays on .fillna, .ffill, .bfill is deprecated and will change in a future version. Call result.infer_objects(copy=False) instead. To opt-in to the future behavior, set `pd.set_option('future.no_silent_downcasting', True)`\n",
      "  return x.fillna(mode_values[0] if not mode_values.empty else x)\n",
      "/var/folders/pn/9t8hjz551fxgxlw6qx40xhl40000gn/T/ipykernel_9350/3292237043.py:8: FutureWarning: Downcasting object dtype arrays on .fillna, .ffill, .bfill is deprecated and will change in a future version. Call result.infer_objects(copy=False) instead. To opt-in to the future behavior, set `pd.set_option('future.no_silent_downcasting', True)`\n",
      "  return x.fillna(mode_values[0] if not mode_values.empty else x)\n",
      "/var/folders/pn/9t8hjz551fxgxlw6qx40xhl40000gn/T/ipykernel_9350/3292237043.py:8: FutureWarning: Downcasting object dtype arrays on .fillna, .ffill, .bfill is deprecated and will change in a future version. Call result.infer_objects(copy=False) instead. To opt-in to the future behavior, set `pd.set_option('future.no_silent_downcasting', True)`\n",
      "  return x.fillna(mode_values[0] if not mode_values.empty else x)\n",
      "/var/folders/pn/9t8hjz551fxgxlw6qx40xhl40000gn/T/ipykernel_9350/3292237043.py:8: FutureWarning: Downcasting object dtype arrays on .fillna, .ffill, .bfill is deprecated and will change in a future version. Call result.infer_objects(copy=False) instead. To opt-in to the future behavior, set `pd.set_option('future.no_silent_downcasting', True)`\n",
      "  return x.fillna(mode_values[0] if not mode_values.empty else x)\n"
     ]
    }
   ],
   "source": [
    "# Like I said, it is rather a gamble and affecting accuracy of information, so let's make a copy for this model\n",
    "\n",
    "def fill_missing_values_all_columns(df, group_columns):\n",
    "    df_copy = df.copy()\n",
    "\n",
    "    def fill_missing(x):\n",
    "        mode_values = x.mode()\n",
    "        return x.fillna(mode_values[0] if not mode_values.empty else x)\n",
    "\n",
    "    for target_column in df_copy.columns:\n",
    "        if target_column not in group_columns:\n",
    "            df_copy[target_column] = df_copy.groupby(group_columns)[target_column].transform(fill_missing)\n",
    "\n",
    "    return df_copy\n",
    "\n",
    "group_columns = ['Street Name', 'Block']\n",
    "df_filled = fill_missing_values_all_columns(df, group_columns)\n",
    "missing_values = df_filled.isnull().sum()\n",
    "missing_values = missing_values.sort_values(ascending=False)"
   ]
  },
  {
   "cell_type": "code",
   "execution_count": 35,
   "metadata": {},
   "outputs": [],
   "source": [
    "df_filled.to_csv('result.csv', index=False)"
   ]
  }
 ],
 "metadata": {
  "kernelspec": {
   "display_name": "spider",
   "language": "python",
   "name": "python3"
  },
  "language_info": {
   "codemirror_mode": {
    "name": "ipython",
    "version": 3
   },
   "file_extension": ".py",
   "mimetype": "text/x-python",
   "name": "python",
   "nbconvert_exporter": "python",
   "pygments_lexer": "ipython3",
   "version": "3.11.0"
  }
 },
 "nbformat": 4,
 "nbformat_minor": 2
}
