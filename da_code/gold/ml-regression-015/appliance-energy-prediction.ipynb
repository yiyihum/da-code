{
 "cells": [
  {
   "cell_type": "markdown",
   "metadata": {
    "_uuid": "dadaf48c56650a49cd8483d1565a6fc2b2ec067f"
   },
   "source": [
    "\n",
    "## Appliance Energy Prediction\n"
   ]
  },
  {
   "cell_type": "code",
   "execution_count": 1,
   "metadata": {
    "_uuid": "d98f964ab0736fddf2637284e7fd02b30285a0c9"
   },
   "outputs": [
    {
     "name": "stdout",
     "output_type": "stream",
     "text": [
      "['KAG_energydata_complete.csv']\n"
     ]
    }
   ],
   "source": [
    "# This Python 3 environment comes with many helpful analytics libraries installed\n",
    "# It is defined by the kaggle/python docker image: https://github.com/kaggle/docker-python\n",
    "# For example, here's several helpful packages to load in \n",
    "\n",
    "import numpy as np # linear algebra\n",
    "import pandas as pd # data processing, CSV file I/O (e.g. pd.read_csv)\n",
    "import numpy as np\n",
    "import pandas as pd\n",
    "import matplotlib.pyplot as plt\n",
    "import seaborn as sns\n",
    "from sklearn import preprocessing, model_selection, metrics\n",
    "import warnings\n",
    "warnings.filterwarnings(\"ignore\")\n",
    "\n",
    "# Input data files are available in the \"../input/\" directory.\n",
    "# For example, running this (by clicking run or pressing Shift+Enter) will list the files in the input directory\n",
    "\n",
    "import os\n",
    "print(os.listdir(\"../\"))\n",
    "\n",
    "# Any results you write to the current directory are saved as output."
   ]
  },
  {
   "cell_type": "markdown",
   "metadata": {
    "_uuid": "5ed5435e6958276e1166d205d8e9b4f4e3a2994b"
   },
   "source": [
    "# Reading the data"
   ]
  },
  {
   "cell_type": "code",
   "execution_count": 2,
   "metadata": {
    "_uuid": "459c945c644bc88cde29d1780414ee5f00842e87"
   },
   "outputs": [],
   "source": [
    "data = pd.read_csv(\"../KAG_energydata_complete.csv\")"
   ]
  },
  {
   "cell_type": "code",
   "execution_count": 3,
   "metadata": {
    "_uuid": "1eb9ea28e6233a0a02c4fcf86a07fe6f1f94870a"
   },
   "outputs": [
    {
     "data": {
      "text/html": [
       "<div>\n",
       "<style scoped>\n",
       "    .dataframe tbody tr th:only-of-type {\n",
       "        vertical-align: middle;\n",
       "    }\n",
       "\n",
       "    .dataframe tbody tr th {\n",
       "        vertical-align: top;\n",
       "    }\n",
       "\n",
       "    .dataframe thead th {\n",
       "        text-align: right;\n",
       "    }\n",
       "</style>\n",
       "<table border=\"1\" class=\"dataframe\">\n",
       "  <thead>\n",
       "    <tr style=\"text-align: right;\">\n",
       "      <th></th>\n",
       "      <th>date</th>\n",
       "      <th>Appliances</th>\n",
       "      <th>lights</th>\n",
       "      <th>T1</th>\n",
       "      <th>RH_1</th>\n",
       "      <th>T2</th>\n",
       "      <th>RH_2</th>\n",
       "      <th>T3</th>\n",
       "      <th>RH_3</th>\n",
       "      <th>T4</th>\n",
       "      <th>...</th>\n",
       "      <th>T9</th>\n",
       "      <th>RH_9</th>\n",
       "      <th>T_out</th>\n",
       "      <th>Press_mm_hg</th>\n",
       "      <th>RH_out</th>\n",
       "      <th>Windspeed</th>\n",
       "      <th>Visibility</th>\n",
       "      <th>Tdewpoint</th>\n",
       "      <th>rv1</th>\n",
       "      <th>rv2</th>\n",
       "    </tr>\n",
       "  </thead>\n",
       "  <tbody>\n",
       "    <tr>\n",
       "      <th>0</th>\n",
       "      <td>2016-01-11 17:00:00</td>\n",
       "      <td>60</td>\n",
       "      <td>30</td>\n",
       "      <td>19.89</td>\n",
       "      <td>47.596667</td>\n",
       "      <td>19.2</td>\n",
       "      <td>44.790000</td>\n",
       "      <td>19.79</td>\n",
       "      <td>44.730000</td>\n",
       "      <td>19.000000</td>\n",
       "      <td>...</td>\n",
       "      <td>17.033333</td>\n",
       "      <td>45.53</td>\n",
       "      <td>6.600000</td>\n",
       "      <td>733.5</td>\n",
       "      <td>92.0</td>\n",
       "      <td>7.000000</td>\n",
       "      <td>63.000000</td>\n",
       "      <td>5.3</td>\n",
       "      <td>13.275433</td>\n",
       "      <td>13.275433</td>\n",
       "    </tr>\n",
       "    <tr>\n",
       "      <th>1</th>\n",
       "      <td>2016-01-11 17:10:00</td>\n",
       "      <td>60</td>\n",
       "      <td>30</td>\n",
       "      <td>19.89</td>\n",
       "      <td>46.693333</td>\n",
       "      <td>19.2</td>\n",
       "      <td>44.722500</td>\n",
       "      <td>19.79</td>\n",
       "      <td>44.790000</td>\n",
       "      <td>19.000000</td>\n",
       "      <td>...</td>\n",
       "      <td>17.066667</td>\n",
       "      <td>45.56</td>\n",
       "      <td>6.483333</td>\n",
       "      <td>733.6</td>\n",
       "      <td>92.0</td>\n",
       "      <td>6.666667</td>\n",
       "      <td>59.166667</td>\n",
       "      <td>5.2</td>\n",
       "      <td>18.606195</td>\n",
       "      <td>18.606195</td>\n",
       "    </tr>\n",
       "    <tr>\n",
       "      <th>2</th>\n",
       "      <td>2016-01-11 17:20:00</td>\n",
       "      <td>50</td>\n",
       "      <td>30</td>\n",
       "      <td>19.89</td>\n",
       "      <td>46.300000</td>\n",
       "      <td>19.2</td>\n",
       "      <td>44.626667</td>\n",
       "      <td>19.79</td>\n",
       "      <td>44.933333</td>\n",
       "      <td>18.926667</td>\n",
       "      <td>...</td>\n",
       "      <td>17.000000</td>\n",
       "      <td>45.50</td>\n",
       "      <td>6.366667</td>\n",
       "      <td>733.7</td>\n",
       "      <td>92.0</td>\n",
       "      <td>6.333333</td>\n",
       "      <td>55.333333</td>\n",
       "      <td>5.1</td>\n",
       "      <td>28.642668</td>\n",
       "      <td>28.642668</td>\n",
       "    </tr>\n",
       "    <tr>\n",
       "      <th>3</th>\n",
       "      <td>2016-01-11 17:30:00</td>\n",
       "      <td>50</td>\n",
       "      <td>40</td>\n",
       "      <td>19.89</td>\n",
       "      <td>46.066667</td>\n",
       "      <td>19.2</td>\n",
       "      <td>44.590000</td>\n",
       "      <td>19.79</td>\n",
       "      <td>45.000000</td>\n",
       "      <td>18.890000</td>\n",
       "      <td>...</td>\n",
       "      <td>17.000000</td>\n",
       "      <td>45.40</td>\n",
       "      <td>6.250000</td>\n",
       "      <td>733.8</td>\n",
       "      <td>92.0</td>\n",
       "      <td>6.000000</td>\n",
       "      <td>51.500000</td>\n",
       "      <td>5.0</td>\n",
       "      <td>45.410389</td>\n",
       "      <td>45.410389</td>\n",
       "    </tr>\n",
       "    <tr>\n",
       "      <th>4</th>\n",
       "      <td>2016-01-11 17:40:00</td>\n",
       "      <td>60</td>\n",
       "      <td>40</td>\n",
       "      <td>19.89</td>\n",
       "      <td>46.333333</td>\n",
       "      <td>19.2</td>\n",
       "      <td>44.530000</td>\n",
       "      <td>19.79</td>\n",
       "      <td>45.000000</td>\n",
       "      <td>18.890000</td>\n",
       "      <td>...</td>\n",
       "      <td>17.000000</td>\n",
       "      <td>45.40</td>\n",
       "      <td>6.133333</td>\n",
       "      <td>733.9</td>\n",
       "      <td>92.0</td>\n",
       "      <td>5.666667</td>\n",
       "      <td>47.666667</td>\n",
       "      <td>4.9</td>\n",
       "      <td>10.084097</td>\n",
       "      <td>10.084097</td>\n",
       "    </tr>\n",
       "  </tbody>\n",
       "</table>\n",
       "<p>5 rows × 29 columns</p>\n",
       "</div>"
      ],
      "text/plain": [
       "                  date  Appliances  lights     T1       RH_1    T2       RH_2  \\\n",
       "0  2016-01-11 17:00:00          60      30  19.89  47.596667  19.2  44.790000   \n",
       "1  2016-01-11 17:10:00          60      30  19.89  46.693333  19.2  44.722500   \n",
       "2  2016-01-11 17:20:00          50      30  19.89  46.300000  19.2  44.626667   \n",
       "3  2016-01-11 17:30:00          50      40  19.89  46.066667  19.2  44.590000   \n",
       "4  2016-01-11 17:40:00          60      40  19.89  46.333333  19.2  44.530000   \n",
       "\n",
       "      T3       RH_3         T4  ...         T9   RH_9     T_out  Press_mm_hg  \\\n",
       "0  19.79  44.730000  19.000000  ...  17.033333  45.53  6.600000        733.5   \n",
       "1  19.79  44.790000  19.000000  ...  17.066667  45.56  6.483333        733.6   \n",
       "2  19.79  44.933333  18.926667  ...  17.000000  45.50  6.366667        733.7   \n",
       "3  19.79  45.000000  18.890000  ...  17.000000  45.40  6.250000        733.8   \n",
       "4  19.79  45.000000  18.890000  ...  17.000000  45.40  6.133333        733.9   \n",
       "\n",
       "   RH_out  Windspeed  Visibility  Tdewpoint        rv1        rv2  \n",
       "0    92.0   7.000000   63.000000        5.3  13.275433  13.275433  \n",
       "1    92.0   6.666667   59.166667        5.2  18.606195  18.606195  \n",
       "2    92.0   6.333333   55.333333        5.1  28.642668  28.642668  \n",
       "3    92.0   6.000000   51.500000        5.0  45.410389  45.410389  \n",
       "4    92.0   5.666667   47.666667        4.9  10.084097  10.084097  \n",
       "\n",
       "[5 rows x 29 columns]"
      ]
     },
     "execution_count": 3,
     "metadata": {},
     "output_type": "execute_result"
    }
   ],
   "source": [
    "data.head()"
   ]
  },
  {
   "cell_type": "code",
   "execution_count": 4,
   "metadata": {
    "_uuid": "75c7fc09bf7891cdda12c133d6dec8aeb24fd4b9"
   },
   "outputs": [
    {
     "name": "stdout",
     "output_type": "stream",
     "text": [
      "<class 'pandas.core.frame.DataFrame'>\n",
      "RangeIndex: 19735 entries, 0 to 19734\n",
      "Data columns (total 29 columns):\n",
      "date           19735 non-null object\n",
      "Appliances     19735 non-null int64\n",
      "lights         19735 non-null int64\n",
      "T1             19735 non-null float64\n",
      "RH_1           19735 non-null float64\n",
      "T2             19735 non-null float64\n",
      "RH_2           19735 non-null float64\n",
      "T3             19735 non-null float64\n",
      "RH_3           19735 non-null float64\n",
      "T4             19735 non-null float64\n",
      "RH_4           19735 non-null float64\n",
      "T5             19735 non-null float64\n",
      "RH_5           19735 non-null float64\n",
      "T6             19735 non-null float64\n",
      "RH_6           19735 non-null float64\n",
      "T7             19735 non-null float64\n",
      "RH_7           19735 non-null float64\n",
      "T8             19735 non-null float64\n",
      "RH_8           19735 non-null float64\n",
      "T9             19735 non-null float64\n",
      "RH_9           19735 non-null float64\n",
      "T_out          19735 non-null float64\n",
      "Press_mm_hg    19735 non-null float64\n",
      "RH_out         19735 non-null float64\n",
      "Windspeed      19735 non-null float64\n",
      "Visibility     19735 non-null float64\n",
      "Tdewpoint      19735 non-null float64\n",
      "rv1            19735 non-null float64\n",
      "rv2            19735 non-null float64\n",
      "dtypes: float64(26), int64(2), object(1)\n",
      "memory usage: 4.4+ MB\n"
     ]
    }
   ],
   "source": [
    "data.info()"
   ]
  },
  {
   "cell_type": "markdown",
   "metadata": {
    "_uuid": "dafb696f1e9b2e8380b466f60b82dd8aa6e3477e"
   },
   "source": [
    "# Data Exploration "
   ]
  },
  {
   "cell_type": "code",
   "execution_count": 5,
   "metadata": {
    "_uuid": "035f0b4b116cacdad65636c7dad90c073e0def54"
   },
   "outputs": [
    {
     "data": {
      "text/html": [
       "<div>\n",
       "<style scoped>\n",
       "    .dataframe tbody tr th:only-of-type {\n",
       "        vertical-align: middle;\n",
       "    }\n",
       "\n",
       "    .dataframe tbody tr th {\n",
       "        vertical-align: top;\n",
       "    }\n",
       "\n",
       "    .dataframe thead th {\n",
       "        text-align: right;\n",
       "    }\n",
       "</style>\n",
       "<table border=\"1\" class=\"dataframe\">\n",
       "  <thead>\n",
       "    <tr style=\"text-align: right;\">\n",
       "      <th></th>\n",
       "      <th>Appliances</th>\n",
       "      <th>lights</th>\n",
       "      <th>T1</th>\n",
       "      <th>RH_1</th>\n",
       "      <th>T2</th>\n",
       "      <th>RH_2</th>\n",
       "      <th>T3</th>\n",
       "      <th>RH_3</th>\n",
       "      <th>T4</th>\n",
       "      <th>RH_4</th>\n",
       "      <th>...</th>\n",
       "      <th>T9</th>\n",
       "      <th>RH_9</th>\n",
       "      <th>T_out</th>\n",
       "      <th>Press_mm_hg</th>\n",
       "      <th>RH_out</th>\n",
       "      <th>Windspeed</th>\n",
       "      <th>Visibility</th>\n",
       "      <th>Tdewpoint</th>\n",
       "      <th>rv1</th>\n",
       "      <th>rv2</th>\n",
       "    </tr>\n",
       "  </thead>\n",
       "  <tbody>\n",
       "    <tr>\n",
       "      <th>count</th>\n",
       "      <td>19735.000000</td>\n",
       "      <td>19735.000000</td>\n",
       "      <td>19735.000000</td>\n",
       "      <td>19735.000000</td>\n",
       "      <td>19735.000000</td>\n",
       "      <td>19735.000000</td>\n",
       "      <td>19735.000000</td>\n",
       "      <td>19735.000000</td>\n",
       "      <td>19735.000000</td>\n",
       "      <td>19735.000000</td>\n",
       "      <td>...</td>\n",
       "      <td>19735.000000</td>\n",
       "      <td>19735.000000</td>\n",
       "      <td>19735.000000</td>\n",
       "      <td>19735.000000</td>\n",
       "      <td>19735.000000</td>\n",
       "      <td>19735.000000</td>\n",
       "      <td>19735.000000</td>\n",
       "      <td>19735.000000</td>\n",
       "      <td>19735.000000</td>\n",
       "      <td>19735.000000</td>\n",
       "    </tr>\n",
       "    <tr>\n",
       "      <th>mean</th>\n",
       "      <td>97.694958</td>\n",
       "      <td>3.801875</td>\n",
       "      <td>21.686571</td>\n",
       "      <td>40.259739</td>\n",
       "      <td>20.341219</td>\n",
       "      <td>40.420420</td>\n",
       "      <td>22.267611</td>\n",
       "      <td>39.242500</td>\n",
       "      <td>20.855335</td>\n",
       "      <td>39.026904</td>\n",
       "      <td>...</td>\n",
       "      <td>19.485828</td>\n",
       "      <td>41.552401</td>\n",
       "      <td>7.411665</td>\n",
       "      <td>755.522602</td>\n",
       "      <td>79.750418</td>\n",
       "      <td>4.039752</td>\n",
       "      <td>38.330834</td>\n",
       "      <td>3.760707</td>\n",
       "      <td>24.988033</td>\n",
       "      <td>24.988033</td>\n",
       "    </tr>\n",
       "    <tr>\n",
       "      <th>std</th>\n",
       "      <td>102.524891</td>\n",
       "      <td>7.935988</td>\n",
       "      <td>1.606066</td>\n",
       "      <td>3.979299</td>\n",
       "      <td>2.192974</td>\n",
       "      <td>4.069813</td>\n",
       "      <td>2.006111</td>\n",
       "      <td>3.254576</td>\n",
       "      <td>2.042884</td>\n",
       "      <td>4.341321</td>\n",
       "      <td>...</td>\n",
       "      <td>2.014712</td>\n",
       "      <td>4.151497</td>\n",
       "      <td>5.317409</td>\n",
       "      <td>7.399441</td>\n",
       "      <td>14.901088</td>\n",
       "      <td>2.451221</td>\n",
       "      <td>11.794719</td>\n",
       "      <td>4.194648</td>\n",
       "      <td>14.496634</td>\n",
       "      <td>14.496634</td>\n",
       "    </tr>\n",
       "    <tr>\n",
       "      <th>min</th>\n",
       "      <td>10.000000</td>\n",
       "      <td>0.000000</td>\n",
       "      <td>16.790000</td>\n",
       "      <td>27.023333</td>\n",
       "      <td>16.100000</td>\n",
       "      <td>20.463333</td>\n",
       "      <td>17.200000</td>\n",
       "      <td>28.766667</td>\n",
       "      <td>15.100000</td>\n",
       "      <td>27.660000</td>\n",
       "      <td>...</td>\n",
       "      <td>14.890000</td>\n",
       "      <td>29.166667</td>\n",
       "      <td>-5.000000</td>\n",
       "      <td>729.300000</td>\n",
       "      <td>24.000000</td>\n",
       "      <td>0.000000</td>\n",
       "      <td>1.000000</td>\n",
       "      <td>-6.600000</td>\n",
       "      <td>0.005322</td>\n",
       "      <td>0.005322</td>\n",
       "    </tr>\n",
       "    <tr>\n",
       "      <th>25%</th>\n",
       "      <td>50.000000</td>\n",
       "      <td>0.000000</td>\n",
       "      <td>20.760000</td>\n",
       "      <td>37.333333</td>\n",
       "      <td>18.790000</td>\n",
       "      <td>37.900000</td>\n",
       "      <td>20.790000</td>\n",
       "      <td>36.900000</td>\n",
       "      <td>19.530000</td>\n",
       "      <td>35.530000</td>\n",
       "      <td>...</td>\n",
       "      <td>18.000000</td>\n",
       "      <td>38.500000</td>\n",
       "      <td>3.666667</td>\n",
       "      <td>750.933333</td>\n",
       "      <td>70.333333</td>\n",
       "      <td>2.000000</td>\n",
       "      <td>29.000000</td>\n",
       "      <td>0.900000</td>\n",
       "      <td>12.497889</td>\n",
       "      <td>12.497889</td>\n",
       "    </tr>\n",
       "    <tr>\n",
       "      <th>50%</th>\n",
       "      <td>60.000000</td>\n",
       "      <td>0.000000</td>\n",
       "      <td>21.600000</td>\n",
       "      <td>39.656667</td>\n",
       "      <td>20.000000</td>\n",
       "      <td>40.500000</td>\n",
       "      <td>22.100000</td>\n",
       "      <td>38.530000</td>\n",
       "      <td>20.666667</td>\n",
       "      <td>38.400000</td>\n",
       "      <td>...</td>\n",
       "      <td>19.390000</td>\n",
       "      <td>40.900000</td>\n",
       "      <td>6.916667</td>\n",
       "      <td>756.100000</td>\n",
       "      <td>83.666667</td>\n",
       "      <td>3.666667</td>\n",
       "      <td>40.000000</td>\n",
       "      <td>3.433333</td>\n",
       "      <td>24.897653</td>\n",
       "      <td>24.897653</td>\n",
       "    </tr>\n",
       "    <tr>\n",
       "      <th>75%</th>\n",
       "      <td>100.000000</td>\n",
       "      <td>0.000000</td>\n",
       "      <td>22.600000</td>\n",
       "      <td>43.066667</td>\n",
       "      <td>21.500000</td>\n",
       "      <td>43.260000</td>\n",
       "      <td>23.290000</td>\n",
       "      <td>41.760000</td>\n",
       "      <td>22.100000</td>\n",
       "      <td>42.156667</td>\n",
       "      <td>...</td>\n",
       "      <td>20.600000</td>\n",
       "      <td>44.338095</td>\n",
       "      <td>10.408333</td>\n",
       "      <td>760.933333</td>\n",
       "      <td>91.666667</td>\n",
       "      <td>5.500000</td>\n",
       "      <td>40.000000</td>\n",
       "      <td>6.566667</td>\n",
       "      <td>37.583769</td>\n",
       "      <td>37.583769</td>\n",
       "    </tr>\n",
       "    <tr>\n",
       "      <th>max</th>\n",
       "      <td>1080.000000</td>\n",
       "      <td>70.000000</td>\n",
       "      <td>26.260000</td>\n",
       "      <td>63.360000</td>\n",
       "      <td>29.856667</td>\n",
       "      <td>56.026667</td>\n",
       "      <td>29.236000</td>\n",
       "      <td>50.163333</td>\n",
       "      <td>26.200000</td>\n",
       "      <td>51.090000</td>\n",
       "      <td>...</td>\n",
       "      <td>24.500000</td>\n",
       "      <td>53.326667</td>\n",
       "      <td>26.100000</td>\n",
       "      <td>772.300000</td>\n",
       "      <td>100.000000</td>\n",
       "      <td>14.000000</td>\n",
       "      <td>66.000000</td>\n",
       "      <td>15.500000</td>\n",
       "      <td>49.996530</td>\n",
       "      <td>49.996530</td>\n",
       "    </tr>\n",
       "  </tbody>\n",
       "</table>\n",
       "<p>8 rows × 28 columns</p>\n",
       "</div>"
      ],
      "text/plain": [
       "         Appliances        lights            T1          RH_1            T2  \\\n",
       "count  19735.000000  19735.000000  19735.000000  19735.000000  19735.000000   \n",
       "mean      97.694958      3.801875     21.686571     40.259739     20.341219   \n",
       "std      102.524891      7.935988      1.606066      3.979299      2.192974   \n",
       "min       10.000000      0.000000     16.790000     27.023333     16.100000   \n",
       "25%       50.000000      0.000000     20.760000     37.333333     18.790000   \n",
       "50%       60.000000      0.000000     21.600000     39.656667     20.000000   \n",
       "75%      100.000000      0.000000     22.600000     43.066667     21.500000   \n",
       "max     1080.000000     70.000000     26.260000     63.360000     29.856667   \n",
       "\n",
       "               RH_2            T3          RH_3            T4          RH_4  \\\n",
       "count  19735.000000  19735.000000  19735.000000  19735.000000  19735.000000   \n",
       "mean      40.420420     22.267611     39.242500     20.855335     39.026904   \n",
       "std        4.069813      2.006111      3.254576      2.042884      4.341321   \n",
       "min       20.463333     17.200000     28.766667     15.100000     27.660000   \n",
       "25%       37.900000     20.790000     36.900000     19.530000     35.530000   \n",
       "50%       40.500000     22.100000     38.530000     20.666667     38.400000   \n",
       "75%       43.260000     23.290000     41.760000     22.100000     42.156667   \n",
       "max       56.026667     29.236000     50.163333     26.200000     51.090000   \n",
       "\n",
       "       ...            T9          RH_9         T_out   Press_mm_hg  \\\n",
       "count  ...  19735.000000  19735.000000  19735.000000  19735.000000   \n",
       "mean   ...     19.485828     41.552401      7.411665    755.522602   \n",
       "std    ...      2.014712      4.151497      5.317409      7.399441   \n",
       "min    ...     14.890000     29.166667     -5.000000    729.300000   \n",
       "25%    ...     18.000000     38.500000      3.666667    750.933333   \n",
       "50%    ...     19.390000     40.900000      6.916667    756.100000   \n",
       "75%    ...     20.600000     44.338095     10.408333    760.933333   \n",
       "max    ...     24.500000     53.326667     26.100000    772.300000   \n",
       "\n",
       "             RH_out     Windspeed    Visibility     Tdewpoint           rv1  \\\n",
       "count  19735.000000  19735.000000  19735.000000  19735.000000  19735.000000   \n",
       "mean      79.750418      4.039752     38.330834      3.760707     24.988033   \n",
       "std       14.901088      2.451221     11.794719      4.194648     14.496634   \n",
       "min       24.000000      0.000000      1.000000     -6.600000      0.005322   \n",
       "25%       70.333333      2.000000     29.000000      0.900000     12.497889   \n",
       "50%       83.666667      3.666667     40.000000      3.433333     24.897653   \n",
       "75%       91.666667      5.500000     40.000000      6.566667     37.583769   \n",
       "max      100.000000     14.000000     66.000000     15.500000     49.996530   \n",
       "\n",
       "                rv2  \n",
       "count  19735.000000  \n",
       "mean      24.988033  \n",
       "std       14.496634  \n",
       "min        0.005322  \n",
       "25%       12.497889  \n",
       "50%       24.897653  \n",
       "75%       37.583769  \n",
       "max       49.996530  \n",
       "\n",
       "[8 rows x 28 columns]"
      ]
     },
     "execution_count": 5,
     "metadata": {},
     "output_type": "execute_result"
    }
   ],
   "source": [
    "data.describe()"
   ]
  },
  {
   "cell_type": "code",
   "execution_count": 6,
   "metadata": {
    "_uuid": "08330d2721b5d0bd5fc6c6536d7a60e55685c898"
   },
   "outputs": [
    {
     "name": "stdout",
     "output_type": "stream",
     "text": [
      "The number of rows in dataset is -  19735\n",
      "The number of columns in dataset is -  29\n"
     ]
    }
   ],
   "source": [
    "print('The number of rows in dataset is - ' , data.shape[0])\n",
    "print('The number of columns in dataset is - ' , data.shape[1])"
   ]
  },
  {
   "cell_type": "code",
   "execution_count": 7,
   "metadata": {
    "_uuid": "5536114a0ecae64f8d213834108c73e398a9bd5b"
   },
   "outputs": [
    {
     "data": {
      "text/plain": [
       "date           0\n",
       "Tdewpoint      0\n",
       "Visibility     0\n",
       "Windspeed      0\n",
       "RH_out         0\n",
       "Press_mm_hg    0\n",
       "T_out          0\n",
       "RH_9           0\n",
       "T9             0\n",
       "RH_8           0\n",
       "T8             0\n",
       "RH_7           0\n",
       "T7             0\n",
       "rv1            0\n",
       "RH_6           0\n",
       "RH_5           0\n",
       "T5             0\n",
       "RH_4           0\n",
       "T4             0\n",
       "RH_3           0\n",
       "T3             0\n",
       "RH_2           0\n",
       "T2             0\n",
       "RH_1           0\n",
       "T1             0\n",
       "lights         0\n",
       "Appliances     0\n",
       "T6             0\n",
       "rv2            0\n",
       "dtype: int64"
      ]
     },
     "execution_count": 7,
     "metadata": {},
     "output_type": "execute_result"
    }
   ],
   "source": [
    "#Number of null values in all columns\n",
    "data.isnull().sum().sort_values(ascending = True)"
   ]
  },
  {
   "cell_type": "markdown",
   "metadata": {
    "_uuid": "1e733aa9db02d797175c0c3087849bc6e270eec6"
   },
   "source": [
    "### As shown above , there are no null values in the dataset "
   ]
  },
  {
   "cell_type": "code",
   "execution_count": 8,
   "metadata": {
    "_uuid": "46786dfef359c8052d39d3cb585c626b43c01b4b"
   },
   "outputs": [],
   "source": [
    "from sklearn.model_selection import train_test_split\n",
    "\n",
    "# 75% of the data is usedfor the training of the models and the rest is used for testing\n",
    "train, test = train_test_split(data,test_size=0.25,random_state=40)"
   ]
  },
  {
   "cell_type": "code",
   "execution_count": 9,
   "metadata": {
    "_uuid": "a6b19950ee5eb131d7b5d4bfe42cfd9758ff99e3"
   },
   "outputs": [
    {
     "data": {
      "text/html": [
       "<div>\n",
       "<style scoped>\n",
       "    .dataframe tbody tr th:only-of-type {\n",
       "        vertical-align: middle;\n",
       "    }\n",
       "\n",
       "    .dataframe tbody tr th {\n",
       "        vertical-align: top;\n",
       "    }\n",
       "\n",
       "    .dataframe thead th {\n",
       "        text-align: right;\n",
       "    }\n",
       "</style>\n",
       "<table border=\"1\" class=\"dataframe\">\n",
       "  <thead>\n",
       "    <tr style=\"text-align: right;\">\n",
       "      <th></th>\n",
       "      <th>Appliances</th>\n",
       "      <th>lights</th>\n",
       "      <th>T1</th>\n",
       "      <th>RH_1</th>\n",
       "      <th>T2</th>\n",
       "      <th>RH_2</th>\n",
       "      <th>T3</th>\n",
       "      <th>RH_3</th>\n",
       "      <th>T4</th>\n",
       "      <th>RH_4</th>\n",
       "      <th>...</th>\n",
       "      <th>T9</th>\n",
       "      <th>RH_9</th>\n",
       "      <th>T_out</th>\n",
       "      <th>Press_mm_hg</th>\n",
       "      <th>RH_out</th>\n",
       "      <th>Windspeed</th>\n",
       "      <th>Visibility</th>\n",
       "      <th>Tdewpoint</th>\n",
       "      <th>rv1</th>\n",
       "      <th>rv2</th>\n",
       "    </tr>\n",
       "  </thead>\n",
       "  <tbody>\n",
       "    <tr>\n",
       "      <th>count</th>\n",
       "      <td>14801.000000</td>\n",
       "      <td>14801.000000</td>\n",
       "      <td>14801.000000</td>\n",
       "      <td>14801.000000</td>\n",
       "      <td>14801.000000</td>\n",
       "      <td>14801.000000</td>\n",
       "      <td>14801.000000</td>\n",
       "      <td>14801.000000</td>\n",
       "      <td>14801.000000</td>\n",
       "      <td>14801.000000</td>\n",
       "      <td>...</td>\n",
       "      <td>14801.000000</td>\n",
       "      <td>14801.000000</td>\n",
       "      <td>14801.000000</td>\n",
       "      <td>14801.000000</td>\n",
       "      <td>14801.000000</td>\n",
       "      <td>14801.000000</td>\n",
       "      <td>14801.000000</td>\n",
       "      <td>14801.000000</td>\n",
       "      <td>14801.000000</td>\n",
       "      <td>14801.000000</td>\n",
       "    </tr>\n",
       "    <tr>\n",
       "      <th>mean</th>\n",
       "      <td>97.835281</td>\n",
       "      <td>3.809202</td>\n",
       "      <td>21.685153</td>\n",
       "      <td>40.271333</td>\n",
       "      <td>20.343487</td>\n",
       "      <td>40.432370</td>\n",
       "      <td>22.268005</td>\n",
       "      <td>39.252994</td>\n",
       "      <td>20.857724</td>\n",
       "      <td>39.041339</td>\n",
       "      <td>...</td>\n",
       "      <td>19.484679</td>\n",
       "      <td>41.567732</td>\n",
       "      <td>7.422035</td>\n",
       "      <td>755.561311</td>\n",
       "      <td>79.744066</td>\n",
       "      <td>4.057009</td>\n",
       "      <td>38.345054</td>\n",
       "      <td>3.768053</td>\n",
       "      <td>25.014452</td>\n",
       "      <td>25.014452</td>\n",
       "    </tr>\n",
       "    <tr>\n",
       "      <th>std</th>\n",
       "      <td>102.928289</td>\n",
       "      <td>7.940816</td>\n",
       "      <td>1.605537</td>\n",
       "      <td>3.983201</td>\n",
       "      <td>2.199037</td>\n",
       "      <td>4.081775</td>\n",
       "      <td>1.999986</td>\n",
       "      <td>3.263513</td>\n",
       "      <td>2.040012</td>\n",
       "      <td>4.355528</td>\n",
       "      <td>...</td>\n",
       "      <td>2.010610</td>\n",
       "      <td>4.167305</td>\n",
       "      <td>5.304241</td>\n",
       "      <td>7.398129</td>\n",
       "      <td>14.952250</td>\n",
       "      <td>2.449080</td>\n",
       "      <td>11.785900</td>\n",
       "      <td>4.189370</td>\n",
       "      <td>14.539819</td>\n",
       "      <td>14.539819</td>\n",
       "    </tr>\n",
       "    <tr>\n",
       "      <th>min</th>\n",
       "      <td>10.000000</td>\n",
       "      <td>0.000000</td>\n",
       "      <td>16.790000</td>\n",
       "      <td>27.233333</td>\n",
       "      <td>16.100000</td>\n",
       "      <td>20.463333</td>\n",
       "      <td>17.200000</td>\n",
       "      <td>28.766667</td>\n",
       "      <td>15.100000</td>\n",
       "      <td>27.660000</td>\n",
       "      <td>...</td>\n",
       "      <td>14.890000</td>\n",
       "      <td>29.166667</td>\n",
       "      <td>-5.000000</td>\n",
       "      <td>729.366667</td>\n",
       "      <td>24.500000</td>\n",
       "      <td>0.000000</td>\n",
       "      <td>1.000000</td>\n",
       "      <td>-6.600000</td>\n",
       "      <td>0.006033</td>\n",
       "      <td>0.006033</td>\n",
       "    </tr>\n",
       "    <tr>\n",
       "      <th>25%</th>\n",
       "      <td>50.000000</td>\n",
       "      <td>0.000000</td>\n",
       "      <td>20.745000</td>\n",
       "      <td>37.363333</td>\n",
       "      <td>18.790000</td>\n",
       "      <td>37.900000</td>\n",
       "      <td>20.790000</td>\n",
       "      <td>36.900000</td>\n",
       "      <td>19.533333</td>\n",
       "      <td>35.530000</td>\n",
       "      <td>...</td>\n",
       "      <td>18.000000</td>\n",
       "      <td>38.500000</td>\n",
       "      <td>3.700000</td>\n",
       "      <td>750.983333</td>\n",
       "      <td>70.000000</td>\n",
       "      <td>2.000000</td>\n",
       "      <td>29.000000</td>\n",
       "      <td>0.933333</td>\n",
       "      <td>12.469764</td>\n",
       "      <td>12.469764</td>\n",
       "    </tr>\n",
       "    <tr>\n",
       "      <th>50%</th>\n",
       "      <td>60.000000</td>\n",
       "      <td>0.000000</td>\n",
       "      <td>21.600000</td>\n",
       "      <td>39.656667</td>\n",
       "      <td>20.000000</td>\n",
       "      <td>40.500000</td>\n",
       "      <td>22.100000</td>\n",
       "      <td>38.560000</td>\n",
       "      <td>20.666667</td>\n",
       "      <td>38.400000</td>\n",
       "      <td>...</td>\n",
       "      <td>19.390000</td>\n",
       "      <td>40.900000</td>\n",
       "      <td>6.933333</td>\n",
       "      <td>756.100000</td>\n",
       "      <td>83.833333</td>\n",
       "      <td>3.666667</td>\n",
       "      <td>40.000000</td>\n",
       "      <td>3.450000</td>\n",
       "      <td>24.936900</td>\n",
       "      <td>24.936900</td>\n",
       "    </tr>\n",
       "    <tr>\n",
       "      <th>75%</th>\n",
       "      <td>100.000000</td>\n",
       "      <td>0.000000</td>\n",
       "      <td>22.600000</td>\n",
       "      <td>43.090000</td>\n",
       "      <td>21.533333</td>\n",
       "      <td>43.290000</td>\n",
       "      <td>23.290000</td>\n",
       "      <td>41.790000</td>\n",
       "      <td>22.100000</td>\n",
       "      <td>42.193333</td>\n",
       "      <td>...</td>\n",
       "      <td>20.600000</td>\n",
       "      <td>44.363333</td>\n",
       "      <td>10.433333</td>\n",
       "      <td>760.966667</td>\n",
       "      <td>91.666667</td>\n",
       "      <td>5.500000</td>\n",
       "      <td>40.000000</td>\n",
       "      <td>6.566667</td>\n",
       "      <td>37.736202</td>\n",
       "      <td>37.736202</td>\n",
       "    </tr>\n",
       "    <tr>\n",
       "      <th>max</th>\n",
       "      <td>1080.000000</td>\n",
       "      <td>60.000000</td>\n",
       "      <td>26.260000</td>\n",
       "      <td>63.360000</td>\n",
       "      <td>29.856667</td>\n",
       "      <td>56.026667</td>\n",
       "      <td>29.200000</td>\n",
       "      <td>50.163333</td>\n",
       "      <td>26.200000</td>\n",
       "      <td>51.090000</td>\n",
       "      <td>...</td>\n",
       "      <td>24.500000</td>\n",
       "      <td>53.326667</td>\n",
       "      <td>26.033333</td>\n",
       "      <td>772.300000</td>\n",
       "      <td>100.000000</td>\n",
       "      <td>14.000000</td>\n",
       "      <td>66.000000</td>\n",
       "      <td>15.500000</td>\n",
       "      <td>49.993173</td>\n",
       "      <td>49.993173</td>\n",
       "    </tr>\n",
       "  </tbody>\n",
       "</table>\n",
       "<p>8 rows × 28 columns</p>\n",
       "</div>"
      ],
      "text/plain": [
       "         Appliances        lights            T1          RH_1            T2  \\\n",
       "count  14801.000000  14801.000000  14801.000000  14801.000000  14801.000000   \n",
       "mean      97.835281      3.809202     21.685153     40.271333     20.343487   \n",
       "std      102.928289      7.940816      1.605537      3.983201      2.199037   \n",
       "min       10.000000      0.000000     16.790000     27.233333     16.100000   \n",
       "25%       50.000000      0.000000     20.745000     37.363333     18.790000   \n",
       "50%       60.000000      0.000000     21.600000     39.656667     20.000000   \n",
       "75%      100.000000      0.000000     22.600000     43.090000     21.533333   \n",
       "max     1080.000000     60.000000     26.260000     63.360000     29.856667   \n",
       "\n",
       "               RH_2            T3          RH_3            T4          RH_4  \\\n",
       "count  14801.000000  14801.000000  14801.000000  14801.000000  14801.000000   \n",
       "mean      40.432370     22.268005     39.252994     20.857724     39.041339   \n",
       "std        4.081775      1.999986      3.263513      2.040012      4.355528   \n",
       "min       20.463333     17.200000     28.766667     15.100000     27.660000   \n",
       "25%       37.900000     20.790000     36.900000     19.533333     35.530000   \n",
       "50%       40.500000     22.100000     38.560000     20.666667     38.400000   \n",
       "75%       43.290000     23.290000     41.790000     22.100000     42.193333   \n",
       "max       56.026667     29.200000     50.163333     26.200000     51.090000   \n",
       "\n",
       "       ...            T9          RH_9         T_out   Press_mm_hg  \\\n",
       "count  ...  14801.000000  14801.000000  14801.000000  14801.000000   \n",
       "mean   ...     19.484679     41.567732      7.422035    755.561311   \n",
       "std    ...      2.010610      4.167305      5.304241      7.398129   \n",
       "min    ...     14.890000     29.166667     -5.000000    729.366667   \n",
       "25%    ...     18.000000     38.500000      3.700000    750.983333   \n",
       "50%    ...     19.390000     40.900000      6.933333    756.100000   \n",
       "75%    ...     20.600000     44.363333     10.433333    760.966667   \n",
       "max    ...     24.500000     53.326667     26.033333    772.300000   \n",
       "\n",
       "             RH_out     Windspeed    Visibility     Tdewpoint           rv1  \\\n",
       "count  14801.000000  14801.000000  14801.000000  14801.000000  14801.000000   \n",
       "mean      79.744066      4.057009     38.345054      3.768053     25.014452   \n",
       "std       14.952250      2.449080     11.785900      4.189370     14.539819   \n",
       "min       24.500000      0.000000      1.000000     -6.600000      0.006033   \n",
       "25%       70.000000      2.000000     29.000000      0.933333     12.469764   \n",
       "50%       83.833333      3.666667     40.000000      3.450000     24.936900   \n",
       "75%       91.666667      5.500000     40.000000      6.566667     37.736202   \n",
       "max      100.000000     14.000000     66.000000     15.500000     49.993173   \n",
       "\n",
       "                rv2  \n",
       "count  14801.000000  \n",
       "mean      25.014452  \n",
       "std       14.539819  \n",
       "min        0.006033  \n",
       "25%       12.469764  \n",
       "50%       24.936900  \n",
       "75%       37.736202  \n",
       "max       49.993173  \n",
       "\n",
       "[8 rows x 28 columns]"
      ]
     },
     "execution_count": 9,
     "metadata": {},
     "output_type": "execute_result"
    }
   ],
   "source": [
    "train.describe()"
   ]
  },
  {
   "cell_type": "markdown",
   "metadata": {
    "_uuid": "a5f62a5111567937f33dd522f73be6ab39b61a49"
   },
   "source": [
    "### Given this is not a timeseries problem and we will focus on predicting the appliance consumption  , we can ignore Date column"
   ]
  },
  {
   "cell_type": "code",
   "execution_count": 10,
   "metadata": {
    "_uuid": "195c469bd3bf059fad00bdbb1f58fa72d1af3ed2"
   },
   "outputs": [],
   "source": [
    "# Divide the columns based on type for clear column management \n",
    "\n",
    "col_temp = [\"T1\",\"T2\",\"T3\",\"T4\",\"T5\",\"T6\",\"T7\",\"T8\",\"T9\"]\n",
    "\n",
    "col_hum = [\"RH_1\",\"RH_2\",\"RH_3\",\"RH_4\",\"RH_5\",\"RH_6\",\"RH_7\",\"RH_8\",\"RH_9\"]\n",
    "\n",
    "col_weather = [\"T_out\", \"Tdewpoint\",\"RH_out\",\"Press_mm_hg\",\n",
    "                \"Windspeed\",\"Visibility\"] \n",
    "col_light = [\"lights\"]\n",
    "\n",
    "col_randoms = [\"rv1\", \"rv2\"]\n",
    "\n",
    "col_target = [\"Appliances\"]"
   ]
  },
  {
   "cell_type": "code",
   "execution_count": 11,
   "metadata": {
    "_uuid": "5d254cd81914f1ba138776237eab5ab5cb465e44"
   },
   "outputs": [],
   "source": [
    "# Seperate dependent and independent variables \n",
    "feature_vars = train[col_temp + col_hum + col_weather + col_light + col_randoms ]\n",
    "target_vars = train[col_target]"
   ]
  },
  {
   "cell_type": "code",
   "execution_count": 12,
   "metadata": {
    "_uuid": "172f380104d2ffa90fbb290fc672ad0f9389758f"
   },
   "outputs": [
    {
     "data": {
      "text/html": [
       "<div>\n",
       "<style scoped>\n",
       "    .dataframe tbody tr th:only-of-type {\n",
       "        vertical-align: middle;\n",
       "    }\n",
       "\n",
       "    .dataframe tbody tr th {\n",
       "        vertical-align: top;\n",
       "    }\n",
       "\n",
       "    .dataframe thead th {\n",
       "        text-align: right;\n",
       "    }\n",
       "</style>\n",
       "<table border=\"1\" class=\"dataframe\">\n",
       "  <thead>\n",
       "    <tr style=\"text-align: right;\">\n",
       "      <th></th>\n",
       "      <th>T1</th>\n",
       "      <th>T2</th>\n",
       "      <th>T3</th>\n",
       "      <th>T4</th>\n",
       "      <th>T5</th>\n",
       "      <th>T6</th>\n",
       "      <th>T7</th>\n",
       "      <th>T8</th>\n",
       "      <th>T9</th>\n",
       "      <th>RH_1</th>\n",
       "      <th>...</th>\n",
       "      <th>RH_9</th>\n",
       "      <th>T_out</th>\n",
       "      <th>Tdewpoint</th>\n",
       "      <th>RH_out</th>\n",
       "      <th>Press_mm_hg</th>\n",
       "      <th>Windspeed</th>\n",
       "      <th>Visibility</th>\n",
       "      <th>lights</th>\n",
       "      <th>rv1</th>\n",
       "      <th>rv2</th>\n",
       "    </tr>\n",
       "  </thead>\n",
       "  <tbody>\n",
       "    <tr>\n",
       "      <th>count</th>\n",
       "      <td>14801.000000</td>\n",
       "      <td>14801.000000</td>\n",
       "      <td>14801.000000</td>\n",
       "      <td>14801.000000</td>\n",
       "      <td>14801.000000</td>\n",
       "      <td>14801.000000</td>\n",
       "      <td>14801.000000</td>\n",
       "      <td>14801.000000</td>\n",
       "      <td>14801.000000</td>\n",
       "      <td>14801.000000</td>\n",
       "      <td>...</td>\n",
       "      <td>14801.000000</td>\n",
       "      <td>14801.000000</td>\n",
       "      <td>14801.000000</td>\n",
       "      <td>14801.000000</td>\n",
       "      <td>14801.000000</td>\n",
       "      <td>14801.000000</td>\n",
       "      <td>14801.000000</td>\n",
       "      <td>14801.000000</td>\n",
       "      <td>14801.000000</td>\n",
       "      <td>14801.000000</td>\n",
       "    </tr>\n",
       "    <tr>\n",
       "      <th>mean</th>\n",
       "      <td>21.685153</td>\n",
       "      <td>20.343487</td>\n",
       "      <td>22.268005</td>\n",
       "      <td>20.857724</td>\n",
       "      <td>19.589105</td>\n",
       "      <td>7.923834</td>\n",
       "      <td>20.264300</td>\n",
       "      <td>22.028348</td>\n",
       "      <td>19.484679</td>\n",
       "      <td>40.271333</td>\n",
       "      <td>...</td>\n",
       "      <td>41.567732</td>\n",
       "      <td>7.422035</td>\n",
       "      <td>3.768053</td>\n",
       "      <td>79.744066</td>\n",
       "      <td>755.561311</td>\n",
       "      <td>4.057009</td>\n",
       "      <td>38.345054</td>\n",
       "      <td>3.809202</td>\n",
       "      <td>25.014452</td>\n",
       "      <td>25.014452</td>\n",
       "    </tr>\n",
       "    <tr>\n",
       "      <th>std</th>\n",
       "      <td>1.605537</td>\n",
       "      <td>2.199037</td>\n",
       "      <td>1.999986</td>\n",
       "      <td>2.040012</td>\n",
       "      <td>1.842916</td>\n",
       "      <td>6.083047</td>\n",
       "      <td>2.105079</td>\n",
       "      <td>1.951399</td>\n",
       "      <td>2.010610</td>\n",
       "      <td>3.983201</td>\n",
       "      <td>...</td>\n",
       "      <td>4.167305</td>\n",
       "      <td>5.304241</td>\n",
       "      <td>4.189370</td>\n",
       "      <td>14.952250</td>\n",
       "      <td>7.398129</td>\n",
       "      <td>2.449080</td>\n",
       "      <td>11.785900</td>\n",
       "      <td>7.940816</td>\n",
       "      <td>14.539819</td>\n",
       "      <td>14.539819</td>\n",
       "    </tr>\n",
       "    <tr>\n",
       "      <th>min</th>\n",
       "      <td>16.790000</td>\n",
       "      <td>16.100000</td>\n",
       "      <td>17.200000</td>\n",
       "      <td>15.100000</td>\n",
       "      <td>15.335000</td>\n",
       "      <td>-6.065000</td>\n",
       "      <td>15.390000</td>\n",
       "      <td>16.306667</td>\n",
       "      <td>14.890000</td>\n",
       "      <td>27.233333</td>\n",
       "      <td>...</td>\n",
       "      <td>29.166667</td>\n",
       "      <td>-5.000000</td>\n",
       "      <td>-6.600000</td>\n",
       "      <td>24.500000</td>\n",
       "      <td>729.366667</td>\n",
       "      <td>0.000000</td>\n",
       "      <td>1.000000</td>\n",
       "      <td>0.000000</td>\n",
       "      <td>0.006033</td>\n",
       "      <td>0.006033</td>\n",
       "    </tr>\n",
       "    <tr>\n",
       "      <th>25%</th>\n",
       "      <td>20.745000</td>\n",
       "      <td>18.790000</td>\n",
       "      <td>20.790000</td>\n",
       "      <td>19.533333</td>\n",
       "      <td>18.290000</td>\n",
       "      <td>3.663333</td>\n",
       "      <td>18.700000</td>\n",
       "      <td>20.790000</td>\n",
       "      <td>18.000000</td>\n",
       "      <td>37.363333</td>\n",
       "      <td>...</td>\n",
       "      <td>38.500000</td>\n",
       "      <td>3.700000</td>\n",
       "      <td>0.933333</td>\n",
       "      <td>70.000000</td>\n",
       "      <td>750.983333</td>\n",
       "      <td>2.000000</td>\n",
       "      <td>29.000000</td>\n",
       "      <td>0.000000</td>\n",
       "      <td>12.469764</td>\n",
       "      <td>12.469764</td>\n",
       "    </tr>\n",
       "    <tr>\n",
       "      <th>50%</th>\n",
       "      <td>21.600000</td>\n",
       "      <td>20.000000</td>\n",
       "      <td>22.100000</td>\n",
       "      <td>20.666667</td>\n",
       "      <td>19.390000</td>\n",
       "      <td>7.300000</td>\n",
       "      <td>20.028571</td>\n",
       "      <td>22.111111</td>\n",
       "      <td>19.390000</td>\n",
       "      <td>39.656667</td>\n",
       "      <td>...</td>\n",
       "      <td>40.900000</td>\n",
       "      <td>6.933333</td>\n",
       "      <td>3.450000</td>\n",
       "      <td>83.833333</td>\n",
       "      <td>756.100000</td>\n",
       "      <td>3.666667</td>\n",
       "      <td>40.000000</td>\n",
       "      <td>0.000000</td>\n",
       "      <td>24.936900</td>\n",
       "      <td>24.936900</td>\n",
       "    </tr>\n",
       "    <tr>\n",
       "      <th>75%</th>\n",
       "      <td>22.600000</td>\n",
       "      <td>21.533333</td>\n",
       "      <td>23.290000</td>\n",
       "      <td>22.100000</td>\n",
       "      <td>20.633333</td>\n",
       "      <td>11.293333</td>\n",
       "      <td>21.600000</td>\n",
       "      <td>23.390000</td>\n",
       "      <td>20.600000</td>\n",
       "      <td>43.090000</td>\n",
       "      <td>...</td>\n",
       "      <td>44.363333</td>\n",
       "      <td>10.433333</td>\n",
       "      <td>6.566667</td>\n",
       "      <td>91.666667</td>\n",
       "      <td>760.966667</td>\n",
       "      <td>5.500000</td>\n",
       "      <td>40.000000</td>\n",
       "      <td>0.000000</td>\n",
       "      <td>37.736202</td>\n",
       "      <td>37.736202</td>\n",
       "    </tr>\n",
       "    <tr>\n",
       "      <th>max</th>\n",
       "      <td>26.260000</td>\n",
       "      <td>29.856667</td>\n",
       "      <td>29.200000</td>\n",
       "      <td>26.200000</td>\n",
       "      <td>25.745000</td>\n",
       "      <td>28.290000</td>\n",
       "      <td>25.963333</td>\n",
       "      <td>27.230000</td>\n",
       "      <td>24.500000</td>\n",
       "      <td>63.360000</td>\n",
       "      <td>...</td>\n",
       "      <td>53.326667</td>\n",
       "      <td>26.033333</td>\n",
       "      <td>15.500000</td>\n",
       "      <td>100.000000</td>\n",
       "      <td>772.300000</td>\n",
       "      <td>14.000000</td>\n",
       "      <td>66.000000</td>\n",
       "      <td>60.000000</td>\n",
       "      <td>49.993173</td>\n",
       "      <td>49.993173</td>\n",
       "    </tr>\n",
       "  </tbody>\n",
       "</table>\n",
       "<p>8 rows × 27 columns</p>\n",
       "</div>"
      ],
      "text/plain": [
       "                 T1            T2            T3            T4            T5  \\\n",
       "count  14801.000000  14801.000000  14801.000000  14801.000000  14801.000000   \n",
       "mean      21.685153     20.343487     22.268005     20.857724     19.589105   \n",
       "std        1.605537      2.199037      1.999986      2.040012      1.842916   \n",
       "min       16.790000     16.100000     17.200000     15.100000     15.335000   \n",
       "25%       20.745000     18.790000     20.790000     19.533333     18.290000   \n",
       "50%       21.600000     20.000000     22.100000     20.666667     19.390000   \n",
       "75%       22.600000     21.533333     23.290000     22.100000     20.633333   \n",
       "max       26.260000     29.856667     29.200000     26.200000     25.745000   \n",
       "\n",
       "                 T6            T7            T8            T9          RH_1  \\\n",
       "count  14801.000000  14801.000000  14801.000000  14801.000000  14801.000000   \n",
       "mean       7.923834     20.264300     22.028348     19.484679     40.271333   \n",
       "std        6.083047      2.105079      1.951399      2.010610      3.983201   \n",
       "min       -6.065000     15.390000     16.306667     14.890000     27.233333   \n",
       "25%        3.663333     18.700000     20.790000     18.000000     37.363333   \n",
       "50%        7.300000     20.028571     22.111111     19.390000     39.656667   \n",
       "75%       11.293333     21.600000     23.390000     20.600000     43.090000   \n",
       "max       28.290000     25.963333     27.230000     24.500000     63.360000   \n",
       "\n",
       "       ...          RH_9         T_out     Tdewpoint        RH_out  \\\n",
       "count  ...  14801.000000  14801.000000  14801.000000  14801.000000   \n",
       "mean   ...     41.567732      7.422035      3.768053     79.744066   \n",
       "std    ...      4.167305      5.304241      4.189370     14.952250   \n",
       "min    ...     29.166667     -5.000000     -6.600000     24.500000   \n",
       "25%    ...     38.500000      3.700000      0.933333     70.000000   \n",
       "50%    ...     40.900000      6.933333      3.450000     83.833333   \n",
       "75%    ...     44.363333     10.433333      6.566667     91.666667   \n",
       "max    ...     53.326667     26.033333     15.500000    100.000000   \n",
       "\n",
       "        Press_mm_hg     Windspeed    Visibility        lights           rv1  \\\n",
       "count  14801.000000  14801.000000  14801.000000  14801.000000  14801.000000   \n",
       "mean     755.561311      4.057009     38.345054      3.809202     25.014452   \n",
       "std        7.398129      2.449080     11.785900      7.940816     14.539819   \n",
       "min      729.366667      0.000000      1.000000      0.000000      0.006033   \n",
       "25%      750.983333      2.000000     29.000000      0.000000     12.469764   \n",
       "50%      756.100000      3.666667     40.000000      0.000000     24.936900   \n",
       "75%      760.966667      5.500000     40.000000      0.000000     37.736202   \n",
       "max      772.300000     14.000000     66.000000     60.000000     49.993173   \n",
       "\n",
       "                rv2  \n",
       "count  14801.000000  \n",
       "mean      25.014452  \n",
       "std       14.539819  \n",
       "min        0.006033  \n",
       "25%       12.469764  \n",
       "50%       24.936900  \n",
       "75%       37.736202  \n",
       "max       49.993173  \n",
       "\n",
       "[8 rows x 27 columns]"
      ]
     },
     "execution_count": 12,
     "metadata": {},
     "output_type": "execute_result"
    }
   ],
   "source": [
    "feature_vars.describe()"
   ]
  },
  {
   "cell_type": "code",
   "execution_count": 13,
   "metadata": {
    "_uuid": "98c86bc0781587ec06b7a549389cb1d33694f2f7"
   },
   "outputs": [
    {
     "data": {
      "text/plain": [
       "0     11438\n",
       "10     1649\n",
       "20     1230\n",
       "30      414\n",
       "40       64\n",
       "50        5\n",
       "60        1\n",
       "Name: lights, dtype: int64"
      ]
     },
     "execution_count": 13,
     "metadata": {},
     "output_type": "execute_result"
    }
   ],
   "source": [
    "# Check the distribution of values in lights column\n",
    "feature_vars.lights.value_counts()"
   ]
  },
  {
   "cell_type": "code",
   "execution_count": 14,
   "metadata": {
    "_uuid": "df948e274c825632e2b2d88f167917069d521780"
   },
   "outputs": [
    {
     "data": {
      "text/html": [
       "<div>\n",
       "<style scoped>\n",
       "    .dataframe tbody tr th:only-of-type {\n",
       "        vertical-align: middle;\n",
       "    }\n",
       "\n",
       "    .dataframe tbody tr th {\n",
       "        vertical-align: top;\n",
       "    }\n",
       "\n",
       "    .dataframe thead th {\n",
       "        text-align: right;\n",
       "    }\n",
       "</style>\n",
       "<table border=\"1\" class=\"dataframe\">\n",
       "  <thead>\n",
       "    <tr style=\"text-align: right;\">\n",
       "      <th></th>\n",
       "      <th>Appliances</th>\n",
       "    </tr>\n",
       "  </thead>\n",
       "  <tbody>\n",
       "    <tr>\n",
       "      <th>count</th>\n",
       "      <td>14801.000000</td>\n",
       "    </tr>\n",
       "    <tr>\n",
       "      <th>mean</th>\n",
       "      <td>97.835281</td>\n",
       "    </tr>\n",
       "    <tr>\n",
       "      <th>std</th>\n",
       "      <td>102.928289</td>\n",
       "    </tr>\n",
       "    <tr>\n",
       "      <th>min</th>\n",
       "      <td>10.000000</td>\n",
       "    </tr>\n",
       "    <tr>\n",
       "      <th>25%</th>\n",
       "      <td>50.000000</td>\n",
       "    </tr>\n",
       "    <tr>\n",
       "      <th>50%</th>\n",
       "      <td>60.000000</td>\n",
       "    </tr>\n",
       "    <tr>\n",
       "      <th>75%</th>\n",
       "      <td>100.000000</td>\n",
       "    </tr>\n",
       "    <tr>\n",
       "      <th>max</th>\n",
       "      <td>1080.000000</td>\n",
       "    </tr>\n",
       "  </tbody>\n",
       "</table>\n",
       "</div>"
      ],
      "text/plain": [
       "         Appliances\n",
       "count  14801.000000\n",
       "mean      97.835281\n",
       "std      102.928289\n",
       "min       10.000000\n",
       "25%       50.000000\n",
       "50%       60.000000\n",
       "75%      100.000000\n",
       "max     1080.000000"
      ]
     },
     "execution_count": 14,
     "metadata": {},
     "output_type": "execute_result"
    }
   ],
   "source": [
    "target_vars.describe()"
   ]
  },
  {
   "cell_type": "markdown",
   "metadata": {
    "_uuid": "5c260c032604486d2b1568e7a2e9db1f750c6891"
   },
   "source": [
    "### Observations \n",
    "\n",
    "1. Temperature columns - Temperature inside the house varies between 14.89 Deg & 29.85 Deg , temperatire outside (T6) varies between  -6.06 Deg to 28.29 Deg . The reason for this variation is sensors are kept outside the house\n",
    "\n",
    "2. Humidiy columns - Humidity inside house varies is between 20.60% to 63.36% with exception of RH_5 (Bathroom) and RH_6 (Outside house) which varies between 29.82% to 96.32% and 1% to 99.9% respectively.\n",
    "\n",
    "3. Appliances - 75% of Appliance consumption is less than 100 Wh . With the maximum consumption of 1080 Wh , there will be outliers in this column and there are small number of cases where consumption is very high\n",
    "\n",
    "4. Lights column - Intially I believed lights column will be able to give useful information . With 11438 0 (zero) enteries in 14801 rows , this column will not add any value to the model . I believed light consumption along with humidity level in a room will give idea about human presence in the room and hence its impact on Appliance consumption. Hence for now , I will dropping this column "
   ]
  },
  {
   "cell_type": "code",
   "execution_count": 15,
   "metadata": {
    "_uuid": "c1d1619c62525e005494d1ac1892519b036a4b04"
   },
   "outputs": [],
   "source": [
    "# Due to lot of zero enteries this column is of not much use and will be ignored in rest of the model\n",
    "_ = feature_vars.drop(['lights'], axis=1 , inplace= True) ;"
   ]
  },
  {
   "cell_type": "code",
   "execution_count": 16,
   "metadata": {
    "_uuid": "c402139688501fe0744fc505fdd0843d21c77dbc"
   },
   "outputs": [
    {
     "data": {
      "text/html": [
       "<div>\n",
       "<style scoped>\n",
       "    .dataframe tbody tr th:only-of-type {\n",
       "        vertical-align: middle;\n",
       "    }\n",
       "\n",
       "    .dataframe tbody tr th {\n",
       "        vertical-align: top;\n",
       "    }\n",
       "\n",
       "    .dataframe thead th {\n",
       "        text-align: right;\n",
       "    }\n",
       "</style>\n",
       "<table border=\"1\" class=\"dataframe\">\n",
       "  <thead>\n",
       "    <tr style=\"text-align: right;\">\n",
       "      <th></th>\n",
       "      <th>T1</th>\n",
       "      <th>T2</th>\n",
       "      <th>T3</th>\n",
       "      <th>T4</th>\n",
       "      <th>T5</th>\n",
       "      <th>T6</th>\n",
       "      <th>T7</th>\n",
       "      <th>T8</th>\n",
       "      <th>T9</th>\n",
       "      <th>RH_1</th>\n",
       "      <th>...</th>\n",
       "      <th>RH_8</th>\n",
       "      <th>RH_9</th>\n",
       "      <th>T_out</th>\n",
       "      <th>Tdewpoint</th>\n",
       "      <th>RH_out</th>\n",
       "      <th>Press_mm_hg</th>\n",
       "      <th>Windspeed</th>\n",
       "      <th>Visibility</th>\n",
       "      <th>rv1</th>\n",
       "      <th>rv2</th>\n",
       "    </tr>\n",
       "  </thead>\n",
       "  <tbody>\n",
       "    <tr>\n",
       "      <th>9544</th>\n",
       "      <td>22.6</td>\n",
       "      <td>19.5</td>\n",
       "      <td>21.50</td>\n",
       "      <td>22.89</td>\n",
       "      <td>19.166667</td>\n",
       "      <td>2.863333</td>\n",
       "      <td>21.0</td>\n",
       "      <td>22.89</td>\n",
       "      <td>19.89</td>\n",
       "      <td>34.70</td>\n",
       "      <td>...</td>\n",
       "      <td>38.5</td>\n",
       "      <td>37.26</td>\n",
       "      <td>2.233333</td>\n",
       "      <td>0.4</td>\n",
       "      <td>87.666667</td>\n",
       "      <td>764.200000</td>\n",
       "      <td>1.333333</td>\n",
       "      <td>61.000000</td>\n",
       "      <td>43.195492</td>\n",
       "      <td>43.195492</td>\n",
       "    </tr>\n",
       "    <tr>\n",
       "      <th>19366</th>\n",
       "      <td>23.7</td>\n",
       "      <td>21.0</td>\n",
       "      <td>25.39</td>\n",
       "      <td>23.60</td>\n",
       "      <td>19.890000</td>\n",
       "      <td>5.500000</td>\n",
       "      <td>23.0</td>\n",
       "      <td>24.20</td>\n",
       "      <td>22.60</td>\n",
       "      <td>40.29</td>\n",
       "      <td>...</td>\n",
       "      <td>43.4</td>\n",
       "      <td>44.59</td>\n",
       "      <td>6.266667</td>\n",
       "      <td>5.3</td>\n",
       "      <td>93.666667</td>\n",
       "      <td>757.233333</td>\n",
       "      <td>1.000000</td>\n",
       "      <td>25.333333</td>\n",
       "      <td>46.369677</td>\n",
       "      <td>46.369677</td>\n",
       "    </tr>\n",
       "  </tbody>\n",
       "</table>\n",
       "<p>2 rows × 26 columns</p>\n",
       "</div>"
      ],
      "text/plain": [
       "         T1    T2     T3     T4         T5        T6    T7     T8     T9  \\\n",
       "9544   22.6  19.5  21.50  22.89  19.166667  2.863333  21.0  22.89  19.89   \n",
       "19366  23.7  21.0  25.39  23.60  19.890000  5.500000  23.0  24.20  22.60   \n",
       "\n",
       "        RH_1  ...  RH_8   RH_9     T_out  Tdewpoint     RH_out  Press_mm_hg  \\\n",
       "9544   34.70  ...  38.5  37.26  2.233333        0.4  87.666667   764.200000   \n",
       "19366  40.29  ...  43.4  44.59  6.266667        5.3  93.666667   757.233333   \n",
       "\n",
       "       Windspeed  Visibility        rv1        rv2  \n",
       "9544    1.333333   61.000000  43.195492  43.195492  \n",
       "19366   1.000000   25.333333  46.369677  46.369677  \n",
       "\n",
       "[2 rows x 26 columns]"
      ]
     },
     "execution_count": 16,
     "metadata": {},
     "output_type": "execute_result"
    }
   ],
   "source": [
    "feature_vars.head(2)"
   ]
  },
  {
   "cell_type": "markdown",
   "metadata": {
    "_uuid": "1b24de57c1880f4c0eef15c1e83eb679bd1cabaf"
   },
   "source": [
    "# Data Visualization"
   ]
  },
  {
   "cell_type": "code",
   "execution_count": 17,
   "metadata": {
    "_uuid": "8ce88b31019db1d0c3641892b39f95d5cca62a3d"
   },
   "outputs": [
    {
     "ename": "ImportError",
     "evalue": "\nThe plotly.plotly module is deprecated,\nplease install the chart-studio package and use the\nchart_studio.plotly module instead. \n",
     "output_type": "error",
     "traceback": [
      "\u001b[0;31m---------------------------------------------------------------------------\u001b[0m",
      "\u001b[0;31mImportError\u001b[0m                               Traceback (most recent call last)",
      "\u001b[0;32m<ipython-input-17-37344a914136>\u001b[0m in \u001b[0;36m<module>\u001b[0;34m\u001b[0m\n\u001b[1;32m      1\u001b[0m \u001b[0;31m# plotly\u001b[0m\u001b[0;34m\u001b[0m\u001b[0;34m\u001b[0m\u001b[0m\n\u001b[0;32m----> 2\u001b[0;31m \u001b[0;32mimport\u001b[0m \u001b[0mplotly\u001b[0m\u001b[0;34m.\u001b[0m\u001b[0mplotly\u001b[0m \u001b[0;32mas\u001b[0m \u001b[0mpy\u001b[0m\u001b[0;34m\u001b[0m\u001b[0m\n\u001b[0m\u001b[1;32m      3\u001b[0m \u001b[0;32mfrom\u001b[0m \u001b[0mplotly\u001b[0m\u001b[0;34m.\u001b[0m\u001b[0moffline\u001b[0m \u001b[0;32mimport\u001b[0m \u001b[0minit_notebook_mode\u001b[0m\u001b[0;34m,\u001b[0m \u001b[0miplot\u001b[0m\u001b[0;34m\u001b[0m\u001b[0m\n\u001b[1;32m      4\u001b[0m \u001b[0minit_notebook_mode\u001b[0m\u001b[0;34m(\u001b[0m\u001b[0mconnected\u001b[0m\u001b[0;34m=\u001b[0m\u001b[0;32mTrue\u001b[0m\u001b[0;34m)\u001b[0m\u001b[0;34m\u001b[0m\u001b[0m\n\u001b[1;32m      5\u001b[0m \u001b[0;32mimport\u001b[0m \u001b[0mplotly\u001b[0m\u001b[0;34m.\u001b[0m\u001b[0mgraph_objs\u001b[0m \u001b[0;32mas\u001b[0m \u001b[0mgo\u001b[0m\u001b[0;34m\u001b[0m\u001b[0m\n",
      "\u001b[0;32m/opt/conda/lib/python3.6/site-packages/plotly/plotly/__init__.py\u001b[0m in \u001b[0;36m<module>\u001b[0;34m\u001b[0m\n\u001b[1;32m      2\u001b[0m \u001b[0;32mfrom\u001b[0m \u001b[0m_plotly_future_\u001b[0m \u001b[0;32mimport\u001b[0m \u001b[0m_chart_studio_error\u001b[0m\u001b[0;34m\u001b[0m\u001b[0m\n\u001b[1;32m      3\u001b[0m \u001b[0;34m\u001b[0m\u001b[0m\n\u001b[0;32m----> 4\u001b[0;31m \u001b[0m_chart_studio_error\u001b[0m\u001b[0;34m(\u001b[0m\u001b[0;34m\"plotly\"\u001b[0m\u001b[0;34m)\u001b[0m\u001b[0;34m\u001b[0m\u001b[0m\n\u001b[0m",
      "\u001b[0;32m/opt/conda/lib/python3.6/site-packages/_plotly_future_/__init__.py\u001b[0m in \u001b[0;36m_chart_studio_error\u001b[0;34m(submodule)\u001b[0m\n\u001b[1;32m     47\u001b[0m \u001b[0mchart_studio\u001b[0m\u001b[0;34m.\u001b[0m\u001b[0;34m{\u001b[0m\u001b[0msubmodule\u001b[0m\u001b[0;34m}\u001b[0m \u001b[0mmodule\u001b[0m \u001b[0minstead\u001b[0m\u001b[0;34m.\u001b[0m\u001b[0;34m\u001b[0m\u001b[0m\n\u001b[1;32m     48\u001b[0m \"\"\".format(\n\u001b[0;32m---> 49\u001b[0;31m             \u001b[0msubmodule\u001b[0m\u001b[0;34m=\u001b[0m\u001b[0msubmodule\u001b[0m\u001b[0;34m\u001b[0m\u001b[0m\n\u001b[0m\u001b[1;32m     50\u001b[0m         )\n\u001b[1;32m     51\u001b[0m     )\n",
      "\u001b[0;31mImportError\u001b[0m: \nThe plotly.plotly module is deprecated,\nplease install the chart-studio package and use the\nchart_studio.plotly module instead. \n"
     ]
    }
   ],
   "source": [
    "# plotly\n",
    "import plotly.plotly as py\n",
    "from plotly.offline import init_notebook_mode, iplot\n",
    "init_notebook_mode(connected=True)\n",
    "import plotly.graph_objs as go\n",
    "\n",
    "# To understand the timeseries variation of the applaince energy consumption\n",
    "visData = go.Scatter( x= data.date  ,  mode = \"lines\", y = data.Appliances )\n",
    "layout = go.Layout(title = 'Appliance energy consumption measurement' , xaxis=dict(title='Date'), yaxis=dict(title='(Wh)'))\n",
    "fig = go.Figure(data=[visData],layout=layout)\n",
    "\n",
    "iplot(fig)"
   ]
  },
  {
   "cell_type": "code",
   "execution_count": 18,
   "metadata": {
    "_uuid": "268f6ff19b9c4696b2cc7dd89914a61c566fedaf"
   },
   "outputs": [
    {
     "data": {
      "text/plain": [
       "0.0    14263\n",
       "1.0     5472\n",
       "Name: WEEKDAY, dtype: int64"
      ]
     },
     "execution_count": 18,
     "metadata": {},
     "output_type": "execute_result"
    }
   ],
   "source": [
    "# Adding column to mark weekdays (0) and weekends(1) for time series evaluation , \n",
    "# decided not to use it for model evaluation as it has least impact\n",
    "\n",
    "data['WEEKDAY'] = ((pd.to_datetime(data['date']).dt.dayofweek)// 5 == 1).astype(float)\n",
    "# There are 5472 weekend recordings \n",
    "data['WEEKDAY'].value_counts()"
   ]
  },
  {
   "cell_type": "code",
   "execution_count": 19,
   "metadata": {
    "_uuid": "bb6d0faee672db1e19a56008dacf1dfe8ecf9367"
   },
   "outputs": [
    {
     "ename": "NameError",
     "evalue": "name 'go' is not defined",
     "output_type": "error",
     "traceback": [
      "\u001b[0;31m---------------------------------------------------------------------------\u001b[0m",
      "\u001b[0;31mNameError\u001b[0m                                 Traceback (most recent call last)",
      "\u001b[0;32m<ipython-input-19-f476be6c04ab>\u001b[0m in \u001b[0;36m<module>\u001b[0;34m\u001b[0m\n\u001b[1;32m      2\u001b[0m \u001b[0mtemp_weekday\u001b[0m \u001b[0;34m=\u001b[0m  \u001b[0mdata\u001b[0m\u001b[0;34m[\u001b[0m\u001b[0mdata\u001b[0m\u001b[0;34m[\u001b[0m\u001b[0;34m'WEEKDAY'\u001b[0m\u001b[0;34m]\u001b[0m \u001b[0;34m==\u001b[0m \u001b[0;36m0\u001b[0m\u001b[0;34m]\u001b[0m\u001b[0;34m\u001b[0m\u001b[0m\n\u001b[1;32m      3\u001b[0m \u001b[0;31m# To understand the timeseries variation of the applaince energy consumption\u001b[0m\u001b[0;34m\u001b[0m\u001b[0;34m\u001b[0m\u001b[0m\n\u001b[0;32m----> 4\u001b[0;31m \u001b[0mvisData\u001b[0m \u001b[0;34m=\u001b[0m \u001b[0mgo\u001b[0m\u001b[0;34m.\u001b[0m\u001b[0mScatter\u001b[0m\u001b[0;34m(\u001b[0m \u001b[0mx\u001b[0m\u001b[0;34m=\u001b[0m \u001b[0mtemp_weekday\u001b[0m\u001b[0;34m.\u001b[0m\u001b[0mdate\u001b[0m  \u001b[0;34m,\u001b[0m  \u001b[0mmode\u001b[0m \u001b[0;34m=\u001b[0m \u001b[0;34m\"lines\"\u001b[0m\u001b[0;34m,\u001b[0m \u001b[0my\u001b[0m \u001b[0;34m=\u001b[0m \u001b[0mtemp_weekday\u001b[0m\u001b[0;34m.\u001b[0m\u001b[0mAppliances\u001b[0m \u001b[0;34m)\u001b[0m\u001b[0;34m\u001b[0m\u001b[0m\n\u001b[0m\u001b[1;32m      5\u001b[0m \u001b[0mlayout\u001b[0m \u001b[0;34m=\u001b[0m \u001b[0mgo\u001b[0m\u001b[0;34m.\u001b[0m\u001b[0mLayout\u001b[0m\u001b[0;34m(\u001b[0m\u001b[0mtitle\u001b[0m \u001b[0;34m=\u001b[0m \u001b[0;34m'Appliance energy consumption measurement on weekdays'\u001b[0m \u001b[0;34m,\u001b[0m \u001b[0mxaxis\u001b[0m\u001b[0;34m=\u001b[0m\u001b[0mdict\u001b[0m\u001b[0;34m(\u001b[0m\u001b[0mtitle\u001b[0m\u001b[0;34m=\u001b[0m\u001b[0;34m'Date'\u001b[0m\u001b[0;34m)\u001b[0m\u001b[0;34m,\u001b[0m \u001b[0myaxis\u001b[0m\u001b[0;34m=\u001b[0m\u001b[0mdict\u001b[0m\u001b[0;34m(\u001b[0m\u001b[0mtitle\u001b[0m\u001b[0;34m=\u001b[0m\u001b[0;34m'(Wh)'\u001b[0m\u001b[0;34m)\u001b[0m\u001b[0;34m)\u001b[0m\u001b[0;34m\u001b[0m\u001b[0m\n\u001b[1;32m      6\u001b[0m \u001b[0mfig\u001b[0m \u001b[0;34m=\u001b[0m \u001b[0mgo\u001b[0m\u001b[0;34m.\u001b[0m\u001b[0mFigure\u001b[0m\u001b[0;34m(\u001b[0m\u001b[0mdata\u001b[0m\u001b[0;34m=\u001b[0m\u001b[0;34m[\u001b[0m\u001b[0mvisData\u001b[0m\u001b[0;34m]\u001b[0m\u001b[0;34m,\u001b[0m\u001b[0mlayout\u001b[0m\u001b[0;34m=\u001b[0m\u001b[0mlayout\u001b[0m\u001b[0;34m)\u001b[0m\u001b[0;34m\u001b[0m\u001b[0m\n",
      "\u001b[0;31mNameError\u001b[0m: name 'go' is not defined"
     ]
    }
   ],
   "source": [
    "# Find rows with weekday \n",
    "temp_weekday =  data[data['WEEKDAY'] == 0]\n",
    "# To understand the timeseries variation of the applaince energy consumption\n",
    "visData = go.Scatter( x= temp_weekday.date  ,  mode = \"lines\", y = temp_weekday.Appliances )\n",
    "layout = go.Layout(title = 'Appliance energy consumption measurement on weekdays' , xaxis=dict(title='Date'), yaxis=dict(title='(Wh)'))\n",
    "fig = go.Figure(data=[visData],layout=layout)\n",
    "\n",
    "iplot(fig)"
   ]
  },
  {
   "cell_type": "code",
   "execution_count": 20,
   "metadata": {
    "_uuid": "7f2e88109976a0936bf35f23ea84c7fb772e95a5"
   },
   "outputs": [
    {
     "ename": "NameError",
     "evalue": "name 'go' is not defined",
     "output_type": "error",
     "traceback": [
      "\u001b[0;31m---------------------------------------------------------------------------\u001b[0m",
      "\u001b[0;31mNameError\u001b[0m                                 Traceback (most recent call last)",
      "\u001b[0;32m<ipython-input-20-aaacfe04972c>\u001b[0m in \u001b[0;36m<module>\u001b[0;34m\u001b[0m\n\u001b[1;32m      4\u001b[0m \u001b[0;34m\u001b[0m\u001b[0m\n\u001b[1;32m      5\u001b[0m \u001b[0;31m# To understand the timeseries variation of the applaince energy consumption\u001b[0m\u001b[0;34m\u001b[0m\u001b[0;34m\u001b[0m\u001b[0m\n\u001b[0;32m----> 6\u001b[0;31m \u001b[0mvisData\u001b[0m \u001b[0;34m=\u001b[0m \u001b[0mgo\u001b[0m\u001b[0;34m.\u001b[0m\u001b[0mScatter\u001b[0m\u001b[0;34m(\u001b[0m \u001b[0mx\u001b[0m\u001b[0;34m=\u001b[0m \u001b[0mtemp_weekend\u001b[0m\u001b[0;34m.\u001b[0m\u001b[0mdate\u001b[0m  \u001b[0;34m,\u001b[0m  \u001b[0mmode\u001b[0m \u001b[0;34m=\u001b[0m \u001b[0;34m\"lines\"\u001b[0m\u001b[0;34m,\u001b[0m \u001b[0my\u001b[0m \u001b[0;34m=\u001b[0m \u001b[0mtemp_weekend\u001b[0m\u001b[0;34m.\u001b[0m\u001b[0mAppliances\u001b[0m \u001b[0;34m)\u001b[0m\u001b[0;34m\u001b[0m\u001b[0m\n\u001b[0m\u001b[1;32m      7\u001b[0m \u001b[0mlayout\u001b[0m \u001b[0;34m=\u001b[0m \u001b[0mgo\u001b[0m\u001b[0;34m.\u001b[0m\u001b[0mLayout\u001b[0m\u001b[0;34m(\u001b[0m\u001b[0mtitle\u001b[0m \u001b[0;34m=\u001b[0m \u001b[0;34m'Appliance energy consumption measurement on weekend'\u001b[0m \u001b[0;34m,\u001b[0m \u001b[0mxaxis\u001b[0m\u001b[0;34m=\u001b[0m\u001b[0mdict\u001b[0m\u001b[0;34m(\u001b[0m\u001b[0mtitle\u001b[0m\u001b[0;34m=\u001b[0m\u001b[0;34m'Date'\u001b[0m\u001b[0;34m)\u001b[0m\u001b[0;34m,\u001b[0m \u001b[0myaxis\u001b[0m\u001b[0;34m=\u001b[0m\u001b[0mdict\u001b[0m\u001b[0;34m(\u001b[0m\u001b[0mtitle\u001b[0m\u001b[0;34m=\u001b[0m\u001b[0;34m'(Wh)'\u001b[0m\u001b[0;34m)\u001b[0m\u001b[0;34m)\u001b[0m\u001b[0;34m\u001b[0m\u001b[0m\n\u001b[1;32m      8\u001b[0m \u001b[0mfig\u001b[0m \u001b[0;34m=\u001b[0m \u001b[0mgo\u001b[0m\u001b[0;34m.\u001b[0m\u001b[0mFigure\u001b[0m\u001b[0;34m(\u001b[0m\u001b[0mdata\u001b[0m\u001b[0;34m=\u001b[0m\u001b[0;34m[\u001b[0m\u001b[0mvisData\u001b[0m\u001b[0;34m]\u001b[0m\u001b[0;34m,\u001b[0m\u001b[0mlayout\u001b[0m\u001b[0;34m=\u001b[0m\u001b[0mlayout\u001b[0m\u001b[0;34m)\u001b[0m\u001b[0;34m\u001b[0m\u001b[0m\n",
      "\u001b[0;31mNameError\u001b[0m: name 'go' is not defined"
     ]
    }
   ],
   "source": [
    "# Find rows with weekday \n",
    "\n",
    "temp_weekend =  data[data['WEEKDAY'] == 1]\n",
    "\n",
    "# To understand the timeseries variation of the applaince energy consumption\n",
    "visData = go.Scatter( x= temp_weekend.date  ,  mode = \"lines\", y = temp_weekend.Appliances )\n",
    "layout = go.Layout(title = 'Appliance energy consumption measurement on weekend' , xaxis=dict(title='Date'), yaxis=dict(title='(Wh)'))\n",
    "fig = go.Figure(data=[visData],layout=layout)\n",
    "\n",
    "iplot(fig)"
   ]
  },
  {
   "cell_type": "code",
   "execution_count": 21,
   "metadata": {
    "_uuid": "40b7ed7dfabf40182446b615e3dcaef16f863112"
   },
   "outputs": [
    {
     "data": {
      "image/png": "[encoded data removed]",
      "text/plain": [
       "<Figure size 864x1152 with 30 Axes>"
      ]
     },
     "metadata": {
      "needs_background": "light"
     },
     "output_type": "display_data"
    }
   ],
   "source": [
    "# Histogram of all the features to understand the distribution\n",
    "feature_vars.hist(bins = 20 , figsize= (12,16)) ;"
   ]
  },
  {
   "cell_type": "code",
   "execution_count": 22,
   "metadata": {
    "_uuid": "90f813fddece0fd1401a489b370db8bc3b843e0e"
   },
   "outputs": [
    {
     "data": {
      "image/png": "[encoded data removed]",
      "text/plain": [
       "<Figure size 864x576 with 4 Axes>"
      ]
     },
     "metadata": {
      "needs_background": "light"
     },
     "output_type": "display_data"
    }
   ],
   "source": [
    "# focussed displots for RH_6 , RH_out , Visibility , Windspeed due to irregular distribution\n",
    "f, ax = plt.subplots(2,2,figsize=(12,8))\n",
    "vis1 = sns.distplot(feature_vars[\"RH_6\"],bins=10, ax= ax[0][0])\n",
    "vis2 = sns.distplot(feature_vars[\"RH_out\"],bins=10, ax=ax[0][1])\n",
    "vis3 = sns.distplot(feature_vars[\"Visibility\"],bins=10, ax=ax[1][0])\n",
    "vis4 = sns.distplot(feature_vars[\"Windspeed\"],bins=10, ax=ax[1][1])"
   ]
  },
  {
   "cell_type": "code",
   "execution_count": 23,
   "metadata": {
    "_uuid": "7b027a2b969e9723a092d5498b5667da3629d559"
   },
   "outputs": [
    {
     "data": {
      "image/png": "[encoded data removed]",
      "text/plain": [
       "<Figure size 864x360 with 1 Axes>"
      ]
     },
     "metadata": {
      "needs_background": "light"
     },
     "output_type": "display_data"
    }
   ],
   "source": [
    "# Distribution of values in Applainces column\n",
    "f = plt.figure(figsize=(12,5))\n",
    "plt.xlabel('Appliance consumption in Wh')\n",
    "plt.ylabel('Frequency')\n",
    "sns.distplot(target_vars , bins=10 ) ;"
   ]
  },
  {
   "cell_type": "markdown",
   "metadata": {
    "_uuid": "6ccab7a6fdd0c37c087d8e1386fe561073a53eef"
   },
   "source": [
    "### Observations \n",
    "\n",
    "1. Temperature - All the columns follow normal distribution except T9\n",
    "2. Humidity - All columns follow normal distribution except RH_6 and RH_out , primarly because these sensors are outside the house \n",
    "3. Appliance - This column is postively skewed , most the values are around mean 100 Wh . There are outliers in this column \n",
    "4. Visibilty - This column is negatively skewed\n",
    "5. Windspeed - This column is postively skewed\n"
   ]
  },
  {
   "cell_type": "code",
   "execution_count": 24,
   "metadata": {
    "_uuid": "4c950e6df1371fe9b855a1e9a8614eb823596fbf"
   },
   "outputs": [
    {
     "name": "stdout",
     "output_type": "stream",
     "text": [
      "Percentage of the appliance consumption is less than 200 Wh\n",
      "Appliances    90.250659\n",
      "dtype: float64\n"
     ]
    }
   ],
   "source": [
    "#Appliance column range with consumption less than 200 Wh\n",
    "print('Percentage of the appliance consumption is less than 200 Wh')\n",
    "print(((target_vars[target_vars <= 200].count()) / (len(target_vars)))*100 )"
   ]
  },
  {
   "cell_type": "markdown",
   "metadata": {
    "_uuid": "9f8723bf9f8f79235f25918c9db92326242dc141"
   },
   "source": [
    "### Correlation Plots"
   ]
  },
  {
   "cell_type": "code",
   "execution_count": 25,
   "metadata": {
    "_uuid": "deab4ea17925778f6ec7653f7cfd4ac8c4fe3efd"
   },
   "outputs": [
    {
     "data": {
      "image/png": "[encoded data removed]",
      "text/plain": [
       "<Figure size 1152x1008 with 2 Axes>"
      ]
     },
     "metadata": {
      "needs_background": "light"
     },
     "output_type": "display_data"
    }
   ],
   "source": [
    "# Use the weather , temperature , applainces and random column to see the correlation\n",
    "train_corr = train[col_temp + col_hum + col_weather +col_target+col_randoms]\n",
    "corr = train_corr.corr()\n",
    "# Mask the repeated values\n",
    "mask = np.zeros_like(corr, dtype=np.bool)\n",
    "mask[np.triu_indices_from(mask)] = True\n",
    "  \n",
    "f, ax = plt.subplots(figsize=(16, 14))\n",
    "#Generate Heat Map, allow annotations and place floats in map\n",
    "sns.heatmap(corr, annot=True, fmt=\".2f\" , mask=mask,)\n",
    "    #Apply xticks\n",
    "plt.xticks(range(len(corr.columns)), corr.columns);\n",
    "    #Apply yticks\n",
    "plt.yticks(range(len(corr.columns)), corr.columns)\n",
    "    #show plot\n",
    "plt.show()"
   ]
  },
  {
   "cell_type": "code",
   "execution_count": 26,
   "metadata": {
    "_uuid": "e691f027940a7215bdbc3888b9e5373c121aa45c"
   },
   "outputs": [
    {
     "name": "stdout",
     "output_type": "stream",
     "text": [
      "Top Absolute Correlations\n",
      "rv1   rv2      1.000000\n",
      "T6    T_out    0.974683\n",
      "T7    T9       0.943921\n",
      "T5    T9       0.910009\n",
      "T3    T9       0.900209\n",
      "RH_3  RH_4     0.899889\n",
      "RH_4  RH_7     0.895120\n",
      "T1    T3       0.892292\n",
      "T4    T9       0.888264\n",
      "T3    T5       0.887545\n",
      "RH_7  RH_8     0.884849\n",
      "T1    T5       0.884692\n",
      "T7    T8       0.881513\n",
      "RH_1  RH_4     0.880504\n",
      "T1    T4       0.876682\n",
      "T4    T7       0.876677\n",
      "      T5       0.871733\n",
      "T5    T7       0.869655\n",
      "T8    T9       0.868251\n",
      "RH_7  RH_9     0.860155\n",
      "RH_4  RH_9     0.858454\n",
      "RH_8  RH_9     0.857476\n",
      "T3    T4       0.851790\n",
      "RH_4  RH_8     0.848829\n",
      "T3    T7       0.846021\n",
      "RH_1  RH_3     0.845592\n",
      "T1    T9       0.842862\n",
      "      T7       0.837079\n",
      "      T2       0.835729\n",
      "RH_3  RH_9     0.834419\n",
      "      RH_7     0.833924\n",
      "      RH_8     0.831060\n",
      "T1    T8       0.824657\n",
      "T5    T8       0.824057\n",
      "T2    T6       0.801219\n",
      "RH_1  RH_7     0.800827\n",
      "      RH_2     0.797598\n",
      "T4    T8       0.796458\n",
      "T3    T8       0.794213\n",
      "T2    T_out    0.791553\n",
      "dtype: float64\n"
     ]
    }
   ],
   "source": [
    "def get_redundant_pairs(df):\n",
    "    '''Get diagonal and lower triangular pairs of correlation matrix'''\n",
    "    pairs_to_drop = set()\n",
    "    cols = df.columns\n",
    "    for i in range(0, df.shape[1]):\n",
    "        for j in range(0, i+1):\n",
    "            pairs_to_drop.add((cols[i], cols[j]))\n",
    "    return pairs_to_drop\n",
    "\n",
    "# Function to get top correlations \n",
    "\n",
    "def get_top_abs_correlations(df, n=5):\n",
    "    au_corr = df.corr().abs().unstack()\n",
    "    labels_to_drop = get_redundant_pairs(df)\n",
    "    au_corr = au_corr.drop(labels=labels_to_drop).sort_values(ascending=False)\n",
    "    return au_corr[0:n]\n",
    "\n",
    "print(\"Top Absolute Correlations\")\n",
    "print(get_top_abs_correlations(train_corr, 40))"
   ]
  },
  {
   "cell_type": "markdown",
   "metadata": {
    "_uuid": "09c1fc6c1a5fbfe091f23aa27680cdc966832e5b"
   },
   "source": [
    "### Observations based on correlation plot\n",
    "\n",
    "1. Temperature - All the temperature variables from T1-T9 and T_out have positive correlation with the target Appliances . For the indoortemperatures, the correlations are high as expected, since the ventilation is driven by the HRV unit and minimizes air tempera-ture differences between rooms. Four columns have a high degree of correlation with T9 - T3,T5,T7,T8 also T6 & T_Out has high correlation (both temperatures from outside) . Hence T6 & T9 can be removed from training set as information provided by them can be provided by other fields.\n",
    "\n",
    "2. Weather attributes - Visibility, Tdewpoint, Press_mm_hg  have low correlation values\n",
    "\n",
    "3. Humidity - There are no significantly high  correlation cases (> 0.9) for humidity sensors.\n",
    "\n",
    "4. Random variables have no role to play\n"
   ]
  },
  {
   "cell_type": "markdown",
   "metadata": {
    "_uuid": "0673dbe778f0161c6b05e0dfea77934676aae891"
   },
   "source": [
    "# Data Pre Processing"
   ]
  },
  {
   "cell_type": "code",
   "execution_count": 27,
   "metadata": {
    "_uuid": "dc8da76cb9586f4d9d8c3417d851c02a5058ece3"
   },
   "outputs": [],
   "source": [
    "#Split training dataset into independent and dependent varibales\n",
    "train_X = train[feature_vars.columns]\n",
    "train_y = train[target_vars.columns]"
   ]
  },
  {
   "cell_type": "code",
   "execution_count": 28,
   "metadata": {
    "_uuid": "06a9ed214428ca03a45c9061c6f976c86420e744"
   },
   "outputs": [],
   "source": [
    "#Split testing dataset into independent and dependent varibales\n",
    "test_X = test[feature_vars.columns]\n",
    "test_y = test[target_vars.columns]"
   ]
  },
  {
   "cell_type": "code",
   "execution_count": 29,
   "metadata": {
    "_uuid": "166f070f9f7732b481450805d6e3d2215dd943bf"
   },
   "outputs": [],
   "source": [
    "# Due to conlusion made above below columns are removed\n",
    "train_X.drop([\"rv1\",\"rv2\",\"Visibility\",\"T6\",\"T9\"],axis=1 , inplace=True)"
   ]
  },
  {
   "cell_type": "code",
   "execution_count": 30,
   "metadata": {
    "_uuid": "bbf0f6ad00f84ae9e8b0c13c710aaeaf199433e2"
   },
   "outputs": [],
   "source": [
    "# Due to conlusion made above below columns are removed\n",
    "test_X.drop([\"rv1\",\"rv2\",\"Visibility\",\"T6\",\"T9\"], axis=1, inplace=True)"
   ]
  },
  {
   "cell_type": "code",
   "execution_count": 31,
   "metadata": {
    "_uuid": "737fb79f8a5be05a095308a241863035890a7a71"
   },
   "outputs": [
    {
     "data": {
      "text/plain": [
       "Index(['T1', 'T2', 'T3', 'T4', 'T5', 'T7', 'T8', 'RH_1', 'RH_2', 'RH_3',\n",
       "       'RH_4', 'RH_5', 'RH_6', 'RH_7', 'RH_8', 'RH_9', 'T_out', 'Tdewpoint',\n",
       "       'RH_out', 'Press_mm_hg', 'Windspeed'],\n",
       "      dtype='object')"
      ]
     },
     "execution_count": 31,
     "metadata": {},
     "output_type": "execute_result"
    }
   ],
   "source": [
    "train_X.columns"
   ]
  },
  {
   "cell_type": "code",
   "execution_count": 32,
   "metadata": {
    "_uuid": "3ff37742e76e643030a1a9ac85f54eca87964d4c"
   },
   "outputs": [
    {
     "data": {
      "text/plain": [
       "Index(['T1', 'T2', 'T3', 'T4', 'T5', 'T7', 'T8', 'RH_1', 'RH_2', 'RH_3',\n",
       "       'RH_4', 'RH_5', 'RH_6', 'RH_7', 'RH_8', 'RH_9', 'T_out', 'Tdewpoint',\n",
       "       'RH_out', 'Press_mm_hg', 'Windspeed'],\n",
       "      dtype='object')"
      ]
     },
     "execution_count": 32,
     "metadata": {},
     "output_type": "execute_result"
    }
   ],
   "source": [
    "test_X.columns"
   ]
  },
  {
   "cell_type": "code",
   "execution_count": 33,
   "metadata": {
    "_uuid": "2994c4f429d3199fd6a85bc7c5b7ac3ec6a99b85"
   },
   "outputs": [],
   "source": [
    "from sklearn.preprocessing import StandardScaler\n",
    "sc=StandardScaler()\n",
    "\n",
    "# Create test and training set by including Appliances column\n",
    "\n",
    "train = train[list(train_X.columns.values) + col_target ]\n",
    "\n",
    "test = test[list(test_X.columns.values) + col_target ]\n",
    "\n",
    "# Create dummy test and training set to hold scaled values\n",
    "\n",
    "sc_train = pd.DataFrame(columns=train.columns , index=train.index)\n",
    "\n",
    "sc_train[sc_train.columns] = sc.fit_transform(train)\n",
    "\n",
    "sc_test= pd.DataFrame(columns=test.columns , index=test.index)\n",
    "\n",
    "sc_test[sc_test.columns] = sc.fit_transform(test)\n"
   ]
  },
  {
   "cell_type": "code",
   "execution_count": 34,
   "metadata": {
    "_uuid": "7097dc5408d21b2249dcc7db63bf5776b7f90ef6"
   },
   "outputs": [
    {
     "data": {
      "text/html": [
       "<div>\n",
       "<style scoped>\n",
       "    .dataframe tbody tr th:only-of-type {\n",
       "        vertical-align: middle;\n",
       "    }\n",
       "\n",
       "    .dataframe tbody tr th {\n",
       "        vertical-align: top;\n",
       "    }\n",
       "\n",
       "    .dataframe thead th {\n",
       "        text-align: right;\n",
       "    }\n",
       "</style>\n",
       "<table border=\"1\" class=\"dataframe\">\n",
       "  <thead>\n",
       "    <tr style=\"text-align: right;\">\n",
       "      <th></th>\n",
       "      <th>T1</th>\n",
       "      <th>T2</th>\n",
       "      <th>T3</th>\n",
       "      <th>T4</th>\n",
       "      <th>T5</th>\n",
       "      <th>T7</th>\n",
       "      <th>T8</th>\n",
       "      <th>RH_1</th>\n",
       "      <th>RH_2</th>\n",
       "      <th>RH_3</th>\n",
       "      <th>...</th>\n",
       "      <th>RH_6</th>\n",
       "      <th>RH_7</th>\n",
       "      <th>RH_8</th>\n",
       "      <th>RH_9</th>\n",
       "      <th>T_out</th>\n",
       "      <th>Tdewpoint</th>\n",
       "      <th>RH_out</th>\n",
       "      <th>Press_mm_hg</th>\n",
       "      <th>Windspeed</th>\n",
       "      <th>Appliances</th>\n",
       "    </tr>\n",
       "  </thead>\n",
       "  <tbody>\n",
       "    <tr>\n",
       "      <th>9544</th>\n",
       "      <td>0.569827</td>\n",
       "      <td>-0.383584</td>\n",
       "      <td>-0.384018</td>\n",
       "      <td>0.996241</td>\n",
       "      <td>-0.229230</td>\n",
       "      <td>0.349500</td>\n",
       "      <td>0.441571</td>\n",
       "      <td>-1.398755</td>\n",
       "      <td>-0.629413</td>\n",
       "      <td>-1.197521</td>\n",
       "      <td>...</td>\n",
       "      <td>0.103642</td>\n",
       "      <td>-1.657784</td>\n",
       "      <td>-0.848083</td>\n",
       "      <td>-1.033732</td>\n",
       "      <td>-0.978251</td>\n",
       "      <td>-0.803979</td>\n",
       "      <td>0.529878</td>\n",
       "      <td>1.167725</td>\n",
       "      <td>-1.112160</td>\n",
       "      <td>-0.270443</td>\n",
       "    </tr>\n",
       "    <tr>\n",
       "      <th>19366</th>\n",
       "      <td>1.254979</td>\n",
       "      <td>0.298556</td>\n",
       "      <td>1.561061</td>\n",
       "      <td>1.344290</td>\n",
       "      <td>0.163277</td>\n",
       "      <td>1.299615</td>\n",
       "      <td>1.112907</td>\n",
       "      <td>0.004687</td>\n",
       "      <td>0.604569</td>\n",
       "      <td>0.228904</td>\n",
       "      <td>...</td>\n",
       "      <td>-0.471944</td>\n",
       "      <td>-0.060622</td>\n",
       "      <td>0.086994</td>\n",
       "      <td>0.725258</td>\n",
       "      <td>-0.217827</td>\n",
       "      <td>0.365687</td>\n",
       "      <td>0.931169</td>\n",
       "      <td>0.226014</td>\n",
       "      <td>-1.248270</td>\n",
       "      <td>-0.464759</td>\n",
       "    </tr>\n",
       "    <tr>\n",
       "      <th>10816</th>\n",
       "      <td>0.320681</td>\n",
       "      <td>0.054501</td>\n",
       "      <td>0.366012</td>\n",
       "      <td>-0.229283</td>\n",
       "      <td>0.145189</td>\n",
       "      <td>0.297243</td>\n",
       "      <td>0.822507</td>\n",
       "      <td>1.388043</td>\n",
       "      <td>1.101918</td>\n",
       "      <td>-0.212353</td>\n",
       "      <td>...</td>\n",
       "      <td>-0.676999</td>\n",
       "      <td>0.311400</td>\n",
       "      <td>0.163327</td>\n",
       "      <td>-0.049050</td>\n",
       "      <td>1.120770</td>\n",
       "      <td>0.803317</td>\n",
       "      <td>-0.896934</td>\n",
       "      <td>-0.733721</td>\n",
       "      <td>0.929492</td>\n",
       "      <td>0.021032</td>\n",
       "    </tr>\n",
       "    <tr>\n",
       "      <th>15457</th>\n",
       "      <td>-0.246127</td>\n",
       "      <td>-0.961129</td>\n",
       "      <td>-0.489022</td>\n",
       "      <td>-0.159019</td>\n",
       "      <td>-0.162305</td>\n",
       "      <td>-0.363087</td>\n",
       "      <td>0.087967</td>\n",
       "      <td>-1.125096</td>\n",
       "      <td>-0.629413</td>\n",
       "      <td>-1.367589</td>\n",
       "      <td>...</td>\n",
       "      <td>-0.110291</td>\n",
       "      <td>-1.110463</td>\n",
       "      <td>0.001120</td>\n",
       "      <td>-1.368892</td>\n",
       "      <td>-1.339609</td>\n",
       "      <td>-1.006881</td>\n",
       "      <td>0.975757</td>\n",
       "      <td>-0.046587</td>\n",
       "      <td>-0.839939</td>\n",
       "      <td>-0.561918</td>\n",
       "    </tr>\n",
       "    <tr>\n",
       "      <th>2956</th>\n",
       "      <td>-0.246127</td>\n",
       "      <td>-0.024324</td>\n",
       "      <td>-0.300681</td>\n",
       "      <td>-1.013618</td>\n",
       "      <td>-0.061616</td>\n",
       "      <td>-0.579502</td>\n",
       "      <td>-0.564579</td>\n",
       "      <td>1.789743</td>\n",
       "      <td>1.680118</td>\n",
       "      <td>2.300361</td>\n",
       "      <td>...</td>\n",
       "      <td>1.453771</td>\n",
       "      <td>3.043131</td>\n",
       "      <td>2.777725</td>\n",
       "      <td>2.719419</td>\n",
       "      <td>0.630579</td>\n",
       "      <td>1.400086</td>\n",
       "      <td>0.864287</td>\n",
       "      <td>0.419763</td>\n",
       "      <td>1.065602</td>\n",
       "      <td>-0.464759</td>\n",
       "    </tr>\n",
       "  </tbody>\n",
       "</table>\n",
       "<p>5 rows × 22 columns</p>\n",
       "</div>"
      ],
      "text/plain": [
       "             T1        T2        T3        T4        T5        T7        T8  \\\n",
       "9544   0.569827 -0.383584 -0.384018  0.996241 -0.229230  0.349500  0.441571   \n",
       "19366  1.254979  0.298556  1.561061  1.344290  0.163277  1.299615  1.112907   \n",
       "10816  0.320681  0.054501  0.366012 -0.229283  0.145189  0.297243  0.822507   \n",
       "15457 -0.246127 -0.961129 -0.489022 -0.159019 -0.162305 -0.363087  0.087967   \n",
       "2956  -0.246127 -0.024324 -0.300681 -1.013618 -0.061616 -0.579502 -0.564579   \n",
       "\n",
       "           RH_1      RH_2      RH_3  ...      RH_6      RH_7      RH_8  \\\n",
       "9544  -1.398755 -0.629413 -1.197521  ...  0.103642 -1.657784 -0.848083   \n",
       "19366  0.004687  0.604569  0.228904  ... -0.471944 -0.060622  0.086994   \n",
       "10816  1.388043  1.101918 -0.212353  ... -0.676999  0.311400  0.163327   \n",
       "15457 -1.125096 -0.629413 -1.367589  ... -0.110291 -1.110463  0.001120   \n",
       "2956   1.789743  1.680118  2.300361  ...  1.453771  3.043131  2.777725   \n",
       "\n",
       "           RH_9     T_out  Tdewpoint    RH_out  Press_mm_hg  Windspeed  \\\n",
       "9544  -1.033732 -0.978251  -0.803979  0.529878     1.167725  -1.112160   \n",
       "19366  0.725258 -0.217827   0.365687  0.931169     0.226014  -1.248270   \n",
       "10816 -0.049050  1.120770   0.803317 -0.896934    -0.733721   0.929492   \n",
       "15457 -1.368892 -1.339609  -1.006881  0.975757    -0.046587  -0.839939   \n",
       "2956   2.719419  0.630579   1.400086  0.864287     0.419763   1.065602   \n",
       "\n",
       "       Appliances  \n",
       "9544    -0.270443  \n",
       "19366   -0.464759  \n",
       "10816    0.021032  \n",
       "15457   -0.561918  \n",
       "2956    -0.464759  \n",
       "\n",
       "[5 rows x 22 columns]"
      ]
     },
     "execution_count": 34,
     "metadata": {},
     "output_type": "execute_result"
    }
   ],
   "source": [
    "sc_train.head()"
   ]
  },
  {
   "cell_type": "code",
   "execution_count": 35,
   "metadata": {
    "_uuid": "f1b2daaa97b18800174f5e75c5d147b2f0242417"
   },
   "outputs": [
    {
     "data": {
      "text/html": [
       "<div>\n",
       "<style scoped>\n",
       "    .dataframe tbody tr th:only-of-type {\n",
       "        vertical-align: middle;\n",
       "    }\n",
       "\n",
       "    .dataframe tbody tr th {\n",
       "        vertical-align: top;\n",
       "    }\n",
       "\n",
       "    .dataframe thead th {\n",
       "        text-align: right;\n",
       "    }\n",
       "</style>\n",
       "<table border=\"1\" class=\"dataframe\">\n",
       "  <thead>\n",
       "    <tr style=\"text-align: right;\">\n",
       "      <th></th>\n",
       "      <th>T1</th>\n",
       "      <th>T2</th>\n",
       "      <th>T3</th>\n",
       "      <th>T4</th>\n",
       "      <th>T5</th>\n",
       "      <th>T7</th>\n",
       "      <th>T8</th>\n",
       "      <th>RH_1</th>\n",
       "      <th>RH_2</th>\n",
       "      <th>RH_3</th>\n",
       "      <th>...</th>\n",
       "      <th>RH_6</th>\n",
       "      <th>RH_7</th>\n",
       "      <th>RH_8</th>\n",
       "      <th>RH_9</th>\n",
       "      <th>T_out</th>\n",
       "      <th>Tdewpoint</th>\n",
       "      <th>RH_out</th>\n",
       "      <th>Press_mm_hg</th>\n",
       "      <th>Windspeed</th>\n",
       "      <th>Appliances</th>\n",
       "    </tr>\n",
       "  </thead>\n",
       "  <tbody>\n",
       "    <tr>\n",
       "      <th>6314</th>\n",
       "      <td>-0.678526</td>\n",
       "      <td>-0.337714</td>\n",
       "      <td>-0.758967</td>\n",
       "      <td>-0.272083</td>\n",
       "      <td>-0.811540</td>\n",
       "      <td>-0.409392</td>\n",
       "      <td>-0.946375</td>\n",
       "      <td>-0.352449</td>\n",
       "      <td>-0.426736</td>\n",
       "      <td>0.306431</td>\n",
       "      <td>...</td>\n",
       "      <td>1.086122</td>\n",
       "      <td>-0.407472</td>\n",
       "      <td>-0.731388</td>\n",
       "      <td>-0.437093</td>\n",
       "      <td>-0.232839</td>\n",
       "      <td>-1.157146</td>\n",
       "      <td>-1.318014</td>\n",
       "      <td>0.377392</td>\n",
       "      <td>-0.809142</td>\n",
       "      <td>-0.367942</td>\n",
       "    </tr>\n",
       "    <tr>\n",
       "      <th>12257</th>\n",
       "      <td>0.814344</td>\n",
       "      <td>0.289201</td>\n",
       "      <td>1.432662</td>\n",
       "      <td>0.317741</td>\n",
       "      <td>1.062631</td>\n",
       "      <td>0.811654</td>\n",
       "      <td>1.049857</td>\n",
       "      <td>0.671740</td>\n",
       "      <td>1.084770</td>\n",
       "      <td>-0.220306</td>\n",
       "      <td>...</td>\n",
       "      <td>-1.056634</td>\n",
       "      <td>-0.276865</td>\n",
       "      <td>-0.989635</td>\n",
       "      <td>-0.554766</td>\n",
       "      <td>0.865496</td>\n",
       "      <td>0.485626</td>\n",
       "      <td>-0.967649</td>\n",
       "      <td>-0.401660</td>\n",
       "      <td>0.004891</td>\n",
       "      <td>3.087003</td>\n",
       "    </tr>\n",
       "    <tr>\n",
       "      <th>6271</th>\n",
       "      <td>-0.850621</td>\n",
       "      <td>-1.058130</td>\n",
       "      <td>-0.526796</td>\n",
       "      <td>-0.515812</td>\n",
       "      <td>-0.654758</td>\n",
       "      <td>-0.600348</td>\n",
       "      <td>-0.929458</td>\n",
       "      <td>-0.182731</td>\n",
       "      <td>0.160016</td>\n",
       "      <td>0.427270</td>\n",
       "      <td>...</td>\n",
       "      <td>0.869462</td>\n",
       "      <td>0.702690</td>\n",
       "      <td>0.538598</td>\n",
       "      <td>0.705174</td>\n",
       "      <td>-1.611203</td>\n",
       "      <td>-1.275901</td>\n",
       "      <td>1.191050</td>\n",
       "      <td>0.616061</td>\n",
       "      <td>-0.876978</td>\n",
       "      <td>-0.664080</td>\n",
       "    </tr>\n",
       "    <tr>\n",
       "      <th>18179</th>\n",
       "      <td>0.938750</td>\n",
       "      <td>0.485399</td>\n",
       "      <td>0.955147</td>\n",
       "      <td>1.146419</td>\n",
       "      <td>1.134714</td>\n",
       "      <td>1.502863</td>\n",
       "      <td>1.400044</td>\n",
       "      <td>-0.419664</td>\n",
       "      <td>-0.511502</td>\n",
       "      <td>-0.885589</td>\n",
       "      <td>...</td>\n",
       "      <td>-1.365905</td>\n",
       "      <td>-0.346975</td>\n",
       "      <td>-0.678579</td>\n",
       "      <td>-1.043214</td>\n",
       "      <td>0.591690</td>\n",
       "      <td>0.568755</td>\n",
       "      <td>-0.323430</td>\n",
       "      <td>0.701622</td>\n",
       "      <td>-1.216158</td>\n",
       "      <td>-0.565367</td>\n",
       "    </tr>\n",
       "    <tr>\n",
       "      <th>9661</th>\n",
       "      <td>0.005706</td>\n",
       "      <td>-0.368370</td>\n",
       "      <td>-0.396714</td>\n",
       "      <td>-0.137220</td>\n",
       "      <td>-0.595289</td>\n",
       "      <td>-0.270881</td>\n",
       "      <td>0.339334</td>\n",
       "      <td>-0.797748</td>\n",
       "      <td>-0.320955</td>\n",
       "      <td>-1.037265</td>\n",
       "      <td>...</td>\n",
       "      <td>0.039148</td>\n",
       "      <td>-1.025548</td>\n",
       "      <td>-1.028276</td>\n",
       "      <td>-1.198139</td>\n",
       "      <td>-0.307513</td>\n",
       "      <td>-0.001268</td>\n",
       "      <td>0.524227</td>\n",
       "      <td>0.917775</td>\n",
       "      <td>0.004891</td>\n",
       "      <td>0.224334</td>\n",
       "    </tr>\n",
       "  </tbody>\n",
       "</table>\n",
       "<p>5 rows × 22 columns</p>\n",
       "</div>"
      ],
      "text/plain": [
       "             T1        T2        T3        T4        T5        T7        T8  \\\n",
       "6314  -0.678526 -0.337714 -0.758967 -0.272083 -0.811540 -0.409392 -0.946375   \n",
       "12257  0.814344  0.289201  1.432662  0.317741  1.062631  0.811654  1.049857   \n",
       "6271  -0.850621 -1.058130 -0.526796 -0.515812 -0.654758 -0.600348 -0.929458   \n",
       "18179  0.938750  0.485399  0.955147  1.146419  1.134714  1.502863  1.400044   \n",
       "9661   0.005706 -0.368370 -0.396714 -0.137220 -0.595289 -0.270881  0.339334   \n",
       "\n",
       "           RH_1      RH_2      RH_3  ...      RH_6      RH_7      RH_8  \\\n",
       "6314  -0.352449 -0.426736  0.306431  ...  1.086122 -0.407472 -0.731388   \n",
       "12257  0.671740  1.084770 -0.220306  ... -1.056634 -0.276865 -0.989635   \n",
       "6271  -0.182731  0.160016  0.427270  ...  0.869462  0.702690  0.538598   \n",
       "18179 -0.419664 -0.511502 -0.885589  ... -1.365905 -0.346975 -0.678579   \n",
       "9661  -0.797748 -0.320955 -1.037265  ...  0.039148 -1.025548 -1.028276   \n",
       "\n",
       "           RH_9     T_out  Tdewpoint    RH_out  Press_mm_hg  Windspeed  \\\n",
       "6314  -0.437093 -0.232839  -1.157146 -1.318014     0.377392  -0.809142   \n",
       "12257 -0.554766  0.865496   0.485626 -0.967649    -0.401660   0.004891   \n",
       "6271   0.705174 -1.611203  -1.275901  1.191050     0.616061  -0.876978   \n",
       "18179 -1.043214  0.591690   0.568755 -0.323430     0.701622  -1.216158   \n",
       "9661  -1.198139 -0.307513  -0.001268  0.524227     0.917775   0.004891   \n",
       "\n",
       "       Appliances  \n",
       "6314    -0.367942  \n",
       "12257    3.087003  \n",
       "6271    -0.664080  \n",
       "18179   -0.565367  \n",
       "9661     0.224334  \n",
       "\n",
       "[5 rows x 22 columns]"
      ]
     },
     "execution_count": 35,
     "metadata": {},
     "output_type": "execute_result"
    }
   ],
   "source": [
    "sc_test.head()"
   ]
  },
  {
   "cell_type": "code",
   "execution_count": 36,
   "metadata": {
    "_uuid": "c89e789b6fee327d98ad18904e6c451f9a21625b"
   },
   "outputs": [],
   "source": [
    "# Remove Appliances column from traininig set\n",
    "\n",
    "train_X =  sc_train.drop(['Appliances'] , axis=1)\n",
    "train_y = sc_train['Appliances']\n",
    "\n",
    "test_X =  sc_test.drop(['Appliances'] , axis=1)\n",
    "test_y = sc_test['Appliances']"
   ]
  },
  {
   "cell_type": "code",
   "execution_count": 37,
   "metadata": {
    "_uuid": "1fc7d310b2621230c0315e9cd8f8609c25bb37b6"
   },
   "outputs": [
    {
     "data": {
      "text/html": [
       "<div>\n",
       "<style scoped>\n",
       "    .dataframe tbody tr th:only-of-type {\n",
       "        vertical-align: middle;\n",
       "    }\n",
       "\n",
       "    .dataframe tbody tr th {\n",
       "        vertical-align: top;\n",
       "    }\n",
       "\n",
       "    .dataframe thead th {\n",
       "        text-align: right;\n",
       "    }\n",
       "</style>\n",
       "<table border=\"1\" class=\"dataframe\">\n",
       "  <thead>\n",
       "    <tr style=\"text-align: right;\">\n",
       "      <th></th>\n",
       "      <th>T1</th>\n",
       "      <th>T2</th>\n",
       "      <th>T3</th>\n",
       "      <th>T4</th>\n",
       "      <th>T5</th>\n",
       "      <th>T7</th>\n",
       "      <th>T8</th>\n",
       "      <th>RH_1</th>\n",
       "      <th>RH_2</th>\n",
       "      <th>RH_3</th>\n",
       "      <th>...</th>\n",
       "      <th>RH_5</th>\n",
       "      <th>RH_6</th>\n",
       "      <th>RH_7</th>\n",
       "      <th>RH_8</th>\n",
       "      <th>RH_9</th>\n",
       "      <th>T_out</th>\n",
       "      <th>Tdewpoint</th>\n",
       "      <th>RH_out</th>\n",
       "      <th>Press_mm_hg</th>\n",
       "      <th>Windspeed</th>\n",
       "    </tr>\n",
       "  </thead>\n",
       "  <tbody>\n",
       "    <tr>\n",
       "      <th>9544</th>\n",
       "      <td>0.569827</td>\n",
       "      <td>-0.383584</td>\n",
       "      <td>-0.384018</td>\n",
       "      <td>0.996241</td>\n",
       "      <td>-0.229230</td>\n",
       "      <td>0.349500</td>\n",
       "      <td>0.441571</td>\n",
       "      <td>-1.398755</td>\n",
       "      <td>-0.629413</td>\n",
       "      <td>-1.197521</td>\n",
       "      <td>...</td>\n",
       "      <td>2.267242</td>\n",
       "      <td>0.103642</td>\n",
       "      <td>-1.657784</td>\n",
       "      <td>-0.848083</td>\n",
       "      <td>-1.033732</td>\n",
       "      <td>-0.978251</td>\n",
       "      <td>-0.803979</td>\n",
       "      <td>0.529878</td>\n",
       "      <td>1.167725</td>\n",
       "      <td>-1.112160</td>\n",
       "    </tr>\n",
       "    <tr>\n",
       "      <th>19366</th>\n",
       "      <td>1.254979</td>\n",
       "      <td>0.298556</td>\n",
       "      <td>1.561061</td>\n",
       "      <td>1.344290</td>\n",
       "      <td>0.163277</td>\n",
       "      <td>1.299615</td>\n",
       "      <td>1.112907</td>\n",
       "      <td>0.004687</td>\n",
       "      <td>0.604569</td>\n",
       "      <td>0.228904</td>\n",
       "      <td>...</td>\n",
       "      <td>-1.454588</td>\n",
       "      <td>-0.471944</td>\n",
       "      <td>-0.060622</td>\n",
       "      <td>0.086994</td>\n",
       "      <td>0.725258</td>\n",
       "      <td>-0.217827</td>\n",
       "      <td>0.365687</td>\n",
       "      <td>0.931169</td>\n",
       "      <td>0.226014</td>\n",
       "      <td>-1.248270</td>\n",
       "    </tr>\n",
       "    <tr>\n",
       "      <th>10816</th>\n",
       "      <td>0.320681</td>\n",
       "      <td>0.054501</td>\n",
       "      <td>0.366012</td>\n",
       "      <td>-0.229283</td>\n",
       "      <td>0.145189</td>\n",
       "      <td>0.297243</td>\n",
       "      <td>0.822507</td>\n",
       "      <td>1.388043</td>\n",
       "      <td>1.101918</td>\n",
       "      <td>-0.212353</td>\n",
       "      <td>...</td>\n",
       "      <td>-0.101804</td>\n",
       "      <td>-0.676999</td>\n",
       "      <td>0.311400</td>\n",
       "      <td>0.163327</td>\n",
       "      <td>-0.049050</td>\n",
       "      <td>1.120770</td>\n",
       "      <td>0.803317</td>\n",
       "      <td>-0.896934</td>\n",
       "      <td>-0.733721</td>\n",
       "      <td>0.929492</td>\n",
       "    </tr>\n",
       "    <tr>\n",
       "      <th>15457</th>\n",
       "      <td>-0.246127</td>\n",
       "      <td>-0.961129</td>\n",
       "      <td>-0.489022</td>\n",
       "      <td>-0.159019</td>\n",
       "      <td>-0.162305</td>\n",
       "      <td>-0.363087</td>\n",
       "      <td>0.087967</td>\n",
       "      <td>-1.125096</td>\n",
       "      <td>-0.629413</td>\n",
       "      <td>-1.367589</td>\n",
       "      <td>...</td>\n",
       "      <td>1.009651</td>\n",
       "      <td>-0.110291</td>\n",
       "      <td>-1.110463</td>\n",
       "      <td>0.001120</td>\n",
       "      <td>-1.368892</td>\n",
       "      <td>-1.339609</td>\n",
       "      <td>-1.006881</td>\n",
       "      <td>0.975757</td>\n",
       "      <td>-0.046587</td>\n",
       "      <td>-0.839939</td>\n",
       "    </tr>\n",
       "    <tr>\n",
       "      <th>2956</th>\n",
       "      <td>-0.246127</td>\n",
       "      <td>-0.024324</td>\n",
       "      <td>-0.300681</td>\n",
       "      <td>-1.013618</td>\n",
       "      <td>-0.061616</td>\n",
       "      <td>-0.579502</td>\n",
       "      <td>-0.564579</td>\n",
       "      <td>1.789743</td>\n",
       "      <td>1.680118</td>\n",
       "      <td>2.300361</td>\n",
       "      <td>...</td>\n",
       "      <td>0.137914</td>\n",
       "      <td>1.453771</td>\n",
       "      <td>3.043131</td>\n",
       "      <td>2.777725</td>\n",
       "      <td>2.719419</td>\n",
       "      <td>0.630579</td>\n",
       "      <td>1.400086</td>\n",
       "      <td>0.864287</td>\n",
       "      <td>0.419763</td>\n",
       "      <td>1.065602</td>\n",
       "    </tr>\n",
       "  </tbody>\n",
       "</table>\n",
       "<p>5 rows × 21 columns</p>\n",
       "</div>"
      ],
      "text/plain": [
       "             T1        T2        T3        T4        T5        T7        T8  \\\n",
       "9544   0.569827 -0.383584 -0.384018  0.996241 -0.229230  0.349500  0.441571   \n",
       "19366  1.254979  0.298556  1.561061  1.344290  0.163277  1.299615  1.112907   \n",
       "10816  0.320681  0.054501  0.366012 -0.229283  0.145189  0.297243  0.822507   \n",
       "15457 -0.246127 -0.961129 -0.489022 -0.159019 -0.162305 -0.363087  0.087967   \n",
       "2956  -0.246127 -0.024324 -0.300681 -1.013618 -0.061616 -0.579502 -0.564579   \n",
       "\n",
       "           RH_1      RH_2      RH_3  ...      RH_5      RH_6      RH_7  \\\n",
       "9544  -1.398755 -0.629413 -1.197521  ...  2.267242  0.103642 -1.657784   \n",
       "19366  0.004687  0.604569  0.228904  ... -1.454588 -0.471944 -0.060622   \n",
       "10816  1.388043  1.101918 -0.212353  ... -0.101804 -0.676999  0.311400   \n",
       "15457 -1.125096 -0.629413 -1.367589  ...  1.009651 -0.110291 -1.110463   \n",
       "2956   1.789743  1.680118  2.300361  ...  0.137914  1.453771  3.043131   \n",
       "\n",
       "           RH_8      RH_9     T_out  Tdewpoint    RH_out  Press_mm_hg  \\\n",
       "9544  -0.848083 -1.033732 -0.978251  -0.803979  0.529878     1.167725   \n",
       "19366  0.086994  0.725258 -0.217827   0.365687  0.931169     0.226014   \n",
       "10816  0.163327 -0.049050  1.120770   0.803317 -0.896934    -0.733721   \n",
       "15457  0.001120 -1.368892 -1.339609  -1.006881  0.975757    -0.046587   \n",
       "2956   2.777725  2.719419  0.630579   1.400086  0.864287     0.419763   \n",
       "\n",
       "       Windspeed  \n",
       "9544   -1.112160  \n",
       "19366  -1.248270  \n",
       "10816   0.929492  \n",
       "15457  -0.839939  \n",
       "2956    1.065602  \n",
       "\n",
       "[5 rows x 21 columns]"
      ]
     },
     "execution_count": 37,
     "metadata": {},
     "output_type": "execute_result"
    }
   ],
   "source": [
    "train_X.head()"
   ]
  },
  {
   "cell_type": "code",
   "execution_count": 38,
   "metadata": {
    "_uuid": "d8953ff506b7809837d446a287a9bf60bcda2ec8"
   },
   "outputs": [
    {
     "data": {
      "text/plain": [
       "9544    -0.270443\n",
       "19366   -0.464759\n",
       "10816    0.021032\n",
       "15457   -0.561918\n",
       "2956    -0.464759\n",
       "Name: Appliances, dtype: float64"
      ]
     },
     "execution_count": 38,
     "metadata": {},
     "output_type": "execute_result"
    }
   ],
   "source": [
    "train_y.head()"
   ]
  },
  {
   "cell_type": "markdown",
   "metadata": {
    "_uuid": "fa444209373d57c30d13639d1d2eac411591494a"
   },
   "source": [
    "# Model Implementation\n",
    "\n",
    "We will be looking at following Algorithms \n",
    "\n",
    "**Improved Linear regression models**\n",
    "\n",
    "1.Ridge regression \n",
    "\n",
    "2.Lasso regression \n",
    "\n",
    "**Support Vector Machine**\n",
    "\n",
    "3.Support vector regression \n",
    "\n",
    "**Nearest neighbour Regressor**\n",
    "\n",
    "4.KNeighborsRegressor\n",
    "\n",
    "**Ensmble models**\n",
    "\n",
    "5.Random Forest Regressor\n",
    "\n",
    "6.Gradient Boosting Regressor\n",
    "\n",
    "7.ExtraTrees Regressor\n",
    "\n",
    "**Neural Network**\n",
    "\n",
    "8.Multi Layer Preceptron Regressor\n",
    "\n"
   ]
  },
  {
   "cell_type": "code",
   "execution_count": 39,
   "metadata": {
    "_uuid": "643097ec623c9fbd96713bb12227477a9aaf541e"
   },
   "outputs": [],
   "source": [
    "from sklearn.linear_model import Ridge, Lasso\n",
    "from sklearn.ensemble import RandomForestRegressor, GradientBoostingRegressor, ExtraTreesRegressor\n",
    "from sklearn.neural_network import MLPRegressor\n",
    "import xgboost as xgb\n",
    "from sklearn import neighbors\n",
    "from sklearn.svm import SVR\n"
   ]
  },
  {
   "cell_type": "code",
   "execution_count": 40,
   "metadata": {
    "_uuid": "4800107c7b3954368828fd296e29ba13568410f7"
   },
   "outputs": [],
   "source": [
    "models = [\n",
    "           ['Lasso: ', Lasso()],\n",
    "           ['Ridge: ', Ridge()],\n",
    "           ['KNeighborsRegressor: ',  neighbors.KNeighborsRegressor()],\n",
    "           ['SVR:' , SVR(kernel='rbf')],\n",
    "           ['RandomForest ',RandomForestRegressor()],\n",
    "           ['ExtraTreeRegressor :',ExtraTreesRegressor()],\n",
    "           ['GradientBoostingClassifier: ', GradientBoostingRegressor()] ,\n",
    "           ['XGBRegressor: ', xgb.XGBRegressor()] ,\n",
    "           ['MLPRegressor: ', MLPRegressor(  activation='relu', solver='adam',learning_rate='adaptive',max_iter=1000,learning_rate_init=0.01,alpha=0.01)]\n",
    "         ]\n"
   ]
  },
  {
   "cell_type": "code",
   "execution_count": 41,
   "metadata": {
    "_uuid": "be857f14815dba2660da6098138026e41c3f43ad"
   },
   "outputs": [
    {
     "name": "stdout",
     "output_type": "stream",
     "text": [
      "[11:30:30] WARNING: /workspace/src/objective/regression_obj.cu:152: reg:linear is now deprecated in favor of reg:squarederror.\n"
     ]
    }
   ],
   "source": [
    "# Run all the proposed models and update the information in a list model_data\n",
    "import time\n",
    "from math import sqrt\n",
    "from sklearn.metrics import mean_squared_error\n",
    "\n",
    "model_data = []\n",
    "for name,curr_model in models :\n",
    "    curr_model_data = {}\n",
    "    curr_model.random_state = 78\n",
    "    curr_model_data[\"Name\"] = name\n",
    "    start = time.time()\n",
    "    curr_model.fit(train_X,train_y)\n",
    "    end = time.time()\n",
    "    curr_model_data[\"Train_Time\"] = end - start\n",
    "    curr_model_data[\"Train_R2_Score\"] = metrics.r2_score(train_y,curr_model.predict(train_X))\n",
    "    curr_model_data[\"Test_R2_Score\"] = metrics.r2_score(test_y,curr_model.predict(test_X))\n",
    "    curr_model_data[\"Test_RMSE_Score\"] = sqrt(mean_squared_error(test_y,curr_model.predict(test_X)))\n",
    "    model_data.append(curr_model_data)"
   ]
  },
  {
   "cell_type": "code",
   "execution_count": 42,
   "metadata": {
    "_uuid": "fa0deb453752d955394450f7ae4a98c4e8b09e67"
   },
   "outputs": [
    {
     "data": {
      "text/plain": [
       "[{'Name': 'Lasso: ',\n",
       "  'Train_Time': 0.05590677261352539,\n",
       "  'Train_R2_Score': 0.0,\n",
       "  'Test_R2_Score': 0.0,\n",
       "  'Test_RMSE_Score': 1.0},\n",
       " {'Name': 'Ridge: ',\n",
       "  'Train_Time': 0.03653597831726074,\n",
       "  'Train_R2_Score': 0.1375528613228284,\n",
       "  'Test_R2_Score': 0.12139099895516814,\n",
       "  'Test_RMSE_Score': 0.937341453817568},\n",
       " {'Name': 'KNeighborsRegressor: ',\n",
       "  'Train_Time': 0.025851011276245117,\n",
       "  'Train_R2_Score': 0.6814639376039895,\n",
       "  'Test_R2_Score': 0.4855598647200512,\n",
       "  'Test_RMSE_Score': 0.7172448224141802},\n",
       " {'Name': 'SVR:',\n",
       "  'Train_Time': 14.356879234313965,\n",
       "  'Train_R2_Score': 0.23572363185689504,\n",
       "  'Test_R2_Score': 0.20993387920257733,\n",
       "  'Test_RMSE_Score': 0.8888566368078841},\n",
       " {'Name': 'RandomForest ',\n",
       "  'Train_Time': 3.103548765182495,\n",
       "  'Train_R2_Score': 0.9136912792970885,\n",
       "  'Test_R2_Score': 0.5256812270127812,\n",
       "  'Test_RMSE_Score': 0.6887080462628695},\n",
       " {'Name': 'ExtraTreeRegressor :',\n",
       "  'Train_Time': 0.8000478744506836,\n",
       "  'Train_R2_Score': 1.0,\n",
       "  'Test_R2_Score': 0.5771832228819963,\n",
       "  'Test_RMSE_Score': 0.6502436290483773},\n",
       " {'Name': 'GradientBoostingClassifier: ',\n",
       "  'Train_Time': 1.9317171573638916,\n",
       "  'Train_R2_Score': 0.333526282064575,\n",
       "  'Test_R2_Score': 0.23289698344130239,\n",
       "  'Test_RMSE_Score': 0.8758441736740032},\n",
       " {'Name': 'XGBRegressor: ',\n",
       "  'Train_Time': 2.524871349334717,\n",
       "  'Train_R2_Score': 0.3221738982738469,\n",
       "  'Test_R2_Score': 0.2263221195553594,\n",
       "  'Test_RMSE_Score': 0.879589609104519},\n",
       " {'Name': 'MLPRegressor: ',\n",
       "  'Train_Time': 3.41178560256958,\n",
       "  'Train_R2_Score': 0.29856689225976607,\n",
       "  'Test_R2_Score': 0.2431778936857123,\n",
       "  'Test_RMSE_Score': 0.869955232362153}]"
      ]
     },
     "execution_count": 42,
     "metadata": {},
     "output_type": "execute_result"
    }
   ],
   "source": [
    "model_data"
   ]
  },
  {
   "cell_type": "code",
   "execution_count": 43,
   "metadata": {
    "_uuid": "d0a170b81d4017610288636e65dc55281ee3b428"
   },
   "outputs": [],
   "source": [
    "# Convert list to dataframe\n",
    "df = pd.DataFrame(model_data)"
   ]
  },
  {
   "cell_type": "code",
   "execution_count": 44,
   "metadata": {
    "_uuid": "87bafd7ce88cfd5b66a7354f5d2a5bcad1b07741"
   },
   "outputs": [
    {
     "data": {
      "text/html": [
       "<div>\n",
       "<style scoped>\n",
       "    .dataframe tbody tr th:only-of-type {\n",
       "        vertical-align: middle;\n",
       "    }\n",
       "\n",
       "    .dataframe tbody tr th {\n",
       "        vertical-align: top;\n",
       "    }\n",
       "\n",
       "    .dataframe thead th {\n",
       "        text-align: right;\n",
       "    }\n",
       "</style>\n",
       "<table border=\"1\" class=\"dataframe\">\n",
       "  <thead>\n",
       "    <tr style=\"text-align: right;\">\n",
       "      <th></th>\n",
       "      <th>Name</th>\n",
       "      <th>Train_Time</th>\n",
       "      <th>Train_R2_Score</th>\n",
       "      <th>Test_R2_Score</th>\n",
       "      <th>Test_RMSE_Score</th>\n",
       "    </tr>\n",
       "  </thead>\n",
       "  <tbody>\n",
       "    <tr>\n",
       "      <th>0</th>\n",
       "      <td>Lasso:</td>\n",
       "      <td>0.055907</td>\n",
       "      <td>0.000000</td>\n",
       "      <td>0.000000</td>\n",
       "      <td>1.000000</td>\n",
       "    </tr>\n",
       "    <tr>\n",
       "      <th>1</th>\n",
       "      <td>Ridge:</td>\n",
       "      <td>0.036536</td>\n",
       "      <td>0.137553</td>\n",
       "      <td>0.121391</td>\n",
       "      <td>0.937341</td>\n",
       "    </tr>\n",
       "    <tr>\n",
       "      <th>2</th>\n",
       "      <td>KNeighborsRegressor:</td>\n",
       "      <td>0.025851</td>\n",
       "      <td>0.681464</td>\n",
       "      <td>0.485560</td>\n",
       "      <td>0.717245</td>\n",
       "    </tr>\n",
       "    <tr>\n",
       "      <th>3</th>\n",
       "      <td>SVR:</td>\n",
       "      <td>14.356879</td>\n",
       "      <td>0.235724</td>\n",
       "      <td>0.209934</td>\n",
       "      <td>0.888857</td>\n",
       "    </tr>\n",
       "    <tr>\n",
       "      <th>4</th>\n",
       "      <td>RandomForest</td>\n",
       "      <td>3.103549</td>\n",
       "      <td>0.913691</td>\n",
       "      <td>0.525681</td>\n",
       "      <td>0.688708</td>\n",
       "    </tr>\n",
       "    <tr>\n",
       "      <th>5</th>\n",
       "      <td>ExtraTreeRegressor :</td>\n",
       "      <td>0.800048</td>\n",
       "      <td>1.000000</td>\n",
       "      <td>0.577183</td>\n",
       "      <td>0.650244</td>\n",
       "    </tr>\n",
       "    <tr>\n",
       "      <th>6</th>\n",
       "      <td>GradientBoostingClassifier:</td>\n",
       "      <td>1.931717</td>\n",
       "      <td>0.333526</td>\n",
       "      <td>0.232897</td>\n",
       "      <td>0.875844</td>\n",
       "    </tr>\n",
       "    <tr>\n",
       "      <th>7</th>\n",
       "      <td>XGBRegressor:</td>\n",
       "      <td>2.524871</td>\n",
       "      <td>0.322174</td>\n",
       "      <td>0.226322</td>\n",
       "      <td>0.879590</td>\n",
       "    </tr>\n",
       "    <tr>\n",
       "      <th>8</th>\n",
       "      <td>MLPRegressor:</td>\n",
       "      <td>3.411786</td>\n",
       "      <td>0.298567</td>\n",
       "      <td>0.243178</td>\n",
       "      <td>0.869955</td>\n",
       "    </tr>\n",
       "  </tbody>\n",
       "</table>\n",
       "</div>"
      ],
      "text/plain": [
       "                           Name  Train_Time  Train_R2_Score  Test_R2_Score  \\\n",
       "0                       Lasso:     0.055907        0.000000       0.000000   \n",
       "1                       Ridge:     0.036536        0.137553       0.121391   \n",
       "2         KNeighborsRegressor:     0.025851        0.681464       0.485560   \n",
       "3                          SVR:   14.356879        0.235724       0.209934   \n",
       "4                 RandomForest     3.103549        0.913691       0.525681   \n",
       "5          ExtraTreeRegressor :    0.800048        1.000000       0.577183   \n",
       "6  GradientBoostingClassifier:     1.931717        0.333526       0.232897   \n",
       "7                XGBRegressor:     2.524871        0.322174       0.226322   \n",
       "8                MLPRegressor:     3.411786        0.298567       0.243178   \n",
       "\n",
       "   Test_RMSE_Score  \n",
       "0         1.000000  \n",
       "1         0.937341  \n",
       "2         0.717245  \n",
       "3         0.888857  \n",
       "4         0.688708  \n",
       "5         0.650244  \n",
       "6         0.875844  \n",
       "7         0.879590  \n",
       "8         0.869955  "
      ]
     },
     "execution_count": 44,
     "metadata": {},
     "output_type": "execute_result"
    }
   ],
   "source": [
    "df"
   ]
  },
  {
   "cell_type": "code",
   "execution_count": 45,
   "metadata": {
    "_uuid": "13ae25e43c14298cd6304af176b134825a4d10cb"
   },
   "outputs": [
    {
     "data": {
      "image/png": "[encoded data removed]",
      "text/plain": [
       "<Figure size 720x576 with 1 Axes>"
      ]
     },
     "metadata": {
      "needs_background": "light"
     },
     "output_type": "display_data"
    }
   ],
   "source": [
    "df.plot(x=\"Name\", y=['Test_R2_Score' , 'Train_R2_Score' , 'Test_RMSE_Score'], kind=\"bar\" , title = 'R2 Score Results' , figsize= (10,8)) ;"
   ]
  },
  {
   "cell_type": "markdown",
   "metadata": {
    "_uuid": "e88f02d72f44e307e795163cb0133911c73f0b9e"
   },
   "source": [
    "### Obervations\n",
    "\n",
    "1. Best results over test set are given by Extra Tree Regressor with R2 score of 0.57\n",
    "2. Least RMSE score is also by Extra Tree Regressor 0.65\n",
    "2. Lasso regularization over Linear regression was worst performing model\n"
   ]
  },
  {
   "cell_type": "markdown",
   "metadata": {
    "_uuid": "329292678242cc9c1ffb5ff79d17c8297c79c5f1"
   },
   "source": [
    "# Parameter Tuning"
   ]
  },
  {
   "cell_type": "code",
   "execution_count": 46,
   "metadata": {
    "_uuid": "b43b712478c488f63bf29cdeb579e47999a5bb5f"
   },
   "outputs": [
    {
     "name": "stdout",
     "output_type": "stream",
     "text": [
      "Fitting 5 folds for each of 48 candidates, totalling 240 fits\n"
     ]
    },
    {
     "name": "stderr",
     "output_type": "stream",
     "text": [
      "[Parallel(n_jobs=-1)]: Using backend LokyBackend with 2 concurrent workers.\n",
      "[Parallel(n_jobs=-1)]: Done  37 tasks      | elapsed:  3.3min\n",
      "[Parallel(n_jobs=-1)]: Done 158 tasks      | elapsed: 11.6min\n",
      "[Parallel(n_jobs=-1)]: Done 240 out of 240 | elapsed: 16.6min finished\n"
     ]
    },
    {
     "data": {
      "text/plain": [
       "GridSearchCV(cv=5, error_score='raise-deprecating',\n",
       "             estimator=ExtraTreesRegressor(bootstrap=False, criterion='mse',\n",
       "                                           max_depth=None, max_features='auto',\n",
       "                                           max_leaf_nodes=None,\n",
       "                                           min_impurity_decrease=0.0,\n",
       "                                           min_impurity_split=None,\n",
       "                                           min_samples_leaf=1,\n",
       "                                           min_samples_split=2,\n",
       "                                           min_weight_fraction_leaf=0.0,\n",
       "                                           n_estimators='warn', n_jobs=None,\n",
       "                                           oob_score=False, random_state=40,\n",
       "                                           verbose=0, warm_start=False),\n",
       "             iid='warn', n_jobs=-1,\n",
       "             param_grid=[{'max_depth': [80, 150, 200, 250],\n",
       "                          'max_features': ['auto', 'sqrt', 'log2'],\n",
       "                          'n_estimators': [100, 150, 200, 250]}],\n",
       "             pre_dispatch='2*n_jobs', refit=True, return_train_score=False,\n",
       "             scoring='r2', verbose=2)"
      ]
     },
     "execution_count": 46,
     "metadata": {},
     "output_type": "execute_result"
    }
   ],
   "source": [
    "from sklearn.model_selection import GridSearchCV\n",
    "param_grid = [{\n",
    "              'max_depth': [80, 150, 200,250],\n",
    "              'n_estimators' : [100,150,200,250],\n",
    "              'max_features': [\"auto\", \"sqrt\", \"log2\"]\n",
    "            }]\n",
    "reg = ExtraTreesRegressor(random_state=40)\n",
    "# Instantiate the grid search model\n",
    "grid_search = GridSearchCV(estimator = reg, param_grid = param_grid, cv = 5, n_jobs = -1 , scoring='r2' , verbose=2)\n",
    "grid_search.fit(train_X, train_y)"
   ]
  },
  {
   "cell_type": "code",
   "execution_count": 47,
   "metadata": {
    "_uuid": "d165dabb88077096cb24e5edc9f9d759168b58a4"
   },
   "outputs": [
    {
     "data": {
      "text/plain": [
       "{'max_depth': 80, 'max_features': 'sqrt', 'n_estimators': 200}"
      ]
     },
     "execution_count": 47,
     "metadata": {},
     "output_type": "execute_result"
    }
   ],
   "source": [
    "# Tuned parameter set\n",
    "grid_search.best_params_"
   ]
  },
  {
   "cell_type": "code",
   "execution_count": 48,
   "metadata": {
    "_uuid": "00a0c3e1968c90ea927a5e2219b5f800ba8c32e7"
   },
   "outputs": [
    {
     "data": {
      "text/plain": [
       "ExtraTreesRegressor(bootstrap=False, criterion='mse', max_depth=80,\n",
       "                    max_features='sqrt', max_leaf_nodes=None,\n",
       "                    min_impurity_decrease=0.0, min_impurity_split=None,\n",
       "                    min_samples_leaf=1, min_samples_split=2,\n",
       "                    min_weight_fraction_leaf=0.0, n_estimators=200, n_jobs=None,\n",
       "                    oob_score=False, random_state=40, verbose=0,\n",
       "                    warm_start=False)"
      ]
     },
     "execution_count": 48,
     "metadata": {},
     "output_type": "execute_result"
    }
   ],
   "source": [
    "# Best possible parameters for ExtraTreesRegressor\n",
    "grid_search.best_estimator_"
   ]
  },
  {
   "cell_type": "code",
   "execution_count": 49,
   "metadata": {
    "_uuid": "07097df94ef8097ce7628af88b2db9e18dfcb027"
   },
   "outputs": [
    {
     "data": {
      "text/plain": [
       "1.0"
      ]
     },
     "execution_count": 49,
     "metadata": {},
     "output_type": "execute_result"
    }
   ],
   "source": [
    "# R2 score on training set with tuned parameters\n",
    "\n",
    "grid_search.best_estimator_.score(train_X,train_y)"
   ]
  },
  {
   "cell_type": "code",
   "execution_count": 50,
   "metadata": {
    "_uuid": "038aebb89e9ca0575a0603e219237793830cde3d"
   },
   "outputs": [
    {
     "data": {
      "text/plain": [
       "0.6322654909219321"
      ]
     },
     "execution_count": 50,
     "metadata": {},
     "output_type": "execute_result"
    }
   ],
   "source": [
    "# R2 score on test set with tuned parameters\n",
    "grid_search.best_estimator_.score(test_X,test_y)"
   ]
  },
  {
   "cell_type": "code",
   "execution_count": 51,
   "metadata": {
    "_uuid": "0e9446bc077d0e3edd520d08a4da89da93d43135"
   },
   "outputs": [
    {
     "data": {
      "text/plain": [
       "0.6064111716303286"
      ]
     },
     "execution_count": 51,
     "metadata": {},
     "output_type": "execute_result"
    }
   ],
   "source": [
    "# RMSE score on test set with tuned parameters\n",
    "\n",
    "np.sqrt(mean_squared_error(test_y, grid_search.best_estimator_.predict(test_X)))"
   ]
  },
  {
   "cell_type": "markdown",
   "metadata": {
    "_uuid": "160bb1c15b1895f67385892f954a30dc33009a6c"
   },
   "source": [
    "### Observations\n",
    "\n",
    "Based on parameter tunning step we can see that \n",
    "\n",
    "1. Best possible parameter combination are - 'max_depth': 80, 'max_features': 'sqrt', 'n_estimators': 200\n",
    "\n",
    "    \n",
    "2. Training set  R2 score of 1.0 may be signal of overfitting on training set \n",
    "\n",
    "\n",
    "3. Test set R2 score is 0.63 improvement over 0.57 achieved using untuned model\n",
    "\n",
    "\n",
    "4. Test set RMSE score is 0.60 improvement over 0.65 achieved using untuned model \n",
    "\n",
    "\n"
   ]
  },
  {
   "cell_type": "markdown",
   "metadata": {
    "_uuid": "98b1fa624310a65b128eae12c12badfc73ecbd32"
   },
   "source": [
    "### Feature Importance "
   ]
  },
  {
   "cell_type": "code",
   "execution_count": 52,
   "metadata": {
    "_uuid": "f5f138c398e5145788017657f9ff691f51feb9da"
   },
   "outputs": [],
   "source": [
    "# Get sorted list of features in order of importance\n",
    "feature_indices = np.argsort(grid_search.best_estimator_.feature_importances_)"
   ]
  },
  {
   "cell_type": "code",
   "execution_count": 53,
   "metadata": {
    "_uuid": "f275f19c248554e12bcd22cf38fb19790d9baf1b"
   },
   "outputs": [
    {
     "data": {
      "image/png": "[encoded data removed]",
      "text/plain": [
       "<Figure size 720x432 with 1 Axes>"
      ]
     },
     "metadata": {
      "needs_background": "light"
     },
     "output_type": "display_data"
    }
   ],
   "source": [
    "importances = grid_search.best_estimator_.feature_importances_\n",
    "indices = np.argsort(importances)[::-1]\n",
    "names = [train_X.columns[i] for i in indices]\n",
    "# Create plot\n",
    "plt.figure(figsize=(10,6))\n",
    "\n",
    "# Create plot title\n",
    "plt.title(\"Feature Importance\")\n",
    "\n",
    "# Add bars\n",
    "plt.bar(range(train_X.shape[1]), importances[indices])\n",
    "\n",
    "# Add feature names as x-axis labels\n",
    "plt.xticks(range(train_X.shape[1]), names, rotation=90)\n",
    "\n",
    "# Show plot\n",
    "plt.show()"
   ]
  },
  {
   "cell_type": "code",
   "execution_count": 54,
   "metadata": {
    "_uuid": "61db26a43b3faaa547b6154bb934794023879c18"
   },
   "outputs": [
    {
     "data": {
      "text/plain": [
       "['RH_out', 'RH_8', 'RH_1', 'T3', 'RH_3']"
      ]
     },
     "execution_count": 54,
     "metadata": {},
     "output_type": "execute_result"
    }
   ],
   "source": [
    "# Get top 5 most important feature \n",
    "names[0:5]"
   ]
  },
  {
   "cell_type": "code",
   "execution_count": 55,
   "metadata": {
    "_uuid": "7bd14131b7bd023f8aa8662f4ea3ceca3efce5b7"
   },
   "outputs": [
    {
     "data": {
      "text/plain": [
       "['T7', 'Tdewpoint', 'Windspeed', 'T1', 'T5']"
      ]
     },
     "execution_count": 55,
     "metadata": {},
     "output_type": "execute_result"
    }
   ],
   "source": [
    "# Get 5 least important feature \n",
    "names[-5:]"
   ]
  },
  {
   "cell_type": "code",
   "execution_count": 56,
   "metadata": {
    "_uuid": "112a0dab66f5f486eb404ea3e9a41323b92022b8"
   },
   "outputs": [],
   "source": [
    "# Reduce test & training set to 5 feature set\n",
    "train_important_feature = train_X[names[0:5]]\n",
    "test_important_feature = test_X[names[0:5]]"
   ]
  },
  {
   "cell_type": "code",
   "execution_count": 57,
   "metadata": {
    "_uuid": "37dbe67a7e51caf6659fafe738c5abcd88987baa"
   },
   "outputs": [
    {
     "data": {
      "text/plain": [
       "ExtraTreesRegressor(bootstrap=False, criterion='mse', max_depth=80,\n",
       "                    max_features='sqrt', max_leaf_nodes=None,\n",
       "                    min_impurity_decrease=0.0, min_impurity_split=None,\n",
       "                    min_samples_leaf=1, min_samples_split=2,\n",
       "                    min_weight_fraction_leaf=0.0, n_estimators=200, n_jobs=None,\n",
       "                    oob_score=False, random_state=40, verbose=0,\n",
       "                    warm_start=False)"
      ]
     },
     "execution_count": 57,
     "metadata": {},
     "output_type": "execute_result"
    }
   ],
   "source": [
    "# Clone the Gridsearch model with his parameter and fit on reduced dataset\n",
    "\n",
    "from sklearn.base import clone\n",
    "cloned_model = clone(grid_search.best_estimator_)\n",
    "cloned_model.fit(train_important_feature , train_y)"
   ]
  },
  {
   "cell_type": "code",
   "execution_count": 58,
   "metadata": {
    "_uuid": "e58c24496754a52f819ba46182eb7519754cffff"
   },
   "outputs": [
    {
     "name": "stdout",
     "output_type": "stream",
     "text": [
      "Training set R2 Score -  0.9999837366892088\n",
      "Testing set R2 Score -  0.47235150831750805\n",
      "Testing set RMSE Score -  0.7263941710135703\n"
     ]
    }
   ],
   "source": [
    "# Reduced dataset scores \n",
    "\n",
    "print('Training set R2 Score - ', metrics.r2_score(train_y,cloned_model.predict(train_important_feature)))\n",
    "print('Testing set R2 Score - ', metrics.r2_score(test_y,cloned_model.predict(test_important_feature)))\n",
    "print('Testing set RMSE Score - ', np.sqrt(mean_squared_error(test_y, cloned_model.predict(test_important_feature))))\n"
   ]
  },
  {
   "cell_type": "markdown",
   "metadata": {
    "_uuid": "af51a63f8943b13a80fcf6827ce60688c6e45896"
   },
   "source": [
    "### Observations \n",
    "\n",
    "1. Based on parameter tunning step we can see that \n",
    "\n",
    "    a. 5 most important features are - 'RH_out', 'RH_8', 'RH_1', 'T3', 'RH_3'\n",
    "    \n",
    "    b. 5 least important features are - 'T7','Tdewpoint','Windspeed','T1','T5'\n",
    "    \n",
    "\n",
    "2. As can be observed with R2 Score , compared to Tuned model 0.63 the R2 score has come down to 0.47 which is decrease of 16% .\n",
    "\n",
    "\n",
    "3. The reduction in R2 score is high and we should not use reduced feature set for this data set"
   ]
  },
  {
   "cell_type": "markdown",
   "metadata": {
    "_uuid": "dd6dfc12865e55d6db090789a514d9e31e5e4cd2"
   },
   "source": [
    "# Conclusion\n",
    "\n",
    "1. The best Algorithm to use for this dataset Extra Trees Regressor\n",
    "\n",
    "2. The untuned model was able to explain 57% of variance on test set .\n",
    "\n",
    "3. The tuned model was able to explain 63% of varaince on tese set which is improvement of 10%\n",
    "\n",
    "4. The final model had 22 features \n",
    "\n",
    "5. Feature reduction was not able to add to better R2 score \n",
    "\n"
   ]
  }
 ],
 "metadata": {
  "kernelspec": {
   "display_name": "Python 3",
   "language": "python",
   "name": "python3"
  },
  "language_info": {
   "codemirror_mode": {
    "name": "ipython",
    "version": 3
   },
   "file_extension": ".py",
   "mimetype": "text/x-python",
   "name": "python",
   "nbconvert_exporter": "python",
   "pygments_lexer": "ipython3",
   "version": "3.11.0"
  }
 },
 "nbformat": 4,
 "nbformat_minor": 4
}
