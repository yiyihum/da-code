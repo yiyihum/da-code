{
 "cells": [
  {
   "cell_type": "code",
   "execution_count": 3,
   "metadata": {},
   "outputs": [],
   "source": [
    "import numpy as np # linear algebra\n",
    "import pandas as pd # data processing, CSV file I/O"
   ]
  },
  {
   "cell_type": "code",
   "execution_count": 4,
   "metadata": {},
   "outputs": [],
   "source": [
    "cars_df2 = pd.read_csv(\"cars_details_merges.csv\")"
   ]
  },
  {
   "cell_type": "code",
   "execution_count": 7,
   "metadata": {},
   "outputs": [],
   "source": [
    "def converst_to_number(x, conv: str = 'float'):\n",
    "    x = str(x)\n",
    "    new_str = ''\n",
    "    is_dec = True\n",
    "    for a in x:\n",
    "        if 48 <= ord(a) <= 57:\n",
    "            new_str += a\n",
    "            continue\n",
    "        elif a == ',' or a == '_':\n",
    "            continue\n",
    "        elif a == '.' and is_dec:\n",
    "            new_str += a\n",
    "            is_dec = False\n",
    "        else:\n",
    "            break\n",
    "    \n",
    "    if new_str == '':\n",
    "        return None\n",
    "    \n",
    "    if conv == 'int':\n",
    "        return int(new_str)\n",
    "    \n",
    "    return float(new_str)\n",
    "\n",
    "def get_begin_number(x):\n",
    "    return converst_to_number(x, 'int')\n",
    "\n",
    "def get_begin_float(x):\n",
    "    return converst_to_number(x, 'float')\n",
    "\n",
    "\n",
    "\n",
    "cars_df2['Bore'] = cars_df2['BoreX Stroke'].str.split('x').str[0].apply(get_begin_float).astype(float)\n",
    "cars_df2['Stroke'] = cars_df2['BoreX Stroke'].str.split('x').str[1].apply(get_begin_float).astype(float)\n",
    "\n",
    "cars_df2.drop(columns=['BoreX Stroke'], inplace=True, axis=1)\n",
    "\n",
    "\n",
    "\n",
    "cars_df2['Turbo Charger'] = cars_df2['Turbo Charger'].replace('yes', True)\n",
    "cars_df2['Turbo Charger'] = cars_df2['Turbo Charger'].replace('no', False).astype(bool)\n",
    "\n",
    "cars_df2['Super Charger'] = cars_df2['Turbo Charger'].replace('yes', True)\n",
    "cars_df2['Super Charger'] = cars_df2['Turbo Charger'].replace('no', False).astype(bool)"
   ]
  },
  {
   "cell_type": "code",
   "execution_count": 8,
   "metadata": {},
   "outputs": [],
   "source": [
    "cars_df2.to_csv('cars_details_merges1.csv', index=False)"
   ]
  }
 ],
 "metadata": {
  "kernelspec": {
   "display_name": "osworld",
   "language": "python",
   "name": "python3"
  },
  "language_info": {
   "codemirror_mode": {
    "name": "ipython",
    "version": 3
   },
   "file_extension": ".py",
   "mimetype": "text/x-python",
   "name": "python",
   "nbconvert_exporter": "python",
   "pygments_lexer": "ipython3",
   "version": "3.9.19"
  }
 },
 "nbformat": 4,
 "nbformat_minor": 2
}
