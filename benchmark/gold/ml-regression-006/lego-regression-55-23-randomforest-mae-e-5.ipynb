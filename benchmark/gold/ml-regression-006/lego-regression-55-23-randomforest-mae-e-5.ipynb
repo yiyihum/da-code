{
 "cells": [
  {
   "cell_type": "code",
   "execution_count": 1,
   "id": "4e088572",
   "metadata": {
    "_cell_guid": "b1076dfc-b9ad-4769-8c92-a6c4dae69d19",
    "_uuid": "8f2839f25d086af736a60e9eeb907d3b93b6e0e5",
    "execution": {
     "iopub.execute_input": "2023-12-05T03:53:23.210560Z",
     "iopub.status.busy": "2023-12-05T03:53:23.210126Z",
     "iopub.status.idle": "2023-12-05T03:53:23.665479Z",
     "shell.execute_reply": "2023-12-05T03:53:23.664060Z"
    },
    "papermill": {
     "duration": 0.470832,
     "end_time": "2023-12-05T03:53:23.668778",
     "exception": false,
     "start_time": "2023-12-05T03:53:23.197946",
     "status": "completed"
    },
    "tags": []
   },
   "outputs": [
    {
     "name": "stdout",
     "output_type": "stream",
     "text": [
      "/kaggle/input/lego-sets-and-price-1955-2023/Output.csv\n"
     ]
    }
   ],
   "source": [
    "# This Python 3 environment comes with many helpful analytics libraries installed\n",
    "# It is defined by the kaggle/python Docker image: https://github.com/kaggle/docker-python\n",
    "# For example, here's several helpful packages to load\n",
    "\n",
    "import numpy as np # linear algebra\n",
    "import pandas as pd # data processing, CSV file I/O (e.g. pd.read_csv)\n",
    "\n",
    "# Input data files are available in the read-only \"../input/\" directory\n",
    "# For example, running this (by clicking run or pressing Shift+Enter) will list all files under the input directory\n",
    "\n",
    "import os\n",
    "for dirname, _, filenames in os.walk('/kaggle/input'):\n",
    "    for filename in filenames:\n",
    "        print(os.path.join(dirname, filename))\n",
    "\n",
    "# You can write up to 20GB to the current directory (/kaggle/working/) that gets preserved as output when you create a version using \"Save & Run All\" \n",
    "# You can also write temporary files to /kaggle/temp/, but they won't be saved outside of the current session"
   ]
  },
  {
   "cell_type": "code",
   "execution_count": 2,
   "id": "3e9ff394",
   "metadata": {
    "execution": {
     "iopub.execute_input": "2023-12-05T03:53:23.687303Z",
     "iopub.status.busy": "2023-12-05T03:53:23.686783Z",
     "iopub.status.idle": "2023-12-05T03:53:54.071027Z",
     "shell.execute_reply": "2023-12-05T03:53:54.070002Z"
    },
    "papermill": {
     "duration": 30.40465,
     "end_time": "2023-12-05T03:53:54.081773",
     "exception": false,
     "start_time": "2023-12-05T03:53:23.677123",
     "status": "completed"
    },
    "tags": []
   },
   "outputs": [
    {
     "name": "stderr",
     "output_type": "stream",
     "text": [
      "/tmp/ipykernel_20/2695727865.py:1: DtypeWarning: Columns (9) have mixed types. Specify dtype option on import or set low_memory=False.\n",
      "  df = pd.read_csv(\"/kaggle/input/lego-sets-and-price-1955-2023/Output.csv\", sep=';')\n"
     ]
    },
    {
     "data": {
      "text/html": [
       "<div>\n",
       "<style scoped>\n",
       "    .dataframe tbody tr th:only-of-type {\n",
       "        vertical-align: middle;\n",
       "    }\n",
       "\n",
       "    .dataframe tbody tr th {\n",
       "        vertical-align: top;\n",
       "    }\n",
       "\n",
       "    .dataframe thead th {\n",
       "        text-align: right;\n",
       "    }\n",
       "</style>\n",
       "<table border=\"1\" class=\"dataframe\">\n",
       "  <thead>\n",
       "    <tr style=\"text-align: right;\">\n",
       "      <th></th>\n",
       "      <th>year</th>\n",
       "      <th>Theme name</th>\n",
       "      <th>Sets Name</th>\n",
       "      <th>Sets URL</th>\n",
       "      <th>Part category</th>\n",
       "      <th>Part name</th>\n",
       "      <th>Part material</th>\n",
       "      <th>Part color</th>\n",
       "      <th>RGB</th>\n",
       "      <th>Is Transparent?</th>\n",
       "      <th>Part URL</th>\n",
       "      <th>Set Price</th>\n",
       "      <th>Number of reviews</th>\n",
       "      <th>Star rating</th>\n",
       "    </tr>\n",
       "  </thead>\n",
       "  <tbody>\n",
       "    <tr>\n",
       "      <th>0</th>\n",
       "      <td>2016</td>\n",
       "      <td>Skylines</td>\n",
       "      <td>London</td>\n",
       "      <td>https://cdn.rebrickable.com/media/sets/21034-1...</td>\n",
       "      <td>Plates</td>\n",
       "      <td>Plate 4 x 8</td>\n",
       "      <td>Plastic</td>\n",
       "      <td>Dark Blue</td>\n",
       "      <td>0A3463</td>\n",
       "      <td>False</td>\n",
       "      <td>https://cdn.rebrickable.com/media/parts/elemen...</td>\n",
       "      <td>53,3556</td>\n",
       "      <td>23</td>\n",
       "      <td>4,7</td>\n",
       "    </tr>\n",
       "    <tr>\n",
       "      <th>1</th>\n",
       "      <td>2016</td>\n",
       "      <td>Skylines</td>\n",
       "      <td>London</td>\n",
       "      <td>https://cdn.rebrickable.com/media/sets/21034-1...</td>\n",
       "      <td>Plates</td>\n",
       "      <td>Plate 4 x 8</td>\n",
       "      <td>Plastic</td>\n",
       "      <td>Trans-Dark Blue</td>\n",
       "      <td>0020A0</td>\n",
       "      <td>True</td>\n",
       "      <td>https://cdn.rebrickable.com/media/parts/elemen...</td>\n",
       "      <td>53,3556</td>\n",
       "      <td>23</td>\n",
       "      <td>4,7</td>\n",
       "    </tr>\n",
       "    <tr>\n",
       "      <th>2</th>\n",
       "      <td>2016</td>\n",
       "      <td>Skylines</td>\n",
       "      <td>London</td>\n",
       "      <td>https://cdn.rebrickable.com/media/sets/21034-1...</td>\n",
       "      <td>Plates</td>\n",
       "      <td>Plate 4 x 8</td>\n",
       "      <td>Plastic</td>\n",
       "      <td>Dark Blue</td>\n",
       "      <td>0A3463</td>\n",
       "      <td>False</td>\n",
       "      <td>https://cdn.rebrickable.com/media/parts/elemen...</td>\n",
       "      <td>53,3556</td>\n",
       "      <td>23</td>\n",
       "      <td>4,7</td>\n",
       "    </tr>\n",
       "    <tr>\n",
       "      <th>3</th>\n",
       "      <td>2016</td>\n",
       "      <td>Skylines</td>\n",
       "      <td>London</td>\n",
       "      <td>https://cdn.rebrickable.com/media/sets/21034-1...</td>\n",
       "      <td>Plates</td>\n",
       "      <td>Plate 4 x 8</td>\n",
       "      <td>Plastic</td>\n",
       "      <td>Bright Green</td>\n",
       "      <td>4B9F4A</td>\n",
       "      <td>False</td>\n",
       "      <td>https://cdn.rebrickable.com/media/parts/elemen...</td>\n",
       "      <td>53,3556</td>\n",
       "      <td>23</td>\n",
       "      <td>4,7</td>\n",
       "    </tr>\n",
       "    <tr>\n",
       "      <th>4</th>\n",
       "      <td>2016</td>\n",
       "      <td>Skylines</td>\n",
       "      <td>London</td>\n",
       "      <td>https://cdn.rebrickable.com/media/sets/21034-1...</td>\n",
       "      <td>Plates</td>\n",
       "      <td>Plate 4 x 8</td>\n",
       "      <td>Plastic</td>\n",
       "      <td>Bright Light Blue</td>\n",
       "      <td>9FC3E9</td>\n",
       "      <td>False</td>\n",
       "      <td>https://cdn.rebrickable.com/media/parts/elemen...</td>\n",
       "      <td>53,3556</td>\n",
       "      <td>23</td>\n",
       "      <td>4,7</td>\n",
       "    </tr>\n",
       "  </tbody>\n",
       "</table>\n",
       "</div>"
      ],
      "text/plain": [
       "   year Theme name Sets Name  \\\n",
       "0  2016   Skylines    London   \n",
       "1  2016   Skylines    London   \n",
       "2  2016   Skylines    London   \n",
       "3  2016   Skylines    London   \n",
       "4  2016   Skylines    London   \n",
       "\n",
       "                                            Sets URL Part category  \\\n",
       "0  https://cdn.rebrickable.com/media/sets/21034-1...        Plates   \n",
       "1  https://cdn.rebrickable.com/media/sets/21034-1...        Plates   \n",
       "2  https://cdn.rebrickable.com/media/sets/21034-1...        Plates   \n",
       "3  https://cdn.rebrickable.com/media/sets/21034-1...        Plates   \n",
       "4  https://cdn.rebrickable.com/media/sets/21034-1...        Plates   \n",
       "\n",
       "     Part name Part material         Part color     RGB Is Transparent?  \\\n",
       "0  Plate 4 x 8       Plastic          Dark Blue  0A3463           False   \n",
       "1  Plate 4 x 8       Plastic    Trans-Dark Blue  0020A0            True   \n",
       "2  Plate 4 x 8       Plastic          Dark Blue  0A3463           False   \n",
       "3  Plate 4 x 8       Plastic       Bright Green  4B9F4A           False   \n",
       "4  Plate 4 x 8       Plastic  Bright Light Blue  9FC3E9           False   \n",
       "\n",
       "                                            Part URL Set Price  \\\n",
       "0  https://cdn.rebrickable.com/media/parts/elemen...   53,3556   \n",
       "1  https://cdn.rebrickable.com/media/parts/elemen...   53,3556   \n",
       "2  https://cdn.rebrickable.com/media/parts/elemen...   53,3556   \n",
       "3  https://cdn.rebrickable.com/media/parts/elemen...   53,3556   \n",
       "4  https://cdn.rebrickable.com/media/parts/elemen...   53,3556   \n",
       "\n",
       "  Number of reviews Star rating  \n",
       "0                23         4,7  \n",
       "1                23         4,7  \n",
       "2                23         4,7  \n",
       "3                23         4,7  \n",
       "4                23         4,7  "
      ]
     },
     "execution_count": 2,
     "metadata": {},
     "output_type": "execute_result"
    }
   ],
   "source": [
    "df = pd.read_csv(\"/kaggle/input/lego-sets-and-price-1955-2023/Output.csv\", sep=';')\n",
    "df.head()"
   ]
  },
  {
   "cell_type": "code",
   "execution_count": 3,
   "id": "9e538846",
   "metadata": {
    "execution": {
     "iopub.execute_input": "2023-12-05T03:53:54.101551Z",
     "iopub.status.busy": "2023-12-05T03:53:54.100656Z",
     "iopub.status.idle": "2023-12-05T03:53:54.727446Z",
     "shell.execute_reply": "2023-12-05T03:53:54.726280Z"
    },
    "papermill": {
     "duration": 0.639902,
     "end_time": "2023-12-05T03:53:54.730415",
     "exception": false,
     "start_time": "2023-12-05T03:53:54.090513",
     "status": "completed"
    },
    "tags": []
   },
   "outputs": [],
   "source": [
    "df.drop(columns=['Sets URL', 'Part URL'], axis=1, inplace=True)"
   ]
  },
  {
   "cell_type": "code",
   "execution_count": 4,
   "id": "0580256c",
   "metadata": {
    "execution": {
     "iopub.execute_input": "2023-12-05T03:53:54.749663Z",
     "iopub.status.busy": "2023-12-05T03:53:54.749210Z",
     "iopub.status.idle": "2023-12-05T03:53:54.772941Z",
     "shell.execute_reply": "2023-12-05T03:53:54.772009Z"
    },
    "papermill": {
     "duration": 0.036312,
     "end_time": "2023-12-05T03:53:54.775426",
     "exception": false,
     "start_time": "2023-12-05T03:53:54.739114",
     "status": "completed"
    },
    "tags": []
   },
   "outputs": [
    {
     "name": "stdout",
     "output_type": "stream",
     "text": [
      "<class 'pandas.core.frame.DataFrame'>\n",
      "RangeIndex: 4698983 entries, 0 to 4698982\n",
      "Data columns (total 12 columns):\n",
      " #   Column             Dtype \n",
      "---  ------             ----- \n",
      " 0   year               int64 \n",
      " 1   Theme name         object\n",
      " 2   Sets Name          object\n",
      " 3   Part category      object\n",
      " 4   Part name          object\n",
      " 5   Part material      object\n",
      " 6   Part color         object\n",
      " 7   RGB                object\n",
      " 8   Is Transparent?    object\n",
      " 9   Set Price          object\n",
      " 10  Number of reviews  object\n",
      " 11  Star rating        object\n",
      "dtypes: int64(1), object(11)\n",
      "memory usage: 430.2+ MB\n"
     ]
    }
   ],
   "source": [
    "df.info()"
   ]
  },
  {
   "cell_type": "code",
   "execution_count": 5,
   "id": "ae24e80f",
   "metadata": {
    "execution": {
     "iopub.execute_input": "2023-12-05T03:53:54.795891Z",
     "iopub.status.busy": "2023-12-05T03:53:54.795429Z",
     "iopub.status.idle": "2023-12-05T03:54:00.220561Z",
     "shell.execute_reply": "2023-12-05T03:54:00.219201Z"
    },
    "papermill": {
     "duration": 5.438233,
     "end_time": "2023-12-05T03:54:00.223369",
     "exception": false,
     "start_time": "2023-12-05T03:53:54.785136",
     "status": "completed"
    },
    "tags": []
   },
   "outputs": [
    {
     "data": {
      "text/plain": [
       "year                    0\n",
       "Theme name              0\n",
       "Sets Name               0\n",
       "Part category           1\n",
       "Part name               1\n",
       "Part material           1\n",
       "Part color           1239\n",
       "RGB                  1239\n",
       "Is Transparent?      1239\n",
       "Set Price               0\n",
       "Number of reviews       0\n",
       "Star rating             0\n",
       "dtype: int64"
      ]
     },
     "execution_count": 5,
     "metadata": {},
     "output_type": "execute_result"
    }
   ],
   "source": [
    "df.isna().sum()"
   ]
  },
  {
   "cell_type": "code",
   "execution_count": 6,
   "id": "2e92a3ed",
   "metadata": {
    "execution": {
     "iopub.execute_input": "2023-12-05T03:54:00.243325Z",
     "iopub.status.busy": "2023-12-05T03:54:00.242706Z",
     "iopub.status.idle": "2023-12-05T03:54:06.604030Z",
     "shell.execute_reply": "2023-12-05T03:54:06.603116Z"
    },
    "papermill": {
     "duration": 6.3745,
     "end_time": "2023-12-05T03:54:06.606872",
     "exception": false,
     "start_time": "2023-12-05T03:54:00.232372",
     "status": "completed"
    },
    "tags": []
   },
   "outputs": [],
   "source": [
    "df.dropna(axis=0, inplace=True)"
   ]
  },
  {
   "cell_type": "code",
   "execution_count": 7,
   "id": "4039c874",
   "metadata": {
    "execution": {
     "iopub.execute_input": "2023-12-05T03:54:06.626622Z",
     "iopub.status.busy": "2023-12-05T03:54:06.626231Z",
     "iopub.status.idle": "2023-12-05T03:54:08.652701Z",
     "shell.execute_reply": "2023-12-05T03:54:08.651315Z"
    },
    "papermill": {
     "duration": 2.039839,
     "end_time": "2023-12-05T03:54:08.655536",
     "exception": false,
     "start_time": "2023-12-05T03:54:06.615697",
     "status": "completed"
    },
    "tags": []
   },
   "outputs": [],
   "source": [
    "df['Star rating'] = df['Star rating'].apply(lambda x: x.replace(',', '.'))"
   ]
  },
  {
   "cell_type": "code",
   "execution_count": 8,
   "id": "ce6401fa",
   "metadata": {
    "execution": {
     "iopub.execute_input": "2023-12-05T03:54:08.675111Z",
     "iopub.status.busy": "2023-12-05T03:54:08.674690Z",
     "iopub.status.idle": "2023-12-05T03:54:35.515920Z",
     "shell.execute_reply": "2023-12-05T03:54:35.514781Z"
    },
    "papermill": {
     "duration": 26.854513,
     "end_time": "2023-12-05T03:54:35.518892",
     "exception": false,
     "start_time": "2023-12-05T03:54:08.664379",
     "status": "completed"
    },
    "tags": []
   },
   "outputs": [],
   "source": [
    "numeric_features = ['Set Price', 'Number of reviews', 'Star rating', 'year']\n",
    "\n",
    "for feature in numeric_features: \n",
    "    df[feature] = pd.to_numeric(df[feature].apply(lambda x: x.replace(\",\",\"\") if type(x) not in (int, float) else x))"
   ]
  },
  {
   "cell_type": "code",
   "execution_count": 9,
   "id": "8dc81bf1",
   "metadata": {
    "execution": {
     "iopub.execute_input": "2023-12-05T03:54:35.538633Z",
     "iopub.status.busy": "2023-12-05T03:54:35.538201Z",
     "iopub.status.idle": "2023-12-05T03:54:48.413377Z",
     "shell.execute_reply": "2023-12-05T03:54:48.412308Z"
    },
    "papermill": {
     "duration": 12.888305,
     "end_time": "2023-12-05T03:54:48.416300",
     "exception": false,
     "start_time": "2023-12-05T03:54:35.527995",
     "status": "completed"
    },
    "tags": []
   },
   "outputs": [],
   "source": [
    "# encoding \n",
    "from sklearn.preprocessing import LabelEncoder \n",
    "\n",
    "encoders = {}\n",
    "text_features = [feature for feature in df.columns if feature not in numeric_features]\n",
    "# print(text_features)\n",
    "\n",
    "for feature in text_features: \n",
    "    encoders[feature] = LabelEncoder()\n",
    "    df[feature] = encoders[feature].fit_transform(df[feature])"
   ]
  },
  {
   "cell_type": "code",
   "execution_count": 10,
   "id": "a16c1f90",
   "metadata": {
    "execution": {
     "iopub.execute_input": "2023-12-05T03:54:48.437659Z",
     "iopub.status.busy": "2023-12-05T03:54:48.436604Z",
     "iopub.status.idle": "2023-12-05T03:54:48.454707Z",
     "shell.execute_reply": "2023-12-05T03:54:48.453429Z"
    },
    "papermill": {
     "duration": 0.031605,
     "end_time": "2023-12-05T03:54:48.457294",
     "exception": false,
     "start_time": "2023-12-05T03:54:48.425689",
     "status": "completed"
    },
    "tags": []
   },
   "outputs": [
    {
     "data": {
      "text/html": [
       "<div>\n",
       "<style scoped>\n",
       "    .dataframe tbody tr th:only-of-type {\n",
       "        vertical-align: middle;\n",
       "    }\n",
       "\n",
       "    .dataframe tbody tr th {\n",
       "        vertical-align: top;\n",
       "    }\n",
       "\n",
       "    .dataframe thead th {\n",
       "        text-align: right;\n",
       "    }\n",
       "</style>\n",
       "<table border=\"1\" class=\"dataframe\">\n",
       "  <thead>\n",
       "    <tr style=\"text-align: right;\">\n",
       "      <th></th>\n",
       "      <th>year</th>\n",
       "      <th>Theme name</th>\n",
       "      <th>Sets Name</th>\n",
       "      <th>Part category</th>\n",
       "      <th>Part name</th>\n",
       "      <th>Part material</th>\n",
       "      <th>Part color</th>\n",
       "      <th>RGB</th>\n",
       "      <th>Is Transparent?</th>\n",
       "      <th>Set Price</th>\n",
       "      <th>Number of reviews</th>\n",
       "      <th>Star rating</th>\n",
       "    </tr>\n",
       "  </thead>\n",
       "  <tbody>\n",
       "    <tr>\n",
       "      <th>0</th>\n",
       "      <td>2016</td>\n",
       "      <td>73</td>\n",
       "      <td>248</td>\n",
       "      <td>28</td>\n",
       "      <td>2396</td>\n",
       "      <td>5</td>\n",
       "      <td>17</td>\n",
       "      <td>7</td>\n",
       "      <td>0</td>\n",
       "      <td>533556</td>\n",
       "      <td>23</td>\n",
       "      <td>4.7</td>\n",
       "    </tr>\n",
       "    <tr>\n",
       "      <th>1</th>\n",
       "      <td>2016</td>\n",
       "      <td>73</td>\n",
       "      <td>248</td>\n",
       "      <td>28</td>\n",
       "      <td>2396</td>\n",
       "      <td>5</td>\n",
       "      <td>117</td>\n",
       "      <td>0</td>\n",
       "      <td>1</td>\n",
       "      <td>533556</td>\n",
       "      <td>23</td>\n",
       "      <td>4.7</td>\n",
       "    </tr>\n",
       "    <tr>\n",
       "      <th>2</th>\n",
       "      <td>2016</td>\n",
       "      <td>73</td>\n",
       "      <td>248</td>\n",
       "      <td>28</td>\n",
       "      <td>2396</td>\n",
       "      <td>5</td>\n",
       "      <td>17</td>\n",
       "      <td>7</td>\n",
       "      <td>0</td>\n",
       "      <td>533556</td>\n",
       "      <td>23</td>\n",
       "      <td>4.7</td>\n",
       "    </tr>\n",
       "    <tr>\n",
       "      <th>3</th>\n",
       "      <td>2016</td>\n",
       "      <td>73</td>\n",
       "      <td>248</td>\n",
       "      <td>28</td>\n",
       "      <td>2396</td>\n",
       "      <td>5</td>\n",
       "      <td>3</td>\n",
       "      <td>18</td>\n",
       "      <td>0</td>\n",
       "      <td>533556</td>\n",
       "      <td>23</td>\n",
       "      <td>4.7</td>\n",
       "    </tr>\n",
       "    <tr>\n",
       "      <th>4</th>\n",
       "      <td>2016</td>\n",
       "      <td>73</td>\n",
       "      <td>248</td>\n",
       "      <td>28</td>\n",
       "      <td>2396</td>\n",
       "      <td>5</td>\n",
       "      <td>4</td>\n",
       "      <td>54</td>\n",
       "      <td>0</td>\n",
       "      <td>533556</td>\n",
       "      <td>23</td>\n",
       "      <td>4.7</td>\n",
       "    </tr>\n",
       "  </tbody>\n",
       "</table>\n",
       "</div>"
      ],
      "text/plain": [
       "   year  Theme name  Sets Name  Part category  Part name  Part material  \\\n",
       "0  2016          73        248             28       2396              5   \n",
       "1  2016          73        248             28       2396              5   \n",
       "2  2016          73        248             28       2396              5   \n",
       "3  2016          73        248             28       2396              5   \n",
       "4  2016          73        248             28       2396              5   \n",
       "\n",
       "   Part color  RGB  Is Transparent?  Set Price  Number of reviews  Star rating  \n",
       "0          17    7                0     533556                 23          4.7  \n",
       "1         117    0                1     533556                 23          4.7  \n",
       "2          17    7                0     533556                 23          4.7  \n",
       "3           3   18                0     533556                 23          4.7  \n",
       "4           4   54                0     533556                 23          4.7  "
      ]
     },
     "execution_count": 10,
     "metadata": {},
     "output_type": "execute_result"
    }
   ],
   "source": [
    "df.head()"
   ]
  },
  {
   "cell_type": "code",
   "execution_count": 11,
   "id": "7410c161",
   "metadata": {
    "execution": {
     "iopub.execute_input": "2023-12-05T03:54:48.477692Z",
     "iopub.status.busy": "2023-12-05T03:54:48.477242Z",
     "iopub.status.idle": "2023-12-05T03:54:52.170844Z",
     "shell.execute_reply": "2023-12-05T03:54:52.169582Z"
    },
    "papermill": {
     "duration": 3.708873,
     "end_time": "2023-12-05T03:54:52.175361",
     "exception": false,
     "start_time": "2023-12-05T03:54:48.466488",
     "status": "completed"
    },
    "tags": []
   },
   "outputs": [
    {
     "data": {
      "text/plain": [
       "<Axes: >"
      ]
     },
     "execution_count": 11,
     "metadata": {},
     "output_type": "execute_result"
    },
    {
     "data": {
      "image/png": "[encoded data removed]",
      "text/plain": [
       "<Figure size 2000x700 with 2 Axes>"
      ]
     },
     "metadata": {},
     "output_type": "display_data"
    }
   ],
   "source": [
    "import seaborn as sns\n",
    "import matplotlib.pyplot as plt\n",
    "\n",
    "plt.figure(figsize=(20,7))\n",
    "sns.heatmap(df.corr(), cmap=\"coolwarm\", annot=True)"
   ]
  },
  {
   "cell_type": "code",
   "execution_count": 12,
   "id": "ee96fe3a",
   "metadata": {
    "execution": {
     "iopub.execute_input": "2023-12-05T03:54:52.202287Z",
     "iopub.status.busy": "2023-12-05T03:54:52.200843Z",
     "iopub.status.idle": "2023-12-05T03:54:54.630429Z",
     "shell.execute_reply": "2023-12-05T03:54:54.628872Z"
    },
    "papermill": {
     "duration": 2.446461,
     "end_time": "2023-12-05T03:54:54.634002",
     "exception": false,
     "start_time": "2023-12-05T03:54:52.187541",
     "status": "completed"
    },
    "tags": []
   },
   "outputs": [
    {
     "name": "stdout",
     "output_type": "stream",
     "text": [
      "Removing these features: Index(['Theme name', 'Part material', 'Part color', 'RGB'], dtype='object')\n"
     ]
    }
   ],
   "source": [
    "# feature seletion\n",
    "corr = df.corr()\n",
    "corr = corr[\"Star rating\"]\n",
    "threshold = 0.005\n",
    "\n",
    "low_corr_features = corr[abs(corr) < threshold].index\n",
    "print(f\"Removing these features: {low_corr_features}\")\n",
    "df_filtered = df.drop(low_corr_features, axis=1)"
   ]
  },
  {
   "cell_type": "code",
   "execution_count": 13,
   "id": "428153a1",
   "metadata": {
    "execution": {
     "iopub.execute_input": "2023-12-05T03:54:54.659685Z",
     "iopub.status.busy": "2023-12-05T03:54:54.658968Z",
     "iopub.status.idle": "2023-12-05T03:54:54.672775Z",
     "shell.execute_reply": "2023-12-05T03:54:54.671541Z"
    },
    "papermill": {
     "duration": 0.029703,
     "end_time": "2023-12-05T03:54:54.675509",
     "exception": false,
     "start_time": "2023-12-05T03:54:54.645806",
     "status": "completed"
    },
    "tags": []
   },
   "outputs": [
    {
     "data": {
      "text/html": [
       "<div>\n",
       "<style scoped>\n",
       "    .dataframe tbody tr th:only-of-type {\n",
       "        vertical-align: middle;\n",
       "    }\n",
       "\n",
       "    .dataframe tbody tr th {\n",
       "        vertical-align: top;\n",
       "    }\n",
       "\n",
       "    .dataframe thead th {\n",
       "        text-align: right;\n",
       "    }\n",
       "</style>\n",
       "<table border=\"1\" class=\"dataframe\">\n",
       "  <thead>\n",
       "    <tr style=\"text-align: right;\">\n",
       "      <th></th>\n",
       "      <th>year</th>\n",
       "      <th>Sets Name</th>\n",
       "      <th>Part category</th>\n",
       "      <th>Part name</th>\n",
       "      <th>Is Transparent?</th>\n",
       "      <th>Set Price</th>\n",
       "      <th>Number of reviews</th>\n",
       "      <th>Star rating</th>\n",
       "    </tr>\n",
       "  </thead>\n",
       "  <tbody>\n",
       "    <tr>\n",
       "      <th>0</th>\n",
       "      <td>2016</td>\n",
       "      <td>248</td>\n",
       "      <td>28</td>\n",
       "      <td>2396</td>\n",
       "      <td>0</td>\n",
       "      <td>533556</td>\n",
       "      <td>23</td>\n",
       "      <td>4.7</td>\n",
       "    </tr>\n",
       "    <tr>\n",
       "      <th>1</th>\n",
       "      <td>2016</td>\n",
       "      <td>248</td>\n",
       "      <td>28</td>\n",
       "      <td>2396</td>\n",
       "      <td>1</td>\n",
       "      <td>533556</td>\n",
       "      <td>23</td>\n",
       "      <td>4.7</td>\n",
       "    </tr>\n",
       "    <tr>\n",
       "      <th>2</th>\n",
       "      <td>2016</td>\n",
       "      <td>248</td>\n",
       "      <td>28</td>\n",
       "      <td>2396</td>\n",
       "      <td>0</td>\n",
       "      <td>533556</td>\n",
       "      <td>23</td>\n",
       "      <td>4.7</td>\n",
       "    </tr>\n",
       "    <tr>\n",
       "      <th>3</th>\n",
       "      <td>2016</td>\n",
       "      <td>248</td>\n",
       "      <td>28</td>\n",
       "      <td>2396</td>\n",
       "      <td>0</td>\n",
       "      <td>533556</td>\n",
       "      <td>23</td>\n",
       "      <td>4.7</td>\n",
       "    </tr>\n",
       "    <tr>\n",
       "      <th>4</th>\n",
       "      <td>2016</td>\n",
       "      <td>248</td>\n",
       "      <td>28</td>\n",
       "      <td>2396</td>\n",
       "      <td>0</td>\n",
       "      <td>533556</td>\n",
       "      <td>23</td>\n",
       "      <td>4.7</td>\n",
       "    </tr>\n",
       "  </tbody>\n",
       "</table>\n",
       "</div>"
      ],
      "text/plain": [
       "   year  Sets Name  Part category  Part name  Is Transparent?  Set Price  \\\n",
       "0  2016        248             28       2396                0     533556   \n",
       "1  2016        248             28       2396                1     533556   \n",
       "2  2016        248             28       2396                0     533556   \n",
       "3  2016        248             28       2396                0     533556   \n",
       "4  2016        248             28       2396                0     533556   \n",
       "\n",
       "   Number of reviews  Star rating  \n",
       "0                 23          4.7  \n",
       "1                 23          4.7  \n",
       "2                 23          4.7  \n",
       "3                 23          4.7  \n",
       "4                 23          4.7  "
      ]
     },
     "execution_count": 13,
     "metadata": {},
     "output_type": "execute_result"
    }
   ],
   "source": [
    "df_filtered.head()"
   ]
  },
  {
   "cell_type": "code",
   "execution_count": 14,
   "id": "5355b97f",
   "metadata": {
    "execution": {
     "iopub.execute_input": "2023-12-05T03:54:54.701850Z",
     "iopub.status.busy": "2023-12-05T03:54:54.701384Z",
     "iopub.status.idle": "2023-12-05T03:54:55.353570Z",
     "shell.execute_reply": "2023-12-05T03:54:55.352372Z"
    },
    "papermill": {
     "duration": 0.668483,
     "end_time": "2023-12-05T03:54:55.356543",
     "exception": false,
     "start_time": "2023-12-05T03:54:54.688060",
     "status": "completed"
    },
    "tags": []
   },
   "outputs": [
    {
     "data": {
      "text/plain": [
       "4619399"
      ]
     },
     "execution_count": 14,
     "metadata": {},
     "output_type": "execute_result"
    }
   ],
   "source": [
    "df_filtered.duplicated().sum()"
   ]
  },
  {
   "cell_type": "code",
   "execution_count": 15,
   "id": "aaf9b5ea",
   "metadata": {
    "execution": {
     "iopub.execute_input": "2023-12-05T03:54:55.382281Z",
     "iopub.status.busy": "2023-12-05T03:54:55.381845Z",
     "iopub.status.idle": "2023-12-05T03:54:56.025494Z",
     "shell.execute_reply": "2023-12-05T03:54:56.024378Z"
    },
    "papermill": {
     "duration": 0.659942,
     "end_time": "2023-12-05T03:54:56.028450",
     "exception": false,
     "start_time": "2023-12-05T03:54:55.368508",
     "status": "completed"
    },
    "tags": []
   },
   "outputs": [],
   "source": [
    "df_filtered.drop_duplicates(inplace=True)"
   ]
  },
  {
   "cell_type": "code",
   "execution_count": 16,
   "id": "76fd0b46",
   "metadata": {
    "execution": {
     "iopub.execute_input": "2023-12-05T03:54:56.054791Z",
     "iopub.status.busy": "2023-12-05T03:54:56.054378Z",
     "iopub.status.idle": "2023-12-05T03:54:56.069393Z",
     "shell.execute_reply": "2023-12-05T03:54:56.067723Z"
    },
    "papermill": {
     "duration": 0.031377,
     "end_time": "2023-12-05T03:54:56.071986",
     "exception": false,
     "start_time": "2023-12-05T03:54:56.040609",
     "status": "completed"
    },
    "tags": []
   },
   "outputs": [
    {
     "name": "stdout",
     "output_type": "stream",
     "text": [
      "<class 'pandas.core.frame.DataFrame'>\n",
      "Index: 78345 entries, 0 to 4698660\n",
      "Data columns (total 8 columns):\n",
      " #   Column             Non-Null Count  Dtype  \n",
      "---  ------             --------------  -----  \n",
      " 0   year               78345 non-null  int64  \n",
      " 1   Sets Name          78345 non-null  int64  \n",
      " 2   Part category      78345 non-null  int64  \n",
      " 3   Part name          78345 non-null  int64  \n",
      " 4   Is Transparent?    78345 non-null  int64  \n",
      " 5   Set Price          78345 non-null  int64  \n",
      " 6   Number of reviews  78345 non-null  int64  \n",
      " 7   Star rating        78345 non-null  float64\n",
      "dtypes: float64(1), int64(7)\n",
      "memory usage: 5.4 MB\n"
     ]
    }
   ],
   "source": [
    "df_filtered.info()"
   ]
  },
  {
   "cell_type": "code",
   "execution_count": 17,
   "id": "028fc9c4",
   "metadata": {
    "execution": {
     "iopub.execute_input": "2023-12-05T03:54:56.099022Z",
     "iopub.status.busy": "2023-12-05T03:54:56.098159Z",
     "iopub.status.idle": "2023-12-05T03:54:56.232215Z",
     "shell.execute_reply": "2023-12-05T03:54:56.230963Z"
    },
    "papermill": {
     "duration": 0.15066,
     "end_time": "2023-12-05T03:54:56.235180",
     "exception": false,
     "start_time": "2023-12-05T03:54:56.084520",
     "status": "completed"
    },
    "tags": []
   },
   "outputs": [],
   "source": [
    "# splitting data\n",
    "from sklearn.model_selection import train_test_split\n",
    "\n",
    "X_train, X_test, y_train, y_test = train_test_split(df_filtered.drop('Star rating', axis=1), df_filtered['Star rating'])"
   ]
  },
  {
   "cell_type": "code",
   "execution_count": 18,
   "id": "172d5c4a",
   "metadata": {
    "execution": {
     "iopub.execute_input": "2023-12-05T03:54:56.261967Z",
     "iopub.status.busy": "2023-12-05T03:54:56.261542Z",
     "iopub.status.idle": "2023-12-05T03:54:56.265996Z",
     "shell.execute_reply": "2023-12-05T03:54:56.265040Z"
    },
    "papermill": {
     "duration": 0.020632,
     "end_time": "2023-12-05T03:54:56.268519",
     "exception": false,
     "start_time": "2023-12-05T03:54:56.247887",
     "status": "completed"
    },
    "tags": []
   },
   "outputs": [],
   "source": [
    "# !pip install --upgrade dask-cudf\n",
    "# !pip install --upgrade pandas"
   ]
  },
  {
   "cell_type": "code",
   "execution_count": 19,
   "id": "6de6c516",
   "metadata": {
    "execution": {
     "iopub.execute_input": "2023-12-05T03:54:56.295774Z",
     "iopub.status.busy": "2023-12-05T03:54:56.294672Z",
     "iopub.status.idle": "2023-12-05T03:55:02.577687Z",
     "shell.execute_reply": "2023-12-05T03:55:02.576753Z"
    },
    "papermill": {
     "duration": 6.299315,
     "end_time": "2023-12-05T03:55:02.580172",
     "exception": false,
     "start_time": "2023-12-05T03:54:56.280857",
     "status": "completed"
    },
    "tags": []
   },
   "outputs": [
    {
     "data": {
      "text/html": [
       "<style>#sk-container-id-1 {color: black;background-color: white;}#sk-container-id-1 pre{padding: 0;}#sk-container-id-1 div.sk-toggleable {background-color: white;}#sk-container-id-1 label.sk-toggleable__label {cursor: pointer;display: block;width: 100%;margin-bottom: 0;padding: 0.3em;box-sizing: border-box;text-align: center;}#sk-container-id-1 label.sk-toggleable__label-arrow:before {content: \"▸\";float: left;margin-right: 0.25em;color: #696969;}#sk-container-id-1 label.sk-toggleable__label-arrow:hover:before {color: black;}#sk-container-id-1 div.sk-estimator:hover label.sk-toggleable__label-arrow:before {color: black;}#sk-container-id-1 div.sk-toggleable__content {max-height: 0;max-width: 0;overflow: hidden;text-align: left;background-color: #f0f8ff;}#sk-container-id-1 div.sk-toggleable__content pre {margin: 0.2em;color: black;border-radius: 0.25em;background-color: #f0f8ff;}#sk-container-id-1 input.sk-toggleable__control:checked~div.sk-toggleable__content {max-height: 200px;max-width: 100%;overflow: auto;}#sk-container-id-1 input.sk-toggleable__control:checked~label.sk-toggleable__label-arrow:before {content: \"▾\";}#sk-container-id-1 div.sk-estimator input.sk-toggleable__control:checked~label.sk-toggleable__label {background-color: #d4ebff;}#sk-container-id-1 div.sk-label input.sk-toggleable__control:checked~label.sk-toggleable__label {background-color: #d4ebff;}#sk-container-id-1 input.sk-hidden--visually {border: 0;clip: rect(1px 1px 1px 1px);clip: rect(1px, 1px, 1px, 1px);height: 1px;margin: -1px;overflow: hidden;padding: 0;position: absolute;width: 1px;}#sk-container-id-1 div.sk-estimator {font-family: monospace;background-color: #f0f8ff;border: 1px dotted black;border-radius: 0.25em;box-sizing: border-box;margin-bottom: 0.5em;}#sk-container-id-1 div.sk-estimator:hover {background-color: #d4ebff;}#sk-container-id-1 div.sk-parallel-item::after {content: \"\";width: 100%;border-bottom: 1px solid gray;flex-grow: 1;}#sk-container-id-1 div.sk-label:hover label.sk-toggleable__label {background-color: #d4ebff;}#sk-container-id-1 div.sk-serial::before {content: \"\";position: absolute;border-left: 1px solid gray;box-sizing: border-box;top: 0;bottom: 0;left: 50%;z-index: 0;}#sk-container-id-1 div.sk-serial {display: flex;flex-direction: column;align-items: center;background-color: white;padding-right: 0.2em;padding-left: 0.2em;position: relative;}#sk-container-id-1 div.sk-item {position: relative;z-index: 1;}#sk-container-id-1 div.sk-parallel {display: flex;align-items: stretch;justify-content: center;background-color: white;position: relative;}#sk-container-id-1 div.sk-item::before, #sk-container-id-1 div.sk-parallel-item::before {content: \"\";position: absolute;border-left: 1px solid gray;box-sizing: border-box;top: 0;bottom: 0;left: 50%;z-index: -1;}#sk-container-id-1 div.sk-parallel-item {display: flex;flex-direction: column;z-index: 1;position: relative;background-color: white;}#sk-container-id-1 div.sk-parallel-item:first-child::after {align-self: flex-end;width: 50%;}#sk-container-id-1 div.sk-parallel-item:last-child::after {align-self: flex-start;width: 50%;}#sk-container-id-1 div.sk-parallel-item:only-child::after {width: 0;}#sk-container-id-1 div.sk-dashed-wrapped {border: 1px dashed gray;margin: 0 0.4em 0.5em 0.4em;box-sizing: border-box;padding-bottom: 0.4em;background-color: white;}#sk-container-id-1 div.sk-label label {font-family: monospace;font-weight: bold;display: inline-block;line-height: 1.2em;}#sk-container-id-1 div.sk-label-container {text-align: center;}#sk-container-id-1 div.sk-container {/* jupyter's `normalize.less` sets `[hidden] { display: none; }` but bootstrap.min.css set `[hidden] { display: none !important; }` so we also need the `!important` here to be able to override the default hidden behavior on the sphinx rendered scikit-learn.org. See: https://github.com/scikit-learn/scikit-learn/issues/21755 */display: inline-block !important;position: relative;}#sk-container-id-1 div.sk-text-repr-fallback {display: none;}</style><div id=\"sk-container-id-1\" class=\"sk-top-container\"><div class=\"sk-text-repr-fallback\"><pre>Pipeline(steps=[(&#x27;scaler&#x27;, StandardScaler()),\n",
       "                (&#x27;regressor&#x27;, RandomForestRegressor(n_jobs=-1))])</pre><b>In a Jupyter environment, please rerun this cell to show the HTML representation or trust the notebook. <br />On GitHub, the HTML representation is unable to render, please try loading this page with nbviewer.org.</b></div><div class=\"sk-container\" hidden><div class=\"sk-item sk-dashed-wrapped\"><div class=\"sk-label-container\"><div class=\"sk-label sk-toggleable\"><input class=\"sk-toggleable__control sk-hidden--visually\" id=\"sk-estimator-id-1\" type=\"checkbox\" ><label for=\"sk-estimator-id-1\" class=\"sk-toggleable__label sk-toggleable__label-arrow\">Pipeline</label><div class=\"sk-toggleable__content\"><pre>Pipeline(steps=[(&#x27;scaler&#x27;, StandardScaler()),\n",
       "                (&#x27;regressor&#x27;, RandomForestRegressor(n_jobs=-1))])</pre></div></div></div><div class=\"sk-serial\"><div class=\"sk-item\"><div class=\"sk-estimator sk-toggleable\"><input class=\"sk-toggleable__control sk-hidden--visually\" id=\"sk-estimator-id-2\" type=\"checkbox\" ><label for=\"sk-estimator-id-2\" class=\"sk-toggleable__label sk-toggleable__label-arrow\">StandardScaler</label><div class=\"sk-toggleable__content\"><pre>StandardScaler()</pre></div></div></div><div class=\"sk-item\"><div class=\"sk-estimator sk-toggleable\"><input class=\"sk-toggleable__control sk-hidden--visually\" id=\"sk-estimator-id-3\" type=\"checkbox\" ><label for=\"sk-estimator-id-3\" class=\"sk-toggleable__label sk-toggleable__label-arrow\">RandomForestRegressor</label><div class=\"sk-toggleable__content\"><pre>RandomForestRegressor(n_jobs=-1)</pre></div></div></div></div></div></div></div>"
      ],
      "text/plain": [
       "Pipeline(steps=[('scaler', StandardScaler()),\n",
       "                ('regressor', RandomForestRegressor(n_jobs=-1))])"
      ]
     },
     "execution_count": 19,
     "metadata": {},
     "output_type": "execute_result"
    }
   ],
   "source": [
    "# train \n",
    "from sklearn.pipeline import Pipeline\n",
    "from sklearn.preprocessing import StandardScaler\n",
    "from sklearn.ensemble import RandomForestRegressor\n",
    "# from cuml.ensembe import RamdomForestRegressor\n",
    "\n",
    "pipe1 = Pipeline([\n",
    "    (\"scaler\", StandardScaler()),\n",
    "    (\"regressor\", RandomForestRegressor(n_jobs = -1))\n",
    "])\n",
    "\n",
    "pipe1.fit(X_train, y_train)"
   ]
  },
  {
   "cell_type": "code",
   "execution_count": 20,
   "id": "10c7d3c0",
   "metadata": {
    "execution": {
     "iopub.execute_input": "2023-12-05T03:55:02.608340Z",
     "iopub.status.busy": "2023-12-05T03:55:02.607528Z",
     "iopub.status.idle": "2023-12-05T03:55:02.738294Z",
     "shell.execute_reply": "2023-12-05T03:55:02.736979Z"
    },
    "papermill": {
     "duration": 0.1477,
     "end_time": "2023-12-05T03:55:02.741017",
     "exception": false,
     "start_time": "2023-12-05T03:55:02.593317",
     "status": "completed"
    },
    "tags": []
   },
   "outputs": [
    {
     "name": "stdout",
     "output_type": "stream",
     "text": [
      "MeanAbsoluteError with RandomForestRegressor is 0.0001965498069937865\n"
     ]
    }
   ],
   "source": [
    "# test\n",
    "from sklearn.metrics import mean_absolute_error\n",
    "y_pred = pipe1.predict(X_test)\n",
    "mae= mean_absolute_error(y_test, y_pred)\n",
    "print(f\"MeanAbsoluteError with RandomForestRegressor is {mae}\")"
   ]
  },
  {
   "cell_type": "code",
   "execution_count": 21,
   "id": "d54ab834",
   "metadata": {
    "execution": {
     "iopub.execute_input": "2023-12-05T03:55:02.769415Z",
     "iopub.status.busy": "2023-12-05T03:55:02.768988Z",
     "iopub.status.idle": "2023-12-05T03:55:02.773472Z",
     "shell.execute_reply": "2023-12-05T03:55:02.772575Z"
    },
    "papermill": {
     "duration": 0.02149,
     "end_time": "2023-12-05T03:55:02.775542",
     "exception": false,
     "start_time": "2023-12-05T03:55:02.754052",
     "status": "completed"
    },
    "tags": []
   },
   "outputs": [],
   "source": [
    "# so, the Mean abslute erorr is 10 power -5, hence the model is doing well \n",
    "# please ping if any wrong in the analysis, I'm a learner. \n",
    "# also add any good questions, if you have any. \n",
    "# thanks"
   ]
  },
  {
   "cell_type": "code",
   "execution_count": 22,
   "id": "6da330b5",
   "metadata": {
    "execution": {
     "iopub.execute_input": "2023-12-05T03:55:02.804053Z",
     "iopub.status.busy": "2023-12-05T03:55:02.803612Z",
     "iopub.status.idle": "2023-12-05T03:55:02.810086Z",
     "shell.execute_reply": "2023-12-05T03:55:02.808749Z"
    },
    "papermill": {
     "duration": 0.023512,
     "end_time": "2023-12-05T03:55:02.812574",
     "exception": false,
     "start_time": "2023-12-05T03:55:02.789062",
     "status": "completed"
    },
    "tags": []
   },
   "outputs": [],
   "source": [
    "# import cudf\n",
    "# from cuml.ensemble import RandomForestRegressor\n",
    "# from cuml.preprocessing import LabelEncoder\n",
    "# from cuml.model_selection import train_test_split\n",
    "# from cuml.metrics import mean_squared_error\n",
    "\n",
    "# # Assuming 'df' is your preprocessed DataFrame\n",
    "# # Drop unnecessary columns (if any) for training\n",
    "# X = df.drop(['Star rating'], axis=1)\n",
    "\n",
    "# # Convert categorical variables to numerical representations using LabelEncoder\n",
    "# label_encoder = LabelEncoder()\n",
    "# X_encoded = X.apply(label_encoder.fit_transform)\n",
    "\n",
    "# # Extract the target variable\n",
    "# y = df['Star rating']\n",
    "\n",
    "# # Split the data into training and testing sets\n",
    "# X_train, X_test, y_train, y_test = train_test_split(X_encoded, y, test_size=0.2, random_state=42)\n",
    "\n",
    "# # Train the RandomForestRegressor on GPU\n",
    "# rf_regressor = RandomForestRegressor()\n",
    "# rf_regressor.fit(X_train, y_train)\n",
    "\n",
    "# # Make predictions on the test set\n",
    "# y_pred = rf_regressor.predict(X_test)\n",
    "\n",
    "# # Evaluate the model\n",
    "# mse = mean_squared_error(y_test, y_pred)\n",
    "# print(f\"Mean Squared Error: {mse}\")\n"
   ]
  },
  {
   "cell_type": "code",
   "execution_count": null,
   "id": "542daf73",
   "metadata": {
    "papermill": {
     "duration": 0.01341,
     "end_time": "2023-12-05T03:55:02.839238",
     "exception": false,
     "start_time": "2023-12-05T03:55:02.825828",
     "status": "completed"
    },
    "tags": []
   },
   "outputs": [],
   "source": []
  }
 ],
 "metadata": {
  "kaggle": {
   "accelerator": "none",
   "dataSources": [
    {
     "datasetId": 4018138,
     "sourceId": 6990883,
     "sourceType": "datasetVersion"
    }
   ],
   "dockerImageVersionId": 30588,
   "isGpuEnabled": false,
   "isInternetEnabled": true,
   "language": "python",
   "sourceType": "notebook"
  },
  "kernelspec": {
   "display_name": "Python 3",
   "language": "python",
   "name": "python3"
  },
  "language_info": {
   "codemirror_mode": {
    "name": "ipython",
    "version": 3
   },
   "file_extension": ".py",
   "mimetype": "text/x-python",
   "name": "python",
   "nbconvert_exporter": "python",
   "pygments_lexer": "ipython3",
   "version": "3.10.12"
  },
  "papermill": {
   "default_parameters": {},
   "duration": 104.199516,
   "end_time": "2023-12-05T03:55:03.775927",
   "environment_variables": {},
   "exception": null,
   "input_path": "__notebook__.ipynb",
   "output_path": "__notebook__.ipynb",
   "parameters": {},
   "start_time": "2023-12-05T03:53:19.576411",
   "version": "2.4.0"
  }
 },
 "nbformat": 4,
 "nbformat_minor": 5
}
