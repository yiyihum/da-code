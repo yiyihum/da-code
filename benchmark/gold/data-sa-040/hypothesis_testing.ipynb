{
  "cells": [
    {
      "source": [
        "# **Hypothesis Testing in Healthcare: Drug Safety**\n",
        "\n",
        "**Background**\n",
        "\n",
        "A pharmaceutical company GlobalXYZ has just completed a randomized controlled drug trial. To promote transparency and reproducibility of the drug's outcome, they (GlobalXYZ) have presented the dataset to your organization, a non-profit that focuses primarily on drug safety.\n",
        "\n",
        "The dataset provided contained five adverse effects, demographic data, vital signs, etc. Your organization is primarily interested in the drug's adverse reactions. It wants to know if the adverse reactions, if any, are of significant proportions. It has asked you to explore and answer some questions from the data.\n",
        "\n",
        "It contained five adverse effects: headache, abdominal pain, dyspepsia, upper respiratory infection, chronic obstructive airway disease (COAD), demographic data, vital signs, lab measures, etc. The ratio of drug observations to placebo observations is 2 to 1.\n",
        "\n",
        "For this project, the dataset has been modified to reflect the presence and absence of adverse effects `adverse_effects` and the number of adverse effects in a single individual `num_effects`.\n",
        "\n",
        "The columns in the modified dataset are:\n",
        "\n",
        "| Column | Description |\n",
        "|--------|-------------|\n",
        "|`sex` | The gender of the individual |\n",
        "|`age` | The age of the individual |\n",
        "|`week` | The week of the drug testing |\n",
        "|`trx` | The treatment (Drug) and control (Placebo) groups |\n",
        "|`wbc` | The count of white blood cells |\n",
        "|`rbc` | The count of red blood cells |\n",
        "|`adverse_effects` | The presence of at least a single adverse effect |\n",
        "|`num_effects` | The number of adverse effects experienced by a single individual |\n",
        "\n",
        "The original dataset can be found [here](https://hbiostat.org/data/repo/safety.rda).\n",
        "\n",
        "Your organization has asked you to explore and answer some questions from the data collected. The goal is to know if the adverse reactions, if any, are of significant proportions."
      ],
      "metadata": {
        "id": "59090772-03e5-4a43-a7c7-eebdfa709342"
      },
      "id": "59090772-03e5-4a43-a7c7-eebdfa709342",
      "cell_type": "markdown"
    },
    {
      "cell_type": "code",
      "source": [
        "! pip install pingouin"
      ],
      "metadata": {
        "colab": {
          "base_uri": "https://localhost:8080/"
        },
        "id": "bSGLUt2hScNE",
        "outputId": "70679f68-028b-4a4e-8382-a749c9935c8c"
      },
      "id": "bSGLUt2hScNE",
      "execution_count": 4,
      "outputs": [
        {
          "output_type": "stream",
          "name": "stdout",
          "text": [
            "Requirement already satisfied: pingouin in /usr/local/lib/python3.10/dist-packages (0.5.4)\n",
            "Requirement already satisfied: numpy in /usr/local/lib/python3.10/dist-packages (from pingouin) (1.23.5)\n",
            "Requirement already satisfied: scipy in /usr/local/lib/python3.10/dist-packages (from pingouin) (1.11.4)\n",
            "Requirement already satisfied: pandas>=1.5 in /usr/local/lib/python3.10/dist-packages (from pingouin) (1.5.3)\n",
            "Requirement already satisfied: matplotlib in /usr/local/lib/python3.10/dist-packages (from pingouin) (3.7.1)\n",
            "Requirement already satisfied: seaborn in /usr/local/lib/python3.10/dist-packages (from pingouin) (0.13.1)\n",
            "Requirement already satisfied: statsmodels in /usr/local/lib/python3.10/dist-packages (from pingouin) (0.14.1)\n",
            "Requirement already satisfied: scikit-learn in /usr/local/lib/python3.10/dist-packages (from pingouin) (1.2.2)\n",
            "Requirement already satisfied: pandas-flavor in /usr/local/lib/python3.10/dist-packages (from pingouin) (0.6.0)\n",
            "Requirement already satisfied: tabulate in /usr/local/lib/python3.10/dist-packages (from pingouin) (0.9.0)\n",
            "Requirement already satisfied: python-dateutil>=2.8.1 in /usr/local/lib/python3.10/dist-packages (from pandas>=1.5->pingouin) (2.8.2)\n",
            "Requirement already satisfied: pytz>=2020.1 in /usr/local/lib/python3.10/dist-packages (from pandas>=1.5->pingouin) (2023.3.post1)\n",
            "Requirement already satisfied: contourpy>=1.0.1 in /usr/local/lib/python3.10/dist-packages (from matplotlib->pingouin) (1.2.0)\n",
            "Requirement already satisfied: cycler>=0.10 in /usr/local/lib/python3.10/dist-packages (from matplotlib->pingouin) (0.12.1)\n",
            "Requirement already satisfied: fonttools>=4.22.0 in /usr/local/lib/python3.10/dist-packages (from matplotlib->pingouin) (4.47.2)\n",
            "Requirement already satisfied: kiwisolver>=1.0.1 in /usr/local/lib/python3.10/dist-packages (from matplotlib->pingouin) (1.4.5)\n",
            "Requirement already satisfied: packaging>=20.0 in /usr/local/lib/python3.10/dist-packages (from matplotlib->pingouin) (23.2)\n",
            "Requirement already satisfied: pillow>=6.2.0 in /usr/local/lib/python3.10/dist-packages (from matplotlib->pingouin) (9.4.0)\n",
            "Requirement already satisfied: pyparsing>=2.3.1 in /usr/local/lib/python3.10/dist-packages (from matplotlib->pingouin) (3.1.1)\n",
            "Requirement already satisfied: xarray in /usr/local/lib/python3.10/dist-packages (from pandas-flavor->pingouin) (2023.7.0)\n",
            "Requirement already satisfied: joblib>=1.1.1 in /usr/local/lib/python3.10/dist-packages (from scikit-learn->pingouin) (1.3.2)\n",
            "Requirement already satisfied: threadpoolctl>=2.0.0 in /usr/local/lib/python3.10/dist-packages (from scikit-learn->pingouin) (3.2.0)\n",
            "Requirement already satisfied: patsy>=0.5.4 in /usr/local/lib/python3.10/dist-packages (from statsmodels->pingouin) (0.5.6)\n",
            "Requirement already satisfied: six in /usr/local/lib/python3.10/dist-packages (from patsy>=0.5.4->statsmodels->pingouin) (1.16.0)\n"
          ]
        }
      ]
    },
    {
      "cell_type": "code",
      "source": [
        "# Import packages\n",
        "import numpy as np\n",
        "import pandas as pd\n",
        "from statsmodels.stats.proportion import proportions_ztest\n",
        "import pingouin\n",
        "import seaborn as sns\n",
        "import matplotlib.pyplot as plt"
      ],
      "metadata": {
        "id": "pwHTSKDOSQpe"
      },
      "id": "pwHTSKDOSQpe",
      "execution_count": 7,
      "outputs": []
    },
    {
      "cell_type": "markdown",
      "source": [
        "### **1. Performing Two-Sample Proportions Z-Test to compare the adverse effects between two treatment groups (Drug and Placebo)**"
      ],
      "metadata": {
        "id": "qPZjVbMQTxT3"
      },
      "id": "qPZjVbMQTxT3"
    },
    {
      "cell_type": "code",
      "source": [
        "# Load the dataset\n",
        "drug_safety = pd.read_csv(\"drug_safety.csv\")\n",
        "drug_safety"
      ],
      "metadata": {
        "colab": {
          "base_uri": "https://localhost:8080/",
          "height": 424
        },
        "id": "XovOz9hrSoXV",
        "outputId": "b1c5f308-5672-4824-a3e6-15f91f81ad6c"
      },
      "id": "XovOz9hrSoXV",
      "execution_count": 8,
      "outputs": [
        {
          "output_type": "execute_result",
          "data": {
            "text/plain": [
              "       age   sex      trx  week  wbc  rbc adverse_effects  num_effects\n",
              "0       62  male     Drug     0  7.3  5.1              No            0\n",
              "1       62  male     Drug     1  NaN  NaN              No            0\n",
              "2       62  male     Drug    12  5.6  5.0              No            0\n",
              "3       62  male     Drug    16  NaN  NaN              No            0\n",
              "4       62  male     Drug     2  6.6  5.1              No            0\n",
              "...    ...   ...      ...   ...  ...  ...             ...          ...\n",
              "16098   78  male  Placebo    16  NaN  NaN             Yes            1\n",
              "16099   78  male  Placebo     2  7.5  4.9              No            0\n",
              "16100   78  male  Placebo    20  NaN  NaN             Yes            1\n",
              "16101   78  male  Placebo     4  6.4  4.8              No            0\n",
              "16102   78  male  Placebo     8  7.8  4.8              No            0\n",
              "\n",
              "[16103 rows x 8 columns]"
            ],
            "text/html": [
              "\n",
              "  <div id=\"df-7e892d3a-89d9-4f70-ab7e-604feac1a787\" class=\"colab-df-container\">\n",
              "    <div>\n",
              "<style scoped>\n",
              "    .dataframe tbody tr th:only-of-type {\n",
              "        vertical-align: middle;\n",
              "    }\n",
              "\n",
              "    .dataframe tbody tr th {\n",
              "        vertical-align: top;\n",
              "    }\n",
              "\n",
              "    .dataframe thead th {\n",
              "        text-align: right;\n",
              "    }\n",
              "</style>\n",
              "<table border=\"1\" class=\"dataframe\">\n",
              "  <thead>\n",
              "    <tr style=\"text-align: right;\">\n",
              "      <th></th>\n",
              "      <th>age</th>\n",
              "      <th>sex</th>\n",
              "      <th>trx</th>\n",
              "      <th>week</th>\n",
              "      <th>wbc</th>\n",
              "      <th>rbc</th>\n",
              "      <th>adverse_effects</th>\n",
              "      <th>num_effects</th>\n",
              "    </tr>\n",
              "  </thead>\n",
              "  <tbody>\n",
              "    <tr>\n",
              "      <th>0</th>\n",
              "      <td>62</td>\n",
              "      <td>male</td>\n",
              "      <td>Drug</td>\n",
              "      <td>0</td>\n",
              "      <td>7.3</td>\n",
              "      <td>5.1</td>\n",
              "      <td>No</td>\n",
              "      <td>0</td>\n",
              "    </tr>\n",
              "    <tr>\n",
              "      <th>1</th>\n",
              "      <td>62</td>\n",
              "      <td>male</td>\n",
              "      <td>Drug</td>\n",
              "      <td>1</td>\n",
              "      <td>NaN</td>\n",
              "      <td>NaN</td>\n",
              "      <td>No</td>\n",
              "      <td>0</td>\n",
              "    </tr>\n",
              "    <tr>\n",
              "      <th>2</th>\n",
              "      <td>62</td>\n",
              "      <td>male</td>\n",
              "      <td>Drug</td>\n",
              "      <td>12</td>\n",
              "      <td>5.6</td>\n",
              "      <td>5.0</td>\n",
              "      <td>No</td>\n",
              "      <td>0</td>\n",
              "    </tr>\n",
              "    <tr>\n",
              "      <th>3</th>\n",
              "      <td>62</td>\n",
              "      <td>male</td>\n",
              "      <td>Drug</td>\n",
              "      <td>16</td>\n",
              "      <td>NaN</td>\n",
              "      <td>NaN</td>\n",
              "      <td>No</td>\n",
              "      <td>0</td>\n",
              "    </tr>\n",
              "    <tr>\n",
              "      <th>4</th>\n",
              "      <td>62</td>\n",
              "      <td>male</td>\n",
              "      <td>Drug</td>\n",
              "      <td>2</td>\n",
              "      <td>6.6</td>\n",
              "      <td>5.1</td>\n",
              "      <td>No</td>\n",
              "      <td>0</td>\n",
              "    </tr>\n",
              "    <tr>\n",
              "      <th>...</th>\n",
              "      <td>...</td>\n",
              "      <td>...</td>\n",
              "      <td>...</td>\n",
              "      <td>...</td>\n",
              "      <td>...</td>\n",
              "      <td>...</td>\n",
              "      <td>...</td>\n",
              "      <td>...</td>\n",
              "    </tr>\n",
              "    <tr>\n",
              "      <th>16098</th>\n",
              "      <td>78</td>\n",
              "      <td>male</td>\n",
              "      <td>Placebo</td>\n",
              "      <td>16</td>\n",
              "      <td>NaN</td>\n",
              "      <td>NaN</td>\n",
              "      <td>Yes</td>\n",
              "      <td>1</td>\n",
              "    </tr>\n",
              "    <tr>\n",
              "      <th>16099</th>\n",
              "      <td>78</td>\n",
              "      <td>male</td>\n",
              "      <td>Placebo</td>\n",
              "      <td>2</td>\n",
              "      <td>7.5</td>\n",
              "      <td>4.9</td>\n",
              "      <td>No</td>\n",
              "      <td>0</td>\n",
              "    </tr>\n",
              "    <tr>\n",
              "      <th>16100</th>\n",
              "      <td>78</td>\n",
              "      <td>male</td>\n",
              "      <td>Placebo</td>\n",
              "      <td>20</td>\n",
              "      <td>NaN</td>\n",
              "      <td>NaN</td>\n",
              "      <td>Yes</td>\n",
              "      <td>1</td>\n",
              "    </tr>\n",
              "    <tr>\n",
              "      <th>16101</th>\n",
              "      <td>78</td>\n",
              "      <td>male</td>\n",
              "      <td>Placebo</td>\n",
              "      <td>4</td>\n",
              "      <td>6.4</td>\n",
              "      <td>4.8</td>\n",
              "      <td>No</td>\n",
              "      <td>0</td>\n",
              "    </tr>\n",
              "    <tr>\n",
              "      <th>16102</th>\n",
              "      <td>78</td>\n",
              "      <td>male</td>\n",
              "      <td>Placebo</td>\n",
              "      <td>8</td>\n",
              "      <td>7.8</td>\n",
              "      <td>4.8</td>\n",
              "      <td>No</td>\n",
              "      <td>0</td>\n",
              "    </tr>\n",
              "  </tbody>\n",
              "</table>\n",
              "<p>16103 rows × 8 columns</p>\n",
              "</div>\n",
              "    <div class=\"colab-df-buttons\">\n",
              "\n",
              "  <div class=\"colab-df-container\">\n",
              "    <button class=\"colab-df-convert\" onclick=\"convertToInteractive('df-7e892d3a-89d9-4f70-ab7e-604feac1a787')\"\n",
              "            title=\"Convert this dataframe to an interactive table.\"\n",
              "            style=\"display:none;\">\n",
              "\n",
              "  <svg xmlns=\"http://www.w3.org/2000/svg\" height=\"24px\" viewBox=\"0 -960 960 960\">\n",
              "    <path d=\"M120-120v-720h720v720H120Zm60-500h600v-160H180v160Zm220 220h160v-160H400v160Zm0 220h160v-160H400v160ZM180-400h160v-160H180v160Zm440 0h160v-160H620v160ZM180-180h160v-160H180v160Zm440 0h160v-160H620v160Z\"/>\n",
              "  </svg>\n",
              "    </button>\n",
              "\n",
              "  <style>\n",
              "    .colab-df-container {\n",
              "      display:flex;\n",
              "      gap: 12px;\n",
              "    }\n",
              "\n",
              "    .colab-df-convert {\n",
              "      background-color: #E8F0FE;\n",
              "      border: none;\n",
              "      border-radius: 50%;\n",
              "      cursor: pointer;\n",
              "      display: none;\n",
              "      fill: #1967D2;\n",
              "      height: 32px;\n",
              "      padding: 0 0 0 0;\n",
              "      width: 32px;\n",
              "    }\n",
              "\n",
              "    .colab-df-convert:hover {\n",
              "      background-color: #E2EBFA;\n",
              "      box-shadow: 0px 1px 2px rgba(60, 64, 67, 0.3), 0px 1px 3px 1px rgba(60, 64, 67, 0.15);\n",
              "      fill: #174EA6;\n",
              "    }\n",
              "\n",
              "    .colab-df-buttons div {\n",
              "      margin-bottom: 4px;\n",
              "    }\n",
              "\n",
              "    [theme=dark] .colab-df-convert {\n",
              "      background-color: #3B4455;\n",
              "      fill: #D2E3FC;\n",
              "    }\n",
              "\n",
              "    [theme=dark] .colab-df-convert:hover {\n",
              "      background-color: #434B5C;\n",
              "      box-shadow: 0px 1px 3px 1px rgba(0, 0, 0, 0.15);\n",
              "      filter: drop-shadow(0px 1px 2px rgba(0, 0, 0, 0.3));\n",
              "      fill: #FFFFFF;\n",
              "    }\n",
              "  </style>\n",
              "\n",
              "    <script>\n",
              "      const buttonEl =\n",
              "        document.querySelector('#df-7e892d3a-89d9-4f70-ab7e-604feac1a787 button.colab-df-convert');\n",
              "      buttonEl.style.display =\n",
              "        google.colab.kernel.accessAllowed ? 'block' : 'none';\n",
              "\n",
              "      async function convertToInteractive(key) {\n",
              "        const element = document.querySelector('#df-7e892d3a-89d9-4f70-ab7e-604feac1a787');\n",
              "        const dataTable =\n",
              "          await google.colab.kernel.invokeFunction('convertToInteractive',\n",
              "                                                    [key], {});\n",
              "        if (!dataTable) return;\n",
              "\n",
              "        const docLinkHtml = 'Like what you see? Visit the ' +\n",
              "          '<a target=\"_blank\" href=https://colab.research.google.com/notebooks/data_table.ipynb>data table notebook</a>'\n",
              "          + ' to learn more about interactive tables.';\n",
              "        element.innerHTML = '';\n",
              "        dataTable['output_type'] = 'display_data';\n",
              "        await google.colab.output.renderOutput(dataTable, element);\n",
              "        const docLink = document.createElement('div');\n",
              "        docLink.innerHTML = docLinkHtml;\n",
              "        element.appendChild(docLink);\n",
              "      }\n",
              "    </script>\n",
              "  </div>\n",
              "\n",
              "\n",
              "<div id=\"df-b5bc271e-6bae-402b-9607-04835acd241b\">\n",
              "  <button class=\"colab-df-quickchart\" onclick=\"quickchart('df-b5bc271e-6bae-402b-9607-04835acd241b')\"\n",
              "            title=\"Suggest charts\"\n",
              "            style=\"display:none;\">\n",
              "\n",
              "<svg xmlns=\"http://www.w3.org/2000/svg\" height=\"24px\"viewBox=\"0 0 24 24\"\n",
              "     width=\"24px\">\n",
              "    <g>\n",
              "        <path d=\"M19 3H5c-1.1 0-2 .9-2 2v14c0 1.1.9 2 2 2h14c1.1 0 2-.9 2-2V5c0-1.1-.9-2-2-2zM9 17H7v-7h2v7zm4 0h-2V7h2v10zm4 0h-2v-4h2v4z\"/>\n",
              "    </g>\n",
              "</svg>\n",
              "  </button>\n",
              "\n",
              "<style>\n",
              "  .colab-df-quickchart {\n",
              "      --bg-color: #E8F0FE;\n",
              "      --fill-color: #1967D2;\n",
              "      --hover-bg-color: #E2EBFA;\n",
              "      --hover-fill-color: #174EA6;\n",
              "      --disabled-fill-color: #AAA;\n",
              "      --disabled-bg-color: #DDD;\n",
              "  }\n",
              "\n",
              "  [theme=dark] .colab-df-quickchart {\n",
              "      --bg-color: #3B4455;\n",
              "      --fill-color: #D2E3FC;\n",
              "      --hover-bg-color: #434B5C;\n",
              "      --hover-fill-color: #FFFFFF;\n",
              "      --disabled-bg-color: #3B4455;\n",
              "      --disabled-fill-color: #666;\n",
              "  }\n",
              "\n",
              "  .colab-df-quickchart {\n",
              "    background-color: var(--bg-color);\n",
              "    border: none;\n",
              "    border-radius: 50%;\n",
              "    cursor: pointer;\n",
              "    display: none;\n",
              "    fill: var(--fill-color);\n",
              "    height: 32px;\n",
              "    padding: 0;\n",
              "    width: 32px;\n",
              "  }\n",
              "\n",
              "  .colab-df-quickchart:hover {\n",
              "    background-color: var(--hover-bg-color);\n",
              "    box-shadow: 0 1px 2px rgba(60, 64, 67, 0.3), 0 1px 3px 1px rgba(60, 64, 67, 0.15);\n",
              "    fill: var(--button-hover-fill-color);\n",
              "  }\n",
              "\n",
              "  .colab-df-quickchart-complete:disabled,\n",
              "  .colab-df-quickchart-complete:disabled:hover {\n",
              "    background-color: var(--disabled-bg-color);\n",
              "    fill: var(--disabled-fill-color);\n",
              "    box-shadow: none;\n",
              "  }\n",
              "\n",
              "  .colab-df-spinner {\n",
              "    border: 2px solid var(--fill-color);\n",
              "    border-color: transparent;\n",
              "    border-bottom-color: var(--fill-color);\n",
              "    animation:\n",
              "      spin 1s steps(1) infinite;\n",
              "  }\n",
              "\n",
              "  @keyframes spin {\n",
              "    0% {\n",
              "      border-color: transparent;\n",
              "      border-bottom-color: var(--fill-color);\n",
              "      border-left-color: var(--fill-color);\n",
              "    }\n",
              "    20% {\n",
              "      border-color: transparent;\n",
              "      border-left-color: var(--fill-color);\n",
              "      border-top-color: var(--fill-color);\n",
              "    }\n",
              "    30% {\n",
              "      border-color: transparent;\n",
              "      border-left-color: var(--fill-color);\n",
              "      border-top-color: var(--fill-color);\n",
              "      border-right-color: var(--fill-color);\n",
              "    }\n",
              "    40% {\n",
              "      border-color: transparent;\n",
              "      border-right-color: var(--fill-color);\n",
              "      border-top-color: var(--fill-color);\n",
              "    }\n",
              "    60% {\n",
              "      border-color: transparent;\n",
              "      border-right-color: var(--fill-color);\n",
              "    }\n",
              "    80% {\n",
              "      border-color: transparent;\n",
              "      border-right-color: var(--fill-color);\n",
              "      border-bottom-color: var(--fill-color);\n",
              "    }\n",
              "    90% {\n",
              "      border-color: transparent;\n",
              "      border-bottom-color: var(--fill-color);\n",
              "    }\n",
              "  }\n",
              "</style>\n",
              "\n",
              "  <script>\n",
              "    async function quickchart(key) {\n",
              "      const quickchartButtonEl =\n",
              "        document.querySelector('#' + key + ' button');\n",
              "      quickchartButtonEl.disabled = true;  // To prevent multiple clicks.\n",
              "      quickchartButtonEl.classList.add('colab-df-spinner');\n",
              "      try {\n",
              "        const charts = await google.colab.kernel.invokeFunction(\n",
              "            'suggestCharts', [key], {});\n",
              "      } catch (error) {\n",
              "        console.error('Error during call to suggestCharts:', error);\n",
              "      }\n",
              "      quickchartButtonEl.classList.remove('colab-df-spinner');\n",
              "      quickchartButtonEl.classList.add('colab-df-quickchart-complete');\n",
              "    }\n",
              "    (() => {\n",
              "      let quickchartButtonEl =\n",
              "        document.querySelector('#df-b5bc271e-6bae-402b-9607-04835acd241b button');\n",
              "      quickchartButtonEl.style.display =\n",
              "        google.colab.kernel.accessAllowed ? 'block' : 'none';\n",
              "    })();\n",
              "  </script>\n",
              "</div>\n",
              "\n",
              "  <div id=\"id_17424f36-5890-4c6a-a52e-2ae192b07d86\">\n",
              "    <style>\n",
              "      .colab-df-generate {\n",
              "        background-color: #E8F0FE;\n",
              "        border: none;\n",
              "        border-radius: 50%;\n",
              "        cursor: pointer;\n",
              "        display: none;\n",
              "        fill: #1967D2;\n",
              "        height: 32px;\n",
              "        padding: 0 0 0 0;\n",
              "        width: 32px;\n",
              "      }\n",
              "\n",
              "      .colab-df-generate:hover {\n",
              "        background-color: #E2EBFA;\n",
              "        box-shadow: 0px 1px 2px rgba(60, 64, 67, 0.3), 0px 1px 3px 1px rgba(60, 64, 67, 0.15);\n",
              "        fill: #174EA6;\n",
              "      }\n",
              "\n",
              "      [theme=dark] .colab-df-generate {\n",
              "        background-color: #3B4455;\n",
              "        fill: #D2E3FC;\n",
              "      }\n",
              "\n",
              "      [theme=dark] .colab-df-generate:hover {\n",
              "        background-color: #434B5C;\n",
              "        box-shadow: 0px 1px 3px 1px rgba(0, 0, 0, 0.15);\n",
              "        filter: drop-shadow(0px 1px 2px rgba(0, 0, 0, 0.3));\n",
              "        fill: #FFFFFF;\n",
              "      }\n",
              "    </style>\n",
              "    <button class=\"colab-df-generate\" onclick=\"generateWithVariable('drug_safety')\"\n",
              "            title=\"Generate code using this dataframe.\"\n",
              "            style=\"display:none;\">\n",
              "\n",
              "  <svg xmlns=\"http://www.w3.org/2000/svg\" height=\"24px\"viewBox=\"0 0 24 24\"\n",
              "       width=\"24px\">\n",
              "    <path d=\"M7,19H8.4L18.45,9,17,7.55,7,17.6ZM5,21V16.75L18.45,3.32a2,2,0,0,1,2.83,0l1.4,1.43a1.91,1.91,0,0,1,.58,1.4,1.91,1.91,0,0,1-.58,1.4L9.25,21ZM18.45,9,17,7.55Zm-12,3A5.31,5.31,0,0,0,4.9,8.1,5.31,5.31,0,0,0,1,6.5,5.31,5.31,0,0,0,4.9,4.9,5.31,5.31,0,0,0,6.5,1,5.31,5.31,0,0,0,8.1,4.9,5.31,5.31,0,0,0,12,6.5,5.46,5.46,0,0,0,6.5,12Z\"/>\n",
              "  </svg>\n",
              "    </button>\n",
              "    <script>\n",
              "      (() => {\n",
              "      const buttonEl =\n",
              "        document.querySelector('#id_17424f36-5890-4c6a-a52e-2ae192b07d86 button.colab-df-generate');\n",
              "      buttonEl.style.display =\n",
              "        google.colab.kernel.accessAllowed ? 'block' : 'none';\n",
              "\n",
              "      buttonEl.onclick = () => {\n",
              "        google.colab.notebook.generateWithVariable('drug_safety');\n",
              "      }\n",
              "      })();\n",
              "    </script>\n",
              "  </div>\n",
              "\n",
              "    </div>\n",
              "  </div>\n"
            ]
          },
          "metadata": {},
          "execution_count": 8
        }
      ]
    },
    {
      "cell_type": "code",
      "source": [
        "# Count the adverse_effects column values for each trx group\n",
        "adv_eff_by_trx = drug_safety.groupby(\"trx\").adverse_effects.value_counts()\n",
        "\n",
        "adv_eff_by_trx"
      ],
      "metadata": {
        "colab": {
          "base_uri": "https://localhost:8080/"
        },
        "id": "UdXEb8dESuRi",
        "outputId": "8af8ed2c-d8c7-44b5-d5d4-4fb539a2c0f8"
      },
      "id": "UdXEb8dESuRi",
      "execution_count": 9,
      "outputs": [
        {
          "output_type": "execute_result",
          "data": {
            "text/plain": [
              "trx      adverse_effects\n",
              "Drug     No                 9703\n",
              "         Yes                1024\n",
              "Placebo  No                 4864\n",
              "         Yes                 512\n",
              "Name: adverse_effects, dtype: int64"
            ]
          },
          "metadata": {},
          "execution_count": 9
        }
      ]
    },
    {
      "cell_type": "code",
      "source": [
        "# Compute total rows in each group\n",
        "adv_eff_by_trx_totals = adv_eff_by_trx.groupby(\"trx\").sum()\n",
        "\n",
        "adv_eff_by_trx_totals"
      ],
      "metadata": {
        "colab": {
          "base_uri": "https://localhost:8080/"
        },
        "id": "uuwPqHFbThFa",
        "outputId": "7d2f523d-ea89-4687-da57-538cc5d8908f"
      },
      "id": "uuwPqHFbThFa",
      "execution_count": 10,
      "outputs": [
        {
          "output_type": "execute_result",
          "data": {
            "text/plain": [
              "trx\n",
              "Drug       10727\n",
              "Placebo     5376\n",
              "Name: adverse_effects, dtype: int64"
            ]
          },
          "metadata": {},
          "execution_count": 10
        }
      ]
    },
    {
      "cell_type": "code",
      "source": [
        "# Create an array of the \"Yes\" counts for each group\n",
        "yeses = [adv_eff_by_trx[\"Drug\"][\"Yes\"], adv_eff_by_trx[\"Placebo\"][\"Yes\"]]\n",
        "\n",
        "yeses"
      ],
      "metadata": {
        "colab": {
          "base_uri": "https://localhost:8080/"
        },
        "id": "4RxKt_zDVB5M",
        "outputId": "23e788fb-9377-4fd5-b47c-21ac8010f0ce"
      },
      "id": "4RxKt_zDVB5M",
      "execution_count": 11,
      "outputs": [
        {
          "output_type": "execute_result",
          "data": {
            "text/plain": [
              "[1024, 512]"
            ]
          },
          "metadata": {},
          "execution_count": 11
        }
      ]
    },
    {
      "cell_type": "code",
      "source": [
        "# Create an array of the total number of rows in each group\n",
        "n = [adv_eff_by_trx_totals[\"Drug\"], adv_eff_by_trx_totals[\"Placebo\"]]\n",
        "\n",
        "n"
      ],
      "metadata": {
        "colab": {
          "base_uri": "https://localhost:8080/"
        },
        "id": "uycCm1HbVMjx",
        "outputId": "7031f525-cdc7-4b5b-bd26-a2502f452bdc"
      },
      "id": "uycCm1HbVMjx",
      "execution_count": 12,
      "outputs": [
        {
          "output_type": "execute_result",
          "data": {
            "text/plain": [
              "[10727, 5376]"
            ]
          },
          "metadata": {},
          "execution_count": 12
        }
      ]
    },
    {
      "cell_type": "markdown",
      "source": [
        "The z-test was performed using the proportions_ztest function. It is used to compare the proportions of successes (adverse effects in this case) between two groups."
      ],
      "metadata": {
        "id": "UZU-lu2VUHFL"
      },
      "id": "UZU-lu2VUHFL"
    },
    {
      "cell_type": "code",
      "source": [
        "# Perform a two-sided z-test on the two proportions\n",
        "two_sample_results = proportions_ztest(yeses, n)\n",
        "z_score, p_value = two_sample_results\n",
        "\n",
        "print(\"Z-score:\", z_score)\n",
        "print(\"P-value:\", p_value)"
      ],
      "metadata": {
        "colab": {
          "base_uri": "https://localhost:8080/"
        },
        "id": "TZ6DcasNVary",
        "outputId": "b29c58a6-9636-46ce-c292-34d6d85c4722"
      },
      "id": "TZ6DcasNVary",
      "execution_count": 17,
      "outputs": [
        {
          "output_type": "stream",
          "name": "stdout",
          "text": [
            "Z-score: 0.0452182684494942\n",
            "P-value: 0.9639333330262475\n"
          ]
        }
      ]
    },
    {
      "cell_type": "markdown",
      "source": [
        "\n",
        "The **z-score** measures the difference between observed proportions and expected randomness. A z-score of 0.0452 implies a slight deviation from expected proportions, suggesting that the observed values align closely with random chance.\n",
        "\n",
        "The **p-value** represents the likelihood of getting a result like the one calculated, assuming the null hypothesis is correct. In hypothesis testing, a smaller p-value indicates stronger evidence against the null hypothesis. Our p-value is 0.9639, which is relatively large, suggesting the observed difference in proportions is likely due to random chance. A p-value above the common significance level (e.g., 0.05) means we lack strong evidence to reject the null hypothesis.\n",
        "\n",
        "In summary, the results imply that the observed difference in proportions is not statistically significant, and any deviation from expected values is likely due to random chance."
      ],
      "metadata": {
        "id": "tZEoy31lVmk0"
      },
      "id": "tZEoy31lVmk0"
    },
    {
      "cell_type": "code",
      "source": [
        "# Store the p-value\n",
        "two_sample_p_value = two_sample_results[1]\n"
      ],
      "metadata": {
        "id": "OtxzezIR-hH2"
      },
      "id": "OtxzezIR-hH2",
      "execution_count": 14,
      "outputs": []
    },
    {
      "cell_type": "markdown",
      "source": [
        "### **2. Performing Chi-squared test to fnd out if number of adverse effects is independent of the treatment and control groups**"
      ],
      "metadata": {
        "id": "e0oq4w-hC0Up"
      },
      "id": "e0oq4w-hC0Up"
    },
    {
      "cell_type": "code",
      "source": [
        "# Determine if num_effects and trx are independent\n",
        "num_effects_groups = pingouin.chi2_independence(\n",
        "    data=drug_safety, x=\"num_effects\", y=\"trx\")\n",
        "num_effects_groups"
      ],
      "metadata": {
        "colab": {
          "base_uri": "https://localhost:8080/"
        },
        "id": "MT7NYGTJ-wa9",
        "outputId": "d97abe42-8a15-491b-e2fc-ea1c63b6c92a"
      },
      "id": "MT7NYGTJ-wa9",
      "execution_count": 21,
      "outputs": [
        {
          "output_type": "stream",
          "name": "stderr",
          "text": [
            "/usr/local/lib/python3.10/dist-packages/pingouin/contingency.py:151: UserWarning: Low count on observed frequencies.\n",
            "  warnings.warn(f\"Low count on {name} frequencies.\")\n",
            "/usr/local/lib/python3.10/dist-packages/pingouin/contingency.py:151: UserWarning: Low count on expected frequencies.\n",
            "  warnings.warn(f\"Low count on {name} frequencies.\")\n"
          ]
        },
        {
          "output_type": "execute_result",
          "data": {
            "text/plain": [
              "(trx                 Drug      Placebo\n",
              " num_effects                          \n",
              " 0            9703.794883  4863.205117\n",
              " 1             960.587096   481.412904\n",
              " 2              58.621126    29.378874\n",
              " 3               3.996895     2.003105,\n",
              " trx          Drug  Placebo\n",
              " num_effects               \n",
              " 0            9703     4864\n",
              " 1             956      486\n",
              " 2              63       25\n",
              " 3               5        1,\n",
              "                  test    lambda      chi2  dof      pval    cramer     power\n",
              " 0             pearson  1.000000  1.799644  3.0  0.615012  0.010572  0.176275\n",
              " 1        cressie-read  0.666667  1.836006  3.0  0.607131  0.010678  0.179153\n",
              " 2      log-likelihood  0.000000  1.922495  3.0  0.588648  0.010926  0.186033\n",
              " 3       freeman-tukey -0.500000  2.001752  3.0  0.572043  0.011149  0.192379\n",
              " 4  mod-log-likelihood -1.000000  2.096158  3.0  0.552690  0.011409  0.199984\n",
              " 5              neyman -2.000000  2.344303  3.0  0.504087  0.012066  0.220189)"
            ]
          },
          "metadata": {},
          "execution_count": 21
        }
      ]
    },
    {
      "cell_type": "markdown",
      "source": [
        "**Observed Frequencies:**\n",
        "\n",
        "The first table represents the observed frequencies for the combination of \"num_effects\" and \"trx.\" Each cell in the table contains the actual counts.\n",
        "\n",
        "**Expected Frequencies:**\n",
        "\n",
        "The second table shows the expected frequencies assuming independence between \"num_effects\" and \"trx.\"\n",
        "\n",
        "**Test Statistics:**\n",
        "\n",
        "The third table provides various test statistics and information.\n",
        "chi2: The chi-squared test statistic.\n",
        "dof: Degrees of freedom.\n",
        "pval: The p-value, which is used to assess the statistical significance of the test.\n",
        "cramer: Cramer's V, a measure of the strength of association.\n",
        "\n",
        "**Conclusion:**\n",
        "\n",
        "The p-values for various test statistics are relatively high (e.g., 0.615012), indicating that there is no significant evidence to reject the null hypothesis of independence between \"num_effects\" and \"trx.\"\n",
        "Cramer's V values are very close to zero, suggesting a weak association.\n",
        "\n",
        "In summary, based on the chi-squared independence test, there is no strong evidence to suggest a significant association between \"num_effects\" and \"trx\" in the data. The observed frequencies align with the expected frequencies under the assumption of independence."
      ],
      "metadata": {
        "id": "clC_qP1KGFUW"
      },
      "id": "clC_qP1KGFUW"
    },
    {
      "cell_type": "markdown",
      "source": [
        "### **3. Mann-Whitney U test to assess whether there is a significant difference in the distribution of ages between two groups(Drug and Placebo).**"
      ],
      "metadata": {
        "id": "UyUKSj0EHGT_"
      },
      "id": "UyUKSj0EHGT_"
    },
    {
      "cell_type": "code",
      "source": [
        "# Extract the p-value\n",
        "num_effects_p_value = num_effects_groups[2][\"pval\"][0]\n",
        "num_effects_p_value"
      ],
      "metadata": {
        "colab": {
          "base_uri": "https://localhost:8080/"
        },
        "id": "IlhrsWKTBEMW",
        "outputId": "f171337b-9c89-4170-fe6e-6675f122b1d6"
      },
      "id": "IlhrsWKTBEMW",
      "execution_count": 16,
      "outputs": [
        {
          "output_type": "execute_result",
          "data": {
            "text/plain": [
              "0.6150123339426765"
            ]
          },
          "metadata": {},
          "execution_count": 16
        }
      ]
    },
    {
      "cell_type": "code",
      "source": [
        "\n",
        "# Select the age of the Drug group\n",
        "age_trx = drug_safety.loc[drug_safety[\"trx\"] == \"Drug\", \"age\"]\n",
        "age_trx"
      ],
      "metadata": {
        "colab": {
          "base_uri": "https://localhost:8080/"
        },
        "id": "nWDFx470H9r9",
        "outputId": "88d53bf1-b0c3-4f9c-cf7c-598e92368c98"
      },
      "id": "nWDFx470H9r9",
      "execution_count": 24,
      "outputs": [
        {
          "output_type": "execute_result",
          "data": {
            "text/plain": [
              "0        62\n",
              "1        62\n",
              "2        62\n",
              "3        62\n",
              "4        62\n",
              "         ..\n",
              "16074    60\n",
              "16075    60\n",
              "16092    68\n",
              "16093    68\n",
              "16094    68\n",
              "Name: age, Length: 10727, dtype: int64"
            ]
          },
          "metadata": {},
          "execution_count": 24
        }
      ]
    },
    {
      "cell_type": "code",
      "source": [
        "# Select the age of the Placebo group\n",
        "age_placebo = drug_safety.loc[drug_safety[\"trx\"] == \"Placebo\", \"age\"]\n",
        "age_placebo"
      ],
      "metadata": {
        "colab": {
          "base_uri": "https://localhost:8080/"
        },
        "id": "pc8lVroXIIrt",
        "outputId": "449ce9e2-8236-4381-a661-38acfd73b20d"
      },
      "id": "pc8lVroXIIrt",
      "execution_count": 25,
      "outputs": [
        {
          "output_type": "execute_result",
          "data": {
            "text/plain": [
              "32       73\n",
              "33       73\n",
              "34       73\n",
              "35       73\n",
              "36       73\n",
              "         ..\n",
              "16098    78\n",
              "16099    78\n",
              "16100    78\n",
              "16101    78\n",
              "16102    78\n",
              "Name: age, Length: 5376, dtype: int64"
            ]
          },
          "metadata": {},
          "execution_count": 25
        }
      ]
    },
    {
      "cell_type": "code",
      "source": [
        "# Create a histogram with Seaborn\n",
        "sns.histplot(data=drug_safety, x=\"age\", hue=\"trx\")\n",
        "plt.show()"
      ],
      "metadata": {
        "colab": {
          "base_uri": "https://localhost:8080/",
          "height": 450
        },
        "id": "2E8e9_JOHaxq",
        "outputId": "dcc7a81c-d99f-45b1-bd20-0778f5b3e575"
      },
      "id": "2E8e9_JOHaxq",
      "execution_count": 22,
      "outputs": [
        {
          "output_type": "display_data",
          "data": {
            "text/plain": [
              "<Figure size 640x480 with 1 Axes>"
            ],
            "image/png": "[encoded data removed]"
          },
          "metadata": {}
        }
      ]
    },
    {
      "cell_type": "markdown",
      "source": [
        "The histograms being similar suggests that there is an overlap in the age ranges of individuals in the Drug and Placebo groups. This implies that individuals with similar ages are present in both treatment groups.\n",
        "\n",
        "The data distribution is not normal."
      ],
      "metadata": {
        "id": "UJojdcLpInT1"
      },
      "id": "UJojdcLpInT1"
    },
    {
      "cell_type": "code",
      "source": [
        "# Since the data distribution is not normal\n",
        "# Conduct a two-sided Mann-Whitney U test\n",
        "age_group_effects = pingouin.mwu(age_trx, age_placebo)\n",
        "\n",
        "age_group_effects"
      ],
      "metadata": {
        "colab": {
          "base_uri": "https://localhost:8080/",
          "height": 89
        },
        "id": "aop23RjLHbOv",
        "outputId": "9e435c6a-1ea9-4d53-c8af-2921ca16b5d6"
      },
      "id": "aop23RjLHbOv",
      "execution_count": 27,
      "outputs": [
        {
          "output_type": "execute_result",
          "data": {
            "text/plain": [
              "          U-val alternative     p-val      RBC      CLES\n",
              "MWU  29149339.5   two-sided  0.256963 -0.01093  0.505465"
            ],
            "text/html": [
              "\n",
              "  <div id=\"df-293094d6-6d0a-4829-a3ab-ffc7cb5ad564\" class=\"colab-df-container\">\n",
              "    <div>\n",
              "<style scoped>\n",
              "    .dataframe tbody tr th:only-of-type {\n",
              "        vertical-align: middle;\n",
              "    }\n",
              "\n",
              "    .dataframe tbody tr th {\n",
              "        vertical-align: top;\n",
              "    }\n",
              "\n",
              "    .dataframe thead th {\n",
              "        text-align: right;\n",
              "    }\n",
              "</style>\n",
              "<table border=\"1\" class=\"dataframe\">\n",
              "  <thead>\n",
              "    <tr style=\"text-align: right;\">\n",
              "      <th></th>\n",
              "      <th>U-val</th>\n",
              "      <th>alternative</th>\n",
              "      <th>p-val</th>\n",
              "      <th>RBC</th>\n",
              "      <th>CLES</th>\n",
              "    </tr>\n",
              "  </thead>\n",
              "  <tbody>\n",
              "    <tr>\n",
              "      <th>MWU</th>\n",
              "      <td>29149339.5</td>\n",
              "      <td>two-sided</td>\n",
              "      <td>0.256963</td>\n",
              "      <td>-0.01093</td>\n",
              "      <td>0.505465</td>\n",
              "    </tr>\n",
              "  </tbody>\n",
              "</table>\n",
              "</div>\n",
              "    <div class=\"colab-df-buttons\">\n",
              "\n",
              "  <div class=\"colab-df-container\">\n",
              "    <button class=\"colab-df-convert\" onclick=\"convertToInteractive('df-293094d6-6d0a-4829-a3ab-ffc7cb5ad564')\"\n",
              "            title=\"Convert this dataframe to an interactive table.\"\n",
              "            style=\"display:none;\">\n",
              "\n",
              "  <svg xmlns=\"http://www.w3.org/2000/svg\" height=\"24px\" viewBox=\"0 -960 960 960\">\n",
              "    <path d=\"M120-120v-720h720v720H120Zm60-500h600v-160H180v160Zm220 220h160v-160H400v160Zm0 220h160v-160H400v160ZM180-400h160v-160H180v160Zm440 0h160v-160H620v160ZM180-180h160v-160H180v160Zm440 0h160v-160H620v160Z\"/>\n",
              "  </svg>\n",
              "    </button>\n",
              "\n",
              "  <style>\n",
              "    .colab-df-container {\n",
              "      display:flex;\n",
              "      gap: 12px;\n",
              "    }\n",
              "\n",
              "    .colab-df-convert {\n",
              "      background-color: #E8F0FE;\n",
              "      border: none;\n",
              "      border-radius: 50%;\n",
              "      cursor: pointer;\n",
              "      display: none;\n",
              "      fill: #1967D2;\n",
              "      height: 32px;\n",
              "      padding: 0 0 0 0;\n",
              "      width: 32px;\n",
              "    }\n",
              "\n",
              "    .colab-df-convert:hover {\n",
              "      background-color: #E2EBFA;\n",
              "      box-shadow: 0px 1px 2px rgba(60, 64, 67, 0.3), 0px 1px 3px 1px rgba(60, 64, 67, 0.15);\n",
              "      fill: #174EA6;\n",
              "    }\n",
              "\n",
              "    .colab-df-buttons div {\n",
              "      margin-bottom: 4px;\n",
              "    }\n",
              "\n",
              "    [theme=dark] .colab-df-convert {\n",
              "      background-color: #3B4455;\n",
              "      fill: #D2E3FC;\n",
              "    }\n",
              "\n",
              "    [theme=dark] .colab-df-convert:hover {\n",
              "      background-color: #434B5C;\n",
              "      box-shadow: 0px 1px 3px 1px rgba(0, 0, 0, 0.15);\n",
              "      filter: drop-shadow(0px 1px 2px rgba(0, 0, 0, 0.3));\n",
              "      fill: #FFFFFF;\n",
              "    }\n",
              "  </style>\n",
              "\n",
              "    <script>\n",
              "      const buttonEl =\n",
              "        document.querySelector('#df-293094d6-6d0a-4829-a3ab-ffc7cb5ad564 button.colab-df-convert');\n",
              "      buttonEl.style.display =\n",
              "        google.colab.kernel.accessAllowed ? 'block' : 'none';\n",
              "\n",
              "      async function convertToInteractive(key) {\n",
              "        const element = document.querySelector('#df-293094d6-6d0a-4829-a3ab-ffc7cb5ad564');\n",
              "        const dataTable =\n",
              "          await google.colab.kernel.invokeFunction('convertToInteractive',\n",
              "                                                    [key], {});\n",
              "        if (!dataTable) return;\n",
              "\n",
              "        const docLinkHtml = 'Like what you see? Visit the ' +\n",
              "          '<a target=\"_blank\" href=https://colab.research.google.com/notebooks/data_table.ipynb>data table notebook</a>'\n",
              "          + ' to learn more about interactive tables.';\n",
              "        element.innerHTML = '';\n",
              "        dataTable['output_type'] = 'display_data';\n",
              "        await google.colab.output.renderOutput(dataTable, element);\n",
              "        const docLink = document.createElement('div');\n",
              "        docLink.innerHTML = docLinkHtml;\n",
              "        element.appendChild(docLink);\n",
              "      }\n",
              "    </script>\n",
              "  </div>\n",
              "\n",
              "\n",
              "  <div id=\"id_8ad83534-83b3-4bf4-bd86-9301db99a8a0\">\n",
              "    <style>\n",
              "      .colab-df-generate {\n",
              "        background-color: #E8F0FE;\n",
              "        border: none;\n",
              "        border-radius: 50%;\n",
              "        cursor: pointer;\n",
              "        display: none;\n",
              "        fill: #1967D2;\n",
              "        height: 32px;\n",
              "        padding: 0 0 0 0;\n",
              "        width: 32px;\n",
              "      }\n",
              "\n",
              "      .colab-df-generate:hover {\n",
              "        background-color: #E2EBFA;\n",
              "        box-shadow: 0px 1px 2px rgba(60, 64, 67, 0.3), 0px 1px 3px 1px rgba(60, 64, 67, 0.15);\n",
              "        fill: #174EA6;\n",
              "      }\n",
              "\n",
              "      [theme=dark] .colab-df-generate {\n",
              "        background-color: #3B4455;\n",
              "        fill: #D2E3FC;\n",
              "      }\n",
              "\n",
              "      [theme=dark] .colab-df-generate:hover {\n",
              "        background-color: #434B5C;\n",
              "        box-shadow: 0px 1px 3px 1px rgba(0, 0, 0, 0.15);\n",
              "        filter: drop-shadow(0px 1px 2px rgba(0, 0, 0, 0.3));\n",
              "        fill: #FFFFFF;\n",
              "      }\n",
              "    </style>\n",
              "    <button class=\"colab-df-generate\" onclick=\"generateWithVariable('age_group_effects')\"\n",
              "            title=\"Generate code using this dataframe.\"\n",
              "            style=\"display:none;\">\n",
              "\n",
              "  <svg xmlns=\"http://www.w3.org/2000/svg\" height=\"24px\"viewBox=\"0 0 24 24\"\n",
              "       width=\"24px\">\n",
              "    <path d=\"M7,19H8.4L18.45,9,17,7.55,7,17.6ZM5,21V16.75L18.45,3.32a2,2,0,0,1,2.83,0l1.4,1.43a1.91,1.91,0,0,1,.58,1.4,1.91,1.91,0,0,1-.58,1.4L9.25,21ZM18.45,9,17,7.55Zm-12,3A5.31,5.31,0,0,0,4.9,8.1,5.31,5.31,0,0,0,1,6.5,5.31,5.31,0,0,0,4.9,4.9,5.31,5.31,0,0,0,6.5,1,5.31,5.31,0,0,0,8.1,4.9,5.31,5.31,0,0,0,12,6.5,5.46,5.46,0,0,0,6.5,12Z\"/>\n",
              "  </svg>\n",
              "    </button>\n",
              "    <script>\n",
              "      (() => {\n",
              "      const buttonEl =\n",
              "        document.querySelector('#id_8ad83534-83b3-4bf4-bd86-9301db99a8a0 button.colab-df-generate');\n",
              "      buttonEl.style.display =\n",
              "        google.colab.kernel.accessAllowed ? 'block' : 'none';\n",
              "\n",
              "      buttonEl.onclick = () => {\n",
              "        google.colab.notebook.generateWithVariable('age_group_effects');\n",
              "      }\n",
              "      })();\n",
              "    </script>\n",
              "  </div>\n",
              "\n",
              "    </div>\n",
              "  </div>\n"
            ]
          },
          "metadata": {},
          "execution_count": 27
        }
      ]
    },
    {
      "cell_type": "code",
      "source": [
        "# Extract the p-value\n",
        "age_group_effects_p_value = age_group_effects[\"p-val\"]\n",
        "\n",
        "age_group_effects_p_value"
      ],
      "metadata": {
        "colab": {
          "base_uri": "https://localhost:8080/"
        },
        "id": "p9WB26ZHKL7Q",
        "outputId": "5ccbe82c-9b9a-4365-93c4-5c2d0de4fbf9"
      },
      "id": "p9WB26ZHKL7Q",
      "execution_count": 28,
      "outputs": [
        {
          "output_type": "execute_result",
          "data": {
            "text/plain": [
              "MWU    0.256963\n",
              "Name: p-val, dtype: float64"
            ]
          },
          "metadata": {},
          "execution_count": 28
        }
      ]
    },
    {
      "cell_type": "markdown",
      "source": [
        "The Mann-Whitney U test indicates that there is no significant difference in age between the two groups (age_trx and age_placebo). The p-value of 0.256963 is greater than the common significance level of 0.05, suggesting insufficient evidence to reject the null hypothesis of no difference. The effect size is small (RBC close to zero), and the probability of age_trx being greater than age_placebo is approximately 50.5%. In summary, the data does not provide strong evidence for a difference in age distributions between the two groups."
      ],
      "metadata": {
        "id": "EjUJ6qNeKWmh"
      },
      "id": "EjUJ6qNeKWmh"
    }
  ],
  "metadata": {
    "colab": {
      "provenance": []
    },
    "kernelspec": {
      "display_name": "Python 3 (ipykernel)",
      "language": "python",
      "name": "python3"
    },
    "language_info": {
      "codemirror_mode": {
        "name": "ipython",
        "version": 3
      },
      "file_extension": ".py",
      "mimetype": "text/x-python",
      "name": "python",
      "nbconvert_exporter": "python",
      "pygments_lexer": "ipython3",
      "version": "3.8.10"
    }
  },
  "nbformat": 4,
  "nbformat_minor": 5
}