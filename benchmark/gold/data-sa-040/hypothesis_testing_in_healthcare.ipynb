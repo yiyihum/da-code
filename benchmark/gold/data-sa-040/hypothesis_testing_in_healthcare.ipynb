{
  "cells": [
    {
      "cell_type": "markdown",
      "id": "59090772-03e5-4a43-a7c7-eebdfa709342",
      "metadata": {
        "id": "59090772-03e5-4a43-a7c7-eebdfa709342"
      },
      "source": [
        "# **Hypothesis Testing in Healthcare: Drug Safety**\n",
        "\n",
        "**Background**\n",
        "\n",
        "A pharmaceutical company GlobalXYZ has just completed a randomized controlled drug trial. To promote transparency and reproducibility of the drug's outcome, they (GlobalXYZ) have presented the dataset to your organization, a non-profit that focuses primarily on drug safety.\n",
        "\n",
        "The dataset provided contained five adverse effects, demographic data, vital signs, etc. Your organization is primarily interested in the drug's adverse reactions. It wants to know if the adverse reactions, if any, are of significant proportions. It has asked you to explore and answer some questions from the data.\n",
        "\n",
        "It contained five adverse effects: headache, abdominal pain, dyspepsia, upper respiratory infection, chronic obstructive airway disease (COAD), demographic data, vital signs, lab measures, etc. The ratio of drug observations to placebo observations is 2 to 1.\n",
        "\n",
        "For this project, the dataset has been modified to reflect the presence and absence of adverse effects `adverse_effects` and the number of adverse effects in a single individual `num_effects`.\n",
        "\n",
        "The columns in the modified dataset are:\n",
        "\n",
        "| Column | Description |\n",
        "|--------|-------------|\n",
        "|`sex` | The gender of the individual |\n",
        "|`age` | The age of the individual |\n",
        "|`week` | The week of the drug testing |\n",
        "|`trx` | The treatment (Drug) and control (Placebo) groups |\n",
        "|`wbc` | The count of white blood cells |\n",
        "|`rbc` | The count of red blood cells |\n",
        "|`adverse_effects` | The presence of at least a single adverse effect |\n",
        "|`num_effects` | The number of adverse effects experienced by a single individual |\n",
        "\n",
        "The original dataset can be found [here](https://hbiostat.org/data/repo/safety.rda).\n",
        "\n",
        "Your organization has asked you to explore and answer some questions from the data collected. The goal is to know if the adverse reactions, if any, are of significant proportions."
      ]
    },
    {
      "cell_type": "code",
      "execution_count": 12,
      "id": "bSGLUt2hScNE",
      "metadata": {
        "colab": {
          "base_uri": "https://localhost:8080/"
        },
        "id": "bSGLUt2hScNE",
        "outputId": "5d8dd70c-40ab-48cf-b6bb-5edce71019ca"
      },
      "outputs": [
        {
          "name": "stdout",
          "output_type": "stream",
          "text": [
            "Requirement already satisfied: pingouin in e:\\anaconda\\envs\\cv\\lib\\site-packages (0.5.4)\n",
            "Requirement already satisfied: numpy in e:\\anaconda\\envs\\cv\\lib\\site-packages (from pingouin) (1.26.4)\n",
            "Requirement already satisfied: scipy in e:\\anaconda\\envs\\cv\\lib\\site-packages (from pingouin) (1.10.1)\n",
            "Requirement already satisfied: pandas>=1.5 in e:\\anaconda\\envs\\cv\\lib\\site-packages (from pingouin) (2.2.2)\n",
            "Requirement already satisfied: matplotlib in e:\\anaconda\\envs\\cv\\lib\\site-packages (from pingouin) (3.6.3)\n",
            "Requirement already satisfied: seaborn in e:\\anaconda\\envs\\cv\\lib\\site-packages (from pingouin) (0.12.2)\n",
            "Requirement already satisfied: statsmodels in e:\\anaconda\\envs\\cv\\lib\\site-packages (from pingouin) (0.14.2)\n",
            "Requirement already satisfied: scikit-learn in e:\\anaconda\\envs\\cv\\lib\\site-packages (from pingouin) (1.4.1.post1)\n",
            "Requirement already satisfied: pandas-flavor in e:\\anaconda\\envs\\cv\\lib\\site-packages (from pingouin) (0.6.0)\n",
            "Requirement already satisfied: tabulate in e:\\anaconda\\envs\\cv\\lib\\site-packages (from pingouin) (0.8.9)\n",
            "Requirement already satisfied: python-dateutil>=2.8.2 in e:\\anaconda\\envs\\cv\\lib\\site-packages (from pandas>=1.5->pingouin) (2.8.2)\n",
            "Requirement already satisfied: pytz>=2020.1 in e:\\anaconda\\envs\\cv\\lib\\site-packages (from pandas>=1.5->pingouin) (2023.3.post1)\n",
            "Requirement already satisfied: tzdata>=2022.7 in e:\\anaconda\\envs\\cv\\lib\\site-packages (from pandas>=1.5->pingouin) (2023.3)\n",
            "Requirement already satisfied: contourpy>=1.0.1 in e:\\anaconda\\envs\\cv\\lib\\site-packages (from matplotlib->pingouin) (1.1.1)\n",
            "Requirement already satisfied: cycler>=0.10 in e:\\anaconda\\envs\\cv\\lib\\site-packages (from matplotlib->pingouin) (0.12.1)\n",
            "Requirement already satisfied: fonttools>=4.22.0 in e:\\anaconda\\envs\\cv\\lib\\site-packages (from matplotlib->pingouin) (4.47.0)\n",
            "Requirement already satisfied: kiwisolver>=1.0.1 in e:\\anaconda\\envs\\cv\\lib\\site-packages (from matplotlib->pingouin) (1.4.5)\n",
            "Requirement already satisfied: packaging>=20.0 in e:\\anaconda\\envs\\cv\\lib\\site-packages (from matplotlib->pingouin) (23.2)\n",
            "Requirement already satisfied: pillow>=6.2.0 in e:\\anaconda\\envs\\cv\\lib\\site-packages (from matplotlib->pingouin) (10.1.0)\n",
            "Requirement already satisfied: pyparsing>=2.2.1 in e:\\anaconda\\envs\\cv\\lib\\site-packages (from matplotlib->pingouin) (3.1.1)\n",
            "Requirement already satisfied: xarray in e:\\anaconda\\envs\\cv\\lib\\site-packages (from pandas-flavor->pingouin) (2024.5.0)\n",
            "Requirement already satisfied: joblib>=1.2.0 in e:\\anaconda\\envs\\cv\\lib\\site-packages (from scikit-learn->pingouin) (1.3.2)\n",
            "Requirement already satisfied: threadpoolctl>=2.0.0 in e:\\anaconda\\envs\\cv\\lib\\site-packages (from scikit-learn->pingouin) (3.4.0)\n",
            "Requirement already satisfied: patsy>=0.5.6 in e:\\anaconda\\envs\\cv\\lib\\site-packages (from statsmodels->pingouin) (0.5.6)\n",
            "Requirement already satisfied: six in e:\\anaconda\\envs\\cv\\lib\\site-packages (from patsy>=0.5.6->statsmodels->pingouin) (1.16.0)\n"
          ]
        }
      ],
      "source": [
        "! pip install pingouin"
      ]
    },
    {
      "cell_type": "code",
      "execution_count": 13,
      "id": "pwHTSKDOSQpe",
      "metadata": {
        "id": "pwHTSKDOSQpe"
      },
      "outputs": [],
      "source": [
        "# Import packages\n",
        "import numpy as np\n",
        "import pandas as pd\n",
        "from statsmodels.stats.proportion import proportions_ztest\n",
        "import pingouin\n",
        "import seaborn as sns\n",
        "import matplotlib.pyplot as plt\n",
        "import warnings\n",
        "warnings.filterwarnings('ignore')"
      ]
    },
    {
      "cell_type": "markdown",
      "id": "qPZjVbMQTxT3",
      "metadata": {
        "id": "qPZjVbMQTxT3"
      },
      "source": [
        "### **1. Performing Two-Sample Proportions Z-Test to compare the adverse effects between two treatment groups (Drug and Placebo)**"
      ]
    },
    {
      "cell_type": "code",
      "execution_count": 14,
      "id": "XovOz9hrSoXV",
      "metadata": {
        "colab": {
          "base_uri": "https://localhost:8080/",
          "height": 424
        },
        "id": "XovOz9hrSoXV",
        "outputId": "e70e8f08-9b21-426e-8feb-3a509faf3419"
      },
      "outputs": [
        {
          "data": {
            "text/html": [
              "<div>\n",
              "<style scoped>\n",
              "    .dataframe tbody tr th:only-of-type {\n",
              "        vertical-align: middle;\n",
              "    }\n",
              "\n",
              "    .dataframe tbody tr th {\n",
              "        vertical-align: top;\n",
              "    }\n",
              "\n",
              "    .dataframe thead th {\n",
              "        text-align: right;\n",
              "    }\n",
              "</style>\n",
              "<table border=\"1\" class=\"dataframe\">\n",
              "  <thead>\n",
              "    <tr style=\"text-align: right;\">\n",
              "      <th></th>\n",
              "      <th>age</th>\n",
              "      <th>sex</th>\n",
              "      <th>trx</th>\n",
              "      <th>week</th>\n",
              "      <th>wbc</th>\n",
              "      <th>rbc</th>\n",
              "      <th>adverse_effects</th>\n",
              "      <th>num_effects</th>\n",
              "    </tr>\n",
              "  </thead>\n",
              "  <tbody>\n",
              "    <tr>\n",
              "      <th>0</th>\n",
              "      <td>62</td>\n",
              "      <td>male</td>\n",
              "      <td>Drug</td>\n",
              "      <td>0</td>\n",
              "      <td>7.3</td>\n",
              "      <td>5.1</td>\n",
              "      <td>No</td>\n",
              "      <td>0</td>\n",
              "    </tr>\n",
              "    <tr>\n",
              "      <th>1</th>\n",
              "      <td>62</td>\n",
              "      <td>male</td>\n",
              "      <td>Drug</td>\n",
              "      <td>1</td>\n",
              "      <td>NaN</td>\n",
              "      <td>NaN</td>\n",
              "      <td>No</td>\n",
              "      <td>0</td>\n",
              "    </tr>\n",
              "    <tr>\n",
              "      <th>2</th>\n",
              "      <td>62</td>\n",
              "      <td>male</td>\n",
              "      <td>Drug</td>\n",
              "      <td>12</td>\n",
              "      <td>5.6</td>\n",
              "      <td>5.0</td>\n",
              "      <td>No</td>\n",
              "      <td>0</td>\n",
              "    </tr>\n",
              "    <tr>\n",
              "      <th>3</th>\n",
              "      <td>62</td>\n",
              "      <td>male</td>\n",
              "      <td>Drug</td>\n",
              "      <td>16</td>\n",
              "      <td>NaN</td>\n",
              "      <td>NaN</td>\n",
              "      <td>No</td>\n",
              "      <td>0</td>\n",
              "    </tr>\n",
              "    <tr>\n",
              "      <th>4</th>\n",
              "      <td>62</td>\n",
              "      <td>male</td>\n",
              "      <td>Drug</td>\n",
              "      <td>2</td>\n",
              "      <td>6.6</td>\n",
              "      <td>5.1</td>\n",
              "      <td>No</td>\n",
              "      <td>0</td>\n",
              "    </tr>\n",
              "    <tr>\n",
              "      <th>...</th>\n",
              "      <td>...</td>\n",
              "      <td>...</td>\n",
              "      <td>...</td>\n",
              "      <td>...</td>\n",
              "      <td>...</td>\n",
              "      <td>...</td>\n",
              "      <td>...</td>\n",
              "      <td>...</td>\n",
              "    </tr>\n",
              "    <tr>\n",
              "      <th>16098</th>\n",
              "      <td>78</td>\n",
              "      <td>male</td>\n",
              "      <td>Placebo</td>\n",
              "      <td>16</td>\n",
              "      <td>NaN</td>\n",
              "      <td>NaN</td>\n",
              "      <td>Yes</td>\n",
              "      <td>1</td>\n",
              "    </tr>\n",
              "    <tr>\n",
              "      <th>16099</th>\n",
              "      <td>78</td>\n",
              "      <td>male</td>\n",
              "      <td>Placebo</td>\n",
              "      <td>2</td>\n",
              "      <td>7.5</td>\n",
              "      <td>4.9</td>\n",
              "      <td>No</td>\n",
              "      <td>0</td>\n",
              "    </tr>\n",
              "    <tr>\n",
              "      <th>16100</th>\n",
              "      <td>78</td>\n",
              "      <td>male</td>\n",
              "      <td>Placebo</td>\n",
              "      <td>20</td>\n",
              "      <td>NaN</td>\n",
              "      <td>NaN</td>\n",
              "      <td>Yes</td>\n",
              "      <td>1</td>\n",
              "    </tr>\n",
              "    <tr>\n",
              "      <th>16101</th>\n",
              "      <td>78</td>\n",
              "      <td>male</td>\n",
              "      <td>Placebo</td>\n",
              "      <td>4</td>\n",
              "      <td>6.4</td>\n",
              "      <td>4.8</td>\n",
              "      <td>No</td>\n",
              "      <td>0</td>\n",
              "    </tr>\n",
              "    <tr>\n",
              "      <th>16102</th>\n",
              "      <td>78</td>\n",
              "      <td>male</td>\n",
              "      <td>Placebo</td>\n",
              "      <td>8</td>\n",
              "      <td>7.8</td>\n",
              "      <td>4.8</td>\n",
              "      <td>No</td>\n",
              "      <td>0</td>\n",
              "    </tr>\n",
              "  </tbody>\n",
              "</table>\n",
              "<p>16103 rows × 8 columns</p>\n",
              "</div>"
            ],
            "text/plain": [
              "       age   sex      trx  week  wbc  rbc adverse_effects  num_effects\n",
              "0       62  male     Drug     0  7.3  5.1              No            0\n",
              "1       62  male     Drug     1  NaN  NaN              No            0\n",
              "2       62  male     Drug    12  5.6  5.0              No            0\n",
              "3       62  male     Drug    16  NaN  NaN              No            0\n",
              "4       62  male     Drug     2  6.6  5.1              No            0\n",
              "...    ...   ...      ...   ...  ...  ...             ...          ...\n",
              "16098   78  male  Placebo    16  NaN  NaN             Yes            1\n",
              "16099   78  male  Placebo     2  7.5  4.9              No            0\n",
              "16100   78  male  Placebo    20  NaN  NaN             Yes            1\n",
              "16101   78  male  Placebo     4  6.4  4.8              No            0\n",
              "16102   78  male  Placebo     8  7.8  4.8              No            0\n",
              "\n",
              "[16103 rows x 8 columns]"
            ]
          },
          "execution_count": 14,
          "metadata": {},
          "output_type": "execute_result"
        }
      ],
      "source": [
        "# Load the dataset\n",
        "drug_safety = pd.read_csv(\"../drug_safety.csv\")\n",
        "drug_safety"
      ]
    },
    {
      "cell_type": "code",
      "execution_count": 15,
      "id": "UdXEb8dESuRi",
      "metadata": {
        "colab": {
          "base_uri": "https://localhost:8080/"
        },
        "id": "UdXEb8dESuRi",
        "outputId": "cac139ff-e2c9-47a5-b407-58954396b510"
      },
      "outputs": [
        {
          "data": {
            "text/plain": [
              "trx      adverse_effects\n",
              "Drug     No                 9703\n",
              "         Yes                1024\n",
              "Placebo  No                 4864\n",
              "         Yes                 512\n",
              "Name: count, dtype: int64"
            ]
          },
          "execution_count": 15,
          "metadata": {},
          "output_type": "execute_result"
        }
      ],
      "source": [
        "# Count the adverse_effects column values for each trx group\n",
        "adv_eff_by_trx = drug_safety.groupby(\"trx\").adverse_effects.value_counts()\n",
        "\n",
        "adv_eff_by_trx"
      ]
    },
    {
      "cell_type": "code",
      "execution_count": 16,
      "id": "uuwPqHFbThFa",
      "metadata": {
        "colab": {
          "base_uri": "https://localhost:8080/"
        },
        "id": "uuwPqHFbThFa",
        "outputId": "d7c6c56c-281e-45dd-a380-9227a10837a2"
      },
      "outputs": [
        {
          "data": {
            "text/plain": [
              "trx\n",
              "Drug       10727\n",
              "Placebo     5376\n",
              "Name: count, dtype: int64"
            ]
          },
          "execution_count": 16,
          "metadata": {},
          "output_type": "execute_result"
        }
      ],
      "source": [
        "# Compute total rows in each group\n",
        "adv_eff_by_trx_totals = adv_eff_by_trx.groupby(\"trx\").sum()\n",
        "\n",
        "adv_eff_by_trx_totals"
      ]
    },
    {
      "cell_type": "code",
      "execution_count": 17,
      "id": "4RxKt_zDVB5M",
      "metadata": {
        "colab": {
          "base_uri": "https://localhost:8080/"
        },
        "id": "4RxKt_zDVB5M",
        "outputId": "180eb74c-b3c9-4fa1-9df1-fd40f6a2bd33"
      },
      "outputs": [
        {
          "data": {
            "text/plain": [
              "[1024, 512]"
            ]
          },
          "execution_count": 17,
          "metadata": {},
          "output_type": "execute_result"
        }
      ],
      "source": [
        "# Create an array of the \"Yes\" counts for each group\n",
        "yeses = [adv_eff_by_trx[\"Drug\"][\"Yes\"], adv_eff_by_trx[\"Placebo\"][\"Yes\"]]\n",
        "\n",
        "yeses"
      ]
    },
    {
      "cell_type": "code",
      "execution_count": 18,
      "id": "uycCm1HbVMjx",
      "metadata": {
        "colab": {
          "base_uri": "https://localhost:8080/"
        },
        "id": "uycCm1HbVMjx",
        "outputId": "7f64df82-214a-4f93-f514-e3c3ea78b8f9"
      },
      "outputs": [
        {
          "data": {
            "text/plain": [
              "[10727, 5376]"
            ]
          },
          "execution_count": 18,
          "metadata": {},
          "output_type": "execute_result"
        }
      ],
      "source": [
        "# Create an array of the total number of rows in each group\n",
        "n = [adv_eff_by_trx_totals[\"Drug\"], adv_eff_by_trx_totals[\"Placebo\"]]\n",
        "\n",
        "n"
      ]
    },
    {
      "cell_type": "markdown",
      "id": "UZU-lu2VUHFL",
      "metadata": {
        "id": "UZU-lu2VUHFL"
      },
      "source": [
        "The z-test was performed using the proportions_ztest function. It is used to compare the proportions of successes (adverse effects in this case) between two groups."
      ]
    },
    {
      "cell_type": "code",
      "execution_count": 28,
      "id": "TZ6DcasNVary",
      "metadata": {
        "colab": {
          "base_uri": "https://localhost:8080/"
        },
        "id": "TZ6DcasNVary",
        "outputId": "3361c269-0537-4eee-8156-4cb65ac50453"
      },
      "outputs": [
        {
          "name": "stdout",
          "output_type": "stream",
          "text": [
            "Z-score: 0.0452182684494942\n",
            "P-value: 0.9639333330262475\n"
          ]
        }
      ],
      "source": [
        "# Perform a two-sided z-test on the two proportions\n",
        "two_sample_results = proportions_ztest(yeses, n)\n",
        "z_score, p_value = two_sample_results\n",
        "\n",
        "print(\"Z-score:\", z_score)\n",
        "print(\"P-value:\", p_value)\n",
        "\n",
        "# Save results to a CSV file\n",
        "results = {\n",
        "    \"Z-score\": [z_score],\n",
        "    \"P-value\": [p_value]\n",
        "}\n",
        "df = pd.DataFrame(results)\n",
        "df.to_csv(\"z_test_results.csv\", index=False)\n"
      ]
    },
    {
      "cell_type": "markdown",
      "id": "tZEoy31lVmk0",
      "metadata": {
        "id": "tZEoy31lVmk0"
      },
      "source": [
        "\n",
        "The **z-score** measures the difference between observed proportions and expected randomness. A z-score of 0.0452 implies a slight deviation from expected proportions, suggesting that the observed values align closely with random chance.\n",
        "\n",
        "The **p-value** represents the likelihood of getting a result like the one calculated, assuming the null hypothesis is correct. In hypothesis testing, a smaller p-value indicates stronger evidence against the null hypothesis. Our p-value is 0.9639, which is relatively large, suggesting the observed difference in proportions is likely due to random chance. A p-value above the common significance level (e.g., 0.05) means we lack strong evidence to reject the null hypothesis.\n",
        "\n",
        "In summary, the results imply that the observed difference in proportions is not statistically significant, and any deviation from expected values is likely due to random chance."
      ]
    },
    {
      "cell_type": "code",
      "execution_count": 20,
      "id": "OtxzezIR-hH2",
      "metadata": {
        "id": "OtxzezIR-hH2"
      },
      "outputs": [],
      "source": [
        "# Store the p-value\n",
        "two_sample_p_value = two_sample_results[1]\n"
      ]
    },
    {
      "cell_type": "markdown",
      "id": "e0oq4w-hC0Up",
      "metadata": {
        "id": "e0oq4w-hC0Up"
      },
      "source": [
        "### **2. Performing Chi-squared test to fnd out if number of adverse effects is independent of the treatment and control groups**"
      ]
    },
    {
      "cell_type": "code",
      "execution_count": 21,
      "id": "MT7NYGTJ-wa9",
      "metadata": {
        "colab": {
          "base_uri": "https://localhost:8080/"
        },
        "id": "MT7NYGTJ-wa9",
        "outputId": "14106fd5-a0a5-437e-a906-12d95f60f84f"
      },
      "outputs": [
        {
          "data": {
            "text/plain": [
              "(trx                 Drug      Placebo\n",
              " num_effects                          \n",
              " 0            9703.794883  4863.205117\n",
              " 1             960.587096   481.412904\n",
              " 2              58.621126    29.378874\n",
              " 3               3.996895     2.003105,\n",
              " trx          Drug  Placebo\n",
              " num_effects               \n",
              " 0            9703     4864\n",
              " 1             956      486\n",
              " 2              63       25\n",
              " 3               5        1,\n",
              "                  test    lambda      chi2  dof      pval    cramer     power\n",
              " 0             pearson  1.000000  1.799644  3.0  0.615012  0.010572  0.176275\n",
              " 1        cressie-read  0.666667  1.836006  3.0  0.607131  0.010678  0.179153\n",
              " 2      log-likelihood  0.000000  1.922495  3.0  0.588648  0.010926  0.186033\n",
              " 3       freeman-tukey -0.500000  2.001752  3.0  0.572043  0.011149  0.192379\n",
              " 4  mod-log-likelihood -1.000000  2.096158  3.0  0.552690  0.011409  0.199984\n",
              " 5              neyman -2.000000  2.344303  3.0  0.504087  0.012066  0.220189)"
            ]
          },
          "execution_count": 21,
          "metadata": {},
          "output_type": "execute_result"
        }
      ],
      "source": [
        "# Determine if num_effects and trx are independent\n",
        "num_effects_groups = pingouin.chi2_independence(\n",
        "    data=drug_safety, x=\"num_effects\", y=\"trx\")\n",
        "num_effects_groups"
      ]
    },
    {
      "cell_type": "markdown",
      "id": "clC_qP1KGFUW",
      "metadata": {
        "id": "clC_qP1KGFUW"
      },
      "source": [
        "**Observed Frequencies:**\n",
        "\n",
        "The first table represents the observed frequencies for the combination of \"num_effects\" and \"trx.\" Each cell in the table contains the actual counts.\n",
        "\n",
        "**Expected Frequencies:**\n",
        "\n",
        "The second table shows the expected frequencies assuming independence between \"num_effects\" and \"trx.\"\n",
        "\n",
        "**Test Statistics:**\n",
        "\n",
        "The third table provides various test statistics and information.\n",
        "chi2: The chi-squared test statistic.\n",
        "dof: Degrees of freedom.\n",
        "pval: The p-value, which is used to assess the statistical significance of the test.\n",
        "cramer: Cramer's V, a measure of the strength of association.\n",
        "\n",
        "**Conclusion:**\n",
        "\n",
        "The p-values for various test statistics are relatively high (e.g., 0.615012), indicating that there is no significant evidence to reject the null hypothesis of independence between \"num_effects\" and \"trx.\"\n",
        "Cramer's V values are very close to zero, suggesting a weak association.\n",
        "\n",
        "In summary, based on the chi-squared independence test, there is no strong evidence to suggest a significant association between \"num_effects\" and \"trx\" in the data. The observed frequencies align with the expected frequencies under the assumption of independence."
      ]
    },
    {
      "cell_type": "markdown",
      "id": "UyUKSj0EHGT_",
      "metadata": {
        "id": "UyUKSj0EHGT_"
      },
      "source": [
        "### **3. Mann-Whitney U test to assess whether there is a significant difference in the distribution of ages between two groups(Drug and Placebo).**"
      ]
    },
    {
      "cell_type": "code",
      "execution_count": 22,
      "id": "IlhrsWKTBEMW",
      "metadata": {
        "colab": {
          "base_uri": "https://localhost:8080/"
        },
        "id": "IlhrsWKTBEMW",
        "outputId": "d27960e4-c2cd-4fd5-ce0c-dc2954105eff"
      },
      "outputs": [
        {
          "data": {
            "text/plain": [
              "0.6150123339426765"
            ]
          },
          "execution_count": 22,
          "metadata": {},
          "output_type": "execute_result"
        }
      ],
      "source": [
        "# Extract the p-value\n",
        "num_effects_p_value = num_effects_groups[2][\"pval\"][0]\n",
        "num_effects_p_value"
      ]
    },
    {
      "cell_type": "code",
      "execution_count": 23,
      "id": "nWDFx470H9r9",
      "metadata": {
        "colab": {
          "base_uri": "https://localhost:8080/"
        },
        "id": "nWDFx470H9r9",
        "outputId": "a854d8b1-863b-4285-b68f-d1dd16503eca"
      },
      "outputs": [
        {
          "data": {
            "text/plain": [
              "0        62\n",
              "1        62\n",
              "2        62\n",
              "3        62\n",
              "4        62\n",
              "         ..\n",
              "16074    60\n",
              "16075    60\n",
              "16092    68\n",
              "16093    68\n",
              "16094    68\n",
              "Name: age, Length: 10727, dtype: int64"
            ]
          },
          "execution_count": 23,
          "metadata": {},
          "output_type": "execute_result"
        }
      ],
      "source": [
        "\n",
        "# Select the age of the Drug group\n",
        "age_trx = drug_safety.loc[drug_safety[\"trx\"] == \"Drug\", \"age\"]\n",
        "age_trx"
      ]
    },
    {
      "cell_type": "code",
      "execution_count": 24,
      "id": "pc8lVroXIIrt",
      "metadata": {
        "colab": {
          "base_uri": "https://localhost:8080/"
        },
        "id": "pc8lVroXIIrt",
        "outputId": "cdf87bad-cf66-4818-d204-ae6ec8ea9431"
      },
      "outputs": [
        {
          "data": {
            "text/plain": [
              "32       73\n",
              "33       73\n",
              "34       73\n",
              "35       73\n",
              "36       73\n",
              "         ..\n",
              "16098    78\n",
              "16099    78\n",
              "16100    78\n",
              "16101    78\n",
              "16102    78\n",
              "Name: age, Length: 5376, dtype: int64"
            ]
          },
          "execution_count": 24,
          "metadata": {},
          "output_type": "execute_result"
        }
      ],
      "source": [
        "# Select the age of the Placebo group\n",
        "age_placebo = drug_safety.loc[drug_safety[\"trx\"] == \"Placebo\", \"age\"]\n",
        "age_placebo"
      ]
    },
    {
      "cell_type": "code",
      "execution_count": 25,
      "id": "2E8e9_JOHaxq",
      "metadata": {
        "colab": {
          "base_uri": "https://localhost:8080/",
          "height": 450
        },
        "id": "2E8e9_JOHaxq",
        "outputId": "ca738abc-ed53-4232-9d4e-abfbc32c8402"
      },
      "outputs": [
        {
          "data": {
            "image/png": "[encoded data removed]",
            "text/plain": [
              "<Figure size 640x480 with 1 Axes>"
            ]
          },
          "metadata": {},
          "output_type": "display_data"
        }
      ],
      "source": [
        "# Create a histogram with Seaborn\n",
        "sns.histplot(data=drug_safety, x=\"age\", hue=\"trx\")\n",
        "plt.show()"
      ]
    },
    {
      "cell_type": "markdown",
      "id": "UJojdcLpInT1",
      "metadata": {
        "id": "UJojdcLpInT1"
      },
      "source": [
        "The histograms being similar suggests that there is an overlap in the age ranges of individuals in the Drug and Placebo groups. This implies that individuals with similar ages are present in both treatment groups.\n",
        "\n",
        "The data distribution is not normal."
      ]
    },
    {
      "cell_type": "code",
      "execution_count": 26,
      "id": "aop23RjLHbOv",
      "metadata": {
        "colab": {
          "base_uri": "https://localhost:8080/",
          "height": 89
        },
        "id": "aop23RjLHbOv",
        "outputId": "f2cef2dc-66a2-4115-e5fb-888350c2b205"
      },
      "outputs": [
        {
          "data": {
            "text/html": [
              "<div>\n",
              "<style scoped>\n",
              "    .dataframe tbody tr th:only-of-type {\n",
              "        vertical-align: middle;\n",
              "    }\n",
              "\n",
              "    .dataframe tbody tr th {\n",
              "        vertical-align: top;\n",
              "    }\n",
              "\n",
              "    .dataframe thead th {\n",
              "        text-align: right;\n",
              "    }\n",
              "</style>\n",
              "<table border=\"1\" class=\"dataframe\">\n",
              "  <thead>\n",
              "    <tr style=\"text-align: right;\">\n",
              "      <th></th>\n",
              "      <th>U-val</th>\n",
              "      <th>alternative</th>\n",
              "      <th>p-val</th>\n",
              "      <th>RBC</th>\n",
              "      <th>CLES</th>\n",
              "    </tr>\n",
              "  </thead>\n",
              "  <tbody>\n",
              "    <tr>\n",
              "      <th>MWU</th>\n",
              "      <td>29149339.5</td>\n",
              "      <td>two-sided</td>\n",
              "      <td>0.256963</td>\n",
              "      <td>-0.01093</td>\n",
              "      <td>0.505465</td>\n",
              "    </tr>\n",
              "  </tbody>\n",
              "</table>\n",
              "</div>"
            ],
            "text/plain": [
              "          U-val alternative     p-val      RBC      CLES\n",
              "MWU  29149339.5   two-sided  0.256963 -0.01093  0.505465"
            ]
          },
          "execution_count": 26,
          "metadata": {},
          "output_type": "execute_result"
        }
      ],
      "source": [
        "# Since the data distribution is not normal\n",
        "# Conduct a two-sided Mann-Whitney U test\n",
        "age_group_effects = pingouin.mwu(age_trx, age_placebo)\n",
        "\n",
        "age_group_effects"
      ]
    },
    {
      "cell_type": "code",
      "execution_count": 27,
      "id": "p9WB26ZHKL7Q",
      "metadata": {
        "colab": {
          "base_uri": "https://localhost:8080/"
        },
        "id": "p9WB26ZHKL7Q",
        "outputId": "16e6a135-e033-4855-e202-54c9ea73ed5c"
      },
      "outputs": [
        {
          "data": {
            "text/plain": [
              "MWU    0.256963\n",
              "Name: p-val, dtype: float64"
            ]
          },
          "execution_count": 27,
          "metadata": {},
          "output_type": "execute_result"
        }
      ],
      "source": [
        "# Extract the p-value\n",
        "age_group_effects_p_value = age_group_effects[\"p-val\"]\n",
        "\n",
        "age_group_effects_p_value"
      ]
    },
    {
      "cell_type": "markdown",
      "id": "EjUJ6qNeKWmh",
      "metadata": {
        "id": "EjUJ6qNeKWmh"
      },
      "source": [
        "The Mann-Whitney U test indicates that there is no significant difference in age between the two groups (age_trx and age_placebo). The p-value of 0.256963 is greater than the common significance level of 0.05, suggesting insufficient evidence to reject the null hypothesis of no difference. The effect size is small (RBC close to zero), and the probability of age_trx being greater than age_placebo is approximately 50.5%. In summary, the data does not provide strong evidence for a difference in age distributions between the two groups."
      ]
    }
  ],
  "metadata": {
    "colab": {
      "provenance": []
    },
    "kernelspec": {
      "display_name": "Python 3 (ipykernel)",
      "language": "python",
      "name": "python3"
    },
    "language_info": {
      "codemirror_mode": {
        "name": "ipython",
        "version": 3
      },
      "file_extension": ".py",
      "mimetype": "text/x-python",
      "name": "python",
      "nbconvert_exporter": "python",
      "pygments_lexer": "ipython3",
      "version": "3.9.18"
    }
  },
  "nbformat": 4,
  "nbformat_minor": 5
}
