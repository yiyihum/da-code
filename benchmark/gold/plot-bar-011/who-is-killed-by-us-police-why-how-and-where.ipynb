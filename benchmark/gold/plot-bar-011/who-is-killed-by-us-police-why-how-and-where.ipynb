{
 "cells": [
  {
   "cell_type": "code",
   "execution_count": 1,
   "id": "562be5d4",
   "metadata": {
    "execution": {
     "iopub.execute_input": "2021-08-04T17:01:44.377861Z",
     "iopub.status.busy": "2021-08-04T17:01:44.377186Z",
     "iopub.status.idle": "2021-08-04T17:01:45.363375Z",
     "shell.execute_reply": "2021-08-04T17:01:45.362223Z",
     "shell.execute_reply.started": "2021-08-04T15:04:18.288336Z"
    },
    "papermill": {
     "duration": 1.158217,
     "end_time": "2021-08-04T17:01:45.363577",
     "exception": false,
     "start_time": "2021-08-04T17:01:44.205360",
     "status": "completed"
    },
    "tags": []
   },
   "outputs": [
    {
     "name": "stdout",
     "output_type": "stream",
     "text": [
      "data-police-shootings\n",
      "fatal-police-shootings-in-the-us\n",
      "individuals-killed-by-the-police\n",
      "police-fatalities-from-2000-to-2016\n",
      "us-police-shootings\n",
      "\n"
     ]
    }
   ],
   "source": [
    "# This Python 3 environment comes with many helpful analytics libraries installed\n",
    "# It is defined by the kaggle/python docker image: https://github.com/kaggle/docker-python\n",
    "# For example, here's several helpful packages to load in \n",
    "\n",
    "import numpy as np # linear algebra\n",
    "import pandas as pd # data processing, CSV file I/O (e.g. pd.read_csv)\n",
    "import seaborn as sns\n",
    "import matplotlib.pyplot as plt\n",
    "from collections import Counter\n",
    "%matplotlib inline\n",
    "# Input data files are available in the \"../input/\" directory.\n",
    "# For example, running this (by clicking run or pressing Shift+Enter) will list the files in the input directory\n",
    "\n",
    "import warnings\n",
    "warnings.filterwarnings('ignore') \n",
    "\n",
    "from subprocess import check_output\n",
    "print(check_output([\"ls\", \"../input\"]).decode(\"utf8\"))"
   ]
  },
  {
   "cell_type": "code",
   "execution_count": 2,
   "id": "ec8ac881",
   "metadata": {
    "execution": {
     "iopub.execute_input": "2021-08-04T17:01:45.643527Z",
     "iopub.status.busy": "2021-08-04T17:01:45.642811Z",
     "iopub.status.idle": "2021-08-04T17:01:45.731473Z",
     "shell.execute_reply": "2021-08-04T17:01:45.730878Z",
     "shell.execute_reply.started": "2021-08-04T15:04:19.443862Z"
    },
    "papermill": {
     "duration": 0.229393,
     "end_time": "2021-08-04T17:01:45.731656",
     "exception": false,
     "start_time": "2021-08-04T17:01:45.502263",
     "status": "completed"
    },
    "tags": []
   },
   "outputs": [],
   "source": [
    "data = pd.read_csv('../input/individuals-killed-by-the-police/Police Fatalities.csv')"
   ]
  },
  {
   "cell_type": "code",
   "execution_count": 3,
   "id": "355abb1f",
   "metadata": {
    "execution": {
     "iopub.execute_input": "2021-08-04T17:01:46.018370Z",
     "iopub.status.busy": "2021-08-04T17:01:46.017262Z",
     "iopub.status.idle": "2021-08-04T17:01:46.043982Z",
     "shell.execute_reply": "2021-08-04T17:01:46.044602Z",
     "shell.execute_reply.started": "2021-08-04T15:04:19.530499Z"
    },
    "papermill": {
     "duration": 0.17534,
     "end_time": "2021-08-04T17:01:46.044774",
     "exception": false,
     "start_time": "2021-08-04T17:01:45.869434",
     "status": "completed"
    },
    "tags": []
   },
   "outputs": [
    {
     "data": {
      "text/html": [
       "<div>\n",
       "<style scoped>\n",
       "    .dataframe tbody tr th:only-of-type {\n",
       "        vertical-align: middle;\n",
       "    }\n",
       "\n",
       "    .dataframe tbody tr th {\n",
       "        vertical-align: top;\n",
       "    }\n",
       "\n",
       "    .dataframe thead th {\n",
       "        text-align: right;\n",
       "    }\n",
       "</style>\n",
       "<table border=\"1\" class=\"dataframe\">\n",
       "  <thead>\n",
       "    <tr style=\"text-align: right;\">\n",
       "      <th></th>\n",
       "      <th>UID</th>\n",
       "      <th>Name</th>\n",
       "      <th>Age</th>\n",
       "      <th>Gender</th>\n",
       "      <th>Race</th>\n",
       "      <th>Date</th>\n",
       "      <th>City</th>\n",
       "      <th>State</th>\n",
       "      <th>Manner_of_death</th>\n",
       "      <th>Armed</th>\n",
       "      <th>Mental_illness</th>\n",
       "      <th>Flee</th>\n",
       "    </tr>\n",
       "  </thead>\n",
       "  <tbody>\n",
       "    <tr>\n",
       "      <th>0</th>\n",
       "      <td>133</td>\n",
       "      <td>Karen O. Chin</td>\n",
       "      <td>44.0</td>\n",
       "      <td>Female</td>\n",
       "      <td>Asian</td>\n",
       "      <td>5/4/2000</td>\n",
       "      <td>Alameda</td>\n",
       "      <td>CA</td>\n",
       "      <td>Shot</td>\n",
       "      <td>NaN</td>\n",
       "      <td>False</td>\n",
       "      <td>False</td>\n",
       "    </tr>\n",
       "    <tr>\n",
       "      <th>1</th>\n",
       "      <td>169</td>\n",
       "      <td>Chyraphone Komvongsa</td>\n",
       "      <td>26.0</td>\n",
       "      <td>Male</td>\n",
       "      <td>Asian</td>\n",
       "      <td>6/2/2000</td>\n",
       "      <td>Fresno</td>\n",
       "      <td>CA</td>\n",
       "      <td>Shot</td>\n",
       "      <td>NaN</td>\n",
       "      <td>False</td>\n",
       "      <td>False</td>\n",
       "    </tr>\n",
       "    <tr>\n",
       "      <th>2</th>\n",
       "      <td>257</td>\n",
       "      <td>Ming Chinh Ly</td>\n",
       "      <td>36.0</td>\n",
       "      <td>Male</td>\n",
       "      <td>Asian</td>\n",
       "      <td>8/13/2000</td>\n",
       "      <td>Rosemead</td>\n",
       "      <td>CA</td>\n",
       "      <td>Shot</td>\n",
       "      <td>Gun</td>\n",
       "      <td>False</td>\n",
       "      <td>False</td>\n",
       "    </tr>\n",
       "    <tr>\n",
       "      <th>3</th>\n",
       "      <td>483</td>\n",
       "      <td>Kinh Quoc Dao</td>\n",
       "      <td>29.0</td>\n",
       "      <td>Male</td>\n",
       "      <td>Asian</td>\n",
       "      <td>2/9/2001</td>\n",
       "      <td>Valley Glen</td>\n",
       "      <td>CA</td>\n",
       "      <td>Shot</td>\n",
       "      <td>Gun</td>\n",
       "      <td>False</td>\n",
       "      <td>False</td>\n",
       "    </tr>\n",
       "    <tr>\n",
       "      <th>4</th>\n",
       "      <td>655</td>\n",
       "      <td>Vanpaseuth Phaisouphanh</td>\n",
       "      <td>25.0</td>\n",
       "      <td>Male</td>\n",
       "      <td>Asian</td>\n",
       "      <td>6/10/2001</td>\n",
       "      <td>Riverside</td>\n",
       "      <td>CA</td>\n",
       "      <td>Shot</td>\n",
       "      <td>Knife</td>\n",
       "      <td>False</td>\n",
       "      <td>False</td>\n",
       "    </tr>\n",
       "  </tbody>\n",
       "</table>\n",
       "</div>"
      ],
      "text/plain": [
       "   UID                     Name   Age  Gender   Race       Date         City  \\\n",
       "0  133            Karen O. Chin  44.0  Female  Asian   5/4/2000      Alameda   \n",
       "1  169     Chyraphone Komvongsa  26.0    Male  Asian   6/2/2000       Fresno   \n",
       "2  257            Ming Chinh Ly  36.0    Male  Asian  8/13/2000     Rosemead   \n",
       "3  483            Kinh Quoc Dao  29.0    Male  Asian   2/9/2001  Valley Glen   \n",
       "4  655  Vanpaseuth Phaisouphanh  25.0    Male  Asian  6/10/2001    Riverside   \n",
       "\n",
       "  State Manner_of_death  Armed  Mental_illness   Flee  \n",
       "0    CA            Shot    NaN           False  False  \n",
       "1    CA            Shot    NaN           False  False  \n",
       "2    CA            Shot    Gun           False  False  \n",
       "3    CA            Shot    Gun           False  False  \n",
       "4    CA            Shot  Knife           False  False  "
      ]
     },
     "execution_count": 3,
     "metadata": {},
     "output_type": "execute_result"
    }
   ],
   "source": [
    "data.head()"
   ]
  },
  {
   "cell_type": "code",
   "execution_count": 4,
   "id": "88e6a900",
   "metadata": {
    "execution": {
     "iopub.execute_input": "2021-08-04T17:01:46.339994Z",
     "iopub.status.busy": "2021-08-04T17:01:46.338969Z",
     "iopub.status.idle": "2021-08-04T17:01:46.363843Z",
     "shell.execute_reply": "2021-08-04T17:01:46.364708Z",
     "shell.execute_reply.started": "2021-08-04T15:04:19.578967Z"
    },
    "papermill": {
     "duration": 0.184857,
     "end_time": "2021-08-04T17:01:46.364972",
     "exception": false,
     "start_time": "2021-08-04T17:01:46.180115",
     "status": "completed"
    },
    "tags": []
   },
   "outputs": [
    {
     "data": {
      "text/html": [
       "<div>\n",
       "<style scoped>\n",
       "    .dataframe tbody tr th:only-of-type {\n",
       "        vertical-align: middle;\n",
       "    }\n",
       "\n",
       "    .dataframe tbody tr th {\n",
       "        vertical-align: top;\n",
       "    }\n",
       "\n",
       "    .dataframe thead th {\n",
       "        text-align: right;\n",
       "    }\n",
       "</style>\n",
       "<table border=\"1\" class=\"dataframe\">\n",
       "  <thead>\n",
       "    <tr style=\"text-align: right;\">\n",
       "      <th></th>\n",
       "      <th>UID</th>\n",
       "      <th>Name</th>\n",
       "      <th>Age</th>\n",
       "      <th>Gender</th>\n",
       "      <th>Race</th>\n",
       "      <th>Date</th>\n",
       "      <th>City</th>\n",
       "      <th>State</th>\n",
       "      <th>Manner_of_death</th>\n",
       "      <th>Armed</th>\n",
       "      <th>Mental_illness</th>\n",
       "      <th>Flee</th>\n",
       "    </tr>\n",
       "  </thead>\n",
       "  <tbody>\n",
       "    <tr>\n",
       "      <th>12486</th>\n",
       "      <td>12388</td>\n",
       "      <td>Name withheld by police</td>\n",
       "      <td>NaN</td>\n",
       "      <td>Male</td>\n",
       "      <td>NaN</td>\n",
       "      <td>12/9/2008</td>\n",
       "      <td>Sacramento</td>\n",
       "      <td>CA</td>\n",
       "      <td>Other</td>\n",
       "      <td>NaN</td>\n",
       "      <td>False</td>\n",
       "      <td>False</td>\n",
       "    </tr>\n",
       "    <tr>\n",
       "      <th>12487</th>\n",
       "      <td>12429</td>\n",
       "      <td>Gene Lovell Ford</td>\n",
       "      <td>48.0</td>\n",
       "      <td>Male</td>\n",
       "      <td>NaN</td>\n",
       "      <td>8/6/2008</td>\n",
       "      <td>Sacramento</td>\n",
       "      <td>CA</td>\n",
       "      <td>Other</td>\n",
       "      <td>NaN</td>\n",
       "      <td>True</td>\n",
       "      <td>False</td>\n",
       "    </tr>\n",
       "    <tr>\n",
       "      <th>12488</th>\n",
       "      <td>12430</td>\n",
       "      <td>Jose Vega</td>\n",
       "      <td>38.0</td>\n",
       "      <td>Male</td>\n",
       "      <td>NaN</td>\n",
       "      <td>8/6/2008</td>\n",
       "      <td>Visalia</td>\n",
       "      <td>CA</td>\n",
       "      <td>Other</td>\n",
       "      <td>NaN</td>\n",
       "      <td>True</td>\n",
       "      <td>False</td>\n",
       "    </tr>\n",
       "    <tr>\n",
       "      <th>12489</th>\n",
       "      <td>12636</td>\n",
       "      <td>Humberto Torres</td>\n",
       "      <td>41.0</td>\n",
       "      <td>Male</td>\n",
       "      <td>NaN</td>\n",
       "      <td>3/21/2009</td>\n",
       "      <td>Delano</td>\n",
       "      <td>CA</td>\n",
       "      <td>Other</td>\n",
       "      <td>Gun</td>\n",
       "      <td>False</td>\n",
       "      <td>False</td>\n",
       "    </tr>\n",
       "    <tr>\n",
       "      <th>12490</th>\n",
       "      <td>12861</td>\n",
       "      <td>Name withheld by police</td>\n",
       "      <td>39.0</td>\n",
       "      <td>Male</td>\n",
       "      <td>NaN</td>\n",
       "      <td>1/15/2010</td>\n",
       "      <td>Los Angeles</td>\n",
       "      <td>CA</td>\n",
       "      <td>Other</td>\n",
       "      <td>NaN</td>\n",
       "      <td>False</td>\n",
       "      <td>False</td>\n",
       "    </tr>\n",
       "  </tbody>\n",
       "</table>\n",
       "</div>"
      ],
      "text/plain": [
       "         UID                     Name   Age Gender Race       Date  \\\n",
       "12486  12388  Name withheld by police   NaN   Male  NaN  12/9/2008   \n",
       "12487  12429         Gene Lovell Ford  48.0   Male  NaN   8/6/2008   \n",
       "12488  12430                Jose Vega  38.0   Male  NaN   8/6/2008   \n",
       "12489  12636          Humberto Torres  41.0   Male  NaN  3/21/2009   \n",
       "12490  12861  Name withheld by police  39.0   Male  NaN  1/15/2010   \n",
       "\n",
       "              City State Manner_of_death Armed  Mental_illness   Flee  \n",
       "12486   Sacramento    CA           Other   NaN           False  False  \n",
       "12487   Sacramento    CA           Other   NaN            True  False  \n",
       "12488      Visalia    CA           Other   NaN            True  False  \n",
       "12489       Delano    CA           Other   Gun           False  False  \n",
       "12490  Los Angeles    CA           Other   NaN           False  False  "
      ]
     },
     "execution_count": 4,
     "metadata": {},
     "output_type": "execute_result"
    }
   ],
   "source": [
    "data.tail()"
   ]
  },
  {
   "cell_type": "code",
   "execution_count": 5,
   "id": "68786954",
   "metadata": {
    "execution": {
     "iopub.execute_input": "2021-08-04T17:01:46.648995Z",
     "iopub.status.busy": "2021-08-04T17:01:46.648338Z",
     "iopub.status.idle": "2021-08-04T17:01:46.652997Z",
     "shell.execute_reply": "2021-08-04T17:01:46.653469Z",
     "shell.execute_reply.started": "2021-08-04T15:04:19.608873Z"
    },
    "papermill": {
     "duration": 0.143861,
     "end_time": "2021-08-04T17:01:46.653646",
     "exception": false,
     "start_time": "2021-08-04T17:01:46.509785",
     "status": "completed"
    },
    "tags": []
   },
   "outputs": [
    {
     "data": {
      "text/plain": [
       "(12491, 12)"
      ]
     },
     "execution_count": 5,
     "metadata": {},
     "output_type": "execute_result"
    }
   ],
   "source": [
    "data.shape"
   ]
  },
  {
   "cell_type": "code",
   "execution_count": 6,
   "id": "086a333b",
   "metadata": {
    "execution": {
     "iopub.execute_input": "2021-08-04T17:01:46.926709Z",
     "iopub.status.busy": "2021-08-04T17:01:46.926009Z",
     "iopub.status.idle": "2021-08-04T17:01:46.958335Z",
     "shell.execute_reply": "2021-08-04T17:01:46.958873Z",
     "shell.execute_reply.started": "2021-08-04T15:04:19.618994Z"
    },
    "papermill": {
     "duration": 0.170778,
     "end_time": "2021-08-04T17:01:46.959087",
     "exception": false,
     "start_time": "2021-08-04T17:01:46.788309",
     "status": "completed"
    },
    "tags": []
   },
   "outputs": [
    {
     "name": "stdout",
     "output_type": "stream",
     "text": [
      "<class 'pandas.core.frame.DataFrame'>\n",
      "RangeIndex: 12491 entries, 0 to 12490\n",
      "Data columns (total 12 columns):\n",
      " #   Column           Non-Null Count  Dtype  \n",
      "---  ------           --------------  -----  \n",
      " 0   UID              12491 non-null  int64  \n",
      " 1   Name             12491 non-null  object \n",
      " 2   Age              12258 non-null  float64\n",
      " 3   Gender           12483 non-null  object \n",
      " 4   Race             8526 non-null   object \n",
      " 5   Date             12491 non-null  object \n",
      " 6   City             12487 non-null  object \n",
      " 7   State            12491 non-null  object \n",
      " 8   Manner_of_death  12491 non-null  object \n",
      " 9   Armed            6814 non-null   object \n",
      " 10  Mental_illness   12491 non-null  bool   \n",
      " 11  Flee             12491 non-null  bool   \n",
      "dtypes: bool(2), float64(1), int64(1), object(8)\n",
      "memory usage: 1000.4+ KB\n"
     ]
    }
   ],
   "source": [
    "data.info()"
   ]
  },
  {
   "cell_type": "code",
   "execution_count": 7,
   "id": "b8e102a7",
   "metadata": {
    "execution": {
     "iopub.execute_input": "2021-08-04T17:01:47.235304Z",
     "iopub.status.busy": "2021-08-04T17:01:47.234623Z",
     "iopub.status.idle": "2021-08-04T17:01:47.257479Z",
     "shell.execute_reply": "2021-08-04T17:01:47.258004Z",
     "shell.execute_reply.started": "2021-08-04T15:04:19.667722Z"
    },
    "papermill": {
     "duration": 0.163129,
     "end_time": "2021-08-04T17:01:47.258204",
     "exception": false,
     "start_time": "2021-08-04T17:01:47.095075",
     "status": "completed"
    },
    "tags": []
   },
   "outputs": [
    {
     "data": {
      "text/html": [
       "<div>\n",
       "<style scoped>\n",
       "    .dataframe tbody tr th:only-of-type {\n",
       "        vertical-align: middle;\n",
       "    }\n",
       "\n",
       "    .dataframe tbody tr th {\n",
       "        vertical-align: top;\n",
       "    }\n",
       "\n",
       "    .dataframe thead th {\n",
       "        text-align: right;\n",
       "    }\n",
       "</style>\n",
       "<table border=\"1\" class=\"dataframe\">\n",
       "  <thead>\n",
       "    <tr style=\"text-align: right;\">\n",
       "      <th></th>\n",
       "      <th>UID</th>\n",
       "      <th>Age</th>\n",
       "    </tr>\n",
       "  </thead>\n",
       "  <tbody>\n",
       "    <tr>\n",
       "      <th>count</th>\n",
       "      <td>12491.000000</td>\n",
       "      <td>12258.000000</td>\n",
       "    </tr>\n",
       "    <tr>\n",
       "      <th>mean</th>\n",
       "      <td>7759.543832</td>\n",
       "      <td>35.269538</td>\n",
       "    </tr>\n",
       "    <tr>\n",
       "      <th>std</th>\n",
       "      <td>4313.834339</td>\n",
       "      <td>12.979532</td>\n",
       "    </tr>\n",
       "    <tr>\n",
       "      <th>min</th>\n",
       "      <td>2.000000</td>\n",
       "      <td>1.000000</td>\n",
       "    </tr>\n",
       "    <tr>\n",
       "      <th>25%</th>\n",
       "      <td>4101.500000</td>\n",
       "      <td>25.000000</td>\n",
       "    </tr>\n",
       "    <tr>\n",
       "      <th>50%</th>\n",
       "      <td>7782.000000</td>\n",
       "      <td>33.000000</td>\n",
       "    </tr>\n",
       "    <tr>\n",
       "      <th>75%</th>\n",
       "      <td>11444.500000</td>\n",
       "      <td>44.000000</td>\n",
       "    </tr>\n",
       "    <tr>\n",
       "      <th>max</th>\n",
       "      <td>14980.000000</td>\n",
       "      <td>107.000000</td>\n",
       "    </tr>\n",
       "  </tbody>\n",
       "</table>\n",
       "</div>"
      ],
      "text/plain": [
       "                UID           Age\n",
       "count  12491.000000  12258.000000\n",
       "mean    7759.543832     35.269538\n",
       "std     4313.834339     12.979532\n",
       "min        2.000000      1.000000\n",
       "25%     4101.500000     25.000000\n",
       "50%     7782.000000     33.000000\n",
       "75%    11444.500000     44.000000\n",
       "max    14980.000000    107.000000"
      ]
     },
     "execution_count": 7,
     "metadata": {},
     "output_type": "execute_result"
    }
   ],
   "source": [
    "data.describe()"
   ]
  },
  {
   "cell_type": "code",
   "execution_count": 8,
   "id": "6a570f8d",
   "metadata": {
    "execution": {
     "iopub.execute_input": "2021-08-04T17:01:47.537902Z",
     "iopub.status.busy": "2021-08-04T17:01:47.537253Z",
     "iopub.status.idle": "2021-08-04T17:01:47.544308Z",
     "shell.execute_reply": "2021-08-04T17:01:47.544818Z",
     "shell.execute_reply.started": "2021-08-04T15:04:19.696905Z"
    },
    "papermill": {
     "duration": 0.144638,
     "end_time": "2021-08-04T17:01:47.545001",
     "exception": false,
     "start_time": "2021-08-04T17:01:47.400363",
     "status": "completed"
    },
    "tags": []
   },
   "outputs": [
    {
     "data": {
      "text/plain": [
       "UID                  int64\n",
       "Name                object\n",
       "Age                float64\n",
       "Gender              object\n",
       "Race                object\n",
       "Date                object\n",
       "City                object\n",
       "State               object\n",
       "Manner_of_death     object\n",
       "Armed               object\n",
       "Mental_illness        bool\n",
       "Flee                  bool\n",
       "dtype: object"
      ]
     },
     "execution_count": 8,
     "metadata": {},
     "output_type": "execute_result"
    }
   ],
   "source": [
    "data.dtypes"
   ]
  },
  {
   "cell_type": "code",
   "execution_count": 9,
   "id": "284968b0",
   "metadata": {
    "execution": {
     "iopub.execute_input": "2021-08-04T17:01:47.821250Z",
     "iopub.status.busy": "2021-08-04T17:01:47.820519Z",
     "iopub.status.idle": "2021-08-04T17:01:47.838358Z",
     "shell.execute_reply": "2021-08-04T17:01:47.838876Z",
     "shell.execute_reply.started": "2021-08-04T15:04:19.707145Z"
    },
    "papermill": {
     "duration": 0.156365,
     "end_time": "2021-08-04T17:01:47.839070",
     "exception": false,
     "start_time": "2021-08-04T17:01:47.682705",
     "status": "completed"
    },
    "tags": []
   },
   "outputs": [
    {
     "data": {
      "text/plain": [
       "UID                   0\n",
       "Name                  0\n",
       "Age                 233\n",
       "Gender                8\n",
       "Race               3965\n",
       "Date                  0\n",
       "City                  4\n",
       "State                 0\n",
       "Manner_of_death       0\n",
       "Armed              5677\n",
       "Mental_illness        0\n",
       "Flee                  0\n",
       "dtype: int64"
      ]
     },
     "execution_count": 9,
     "metadata": {},
     "output_type": "execute_result"
    }
   ],
   "source": [
    "data.isnull().sum()"
   ]
  },
  {
   "cell_type": "code",
   "execution_count": 10,
   "id": "cf0c7cb5",
   "metadata": {
    "execution": {
     "iopub.execute_input": "2021-08-04T17:01:48.118594Z",
     "iopub.status.busy": "2021-08-04T17:01:48.117903Z",
     "iopub.status.idle": "2021-08-04T17:01:48.119979Z",
     "shell.execute_reply": "2021-08-04T17:01:48.120531Z",
     "shell.execute_reply.started": "2021-08-04T15:04:19.735120Z"
    },
    "papermill": {
     "duration": 0.145827,
     "end_time": "2021-08-04T17:01:48.120709",
     "exception": false,
     "start_time": "2021-08-04T17:01:47.974882",
     "status": "completed"
    },
    "tags": []
   },
   "outputs": [],
   "source": [
    "data[\"Armed\"].fillna(\"UnKnown\", inplace = True)"
   ]
  },
  {
   "cell_type": "code",
   "execution_count": 11,
   "id": "8630b2c1",
   "metadata": {
    "execution": {
     "iopub.execute_input": "2021-08-04T17:01:48.397307Z",
     "iopub.status.busy": "2021-08-04T17:01:48.396632Z",
     "iopub.status.idle": "2021-08-04T17:01:48.415099Z",
     "shell.execute_reply": "2021-08-04T17:01:48.415567Z",
     "shell.execute_reply.started": "2021-08-04T15:04:19.743256Z"
    },
    "papermill": {
     "duration": 0.158774,
     "end_time": "2021-08-04T17:01:48.415745",
     "exception": false,
     "start_time": "2021-08-04T17:01:48.256971",
     "status": "completed"
    },
    "tags": []
   },
   "outputs": [
    {
     "data": {
      "text/plain": [
       "UID                   0\n",
       "Name                  0\n",
       "Age                 233\n",
       "Gender                8\n",
       "Race               3965\n",
       "Date                  0\n",
       "City                  4\n",
       "State                 0\n",
       "Manner_of_death       0\n",
       "Armed                 0\n",
       "Mental_illness        0\n",
       "Flee                  0\n",
       "dtype: int64"
      ]
     },
     "execution_count": 11,
     "metadata": {},
     "output_type": "execute_result"
    }
   ],
   "source": [
    "data.isnull().sum()"
   ]
  },
  {
   "cell_type": "code",
   "execution_count": 12,
   "id": "c1f80ed0",
   "metadata": {
    "execution": {
     "iopub.execute_input": "2021-08-04T17:01:48.703714Z",
     "iopub.status.busy": "2021-08-04T17:01:48.702710Z",
     "iopub.status.idle": "2021-08-04T17:01:48.708878Z",
     "shell.execute_reply": "2021-08-04T17:01:48.709385Z",
     "shell.execute_reply.started": "2021-08-04T15:04:19.772689Z"
    },
    "papermill": {
     "duration": 0.151642,
     "end_time": "2021-08-04T17:01:48.709584",
     "exception": false,
     "start_time": "2021-08-04T17:01:48.557942",
     "status": "completed"
    },
    "tags": []
   },
   "outputs": [],
   "source": [
    "data[\"Race\"].fillna(\"UnKnown\", inplace = True)"
   ]
  },
  {
   "cell_type": "code",
   "execution_count": 13,
   "id": "de2d4955",
   "metadata": {
    "execution": {
     "iopub.execute_input": "2021-08-04T17:01:49.050249Z",
     "iopub.status.busy": "2021-08-04T17:01:49.049207Z",
     "iopub.status.idle": "2021-08-04T17:01:49.068162Z",
     "shell.execute_reply": "2021-08-04T17:01:49.068604Z",
     "shell.execute_reply.started": "2021-08-04T15:04:19.785212Z"
    },
    "papermill": {
     "duration": 0.216509,
     "end_time": "2021-08-04T17:01:49.068777",
     "exception": false,
     "start_time": "2021-08-04T17:01:48.852268",
     "status": "completed"
    },
    "tags": []
   },
   "outputs": [
    {
     "data": {
      "text/plain": [
       "UID                  0\n",
       "Name                 0\n",
       "Age                233\n",
       "Gender               8\n",
       "Race                 0\n",
       "Date                 0\n",
       "City                 4\n",
       "State                0\n",
       "Manner_of_death      0\n",
       "Armed                0\n",
       "Mental_illness       0\n",
       "Flee                 0\n",
       "dtype: int64"
      ]
     },
     "execution_count": 13,
     "metadata": {},
     "output_type": "execute_result"
    }
   ],
   "source": [
    "data.isnull().sum()"
   ]
  },
  {
   "cell_type": "code",
   "execution_count": 14,
   "id": "88c7b592",
   "metadata": {
    "execution": {
     "iopub.execute_input": "2021-08-04T17:01:49.351613Z",
     "iopub.status.busy": "2021-08-04T17:01:49.350587Z",
     "iopub.status.idle": "2021-08-04T17:01:49.356767Z",
     "shell.execute_reply": "2021-08-04T17:01:49.357259Z",
     "shell.execute_reply.started": "2021-08-04T15:04:19.816238Z"
    },
    "papermill": {
     "duration": 0.150487,
     "end_time": "2021-08-04T17:01:49.357442",
     "exception": false,
     "start_time": "2021-08-04T17:01:49.206955",
     "status": "completed"
    },
    "tags": []
   },
   "outputs": [],
   "source": [
    "data[\"Age\"].fillna(data[\"Age\"].mean(), inplace = True)"
   ]
  },
  {
   "cell_type": "code",
   "execution_count": 15,
   "id": "d3212d05",
   "metadata": {
    "execution": {
     "iopub.execute_input": "2021-08-04T17:01:49.642797Z",
     "iopub.status.busy": "2021-08-04T17:01:49.640492Z",
     "iopub.status.idle": "2021-08-04T17:01:49.661516Z",
     "shell.execute_reply": "2021-08-04T17:01:49.661985Z",
     "shell.execute_reply.started": "2021-08-04T15:04:19.827257Z"
    },
    "papermill": {
     "duration": 0.165004,
     "end_time": "2021-08-04T17:01:49.662197",
     "exception": false,
     "start_time": "2021-08-04T17:01:49.497193",
     "status": "completed"
    },
    "tags": []
   },
   "outputs": [
    {
     "data": {
      "text/plain": [
       "UID                0\n",
       "Name               0\n",
       "Age                0\n",
       "Gender             8\n",
       "Race               0\n",
       "Date               0\n",
       "City               4\n",
       "State              0\n",
       "Manner_of_death    0\n",
       "Armed              0\n",
       "Mental_illness     0\n",
       "Flee               0\n",
       "dtype: int64"
      ]
     },
     "execution_count": 15,
     "metadata": {},
     "output_type": "execute_result"
    }
   ],
   "source": [
    "data.isnull().sum()"
   ]
  },
  {
   "cell_type": "code",
   "execution_count": 16,
   "id": "414e7a4f",
   "metadata": {
    "execution": {
     "iopub.execute_input": "2021-08-04T17:01:49.942550Z",
     "iopub.status.busy": "2021-08-04T17:01:49.941369Z",
     "iopub.status.idle": "2021-08-04T17:01:49.983201Z",
     "shell.execute_reply": "2021-08-04T17:01:49.983760Z",
     "shell.execute_reply.started": "2021-08-04T15:04:19.856041Z"
    },
    "papermill": {
     "duration": 0.181631,
     "end_time": "2021-08-04T17:01:49.983936",
     "exception": false,
     "start_time": "2021-08-04T17:01:49.802305",
     "status": "completed"
    },
    "tags": []
   },
   "outputs": [
    {
     "data": {
      "text/plain": [
       "(12479, 12)"
      ]
     },
     "execution_count": 16,
     "metadata": {},
     "output_type": "execute_result"
    }
   ],
   "source": [
    "data =data.dropna(how='any')\n",
    "data.shape"
   ]
  },
  {
   "cell_type": "code",
   "execution_count": 17,
   "id": "8f7d0be0",
   "metadata": {
    "execution": {
     "iopub.execute_input": "2021-08-04T17:01:50.273218Z",
     "iopub.status.busy": "2021-08-04T17:01:50.272540Z",
     "iopub.status.idle": "2021-08-04T17:01:50.291936Z",
     "shell.execute_reply": "2021-08-04T17:01:50.291311Z",
     "shell.execute_reply.started": "2021-08-04T15:04:19.905552Z"
    },
    "papermill": {
     "duration": 0.16634,
     "end_time": "2021-08-04T17:01:50.292099",
     "exception": false,
     "start_time": "2021-08-04T17:01:50.125759",
     "status": "completed"
    },
    "tags": []
   },
   "outputs": [
    {
     "data": {
      "text/plain": [
       "UID                0\n",
       "Name               0\n",
       "Age                0\n",
       "Gender             0\n",
       "Race               0\n",
       "Date               0\n",
       "City               0\n",
       "State              0\n",
       "Manner_of_death    0\n",
       "Armed              0\n",
       "Mental_illness     0\n",
       "Flee               0\n",
       "dtype: int64"
      ]
     },
     "execution_count": 17,
     "metadata": {},
     "output_type": "execute_result"
    }
   ],
   "source": [
    "data.isnull().sum()"
   ]
  },
  {
   "cell_type": "code",
   "execution_count": 18,
   "id": "ca037ccd",
   "metadata": {
    "execution": {
     "iopub.execute_input": "2021-08-04T17:01:50.577703Z",
     "iopub.status.busy": "2021-08-04T17:01:50.576928Z",
     "iopub.status.idle": "2021-08-04T17:01:50.583600Z",
     "shell.execute_reply": "2021-08-04T17:01:50.584196Z",
     "shell.execute_reply.started": "2021-08-04T15:04:19.933131Z"
    },
    "papermill": {
     "duration": 0.149701,
     "end_time": "2021-08-04T17:01:50.584367",
     "exception": false,
     "start_time": "2021-08-04T17:01:50.434666",
     "status": "completed"
    },
    "tags": []
   },
   "outputs": [
    {
     "data": {
      "text/plain": [
       "array(['CA', 'NV', 'NY', 'OR', 'WA', 'MN', 'TX', 'IL', 'LA', 'FL', 'NC',\n",
       "       'UT', 'VA', 'HI', 'MT', 'PA', 'GA', 'NJ', 'AL', 'SC', 'CT', 'NM',\n",
       "       'WI', 'CO', 'TN', 'OH', 'AZ', 'RI', 'MS', 'MD', 'MO', 'KY', 'MI',\n",
       "       'DC', 'IN', 'NE', 'MA', 'KS', 'AR', 'DE', 'ME', 'IA', 'AK', 'OK',\n",
       "       'VT', 'WV', 'WY', 'ID', 'NH', 'SD', 'ND'], dtype=object)"
      ]
     },
     "execution_count": 18,
     "metadata": {},
     "output_type": "execute_result"
    }
   ],
   "source": [
    "data['State'].unique()"
   ]
  },
  {
   "cell_type": "code",
   "execution_count": 19,
   "id": "96ba395d",
   "metadata": {
    "execution": {
     "iopub.execute_input": "2021-08-04T17:01:50.877567Z",
     "iopub.status.busy": "2021-08-04T17:01:50.876822Z",
     "iopub.status.idle": "2021-08-04T17:01:50.895802Z",
     "shell.execute_reply": "2021-08-04T17:01:50.895145Z",
     "shell.execute_reply.started": "2021-08-04T15:04:19.946683Z"
    },
    "papermill": {
     "duration": 0.167163,
     "end_time": "2021-08-04T17:01:50.895955",
     "exception": false,
     "start_time": "2021-08-04T17:01:50.728792",
     "status": "completed"
    },
    "tags": []
   },
   "outputs": [],
   "source": [
    "def state(x):\n",
    "    if x=='AL':\n",
    "        return('Alabama')\n",
    "    elif x=='AK':\n",
    "        return('Alaska')\n",
    "    elif x=='AZ':\n",
    "        return('Arizona')\n",
    "    elif x=='AR':\n",
    "        return('Arkansas')\n",
    "    elif x=='AZ':\n",
    "        return('Arizona')\n",
    "    elif x=='CA':\n",
    "        return('California')\n",
    "    elif x=='CO':\n",
    "        return('Colorado')\n",
    "    elif x=='CT':\n",
    "        return('Connecticut')\n",
    "    elif x=='DE':\n",
    "        return('Delaware')\n",
    "    elif x=='FL':\n",
    "        return('Florida')\n",
    "    elif x=='GE':\n",
    "        return('Georgia')\n",
    "    elif x=='HI':\n",
    "        return('Hawaii')\n",
    "    elif x=='FL':\n",
    "        return('Idaho')\n",
    "    elif x=='IL':\n",
    "        return('Illinois')\n",
    "    elif x=='IN':\n",
    "        return('Indiana')\n",
    "    elif x=='IA':\n",
    "        return('Iowa')\n",
    "    elif x=='KS':\n",
    "        return('Kansas')\n",
    "    elif x=='KY':\n",
    "        return('Kentucky')\n",
    "    elif x=='LA':\n",
    "        return('Louisiana')\n",
    "    elif x=='ME':\n",
    "        return('Maine')\n",
    "    elif x=='MD':\n",
    "        return('Maryland')\n",
    "    elif x=='MA':\n",
    "        return('Massachusetts')\n",
    "    elif x=='MI':\n",
    "        return('Michigan')\n",
    "    elif x=='MN':\n",
    "        return('Minnesota')\n",
    "    elif x=='MS':\n",
    "        return('Mississippi')\n",
    "    elif x=='MO':\n",
    "        return('Missouri')\n",
    "    elif x=='MT':\n",
    "        return('Montana')\n",
    "    elif x=='NE':\n",
    "        return('Nebraska')\n",
    "    elif x=='NV':\n",
    "        return('Nevada')\n",
    "    elif x=='NH':\n",
    "        return('New Hampshire')\n",
    "    elif x=='NJ':\n",
    "        return('New Jersey')\n",
    "    elif x=='NM':\n",
    "        return('New Mexico')\n",
    "    elif x=='NY':\n",
    "        return('New York')\n",
    "    elif x=='NC':\n",
    "        return('North Carolina')\n",
    "    elif x=='ND':\n",
    "        return('North Dakota')\n",
    "    elif x=='OH':\n",
    "        return('Ohio')\n",
    "    elif x=='OK':\n",
    "        return('Oklahoma')\n",
    "    elif x=='OR':\n",
    "        return('Oregon')\n",
    "    elif x=='PA':\n",
    "        return('Pennsylvania')\n",
    "    elif x=='RI':\n",
    "        return('Rhode Island')\n",
    "    elif x=='SC':\n",
    "        return('South Carolina')\n",
    "    elif x=='SD':\n",
    "        return('South Dakota')\n",
    "    elif x=='TN':\n",
    "        return('Tennessee')\n",
    "    elif x=='TX':\n",
    "        return('Texas')\n",
    "    elif x=='UT':\n",
    "        return('Utah')\n",
    "    elif x=='VT':\n",
    "        return('Vermont')\n",
    "    elif x=='VA':\n",
    "        return('Virginia')\n",
    "    elif x=='WA':\n",
    "        return('Washington')\n",
    "    elif x=='WV':\n",
    "        return('West Virginia')\n",
    "    elif x=='WI':\n",
    "        return('Wisconsin')\n",
    "    else:\n",
    "        return('Wyoming')\n",
    "    \n"
   ]
  },
  {
   "cell_type": "code",
   "execution_count": 20,
   "id": "ba195eb6",
   "metadata": {
    "execution": {
     "iopub.execute_input": "2021-08-04T17:01:51.196661Z",
     "iopub.status.busy": "2021-08-04T17:01:51.191360Z",
     "iopub.status.idle": "2021-08-04T17:01:51.198935Z",
     "shell.execute_reply": "2021-08-04T17:01:51.199466Z",
     "shell.execute_reply.started": "2021-08-04T15:04:19.967836Z"
    },
    "papermill": {
     "duration": 0.161544,
     "end_time": "2021-08-04T17:01:51.199650",
     "exception": false,
     "start_time": "2021-08-04T17:01:51.038106",
     "status": "completed"
    },
    "tags": []
   },
   "outputs": [],
   "source": [
    "data['State']=data['State'].apply(state)"
   ]
  },
  {
   "cell_type": "code",
   "execution_count": 21,
   "id": "2e97a8b0",
   "metadata": {
    "execution": {
     "iopub.execute_input": "2021-08-04T17:01:51.488343Z",
     "iopub.status.busy": "2021-08-04T17:01:51.487663Z",
     "iopub.status.idle": "2021-08-04T17:01:51.495861Z",
     "shell.execute_reply": "2021-08-04T17:01:51.495218Z",
     "shell.execute_reply.started": "2021-08-04T15:04:20.001230Z"
    },
    "papermill": {
     "duration": 0.154424,
     "end_time": "2021-08-04T17:01:51.496040",
     "exception": false,
     "start_time": "2021-08-04T17:01:51.341616",
     "status": "completed"
    },
    "tags": []
   },
   "outputs": [
    {
     "data": {
      "text/plain": [
       "array(['California', 'Nevada', 'New York', 'Oregon', 'Washington',\n",
       "       'Minnesota', 'Texas', 'Illinois', 'Louisiana', 'Florida',\n",
       "       'North Carolina', 'Utah', 'Virginia', 'Hawaii', 'Montana',\n",
       "       'Pennsylvania', 'Wyoming', 'New Jersey', 'Alabama',\n",
       "       'South Carolina', 'Connecticut', 'New Mexico', 'Wisconsin',\n",
       "       'Colorado', 'Tennessee', 'Ohio', 'Arizona', 'Rhode Island',\n",
       "       'Mississippi', 'Maryland', 'Missouri', 'Kentucky', 'Michigan',\n",
       "       'Indiana', 'Nebraska', 'Massachusetts', 'Kansas', 'Arkansas',\n",
       "       'Delaware', 'Maine', 'Iowa', 'Alaska', 'Oklahoma', 'Vermont',\n",
       "       'West Virginia', 'New Hampshire', 'South Dakota', 'North Dakota'],\n",
       "      dtype=object)"
      ]
     },
     "execution_count": 21,
     "metadata": {},
     "output_type": "execute_result"
    }
   ],
   "source": [
    "data['State'].unique()"
   ]
  },
  {
   "cell_type": "code",
   "execution_count": 22,
   "id": "cef30dc8",
   "metadata": {
    "execution": {
     "iopub.execute_input": "2021-08-04T17:01:51.793025Z",
     "iopub.status.busy": "2021-08-04T17:01:51.792374Z",
     "iopub.status.idle": "2021-08-04T17:01:51.796699Z",
     "shell.execute_reply": "2021-08-04T17:01:51.796122Z",
     "shell.execute_reply.started": "2021-08-04T15:04:20.012184Z"
    },
    "papermill": {
     "duration": 0.15433,
     "end_time": "2021-08-04T17:01:51.796845",
     "exception": false,
     "start_time": "2021-08-04T17:01:51.642515",
     "status": "completed"
    },
    "tags": []
   },
   "outputs": [
    {
     "data": {
      "text/plain": [
       "0    California\n",
       "1    California\n",
       "2    California\n",
       "3    California\n",
       "4    California\n",
       "Name: State, dtype: object"
      ]
     },
     "execution_count": 22,
     "metadata": {},
     "output_type": "execute_result"
    }
   ],
   "source": [
    "data['State'].head()"
   ]
  },
  {
   "cell_type": "code",
   "execution_count": 23,
   "id": "acd7a5e1",
   "metadata": {
    "execution": {
     "iopub.execute_input": "2021-08-04T17:01:52.079075Z",
     "iopub.status.busy": "2021-08-04T17:01:52.078387Z",
     "iopub.status.idle": "2021-08-04T17:01:52.096474Z",
     "shell.execute_reply": "2021-08-04T17:01:52.097088Z",
     "shell.execute_reply.started": "2021-08-04T15:04:20.033847Z"
    },
    "papermill": {
     "duration": 0.161021,
     "end_time": "2021-08-04T17:01:52.097273",
     "exception": false,
     "start_time": "2021-08-04T17:01:51.936252",
     "status": "completed"
    },
    "tags": []
   },
   "outputs": [],
   "source": [
    "def Region(x):\n",
    "    if x=='Alabama':\n",
    "        return('south')\n",
    "    elif x=='Alaska':\n",
    "        return('west')\n",
    "    elif x=='Arizona':\n",
    "        return('west')\n",
    "    elif x=='Arkansas':\n",
    "        return('south')\n",
    "\n",
    "    elif x=='California':\n",
    "        return('west')\n",
    "    \n",
    "    elif x=='Colorado':\n",
    "        return('west')\n",
    "    \n",
    "    elif x=='Connecticut':\n",
    "        return('northeast')\n",
    "    \n",
    "    elif x=='Delaware':\n",
    "        return('south')\n",
    "    \n",
    "    elif x=='Florida':\n",
    "        return('south')\n",
    "    elif x=='Georgia':\n",
    "        return('south')\n",
    "    elif x=='Hawaii':\n",
    "        return('west')\n",
    "    elif x=='Idaho':\n",
    "        return('west')\n",
    "    elif x=='Illinois':\n",
    "        return('Midwest')\n",
    "    elif x=='Indiana':\n",
    "        return('Midwest')\n",
    "    elif x=='Iowa':\n",
    "        return('Midwest')\n",
    "    elif x=='Kansas':\n",
    "        return('Midwest')\n",
    "    elif x=='Kentucky':\n",
    "        return('south')\n",
    "    elif x=='Louisiana':\n",
    "        return('south')\n",
    "    elif x=='Maine':\n",
    "        return('northeast')\n",
    "    elif x=='Maryland':\n",
    "        return('south')\n",
    "    elif x=='Massachusetts':\n",
    "        return('northeast')\n",
    "    elif x=='Michigan':\n",
    "        return('Midwest')\n",
    "    elif x=='Minnesota':\n",
    "        return('Midwest')\n",
    "    elif x=='Mississippi':\n",
    "        return('south')\n",
    "    elif x=='Missouri':\n",
    "        return('Midwest')\n",
    "    elif x=='Montana':\n",
    "        return('west')\n",
    "    elif x=='Nebraska':\n",
    "        return('Midwest')\n",
    "    elif x=='Nevada':\n",
    "        return('west')\n",
    "    elif x=='New Hampshire':\n",
    "        return('northeast')\n",
    "    elif x=='New Jersey':\n",
    "        return('northeast')\n",
    "    elif x=='New Mexico':\n",
    "        return('west')\n",
    "    elif x=='New York':\n",
    "        return('northeast')\n",
    "    elif x=='North Carolina':\n",
    "        return('south')\n",
    "    elif x=='North Dakota':\n",
    "        return('Midwest')\n",
    "    elif x=='Ohio':\n",
    "        return('Midwest')\n",
    "    elif x=='Oklahoma':\n",
    "        return('south')\n",
    "    elif x=='Oregon':\n",
    "        return('west')\n",
    "    elif x=='Pennsylvania':\n",
    "        return('northeast')\n",
    "    elif x=='Rhode Island':\n",
    "        return('northeast')\n",
    "    elif x=='South Carolina':\n",
    "        return('south')\n",
    "    elif x=='South Dakota':\n",
    "        return('Midwest')\n",
    "    elif x=='Tennessee':\n",
    "        return('south')\n",
    "    elif x=='Texas':\n",
    "        return('south')\n",
    "    elif x=='Utah':\n",
    "        return('west')\n",
    "    elif x=='Vermont':\n",
    "        return('northeast')\n",
    "    elif x=='Virginia':\n",
    "        return('south')\n",
    "    elif x=='Washington':\n",
    "        return('west')\n",
    "    elif x=='West Virginia':\n",
    "        return('south')\n",
    "    elif x=='Wisconsin':\n",
    "        return('Midwest')\n",
    "    elif x=='Wyoming':\n",
    "        return('west')\n",
    "    "
   ]
  },
  {
   "cell_type": "code",
   "execution_count": 24,
   "id": "4c49e7d9",
   "metadata": {
    "execution": {
     "iopub.execute_input": "2021-08-04T17:01:52.377781Z",
     "iopub.status.busy": "2021-08-04T17:01:52.377104Z",
     "iopub.status.idle": "2021-08-04T17:01:52.392936Z",
     "shell.execute_reply": "2021-08-04T17:01:52.393444Z",
     "shell.execute_reply.started": "2021-08-04T15:04:20.057308Z"
    },
    "papermill": {
     "duration": 0.156604,
     "end_time": "2021-08-04T17:01:52.393629",
     "exception": false,
     "start_time": "2021-08-04T17:01:52.237025",
     "status": "completed"
    },
    "tags": []
   },
   "outputs": [],
   "source": [
    "data['Region']=data['State'].apply(Region)"
   ]
  },
  {
   "cell_type": "code",
   "execution_count": 25,
   "id": "cf332955",
   "metadata": {
    "execution": {
     "iopub.execute_input": "2021-08-04T17:01:52.676707Z",
     "iopub.status.busy": "2021-08-04T17:01:52.676090Z",
     "iopub.status.idle": "2021-08-04T17:01:52.684998Z",
     "shell.execute_reply": "2021-08-04T17:01:52.684499Z",
     "shell.execute_reply.started": "2021-08-04T15:04:20.083093Z"
    },
    "papermill": {
     "duration": 0.150813,
     "end_time": "2021-08-04T17:01:52.685154",
     "exception": false,
     "start_time": "2021-08-04T17:01:52.534341",
     "status": "completed"
    },
    "tags": []
   },
   "outputs": [
    {
     "data": {
      "text/plain": [
       "array(['west', 'northeast', 'Midwest', 'south'], dtype=object)"
      ]
     },
     "execution_count": 25,
     "metadata": {},
     "output_type": "execute_result"
    }
   ],
   "source": [
    "data['Region'].unique()"
   ]
  },
  {
   "cell_type": "code",
   "execution_count": 26,
   "id": "31702e3e",
   "metadata": {
    "execution": {
     "iopub.execute_input": "2021-08-04T17:01:52.972213Z",
     "iopub.status.busy": "2021-08-04T17:01:52.971482Z",
     "iopub.status.idle": "2021-08-04T17:01:53.179668Z",
     "shell.execute_reply": "2021-08-04T17:01:53.179130Z",
     "shell.execute_reply.started": "2021-08-04T15:04:20.102090Z"
    },
    "papermill": {
     "duration": 0.35579,
     "end_time": "2021-08-04T17:01:53.179812",
     "exception": false,
     "start_time": "2021-08-04T17:01:52.824022",
     "status": "completed"
    },
    "tags": []
   },
   "outputs": [
    {
     "data": {
      "text/plain": [
       "<AxesSubplot:xlabel='Region', ylabel='Count'>"
      ]
     },
     "execution_count": 26,
     "metadata": {},
     "output_type": "execute_result"
    },
    {
     "data": {
      "image/png": "[encoded data removed]",
      "text/plain": [
       "<Figure size 432x288 with 1 Axes>"
      ]
     },
     "metadata": {
      "needs_background": "light"
     },
     "output_type": "display_data"
    }
   ],
   "source": [
    "sns.histplot(data['Region'])"
   ]
  },
  {
   "cell_type": "code",
   "execution_count": 27,
   "id": "8d2c9625",
   "metadata": {
    "execution": {
     "iopub.execute_input": "2021-08-04T17:01:53.474299Z",
     "iopub.status.busy": "2021-08-04T17:01:53.473501Z",
     "iopub.status.idle": "2021-08-04T17:01:53.477074Z",
     "shell.execute_reply": "2021-08-04T17:01:53.477556Z",
     "shell.execute_reply.started": "2021-08-04T15:04:20.350441Z"
    },
    "papermill": {
     "duration": 0.155756,
     "end_time": "2021-08-04T17:01:53.477730",
     "exception": false,
     "start_time": "2021-08-04T17:01:53.321974",
     "status": "completed"
    },
    "tags": []
   },
   "outputs": [
    {
     "data": {
      "text/plain": [
       "0"
      ]
     },
     "execution_count": 27,
     "metadata": {},
     "output_type": "execute_result"
    }
   ],
   "source": [
    "data['Region'].isnull().sum()"
   ]
  },
  {
   "cell_type": "code",
   "execution_count": 28,
   "id": "0270329f",
   "metadata": {
    "execution": {
     "iopub.execute_input": "2021-08-04T17:01:53.767944Z",
     "iopub.status.busy": "2021-08-04T17:01:53.767287Z",
     "iopub.status.idle": "2021-08-04T17:01:53.774074Z",
     "shell.execute_reply": "2021-08-04T17:01:53.774563Z",
     "shell.execute_reply.started": "2021-08-04T15:04:20.361058Z"
    },
    "papermill": {
     "duration": 0.153174,
     "end_time": "2021-08-04T17:01:53.774737",
     "exception": false,
     "start_time": "2021-08-04T17:01:53.621563",
     "status": "completed"
    },
    "tags": []
   },
   "outputs": [
    {
     "data": {
      "text/plain": [
       "array(['Asian', 'Black', 'Hispanic', 'Other', 'Native', 'White',\n",
       "       'UnKnown'], dtype=object)"
      ]
     },
     "execution_count": 28,
     "metadata": {},
     "output_type": "execute_result"
    }
   ],
   "source": [
    "data['Race'].unique()"
   ]
  },
  {
   "cell_type": "code",
   "execution_count": 29,
   "id": "ab6b7822",
   "metadata": {
    "execution": {
     "iopub.execute_input": "2021-08-04T17:01:54.065306Z",
     "iopub.status.busy": "2021-08-04T17:01:54.064331Z",
     "iopub.status.idle": "2021-08-04T17:01:54.286781Z",
     "shell.execute_reply": "2021-08-04T17:01:54.285990Z",
     "shell.execute_reply.started": "2021-08-04T15:04:20.381627Z"
    },
    "papermill": {
     "duration": 0.370526,
     "end_time": "2021-08-04T17:01:54.286939",
     "exception": false,
     "start_time": "2021-08-04T17:01:53.916413",
     "status": "completed"
    },
    "tags": []
   },
   "outputs": [
    {
     "data": {
      "text/plain": [
       "<AxesSubplot:xlabel='Race', ylabel='Count'>"
      ]
     },
     "execution_count": 29,
     "metadata": {},
     "output_type": "execute_result"
    },
    {
     "data": {
      "image/png": "[encoded data removed]",
      "text/plain": [
       "<Figure size 432x288 with 1 Axes>"
      ]
     },
     "metadata": {
      "needs_background": "light"
     },
     "output_type": "display_data"
    }
   ],
   "source": [
    "sns.histplot(data['Race'])"
   ]
  },
  {
   "cell_type": "code",
   "execution_count": 30,
   "id": "af8b5b68",
   "metadata": {
    "execution": {
     "iopub.execute_input": "2021-08-04T17:01:54.580575Z",
     "iopub.status.busy": "2021-08-04T17:01:54.579630Z",
     "iopub.status.idle": "2021-08-04T17:01:54.585084Z",
     "shell.execute_reply": "2021-08-04T17:01:54.585689Z",
     "shell.execute_reply.started": "2021-08-04T15:04:20.622369Z"
    },
    "papermill": {
     "duration": 0.154046,
     "end_time": "2021-08-04T17:01:54.585864",
     "exception": false,
     "start_time": "2021-08-04T17:01:54.431818",
     "status": "completed"
    },
    "tags": []
   },
   "outputs": [
    {
     "data": {
      "text/plain": [
       "array(['Shot', 'Shot and Tasered', 'Tasered', 'Other'], dtype=object)"
      ]
     },
     "execution_count": 30,
     "metadata": {},
     "output_type": "execute_result"
    }
   ],
   "source": [
    "data['Manner_of_death'].unique()"
   ]
  },
  {
   "cell_type": "code",
   "execution_count": 31,
   "id": "d5f11366",
   "metadata": {
    "execution": {
     "iopub.execute_input": "2021-08-04T17:01:54.873540Z",
     "iopub.status.busy": "2021-08-04T17:01:54.872452Z",
     "iopub.status.idle": "2021-08-04T17:01:55.062734Z",
     "shell.execute_reply": "2021-08-04T17:01:55.062031Z",
     "shell.execute_reply.started": "2021-08-04T15:04:20.633124Z"
    },
    "papermill": {
     "duration": 0.335129,
     "end_time": "2021-08-04T17:01:55.062878",
     "exception": false,
     "start_time": "2021-08-04T17:01:54.727749",
     "status": "completed"
    },
    "tags": []
   },
   "outputs": [
    {
     "data": {
      "text/plain": [
       "<AxesSubplot:xlabel='Manner_of_death', ylabel='Count'>"
      ]
     },
     "execution_count": 31,
     "metadata": {},
     "output_type": "execute_result"
    },
    {
     "data": {
      "image/png": "[encoded data removed]",
      "text/plain": [
       "<Figure size 432x288 with 1 Axes>"
      ]
     },
     "metadata": {
      "needs_background": "light"
     },
     "output_type": "display_data"
    }
   ],
   "source": [
    "sns.histplot(data['Manner_of_death'])"
   ]
  },
  {
   "cell_type": "code",
   "execution_count": 32,
   "id": "7ca3da86",
   "metadata": {
    "execution": {
     "iopub.execute_input": "2021-08-04T17:01:55.362388Z",
     "iopub.status.busy": "2021-08-04T17:01:55.361640Z",
     "iopub.status.idle": "2021-08-04T17:01:55.366824Z",
     "shell.execute_reply": "2021-08-04T17:01:55.365972Z",
     "shell.execute_reply.started": "2021-08-04T15:04:20.846501Z"
    },
    "papermill": {
     "duration": 0.157876,
     "end_time": "2021-08-04T17:01:55.366973",
     "exception": false,
     "start_time": "2021-08-04T17:01:55.209097",
     "status": "completed"
    },
    "tags": []
   },
   "outputs": [
    {
     "data": {
      "text/plain": [
       "array(['UnKnown', 'Gun', 'Knife', 'Unarmed', 'Vehicle', 'Unknown Weapon',\n",
       "       'Toy Weapon', 'Machete', 'Hammer', 'Toy weapon', 'Flagpole',\n",
       "       'Sword', 'Chain', 'Guns And Explosives', 'Gun And Knife',\n",
       "       'Baseball Bat', 'Pole', 'Axe', 'Piece Of Wood', 'Motorcycle',\n",
       "       'Metal Hand Tool', 'Box Cutter', 'Tasered', 'Nail Gun',\n",
       "       'Sharp Object', 'Meat Cleaver', \"Contractor'S Level\", 'Metal Pipe',\n",
       "       'Stapler', 'Hand Torch', 'Scissors', 'Pick-Axe', 'Shovel', 'Spear',\n",
       "       'Metal Pole', 'Bayonet', 'Brick', 'Metal Object', 'Metal Stick',\n",
       "       'Bean-Bag Gun', 'Pipe', 'Blunt Object', 'Hatchet',\n",
       "       'Cordless Drill', 'Carjack', 'Crossbow',\n",
       "       'Baseball Bat And Fireplace Poker', 'Chain Saw', 'Garden Tool',\n",
       "       'Pitchfork', 'Hatchet And Gun', 'Rock', 'Glass Shard',\n",
       "       'Screwdriver', 'Lawn Mower Blade', 'Straight Edge Razor',\n",
       "       'Flashlight', 'Beer Bottle', 'Baton', 'Metal Rake'], dtype=object)"
      ]
     },
     "execution_count": 32,
     "metadata": {},
     "output_type": "execute_result"
    }
   ],
   "source": [
    "data['Armed'].unique()"
   ]
  },
  {
   "cell_type": "code",
   "execution_count": 33,
   "id": "54970ca0",
   "metadata": {
    "execution": {
     "iopub.execute_input": "2021-08-04T17:01:55.665010Z",
     "iopub.status.busy": "2021-08-04T17:01:55.664125Z",
     "iopub.status.idle": "2021-08-04T17:01:55.669020Z",
     "shell.execute_reply": "2021-08-04T17:01:55.668349Z",
     "shell.execute_reply.started": "2021-08-04T15:04:20.858669Z"
    },
    "papermill": {
     "duration": 0.156054,
     "end_time": "2021-08-04T17:01:55.669183",
     "exception": false,
     "start_time": "2021-08-04T17:01:55.513129",
     "status": "completed"
    },
    "tags": []
   },
   "outputs": [
    {
     "data": {
      "text/plain": [
       "'2000'"
      ]
     },
     "execution_count": 33,
     "metadata": {},
     "output_type": "execute_result"
    }
   ],
   "source": [
    "'5/4/2000'.split('/')[2]"
   ]
  },
  {
   "cell_type": "code",
   "execution_count": 34,
   "id": "74d918be",
   "metadata": {
    "execution": {
     "iopub.execute_input": "2021-08-04T17:01:55.962078Z",
     "iopub.status.busy": "2021-08-04T17:01:55.961032Z",
     "iopub.status.idle": "2021-08-04T17:01:55.963998Z",
     "shell.execute_reply": "2021-08-04T17:01:55.964486Z",
     "shell.execute_reply.started": "2021-08-04T15:04:20.873885Z"
    },
    "papermill": {
     "duration": 0.150795,
     "end_time": "2021-08-04T17:01:55.964665",
     "exception": false,
     "start_time": "2021-08-04T17:01:55.813870",
     "status": "completed"
    },
    "tags": []
   },
   "outputs": [],
   "source": [
    "def year(x):\n",
    "    return x.split('/')[2]"
   ]
  },
  {
   "cell_type": "code",
   "execution_count": 35,
   "id": "cbfad286",
   "metadata": {
    "execution": {
     "iopub.execute_input": "2021-08-04T17:01:56.271935Z",
     "iopub.status.busy": "2021-08-04T17:01:56.271260Z",
     "iopub.status.idle": "2021-08-04T17:01:56.274289Z",
     "shell.execute_reply": "2021-08-04T17:01:56.274796Z",
     "shell.execute_reply.started": "2021-08-04T15:04:20.888397Z"
    },
    "papermill": {
     "duration": 0.164719,
     "end_time": "2021-08-04T17:01:56.274967",
     "exception": false,
     "start_time": "2021-08-04T17:01:56.110248",
     "status": "completed"
    },
    "tags": []
   },
   "outputs": [],
   "source": [
    "data['Year']=data['Date'].apply(year)"
   ]
  },
  {
   "cell_type": "code",
   "execution_count": 36,
   "id": "dc11b975",
   "metadata": {
    "execution": {
     "iopub.execute_input": "2021-08-04T17:01:56.576621Z",
     "iopub.status.busy": "2021-08-04T17:01:56.575912Z",
     "iopub.status.idle": "2021-08-04T17:01:56.580917Z",
     "shell.execute_reply": "2021-08-04T17:01:56.580349Z",
     "shell.execute_reply.started": "2021-08-04T15:04:20.911485Z"
    },
    "papermill": {
     "duration": 0.156903,
     "end_time": "2021-08-04T17:01:56.581082",
     "exception": false,
     "start_time": "2021-08-04T17:01:56.424179",
     "status": "completed"
    },
    "tags": []
   },
   "outputs": [
    {
     "data": {
      "text/plain": [
       "0    2000\n",
       "1    2000\n",
       "2    2000\n",
       "3    2001\n",
       "4    2001\n",
       "Name: Year, dtype: object"
      ]
     },
     "execution_count": 36,
     "metadata": {},
     "output_type": "execute_result"
    }
   ],
   "source": [
    "data['Year'].head()"
   ]
  },
  {
   "cell_type": "code",
   "execution_count": 37,
   "id": "6a049fcf",
   "metadata": {
    "execution": {
     "iopub.execute_input": "2021-08-04T17:01:56.884299Z",
     "iopub.status.busy": "2021-08-04T17:01:56.883596Z",
     "iopub.status.idle": "2021-08-04T17:01:56.887304Z",
     "shell.execute_reply": "2021-08-04T17:01:56.886751Z",
     "shell.execute_reply.started": "2021-08-04T15:04:20.923267Z"
    },
    "papermill": {
     "duration": 0.154653,
     "end_time": "2021-08-04T17:01:56.887442",
     "exception": false,
     "start_time": "2021-08-04T17:01:56.732789",
     "status": "completed"
    },
    "tags": []
   },
   "outputs": [
    {
     "data": {
      "text/plain": [
       "array(['2000', '2001', '2002', '2003', '2004', '2005', '2006', '2007',\n",
       "       '2008', '2009', '2010', '2011', '2012', '2013', '2014', '2015',\n",
       "       '2016'], dtype=object)"
      ]
     },
     "execution_count": 37,
     "metadata": {},
     "output_type": "execute_result"
    }
   ],
   "source": [
    "data['Year'].unique()"
   ]
  },
  {
   "cell_type": "code",
   "execution_count": 38,
   "id": "4b392c9a",
   "metadata": {
    "execution": {
     "iopub.execute_input": "2021-08-04T17:01:57.200661Z",
     "iopub.status.busy": "2021-08-04T17:01:57.199670Z",
     "iopub.status.idle": "2021-08-04T17:01:57.204366Z",
     "shell.execute_reply": "2021-08-04T17:01:57.203700Z",
     "shell.execute_reply.started": "2021-08-04T15:04:20.941304Z"
    },
    "papermill": {
     "duration": 0.170649,
     "end_time": "2021-08-04T17:01:57.204505",
     "exception": false,
     "start_time": "2021-08-04T17:01:57.033856",
     "status": "completed"
    },
    "tags": []
   },
   "outputs": [
    {
     "data": {
      "text/html": [
       "<div>\n",
       "<style scoped>\n",
       "    .dataframe tbody tr th:only-of-type {\n",
       "        vertical-align: middle;\n",
       "    }\n",
       "\n",
       "    .dataframe tbody tr th {\n",
       "        vertical-align: top;\n",
       "    }\n",
       "\n",
       "    .dataframe thead th {\n",
       "        text-align: right;\n",
       "    }\n",
       "</style>\n",
       "<table border=\"1\" class=\"dataframe\">\n",
       "  <thead>\n",
       "    <tr style=\"text-align: right;\">\n",
       "      <th></th>\n",
       "      <th>UID</th>\n",
       "      <th>Name</th>\n",
       "      <th>Age</th>\n",
       "      <th>Gender</th>\n",
       "      <th>Race</th>\n",
       "      <th>Date</th>\n",
       "      <th>City</th>\n",
       "      <th>State</th>\n",
       "      <th>Manner_of_death</th>\n",
       "      <th>Armed</th>\n",
       "      <th>Mental_illness</th>\n",
       "      <th>Flee</th>\n",
       "      <th>Region</th>\n",
       "      <th>Year</th>\n",
       "    </tr>\n",
       "  </thead>\n",
       "  <tbody>\n",
       "    <tr>\n",
       "      <th>0</th>\n",
       "      <td>133</td>\n",
       "      <td>Karen O. Chin</td>\n",
       "      <td>44.0</td>\n",
       "      <td>Female</td>\n",
       "      <td>Asian</td>\n",
       "      <td>5/4/2000</td>\n",
       "      <td>Alameda</td>\n",
       "      <td>California</td>\n",
       "      <td>Shot</td>\n",
       "      <td>UnKnown</td>\n",
       "      <td>False</td>\n",
       "      <td>False</td>\n",
       "      <td>west</td>\n",
       "      <td>2000</td>\n",
       "    </tr>\n",
       "    <tr>\n",
       "      <th>1</th>\n",
       "      <td>169</td>\n",
       "      <td>Chyraphone Komvongsa</td>\n",
       "      <td>26.0</td>\n",
       "      <td>Male</td>\n",
       "      <td>Asian</td>\n",
       "      <td>6/2/2000</td>\n",
       "      <td>Fresno</td>\n",
       "      <td>California</td>\n",
       "      <td>Shot</td>\n",
       "      <td>UnKnown</td>\n",
       "      <td>False</td>\n",
       "      <td>False</td>\n",
       "      <td>west</td>\n",
       "      <td>2000</td>\n",
       "    </tr>\n",
       "    <tr>\n",
       "      <th>2</th>\n",
       "      <td>257</td>\n",
       "      <td>Ming Chinh Ly</td>\n",
       "      <td>36.0</td>\n",
       "      <td>Male</td>\n",
       "      <td>Asian</td>\n",
       "      <td>8/13/2000</td>\n",
       "      <td>Rosemead</td>\n",
       "      <td>California</td>\n",
       "      <td>Shot</td>\n",
       "      <td>Gun</td>\n",
       "      <td>False</td>\n",
       "      <td>False</td>\n",
       "      <td>west</td>\n",
       "      <td>2000</td>\n",
       "    </tr>\n",
       "    <tr>\n",
       "      <th>3</th>\n",
       "      <td>483</td>\n",
       "      <td>Kinh Quoc Dao</td>\n",
       "      <td>29.0</td>\n",
       "      <td>Male</td>\n",
       "      <td>Asian</td>\n",
       "      <td>2/9/2001</td>\n",
       "      <td>Valley Glen</td>\n",
       "      <td>California</td>\n",
       "      <td>Shot</td>\n",
       "      <td>Gun</td>\n",
       "      <td>False</td>\n",
       "      <td>False</td>\n",
       "      <td>west</td>\n",
       "      <td>2001</td>\n",
       "    </tr>\n",
       "    <tr>\n",
       "      <th>4</th>\n",
       "      <td>655</td>\n",
       "      <td>Vanpaseuth Phaisouphanh</td>\n",
       "      <td>25.0</td>\n",
       "      <td>Male</td>\n",
       "      <td>Asian</td>\n",
       "      <td>6/10/2001</td>\n",
       "      <td>Riverside</td>\n",
       "      <td>California</td>\n",
       "      <td>Shot</td>\n",
       "      <td>Knife</td>\n",
       "      <td>False</td>\n",
       "      <td>False</td>\n",
       "      <td>west</td>\n",
       "      <td>2001</td>\n",
       "    </tr>\n",
       "  </tbody>\n",
       "</table>\n",
       "</div>"
      ],
      "text/plain": [
       "   UID                     Name   Age  Gender   Race       Date         City  \\\n",
       "0  133            Karen O. Chin  44.0  Female  Asian   5/4/2000      Alameda   \n",
       "1  169     Chyraphone Komvongsa  26.0    Male  Asian   6/2/2000       Fresno   \n",
       "2  257            Ming Chinh Ly  36.0    Male  Asian  8/13/2000     Rosemead   \n",
       "3  483            Kinh Quoc Dao  29.0    Male  Asian   2/9/2001  Valley Glen   \n",
       "4  655  Vanpaseuth Phaisouphanh  25.0    Male  Asian  6/10/2001    Riverside   \n",
       "\n",
       "        State Manner_of_death    Armed  Mental_illness   Flee Region  Year  \n",
       "0  California            Shot  UnKnown           False  False   west  2000  \n",
       "1  California            Shot  UnKnown           False  False   west  2000  \n",
       "2  California            Shot      Gun           False  False   west  2000  \n",
       "3  California            Shot      Gun           False  False   west  2001  \n",
       "4  California            Shot    Knife           False  False   west  2001  "
      ]
     },
     "execution_count": 38,
     "metadata": {},
     "output_type": "execute_result"
    }
   ],
   "source": [
    "data.head()"
   ]
  },
  {
   "cell_type": "code",
   "execution_count": 39,
   "id": "7fe9eb36",
   "metadata": {
    "execution": {
     "iopub.execute_input": "2021-08-04T17:01:57.529654Z",
     "iopub.status.busy": "2021-08-04T17:01:57.528902Z",
     "iopub.status.idle": "2021-08-04T17:01:57.531464Z",
     "shell.execute_reply": "2021-08-04T17:01:57.530850Z",
     "shell.execute_reply.started": "2021-08-04T15:04:20.974465Z"
    },
    "papermill": {
     "duration": 0.155301,
     "end_time": "2021-08-04T17:01:57.531615",
     "exception": false,
     "start_time": "2021-08-04T17:01:57.376314",
     "status": "completed"
    },
    "tags": []
   },
   "outputs": [],
   "source": [
    "def month(x):\n",
    "    return x.split('/')[0]"
   ]
  },
  {
   "cell_type": "code",
   "execution_count": 40,
   "id": "2ac88302",
   "metadata": {
    "execution": {
     "iopub.execute_input": "2021-08-04T17:01:57.837136Z",
     "iopub.status.busy": "2021-08-04T17:01:57.836374Z",
     "iopub.status.idle": "2021-08-04T17:01:57.838799Z",
     "shell.execute_reply": "2021-08-04T17:01:57.839355Z",
     "shell.execute_reply.started": "2021-08-04T15:04:20.985358Z"
    },
    "papermill": {
     "duration": 0.16261,
     "end_time": "2021-08-04T17:01:57.839598",
     "exception": false,
     "start_time": "2021-08-04T17:01:57.676988",
     "status": "completed"
    },
    "tags": []
   },
   "outputs": [],
   "source": [
    "data['Month']=data['Date'].apply(month)"
   ]
  },
  {
   "cell_type": "code",
   "execution_count": 41,
   "id": "2e4fd766",
   "metadata": {
    "execution": {
     "iopub.execute_input": "2021-08-04T17:01:58.136663Z",
     "iopub.status.busy": "2021-08-04T17:01:58.135985Z",
     "iopub.status.idle": "2021-08-04T17:01:58.142714Z",
     "shell.execute_reply": "2021-08-04T17:01:58.143334Z",
     "shell.execute_reply.started": "2021-08-04T15:04:21.009858Z"
    },
    "papermill": {
     "duration": 0.156642,
     "end_time": "2021-08-04T17:01:58.143510",
     "exception": false,
     "start_time": "2021-08-04T17:01:57.986868",
     "status": "completed"
    },
    "tags": []
   },
   "outputs": [
    {
     "data": {
      "text/plain": [
       "array(['5', '6', '8', '2', '7', '9', '10', '11', '12', '1', '4', '3'],\n",
       "      dtype=object)"
      ]
     },
     "execution_count": 41,
     "metadata": {},
     "output_type": "execute_result"
    }
   ],
   "source": [
    "data['Month'].unique()"
   ]
  },
  {
   "cell_type": "code",
   "execution_count": 42,
   "id": "d187ba50",
   "metadata": {
    "execution": {
     "iopub.execute_input": "2021-08-04T17:01:58.444389Z",
     "iopub.status.busy": "2021-08-04T17:01:58.443340Z",
     "iopub.status.idle": "2021-08-04T17:01:58.465126Z",
     "shell.execute_reply": "2021-08-04T17:01:58.464464Z",
     "shell.execute_reply.started": "2021-08-04T15:04:21.025493Z"
    },
    "papermill": {
     "duration": 0.176237,
     "end_time": "2021-08-04T17:01:58.465274",
     "exception": false,
     "start_time": "2021-08-04T17:01:58.289037",
     "status": "completed"
    },
    "tags": []
   },
   "outputs": [
    {
     "data": {
      "text/html": [
       "<div>\n",
       "<style scoped>\n",
       "    .dataframe tbody tr th:only-of-type {\n",
       "        vertical-align: middle;\n",
       "    }\n",
       "\n",
       "    .dataframe tbody tr th {\n",
       "        vertical-align: top;\n",
       "    }\n",
       "\n",
       "    .dataframe thead th {\n",
       "        text-align: right;\n",
       "    }\n",
       "</style>\n",
       "<table border=\"1\" class=\"dataframe\">\n",
       "  <thead>\n",
       "    <tr style=\"text-align: right;\">\n",
       "      <th></th>\n",
       "      <th>UID</th>\n",
       "      <th>Name</th>\n",
       "      <th>Age</th>\n",
       "      <th>Gender</th>\n",
       "      <th>Race</th>\n",
       "      <th>Date</th>\n",
       "      <th>City</th>\n",
       "      <th>State</th>\n",
       "      <th>Manner_of_death</th>\n",
       "      <th>Armed</th>\n",
       "      <th>Mental_illness</th>\n",
       "      <th>Flee</th>\n",
       "      <th>Region</th>\n",
       "      <th>Year</th>\n",
       "      <th>Month</th>\n",
       "    </tr>\n",
       "  </thead>\n",
       "  <tbody>\n",
       "    <tr>\n",
       "      <th>0</th>\n",
       "      <td>133</td>\n",
       "      <td>Karen O. Chin</td>\n",
       "      <td>44.0</td>\n",
       "      <td>Female</td>\n",
       "      <td>Asian</td>\n",
       "      <td>5/4/2000</td>\n",
       "      <td>Alameda</td>\n",
       "      <td>California</td>\n",
       "      <td>Shot</td>\n",
       "      <td>UnKnown</td>\n",
       "      <td>False</td>\n",
       "      <td>False</td>\n",
       "      <td>west</td>\n",
       "      <td>2000</td>\n",
       "      <td>5</td>\n",
       "    </tr>\n",
       "    <tr>\n",
       "      <th>1</th>\n",
       "      <td>169</td>\n",
       "      <td>Chyraphone Komvongsa</td>\n",
       "      <td>26.0</td>\n",
       "      <td>Male</td>\n",
       "      <td>Asian</td>\n",
       "      <td>6/2/2000</td>\n",
       "      <td>Fresno</td>\n",
       "      <td>California</td>\n",
       "      <td>Shot</td>\n",
       "      <td>UnKnown</td>\n",
       "      <td>False</td>\n",
       "      <td>False</td>\n",
       "      <td>west</td>\n",
       "      <td>2000</td>\n",
       "      <td>6</td>\n",
       "    </tr>\n",
       "    <tr>\n",
       "      <th>2</th>\n",
       "      <td>257</td>\n",
       "      <td>Ming Chinh Ly</td>\n",
       "      <td>36.0</td>\n",
       "      <td>Male</td>\n",
       "      <td>Asian</td>\n",
       "      <td>8/13/2000</td>\n",
       "      <td>Rosemead</td>\n",
       "      <td>California</td>\n",
       "      <td>Shot</td>\n",
       "      <td>Gun</td>\n",
       "      <td>False</td>\n",
       "      <td>False</td>\n",
       "      <td>west</td>\n",
       "      <td>2000</td>\n",
       "      <td>8</td>\n",
       "    </tr>\n",
       "    <tr>\n",
       "      <th>3</th>\n",
       "      <td>483</td>\n",
       "      <td>Kinh Quoc Dao</td>\n",
       "      <td>29.0</td>\n",
       "      <td>Male</td>\n",
       "      <td>Asian</td>\n",
       "      <td>2/9/2001</td>\n",
       "      <td>Valley Glen</td>\n",
       "      <td>California</td>\n",
       "      <td>Shot</td>\n",
       "      <td>Gun</td>\n",
       "      <td>False</td>\n",
       "      <td>False</td>\n",
       "      <td>west</td>\n",
       "      <td>2001</td>\n",
       "      <td>2</td>\n",
       "    </tr>\n",
       "    <tr>\n",
       "      <th>4</th>\n",
       "      <td>655</td>\n",
       "      <td>Vanpaseuth Phaisouphanh</td>\n",
       "      <td>25.0</td>\n",
       "      <td>Male</td>\n",
       "      <td>Asian</td>\n",
       "      <td>6/10/2001</td>\n",
       "      <td>Riverside</td>\n",
       "      <td>California</td>\n",
       "      <td>Shot</td>\n",
       "      <td>Knife</td>\n",
       "      <td>False</td>\n",
       "      <td>False</td>\n",
       "      <td>west</td>\n",
       "      <td>2001</td>\n",
       "      <td>6</td>\n",
       "    </tr>\n",
       "  </tbody>\n",
       "</table>\n",
       "</div>"
      ],
      "text/plain": [
       "   UID                     Name   Age  Gender   Race       Date         City  \\\n",
       "0  133            Karen O. Chin  44.0  Female  Asian   5/4/2000      Alameda   \n",
       "1  169     Chyraphone Komvongsa  26.0    Male  Asian   6/2/2000       Fresno   \n",
       "2  257            Ming Chinh Ly  36.0    Male  Asian  8/13/2000     Rosemead   \n",
       "3  483            Kinh Quoc Dao  29.0    Male  Asian   2/9/2001  Valley Glen   \n",
       "4  655  Vanpaseuth Phaisouphanh  25.0    Male  Asian  6/10/2001    Riverside   \n",
       "\n",
       "        State Manner_of_death    Armed  Mental_illness   Flee Region  Year  \\\n",
       "0  California            Shot  UnKnown           False  False   west  2000   \n",
       "1  California            Shot  UnKnown           False  False   west  2000   \n",
       "2  California            Shot      Gun           False  False   west  2000   \n",
       "3  California            Shot      Gun           False  False   west  2001   \n",
       "4  California            Shot    Knife           False  False   west  2001   \n",
       "\n",
       "  Month  \n",
       "0     5  \n",
       "1     6  \n",
       "2     8  \n",
       "3     2  \n",
       "4     6  "
      ]
     },
     "execution_count": 42,
     "metadata": {},
     "output_type": "execute_result"
    }
   ],
   "source": [
    "data.head()"
   ]
  },
  {
   "cell_type": "code",
   "execution_count": 43,
   "id": "62c284a9",
   "metadata": {
    "execution": {
     "iopub.execute_input": "2021-08-04T17:01:58.777805Z",
     "iopub.status.busy": "2021-08-04T17:01:58.777130Z",
     "iopub.status.idle": "2021-08-04T17:01:58.781638Z",
     "shell.execute_reply": "2021-08-04T17:01:58.782170Z",
     "shell.execute_reply.started": "2021-08-04T15:04:21.056048Z"
    },
    "papermill": {
     "duration": 0.162933,
     "end_time": "2021-08-04T17:01:58.782347",
     "exception": false,
     "start_time": "2021-08-04T17:01:58.619414",
     "status": "completed"
    },
    "tags": []
   },
   "outputs": [],
   "source": [
    "def quarter(x):\n",
    "    if x <= 3:\n",
    "        return(1)\n",
    "    elif x <=6:\n",
    "        return(2)\n",
    "    elif x <= 9:\n",
    "        return(3)\n",
    "    else:\n",
    "        return(4)   "
   ]
  },
  {
   "cell_type": "code",
   "execution_count": 44,
   "id": "a5ec47e9",
   "metadata": {
    "execution": {
     "iopub.execute_input": "2021-08-04T17:01:59.097597Z",
     "iopub.status.busy": "2021-08-04T17:01:59.096402Z",
     "iopub.status.idle": "2021-08-04T17:01:59.101897Z",
     "shell.execute_reply": "2021-08-04T17:01:59.102456Z",
     "shell.execute_reply.started": "2021-08-04T15:04:21.062866Z"
    },
    "papermill": {
     "duration": 0.167408,
     "end_time": "2021-08-04T17:01:59.102637",
     "exception": false,
     "start_time": "2021-08-04T17:01:58.935229",
     "status": "completed"
    },
    "tags": []
   },
   "outputs": [
    {
     "data": {
      "text/plain": [
       "4"
      ]
     },
     "execution_count": 44,
     "metadata": {},
     "output_type": "execute_result"
    }
   ],
   "source": [
    "quarter(15)"
   ]
  },
  {
   "cell_type": "code",
   "execution_count": 45,
   "id": "90d0200c",
   "metadata": {
    "execution": {
     "iopub.execute_input": "2021-08-04T17:01:59.408335Z",
     "iopub.status.busy": "2021-08-04T17:01:59.403821Z",
     "iopub.status.idle": "2021-08-04T17:01:59.412120Z",
     "shell.execute_reply": "2021-08-04T17:01:59.411392Z",
     "shell.execute_reply.started": "2021-08-04T15:04:21.080098Z"
    },
    "papermill": {
     "duration": 0.163334,
     "end_time": "2021-08-04T17:01:59.412376",
     "exception": false,
     "start_time": "2021-08-04T17:01:59.249042",
     "status": "completed"
    },
    "tags": []
   },
   "outputs": [],
   "source": [
    "data['Month']=data['Month'].astype(int)"
   ]
  },
  {
   "cell_type": "code",
   "execution_count": 46,
   "id": "58a00eda",
   "metadata": {
    "execution": {
     "iopub.execute_input": "2021-08-04T17:01:59.727628Z",
     "iopub.status.busy": "2021-08-04T17:01:59.726681Z",
     "iopub.status.idle": "2021-08-04T17:01:59.730167Z",
     "shell.execute_reply": "2021-08-04T17:01:59.730630Z",
     "shell.execute_reply.started": "2021-08-04T15:04:21.095873Z"
    },
    "papermill": {
     "duration": 0.167463,
     "end_time": "2021-08-04T17:01:59.730812",
     "exception": false,
     "start_time": "2021-08-04T17:01:59.563349",
     "status": "completed"
    },
    "tags": []
   },
   "outputs": [],
   "source": [
    "data['Quarter']=data['Month'].apply(quarter)"
   ]
  },
  {
   "cell_type": "code",
   "execution_count": 47,
   "id": "22b2fa83",
   "metadata": {
    "execution": {
     "iopub.execute_input": "2021-08-04T17:02:00.038783Z",
     "iopub.status.busy": "2021-08-04T17:02:00.037748Z",
     "iopub.status.idle": "2021-08-04T17:02:00.059956Z",
     "shell.execute_reply": "2021-08-04T17:02:00.059429Z",
     "shell.execute_reply.started": "2021-08-04T15:04:21.118430Z"
    },
    "papermill": {
     "duration": 0.174622,
     "end_time": "2021-08-04T17:02:00.060235",
     "exception": false,
     "start_time": "2021-08-04T17:01:59.885613",
     "status": "completed"
    },
    "tags": []
   },
   "outputs": [
    {
     "data": {
      "text/html": [
       "<div>\n",
       "<style scoped>\n",
       "    .dataframe tbody tr th:only-of-type {\n",
       "        vertical-align: middle;\n",
       "    }\n",
       "\n",
       "    .dataframe tbody tr th {\n",
       "        vertical-align: top;\n",
       "    }\n",
       "\n",
       "    .dataframe thead th {\n",
       "        text-align: right;\n",
       "    }\n",
       "</style>\n",
       "<table border=\"1\" class=\"dataframe\">\n",
       "  <thead>\n",
       "    <tr style=\"text-align: right;\">\n",
       "      <th></th>\n",
       "      <th>UID</th>\n",
       "      <th>Name</th>\n",
       "      <th>Age</th>\n",
       "      <th>Gender</th>\n",
       "      <th>Race</th>\n",
       "      <th>Date</th>\n",
       "      <th>City</th>\n",
       "      <th>State</th>\n",
       "      <th>Manner_of_death</th>\n",
       "      <th>Armed</th>\n",
       "      <th>Mental_illness</th>\n",
       "      <th>Flee</th>\n",
       "      <th>Region</th>\n",
       "      <th>Year</th>\n",
       "      <th>Month</th>\n",
       "      <th>Quarter</th>\n",
       "    </tr>\n",
       "  </thead>\n",
       "  <tbody>\n",
       "    <tr>\n",
       "      <th>0</th>\n",
       "      <td>133</td>\n",
       "      <td>Karen O. Chin</td>\n",
       "      <td>44.0</td>\n",
       "      <td>Female</td>\n",
       "      <td>Asian</td>\n",
       "      <td>5/4/2000</td>\n",
       "      <td>Alameda</td>\n",
       "      <td>California</td>\n",
       "      <td>Shot</td>\n",
       "      <td>UnKnown</td>\n",
       "      <td>False</td>\n",
       "      <td>False</td>\n",
       "      <td>west</td>\n",
       "      <td>2000</td>\n",
       "      <td>5</td>\n",
       "      <td>2</td>\n",
       "    </tr>\n",
       "    <tr>\n",
       "      <th>1</th>\n",
       "      <td>169</td>\n",
       "      <td>Chyraphone Komvongsa</td>\n",
       "      <td>26.0</td>\n",
       "      <td>Male</td>\n",
       "      <td>Asian</td>\n",
       "      <td>6/2/2000</td>\n",
       "      <td>Fresno</td>\n",
       "      <td>California</td>\n",
       "      <td>Shot</td>\n",
       "      <td>UnKnown</td>\n",
       "      <td>False</td>\n",
       "      <td>False</td>\n",
       "      <td>west</td>\n",
       "      <td>2000</td>\n",
       "      <td>6</td>\n",
       "      <td>2</td>\n",
       "    </tr>\n",
       "    <tr>\n",
       "      <th>2</th>\n",
       "      <td>257</td>\n",
       "      <td>Ming Chinh Ly</td>\n",
       "      <td>36.0</td>\n",
       "      <td>Male</td>\n",
       "      <td>Asian</td>\n",
       "      <td>8/13/2000</td>\n",
       "      <td>Rosemead</td>\n",
       "      <td>California</td>\n",
       "      <td>Shot</td>\n",
       "      <td>Gun</td>\n",
       "      <td>False</td>\n",
       "      <td>False</td>\n",
       "      <td>west</td>\n",
       "      <td>2000</td>\n",
       "      <td>8</td>\n",
       "      <td>3</td>\n",
       "    </tr>\n",
       "    <tr>\n",
       "      <th>3</th>\n",
       "      <td>483</td>\n",
       "      <td>Kinh Quoc Dao</td>\n",
       "      <td>29.0</td>\n",
       "      <td>Male</td>\n",
       "      <td>Asian</td>\n",
       "      <td>2/9/2001</td>\n",
       "      <td>Valley Glen</td>\n",
       "      <td>California</td>\n",
       "      <td>Shot</td>\n",
       "      <td>Gun</td>\n",
       "      <td>False</td>\n",
       "      <td>False</td>\n",
       "      <td>west</td>\n",
       "      <td>2001</td>\n",
       "      <td>2</td>\n",
       "      <td>1</td>\n",
       "    </tr>\n",
       "    <tr>\n",
       "      <th>4</th>\n",
       "      <td>655</td>\n",
       "      <td>Vanpaseuth Phaisouphanh</td>\n",
       "      <td>25.0</td>\n",
       "      <td>Male</td>\n",
       "      <td>Asian</td>\n",
       "      <td>6/10/2001</td>\n",
       "      <td>Riverside</td>\n",
       "      <td>California</td>\n",
       "      <td>Shot</td>\n",
       "      <td>Knife</td>\n",
       "      <td>False</td>\n",
       "      <td>False</td>\n",
       "      <td>west</td>\n",
       "      <td>2001</td>\n",
       "      <td>6</td>\n",
       "      <td>2</td>\n",
       "    </tr>\n",
       "  </tbody>\n",
       "</table>\n",
       "</div>"
      ],
      "text/plain": [
       "   UID                     Name   Age  Gender   Race       Date         City  \\\n",
       "0  133            Karen O. Chin  44.0  Female  Asian   5/4/2000      Alameda   \n",
       "1  169     Chyraphone Komvongsa  26.0    Male  Asian   6/2/2000       Fresno   \n",
       "2  257            Ming Chinh Ly  36.0    Male  Asian  8/13/2000     Rosemead   \n",
       "3  483            Kinh Quoc Dao  29.0    Male  Asian   2/9/2001  Valley Glen   \n",
       "4  655  Vanpaseuth Phaisouphanh  25.0    Male  Asian  6/10/2001    Riverside   \n",
       "\n",
       "        State Manner_of_death    Armed  Mental_illness   Flee Region  Year  \\\n",
       "0  California            Shot  UnKnown           False  False   west  2000   \n",
       "1  California            Shot  UnKnown           False  False   west  2000   \n",
       "2  California            Shot      Gun           False  False   west  2000   \n",
       "3  California            Shot      Gun           False  False   west  2001   \n",
       "4  California            Shot    Knife           False  False   west  2001   \n",
       "\n",
       "   Month  Quarter  \n",
       "0      5        2  \n",
       "1      6        2  \n",
       "2      8        3  \n",
       "3      2        1  \n",
       "4      6        2  "
      ]
     },
     "execution_count": 47,
     "metadata": {},
     "output_type": "execute_result"
    }
   ],
   "source": [
    "data.head()"
   ]
  },
  {
   "cell_type": "code",
   "execution_count": 48,
   "id": "54cf4b81",
   "metadata": {
    "execution": {
     "iopub.execute_input": "2021-08-04T17:02:00.365931Z",
     "iopub.status.busy": "2021-08-04T17:02:00.364983Z",
     "iopub.status.idle": "2021-08-04T17:02:00.367373Z",
     "shell.execute_reply": "2021-08-04T17:02:00.367838Z",
     "shell.execute_reply.started": "2021-08-04T15:04:21.149112Z"
    },
    "papermill": {
     "duration": 0.154553,
     "end_time": "2021-08-04T17:02:00.368024",
     "exception": false,
     "start_time": "2021-08-04T17:02:00.213471",
     "status": "completed"
    },
    "tags": []
   },
   "outputs": [],
   "source": [
    "def day(x):\n",
    "    return x.split('/')[1]"
   ]
  },
  {
   "cell_type": "code",
   "execution_count": 49,
   "id": "c4221335",
   "metadata": {
    "execution": {
     "iopub.execute_input": "2021-08-04T17:02:00.668781Z",
     "iopub.status.busy": "2021-08-04T17:02:00.668082Z",
     "iopub.status.idle": "2021-08-04T17:02:00.680228Z",
     "shell.execute_reply": "2021-08-04T17:02:00.680780Z",
     "shell.execute_reply.started": "2021-08-04T15:04:21.155984Z"
    },
    "papermill": {
     "duration": 0.163799,
     "end_time": "2021-08-04T17:02:00.680959",
     "exception": false,
     "start_time": "2021-08-04T17:02:00.517160",
     "status": "completed"
    },
    "tags": []
   },
   "outputs": [],
   "source": [
    "data['Day']=data['Date'].apply(day)"
   ]
  },
  {
   "cell_type": "code",
   "execution_count": 50,
   "id": "f5ccbd91",
   "metadata": {
    "execution": {
     "iopub.execute_input": "2021-08-04T17:02:00.983443Z",
     "iopub.status.busy": "2021-08-04T17:02:00.982776Z",
     "iopub.status.idle": "2021-08-04T17:02:00.990291Z",
     "shell.execute_reply": "2021-08-04T17:02:00.990817Z",
     "shell.execute_reply.started": "2021-08-04T15:04:21.176845Z"
    },
    "papermill": {
     "duration": 0.159506,
     "end_time": "2021-08-04T17:02:00.990997",
     "exception": false,
     "start_time": "2021-08-04T17:02:00.831491",
     "status": "completed"
    },
    "tags": []
   },
   "outputs": [],
   "source": [
    "data['Day']=data['Day'].astype(int)"
   ]
  },
  {
   "cell_type": "code",
   "execution_count": 51,
   "id": "bea973ff",
   "metadata": {
    "execution": {
     "iopub.execute_input": "2021-08-04T17:02:01.291148Z",
     "iopub.status.busy": "2021-08-04T17:02:01.290377Z",
     "iopub.status.idle": "2021-08-04T17:02:01.311718Z",
     "shell.execute_reply": "2021-08-04T17:02:01.312226Z",
     "shell.execute_reply.started": "2021-08-04T15:04:21.187035Z"
    },
    "papermill": {
     "duration": 0.17165,
     "end_time": "2021-08-04T17:02:01.312413",
     "exception": false,
     "start_time": "2021-08-04T17:02:01.140763",
     "status": "completed"
    },
    "tags": []
   },
   "outputs": [
    {
     "data": {
      "text/html": [
       "<div>\n",
       "<style scoped>\n",
       "    .dataframe tbody tr th:only-of-type {\n",
       "        vertical-align: middle;\n",
       "    }\n",
       "\n",
       "    .dataframe tbody tr th {\n",
       "        vertical-align: top;\n",
       "    }\n",
       "\n",
       "    .dataframe thead th {\n",
       "        text-align: right;\n",
       "    }\n",
       "</style>\n",
       "<table border=\"1\" class=\"dataframe\">\n",
       "  <thead>\n",
       "    <tr style=\"text-align: right;\">\n",
       "      <th></th>\n",
       "      <th>UID</th>\n",
       "      <th>Name</th>\n",
       "      <th>Age</th>\n",
       "      <th>Gender</th>\n",
       "      <th>Race</th>\n",
       "      <th>Date</th>\n",
       "      <th>City</th>\n",
       "      <th>State</th>\n",
       "      <th>Manner_of_death</th>\n",
       "      <th>Armed</th>\n",
       "      <th>Mental_illness</th>\n",
       "      <th>Flee</th>\n",
       "      <th>Region</th>\n",
       "      <th>Year</th>\n",
       "      <th>Month</th>\n",
       "      <th>Quarter</th>\n",
       "      <th>Day</th>\n",
       "    </tr>\n",
       "  </thead>\n",
       "  <tbody>\n",
       "    <tr>\n",
       "      <th>0</th>\n",
       "      <td>133</td>\n",
       "      <td>Karen O. Chin</td>\n",
       "      <td>44.0</td>\n",
       "      <td>Female</td>\n",
       "      <td>Asian</td>\n",
       "      <td>5/4/2000</td>\n",
       "      <td>Alameda</td>\n",
       "      <td>California</td>\n",
       "      <td>Shot</td>\n",
       "      <td>UnKnown</td>\n",
       "      <td>False</td>\n",
       "      <td>False</td>\n",
       "      <td>west</td>\n",
       "      <td>2000</td>\n",
       "      <td>5</td>\n",
       "      <td>2</td>\n",
       "      <td>4</td>\n",
       "    </tr>\n",
       "    <tr>\n",
       "      <th>1</th>\n",
       "      <td>169</td>\n",
       "      <td>Chyraphone Komvongsa</td>\n",
       "      <td>26.0</td>\n",
       "      <td>Male</td>\n",
       "      <td>Asian</td>\n",
       "      <td>6/2/2000</td>\n",
       "      <td>Fresno</td>\n",
       "      <td>California</td>\n",
       "      <td>Shot</td>\n",
       "      <td>UnKnown</td>\n",
       "      <td>False</td>\n",
       "      <td>False</td>\n",
       "      <td>west</td>\n",
       "      <td>2000</td>\n",
       "      <td>6</td>\n",
       "      <td>2</td>\n",
       "      <td>2</td>\n",
       "    </tr>\n",
       "    <tr>\n",
       "      <th>2</th>\n",
       "      <td>257</td>\n",
       "      <td>Ming Chinh Ly</td>\n",
       "      <td>36.0</td>\n",
       "      <td>Male</td>\n",
       "      <td>Asian</td>\n",
       "      <td>8/13/2000</td>\n",
       "      <td>Rosemead</td>\n",
       "      <td>California</td>\n",
       "      <td>Shot</td>\n",
       "      <td>Gun</td>\n",
       "      <td>False</td>\n",
       "      <td>False</td>\n",
       "      <td>west</td>\n",
       "      <td>2000</td>\n",
       "      <td>8</td>\n",
       "      <td>3</td>\n",
       "      <td>13</td>\n",
       "    </tr>\n",
       "    <tr>\n",
       "      <th>3</th>\n",
       "      <td>483</td>\n",
       "      <td>Kinh Quoc Dao</td>\n",
       "      <td>29.0</td>\n",
       "      <td>Male</td>\n",
       "      <td>Asian</td>\n",
       "      <td>2/9/2001</td>\n",
       "      <td>Valley Glen</td>\n",
       "      <td>California</td>\n",
       "      <td>Shot</td>\n",
       "      <td>Gun</td>\n",
       "      <td>False</td>\n",
       "      <td>False</td>\n",
       "      <td>west</td>\n",
       "      <td>2001</td>\n",
       "      <td>2</td>\n",
       "      <td>1</td>\n",
       "      <td>9</td>\n",
       "    </tr>\n",
       "    <tr>\n",
       "      <th>4</th>\n",
       "      <td>655</td>\n",
       "      <td>Vanpaseuth Phaisouphanh</td>\n",
       "      <td>25.0</td>\n",
       "      <td>Male</td>\n",
       "      <td>Asian</td>\n",
       "      <td>6/10/2001</td>\n",
       "      <td>Riverside</td>\n",
       "      <td>California</td>\n",
       "      <td>Shot</td>\n",
       "      <td>Knife</td>\n",
       "      <td>False</td>\n",
       "      <td>False</td>\n",
       "      <td>west</td>\n",
       "      <td>2001</td>\n",
       "      <td>6</td>\n",
       "      <td>2</td>\n",
       "      <td>10</td>\n",
       "    </tr>\n",
       "  </tbody>\n",
       "</table>\n",
       "</div>"
      ],
      "text/plain": [
       "   UID                     Name   Age  Gender   Race       Date         City  \\\n",
       "0  133            Karen O. Chin  44.0  Female  Asian   5/4/2000      Alameda   \n",
       "1  169     Chyraphone Komvongsa  26.0    Male  Asian   6/2/2000       Fresno   \n",
       "2  257            Ming Chinh Ly  36.0    Male  Asian  8/13/2000     Rosemead   \n",
       "3  483            Kinh Quoc Dao  29.0    Male  Asian   2/9/2001  Valley Glen   \n",
       "4  655  Vanpaseuth Phaisouphanh  25.0    Male  Asian  6/10/2001    Riverside   \n",
       "\n",
       "        State Manner_of_death    Armed  Mental_illness   Flee Region  Year  \\\n",
       "0  California            Shot  UnKnown           False  False   west  2000   \n",
       "1  California            Shot  UnKnown           False  False   west  2000   \n",
       "2  California            Shot      Gun           False  False   west  2000   \n",
       "3  California            Shot      Gun           False  False   west  2001   \n",
       "4  California            Shot    Knife           False  False   west  2001   \n",
       "\n",
       "   Month  Quarter  Day  \n",
       "0      5        2    4  \n",
       "1      6        2    2  \n",
       "2      8        3   13  \n",
       "3      2        1    9  \n",
       "4      6        2   10  "
      ]
     },
     "execution_count": 51,
     "metadata": {},
     "output_type": "execute_result"
    }
   ],
   "source": [
    "data.head()"
   ]
  },
  {
   "cell_type": "code",
   "execution_count": 52,
   "id": "4359cc4a",
   "metadata": {
    "execution": {
     "iopub.execute_input": "2021-08-04T17:02:01.614709Z",
     "iopub.status.busy": "2021-08-04T17:02:01.614033Z",
     "iopub.status.idle": "2021-08-04T17:02:01.620868Z",
     "shell.execute_reply": "2021-08-04T17:02:01.621414Z",
     "shell.execute_reply.started": "2021-08-04T15:04:21.218604Z"
    },
    "papermill": {
     "duration": 0.159855,
     "end_time": "2021-08-04T17:02:01.621600",
     "exception": false,
     "start_time": "2021-08-04T17:02:01.461745",
     "status": "completed"
    },
    "tags": []
   },
   "outputs": [],
   "source": [
    "data['Week']=(((((data['Month']-1)*30)+data['Day'])/7)+1).astype(int)"
   ]
  },
  {
   "cell_type": "code",
   "execution_count": 53,
   "id": "9e4e1e46",
   "metadata": {
    "execution": {
     "iopub.execute_input": "2021-08-04T17:02:01.919680Z",
     "iopub.status.busy": "2021-08-04T17:02:01.919068Z",
     "iopub.status.idle": "2021-08-04T17:02:01.940769Z",
     "shell.execute_reply": "2021-08-04T17:02:01.940247Z",
     "shell.execute_reply.started": "2021-08-04T15:04:21.234969Z"
    },
    "papermill": {
     "duration": 0.170766,
     "end_time": "2021-08-04T17:02:01.940911",
     "exception": false,
     "start_time": "2021-08-04T17:02:01.770145",
     "status": "completed"
    },
    "tags": []
   },
   "outputs": [
    {
     "data": {
      "text/html": [
       "<div>\n",
       "<style scoped>\n",
       "    .dataframe tbody tr th:only-of-type {\n",
       "        vertical-align: middle;\n",
       "    }\n",
       "\n",
       "    .dataframe tbody tr th {\n",
       "        vertical-align: top;\n",
       "    }\n",
       "\n",
       "    .dataframe thead th {\n",
       "        text-align: right;\n",
       "    }\n",
       "</style>\n",
       "<table border=\"1\" class=\"dataframe\">\n",
       "  <thead>\n",
       "    <tr style=\"text-align: right;\">\n",
       "      <th></th>\n",
       "      <th>UID</th>\n",
       "      <th>Name</th>\n",
       "      <th>Age</th>\n",
       "      <th>Gender</th>\n",
       "      <th>Race</th>\n",
       "      <th>Date</th>\n",
       "      <th>City</th>\n",
       "      <th>State</th>\n",
       "      <th>Manner_of_death</th>\n",
       "      <th>Armed</th>\n",
       "      <th>Mental_illness</th>\n",
       "      <th>Flee</th>\n",
       "      <th>Region</th>\n",
       "      <th>Year</th>\n",
       "      <th>Month</th>\n",
       "      <th>Quarter</th>\n",
       "      <th>Day</th>\n",
       "      <th>Week</th>\n",
       "    </tr>\n",
       "  </thead>\n",
       "  <tbody>\n",
       "    <tr>\n",
       "      <th>0</th>\n",
       "      <td>133</td>\n",
       "      <td>Karen O. Chin</td>\n",
       "      <td>44.0</td>\n",
       "      <td>Female</td>\n",
       "      <td>Asian</td>\n",
       "      <td>5/4/2000</td>\n",
       "      <td>Alameda</td>\n",
       "      <td>California</td>\n",
       "      <td>Shot</td>\n",
       "      <td>UnKnown</td>\n",
       "      <td>False</td>\n",
       "      <td>False</td>\n",
       "      <td>west</td>\n",
       "      <td>2000</td>\n",
       "      <td>5</td>\n",
       "      <td>2</td>\n",
       "      <td>4</td>\n",
       "      <td>18</td>\n",
       "    </tr>\n",
       "    <tr>\n",
       "      <th>1</th>\n",
       "      <td>169</td>\n",
       "      <td>Chyraphone Komvongsa</td>\n",
       "      <td>26.0</td>\n",
       "      <td>Male</td>\n",
       "      <td>Asian</td>\n",
       "      <td>6/2/2000</td>\n",
       "      <td>Fresno</td>\n",
       "      <td>California</td>\n",
       "      <td>Shot</td>\n",
       "      <td>UnKnown</td>\n",
       "      <td>False</td>\n",
       "      <td>False</td>\n",
       "      <td>west</td>\n",
       "      <td>2000</td>\n",
       "      <td>6</td>\n",
       "      <td>2</td>\n",
       "      <td>2</td>\n",
       "      <td>22</td>\n",
       "    </tr>\n",
       "    <tr>\n",
       "      <th>2</th>\n",
       "      <td>257</td>\n",
       "      <td>Ming Chinh Ly</td>\n",
       "      <td>36.0</td>\n",
       "      <td>Male</td>\n",
       "      <td>Asian</td>\n",
       "      <td>8/13/2000</td>\n",
       "      <td>Rosemead</td>\n",
       "      <td>California</td>\n",
       "      <td>Shot</td>\n",
       "      <td>Gun</td>\n",
       "      <td>False</td>\n",
       "      <td>False</td>\n",
       "      <td>west</td>\n",
       "      <td>2000</td>\n",
       "      <td>8</td>\n",
       "      <td>3</td>\n",
       "      <td>13</td>\n",
       "      <td>32</td>\n",
       "    </tr>\n",
       "    <tr>\n",
       "      <th>3</th>\n",
       "      <td>483</td>\n",
       "      <td>Kinh Quoc Dao</td>\n",
       "      <td>29.0</td>\n",
       "      <td>Male</td>\n",
       "      <td>Asian</td>\n",
       "      <td>2/9/2001</td>\n",
       "      <td>Valley Glen</td>\n",
       "      <td>California</td>\n",
       "      <td>Shot</td>\n",
       "      <td>Gun</td>\n",
       "      <td>False</td>\n",
       "      <td>False</td>\n",
       "      <td>west</td>\n",
       "      <td>2001</td>\n",
       "      <td>2</td>\n",
       "      <td>1</td>\n",
       "      <td>9</td>\n",
       "      <td>6</td>\n",
       "    </tr>\n",
       "    <tr>\n",
       "      <th>4</th>\n",
       "      <td>655</td>\n",
       "      <td>Vanpaseuth Phaisouphanh</td>\n",
       "      <td>25.0</td>\n",
       "      <td>Male</td>\n",
       "      <td>Asian</td>\n",
       "      <td>6/10/2001</td>\n",
       "      <td>Riverside</td>\n",
       "      <td>California</td>\n",
       "      <td>Shot</td>\n",
       "      <td>Knife</td>\n",
       "      <td>False</td>\n",
       "      <td>False</td>\n",
       "      <td>west</td>\n",
       "      <td>2001</td>\n",
       "      <td>6</td>\n",
       "      <td>2</td>\n",
       "      <td>10</td>\n",
       "      <td>23</td>\n",
       "    </tr>\n",
       "  </tbody>\n",
       "</table>\n",
       "</div>"
      ],
      "text/plain": [
       "   UID                     Name   Age  Gender   Race       Date         City  \\\n",
       "0  133            Karen O. Chin  44.0  Female  Asian   5/4/2000      Alameda   \n",
       "1  169     Chyraphone Komvongsa  26.0    Male  Asian   6/2/2000       Fresno   \n",
       "2  257            Ming Chinh Ly  36.0    Male  Asian  8/13/2000     Rosemead   \n",
       "3  483            Kinh Quoc Dao  29.0    Male  Asian   2/9/2001  Valley Glen   \n",
       "4  655  Vanpaseuth Phaisouphanh  25.0    Male  Asian  6/10/2001    Riverside   \n",
       "\n",
       "        State Manner_of_death    Armed  Mental_illness   Flee Region  Year  \\\n",
       "0  California            Shot  UnKnown           False  False   west  2000   \n",
       "1  California            Shot  UnKnown           False  False   west  2000   \n",
       "2  California            Shot      Gun           False  False   west  2000   \n",
       "3  California            Shot      Gun           False  False   west  2001   \n",
       "4  California            Shot    Knife           False  False   west  2001   \n",
       "\n",
       "   Month  Quarter  Day  Week  \n",
       "0      5        2    4    18  \n",
       "1      6        2    2    22  \n",
       "2      8        3   13    32  \n",
       "3      2        1    9     6  \n",
       "4      6        2   10    23  "
      ]
     },
     "execution_count": 53,
     "metadata": {},
     "output_type": "execute_result"
    }
   ],
   "source": [
    "data.head()"
   ]
  },
  {
   "cell_type": "code",
   "execution_count": 54,
   "id": "eea5f9be",
   "metadata": {
    "execution": {
     "iopub.execute_input": "2021-08-04T17:02:02.247839Z",
     "iopub.status.busy": "2021-08-04T17:02:02.246938Z",
     "iopub.status.idle": "2021-08-04T17:02:02.251107Z",
     "shell.execute_reply": "2021-08-04T17:02:02.250569Z",
     "shell.execute_reply.started": "2021-08-04T15:04:21.263426Z"
    },
    "papermill": {
     "duration": 0.161659,
     "end_time": "2021-08-04T17:02:02.251245",
     "exception": false,
     "start_time": "2021-08-04T17:02:02.089586",
     "status": "completed"
    },
    "tags": []
   },
   "outputs": [
    {
     "data": {
      "text/plain": [
       "array([18, 22, 32,  6, 23, 25, 26, 27,  8, 19, 21, 36, 39, 40, 44, 46, 50,\n",
       "        1, 16, 28, 35, 41, 42,  4, 29, 20, 45, 52, 11, 15, 24,  3, 10, 17,\n",
       "       37, 48,  2, 30,  9, 12, 13, 31, 38, 51,  5, 34, 49, 47, 43, 14,  7,\n",
       "       33])"
      ]
     },
     "execution_count": 54,
     "metadata": {},
     "output_type": "execute_result"
    }
   ],
   "source": [
    "data['Week'].unique()"
   ]
  },
  {
   "cell_type": "code",
   "execution_count": 55,
   "id": "7ef9ba8a",
   "metadata": {
    "execution": {
     "iopub.execute_input": "2021-08-04T17:02:02.570475Z",
     "iopub.status.busy": "2021-08-04T17:02:02.569433Z",
     "iopub.status.idle": "2021-08-04T17:02:02.572941Z",
     "shell.execute_reply": "2021-08-04T17:02:02.572388Z",
     "shell.execute_reply.started": "2021-08-04T15:04:21.278932Z"
    },
    "papermill": {
     "duration": 0.169581,
     "end_time": "2021-08-04T17:02:02.573102",
     "exception": false,
     "start_time": "2021-08-04T17:02:02.403521",
     "status": "completed"
    },
    "tags": []
   },
   "outputs": [],
   "source": [
    "data['Week']=data['Week'].apply(str)"
   ]
  },
  {
   "cell_type": "code",
   "execution_count": 56,
   "id": "84044567",
   "metadata": {
    "execution": {
     "iopub.execute_input": "2021-08-04T17:02:02.882351Z",
     "iopub.status.busy": "2021-08-04T17:02:02.881426Z",
     "iopub.status.idle": "2021-08-04T17:02:02.885982Z",
     "shell.execute_reply": "2021-08-04T17:02:02.885376Z",
     "shell.execute_reply.started": "2021-08-04T15:04:21.294339Z"
    },
    "papermill": {
     "duration": 0.159958,
     "end_time": "2021-08-04T17:02:02.886144",
     "exception": false,
     "start_time": "2021-08-04T17:02:02.726186",
     "status": "completed"
    },
    "tags": []
   },
   "outputs": [
    {
     "data": {
      "text/plain": [
       "107.0"
      ]
     },
     "execution_count": 56,
     "metadata": {},
     "output_type": "execute_result"
    }
   ],
   "source": [
    "data['Age'].max()"
   ]
  },
  {
   "cell_type": "code",
   "execution_count": 57,
   "id": "362331e3",
   "metadata": {
    "execution": {
     "iopub.execute_input": "2021-08-04T17:02:03.198617Z",
     "iopub.status.busy": "2021-08-04T17:02:03.197727Z",
     "iopub.status.idle": "2021-08-04T17:02:03.202106Z",
     "shell.execute_reply": "2021-08-04T17:02:03.201426Z",
     "shell.execute_reply.started": "2021-08-04T15:04:21.310150Z"
    },
    "papermill": {
     "duration": 0.165605,
     "end_time": "2021-08-04T17:02:03.202251",
     "exception": false,
     "start_time": "2021-08-04T17:02:03.036646",
     "status": "completed"
    },
    "tags": []
   },
   "outputs": [
    {
     "data": {
      "text/plain": [
       "1.0"
      ]
     },
     "execution_count": 57,
     "metadata": {},
     "output_type": "execute_result"
    }
   ],
   "source": [
    "data['Age'].min()"
   ]
  },
  {
   "cell_type": "code",
   "execution_count": 58,
   "id": "2aabdf1f",
   "metadata": {
    "execution": {
     "iopub.execute_input": "2021-08-04T17:02:03.512239Z",
     "iopub.status.busy": "2021-08-04T17:02:03.509385Z",
     "iopub.status.idle": "2021-08-04T17:02:03.518229Z",
     "shell.execute_reply": "2021-08-04T17:02:03.517654Z",
     "shell.execute_reply.started": "2021-08-04T15:04:21.322030Z"
    },
    "papermill": {
     "duration": 0.166064,
     "end_time": "2021-08-04T17:02:03.518369",
     "exception": false,
     "start_time": "2021-08-04T17:02:03.352305",
     "status": "completed"
    },
    "tags": []
   },
   "outputs": [
    {
     "data": {
      "text/plain": [
       "array([ 44.        ,  26.        ,  36.        ,  29.        ,\n",
       "        25.        ,  55.        ,  33.        ,  21.        ,\n",
       "        27.        ,  52.        ,  23.        ,  37.        ,\n",
       "        46.        ,  38.        ,  28.        ,  48.        ,\n",
       "        39.        ,  41.        ,  62.        ,  19.        ,\n",
       "        43.        ,  57.        ,  32.        ,  49.        ,\n",
       "        61.        ,  34.        ,  22.        ,  53.        ,\n",
       "        47.        ,  31.        ,  51.        ,  50.        ,\n",
       "        63.        ,  72.        ,  42.        ,  40.        ,\n",
       "        20.        ,  35.        ,  45.        ,  35.26953826,\n",
       "        60.        ,  59.        ,  30.        ,  18.        ,\n",
       "        76.        ,  15.        ,  17.        ,  68.        ,\n",
       "        54.        ,  16.        ,  88.        ,  56.        ,\n",
       "        14.        ,  24.        ,  12.        ,  64.        ,\n",
       "        78.        ,  58.        ,  74.        ,  92.        ,\n",
       "        66.        ,  71.        ,  73.        ,  84.        ,\n",
       "        69.        ,   7.        ,  13.        ,  77.        ,\n",
       "         1.        ,  70.        , 107.        ,  86.        ,\n",
       "        93.        ,  67.        ,  65.        ,  87.        ,\n",
       "        11.        ,  80.        ,  95.        ,  79.        ,\n",
       "         8.        ,  10.        ,   5.        ,  81.        ,\n",
       "        75.        ,  83.        ,  89.        ,   6.        ,\n",
       "         4.        ,  90.        ,  82.        ,  85.        ,\n",
       "         3.        ])"
      ]
     },
     "execution_count": 58,
     "metadata": {},
     "output_type": "execute_result"
    }
   ],
   "source": [
    "data['Age'].unique()"
   ]
  },
  {
   "cell_type": "code",
   "execution_count": 59,
   "id": "9f39d7a5",
   "metadata": {
    "execution": {
     "iopub.execute_input": "2021-08-04T17:02:03.827425Z",
     "iopub.status.busy": "2021-08-04T17:02:03.826779Z",
     "iopub.status.idle": "2021-08-04T17:02:03.830088Z",
     "shell.execute_reply": "2021-08-04T17:02:03.830572Z",
     "shell.execute_reply.started": "2021-08-04T15:04:21.338875Z"
    },
    "papermill": {
     "duration": 0.160453,
     "end_time": "2021-08-04T17:02:03.830753",
     "exception": false,
     "start_time": "2021-08-04T17:02:03.670300",
     "status": "completed"
    },
    "tags": []
   },
   "outputs": [],
   "source": [
    "data['Age']=data['Age'].astype(int)"
   ]
  },
  {
   "cell_type": "code",
   "execution_count": 60,
   "id": "47cc14e3",
   "metadata": {
    "execution": {
     "iopub.execute_input": "2021-08-04T17:02:04.137180Z",
     "iopub.status.busy": "2021-08-04T17:02:04.136214Z",
     "iopub.status.idle": "2021-08-04T17:02:04.140464Z",
     "shell.execute_reply": "2021-08-04T17:02:04.140927Z",
     "shell.execute_reply.started": "2021-08-04T15:04:21.354665Z"
    },
    "papermill": {
     "duration": 0.161397,
     "end_time": "2021-08-04T17:02:04.141123",
     "exception": false,
     "start_time": "2021-08-04T17:02:03.979726",
     "status": "completed"
    },
    "tags": []
   },
   "outputs": [
    {
     "data": {
      "text/plain": [
       "array([ 44,  26,  36,  29,  25,  55,  33,  21,  27,  52,  23,  37,  46,\n",
       "        38,  28,  48,  39,  41,  62,  19,  43,  57,  32,  49,  61,  34,\n",
       "        22,  53,  47,  31,  51,  50,  63,  72,  42,  40,  20,  35,  45,\n",
       "        60,  59,  30,  18,  76,  15,  17,  68,  54,  16,  88,  56,  14,\n",
       "        24,  12,  64,  78,  58,  74,  92,  66,  71,  73,  84,  69,   7,\n",
       "        13,  77,   1,  70, 107,  86,  93,  67,  65,  87,  11,  80,  95,\n",
       "        79,   8,  10,   5,  81,  75,  83,  89,   6,   4,  90,  82,  85,\n",
       "         3])"
      ]
     },
     "execution_count": 60,
     "metadata": {},
     "output_type": "execute_result"
    }
   ],
   "source": [
    "data['Age'].unique()"
   ]
  },
  {
   "cell_type": "code",
   "execution_count": 61,
   "id": "e53f57df",
   "metadata": {
    "execution": {
     "iopub.execute_input": "2021-08-04T17:02:04.449672Z",
     "iopub.status.busy": "2021-08-04T17:02:04.448700Z",
     "iopub.status.idle": "2021-08-04T17:02:04.452344Z",
     "shell.execute_reply": "2021-08-04T17:02:04.451795Z",
     "shell.execute_reply.started": "2021-08-04T15:04:21.369676Z"
    },
    "papermill": {
     "duration": 0.159114,
     "end_time": "2021-08-04T17:02:04.452493",
     "exception": false,
     "start_time": "2021-08-04T17:02:04.293379",
     "status": "completed"
    },
    "tags": []
   },
   "outputs": [],
   "source": [
    "def  Stages_of_Life (x):\n",
    "    if x<=1:\n",
    "        return (\"Infant\")\n",
    "    elif x<=4:\n",
    "        return (\"Toddler\")\n",
    "    elif x<=12:\n",
    "        return (\"Child\")\n",
    "    elif x<=19:\n",
    "        return (\"Teen\")\n",
    "    elif x<=39:\n",
    "        return (\"Adult\")\n",
    "    elif x<=59:\n",
    "        return (\"Middle Age Adult\")\n",
    "    else:\n",
    "        return (\"Senior Adult\")"
   ]
  },
  {
   "cell_type": "code",
   "execution_count": 62,
   "id": "f7ece707",
   "metadata": {
    "execution": {
     "iopub.execute_input": "2021-08-04T17:02:04.771604Z",
     "iopub.status.busy": "2021-08-04T17:02:04.770595Z",
     "iopub.status.idle": "2021-08-04T17:02:04.774066Z",
     "shell.execute_reply": "2021-08-04T17:02:04.773339Z",
     "shell.execute_reply.started": "2021-08-04T15:04:21.382163Z"
    },
    "papermill": {
     "duration": 0.169696,
     "end_time": "2021-08-04T17:02:04.774212",
     "exception": false,
     "start_time": "2021-08-04T17:02:04.604516",
     "status": "completed"
    },
    "tags": []
   },
   "outputs": [],
   "source": [
    "data['Stages of Life']=data['Age'].apply(Stages_of_Life)"
   ]
  },
  {
   "cell_type": "code",
   "execution_count": 63,
   "id": "6f1a5547",
   "metadata": {
    "execution": {
     "iopub.execute_input": "2021-08-04T17:02:05.101794Z",
     "iopub.status.busy": "2021-08-04T17:02:05.100696Z",
     "iopub.status.idle": "2021-08-04T17:02:05.107629Z",
     "shell.execute_reply": "2021-08-04T17:02:05.106971Z",
     "shell.execute_reply.started": "2021-08-04T15:04:21.407291Z"
    },
    "papermill": {
     "duration": 0.171873,
     "end_time": "2021-08-04T17:02:05.107784",
     "exception": false,
     "start_time": "2021-08-04T17:02:04.935911",
     "status": "completed"
    },
    "tags": []
   },
   "outputs": [
    {
     "data": {
      "text/plain": [
       "array(['Middle Age Adult', 'Adult', 'Senior Adult', 'Teen', 'Child',\n",
       "       'Infant', 'Toddler'], dtype=object)"
      ]
     },
     "execution_count": 63,
     "metadata": {},
     "output_type": "execute_result"
    }
   ],
   "source": [
    "data['Stages of Life'].unique()"
   ]
  },
  {
   "cell_type": "code",
   "execution_count": 64,
   "id": "642c2d93",
   "metadata": {
    "execution": {
     "iopub.execute_input": "2021-08-04T17:02:05.443159Z",
     "iopub.status.busy": "2021-08-04T17:02:05.442160Z",
     "iopub.status.idle": "2021-08-04T17:02:05.447877Z",
     "shell.execute_reply": "2021-08-04T17:02:05.447259Z",
     "shell.execute_reply.started": "2021-08-04T15:04:21.423867Z"
    },
    "papermill": {
     "duration": 0.185243,
     "end_time": "2021-08-04T17:02:05.448027",
     "exception": false,
     "start_time": "2021-08-04T17:02:05.262784",
     "status": "completed"
    },
    "tags": []
   },
   "outputs": [
    {
     "data": {
      "text/html": [
       "<div>\n",
       "<style scoped>\n",
       "    .dataframe tbody tr th:only-of-type {\n",
       "        vertical-align: middle;\n",
       "    }\n",
       "\n",
       "    .dataframe tbody tr th {\n",
       "        vertical-align: top;\n",
       "    }\n",
       "\n",
       "    .dataframe thead th {\n",
       "        text-align: right;\n",
       "    }\n",
       "</style>\n",
       "<table border=\"1\" class=\"dataframe\">\n",
       "  <thead>\n",
       "    <tr style=\"text-align: right;\">\n",
       "      <th></th>\n",
       "      <th>UID</th>\n",
       "      <th>Name</th>\n",
       "      <th>Age</th>\n",
       "      <th>Gender</th>\n",
       "      <th>Race</th>\n",
       "      <th>Date</th>\n",
       "      <th>City</th>\n",
       "      <th>State</th>\n",
       "      <th>Manner_of_death</th>\n",
       "      <th>Armed</th>\n",
       "      <th>Mental_illness</th>\n",
       "      <th>Flee</th>\n",
       "      <th>Region</th>\n",
       "      <th>Year</th>\n",
       "      <th>Month</th>\n",
       "      <th>Quarter</th>\n",
       "      <th>Day</th>\n",
       "      <th>Week</th>\n",
       "      <th>Stages of Life</th>\n",
       "    </tr>\n",
       "  </thead>\n",
       "  <tbody>\n",
       "    <tr>\n",
       "      <th>0</th>\n",
       "      <td>133</td>\n",
       "      <td>Karen O. Chin</td>\n",
       "      <td>44</td>\n",
       "      <td>Female</td>\n",
       "      <td>Asian</td>\n",
       "      <td>5/4/2000</td>\n",
       "      <td>Alameda</td>\n",
       "      <td>California</td>\n",
       "      <td>Shot</td>\n",
       "      <td>UnKnown</td>\n",
       "      <td>False</td>\n",
       "      <td>False</td>\n",
       "      <td>west</td>\n",
       "      <td>2000</td>\n",
       "      <td>5</td>\n",
       "      <td>2</td>\n",
       "      <td>4</td>\n",
       "      <td>18</td>\n",
       "      <td>Middle Age Adult</td>\n",
       "    </tr>\n",
       "    <tr>\n",
       "      <th>1</th>\n",
       "      <td>169</td>\n",
       "      <td>Chyraphone Komvongsa</td>\n",
       "      <td>26</td>\n",
       "      <td>Male</td>\n",
       "      <td>Asian</td>\n",
       "      <td>6/2/2000</td>\n",
       "      <td>Fresno</td>\n",
       "      <td>California</td>\n",
       "      <td>Shot</td>\n",
       "      <td>UnKnown</td>\n",
       "      <td>False</td>\n",
       "      <td>False</td>\n",
       "      <td>west</td>\n",
       "      <td>2000</td>\n",
       "      <td>6</td>\n",
       "      <td>2</td>\n",
       "      <td>2</td>\n",
       "      <td>22</td>\n",
       "      <td>Adult</td>\n",
       "    </tr>\n",
       "    <tr>\n",
       "      <th>2</th>\n",
       "      <td>257</td>\n",
       "      <td>Ming Chinh Ly</td>\n",
       "      <td>36</td>\n",
       "      <td>Male</td>\n",
       "      <td>Asian</td>\n",
       "      <td>8/13/2000</td>\n",
       "      <td>Rosemead</td>\n",
       "      <td>California</td>\n",
       "      <td>Shot</td>\n",
       "      <td>Gun</td>\n",
       "      <td>False</td>\n",
       "      <td>False</td>\n",
       "      <td>west</td>\n",
       "      <td>2000</td>\n",
       "      <td>8</td>\n",
       "      <td>3</td>\n",
       "      <td>13</td>\n",
       "      <td>32</td>\n",
       "      <td>Adult</td>\n",
       "    </tr>\n",
       "    <tr>\n",
       "      <th>3</th>\n",
       "      <td>483</td>\n",
       "      <td>Kinh Quoc Dao</td>\n",
       "      <td>29</td>\n",
       "      <td>Male</td>\n",
       "      <td>Asian</td>\n",
       "      <td>2/9/2001</td>\n",
       "      <td>Valley Glen</td>\n",
       "      <td>California</td>\n",
       "      <td>Shot</td>\n",
       "      <td>Gun</td>\n",
       "      <td>False</td>\n",
       "      <td>False</td>\n",
       "      <td>west</td>\n",
       "      <td>2001</td>\n",
       "      <td>2</td>\n",
       "      <td>1</td>\n",
       "      <td>9</td>\n",
       "      <td>6</td>\n",
       "      <td>Adult</td>\n",
       "    </tr>\n",
       "    <tr>\n",
       "      <th>4</th>\n",
       "      <td>655</td>\n",
       "      <td>Vanpaseuth Phaisouphanh</td>\n",
       "      <td>25</td>\n",
       "      <td>Male</td>\n",
       "      <td>Asian</td>\n",
       "      <td>6/10/2001</td>\n",
       "      <td>Riverside</td>\n",
       "      <td>California</td>\n",
       "      <td>Shot</td>\n",
       "      <td>Knife</td>\n",
       "      <td>False</td>\n",
       "      <td>False</td>\n",
       "      <td>west</td>\n",
       "      <td>2001</td>\n",
       "      <td>6</td>\n",
       "      <td>2</td>\n",
       "      <td>10</td>\n",
       "      <td>23</td>\n",
       "      <td>Adult</td>\n",
       "    </tr>\n",
       "  </tbody>\n",
       "</table>\n",
       "</div>"
      ],
      "text/plain": [
       "   UID                     Name  Age  Gender   Race       Date         City  \\\n",
       "0  133            Karen O. Chin   44  Female  Asian   5/4/2000      Alameda   \n",
       "1  169     Chyraphone Komvongsa   26    Male  Asian   6/2/2000       Fresno   \n",
       "2  257            Ming Chinh Ly   36    Male  Asian  8/13/2000     Rosemead   \n",
       "3  483            Kinh Quoc Dao   29    Male  Asian   2/9/2001  Valley Glen   \n",
       "4  655  Vanpaseuth Phaisouphanh   25    Male  Asian  6/10/2001    Riverside   \n",
       "\n",
       "        State Manner_of_death    Armed  Mental_illness   Flee Region  Year  \\\n",
       "0  California            Shot  UnKnown           False  False   west  2000   \n",
       "1  California            Shot  UnKnown           False  False   west  2000   \n",
       "2  California            Shot      Gun           False  False   west  2000   \n",
       "3  California            Shot      Gun           False  False   west  2001   \n",
       "4  California            Shot    Knife           False  False   west  2001   \n",
       "\n",
       "   Month  Quarter  Day Week    Stages of Life  \n",
       "0      5        2    4   18  Middle Age Adult  \n",
       "1      6        2    2   22             Adult  \n",
       "2      8        3   13   32             Adult  \n",
       "3      2        1    9    6             Adult  \n",
       "4      6        2   10   23             Adult  "
      ]
     },
     "execution_count": 64,
     "metadata": {},
     "output_type": "execute_result"
    }
   ],
   "source": [
    "data.head()"
   ]
  },
  {
   "cell_type": "code",
   "execution_count": 65,
   "id": "d664e987",
   "metadata": {
    "execution": {
     "iopub.execute_input": "2021-08-04T17:02:05.807324Z",
     "iopub.status.busy": "2021-08-04T17:02:05.806261Z",
     "iopub.status.idle": "2021-08-04T17:02:05.832140Z",
     "shell.execute_reply": "2021-08-04T17:02:05.832594Z",
     "shell.execute_reply.started": "2021-08-04T15:04:21.459086Z"
    },
    "papermill": {
     "duration": 0.185835,
     "end_time": "2021-08-04T17:02:05.832769",
     "exception": false,
     "start_time": "2021-08-04T17:02:05.646934",
     "status": "completed"
    },
    "tags": []
   },
   "outputs": [
    {
     "data": {
      "text/html": [
       "<div>\n",
       "<style scoped>\n",
       "    .dataframe tbody tr th:only-of-type {\n",
       "        vertical-align: middle;\n",
       "    }\n",
       "\n",
       "    .dataframe tbody tr th {\n",
       "        vertical-align: top;\n",
       "    }\n",
       "\n",
       "    .dataframe thead th {\n",
       "        text-align: right;\n",
       "    }\n",
       "</style>\n",
       "<table border=\"1\" class=\"dataframe\">\n",
       "  <thead>\n",
       "    <tr style=\"text-align: right;\">\n",
       "      <th></th>\n",
       "      <th>UID</th>\n",
       "      <th>Name</th>\n",
       "      <th>Age</th>\n",
       "      <th>Gender</th>\n",
       "      <th>Race</th>\n",
       "      <th>Date</th>\n",
       "      <th>City</th>\n",
       "      <th>State</th>\n",
       "      <th>Manner_of_death</th>\n",
       "      <th>Armed</th>\n",
       "      <th>Mental_illness</th>\n",
       "      <th>Flee</th>\n",
       "      <th>Region</th>\n",
       "      <th>Year</th>\n",
       "      <th>Month</th>\n",
       "      <th>Quarter</th>\n",
       "      <th>Day</th>\n",
       "      <th>Week</th>\n",
       "      <th>Stages of Life</th>\n",
       "    </tr>\n",
       "  </thead>\n",
       "  <tbody>\n",
       "    <tr>\n",
       "      <th>1275</th>\n",
       "      <td>7747</td>\n",
       "      <td>Dylan Samuel-Peters</td>\n",
       "      <td>1</td>\n",
       "      <td>Male</td>\n",
       "      <td>Black</td>\n",
       "      <td>4/15/2013</td>\n",
       "      <td>Brooklyn</td>\n",
       "      <td>New York</td>\n",
       "      <td>Shot</td>\n",
       "      <td>UnKnown</td>\n",
       "      <td>True</td>\n",
       "      <td>False</td>\n",
       "      <td>northeast</td>\n",
       "      <td>2013</td>\n",
       "      <td>4</td>\n",
       "      <td>2</td>\n",
       "      <td>15</td>\n",
       "      <td>16</td>\n",
       "      <td>Infant</td>\n",
       "    </tr>\n",
       "    <tr>\n",
       "      <th>3008</th>\n",
       "      <td>2827</td>\n",
       "      <td>Suzie Pena</td>\n",
       "      <td>1</td>\n",
       "      <td>Female</td>\n",
       "      <td>Hispanic</td>\n",
       "      <td>7/10/2005</td>\n",
       "      <td>Los Angeles</td>\n",
       "      <td>California</td>\n",
       "      <td>Shot</td>\n",
       "      <td>Gun</td>\n",
       "      <td>True</td>\n",
       "      <td>False</td>\n",
       "      <td>west</td>\n",
       "      <td>2005</td>\n",
       "      <td>7</td>\n",
       "      <td>3</td>\n",
       "      <td>10</td>\n",
       "      <td>28</td>\n",
       "      <td>Infant</td>\n",
       "    </tr>\n",
       "    <tr>\n",
       "      <th>5453</th>\n",
       "      <td>5506</td>\n",
       "      <td>Logan Hancock</td>\n",
       "      <td>1</td>\n",
       "      <td>Male</td>\n",
       "      <td>White</td>\n",
       "      <td>7/20/2010</td>\n",
       "      <td>Wedowee</td>\n",
       "      <td>Alabama</td>\n",
       "      <td>Shot</td>\n",
       "      <td>UnKnown</td>\n",
       "      <td>False</td>\n",
       "      <td>False</td>\n",
       "      <td>south</td>\n",
       "      <td>2010</td>\n",
       "      <td>7</td>\n",
       "      <td>3</td>\n",
       "      <td>20</td>\n",
       "      <td>29</td>\n",
       "      <td>Infant</td>\n",
       "    </tr>\n",
       "    <tr>\n",
       "      <th>8977</th>\n",
       "      <td>1197</td>\n",
       "      <td>Thomas Monce-Grissom</td>\n",
       "      <td>1</td>\n",
       "      <td>Male</td>\n",
       "      <td>UnKnown</td>\n",
       "      <td>7/21/2002</td>\n",
       "      <td>Galveston</td>\n",
       "      <td>Texas</td>\n",
       "      <td>Shot</td>\n",
       "      <td>UnKnown</td>\n",
       "      <td>False</td>\n",
       "      <td>False</td>\n",
       "      <td>south</td>\n",
       "      <td>2002</td>\n",
       "      <td>7</td>\n",
       "      <td>3</td>\n",
       "      <td>21</td>\n",
       "      <td>29</td>\n",
       "      <td>Infant</td>\n",
       "    </tr>\n",
       "    <tr>\n",
       "      <th>9862</th>\n",
       "      <td>3731</td>\n",
       "      <td>Typhoon Dodge</td>\n",
       "      <td>1</td>\n",
       "      <td>Male</td>\n",
       "      <td>UnKnown</td>\n",
       "      <td>5/23/2007</td>\n",
       "      <td>Cut Off</td>\n",
       "      <td>Louisiana</td>\n",
       "      <td>Shot</td>\n",
       "      <td>UnKnown</td>\n",
       "      <td>False</td>\n",
       "      <td>False</td>\n",
       "      <td>south</td>\n",
       "      <td>2007</td>\n",
       "      <td>5</td>\n",
       "      <td>2</td>\n",
       "      <td>23</td>\n",
       "      <td>21</td>\n",
       "      <td>Infant</td>\n",
       "    </tr>\n",
       "  </tbody>\n",
       "</table>\n",
       "</div>"
      ],
      "text/plain": [
       "       UID                  Name  Age  Gender      Race       Date  \\\n",
       "1275  7747   Dylan Samuel-Peters    1    Male     Black  4/15/2013   \n",
       "3008  2827            Suzie Pena    1  Female  Hispanic  7/10/2005   \n",
       "5453  5506         Logan Hancock    1    Male     White  7/20/2010   \n",
       "8977  1197  Thomas Monce-Grissom    1    Male   UnKnown  7/21/2002   \n",
       "9862  3731         Typhoon Dodge    1    Male   UnKnown  5/23/2007   \n",
       "\n",
       "             City       State Manner_of_death    Armed  Mental_illness   Flee  \\\n",
       "1275     Brooklyn    New York            Shot  UnKnown            True  False   \n",
       "3008  Los Angeles  California            Shot      Gun            True  False   \n",
       "5453      Wedowee     Alabama            Shot  UnKnown           False  False   \n",
       "8977    Galveston       Texas            Shot  UnKnown           False  False   \n",
       "9862      Cut Off   Louisiana            Shot  UnKnown           False  False   \n",
       "\n",
       "         Region  Year  Month  Quarter  Day Week Stages of Life  \n",
       "1275  northeast  2013      4        2   15   16         Infant  \n",
       "3008       west  2005      7        3   10   28         Infant  \n",
       "5453      south  2010      7        3   20   29         Infant  \n",
       "8977      south  2002      7        3   21   29         Infant  \n",
       "9862      south  2007      5        2   23   21         Infant  "
      ]
     },
     "execution_count": 65,
     "metadata": {},
     "output_type": "execute_result"
    }
   ],
   "source": [
    "data[data['Stages of Life']=='Infant']"
   ]
  },
  {
   "cell_type": "code",
   "execution_count": 66,
   "id": "0ad15e67",
   "metadata": {
    "execution": {
     "iopub.execute_input": "2021-08-04T17:02:06.163307Z",
     "iopub.status.busy": "2021-08-04T17:02:06.162370Z",
     "iopub.status.idle": "2021-08-04T17:02:06.167171Z",
     "shell.execute_reply": "2021-08-04T17:02:06.166520Z",
     "shell.execute_reply.started": "2021-08-04T15:04:21.498045Z"
    },
    "papermill": {
     "duration": 0.180029,
     "end_time": "2021-08-04T17:02:06.167312",
     "exception": false,
     "start_time": "2021-08-04T17:02:05.987283",
     "status": "completed"
    },
    "tags": []
   },
   "outputs": [
    {
     "data": {
      "text/html": [
       "<div>\n",
       "<style scoped>\n",
       "    .dataframe tbody tr th:only-of-type {\n",
       "        vertical-align: middle;\n",
       "    }\n",
       "\n",
       "    .dataframe tbody tr th {\n",
       "        vertical-align: top;\n",
       "    }\n",
       "\n",
       "    .dataframe thead th {\n",
       "        text-align: right;\n",
       "    }\n",
       "</style>\n",
       "<table border=\"1\" class=\"dataframe\">\n",
       "  <thead>\n",
       "    <tr style=\"text-align: right;\">\n",
       "      <th></th>\n",
       "      <th>UID</th>\n",
       "      <th>Name</th>\n",
       "      <th>Age</th>\n",
       "      <th>Gender</th>\n",
       "      <th>Race</th>\n",
       "      <th>Date</th>\n",
       "      <th>City</th>\n",
       "      <th>State</th>\n",
       "      <th>Manner_of_death</th>\n",
       "      <th>Armed</th>\n",
       "      <th>Mental_illness</th>\n",
       "      <th>Flee</th>\n",
       "      <th>Region</th>\n",
       "      <th>Year</th>\n",
       "      <th>Month</th>\n",
       "      <th>Quarter</th>\n",
       "      <th>Day</th>\n",
       "      <th>Week</th>\n",
       "      <th>Stages of Life</th>\n",
       "    </tr>\n",
       "  </thead>\n",
       "  <tbody>\n",
       "    <tr>\n",
       "      <th>7269</th>\n",
       "      <td>11666</td>\n",
       "      <td>Knight Petrillo</td>\n",
       "      <td>4</td>\n",
       "      <td>Male</td>\n",
       "      <td>White</td>\n",
       "      <td>6/21/2001</td>\n",
       "      <td>Aurora</td>\n",
       "      <td>Colorado</td>\n",
       "      <td>Shot</td>\n",
       "      <td>Gun</td>\n",
       "      <td>False</td>\n",
       "      <td>False</td>\n",
       "      <td>west</td>\n",
       "      <td>2001</td>\n",
       "      <td>6</td>\n",
       "      <td>2</td>\n",
       "      <td>21</td>\n",
       "      <td>25</td>\n",
       "      <td>Toddler</td>\n",
       "    </tr>\n",
       "    <tr>\n",
       "      <th>9410</th>\n",
       "      <td>2412</td>\n",
       "      <td>Trent Tucker</td>\n",
       "      <td>3</td>\n",
       "      <td>Male</td>\n",
       "      <td>UnKnown</td>\n",
       "      <td>9/11/2004</td>\n",
       "      <td>Grant</td>\n",
       "      <td>Alabama</td>\n",
       "      <td>Shot</td>\n",
       "      <td>UnKnown</td>\n",
       "      <td>False</td>\n",
       "      <td>False</td>\n",
       "      <td>south</td>\n",
       "      <td>2004</td>\n",
       "      <td>9</td>\n",
       "      <td>3</td>\n",
       "      <td>11</td>\n",
       "      <td>36</td>\n",
       "      <td>Toddler</td>\n",
       "    </tr>\n",
       "  </tbody>\n",
       "</table>\n",
       "</div>"
      ],
      "text/plain": [
       "        UID             Name  Age Gender     Race       Date    City  \\\n",
       "7269  11666  Knight Petrillo    4   Male    White  6/21/2001  Aurora   \n",
       "9410   2412     Trent Tucker    3   Male  UnKnown  9/11/2004   Grant   \n",
       "\n",
       "         State Manner_of_death    Armed  Mental_illness   Flee Region  Year  \\\n",
       "7269  Colorado            Shot      Gun           False  False   west  2001   \n",
       "9410   Alabama            Shot  UnKnown           False  False  south  2004   \n",
       "\n",
       "      Month  Quarter  Day Week Stages of Life  \n",
       "7269      6        2   21   25        Toddler  \n",
       "9410      9        3   11   36        Toddler  "
      ]
     },
     "execution_count": 66,
     "metadata": {},
     "output_type": "execute_result"
    }
   ],
   "source": [
    "data[data['Stages of Life']=='Toddler']"
   ]
  },
  {
   "cell_type": "code",
   "execution_count": 67,
   "id": "c5344377",
   "metadata": {
    "execution": {
     "iopub.execute_input": "2021-08-04T17:02:06.507982Z",
     "iopub.status.busy": "2021-08-04T17:02:06.507006Z",
     "iopub.status.idle": "2021-08-04T17:02:06.512375Z",
     "shell.execute_reply": "2021-08-04T17:02:06.512819Z",
     "shell.execute_reply.started": "2021-08-04T15:04:21.525092Z"
    },
    "papermill": {
     "duration": 0.194231,
     "end_time": "2021-08-04T17:02:06.512991",
     "exception": false,
     "start_time": "2021-08-04T17:02:06.318760",
     "status": "completed"
    },
    "tags": []
   },
   "outputs": [
    {
     "data": {
      "text/html": [
       "<div>\n",
       "<style scoped>\n",
       "    .dataframe tbody tr th:only-of-type {\n",
       "        vertical-align: middle;\n",
       "    }\n",
       "\n",
       "    .dataframe tbody tr th {\n",
       "        vertical-align: top;\n",
       "    }\n",
       "\n",
       "    .dataframe thead th {\n",
       "        text-align: right;\n",
       "    }\n",
       "</style>\n",
       "<table border=\"1\" class=\"dataframe\">\n",
       "  <thead>\n",
       "    <tr style=\"text-align: right;\">\n",
       "      <th></th>\n",
       "      <th>UID</th>\n",
       "      <th>Name</th>\n",
       "      <th>Age</th>\n",
       "      <th>Gender</th>\n",
       "      <th>Race</th>\n",
       "      <th>Date</th>\n",
       "      <th>City</th>\n",
       "      <th>State</th>\n",
       "      <th>Manner_of_death</th>\n",
       "      <th>Armed</th>\n",
       "      <th>Mental_illness</th>\n",
       "      <th>Flee</th>\n",
       "      <th>Region</th>\n",
       "      <th>Year</th>\n",
       "      <th>Month</th>\n",
       "      <th>Quarter</th>\n",
       "      <th>Day</th>\n",
       "      <th>Week</th>\n",
       "      <th>Stages of Life</th>\n",
       "    </tr>\n",
       "  </thead>\n",
       "  <tbody>\n",
       "    <tr>\n",
       "      <th>344</th>\n",
       "      <td>1411</td>\n",
       "      <td>Michael Ellerbe</td>\n",
       "      <td>12</td>\n",
       "      <td>Male</td>\n",
       "      <td>Black</td>\n",
       "      <td>12/24/2002</td>\n",
       "      <td>Uniontown</td>\n",
       "      <td>Pennsylvania</td>\n",
       "      <td>Shot</td>\n",
       "      <td>Unarmed</td>\n",
       "      <td>False</td>\n",
       "      <td>False</td>\n",
       "      <td>northeast</td>\n",
       "      <td>2002</td>\n",
       "      <td>12</td>\n",
       "      <td>4</td>\n",
       "      <td>24</td>\n",
       "      <td>51</td>\n",
       "      <td>Child</td>\n",
       "    </tr>\n",
       "    <tr>\n",
       "      <th>616</th>\n",
       "      <td>3790</td>\n",
       "      <td>DeAunta Terrell Farrow</td>\n",
       "      <td>12</td>\n",
       "      <td>Male</td>\n",
       "      <td>Black</td>\n",
       "      <td>6/22/2007</td>\n",
       "      <td>West Memphis</td>\n",
       "      <td>Arkansas</td>\n",
       "      <td>Shot</td>\n",
       "      <td>Toy weapon</td>\n",
       "      <td>False</td>\n",
       "      <td>False</td>\n",
       "      <td>south</td>\n",
       "      <td>2007</td>\n",
       "      <td>6</td>\n",
       "      <td>2</td>\n",
       "      <td>22</td>\n",
       "      <td>25</td>\n",
       "      <td>Child</td>\n",
       "    </tr>\n",
       "    <tr>\n",
       "      <th>855</th>\n",
       "      <td>5387</td>\n",
       "      <td>Aiyana Mo'Nay Stanley Jones</td>\n",
       "      <td>7</td>\n",
       "      <td>Female</td>\n",
       "      <td>Black</td>\n",
       "      <td>5/16/2010</td>\n",
       "      <td>Detroit</td>\n",
       "      <td>Michigan</td>\n",
       "      <td>Shot</td>\n",
       "      <td>Gun</td>\n",
       "      <td>False</td>\n",
       "      <td>False</td>\n",
       "      <td>Midwest</td>\n",
       "      <td>2010</td>\n",
       "      <td>5</td>\n",
       "      <td>2</td>\n",
       "      <td>16</td>\n",
       "      <td>20</td>\n",
       "      <td>Child</td>\n",
       "    </tr>\n",
       "    <tr>\n",
       "      <th>1665</th>\n",
       "      <td>9841</td>\n",
       "      <td>Tamir E. Rice</td>\n",
       "      <td>12</td>\n",
       "      <td>Male</td>\n",
       "      <td>Black</td>\n",
       "      <td>11/22/2014</td>\n",
       "      <td>Cleveland</td>\n",
       "      <td>Ohio</td>\n",
       "      <td>Shot</td>\n",
       "      <td>Gun</td>\n",
       "      <td>False</td>\n",
       "      <td>False</td>\n",
       "      <td>Midwest</td>\n",
       "      <td>2014</td>\n",
       "      <td>11</td>\n",
       "      <td>4</td>\n",
       "      <td>22</td>\n",
       "      <td>47</td>\n",
       "      <td>Child</td>\n",
       "    </tr>\n",
       "    <tr>\n",
       "      <th>2737</th>\n",
       "      <td>305</td>\n",
       "      <td>Alberto Sepulveda</td>\n",
       "      <td>11</td>\n",
       "      <td>Male</td>\n",
       "      <td>Hispanic</td>\n",
       "      <td>9/13/2000</td>\n",
       "      <td>Modesto</td>\n",
       "      <td>California</td>\n",
       "      <td>Shot</td>\n",
       "      <td>Gun</td>\n",
       "      <td>False</td>\n",
       "      <td>False</td>\n",
       "      <td>west</td>\n",
       "      <td>2000</td>\n",
       "      <td>9</td>\n",
       "      <td>3</td>\n",
       "      <td>13</td>\n",
       "      <td>37</td>\n",
       "      <td>Child</td>\n",
       "    </tr>\n",
       "    <tr>\n",
       "      <th>3040</th>\n",
       "      <td>3129</td>\n",
       "      <td>Lourdes Cruz Morales</td>\n",
       "      <td>12</td>\n",
       "      <td>Female</td>\n",
       "      <td>Hispanic</td>\n",
       "      <td>3/5/2006</td>\n",
       "      <td>Dateland</td>\n",
       "      <td>Arizona</td>\n",
       "      <td>Shot</td>\n",
       "      <td>UnKnown</td>\n",
       "      <td>False</td>\n",
       "      <td>False</td>\n",
       "      <td>west</td>\n",
       "      <td>2006</td>\n",
       "      <td>3</td>\n",
       "      <td>1</td>\n",
       "      <td>5</td>\n",
       "      <td>10</td>\n",
       "      <td>Child</td>\n",
       "    </tr>\n",
       "    <tr>\n",
       "      <th>5011</th>\n",
       "      <td>2941</td>\n",
       "      <td>Ian Terry</td>\n",
       "      <td>8</td>\n",
       "      <td>Male</td>\n",
       "      <td>White</td>\n",
       "      <td>10/10/2005</td>\n",
       "      <td>Windermere</td>\n",
       "      <td>Florida</td>\n",
       "      <td>Shot</td>\n",
       "      <td>UnKnown</td>\n",
       "      <td>False</td>\n",
       "      <td>False</td>\n",
       "      <td>south</td>\n",
       "      <td>2005</td>\n",
       "      <td>10</td>\n",
       "      <td>4</td>\n",
       "      <td>10</td>\n",
       "      <td>41</td>\n",
       "      <td>Child</td>\n",
       "    </tr>\n",
       "    <tr>\n",
       "      <th>5012</th>\n",
       "      <td>2942</td>\n",
       "      <td>Elyse Terry</td>\n",
       "      <td>10</td>\n",
       "      <td>Female</td>\n",
       "      <td>White</td>\n",
       "      <td>10/10/2005</td>\n",
       "      <td>Windermere</td>\n",
       "      <td>Florida</td>\n",
       "      <td>Shot</td>\n",
       "      <td>UnKnown</td>\n",
       "      <td>False</td>\n",
       "      <td>False</td>\n",
       "      <td>south</td>\n",
       "      <td>2005</td>\n",
       "      <td>10</td>\n",
       "      <td>4</td>\n",
       "      <td>10</td>\n",
       "      <td>41</td>\n",
       "      <td>Child</td>\n",
       "    </tr>\n",
       "    <tr>\n",
       "      <th>5159</th>\n",
       "      <td>3853</td>\n",
       "      <td>Austin Haley</td>\n",
       "      <td>5</td>\n",
       "      <td>Male</td>\n",
       "      <td>White</td>\n",
       "      <td>8/3/2007</td>\n",
       "      <td>Noble</td>\n",
       "      <td>Oklahoma</td>\n",
       "      <td>Shot</td>\n",
       "      <td>UnKnown</td>\n",
       "      <td>False</td>\n",
       "      <td>False</td>\n",
       "      <td>south</td>\n",
       "      <td>2007</td>\n",
       "      <td>8</td>\n",
       "      <td>3</td>\n",
       "      <td>3</td>\n",
       "      <td>31</td>\n",
       "      <td>Child</td>\n",
       "    </tr>\n",
       "    <tr>\n",
       "      <th>5973</th>\n",
       "      <td>7498</td>\n",
       "      <td>Maximillian Walters</td>\n",
       "      <td>5</td>\n",
       "      <td>Male</td>\n",
       "      <td>White</td>\n",
       "      <td>1/22/2013</td>\n",
       "      <td>Boulder City</td>\n",
       "      <td>Nevada</td>\n",
       "      <td>Shot</td>\n",
       "      <td>UnKnown</td>\n",
       "      <td>False</td>\n",
       "      <td>False</td>\n",
       "      <td>west</td>\n",
       "      <td>2013</td>\n",
       "      <td>1</td>\n",
       "      <td>1</td>\n",
       "      <td>22</td>\n",
       "      <td>4</td>\n",
       "      <td>Child</td>\n",
       "    </tr>\n",
       "    <tr>\n",
       "      <th>6346</th>\n",
       "      <td>8727</td>\n",
       "      <td>Haley Boren</td>\n",
       "      <td>5</td>\n",
       "      <td>Female</td>\n",
       "      <td>White</td>\n",
       "      <td>1/16/2014</td>\n",
       "      <td>Spanish Fork</td>\n",
       "      <td>Utah</td>\n",
       "      <td>Shot</td>\n",
       "      <td>UnKnown</td>\n",
       "      <td>False</td>\n",
       "      <td>False</td>\n",
       "      <td>west</td>\n",
       "      <td>2014</td>\n",
       "      <td>1</td>\n",
       "      <td>1</td>\n",
       "      <td>16</td>\n",
       "      <td>3</td>\n",
       "      <td>Child</td>\n",
       "    </tr>\n",
       "    <tr>\n",
       "      <th>6347</th>\n",
       "      <td>8728</td>\n",
       "      <td>Joshua Jaden Boren</td>\n",
       "      <td>7</td>\n",
       "      <td>Male</td>\n",
       "      <td>White</td>\n",
       "      <td>1/16/2014</td>\n",
       "      <td>Spanish Fork</td>\n",
       "      <td>Utah</td>\n",
       "      <td>Shot</td>\n",
       "      <td>UnKnown</td>\n",
       "      <td>False</td>\n",
       "      <td>False</td>\n",
       "      <td>west</td>\n",
       "      <td>2014</td>\n",
       "      <td>1</td>\n",
       "      <td>1</td>\n",
       "      <td>16</td>\n",
       "      <td>3</td>\n",
       "      <td>Child</td>\n",
       "    </tr>\n",
       "    <tr>\n",
       "      <th>6554</th>\n",
       "      <td>9373</td>\n",
       "      <td>Cadence Harris</td>\n",
       "      <td>5</td>\n",
       "      <td>Female</td>\n",
       "      <td>White</td>\n",
       "      <td>7/18/2014</td>\n",
       "      <td>Leavenworth</td>\n",
       "      <td>Kansas</td>\n",
       "      <td>Shot</td>\n",
       "      <td>UnKnown</td>\n",
       "      <td>False</td>\n",
       "      <td>False</td>\n",
       "      <td>Midwest</td>\n",
       "      <td>2014</td>\n",
       "      <td>7</td>\n",
       "      <td>3</td>\n",
       "      <td>18</td>\n",
       "      <td>29</td>\n",
       "      <td>Child</td>\n",
       "    </tr>\n",
       "    <tr>\n",
       "      <th>7105</th>\n",
       "      <td>11089</td>\n",
       "      <td>Jeremy Mardis</td>\n",
       "      <td>6</td>\n",
       "      <td>Male</td>\n",
       "      <td>White</td>\n",
       "      <td>11/3/2015</td>\n",
       "      <td>Marksville</td>\n",
       "      <td>Louisiana</td>\n",
       "      <td>Shot</td>\n",
       "      <td>Unarmed</td>\n",
       "      <td>False</td>\n",
       "      <td>False</td>\n",
       "      <td>south</td>\n",
       "      <td>2015</td>\n",
       "      <td>11</td>\n",
       "      <td>4</td>\n",
       "      <td>3</td>\n",
       "      <td>44</td>\n",
       "      <td>Child</td>\n",
       "    </tr>\n",
       "    <tr>\n",
       "      <th>7196</th>\n",
       "      <td>11298</td>\n",
       "      <td>Ciara Meyer</td>\n",
       "      <td>12</td>\n",
       "      <td>Female</td>\n",
       "      <td>White</td>\n",
       "      <td>1/11/2016</td>\n",
       "      <td>Duncannon</td>\n",
       "      <td>Pennsylvania</td>\n",
       "      <td>Shot</td>\n",
       "      <td>UnKnown</td>\n",
       "      <td>False</td>\n",
       "      <td>False</td>\n",
       "      <td>northeast</td>\n",
       "      <td>2016</td>\n",
       "      <td>1</td>\n",
       "      <td>1</td>\n",
       "      <td>11</td>\n",
       "      <td>2</td>\n",
       "      <td>Child</td>\n",
       "    </tr>\n",
       "    <tr>\n",
       "      <th>7232</th>\n",
       "      <td>11415</td>\n",
       "      <td>Nathan Roman</td>\n",
       "      <td>10</td>\n",
       "      <td>Male</td>\n",
       "      <td>White</td>\n",
       "      <td>2/9/2016</td>\n",
       "      <td>Latham</td>\n",
       "      <td>New York</td>\n",
       "      <td>Shot</td>\n",
       "      <td>UnKnown</td>\n",
       "      <td>True</td>\n",
       "      <td>False</td>\n",
       "      <td>northeast</td>\n",
       "      <td>2016</td>\n",
       "      <td>2</td>\n",
       "      <td>1</td>\n",
       "      <td>9</td>\n",
       "      <td>6</td>\n",
       "      <td>Child</td>\n",
       "    </tr>\n",
       "    <tr>\n",
       "      <th>7247</th>\n",
       "      <td>11505</td>\n",
       "      <td>Rayne McGowan</td>\n",
       "      <td>8</td>\n",
       "      <td>Female</td>\n",
       "      <td>White</td>\n",
       "      <td>5/10/2005</td>\n",
       "      <td>Mountain Center</td>\n",
       "      <td>California</td>\n",
       "      <td>Shot</td>\n",
       "      <td>UnKnown</td>\n",
       "      <td>False</td>\n",
       "      <td>False</td>\n",
       "      <td>west</td>\n",
       "      <td>2005</td>\n",
       "      <td>5</td>\n",
       "      <td>2</td>\n",
       "      <td>10</td>\n",
       "      <td>19</td>\n",
       "      <td>Child</td>\n",
       "    </tr>\n",
       "    <tr>\n",
       "      <th>7248</th>\n",
       "      <td>11506</td>\n",
       "      <td>Paige McGowan</td>\n",
       "      <td>10</td>\n",
       "      <td>Female</td>\n",
       "      <td>White</td>\n",
       "      <td>5/10/2005</td>\n",
       "      <td>Mountain Center</td>\n",
       "      <td>California</td>\n",
       "      <td>Shot</td>\n",
       "      <td>UnKnown</td>\n",
       "      <td>False</td>\n",
       "      <td>False</td>\n",
       "      <td>west</td>\n",
       "      <td>2005</td>\n",
       "      <td>5</td>\n",
       "      <td>2</td>\n",
       "      <td>10</td>\n",
       "      <td>19</td>\n",
       "      <td>Child</td>\n",
       "    </tr>\n",
       "    <tr>\n",
       "      <th>7268</th>\n",
       "      <td>11665</td>\n",
       "      <td>Gabrielle Petrillo</td>\n",
       "      <td>6</td>\n",
       "      <td>Female</td>\n",
       "      <td>White</td>\n",
       "      <td>6/21/2001</td>\n",
       "      <td>Aurora</td>\n",
       "      <td>Colorado</td>\n",
       "      <td>Shot</td>\n",
       "      <td>Gun</td>\n",
       "      <td>False</td>\n",
       "      <td>False</td>\n",
       "      <td>west</td>\n",
       "      <td>2001</td>\n",
       "      <td>6</td>\n",
       "      <td>2</td>\n",
       "      <td>21</td>\n",
       "      <td>25</td>\n",
       "      <td>Child</td>\n",
       "    </tr>\n",
       "    <tr>\n",
       "      <th>7914</th>\n",
       "      <td>13960</td>\n",
       "      <td>Jeremy Mardis</td>\n",
       "      <td>6</td>\n",
       "      <td>Male</td>\n",
       "      <td>White</td>\n",
       "      <td>11/3/2015</td>\n",
       "      <td>Marksville</td>\n",
       "      <td>Louisiana</td>\n",
       "      <td>Shot</td>\n",
       "      <td>Unarmed</td>\n",
       "      <td>False</td>\n",
       "      <td>True</td>\n",
       "      <td>south</td>\n",
       "      <td>2015</td>\n",
       "      <td>11</td>\n",
       "      <td>4</td>\n",
       "      <td>3</td>\n",
       "      <td>44</td>\n",
       "      <td>Child</td>\n",
       "    </tr>\n",
       "    <tr>\n",
       "      <th>7999</th>\n",
       "      <td>14144</td>\n",
       "      <td>Ciara Meyer</td>\n",
       "      <td>12</td>\n",
       "      <td>Female</td>\n",
       "      <td>White</td>\n",
       "      <td>1/11/2016</td>\n",
       "      <td>Penn Township</td>\n",
       "      <td>Pennsylvania</td>\n",
       "      <td>Shot</td>\n",
       "      <td>Unarmed</td>\n",
       "      <td>False</td>\n",
       "      <td>False</td>\n",
       "      <td>northeast</td>\n",
       "      <td>2016</td>\n",
       "      <td>1</td>\n",
       "      <td>1</td>\n",
       "      <td>11</td>\n",
       "      <td>2</td>\n",
       "      <td>Child</td>\n",
       "    </tr>\n",
       "    <tr>\n",
       "      <th>9423</th>\n",
       "      <td>2458</td>\n",
       "      <td>Gabriella Ruth Gabby Garcia</td>\n",
       "      <td>7</td>\n",
       "      <td>Female</td>\n",
       "      <td>UnKnown</td>\n",
       "      <td>10/12/2004</td>\n",
       "      <td>Porterville</td>\n",
       "      <td>California</td>\n",
       "      <td>Shot</td>\n",
       "      <td>UnKnown</td>\n",
       "      <td>False</td>\n",
       "      <td>False</td>\n",
       "      <td>west</td>\n",
       "      <td>2004</td>\n",
       "      <td>10</td>\n",
       "      <td>4</td>\n",
       "      <td>12</td>\n",
       "      <td>41</td>\n",
       "      <td>Child</td>\n",
       "    </tr>\n",
       "    <tr>\n",
       "      <th>11741</th>\n",
       "      <td>11755</td>\n",
       "      <td>Rene Raghunandan</td>\n",
       "      <td>5</td>\n",
       "      <td>Male</td>\n",
       "      <td>UnKnown</td>\n",
       "      <td>9/16/2003</td>\n",
       "      <td>Colorado Springs</td>\n",
       "      <td>Colorado</td>\n",
       "      <td>Shot</td>\n",
       "      <td>UnKnown</td>\n",
       "      <td>False</td>\n",
       "      <td>False</td>\n",
       "      <td>west</td>\n",
       "      <td>2003</td>\n",
       "      <td>9</td>\n",
       "      <td>3</td>\n",
       "      <td>16</td>\n",
       "      <td>37</td>\n",
       "      <td>Child</td>\n",
       "    </tr>\n",
       "    <tr>\n",
       "      <th>11742</th>\n",
       "      <td>11756</td>\n",
       "      <td>Akash Raghunandan</td>\n",
       "      <td>10</td>\n",
       "      <td>Male</td>\n",
       "      <td>UnKnown</td>\n",
       "      <td>9/16/2003</td>\n",
       "      <td>Colorado Springs</td>\n",
       "      <td>Colorado</td>\n",
       "      <td>Shot</td>\n",
       "      <td>UnKnown</td>\n",
       "      <td>False</td>\n",
       "      <td>False</td>\n",
       "      <td>west</td>\n",
       "      <td>2003</td>\n",
       "      <td>9</td>\n",
       "      <td>3</td>\n",
       "      <td>16</td>\n",
       "      <td>37</td>\n",
       "      <td>Child</td>\n",
       "    </tr>\n",
       "  </tbody>\n",
       "</table>\n",
       "</div>"
      ],
      "text/plain": [
       "         UID                         Name  Age  Gender      Race        Date  \\\n",
       "344     1411              Michael Ellerbe   12    Male     Black  12/24/2002   \n",
       "616     3790       DeAunta Terrell Farrow   12    Male     Black   6/22/2007   \n",
       "855     5387  Aiyana Mo'Nay Stanley Jones    7  Female     Black   5/16/2010   \n",
       "1665    9841                Tamir E. Rice   12    Male     Black  11/22/2014   \n",
       "2737     305            Alberto Sepulveda   11    Male  Hispanic   9/13/2000   \n",
       "3040    3129         Lourdes Cruz Morales   12  Female  Hispanic    3/5/2006   \n",
       "5011    2941                    Ian Terry    8    Male     White  10/10/2005   \n",
       "5012    2942                  Elyse Terry   10  Female     White  10/10/2005   \n",
       "5159    3853                 Austin Haley    5    Male     White    8/3/2007   \n",
       "5973    7498          Maximillian Walters    5    Male     White   1/22/2013   \n",
       "6346    8727                  Haley Boren    5  Female     White   1/16/2014   \n",
       "6347    8728           Joshua Jaden Boren    7    Male     White   1/16/2014   \n",
       "6554    9373               Cadence Harris    5  Female     White   7/18/2014   \n",
       "7105   11089                Jeremy Mardis    6    Male     White   11/3/2015   \n",
       "7196   11298                  Ciara Meyer   12  Female     White   1/11/2016   \n",
       "7232   11415                 Nathan Roman   10    Male     White    2/9/2016   \n",
       "7247   11505                Rayne McGowan    8  Female     White   5/10/2005   \n",
       "7248   11506                Paige McGowan   10  Female     White   5/10/2005   \n",
       "7268   11665           Gabrielle Petrillo    6  Female     White   6/21/2001   \n",
       "7914   13960                Jeremy Mardis    6    Male     White   11/3/2015   \n",
       "7999   14144                  Ciara Meyer   12  Female     White   1/11/2016   \n",
       "9423    2458  Gabriella Ruth Gabby Garcia    7  Female   UnKnown  10/12/2004   \n",
       "11741  11755             Rene Raghunandan    5    Male   UnKnown   9/16/2003   \n",
       "11742  11756            Akash Raghunandan   10    Male   UnKnown   9/16/2003   \n",
       "\n",
       "                   City         State Manner_of_death       Armed  \\\n",
       "344           Uniontown  Pennsylvania            Shot     Unarmed   \n",
       "616        West Memphis      Arkansas            Shot  Toy weapon   \n",
       "855             Detroit      Michigan            Shot         Gun   \n",
       "1665          Cleveland          Ohio            Shot         Gun   \n",
       "2737            Modesto    California            Shot         Gun   \n",
       "3040           Dateland       Arizona            Shot     UnKnown   \n",
       "5011         Windermere       Florida            Shot     UnKnown   \n",
       "5012         Windermere       Florida            Shot     UnKnown   \n",
       "5159              Noble      Oklahoma            Shot     UnKnown   \n",
       "5973       Boulder City        Nevada            Shot     UnKnown   \n",
       "6346       Spanish Fork          Utah            Shot     UnKnown   \n",
       "6347       Spanish Fork          Utah            Shot     UnKnown   \n",
       "6554        Leavenworth        Kansas            Shot     UnKnown   \n",
       "7105         Marksville     Louisiana            Shot     Unarmed   \n",
       "7196          Duncannon  Pennsylvania            Shot     UnKnown   \n",
       "7232             Latham      New York            Shot     UnKnown   \n",
       "7247    Mountain Center    California            Shot     UnKnown   \n",
       "7248    Mountain Center    California            Shot     UnKnown   \n",
       "7268             Aurora      Colorado            Shot         Gun   \n",
       "7914         Marksville     Louisiana            Shot     Unarmed   \n",
       "7999      Penn Township  Pennsylvania            Shot     Unarmed   \n",
       "9423        Porterville    California            Shot     UnKnown   \n",
       "11741  Colorado Springs      Colorado            Shot     UnKnown   \n",
       "11742  Colorado Springs      Colorado            Shot     UnKnown   \n",
       "\n",
       "       Mental_illness   Flee     Region  Year  Month  Quarter  Day Week  \\\n",
       "344             False  False  northeast  2002     12        4   24   51   \n",
       "616             False  False      south  2007      6        2   22   25   \n",
       "855             False  False    Midwest  2010      5        2   16   20   \n",
       "1665            False  False    Midwest  2014     11        4   22   47   \n",
       "2737            False  False       west  2000      9        3   13   37   \n",
       "3040            False  False       west  2006      3        1    5   10   \n",
       "5011            False  False      south  2005     10        4   10   41   \n",
       "5012            False  False      south  2005     10        4   10   41   \n",
       "5159            False  False      south  2007      8        3    3   31   \n",
       "5973            False  False       west  2013      1        1   22    4   \n",
       "6346            False  False       west  2014      1        1   16    3   \n",
       "6347            False  False       west  2014      1        1   16    3   \n",
       "6554            False  False    Midwest  2014      7        3   18   29   \n",
       "7105            False  False      south  2015     11        4    3   44   \n",
       "7196            False  False  northeast  2016      1        1   11    2   \n",
       "7232             True  False  northeast  2016      2        1    9    6   \n",
       "7247            False  False       west  2005      5        2   10   19   \n",
       "7248            False  False       west  2005      5        2   10   19   \n",
       "7268            False  False       west  2001      6        2   21   25   \n",
       "7914            False   True      south  2015     11        4    3   44   \n",
       "7999            False  False  northeast  2016      1        1   11    2   \n",
       "9423            False  False       west  2004     10        4   12   41   \n",
       "11741           False  False       west  2003      9        3   16   37   \n",
       "11742           False  False       west  2003      9        3   16   37   \n",
       "\n",
       "      Stages of Life  \n",
       "344            Child  \n",
       "616            Child  \n",
       "855            Child  \n",
       "1665           Child  \n",
       "2737           Child  \n",
       "3040           Child  \n",
       "5011           Child  \n",
       "5012           Child  \n",
       "5159           Child  \n",
       "5973           Child  \n",
       "6346           Child  \n",
       "6347           Child  \n",
       "6554           Child  \n",
       "7105           Child  \n",
       "7196           Child  \n",
       "7232           Child  \n",
       "7247           Child  \n",
       "7248           Child  \n",
       "7268           Child  \n",
       "7914           Child  \n",
       "7999           Child  \n",
       "9423           Child  \n",
       "11741          Child  \n",
       "11742          Child  "
      ]
     },
     "execution_count": 67,
     "metadata": {},
     "output_type": "execute_result"
    }
   ],
   "source": [
    "data[(data['Stages of Life']=='Child')]"
   ]
  },
  {
   "cell_type": "code",
   "execution_count": 68,
   "id": "53de1446",
   "metadata": {
    "execution": {
     "iopub.execute_input": "2021-08-04T17:02:06.846970Z",
     "iopub.status.busy": "2021-08-04T17:02:06.845999Z",
     "iopub.status.idle": "2021-08-04T17:02:06.850964Z",
     "shell.execute_reply": "2021-08-04T17:02:06.850407Z",
     "shell.execute_reply.started": "2021-08-04T15:04:21.580800Z"
    },
    "papermill": {
     "duration": 0.185449,
     "end_time": "2021-08-04T17:02:06.851119",
     "exception": false,
     "start_time": "2021-08-04T17:02:06.665670",
     "status": "completed"
    },
    "tags": []
   },
   "outputs": [
    {
     "data": {
      "text/html": [
       "<div>\n",
       "<style scoped>\n",
       "    .dataframe tbody tr th:only-of-type {\n",
       "        vertical-align: middle;\n",
       "    }\n",
       "\n",
       "    .dataframe tbody tr th {\n",
       "        vertical-align: top;\n",
       "    }\n",
       "\n",
       "    .dataframe thead th {\n",
       "        text-align: right;\n",
       "    }\n",
       "</style>\n",
       "<table border=\"1\" class=\"dataframe\">\n",
       "  <thead>\n",
       "    <tr style=\"text-align: right;\">\n",
       "      <th></th>\n",
       "      <th>UID</th>\n",
       "      <th>Name</th>\n",
       "      <th>Age</th>\n",
       "      <th>Gender</th>\n",
       "      <th>Race</th>\n",
       "      <th>Date</th>\n",
       "      <th>City</th>\n",
       "      <th>State</th>\n",
       "      <th>Manner_of_death</th>\n",
       "      <th>Armed</th>\n",
       "      <th>Mental_illness</th>\n",
       "      <th>Flee</th>\n",
       "      <th>Region</th>\n",
       "      <th>Year</th>\n",
       "      <th>Month</th>\n",
       "      <th>Quarter</th>\n",
       "      <th>Day</th>\n",
       "      <th>Week</th>\n",
       "      <th>Stages of Life</th>\n",
       "    </tr>\n",
       "  </thead>\n",
       "  <tbody>\n",
       "    <tr>\n",
       "      <th>855</th>\n",
       "      <td>5387</td>\n",
       "      <td>Aiyana Mo'Nay Stanley Jones</td>\n",
       "      <td>7</td>\n",
       "      <td>Female</td>\n",
       "      <td>Black</td>\n",
       "      <td>5/16/2010</td>\n",
       "      <td>Detroit</td>\n",
       "      <td>Michigan</td>\n",
       "      <td>Shot</td>\n",
       "      <td>Gun</td>\n",
       "      <td>False</td>\n",
       "      <td>False</td>\n",
       "      <td>Midwest</td>\n",
       "      <td>2010</td>\n",
       "      <td>5</td>\n",
       "      <td>2</td>\n",
       "      <td>16</td>\n",
       "      <td>20</td>\n",
       "      <td>Child</td>\n",
       "    </tr>\n",
       "    <tr>\n",
       "      <th>1665</th>\n",
       "      <td>9841</td>\n",
       "      <td>Tamir E. Rice</td>\n",
       "      <td>12</td>\n",
       "      <td>Male</td>\n",
       "      <td>Black</td>\n",
       "      <td>11/22/2014</td>\n",
       "      <td>Cleveland</td>\n",
       "      <td>Ohio</td>\n",
       "      <td>Shot</td>\n",
       "      <td>Gun</td>\n",
       "      <td>False</td>\n",
       "      <td>False</td>\n",
       "      <td>Midwest</td>\n",
       "      <td>2014</td>\n",
       "      <td>11</td>\n",
       "      <td>4</td>\n",
       "      <td>22</td>\n",
       "      <td>47</td>\n",
       "      <td>Child</td>\n",
       "    </tr>\n",
       "    <tr>\n",
       "      <th>2737</th>\n",
       "      <td>305</td>\n",
       "      <td>Alberto Sepulveda</td>\n",
       "      <td>11</td>\n",
       "      <td>Male</td>\n",
       "      <td>Hispanic</td>\n",
       "      <td>9/13/2000</td>\n",
       "      <td>Modesto</td>\n",
       "      <td>California</td>\n",
       "      <td>Shot</td>\n",
       "      <td>Gun</td>\n",
       "      <td>False</td>\n",
       "      <td>False</td>\n",
       "      <td>west</td>\n",
       "      <td>2000</td>\n",
       "      <td>9</td>\n",
       "      <td>3</td>\n",
       "      <td>13</td>\n",
       "      <td>37</td>\n",
       "      <td>Child</td>\n",
       "    </tr>\n",
       "    <tr>\n",
       "      <th>7268</th>\n",
       "      <td>11665</td>\n",
       "      <td>Gabrielle Petrillo</td>\n",
       "      <td>6</td>\n",
       "      <td>Female</td>\n",
       "      <td>White</td>\n",
       "      <td>6/21/2001</td>\n",
       "      <td>Aurora</td>\n",
       "      <td>Colorado</td>\n",
       "      <td>Shot</td>\n",
       "      <td>Gun</td>\n",
       "      <td>False</td>\n",
       "      <td>False</td>\n",
       "      <td>west</td>\n",
       "      <td>2001</td>\n",
       "      <td>6</td>\n",
       "      <td>2</td>\n",
       "      <td>21</td>\n",
       "      <td>25</td>\n",
       "      <td>Child</td>\n",
       "    </tr>\n",
       "  </tbody>\n",
       "</table>\n",
       "</div>"
      ],
      "text/plain": [
       "        UID                         Name  Age  Gender      Race        Date  \\\n",
       "855    5387  Aiyana Mo'Nay Stanley Jones    7  Female     Black   5/16/2010   \n",
       "1665   9841                Tamir E. Rice   12    Male     Black  11/22/2014   \n",
       "2737    305            Alberto Sepulveda   11    Male  Hispanic   9/13/2000   \n",
       "7268  11665           Gabrielle Petrillo    6  Female     White   6/21/2001   \n",
       "\n",
       "           City       State Manner_of_death Armed  Mental_illness   Flee  \\\n",
       "855     Detroit    Michigan            Shot   Gun           False  False   \n",
       "1665  Cleveland        Ohio            Shot   Gun           False  False   \n",
       "2737    Modesto  California            Shot   Gun           False  False   \n",
       "7268     Aurora    Colorado            Shot   Gun           False  False   \n",
       "\n",
       "       Region  Year  Month  Quarter  Day Week Stages of Life  \n",
       "855   Midwest  2010      5        2   16   20          Child  \n",
       "1665  Midwest  2014     11        4   22   47          Child  \n",
       "2737     west  2000      9        3   13   37          Child  \n",
       "7268     west  2001      6        2   21   25          Child  "
      ]
     },
     "execution_count": 68,
     "metadata": {},
     "output_type": "execute_result"
    }
   ],
   "source": [
    "data[(data['Stages of Life']=='Child') & (data['Armed']=='Gun')]"
   ]
  },
  {
   "cell_type": "code",
   "execution_count": 69,
   "id": "5c0b4091",
   "metadata": {
    "execution": {
     "iopub.execute_input": "2021-08-04T17:02:07.188244Z",
     "iopub.status.busy": "2021-08-04T17:02:07.187331Z",
     "iopub.status.idle": "2021-08-04T17:02:07.192384Z",
     "shell.execute_reply": "2021-08-04T17:02:07.191802Z",
     "shell.execute_reply.started": "2021-08-04T15:04:21.613697Z"
    },
    "papermill": {
     "duration": 0.186937,
     "end_time": "2021-08-04T17:02:07.192525",
     "exception": false,
     "start_time": "2021-08-04T17:02:07.005588",
     "status": "completed"
    },
    "tags": []
   },
   "outputs": [
    {
     "data": {
      "text/html": [
       "<div>\n",
       "<style scoped>\n",
       "    .dataframe tbody tr th:only-of-type {\n",
       "        vertical-align: middle;\n",
       "    }\n",
       "\n",
       "    .dataframe tbody tr th {\n",
       "        vertical-align: top;\n",
       "    }\n",
       "\n",
       "    .dataframe thead th {\n",
       "        text-align: right;\n",
       "    }\n",
       "</style>\n",
       "<table border=\"1\" class=\"dataframe\">\n",
       "  <thead>\n",
       "    <tr style=\"text-align: right;\">\n",
       "      <th></th>\n",
       "      <th>UID</th>\n",
       "      <th>Name</th>\n",
       "      <th>Age</th>\n",
       "      <th>Gender</th>\n",
       "      <th>Race</th>\n",
       "      <th>Date</th>\n",
       "      <th>City</th>\n",
       "      <th>State</th>\n",
       "      <th>Manner_of_death</th>\n",
       "      <th>Armed</th>\n",
       "      <th>Mental_illness</th>\n",
       "      <th>Flee</th>\n",
       "      <th>Region</th>\n",
       "      <th>Year</th>\n",
       "      <th>Month</th>\n",
       "      <th>Quarter</th>\n",
       "      <th>Day</th>\n",
       "      <th>Week</th>\n",
       "      <th>Stages of Life</th>\n",
       "    </tr>\n",
       "  </thead>\n",
       "  <tbody>\n",
       "    <tr>\n",
       "      <th>344</th>\n",
       "      <td>1411</td>\n",
       "      <td>Michael Ellerbe</td>\n",
       "      <td>12</td>\n",
       "      <td>Male</td>\n",
       "      <td>Black</td>\n",
       "      <td>12/24/2002</td>\n",
       "      <td>Uniontown</td>\n",
       "      <td>Pennsylvania</td>\n",
       "      <td>Shot</td>\n",
       "      <td>Unarmed</td>\n",
       "      <td>False</td>\n",
       "      <td>False</td>\n",
       "      <td>northeast</td>\n",
       "      <td>2002</td>\n",
       "      <td>12</td>\n",
       "      <td>4</td>\n",
       "      <td>24</td>\n",
       "      <td>51</td>\n",
       "      <td>Child</td>\n",
       "    </tr>\n",
       "    <tr>\n",
       "      <th>7105</th>\n",
       "      <td>11089</td>\n",
       "      <td>Jeremy Mardis</td>\n",
       "      <td>6</td>\n",
       "      <td>Male</td>\n",
       "      <td>White</td>\n",
       "      <td>11/3/2015</td>\n",
       "      <td>Marksville</td>\n",
       "      <td>Louisiana</td>\n",
       "      <td>Shot</td>\n",
       "      <td>Unarmed</td>\n",
       "      <td>False</td>\n",
       "      <td>False</td>\n",
       "      <td>south</td>\n",
       "      <td>2015</td>\n",
       "      <td>11</td>\n",
       "      <td>4</td>\n",
       "      <td>3</td>\n",
       "      <td>44</td>\n",
       "      <td>Child</td>\n",
       "    </tr>\n",
       "    <tr>\n",
       "      <th>7914</th>\n",
       "      <td>13960</td>\n",
       "      <td>Jeremy Mardis</td>\n",
       "      <td>6</td>\n",
       "      <td>Male</td>\n",
       "      <td>White</td>\n",
       "      <td>11/3/2015</td>\n",
       "      <td>Marksville</td>\n",
       "      <td>Louisiana</td>\n",
       "      <td>Shot</td>\n",
       "      <td>Unarmed</td>\n",
       "      <td>False</td>\n",
       "      <td>True</td>\n",
       "      <td>south</td>\n",
       "      <td>2015</td>\n",
       "      <td>11</td>\n",
       "      <td>4</td>\n",
       "      <td>3</td>\n",
       "      <td>44</td>\n",
       "      <td>Child</td>\n",
       "    </tr>\n",
       "    <tr>\n",
       "      <th>7999</th>\n",
       "      <td>14144</td>\n",
       "      <td>Ciara Meyer</td>\n",
       "      <td>12</td>\n",
       "      <td>Female</td>\n",
       "      <td>White</td>\n",
       "      <td>1/11/2016</td>\n",
       "      <td>Penn Township</td>\n",
       "      <td>Pennsylvania</td>\n",
       "      <td>Shot</td>\n",
       "      <td>Unarmed</td>\n",
       "      <td>False</td>\n",
       "      <td>False</td>\n",
       "      <td>northeast</td>\n",
       "      <td>2016</td>\n",
       "      <td>1</td>\n",
       "      <td>1</td>\n",
       "      <td>11</td>\n",
       "      <td>2</td>\n",
       "      <td>Child</td>\n",
       "    </tr>\n",
       "  </tbody>\n",
       "</table>\n",
       "</div>"
      ],
      "text/plain": [
       "        UID             Name  Age  Gender   Race        Date           City  \\\n",
       "344    1411  Michael Ellerbe   12    Male  Black  12/24/2002      Uniontown   \n",
       "7105  11089    Jeremy Mardis    6    Male  White   11/3/2015     Marksville   \n",
       "7914  13960    Jeremy Mardis    6    Male  White   11/3/2015     Marksville   \n",
       "7999  14144      Ciara Meyer   12  Female  White   1/11/2016  Penn Township   \n",
       "\n",
       "             State Manner_of_death    Armed  Mental_illness   Flee     Region  \\\n",
       "344   Pennsylvania            Shot  Unarmed           False  False  northeast   \n",
       "7105     Louisiana            Shot  Unarmed           False  False      south   \n",
       "7914     Louisiana            Shot  Unarmed           False   True      south   \n",
       "7999  Pennsylvania            Shot  Unarmed           False  False  northeast   \n",
       "\n",
       "      Year  Month  Quarter  Day Week Stages of Life  \n",
       "344   2002     12        4   24   51          Child  \n",
       "7105  2015     11        4    3   44          Child  \n",
       "7914  2015     11        4    3   44          Child  \n",
       "7999  2016      1        1   11    2          Child  "
      ]
     },
     "execution_count": 69,
     "metadata": {},
     "output_type": "execute_result"
    }
   ],
   "source": [
    "data[(data['Stages of Life']=='Child') & (data['Armed']=='Unarmed')]"
   ]
  },
  {
   "cell_type": "code",
   "execution_count": 70,
   "id": "b2fbc3e4",
   "metadata": {
    "execution": {
     "iopub.execute_input": "2021-08-04T17:02:07.535648Z",
     "iopub.status.busy": "2021-08-04T17:02:07.519987Z",
     "iopub.status.idle": "2021-08-04T17:02:07.539966Z",
     "shell.execute_reply": "2021-08-04T17:02:07.539276Z",
     "shell.execute_reply.started": "2021-08-04T15:04:21.646911Z"
    },
    "papermill": {
     "duration": 0.185821,
     "end_time": "2021-08-04T17:02:07.540122",
     "exception": false,
     "start_time": "2021-08-04T17:02:07.354301",
     "status": "completed"
    },
    "tags": []
   },
   "outputs": [
    {
     "data": {
      "text/html": [
       "<div>\n",
       "<style scoped>\n",
       "    .dataframe tbody tr th:only-of-type {\n",
       "        vertical-align: middle;\n",
       "    }\n",
       "\n",
       "    .dataframe tbody tr th {\n",
       "        vertical-align: top;\n",
       "    }\n",
       "\n",
       "    .dataframe thead th {\n",
       "        text-align: right;\n",
       "    }\n",
       "</style>\n",
       "<table border=\"1\" class=\"dataframe\">\n",
       "  <thead>\n",
       "    <tr style=\"text-align: right;\">\n",
       "      <th></th>\n",
       "      <th>UID</th>\n",
       "      <th>Name</th>\n",
       "      <th>Age</th>\n",
       "      <th>Gender</th>\n",
       "      <th>Race</th>\n",
       "      <th>Date</th>\n",
       "      <th>City</th>\n",
       "      <th>State</th>\n",
       "      <th>Manner_of_death</th>\n",
       "      <th>Armed</th>\n",
       "      <th>Mental_illness</th>\n",
       "      <th>Flee</th>\n",
       "      <th>Region</th>\n",
       "      <th>Year</th>\n",
       "      <th>Month</th>\n",
       "      <th>Quarter</th>\n",
       "      <th>Day</th>\n",
       "      <th>Week</th>\n",
       "      <th>Stages of Life</th>\n",
       "    </tr>\n",
       "  </thead>\n",
       "  <tbody>\n",
       "    <tr>\n",
       "      <th>7914</th>\n",
       "      <td>13960</td>\n",
       "      <td>Jeremy Mardis</td>\n",
       "      <td>6</td>\n",
       "      <td>Male</td>\n",
       "      <td>White</td>\n",
       "      <td>11/3/2015</td>\n",
       "      <td>Marksville</td>\n",
       "      <td>Louisiana</td>\n",
       "      <td>Shot</td>\n",
       "      <td>Unarmed</td>\n",
       "      <td>False</td>\n",
       "      <td>True</td>\n",
       "      <td>south</td>\n",
       "      <td>2015</td>\n",
       "      <td>11</td>\n",
       "      <td>4</td>\n",
       "      <td>3</td>\n",
       "      <td>44</td>\n",
       "      <td>Child</td>\n",
       "    </tr>\n",
       "  </tbody>\n",
       "</table>\n",
       "</div>"
      ],
      "text/plain": [
       "        UID           Name  Age Gender   Race       Date        City  \\\n",
       "7914  13960  Jeremy Mardis    6   Male  White  11/3/2015  Marksville   \n",
       "\n",
       "          State Manner_of_death    Armed  Mental_illness  Flee Region  Year  \\\n",
       "7914  Louisiana            Shot  Unarmed           False  True  south  2015   \n",
       "\n",
       "      Month  Quarter  Day Week Stages of Life  \n",
       "7914     11        4    3   44          Child  "
      ]
     },
     "execution_count": 70,
     "metadata": {},
     "output_type": "execute_result"
    }
   ],
   "source": [
    "data[(data['Stages of Life']=='Child') & (data['Armed']=='Unarmed') & (data['Flee']==True)]"
   ]
  },
  {
   "cell_type": "markdown",
   "id": "03b30776",
   "metadata": {
    "papermill": {
     "duration": 0.158351,
     "end_time": "2021-08-04T17:02:07.854497",
     "exception": false,
     "start_time": "2021-08-04T17:02:07.696146",
     "status": "completed"
    },
    "tags": []
   },
   "source": [
    "# Which year records the most Kill Events by police? \n",
    "How many males are there?\n",
    "And how many mentally ill of them?\n",
    "How many unarmed of them?"
   ]
  },
  {
   "cell_type": "code",
   "execution_count": 71,
   "id": "30edbd47",
   "metadata": {
    "execution": {
     "iopub.execute_input": "2021-08-04T17:02:08.168983Z",
     "iopub.status.busy": "2021-08-04T17:02:08.167978Z",
     "iopub.status.idle": "2021-08-04T17:02:08.173160Z",
     "shell.execute_reply": "2021-08-04T17:02:08.173630Z",
     "shell.execute_reply.started": "2021-08-04T15:04:21.680476Z"
    },
    "papermill": {
     "duration": 0.164946,
     "end_time": "2021-08-04T17:02:08.173810",
     "exception": false,
     "start_time": "2021-08-04T17:02:08.008864",
     "status": "completed"
    },
    "tags": []
   },
   "outputs": [
    {
     "data": {
      "text/plain": [
       "array(['2000', '2001', '2002', '2003', '2004', '2005', '2006', '2007',\n",
       "       '2008', '2009', '2010', '2011', '2012', '2013', '2014', '2015',\n",
       "       '2016'], dtype=object)"
      ]
     },
     "execution_count": 71,
     "metadata": {},
     "output_type": "execute_result"
    }
   ],
   "source": [
    "data['Year'].unique()"
   ]
  },
  {
   "cell_type": "code",
   "execution_count": 72,
   "id": "f4552a2b",
   "metadata": {
    "execution": {
     "iopub.execute_input": "2021-08-04T17:02:08.549693Z",
     "iopub.status.busy": "2021-08-04T17:02:08.544737Z",
     "iopub.status.idle": "2021-08-04T17:02:08.810256Z",
     "shell.execute_reply": "2021-08-04T17:02:08.810769Z",
     "shell.execute_reply.started": "2021-08-04T15:04:21.688302Z"
    },
    "papermill": {
     "duration": 0.459026,
     "end_time": "2021-08-04T17:02:08.810940",
     "exception": false,
     "start_time": "2021-08-04T17:02:08.351914",
     "status": "completed"
    },
    "tags": []
   },
   "outputs": [
    {
     "data": {
      "text/plain": [
       "<AxesSubplot:xlabel='Count', ylabel='Year'>"
      ]
     },
     "execution_count": 72,
     "metadata": {},
     "output_type": "execute_result"
    },
    {
     "data": {
      "image/png": "[encoded data removed]",
      "text/plain": [
       "<Figure size 432x288 with 1 Axes>"
      ]
     },
     "metadata": {
      "needs_background": "light"
     },
     "output_type": "display_data"
    }
   ],
   "source": [
    "sns.histplot(y=data['Year'])"
   ]
  },
  {
   "cell_type": "code",
   "execution_count": 73,
   "id": "8c43dd18",
   "metadata": {
    "execution": {
     "iopub.execute_input": "2021-08-04T17:02:09.128315Z",
     "iopub.status.busy": "2021-08-04T17:02:09.127670Z",
     "iopub.status.idle": "2021-08-04T17:02:09.136894Z",
     "shell.execute_reply": "2021-08-04T17:02:09.137517Z",
     "shell.execute_reply.started": "2021-08-04T15:04:22.003661Z"
    },
    "papermill": {
     "duration": 0.169034,
     "end_time": "2021-08-04T17:02:09.137684",
     "exception": false,
     "start_time": "2021-08-04T17:02:08.968650",
     "status": "completed"
    },
    "tags": []
   },
   "outputs": [
    {
     "data": {
      "text/plain": [
       "Year\n",
       "2015    2120\n",
       "2016    1296\n",
       "2013    1081\n",
       "2014    1080\n",
       "2011     777\n",
       "Name: UID, dtype: int64"
      ]
     },
     "execution_count": 73,
     "metadata": {},
     "output_type": "execute_result"
    }
   ],
   "source": [
    "data.groupby('Year')['UID'].count().sort_values(ascending=False).head(5)"
   ]
  },
  {
   "cell_type": "code",
   "execution_count": 74,
   "id": "5f132c56",
   "metadata": {
    "execution": {
     "iopub.execute_input": "2021-08-04T17:02:09.454521Z",
     "iopub.status.busy": "2021-08-04T17:02:09.453598Z",
     "iopub.status.idle": "2021-08-04T17:02:09.650179Z",
     "shell.execute_reply": "2021-08-04T17:02:09.649612Z",
     "shell.execute_reply.started": "2021-08-04T15:04:22.019267Z"
    },
    "papermill": {
     "duration": 0.357583,
     "end_time": "2021-08-04T17:02:09.650316",
     "exception": false,
     "start_time": "2021-08-04T17:02:09.292733",
     "status": "completed"
    },
    "tags": []
   },
   "outputs": [
    {
     "data": {
      "text/plain": [
       "<AxesSubplot:xlabel='Year'>"
      ]
     },
     "execution_count": 74,
     "metadata": {},
     "output_type": "execute_result"
    },
    {
     "data": {
      "image/png": "[encoded data removed]",
      "text/plain": [
       "<Figure size 432x288 with 1 Axes>"
      ]
     },
     "metadata": {
      "needs_background": "light"
     },
     "output_type": "display_data"
    }
   ],
   "source": [
    "data.groupby('Year')['UID'].count().sort_values(ascending=False).head(5).plot(kind='bar')"
   ]
  },
  {
   "cell_type": "markdown",
   "id": "3cf4d9bd",
   "metadata": {
    "papermill": {
     "duration": 0.159132,
     "end_time": "2021-08-04T17:02:09.969330",
     "exception": false,
     "start_time": "2021-08-04T17:02:09.810198",
     "status": "completed"
    },
    "tags": []
   },
   "source": [
    "#### 2015 was the year that records the most kill events"
   ]
  },
  {
   "cell_type": "code",
   "execution_count": 75,
   "id": "fc79d029",
   "metadata": {
    "execution": {
     "iopub.execute_input": "2021-08-04T17:02:10.294601Z",
     "iopub.status.busy": "2021-08-04T17:02:10.293833Z",
     "iopub.status.idle": "2021-08-04T17:02:10.317080Z",
     "shell.execute_reply": "2021-08-04T17:02:10.316512Z",
     "shell.execute_reply.started": "2021-08-04T15:04:22.215094Z"
    },
    "papermill": {
     "duration": 0.18847,
     "end_time": "2021-08-04T17:02:10.317226",
     "exception": false,
     "start_time": "2021-08-04T17:02:10.128756",
     "status": "completed"
    },
    "tags": []
   },
   "outputs": [
    {
     "data": {
      "text/html": [
       "<div>\n",
       "<style scoped>\n",
       "    .dataframe tbody tr th:only-of-type {\n",
       "        vertical-align: middle;\n",
       "    }\n",
       "\n",
       "    .dataframe tbody tr th {\n",
       "        vertical-align: top;\n",
       "    }\n",
       "\n",
       "    .dataframe thead th {\n",
       "        text-align: right;\n",
       "    }\n",
       "</style>\n",
       "<table border=\"1\" class=\"dataframe\">\n",
       "  <thead>\n",
       "    <tr style=\"text-align: right;\">\n",
       "      <th></th>\n",
       "      <th>UID</th>\n",
       "      <th>Name</th>\n",
       "      <th>Age</th>\n",
       "      <th>Gender</th>\n",
       "      <th>Race</th>\n",
       "      <th>Date</th>\n",
       "      <th>City</th>\n",
       "      <th>State</th>\n",
       "      <th>Manner_of_death</th>\n",
       "      <th>Armed</th>\n",
       "      <th>Mental_illness</th>\n",
       "      <th>Flee</th>\n",
       "      <th>Region</th>\n",
       "      <th>Year</th>\n",
       "      <th>Month</th>\n",
       "      <th>Quarter</th>\n",
       "      <th>Day</th>\n",
       "      <th>Week</th>\n",
       "      <th>Stages of Life</th>\n",
       "    </tr>\n",
       "  </thead>\n",
       "  <tbody>\n",
       "    <tr>\n",
       "      <th>103</th>\n",
       "      <td>9978</td>\n",
       "      <td>Tim Elliott</td>\n",
       "      <td>53</td>\n",
       "      <td>Male</td>\n",
       "      <td>Asian</td>\n",
       "      <td>1/2/2015</td>\n",
       "      <td>Shelton</td>\n",
       "      <td>Washington</td>\n",
       "      <td>Shot</td>\n",
       "      <td>UnKnown</td>\n",
       "      <td>True</td>\n",
       "      <td>False</td>\n",
       "      <td>west</td>\n",
       "      <td>2015</td>\n",
       "      <td>1</td>\n",
       "      <td>1</td>\n",
       "      <td>2</td>\n",
       "      <td>1</td>\n",
       "      <td>Middle Age Adult</td>\n",
       "    </tr>\n",
       "    <tr>\n",
       "      <th>104</th>\n",
       "      <td>10077</td>\n",
       "      <td>Hung Trieu</td>\n",
       "      <td>35</td>\n",
       "      <td>Male</td>\n",
       "      <td>Asian</td>\n",
       "      <td>2/1/2015</td>\n",
       "      <td>Houston</td>\n",
       "      <td>Texas</td>\n",
       "      <td>Shot</td>\n",
       "      <td>UnKnown</td>\n",
       "      <td>False</td>\n",
       "      <td>False</td>\n",
       "      <td>south</td>\n",
       "      <td>2015</td>\n",
       "      <td>2</td>\n",
       "      <td>1</td>\n",
       "      <td>1</td>\n",
       "      <td>5</td>\n",
       "      <td>Adult</td>\n",
       "    </tr>\n",
       "    <tr>\n",
       "      <th>105</th>\n",
       "      <td>10374</td>\n",
       "      <td>Lue Vang</td>\n",
       "      <td>39</td>\n",
       "      <td>Male</td>\n",
       "      <td>Asian</td>\n",
       "      <td>4/22/2015</td>\n",
       "      <td>Eldorado Springs</td>\n",
       "      <td>Colorado</td>\n",
       "      <td>Shot</td>\n",
       "      <td>UnKnown</td>\n",
       "      <td>False</td>\n",
       "      <td>False</td>\n",
       "      <td>west</td>\n",
       "      <td>2015</td>\n",
       "      <td>4</td>\n",
       "      <td>2</td>\n",
       "      <td>22</td>\n",
       "      <td>17</td>\n",
       "      <td>Adult</td>\n",
       "    </tr>\n",
       "    <tr>\n",
       "      <th>106</th>\n",
       "      <td>10421</td>\n",
       "      <td>Thong Kien Ma</td>\n",
       "      <td>32</td>\n",
       "      <td>Male</td>\n",
       "      <td>Asian</td>\n",
       "      <td>5/5/2015</td>\n",
       "      <td>South El Monte</td>\n",
       "      <td>California</td>\n",
       "      <td>Shot</td>\n",
       "      <td>UnKnown</td>\n",
       "      <td>False</td>\n",
       "      <td>False</td>\n",
       "      <td>west</td>\n",
       "      <td>2015</td>\n",
       "      <td>5</td>\n",
       "      <td>2</td>\n",
       "      <td>5</td>\n",
       "      <td>18</td>\n",
       "      <td>Adult</td>\n",
       "    </tr>\n",
       "    <tr>\n",
       "      <th>107</th>\n",
       "      <td>10628</td>\n",
       "      <td>Ton Nguyen</td>\n",
       "      <td>60</td>\n",
       "      <td>Male</td>\n",
       "      <td>Asian</td>\n",
       "      <td>7/2/2015</td>\n",
       "      <td>San Diego</td>\n",
       "      <td>California</td>\n",
       "      <td>Shot</td>\n",
       "      <td>UnKnown</td>\n",
       "      <td>False</td>\n",
       "      <td>False</td>\n",
       "      <td>west</td>\n",
       "      <td>2015</td>\n",
       "      <td>7</td>\n",
       "      <td>3</td>\n",
       "      <td>2</td>\n",
       "      <td>27</td>\n",
       "      <td>Senior Adult</td>\n",
       "    </tr>\n",
       "  </tbody>\n",
       "</table>\n",
       "</div>"
      ],
      "text/plain": [
       "       UID           Name  Age Gender   Race       Date              City  \\\n",
       "103   9978    Tim Elliott   53   Male  Asian   1/2/2015           Shelton   \n",
       "104  10077     Hung Trieu   35   Male  Asian   2/1/2015           Houston   \n",
       "105  10374       Lue Vang   39   Male  Asian  4/22/2015  Eldorado Springs   \n",
       "106  10421  Thong Kien Ma   32   Male  Asian   5/5/2015    South El Monte   \n",
       "107  10628     Ton Nguyen   60   Male  Asian   7/2/2015         San Diego   \n",
       "\n",
       "          State Manner_of_death    Armed  Mental_illness   Flee Region  Year  \\\n",
       "103  Washington            Shot  UnKnown            True  False   west  2015   \n",
       "104       Texas            Shot  UnKnown           False  False  south  2015   \n",
       "105    Colorado            Shot  UnKnown           False  False   west  2015   \n",
       "106  California            Shot  UnKnown           False  False   west  2015   \n",
       "107  California            Shot  UnKnown           False  False   west  2015   \n",
       "\n",
       "     Month  Quarter  Day Week    Stages of Life  \n",
       "103      1        1    2    1  Middle Age Adult  \n",
       "104      2        1    1    5             Adult  \n",
       "105      4        2   22   17             Adult  \n",
       "106      5        2    5   18             Adult  \n",
       "107      7        3    2   27      Senior Adult  "
      ]
     },
     "execution_count": 75,
     "metadata": {},
     "output_type": "execute_result"
    }
   ],
   "source": [
    "data[data['Year']=='2015'].head()"
   ]
  },
  {
   "cell_type": "code",
   "execution_count": 76,
   "id": "f7f9a1eb",
   "metadata": {
    "execution": {
     "iopub.execute_input": "2021-08-04T17:02:10.633252Z",
     "iopub.status.busy": "2021-08-04T17:02:10.632612Z",
     "iopub.status.idle": "2021-08-04T17:02:11.006586Z",
     "shell.execute_reply": "2021-08-04T17:02:11.007114Z",
     "shell.execute_reply.started": "2021-08-04T15:04:22.246879Z"
    },
    "papermill": {
     "duration": 0.533718,
     "end_time": "2021-08-04T17:02:11.007286",
     "exception": false,
     "start_time": "2021-08-04T17:02:10.473568",
     "status": "completed"
    },
    "tags": []
   },
   "outputs": [
    {
     "data": {
      "text/plain": [
       "<AxesSubplot:xlabel='Age', ylabel='Density'>"
      ]
     },
     "execution_count": 76,
     "metadata": {},
     "output_type": "execute_result"
    },
    {
     "data": {
      "image/png": "[encoded data removed]",
      "text/plain": [
       "<Figure size 432x288 with 1 Axes>"
      ]
     },
     "metadata": {
      "needs_background": "light"
     },
     "output_type": "display_data"
    }
   ],
   "source": [
    "Killed_2015=data[data['Year']=='2015']\n",
    "sns.distplot(Killed_2015['Age'])"
   ]
  },
  {
   "cell_type": "code",
   "execution_count": 77,
   "id": "2b88a3a9",
   "metadata": {
    "execution": {
     "iopub.execute_input": "2021-08-04T17:02:11.488761Z",
     "iopub.status.busy": "2021-08-04T17:02:11.481498Z",
     "iopub.status.idle": "2021-08-04T17:02:11.639413Z",
     "shell.execute_reply": "2021-08-04T17:02:11.639896Z",
     "shell.execute_reply.started": "2021-08-04T15:04:22.837107Z"
    },
    "papermill": {
     "duration": 0.473225,
     "end_time": "2021-08-04T17:02:11.640099",
     "exception": false,
     "start_time": "2021-08-04T17:02:11.166874",
     "status": "completed"
    },
    "tags": []
   },
   "outputs": [
    {
     "data": {
      "text/plain": [
       "<AxesSubplot:xlabel='Race', ylabel='Count'>"
      ]
     },
     "execution_count": 77,
     "metadata": {},
     "output_type": "execute_result"
    },
    {
     "data": {
      "image/png": "[encoded data removed]",
      "text/plain": [
       "<Figure size 432x288 with 1 Axes>"
      ]
     },
     "metadata": {
      "needs_background": "light"
     },
     "output_type": "display_data"
    }
   ],
   "source": [
    "sns.histplot(Killed_2015['Race'])"
   ]
  },
  {
   "cell_type": "markdown",
   "id": "e3394b41",
   "metadata": {
    "papermill": {
     "duration": 0.164147,
     "end_time": "2021-08-04T17:02:11.969764",
     "exception": false,
     "start_time": "2021-08-04T17:02:11.805617",
     "status": "completed"
    },
    "tags": []
   },
   "source": [
    "#### most of those who killed in 2015 where of the white race"
   ]
  },
  {
   "cell_type": "code",
   "execution_count": 78,
   "id": "086e7198",
   "metadata": {
    "execution": {
     "iopub.execute_input": "2021-08-04T17:02:12.298143Z",
     "iopub.status.busy": "2021-08-04T17:02:12.297129Z",
     "iopub.status.idle": "2021-08-04T17:02:12.492686Z",
     "shell.execute_reply": "2021-08-04T17:02:12.492019Z",
     "shell.execute_reply.started": "2021-08-04T15:04:23.029366Z"
    },
    "papermill": {
     "duration": 0.362809,
     "end_time": "2021-08-04T17:02:12.492852",
     "exception": false,
     "start_time": "2021-08-04T17:02:12.130043",
     "status": "completed"
    },
    "tags": []
   },
   "outputs": [
    {
     "data": {
      "text/plain": [
       "<AxesSubplot:xlabel='Month', ylabel='Count'>"
      ]
     },
     "execution_count": 78,
     "metadata": {},
     "output_type": "execute_result"
    },
    {
     "data": {
      "image/png": "[encoded data removed]",
      "text/plain": [
       "<Figure size 432x288 with 1 Axes>"
      ]
     },
     "metadata": {
      "needs_background": "light"
     },
     "output_type": "display_data"
    }
   ],
   "source": [
    "sns.histplot(Killed_2015['Month'])"
   ]
  },
  {
   "cell_type": "markdown",
   "id": "1b4444c6",
   "metadata": {
    "papermill": {
     "duration": 0.162304,
     "end_time": "2021-08-04T17:02:12.820232",
     "exception": false,
     "start_time": "2021-08-04T17:02:12.657928",
     "status": "completed"
    },
    "tags": []
   },
   "source": [
    "#### most of those who killed in 2015 where killed in July"
   ]
  },
  {
   "cell_type": "code",
   "execution_count": 79,
   "id": "bc82e5ee",
   "metadata": {
    "execution": {
     "iopub.execute_input": "2021-08-04T17:02:13.175737Z",
     "iopub.status.busy": "2021-08-04T17:02:13.150681Z",
     "iopub.status.idle": "2021-08-04T17:02:13.371372Z",
     "shell.execute_reply": "2021-08-04T17:02:13.371820Z",
     "shell.execute_reply.started": "2021-08-04T15:04:23.230272Z"
    },
    "papermill": {
     "duration": 0.390278,
     "end_time": "2021-08-04T17:02:13.372000",
     "exception": false,
     "start_time": "2021-08-04T17:02:12.981722",
     "status": "completed"
    },
    "tags": []
   },
   "outputs": [
    {
     "data": {
      "text/plain": [
       "<AxesSubplot:xlabel='Quarter', ylabel='Count'>"
      ]
     },
     "execution_count": 79,
     "metadata": {},
     "output_type": "execute_result"
    },
    {
     "data": {
      "image/png": "[encoded data removed]",
      "text/plain": [
       "<Figure size 432x288 with 1 Axes>"
      ]
     },
     "metadata": {
      "needs_background": "light"
     },
     "output_type": "display_data"
    }
   ],
   "source": [
    "sns.histplot(Killed_2015['Quarter'])"
   ]
  },
  {
   "cell_type": "markdown",
   "id": "bfadf6bf",
   "metadata": {
    "papermill": {
     "duration": 0.162967,
     "end_time": "2021-08-04T17:02:13.698991",
     "exception": false,
     "start_time": "2021-08-04T17:02:13.536024",
     "status": "completed"
    },
    "tags": []
   },
   "source": [
    "#### most of those who killed in 2015 where killed in 3rd Quarter"
   ]
  },
  {
   "cell_type": "code",
   "execution_count": 80,
   "id": "2f3cb89f",
   "metadata": {
    "execution": {
     "iopub.execute_input": "2021-08-04T17:02:14.034236Z",
     "iopub.status.busy": "2021-08-04T17:02:14.033262Z",
     "iopub.status.idle": "2021-08-04T17:02:14.037918Z",
     "shell.execute_reply": "2021-08-04T17:02:14.037432Z",
     "shell.execute_reply.started": "2021-08-04T15:04:23.461734Z"
    },
    "papermill": {
     "duration": 0.175415,
     "end_time": "2021-08-04T17:02:14.038085",
     "exception": false,
     "start_time": "2021-08-04T17:02:13.862670",
     "status": "completed"
    },
    "tags": []
   },
   "outputs": [
    {
     "data": {
      "text/plain": [
       "Week\n",
       "27    64\n",
       "12    53\n",
       "22    53\n",
       "41    53\n",
       "29    52\n",
       "Name: UID, dtype: int64"
      ]
     },
     "execution_count": 80,
     "metadata": {},
     "output_type": "execute_result"
    }
   ],
   "source": [
    "Killed_2015.groupby('Week')['UID'].count().sort_values(ascending=False).head(5)\n"
   ]
  },
  {
   "cell_type": "code",
   "execution_count": 81,
   "id": "e4cd8c4c",
   "metadata": {
    "execution": {
     "iopub.execute_input": "2021-08-04T17:02:14.382929Z",
     "iopub.status.busy": "2021-08-04T17:02:14.379139Z",
     "iopub.status.idle": "2021-08-04T17:02:14.559034Z",
     "shell.execute_reply": "2021-08-04T17:02:14.558446Z",
     "shell.execute_reply.started": "2021-08-04T15:04:23.473664Z"
    },
    "papermill": {
     "duration": 0.357806,
     "end_time": "2021-08-04T17:02:14.559197",
     "exception": false,
     "start_time": "2021-08-04T17:02:14.201391",
     "status": "completed"
    },
    "tags": []
   },
   "outputs": [
    {
     "data": {
      "text/plain": [
       "<AxesSubplot:xlabel='Week'>"
      ]
     },
     "execution_count": 81,
     "metadata": {},
     "output_type": "execute_result"
    },
    {
     "data": {
      "image/png": "[encoded data removed]",
      "text/plain": [
       "<Figure size 432x288 with 1 Axes>"
      ]
     },
     "metadata": {
      "needs_background": "light"
     },
     "output_type": "display_data"
    }
   ],
   "source": [
    "Killed_2015.groupby('Week')['UID'].count().sort_values(ascending=False).head(5).plot(kind='bar')"
   ]
  },
  {
   "cell_type": "code",
   "execution_count": 82,
   "id": "37b71df3",
   "metadata": {
    "execution": {
     "iopub.execute_input": "2021-08-04T17:02:14.949390Z",
     "iopub.status.busy": "2021-08-04T17:02:14.946227Z",
     "iopub.status.idle": "2021-08-04T17:02:14.955922Z",
     "shell.execute_reply": "2021-08-04T17:02:14.956428Z",
     "shell.execute_reply.started": "2021-08-04T15:04:23.635480Z"
    },
    "papermill": {
     "duration": 0.212097,
     "end_time": "2021-08-04T17:02:14.956629",
     "exception": false,
     "start_time": "2021-08-04T17:02:14.744532",
     "status": "completed"
    },
    "tags": []
   },
   "outputs": [
    {
     "data": {
      "text/plain": [
       "Month\n",
       "7     221\n",
       "3     198\n",
       "8     197\n",
       "12    187\n",
       "4     180\n",
       "Name: UID, dtype: int64"
      ]
     },
     "execution_count": 82,
     "metadata": {},
     "output_type": "execute_result"
    }
   ],
   "source": [
    "Killed_2015.groupby('Month')['UID'].count().sort_values(ascending=False).head(5)"
   ]
  },
  {
   "cell_type": "code",
   "execution_count": 83,
   "id": "2a92dbff",
   "metadata": {
    "execution": {
     "iopub.execute_input": "2021-08-04T17:02:15.301506Z",
     "iopub.status.busy": "2021-08-04T17:02:15.300814Z",
     "iopub.status.idle": "2021-08-04T17:02:15.440579Z",
     "shell.execute_reply": "2021-08-04T17:02:15.441208Z",
     "shell.execute_reply.started": "2021-08-04T15:04:23.647537Z"
    },
    "papermill": {
     "duration": 0.313796,
     "end_time": "2021-08-04T17:02:15.441396",
     "exception": false,
     "start_time": "2021-08-04T17:02:15.127600",
     "status": "completed"
    },
    "tags": []
   },
   "outputs": [
    {
     "data": {
      "text/plain": [
       "<AxesSubplot:xlabel='Month'>"
      ]
     },
     "execution_count": 83,
     "metadata": {},
     "output_type": "execute_result"
    },
    {
     "data": {
      "image/png": "[encoded data removed]",
      "text/plain": [
       "<Figure size 432x288 with 1 Axes>"
      ]
     },
     "metadata": {
      "needs_background": "light"
     },
     "output_type": "display_data"
    }
   ],
   "source": [
    "Killed_2015.groupby('Month')['UID'].count().sort_values(ascending=False).head(5).plot(kind='bar')"
   ]
  },
  {
   "cell_type": "code",
   "execution_count": 84,
   "id": "8b263516",
   "metadata": {
    "execution": {
     "iopub.execute_input": "2021-08-04T17:02:15.789645Z",
     "iopub.status.busy": "2021-08-04T17:02:15.788935Z",
     "iopub.status.idle": "2021-08-04T17:02:15.794310Z",
     "shell.execute_reply": "2021-08-04T17:02:15.794902Z",
     "shell.execute_reply.started": "2021-08-04T15:04:23.802159Z"
    },
    "papermill": {
     "duration": 0.183984,
     "end_time": "2021-08-04T17:02:15.795105",
     "exception": false,
     "start_time": "2021-08-04T17:02:15.611121",
     "status": "completed"
    },
    "tags": []
   },
   "outputs": [
    {
     "data": {
      "text/plain": [
       "Quarter\n",
       "3    590\n",
       "1    526\n",
       "4    519\n",
       "2    485\n",
       "Name: UID, dtype: int64"
      ]
     },
     "execution_count": 84,
     "metadata": {},
     "output_type": "execute_result"
    }
   ],
   "source": [
    "Killed_2015.groupby('Quarter')['UID'].count().sort_values(ascending=False).head(5)"
   ]
  },
  {
   "cell_type": "code",
   "execution_count": 85,
   "id": "28bf2c68",
   "metadata": {
    "execution": {
     "iopub.execute_input": "2021-08-04T17:02:16.135913Z",
     "iopub.status.busy": "2021-08-04T17:02:16.135233Z",
     "iopub.status.idle": "2021-08-04T17:02:16.283686Z",
     "shell.execute_reply": "2021-08-04T17:02:16.284234Z",
     "shell.execute_reply.started": "2021-08-04T15:04:23.815073Z"
    },
    "papermill": {
     "duration": 0.323987,
     "end_time": "2021-08-04T17:02:16.284414",
     "exception": false,
     "start_time": "2021-08-04T17:02:15.960427",
     "status": "completed"
    },
    "tags": []
   },
   "outputs": [
    {
     "data": {
      "text/plain": [
       "<AxesSubplot:xlabel='Quarter'>"
      ]
     },
     "execution_count": 85,
     "metadata": {},
     "output_type": "execute_result"
    },
    {
     "data": {
      "image/png": "[encoded data removed]",
      "text/plain": [
       "<Figure size 432x288 with 1 Axes>"
      ]
     },
     "metadata": {
      "needs_background": "light"
     },
     "output_type": "display_data"
    }
   ],
   "source": [
    "Killed_2015.groupby('Quarter')['UID'].count().sort_values(ascending=False).head(5).plot(kind='bar')"
   ]
  },
  {
   "cell_type": "code",
   "execution_count": 86,
   "id": "afd7604f",
   "metadata": {
    "execution": {
     "iopub.execute_input": "2021-08-04T17:02:16.625013Z",
     "iopub.status.busy": "2021-08-04T17:02:16.624352Z",
     "iopub.status.idle": "2021-08-04T17:02:16.632318Z",
     "shell.execute_reply": "2021-08-04T17:02:16.632809Z",
     "shell.execute_reply.started": "2021-08-04T15:04:23.986939Z"
    },
    "papermill": {
     "duration": 0.179089,
     "end_time": "2021-08-04T17:02:16.632982",
     "exception": false,
     "start_time": "2021-08-04T17:02:16.453893",
     "status": "completed"
    },
    "tags": []
   },
   "outputs": [
    {
     "data": {
      "text/plain": [
       "Day\n",
       "17    94\n",
       "21    93\n",
       "9     85\n",
       "15    85\n",
       "22    81\n",
       "Name: UID, dtype: int64"
      ]
     },
     "execution_count": 86,
     "metadata": {},
     "output_type": "execute_result"
    }
   ],
   "source": [
    "Killed_2015.groupby('Day')['UID'].count().sort_values(ascending=False).head(5)"
   ]
  },
  {
   "cell_type": "code",
   "execution_count": 87,
   "id": "29d890e3",
   "metadata": {
    "execution": {
     "iopub.execute_input": "2021-08-04T17:02:16.997471Z",
     "iopub.status.busy": "2021-08-04T17:02:16.975950Z",
     "iopub.status.idle": "2021-08-04T17:02:17.120820Z",
     "shell.execute_reply": "2021-08-04T17:02:17.120159Z",
     "shell.execute_reply.started": "2021-08-04T15:04:24.000490Z"
    },
    "papermill": {
     "duration": 0.319546,
     "end_time": "2021-08-04T17:02:17.120957",
     "exception": false,
     "start_time": "2021-08-04T17:02:16.801411",
     "status": "completed"
    },
    "tags": []
   },
   "outputs": [
    {
     "data": {
      "text/plain": [
       "<AxesSubplot:xlabel='Day'>"
      ]
     },
     "execution_count": 87,
     "metadata": {},
     "output_type": "execute_result"
    },
    {
     "data": {
      "image/png": "[encoded data removed]",
      "text/plain": [
       "<Figure size 432x288 with 1 Axes>"
      ]
     },
     "metadata": {
      "needs_background": "light"
     },
     "output_type": "display_data"
    }
   ],
   "source": [
    "Killed_2015.groupby('Day')['UID'].count().sort_values(ascending=False).head(5).plot(kind='bar')"
   ]
  },
  {
   "cell_type": "code",
   "execution_count": 88,
   "id": "1ef46274",
   "metadata": {
    "execution": {
     "iopub.execute_input": "2021-08-04T17:02:17.469482Z",
     "iopub.status.busy": "2021-08-04T17:02:17.468791Z",
     "iopub.status.idle": "2021-08-04T17:02:17.475193Z",
     "shell.execute_reply": "2021-08-04T17:02:17.475730Z",
     "shell.execute_reply.started": "2021-08-04T15:04:24.164813Z"
    },
    "papermill": {
     "duration": 0.185889,
     "end_time": "2021-08-04T17:02:17.475910",
     "exception": false,
     "start_time": "2021-08-04T17:02:17.290021",
     "status": "completed"
    },
    "tags": []
   },
   "outputs": [
    {
     "data": {
      "text/plain": [
       "Age\n",
       "35    97\n",
       "31    78\n",
       "24    78\n",
       "28    75\n",
       "29    73\n",
       "Name: UID, dtype: int64"
      ]
     },
     "execution_count": 88,
     "metadata": {},
     "output_type": "execute_result"
    }
   ],
   "source": [
    "Killed_2015.groupby('Age')['UID'].count().sort_values(ascending=False).head(5)"
   ]
  },
  {
   "cell_type": "code",
   "execution_count": 89,
   "id": "641c87f8",
   "metadata": {
    "execution": {
     "iopub.execute_input": "2021-08-04T17:02:17.816533Z",
     "iopub.status.busy": "2021-08-04T17:02:17.815855Z",
     "iopub.status.idle": "2021-08-04T17:02:17.931905Z",
     "shell.execute_reply": "2021-08-04T17:02:17.932400Z",
     "shell.execute_reply.started": "2021-08-04T15:04:24.180955Z"
    },
    "papermill": {
     "duration": 0.287809,
     "end_time": "2021-08-04T17:02:17.932592",
     "exception": false,
     "start_time": "2021-08-04T17:02:17.644783",
     "status": "completed"
    },
    "tags": []
   },
   "outputs": [
    {
     "data": {
      "text/plain": [
       "<AxesSubplot:ylabel='UID'>"
      ]
     },
     "execution_count": 89,
     "metadata": {},
     "output_type": "execute_result"
    },
    {
     "data": {
      "image/png": "[encoded data removed]",
      "text/plain": [
       "<Figure size 432x288 with 1 Axes>"
      ]
     },
     "metadata": {},
     "output_type": "display_data"
    }
   ],
   "source": [
    "Killed_2015.groupby('Age')['UID'].count().sort_values(ascending=False).head(5).plot(kind='pie')"
   ]
  },
  {
   "cell_type": "code",
   "execution_count": 90,
   "id": "55b50bef",
   "metadata": {
    "execution": {
     "iopub.execute_input": "2021-08-04T17:02:18.279388Z",
     "iopub.status.busy": "2021-08-04T17:02:18.278320Z",
     "iopub.status.idle": "2021-08-04T17:02:18.286930Z",
     "shell.execute_reply": "2021-08-04T17:02:18.286309Z",
     "shell.execute_reply.started": "2021-08-04T15:04:24.312977Z"
    },
    "papermill": {
     "duration": 0.185151,
     "end_time": "2021-08-04T17:02:18.287090",
     "exception": false,
     "start_time": "2021-08-04T17:02:18.101939",
     "status": "completed"
    },
    "tags": []
   },
   "outputs": [
    {
     "data": {
      "text/plain": [
       "Date\n",
       "10/24/2015    16\n",
       "12/14/2015    16\n",
       "5/17/2015     16\n",
       "7/7/2015      15\n",
       "12/21/2015    15\n",
       "Name: UID, dtype: int64"
      ]
     },
     "execution_count": 90,
     "metadata": {},
     "output_type": "execute_result"
    }
   ],
   "source": [
    "Killed_2015.groupby('Date')['UID'].count().sort_values(ascending=False).head(5)"
   ]
  },
  {
   "cell_type": "code",
   "execution_count": 91,
   "id": "e923bd3d",
   "metadata": {
    "execution": {
     "iopub.execute_input": "2021-08-04T17:02:18.634992Z",
     "iopub.status.busy": "2021-08-04T17:02:18.634277Z",
     "iopub.status.idle": "2021-08-04T17:02:18.643222Z",
     "shell.execute_reply": "2021-08-04T17:02:18.642623Z",
     "shell.execute_reply.started": "2021-08-04T15:04:24.327686Z"
    },
    "papermill": {
     "duration": 0.18189,
     "end_time": "2021-08-04T17:02:18.643363",
     "exception": false,
     "start_time": "2021-08-04T17:02:18.461473",
     "status": "completed"
    },
    "tags": []
   },
   "outputs": [
    {
     "data": {
      "text/plain": [
       "Gender\n",
       "Male      2030\n",
       "Female      90\n",
       "Name: UID, dtype: int64"
      ]
     },
     "execution_count": 91,
     "metadata": {},
     "output_type": "execute_result"
    }
   ],
   "source": [
    "Killed_2015.groupby('Gender')['UID'].count().sort_values(ascending=False).head(5)"
   ]
  },
  {
   "cell_type": "code",
   "execution_count": 92,
   "id": "6ea2b530",
   "metadata": {
    "execution": {
     "iopub.execute_input": "2021-08-04T17:02:18.992537Z",
     "iopub.status.busy": "2021-08-04T17:02:18.991760Z",
     "iopub.status.idle": "2021-08-04T17:02:19.095216Z",
     "shell.execute_reply": "2021-08-04T17:02:19.095887Z",
     "shell.execute_reply.started": "2021-08-04T15:04:24.341725Z"
    },
    "papermill": {
     "duration": 0.27741,
     "end_time": "2021-08-04T17:02:19.096108",
     "exception": false,
     "start_time": "2021-08-04T17:02:18.818698",
     "status": "completed"
    },
    "tags": []
   },
   "outputs": [
    {
     "data": {
      "text/plain": [
       "<AxesSubplot:ylabel='UID'>"
      ]
     },
     "execution_count": 92,
     "metadata": {},
     "output_type": "execute_result"
    },
    {
     "data": {
      "image/png": "[encoded data removed]",
      "text/plain": [
       "<Figure size 432x288 with 1 Axes>"
      ]
     },
     "metadata": {},
     "output_type": "display_data"
    }
   ],
   "source": [
    "Killed_2015.groupby('Gender')['UID'].count().sort_values(ascending=False).head(5).plot(kind='pie')"
   ]
  },
  {
   "cell_type": "code",
   "execution_count": 93,
   "id": "12b31a05",
   "metadata": {
    "execution": {
     "iopub.execute_input": "2021-08-04T17:02:19.495226Z",
     "iopub.status.busy": "2021-08-04T17:02:19.494413Z",
     "iopub.status.idle": "2021-08-04T17:02:19.503626Z",
     "shell.execute_reply": "2021-08-04T17:02:19.503045Z",
     "shell.execute_reply.started": "2021-08-04T15:04:24.453554Z"
    },
    "papermill": {
     "duration": 0.213261,
     "end_time": "2021-08-04T17:02:19.503777",
     "exception": false,
     "start_time": "2021-08-04T17:02:19.290516",
     "status": "completed"
    },
    "tags": []
   },
   "outputs": [
    {
     "data": {
      "text/plain": [
       "Day\n",
       "17    94\n",
       "21    93\n",
       "9     85\n",
       "15    85\n",
       "22    81\n",
       "Name: UID, dtype: int64"
      ]
     },
     "execution_count": 93,
     "metadata": {},
     "output_type": "execute_result"
    }
   ],
   "source": [
    "Killed_2015.groupby('Day')['UID'].count().sort_values(ascending=False).head(5)"
   ]
  },
  {
   "cell_type": "code",
   "execution_count": 94,
   "id": "81246518",
   "metadata": {
    "execution": {
     "iopub.execute_input": "2021-08-04T17:02:19.861966Z",
     "iopub.status.busy": "2021-08-04T17:02:19.860915Z",
     "iopub.status.idle": "2021-08-04T17:02:20.010717Z",
     "shell.execute_reply": "2021-08-04T17:02:20.009989Z",
     "shell.execute_reply.started": "2021-08-04T15:04:24.465905Z"
    },
    "papermill": {
     "duration": 0.33186,
     "end_time": "2021-08-04T17:02:20.010861",
     "exception": false,
     "start_time": "2021-08-04T17:02:19.679001",
     "status": "completed"
    },
    "tags": []
   },
   "outputs": [
    {
     "data": {
      "text/plain": [
       "<AxesSubplot:ylabel='Day'>"
      ]
     },
     "execution_count": 94,
     "metadata": {},
     "output_type": "execute_result"
    },
    {
     "data": {
      "image/png": "[encoded data removed]",
      "text/plain": [
       "<Figure size 432x288 with 1 Axes>"
      ]
     },
     "metadata": {
      "needs_background": "light"
     },
     "output_type": "display_data"
    }
   ],
   "source": [
    "Killed_2015.groupby('Day')['UID'].count().sort_values(ascending=False).head(5).plot(kind='barh')"
   ]
  },
  {
   "cell_type": "code",
   "execution_count": 95,
   "id": "d7661745",
   "metadata": {
    "execution": {
     "iopub.execute_input": "2021-08-04T17:02:20.375340Z",
     "iopub.status.busy": "2021-08-04T17:02:20.371907Z",
     "iopub.status.idle": "2021-08-04T17:02:20.378980Z",
     "shell.execute_reply": "2021-08-04T17:02:20.379504Z",
     "shell.execute_reply.started": "2021-08-04T15:04:24.619705Z"
    },
    "papermill": {
     "duration": 0.190809,
     "end_time": "2021-08-04T17:02:20.379675",
     "exception": false,
     "start_time": "2021-08-04T17:02:20.188866",
     "status": "completed"
    },
    "tags": []
   },
   "outputs": [
    {
     "data": {
      "text/plain": [
       "Race\n",
       "White       974\n",
       "Black       526\n",
       "Hispanic    338\n",
       "UnKnown     220\n",
       "Asian        26\n",
       "Name: UID, dtype: int64"
      ]
     },
     "execution_count": 95,
     "metadata": {},
     "output_type": "execute_result"
    }
   ],
   "source": [
    "Killed_2015.groupby('Race')['UID'].count().sort_values(ascending=False).head(5)"
   ]
  },
  {
   "cell_type": "code",
   "execution_count": 96,
   "id": "5f48cc7e",
   "metadata": {
    "execution": {
     "iopub.execute_input": "2021-08-04T17:02:20.732606Z",
     "iopub.status.busy": "2021-08-04T17:02:20.731633Z",
     "iopub.status.idle": "2021-08-04T17:02:20.832527Z",
     "shell.execute_reply": "2021-08-04T17:02:20.831982Z",
     "shell.execute_reply.started": "2021-08-04T15:04:24.631093Z"
    },
    "papermill": {
     "duration": 0.279498,
     "end_time": "2021-08-04T17:02:20.832677",
     "exception": false,
     "start_time": "2021-08-04T17:02:20.553179",
     "status": "completed"
    },
    "tags": []
   },
   "outputs": [
    {
     "data": {
      "text/plain": [
       "<AxesSubplot:ylabel='UID'>"
      ]
     },
     "execution_count": 96,
     "metadata": {},
     "output_type": "execute_result"
    },
    {
     "data": {
      "image/png": "[encoded data removed]",
      "text/plain": [
       "<Figure size 432x288 with 1 Axes>"
      ]
     },
     "metadata": {},
     "output_type": "display_data"
    }
   ],
   "source": [
    "Killed_2015.groupby('Race')['UID'].count().sort_values(ascending=False).head(4).plot(kind='pie')"
   ]
  },
  {
   "cell_type": "code",
   "execution_count": 97,
   "id": "d24bdfce",
   "metadata": {
    "execution": {
     "iopub.execute_input": "2021-08-04T17:02:21.192414Z",
     "iopub.status.busy": "2021-08-04T17:02:21.191593Z",
     "iopub.status.idle": "2021-08-04T17:02:21.198546Z",
     "shell.execute_reply": "2021-08-04T17:02:21.199022Z",
     "shell.execute_reply.started": "2021-08-04T15:04:24.745198Z"
    },
    "papermill": {
     "duration": 0.188918,
     "end_time": "2021-08-04T17:02:21.199213",
     "exception": false,
     "start_time": "2021-08-04T17:02:21.010295",
     "status": "completed"
    },
    "tags": []
   },
   "outputs": [
    {
     "data": {
      "text/plain": [
       "City\n",
       "Los Angeles    34\n",
       "Houston        28\n",
       "Las Vegas      23\n",
       "Miami          19\n",
       "Phoenix        18\n",
       "Name: UID, dtype: int64"
      ]
     },
     "execution_count": 97,
     "metadata": {},
     "output_type": "execute_result"
    }
   ],
   "source": [
    "Killed_2015.groupby('City')['UID'].count().sort_values(ascending=False).head(5)"
   ]
  },
  {
   "cell_type": "code",
   "execution_count": 98,
   "id": "7c33f6f8",
   "metadata": {
    "execution": {
     "iopub.execute_input": "2021-08-04T17:02:21.555107Z",
     "iopub.status.busy": "2021-08-04T17:02:21.553862Z",
     "iopub.status.idle": "2021-08-04T17:02:21.667179Z",
     "shell.execute_reply": "2021-08-04T17:02:21.667656Z",
     "shell.execute_reply.started": "2021-08-04T15:04:24.758192Z"
    },
    "papermill": {
     "duration": 0.291771,
     "end_time": "2021-08-04T17:02:21.667844",
     "exception": false,
     "start_time": "2021-08-04T17:02:21.376073",
     "status": "completed"
    },
    "tags": []
   },
   "outputs": [
    {
     "data": {
      "text/plain": [
       "<AxesSubplot:ylabel='UID'>"
      ]
     },
     "execution_count": 98,
     "metadata": {},
     "output_type": "execute_result"
    },
    {
     "data": {
      "image/png": "[encoded data removed]",
      "text/plain": [
       "<Figure size 432x288 with 1 Axes>"
      ]
     },
     "metadata": {},
     "output_type": "display_data"
    }
   ],
   "source": [
    "Killed_2015.groupby('City')['UID'].count().sort_values(ascending=False).head(5).plot(kind='pie')"
   ]
  },
  {
   "cell_type": "code",
   "execution_count": 99,
   "id": "68cc416c",
   "metadata": {
    "execution": {
     "iopub.execute_input": "2021-08-04T17:02:22.030037Z",
     "iopub.status.busy": "2021-08-04T17:02:22.028920Z",
     "iopub.status.idle": "2021-08-04T17:02:22.037941Z",
     "shell.execute_reply": "2021-08-04T17:02:22.038489Z",
     "shell.execute_reply.started": "2021-08-04T15:04:24.876318Z"
    },
    "papermill": {
     "duration": 0.193712,
     "end_time": "2021-08-04T17:02:22.038688",
     "exception": false,
     "start_time": "2021-08-04T17:02:21.844976",
     "status": "completed"
    },
    "tags": []
   },
   "outputs": [
    {
     "data": {
      "text/plain": [
       "State\n",
       "California    389\n",
       "Texas         222\n",
       "Florida       129\n",
       "Wyoming       101\n",
       "Arizona        86\n",
       "Name: UID, dtype: int64"
      ]
     },
     "execution_count": 99,
     "metadata": {},
     "output_type": "execute_result"
    }
   ],
   "source": [
    "Killed_2015.groupby('State')['UID'].count().sort_values(ascending=False).head(5)"
   ]
  },
  {
   "cell_type": "code",
   "execution_count": 100,
   "id": "9a9c7fab",
   "metadata": {
    "execution": {
     "iopub.execute_input": "2021-08-04T17:02:22.407248Z",
     "iopub.status.busy": "2021-08-04T17:02:22.406528Z",
     "iopub.status.idle": "2021-08-04T17:02:22.580842Z",
     "shell.execute_reply": "2021-08-04T17:02:22.581442Z",
     "shell.execute_reply.started": "2021-08-04T15:04:24.889627Z"
    },
    "papermill": {
     "duration": 0.358421,
     "end_time": "2021-08-04T17:02:22.581628",
     "exception": false,
     "start_time": "2021-08-04T17:02:22.223207",
     "status": "completed"
    },
    "tags": []
   },
   "outputs": [
    {
     "data": {
      "text/plain": [
       "<AxesSubplot:xlabel='State'>"
      ]
     },
     "execution_count": 100,
     "metadata": {},
     "output_type": "execute_result"
    },
    {
     "data": {
      "image/png": "[encoded data removed]",
      "text/plain": [
       "<Figure size 432x288 with 1 Axes>"
      ]
     },
     "metadata": {
      "needs_background": "light"
     },
     "output_type": "display_data"
    }
   ],
   "source": [
    "Killed_2015.groupby('State')['UID'].count().sort_values(ascending=False).head(5).plot(kind='bar')"
   ]
  },
  {
   "cell_type": "code",
   "execution_count": 101,
   "id": "375db8d9",
   "metadata": {
    "execution": {
     "iopub.execute_input": "2021-08-04T17:02:22.950205Z",
     "iopub.status.busy": "2021-08-04T17:02:22.949449Z",
     "iopub.status.idle": "2021-08-04T17:02:22.959332Z",
     "shell.execute_reply": "2021-08-04T17:02:22.958592Z",
     "shell.execute_reply.started": "2021-08-04T15:04:25.085116Z"
    },
    "papermill": {
     "duration": 0.198734,
     "end_time": "2021-08-04T17:02:22.959497",
     "exception": false,
     "start_time": "2021-08-04T17:02:22.760763",
     "status": "completed"
    },
    "tags": []
   },
   "outputs": [
    {
     "data": {
      "text/plain": [
       "Manner_of_death\n",
       "Shot                1993\n",
       "Shot and Tasered      68\n",
       "Tasered               58\n",
       "Other                  1\n",
       "Name: UID, dtype: int64"
      ]
     },
     "execution_count": 101,
     "metadata": {},
     "output_type": "execute_result"
    }
   ],
   "source": [
    "Killed_2015.groupby('Manner_of_death')['UID'].count().sort_values(ascending=False).head(5)"
   ]
  },
  {
   "cell_type": "code",
   "execution_count": 102,
   "id": "313ca4a9",
   "metadata": {
    "execution": {
     "iopub.execute_input": "2021-08-04T17:02:23.334743Z",
     "iopub.status.busy": "2021-08-04T17:02:23.334038Z",
     "iopub.status.idle": "2021-08-04T17:02:23.501153Z",
     "shell.execute_reply": "2021-08-04T17:02:23.501684Z",
     "shell.execute_reply.started": "2021-08-04T15:04:25.099255Z"
    },
    "papermill": {
     "duration": 0.356312,
     "end_time": "2021-08-04T17:02:23.501864",
     "exception": false,
     "start_time": "2021-08-04T17:02:23.145552",
     "status": "completed"
    },
    "tags": []
   },
   "outputs": [
    {
     "data": {
      "text/plain": [
       "<AxesSubplot:ylabel='Manner_of_death'>"
      ]
     },
     "execution_count": 102,
     "metadata": {},
     "output_type": "execute_result"
    },
    {
     "data": {
      "image/png": "[encoded data removed]",
      "text/plain": [
       "<Figure size 432x288 with 1 Axes>"
      ]
     },
     "metadata": {
      "needs_background": "light"
     },
     "output_type": "display_data"
    }
   ],
   "source": [
    "Killed_2015.groupby('Manner_of_death')['UID'].count().sort_values(ascending=False).head(5).plot(kind='barh')"
   ]
  },
  {
   "cell_type": "code",
   "execution_count": 103,
   "id": "58fa69c6",
   "metadata": {
    "execution": {
     "iopub.execute_input": "2021-08-04T17:02:23.868634Z",
     "iopub.status.busy": "2021-08-04T17:02:23.867967Z",
     "iopub.status.idle": "2021-08-04T17:02:23.876734Z",
     "shell.execute_reply": "2021-08-04T17:02:23.877271Z",
     "shell.execute_reply.started": "2021-08-04T15:04:25.292851Z"
    },
    "papermill": {
     "duration": 0.19386,
     "end_time": "2021-08-04T17:02:23.877444",
     "exception": false,
     "start_time": "2021-08-04T17:02:23.683584",
     "status": "completed"
    },
    "tags": []
   },
   "outputs": [
    {
     "data": {
      "text/plain": [
       "Armed\n",
       "Gun        996\n",
       "UnKnown    593\n",
       "Knife      261\n",
       "Unarmed    106\n",
       "Vehicle     55\n",
       "Name: UID, dtype: int64"
      ]
     },
     "execution_count": 103,
     "metadata": {},
     "output_type": "execute_result"
    }
   ],
   "source": [
    "Killed_2015.groupby('Armed')['UID'].count().sort_values(ascending=False).head(5)"
   ]
  },
  {
   "cell_type": "code",
   "execution_count": 104,
   "id": "4e0605b2",
   "metadata": {
    "execution": {
     "iopub.execute_input": "2021-08-04T17:02:24.239820Z",
     "iopub.status.busy": "2021-08-04T17:02:24.239089Z",
     "iopub.status.idle": "2021-08-04T17:02:24.399732Z",
     "shell.execute_reply": "2021-08-04T17:02:24.400248Z",
     "shell.execute_reply.started": "2021-08-04T15:04:25.307996Z"
    },
    "papermill": {
     "duration": 0.343039,
     "end_time": "2021-08-04T17:02:24.400457",
     "exception": false,
     "start_time": "2021-08-04T17:02:24.057418",
     "status": "completed"
    },
    "tags": []
   },
   "outputs": [
    {
     "data": {
      "text/plain": [
       "<AxesSubplot:xlabel='Armed'>"
      ]
     },
     "execution_count": 104,
     "metadata": {},
     "output_type": "execute_result"
    },
    {
     "data": {
      "image/png": "[encoded data removed]",
      "text/plain": [
       "<Figure size 432x288 with 1 Axes>"
      ]
     },
     "metadata": {
      "needs_background": "light"
     },
     "output_type": "display_data"
    }
   ],
   "source": [
    "Killed_2015.groupby('Armed')['UID'].count().sort_values(ascending=False).head(5).plot(kind='bar')"
   ]
  },
  {
   "cell_type": "code",
   "execution_count": 105,
   "id": "5002061b",
   "metadata": {
    "execution": {
     "iopub.execute_input": "2021-08-04T17:02:24.770781Z",
     "iopub.status.busy": "2021-08-04T17:02:24.770134Z",
     "iopub.status.idle": "2021-08-04T17:02:24.782804Z",
     "shell.execute_reply": "2021-08-04T17:02:24.782124Z",
     "shell.execute_reply.started": "2021-08-04T15:04:25.483345Z"
    },
    "papermill": {
     "duration": 0.200399,
     "end_time": "2021-08-04T17:02:24.782946",
     "exception": false,
     "start_time": "2021-08-04T17:02:24.582547",
     "status": "completed"
    },
    "tags": []
   },
   "outputs": [
    {
     "data": {
      "text/plain": [
       "Flee\n",
       "False    1850\n",
       "True      270\n",
       "Name: UID, dtype: int64"
      ]
     },
     "execution_count": 105,
     "metadata": {},
     "output_type": "execute_result"
    }
   ],
   "source": [
    "Killed_2015.groupby('Flee')['UID'].count().sort_values(ascending=False).head(5)"
   ]
  },
  {
   "cell_type": "code",
   "execution_count": 106,
   "id": "541d3c84",
   "metadata": {
    "execution": {
     "iopub.execute_input": "2021-08-04T17:02:25.192569Z",
     "iopub.status.busy": "2021-08-04T17:02:25.191468Z",
     "iopub.status.idle": "2021-08-04T17:02:25.265075Z",
     "shell.execute_reply": "2021-08-04T17:02:25.264387Z",
     "shell.execute_reply.started": "2021-08-04T15:04:25.497966Z"
    },
    "papermill": {
     "duration": 0.297811,
     "end_time": "2021-08-04T17:02:25.265219",
     "exception": false,
     "start_time": "2021-08-04T17:02:24.967408",
     "status": "completed"
    },
    "tags": []
   },
   "outputs": [
    {
     "data": {
      "text/plain": [
       "<AxesSubplot:ylabel='UID'>"
      ]
     },
     "execution_count": 106,
     "metadata": {},
     "output_type": "execute_result"
    },
    {
     "data": {
      "image/png": "[encoded data removed]",
      "text/plain": [
       "<Figure size 432x288 with 1 Axes>"
      ]
     },
     "metadata": {},
     "output_type": "display_data"
    }
   ],
   "source": [
    "Killed_2015.groupby('Flee')['UID'].count().sort_values(ascending=False).head(5).plot(kind='pie')"
   ]
  },
  {
   "cell_type": "code",
   "execution_count": 107,
   "id": "d52452fb",
   "metadata": {
    "execution": {
     "iopub.execute_input": "2021-08-04T17:02:25.640021Z",
     "iopub.status.busy": "2021-08-04T17:02:25.639015Z",
     "iopub.status.idle": "2021-08-04T17:02:25.647513Z",
     "shell.execute_reply": "2021-08-04T17:02:25.646843Z",
     "shell.execute_reply.started": "2021-08-04T15:04:25.608341Z"
    },
    "papermill": {
     "duration": 0.195622,
     "end_time": "2021-08-04T17:02:25.647657",
     "exception": false,
     "start_time": "2021-08-04T17:02:25.452035",
     "status": "completed"
    },
    "tags": []
   },
   "outputs": [
    {
     "data": {
      "text/plain": [
       "Stages of Life\n",
       "Adult               1238\n",
       "Middle Age Adult     655\n",
       "Senior Adult         115\n",
       "Teen                 110\n",
       "Child                  2\n",
       "Name: UID, dtype: int64"
      ]
     },
     "execution_count": 107,
     "metadata": {},
     "output_type": "execute_result"
    }
   ],
   "source": [
    "Killed_2015.groupby('Stages of Life')['UID'].count().sort_values(ascending=False).head(5)"
   ]
  },
  {
   "cell_type": "code",
   "execution_count": 108,
   "id": "64730749",
   "metadata": {
    "execution": {
     "iopub.execute_input": "2021-08-04T17:02:26.025924Z",
     "iopub.status.busy": "2021-08-04T17:02:26.024866Z",
     "iopub.status.idle": "2021-08-04T17:02:26.190661Z",
     "shell.execute_reply": "2021-08-04T17:02:26.191136Z",
     "shell.execute_reply.started": "2021-08-04T15:04:25.624906Z"
    },
    "papermill": {
     "duration": 0.357901,
     "end_time": "2021-08-04T17:02:26.191315",
     "exception": false,
     "start_time": "2021-08-04T17:02:25.833414",
     "status": "completed"
    },
    "tags": []
   },
   "outputs": [
    {
     "data": {
      "text/plain": [
       "<AxesSubplot:ylabel='Stages of Life'>"
      ]
     },
     "execution_count": 108,
     "metadata": {},
     "output_type": "execute_result"
    },
    {
     "data": {
      "image/png": "[encoded data removed]",
      "text/plain": [
       "<Figure size 432x288 with 1 Axes>"
      ]
     },
     "metadata": {
      "needs_background": "light"
     },
     "output_type": "display_data"
    }
   ],
   "source": [
    "Killed_2015.groupby('Stages of Life')['UID'].count().sort_values(ascending=False).head(5).plot(kind='barh')"
   ]
  },
  {
   "cell_type": "code",
   "execution_count": 109,
   "id": "b035ea6b",
   "metadata": {
    "execution": {
     "iopub.execute_input": "2021-08-04T17:02:26.576171Z",
     "iopub.status.busy": "2021-08-04T17:02:26.575428Z",
     "iopub.status.idle": "2021-08-04T17:02:26.580399Z",
     "shell.execute_reply": "2021-08-04T17:02:26.579725Z",
     "shell.execute_reply.started": "2021-08-04T15:04:25.823279Z"
    },
    "papermill": {
     "duration": 0.201421,
     "end_time": "2021-08-04T17:02:26.580554",
     "exception": false,
     "start_time": "2021-08-04T17:02:26.379133",
     "status": "completed"
    },
    "tags": []
   },
   "outputs": [
    {
     "data": {
      "text/plain": [
       "Flee\n",
       "False    1850\n",
       "True      270\n",
       "Name: UID, dtype: int64"
      ]
     },
     "execution_count": 109,
     "metadata": {},
     "output_type": "execute_result"
    }
   ],
   "source": [
    "Killed_2015.groupby('Flee')['UID'].count().sort_values(ascending=False).head(5)"
   ]
  },
  {
   "cell_type": "code",
   "execution_count": 110,
   "id": "8b0a02f7",
   "metadata": {
    "execution": {
     "iopub.execute_input": "2021-08-04T17:02:26.987120Z",
     "iopub.status.busy": "2021-08-04T17:02:26.965122Z",
     "iopub.status.idle": "2021-08-04T17:02:27.065879Z",
     "shell.execute_reply": "2021-08-04T17:02:27.065345Z",
     "shell.execute_reply.started": "2021-08-04T15:04:25.838533Z"
    },
    "papermill": {
     "duration": 0.292435,
     "end_time": "2021-08-04T17:02:27.066031",
     "exception": false,
     "start_time": "2021-08-04T17:02:26.773596",
     "status": "completed"
    },
    "tags": []
   },
   "outputs": [
    {
     "data": {
      "text/plain": [
       "<AxesSubplot:ylabel='UID'>"
      ]
     },
     "execution_count": 110,
     "metadata": {},
     "output_type": "execute_result"
    },
    {
     "data": {
      "image/png": "[encoded data removed]",
      "text/plain": [
       "<Figure size 432x288 with 1 Axes>"
      ]
     },
     "metadata": {},
     "output_type": "display_data"
    }
   ],
   "source": [
    "Killed_2015.groupby('Flee')['UID'].count().sort_values(ascending=False).head(5).plot(kind='pie')"
   ]
  },
  {
   "cell_type": "markdown",
   "id": "74750f37",
   "metadata": {
    "papermill": {
     "duration": 0.187542,
     "end_time": "2021-08-04T17:02:27.437968",
     "exception": false,
     "start_time": "2021-08-04T17:02:27.250426",
     "status": "completed"
    },
    "tags": []
   },
   "source": [
    "# Which quarter records the most Kill Events by police?\n",
    "How many of them were fled?\n",
    "And how many Asians of them?\n",
    "How many kiled by Tasered of them?"
   ]
  },
  {
   "cell_type": "code",
   "execution_count": 111,
   "id": "7f336f89",
   "metadata": {
    "execution": {
     "iopub.execute_input": "2021-08-04T17:02:27.810163Z",
     "iopub.status.busy": "2021-08-04T17:02:27.809429Z",
     "iopub.status.idle": "2021-08-04T17:02:27.816461Z",
     "shell.execute_reply": "2021-08-04T17:02:27.815784Z",
     "shell.execute_reply.started": "2021-08-04T15:04:25.967953Z"
    },
    "papermill": {
     "duration": 0.19531,
     "end_time": "2021-08-04T17:02:27.816648",
     "exception": false,
     "start_time": "2021-08-04T17:02:27.621338",
     "status": "completed"
    },
    "tags": []
   },
   "outputs": [
    {
     "data": {
      "text/plain": [
       "Quarter\n",
       "1    3295\n",
       "2    3200\n",
       "3    3169\n",
       "4    2815\n",
       "Name: UID, dtype: int64"
      ]
     },
     "execution_count": 111,
     "metadata": {},
     "output_type": "execute_result"
    }
   ],
   "source": [
    "data.groupby('Quarter')['UID'].count().sort_values(ascending=False)"
   ]
  },
  {
   "cell_type": "code",
   "execution_count": 112,
   "id": "ba78112d",
   "metadata": {
    "execution": {
     "iopub.execute_input": "2021-08-04T17:02:28.199350Z",
     "iopub.status.busy": "2021-08-04T17:02:28.198635Z",
     "iopub.status.idle": "2021-08-04T17:02:28.221670Z",
     "shell.execute_reply": "2021-08-04T17:02:28.220833Z",
     "shell.execute_reply.started": "2021-08-04T15:04:25.978433Z"
    },
    "papermill": {
     "duration": 0.215188,
     "end_time": "2021-08-04T17:02:28.221829",
     "exception": false,
     "start_time": "2021-08-04T17:02:28.006641",
     "status": "completed"
    },
    "tags": []
   },
   "outputs": [
    {
     "data": {
      "text/html": [
       "<div>\n",
       "<style scoped>\n",
       "    .dataframe tbody tr th:only-of-type {\n",
       "        vertical-align: middle;\n",
       "    }\n",
       "\n",
       "    .dataframe tbody tr th {\n",
       "        vertical-align: top;\n",
       "    }\n",
       "\n",
       "    .dataframe thead th {\n",
       "        text-align: right;\n",
       "    }\n",
       "</style>\n",
       "<table border=\"1\" class=\"dataframe\">\n",
       "  <thead>\n",
       "    <tr style=\"text-align: right;\">\n",
       "      <th></th>\n",
       "      <th>UID</th>\n",
       "      <th>Name</th>\n",
       "      <th>Age</th>\n",
       "      <th>Gender</th>\n",
       "      <th>Race</th>\n",
       "      <th>Date</th>\n",
       "      <th>City</th>\n",
       "      <th>State</th>\n",
       "      <th>Manner_of_death</th>\n",
       "      <th>Armed</th>\n",
       "      <th>Mental_illness</th>\n",
       "      <th>Flee</th>\n",
       "      <th>Region</th>\n",
       "      <th>Year</th>\n",
       "      <th>Month</th>\n",
       "      <th>Quarter</th>\n",
       "      <th>Day</th>\n",
       "      <th>Week</th>\n",
       "      <th>Stages of Life</th>\n",
       "    </tr>\n",
       "  </thead>\n",
       "  <tbody>\n",
       "    <tr>\n",
       "      <th>3</th>\n",
       "      <td>483</td>\n",
       "      <td>Kinh Quoc Dao</td>\n",
       "      <td>29</td>\n",
       "      <td>Male</td>\n",
       "      <td>Asian</td>\n",
       "      <td>2/9/2001</td>\n",
       "      <td>Valley Glen</td>\n",
       "      <td>California</td>\n",
       "      <td>Shot</td>\n",
       "      <td>Gun</td>\n",
       "      <td>False</td>\n",
       "      <td>False</td>\n",
       "      <td>west</td>\n",
       "      <td>2001</td>\n",
       "      <td>2</td>\n",
       "      <td>1</td>\n",
       "      <td>9</td>\n",
       "      <td>6</td>\n",
       "      <td>Adult</td>\n",
       "    </tr>\n",
       "    <tr>\n",
       "      <th>10</th>\n",
       "      <td>965</td>\n",
       "      <td>Douglas Kim</td>\n",
       "      <td>55</td>\n",
       "      <td>Male</td>\n",
       "      <td>Asian</td>\n",
       "      <td>2/24/2002</td>\n",
       "      <td>Los Angeles</td>\n",
       "      <td>California</td>\n",
       "      <td>Shot</td>\n",
       "      <td>Gun</td>\n",
       "      <td>False</td>\n",
       "      <td>False</td>\n",
       "      <td>west</td>\n",
       "      <td>2002</td>\n",
       "      <td>2</td>\n",
       "      <td>1</td>\n",
       "      <td>24</td>\n",
       "      <td>8</td>\n",
       "      <td>Middle Age Adult</td>\n",
       "    </tr>\n",
       "    <tr>\n",
       "      <th>19</th>\n",
       "      <td>1433</td>\n",
       "      <td>Truyen The Pham</td>\n",
       "      <td>23</td>\n",
       "      <td>Male</td>\n",
       "      <td>Asian</td>\n",
       "      <td>1/5/2003</td>\n",
       "      <td>Houston</td>\n",
       "      <td>Texas</td>\n",
       "      <td>Shot</td>\n",
       "      <td>Gun</td>\n",
       "      <td>False</td>\n",
       "      <td>False</td>\n",
       "      <td>south</td>\n",
       "      <td>2003</td>\n",
       "      <td>1</td>\n",
       "      <td>1</td>\n",
       "      <td>5</td>\n",
       "      <td>1</td>\n",
       "      <td>Adult</td>\n",
       "    </tr>\n",
       "    <tr>\n",
       "      <th>20</th>\n",
       "      <td>1508</td>\n",
       "      <td>Thu Van Tran</td>\n",
       "      <td>48</td>\n",
       "      <td>Male</td>\n",
       "      <td>Asian</td>\n",
       "      <td>2/19/2003</td>\n",
       "      <td>Garden Grove</td>\n",
       "      <td>California</td>\n",
       "      <td>Shot</td>\n",
       "      <td>UnKnown</td>\n",
       "      <td>True</td>\n",
       "      <td>False</td>\n",
       "      <td>west</td>\n",
       "      <td>2003</td>\n",
       "      <td>2</td>\n",
       "      <td>1</td>\n",
       "      <td>19</td>\n",
       "      <td>8</td>\n",
       "      <td>Middle Age Adult</td>\n",
       "    </tr>\n",
       "    <tr>\n",
       "      <th>26</th>\n",
       "      <td>2033</td>\n",
       "      <td>Jack Sui</td>\n",
       "      <td>19</td>\n",
       "      <td>Male</td>\n",
       "      <td>Asian</td>\n",
       "      <td>1/23/2004</td>\n",
       "      <td>Long Beach</td>\n",
       "      <td>California</td>\n",
       "      <td>Shot</td>\n",
       "      <td>UnKnown</td>\n",
       "      <td>False</td>\n",
       "      <td>False</td>\n",
       "      <td>west</td>\n",
       "      <td>2004</td>\n",
       "      <td>1</td>\n",
       "      <td>1</td>\n",
       "      <td>23</td>\n",
       "      <td>4</td>\n",
       "      <td>Teen</td>\n",
       "    </tr>\n",
       "  </tbody>\n",
       "</table>\n",
       "</div>"
      ],
      "text/plain": [
       "     UID             Name  Age Gender   Race       Date          City  \\\n",
       "3    483    Kinh Quoc Dao   29   Male  Asian   2/9/2001   Valley Glen   \n",
       "10   965      Douglas Kim   55   Male  Asian  2/24/2002   Los Angeles   \n",
       "19  1433  Truyen The Pham   23   Male  Asian   1/5/2003       Houston   \n",
       "20  1508     Thu Van Tran   48   Male  Asian  2/19/2003  Garden Grove   \n",
       "26  2033         Jack Sui   19   Male  Asian  1/23/2004    Long Beach   \n",
       "\n",
       "         State Manner_of_death    Armed  Mental_illness   Flee Region  Year  \\\n",
       "3   California            Shot      Gun           False  False   west  2001   \n",
       "10  California            Shot      Gun           False  False   west  2002   \n",
       "19       Texas            Shot      Gun           False  False  south  2003   \n",
       "20  California            Shot  UnKnown            True  False   west  2003   \n",
       "26  California            Shot  UnKnown           False  False   west  2004   \n",
       "\n",
       "    Month  Quarter  Day Week    Stages of Life  \n",
       "3       2        1    9    6             Adult  \n",
       "10      2        1   24    8  Middle Age Adult  \n",
       "19      1        1    5    1             Adult  \n",
       "20      2        1   19    8  Middle Age Adult  \n",
       "26      1        1   23    4              Teen  "
      ]
     },
     "execution_count": 112,
     "metadata": {},
     "output_type": "execute_result"
    }
   ],
   "source": [
    "killed_by_quarter=data[data['Quarter']==1]\n",
    "killed_by_quarter.head()"
   ]
  },
  {
   "cell_type": "code",
   "execution_count": 113,
   "id": "cb0b73cd",
   "metadata": {
    "execution": {
     "iopub.execute_input": "2021-08-04T17:02:28.599223Z",
     "iopub.status.busy": "2021-08-04T17:02:28.598547Z",
     "iopub.status.idle": "2021-08-04T17:02:28.605685Z",
     "shell.execute_reply": "2021-08-04T17:02:28.605145Z",
     "shell.execute_reply.started": "2021-08-04T15:04:26.018613Z"
    },
    "papermill": {
     "duration": 0.198572,
     "end_time": "2021-08-04T17:02:28.605836",
     "exception": false,
     "start_time": "2021-08-04T17:02:28.407264",
     "status": "completed"
    },
    "tags": []
   },
   "outputs": [
    {
     "data": {
      "text/plain": [
       "Age\n",
       "35    134\n",
       "29    120\n",
       "26    116\n",
       "22    115\n",
       "24    114\n",
       "Name: UID, dtype: int64"
      ]
     },
     "execution_count": 113,
     "metadata": {},
     "output_type": "execute_result"
    }
   ],
   "source": [
    "killed_by_quarter.groupby('Age')['UID'].count().sort_values(ascending=False).head(5)"
   ]
  },
  {
   "cell_type": "code",
   "execution_count": 114,
   "id": "43402989",
   "metadata": {
    "execution": {
     "iopub.execute_input": "2021-08-04T17:02:29.010262Z",
     "iopub.status.busy": "2021-08-04T17:02:29.009577Z",
     "iopub.status.idle": "2021-08-04T17:02:29.147604Z",
     "shell.execute_reply": "2021-08-04T17:02:29.146884Z",
     "shell.execute_reply.started": "2021-08-04T15:04:26.029267Z"
    },
    "papermill": {
     "duration": 0.354935,
     "end_time": "2021-08-04T17:02:29.147754",
     "exception": false,
     "start_time": "2021-08-04T17:02:28.792819",
     "status": "completed"
    },
    "tags": []
   },
   "outputs": [
    {
     "data": {
      "text/plain": [
       "<AxesSubplot:xlabel='Age'>"
      ]
     },
     "execution_count": 114,
     "metadata": {},
     "output_type": "execute_result"
    },
    {
     "data": {
      "image/png": "[encoded data removed]",
      "text/plain": [
       "<Figure size 432x288 with 1 Axes>"
      ]
     },
     "metadata": {
      "needs_background": "light"
     },
     "output_type": "display_data"
    }
   ],
   "source": [
    "killed_by_quarter.groupby('Age')['UID'].count().sort_values(ascending=False).head(5).plot(kind='bar')"
   ]
  },
  {
   "cell_type": "code",
   "execution_count": 115,
   "id": "afda80db",
   "metadata": {
    "execution": {
     "iopub.execute_input": "2021-08-04T17:02:29.544683Z",
     "iopub.status.busy": "2021-08-04T17:02:29.543972Z",
     "iopub.status.idle": "2021-08-04T17:02:29.552124Z",
     "shell.execute_reply": "2021-08-04T17:02:29.551241Z",
     "shell.execute_reply.started": "2021-08-04T15:04:26.196672Z"
    },
    "papermill": {
     "duration": 0.206095,
     "end_time": "2021-08-04T17:02:29.552277",
     "exception": false,
     "start_time": "2021-08-04T17:02:29.346182",
     "status": "completed"
    },
    "tags": []
   },
   "outputs": [
    {
     "data": {
      "text/plain": [
       "Age\n",
       "83    1\n",
       "84    1\n",
       "85    1\n",
       "10    1\n",
       "89    1\n",
       "Name: UID, dtype: int64"
      ]
     },
     "execution_count": 115,
     "metadata": {},
     "output_type": "execute_result"
    }
   ],
   "source": [
    "killed_by_quarter.groupby('Age')['UID'].count().sort_values(ascending=False).tail(5)"
   ]
  },
  {
   "cell_type": "code",
   "execution_count": 116,
   "id": "0df64ecc",
   "metadata": {
    "execution": {
     "iopub.execute_input": "2021-08-04T17:02:29.985852Z",
     "iopub.status.busy": "2021-08-04T17:02:29.985070Z",
     "iopub.status.idle": "2021-08-04T17:02:29.988020Z",
     "shell.execute_reply": "2021-08-04T17:02:29.988563Z",
     "shell.execute_reply.started": "2021-08-04T15:04:26.209000Z"
    },
    "papermill": {
     "duration": 0.205407,
     "end_time": "2021-08-04T17:02:29.988763",
     "exception": false,
     "start_time": "2021-08-04T17:02:29.783356",
     "status": "completed"
    },
    "tags": []
   },
   "outputs": [
    {
     "data": {
      "text/plain": [
       "Gender\n",
       "Male      3127\n",
       "Female     168\n",
       "Name: UID, dtype: int64"
      ]
     },
     "execution_count": 116,
     "metadata": {},
     "output_type": "execute_result"
    }
   ],
   "source": [
    "killed_by_quarter.groupby('Gender')['UID'].count().sort_values(ascending=False).head(5)"
   ]
  },
  {
   "cell_type": "code",
   "execution_count": 117,
   "id": "8c492383",
   "metadata": {
    "execution": {
     "iopub.execute_input": "2021-08-04T17:02:30.399258Z",
     "iopub.status.busy": "2021-08-04T17:02:30.398590Z",
     "iopub.status.idle": "2021-08-04T17:02:30.491716Z",
     "shell.execute_reply": "2021-08-04T17:02:30.491214Z",
     "shell.execute_reply.started": "2021-08-04T15:04:26.222678Z"
    },
    "papermill": {
     "duration": 0.310669,
     "end_time": "2021-08-04T17:02:30.491868",
     "exception": false,
     "start_time": "2021-08-04T17:02:30.181199",
     "status": "completed"
    },
    "tags": []
   },
   "outputs": [
    {
     "data": {
      "text/plain": [
       "<AxesSubplot:ylabel='UID'>"
      ]
     },
     "execution_count": 117,
     "metadata": {},
     "output_type": "execute_result"
    },
    {
     "data": {
      "image/png": "[encoded data removed]",
      "text/plain": [
       "<Figure size 432x288 with 1 Axes>"
      ]
     },
     "metadata": {},
     "output_type": "display_data"
    }
   ],
   "source": [
    "killed_by_quarter.groupby('Gender')['UID'].count().sort_values(ascending=False).head(5).plot(kind='pie')"
   ]
  },
  {
   "cell_type": "code",
   "execution_count": 118,
   "id": "eecd2556",
   "metadata": {
    "execution": {
     "iopub.execute_input": "2021-08-04T17:02:30.877301Z",
     "iopub.status.busy": "2021-08-04T17:02:30.874157Z",
     "iopub.status.idle": "2021-08-04T17:02:30.880623Z",
     "shell.execute_reply": "2021-08-04T17:02:30.881086Z",
     "shell.execute_reply.started": "2021-08-04T15:04:26.479617Z"
    },
    "papermill": {
     "duration": 0.201763,
     "end_time": "2021-08-04T17:02:30.881269",
     "exception": false,
     "start_time": "2021-08-04T17:02:30.679506",
     "status": "completed"
    },
    "tags": []
   },
   "outputs": [
    {
     "data": {
      "text/plain": [
       "Race\n",
       "UnKnown     1056\n",
       "White       1023\n",
       "Black        646\n",
       "Hispanic     483\n",
       "Asian         43\n",
       "Name: UID, dtype: int64"
      ]
     },
     "execution_count": 118,
     "metadata": {},
     "output_type": "execute_result"
    }
   ],
   "source": [
    "killed_by_quarter.groupby('Race')['UID'].count().sort_values(ascending=False).head(5)"
   ]
  },
  {
   "cell_type": "code",
   "execution_count": 119,
   "id": "700fa794",
   "metadata": {
    "execution": {
     "iopub.execute_input": "2021-08-04T17:02:31.269803Z",
     "iopub.status.busy": "2021-08-04T17:02:31.269091Z",
     "iopub.status.idle": "2021-08-04T17:02:31.416951Z",
     "shell.execute_reply": "2021-08-04T17:02:31.417559Z",
     "shell.execute_reply.started": "2021-08-04T15:04:26.495357Z"
    },
    "papermill": {
     "duration": 0.343983,
     "end_time": "2021-08-04T17:02:31.417735",
     "exception": false,
     "start_time": "2021-08-04T17:02:31.073752",
     "status": "completed"
    },
    "tags": []
   },
   "outputs": [
    {
     "data": {
      "text/plain": [
       "<AxesSubplot:xlabel='Race'>"
      ]
     },
     "execution_count": 119,
     "metadata": {},
     "output_type": "execute_result"
    },
    {
     "data": {
      "image/png": "[encoded data removed]",
      "text/plain": [
       "<Figure size 432x288 with 1 Axes>"
      ]
     },
     "metadata": {
      "needs_background": "light"
     },
     "output_type": "display_data"
    }
   ],
   "source": [
    "killed_by_quarter.groupby('Race')['UID'].count().sort_values(ascending=False).head(5).plot(kind='bar')"
   ]
  },
  {
   "cell_type": "code",
   "execution_count": 120,
   "id": "93a79e8b",
   "metadata": {
    "execution": {
     "iopub.execute_input": "2021-08-04T17:02:31.800919Z",
     "iopub.status.busy": "2021-08-04T17:02:31.800246Z",
     "iopub.status.idle": "2021-08-04T17:02:31.811718Z",
     "shell.execute_reply": "2021-08-04T17:02:31.811149Z",
     "shell.execute_reply.started": "2021-08-04T15:04:26.663105Z"
    },
    "papermill": {
     "duration": 0.204952,
     "end_time": "2021-08-04T17:02:31.811858",
     "exception": false,
     "start_time": "2021-08-04T17:02:31.606906",
     "status": "completed"
    },
    "tags": []
   },
   "outputs": [
    {
     "data": {
      "text/plain": [
       "Date\n",
       "1/27/2016    18\n",
       "2/28/2015    14\n",
       "1/17/2016    14\n",
       "3/27/2015    13\n",
       "3/24/2016    13\n",
       "Name: UID, dtype: int64"
      ]
     },
     "execution_count": 120,
     "metadata": {},
     "output_type": "execute_result"
    }
   ],
   "source": [
    "killed_by_quarter.groupby('Date')['UID'].count().sort_values(ascending=False).head(5)"
   ]
  },
  {
   "cell_type": "code",
   "execution_count": 121,
   "id": "1f921590",
   "metadata": {
    "execution": {
     "iopub.execute_input": "2021-08-04T17:02:32.201190Z",
     "iopub.status.busy": "2021-08-04T17:02:32.199798Z",
     "iopub.status.idle": "2021-08-04T17:02:32.209460Z",
     "shell.execute_reply": "2021-08-04T17:02:32.208745Z",
     "shell.execute_reply.started": "2021-08-04T15:04:26.677866Z"
    },
    "papermill": {
     "duration": 0.205655,
     "end_time": "2021-08-04T17:02:32.209606",
     "exception": false,
     "start_time": "2021-08-04T17:02:32.003951",
     "status": "completed"
    },
    "tags": []
   },
   "outputs": [
    {
     "data": {
      "text/plain": [
       "City\n",
       "Los Angeles    89\n",
       "Houston        68\n",
       "Phoenix        49\n",
       "Las Vegas      41\n",
       "Chicago        36\n",
       "Name: UID, dtype: int64"
      ]
     },
     "execution_count": 121,
     "metadata": {},
     "output_type": "execute_result"
    }
   ],
   "source": [
    "killed_by_quarter.groupby('City')['UID'].count().sort_values(ascending=False).head(5)"
   ]
  },
  {
   "cell_type": "code",
   "execution_count": 122,
   "id": "f5f34565",
   "metadata": {
    "execution": {
     "iopub.execute_input": "2021-08-04T17:02:32.598306Z",
     "iopub.status.busy": "2021-08-04T17:02:32.597584Z",
     "iopub.status.idle": "2021-08-04T17:02:32.839114Z",
     "shell.execute_reply": "2021-08-04T17:02:32.838551Z",
     "shell.execute_reply.started": "2021-08-04T15:04:26.695652Z"
    },
    "papermill": {
     "duration": 0.437698,
     "end_time": "2021-08-04T17:02:32.839252",
     "exception": false,
     "start_time": "2021-08-04T17:02:32.401554",
     "status": "completed"
    },
    "tags": []
   },
   "outputs": [
    {
     "data": {
      "text/plain": [
       "<AxesSubplot:ylabel='UID'>"
      ]
     },
     "execution_count": 122,
     "metadata": {},
     "output_type": "execute_result"
    },
    {
     "data": {
      "image/png": "[encoded data removed]",
      "text/plain": [
       "<Figure size 432x288 with 1 Axes>"
      ]
     },
     "metadata": {},
     "output_type": "display_data"
    }
   ],
   "source": [
    "killed_by_quarter.groupby('City')['UID'].count().sort_values(ascending=False).head(5).plot(kind='pie')"
   ]
  },
  {
   "cell_type": "code",
   "execution_count": 123,
   "id": "1a25eb2f",
   "metadata": {
    "execution": {
     "iopub.execute_input": "2021-08-04T17:02:33.238896Z",
     "iopub.status.busy": "2021-08-04T17:02:33.236313Z",
     "iopub.status.idle": "2021-08-04T17:02:33.243285Z",
     "shell.execute_reply": "2021-08-04T17:02:33.243833Z",
     "shell.execute_reply.started": "2021-08-04T15:04:26.817262Z"
    },
    "papermill": {
     "duration": 0.209817,
     "end_time": "2021-08-04T17:02:33.244009",
     "exception": false,
     "start_time": "2021-08-04T17:02:33.034192",
     "status": "completed"
    },
    "tags": []
   },
   "outputs": [
    {
     "data": {
      "text/plain": [
       "State\n",
       "California    769\n",
       "Texas         309\n",
       "Florida       271\n",
       "Arizona       168\n",
       "Wyoming       104\n",
       "Name: UID, dtype: int64"
      ]
     },
     "execution_count": 123,
     "metadata": {},
     "output_type": "execute_result"
    }
   ],
   "source": [
    "killed_by_quarter.groupby('State')['UID'].count().sort_values(ascending=False).head(5)"
   ]
  },
  {
   "cell_type": "markdown",
   "id": "e5a2cfef",
   "metadata": {
    "papermill": {
     "duration": 0.19639,
     "end_time": "2021-08-04T17:02:33.645149",
     "exception": false,
     "start_time": "2021-08-04T17:02:33.448759",
     "status": "completed"
    },
    "tags": []
   },
   "source": [
    "# Which month records the most Kill Events by police?\n",
    "How many females are there?\n",
    "And how many Asians of them?\n",
    "How many armed with a knife of them?"
   ]
  },
  {
   "cell_type": "code",
   "execution_count": 124,
   "id": "e1f96b06",
   "metadata": {
    "execution": {
     "iopub.execute_input": "2021-08-04T17:02:34.043386Z",
     "iopub.status.busy": "2021-08-04T17:02:34.042674Z",
     "iopub.status.idle": "2021-08-04T17:02:34.050462Z",
     "shell.execute_reply": "2021-08-04T17:02:34.049883Z",
     "shell.execute_reply.started": "2021-08-04T15:04:26.829764Z"
    },
    "papermill": {
     "duration": 0.206125,
     "end_time": "2021-08-04T17:02:34.050604",
     "exception": false,
     "start_time": "2021-08-04T17:02:33.844479",
     "status": "completed"
    },
    "tags": []
   },
   "outputs": [
    {
     "data": {
      "text/plain": [
       "Month\n",
       "3     1163\n",
       "7     1108\n",
       "1     1098\n",
       "4     1096\n",
       "8     1077\n",
       "5     1060\n",
       "6     1044\n",
       "2     1034\n",
       "10     999\n",
       "9      984\n",
       "11     917\n",
       "12     899\n",
       "Name: UID, dtype: int64"
      ]
     },
     "execution_count": 124,
     "metadata": {},
     "output_type": "execute_result"
    }
   ],
   "source": [
    "data.groupby('Month')['UID'].count().sort_values(ascending=False)"
   ]
  },
  {
   "cell_type": "markdown",
   "id": "8b34e58f",
   "metadata": {
    "papermill": {
     "duration": 0.19582,
     "end_time": "2021-08-04T17:02:34.442952",
     "exception": false,
     "start_time": "2021-08-04T17:02:34.247132",
     "status": "completed"
    },
    "tags": []
   },
   "source": [
    "most of deaths ocurred in Marth"
   ]
  },
  {
   "cell_type": "code",
   "execution_count": 125,
   "id": "867532ff",
   "metadata": {
    "execution": {
     "iopub.execute_input": "2021-08-04T17:02:34.842467Z",
     "iopub.status.busy": "2021-08-04T17:02:34.841548Z",
     "iopub.status.idle": "2021-08-04T17:02:34.846903Z",
     "shell.execute_reply": "2021-08-04T17:02:34.846251Z",
     "shell.execute_reply.started": "2021-08-04T15:04:26.844498Z"
    },
    "papermill": {
     "duration": 0.207152,
     "end_time": "2021-08-04T17:02:34.847076",
     "exception": false,
     "start_time": "2021-08-04T17:02:34.639924",
     "status": "completed"
    },
    "tags": []
   },
   "outputs": [],
   "source": [
    "killed_in_march=data[data['Month']==3]"
   ]
  },
  {
   "cell_type": "code",
   "execution_count": 126,
   "id": "02e259f9",
   "metadata": {
    "execution": {
     "iopub.execute_input": "2021-08-04T17:02:35.263226Z",
     "iopub.status.busy": "2021-08-04T17:02:35.262443Z",
     "iopub.status.idle": "2021-08-04T17:02:35.266069Z",
     "shell.execute_reply": "2021-08-04T17:02:35.265444Z",
     "shell.execute_reply.started": "2021-08-04T15:04:26.852362Z"
    },
    "papermill": {
     "duration": 0.222582,
     "end_time": "2021-08-04T17:02:35.266208",
     "exception": false,
     "start_time": "2021-08-04T17:02:35.043626",
     "status": "completed"
    },
    "tags": []
   },
   "outputs": [
    {
     "data": {
      "text/html": [
       "<div>\n",
       "<style scoped>\n",
       "    .dataframe tbody tr th:only-of-type {\n",
       "        vertical-align: middle;\n",
       "    }\n",
       "\n",
       "    .dataframe tbody tr th {\n",
       "        vertical-align: top;\n",
       "    }\n",
       "\n",
       "    .dataframe thead th {\n",
       "        text-align: right;\n",
       "    }\n",
       "</style>\n",
       "<table border=\"1\" class=\"dataframe\">\n",
       "  <thead>\n",
       "    <tr style=\"text-align: right;\">\n",
       "      <th></th>\n",
       "      <th>UID</th>\n",
       "      <th>Name</th>\n",
       "      <th>Age</th>\n",
       "      <th>Gender</th>\n",
       "      <th>Race</th>\n",
       "      <th>Date</th>\n",
       "      <th>City</th>\n",
       "      <th>State</th>\n",
       "      <th>Manner_of_death</th>\n",
       "      <th>Armed</th>\n",
       "      <th>Mental_illness</th>\n",
       "      <th>Flee</th>\n",
       "      <th>Region</th>\n",
       "      <th>Year</th>\n",
       "      <th>Month</th>\n",
       "      <th>Quarter</th>\n",
       "      <th>Day</th>\n",
       "      <th>Week</th>\n",
       "      <th>Stages of Life</th>\n",
       "    </tr>\n",
       "  </thead>\n",
       "  <tbody>\n",
       "    <tr>\n",
       "      <th>44</th>\n",
       "      <td>4161</td>\n",
       "      <td>Daechull Chung</td>\n",
       "      <td>37</td>\n",
       "      <td>Male</td>\n",
       "      <td>Asian</td>\n",
       "      <td>3/16/2008</td>\n",
       "      <td>Las Vegas</td>\n",
       "      <td>Nevada</td>\n",
       "      <td>Shot</td>\n",
       "      <td>UnKnown</td>\n",
       "      <td>True</td>\n",
       "      <td>False</td>\n",
       "      <td>west</td>\n",
       "      <td>2008</td>\n",
       "      <td>3</td>\n",
       "      <td>1</td>\n",
       "      <td>16</td>\n",
       "      <td>11</td>\n",
       "      <td>Adult</td>\n",
       "    </tr>\n",
       "    <tr>\n",
       "      <th>57</th>\n",
       "      <td>5875</td>\n",
       "      <td>Van Dinh Le</td>\n",
       "      <td>57</td>\n",
       "      <td>Male</td>\n",
       "      <td>Asian</td>\n",
       "      <td>3/3/2011</td>\n",
       "      <td>Escondido</td>\n",
       "      <td>California</td>\n",
       "      <td>Shot</td>\n",
       "      <td>UnKnown</td>\n",
       "      <td>True</td>\n",
       "      <td>False</td>\n",
       "      <td>west</td>\n",
       "      <td>2011</td>\n",
       "      <td>3</td>\n",
       "      <td>1</td>\n",
       "      <td>3</td>\n",
       "      <td>10</td>\n",
       "      <td>Middle Age Adult</td>\n",
       "    </tr>\n",
       "    <tr>\n",
       "      <th>91</th>\n",
       "      <td>8888</td>\n",
       "      <td>Erdenebileg Sambuunyam</td>\n",
       "      <td>40</td>\n",
       "      <td>Male</td>\n",
       "      <td>Asian</td>\n",
       "      <td>3/9/2014</td>\n",
       "      <td>Buffalo Grove</td>\n",
       "      <td>Illinois</td>\n",
       "      <td>Shot</td>\n",
       "      <td>Knife</td>\n",
       "      <td>False</td>\n",
       "      <td>False</td>\n",
       "      <td>Midwest</td>\n",
       "      <td>2014</td>\n",
       "      <td>3</td>\n",
       "      <td>1</td>\n",
       "      <td>9</td>\n",
       "      <td>10</td>\n",
       "      <td>Middle Age Adult</td>\n",
       "    </tr>\n",
       "    <tr>\n",
       "      <th>92</th>\n",
       "      <td>8920</td>\n",
       "      <td>Errol Chang</td>\n",
       "      <td>34</td>\n",
       "      <td>Male</td>\n",
       "      <td>Asian</td>\n",
       "      <td>3/19/2014</td>\n",
       "      <td>Pacifica</td>\n",
       "      <td>California</td>\n",
       "      <td>Shot</td>\n",
       "      <td>Knife</td>\n",
       "      <td>True</td>\n",
       "      <td>False</td>\n",
       "      <td>west</td>\n",
       "      <td>2014</td>\n",
       "      <td>3</td>\n",
       "      <td>1</td>\n",
       "      <td>19</td>\n",
       "      <td>12</td>\n",
       "      <td>Adult</td>\n",
       "    </tr>\n",
       "    <tr>\n",
       "      <th>93</th>\n",
       "      <td>8941</td>\n",
       "      <td>Chieu-di Thi Vo</td>\n",
       "      <td>47</td>\n",
       "      <td>Female</td>\n",
       "      <td>Asian</td>\n",
       "      <td>3/25/2014</td>\n",
       "      <td>Greensboro</td>\n",
       "      <td>North Carolina</td>\n",
       "      <td>Shot</td>\n",
       "      <td>Knife</td>\n",
       "      <td>False</td>\n",
       "      <td>False</td>\n",
       "      <td>south</td>\n",
       "      <td>2014</td>\n",
       "      <td>3</td>\n",
       "      <td>1</td>\n",
       "      <td>25</td>\n",
       "      <td>13</td>\n",
       "      <td>Middle Age Adult</td>\n",
       "    </tr>\n",
       "  </tbody>\n",
       "</table>\n",
       "</div>"
      ],
      "text/plain": [
       "     UID                    Name  Age  Gender   Race       Date  \\\n",
       "44  4161          Daechull Chung   37    Male  Asian  3/16/2008   \n",
       "57  5875             Van Dinh Le   57    Male  Asian   3/3/2011   \n",
       "91  8888  Erdenebileg Sambuunyam   40    Male  Asian   3/9/2014   \n",
       "92  8920             Errol Chang   34    Male  Asian  3/19/2014   \n",
       "93  8941         Chieu-di Thi Vo   47  Female  Asian  3/25/2014   \n",
       "\n",
       "             City           State Manner_of_death    Armed  Mental_illness  \\\n",
       "44      Las Vegas          Nevada            Shot  UnKnown            True   \n",
       "57      Escondido      California            Shot  UnKnown            True   \n",
       "91  Buffalo Grove        Illinois            Shot    Knife           False   \n",
       "92       Pacifica      California            Shot    Knife            True   \n",
       "93     Greensboro  North Carolina            Shot    Knife           False   \n",
       "\n",
       "     Flee   Region  Year  Month  Quarter  Day Week    Stages of Life  \n",
       "44  False     west  2008      3        1   16   11             Adult  \n",
       "57  False     west  2011      3        1    3   10  Middle Age Adult  \n",
       "91  False  Midwest  2014      3        1    9   10  Middle Age Adult  \n",
       "92  False     west  2014      3        1   19   12             Adult  \n",
       "93  False    south  2014      3        1   25   13  Middle Age Adult  "
      ]
     },
     "execution_count": 126,
     "metadata": {},
     "output_type": "execute_result"
    }
   ],
   "source": [
    "killed_in_march.head()"
   ]
  },
  {
   "cell_type": "code",
   "execution_count": 127,
   "id": "630f7b05",
   "metadata": {
    "execution": {
     "iopub.execute_input": "2021-08-04T17:02:35.662238Z",
     "iopub.status.busy": "2021-08-04T17:02:35.661350Z",
     "iopub.status.idle": "2021-08-04T17:02:35.665413Z",
     "shell.execute_reply": "2021-08-04T17:02:35.665871Z",
     "shell.execute_reply.started": "2021-08-04T15:04:26.884644Z"
    },
    "papermill": {
     "duration": 0.205495,
     "end_time": "2021-08-04T17:02:35.666044",
     "exception": false,
     "start_time": "2021-08-04T17:02:35.460549",
     "status": "completed"
    },
    "tags": []
   },
   "outputs": [
    {
     "data": {
      "text/plain": [
       "(1163, 19)"
      ]
     },
     "execution_count": 127,
     "metadata": {},
     "output_type": "execute_result"
    }
   ],
   "source": [
    "killed_in_march.shape"
   ]
  },
  {
   "cell_type": "markdown",
   "id": "dc95767f",
   "metadata": {
    "papermill": {
     "duration": 0.202152,
     "end_time": "2021-08-04T17:02:36.069834",
     "exception": false,
     "start_time": "2021-08-04T17:02:35.867682",
     "status": "completed"
    },
    "tags": []
   },
   "source": [
    "# **what is the ages of persons killed in march?"
   ]
  },
  {
   "cell_type": "code",
   "execution_count": 128,
   "id": "7e3360a3",
   "metadata": {
    "execution": {
     "iopub.execute_input": "2021-08-04T17:02:36.474561Z",
     "iopub.status.busy": "2021-08-04T17:02:36.473566Z",
     "iopub.status.idle": "2021-08-04T17:02:36.478251Z",
     "shell.execute_reply": "2021-08-04T17:02:36.477662Z",
     "shell.execute_reply.started": "2021-08-04T15:04:26.898727Z"
    },
    "papermill": {
     "duration": 0.211053,
     "end_time": "2021-08-04T17:02:36.478400",
     "exception": false,
     "start_time": "2021-08-04T17:02:36.267347",
     "status": "completed"
    },
    "tags": []
   },
   "outputs": [
    {
     "data": {
      "text/plain": [
       "Age\n",
       "35    50\n",
       "25    45\n",
       "24    45\n",
       "29    40\n",
       "28    39\n",
       "      ..\n",
       "70     1\n",
       "68     1\n",
       "67     1\n",
       "65     1\n",
       "87     1\n",
       "Name: UID, Length: 67, dtype: int64"
      ]
     },
     "execution_count": 128,
     "metadata": {},
     "output_type": "execute_result"
    }
   ],
   "source": [
    "killed_in_march.groupby('Age')['UID'].count().sort_values(ascending=False)"
   ]
  },
  {
   "cell_type": "code",
   "execution_count": 129,
   "id": "9d5fbaf6",
   "metadata": {
    "execution": {
     "iopub.execute_input": "2021-08-04T17:02:36.872277Z",
     "iopub.status.busy": "2021-08-04T17:02:36.871608Z",
     "iopub.status.idle": "2021-08-04T17:02:37.056242Z",
     "shell.execute_reply": "2021-08-04T17:02:37.056825Z",
     "shell.execute_reply.started": "2021-08-04T15:04:26.918531Z"
    },
    "papermill": {
     "duration": 0.385824,
     "end_time": "2021-08-04T17:02:37.057020",
     "exception": false,
     "start_time": "2021-08-04T17:02:36.671196",
     "status": "completed"
    },
    "tags": []
   },
   "outputs": [
    {
     "data": {
      "text/plain": [
       "<AxesSubplot:xlabel='Age'>"
      ]
     },
     "execution_count": 129,
     "metadata": {},
     "output_type": "execute_result"
    },
    {
     "data": {
      "image/png": "[encoded data removed]",
      "text/plain": [
       "<Figure size 432x288 with 1 Axes>"
      ]
     },
     "metadata": {
      "needs_background": "light"
     },
     "output_type": "display_data"
    }
   ],
   "source": [
    "killed_in_march.groupby('Age')['UID'].count().sort_values(ascending=False).head(10).plot(kind='bar')"
   ]
  },
  {
   "cell_type": "markdown",
   "id": "ce8ccf86",
   "metadata": {
    "papermill": {
     "duration": 0.201255,
     "end_time": "2021-08-04T17:02:37.464628",
     "exception": false,
     "start_time": "2021-08-04T17:02:37.263373",
     "status": "completed"
    },
    "tags": []
   },
   "source": [
    "******what are the life stages of persons killed in march?"
   ]
  },
  {
   "cell_type": "code",
   "execution_count": 130,
   "id": "34d52088",
   "metadata": {
    "execution": {
     "iopub.execute_input": "2021-08-04T17:02:37.859607Z",
     "iopub.status.busy": "2021-08-04T17:02:37.858950Z",
     "iopub.status.idle": "2021-08-04T17:02:37.867315Z",
     "shell.execute_reply": "2021-08-04T17:02:37.867914Z",
     "shell.execute_reply.started": "2021-08-04T15:04:27.123360Z"
    },
    "papermill": {
     "duration": 0.204895,
     "end_time": "2021-08-04T17:02:37.868117",
     "exception": false,
     "start_time": "2021-08-04T17:02:37.663222",
     "status": "completed"
    },
    "tags": []
   },
   "outputs": [
    {
     "data": {
      "text/plain": [
       "Stages of Life\n",
       "Adult               700\n",
       "Middle Age Adult    334\n",
       "Teen                 72\n",
       "Senior Adult         56\n",
       "Child                 1\n",
       "Name: UID, dtype: int64"
      ]
     },
     "execution_count": 130,
     "metadata": {},
     "output_type": "execute_result"
    }
   ],
   "source": [
    "killed_in_march.groupby('Stages of Life')['UID'].count().sort_values(ascending=False)"
   ]
  },
  {
   "cell_type": "code",
   "execution_count": 131,
   "id": "85a1e452",
   "metadata": {
    "execution": {
     "iopub.execute_input": "2021-08-04T17:02:38.262993Z",
     "iopub.status.busy": "2021-08-04T17:02:38.262365Z",
     "iopub.status.idle": "2021-08-04T17:02:38.437793Z",
     "shell.execute_reply": "2021-08-04T17:02:38.438361Z",
     "shell.execute_reply.started": "2021-08-04T15:04:27.134775Z"
    },
    "papermill": {
     "duration": 0.373268,
     "end_time": "2021-08-04T17:02:38.438547",
     "exception": false,
     "start_time": "2021-08-04T17:02:38.065279",
     "status": "completed"
    },
    "tags": []
   },
   "outputs": [
    {
     "data": {
      "text/plain": [
       "<AxesSubplot:xlabel='Stages of Life'>"
      ]
     },
     "execution_count": 131,
     "metadata": {},
     "output_type": "execute_result"
    },
    {
     "data": {
      "image/png": "[encoded data removed]",
      "text/plain": [
       "<Figure size 432x288 with 1 Axes>"
      ]
     },
     "metadata": {
      "needs_background": "light"
     },
     "output_type": "display_data"
    }
   ],
   "source": [
    "killed_in_march.groupby('Stages of Life')['UID'].count().sort_values(ascending=False).plot(kind='bar')"
   ]
  },
  {
   "cell_type": "markdown",
   "id": "4f8076f1",
   "metadata": {
    "papermill": {
     "duration": 0.205907,
     "end_time": "2021-08-04T17:02:38.847904",
     "exception": false,
     "start_time": "2021-08-04T17:02:38.641997",
     "status": "completed"
    },
    "tags": []
   },
   "source": [
    "****** How many of the individuals killed in march are male?"
   ]
  },
  {
   "cell_type": "code",
   "execution_count": 132,
   "id": "9c498bd3",
   "metadata": {
    "execution": {
     "iopub.execute_input": "2021-08-04T17:02:39.251302Z",
     "iopub.status.busy": "2021-08-04T17:02:39.250642Z",
     "iopub.status.idle": "2021-08-04T17:02:39.258616Z",
     "shell.execute_reply": "2021-08-04T17:02:39.259134Z",
     "shell.execute_reply.started": "2021-08-04T15:04:27.320956Z"
    },
    "papermill": {
     "duration": 0.210065,
     "end_time": "2021-08-04T17:02:39.259306",
     "exception": false,
     "start_time": "2021-08-04T17:02:39.049241",
     "status": "completed"
    },
    "tags": []
   },
   "outputs": [
    {
     "data": {
      "text/plain": [
       "Gender\n",
       "Male      1114\n",
       "Female      49\n",
       "Name: UID, dtype: int64"
      ]
     },
     "execution_count": 132,
     "metadata": {},
     "output_type": "execute_result"
    }
   ],
   "source": [
    "killed_in_march.groupby('Gender')['UID'].count().sort_values(ascending=False)"
   ]
  },
  {
   "cell_type": "code",
   "execution_count": 133,
   "id": "a56c1ebb",
   "metadata": {
    "execution": {
     "iopub.execute_input": "2021-08-04T17:02:39.654007Z",
     "iopub.status.busy": "2021-08-04T17:02:39.653319Z",
     "iopub.status.idle": "2021-08-04T17:02:39.745853Z",
     "shell.execute_reply": "2021-08-04T17:02:39.746423Z",
     "shell.execute_reply.started": "2021-08-04T15:04:27.333016Z"
    },
    "papermill": {
     "duration": 0.290514,
     "end_time": "2021-08-04T17:02:39.746603",
     "exception": false,
     "start_time": "2021-08-04T17:02:39.456089",
     "status": "completed"
    },
    "tags": []
   },
   "outputs": [
    {
     "data": {
      "text/plain": [
       "<AxesSubplot:ylabel='UID'>"
      ]
     },
     "execution_count": 133,
     "metadata": {},
     "output_type": "execute_result"
    },
    {
     "data": {
      "image/png": "[encoded data removed]",
      "text/plain": [
       "<Figure size 432x288 with 1 Axes>"
      ]
     },
     "metadata": {},
     "output_type": "display_data"
    }
   ],
   "source": [
    "killed_in_march.groupby('Gender')['UID'].count().sort_values(ascending=False).plot(kind='pie')"
   ]
  },
  {
   "cell_type": "markdown",
   "id": "8748178d",
   "metadata": {
    "papermill": {
     "duration": 0.202224,
     "end_time": "2021-08-04T17:02:40.142896",
     "exception": false,
     "start_time": "2021-08-04T17:02:39.940672",
     "status": "completed"
    },
    "tags": []
   },
   "source": [
    "****How many of the individuals killed in march are have mental ill?"
   ]
  },
  {
   "cell_type": "code",
   "execution_count": 134,
   "id": "4c22809f",
   "metadata": {
    "execution": {
     "iopub.execute_input": "2021-08-04T17:02:40.538305Z",
     "iopub.status.busy": "2021-08-04T17:02:40.537564Z",
     "iopub.status.idle": "2021-08-04T17:02:40.545718Z",
     "shell.execute_reply": "2021-08-04T17:02:40.546275Z",
     "shell.execute_reply.started": "2021-08-04T15:04:27.469091Z"
    },
    "papermill": {
     "duration": 0.205711,
     "end_time": "2021-08-04T17:02:40.546455",
     "exception": false,
     "start_time": "2021-08-04T17:02:40.340744",
     "status": "completed"
    },
    "tags": []
   },
   "outputs": [
    {
     "data": {
      "text/plain": [
       "Mental_illness\n",
       "False    874\n",
       "True     289\n",
       "Name: UID, dtype: int64"
      ]
     },
     "execution_count": 134,
     "metadata": {},
     "output_type": "execute_result"
    }
   ],
   "source": [
    "killed_in_march.groupby('Mental_illness')['UID'].count().sort_values(ascending=False)"
   ]
  },
  {
   "cell_type": "code",
   "execution_count": 135,
   "id": "862b77c3",
   "metadata": {
    "execution": {
     "iopub.execute_input": "2021-08-04T17:02:40.945679Z",
     "iopub.status.busy": "2021-08-04T17:02:40.944854Z",
     "iopub.status.idle": "2021-08-04T17:02:41.040496Z",
     "shell.execute_reply": "2021-08-04T17:02:41.040988Z",
     "shell.execute_reply.started": "2021-08-04T15:04:27.484482Z"
    },
    "papermill": {
     "duration": 0.294897,
     "end_time": "2021-08-04T17:02:41.041209",
     "exception": false,
     "start_time": "2021-08-04T17:02:40.746312",
     "status": "completed"
    },
    "tags": []
   },
   "outputs": [
    {
     "data": {
      "text/plain": [
       "<AxesSubplot:ylabel='UID'>"
      ]
     },
     "execution_count": 135,
     "metadata": {},
     "output_type": "execute_result"
    },
    {
     "data": {
      "image/png": "[encoded data removed]",
      "text/plain": [
       "<Figure size 432x288 with 1 Axes>"
      ]
     },
     "metadata": {},
     "output_type": "display_data"
    }
   ],
   "source": [
    "killed_in_march.groupby('Mental_illness')['UID'].count().sort_values(ascending=False).plot(kind='pie')"
   ]
  },
  {
   "cell_type": "markdown",
   "id": "7c48dbfa",
   "metadata": {
    "papermill": {
     "duration": 0.234765,
     "end_time": "2021-08-04T17:02:41.475839",
     "exception": false,
     "start_time": "2021-08-04T17:02:41.241074",
     "status": "completed"
    },
    "tags": []
   },
   "source": [
    "****How many of the individuals killed in march are tries to escape?"
   ]
  },
  {
   "cell_type": "code",
   "execution_count": 136,
   "id": "4737d5eb",
   "metadata": {
    "execution": {
     "iopub.execute_input": "2021-08-04T17:02:41.879409Z",
     "iopub.status.busy": "2021-08-04T17:02:41.878486Z",
     "iopub.status.idle": "2021-08-04T17:02:41.881577Z",
     "shell.execute_reply": "2021-08-04T17:02:41.882127Z",
     "shell.execute_reply.started": "2021-08-04T15:04:27.598133Z"
    },
    "papermill": {
     "duration": 0.208833,
     "end_time": "2021-08-04T17:02:41.882298",
     "exception": false,
     "start_time": "2021-08-04T17:02:41.673465",
     "status": "completed"
    },
    "tags": []
   },
   "outputs": [
    {
     "data": {
      "text/plain": [
       "Flee\n",
       "False    1109\n",
       "True       54\n",
       "Name: UID, dtype: int64"
      ]
     },
     "execution_count": 136,
     "metadata": {},
     "output_type": "execute_result"
    }
   ],
   "source": [
    "killed_in_march.groupby('Flee')['UID'].count().sort_values(ascending=False)"
   ]
  },
  {
   "cell_type": "code",
   "execution_count": 137,
   "id": "d0f8b0d7",
   "metadata": {
    "execution": {
     "iopub.execute_input": "2021-08-04T17:02:42.283481Z",
     "iopub.status.busy": "2021-08-04T17:02:42.282826Z",
     "iopub.status.idle": "2021-08-04T17:02:42.378424Z",
     "shell.execute_reply": "2021-08-04T17:02:42.377873Z",
     "shell.execute_reply.started": "2021-08-04T15:04:27.610959Z"
    },
    "papermill": {
     "duration": 0.29693,
     "end_time": "2021-08-04T17:02:42.378569",
     "exception": false,
     "start_time": "2021-08-04T17:02:42.081639",
     "status": "completed"
    },
    "tags": []
   },
   "outputs": [
    {
     "data": {
      "text/plain": [
       "<AxesSubplot:ylabel='UID'>"
      ]
     },
     "execution_count": 137,
     "metadata": {},
     "output_type": "execute_result"
    },
    {
     "data": {
      "image/png": "[encoded data removed]",
      "text/plain": [
       "<Figure size 432x288 with 1 Axes>"
      ]
     },
     "metadata": {},
     "output_type": "display_data"
    }
   ],
   "source": [
    "killed_in_march.groupby('Flee')['UID'].count().sort_values(ascending=False).plot(kind='pie')"
   ]
  },
  {
   "cell_type": "markdown",
   "id": "9361f2f6",
   "metadata": {
    "papermill": {
     "duration": 0.199259,
     "end_time": "2021-08-04T17:02:42.777842",
     "exception": false,
     "start_time": "2021-08-04T17:02:42.578583",
     "status": "completed"
    },
    "tags": []
   },
   "source": [
    "What time were they killed?****"
   ]
  },
  {
   "cell_type": "code",
   "execution_count": 138,
   "id": "9bd91af2",
   "metadata": {
    "execution": {
     "iopub.execute_input": "2021-08-04T17:02:43.198094Z",
     "iopub.status.busy": "2021-08-04T17:02:43.197340Z",
     "iopub.status.idle": "2021-08-04T17:02:43.200642Z",
     "shell.execute_reply": "2021-08-04T17:02:43.201165Z",
     "shell.execute_reply.started": "2021-08-04T15:04:27.720784Z"
    },
    "papermill": {
     "duration": 0.217372,
     "end_time": "2021-08-04T17:02:43.201340",
     "exception": false,
     "start_time": "2021-08-04T17:02:42.983968",
     "status": "completed"
    },
    "tags": []
   },
   "outputs": [
    {
     "data": {
      "text/plain": [
       "Date\n",
       "3/24/2016    13\n",
       "3/13/2016    13\n",
       "3/11/2015    13\n",
       "3/19/2015    13\n",
       "3/27/2015    13\n",
       "3/7/2016     12\n",
       "3/17/2015    12\n",
       "3/19/2016    10\n",
       "3/10/2015    10\n",
       "3/17/2016    10\n",
       "Name: UID, dtype: int64"
      ]
     },
     "execution_count": 138,
     "metadata": {},
     "output_type": "execute_result"
    }
   ],
   "source": [
    "killed_in_march.groupby('Date')['UID'].count().sort_values(ascending=False).head(10)"
   ]
  },
  {
   "cell_type": "code",
   "execution_count": 139,
   "id": "b384ef66",
   "metadata": {
    "execution": {
     "iopub.execute_input": "2021-08-04T17:02:43.613294Z",
     "iopub.status.busy": "2021-08-04T17:02:43.612629Z",
     "iopub.status.idle": "2021-08-04T17:02:43.623027Z",
     "shell.execute_reply": "2021-08-04T17:02:43.622521Z",
     "shell.execute_reply.started": "2021-08-04T15:04:27.733833Z"
    },
    "papermill": {
     "duration": 0.212822,
     "end_time": "2021-08-04T17:02:43.623198",
     "exception": false,
     "start_time": "2021-08-04T17:02:43.410376",
     "status": "completed"
    },
    "tags": []
   },
   "outputs": [
    {
     "data": {
      "text/plain": [
       "Year\n",
       "2016    206\n",
       "2015    198\n",
       "2014     98\n",
       "2013     98\n",
       "2011     65\n",
       "2010     64\n",
       "2012     53\n",
       "2009     50\n",
       "2006     48\n",
       "2004     45\n",
       "2008     43\n",
       "2005     42\n",
       "2003     40\n",
       "2007     38\n",
       "2002     34\n",
       "2001     22\n",
       "2000     19\n",
       "Name: UID, dtype: int64"
      ]
     },
     "execution_count": 139,
     "metadata": {},
     "output_type": "execute_result"
    }
   ],
   "source": [
    "killed_in_march.groupby('Year')['UID'].count().sort_values(ascending=False)"
   ]
  },
  {
   "cell_type": "code",
   "execution_count": 140,
   "id": "afde4474",
   "metadata": {
    "execution": {
     "iopub.execute_input": "2021-08-04T17:02:44.039222Z",
     "iopub.status.busy": "2021-08-04T17:02:44.038524Z",
     "iopub.status.idle": "2021-08-04T17:02:44.299379Z",
     "shell.execute_reply": "2021-08-04T17:02:44.298827Z",
     "shell.execute_reply.started": "2021-08-04T15:04:27.748872Z"
    },
    "papermill": {
     "duration": 0.46751,
     "end_time": "2021-08-04T17:02:44.299535",
     "exception": false,
     "start_time": "2021-08-04T17:02:43.832025",
     "status": "completed"
    },
    "tags": []
   },
   "outputs": [
    {
     "data": {
      "text/plain": [
       "<AxesSubplot:xlabel='Year'>"
      ]
     },
     "execution_count": 140,
     "metadata": {},
     "output_type": "execute_result"
    },
    {
     "data": {
      "image/png": "[encoded data removed]",
      "text/plain": [
       "<Figure size 432x288 with 1 Axes>"
      ]
     },
     "metadata": {
      "needs_background": "light"
     },
     "output_type": "display_data"
    }
   ],
   "source": [
    "killed_in_march.groupby('Year')['UID'].count().sort_values(ascending=False).plot(kind='bar')"
   ]
  },
  {
   "cell_type": "code",
   "execution_count": 141,
   "id": "6c58af60",
   "metadata": {
    "execution": {
     "iopub.execute_input": "2021-08-04T17:02:44.755230Z",
     "iopub.status.busy": "2021-08-04T17:02:44.754566Z",
     "iopub.status.idle": "2021-08-04T17:02:44.758909Z",
     "shell.execute_reply": "2021-08-04T17:02:44.758382Z",
     "shell.execute_reply.started": "2021-08-04T15:04:28.035749Z"
    },
    "papermill": {
     "duration": 0.214839,
     "end_time": "2021-08-04T17:02:44.759045",
     "exception": false,
     "start_time": "2021-08-04T17:02:44.544206",
     "status": "completed"
    },
    "tags": []
   },
   "outputs": [
    {
     "data": {
      "text/plain": [
       "Day\n",
       "10    56\n",
       "20    50\n",
       "19    49\n",
       "31    48\n",
       "13    48\n",
       "27    48\n",
       "17    47\n",
       "7     45\n",
       "21    44\n",
       "24    42\n",
       "18    39\n",
       "16    39\n",
       "12    39\n",
       "8     39\n",
       "5     39\n",
       "1     38\n",
       "11    37\n",
       "6     36\n",
       "23    34\n",
       "26    34\n",
       "29    34\n",
       "14    33\n",
       "15    32\n",
       "9     31\n",
       "25    30\n",
       "4     29\n",
       "30    27\n",
       "22    27\n",
       "3     25\n",
       "28    24\n",
       "2     20\n",
       "Name: UID, dtype: int64"
      ]
     },
     "execution_count": 141,
     "metadata": {},
     "output_type": "execute_result"
    }
   ],
   "source": [
    "killed_in_march.groupby('Day')['UID'].count().sort_values(ascending=False)"
   ]
  },
  {
   "cell_type": "code",
   "execution_count": 142,
   "id": "2257eaaa",
   "metadata": {
    "execution": {
     "iopub.execute_input": "2021-08-04T17:02:45.170304Z",
     "iopub.status.busy": "2021-08-04T17:02:45.169609Z",
     "iopub.status.idle": "2021-08-04T17:02:45.362136Z",
     "shell.execute_reply": "2021-08-04T17:02:45.362682Z",
     "shell.execute_reply.started": "2021-08-04T15:04:28.049012Z"
    },
    "papermill": {
     "duration": 0.401778,
     "end_time": "2021-08-04T17:02:45.362879",
     "exception": false,
     "start_time": "2021-08-04T17:02:44.961101",
     "status": "completed"
    },
    "tags": []
   },
   "outputs": [
    {
     "data": {
      "text/plain": [
       "<AxesSubplot:xlabel='Day'>"
      ]
     },
     "execution_count": 142,
     "metadata": {},
     "output_type": "execute_result"
    },
    {
     "data": {
      "image/png": "[encoded data removed]",
      "text/plain": [
       "<Figure size 432x288 with 1 Axes>"
      ]
     },
     "metadata": {
      "needs_background": "light"
     },
     "output_type": "display_data"
    }
   ],
   "source": [
    "killed_in_march.groupby('Day')['UID'].count().sort_values(ascending=False).head(10).plot(kind='bar')"
   ]
  },
  {
   "cell_type": "markdown",
   "id": "201456f0",
   "metadata": {
    "papermill": {
     "duration": 0.202703,
     "end_time": "2021-08-04T17:02:45.773641",
     "exception": false,
     "start_time": "2021-08-04T17:02:45.570938",
     "status": "completed"
    },
    "tags": []
   },
   "source": [
    "Which race recorded the most murders in March?"
   ]
  },
  {
   "cell_type": "code",
   "execution_count": 143,
   "id": "e750f54b",
   "metadata": {
    "execution": {
     "iopub.execute_input": "2021-08-04T17:02:46.189710Z",
     "iopub.status.busy": "2021-08-04T17:02:46.188858Z",
     "iopub.status.idle": "2021-08-04T17:02:46.193154Z",
     "shell.execute_reply": "2021-08-04T17:02:46.192631Z",
     "shell.execute_reply.started": "2021-08-04T15:04:28.247752Z"
    },
    "papermill": {
     "duration": 0.218031,
     "end_time": "2021-08-04T17:02:46.193300",
     "exception": false,
     "start_time": "2021-08-04T17:02:45.975269",
     "status": "completed"
    },
    "tags": []
   },
   "outputs": [
    {
     "data": {
      "text/plain": [
       "Race\n",
       "UnKnown     383\n",
       "White       358\n",
       "Black       228\n",
       "Hispanic    164\n",
       "Native       13\n",
       "Asian        12\n",
       "Other         5\n",
       "Name: UID, dtype: int64"
      ]
     },
     "execution_count": 143,
     "metadata": {},
     "output_type": "execute_result"
    }
   ],
   "source": [
    "killed_in_march.groupby('Race')['UID'].count().sort_values(ascending=False)"
   ]
  },
  {
   "cell_type": "code",
   "execution_count": 144,
   "id": "841581c8",
   "metadata": {
    "execution": {
     "iopub.execute_input": "2021-08-04T17:02:46.602463Z",
     "iopub.status.busy": "2021-08-04T17:02:46.601788Z",
     "iopub.status.idle": "2021-08-04T17:02:46.784130Z",
     "shell.execute_reply": "2021-08-04T17:02:46.784834Z",
     "shell.execute_reply.started": "2021-08-04T15:04:28.260178Z"
    },
    "papermill": {
     "duration": 0.391586,
     "end_time": "2021-08-04T17:02:46.785013",
     "exception": false,
     "start_time": "2021-08-04T17:02:46.393427",
     "status": "completed"
    },
    "tags": []
   },
   "outputs": [
    {
     "data": {
      "text/plain": [
       "<AxesSubplot:xlabel='Race'>"
      ]
     },
     "execution_count": 144,
     "metadata": {},
     "output_type": "execute_result"
    },
    {
     "data": {
      "image/png": "[encoded data removed]",
      "text/plain": [
       "<Figure size 432x288 with 1 Axes>"
      ]
     },
     "metadata": {
      "needs_background": "light"
     },
     "output_type": "display_data"
    }
   ],
   "source": [
    "killed_in_march.groupby('Race')['UID'].count().sort_values(ascending=False).plot(kind='bar')"
   ]
  },
  {
   "cell_type": "markdown",
   "id": "1a20d1c5",
   "metadata": {
    "papermill": {
     "duration": 0.205204,
     "end_time": "2021-08-04T17:02:47.194404",
     "exception": false,
     "start_time": "2021-08-04T17:02:46.989200",
     "status": "completed"
    },
    "tags": []
   },
   "source": [
    "Where were they killed during March? The city? The state? The region?"
   ]
  },
  {
   "cell_type": "code",
   "execution_count": 145,
   "id": "016421ab",
   "metadata": {
    "execution": {
     "iopub.execute_input": "2021-08-04T17:02:47.609542Z",
     "iopub.status.busy": "2021-08-04T17:02:47.606543Z",
     "iopub.status.idle": "2021-08-04T17:02:47.613903Z",
     "shell.execute_reply": "2021-08-04T17:02:47.613397Z",
     "shell.execute_reply.started": "2021-08-04T15:04:28.471516Z"
    },
    "papermill": {
     "duration": 0.217669,
     "end_time": "2021-08-04T17:02:47.614043",
     "exception": false,
     "start_time": "2021-08-04T17:02:47.396374",
     "status": "completed"
    },
    "tags": []
   },
   "outputs": [
    {
     "data": {
      "text/plain": [
       "City\n",
       "Los Angeles     30\n",
       "Houston         29\n",
       "Phoenix         18\n",
       "Chicago         16\n",
       "Dallas          12\n",
       "Jacksonville    12\n",
       "San Diego       12\n",
       "San Antonio     11\n",
       "Bakersfield     11\n",
       "Albuquerque     11\n",
       "Name: UID, dtype: int64"
      ]
     },
     "execution_count": 145,
     "metadata": {},
     "output_type": "execute_result"
    }
   ],
   "source": [
    "killed_in_march.groupby('City')['UID'].count().sort_values(ascending=False).head(10)"
   ]
  },
  {
   "cell_type": "code",
   "execution_count": 146,
   "id": "8fa79599",
   "metadata": {
    "execution": {
     "iopub.execute_input": "2021-08-04T17:02:48.026685Z",
     "iopub.status.busy": "2021-08-04T17:02:48.026009Z",
     "iopub.status.idle": "2021-08-04T17:02:48.230506Z",
     "shell.execute_reply": "2021-08-04T17:02:48.229954Z",
     "shell.execute_reply.started": "2021-08-04T15:04:28.487846Z"
    },
    "papermill": {
     "duration": 0.411439,
     "end_time": "2021-08-04T17:02:48.230653",
     "exception": false,
     "start_time": "2021-08-04T17:02:47.819214",
     "status": "completed"
    },
    "tags": []
   },
   "outputs": [
    {
     "data": {
      "text/plain": [
       "<AxesSubplot:xlabel='City'>"
      ]
     },
     "execution_count": 146,
     "metadata": {},
     "output_type": "execute_result"
    },
    {
     "data": {
      "image/png": "[encoded data removed]",
      "text/plain": [
       "<Figure size 432x288 with 1 Axes>"
      ]
     },
     "metadata": {
      "needs_background": "light"
     },
     "output_type": "display_data"
    }
   ],
   "source": [
    "killed_in_march.groupby('City')['UID'].count().sort_values(ascending=False).head(10).plot(kind='bar')"
   ]
  },
  {
   "cell_type": "code",
   "execution_count": 147,
   "id": "7ad1fc70",
   "metadata": {
    "execution": {
     "iopub.execute_input": "2021-08-04T17:02:48.692122Z",
     "iopub.status.busy": "2021-08-04T17:02:48.690407Z",
     "iopub.status.idle": "2021-08-04T17:02:48.694472Z",
     "shell.execute_reply": "2021-08-04T17:02:48.691325Z",
     "shell.execute_reply.started": "2021-08-04T15:04:28.704689Z"
    },
    "papermill": {
     "duration": 0.248888,
     "end_time": "2021-08-04T17:02:48.694672",
     "exception": false,
     "start_time": "2021-08-04T17:02:48.445784",
     "status": "completed"
    },
    "tags": []
   },
   "outputs": [
    {
     "data": {
      "text/plain": [
       "State\n",
       "California        278\n",
       "Florida           107\n",
       "Texas             103\n",
       "Arizona            60\n",
       "New York           41\n",
       "Wyoming            37\n",
       "North Carolina     31\n",
       "Maryland           31\n",
       "Illinois           26\n",
       "Alabama            26\n",
       "Name: UID, dtype: int64"
      ]
     },
     "execution_count": 147,
     "metadata": {},
     "output_type": "execute_result"
    }
   ],
   "source": [
    "killed_in_march.groupby('State')['UID'].count().sort_values(ascending=False).head(10)"
   ]
  },
  {
   "cell_type": "code",
   "execution_count": 148,
   "id": "3b1bfc51",
   "metadata": {
    "execution": {
     "iopub.execute_input": "2021-08-04T17:02:49.143135Z",
     "iopub.status.busy": "2021-08-04T17:02:49.142136Z",
     "iopub.status.idle": "2021-08-04T17:02:49.341352Z",
     "shell.execute_reply": "2021-08-04T17:02:49.340661Z",
     "shell.execute_reply.started": "2021-08-04T15:04:28.717993Z"
    },
    "papermill": {
     "duration": 0.420349,
     "end_time": "2021-08-04T17:02:49.341500",
     "exception": false,
     "start_time": "2021-08-04T17:02:48.921151",
     "status": "completed"
    },
    "tags": []
   },
   "outputs": [
    {
     "data": {
      "text/plain": [
       "<AxesSubplot:xlabel='State'>"
      ]
     },
     "execution_count": 148,
     "metadata": {},
     "output_type": "execute_result"
    },
    {
     "data": {
      "image/png": "[encoded data removed]",
      "text/plain": [
       "<Figure size 432x288 with 1 Axes>"
      ]
     },
     "metadata": {
      "needs_background": "light"
     },
     "output_type": "display_data"
    }
   ],
   "source": [
    "killed_in_march.groupby('State')['UID'].count().sort_values(ascending=False).head(10).plot(kind='bar')"
   ]
  },
  {
   "cell_type": "code",
   "execution_count": 149,
   "id": "a90106c3",
   "metadata": {
    "execution": {
     "iopub.execute_input": "2021-08-04T17:02:49.771226Z",
     "iopub.status.busy": "2021-08-04T17:02:49.770561Z",
     "iopub.status.idle": "2021-08-04T17:02:49.777375Z",
     "shell.execute_reply": "2021-08-04T17:02:49.776810Z",
     "shell.execute_reply.started": "2021-08-04T15:04:28.932206Z"
    },
    "papermill": {
     "duration": 0.226487,
     "end_time": "2021-08-04T17:02:49.777526",
     "exception": false,
     "start_time": "2021-08-04T17:02:49.551039",
     "status": "completed"
    },
    "tags": []
   },
   "outputs": [
    {
     "data": {
      "text/plain": [
       "Region\n",
       "west         494\n",
       "south        430\n",
       "Midwest      139\n",
       "northeast    100\n",
       "Name: UID, dtype: int64"
      ]
     },
     "execution_count": 149,
     "metadata": {},
     "output_type": "execute_result"
    }
   ],
   "source": [
    "killed_in_march.groupby('Region')['UID'].count().sort_values(ascending=False)"
   ]
  },
  {
   "cell_type": "code",
   "execution_count": 150,
   "id": "58388117",
   "metadata": {
    "execution": {
     "iopub.execute_input": "2021-08-04T17:02:50.244553Z",
     "iopub.status.busy": "2021-08-04T17:02:50.243862Z",
     "iopub.status.idle": "2021-08-04T17:02:50.321668Z",
     "shell.execute_reply": "2021-08-04T17:02:50.320946Z",
     "shell.execute_reply.started": "2021-08-04T15:04:28.943933Z"
    },
    "papermill": {
     "duration": 0.331822,
     "end_time": "2021-08-04T17:02:50.321820",
     "exception": false,
     "start_time": "2021-08-04T17:02:49.989998",
     "status": "completed"
    },
    "tags": []
   },
   "outputs": [
    {
     "data": {
      "text/plain": [
       "<AxesSubplot:ylabel='UID'>"
      ]
     },
     "execution_count": 150,
     "metadata": {},
     "output_type": "execute_result"
    },
    {
     "data": {
      "image/png": "[encoded data removed]",
      "text/plain": [
       "<Figure size 432x288 with 1 Axes>"
      ]
     },
     "metadata": {},
     "output_type": "display_data"
    }
   ],
   "source": [
    "killed_in_march.groupby('Region')['UID'].count().sort_values(ascending=False).plot(kind='pie')"
   ]
  },
  {
   "cell_type": "markdown",
   "id": "9bcc7335",
   "metadata": {
    "papermill": {
     "duration": 0.214009,
     "end_time": "2021-08-04T17:02:50.754868",
     "exception": false,
     "start_time": "2021-08-04T17:02:50.540859",
     "status": "completed"
    },
    "tags": []
   },
   "source": [
    "# Which week records the most Kill Events by police?\n",
    "How many black are there?\n",
    "And how many Senior Adult of them?\n",
    "How many armed with a gun of them?"
   ]
  },
  {
   "cell_type": "markdown",
   "id": "542c1c23",
   "metadata": {
    "papermill": {
     "duration": 0.208893,
     "end_time": "2021-08-04T17:02:51.178829",
     "exception": false,
     "start_time": "2021-08-04T17:02:50.969936",
     "status": "completed"
    },
    "tags": []
   },
   "source": [
    "# Which city records the most Kill Events by police?"
   ]
  },
  {
   "cell_type": "code",
   "execution_count": 151,
   "id": "edbc611e",
   "metadata": {
    "execution": {
     "iopub.execute_input": "2021-08-04T17:02:51.614575Z",
     "iopub.status.busy": "2021-08-04T17:02:51.613897Z",
     "iopub.status.idle": "2021-08-04T17:02:51.626497Z",
     "shell.execute_reply": "2021-08-04T17:02:51.625897Z",
     "shell.execute_reply.started": "2021-08-04T15:04:29.059961Z"
    },
    "papermill": {
     "duration": 0.232094,
     "end_time": "2021-08-04T17:02:51.626659",
     "exception": false,
     "start_time": "2021-08-04T17:02:51.394565",
     "status": "completed"
    },
    "tags": []
   },
   "outputs": [
    {
     "data": {
      "text/plain": [
       "City\n",
       "Los Angeles     297\n",
       "Houston         247\n",
       "Phoenix         176\n",
       "Chicago         175\n",
       "Las Vegas       153\n",
       "Miami           104\n",
       "San Diego       104\n",
       "Dallas           99\n",
       "Tucson           93\n",
       "Jacksonville     93\n",
       "Name: UID, dtype: int64"
      ]
     },
     "execution_count": 151,
     "metadata": {},
     "output_type": "execute_result"
    }
   ],
   "source": [
    "data.groupby('City')['UID'].count().sort_values(ascending=False).head(10)"
   ]
  },
  {
   "cell_type": "code",
   "execution_count": 152,
   "id": "8f84cd73",
   "metadata": {
    "execution": {
     "iopub.execute_input": "2021-08-04T17:02:52.063706Z",
     "iopub.status.busy": "2021-08-04T17:02:52.062883Z",
     "iopub.status.idle": "2021-08-04T17:02:52.280476Z",
     "shell.execute_reply": "2021-08-04T17:02:52.279575Z",
     "shell.execute_reply.started": "2021-08-04T15:04:29.081815Z"
    },
    "papermill": {
     "duration": 0.438214,
     "end_time": "2021-08-04T17:02:52.280631",
     "exception": false,
     "start_time": "2021-08-04T17:02:51.842417",
     "status": "completed"
    },
    "tags": []
   },
   "outputs": [
    {
     "data": {
      "text/plain": [
       "<AxesSubplot:ylabel='City'>"
      ]
     },
     "execution_count": 152,
     "metadata": {},
     "output_type": "execute_result"
    },
    {
     "data": {
      "image/png": "[encoded data removed]",
      "text/plain": [
       "<Figure size 432x288 with 1 Axes>"
      ]
     },
     "metadata": {
      "needs_background": "light"
     },
     "output_type": "display_data"
    }
   ],
   "source": [
    "data.groupby('City')['UID'].count().sort_values(ascending=False).head(10).plot(kind='barh')"
   ]
  },
  {
   "cell_type": "code",
   "execution_count": 153,
   "id": "add387eb",
   "metadata": {
    "execution": {
     "iopub.execute_input": "2021-08-04T17:02:52.736580Z",
     "iopub.status.busy": "2021-08-04T17:02:52.735882Z",
     "iopub.status.idle": "2021-08-04T17:02:52.739452Z",
     "shell.execute_reply": "2021-08-04T17:02:52.738870Z",
     "shell.execute_reply.started": "2021-08-04T15:04:29.322336Z"
    },
    "papermill": {
     "duration": 0.225661,
     "end_time": "2021-08-04T17:02:52.739608",
     "exception": false,
     "start_time": "2021-08-04T17:02:52.513947",
     "status": "completed"
    },
    "tags": []
   },
   "outputs": [],
   "source": [
    "kiled_in_los_Angeles=data[data['City']=='Los Angeles']"
   ]
  },
  {
   "cell_type": "code",
   "execution_count": 154,
   "id": "a6f03aea",
   "metadata": {
    "execution": {
     "iopub.execute_input": "2021-08-04T17:02:53.186872Z",
     "iopub.status.busy": "2021-08-04T17:02:53.185999Z",
     "iopub.status.idle": "2021-08-04T17:02:53.191215Z",
     "shell.execute_reply": "2021-08-04T17:02:53.190556Z",
     "shell.execute_reply.started": "2021-08-04T15:04:29.333575Z"
    },
    "papermill": {
     "duration": 0.241657,
     "end_time": "2021-08-04T17:02:53.191361",
     "exception": false,
     "start_time": "2021-08-04T17:02:52.949704",
     "status": "completed"
    },
    "tags": []
   },
   "outputs": [
    {
     "data": {
      "text/html": [
       "<div>\n",
       "<style scoped>\n",
       "    .dataframe tbody tr th:only-of-type {\n",
       "        vertical-align: middle;\n",
       "    }\n",
       "\n",
       "    .dataframe tbody tr th {\n",
       "        vertical-align: top;\n",
       "    }\n",
       "\n",
       "    .dataframe thead th {\n",
       "        text-align: right;\n",
       "    }\n",
       "</style>\n",
       "<table border=\"1\" class=\"dataframe\">\n",
       "  <thead>\n",
       "    <tr style=\"text-align: right;\">\n",
       "      <th></th>\n",
       "      <th>UID</th>\n",
       "      <th>Name</th>\n",
       "      <th>Age</th>\n",
       "      <th>Gender</th>\n",
       "      <th>Race</th>\n",
       "      <th>Date</th>\n",
       "      <th>City</th>\n",
       "      <th>State</th>\n",
       "      <th>Manner_of_death</th>\n",
       "      <th>Armed</th>\n",
       "      <th>Mental_illness</th>\n",
       "      <th>Flee</th>\n",
       "      <th>Region</th>\n",
       "      <th>Year</th>\n",
       "      <th>Month</th>\n",
       "      <th>Quarter</th>\n",
       "      <th>Day</th>\n",
       "      <th>Week</th>\n",
       "      <th>Stages of Life</th>\n",
       "    </tr>\n",
       "  </thead>\n",
       "  <tbody>\n",
       "    <tr>\n",
       "      <th>10</th>\n",
       "      <td>965</td>\n",
       "      <td>Douglas Kim</td>\n",
       "      <td>55</td>\n",
       "      <td>Male</td>\n",
       "      <td>Asian</td>\n",
       "      <td>2/24/2002</td>\n",
       "      <td>Los Angeles</td>\n",
       "      <td>California</td>\n",
       "      <td>Shot</td>\n",
       "      <td>Gun</td>\n",
       "      <td>False</td>\n",
       "      <td>False</td>\n",
       "      <td>west</td>\n",
       "      <td>2002</td>\n",
       "      <td>2</td>\n",
       "      <td>1</td>\n",
       "      <td>24</td>\n",
       "      <td>8</td>\n",
       "      <td>Middle Age Adult</td>\n",
       "    </tr>\n",
       "    <tr>\n",
       "      <th>46</th>\n",
       "      <td>4241</td>\n",
       "      <td>Samuel Om</td>\n",
       "      <td>21</td>\n",
       "      <td>Male</td>\n",
       "      <td>Asian</td>\n",
       "      <td>5/13/2008</td>\n",
       "      <td>Los Angeles</td>\n",
       "      <td>California</td>\n",
       "      <td>Shot</td>\n",
       "      <td>Gun</td>\n",
       "      <td>False</td>\n",
       "      <td>False</td>\n",
       "      <td>west</td>\n",
       "      <td>2008</td>\n",
       "      <td>5</td>\n",
       "      <td>2</td>\n",
       "      <td>13</td>\n",
       "      <td>20</td>\n",
       "      <td>Adult</td>\n",
       "    </tr>\n",
       "    <tr>\n",
       "      <th>66</th>\n",
       "      <td>6668</td>\n",
       "      <td>Shonchy Thaopraseuth</td>\n",
       "      <td>22</td>\n",
       "      <td>Male</td>\n",
       "      <td>Asian</td>\n",
       "      <td>2/23/2012</td>\n",
       "      <td>Los Angeles</td>\n",
       "      <td>California</td>\n",
       "      <td>Shot</td>\n",
       "      <td>Gun</td>\n",
       "      <td>False</td>\n",
       "      <td>False</td>\n",
       "      <td>west</td>\n",
       "      <td>2012</td>\n",
       "      <td>2</td>\n",
       "      <td>1</td>\n",
       "      <td>23</td>\n",
       "      <td>8</td>\n",
       "      <td>Adult</td>\n",
       "    </tr>\n",
       "    <tr>\n",
       "      <th>94</th>\n",
       "      <td>9019</td>\n",
       "      <td>Eddie Dougie Phongsavad</td>\n",
       "      <td>45</td>\n",
       "      <td>Male</td>\n",
       "      <td>Asian</td>\n",
       "      <td>4/13/2014</td>\n",
       "      <td>Los Angeles</td>\n",
       "      <td>California</td>\n",
       "      <td>Shot</td>\n",
       "      <td>Knife</td>\n",
       "      <td>False</td>\n",
       "      <td>False</td>\n",
       "      <td>west</td>\n",
       "      <td>2014</td>\n",
       "      <td>4</td>\n",
       "      <td>2</td>\n",
       "      <td>13</td>\n",
       "      <td>15</td>\n",
       "      <td>Middle Age Adult</td>\n",
       "    </tr>\n",
       "    <tr>\n",
       "      <th>162</th>\n",
       "      <td>14452</td>\n",
       "      <td>Marion Habana</td>\n",
       "      <td>28</td>\n",
       "      <td>Male</td>\n",
       "      <td>Asian</td>\n",
       "      <td>4/30/2016</td>\n",
       "      <td>Los Angeles</td>\n",
       "      <td>California</td>\n",
       "      <td>Shot</td>\n",
       "      <td>Knife</td>\n",
       "      <td>False</td>\n",
       "      <td>False</td>\n",
       "      <td>west</td>\n",
       "      <td>2016</td>\n",
       "      <td>4</td>\n",
       "      <td>2</td>\n",
       "      <td>30</td>\n",
       "      <td>18</td>\n",
       "      <td>Adult</td>\n",
       "    </tr>\n",
       "  </tbody>\n",
       "</table>\n",
       "</div>"
      ],
      "text/plain": [
       "       UID                     Name  Age Gender   Race       Date  \\\n",
       "10     965              Douglas Kim   55   Male  Asian  2/24/2002   \n",
       "46    4241                Samuel Om   21   Male  Asian  5/13/2008   \n",
       "66    6668     Shonchy Thaopraseuth   22   Male  Asian  2/23/2012   \n",
       "94    9019  Eddie Dougie Phongsavad   45   Male  Asian  4/13/2014   \n",
       "162  14452            Marion Habana   28   Male  Asian  4/30/2016   \n",
       "\n",
       "            City       State Manner_of_death  Armed  Mental_illness   Flee  \\\n",
       "10   Los Angeles  California            Shot    Gun           False  False   \n",
       "46   Los Angeles  California            Shot    Gun           False  False   \n",
       "66   Los Angeles  California            Shot    Gun           False  False   \n",
       "94   Los Angeles  California            Shot  Knife           False  False   \n",
       "162  Los Angeles  California            Shot  Knife           False  False   \n",
       "\n",
       "    Region  Year  Month  Quarter  Day Week    Stages of Life  \n",
       "10    west  2002      2        1   24    8  Middle Age Adult  \n",
       "46    west  2008      5        2   13   20             Adult  \n",
       "66    west  2012      2        1   23    8             Adult  \n",
       "94    west  2014      4        2   13   15  Middle Age Adult  \n",
       "162   west  2016      4        2   30   18             Adult  "
      ]
     },
     "execution_count": 154,
     "metadata": {},
     "output_type": "execute_result"
    }
   ],
   "source": [
    "kiled_in_los_Angeles.head()"
   ]
  },
  {
   "cell_type": "code",
   "execution_count": 155,
   "id": "be28b708",
   "metadata": {
    "execution": {
     "iopub.execute_input": "2021-08-04T17:02:53.638713Z",
     "iopub.status.busy": "2021-08-04T17:02:53.636366Z",
     "iopub.status.idle": "2021-08-04T17:02:53.643201Z",
     "shell.execute_reply": "2021-08-04T17:02:53.642688Z",
     "shell.execute_reply.started": "2021-08-04T15:04:29.366416Z"
    },
    "papermill": {
     "duration": 0.225813,
     "end_time": "2021-08-04T17:02:53.643343",
     "exception": false,
     "start_time": "2021-08-04T17:02:53.417530",
     "status": "completed"
    },
    "tags": []
   },
   "outputs": [
    {
     "data": {
      "text/plain": [
       "Age\n",
       "35    17\n",
       "22    15\n",
       "25    14\n",
       "26    14\n",
       "29    13\n",
       "34    13\n",
       "19    12\n",
       "24    12\n",
       "18    11\n",
       "39    10\n",
       "Name: UID, dtype: int64"
      ]
     },
     "execution_count": 155,
     "metadata": {},
     "output_type": "execute_result"
    }
   ],
   "source": [
    "kiled_in_los_Angeles.groupby('Age')['UID'].count().sort_values(ascending=False).head(10)"
   ]
  },
  {
   "cell_type": "code",
   "execution_count": 156,
   "id": "c69b0f14",
   "metadata": {
    "execution": {
     "iopub.execute_input": "2021-08-04T17:02:54.070013Z",
     "iopub.status.busy": "2021-08-04T17:02:54.069381Z",
     "iopub.status.idle": "2021-08-04T17:02:54.282001Z",
     "shell.execute_reply": "2021-08-04T17:02:54.282636Z",
     "shell.execute_reply.started": "2021-08-04T15:04:29.389755Z"
    },
    "papermill": {
     "duration": 0.426656,
     "end_time": "2021-08-04T17:02:54.282838",
     "exception": false,
     "start_time": "2021-08-04T17:02:53.856182",
     "status": "completed"
    },
    "tags": []
   },
   "outputs": [
    {
     "data": {
      "text/plain": [
       "<AxesSubplot:xlabel='Age'>"
      ]
     },
     "execution_count": 156,
     "metadata": {},
     "output_type": "execute_result"
    },
    {
     "data": {
      "image/png": "[encoded data removed]",
      "text/plain": [
       "<Figure size 432x288 with 1 Axes>"
      ]
     },
     "metadata": {
      "needs_background": "light"
     },
     "output_type": "display_data"
    }
   ],
   "source": [
    "kiled_in_los_Angeles.groupby('Age')['UID'].count().sort_values(ascending=False).head(10).plot(kind='bar',color='green')"
   ]
  },
  {
   "cell_type": "code",
   "execution_count": 157,
   "id": "2d8a69eb",
   "metadata": {
    "execution": {
     "iopub.execute_input": "2021-08-04T17:02:54.725818Z",
     "iopub.status.busy": "2021-08-04T17:02:54.725161Z",
     "iopub.status.idle": "2021-08-04T17:02:54.735306Z",
     "shell.execute_reply": "2021-08-04T17:02:54.734783Z",
     "shell.execute_reply.started": "2021-08-04T15:04:29.608347Z"
    },
    "papermill": {
     "duration": 0.234006,
     "end_time": "2021-08-04T17:02:54.735448",
     "exception": false,
     "start_time": "2021-08-04T17:02:54.501442",
     "status": "completed"
    },
    "tags": []
   },
   "outputs": [
    {
     "data": {
      "text/plain": [
       "Stages of Life\n",
       "Adult               194\n",
       "Middle Age Adult     58\n",
       "Teen                 36\n",
       "Senior Adult          8\n",
       "Infant                1\n",
       "Name: UID, dtype: int64"
      ]
     },
     "execution_count": 157,
     "metadata": {},
     "output_type": "execute_result"
    }
   ],
   "source": [
    "kiled_in_los_Angeles.groupby('Stages of Life')['UID'].count().sort_values(ascending=False)"
   ]
  },
  {
   "cell_type": "code",
   "execution_count": 158,
   "id": "dcc34b23",
   "metadata": {
    "execution": {
     "iopub.execute_input": "2021-08-04T17:02:55.179735Z",
     "iopub.status.busy": "2021-08-04T17:02:55.178981Z",
     "iopub.status.idle": "2021-08-04T17:02:55.361192Z",
     "shell.execute_reply": "2021-08-04T17:02:55.361865Z",
     "shell.execute_reply.started": "2021-08-04T15:04:29.622382Z"
    },
    "papermill": {
     "duration": 0.407346,
     "end_time": "2021-08-04T17:02:55.362072",
     "exception": false,
     "start_time": "2021-08-04T17:02:54.954726",
     "status": "completed"
    },
    "tags": []
   },
   "outputs": [
    {
     "data": {
      "text/plain": [
       "<AxesSubplot:xlabel='Stages of Life'>"
      ]
     },
     "execution_count": 158,
     "metadata": {},
     "output_type": "execute_result"
    },
    {
     "data": {
      "image/png": "[encoded data removed]",
      "text/plain": [
       "<Figure size 432x288 with 1 Axes>"
      ]
     },
     "metadata": {
      "needs_background": "light"
     },
     "output_type": "display_data"
    }
   ],
   "source": [
    "kiled_in_los_Angeles.groupby('Stages of Life')['UID'].count().sort_values(ascending=False).head(10).plot(kind='bar',color='green')"
   ]
  },
  {
   "cell_type": "markdown",
   "id": "dbc1b823",
   "metadata": {
    "papermill": {
     "duration": 0.223601,
     "end_time": "2021-08-04T17:02:55.813624",
     "exception": false,
     "start_time": "2021-08-04T17:02:55.590023",
     "status": "completed"
    },
    "tags": []
   },
   "source": [
    "# Which State records the most Kill Events by police?"
   ]
  },
  {
   "cell_type": "markdown",
   "id": "0b9be50a",
   "metadata": {
    "papermill": {
     "duration": 0.213037,
     "end_time": "2021-08-04T17:02:56.240399",
     "exception": false,
     "start_time": "2021-08-04T17:02:56.027362",
     "status": "completed"
    },
    "tags": []
   },
   "source": [
    "# Which gender records the most Kill Events by police?"
   ]
  },
  {
   "cell_type": "markdown",
   "id": "93ad0d11",
   "metadata": {
    "papermill": {
     "duration": 0.218893,
     "end_time": "2021-08-04T17:02:56.671294",
     "exception": false,
     "start_time": "2021-08-04T17:02:56.452401",
     "status": "completed"
    },
    "tags": []
   },
   "source": [
    "# Which age records the most Kill Events by police?"
   ]
  },
  {
   "cell_type": "markdown",
   "id": "7e3a7b44",
   "metadata": {
    "papermill": {
     "duration": 0.216137,
     "end_time": "2021-08-04T17:02:57.105811",
     "exception": false,
     "start_time": "2021-08-04T17:02:56.889674",
     "status": "completed"
    },
    "tags": []
   },
   "source": [
    "# Which Race records the most Kill Events by police?"
   ]
  },
  {
   "cell_type": "markdown",
   "id": "c9caf03e",
   "metadata": {
    "papermill": {
     "duration": 0.210746,
     "end_time": "2021-08-04T17:02:57.529429",
     "exception": false,
     "start_time": "2021-08-04T17:02:57.318683",
     "status": "completed"
    },
    "tags": []
   },
   "source": [
    "# Which manner of death records the most Kill Events by police?"
   ]
  },
  {
   "cell_type": "markdown",
   "id": "6111fa25",
   "metadata": {
    "papermill": {
     "duration": 0.212253,
     "end_time": "2021-08-04T17:02:57.953223",
     "exception": false,
     "start_time": "2021-08-04T17:02:57.740970",
     "status": "completed"
    },
    "tags": []
   },
   "source": [
    "# Which type of arm records the most Kill Events by police?"
   ]
  },
  {
   "cell_type": "markdown",
   "id": "ddcd2980",
   "metadata": {
    "papermill": {
     "duration": 0.212443,
     "end_time": "2021-08-04T17:02:58.382618",
     "exception": false,
     "start_time": "2021-08-04T17:02:58.170175",
     "status": "completed"
    },
    "tags": []
   },
   "source": [
    "# Which stage of life records the most Kill Events by police?"
   ]
  },
  {
   "cell_type": "code",
   "execution_count": null,
   "id": "e797b960",
   "metadata": {
    "papermill": {
     "duration": 0.210733,
     "end_time": "2021-08-04T17:02:58.803499",
     "exception": false,
     "start_time": "2021-08-04T17:02:58.592766",
     "status": "completed"
    },
    "tags": []
   },
   "outputs": [],
   "source": []
  }
 ],
 "metadata": {
  "kernelspec": {
   "display_name": "Python 3",
   "language": "python",
   "name": "python3"
  },
  "language_info": {
   "codemirror_mode": {
    "name": "ipython",
    "version": 3
   },
   "file_extension": ".py",
   "mimetype": "text/x-python",
   "name": "python",
   "nbconvert_exporter": "python",
   "pygments_lexer": "ipython3",
   "version": "3.7.10"
  },
  "papermill": {
   "default_parameters": {},
   "duration": 84.184921,
   "end_time": "2021-08-04T17:02:59.926748",
   "environment_variables": {},
   "exception": null,
   "input_path": "__notebook__.ipynb",
   "output_path": "__notebook__.ipynb",
   "parameters": {},
   "start_time": "2021-08-04T17:01:35.741827",
   "version": "2.3.3"
  }
 },
 "nbformat": 4,
 "nbformat_minor": 5
}
