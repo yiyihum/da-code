{
 "cells": [
  {
   "cell_type": "code",
   "execution_count": 1,
   "id": "a63dd87f",
   "metadata": {
    "_cell_guid": "b1076dfc-b9ad-4769-8c92-a6c4dae69d19",
    "_uuid": "8f2839f25d086af736a60e9eeb907d3b93b6e0e5",
    "execution": {
     "iopub.execute_input": "2024-05-14T19:31:42.851094Z",
     "iopub.status.busy": "2024-05-14T19:31:42.850328Z",
     "iopub.status.idle": "2024-05-14T19:31:43.829117Z",
     "shell.execute_reply": "2024-05-14T19:31:43.827686Z"
    },
    "papermill": {
     "duration": 0.995366,
     "end_time": "2024-05-14T19:31:43.831902",
     "exception": false,
     "start_time": "2024-05-14T19:31:42.836536",
     "status": "completed"
    },
    "tags": []
   },
   "outputs": [
    {
     "name": "stdout",
     "output_type": "stream",
     "text": [
      "/kaggle/input/patient-ratings-identifying-best-drugs/Drug Reviews (Drugs.com)/drugsComTest_raw.csv\n",
      "/kaggle/input/patient-ratings-identifying-best-drugs/Drug Reviews (Drugs.com)/drugsComTrain_raw.csv\n",
      "/kaggle/input/patient-ratings-identifying-best-drugs/Drug Reviews (Druglib.com)/drugLibTest_raw.csv\n",
      "/kaggle/input/patient-ratings-identifying-best-drugs/Drug Reviews (Druglib.com)/drugLibTrain_raw.csv\n"
     ]
    }
   ],
   "source": [
    "import numpy as np \n",
    "import pandas as pd\n"
   ]
  },
  {
   "cell_type": "code",
   "execution_count": 2,
   "id": "242e0cd3",
   "metadata": {
    "execution": {
     "iopub.execute_input": "2024-05-14T19:31:43.856294Z",
     "iopub.status.busy": "2024-05-14T19:31:43.855786Z",
     "iopub.status.idle": "2024-05-14T19:32:01.394113Z",
     "shell.execute_reply": "2024-05-14T19:32:01.392709Z"
    },
    "papermill": {
     "duration": 17.553916,
     "end_time": "2024-05-14T19:32:01.397172",
     "exception": false,
     "start_time": "2024-05-14T19:31:43.843256",
     "status": "completed"
    },
    "tags": []
   },
   "outputs": [
    {
     "name": "stdout",
     "output_type": "stream",
     "text": [
      "Collecting wolta\r\n",
      "  Downloading wolta-0.2.2-py3-none-any.whl.metadata (21 kB)\r\n",
      "Requirement already satisfied: scikit-learn in /opt/conda/lib/python3.10/site-packages (from wolta) (1.2.2)\r\n",
      "Requirement already satisfied: pandas in /opt/conda/lib/python3.10/site-packages (from wolta) (2.2.2)\r\n",
      "Requirement already satisfied: numpy in /opt/conda/lib/python3.10/site-packages (from wolta) (1.26.4)\r\n",
      "Requirement already satisfied: hyperopt in /opt/conda/lib/python3.10/site-packages (from wolta) (0.2.7)\r\n",
      "Requirement already satisfied: catboost in /opt/conda/lib/python3.10/site-packages (from wolta) (1.2.3)\r\n",
      "Collecting imblearn (from wolta)\r\n",
      "  Downloading imblearn-0.0-py2.py3-none-any.whl.metadata (355 bytes)\r\n",
      "Requirement already satisfied: lightgbm in /opt/conda/lib/python3.10/site-packages (from wolta) (4.2.0)\r\n",
      "Requirement already satisfied: graphviz in /opt/conda/lib/python3.10/site-packages (from catboost->wolta) (0.20.3)\r\n",
      "Requirement already satisfied: matplotlib in /opt/conda/lib/python3.10/site-packages (from catboost->wolta) (3.7.5)\r\n",
      "Requirement already satisfied: scipy in /opt/conda/lib/python3.10/site-packages (from catboost->wolta) (1.11.4)\r\n",
      "Requirement already satisfied: plotly in /opt/conda/lib/python3.10/site-packages (from catboost->wolta) (5.18.0)\r\n",
      "Requirement already satisfied: six in /opt/conda/lib/python3.10/site-packages (from catboost->wolta) (1.16.0)\r\n",
      "Requirement already satisfied: python-dateutil>=2.8.2 in /opt/conda/lib/python3.10/site-packages (from pandas->wolta) (2.9.0.post0)\r\n",
      "Requirement already satisfied: pytz>=2020.1 in /opt/conda/lib/python3.10/site-packages (from pandas->wolta) (2023.3.post1)\r\n",
      "Requirement already satisfied: tzdata>=2022.7 in /opt/conda/lib/python3.10/site-packages (from pandas->wolta) (2023.4)\r\n",
      "Requirement already satisfied: networkx>=2.2 in /opt/conda/lib/python3.10/site-packages (from hyperopt->wolta) (3.2.1)\r\n",
      "Requirement already satisfied: future in /opt/conda/lib/python3.10/site-packages (from hyperopt->wolta) (1.0.0)\r\n",
      "Requirement already satisfied: tqdm in /opt/conda/lib/python3.10/site-packages (from hyperopt->wolta) (4.66.1)\r\n",
      "Requirement already satisfied: cloudpickle in /opt/conda/lib/python3.10/site-packages (from hyperopt->wolta) (2.2.1)\r\n",
      "Requirement already satisfied: py4j in /opt/conda/lib/python3.10/site-packages (from hyperopt->wolta) (0.10.9.7)\r\n",
      "Requirement already satisfied: imbalanced-learn in /opt/conda/lib/python3.10/site-packages (from imblearn->wolta) (0.12.2)\r\n",
      "Requirement already satisfied: joblib>=1.1.1 in /opt/conda/lib/python3.10/site-packages (from scikit-learn->wolta) (1.4.0)\r\n",
      "Requirement already satisfied: threadpoolctl>=2.0.0 in /opt/conda/lib/python3.10/site-packages (from scikit-learn->wolta) (3.2.0)\r\n",
      "Requirement already satisfied: contourpy>=1.0.1 in /opt/conda/lib/python3.10/site-packages (from matplotlib->catboost->wolta) (1.2.0)\r\n",
      "Requirement already satisfied: cycler>=0.10 in /opt/conda/lib/python3.10/site-packages (from matplotlib->catboost->wolta) (0.12.1)\r\n",
      "Requirement already satisfied: fonttools>=4.22.0 in /opt/conda/lib/python3.10/site-packages (from matplotlib->catboost->wolta) (4.47.0)\r\n",
      "Requirement already satisfied: kiwisolver>=1.0.1 in /opt/conda/lib/python3.10/site-packages (from matplotlib->catboost->wolta) (1.4.5)\r\n",
      "Requirement already satisfied: packaging>=20.0 in /opt/conda/lib/python3.10/site-packages (from matplotlib->catboost->wolta) (21.3)\r\n",
      "Requirement already satisfied: pillow>=6.2.0 in /opt/conda/lib/python3.10/site-packages (from matplotlib->catboost->wolta) (9.5.0)\r\n",
      "Requirement already satisfied: pyparsing>=2.3.1 in /opt/conda/lib/python3.10/site-packages (from matplotlib->catboost->wolta) (3.1.1)\r\n",
      "Requirement already satisfied: tenacity>=6.2.0 in /opt/conda/lib/python3.10/site-packages (from plotly->catboost->wolta) (8.2.3)\r\n",
      "Downloading wolta-0.2.2-py3-none-any.whl (16 kB)\r\n",
      "Downloading imblearn-0.0-py2.py3-none-any.whl (1.9 kB)\r\n",
      "Installing collected packages: imblearn, wolta\r\n",
      "Successfully installed imblearn-0.0 wolta-0.2.2\r\n"
     ]
    }
   ],
   "source": [
    "!pip install wolta"
   ]
  },
  {
   "cell_type": "markdown",
   "id": "0e99b383",
   "metadata": {
    "papermill": {
     "duration": 0.011935,
     "end_time": "2024-05-14T19:32:01.421473",
     "exception": false,
     "start_time": "2024-05-14T19:32:01.409538",
     "status": "completed"
    },
    "tags": []
   },
   "source": [
    "# Data Init and First Look"
   ]
  },
  {
   "cell_type": "markdown",
   "id": "15b5bc86",
   "metadata": {
    "papermill": {
     "duration": 0.012026,
     "end_time": "2024-05-14T19:32:01.446068",
     "exception": false,
     "start_time": "2024-05-14T19:32:01.434042",
     "status": "completed"
    },
    "tags": []
   },
   "source": [
    "first is first, i will work only with **drugs.com** data."
   ]
  },
  {
   "cell_type": "code",
   "execution_count": 3,
   "id": "d99fb46d",
   "metadata": {
    "execution": {
     "iopub.execute_input": "2024-05-14T19:32:01.473414Z",
     "iopub.status.busy": "2024-05-14T19:32:01.472484Z",
     "iopub.status.idle": "2024-05-14T19:32:03.319081Z",
     "shell.execute_reply": "2024-05-14T19:32:03.317899Z"
    },
    "papermill": {
     "duration": 1.863488,
     "end_time": "2024-05-14T19:32:03.322055",
     "exception": false,
     "start_time": "2024-05-14T19:32:01.458567",
     "status": "completed"
    },
    "tags": []
   },
   "outputs": [],
   "source": [
    "com_train = pd.read_csv('../drugsComTrain_raw.csv')"
   ]
  },
  {
   "cell_type": "code",
   "execution_count": 4,
   "id": "3c7019fa",
   "metadata": {
    "execution": {
     "iopub.execute_input": "2024-05-14T19:32:03.348251Z",
     "iopub.status.busy": "2024-05-14T19:32:03.347843Z",
     "iopub.status.idle": "2024-05-14T19:32:03.375015Z",
     "shell.execute_reply": "2024-05-14T19:32:03.373780Z"
    },
    "papermill": {
     "duration": 0.043149,
     "end_time": "2024-05-14T19:32:03.377428",
     "exception": false,
     "start_time": "2024-05-14T19:32:03.334279",
     "status": "completed"
    },
    "tags": []
   },
   "outputs": [
    {
     "data": {
      "text/html": [
       "<div>\n",
       "<style scoped>\n",
       "    .dataframe tbody tr th:only-of-type {\n",
       "        vertical-align: middle;\n",
       "    }\n",
       "\n",
       "    .dataframe tbody tr th {\n",
       "        vertical-align: top;\n",
       "    }\n",
       "\n",
       "    .dataframe thead th {\n",
       "        text-align: right;\n",
       "    }\n",
       "</style>\n",
       "<table border=\"1\" class=\"dataframe\">\n",
       "  <thead>\n",
       "    <tr style=\"text-align: right;\">\n",
       "      <th></th>\n",
       "      <th>Unnamed: 0</th>\n",
       "      <th>drugName</th>\n",
       "      <th>condition</th>\n",
       "      <th>review</th>\n",
       "      <th>rating</th>\n",
       "      <th>date</th>\n",
       "      <th>usefulCount</th>\n",
       "    </tr>\n",
       "  </thead>\n",
       "  <tbody>\n",
       "    <tr>\n",
       "      <th>0</th>\n",
       "      <td>206461</td>\n",
       "      <td>Valsartan</td>\n",
       "      <td>Left Ventricular Dysfunction</td>\n",
       "      <td>\"It has no side effect, I take it in combinati...</td>\n",
       "      <td>9.0</td>\n",
       "      <td>May 20, 2012</td>\n",
       "      <td>27</td>\n",
       "    </tr>\n",
       "    <tr>\n",
       "      <th>1</th>\n",
       "      <td>95260</td>\n",
       "      <td>Guanfacine</td>\n",
       "      <td>ADHD</td>\n",
       "      <td>\"My son is halfway through his fourth week of ...</td>\n",
       "      <td>8.0</td>\n",
       "      <td>April 27, 2010</td>\n",
       "      <td>192</td>\n",
       "    </tr>\n",
       "    <tr>\n",
       "      <th>2</th>\n",
       "      <td>92703</td>\n",
       "      <td>Lybrel</td>\n",
       "      <td>Birth Control</td>\n",
       "      <td>\"I used to take another oral contraceptive, wh...</td>\n",
       "      <td>5.0</td>\n",
       "      <td>December 14, 2009</td>\n",
       "      <td>17</td>\n",
       "    </tr>\n",
       "    <tr>\n",
       "      <th>3</th>\n",
       "      <td>138000</td>\n",
       "      <td>Ortho Evra</td>\n",
       "      <td>Birth Control</td>\n",
       "      <td>\"This is my first time using any form of birth...</td>\n",
       "      <td>8.0</td>\n",
       "      <td>November 3, 2015</td>\n",
       "      <td>10</td>\n",
       "    </tr>\n",
       "    <tr>\n",
       "      <th>4</th>\n",
       "      <td>35696</td>\n",
       "      <td>Buprenorphine / naloxone</td>\n",
       "      <td>Opiate Dependence</td>\n",
       "      <td>\"Suboxone has completely turned my life around...</td>\n",
       "      <td>9.0</td>\n",
       "      <td>November 27, 2016</td>\n",
       "      <td>37</td>\n",
       "    </tr>\n",
       "  </tbody>\n",
       "</table>\n",
       "</div>"
      ],
      "text/plain": [
       "   Unnamed: 0                  drugName                     condition  \\\n",
       "0      206461                 Valsartan  Left Ventricular Dysfunction   \n",
       "1       95260                Guanfacine                          ADHD   \n",
       "2       92703                    Lybrel                 Birth Control   \n",
       "3      138000                Ortho Evra                 Birth Control   \n",
       "4       35696  Buprenorphine / naloxone             Opiate Dependence   \n",
       "\n",
       "                                              review  rating  \\\n",
       "0  \"It has no side effect, I take it in combinati...     9.0   \n",
       "1  \"My son is halfway through his fourth week of ...     8.0   \n",
       "2  \"I used to take another oral contraceptive, wh...     5.0   \n",
       "3  \"This is my first time using any form of birth...     8.0   \n",
       "4  \"Suboxone has completely turned my life around...     9.0   \n",
       "\n",
       "                date  usefulCount  \n",
       "0       May 20, 2012           27  \n",
       "1     April 27, 2010          192  \n",
       "2  December 14, 2009           17  \n",
       "3   November 3, 2015           10  \n",
       "4  November 27, 2016           37  "
      ]
     },
     "execution_count": 4,
     "metadata": {},
     "output_type": "execute_result"
    }
   ],
   "source": [
    "com_train.head()"
   ]
  },
  {
   "cell_type": "code",
   "execution_count": 5,
   "id": "7d817982",
   "metadata": {
    "execution": {
     "iopub.execute_input": "2024-05-14T19:32:03.405816Z",
     "iopub.status.busy": "2024-05-14T19:32:03.404848Z",
     "iopub.status.idle": "2024-05-14T19:32:03.412870Z",
     "shell.execute_reply": "2024-05-14T19:32:03.411570Z"
    },
    "papermill": {
     "duration": 0.024616,
     "end_time": "2024-05-14T19:32:03.415566",
     "exception": false,
     "start_time": "2024-05-14T19:32:03.390950",
     "status": "completed"
    },
    "tags": []
   },
   "outputs": [
    {
     "data": {
      "text/plain": [
       "(161297, 7)"
      ]
     },
     "execution_count": 5,
     "metadata": {},
     "output_type": "execute_result"
    }
   ],
   "source": [
    "com_train.shape"
   ]
  },
  {
   "cell_type": "code",
   "execution_count": 6,
   "id": "5f283756",
   "metadata": {
    "execution": {
     "iopub.execute_input": "2024-05-14T19:32:03.442652Z",
     "iopub.status.busy": "2024-05-14T19:32:03.442224Z",
     "iopub.status.idle": "2024-05-14T19:32:03.550938Z",
     "shell.execute_reply": "2024-05-14T19:32:03.549657Z"
    },
    "papermill": {
     "duration": 0.12576,
     "end_time": "2024-05-14T19:32:03.553928",
     "exception": false,
     "start_time": "2024-05-14T19:32:03.428168",
     "status": "completed"
    },
    "tags": []
   },
   "outputs": [
    {
     "name": "stdout",
     "output_type": "stream",
     "text": [
      "condition has 899 null values\n"
     ]
    }
   ],
   "source": [
    "from wolta.data_tools import seek_null\n",
    "\n",
    "seeked = seek_null(com_train, print_columns=True)"
   ]
  },
  {
   "cell_type": "code",
   "execution_count": 7,
   "id": "96ab88f1",
   "metadata": {
    "execution": {
     "iopub.execute_input": "2024-05-14T19:32:03.581857Z",
     "iopub.status.busy": "2024-05-14T19:32:03.581001Z",
     "iopub.status.idle": "2024-05-14T19:32:03.603091Z",
     "shell.execute_reply": "2024-05-14T19:32:03.601846Z"
    },
    "papermill": {
     "duration": 0.038998,
     "end_time": "2024-05-14T19:32:03.605977",
     "exception": false,
     "start_time": "2024-05-14T19:32:03.566979",
     "status": "completed"
    },
    "tags": []
   },
   "outputs": [
    {
     "name": "stdout",
     "output_type": "stream",
     "text": [
      "nan here!\n"
     ]
    }
   ],
   "source": [
    "if None in list(com_train['condition'].values):\n",
    "    print('None here!')\n",
    "    \n",
    "if np.nan in list(com_train['condition'].values):\n",
    "    print('nan here!')"
   ]
  },
  {
   "cell_type": "code",
   "execution_count": 8,
   "id": "c15852e3",
   "metadata": {
    "execution": {
     "iopub.execute_input": "2024-05-14T19:32:03.633805Z",
     "iopub.status.busy": "2024-05-14T19:32:03.633386Z",
     "iopub.status.idle": "2024-05-14T19:32:03.639984Z",
     "shell.execute_reply": "2024-05-14T19:32:03.638958Z"
    },
    "papermill": {
     "duration": 0.023749,
     "end_time": "2024-05-14T19:32:03.642776",
     "exception": false,
     "start_time": "2024-05-14T19:32:03.619027",
     "status": "completed"
    },
    "tags": []
   },
   "outputs": [
    {
     "name": "stdout",
     "output_type": "stream",
     "text": [
      "Unnamed: 0: int64\n",
      "drugName: str\n",
      "condition: str\n",
      "review: str\n",
      "rating: float64\n",
      "date: str\n",
      "usefulCount: int64\n"
     ]
    }
   ],
   "source": [
    "from wolta.data_tools import col_types\n",
    "\n",
    "types = col_types(com_train, print_columns=True)"
   ]
  },
  {
   "cell_type": "code",
   "execution_count": 9,
   "id": "a8bd326d",
   "metadata": {
    "execution": {
     "iopub.execute_input": "2024-05-14T19:32:03.670769Z",
     "iopub.status.busy": "2024-05-14T19:32:03.670288Z",
     "iopub.status.idle": "2024-05-14T19:32:03.967598Z",
     "shell.execute_reply": "2024-05-14T19:32:03.966454Z"
    },
    "papermill": {
     "duration": 0.3144,
     "end_time": "2024-05-14T19:32:03.970246",
     "exception": false,
     "start_time": "2024-05-14T19:32:03.655846",
     "status": "completed"
    },
    "tags": []
   },
   "outputs": [
    {
     "data": {
      "text/plain": [
       "{'Unnamed: 0': 161297,\n",
       " 'drugName': 3436,\n",
       " 'condition': 885,\n",
       " 'review': 112329,\n",
       " 'rating': 10,\n",
       " 'date': 3579,\n",
       " 'usefulCount': 389}"
      ]
     },
     "execution_count": 9,
     "metadata": {},
     "output_type": "execute_result"
    }
   ],
   "source": [
    "from wolta.data_tools import unique_amounts\n",
    "\n",
    "unique_amounts(com_train)"
   ]
  },
  {
   "cell_type": "markdown",
   "id": "579fc679",
   "metadata": {
    "papermill": {
     "duration": 0.013243,
     "end_time": "2024-05-14T19:32:03.996781",
     "exception": false,
     "start_time": "2024-05-14T19:32:03.983538",
     "status": "completed"
    },
    "tags": []
   },
   "source": [
    "# Data Manipulation"
   ]
  },
  {
   "cell_type": "markdown",
   "id": "361eadce",
   "metadata": {
    "papermill": {
     "duration": 0.012828,
     "end_time": "2024-05-14T19:32:04.022760",
     "exception": false,
     "start_time": "2024-05-14T19:32:04.009932",
     "status": "completed"
    },
    "tags": []
   },
   "source": [
    "before everything, we will **replace** null data."
   ]
  },
  {
   "cell_type": "code",
   "execution_count": 10,
   "id": "3f4f9049",
   "metadata": {
    "execution": {
     "iopub.execute_input": "2024-05-14T19:32:04.051173Z",
     "iopub.status.busy": "2024-05-14T19:32:04.050298Z",
     "iopub.status.idle": "2024-05-14T19:32:04.174253Z",
     "shell.execute_reply": "2024-05-14T19:32:04.172963Z"
    },
    "papermill": {
     "duration": 0.141163,
     "end_time": "2024-05-14T19:32:04.177018",
     "exception": false,
     "start_time": "2024-05-14T19:32:04.035855",
     "status": "completed"
    },
    "tags": []
   },
   "outputs": [],
   "source": [
    "com_train = com_train.replace({np.nan: 'NOT POINTED'})"
   ]
  },
  {
   "cell_type": "markdown",
   "id": "7fef1acf",
   "metadata": {
    "papermill": {
     "duration": 0.012643,
     "end_time": "2024-05-14T19:32:04.202994",
     "exception": false,
     "start_time": "2024-05-14T19:32:04.190351",
     "status": "completed"
    },
    "tags": []
   },
   "source": [
    "| feature | action | reason |\n",
    "| --- | --- | --- |\n",
    "| Unnamed: 0 | delete | id |\n",
    "| drugName | make numerics | categorical |\n",
    "| condition | make numerics | categorical |\n",
    "| review | make numerics | string data |\n",
    "| rating | combine with usefulCount | regression |\n",
    "| date | delete | manipulative |\n",
    "| usefulCount | combine with rating | regression |"
   ]
  },
  {
   "cell_type": "code",
   "execution_count": 11,
   "id": "6f42e3ab",
   "metadata": {
    "execution": {
     "iopub.execute_input": "2024-05-14T19:32:04.234385Z",
     "iopub.status.busy": "2024-05-14T19:32:04.233932Z",
     "iopub.status.idle": "2024-05-14T19:32:04.242569Z",
     "shell.execute_reply": "2024-05-14T19:32:04.241350Z"
    },
    "papermill": {
     "duration": 0.026009,
     "end_time": "2024-05-14T19:32:04.245113",
     "exception": false,
     "start_time": "2024-05-14T19:32:04.219104",
     "status": "completed"
    },
    "tags": []
   },
   "outputs": [],
   "source": [
    "del com_train['Unnamed: 0']\n",
    "del com_train['date']"
   ]
  },
  {
   "cell_type": "code",
   "execution_count": 12,
   "id": "0dcc9f7a",
   "metadata": {
    "execution": {
     "iopub.execute_input": "2024-05-14T19:32:04.274323Z",
     "iopub.status.busy": "2024-05-14T19:32:04.273099Z",
     "iopub.status.idle": "2024-05-14T19:32:04.343925Z",
     "shell.execute_reply": "2024-05-14T19:32:04.342910Z"
    },
    "papermill": {
     "duration": 0.088029,
     "end_time": "2024-05-14T19:32:04.346722",
     "exception": false,
     "start_time": "2024-05-14T19:32:04.258693",
     "status": "completed"
    },
    "tags": []
   },
   "outputs": [],
   "source": [
    "from wolta.data_tools import make_numerics\n",
    "\n",
    "com_train['drugName'], name_hashed = make_numerics(com_train['drugName'], space_requested=True)\n",
    "com_train['condition'], condition_hashed = make_numerics(com_train['condition'], space_requested=True)"
   ]
  },
  {
   "cell_type": "code",
   "execution_count": 13,
   "id": "1c6d09f2",
   "metadata": {
    "execution": {
     "iopub.execute_input": "2024-05-14T19:32:04.375140Z",
     "iopub.status.busy": "2024-05-14T19:32:04.374750Z",
     "iopub.status.idle": "2024-05-14T19:32:07.144526Z",
     "shell.execute_reply": "2024-05-14T19:32:07.143473Z"
    },
    "papermill": {
     "duration": 2.787295,
     "end_time": "2024-05-14T19:32:07.147210",
     "exception": false,
     "start_time": "2024-05-14T19:32:04.359915",
     "status": "completed"
    },
    "tags": []
   },
   "outputs": [],
   "source": [
    "for i in range(com_train.shape[0]):\n",
    "    com_train['review'].values[i] = len(com_train['review'].values[i]) "
   ]
  },
  {
   "cell_type": "code",
   "execution_count": 14,
   "id": "a466770f",
   "metadata": {
    "execution": {
     "iopub.execute_input": "2024-05-14T19:32:07.175246Z",
     "iopub.status.busy": "2024-05-14T19:32:07.174845Z",
     "iopub.status.idle": "2024-05-14T19:32:10.110308Z",
     "shell.execute_reply": "2024-05-14T19:32:10.109094Z"
    },
    "papermill": {
     "duration": 2.952881,
     "end_time": "2024-05-14T19:32:10.113298",
     "exception": false,
     "start_time": "2024-05-14T19:32:07.160417",
     "status": "completed"
    },
    "tags": []
   },
   "outputs": [],
   "source": [
    "vals = []\n",
    "\n",
    "for i in range(com_train.shape[0]):\n",
    "    vals.append(com_train['rating'].values[i] * com_train['usefulCount'].values[i])\n",
    "\n",
    "com_train['usefulness'] = np.array(vals)\n",
    "\n",
    "del com_train['rating']\n",
    "del com_train['usefulCount']"
   ]
  },
  {
   "cell_type": "markdown",
   "id": "720f34a7",
   "metadata": {
    "papermill": {
     "duration": 0.012854,
     "end_time": "2024-05-14T19:32:10.139758",
     "exception": false,
     "start_time": "2024-05-14T19:32:10.126904",
     "status": "completed"
    },
    "tags": []
   },
   "source": [
    "# Train Data Preparation"
   ]
  },
  {
   "cell_type": "code",
   "execution_count": 15,
   "id": "85d620b7",
   "metadata": {
    "execution": {
     "iopub.execute_input": "2024-05-14T19:32:10.167567Z",
     "iopub.status.busy": "2024-05-14T19:32:10.167142Z",
     "iopub.status.idle": "2024-05-14T19:32:10.193287Z",
     "shell.execute_reply": "2024-05-14T19:32:10.191545Z"
    },
    "papermill": {
     "duration": 0.043447,
     "end_time": "2024-05-14T19:32:10.196258",
     "exception": false,
     "start_time": "2024-05-14T19:32:10.152811",
     "status": "completed"
    },
    "tags": []
   },
   "outputs": [],
   "source": [
    "y_train = com_train['usefulness'].values\n",
    "del com_train['usefulness']\n",
    "X_train = com_train.values\n",
    "del com_train"
   ]
  },
  {
   "cell_type": "markdown",
   "id": "c7f5df9e",
   "metadata": {
    "papermill": {
     "duration": 0.012624,
     "end_time": "2024-05-14T19:32:10.222390",
     "exception": false,
     "start_time": "2024-05-14T19:32:10.209766",
     "status": "completed"
    },
    "tags": []
   },
   "source": [
    "# Test Data Preparation"
   ]
  },
  {
   "cell_type": "code",
   "execution_count": 16,
   "id": "d3c1e67b",
   "metadata": {
    "execution": {
     "iopub.execute_input": "2024-05-14T19:32:10.252781Z",
     "iopub.status.busy": "2024-05-14T19:32:10.251576Z",
     "iopub.status.idle": "2024-05-14T19:32:10.845087Z",
     "shell.execute_reply": "2024-05-14T19:32:10.843852Z"
    },
    "papermill": {
     "duration": 0.612297,
     "end_time": "2024-05-14T19:32:10.848052",
     "exception": false,
     "start_time": "2024-05-14T19:32:10.235755",
     "status": "completed"
    },
    "tags": []
   },
   "outputs": [],
   "source": [
    "df = pd.read_csv('../drugsComTest_raw.csv')"
   ]
  },
  {
   "cell_type": "code",
   "execution_count": 17,
   "id": "46cc95a5",
   "metadata": {
    "execution": {
     "iopub.execute_input": "2024-05-14T19:32:10.877136Z",
     "iopub.status.busy": "2024-05-14T19:32:10.876720Z",
     "iopub.status.idle": "2024-05-14T19:32:10.892154Z",
     "shell.execute_reply": "2024-05-14T19:32:10.890959Z"
    },
    "papermill": {
     "duration": 0.032669,
     "end_time": "2024-05-14T19:32:10.894930",
     "exception": false,
     "start_time": "2024-05-14T19:32:10.862261",
     "status": "completed"
    },
    "tags": []
   },
   "outputs": [
    {
     "data": {
      "text/html": [
       "<div>\n",
       "<style scoped>\n",
       "    .dataframe tbody tr th:only-of-type {\n",
       "        vertical-align: middle;\n",
       "    }\n",
       "\n",
       "    .dataframe tbody tr th {\n",
       "        vertical-align: top;\n",
       "    }\n",
       "\n",
       "    .dataframe thead th {\n",
       "        text-align: right;\n",
       "    }\n",
       "</style>\n",
       "<table border=\"1\" class=\"dataframe\">\n",
       "  <thead>\n",
       "    <tr style=\"text-align: right;\">\n",
       "      <th></th>\n",
       "      <th>Unnamed: 0</th>\n",
       "      <th>drugName</th>\n",
       "      <th>condition</th>\n",
       "      <th>review</th>\n",
       "      <th>rating</th>\n",
       "      <th>date</th>\n",
       "      <th>usefulCount</th>\n",
       "    </tr>\n",
       "  </thead>\n",
       "  <tbody>\n",
       "    <tr>\n",
       "      <th>0</th>\n",
       "      <td>163740</td>\n",
       "      <td>Mirtazapine</td>\n",
       "      <td>Depression</td>\n",
       "      <td>\"I&amp;#039;ve tried a few antidepressants over th...</td>\n",
       "      <td>10.0</td>\n",
       "      <td>February 28, 2012</td>\n",
       "      <td>22</td>\n",
       "    </tr>\n",
       "    <tr>\n",
       "      <th>1</th>\n",
       "      <td>206473</td>\n",
       "      <td>Mesalamine</td>\n",
       "      <td>Crohn's Disease, Maintenance</td>\n",
       "      <td>\"My son has Crohn&amp;#039;s disease and has done ...</td>\n",
       "      <td>8.0</td>\n",
       "      <td>May 17, 2009</td>\n",
       "      <td>17</td>\n",
       "    </tr>\n",
       "    <tr>\n",
       "      <th>2</th>\n",
       "      <td>159672</td>\n",
       "      <td>Bactrim</td>\n",
       "      <td>Urinary Tract Infection</td>\n",
       "      <td>\"Quick reduction of symptoms\"</td>\n",
       "      <td>9.0</td>\n",
       "      <td>September 29, 2017</td>\n",
       "      <td>3</td>\n",
       "    </tr>\n",
       "    <tr>\n",
       "      <th>3</th>\n",
       "      <td>39293</td>\n",
       "      <td>Contrave</td>\n",
       "      <td>Weight Loss</td>\n",
       "      <td>\"Contrave combines drugs that were used for al...</td>\n",
       "      <td>9.0</td>\n",
       "      <td>March 5, 2017</td>\n",
       "      <td>35</td>\n",
       "    </tr>\n",
       "    <tr>\n",
       "      <th>4</th>\n",
       "      <td>97768</td>\n",
       "      <td>Cyclafem 1 / 35</td>\n",
       "      <td>Birth Control</td>\n",
       "      <td>\"I have been on this birth control for one cyc...</td>\n",
       "      <td>9.0</td>\n",
       "      <td>October 22, 2015</td>\n",
       "      <td>4</td>\n",
       "    </tr>\n",
       "  </tbody>\n",
       "</table>\n",
       "</div>"
      ],
      "text/plain": [
       "   Unnamed: 0         drugName                     condition  \\\n",
       "0      163740      Mirtazapine                    Depression   \n",
       "1      206473       Mesalamine  Crohn's Disease, Maintenance   \n",
       "2      159672          Bactrim       Urinary Tract Infection   \n",
       "3       39293         Contrave                   Weight Loss   \n",
       "4       97768  Cyclafem 1 / 35                 Birth Control   \n",
       "\n",
       "                                              review  rating  \\\n",
       "0  \"I&#039;ve tried a few antidepressants over th...    10.0   \n",
       "1  \"My son has Crohn&#039;s disease and has done ...     8.0   \n",
       "2                      \"Quick reduction of symptoms\"     9.0   \n",
       "3  \"Contrave combines drugs that were used for al...     9.0   \n",
       "4  \"I have been on this birth control for one cyc...     9.0   \n",
       "\n",
       "                 date  usefulCount  \n",
       "0   February 28, 2012           22  \n",
       "1        May 17, 2009           17  \n",
       "2  September 29, 2017            3  \n",
       "3       March 5, 2017           35  \n",
       "4    October 22, 2015            4  "
      ]
     },
     "execution_count": 17,
     "metadata": {},
     "output_type": "execute_result"
    }
   ],
   "source": [
    "df.head()"
   ]
  },
  {
   "cell_type": "code",
   "execution_count": 18,
   "id": "3e0687e3",
   "metadata": {
    "execution": {
     "iopub.execute_input": "2024-05-14T19:32:10.924218Z",
     "iopub.status.busy": "2024-05-14T19:32:10.923102Z",
     "iopub.status.idle": "2024-05-14T19:32:10.929077Z",
     "shell.execute_reply": "2024-05-14T19:32:10.928119Z"
    },
    "papermill": {
     "duration": 0.023035,
     "end_time": "2024-05-14T19:32:10.931380",
     "exception": false,
     "start_time": "2024-05-14T19:32:10.908345",
     "status": "completed"
    },
    "tags": []
   },
   "outputs": [],
   "source": [
    "del df['Unnamed: 0']\n",
    "del df['date']"
   ]
  },
  {
   "cell_type": "code",
   "execution_count": 19,
   "id": "9e81ed50",
   "metadata": {
    "execution": {
     "iopub.execute_input": "2024-05-14T19:32:10.960509Z",
     "iopub.status.busy": "2024-05-14T19:32:10.959512Z",
     "iopub.status.idle": "2024-05-14T19:32:25.206245Z",
     "shell.execute_reply": "2024-05-14T19:32:25.205003Z"
    },
    "papermill": {
     "duration": 14.264738,
     "end_time": "2024-05-14T19:32:25.209531",
     "exception": false,
     "start_time": "2024-05-14T19:32:10.944793",
     "status": "completed"
    },
    "tags": []
   },
   "outputs": [],
   "source": [
    "df['drugName'] = df['drugName'].replace(name_hashed)\n",
    "df['condition'] = df['condition'].replace(condition_hashed)"
   ]
  },
  {
   "cell_type": "code",
   "execution_count": 20,
   "id": "6c6e715e",
   "metadata": {
    "execution": {
     "iopub.execute_input": "2024-05-14T19:32:25.238321Z",
     "iopub.status.busy": "2024-05-14T19:32:25.237900Z",
     "iopub.status.idle": "2024-05-14T19:32:28.639126Z",
     "shell.execute_reply": "2024-05-14T19:32:28.637689Z"
    },
    "papermill": {
     "duration": 3.418693,
     "end_time": "2024-05-14T19:32:28.641847",
     "exception": false,
     "start_time": "2024-05-14T19:32:25.223154",
     "status": "completed"
    },
    "tags": []
   },
   "outputs": [
    {
     "name": "stderr",
     "output_type": "stream",
     "text": [
      "/tmp/ipykernel_18/3980758631.py:16: FutureWarning: Downcasting behavior in `replace` is deprecated and will be removed in a future version. To retain the old behavior, explicitly call `result.infer_objects(copy=False)`. To opt-in to the future behavior, set `pd.set_option('future.no_silent_downcasting', True)`\n",
      "  df['drugName'] = df['drugName'].replace(new_dict)\n"
     ]
    }
   ],
   "source": [
    "new_vals = []\n",
    "latest = -1\n",
    "for obj in list(df['drugName'].unique()):\n",
    "    if str(type(obj)).__contains__('str'):\n",
    "        new_vals.append(obj)\n",
    "    elif obj > latest:\n",
    "        latest = obj\n",
    "\n",
    "new_dict = {}\n",
    "latest += 1\n",
    "\n",
    "for val in new_vals:\n",
    "    new_dict[val] = latest\n",
    "    latest += 1\n",
    "\n",
    "df['drugName'] = df['drugName'].replace(new_dict)"
   ]
  },
  {
   "cell_type": "code",
   "execution_count": 21,
   "id": "490d1e2d",
   "metadata": {
    "execution": {
     "iopub.execute_input": "2024-05-14T19:32:28.671559Z",
     "iopub.status.busy": "2024-05-14T19:32:28.670506Z",
     "iopub.status.idle": "2024-05-14T19:32:29.174271Z",
     "shell.execute_reply": "2024-05-14T19:32:29.173038Z"
    },
    "papermill": {
     "duration": 0.521358,
     "end_time": "2024-05-14T19:32:29.177020",
     "exception": false,
     "start_time": "2024-05-14T19:32:28.655662",
     "status": "completed"
    },
    "tags": []
   },
   "outputs": [
    {
     "name": "stderr",
     "output_type": "stream",
     "text": [
      "/tmp/ipykernel_18/1736482287.py:18: FutureWarning: Downcasting behavior in `replace` is deprecated and will be removed in a future version. To retain the old behavior, explicitly call `result.infer_objects(copy=False)`. To opt-in to the future behavior, set `pd.set_option('future.no_silent_downcasting', True)`\n",
      "  df['condition'] = df['condition'].replace(new_dict)\n"
     ]
    }
   ],
   "source": [
    "new_vals = []\n",
    "latest = -1\n",
    "for obj in list(df['condition'].unique()):\n",
    "    if str(type(obj)).__contains__('str'):\n",
    "        new_vals.append(obj)\n",
    "    elif obj > latest:\n",
    "        latest = obj\n",
    "\n",
    "new_dict = {}\n",
    "latest += 1\n",
    "\n",
    "for val in new_vals:\n",
    "    new_dict[val] = latest\n",
    "    latest += 1\n",
    "\n",
    "new_dict[np.nan] = latest\n",
    "\n",
    "df['condition'] = df['condition'].replace(new_dict)"
   ]
  },
  {
   "cell_type": "code",
   "execution_count": 22,
   "id": "2b04d38f",
   "metadata": {
    "execution": {
     "iopub.execute_input": "2024-05-14T19:32:29.206512Z",
     "iopub.status.busy": "2024-05-14T19:32:29.206100Z",
     "iopub.status.idle": "2024-05-14T19:32:30.167656Z",
     "shell.execute_reply": "2024-05-14T19:32:30.166306Z"
    },
    "papermill": {
     "duration": 0.979678,
     "end_time": "2024-05-14T19:32:30.170694",
     "exception": false,
     "start_time": "2024-05-14T19:32:29.191016",
     "status": "completed"
    },
    "tags": []
   },
   "outputs": [],
   "source": [
    "for i in range(df.shape[0]):\n",
    "    df['review'].values[i] = len(df['review'].values[i]) "
   ]
  },
  {
   "cell_type": "code",
   "execution_count": 23,
   "id": "288e0980",
   "metadata": {
    "execution": {
     "iopub.execute_input": "2024-05-14T19:32:30.200523Z",
     "iopub.status.busy": "2024-05-14T19:32:30.199450Z",
     "iopub.status.idle": "2024-05-14T19:32:31.181866Z",
     "shell.execute_reply": "2024-05-14T19:32:31.180644Z"
    },
    "papermill": {
     "duration": 1.000534,
     "end_time": "2024-05-14T19:32:31.185044",
     "exception": false,
     "start_time": "2024-05-14T19:32:30.184510",
     "status": "completed"
    },
    "tags": []
   },
   "outputs": [],
   "source": [
    "vals = []\n",
    "\n",
    "for i in range(df.shape[0]):\n",
    "    vals.append(df['rating'].values[i] * df['usefulCount'].values[i])\n",
    "\n",
    "df['usefulness'] = np.array(vals)\n",
    "\n",
    "del df['rating']\n",
    "del df['usefulCount']"
   ]
  },
  {
   "cell_type": "code",
   "execution_count": 24,
   "id": "d0e04ce4",
   "metadata": {
    "execution": {
     "iopub.execute_input": "2024-05-14T19:32:31.214795Z",
     "iopub.status.busy": "2024-05-14T19:32:31.214245Z",
     "iopub.status.idle": "2024-05-14T19:32:31.227228Z",
     "shell.execute_reply": "2024-05-14T19:32:31.225944Z"
    },
    "papermill": {
     "duration": 0.030632,
     "end_time": "2024-05-14T19:32:31.229961",
     "exception": false,
     "start_time": "2024-05-14T19:32:31.199329",
     "status": "completed"
    },
    "tags": []
   },
   "outputs": [],
   "source": [
    "y_test = df['usefulness'].values\n",
    "del df['usefulness']\n",
    "X_test = df.values\n",
    "del df"
   ]
  },
  {
   "cell_type": "markdown",
   "id": "0f0f529e",
   "metadata": {
    "papermill": {
     "duration": 0.013351,
     "end_time": "2024-05-14T19:32:31.257110",
     "exception": false,
     "start_time": "2024-05-14T19:32:31.243759",
     "status": "completed"
    },
    "tags": []
   },
   "source": [
    "# Model"
   ]
  },
  {
   "cell_type": "code",
   "execution_count": 25,
   "id": "42277d59",
   "metadata": {
    "execution": {
     "iopub.execute_input": "2024-05-14T19:32:31.286161Z",
     "iopub.status.busy": "2024-05-14T19:32:31.285749Z",
     "iopub.status.idle": "2024-05-14T19:33:36.041702Z",
     "shell.execute_reply": "2024-05-14T19:33:36.040345Z"
    },
    "papermill": {
     "duration": 64.773384,
     "end_time": "2024-05-14T19:33:36.044233",
     "exception": false,
     "start_time": "2024-05-14T19:32:31.270849",
     "status": "completed"
    },
    "tags": []
   },
   "outputs": [
    {
     "name": "stdout",
     "output_type": "stream",
     "text": [
      "CatBoost\n",
      "Mean Squared Error: 91206.9938556314\n",
      "***\n",
      "Random Forest\n",
      "Mean Squared Error: 108591.45621444688\n",
      "***\n",
      "Decision Tree\n",
      "Mean Squared Error: 162050.68604262712\n",
      "***\n",
      "Linear Regression\n",
      "Mean Squared Error: 115089.8611696575\n",
      "***\n",
      "Extra Tree\n",
      "Mean Squared Error: 164456.47597405757\n",
      "***\n"
     ]
    }
   ],
   "source": [
    "from wolta.model_tools import compare_models\n",
    "\n",
    "compare_models('reg',\n",
    "              ['cat', 'raf', 'dtr', 'lin', 'ext'],\n",
    "              ['sq'],\n",
    "              X_train, y_train, X_test, y_test)"
   ]
  },
  {
   "cell_type": "code",
   "execution_count": 26,
   "id": "38f3a3ba",
   "metadata": {
    "execution": {
     "iopub.execute_input": "2024-05-14T19:33:36.074041Z",
     "iopub.status.busy": "2024-05-14T19:33:36.073524Z",
     "iopub.status.idle": "2024-05-14T19:33:49.294636Z",
     "shell.execute_reply": "2024-05-14T19:33:49.292852Z"
    },
    "papermill": {
     "duration": 13.240253,
     "end_time": "2024-05-14T19:33:49.298429",
     "exception": false,
     "start_time": "2024-05-14T19:33:36.058176",
     "status": "completed"
    },
    "tags": []
   },
   "outputs": [],
   "source": [
    "from catboost import CatBoostRegressor\n",
    "\n",
    "model = CatBoostRegressor(verbose=False)\n",
    "model.fit(X_train, y_train)\n",
    "y_pred = model.predict(X_test)"
   ]
  },
  {
   "cell_type": "code",
   "execution_count": 27,
   "id": "791d3e7c",
   "metadata": {
    "execution": {
     "iopub.execute_input": "2024-05-14T19:33:49.340661Z",
     "iopub.status.busy": "2024-05-14T19:33:49.340165Z",
     "iopub.status.idle": "2024-05-14T19:33:49.493064Z",
     "shell.execute_reply": "2024-05-14T19:33:49.491644Z"
    },
    "papermill": {
     "duration": 0.178122,
     "end_time": "2024-05-14T19:33:49.495685",
     "exception": false,
     "start_time": "2024-05-14T19:33:49.317563",
     "status": "completed"
    },
    "tags": []
   },
   "outputs": [
    {
     "name": "stdout",
     "output_type": "stream",
     "text": [
      "179.38990017060115\n"
     ]
    }
   ],
   "source": [
    "avg = 0\n",
    "\n",
    "for i in range(y_pred.shape[0]):\n",
    "    avg += np.absolute(y_pred[i] - y_test[i])\n",
    "\n",
    "avg /= y_pred.shape[0]\n",
    "print(avg)"
   ]
  },
  {
   "cell_type": "code",
   "execution_count": 28,
   "id": "72a8c88d",
   "metadata": {
    "execution": {
     "iopub.execute_input": "2024-05-14T19:33:49.525721Z",
     "iopub.status.busy": "2024-05-14T19:33:49.525254Z",
     "iopub.status.idle": "2024-05-14T19:33:49.532218Z",
     "shell.execute_reply": "2024-05-14T19:33:49.531009Z"
    },
    "papermill": {
     "duration": 0.024993,
     "end_time": "2024-05-14T19:33:49.534791",
     "exception": false,
     "start_time": "2024-05-14T19:33:49.509798",
     "status": "completed"
    },
    "tags": []
   },
   "outputs": [
    {
     "name": "stdout",
     "output_type": "stream",
     "text": [
      "[220. 136.  27. 315.  36.  52.   6. 288. 147.   6.]\n",
      "[393.98388635 262.22645341 220.03295692 193.38436428 -16.53690904\n",
      " 288.83385053  59.89583172 277.96804132 331.16987271  52.92404199]\n"
     ]
    }
   ],
   "source": [
    "print(y_test[:10])\n",
    "print(y_pred[:10])"
   ]
  }
 ],
 "metadata": {
  "kaggle": {
   "accelerator": "none",
   "dataSources": [
    {
     "datasetId": 4999163,
     "sourceId": 8404181,
     "sourceType": "datasetVersion"
    }
   ],
   "dockerImageVersionId": 30698,
   "isGpuEnabled": false,
   "isInternetEnabled": true,
   "language": "python",
   "sourceType": "notebook"
  },
  "kernelspec": {
   "display_name": "Python 3",
   "language": "python",
   "name": "python3"
  },
  "language_info": {
   "codemirror_mode": {
    "name": "ipython",
    "version": 3
   },
   "file_extension": ".py",
   "mimetype": "text/x-python",
   "name": "python",
   "nbconvert_exporter": "python",
   "pygments_lexer": "ipython3",
   "version": "3.10.13"
  },
  "papermill": {
   "default_parameters": {},
   "duration": 130.685087,
   "end_time": "2024-05-14T19:33:50.372848",
   "environment_variables": {},
   "exception": null,
   "input_path": "__notebook__.ipynb",
   "output_path": "__notebook__.ipynb",
   "parameters": {},
   "start_time": "2024-05-14T19:31:39.687761",
   "version": "2.5.0"
  }
 },
 "nbformat": 4,
 "nbformat_minor": 5
}
