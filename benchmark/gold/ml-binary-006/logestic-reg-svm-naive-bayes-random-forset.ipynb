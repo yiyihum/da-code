{
 "cells": [
  {
   "cell_type": "code",
   "execution_count": 1,
   "id": "2ac113ec",
   "metadata": {
    "_cell_guid": "b1076dfc-b9ad-4769-8c92-a6c4dae69d19",
    "_uuid": "8f2839f25d086af736a60e9eeb907d3b93b6e0e5",
    "execution": {
     "iopub.execute_input": "2023-10-04T11:16:40.393607Z",
     "iopub.status.busy": "2023-10-04T11:16:40.392725Z",
     "iopub.status.idle": "2023-10-04T11:16:40.763683Z",
     "shell.execute_reply": "2023-10-04T11:16:40.762539Z"
    },
    "papermill": {
     "duration": 0.383203,
     "end_time": "2023-10-04T11:16:40.766080",
     "exception": false,
     "start_time": "2023-10-04T11:16:40.382877",
     "status": "completed"
    },
    "tags": []
   },
   "outputs": [
    {
     "name": "stdout",
     "output_type": "stream",
     "text": [
      "/kaggle/input/fake-news-detection-datasets/News _dataset/True.csv\n",
      "/kaggle/input/fake-news-detection-datasets/News _dataset/Fake.csv\n"
     ]
    }
   ],
   "source": [
    "# This Python 3 environment comes with many helpful analytics libraries installed\n",
    "# It is defined by the kaggle/python Docker image: https://github.com/kaggle/docker-python\n",
    "# For example, here's several helpful packages to load\n",
    "\n",
    "import numpy as np # linear algebra\n",
    "import pandas as pd # data processing, CSV file I/O (e.g. pd.read_csv)\n",
    "\n",
    "# Input data files are available in the read-only \"../input/\" directory\n",
    "# For example, running this (by clicking run or pressing Shift+Enter) will list all files under the input directory\n",
    "\n",
    "import os\n",
    "for dirname, _, filenames in os.walk('/kaggle/input'):\n",
    "    for filename in filenames:\n",
    "        print(os.path.join(dirname, filename))\n",
    "\n",
    "# You can write up to 20GB to the current directory (/kaggle/working/) that gets preserved as output when you create a version using \"Save & Run All\" \n",
    "# You can also write temporary files to /kaggle/temp/, but they won't be saved outside of the current session"
   ]
  },
  {
   "cell_type": "code",
   "execution_count": 2,
   "id": "6cfa7013",
   "metadata": {
    "execution": {
     "iopub.execute_input": "2023-10-04T11:16:40.783639Z",
     "iopub.status.busy": "2023-10-04T11:16:40.783168Z",
     "iopub.status.idle": "2023-10-04T11:16:43.664117Z",
     "shell.execute_reply": "2023-10-04T11:16:43.663150Z"
    },
    "papermill": {
     "duration": 2.893892,
     "end_time": "2023-10-04T11:16:43.668023",
     "exception": false,
     "start_time": "2023-10-04T11:16:40.774131",
     "status": "completed"
    },
    "tags": []
   },
   "outputs": [
    {
     "name": "stdout",
     "output_type": "stream",
     "text": [
      "                                               title  \\\n",
      "0  As U.S. budget fight looms, Republicans flip t...   \n",
      "1  U.S. military to accept transgender recruits o...   \n",
      "2  Senior U.S. Republican senator: 'Let Mr. Muell...   \n",
      "3  FBI Russia probe helped by Australian diplomat...   \n",
      "4  Trump wants Postal Service to charge 'much mor...   \n",
      "5  White House, Congress prepare for talks on spe...   \n",
      "6  Trump says Russia probe will be fair, but time...   \n",
      "7  Factbox: Trump on Twitter (Dec 29) - Approval ...   \n",
      "8         Trump on Twitter (Dec 28) - Global Warming   \n",
      "9  Alabama official to certify Senator-elect Jone...   \n",
      "\n",
      "                                                text       subject  \\\n",
      "0  WASHINGTON (Reuters) - The head of a conservat...  politicsNews   \n",
      "1  WASHINGTON (Reuters) - Transgender people will...  politicsNews   \n",
      "2  WASHINGTON (Reuters) - The special counsel inv...  politicsNews   \n",
      "3  WASHINGTON (Reuters) - Trump campaign adviser ...  politicsNews   \n",
      "4  SEATTLE/WASHINGTON (Reuters) - President Donal...  politicsNews   \n",
      "5  WEST PALM BEACH, Fla./WASHINGTON (Reuters) - T...  politicsNews   \n",
      "6  WEST PALM BEACH, Fla (Reuters) - President Don...  politicsNews   \n",
      "7  The following statements were posted to the ve...  politicsNews   \n",
      "8  The following statements were posted to the ve...  politicsNews   \n",
      "9  WASHINGTON (Reuters) - Alabama Secretary of St...  politicsNews   \n",
      "\n",
      "                 date  \n",
      "0  December 31, 2017   \n",
      "1  December 29, 2017   \n",
      "2  December 31, 2017   \n",
      "3  December 30, 2017   \n",
      "4  December 29, 2017   \n",
      "5  December 29, 2017   \n",
      "6  December 29, 2017   \n",
      "7  December 29, 2017   \n",
      "8  December 29, 2017   \n",
      "9  December 28, 2017   \n"
     ]
    },
    {
     "data": {
      "text/html": [
       "<div>\n",
       "<style scoped>\n",
       "    .dataframe tbody tr th:only-of-type {\n",
       "        vertical-align: middle;\n",
       "    }\n",
       "\n",
       "    .dataframe tbody tr th {\n",
       "        vertical-align: top;\n",
       "    }\n",
       "\n",
       "    .dataframe thead th {\n",
       "        text-align: right;\n",
       "    }\n",
       "</style>\n",
       "<table border=\"1\" class=\"dataframe\">\n",
       "  <thead>\n",
       "    <tr style=\"text-align: right;\">\n",
       "      <th></th>\n",
       "      <th>title</th>\n",
       "      <th>text</th>\n",
       "      <th>subject</th>\n",
       "      <th>date</th>\n",
       "    </tr>\n",
       "  </thead>\n",
       "  <tbody>\n",
       "    <tr>\n",
       "      <th>0</th>\n",
       "      <td>Donald Trump Sends Out Embarrassing New Year’...</td>\n",
       "      <td>Donald Trump just couldn t wish all Americans ...</td>\n",
       "      <td>News</td>\n",
       "      <td>December 31, 2017</td>\n",
       "    </tr>\n",
       "    <tr>\n",
       "      <th>1</th>\n",
       "      <td>Drunk Bragging Trump Staffer Started Russian ...</td>\n",
       "      <td>House Intelligence Committee Chairman Devin Nu...</td>\n",
       "      <td>News</td>\n",
       "      <td>December 31, 2017</td>\n",
       "    </tr>\n",
       "    <tr>\n",
       "      <th>2</th>\n",
       "      <td>Sheriff David Clarke Becomes An Internet Joke...</td>\n",
       "      <td>On Friday, it was revealed that former Milwauk...</td>\n",
       "      <td>News</td>\n",
       "      <td>December 30, 2017</td>\n",
       "    </tr>\n",
       "    <tr>\n",
       "      <th>3</th>\n",
       "      <td>Trump Is So Obsessed He Even Has Obama’s Name...</td>\n",
       "      <td>On Christmas day, Donald Trump announced that ...</td>\n",
       "      <td>News</td>\n",
       "      <td>December 29, 2017</td>\n",
       "    </tr>\n",
       "  </tbody>\n",
       "</table>\n",
       "</div>"
      ],
      "text/plain": [
       "                                               title  \\\n",
       "0   Donald Trump Sends Out Embarrassing New Year’...   \n",
       "1   Drunk Bragging Trump Staffer Started Russian ...   \n",
       "2   Sheriff David Clarke Becomes An Internet Joke...   \n",
       "3   Trump Is So Obsessed He Even Has Obama’s Name...   \n",
       "\n",
       "                                                text subject  \\\n",
       "0  Donald Trump just couldn t wish all Americans ...    News   \n",
       "1  House Intelligence Committee Chairman Devin Nu...    News   \n",
       "2  On Friday, it was revealed that former Milwauk...    News   \n",
       "3  On Christmas day, Donald Trump announced that ...    News   \n",
       "\n",
       "                date  \n",
       "0  December 31, 2017  \n",
       "1  December 31, 2017  \n",
       "2  December 30, 2017  \n",
       "3  December 29, 2017  "
      ]
     },
     "execution_count": 2,
     "metadata": {},
     "output_type": "execute_result"
    }
   ],
   "source": [
    "true_data=pd.read_csv('/kaggle/input/fake-news-detection-datasets/News _dataset/True.csv')\n",
    "fake_data=pd.read_csv('/kaggle/input/fake-news-detection-datasets/News _dataset/Fake.csv')\n",
    "\n",
    "print(true_data[0:10])\n",
    "fake_data[0:4]"
   ]
  },
  {
   "cell_type": "code",
   "execution_count": 3,
   "id": "8db0ab6f",
   "metadata": {
    "execution": {
     "iopub.execute_input": "2023-10-04T11:16:43.691010Z",
     "iopub.status.busy": "2023-10-04T11:16:43.690624Z",
     "iopub.status.idle": "2023-10-04T11:16:43.698276Z",
     "shell.execute_reply": "2023-10-04T11:16:43.697333Z"
    },
    "papermill": {
     "duration": 0.020328,
     "end_time": "2023-10-04T11:16:43.701223",
     "exception": false,
     "start_time": "2023-10-04T11:16:43.680895",
     "status": "completed"
    },
    "tags": []
   },
   "outputs": [
    {
     "name": "stdout",
     "output_type": "stream",
     "text": [
      "WASHINGTON (Reuters) - The head of a conservative Republican faction in the U.S. Congress, who voted this month for a huge expansion of the national debt to pay for tax cuts, called himself a “fiscal conservative” on Sunday and urged budget restraint in 2018. In keeping with a sharp pivot under way among Republicans, U.S. Representative Mark Meadows, speaking on CBS’ “Face the Nation,” drew a hard line on federal spending, which lawmakers are bracing to do battle over in January. When they return from the holidays on Wednesday, lawmakers will begin trying to pass a federal budget in a fight likely to be linked to other issues, such as immigration policy, even as the November congressional election campaigns approach in which Republicans will seek to keep control of Congress. President Donald Trump and his Republicans want a big budget increase in military spending, while Democrats also want proportional increases for non-defense “discretionary” spending on programs that support education, scientific research, infrastructure, public health and environmental protection. “The (Trump) administration has already been willing to say: ‘We’re going to increase non-defense discretionary spending ... by about 7 percent,’” Meadows, chairman of the small but influential House Freedom Caucus, said on the program. “Now, Democrats are saying that’s not enough, we need to give the government a pay raise of 10 to 11 percent. For a fiscal conservative, I don’t see where the rationale is. ... Eventually you run out of other people’s money,” he said. Meadows was among Republicans who voted in late December for their party’s debt-financed tax overhaul, which is expected to balloon the federal budget deficit and add about $1.5 trillion over 10 years to the $20 trillion national debt. “It’s interesting to hear Mark talk about fiscal responsibility,” Democratic U.S. Representative Joseph Crowley said on CBS. Crowley said the Republican tax bill would require the  United States to borrow $1.5 trillion, to be paid off by future generations, to finance tax cuts for corporations and the rich. “This is one of the least ... fiscally responsible bills we’ve ever seen passed in the history of the House of Representatives. I think we’re going to be paying for this for many, many years to come,” Crowley said. Republicans insist the tax package, the biggest U.S. tax overhaul in more than 30 years,  will boost the economy and job growth. House Speaker Paul Ryan, who also supported the tax bill, recently went further than Meadows, making clear in a radio interview that welfare or “entitlement reform,” as the party often calls it, would be a top Republican priority in 2018. In Republican parlance, “entitlement” programs mean food stamps, housing assistance, Medicare and Medicaid health insurance for the elderly, poor and disabled, as well as other programs created by Washington to assist the needy. Democrats seized on Ryan’s early December remarks, saying they showed Republicans would try to pay for their tax overhaul by seeking spending cuts for social programs. But the goals of House Republicans may have to take a back seat to the Senate, where the votes of some Democrats will be needed to approve a budget and prevent a government shutdown. Democrats will use their leverage in the Senate, which Republicans narrowly control, to defend both discretionary non-defense programs and social spending, while tackling the issue of the “Dreamers,” people brought illegally to the country as children. Trump in September put a March 2018 expiration date on the Deferred Action for Childhood Arrivals, or DACA, program, which protects the young immigrants from deportation and provides them with work permits. The president has said in recent Twitter messages he wants funding for his proposed Mexican border wall and other immigration law changes in exchange for agreeing to help the Dreamers. Representative Debbie Dingell told CBS she did not favor linking that issue to other policy objectives, such as wall funding. “We need to do DACA clean,” she said.  On Wednesday, Trump aides will meet with congressional leaders to discuss those issues. That will be followed by a weekend of strategy sessions for Trump and Republican leaders on Jan. 6 and 7, the White House said. Trump was also scheduled to meet on Sunday with Florida Republican Governor Rick Scott, who wants more emergency aid. The House has passed an $81 billion aid package after hurricanes in Florida, Texas and Puerto Rico, and wildfires in California. The package far exceeded the $44 billion requested by the Trump administration. The Senate has not yet voted on the aid. \n"
     ]
    },
    {
     "data": {
      "text/plain": [
       "Index(['title', 'text', 'subject', 'date'], dtype='object')"
      ]
     },
     "execution_count": 3,
     "metadata": {},
     "output_type": "execute_result"
    }
   ],
   "source": [
    "print(true_data['text'][0])\n",
    "true_data.columns\n",
    "\n"
   ]
  },
  {
   "cell_type": "code",
   "execution_count": 4,
   "id": "e60df3a3",
   "metadata": {
    "execution": {
     "iopub.execute_input": "2023-10-04T11:16:43.720722Z",
     "iopub.status.busy": "2023-10-04T11:16:43.719535Z",
     "iopub.status.idle": "2023-10-04T11:16:43.726799Z",
     "shell.execute_reply": "2023-10-04T11:16:43.725843Z"
    },
    "papermill": {
     "duration": 0.01918,
     "end_time": "2023-10-04T11:16:43.728918",
     "exception": false,
     "start_time": "2023-10-04T11:16:43.709738",
     "status": "completed"
    },
    "tags": []
   },
   "outputs": [
    {
     "data": {
      "text/plain": [
       "21417"
      ]
     },
     "execution_count": 4,
     "metadata": {},
     "output_type": "execute_result"
    }
   ],
   "source": [
    "len(true_data)\n"
   ]
  },
  {
   "cell_type": "code",
   "execution_count": 5,
   "id": "b60a4f11",
   "metadata": {
    "execution": {
     "iopub.execute_input": "2023-10-04T11:16:43.748025Z",
     "iopub.status.busy": "2023-10-04T11:16:43.747589Z",
     "iopub.status.idle": "2023-10-04T11:16:43.754577Z",
     "shell.execute_reply": "2023-10-04T11:16:43.753580Z"
    },
    "papermill": {
     "duration": 0.019156,
     "end_time": "2023-10-04T11:16:43.756676",
     "exception": false,
     "start_time": "2023-10-04T11:16:43.737520",
     "status": "completed"
    },
    "tags": []
   },
   "outputs": [
    {
     "data": {
      "text/plain": [
       "23481"
      ]
     },
     "execution_count": 5,
     "metadata": {},
     "output_type": "execute_result"
    }
   ],
   "source": [
    "len(fake_data)"
   ]
  },
  {
   "cell_type": "code",
   "execution_count": 6,
   "id": "3a2f8e17",
   "metadata": {
    "execution": {
     "iopub.execute_input": "2023-10-04T11:16:43.776663Z",
     "iopub.status.busy": "2023-10-04T11:16:43.776193Z",
     "iopub.status.idle": "2023-10-04T11:16:43.793813Z",
     "shell.execute_reply": "2023-10-04T11:16:43.792757Z"
    },
    "papermill": {
     "duration": 0.03028,
     "end_time": "2023-10-04T11:16:43.795757",
     "exception": false,
     "start_time": "2023-10-04T11:16:43.765477",
     "status": "completed"
    },
    "tags": []
   },
   "outputs": [
    {
     "name": "stdout",
     "output_type": "stream",
     "text": [
      "                                               title  \\\n",
      "0  As U.S. budget fight looms, Republicans flip t...   \n",
      "1  U.S. military to accept transgender recruits o...   \n",
      "2  Senior U.S. Republican senator: 'Let Mr. Muell...   \n",
      "3  FBI Russia probe helped by Australian diplomat...   \n",
      "4  Trump wants Postal Service to charge 'much mor...   \n",
      "\n",
      "                                                text       subject  \\\n",
      "0  WASHINGTON (Reuters) - The head of a conservat...  politicsNews   \n",
      "1  WASHINGTON (Reuters) - Transgender people will...  politicsNews   \n",
      "2  WASHINGTON (Reuters) - The special counsel inv...  politicsNews   \n",
      "3  WASHINGTON (Reuters) - Trump campaign adviser ...  politicsNews   \n",
      "4  SEATTLE/WASHINGTON (Reuters) - President Donal...  politicsNews   \n",
      "\n",
      "                 date  label  \n",
      "0  December 31, 2017       0  \n",
      "1  December 29, 2017       0  \n",
      "2  December 31, 2017       0  \n",
      "3  December 30, 2017       0  \n",
      "4  December 29, 2017       0  \n"
     ]
    },
    {
     "data": {
      "text/html": [
       "<div>\n",
       "<style scoped>\n",
       "    .dataframe tbody tr th:only-of-type {\n",
       "        vertical-align: middle;\n",
       "    }\n",
       "\n",
       "    .dataframe tbody tr th {\n",
       "        vertical-align: top;\n",
       "    }\n",
       "\n",
       "    .dataframe thead th {\n",
       "        text-align: right;\n",
       "    }\n",
       "</style>\n",
       "<table border=\"1\" class=\"dataframe\">\n",
       "  <thead>\n",
       "    <tr style=\"text-align: right;\">\n",
       "      <th></th>\n",
       "      <th>title</th>\n",
       "      <th>text</th>\n",
       "      <th>subject</th>\n",
       "      <th>date</th>\n",
       "      <th>label</th>\n",
       "    </tr>\n",
       "  </thead>\n",
       "  <tbody>\n",
       "    <tr>\n",
       "      <th>0</th>\n",
       "      <td>Donald Trump Sends Out Embarrassing New Year’...</td>\n",
       "      <td>Donald Trump just couldn t wish all Americans ...</td>\n",
       "      <td>News</td>\n",
       "      <td>December 31, 2017</td>\n",
       "      <td>1</td>\n",
       "    </tr>\n",
       "    <tr>\n",
       "      <th>1</th>\n",
       "      <td>Drunk Bragging Trump Staffer Started Russian ...</td>\n",
       "      <td>House Intelligence Committee Chairman Devin Nu...</td>\n",
       "      <td>News</td>\n",
       "      <td>December 31, 2017</td>\n",
       "      <td>1</td>\n",
       "    </tr>\n",
       "    <tr>\n",
       "      <th>2</th>\n",
       "      <td>Sheriff David Clarke Becomes An Internet Joke...</td>\n",
       "      <td>On Friday, it was revealed that former Milwauk...</td>\n",
       "      <td>News</td>\n",
       "      <td>December 30, 2017</td>\n",
       "      <td>1</td>\n",
       "    </tr>\n",
       "    <tr>\n",
       "      <th>3</th>\n",
       "      <td>Trump Is So Obsessed He Even Has Obama’s Name...</td>\n",
       "      <td>On Christmas day, Donald Trump announced that ...</td>\n",
       "      <td>News</td>\n",
       "      <td>December 29, 2017</td>\n",
       "      <td>1</td>\n",
       "    </tr>\n",
       "    <tr>\n",
       "      <th>4</th>\n",
       "      <td>Pope Francis Just Called Out Donald Trump Dur...</td>\n",
       "      <td>Pope Francis used his annual Christmas Day mes...</td>\n",
       "      <td>News</td>\n",
       "      <td>December 25, 2017</td>\n",
       "      <td>1</td>\n",
       "    </tr>\n",
       "  </tbody>\n",
       "</table>\n",
       "</div>"
      ],
      "text/plain": [
       "                                               title  \\\n",
       "0   Donald Trump Sends Out Embarrassing New Year’...   \n",
       "1   Drunk Bragging Trump Staffer Started Russian ...   \n",
       "2   Sheriff David Clarke Becomes An Internet Joke...   \n",
       "3   Trump Is So Obsessed He Even Has Obama’s Name...   \n",
       "4   Pope Francis Just Called Out Donald Trump Dur...   \n",
       "\n",
       "                                                text subject  \\\n",
       "0  Donald Trump just couldn t wish all Americans ...    News   \n",
       "1  House Intelligence Committee Chairman Devin Nu...    News   \n",
       "2  On Friday, it was revealed that former Milwauk...    News   \n",
       "3  On Christmas day, Donald Trump announced that ...    News   \n",
       "4  Pope Francis used his annual Christmas Day mes...    News   \n",
       "\n",
       "                date  label  \n",
       "0  December 31, 2017      1  \n",
       "1  December 31, 2017      1  \n",
       "2  December 30, 2017      1  \n",
       "3  December 29, 2017      1  \n",
       "4  December 25, 2017      1  "
      ]
     },
     "execution_count": 6,
     "metadata": {},
     "output_type": "execute_result"
    }
   ],
   "source": [
    "fake_data['label'] = 1\n",
    "true_data['label']=0\n",
    "print(true_data.head())\n",
    "fake_data.head()"
   ]
  },
  {
   "cell_type": "code",
   "execution_count": 7,
   "id": "b723d4cb",
   "metadata": {
    "execution": {
     "iopub.execute_input": "2023-10-04T11:16:43.815295Z",
     "iopub.status.busy": "2023-10-04T11:16:43.814935Z",
     "iopub.status.idle": "2023-10-04T11:16:43.850893Z",
     "shell.execute_reply": "2023-10-04T11:16:43.850190Z"
    },
    "papermill": {
     "duration": 0.048071,
     "end_time": "2023-10-04T11:16:43.852880",
     "exception": false,
     "start_time": "2023-10-04T11:16:43.804809",
     "status": "completed"
    },
    "tags": []
   },
   "outputs": [
    {
     "name": "stdout",
     "output_type": "stream",
     "text": [
      "Index(['title', 'text', 'subject', 'date', 'label'], dtype='object')\n"
     ]
    },
    {
     "data": {
      "text/html": [
       "<div>\n",
       "<style scoped>\n",
       "    .dataframe tbody tr th:only-of-type {\n",
       "        vertical-align: middle;\n",
       "    }\n",
       "\n",
       "    .dataframe tbody tr th {\n",
       "        vertical-align: top;\n",
       "    }\n",
       "\n",
       "    .dataframe thead th {\n",
       "        text-align: right;\n",
       "    }\n",
       "</style>\n",
       "<table border=\"1\" class=\"dataframe\">\n",
       "  <thead>\n",
       "    <tr style=\"text-align: right;\">\n",
       "      <th></th>\n",
       "      <th>title</th>\n",
       "      <th>text</th>\n",
       "      <th>subject</th>\n",
       "      <th>date</th>\n",
       "      <th>label</th>\n",
       "    </tr>\n",
       "  </thead>\n",
       "  <tbody>\n",
       "    <tr>\n",
       "      <th>22313</th>\n",
       "      <td>Putin Tells Obama and Western Media: “Either s...</td>\n",
       "      <td>21st Century Wire says It appears that Putin h...</td>\n",
       "      <td>US_News</td>\n",
       "      <td>December 17, 2016</td>\n",
       "      <td>1</td>\n",
       "    </tr>\n",
       "    <tr>\n",
       "      <th>17315</th>\n",
       "      <td>From Haider to Strache - the FPO's march to re...</td>\n",
       "      <td>VIENNA (Reuters) - Founded by former Nazis six...</td>\n",
       "      <td>worldnews</td>\n",
       "      <td>October 16, 2017</td>\n",
       "      <td>0</td>\n",
       "    </tr>\n",
       "    <tr>\n",
       "      <th>20667</th>\n",
       "      <td>IRS CHIEF: Okay For Illegal Aliens To Use Stol...</td>\n",
       "      <td>It sure would be nice to have a President and ...</td>\n",
       "      <td>left-news</td>\n",
       "      <td>Apr 27, 2016</td>\n",
       "      <td>1</td>\n",
       "    </tr>\n",
       "    <tr>\n",
       "      <th>21715</th>\n",
       "      <td>STORE OWNER BASHES LIBERAL OBAMAITES AS HE SHU...</td>\n",
       "      <td></td>\n",
       "      <td>left-news</td>\n",
       "      <td>May 20, 2015</td>\n",
       "      <td>1</td>\n",
       "    </tr>\n",
       "    <tr>\n",
       "      <th>19638</th>\n",
       "      <td>HUNDREDS VOTING FROM THE GRAVE In This Califor...</td>\n",
       "      <td>A comparison of records by David Goldstein, in...</td>\n",
       "      <td>left-news</td>\n",
       "      <td>Nov 11, 2016</td>\n",
       "      <td>1</td>\n",
       "    </tr>\n",
       "  </tbody>\n",
       "</table>\n",
       "</div>"
      ],
      "text/plain": [
       "                                                   title  \\\n",
       "22313  Putin Tells Obama and Western Media: “Either s...   \n",
       "17315  From Haider to Strache - the FPO's march to re...   \n",
       "20667  IRS CHIEF: Okay For Illegal Aliens To Use Stol...   \n",
       "21715  STORE OWNER BASHES LIBERAL OBAMAITES AS HE SHU...   \n",
       "19638  HUNDREDS VOTING FROM THE GRAVE In This Califor...   \n",
       "\n",
       "                                                    text    subject  \\\n",
       "22313  21st Century Wire says It appears that Putin h...    US_News   \n",
       "17315  VIENNA (Reuters) - Founded by former Nazis six...  worldnews   \n",
       "20667  It sure would be nice to have a President and ...  left-news   \n",
       "21715                                                     left-news   \n",
       "19638  A comparison of records by David Goldstein, in...  left-news   \n",
       "\n",
       "                    date  label  \n",
       "22313  December 17, 2016      1  \n",
       "17315  October 16, 2017       0  \n",
       "20667       Apr 27, 2016      1  \n",
       "21715       May 20, 2015      1  \n",
       "19638       Nov 11, 2016      1  "
      ]
     },
     "execution_count": 7,
     "metadata": {},
     "output_type": "execute_result"
    }
   ],
   "source": [
    "\n",
    "all_data=pd.concat([fake_data, true_data])\n",
    "random_permutation = np.random.permutation(len(all_data))\n",
    "all_data= all_data.iloc[random_permutation]\n",
    "print(all_data.columns)\n",
    "all_data.head()"
   ]
  },
  {
   "cell_type": "code",
   "execution_count": 8,
   "id": "4d49f523",
   "metadata": {
    "execution": {
     "iopub.execute_input": "2023-10-04T11:16:43.874064Z",
     "iopub.status.busy": "2023-10-04T11:16:43.873717Z",
     "iopub.status.idle": "2023-10-04T11:16:43.892597Z",
     "shell.execute_reply": "2023-10-04T11:16:43.891510Z"
    },
    "papermill": {
     "duration": 0.032067,
     "end_time": "2023-10-04T11:16:43.894640",
     "exception": false,
     "start_time": "2023-10-04T11:16:43.862573",
     "status": "completed"
    },
    "tags": []
   },
   "outputs": [
    {
     "data": {
      "text/html": [
       "<div>\n",
       "<style scoped>\n",
       "    .dataframe tbody tr th:only-of-type {\n",
       "        vertical-align: middle;\n",
       "    }\n",
       "\n",
       "    .dataframe tbody tr th {\n",
       "        vertical-align: top;\n",
       "    }\n",
       "\n",
       "    .dataframe thead th {\n",
       "        text-align: right;\n",
       "    }\n",
       "</style>\n",
       "<table border=\"1\" class=\"dataframe\">\n",
       "  <thead>\n",
       "    <tr style=\"text-align: right;\">\n",
       "      <th></th>\n",
       "      <th>title</th>\n",
       "      <th>text</th>\n",
       "      <th>subject</th>\n",
       "      <th>label</th>\n",
       "    </tr>\n",
       "  </thead>\n",
       "  <tbody>\n",
       "    <tr>\n",
       "      <th>22313</th>\n",
       "      <td>Putin Tells Obama and Western Media: “Either s...</td>\n",
       "      <td>21st Century Wire says It appears that Putin h...</td>\n",
       "      <td>US_News</td>\n",
       "      <td>1</td>\n",
       "    </tr>\n",
       "    <tr>\n",
       "      <th>17315</th>\n",
       "      <td>From Haider to Strache - the FPO's march to re...</td>\n",
       "      <td>VIENNA (Reuters) - Founded by former Nazis six...</td>\n",
       "      <td>worldnews</td>\n",
       "      <td>0</td>\n",
       "    </tr>\n",
       "    <tr>\n",
       "      <th>20667</th>\n",
       "      <td>IRS CHIEF: Okay For Illegal Aliens To Use Stol...</td>\n",
       "      <td>It sure would be nice to have a President and ...</td>\n",
       "      <td>left-news</td>\n",
       "      <td>1</td>\n",
       "    </tr>\n",
       "    <tr>\n",
       "      <th>21715</th>\n",
       "      <td>STORE OWNER BASHES LIBERAL OBAMAITES AS HE SHU...</td>\n",
       "      <td></td>\n",
       "      <td>left-news</td>\n",
       "      <td>1</td>\n",
       "    </tr>\n",
       "    <tr>\n",
       "      <th>19638</th>\n",
       "      <td>HUNDREDS VOTING FROM THE GRAVE In This Califor...</td>\n",
       "      <td>A comparison of records by David Goldstein, in...</td>\n",
       "      <td>left-news</td>\n",
       "      <td>1</td>\n",
       "    </tr>\n",
       "  </tbody>\n",
       "</table>\n",
       "</div>"
      ],
      "text/plain": [
       "                                                   title  \\\n",
       "22313  Putin Tells Obama and Western Media: “Either s...   \n",
       "17315  From Haider to Strache - the FPO's march to re...   \n",
       "20667  IRS CHIEF: Okay For Illegal Aliens To Use Stol...   \n",
       "21715  STORE OWNER BASHES LIBERAL OBAMAITES AS HE SHU...   \n",
       "19638  HUNDREDS VOTING FROM THE GRAVE In This Califor...   \n",
       "\n",
       "                                                    text    subject  label  \n",
       "22313  21st Century Wire says It appears that Putin h...    US_News      1  \n",
       "17315  VIENNA (Reuters) - Founded by former Nazis six...  worldnews      0  \n",
       "20667  It sure would be nice to have a President and ...  left-news      1  \n",
       "21715                                                     left-news      1  \n",
       "19638  A comparison of records by David Goldstein, in...  left-news      1  "
      ]
     },
     "execution_count": 8,
     "metadata": {},
     "output_type": "execute_result"
    }
   ],
   "source": [
    "filterd_data=all_data.loc[:, ['title', 'text', \"subject\", 'label']]\n",
    "filterd_data.head()"
   ]
  },
  {
   "cell_type": "code",
   "execution_count": 9,
   "id": "d849dc1a",
   "metadata": {
    "execution": {
     "iopub.execute_input": "2023-10-04T11:16:43.915546Z",
     "iopub.status.busy": "2023-10-04T11:16:43.914777Z",
     "iopub.status.idle": "2023-10-04T11:16:43.938902Z",
     "shell.execute_reply": "2023-10-04T11:16:43.937672Z"
    },
    "papermill": {
     "duration": 0.037174,
     "end_time": "2023-10-04T11:16:43.941394",
     "exception": false,
     "start_time": "2023-10-04T11:16:43.904220",
     "status": "completed"
    },
    "tags": []
   },
   "outputs": [
    {
     "data": {
      "text/plain": [
       "title      0\n",
       "text       0\n",
       "subject    0\n",
       "label      0\n",
       "dtype: int64"
      ]
     },
     "execution_count": 9,
     "metadata": {},
     "output_type": "execute_result"
    }
   ],
   "source": [
    "filterd_data.isnull().sum()"
   ]
  },
  {
   "cell_type": "code",
   "execution_count": 10,
   "id": "c8450f5f",
   "metadata": {
    "execution": {
     "iopub.execute_input": "2023-10-04T11:16:43.963001Z",
     "iopub.status.busy": "2023-10-04T11:16:43.962149Z",
     "iopub.status.idle": "2023-10-04T11:16:44.429235Z",
     "shell.execute_reply": "2023-10-04T11:16:44.428188Z"
    },
    "papermill": {
     "duration": 0.480315,
     "end_time": "2023-10-04T11:16:44.431523",
     "exception": false,
     "start_time": "2023-10-04T11:16:43.951208",
     "status": "completed"
    },
    "tags": []
   },
   "outputs": [
    {
     "data": {
      "text/html": [
       "<div>\n",
       "<style scoped>\n",
       "    .dataframe tbody tr th:only-of-type {\n",
       "        vertical-align: middle;\n",
       "    }\n",
       "\n",
       "    .dataframe tbody tr th {\n",
       "        vertical-align: top;\n",
       "    }\n",
       "\n",
       "    .dataframe thead th {\n",
       "        text-align: right;\n",
       "    }\n",
       "</style>\n",
       "<table border=\"1\" class=\"dataframe\">\n",
       "  <thead>\n",
       "    <tr style=\"text-align: right;\">\n",
       "      <th></th>\n",
       "      <th>title</th>\n",
       "      <th>text</th>\n",
       "      <th>subject</th>\n",
       "      <th>label</th>\n",
       "      <th>training_feature</th>\n",
       "    </tr>\n",
       "  </thead>\n",
       "  <tbody>\n",
       "    <tr>\n",
       "      <th>22313</th>\n",
       "      <td>Putin Tells Obama and Western Media: “Either s...</td>\n",
       "      <td>21st Century Wire says It appears that Putin h...</td>\n",
       "      <td>US_News</td>\n",
       "      <td>1</td>\n",
       "      <td>Putin Tells Obama and Western Media: “Either s...</td>\n",
       "    </tr>\n",
       "    <tr>\n",
       "      <th>17315</th>\n",
       "      <td>From Haider to Strache - the FPO's march to re...</td>\n",
       "      <td>VIENNA (Reuters) - Founded by former Nazis six...</td>\n",
       "      <td>worldnews</td>\n",
       "      <td>0</td>\n",
       "      <td>From Haider to Strache - the FPO's march to re...</td>\n",
       "    </tr>\n",
       "    <tr>\n",
       "      <th>20667</th>\n",
       "      <td>IRS CHIEF: Okay For Illegal Aliens To Use Stol...</td>\n",
       "      <td>It sure would be nice to have a President and ...</td>\n",
       "      <td>left-news</td>\n",
       "      <td>1</td>\n",
       "      <td>IRS CHIEF: Okay For Illegal Aliens To Use Stol...</td>\n",
       "    </tr>\n",
       "    <tr>\n",
       "      <th>21715</th>\n",
       "      <td>STORE OWNER BASHES LIBERAL OBAMAITES AS HE SHU...</td>\n",
       "      <td></td>\n",
       "      <td>left-news</td>\n",
       "      <td>1</td>\n",
       "      <td>STORE OWNER BASHES LIBERAL OBAMAITES AS HE SHU...</td>\n",
       "    </tr>\n",
       "    <tr>\n",
       "      <th>19638</th>\n",
       "      <td>HUNDREDS VOTING FROM THE GRAVE In This Califor...</td>\n",
       "      <td>A comparison of records by David Goldstein, in...</td>\n",
       "      <td>left-news</td>\n",
       "      <td>1</td>\n",
       "      <td>HUNDREDS VOTING FROM THE GRAVE In This Califor...</td>\n",
       "    </tr>\n",
       "  </tbody>\n",
       "</table>\n",
       "</div>"
      ],
      "text/plain": [
       "                                                   title  \\\n",
       "22313  Putin Tells Obama and Western Media: “Either s...   \n",
       "17315  From Haider to Strache - the FPO's march to re...   \n",
       "20667  IRS CHIEF: Okay For Illegal Aliens To Use Stol...   \n",
       "21715  STORE OWNER BASHES LIBERAL OBAMAITES AS HE SHU...   \n",
       "19638  HUNDREDS VOTING FROM THE GRAVE In This Califor...   \n",
       "\n",
       "                                                    text    subject  label  \\\n",
       "22313  21st Century Wire says It appears that Putin h...    US_News      1   \n",
       "17315  VIENNA (Reuters) - Founded by former Nazis six...  worldnews      0   \n",
       "20667  It sure would be nice to have a President and ...  left-news      1   \n",
       "21715                                                     left-news      1   \n",
       "19638  A comparison of records by David Goldstein, in...  left-news      1   \n",
       "\n",
       "                                        training_feature  \n",
       "22313  Putin Tells Obama and Western Media: “Either s...  \n",
       "17315  From Haider to Strache - the FPO's march to re...  \n",
       "20667  IRS CHIEF: Okay For Illegal Aliens To Use Stol...  \n",
       "21715  STORE OWNER BASHES LIBERAL OBAMAITES AS HE SHU...  \n",
       "19638  HUNDREDS VOTING FROM THE GRAVE In This Califor...  "
      ]
     },
     "execution_count": 10,
     "metadata": {},
     "output_type": "execute_result"
    }
   ],
   "source": [
    "filterd_data['training_feature']=filterd_data['title']+' '+filterd_data['text']+' '+filterd_data['subject']\n",
    "filterd_data.head()"
   ]
  },
  {
   "cell_type": "code",
   "execution_count": 11,
   "id": "ca3db61b",
   "metadata": {
    "execution": {
     "iopub.execute_input": "2023-10-04T11:16:44.452615Z",
     "iopub.status.busy": "2023-10-04T11:16:44.452226Z",
     "iopub.status.idle": "2023-10-04T11:16:44.457019Z",
     "shell.execute_reply": "2023-10-04T11:16:44.455955Z"
    },
    "papermill": {
     "duration": 0.017685,
     "end_time": "2023-10-04T11:16:44.459040",
     "exception": false,
     "start_time": "2023-10-04T11:16:44.441355",
     "status": "completed"
    },
    "tags": []
   },
   "outputs": [],
   "source": [
    "X= filterd_data['training_feature'].values\n",
    "y = filterd_data['label']\n"
   ]
  },
  {
   "cell_type": "code",
   "execution_count": 12,
   "id": "ad20666a",
   "metadata": {
    "execution": {
     "iopub.execute_input": "2023-10-04T11:16:44.480123Z",
     "iopub.status.busy": "2023-10-04T11:16:44.479777Z",
     "iopub.status.idle": "2023-10-04T11:16:44.485062Z",
     "shell.execute_reply": "2023-10-04T11:16:44.483845Z"
    },
    "papermill": {
     "duration": 0.018348,
     "end_time": "2023-10-04T11:16:44.487252",
     "exception": false,
     "start_time": "2023-10-04T11:16:44.468904",
     "status": "completed"
    },
    "tags": []
   },
   "outputs": [],
   "source": [
    "l_X=filterd_data['training_feature'].values[0:1000]\n",
    "l_Y= filterd_data['label'].values[0:1000]"
   ]
  },
  {
   "cell_type": "code",
   "execution_count": 13,
   "id": "9703b702",
   "metadata": {
    "execution": {
     "iopub.execute_input": "2023-10-04T11:16:44.565706Z",
     "iopub.status.busy": "2023-10-04T11:16:44.565358Z",
     "iopub.status.idle": "2023-10-04T11:16:44.571578Z",
     "shell.execute_reply": "2023-10-04T11:16:44.570763Z"
    },
    "papermill": {
     "duration": 0.019332,
     "end_time": "2023-10-04T11:16:44.573756",
     "exception": false,
     "start_time": "2023-10-04T11:16:44.554424",
     "status": "completed"
    },
    "tags": []
   },
   "outputs": [
    {
     "name": "stdout",
     "output_type": "stream",
     "text": [
      "(1000,)\n",
      "(1000,)\n"
     ]
    },
    {
     "data": {
      "text/plain": [
       "numpy.ndarray"
      ]
     },
     "execution_count": 13,
     "metadata": {},
     "output_type": "execute_result"
    }
   ],
   "source": [
    "print(l_X.shape)\n",
    "print(l_Y.shape)\n",
    "type (l_X)"
   ]
  },
  {
   "cell_type": "code",
   "execution_count": 14,
   "id": "e3847e45",
   "metadata": {
    "execution": {
     "iopub.execute_input": "2023-10-04T11:16:44.595676Z",
     "iopub.status.busy": "2023-10-04T11:16:44.595355Z",
     "iopub.status.idle": "2023-10-04T11:16:44.599505Z",
     "shell.execute_reply": "2023-10-04T11:16:44.598710Z"
    },
    "papermill": {
     "duration": 0.018119,
     "end_time": "2023-10-04T11:16:44.601812",
     "exception": false,
     "start_time": "2023-10-04T11:16:44.583693",
     "status": "completed"
    },
    "tags": []
   },
   "outputs": [
    {
     "name": "stdout",
     "output_type": "stream",
     "text": [
      "['Putin Tells Obama and Western Media: “Either stop talking about it or finally show some kind of proof” 21st Century Wire says It appears that Putin has had enough with being accused of tampering with the US election process this year. The Russian President s spokesman, Dmitry Peskov, pointed out that it was  indecent  of the US to accuse Russia of tampering with its election.   Remember: On Thursday evening CNN reported that Barack Obama vowed to retaliate against Russia for the  hack  that has not been verified by any independent sources nor has it provided a shred of evidence to support the claim   Tyler Durden Zero HedgePutin has had enough of the relentless barrage of US accusations that he, personally,  hacked the US presidential election. The Russian president s spokesman, Dmitry Peskov, said on Friday that the US must either stop accusing Russia of meddling in its elections or prove it. Peskov said it was  indecent  of the United States to  groundlessly  accuse Russia of intervention in its elections. You need to either stop talking about it, or finally show some kind of proof. Otherwise it just looks very indecent , Peskov told Reporters in Tokyo where Putin is meeting with Japan PM Abe, responding to the latest accusations that Russia was responsible for hacker attacks.Peskov also warned that Obama s threat to  retaliate  to the alleged Russian hack is  against both American and international law , hinting at open-ended escalation should Obama take the podium today at 2:15pm to officially launch cyberwar against Russia.Previously, on Thursday, Peskov told the AP the report was  laughable nonsense , while Russian foreign ministry spox Maria Zakharova accused  Western media  of being a  shill  and a  mouthpiece of various power groups , and added that  it s not the general public who s being manipulated,  Zakharova said.  the general public nowadays can distinguish the truth. It s the mass media that is manipulating themselves. Meanwhile, on Friday Sergei Lavrov, Russia s foreign minister told state television network, Russia 24, he was  dumbstruck  by the NBC report which alleges that Russian President Vladimir Putin was personally involved in an election hack.The report cited U.S. intelligence officials that now believe with a  high level of confidence  that Putin became personally involved in a secret campaign to influence the outcome of the U.S. presidential election.  I think this is just silly, and the futility of the attempt to convince somebody of this is absolutely obvious,  Lavrov added, according to the news outlet.As a reminder, last night Obama vowed retaliatory action against Russia for its meddling in the US presidential election last month.   I think there is no doubt that when any foreign government tries to impact the integrity of our elections that we need to take action and we will at a time and place of our own choosing,  Obama told National Public Radio.US intelligence agencies in October pinned blame on Russia for election-related hacking. At the time, the White House vowed a  proportional response  to the cyberactivity, though declined to preview what that response might entail. Meanwhile, both President-elect Donald Trump, the FBI,and the ODNI have dismissed the CIA s intelligence community s assessment, for the the same reason Putin finally lashed out at Obama: there is no proof.That, however, has never stopped the US from escalating a geopolitical conflict to the point of war, or beyond, so pay close attention to what Obama says this afternoon.According to an NBC report, a team of analysts at Eurasia Group said in a note on Friday that they believe the outgoing administration is likely to take action which could result in a significant barrier for Trump s team once he takes office in January. It is unlikely that U.S. intelligence reports will change Trump s intention to initiate a rapprochement with Moscow, but the congressional response following its own investigations could obstruct the new administration s effort,  Eurasia Group analysts added.Continue the story at Zero HedgeREAD MORE MSM LIES AT: 21st Century Wire MSM Watch Files US_News']\n"
     ]
    }
   ],
   "source": [
    "print(X[0:1])"
   ]
  },
  {
   "cell_type": "code",
   "execution_count": 15,
   "id": "b2b98971",
   "metadata": {
    "execution": {
     "iopub.execute_input": "2023-10-04T11:16:44.625251Z",
     "iopub.status.busy": "2023-10-04T11:16:44.624693Z",
     "iopub.status.idle": "2023-10-04T11:16:44.628015Z",
     "shell.execute_reply": "2023-10-04T11:16:44.627351Z"
    },
    "papermill": {
     "duration": 0.017241,
     "end_time": "2023-10-04T11:16:44.629757",
     "exception": false,
     "start_time": "2023-10-04T11:16:44.612516",
     "status": "completed"
    },
    "tags": []
   },
   "outputs": [],
   "source": [
    "# from sklearn import preprocessing\n",
    "\n",
    "# print(X.shape)\n",
    "# print(type(X))\n",
    "# # print(X[0:1])\n",
    "# X=X.reshape((1,-1))\n",
    "# X = preprocessing.normalize(X)\n",
    "# np.random.shuffle(X)\n",
    "# print(X.shape)\n",
    "# print(type(X))\n",
    "\n",
    "# X = preprocessing.normalize([X.reshape(1,-1)])\n"
   ]
  },
  {
   "cell_type": "code",
   "execution_count": 16,
   "id": "ffada516",
   "metadata": {
    "execution": {
     "iopub.execute_input": "2023-10-04T11:16:44.651768Z",
     "iopub.status.busy": "2023-10-04T11:16:44.651230Z",
     "iopub.status.idle": "2023-10-04T11:16:45.970639Z",
     "shell.execute_reply": "2023-10-04T11:16:45.969598Z"
    },
    "papermill": {
     "duration": 1.333215,
     "end_time": "2023-10-04T11:16:45.973131",
     "exception": false,
     "start_time": "2023-10-04T11:16:44.639916",
     "status": "completed"
    },
    "tags": []
   },
   "outputs": [],
   "source": [
    "from sklearn.feature_extraction.text import TfidfVectorizer\n",
    "from sklearn.model_selection import train_test_split\n",
    "from sklearn.linear_model import LogisticRegression\n",
    "from sklearn.metrics import accuracy_score"
   ]
  },
  {
   "cell_type": "code",
   "execution_count": 17,
   "id": "fd594e76",
   "metadata": {
    "execution": {
     "iopub.execute_input": "2023-10-04T11:16:45.995781Z",
     "iopub.status.busy": "2023-10-04T11:16:45.995377Z",
     "iopub.status.idle": "2023-10-04T11:17:01.806014Z",
     "shell.execute_reply": "2023-10-04T11:17:01.804700Z"
    },
    "papermill": {
     "duration": 15.824989,
     "end_time": "2023-10-04T11:17:01.808582",
     "exception": false,
     "start_time": "2023-10-04T11:16:45.983593",
     "status": "completed"
    },
    "tags": []
   },
   "outputs": [],
   "source": [
    "vectorizer= TfidfVectorizer()\n",
    "X=vectorizer.fit_transform(X)"
   ]
  },
  {
   "cell_type": "code",
   "execution_count": 18,
   "id": "95b8bd11",
   "metadata": {
    "execution": {
     "iopub.execute_input": "2023-10-04T11:17:01.830970Z",
     "iopub.status.busy": "2023-10-04T11:17:01.830601Z",
     "iopub.status.idle": "2023-10-04T11:17:02.225854Z",
     "shell.execute_reply": "2023-10-04T11:17:02.224735Z"
    },
    "papermill": {
     "duration": 0.409522,
     "end_time": "2023-10-04T11:17:02.228561",
     "exception": false,
     "start_time": "2023-10-04T11:17:01.819039",
     "status": "completed"
    },
    "tags": []
   },
   "outputs": [],
   "source": [
    "l_vectorizer= TfidfVectorizer()\n",
    "l_X=l_vectorizer.fit_transform(l_X)"
   ]
  },
  {
   "cell_type": "code",
   "execution_count": 19,
   "id": "10ae1d4c",
   "metadata": {
    "execution": {
     "iopub.execute_input": "2023-10-04T11:17:02.250888Z",
     "iopub.status.busy": "2023-10-04T11:17:02.250227Z",
     "iopub.status.idle": "2023-10-04T11:17:02.256063Z",
     "shell.execute_reply": "2023-10-04T11:17:02.254970Z"
    },
    "papermill": {
     "duration": 0.019163,
     "end_time": "2023-10-04T11:17:02.258167",
     "exception": false,
     "start_time": "2023-10-04T11:17:02.239004",
     "status": "completed"
    },
    "tags": []
   },
   "outputs": [
    {
     "name": "stdout",
     "output_type": "stream",
     "text": [
      "<class 'scipy.sparse._csr.csr_matrix'>\n",
      "(44898, 122516)\n",
      "<class 'scipy.sparse._csr.csr_matrix'>\n",
      "(1000, 22629)\n"
     ]
    }
   ],
   "source": [
    "print(type(X))\n",
    "print(X.shape)\n",
    "print(type(l_X))\n",
    "print(l_X.shape)\n"
   ]
  },
  {
   "cell_type": "code",
   "execution_count": 20,
   "id": "e6c871f5",
   "metadata": {
    "execution": {
     "iopub.execute_input": "2023-10-04T11:17:02.279915Z",
     "iopub.status.busy": "2023-10-04T11:17:02.279579Z",
     "iopub.status.idle": "2023-10-04T11:17:02.335919Z",
     "shell.execute_reply": "2023-10-04T11:17:02.334787Z"
    },
    "papermill": {
     "duration": 0.070172,
     "end_time": "2023-10-04T11:17:02.338327",
     "exception": false,
     "start_time": "2023-10-04T11:17:02.268155",
     "status": "completed"
    },
    "tags": []
   },
   "outputs": [],
   "source": [
    "X_train, X_test, Y_train, Y_test = train_test_split(X, y, test_size = 0.2, stratify=y, random_state=42)"
   ]
  },
  {
   "cell_type": "code",
   "execution_count": 21,
   "id": "5f5f22a6",
   "metadata": {
    "execution": {
     "iopub.execute_input": "2023-10-04T11:17:02.361251Z",
     "iopub.status.busy": "2023-10-04T11:17:02.360269Z",
     "iopub.status.idle": "2023-10-04T11:17:02.367717Z",
     "shell.execute_reply": "2023-10-04T11:17:02.366637Z"
    },
    "papermill": {
     "duration": 0.02103,
     "end_time": "2023-10-04T11:17:02.369955",
     "exception": false,
     "start_time": "2023-10-04T11:17:02.348925",
     "status": "completed"
    },
    "tags": []
   },
   "outputs": [],
   "source": [
    "l_X_train, l_X_test, l_Y_train, l_Y_test = train_test_split(l_X, l_Y, test_size = 0.2, random_state=42)"
   ]
  },
  {
   "cell_type": "code",
   "execution_count": 22,
   "id": "6e1b6cdf",
   "metadata": {
    "execution": {
     "iopub.execute_input": "2023-10-04T11:17:02.393664Z",
     "iopub.status.busy": "2023-10-04T11:17:02.393259Z",
     "iopub.status.idle": "2023-10-04T11:17:02.399533Z",
     "shell.execute_reply": "2023-10-04T11:17:02.398539Z"
    },
    "papermill": {
     "duration": 0.021202,
     "end_time": "2023-10-04T11:17:02.401530",
     "exception": false,
     "start_time": "2023-10-04T11:17:02.380328",
     "status": "completed"
    },
    "tags": []
   },
   "outputs": [
    {
     "data": {
      "text/plain": [
       "(35918, 122516)"
      ]
     },
     "execution_count": 22,
     "metadata": {},
     "output_type": "execute_result"
    }
   ],
   "source": [
    "X_train.shape\n"
   ]
  },
  {
   "cell_type": "code",
   "execution_count": 23,
   "id": "4bc2bf06",
   "metadata": {
    "execution": {
     "iopub.execute_input": "2023-10-04T11:17:02.424365Z",
     "iopub.status.busy": "2023-10-04T11:17:02.423951Z",
     "iopub.status.idle": "2023-10-04T11:17:06.047081Z",
     "shell.execute_reply": "2023-10-04T11:17:06.045853Z"
    },
    "papermill": {
     "duration": 3.638173,
     "end_time": "2023-10-04T11:17:06.050230",
     "exception": false,
     "start_time": "2023-10-04T11:17:02.412057",
     "status": "completed"
    },
    "tags": []
   },
   "outputs": [
    {
     "data": {
      "text/html": [
       "<style>#sk-container-id-1 {color: black;background-color: white;}#sk-container-id-1 pre{padding: 0;}#sk-container-id-1 div.sk-toggleable {background-color: white;}#sk-container-id-1 label.sk-toggleable__label {cursor: pointer;display: block;width: 100%;margin-bottom: 0;padding: 0.3em;box-sizing: border-box;text-align: center;}#sk-container-id-1 label.sk-toggleable__label-arrow:before {content: \"▸\";float: left;margin-right: 0.25em;color: #696969;}#sk-container-id-1 label.sk-toggleable__label-arrow:hover:before {color: black;}#sk-container-id-1 div.sk-estimator:hover label.sk-toggleable__label-arrow:before {color: black;}#sk-container-id-1 div.sk-toggleable__content {max-height: 0;max-width: 0;overflow: hidden;text-align: left;background-color: #f0f8ff;}#sk-container-id-1 div.sk-toggleable__content pre {margin: 0.2em;color: black;border-radius: 0.25em;background-color: #f0f8ff;}#sk-container-id-1 input.sk-toggleable__control:checked~div.sk-toggleable__content {max-height: 200px;max-width: 100%;overflow: auto;}#sk-container-id-1 input.sk-toggleable__control:checked~label.sk-toggleable__label-arrow:before {content: \"▾\";}#sk-container-id-1 div.sk-estimator input.sk-toggleable__control:checked~label.sk-toggleable__label {background-color: #d4ebff;}#sk-container-id-1 div.sk-label input.sk-toggleable__control:checked~label.sk-toggleable__label {background-color: #d4ebff;}#sk-container-id-1 input.sk-hidden--visually {border: 0;clip: rect(1px 1px 1px 1px);clip: rect(1px, 1px, 1px, 1px);height: 1px;margin: -1px;overflow: hidden;padding: 0;position: absolute;width: 1px;}#sk-container-id-1 div.sk-estimator {font-family: monospace;background-color: #f0f8ff;border: 1px dotted black;border-radius: 0.25em;box-sizing: border-box;margin-bottom: 0.5em;}#sk-container-id-1 div.sk-estimator:hover {background-color: #d4ebff;}#sk-container-id-1 div.sk-parallel-item::after {content: \"\";width: 100%;border-bottom: 1px solid gray;flex-grow: 1;}#sk-container-id-1 div.sk-label:hover label.sk-toggleable__label {background-color: #d4ebff;}#sk-container-id-1 div.sk-serial::before {content: \"\";position: absolute;border-left: 1px solid gray;box-sizing: border-box;top: 0;bottom: 0;left: 50%;z-index: 0;}#sk-container-id-1 div.sk-serial {display: flex;flex-direction: column;align-items: center;background-color: white;padding-right: 0.2em;padding-left: 0.2em;position: relative;}#sk-container-id-1 div.sk-item {position: relative;z-index: 1;}#sk-container-id-1 div.sk-parallel {display: flex;align-items: stretch;justify-content: center;background-color: white;position: relative;}#sk-container-id-1 div.sk-item::before, #sk-container-id-1 div.sk-parallel-item::before {content: \"\";position: absolute;border-left: 1px solid gray;box-sizing: border-box;top: 0;bottom: 0;left: 50%;z-index: -1;}#sk-container-id-1 div.sk-parallel-item {display: flex;flex-direction: column;z-index: 1;position: relative;background-color: white;}#sk-container-id-1 div.sk-parallel-item:first-child::after {align-self: flex-end;width: 50%;}#sk-container-id-1 div.sk-parallel-item:last-child::after {align-self: flex-start;width: 50%;}#sk-container-id-1 div.sk-parallel-item:only-child::after {width: 0;}#sk-container-id-1 div.sk-dashed-wrapped {border: 1px dashed gray;margin: 0 0.4em 0.5em 0.4em;box-sizing: border-box;padding-bottom: 0.4em;background-color: white;}#sk-container-id-1 div.sk-label label {font-family: monospace;font-weight: bold;display: inline-block;line-height: 1.2em;}#sk-container-id-1 div.sk-label-container {text-align: center;}#sk-container-id-1 div.sk-container {/* jupyter's `normalize.less` sets `[hidden] { display: none; }` but bootstrap.min.css set `[hidden] { display: none !important; }` so we also need the `!important` here to be able to override the default hidden behavior on the sphinx rendered scikit-learn.org. See: https://github.com/scikit-learn/scikit-learn/issues/21755 */display: inline-block !important;position: relative;}#sk-container-id-1 div.sk-text-repr-fallback {display: none;}</style><div id=\"sk-container-id-1\" class=\"sk-top-container\"><div class=\"sk-text-repr-fallback\"><pre>LogisticRegression()</pre><b>In a Jupyter environment, please rerun this cell to show the HTML representation or trust the notebook. <br />On GitHub, the HTML representation is unable to render, please try loading this page with nbviewer.org.</b></div><div class=\"sk-container\" hidden><div class=\"sk-item\"><div class=\"sk-estimator sk-toggleable\"><input class=\"sk-toggleable__control sk-hidden--visually\" id=\"sk-estimator-id-1\" type=\"checkbox\" checked><label for=\"sk-estimator-id-1\" class=\"sk-toggleable__label sk-toggleable__label-arrow\">LogisticRegression</label><div class=\"sk-toggleable__content\"><pre>LogisticRegression()</pre></div></div></div></div></div>"
      ],
      "text/plain": [
       "LogisticRegression()"
      ]
     },
     "execution_count": 23,
     "metadata": {},
     "output_type": "execute_result"
    }
   ],
   "source": [
    "model=LogisticRegression()\n",
    "model.fit(X_train,Y_train)"
   ]
  },
  {
   "cell_type": "code",
   "execution_count": 24,
   "id": "789c92ee",
   "metadata": {
    "execution": {
     "iopub.execute_input": "2023-10-04T11:17:06.113727Z",
     "iopub.status.busy": "2023-10-04T11:17:06.112394Z",
     "iopub.status.idle": "2023-10-04T11:17:06.167059Z",
     "shell.execute_reply": "2023-10-04T11:17:06.165899Z"
    },
    "papermill": {
     "duration": 0.08659,
     "end_time": "2023-10-04T11:17:06.169200",
     "exception": false,
     "start_time": "2023-10-04T11:17:06.082610",
     "status": "completed"
    },
    "tags": []
   },
   "outputs": [
    {
     "name": "stdout",
     "output_type": "stream",
     "text": [
      "0.9905345211581291\n",
      "0.9950164263043599\n"
     ]
    }
   ],
   "source": [
    "# Model accuracy on the test set\n",
    "test_y_hat=model.predict(X_test)\n",
    "print(accuracy_score(test_y_hat, Y_test))\n",
    "\n",
    "# Model Accuracy on  training set\n",
    "train_y_hat = model.predict(X_train)\n",
    "print(accuracy_score(train_y_hat,Y_train))"
   ]
  },
  {
   "cell_type": "code",
   "execution_count": 25,
   "id": "83a58ecb",
   "metadata": {
    "execution": {
     "iopub.execute_input": "2023-10-04T11:17:06.192425Z",
     "iopub.status.busy": "2023-10-04T11:17:06.191430Z",
     "iopub.status.idle": "2023-10-04T11:17:06.197263Z",
     "shell.execute_reply": "2023-10-04T11:17:06.196011Z"
    },
    "papermill": {
     "duration": 0.01975,
     "end_time": "2023-10-04T11:17:06.199446",
     "exception": false,
     "start_time": "2023-10-04T11:17:06.179696",
     "status": "completed"
    },
    "tags": []
   },
   "outputs": [],
   "source": [
    "def predict(input_data):\n",
    "    \n",
    "    y_hat= model.predict(input_data)\n",
    "    if y_hat==0:\n",
    "        return \"The article is Fake\"\n",
    "    else:\n",
    "        return 'The article is not Fake'"
   ]
  },
  {
   "cell_type": "code",
   "execution_count": 26,
   "id": "78ee4da9",
   "metadata": {
    "execution": {
     "iopub.execute_input": "2023-10-04T11:17:06.222480Z",
     "iopub.status.busy": "2023-10-04T11:17:06.222123Z",
     "iopub.status.idle": "2023-10-04T11:17:06.230545Z",
     "shell.execute_reply": "2023-10-04T11:17:06.229683Z"
    },
    "papermill": {
     "duration": 0.022478,
     "end_time": "2023-10-04T11:17:06.232638",
     "exception": false,
     "start_time": "2023-10-04T11:17:06.210160",
     "status": "completed"
    },
    "tags": []
   },
   "outputs": [
    {
     "name": "stdout",
     "output_type": "stream",
     "text": [
      "The article is Fake\n"
     ]
    },
    {
     "data": {
      "text/plain": [
       "0"
      ]
     },
     "execution_count": 26,
     "metadata": {},
     "output_type": "execute_result"
    }
   ],
   "source": [
    "print(predict(X_test[2000]))\n",
    "model.predict(X_test[2000])[0]"
   ]
  },
  {
   "cell_type": "code",
   "execution_count": 27,
   "id": "f5f674af",
   "metadata": {
    "execution": {
     "iopub.execute_input": "2023-10-04T11:17:06.255975Z",
     "iopub.status.busy": "2023-10-04T11:17:06.255602Z",
     "iopub.status.idle": "2023-10-04T11:17:06.326424Z",
     "shell.execute_reply": "2023-10-04T11:17:06.324902Z"
    },
    "papermill": {
     "duration": 0.084911,
     "end_time": "2023-10-04T11:17:06.328668",
     "exception": false,
     "start_time": "2023-10-04T11:17:06.243757",
     "status": "completed"
    },
    "tags": []
   },
   "outputs": [
    {
     "name": "stdout",
     "output_type": "stream",
     "text": [
      "0.9957898102749947\n",
      "0.9946766036731435\n",
      "0.9952328956829742\n",
      "0.9902190091431001\n",
      "0.991695059625213\n",
      "0.9909564847324185\n"
     ]
    }
   ],
   "source": [
    "from sklearn.metrics import precision_score, recall_score, f1_score\n",
    "\n",
    "print (precision_score(Y_train, train_y_hat,))\n",
    "print (recall_score(Y_train, train_y_hat,))\n",
    "print(f1_score(Y_train, train_y_hat,))\n",
    "\n",
    "\n",
    "print (precision_score(Y_test, test_y_hat,))\n",
    "print (recall_score(Y_test, test_y_hat,))\n",
    "print(f1_score(Y_test, test_y_hat,))"
   ]
  },
  {
   "cell_type": "code",
   "execution_count": 28,
   "id": "5bc6c8a5",
   "metadata": {
    "execution": {
     "iopub.execute_input": "2023-10-04T11:17:06.351594Z",
     "iopub.status.busy": "2023-10-04T11:17:06.351171Z",
     "iopub.status.idle": "2023-10-04T11:17:06.367027Z",
     "shell.execute_reply": "2023-10-04T11:17:06.365928Z"
    },
    "papermill": {
     "duration": 0.029747,
     "end_time": "2023-10-04T11:17:06.368987",
     "exception": false,
     "start_time": "2023-10-04T11:17:06.339240",
     "status": "completed"
    },
    "tags": []
   },
   "outputs": [
    {
     "name": "stdout",
     "output_type": "stream",
     "text": [
      "[['TP', 'FP'], ['FN', 'TN']]\n",
      "[[4238   46]\n",
      " [  39 4657]]\n",
      "[[17054    79]\n",
      " [  100 18685]]\n"
     ]
    }
   ],
   "source": [
    "from sklearn.metrics import confusion_matrix\n",
    "print ([['TP', 'FP'],['FN', 'TN']])\n",
    "print(confusion_matrix(Y_test, test_y_hat,))\n",
    "print (confusion_matrix(Y_train, train_y_hat,))"
   ]
  },
  {
   "cell_type": "code",
   "execution_count": 29,
   "id": "42fc4b78",
   "metadata": {
    "execution": {
     "iopub.execute_input": "2023-10-04T11:17:06.391811Z",
     "iopub.status.busy": "2023-10-04T11:17:06.391445Z",
     "iopub.status.idle": "2023-10-04T11:17:06.396187Z",
     "shell.execute_reply": "2023-10-04T11:17:06.395173Z"
    },
    "papermill": {
     "duration": 0.018418,
     "end_time": "2023-10-04T11:17:06.397971",
     "exception": false,
     "start_time": "2023-10-04T11:17:06.379553",
     "status": "completed"
    },
    "tags": []
   },
   "outputs": [],
   "source": [
    "from sklearn import svm\n",
    "\n",
    "#Create a svm Classifier\n",
    "model = svm.SVC(kernel='linear') # Linear Kernel\n",
    "clf_poly=clf = svm.SVC(kernel='poly') # Polynomial kernel\n"
   ]
  },
  {
   "cell_type": "code",
   "execution_count": 30,
   "id": "4da77b50",
   "metadata": {
    "execution": {
     "iopub.execute_input": "2023-10-04T11:17:06.422143Z",
     "iopub.status.busy": "2023-10-04T11:17:06.421788Z",
     "iopub.status.idle": "2023-10-04T11:17:06.426835Z",
     "shell.execute_reply": "2023-10-04T11:17:06.425844Z"
    },
    "papermill": {
     "duration": 0.019181,
     "end_time": "2023-10-04T11:17:06.428932",
     "exception": false,
     "start_time": "2023-10-04T11:17:06.409751",
     "status": "completed"
    },
    "tags": []
   },
   "outputs": [
    {
     "name": "stdout",
     "output_type": "stream",
     "text": [
      "(35918, 122516)\n"
     ]
    }
   ],
   "source": [
    "print(X_train.shape)\n",
    "# X_train.iloc[0:1000].shape\n",
    "\n"
   ]
  },
  {
   "cell_type": "code",
   "execution_count": 31,
   "id": "03971d5b",
   "metadata": {
    "execution": {
     "iopub.execute_input": "2023-10-04T11:17:06.452270Z",
     "iopub.status.busy": "2023-10-04T11:17:06.451928Z",
     "iopub.status.idle": "2023-10-04T11:17:07.689236Z",
     "shell.execute_reply": "2023-10-04T11:17:07.688300Z"
    },
    "papermill": {
     "duration": 1.251336,
     "end_time": "2023-10-04T11:17:07.691183",
     "exception": false,
     "start_time": "2023-10-04T11:17:06.439847",
     "status": "completed"
    },
    "tags": []
   },
   "outputs": [
    {
     "data": {
      "text/html": [
       "<style>#sk-container-id-2 {color: black;background-color: white;}#sk-container-id-2 pre{padding: 0;}#sk-container-id-2 div.sk-toggleable {background-color: white;}#sk-container-id-2 label.sk-toggleable__label {cursor: pointer;display: block;width: 100%;margin-bottom: 0;padding: 0.3em;box-sizing: border-box;text-align: center;}#sk-container-id-2 label.sk-toggleable__label-arrow:before {content: \"▸\";float: left;margin-right: 0.25em;color: #696969;}#sk-container-id-2 label.sk-toggleable__label-arrow:hover:before {color: black;}#sk-container-id-2 div.sk-estimator:hover label.sk-toggleable__label-arrow:before {color: black;}#sk-container-id-2 div.sk-toggleable__content {max-height: 0;max-width: 0;overflow: hidden;text-align: left;background-color: #f0f8ff;}#sk-container-id-2 div.sk-toggleable__content pre {margin: 0.2em;color: black;border-radius: 0.25em;background-color: #f0f8ff;}#sk-container-id-2 input.sk-toggleable__control:checked~div.sk-toggleable__content {max-height: 200px;max-width: 100%;overflow: auto;}#sk-container-id-2 input.sk-toggleable__control:checked~label.sk-toggleable__label-arrow:before {content: \"▾\";}#sk-container-id-2 div.sk-estimator input.sk-toggleable__control:checked~label.sk-toggleable__label {background-color: #d4ebff;}#sk-container-id-2 div.sk-label input.sk-toggleable__control:checked~label.sk-toggleable__label {background-color: #d4ebff;}#sk-container-id-2 input.sk-hidden--visually {border: 0;clip: rect(1px 1px 1px 1px);clip: rect(1px, 1px, 1px, 1px);height: 1px;margin: -1px;overflow: hidden;padding: 0;position: absolute;width: 1px;}#sk-container-id-2 div.sk-estimator {font-family: monospace;background-color: #f0f8ff;border: 1px dotted black;border-radius: 0.25em;box-sizing: border-box;margin-bottom: 0.5em;}#sk-container-id-2 div.sk-estimator:hover {background-color: #d4ebff;}#sk-container-id-2 div.sk-parallel-item::after {content: \"\";width: 100%;border-bottom: 1px solid gray;flex-grow: 1;}#sk-container-id-2 div.sk-label:hover label.sk-toggleable__label {background-color: #d4ebff;}#sk-container-id-2 div.sk-serial::before {content: \"\";position: absolute;border-left: 1px solid gray;box-sizing: border-box;top: 0;bottom: 0;left: 50%;z-index: 0;}#sk-container-id-2 div.sk-serial {display: flex;flex-direction: column;align-items: center;background-color: white;padding-right: 0.2em;padding-left: 0.2em;position: relative;}#sk-container-id-2 div.sk-item {position: relative;z-index: 1;}#sk-container-id-2 div.sk-parallel {display: flex;align-items: stretch;justify-content: center;background-color: white;position: relative;}#sk-container-id-2 div.sk-item::before, #sk-container-id-2 div.sk-parallel-item::before {content: \"\";position: absolute;border-left: 1px solid gray;box-sizing: border-box;top: 0;bottom: 0;left: 50%;z-index: -1;}#sk-container-id-2 div.sk-parallel-item {display: flex;flex-direction: column;z-index: 1;position: relative;background-color: white;}#sk-container-id-2 div.sk-parallel-item:first-child::after {align-self: flex-end;width: 50%;}#sk-container-id-2 div.sk-parallel-item:last-child::after {align-self: flex-start;width: 50%;}#sk-container-id-2 div.sk-parallel-item:only-child::after {width: 0;}#sk-container-id-2 div.sk-dashed-wrapped {border: 1px dashed gray;margin: 0 0.4em 0.5em 0.4em;box-sizing: border-box;padding-bottom: 0.4em;background-color: white;}#sk-container-id-2 div.sk-label label {font-family: monospace;font-weight: bold;display: inline-block;line-height: 1.2em;}#sk-container-id-2 div.sk-label-container {text-align: center;}#sk-container-id-2 div.sk-container {/* jupyter's `normalize.less` sets `[hidden] { display: none; }` but bootstrap.min.css set `[hidden] { display: none !important; }` so we also need the `!important` here to be able to override the default hidden behavior on the sphinx rendered scikit-learn.org. See: https://github.com/scikit-learn/scikit-learn/issues/21755 */display: inline-block !important;position: relative;}#sk-container-id-2 div.sk-text-repr-fallback {display: none;}</style><div id=\"sk-container-id-2\" class=\"sk-top-container\"><div class=\"sk-text-repr-fallback\"><pre>SVC(kernel=&#x27;linear&#x27;)</pre><b>In a Jupyter environment, please rerun this cell to show the HTML representation or trust the notebook. <br />On GitHub, the HTML representation is unable to render, please try loading this page with nbviewer.org.</b></div><div class=\"sk-container\" hidden><div class=\"sk-item\"><div class=\"sk-estimator sk-toggleable\"><input class=\"sk-toggleable__control sk-hidden--visually\" id=\"sk-estimator-id-2\" type=\"checkbox\" checked><label for=\"sk-estimator-id-2\" class=\"sk-toggleable__label sk-toggleable__label-arrow\">SVC</label><div class=\"sk-toggleable__content\"><pre>SVC(kernel=&#x27;linear&#x27;)</pre></div></div></div></div></div>"
      ],
      "text/plain": [
       "SVC(kernel='linear')"
      ]
     },
     "execution_count": 31,
     "metadata": {},
     "output_type": "execute_result"
    }
   ],
   "source": [
    "#Train the model using the training sets\n",
    "model.fit(l_X_train, l_Y_train)\n",
    "# clf_poly.fit(X_train,Y_train)\n",
    "\n"
   ]
  },
  {
   "cell_type": "code",
   "execution_count": 32,
   "id": "b7fc9c5d",
   "metadata": {
    "execution": {
     "iopub.execute_input": "2023-10-04T11:17:07.714813Z",
     "iopub.status.busy": "2023-10-04T11:17:07.714425Z",
     "iopub.status.idle": "2023-10-04T11:17:07.954723Z",
     "shell.execute_reply": "2023-10-04T11:17:07.953611Z"
    },
    "papermill": {
     "duration": 0.254985,
     "end_time": "2023-10-04T11:17:07.957184",
     "exception": false,
     "start_time": "2023-10-04T11:17:07.702199",
     "status": "completed"
    },
    "tags": []
   },
   "outputs": [],
   "source": [
    "#Predict the response for test dataset\n",
    "y_pred = model.predict(l_X_test)"
   ]
  },
  {
   "cell_type": "code",
   "execution_count": 33,
   "id": "8e2bd2a8",
   "metadata": {
    "execution": {
     "iopub.execute_input": "2023-10-04T11:17:07.981206Z",
     "iopub.status.busy": "2023-10-04T11:17:07.980792Z",
     "iopub.status.idle": "2023-10-04T11:17:07.994338Z",
     "shell.execute_reply": "2023-10-04T11:17:07.993358Z"
    },
    "papermill": {
     "duration": 0.028023,
     "end_time": "2023-10-04T11:17:07.996704",
     "exception": false,
     "start_time": "2023-10-04T11:17:07.968681",
     "status": "completed"
    },
    "tags": []
   },
   "outputs": [
    {
     "name": "stdout",
     "output_type": "stream",
     "text": [
      "0.98\n",
      "0.956989247311828\n",
      "1.0\n",
      "0.978021978021978\n",
      "[[107   4]\n",
      " [  0  89]]\n"
     ]
    }
   ],
   "source": [
    "from sklearn.metrics import precision_score, recall_score, f1_score, accuracy_score\n",
    "\n",
    "print(accuracy_score(y_pred, l_Y_test))\n",
    "print (precision_score(l_Y_test, y_pred,))\n",
    "print (recall_score(l_Y_test, y_pred,))\n",
    "print(f1_score(l_Y_test, y_pred,))\n",
    "print(confusion_matrix(l_Y_test, y_pred,))\n"
   ]
  },
  {
   "cell_type": "code",
   "execution_count": 34,
   "id": "8f4188e9",
   "metadata": {
    "execution": {
     "iopub.execute_input": "2023-10-04T11:17:08.020712Z",
     "iopub.status.busy": "2023-10-04T11:17:08.020324Z",
     "iopub.status.idle": "2023-10-04T11:17:08.962028Z",
     "shell.execute_reply": "2023-10-04T11:17:08.960965Z"
    },
    "papermill": {
     "duration": 0.956221,
     "end_time": "2023-10-04T11:17:08.964182",
     "exception": false,
     "start_time": "2023-10-04T11:17:08.007961",
     "status": "completed"
    },
    "tags": []
   },
   "outputs": [
    {
     "data": {
      "text/html": [
       "<style>#sk-container-id-3 {color: black;background-color: white;}#sk-container-id-3 pre{padding: 0;}#sk-container-id-3 div.sk-toggleable {background-color: white;}#sk-container-id-3 label.sk-toggleable__label {cursor: pointer;display: block;width: 100%;margin-bottom: 0;padding: 0.3em;box-sizing: border-box;text-align: center;}#sk-container-id-3 label.sk-toggleable__label-arrow:before {content: \"▸\";float: left;margin-right: 0.25em;color: #696969;}#sk-container-id-3 label.sk-toggleable__label-arrow:hover:before {color: black;}#sk-container-id-3 div.sk-estimator:hover label.sk-toggleable__label-arrow:before {color: black;}#sk-container-id-3 div.sk-toggleable__content {max-height: 0;max-width: 0;overflow: hidden;text-align: left;background-color: #f0f8ff;}#sk-container-id-3 div.sk-toggleable__content pre {margin: 0.2em;color: black;border-radius: 0.25em;background-color: #f0f8ff;}#sk-container-id-3 input.sk-toggleable__control:checked~div.sk-toggleable__content {max-height: 200px;max-width: 100%;overflow: auto;}#sk-container-id-3 input.sk-toggleable__control:checked~label.sk-toggleable__label-arrow:before {content: \"▾\";}#sk-container-id-3 div.sk-estimator input.sk-toggleable__control:checked~label.sk-toggleable__label {background-color: #d4ebff;}#sk-container-id-3 div.sk-label input.sk-toggleable__control:checked~label.sk-toggleable__label {background-color: #d4ebff;}#sk-container-id-3 input.sk-hidden--visually {border: 0;clip: rect(1px 1px 1px 1px);clip: rect(1px, 1px, 1px, 1px);height: 1px;margin: -1px;overflow: hidden;padding: 0;position: absolute;width: 1px;}#sk-container-id-3 div.sk-estimator {font-family: monospace;background-color: #f0f8ff;border: 1px dotted black;border-radius: 0.25em;box-sizing: border-box;margin-bottom: 0.5em;}#sk-container-id-3 div.sk-estimator:hover {background-color: #d4ebff;}#sk-container-id-3 div.sk-parallel-item::after {content: \"\";width: 100%;border-bottom: 1px solid gray;flex-grow: 1;}#sk-container-id-3 div.sk-label:hover label.sk-toggleable__label {background-color: #d4ebff;}#sk-container-id-3 div.sk-serial::before {content: \"\";position: absolute;border-left: 1px solid gray;box-sizing: border-box;top: 0;bottom: 0;left: 50%;z-index: 0;}#sk-container-id-3 div.sk-serial {display: flex;flex-direction: column;align-items: center;background-color: white;padding-right: 0.2em;padding-left: 0.2em;position: relative;}#sk-container-id-3 div.sk-item {position: relative;z-index: 1;}#sk-container-id-3 div.sk-parallel {display: flex;align-items: stretch;justify-content: center;background-color: white;position: relative;}#sk-container-id-3 div.sk-item::before, #sk-container-id-3 div.sk-parallel-item::before {content: \"\";position: absolute;border-left: 1px solid gray;box-sizing: border-box;top: 0;bottom: 0;left: 50%;z-index: -1;}#sk-container-id-3 div.sk-parallel-item {display: flex;flex-direction: column;z-index: 1;position: relative;background-color: white;}#sk-container-id-3 div.sk-parallel-item:first-child::after {align-self: flex-end;width: 50%;}#sk-container-id-3 div.sk-parallel-item:last-child::after {align-self: flex-start;width: 50%;}#sk-container-id-3 div.sk-parallel-item:only-child::after {width: 0;}#sk-container-id-3 div.sk-dashed-wrapped {border: 1px dashed gray;margin: 0 0.4em 0.5em 0.4em;box-sizing: border-box;padding-bottom: 0.4em;background-color: white;}#sk-container-id-3 div.sk-label label {font-family: monospace;font-weight: bold;display: inline-block;line-height: 1.2em;}#sk-container-id-3 div.sk-label-container {text-align: center;}#sk-container-id-3 div.sk-container {/* jupyter's `normalize.less` sets `[hidden] { display: none; }` but bootstrap.min.css set `[hidden] { display: none !important; }` so we also need the `!important` here to be able to override the default hidden behavior on the sphinx rendered scikit-learn.org. See: https://github.com/scikit-learn/scikit-learn/issues/21755 */display: inline-block !important;position: relative;}#sk-container-id-3 div.sk-text-repr-fallback {display: none;}</style><div id=\"sk-container-id-3\" class=\"sk-top-container\"><div class=\"sk-text-repr-fallback\"><pre>RandomForestClassifier()</pre><b>In a Jupyter environment, please rerun this cell to show the HTML representation or trust the notebook. <br />On GitHub, the HTML representation is unable to render, please try loading this page with nbviewer.org.</b></div><div class=\"sk-container\" hidden><div class=\"sk-item\"><div class=\"sk-estimator sk-toggleable\"><input class=\"sk-toggleable__control sk-hidden--visually\" id=\"sk-estimator-id-3\" type=\"checkbox\" checked><label for=\"sk-estimator-id-3\" class=\"sk-toggleable__label sk-toggleable__label-arrow\">RandomForestClassifier</label><div class=\"sk-toggleable__content\"><pre>RandomForestClassifier()</pre></div></div></div></div></div>"
      ],
      "text/plain": [
       "RandomForestClassifier()"
      ]
     },
     "execution_count": 34,
     "metadata": {},
     "output_type": "execute_result"
    }
   ],
   "source": [
    "from sklearn.ensemble import RandomForestClassifier\n",
    "model = RandomForestClassifier()\n",
    "model.fit(l_X_train, l_Y_train)\n",
    "\n"
   ]
  },
  {
   "cell_type": "code",
   "execution_count": 35,
   "id": "09d1da66",
   "metadata": {
    "execution": {
     "iopub.execute_input": "2023-10-04T11:17:08.987517Z",
     "iopub.status.busy": "2023-10-04T11:17:08.987169Z",
     "iopub.status.idle": "2023-10-04T11:17:09.015941Z",
     "shell.execute_reply": "2023-10-04T11:17:09.014747Z"
    },
    "papermill": {
     "duration": 0.04303,
     "end_time": "2023-10-04T11:17:09.018272",
     "exception": false,
     "start_time": "2023-10-04T11:17:08.975242",
     "status": "completed"
    },
    "tags": []
   },
   "outputs": [],
   "source": [
    "y_pred = model.predict(l_X_test)\n",
    "\n"
   ]
  },
  {
   "cell_type": "code",
   "execution_count": 36,
   "id": "d67aab3a",
   "metadata": {
    "execution": {
     "iopub.execute_input": "2023-10-04T11:17:09.042706Z",
     "iopub.status.busy": "2023-10-04T11:17:09.042312Z",
     "iopub.status.idle": "2023-10-04T11:17:09.046983Z",
     "shell.execute_reply": "2023-10-04T11:17:09.046322Z"
    },
    "papermill": {
     "duration": 0.019346,
     "end_time": "2023-10-04T11:17:09.049108",
     "exception": false,
     "start_time": "2023-10-04T11:17:09.029762",
     "status": "completed"
    },
    "tags": []
   },
   "outputs": [
    {
     "name": "stdout",
     "output_type": "stream",
     "text": [
      "[0 0 1 0 1 1 0 0 1 1 0 1 0 1 0 0 0 0 1 0 0 0 1 0 0 1 0 1 1 1 1 0 0 0 1 0 1\n",
      " 1 1 1 0 0 0 0 1 0 0 0 1 0 1 1 0 0 1 0 0 0 0 0 1 1 1 0 1 0 1 1 1 1 0 1 0 1\n",
      " 0 0 1 1 1 1 1 1 0 1 1 0 1 0 0 1 0 1 1 0 0 0 0 1 1 0 0 1 0 1 1 1 0 1 0 1 1\n",
      " 1 0 0 0 0 0 0 1 0 0 1 1 0 1 1 1 1 0 0 0 0 1 0 1 1 0 1 0 0 1 0 0 0 0 0 0 0\n",
      " 0 0 1 1 0 0 0 0 0 0 0 1 0 0 0 0 0 1 1 0 0 1 1 1 0 0 1 1 0 1 1 1 1 1 0 0 0\n",
      " 1 1 0 0 0 1 1 1 0 0 1 1 1 0 0]\n"
     ]
    }
   ],
   "source": [
    "print (y_pred)"
   ]
  },
  {
   "cell_type": "code",
   "execution_count": 37,
   "id": "cc6f4112",
   "metadata": {
    "execution": {
     "iopub.execute_input": "2023-10-04T11:17:09.072810Z",
     "iopub.status.busy": "2023-10-04T11:17:09.072213Z",
     "iopub.status.idle": "2023-10-04T11:17:09.083223Z",
     "shell.execute_reply": "2023-10-04T11:17:09.082004Z"
    },
    "papermill": {
     "duration": 0.024964,
     "end_time": "2023-10-04T11:17:09.085094",
     "exception": false,
     "start_time": "2023-10-04T11:17:09.060130",
     "status": "completed"
    },
    "tags": []
   },
   "outputs": [
    {
     "name": "stdout",
     "output_type": "stream",
     "text": [
      "0.98\n",
      "0.967032967032967\n",
      "0.9887640449438202\n",
      "0.9777777777777779\n",
      "[[108   3]\n",
      " [  1  88]]\n"
     ]
    }
   ],
   "source": [
    "from sklearn.metrics import precision_score, recall_score, f1_score, accuracy_score,confusion_matrix\n",
    "\n",
    "\n",
    "print(accuracy_score(y_pred, l_Y_test))\n",
    "print (precision_score(l_Y_test, y_pred,))\n",
    "print (recall_score(l_Y_test, y_pred,))\n",
    "print(f1_score(l_Y_test, y_pred,))\n",
    "print(confusion_matrix(l_Y_test, y_pred,))\n"
   ]
  },
  {
   "cell_type": "code",
   "execution_count": 38,
   "id": "470ad5b2",
   "metadata": {
    "execution": {
     "iopub.execute_input": "2023-10-04T11:17:09.108972Z",
     "iopub.status.busy": "2023-10-04T11:17:09.108355Z",
     "iopub.status.idle": "2023-10-04T11:17:09.120548Z",
     "shell.execute_reply": "2023-10-04T11:17:09.119698Z"
    },
    "papermill": {
     "duration": 0.026681,
     "end_time": "2023-10-04T11:17:09.122831",
     "exception": false,
     "start_time": "2023-10-04T11:17:09.096150",
     "status": "completed"
    },
    "tags": []
   },
   "outputs": [],
   "source": [
    "from sklearn.naive_bayes import GaussianNB\n",
    "model = GaussianNB()\n"
   ]
  },
  {
   "cell_type": "code",
   "execution_count": 39,
   "id": "91404ebf",
   "metadata": {
    "execution": {
     "iopub.execute_input": "2023-10-04T11:17:09.146987Z",
     "iopub.status.busy": "2023-10-04T11:17:09.146643Z",
     "iopub.status.idle": "2023-10-04T11:17:09.150862Z",
     "shell.execute_reply": "2023-10-04T11:17:09.149882Z"
    },
    "papermill": {
     "duration": 0.018544,
     "end_time": "2023-10-04T11:17:09.152718",
     "exception": false,
     "start_time": "2023-10-04T11:17:09.134174",
     "status": "completed"
    },
    "tags": []
   },
   "outputs": [],
   "source": [
    "# X_train.todense()\n",
    "# model2=GaussianNB()\n",
    "# model2.fit(X_train.toarray(), Y_train)"
   ]
  },
  {
   "cell_type": "code",
   "execution_count": 40,
   "id": "09a2a056",
   "metadata": {
    "execution": {
     "iopub.execute_input": "2023-10-04T11:17:09.178044Z",
     "iopub.status.busy": "2023-10-04T11:17:09.176954Z",
     "iopub.status.idle": "2023-10-04T11:17:09.184311Z",
     "shell.execute_reply": "2023-10-04T11:17:09.183338Z"
    },
    "papermill": {
     "duration": 0.022096,
     "end_time": "2023-10-04T11:17:09.186505",
     "exception": false,
     "start_time": "2023-10-04T11:17:09.164409",
     "status": "completed"
    },
    "tags": []
   },
   "outputs": [
    {
     "data": {
      "text/plain": [
       "array([0, 0, 1, 0, 1, 1, 0, 0, 1, 1, 0, 1, 0, 1, 0, 0, 0, 0, 1, 0, 0, 0,\n",
       "       1, 0, 0, 1, 0, 1, 1, 1, 1, 0, 0, 0, 1, 0, 1, 1, 1, 1, 0, 0, 0, 0,\n",
       "       1, 0, 0, 0, 1, 0, 1, 1, 0, 0, 1, 0, 0, 0, 0, 0, 1, 1, 1, 0, 1, 0,\n",
       "       1, 1, 1, 1, 0, 1, 0, 1, 0, 0, 1, 1, 1, 1, 1, 1, 0, 1, 1, 0, 1, 0,\n",
       "       0, 1, 0, 1, 1, 0, 0, 0, 0, 1, 1, 0, 0, 1, 0, 1, 1, 1, 0, 1, 0, 1,\n",
       "       1, 1, 0, 0, 0, 0, 0, 0, 1, 0, 0, 1, 1, 0, 1, 1, 1, 1, 0, 0, 0, 0,\n",
       "       1, 0, 1, 1, 0, 1, 0, 0, 1, 0, 0, 0, 0, 0, 0, 0, 0, 0, 1, 1, 0, 0,\n",
       "       0, 0, 0, 0, 0, 1, 0, 0, 0, 0, 0, 1, 1, 0, 0, 1, 1, 1, 0, 0, 1, 1,\n",
       "       0, 1, 1, 1, 1, 1, 0, 0, 0, 1, 1, 0, 0, 0, 1, 1, 1, 0, 0, 1, 1, 1,\n",
       "       0, 0])"
      ]
     },
     "execution_count": 40,
     "metadata": {},
     "output_type": "execute_result"
    }
   ],
   "source": [
    "y_pred"
   ]
  },
  {
   "cell_type": "code",
   "execution_count": 41,
   "id": "5dd95b77",
   "metadata": {
    "execution": {
     "iopub.execute_input": "2023-10-04T11:17:09.211366Z",
     "iopub.status.busy": "2023-10-04T11:17:09.210414Z",
     "iopub.status.idle": "2023-10-04T11:17:09.703810Z",
     "shell.execute_reply": "2023-10-04T11:17:09.702769Z"
    },
    "papermill": {
     "duration": 0.508023,
     "end_time": "2023-10-04T11:17:09.706031",
     "exception": false,
     "start_time": "2023-10-04T11:17:09.198008",
     "status": "completed"
    },
    "tags": []
   },
   "outputs": [
    {
     "data": {
      "text/html": [
       "<style>#sk-container-id-4 {color: black;background-color: white;}#sk-container-id-4 pre{padding: 0;}#sk-container-id-4 div.sk-toggleable {background-color: white;}#sk-container-id-4 label.sk-toggleable__label {cursor: pointer;display: block;width: 100%;margin-bottom: 0;padding: 0.3em;box-sizing: border-box;text-align: center;}#sk-container-id-4 label.sk-toggleable__label-arrow:before {content: \"▸\";float: left;margin-right: 0.25em;color: #696969;}#sk-container-id-4 label.sk-toggleable__label-arrow:hover:before {color: black;}#sk-container-id-4 div.sk-estimator:hover label.sk-toggleable__label-arrow:before {color: black;}#sk-container-id-4 div.sk-toggleable__content {max-height: 0;max-width: 0;overflow: hidden;text-align: left;background-color: #f0f8ff;}#sk-container-id-4 div.sk-toggleable__content pre {margin: 0.2em;color: black;border-radius: 0.25em;background-color: #f0f8ff;}#sk-container-id-4 input.sk-toggleable__control:checked~div.sk-toggleable__content {max-height: 200px;max-width: 100%;overflow: auto;}#sk-container-id-4 input.sk-toggleable__control:checked~label.sk-toggleable__label-arrow:before {content: \"▾\";}#sk-container-id-4 div.sk-estimator input.sk-toggleable__control:checked~label.sk-toggleable__label {background-color: #d4ebff;}#sk-container-id-4 div.sk-label input.sk-toggleable__control:checked~label.sk-toggleable__label {background-color: #d4ebff;}#sk-container-id-4 input.sk-hidden--visually {border: 0;clip: rect(1px 1px 1px 1px);clip: rect(1px, 1px, 1px, 1px);height: 1px;margin: -1px;overflow: hidden;padding: 0;position: absolute;width: 1px;}#sk-container-id-4 div.sk-estimator {font-family: monospace;background-color: #f0f8ff;border: 1px dotted black;border-radius: 0.25em;box-sizing: border-box;margin-bottom: 0.5em;}#sk-container-id-4 div.sk-estimator:hover {background-color: #d4ebff;}#sk-container-id-4 div.sk-parallel-item::after {content: \"\";width: 100%;border-bottom: 1px solid gray;flex-grow: 1;}#sk-container-id-4 div.sk-label:hover label.sk-toggleable__label {background-color: #d4ebff;}#sk-container-id-4 div.sk-serial::before {content: \"\";position: absolute;border-left: 1px solid gray;box-sizing: border-box;top: 0;bottom: 0;left: 50%;z-index: 0;}#sk-container-id-4 div.sk-serial {display: flex;flex-direction: column;align-items: center;background-color: white;padding-right: 0.2em;padding-left: 0.2em;position: relative;}#sk-container-id-4 div.sk-item {position: relative;z-index: 1;}#sk-container-id-4 div.sk-parallel {display: flex;align-items: stretch;justify-content: center;background-color: white;position: relative;}#sk-container-id-4 div.sk-item::before, #sk-container-id-4 div.sk-parallel-item::before {content: \"\";position: absolute;border-left: 1px solid gray;box-sizing: border-box;top: 0;bottom: 0;left: 50%;z-index: -1;}#sk-container-id-4 div.sk-parallel-item {display: flex;flex-direction: column;z-index: 1;position: relative;background-color: white;}#sk-container-id-4 div.sk-parallel-item:first-child::after {align-self: flex-end;width: 50%;}#sk-container-id-4 div.sk-parallel-item:last-child::after {align-self: flex-start;width: 50%;}#sk-container-id-4 div.sk-parallel-item:only-child::after {width: 0;}#sk-container-id-4 div.sk-dashed-wrapped {border: 1px dashed gray;margin: 0 0.4em 0.5em 0.4em;box-sizing: border-box;padding-bottom: 0.4em;background-color: white;}#sk-container-id-4 div.sk-label label {font-family: monospace;font-weight: bold;display: inline-block;line-height: 1.2em;}#sk-container-id-4 div.sk-label-container {text-align: center;}#sk-container-id-4 div.sk-container {/* jupyter's `normalize.less` sets `[hidden] { display: none; }` but bootstrap.min.css set `[hidden] { display: none !important; }` so we also need the `!important` here to be able to override the default hidden behavior on the sphinx rendered scikit-learn.org. See: https://github.com/scikit-learn/scikit-learn/issues/21755 */display: inline-block !important;position: relative;}#sk-container-id-4 div.sk-text-repr-fallback {display: none;}</style><div id=\"sk-container-id-4\" class=\"sk-top-container\"><div class=\"sk-text-repr-fallback\"><pre>GaussianNB()</pre><b>In a Jupyter environment, please rerun this cell to show the HTML representation or trust the notebook. <br />On GitHub, the HTML representation is unable to render, please try loading this page with nbviewer.org.</b></div><div class=\"sk-container\" hidden><div class=\"sk-item\"><div class=\"sk-estimator sk-toggleable\"><input class=\"sk-toggleable__control sk-hidden--visually\" id=\"sk-estimator-id-4\" type=\"checkbox\" checked><label for=\"sk-estimator-id-4\" class=\"sk-toggleable__label sk-toggleable__label-arrow\">GaussianNB</label><div class=\"sk-toggleable__content\"><pre>GaussianNB()</pre></div></div></div></div></div>"
      ],
      "text/plain": [
       "GaussianNB()"
      ]
     },
     "execution_count": 41,
     "metadata": {},
     "output_type": "execute_result"
    }
   ],
   "source": [
    "model.fit(l_X_train.toarray(), l_Y_train)\n"
   ]
  },
  {
   "cell_type": "code",
   "execution_count": 42,
   "id": "34cfa3a4",
   "metadata": {
    "execution": {
     "iopub.execute_input": "2023-10-04T11:17:09.731468Z",
     "iopub.status.busy": "2023-10-04T11:17:09.731087Z",
     "iopub.status.idle": "2023-10-04T11:17:09.856775Z",
     "shell.execute_reply": "2023-10-04T11:17:09.855865Z"
    },
    "papermill": {
     "duration": 0.141319,
     "end_time": "2023-10-04T11:17:09.859096",
     "exception": false,
     "start_time": "2023-10-04T11:17:09.717777",
     "status": "completed"
    },
    "tags": []
   },
   "outputs": [],
   "source": [
    "y_pred = model.predict(l_X_test.toarray())\n"
   ]
  },
  {
   "cell_type": "code",
   "execution_count": 43,
   "id": "f1fdcf63",
   "metadata": {
    "execution": {
     "iopub.execute_input": "2023-10-04T11:17:09.883421Z",
     "iopub.status.busy": "2023-10-04T11:17:09.883050Z",
     "iopub.status.idle": "2023-10-04T11:17:09.895022Z",
     "shell.execute_reply": "2023-10-04T11:17:09.893965Z"
    },
    "papermill": {
     "duration": 0.026203,
     "end_time": "2023-10-04T11:17:09.896848",
     "exception": false,
     "start_time": "2023-10-04T11:17:09.870645",
     "status": "completed"
    },
    "tags": []
   },
   "outputs": [
    {
     "name": "stdout",
     "output_type": "stream",
     "text": [
      "0.755\n",
      "0.6818181818181818\n",
      "0.8426966292134831\n",
      "0.7537688442211055\n",
      "[[76 35]\n",
      " [14 75]]\n"
     ]
    }
   ],
   "source": [
    "print(accuracy_score(y_pred, l_Y_test))\n",
    "print (precision_score(l_Y_test, y_pred,))\n",
    "print (recall_score(l_Y_test, y_pred,))\n",
    "print(f1_score(l_Y_test, y_pred,))\n",
    "print(confusion_matrix(l_Y_test, y_pred,))\n"
   ]
  },
  {
   "cell_type": "code",
   "execution_count": null,
   "id": "577a0b30",
   "metadata": {
    "papermill": {
     "duration": 0.011371,
     "end_time": "2023-10-04T11:17:09.919860",
     "exception": false,
     "start_time": "2023-10-04T11:17:09.908489",
     "status": "completed"
    },
    "tags": []
   },
   "outputs": [],
   "source": []
  }
 ],
 "metadata": {
  "kernelspec": {
   "display_name": "Python 3",
   "language": "python",
   "name": "python3"
  },
  "language_info": {
   "codemirror_mode": {
    "name": "ipython",
    "version": 3
   },
   "file_extension": ".py",
   "mimetype": "text/x-python",
   "name": "python",
   "nbconvert_exporter": "python",
   "pygments_lexer": "ipython3",
   "version": "3.10.12"
  },
  "papermill": {
   "default_parameters": {},
   "duration": 33.162027,
   "end_time": "2023-10-04T11:17:10.551879",
   "environment_variables": {},
   "exception": null,
   "input_path": "__notebook__.ipynb",
   "output_path": "__notebook__.ipynb",
   "parameters": {},
   "start_time": "2023-10-04T11:16:37.389852",
   "version": "2.4.0"
  }
 },
 "nbformat": 4,
 "nbformat_minor": 5
}
