{
 "cells": [
  {
   "cell_type": "code",
   "execution_count": null,
   "id": "initial_id",
   "metadata": {
    "collapsed": true
   },
   "outputs": [],
   "source": [
    "import pandas as pd\n",
    "import numpy as np\n",
    "\n",
    "import seaborn as sns\n",
    "import matplotlib.pyplot as plt\n",
    "%matplotlib inline\n",
    "\n",
    "import warnings\n",
    "warnings.filterwarnings('ignore')\n",
    "\n",
    "from sklearn.metrics import roc_auc_score, accuracy_score\n",
    "from sklearn.preprocessing import LabelEncoder\n",
    "from sklearn.metrics import accuracy_score\n",
    "from sklearn.ensemble import GradientBoostingClassifier\n",
    "from lightgbm import LGBMClassifier"
   ]
  },
  {
   "cell_type": "code",
   "outputs": [],
   "source": [
    "df_train = pd.read_csv('/kaggle/input/ml-olympiad-predicting-earthquake-damage/train.csv')\n",
    "df_test = pd.read_csv('/kaggle/input/ml-olympiad-predicting-earthquake-damage/test.csv')\n",
    "\n",
    "print(f'The Train dataset has {df_train.shape[0]} rows and {df_train.shape[1]} columns')\n",
    "print(f'The Test dataset has {df_test.shape[0]} rows and {df_test.shape[1]} columns')"
   ],
   "metadata": {
    "collapsed": false
   },
   "id": "d8e37882e5f0a253"
  },
  {
   "cell_type": "code",
   "outputs": [],
   "source": [
    "#Let's check the samples of data\n",
    "display('Train:',df_train.tail())\n",
    "display('Test:',df_test.head())"
   ],
   "metadata": {
    "collapsed": false
   },
   "id": "3a92f216348074cb"
  },
  {
   "cell_type": "code",
   "outputs": [],
   "source": [
    "def summary(df):\n",
    "    summ = pd.DataFrame(df.dtypes, columns=['data type'])\n",
    "    summ['#missing'] = df.isnull().sum().values\n",
    "    summ['Duplicate'] = df.duplicated().sum()\n",
    "    summ['#unique'] = df.nunique().values\n",
    "    desc = pd.DataFrame(df.describe(include='all').transpose())\n",
    "    summ['min'] = desc['min'].values\n",
    "    summ['max'] = desc['max'].values\n",
    "    summ['avg'] = desc['mean'].values\n",
    "    summ['std dev'] = desc['std'].values\n",
    "    summ['top value'] = desc['top'].values\n",
    "    summ['Freq'] = desc['freq'].values\n",
    "\n",
    "    return summ"
   ],
   "metadata": {
    "collapsed": false
   },
   "id": "f5f28110e5e912a4"
  },
  {
   "cell_type": "code",
   "outputs": [],
   "source": [
    "summary(df_train.drop(columns=[\"building_id\"])).style.background_gradient()"
   ],
   "metadata": {
    "collapsed": false
   },
   "id": "3eba48db9a6325ea"
  },
  {
   "cell_type": "code",
   "outputs": [],
   "source": [
    "#Loading the dataset again to revert previously made changed on BMI etc.\n",
    "df_train = pd.read_csv('/kaggle/input/ml-olympiad-predicting-earthquake-damage/train.csv')\n",
    "sample_sub = pd.read_csv('/kaggle/input/ml-olympiad-predicting-earthquake-damage/sample_submission.csv')\n",
    "df_test = pd.read_csv('/kaggle/input/ml-olympiad-predicting-earthquake-damage/test.csv')"
   ],
   "metadata": {
    "collapsed": false
   },
   "id": "61884815d00efab4"
  },
  {
   "cell_type": "code",
   "outputs": [],
   "source": [
    "def get_variable_types(dataframe):\n",
    "    continuous_vars = []\n",
    "    categorical_vars = []\n",
    "\n",
    "    for column in dataframe.columns:\n",
    "        if dataframe[column].dtype == 'object':\n",
    "            categorical_vars.append(column)\n",
    "        else:\n",
    "            continuous_vars.append(column)\n",
    "\n",
    "    return continuous_vars, categorical_vars\n",
    "\n",
    "continuous_vars, categorical_vars = get_variable_types(df_train)\n",
    "continuous_vars.remove('damage_grade')"
   ],
   "metadata": {
    "collapsed": false
   },
   "id": "e3cf5a2bafc341df"
  },
  {
   "cell_type": "code",
   "outputs": [],
   "source": [
    "train = df_train.drop(['building_id'], axis=1).drop_duplicates()\n",
    "test = df_test.drop(['building_id'], axis=1)\n",
    "\n",
    "train = pd.get_dummies(train, columns=categorical_vars, drop_first=True)\n",
    "test = pd.get_dummies(test, columns=categorical_vars, drop_first=True)"
   ],
   "metadata": {
    "collapsed": false
   },
   "id": "ff4aaf521bdb6e62"
  },
  {
   "cell_type": "code",
   "outputs": [],
   "source": [
    "# Splitting the dataset into the Training set and Test set\n",
    "from sklearn.model_selection import train_test_split\n",
    "X_train, X_test, y_train, y_test = train_test_split(X, y, test_size = 0.2, random_state = 42)"
   ],
   "metadata": {
    "collapsed": false
   },
   "id": "3804ab9cd8cf80a2"
  },
  {
   "cell_type": "code",
   "outputs": [],
   "source": [
    "# Feature Scaling\n",
    "from sklearn.preprocessing import StandardScaler\n",
    "sc = StandardScaler()\n",
    "X_train = sc.fit_transform(X_train)\n",
    "X_test = sc.transform(X_test)"
   ],
   "metadata": {
    "collapsed": false
   },
   "id": "9329aa79e1d473ef"
  },
  {
   "cell_type": "code",
   "outputs": [],
   "source": [
    "best_params = {\n",
    "    \"objective\": \"multiclass\",          # Objective function for the model\n",
    "    \"metric\": \"multi_logloss\",          # Evaluation metric\n",
    "    \"verbosity\": -1,                    # Verbosity level (-1 for silent)\n",
    "    \"boosting_type\": \"gbdt\",            # Gradient boosting type\n",
    "    \"random_state\": 63,       # Random state for reproducibility\n",
    "    \"num_class\": 3,                     # Number of classes in the dataset\n",
    "    'learning_rate': 0.01767620281315413,  # Learning rate for gradient boosting\n",
    "    'n_estimators': 283,                # Number of boosting iterations\n",
    "    'lambda_l1': 0.009166846589741212,  # L1 regularization term\n",
    "    'lambda_l2': 0.03161505886302539,   # L2 regularization term\n",
    "    'max_depth': 8,                    # Maximum depth of the trees\n",
    "    'colsample_bytree': 0.3325836967251265,  # Fraction of features to consider for each tree\n",
    "    'subsample': 0.8207060003776292,    # Fraction of samples to consider for each boosting iteration\n",
    "    'min_child_samples': 45             # Minimum number of data needed in a leaf\n",
    "}"
   ],
   "metadata": {
    "collapsed": false
   },
   "id": "a164b7153df28ea3"
  },
  {
   "cell_type": "code",
   "outputs": [],
   "source": [
    "lgbm_classifier = LGBMClassifier(**best_params)\n",
    "lgbm_classifier.fit(X_train, y_train)\n",
    "y_pred = lgbm_classifier.predict(X_test)"
   ],
   "metadata": {
    "collapsed": false
   },
   "id": "a1f61230c95744ad"
  },
  {
   "cell_type": "code",
   "outputs": [],
   "source": [
    "accuracy_score(y_test, y_pred)"
   ],
   "metadata": {
    "collapsed": false
   },
   "id": "714b7f1d94e5ff6b"
  },
  {
   "cell_type": "code",
   "outputs": [],
   "source": [
    "from sklearn.metrics import confusion_matrix, classification_report\n",
    "print(classification_report(y_test, y_pred))"
   ],
   "metadata": {
    "collapsed": false
   },
   "id": "429e4438a4617363"
  },
  {
   "cell_type": "code",
   "outputs": [],
   "source": [
    "predictions = lgbm_classifier.predict(test)"
   ],
   "metadata": {
    "collapsed": false
   },
   "id": "a8da5979a38555de"
  },
  {
   "cell_type": "code",
   "outputs": [],
   "source": [
    "submission = pd.read_csv(\"/kaggle/input/ml-olympiad-predicting-earthquake-damage/sample_submission.csv\")\n",
    "submission[\"damage_grade\"] = predictions\n",
    "submission.to_csv(\"submission.csv\", index=False)\n",
    "submission.head()"
   ],
   "metadata": {
    "collapsed": false
   },
   "id": "1026c27115572932"
  }
 ],
 "metadata": {
  "kernelspec": {
   "display_name": "Python 3",
   "language": "python",
   "name": "python3"
  },
  "language_info": {
   "codemirror_mode": {
    "name": "ipython",
    "version": 2
   },
   "file_extension": ".py",
   "mimetype": "text/x-python",
   "name": "python",
   "nbconvert_exporter": "python",
   "pygments_lexer": "ipython2",
   "version": "2.7.6"
  }
 },
 "nbformat": 4,
 "nbformat_minor": 5
}
