{
 "cells": [
  {
   "cell_type": "code",
   "execution_count": 1,
   "id": "45899bfc",
   "metadata": {
    "_cell_guid": "b1076dfc-b9ad-4769-8c92-a6c4dae69d19",
    "_uuid": "8f2839f25d086af736a60e9eeb907d3b93b6e0e5",
    "execution": {
     "iopub.execute_input": "2024-01-27T01:50:23.283186Z",
     "iopub.status.busy": "2024-01-27T01:50:23.282811Z",
     "iopub.status.idle": "2024-01-27T01:50:23.653095Z",
     "shell.execute_reply": "2024-01-27T01:50:23.651906Z"
    },
    "papermill": {
     "duration": 0.38757,
     "end_time": "2024-01-27T01:50:23.656037",
     "exception": false,
     "start_time": "2024-01-27T01:50:23.268467",
     "status": "completed"
    },
    "tags": []
   },
   "outputs": [],
   "source": [
    "# This Python 3 environment comes with many helpful analytics libraries installed\n",
    "# It is defined by the kaggle/python Docker image: https://github.com/kaggle/docker-python\n",
    "# For example, here's several helpful packages to load\n",
    "\n",
    "import numpy as np # linear algebra\n",
    "import pandas as pd # data processing, CSV file I/O (e.g. pd.read_csv)\n",
    "\n",
    "# Input data files are available in the read-only \"../input/\" directory\n",
    "# For example, running this (by clicking run or pressing Shift+Enter) will list all files under the input directory\n",
    "\n",
    "import os\n"
   ]
  },
  {
   "cell_type": "markdown",
   "id": "29e93196",
   "metadata": {
    "papermill": {
     "duration": 0.012329,
     "end_time": "2024-01-27T01:50:23.681415",
     "exception": false,
     "start_time": "2024-01-27T01:50:23.669086",
     "status": "completed"
    },
    "tags": []
   },
   "source": [
    "### About YULU : \n",
    "\n",
    "**Electrics Bicyles Provider for Local Use. It basically provides a two-wheeler electric vehicle services in Bengaluru, Mumbai, Navi Mumbai, Delhi and Gurugram. Yulu operates 25,000 dockless shared EVs and has 4 million users!**\n",
    "\n",
    "\n",
    "\n",
    "\n",
    "[![Yulu e-bike](https://imgk.timesnownews.com/story/1557482863-Yulu_e-bike.jpeg?tr=w-1000,h-650,fo-auto)](http://)\n",
    "****"
   ]
  },
  {
   "cell_type": "markdown",
   "id": "1aff739f",
   "metadata": {
    "papermill": {
     "duration": 0.011776,
     "end_time": "2024-01-27T01:50:23.705270",
     "exception": false,
     "start_time": "2024-01-27T01:50:23.693494",
     "status": "completed"
    },
    "tags": []
   },
   "source": [
    "### About The Data\n",
    "\n",
    "This dataset provides insights into the usage patterns of YULU bike sharing services. It includes a variety of factors such as weather conditions, time, and user type, which could influence bike rental behaviors.\n",
    "\n",
    "**Target Columns**\n",
    "\n",
    " - Casual: Count of Casual Users \n",
    " - Registered: Count of Registered Users\n",
    " - Count : Casual + Registered\n",
    "\n",
    "**Note on Registration:** YULU's policy requires a refundable security deposit of Rs 100 for registration. This aspect could influence user decisions to register and use the service regularly.\n",
    "\n",
    "**Temperature Columns**\n",
    "\n",
    "  - temp: Ambient temperature as measured by standard devices, in Celsius.\n",
    "  - atemp: 'Feels like' temperature, considering factors like humidity and wind, in Celsius.\n",
    "\n",
    "**Column Profiling:**\n",
    "\n",
    " - datetime: Date and time of the bike rental.\n",
    "\n",
    " - season: Categorical variable representing the season (1: Spring, 2: Summer, 3: Fall, 4: Winter).\n",
    "\n",
    " - holiday: Indicates if the day is a public holiday (1: Holiday, 0: Non-holiday).\n",
    "\n",
    " - workingday: Identifies working days (1: Working day, 0: Weekend or holiday).\n",
    "\n",
    " - weather: Categorical variable representing weather conditions:\n",
    "  - 1: Clear, few clouds, partly cloudy.\n",
    "  - 2: Mist + cloudy, mist + broken clouds, mist + few clouds.\n",
    "  - 3: Light snow, light rain + thunderstorm + scattered clouds, light rain + scattered clouds.\n",
    "  - 4: Heavy rain + ice pellets + thunderstorm + mist, snow + fog.\n",
    "  \n",
    " - humidity: Relative humidity in percentage.\n",
    "\n",
    " - windspeed: Wind speed in km/h.\n",
    "\n",
    " - count: Total count of rented bikes, including both casual and registered users.\n",
    "****"
   ]
  },
  {
   "cell_type": "markdown",
   "id": "7fbf7af9",
   "metadata": {
    "papermill": {
     "duration": 0.012946,
     "end_time": "2024-01-27T01:50:23.730312",
     "exception": false,
     "start_time": "2024-01-27T01:50:23.717366",
     "status": "completed"
    },
    "tags": []
   },
   "source": [
    "### Goal:\n",
    "1. Which variables are significant in predicting the demand for shared electric cycles in the Indian market?✅\n",
    "2. Select an appropriate test to check whether:\n",
    "    \n",
    "    - Working Day has effect on number of electric cycles rented✅\n",
    "\n",
    "    - No. of cycles rented similar or different in different seasons✅\n",
    "\n",
    "    - No. of cycles rented similar or different in different weather✅\n",
    "\n",
    "    - Weather is dependent on season (check between 2 predictor variable)✅\n",
    "****"
   ]
  },
  {
   "cell_type": "markdown",
   "id": "22b34ad3",
   "metadata": {
    "papermill": {
     "duration": 0.011698,
     "end_time": "2024-01-27T01:50:23.753982",
     "exception": false,
     "start_time": "2024-01-27T01:50:23.742284",
     "status": "completed"
    },
    "tags": []
   },
   "source": [
    "### Plan\n",
    "1. Before finding out some insights lets focus on checking null value, outliers and prepare overall data, also we delete datetime column by adding the [year,month] columns\n",
    "\n",
    "2. Our main focus will be on comparing other columns with these 3 columns [casual,register,count] because they explore about the count of users which is the main focus of Yulu's \n",
    "3. We will compare and try to find relation between variables\n",
    "4. At each set of visualization we provide a \"short analysis (SA)\" to understand what the visualization want to say\n",
    "5. After that we will start our main part that is Hypothesis Testing\n",
    "6. We have to use various test to check wether we have to Reject H0 or Accept H0\n",
    "7. So after solving each problem we markdown the final Answer\n",
    "\n",
    "**Note : Please feel free to suggest any modifications, improvements, or corrections. I'm open to learning and improving** \n",
    "****"
   ]
  },
  {
   "cell_type": "markdown",
   "id": "16804193",
   "metadata": {
    "papermill": {
     "duration": 0.012047,
     "end_time": "2024-01-27T01:50:23.778234",
     "exception": false,
     "start_time": "2024-01-27T01:50:23.766187",
     "status": "completed"
    },
    "tags": []
   },
   "source": [
    "### Steps:\n",
    "1. Data Exploration & EDA ✅\n",
    "2. Relation Between Independent and Dependent Variables✅\n",
    "3. Hypothesis Testing (Shapiro, Levene , Whiteneyuu, Kruskal's Wallis, Dunn's Test)✅\n",
    "****"
   ]
  },
  {
   "cell_type": "markdown",
   "id": "f1a8146e",
   "metadata": {
    "papermill": {
     "duration": 0.011709,
     "end_time": "2024-01-27T01:50:23.802017",
     "exception": false,
     "start_time": "2024-01-27T01:50:23.790308",
     "status": "completed"
    },
    "tags": []
   },
   "source": [
    "### Reference:\n",
    "   - https://en.wikipedia.org/wiki/Kruskal%E2%80%93Wallis_one-way_analysis_of_variance\n",
    "   - https://www.kaggle.com/code/ekrembayar/a-b-testing-step-by-step-hypothesis-testing\n",
    "   - https://www.statology.org/dunns-test/\n",
    "   ****"
   ]
  },
  {
   "cell_type": "markdown",
   "id": "bee206a4",
   "metadata": {
    "papermill": {
     "duration": 0.011844,
     "end_time": "2024-01-27T01:50:23.827193",
     "exception": false,
     "start_time": "2024-01-27T01:50:23.815349",
     "status": "completed"
    },
    "tags": []
   },
   "source": [
    "### Short Forms\n",
    " - Short Analysis : SA\n",
    " ****"
   ]
  },
  {
   "cell_type": "code",
   "execution_count": 2,
   "id": "965fa4ad",
   "metadata": {
    "execution": {
     "iopub.execute_input": "2024-01-27T01:50:23.856076Z",
     "iopub.status.busy": "2024-01-27T01:50:23.855228Z",
     "iopub.status.idle": "2024-01-27T01:50:25.024277Z",
     "shell.execute_reply": "2024-01-27T01:50:25.023224Z"
    },
    "papermill": {
     "duration": 1.18768,
     "end_time": "2024-01-27T01:50:25.026864",
     "exception": false,
     "start_time": "2024-01-27T01:50:23.839184",
     "status": "completed"
    },
    "tags": []
   },
   "outputs": [],
   "source": [
    "# importing libraries\n",
    "\n",
    "import numpy as np\n",
    "import pandas as pd \n",
    "import seaborn as sns\n",
    "import matplotlib.pyplot as plt\n",
    "import os\n",
    "\n",
    "# Hypothesis Testing\n",
    "# -----------------------------------\n",
    "from scipy.stats import shapiro\n",
    "import scipy.stats as stats\n",
    "\n",
    "# warnings\n",
    "import warnings\n",
    "warnings.filterwarnings(\"ignore\")\n",
    "warnings.simplefilter(action='ignore', category=FutureWarning)\n",
    "\n",
    "pd.set_option('display.max_columns', None)\n",
    "pd.options.display.float_format = '{:.4f}'.format\n"
   ]
  },
  {
   "cell_type": "markdown",
   "id": "6109c7d4",
   "metadata": {
    "papermill": {
     "duration": 0.01189,
     "end_time": "2024-01-27T01:50:25.051249",
     "exception": false,
     "start_time": "2024-01-27T01:50:25.039359",
     "status": "completed"
    },
    "tags": []
   },
   "source": [
    "# Data Exploration & EDA"
   ]
  },
  {
   "cell_type": "code",
   "execution_count": 3,
   "id": "e6d352a8",
   "metadata": {
    "execution": {
     "iopub.execute_input": "2024-01-27T01:50:25.134427Z",
     "iopub.status.busy": "2024-01-27T01:50:25.133687Z",
     "iopub.status.idle": "2024-01-27T01:50:25.192244Z",
     "shell.execute_reply": "2024-01-27T01:50:25.191244Z"
    },
    "papermill": {
     "duration": 0.075031,
     "end_time": "2024-01-27T01:50:25.194833",
     "exception": false,
     "start_time": "2024-01-27T01:50:25.119802",
     "status": "completed"
    },
    "tags": []
   },
   "outputs": [
    {
     "data": {
      "text/html": [
       "<div>\n",
       "<style scoped>\n",
       "    .dataframe tbody tr th:only-of-type {\n",
       "        vertical-align: middle;\n",
       "    }\n",
       "\n",
       "    .dataframe tbody tr th {\n",
       "        vertical-align: top;\n",
       "    }\n",
       "\n",
       "    .dataframe thead th {\n",
       "        text-align: right;\n",
       "    }\n",
       "</style>\n",
       "<table border=\"1\" class=\"dataframe\">\n",
       "  <thead>\n",
       "    <tr style=\"text-align: right;\">\n",
       "      <th></th>\n",
       "      <th>datetime</th>\n",
       "      <th>season</th>\n",
       "      <th>holiday</th>\n",
       "      <th>workingday</th>\n",
       "      <th>weather</th>\n",
       "      <th>temp</th>\n",
       "      <th>atemp</th>\n",
       "      <th>humidity</th>\n",
       "      <th>windspeed</th>\n",
       "      <th>casual</th>\n",
       "      <th>registered</th>\n",
       "      <th>count</th>\n",
       "    </tr>\n",
       "  </thead>\n",
       "  <tbody>\n",
       "    <tr>\n",
       "      <th>0</th>\n",
       "      <td>2011-01-01 00:00:00</td>\n",
       "      <td>1</td>\n",
       "      <td>0</td>\n",
       "      <td>0</td>\n",
       "      <td>1</td>\n",
       "      <td>9.8400</td>\n",
       "      <td>14.3950</td>\n",
       "      <td>81</td>\n",
       "      <td>0.0000</td>\n",
       "      <td>3</td>\n",
       "      <td>13</td>\n",
       "      <td>16</td>\n",
       "    </tr>\n",
       "    <tr>\n",
       "      <th>1</th>\n",
       "      <td>2011-01-01 01:00:00</td>\n",
       "      <td>1</td>\n",
       "      <td>0</td>\n",
       "      <td>0</td>\n",
       "      <td>1</td>\n",
       "      <td>9.0200</td>\n",
       "      <td>13.6350</td>\n",
       "      <td>80</td>\n",
       "      <td>0.0000</td>\n",
       "      <td>8</td>\n",
       "      <td>32</td>\n",
       "      <td>40</td>\n",
       "    </tr>\n",
       "    <tr>\n",
       "      <th>2</th>\n",
       "      <td>2011-01-01 02:00:00</td>\n",
       "      <td>1</td>\n",
       "      <td>0</td>\n",
       "      <td>0</td>\n",
       "      <td>1</td>\n",
       "      <td>9.0200</td>\n",
       "      <td>13.6350</td>\n",
       "      <td>80</td>\n",
       "      <td>0.0000</td>\n",
       "      <td>5</td>\n",
       "      <td>27</td>\n",
       "      <td>32</td>\n",
       "    </tr>\n",
       "    <tr>\n",
       "      <th>3</th>\n",
       "      <td>2011-01-01 03:00:00</td>\n",
       "      <td>1</td>\n",
       "      <td>0</td>\n",
       "      <td>0</td>\n",
       "      <td>1</td>\n",
       "      <td>9.8400</td>\n",
       "      <td>14.3950</td>\n",
       "      <td>75</td>\n",
       "      <td>0.0000</td>\n",
       "      <td>3</td>\n",
       "      <td>10</td>\n",
       "      <td>13</td>\n",
       "    </tr>\n",
       "    <tr>\n",
       "      <th>4</th>\n",
       "      <td>2011-01-01 04:00:00</td>\n",
       "      <td>1</td>\n",
       "      <td>0</td>\n",
       "      <td>0</td>\n",
       "      <td>1</td>\n",
       "      <td>9.8400</td>\n",
       "      <td>14.3950</td>\n",
       "      <td>75</td>\n",
       "      <td>0.0000</td>\n",
       "      <td>0</td>\n",
       "      <td>1</td>\n",
       "      <td>1</td>\n",
       "    </tr>\n",
       "  </tbody>\n",
       "</table>\n",
       "</div>"
      ],
      "text/plain": [
       "              datetime  season  holiday  workingday  weather   temp   atemp  \\\n",
       "0  2011-01-01 00:00:00       1        0           0        1 9.8400 14.3950   \n",
       "1  2011-01-01 01:00:00       1        0           0        1 9.0200 13.6350   \n",
       "2  2011-01-01 02:00:00       1        0           0        1 9.0200 13.6350   \n",
       "3  2011-01-01 03:00:00       1        0           0        1 9.8400 14.3950   \n",
       "4  2011-01-01 04:00:00       1        0           0        1 9.8400 14.3950   \n",
       "\n",
       "   humidity  windspeed  casual  registered  count  \n",
       "0        81     0.0000       3          13     16  \n",
       "1        80     0.0000       8          32     40  \n",
       "2        80     0.0000       5          27     32  \n",
       "3        75     0.0000       3          10     13  \n",
       "4        75     0.0000       0           1      1  "
      ]
     },
     "execution_count": 3,
     "metadata": {},
     "output_type": "execute_result"
    }
   ],
   "source": [
    "data = pd.read_csv(\"../yulu_bike_sharing_dataset.csv\")\n",
    "data.head()"
   ]
  },
  {
   "cell_type": "code",
   "execution_count": 4,
   "id": "30ad3688",
   "metadata": {
    "execution": {
     "iopub.execute_input": "2024-01-27T01:50:25.221765Z",
     "iopub.status.busy": "2024-01-27T01:50:25.221410Z",
     "iopub.status.idle": "2024-01-27T01:50:25.320099Z",
     "shell.execute_reply": "2024-01-27T01:50:25.318875Z"
    },
    "papermill": {
     "duration": 0.114504,
     "end_time": "2024-01-27T01:50:25.322265",
     "exception": false,
     "start_time": "2024-01-27T01:50:25.207761",
     "status": "completed"
    },
    "tags": []
   },
   "outputs": [
    {
     "name": "stdout",
     "output_type": "stream",
     "text": [
      "<class 'pandas.core.frame.DataFrame'>\n",
      "RangeIndex: 10886 entries, 0 to 10885\n",
      "Data columns (total 12 columns):\n",
      " #   Column      Non-Null Count  Dtype  \n",
      "---  ------      --------------  -----  \n",
      " 0   datetime    10886 non-null  object \n",
      " 1   season      10886 non-null  int64  \n",
      " 2   holiday     10886 non-null  int64  \n",
      " 3   workingday  10886 non-null  int64  \n",
      " 4   weather     10886 non-null  int64  \n",
      " 5   temp        10886 non-null  float64\n",
      " 6   atemp       10886 non-null  float64\n",
      " 7   humidity    10886 non-null  int64  \n",
      " 8   windspeed   10886 non-null  float64\n",
      " 9   casual      10886 non-null  int64  \n",
      " 10  registered  10886 non-null  int64  \n",
      " 11  count       10886 non-null  int64  \n",
      "dtypes: float64(3), int64(8), object(1)\n",
      "memory usage: 1020.7+ KB\n"
     ]
    }
   ],
   "source": [
    "data.info()"
   ]
  },
  {
   "cell_type": "code",
   "execution_count": 5,
   "id": "527308f7",
   "metadata": {
    "execution": {
     "iopub.execute_input": "2024-01-27T01:50:25.349924Z",
     "iopub.status.busy": "2024-01-27T01:50:25.348950Z",
     "iopub.status.idle": "2024-01-27T01:50:25.367300Z",
     "shell.execute_reply": "2024-01-27T01:50:25.366541Z"
    },
    "papermill": {
     "duration": 0.034535,
     "end_time": "2024-01-27T01:50:25.369572",
     "exception": false,
     "start_time": "2024-01-27T01:50:25.335037",
     "status": "completed"
    },
    "tags": []
   },
   "outputs": [],
   "source": [
    "# Extracting Year and month from datetime column and then deleting datetime\n",
    "data[\"datetime\"] = pd.to_datetime(data[\"datetime\"])\n",
    "data[\"year\"] = data[\"datetime\"].dt.year\n",
    "data[\"month\"] = data[\"datetime\"].dt.month"
   ]
  },
  {
   "cell_type": "code",
   "execution_count": 6,
   "id": "b3c81936",
   "metadata": {
    "execution": {
     "iopub.execute_input": "2024-01-27T01:50:25.396793Z",
     "iopub.status.busy": "2024-01-27T01:50:25.396182Z",
     "iopub.status.idle": "2024-01-27T01:50:25.406022Z",
     "shell.execute_reply": "2024-01-27T01:50:25.405372Z"
    },
    "papermill": {
     "duration": 0.025632,
     "end_time": "2024-01-27T01:50:25.408084",
     "exception": false,
     "start_time": "2024-01-27T01:50:25.382452",
     "status": "completed"
    },
    "tags": []
   },
   "outputs": [],
   "source": [
    "# remove column\n",
    "data = data.drop(columns = [\"datetime\"])"
   ]
  },
  {
   "cell_type": "code",
   "execution_count": 7,
   "id": "f7b47618",
   "metadata": {
    "execution": {
     "iopub.execute_input": "2024-01-27T01:50:25.435487Z",
     "iopub.status.busy": "2024-01-27T01:50:25.434585Z",
     "iopub.status.idle": "2024-01-27T01:50:25.448613Z",
     "shell.execute_reply": "2024-01-27T01:50:25.447094Z"
    },
    "papermill": {
     "duration": 0.030309,
     "end_time": "2024-01-27T01:50:25.451102",
     "exception": false,
     "start_time": "2024-01-27T01:50:25.420793",
     "status": "completed"
    },
    "tags": []
   },
   "outputs": [
    {
     "name": "stdout",
     "output_type": "stream",
     "text": [
      "<class 'pandas.core.frame.DataFrame'>\n",
      "RangeIndex: 10886 entries, 0 to 10885\n",
      "Data columns (total 13 columns):\n",
      " #   Column      Non-Null Count  Dtype  \n",
      "---  ------      --------------  -----  \n",
      " 0   season      10886 non-null  int64  \n",
      " 1   holiday     10886 non-null  int64  \n",
      " 2   workingday  10886 non-null  int64  \n",
      " 3   weather     10886 non-null  int64  \n",
      " 4   temp        10886 non-null  float64\n",
      " 5   atemp       10886 non-null  float64\n",
      " 6   humidity    10886 non-null  int64  \n",
      " 7   windspeed   10886 non-null  float64\n",
      " 8   casual      10886 non-null  int64  \n",
      " 9   registered  10886 non-null  int64  \n",
      " 10  count       10886 non-null  int64  \n",
      " 11  year        10886 non-null  int64  \n",
      " 12  month       10886 non-null  int64  \n",
      "dtypes: float64(3), int64(10)\n",
      "memory usage: 1.1 MB\n"
     ]
    }
   ],
   "source": [
    "data.info()"
   ]
  },
  {
   "cell_type": "code",
   "execution_count": 8,
   "id": "948b1a13",
   "metadata": {
    "execution": {
     "iopub.execute_input": "2024-01-27T01:50:25.478853Z",
     "iopub.status.busy": "2024-01-27T01:50:25.478145Z",
     "iopub.status.idle": "2024-01-27T01:50:25.488239Z",
     "shell.execute_reply": "2024-01-27T01:50:25.487181Z"
    },
    "papermill": {
     "duration": 0.026692,
     "end_time": "2024-01-27T01:50:25.490768",
     "exception": false,
     "start_time": "2024-01-27T01:50:25.464076",
     "status": "completed"
    },
    "tags": []
   },
   "outputs": [
    {
     "name": "stdout",
     "output_type": "stream",
     "text": [
      "Year Value Counts: 2012    5464\n",
      "2011    5422\n",
      "Name: year, dtype: int64 \n",
      "\n",
      "***************************\n",
      "Month Value Counts: 5     912\n",
      "6     912\n",
      "7     912\n",
      "8     912\n",
      "12    912\n",
      "10    911\n",
      "11    911\n",
      "4     909\n",
      "9     909\n",
      "2     901\n",
      "3     901\n",
      "1     884\n",
      "Name: month, dtype: int64\n"
     ]
    }
   ],
   "source": [
    "def year_month(data,y,m):\n",
    "    \n",
    "    a = data[y].value_counts()\n",
    "    b = data[m].value_counts()\n",
    "    print(\"Year Value Counts:\",a,\"\\n\")\n",
    "    print(\"***************************\")\n",
    "    print(\"Month Value Counts:\",b)\n",
    "year_month(data,\"year\",\"month\")"
   ]
  },
  {
   "cell_type": "code",
   "execution_count": 9,
   "id": "f36730e5",
   "metadata": {
    "execution": {
     "iopub.execute_input": "2024-01-27T01:50:25.518395Z",
     "iopub.status.busy": "2024-01-27T01:50:25.518016Z",
     "iopub.status.idle": "2024-01-27T01:50:25.526852Z",
     "shell.execute_reply": "2024-01-27T01:50:25.525910Z"
    },
    "papermill": {
     "duration": 0.02532,
     "end_time": "2024-01-27T01:50:25.529044",
     "exception": false,
     "start_time": "2024-01-27T01:50:25.503724",
     "status": "completed"
    },
    "tags": []
   },
   "outputs": [
    {
     "data": {
      "text/plain": [
       "season        0\n",
       "holiday       0\n",
       "workingday    0\n",
       "weather       0\n",
       "temp          0\n",
       "atemp         0\n",
       "humidity      0\n",
       "windspeed     0\n",
       "casual        0\n",
       "registered    0\n",
       "count         0\n",
       "year          0\n",
       "month         0\n",
       "dtype: int64"
      ]
     },
     "execution_count": 9,
     "metadata": {},
     "output_type": "execute_result"
    }
   ],
   "source": [
    "# Checking for NULL Values\n",
    "data.isnull().sum()\n",
    "# No NULL Values"
   ]
  },
  {
   "cell_type": "code",
   "execution_count": 10,
   "id": "a1921f02",
   "metadata": {
    "execution": {
     "iopub.execute_input": "2024-01-27T01:50:25.557207Z",
     "iopub.status.busy": "2024-01-27T01:50:25.556816Z",
     "iopub.status.idle": "2024-01-27T01:50:25.599062Z",
     "shell.execute_reply": "2024-01-27T01:50:25.598085Z"
    },
    "papermill": {
     "duration": 0.058666,
     "end_time": "2024-01-27T01:50:25.601422",
     "exception": false,
     "start_time": "2024-01-27T01:50:25.542756",
     "status": "completed"
    },
    "tags": []
   },
   "outputs": [
    {
     "data": {
      "text/html": [
       "<div>\n",
       "<style scoped>\n",
       "    .dataframe tbody tr th:only-of-type {\n",
       "        vertical-align: middle;\n",
       "    }\n",
       "\n",
       "    .dataframe tbody tr th {\n",
       "        vertical-align: top;\n",
       "    }\n",
       "\n",
       "    .dataframe thead th {\n",
       "        text-align: right;\n",
       "    }\n",
       "</style>\n",
       "<table border=\"1\" class=\"dataframe\">\n",
       "  <thead>\n",
       "    <tr style=\"text-align: right;\">\n",
       "      <th></th>\n",
       "      <th>count</th>\n",
       "      <th>mean</th>\n",
       "      <th>std</th>\n",
       "      <th>min</th>\n",
       "      <th>25%</th>\n",
       "      <th>50%</th>\n",
       "      <th>75%</th>\n",
       "      <th>max</th>\n",
       "    </tr>\n",
       "  </thead>\n",
       "  <tbody>\n",
       "    <tr>\n",
       "      <th>season</th>\n",
       "      <td>10886.0000</td>\n",
       "      <td>2.5066</td>\n",
       "      <td>1.1162</td>\n",
       "      <td>1.0000</td>\n",
       "      <td>2.0000</td>\n",
       "      <td>3.0000</td>\n",
       "      <td>4.0000</td>\n",
       "      <td>4.0000</td>\n",
       "    </tr>\n",
       "    <tr>\n",
       "      <th>holiday</th>\n",
       "      <td>10886.0000</td>\n",
       "      <td>0.0286</td>\n",
       "      <td>0.1666</td>\n",
       "      <td>0.0000</td>\n",
       "      <td>0.0000</td>\n",
       "      <td>0.0000</td>\n",
       "      <td>0.0000</td>\n",
       "      <td>1.0000</td>\n",
       "    </tr>\n",
       "    <tr>\n",
       "      <th>workingday</th>\n",
       "      <td>10886.0000</td>\n",
       "      <td>0.6809</td>\n",
       "      <td>0.4662</td>\n",
       "      <td>0.0000</td>\n",
       "      <td>0.0000</td>\n",
       "      <td>1.0000</td>\n",
       "      <td>1.0000</td>\n",
       "      <td>1.0000</td>\n",
       "    </tr>\n",
       "    <tr>\n",
       "      <th>weather</th>\n",
       "      <td>10886.0000</td>\n",
       "      <td>1.4184</td>\n",
       "      <td>0.6338</td>\n",
       "      <td>1.0000</td>\n",
       "      <td>1.0000</td>\n",
       "      <td>1.0000</td>\n",
       "      <td>2.0000</td>\n",
       "      <td>4.0000</td>\n",
       "    </tr>\n",
       "    <tr>\n",
       "      <th>temp</th>\n",
       "      <td>10886.0000</td>\n",
       "      <td>20.2309</td>\n",
       "      <td>7.7916</td>\n",
       "      <td>0.8200</td>\n",
       "      <td>13.9400</td>\n",
       "      <td>20.5000</td>\n",
       "      <td>26.2400</td>\n",
       "      <td>41.0000</td>\n",
       "    </tr>\n",
       "    <tr>\n",
       "      <th>atemp</th>\n",
       "      <td>10886.0000</td>\n",
       "      <td>23.6551</td>\n",
       "      <td>8.4746</td>\n",
       "      <td>0.7600</td>\n",
       "      <td>16.6650</td>\n",
       "      <td>24.2400</td>\n",
       "      <td>31.0600</td>\n",
       "      <td>45.4550</td>\n",
       "    </tr>\n",
       "    <tr>\n",
       "      <th>humidity</th>\n",
       "      <td>10886.0000</td>\n",
       "      <td>61.8865</td>\n",
       "      <td>19.2450</td>\n",
       "      <td>0.0000</td>\n",
       "      <td>47.0000</td>\n",
       "      <td>62.0000</td>\n",
       "      <td>77.0000</td>\n",
       "      <td>100.0000</td>\n",
       "    </tr>\n",
       "    <tr>\n",
       "      <th>windspeed</th>\n",
       "      <td>10886.0000</td>\n",
       "      <td>12.7994</td>\n",
       "      <td>8.1645</td>\n",
       "      <td>0.0000</td>\n",
       "      <td>7.0015</td>\n",
       "      <td>12.9980</td>\n",
       "      <td>16.9979</td>\n",
       "      <td>56.9969</td>\n",
       "    </tr>\n",
       "    <tr>\n",
       "      <th>casual</th>\n",
       "      <td>10886.0000</td>\n",
       "      <td>36.0220</td>\n",
       "      <td>49.9605</td>\n",
       "      <td>0.0000</td>\n",
       "      <td>4.0000</td>\n",
       "      <td>17.0000</td>\n",
       "      <td>49.0000</td>\n",
       "      <td>367.0000</td>\n",
       "    </tr>\n",
       "    <tr>\n",
       "      <th>registered</th>\n",
       "      <td>10886.0000</td>\n",
       "      <td>155.5522</td>\n",
       "      <td>151.0390</td>\n",
       "      <td>0.0000</td>\n",
       "      <td>36.0000</td>\n",
       "      <td>118.0000</td>\n",
       "      <td>222.0000</td>\n",
       "      <td>886.0000</td>\n",
       "    </tr>\n",
       "    <tr>\n",
       "      <th>count</th>\n",
       "      <td>10886.0000</td>\n",
       "      <td>191.5741</td>\n",
       "      <td>181.1445</td>\n",
       "      <td>1.0000</td>\n",
       "      <td>42.0000</td>\n",
       "      <td>145.0000</td>\n",
       "      <td>284.0000</td>\n",
       "      <td>977.0000</td>\n",
       "    </tr>\n",
       "    <tr>\n",
       "      <th>year</th>\n",
       "      <td>10886.0000</td>\n",
       "      <td>2011.5019</td>\n",
       "      <td>0.5000</td>\n",
       "      <td>2011.0000</td>\n",
       "      <td>2011.0000</td>\n",
       "      <td>2012.0000</td>\n",
       "      <td>2012.0000</td>\n",
       "      <td>2012.0000</td>\n",
       "    </tr>\n",
       "    <tr>\n",
       "      <th>month</th>\n",
       "      <td>10886.0000</td>\n",
       "      <td>6.5215</td>\n",
       "      <td>3.4444</td>\n",
       "      <td>1.0000</td>\n",
       "      <td>4.0000</td>\n",
       "      <td>7.0000</td>\n",
       "      <td>10.0000</td>\n",
       "      <td>12.0000</td>\n",
       "    </tr>\n",
       "  </tbody>\n",
       "</table>\n",
       "</div>"
      ],
      "text/plain": [
       "                count      mean      std       min       25%       50%  \\\n",
       "season     10886.0000    2.5066   1.1162    1.0000    2.0000    3.0000   \n",
       "holiday    10886.0000    0.0286   0.1666    0.0000    0.0000    0.0000   \n",
       "workingday 10886.0000    0.6809   0.4662    0.0000    0.0000    1.0000   \n",
       "weather    10886.0000    1.4184   0.6338    1.0000    1.0000    1.0000   \n",
       "temp       10886.0000   20.2309   7.7916    0.8200   13.9400   20.5000   \n",
       "atemp      10886.0000   23.6551   8.4746    0.7600   16.6650   24.2400   \n",
       "humidity   10886.0000   61.8865  19.2450    0.0000   47.0000   62.0000   \n",
       "windspeed  10886.0000   12.7994   8.1645    0.0000    7.0015   12.9980   \n",
       "casual     10886.0000   36.0220  49.9605    0.0000    4.0000   17.0000   \n",
       "registered 10886.0000  155.5522 151.0390    0.0000   36.0000  118.0000   \n",
       "count      10886.0000  191.5741 181.1445    1.0000   42.0000  145.0000   \n",
       "year       10886.0000 2011.5019   0.5000 2011.0000 2011.0000 2012.0000   \n",
       "month      10886.0000    6.5215   3.4444    1.0000    4.0000    7.0000   \n",
       "\n",
       "                 75%       max  \n",
       "season        4.0000    4.0000  \n",
       "holiday       0.0000    1.0000  \n",
       "workingday    1.0000    1.0000  \n",
       "weather       2.0000    4.0000  \n",
       "temp         26.2400   41.0000  \n",
       "atemp        31.0600   45.4550  \n",
       "humidity     77.0000  100.0000  \n",
       "windspeed    16.9979   56.9969  \n",
       "casual       49.0000  367.0000  \n",
       "registered  222.0000  886.0000  \n",
       "count       284.0000  977.0000  \n",
       "year       2012.0000 2012.0000  \n",
       "month        10.0000   12.0000  "
      ]
     },
     "execution_count": 10,
     "metadata": {},
     "output_type": "execute_result"
    }
   ],
   "source": [
    "# Checking Overall Stats\n",
    "# Less Chances of Outliers still we will check using box-plots\n",
    "data.describe().T"
   ]
  },
  {
   "cell_type": "code",
   "execution_count": 11,
   "id": "74a09247",
   "metadata": {
    "execution": {
     "iopub.execute_input": "2024-01-27T01:50:25.629911Z",
     "iopub.status.busy": "2024-01-27T01:50:25.629533Z",
     "iopub.status.idle": "2024-01-27T01:50:26.394419Z",
     "shell.execute_reply": "2024-01-27T01:50:26.393512Z"
    },
    "papermill": {
     "duration": 0.781878,
     "end_time": "2024-01-27T01:50:26.396632",
     "exception": false,
     "start_time": "2024-01-27T01:50:25.614754",
     "status": "completed"
    },
    "tags": []
   },
   "outputs": [
    {
     "data": {
      "image/png": "[encoded data removed]",
      "text/plain": [
       "<Figure size 1800x500 with 4 Axes>"
      ]
     },
     "metadata": {},
     "output_type": "display_data"
    }
   ],
   "source": [
    "fig, axes = plt.subplots(1, 4, figsize=(18, 5))\n",
    "\n",
    "sns.boxplot(y=data['humidity'], ax=axes[0],flierprops=dict(markerfacecolor='red', marker='D'))\n",
    "sns.boxplot(y=data['temp'], ax=axes[1],flierprops=dict(markerfacecolor='red', marker='D'))\n",
    "sns.boxplot(y=data['atemp'],ax=axes[2],flierprops=dict(markerfacecolor='red', marker='D'))\n",
    "sns.boxplot(y=data['windspeed'], ax=axes[3],fliersize=10,flierprops=dict(markerfacecolor='red', marker='D'))\n",
    "\n",
    "plt.suptitle(\"Checking For Outliers in Integer Columns\",fontsize = 20)\n",
    "axes[0].set_title(\"Distribution of Humidity\",fontsize = 15)\n",
    "axes[1].set_title(\"Distribution of Temperature\",fontsize = 15)\n",
    "axes[2].set_title(\"Distribution of Atemp\",fontsize = 15)\n",
    "axes[3].set_title(\"Distribution of Windspeed\",fontsize = 15)\n",
    "\n",
    "plt.tight_layout(pad=4)\n",
    "plt.show()\n"
   ]
  },
  {
   "cell_type": "markdown",
   "id": "06ef46e8",
   "metadata": {
    "papermill": {
     "duration": 0.013959,
     "end_time": "2024-01-27T01:50:26.424922",
     "exception": false,
     "start_time": "2024-01-27T01:50:26.410963",
     "status": "completed"
    },
    "tags": []
   },
   "source": [
    "### SA 1:\n",
    "1. There are some outliers in columns [Humidity, Windspeed] but (according to me) these outliers wont harm any future insights so we are going to continue, if required we will remove them later!"
   ]
  },
  {
   "cell_type": "markdown",
   "id": "6930d673",
   "metadata": {
    "papermill": {
     "duration": 0.03198,
     "end_time": "2024-01-27T01:50:49.230541",
     "exception": false,
     "start_time": "2024-01-27T01:50:49.198561",
     "status": "completed"
    },
    "tags": []
   },
   "source": [
    "**I think we are done with enough of insights and we are ready to move towards next part!!!**\n",
    "\n",
    "Note : If I have missed something do let me know in the comments"
   ]
  },
  {
   "cell_type": "markdown",
   "id": "ccdaf8c9",
   "metadata": {
    "papermill": {
     "duration": 0.031994,
     "end_time": "2024-01-27T01:50:49.295480",
     "exception": false,
     "start_time": "2024-01-27T01:50:49.263486",
     "status": "completed"
    },
    "tags": []
   },
   "source": [
    "### Problem : Which variables are significant in predicting the demand for shared electric cycles in the Indian market?\n",
    "**Answer: [season,weather,workingday,windspeed,temp]**\n",
    "****"
   ]
  },
  {
   "cell_type": "markdown",
   "id": "f6e41e34",
   "metadata": {
    "papermill": {
     "duration": 0.032199,
     "end_time": "2024-01-27T01:50:49.360045",
     "exception": false,
     "start_time": "2024-01-27T01:50:49.327846",
     "status": "completed"
    },
    "tags": []
   },
   "source": [
    "# Hypothesis Testing\n",
    "\n",
    "\n",
    "Select an appropriate test to check whether:\n",
    "\n",
    "Working Day has effect on number of electric cycles rented\n",
    "\n",
    "No. of cycles rented similar or different in different seasons\n",
    "\n",
    "No. of cycles rented similar or different in different weather\n",
    "\n",
    "Weather is dependent on season (check between 2 predictor variable)"
   ]
  },
  {
   "cell_type": "markdown",
   "id": "45d7ee9f",
   "metadata": {
    "papermill": {
     "duration": 0.032189,
     "end_time": "2024-01-27T01:50:49.424235",
     "exception": false,
     "start_time": "2024-01-27T01:50:49.392046",
     "status": "completed"
    },
    "tags": []
   },
   "source": [
    "Steps:\n",
    "\n",
    "1. Define A and B groups\n",
    "2. Describe Null Hypothesis and Alternate Hypothesis\n",
    "3. Normality Test(Shapiro Test), Levene(equal variance or unequal variance) or Mannwhitneyu Test (Non parametric Test)\n",
    "4. Kruskal Test for multiple groups \n",
    "5. Dunn's Test if required\n",
    "****"
   ]
  },
  {
   "cell_type": "markdown",
   "id": "7e73a4de",
   "metadata": {
    "papermill": {
     "duration": 0.032053,
     "end_time": "2024-01-27T01:50:49.793069",
     "exception": false,
     "start_time": "2024-01-27T01:50:49.761016",
     "status": "completed"
    },
    "tags": []
   },
   "source": [
    "### Problem 2 : No. of cycles rented similar or different in different seasons\n",
    "\n",
    "**Null Hypothesis H0: Number of cycles are similar in different seasons**\n",
    "\n",
    "**Alternate Hypothesis H1: Number of cycles are different in different seasons**\n",
    "\n",
    "\n",
    "- As season column contains different groups such as **season (1: spring, 2: summer, 3: fall, 4: winter)**\n",
    "- So we will use Kruskal-Wallis Test by ranks, which ranks all the data points from all the groups and combine them. If there are ties then they are given average rank\n",
    "- Calculate Test Statistic, p-value and compare with alpha=0.05\n",
    "- If p-value > 0.05 -> Fail to Reject Null Hypothesis and p-value < 0.05 Reject Null Hypothesis\n"
   ]
  },
  {
   "cell_type": "code",
   "execution_count": 12,
   "id": "077da069",
   "metadata": {
    "execution": {
     "iopub.execute_input": "2024-01-27T01:50:49.859365Z",
     "iopub.status.busy": "2024-01-27T01:50:49.858576Z",
     "iopub.status.idle": "2024-01-27T01:50:49.865215Z",
     "shell.execute_reply": "2024-01-27T01:50:49.864500Z"
    },
    "papermill": {
     "duration": 0.042242,
     "end_time": "2024-01-27T01:50:49.867285",
     "exception": false,
     "start_time": "2024-01-27T01:50:49.825043",
     "status": "completed"
    },
    "tags": []
   },
   "outputs": [],
   "source": [
    "def kruskal_wallis(data,group,target):\n",
    "\n",
    "    unique_grps = data[group].unique()\n",
    "    samples = [data[data[group] == g][target] for g in unique_grps]\n",
    "    \n",
    "    \n",
    "    # Kruskal Wallis Test\n",
    "    stat,p_value = stats.kruskal(*samples)\n",
    "    \n",
    "    result = pd.DataFrame({\n",
    "        \"Test Type\": [\"Non Parametric\"],\n",
    "        \"Kruskal Statistic\": [stat],\n",
    "        \"P-Value\": [p_value],\n",
    "        \"Hypothesis\": [\"Strong Evidence to Reject Null Hypothesis\" if p_value < 0.05 else \"No Evidence to Reject Null Hypothesis\"],\n",
    "        \"Comment\": [\"Different distributions\" if p_value < 0.05 else \"No evidence of different distributions\"]\n",
    "    })\n",
    "\n",
    "    return result\n"
   ]
  },
  {
   "cell_type": "code",
   "execution_count": 13,
   "id": "7c67822b",
   "metadata": {
    "execution": {
     "iopub.execute_input": "2024-01-27T01:50:49.933228Z",
     "iopub.status.busy": "2024-01-27T01:50:49.932564Z",
     "iopub.status.idle": "2024-01-27T01:50:49.952597Z",
     "shell.execute_reply": "2024-01-27T01:50:49.951520Z"
    },
    "papermill": {
     "duration": 0.055433,
     "end_time": "2024-01-27T01:50:49.954722",
     "exception": false,
     "start_time": "2024-01-27T01:50:49.899289",
     "status": "completed"
    },
    "tags": []
   },
   "outputs": [
    {
     "data": {
      "text/html": [
       "<div>\n",
       "<style scoped>\n",
       "    .dataframe tbody tr th:only-of-type {\n",
       "        vertical-align: middle;\n",
       "    }\n",
       "\n",
       "    .dataframe tbody tr th {\n",
       "        vertical-align: top;\n",
       "    }\n",
       "\n",
       "    .dataframe thead th {\n",
       "        text-align: right;\n",
       "    }\n",
       "</style>\n",
       "<table border=\"1\" class=\"dataframe\">\n",
       "  <thead>\n",
       "    <tr style=\"text-align: right;\">\n",
       "      <th></th>\n",
       "      <th>Test Type</th>\n",
       "      <th>Kruskal Statistic</th>\n",
       "      <th>P-Value</th>\n",
       "      <th>Hypothesis</th>\n",
       "      <th>Comment</th>\n",
       "    </tr>\n",
       "  </thead>\n",
       "  <tbody>\n",
       "    <tr>\n",
       "      <th>0</th>\n",
       "      <td>Non Parametric</td>\n",
       "      <td>699.6669</td>\n",
       "      <td>0.0000</td>\n",
       "      <td>Strong Evidence to Reject Null Hypothesis</td>\n",
       "      <td>Different distributions</td>\n",
       "    </tr>\n",
       "  </tbody>\n",
       "</table>\n",
       "</div>"
      ],
      "text/plain": [
       "        Test Type  Kruskal Statistic  P-Value  \\\n",
       "0  Non Parametric           699.6669   0.0000   \n",
       "\n",
       "                                  Hypothesis                  Comment  \n",
       "0  Strong Evidence to Reject Null Hypothesis  Different distributions  "
      ]
     },
     "execution_count": 13,
     "metadata": {},
     "output_type": "execute_result"
    }
   ],
   "source": [
    "kruskal_wallis(data,\"season\",\"count\")"
   ]
  },
  {
   "cell_type": "markdown",
   "id": "b2c61a96",
   "metadata": {
    "papermill": {
     "duration": 0.031734,
     "end_time": "2024-01-27T01:50:50.018604",
     "exception": false,
     "start_time": "2024-01-27T01:50:49.986870",
     "status": "completed"
    },
    "tags": []
   },
   "source": [
    "As above test results in Different Distribution so, we now try to find the specific seasons that differ from each other!\n",
    "\n",
    "- To find above groups we conduct an Post-hoc Analysis which provides us with the groups \n",
    "\n",
    "For that we conduct the **Dunn's Test** \n",
    "****\n",
    "**Dunn Test :**\n",
    "\n",
    "   - If the results of a \"Kruskal-Wallis\" test are statistically significant, then it’s appropriate to conduct Dunn’s Test to determine exactly which groups are different. \n",
    "   - Dunn’s Test performs pairwise comparisons between each independent group and tells you which groups are statistically significantly different at some level of αlpha.\n",
    " \n",
    "Whenever we make multiple comparisons at once, it is important to control the **family-wise error rate**. One way to do so is to adjust the p-values that results from the multiple comparisons.There are several ways to adjust the p-values, but the two most common adjustment methods are:\n",
    "\n",
    "**1. The Bonferroni Adjustment**✅\n",
    "\n",
    "**Adjusted p-value = p*m**\n",
    "\n",
    "**where:**\n",
    "\n",
    "p: The original p-value\n",
    "\n",
    "m: The total number of comparisons being made\n",
    "\n",
    "**2. The Sidak Adjustment**\n",
    "\n",
    "**Adjusted p-value = 1 – (1-p)m**\n",
    "\n",
    "**where:**\n",
    "\n",
    "p: The original p-value\n",
    "\n",
    "m: The total number of comparisons being made\n",
    "  \n",
    "\n",
    "**Note**: Above Info is taken from https://www.statology.org/dunns-test/"
   ]
  },
  {
   "cell_type": "code",
   "execution_count": 16,
   "id": "6f461a79",
   "metadata": {
    "execution": {
     "iopub.execute_input": "2024-01-27T01:50:50.085146Z",
     "iopub.status.busy": "2024-01-27T01:50:50.084539Z",
     "iopub.status.idle": "2024-01-27T01:51:03.169665Z",
     "shell.execute_reply": "2024-01-27T01:51:03.168636Z"
    },
    "papermill": {
     "duration": 13.121609,
     "end_time": "2024-01-27T01:51:03.172249",
     "exception": false,
     "start_time": "2024-01-27T01:50:50.050640",
     "status": "completed"
    },
    "tags": []
   },
   "outputs": [
    {
     "name": "stdout",
     "output_type": "stream",
     "text": [
      "Collecting scikit_posthocs\n",
      "  Downloading scikit_posthocs-0.9.0-py3-none-any.whl.metadata (5.8 kB)\n",
      "Requirement already satisfied: numpy in e:\\anaconda\\envs\\cv\\lib\\site-packages (from scikit_posthocs) (1.26.4)\n",
      "Requirement already satisfied: scipy>=1.9.0 in e:\\anaconda\\envs\\cv\\lib\\site-packages (from scikit_posthocs) (1.10.1)\n",
      "Collecting statsmodels (from scikit_posthocs)\n",
      "  Downloading statsmodels-0.14.2-cp39-cp39-win_amd64.whl.metadata (9.5 kB)\n",
      "Requirement already satisfied: pandas>=0.20.0 in e:\\anaconda\\envs\\cv\\lib\\site-packages (from scikit_posthocs) (1.4.4)\n",
      "Requirement already satisfied: seaborn in e:\\anaconda\\envs\\cv\\lib\\site-packages (from scikit_posthocs) (0.12.2)\n",
      "Requirement already satisfied: matplotlib in e:\\anaconda\\envs\\cv\\lib\\site-packages (from scikit_posthocs) (3.6.3)\n",
      "Requirement already satisfied: python-dateutil>=2.8.1 in e:\\anaconda\\envs\\cv\\lib\\site-packages (from pandas>=0.20.0->scikit_posthocs) (2.8.2)\n",
      "Requirement already satisfied: pytz>=2020.1 in e:\\anaconda\\envs\\cv\\lib\\site-packages (from pandas>=0.20.0->scikit_posthocs) (2023.3.post1)\n",
      "Requirement already satisfied: contourpy>=1.0.1 in e:\\anaconda\\envs\\cv\\lib\\site-packages (from matplotlib->scikit_posthocs) (1.1.1)\n",
      "Requirement already satisfied: cycler>=0.10 in e:\\anaconda\\envs\\cv\\lib\\site-packages (from matplotlib->scikit_posthocs) (0.12.1)\n",
      "Requirement already satisfied: fonttools>=4.22.0 in e:\\anaconda\\envs\\cv\\lib\\site-packages (from matplotlib->scikit_posthocs) (4.47.0)\n",
      "Requirement already satisfied: kiwisolver>=1.0.1 in e:\\anaconda\\envs\\cv\\lib\\site-packages (from matplotlib->scikit_posthocs) (1.4.5)\n",
      "Requirement already satisfied: packaging>=20.0 in e:\\anaconda\\envs\\cv\\lib\\site-packages (from matplotlib->scikit_posthocs) (23.2)\n",
      "Requirement already satisfied: pillow>=6.2.0 in e:\\anaconda\\envs\\cv\\lib\\site-packages (from matplotlib->scikit_posthocs) (10.1.0)\n",
      "Requirement already satisfied: pyparsing>=2.2.1 in e:\\anaconda\\envs\\cv\\lib\\site-packages (from matplotlib->scikit_posthocs) (3.1.1)\n",
      "Collecting patsy>=0.5.6 (from statsmodels->scikit_posthocs)\n",
      "  Downloading patsy-0.5.6-py2.py3-none-any.whl.metadata (3.5 kB)\n",
      "Requirement already satisfied: six in e:\\anaconda\\envs\\cv\\lib\\site-packages (from patsy>=0.5.6->statsmodels->scikit_posthocs) (1.16.0)\n",
      "Downloading scikit_posthocs-0.9.0-py3-none-any.whl (32 kB)\n",
      "Downloading statsmodels-0.14.2-cp39-cp39-win_amd64.whl (9.9 MB)\n",
      "   ---------------------------------------- 0.0/9.9 MB ? eta -:--:--\n",
      "   ---------------------------------------- 0.0/9.9 MB 1.4 MB/s eta 0:00:08\n",
      "   ---------------------------------------- 0.1/9.9 MB 1.2 MB/s eta 0:00:09\n",
      "    --------------------------------------- 0.2/9.9 MB 1.5 MB/s eta 0:00:07\n",
      "    --------------------------------------- 0.2/9.9 MB 1.5 MB/s eta 0:00:07\n",
      "   - -------------------------------------- 0.5/9.9 MB 2.4 MB/s eta 0:00:04\n",
      "   -- ------------------------------------- 0.7/9.9 MB 2.8 MB/s eta 0:00:04\n",
      "   --- ------------------------------------ 1.0/9.9 MB 3.3 MB/s eta 0:00:03\n",
      "   ----- ---------------------------------- 1.4/9.9 MB 4.0 MB/s eta 0:00:03\n",
      "   -------- ------------------------------- 2.2/9.9 MB 5.6 MB/s eta 0:00:02\n",
      "   ----------- ---------------------------- 2.9/9.9 MB 6.9 MB/s eta 0:00:02\n",
      "   ---------------- ----------------------- 4.1/9.9 MB 8.4 MB/s eta 0:00:01\n",
      "   -------------------- ------------------- 5.1/9.9 MB 9.6 MB/s eta 0:00:01\n",
      "   -------------------------- ------------- 6.5/9.9 MB 11.6 MB/s eta 0:00:01\n",
      "   --------------------------- ------------ 6.9/9.9 MB 11.6 MB/s eta 0:00:01\n",
      "   --------------------------- ------------ 6.9/9.9 MB 11.6 MB/s eta 0:00:01\n",
      "   ------------------------------ --------- 7.4/9.9 MB 10.8 MB/s eta 0:00:01\n",
      "   ---------------------------------- ----- 8.5/9.9 MB 11.1 MB/s eta 0:00:01\n",
      "   -------------------------------------- - 9.5/9.9 MB 11.6 MB/s eta 0:00:01\n",
      "   ---------------------------------------  9.8/9.9 MB 11.7 MB/s eta 0:00:01\n",
      "   ---------------------------------------- 9.9/9.9 MB 11.3 MB/s eta 0:00:00\n",
      "Downloading patsy-0.5.6-py2.py3-none-any.whl (233 kB)\n",
      "   ---------------------------------------- 0.0/233.9 kB ? eta -:--:--\n",
      "   ---------------------------------------- 233.9/233.9 kB ? eta 0:00:00\n",
      "Installing collected packages: patsy, statsmodels, scikit_posthocs\n",
      "Successfully installed patsy-0.5.6 scikit_posthocs-0.9.0 statsmodels-0.14.2\n",
      "Could not fetch URL https://pypi.org/simple/pip/: There was a problem confirming the ssl certificate: HTTPSConnectionPool(host='pypi.org', port=443): Max retries exceeded with url: /simple/pip/ (Caused by SSLError(SSLZeroReturnError(6, 'TLS/SSL connection has been closed (EOF) (_ssl.c:1129)'))) - skipping\n"
     ]
    }
   ],
   "source": [
    "!pip install scikit_posthocs"
   ]
  },
  {
   "cell_type": "code",
   "execution_count": 16,
   "id": "87f5b683",
   "metadata": {
    "execution": {
     "iopub.execute_input": "2024-01-27T01:51:03.240000Z",
     "iopub.status.busy": "2024-01-27T01:51:03.239592Z",
     "iopub.status.idle": "2024-01-27T01:51:03.344476Z",
     "shell.execute_reply": "2024-01-27T01:51:03.343171Z"
    },
    "papermill": {
     "duration": 0.141882,
     "end_time": "2024-01-27T01:51:03.346935",
     "exception": false,
     "start_time": "2024-01-27T01:51:03.205053",
     "status": "completed"
    },
    "tags": []
   },
   "outputs": [
    {
     "name": "stdout",
     "output_type": "stream",
     "text": [
      "   index      1      2      3      4\n",
      "0      1 1.0000 0.0000 0.0000 0.0000\n",
      "1      2 0.0000 1.0000 0.0002 0.1782\n",
      "2      3 0.0000 0.0002 1.0000 0.0000\n",
      "3      4 0.0000 0.1782 0.0000 1.0000\n"
     ]
    }
   ],
   "source": [
    "import scikit_posthocs as sp\n",
    "def dunn_posthoc_test(data, group, target):\n",
    "    # Pairwise post-hoc test after Kruskal\n",
    "    pairwise_results = sp.posthoc_dunn(data, val_col=target, group_col=group, p_adjust='bonferroni')\n",
    "\n",
    "    return pairwise_results\n",
    "\n",
    "posthoc_results = dunn_posthoc_test(data, \"season\", \"count\")\n",
    "\n",
    "print(posthoc_results.reset_index())\n"
   ]
  },
  {
   "cell_type": "code",
   "execution_count": null,
   "id": "eadf1c13",
   "metadata": {},
   "outputs": [],
   "source": [
    "# 转换为DataFrame\n",
    "df = pd.DataFrame(data)\n",
    "\n",
    "\n",
    "posthoc_results.to_csv('dunn_test_results.csv', index=False)"
   ]
  },
  {
   "cell_type": "markdown",
   "id": "118f20b2",
   "metadata": {
    "papermill": {
     "duration": 0.032692,
     "end_time": "2024-01-27T01:51:03.412581",
     "exception": false,
     "start_time": "2024-01-27T01:51:03.379889",
     "status": "completed"
    },
    "tags": []
   },
   "source": [
    "**Pairs of Groups that are causing the Difference are.....**\n",
    "1. Group 1 and Group 2\n",
    "2. Group 1 and Group 3\n",
    "3. Group 1 and Group 4\n",
    "4. Group 2 and Group 3\n",
    "5. Group 3 and Group 4\n",
    "\n",
    "\n",
    "**All the Pairs who have values less than aplha = 0.05 are leading to the difference**\n"
   ]
  },
  {
   "attachments": {},
   "cell_type": "markdown",
   "id": "59bf2f61",
   "metadata": {
    "papermill": {
     "duration": 0.032985,
     "end_time": "2024-01-27T01:51:03.478355",
     "exception": false,
     "start_time": "2024-01-27T01:51:03.445370",
     "status": "completed"
    },
    "tags": []
   },
   "source": [
    "**Answer 2 : Number of cycles rented are different in different seasons**  \n",
    "****"
   ]
  },
  {
   "cell_type": "markdown",
   "id": "077fbe6b",
   "metadata": {
    "papermill": {
     "duration": 0.033477,
     "end_time": "2024-01-27T01:51:03.544368",
     "exception": false,
     "start_time": "2024-01-27T01:51:03.510891",
     "status": "completed"
    },
    "tags": []
   },
   "source": [
    "### Problem 3: No. of cycles rented similar or different in different weather\n",
    "\n",
    "**Null Hypothesis H0 : Number of cycles rented are similar in different weather**\n",
    "\n",
    "**Alternate Hypothesis H1 : Number of cycles are different in different weather**\n",
    "\n",
    "\n",
    "Weather: \n",
    "\n",
    "1: Clear, Few clouds, partly cloudy, partly cloudy \n",
    "\n",
    "2: Mist + Cloudy, Mist + Broken clouds, Mist + Few clouds, Mist \n",
    "\n",
    "3: Light Snow, Light Rain + Thunderstorm + Scattered clouds, Light Rain + Scattered clouds \n",
    "\n",
    "4: Heavy Rain + Ice Pallets + Thunderstorm + Mist, Snow + Fog\n",
    "\n",
    "**Just like above we will perform Kruskal-Wallis Test**"
   ]
  },
  {
   "cell_type": "code",
   "execution_count": 19,
   "id": "4ff1d653",
   "metadata": {
    "execution": {
     "iopub.execute_input": "2024-01-27T01:51:03.612462Z",
     "iopub.status.busy": "2024-01-27T01:51:03.611699Z",
     "iopub.status.idle": "2024-01-27T01:51:03.630844Z",
     "shell.execute_reply": "2024-01-27T01:51:03.629787Z"
    },
    "papermill": {
     "duration": 0.055594,
     "end_time": "2024-01-27T01:51:03.633028",
     "exception": false,
     "start_time": "2024-01-27T01:51:03.577434",
     "status": "completed"
    },
    "tags": []
   },
   "outputs": [],
   "source": [
    "kruskal_wallis(data,\"weather\",\"count\")\n",
    "\n",
    "# 转换为DataFrame\n",
    "df = pd.DataFrame(data)\n",
    "# 进行检验并获取结果\n",
    "result_df = kruskal_wallis(data,\"weather\",\"count\")\n",
    "\n",
    "# 将结果保存到CSV文件\n",
    "result_df.to_csv('weather.csv', index=False)\n"
   ]
  },
  {
   "cell_type": "code",
   "execution_count": 20,
   "id": "7f3d8290",
   "metadata": {
    "execution": {
     "iopub.execute_input": "2024-01-27T01:51:03.702957Z",
     "iopub.status.busy": "2024-01-27T01:51:03.702268Z",
     "iopub.status.idle": "2024-01-27T01:51:03.722311Z",
     "shell.execute_reply": "2024-01-27T01:51:03.721154Z"
    },
    "papermill": {
     "duration": 0.057239,
     "end_time": "2024-01-27T01:51:03.724494",
     "exception": false,
     "start_time": "2024-01-27T01:51:03.667255",
     "status": "completed"
    },
    "tags": []
   },
   "outputs": [
    {
     "name": "stdout",
     "output_type": "stream",
     "text": [
      "结果已保存到 dunn_test_results.csv\n"
     ]
    }
   ],
   "source": [
    "dunn_posthoc_test(data,\"weather\",\"count\")\n",
    "\n",
    "\n",
    "# 将结果重置索引\n",
    "posthoc_results = posthoc_results.reset_index()\n",
    "\n",
    "# 将结果保存到CSV文件\n",
    "posthoc_results.to_csv('dunn_test_results.csv', index=False)\n",
    "\n",
    "print(\"结果已保存到 dunn_test_results.csv\")"
   ]
  },
  {
   "cell_type": "markdown",
   "id": "4870e962",
   "metadata": {
    "papermill": {
     "duration": 0.033907,
     "end_time": "2024-01-27T01:51:03.791454",
     "exception": false,
     "start_time": "2024-01-27T01:51:03.757547",
     "status": "completed"
    },
    "tags": []
   },
   "source": [
    "**Yup, due to low amount of data of Heavy Rain it might lead to some change in result but still the groups that led the difference are:**\n",
    "\n",
    "1. Group 1 and Group 2\n",
    "2. Group 1 and Group 3\n",
    "3. Group 2 and Group 3"
   ]
  },
  {
   "cell_type": "markdown",
   "id": "062bd2fe",
   "metadata": {
    "papermill": {
     "duration": 0.033091,
     "end_time": "2024-01-27T01:51:03.857722",
     "exception": false,
     "start_time": "2024-01-27T01:51:03.824631",
     "status": "completed"
    },
    "tags": []
   },
   "source": [
    "**Answer 3 : Number of cycles rented are different in different weather**\n",
    "****"
   ]
  }
 ],
 "metadata": {
  "kaggle": {
   "accelerator": "none",
   "dataSources": [
    {
     "datasetId": 2964979,
     "sourceId": 5105543,
     "sourceType": "datasetVersion"
    }
   ],
   "isGpuEnabled": false,
   "isInternetEnabled": true,
   "language": "python",
   "sourceType": "notebook"
  },
  "kernelspec": {
   "display_name": "Python 3",
   "language": "python",
   "name": "python3"
  },
  "language_info": {
   "codemirror_mode": {
    "name": "ipython",
    "version": 3
   },
   "file_extension": ".py",
   "mimetype": "text/x-python",
   "name": "python",
   "nbconvert_exporter": "python",
   "pygments_lexer": "ipython3",
   "version": "3.9.18"
  },
  "papermill": {
   "default_parameters": {},
   "duration": 44.923024,
   "end_time": "2024-01-27T01:51:05.219482",
   "environment_variables": {},
   "exception": null,
   "input_path": "__notebook__.ipynb",
   "output_path": "__notebook__.ipynb",
   "parameters": {},
   "start_time": "2024-01-27T01:50:20.296458",
   "version": "2.4.0"
  }
 },
 "nbformat": 4,
 "nbformat_minor": 5
}
