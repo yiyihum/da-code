{
 "cells": [
  {
   "cell_type": "markdown",
   "id": "76a1ee04",
   "metadata": {},
   "source": [
    "# Project Background. \n",
    "\n",
    "Income inequality which occurs when income is distributed unevenly in the population has been a growing problem in developing nations across the world.\n",
    "\n",
    "## Income inequality in the United States.\n",
    "\n",
    "A report by [The Pew Research Centre](https://www.pewresearch.org/social-trends/2020/01/09/trends-in-income-and-wealth-inequality/) in 2020 found that:\n",
    "* The rise in economic inequality in the U.S. is tied to several factors. These include, in no particular order, technological change, globalization, the decline of unions and the eroding value of the minimum wage. \n",
    "\n",
    "* The Congressional Budget Office (CBO) utilizes the Gini coefficient to determine income inequality and found that in 2016 the income inequality had increased by about 20% from 1980 to 2016 reflecting a substantial increase in income inequality.\n",
    "\n",
    "* In 2018, the median income of U.S. households stood at $74,600.5 This was 49% higher than its level in 1970, when the median income was $50,200.\n",
    "\n",
    "* Most of the increase in household income was achieved in the period from 1970 to 2000. In these three decades, the median income increased by 41%, to $70,800, at an annual average rate of 1.2%. \n",
    "\n",
    "* From 2000 to 2018, the growth in household income slowed to an annual average rate of only 0.3%. If there had been no such slowdown and incomes had continued to increase in this century at the same rate as from 1970 to 2000, the current median U.S. household income would be about $87,000, considerably higher than its actual level of $74,600.\n",
    "\n",
    "* The shortfall in household income is attributable in part to two recessions since 2000. The first recession, lasting from March 2001 to November 2001, was relatively short-lived.7 Yet household incomes were slow to recover from the 2001 recession and it was not until 2007 that the median income was restored to about its level in 2000.\n",
    "\n",
    "* But 2007 also marked the onset of the Great Recession, and that delivered another blow to household incomes. This time it took until 2015 for incomes to approach their pre-recession level. Indeed, the median household income in 2015 – $70,200 – was no higher than its level in 2000, marking a 15-year period of stagnation, an episode of unprecedented duration in the past five decades.\n",
    "\n",
    "* More recent trends in household income suggest that the effects of the Great Recession may finally be in the past. From 2015 to 2018, the median U.S. household income increased from $70,200 to $74,600, at an annual average rate of 2.1%. This is substantially greater than the average rate of growth from 1970 to 2000 and more in line with the economic expansion in the 1980s and the dot-com bubble era of the late 1990s.\n",
    "\n",
    "* Even with the substantial income inequality the share of adults in the upper-income tier increased from 14% to 20%. Meanwhile, the share in the lower-income tier increased from 25% to 29% however the share of American adults who live in middle-income households has decreased from 61% in 1971 to 51% in 2019.\n",
    "\n",
    "* The middle-class incomes have not grown at the rate of upper-tier incomes. From 1970 to 2018, the median middle-class income increased from $58,100 to $86,600, a gain of 49%.10 This was considerably less than the 64% increase for upper-income households, whose median income increased from $126,100 in 1970 to $207,400 in 2018. Households in the lower-income tier experienced a gain of 43%, from $20,000 in 1970 to $28,700 in 2018. (Incomes are expressed in 2018 dollars.)\n",
    "\n",
    "* From 1981 to 1990, the change in mean family income ranged from a loss of 0.1% annually for families in the lowest quintile (the bottom 20% of earners) to a gain of 2.1% annually for families in the highest quintile (the top 20%). The top 5% of families, who are part of the highest quintile, fared even better – their income increased at the rate of 3.2% annually from 1981 to 1990. Thus, the 1980s marked the beginning of a long and steady rise in income inequality.\n",
    "\n",
    "## Income Inequality in Kenya.\n",
    "\n",
    "An Oxfarm report stated that the four wealthiest Kenyans have more wealth than 22 million poor kenyans and that the gap increases even during economic downturns brought about by Covid and drought. In Kenya, this is thought to be as a result of tax incentives, tax evasion and corruption.  Meanwhile for the poor, heavy taxation, rising fuel and power costs, and rising basic commodity prices sank them ever deeper into poverty. \n",
    "\n",
    "The official report by [Oxfarm](https://www.google.com/url?sa=t&rct=j&q=&esrc=s&source=web&cd=&cad=rja&uact=8&ved=2ahUKEwifoO2Z78qDAxU09QIHHclCAaUQFnoECBQQAQ&url=https%3A%2F%2Fwww.oxfam.org%2Fen%2Fkenya-extreme-inequality-numbers&usg=AOvVaw25I18tAPak_V_TZ_euXNz9&opi=89978449) presented the following:\n",
    "* The gap between the richest and poorest has reached extreme levels in Kenya. Less than 0.1% of the population (8,300 people) own more wealth than the bottom 99.9% (more than 44 million people). The richest 10% of people in Kenya earned on average 23 times more than the poorest 10%.\n",
    "\n",
    "* The number of super-rich in Kenya is one of the fastest growing in the world. It is predicted that the number of millionaires will grow by 80% over the next 10 years, with 7,500 new millionaires set to be created.\n",
    "\n",
    "* Corporate tax dodging is undermining Kenya’s tax base. Kenya is losing $1.1bn a year to tax exemptions and incentives – almost twice what the government spends on its entire health budget in 2015/16, in a country where mothers face a 1 in 40 chance of dying in childbirth.\n",
    "\n",
    "* Unequal access to opportunities, such as healthcare and education, is rife. Nearly one million primary school-aged children are still out-of-school – the ninth highest number of any country in the world. Kenya's level of spending for education has gradually fallen each year since the early 2000s.\n",
    "\n",
    "* Despite some improvements in health status over the last decade, the government spends only 6% of its budget on health. A quarter of the Kenyan population regularly lack access to healthcare. A recent study estimated that nearly 2.6 million people fall into poverty or remain poor due to ill health each year.\n",
    "\n",
    "* Gender inequality is prevalent in Kenya. Economic policy is not only creating extreme inequality, but also holding back women's economic empowerment. For example, despite 96% of Kenya’s rural women population working on farms, only 6% of the women in Kenya hold a title to land.\n"
   ]
  },
  {
   "cell_type": "markdown",
   "id": "d26e883a",
   "metadata": {},
   "source": [
    "# Analysis Objective.\n",
    "\n",
    "The objective of this challenge is to create a machine learning model to predict whether an individual earns above or below a certain amount.\n",
    "\n",
    "This solution can potentially reduce the cost and improve the accuracy of monitoring key population indicators such as income level in between census years. This information will help policymakers to better manage and avoid income inequality globally."
   ]
  },
  {
   "cell_type": "markdown",
   "id": "df25dabf",
   "metadata": {},
   "source": [
    "# Key Evaluation Metrics.\n",
    "\n",
    "The error metric for this competition is the F1 score, which ranges from 0 (total failure) to 1 (perfect score). Hence, the closer your score is to 1, the better your model.\n",
    "\n",
    "F1 Score: A performance score that combines both precision and recall. It is a harmonic mean of these two variables. Formula is given as: 2*Precision*Recall/(Precision + Recall)\n",
    "\n",
    "Precision: This is an indicator of the number of items correctly identified as positive out of total items identified as positive. Formula is given as: TP/(TP+FP)\n",
    "\n",
    "Recall / Sensitivity / True Positive Rate (TPR): This is an indicator of the number of items correctly identified as positive out of total actual positives. Formula is given as: TP/(TP+FN)\n",
    "\n",
    "Where:\n",
    "\n",
    "TP=True Positive\n",
    "FP=False Positive\n",
    "TN=True Negative\n",
    "FN=False Negative\n",
    "The submission file is large and takes ~3 min to process, this time will increase when everyone makes a submission on the final day. Don't worry, as long as your file is submitted before the deadline it will be scored and taken into consideration.\n",
    "\n",
    "This is an example of what your submission file should look like.\n",
    "\n",
    "Where 1 indicates that the individual is above the limit and 0 indicates the individual is below the limit.\n",
    "\n",
    "ID            income_above_limit   \n",
    "ID_TZ209502   0  \n",
    "ID_TZ209511   1"
   ]
  },
  {
   "cell_type": "markdown",
   "id": "f4f9bb9e",
   "metadata": {},
   "source": [
    "# Data background.\n",
    "\n",
    "This data has been collected from a random population.\n",
    "\n",
    "There are ~200 000 individuals in train and ~100 000 individuals in the test file.\n",
    "\n",
    "The train & test data will be used to create a machine learning model to predict if an individual earns above 50 000 of a specific currency. \n",
    "\n",
    "The key variables are as follows:\n",
    "* Age.\n",
    "* Gender.\n",
    "* Education.\n",
    "* Class.\n",
    "* Education institute.\n",
    "* Marital status.\n",
    "* Race.\n",
    "* Is hispanic.\n",
    "* Employment commitment.\n",
    "* Unemployment reason.\n",
    "* Employment state.\n",
    "* Wage per hour.\n",
    "* Is part of labor union.\n",
    "* Working week per year.\n",
    "* Industry code.\n",
    "* Main Industry code. \n",
    "* Occupation code.\n",
    "* Main Occupation code.\n",
    "* Total employed.\n",
    "* Household stat.\n",
    "* Household summary.\n",
    "* Under 18 family.\n",
    "* Veterans adminquestionnaire.\n",
    "* Veteran benefit.\n",
    "* Tax status.\n",
    "* Gains.\n",
    "* Losses.\n",
    "* Stocks status.\n",
    "* Citizenship.\n",
    "* Migration year.\n",
    "* Country of birth own.\n",
    "* Country of birth father.\n",
    "* Country of birth mother.\n",
    "* Migration code change in msa.\n",
    "* Migration previous sunbelt.\n",
    "* Migration code move within registration.\n",
    "* Migration code change in registration.\n",
    "* Residence 1 year ago. \n",
    "* Old residence registration.\n",
    "* Old residence state.\n",
    "* Importance of record.\n",
    "* Income above limit.\n",
    "\n",
    "Based on the variables set up and the data target requirements, the analysis can be assumed to be based on 20th century American population data where the median income was about $ 50,000."
   ]
  },
  {
   "cell_type": "markdown",
   "id": "78a51304",
   "metadata": {},
   "source": [
    "## Why Predict Income?\n",
    "\n",
    "Income prediction extracts insights from individual and population-level data as it offers the ability to forecast income levels, assess financial risks, target marketing campaigns, and inform crucial decision-making in diverse spheres. However, ethical considerations, potential biases, and data privacy concerns demand careful attention alongside its undeniable benefits.\n",
    "\n",
    "### Applications in Specific Industries:\n",
    "\n",
    "### Finance:\n",
    "\n",
    "* Credit scoring and loan approval: Predicting income to assess risk and determine loan eligibility.\n",
    "* Fraud detection: Identifying suspicious financial activity based on income patterns.\n",
    "* Targeted marketing: Tailoring financial products and services to individuals based on predicted income.\n",
    "* Wealth management: Personalized investment strategies based on income potential and risk tolerance.\n",
    "\n",
    "### Healthcare:\n",
    "\n",
    "* Predicting healthcare costs and resource allocation based on patient income and demographics.\n",
    "* Identifying individuals at risk of financial hardship due to medical bills.\n",
    "* Developing targeted health insurance plans based on income segments.\n",
    "* Assessing eligibility for government healthcare programs.\n",
    "\n",
    "### Marketing and Retail:\n",
    "\n",
    "* Customer segmentation and targeted advertising based on predicted income groups.\n",
    "* Product pricing strategies tailored to different income segments.\n",
    "* Predicting customer lifetime value and optimizing marketing spend.\n",
    "* Identifying potential high-value customers based on income potential.\n",
    "\n",
    "### Human Resources:\n",
    "\n",
    "* Salary benchmarking and compensation planning based on industry standards and predicted income trends.\n",
    "* Predicting employee turnover risk based on job satisfaction and income-related factors.\n",
    "* Identifying and attracting top talent by offering competitive compensation packages.\n",
    "* Optimizing talent management strategies based on income potential and skillsets.\n",
    " \n",
    "### Public Policy:\n",
    "\n",
    "* Predicting tax revenue and allocating government resources based on income distribution.\n",
    "* Identifying individuals in need of social assistance programs based on income poverty.\n",
    "* Evaluating the effectiveness of government policies aimed at income inequality.\n",
    "* Designing progressive taxation systems based on predicted income levels.\n",
    "\n",
    "### Challenges and Considerations:\n",
    "\n",
    "* Data privacy and security concerns related to income information.\n",
    "* Potential for biases and discrimination based on income prediction models.\n",
    "* Explainability and transparency of income prediction algorithms.\n",
    "* The impact of income prediction on individual behavior and choices.\n"
   ]
  },
  {
   "cell_type": "code",
   "execution_count": 282,
   "id": "1823e660",
   "metadata": {},
   "outputs": [
    {
     "name": "stdout",
     "output_type": "stream",
     "text": [
      "Requirement already satisfied: scikit-learn in /Library/Frameworks/Python.framework/Versions/3.10/lib/python3.10/site-packages (1.3.0)\n",
      "Requirement already satisfied: numpy>=1.17.3 in /Library/Frameworks/Python.framework/Versions/3.10/lib/python3.10/site-packages (from scikit-learn) (1.25.1)\n",
      "Requirement already satisfied: scipy>=1.5.0 in /Library/Frameworks/Python.framework/Versions/3.10/lib/python3.10/site-packages (from scikit-learn) (1.11.1)\n",
      "Requirement already satisfied: joblib>=1.1.1 in /Library/Frameworks/Python.framework/Versions/3.10/lib/python3.10/site-packages (from scikit-learn) (1.3.1)\n",
      "Requirement already satisfied: threadpoolctl>=2.0.0 in /Library/Frameworks/Python.framework/Versions/3.10/lib/python3.10/site-packages (from scikit-learn) (3.2.0)\n",
      "Note: you may need to restart the kernel to use updated packages.\n"
     ]
    }
   ],
   "source": [
    "pip install scikit-learn"
   ]
  },
  {
   "cell_type": "code",
   "execution_count": 283,
   "id": "427514f6",
   "metadata": {},
   "outputs": [
    {
     "name": "stdout",
     "output_type": "stream",
     "text": [
      "Requirement already satisfied: termcolor in /Library/Frameworks/Python.framework/Versions/3.10/lib/python3.10/site-packages (2.4.0)\n",
      "Note: you may need to restart the kernel to use updated packages.\n"
     ]
    }
   ],
   "source": [
    "pip install termcolor"
   ]
  },
  {
   "cell_type": "code",
   "execution_count": 284,
   "id": "bf204e3f-b1f5-4117-bf3e-3dd825bb4cf4",
   "metadata": {},
   "outputs": [
    {
     "name": "stdout",
     "output_type": "stream",
     "text": [
      "Requirement already satisfied: plotly in /Library/Frameworks/Python.framework/Versions/3.10/lib/python3.10/site-packages (5.18.0)\n",
      "Requirement already satisfied: tenacity>=6.2.0 in /Library/Frameworks/Python.framework/Versions/3.10/lib/python3.10/site-packages (from plotly) (8.2.3)\n",
      "Requirement already satisfied: packaging in /Users/admin/Library/Python/3.10/lib/python/site-packages (from plotly) (23.1)\n",
      "Note: you may need to restart the kernel to use updated packages.\n"
     ]
    }
   ],
   "source": [
    "pip install plotly"
   ]
  },
  {
   "cell_type": "code",
   "execution_count": 285,
   "id": "1291521e-e87c-49b9-b744-372fc513cdb5",
   "metadata": {},
   "outputs": [
    {
     "name": "stdout",
     "output_type": "stream",
     "text": [
      "Requirement already satisfied: imblearn in /Library/Frameworks/Python.framework/Versions/3.10/lib/python3.10/site-packages (0.0)\n",
      "Requirement already satisfied: imbalanced-learn in /Library/Frameworks/Python.framework/Versions/3.10/lib/python3.10/site-packages (from imblearn) (0.11.0)\n",
      "Requirement already satisfied: numpy>=1.17.3 in /Library/Frameworks/Python.framework/Versions/3.10/lib/python3.10/site-packages (from imbalanced-learn->imblearn) (1.25.1)\n",
      "Requirement already satisfied: scipy>=1.5.0 in /Library/Frameworks/Python.framework/Versions/3.10/lib/python3.10/site-packages (from imbalanced-learn->imblearn) (1.11.1)\n",
      "Requirement already satisfied: scikit-learn>=1.0.2 in /Library/Frameworks/Python.framework/Versions/3.10/lib/python3.10/site-packages (from imbalanced-learn->imblearn) (1.3.0)\n",
      "Requirement already satisfied: joblib>=1.1.1 in /Library/Frameworks/Python.framework/Versions/3.10/lib/python3.10/site-packages (from imbalanced-learn->imblearn) (1.3.1)\n",
      "Requirement already satisfied: threadpoolctl>=2.0.0 in /Library/Frameworks/Python.framework/Versions/3.10/lib/python3.10/site-packages (from imbalanced-learn->imblearn) (3.2.0)\n",
      "Note: you may need to restart the kernel to use updated packages.\n"
     ]
    }
   ],
   "source": [
    "pip install imblearn"
   ]
  },
  {
   "cell_type": "code",
   "execution_count": 286,
   "id": "f112df0b",
   "metadata": {},
   "outputs": [
    {
     "name": "stdout",
     "output_type": "stream",
     "text": [
      "Requirement already satisfied: squarify in /Library/Frameworks/Python.framework/Versions/3.10/lib/python3.10/site-packages (0.4.3)\n",
      "Note: you may need to restart the kernel to use updated packages.\n"
     ]
    }
   ],
   "source": [
    "pip install squarify"
   ]
  },
  {
   "cell_type": "code",
   "execution_count": 287,
   "id": "97f7960f-8640-440d-9ee6-a20d64fe8282",
   "metadata": {},
   "outputs": [],
   "source": [
    "# Import data processing & analysis packages.\n",
    "\n",
    "## Data Processing.\n",
    "import pandas as pd\n",
    "import numpy as np\n",
    "import os\n",
    "\n",
    "## Data Visualisation.\n",
    "import matplotlib.pyplot as plt\n",
    "import seaborn as sns\n",
    "from termcolor import colored\n",
    "import plotly.express as px\n",
    "from matplotlib_venn import venn2\n",
    "\n",
    "## Machine Learning.\n",
    "\n",
    "from sklearn.model_selection import train_test_split\n",
    "from sklearn.metrics import f1_score,accuracy_score,classification_report\n",
    "from tqdm import tqdm\n",
    "from itertools import cycle\n",
    "from sklearn import metrics\n",
    "from sklearn import model_selection\n",
    "from sklearn import preprocessing\n",
    "from sklearn import feature_selection\n",
    "import squarify\n",
    "import imblearn\n",
    "\n",
    "## Warning indication.\n",
    "import warnings\n",
    "warnings.filterwarnings('always') "
   ]
  },
  {
   "cell_type": "markdown",
   "id": "aa648ee4",
   "metadata": {},
   "source": [
    "## Loading test and train datasets \n",
    "\n",
    "We will load the train and test datasets and do some basic level of EDA to understand the pattern of features in the data \n",
    "\n",
    "* <b> Train data: </b> This is the data which we will be using to train the model. Since we are solving a classification problem, we will have a column in train dataset corresponding to the target labels. \n",
    "* <b> Test data: </b> This is the data on which the predictions will be made based on the model trained on train dataset. "
   ]
  },
  {
   "cell_type": "code",
   "execution_count": 288,
   "id": "f903e3e1",
   "metadata": {},
   "outputs": [
    {
     "data": {
      "text/plain": [
       "'/Users/admin/Documents/Python Notebooks/Income Prediction.'"
      ]
     },
     "execution_count": 288,
     "metadata": {},
     "output_type": "execute_result"
    }
   ],
   "source": [
    "# Find data extraction path.\n",
    "\n",
    "os.getcwd()"
   ]
  },
  {
   "cell_type": "code",
   "execution_count": 289,
   "id": "4e382403-d6b8-466e-83cb-0f6a76bf1799",
   "metadata": {},
   "outputs": [
    {
     "name": "stdout",
     "output_type": "stream",
     "text": [
      "\u001b[1m\u001b[32mThe shape of train data is    (209499, 42)     \u001b[0m\n",
      "\u001b[1m\u001b[32mThe shape of target column is (209499, 1)\u001b[0m\n",
      "\u001b[1m\u001b[34mThe shape of test data is     (89786, 41)      \u001b[0m\n",
      "------------------------------------------------------------------------------\n",
      "\u001b[32mThe train data looks like below :- \n",
      "\u001b[0m\n"
     ]
    },
    {
     "data": {
      "text/html": [
       "<div>\n",
       "<style scoped>\n",
       "    .dataframe tbody tr th:only-of-type {\n",
       "        vertical-align: middle;\n",
       "    }\n",
       "\n",
       "    .dataframe tbody tr th {\n",
       "        vertical-align: top;\n",
       "    }\n",
       "\n",
       "    .dataframe thead th {\n",
       "        text-align: right;\n",
       "    }\n",
       "</style>\n",
       "<table border=\"1\" class=\"dataframe\">\n",
       "  <thead>\n",
       "    <tr style=\"text-align: right;\">\n",
       "      <th></th>\n",
       "      <th>age</th>\n",
       "      <th>gender</th>\n",
       "      <th>education</th>\n",
       "      <th>class</th>\n",
       "      <th>education_institute</th>\n",
       "      <th>marital_status</th>\n",
       "      <th>race</th>\n",
       "      <th>is_hispanic</th>\n",
       "      <th>employment_commitment</th>\n",
       "      <th>unemployment_reason</th>\n",
       "      <th>employment_stat</th>\n",
       "      <th>wage_per_hour</th>\n",
       "      <th>is_labor_union</th>\n",
       "      <th>working_week_per_year</th>\n",
       "      <th>industry_code</th>\n",
       "      <th>industry_code_main</th>\n",
       "      <th>occupation_code</th>\n",
       "      <th>occupation_code_main</th>\n",
       "      <th>total_employed</th>\n",
       "      <th>household_stat</th>\n",
       "      <th>household_summary</th>\n",
       "      <th>under_18_family</th>\n",
       "      <th>veterans_admin_questionnaire</th>\n",
       "      <th>vet_benefit</th>\n",
       "      <th>tax_status</th>\n",
       "      <th>gains</th>\n",
       "      <th>losses</th>\n",
       "      <th>stocks_status</th>\n",
       "      <th>citizenship</th>\n",
       "      <th>mig_year</th>\n",
       "      <th>country_of_birth_own</th>\n",
       "      <th>country_of_birth_father</th>\n",
       "      <th>country_of_birth_mother</th>\n",
       "      <th>migration_code_change_in_msa</th>\n",
       "      <th>migration_prev_sunbelt</th>\n",
       "      <th>migration_code_move_within_reg</th>\n",
       "      <th>migration_code_change_in_reg</th>\n",
       "      <th>residence_1_year_ago</th>\n",
       "      <th>old_residence_reg</th>\n",
       "      <th>old_residence_state</th>\n",
       "      <th>importance_of_record</th>\n",
       "      <th>income_above_limit</th>\n",
       "    </tr>\n",
       "  </thead>\n",
       "  <tbody>\n",
       "    <tr>\n",
       "      <th>0</th>\n",
       "      <td>79</td>\n",
       "      <td>Female</td>\n",
       "      <td>High school graduate</td>\n",
       "      <td>NaN</td>\n",
       "      <td>NaN</td>\n",
       "      <td>Widowed</td>\n",
       "      <td>White</td>\n",
       "      <td>All other</td>\n",
       "      <td>Not in labor force</td>\n",
       "      <td>NaN</td>\n",
       "      <td>0</td>\n",
       "      <td>0</td>\n",
       "      <td>NaN</td>\n",
       "      <td>52</td>\n",
       "      <td>0</td>\n",
       "      <td>Not in universe or children</td>\n",
       "      <td>0</td>\n",
       "      <td>NaN</td>\n",
       "      <td>2</td>\n",
       "      <td>Householder</td>\n",
       "      <td>Householder</td>\n",
       "      <td>NaN</td>\n",
       "      <td>NaN</td>\n",
       "      <td>2</td>\n",
       "      <td>Head of household</td>\n",
       "      <td>0</td>\n",
       "      <td>0</td>\n",
       "      <td>292</td>\n",
       "      <td>Native</td>\n",
       "      <td>95</td>\n",
       "      <td>US</td>\n",
       "      <td>US</td>\n",
       "      <td>US</td>\n",
       "      <td>?</td>\n",
       "      <td>?</td>\n",
       "      <td>?</td>\n",
       "      <td>?</td>\n",
       "      <td>NaN</td>\n",
       "      <td>NaN</td>\n",
       "      <td>NaN</td>\n",
       "      <td>1779.74</td>\n",
       "      <td>Below limit</td>\n",
       "    </tr>\n",
       "    <tr>\n",
       "      <th>1</th>\n",
       "      <td>65</td>\n",
       "      <td>Female</td>\n",
       "      <td>High school graduate</td>\n",
       "      <td>NaN</td>\n",
       "      <td>NaN</td>\n",
       "      <td>Widowed</td>\n",
       "      <td>White</td>\n",
       "      <td>All other</td>\n",
       "      <td>Children or Armed Forces</td>\n",
       "      <td>NaN</td>\n",
       "      <td>0</td>\n",
       "      <td>0</td>\n",
       "      <td>NaN</td>\n",
       "      <td>0</td>\n",
       "      <td>0</td>\n",
       "      <td>Not in universe or children</td>\n",
       "      <td>0</td>\n",
       "      <td>NaN</td>\n",
       "      <td>0</td>\n",
       "      <td>Nonfamily householder</td>\n",
       "      <td>Householder</td>\n",
       "      <td>NaN</td>\n",
       "      <td>NaN</td>\n",
       "      <td>2</td>\n",
       "      <td>Single</td>\n",
       "      <td>0</td>\n",
       "      <td>0</td>\n",
       "      <td>0</td>\n",
       "      <td>Native</td>\n",
       "      <td>94</td>\n",
       "      <td>US</td>\n",
       "      <td>US</td>\n",
       "      <td>US</td>\n",
       "      <td>unchanged</td>\n",
       "      <td>NaN</td>\n",
       "      <td>unchanged</td>\n",
       "      <td>unchanged</td>\n",
       "      <td>Same</td>\n",
       "      <td>NaN</td>\n",
       "      <td>NaN</td>\n",
       "      <td>2366.75</td>\n",
       "      <td>Below limit</td>\n",
       "    </tr>\n",
       "    <tr>\n",
       "      <th>2</th>\n",
       "      <td>21</td>\n",
       "      <td>Male</td>\n",
       "      <td>12th grade no diploma</td>\n",
       "      <td>Federal government</td>\n",
       "      <td>NaN</td>\n",
       "      <td>Never married</td>\n",
       "      <td>Black</td>\n",
       "      <td>All other</td>\n",
       "      <td>Children or Armed Forces</td>\n",
       "      <td>NaN</td>\n",
       "      <td>0</td>\n",
       "      <td>500</td>\n",
       "      <td>No</td>\n",
       "      <td>15</td>\n",
       "      <td>41</td>\n",
       "      <td>Hospital services</td>\n",
       "      <td>26</td>\n",
       "      <td>Adm support including clerical</td>\n",
       "      <td>4</td>\n",
       "      <td>Child 18+ never marr Not in a subfamily</td>\n",
       "      <td>Child 18 or older</td>\n",
       "      <td>NaN</td>\n",
       "      <td>NaN</td>\n",
       "      <td>2</td>\n",
       "      <td>Single</td>\n",
       "      <td>0</td>\n",
       "      <td>0</td>\n",
       "      <td>0</td>\n",
       "      <td>Native</td>\n",
       "      <td>94</td>\n",
       "      <td>US</td>\n",
       "      <td>US</td>\n",
       "      <td>US</td>\n",
       "      <td>unchanged</td>\n",
       "      <td>NaN</td>\n",
       "      <td>unchanged</td>\n",
       "      <td>unchanged</td>\n",
       "      <td>Same</td>\n",
       "      <td>NaN</td>\n",
       "      <td>NaN</td>\n",
       "      <td>1693.42</td>\n",
       "      <td>Below limit</td>\n",
       "    </tr>\n",
       "    <tr>\n",
       "      <th>3</th>\n",
       "      <td>2</td>\n",
       "      <td>Female</td>\n",
       "      <td>Children</td>\n",
       "      <td>NaN</td>\n",
       "      <td>NaN</td>\n",
       "      <td>Never married</td>\n",
       "      <td>Asian or Pacific Islander</td>\n",
       "      <td>All other</td>\n",
       "      <td>Children or Armed Forces</td>\n",
       "      <td>NaN</td>\n",
       "      <td>0</td>\n",
       "      <td>0</td>\n",
       "      <td>NaN</td>\n",
       "      <td>0</td>\n",
       "      <td>0</td>\n",
       "      <td>Not in universe or children</td>\n",
       "      <td>0</td>\n",
       "      <td>NaN</td>\n",
       "      <td>0</td>\n",
       "      <td>Child &lt;18 never marr not in subfamily</td>\n",
       "      <td>Child under 18 never married</td>\n",
       "      <td>Both parents present</td>\n",
       "      <td>NaN</td>\n",
       "      <td>0</td>\n",
       "      <td>Nonfiler</td>\n",
       "      <td>0</td>\n",
       "      <td>0</td>\n",
       "      <td>0</td>\n",
       "      <td>Native</td>\n",
       "      <td>94</td>\n",
       "      <td>US</td>\n",
       "      <td>India</td>\n",
       "      <td>India</td>\n",
       "      <td>unchanged</td>\n",
       "      <td>NaN</td>\n",
       "      <td>unchanged</td>\n",
       "      <td>unchanged</td>\n",
       "      <td>Same</td>\n",
       "      <td>NaN</td>\n",
       "      <td>NaN</td>\n",
       "      <td>1380.27</td>\n",
       "      <td>Below limit</td>\n",
       "    </tr>\n",
       "    <tr>\n",
       "      <th>4</th>\n",
       "      <td>70</td>\n",
       "      <td>Male</td>\n",
       "      <td>High school graduate</td>\n",
       "      <td>NaN</td>\n",
       "      <td>NaN</td>\n",
       "      <td>Married-civilian spouse present</td>\n",
       "      <td>White</td>\n",
       "      <td>All other</td>\n",
       "      <td>Not in labor force</td>\n",
       "      <td>NaN</td>\n",
       "      <td>0</td>\n",
       "      <td>0</td>\n",
       "      <td>NaN</td>\n",
       "      <td>0</td>\n",
       "      <td>0</td>\n",
       "      <td>Not in universe or children</td>\n",
       "      <td>0</td>\n",
       "      <td>NaN</td>\n",
       "      <td>0</td>\n",
       "      <td>Spouse of householder</td>\n",
       "      <td>Spouse of householder</td>\n",
       "      <td>NaN</td>\n",
       "      <td>NaN</td>\n",
       "      <td>2</td>\n",
       "      <td>Joint both 65+</td>\n",
       "      <td>0</td>\n",
       "      <td>0</td>\n",
       "      <td>0</td>\n",
       "      <td>Native</td>\n",
       "      <td>95</td>\n",
       "      <td>US</td>\n",
       "      <td>US</td>\n",
       "      <td>US</td>\n",
       "      <td>?</td>\n",
       "      <td>?</td>\n",
       "      <td>?</td>\n",
       "      <td>?</td>\n",
       "      <td>NaN</td>\n",
       "      <td>NaN</td>\n",
       "      <td>NaN</td>\n",
       "      <td>1580.79</td>\n",
       "      <td>Below limit</td>\n",
       "    </tr>\n",
       "  </tbody>\n",
       "</table>\n",
       "</div>"
      ],
      "text/plain": [
       "   age   gender               education                class  \\\n",
       "0   79   Female    High school graduate                  NaN   \n",
       "1   65   Female    High school graduate                  NaN   \n",
       "2   21     Male   12th grade no diploma   Federal government   \n",
       "3    2   Female                Children                  NaN   \n",
       "4   70     Male    High school graduate                  NaN   \n",
       "\n",
       "  education_institute                    marital_status  \\\n",
       "0                 NaN                           Widowed   \n",
       "1                 NaN                           Widowed   \n",
       "2                 NaN                     Never married   \n",
       "3                 NaN                     Never married   \n",
       "4                 NaN   Married-civilian spouse present   \n",
       "\n",
       "                         race is_hispanic      employment_commitment  \\\n",
       "0                       White   All other         Not in labor force   \n",
       "1                       White   All other   Children or Armed Forces   \n",
       "2                       Black   All other   Children or Armed Forces   \n",
       "3   Asian or Pacific Islander   All other   Children or Armed Forces   \n",
       "4                       White   All other         Not in labor force   \n",
       "\n",
       "  unemployment_reason  employment_stat  wage_per_hour is_labor_union  \\\n",
       "0                 NaN                0              0            NaN   \n",
       "1                 NaN                0              0            NaN   \n",
       "2                 NaN                0            500             No   \n",
       "3                 NaN                0              0            NaN   \n",
       "4                 NaN                0              0            NaN   \n",
       "\n",
       "   working_week_per_year  industry_code            industry_code_main  \\\n",
       "0                     52              0   Not in universe or children   \n",
       "1                      0              0   Not in universe or children   \n",
       "2                     15             41             Hospital services   \n",
       "3                      0              0   Not in universe or children   \n",
       "4                      0              0   Not in universe or children   \n",
       "\n",
       "   occupation_code             occupation_code_main  total_employed  \\\n",
       "0                0                              NaN               2   \n",
       "1                0                              NaN               0   \n",
       "2               26   Adm support including clerical               4   \n",
       "3                0                              NaN               0   \n",
       "4                0                              NaN               0   \n",
       "\n",
       "                             household_stat              household_summary  \\\n",
       "0                               Householder                    Householder   \n",
       "1                     Nonfamily householder                    Householder   \n",
       "2   Child 18+ never marr Not in a subfamily              Child 18 or older   \n",
       "3     Child <18 never marr not in subfamily   Child under 18 never married   \n",
       "4                     Spouse of householder          Spouse of householder   \n",
       "\n",
       "         under_18_family veterans_admin_questionnaire  vet_benefit  \\\n",
       "0                    NaN                          NaN            2   \n",
       "1                    NaN                          NaN            2   \n",
       "2                    NaN                          NaN            2   \n",
       "3   Both parents present                          NaN            0   \n",
       "4                    NaN                          NaN            2   \n",
       "\n",
       "           tax_status  gains  losses  stocks_status citizenship  mig_year  \\\n",
       "0   Head of household      0       0            292      Native        95   \n",
       "1              Single      0       0              0      Native        94   \n",
       "2              Single      0       0              0      Native        94   \n",
       "3            Nonfiler      0       0              0      Native        94   \n",
       "4      Joint both 65+      0       0              0      Native        95   \n",
       "\n",
       "  country_of_birth_own country_of_birth_father country_of_birth_mother  \\\n",
       "0                   US                      US                      US   \n",
       "1                   US                      US                      US   \n",
       "2                   US                      US                      US   \n",
       "3                   US                   India                   India   \n",
       "4                   US                      US                      US   \n",
       "\n",
       "  migration_code_change_in_msa migration_prev_sunbelt  \\\n",
       "0                            ?                      ?   \n",
       "1                    unchanged                    NaN   \n",
       "2                    unchanged                    NaN   \n",
       "3                    unchanged                    NaN   \n",
       "4                            ?                      ?   \n",
       "\n",
       "  migration_code_move_within_reg migration_code_change_in_reg  \\\n",
       "0                              ?                            ?   \n",
       "1                      unchanged                    unchanged   \n",
       "2                      unchanged                    unchanged   \n",
       "3                      unchanged                    unchanged   \n",
       "4                              ?                            ?   \n",
       "\n",
       "  residence_1_year_ago old_residence_reg old_residence_state  \\\n",
       "0                  NaN               NaN                 NaN   \n",
       "1                 Same               NaN                 NaN   \n",
       "2                 Same               NaN                 NaN   \n",
       "3                 Same               NaN                 NaN   \n",
       "4                  NaN               NaN                 NaN   \n",
       "\n",
       "   importance_of_record income_above_limit  \n",
       "0               1779.74        Below limit  \n",
       "1               2366.75        Below limit  \n",
       "2               1693.42        Below limit  \n",
       "3               1380.27        Below limit  \n",
       "4               1580.79        Below limit  "
      ]
     },
     "metadata": {},
     "output_type": "display_data"
    },
    {
     "name": "stdout",
     "output_type": "stream",
     "text": [
      "------------------------------------------------------------------------------\n",
      "\u001b[34mThe test data looks like below :- \n",
      "\u001b[0m\n"
     ]
    },
    {
     "data": {
      "text/html": [
       "<div>\n",
       "<style scoped>\n",
       "    .dataframe tbody tr th:only-of-type {\n",
       "        vertical-align: middle;\n",
       "    }\n",
       "\n",
       "    .dataframe tbody tr th {\n",
       "        vertical-align: top;\n",
       "    }\n",
       "\n",
       "    .dataframe thead th {\n",
       "        text-align: right;\n",
       "    }\n",
       "</style>\n",
       "<table border=\"1\" class=\"dataframe\">\n",
       "  <thead>\n",
       "    <tr style=\"text-align: right;\">\n",
       "      <th></th>\n",
       "      <th>age</th>\n",
       "      <th>gender</th>\n",
       "      <th>education</th>\n",
       "      <th>class</th>\n",
       "      <th>education_institute</th>\n",
       "      <th>marital_status</th>\n",
       "      <th>race</th>\n",
       "      <th>is_hispanic</th>\n",
       "      <th>employment_commitment</th>\n",
       "      <th>unemployment_reason</th>\n",
       "      <th>employment_stat</th>\n",
       "      <th>wage_per_hour</th>\n",
       "      <th>is_labor_union</th>\n",
       "      <th>working_week_per_year</th>\n",
       "      <th>industry_code</th>\n",
       "      <th>industry_code_main</th>\n",
       "      <th>occupation_code</th>\n",
       "      <th>occupation_code_main</th>\n",
       "      <th>total_employed</th>\n",
       "      <th>household_stat</th>\n",
       "      <th>household_summary</th>\n",
       "      <th>under_18_family</th>\n",
       "      <th>veterans_admin_questionnaire</th>\n",
       "      <th>vet_benefit</th>\n",
       "      <th>tax_status</th>\n",
       "      <th>gains</th>\n",
       "      <th>losses</th>\n",
       "      <th>stocks_status</th>\n",
       "      <th>citizenship</th>\n",
       "      <th>mig_year</th>\n",
       "      <th>country_of_birth_own</th>\n",
       "      <th>country_of_birth_father</th>\n",
       "      <th>country_of_birth_mother</th>\n",
       "      <th>migration_code_change_in_msa</th>\n",
       "      <th>migration_prev_sunbelt</th>\n",
       "      <th>migration_code_move_within_reg</th>\n",
       "      <th>migration_code_change_in_reg</th>\n",
       "      <th>residence_1_year_ago</th>\n",
       "      <th>old_residence_reg</th>\n",
       "      <th>old_residence_state</th>\n",
       "      <th>importance_of_record</th>\n",
       "    </tr>\n",
       "  </thead>\n",
       "  <tbody>\n",
       "    <tr>\n",
       "      <th>0</th>\n",
       "      <td>54</td>\n",
       "      <td>Male</td>\n",
       "      <td>High school graduate</td>\n",
       "      <td>Private</td>\n",
       "      <td>NaN</td>\n",
       "      <td>Married-civilian spouse present</td>\n",
       "      <td>White</td>\n",
       "      <td>All other</td>\n",
       "      <td>Children or Armed Forces</td>\n",
       "      <td>NaN</td>\n",
       "      <td>0</td>\n",
       "      <td>600</td>\n",
       "      <td>No</td>\n",
       "      <td>46</td>\n",
       "      <td>29</td>\n",
       "      <td>Transportation</td>\n",
       "      <td>38</td>\n",
       "      <td>Transportation and material moving</td>\n",
       "      <td>2</td>\n",
       "      <td>Householder</td>\n",
       "      <td>Householder</td>\n",
       "      <td>NaN</td>\n",
       "      <td>NaN</td>\n",
       "      <td>2</td>\n",
       "      <td>Joint both under 65</td>\n",
       "      <td>0</td>\n",
       "      <td>0</td>\n",
       "      <td>0</td>\n",
       "      <td>Native</td>\n",
       "      <td>94</td>\n",
       "      <td>US</td>\n",
       "      <td>US</td>\n",
       "      <td>US</td>\n",
       "      <td>unchanged</td>\n",
       "      <td>NaN</td>\n",
       "      <td>unchanged</td>\n",
       "      <td>unchanged</td>\n",
       "      <td>Same</td>\n",
       "      <td>NaN</td>\n",
       "      <td>NaN</td>\n",
       "      <td>3388.96</td>\n",
       "    </tr>\n",
       "    <tr>\n",
       "      <th>1</th>\n",
       "      <td>53</td>\n",
       "      <td>Male</td>\n",
       "      <td>5th or 6th grade</td>\n",
       "      <td>Private</td>\n",
       "      <td>NaN</td>\n",
       "      <td>Married-civilian spouse present</td>\n",
       "      <td>White</td>\n",
       "      <td>Central or South American</td>\n",
       "      <td>Full-time schedules</td>\n",
       "      <td>NaN</td>\n",
       "      <td>0</td>\n",
       "      <td>0</td>\n",
       "      <td>NaN</td>\n",
       "      <td>52</td>\n",
       "      <td>5</td>\n",
       "      <td>Manufacturing-durable goods</td>\n",
       "      <td>37</td>\n",
       "      <td>Machine operators assmblrs &amp; inspctrs</td>\n",
       "      <td>4</td>\n",
       "      <td>Householder</td>\n",
       "      <td>Householder</td>\n",
       "      <td>NaN</td>\n",
       "      <td>NaN</td>\n",
       "      <td>2</td>\n",
       "      <td>Joint both under 65</td>\n",
       "      <td>0</td>\n",
       "      <td>0</td>\n",
       "      <td>0</td>\n",
       "      <td>Foreign born- Not a citizen of U S</td>\n",
       "      <td>95</td>\n",
       "      <td>El-Salvador</td>\n",
       "      <td>El-Salvador</td>\n",
       "      <td>El-Salvador</td>\n",
       "      <td>?</td>\n",
       "      <td>?</td>\n",
       "      <td>?</td>\n",
       "      <td>?</td>\n",
       "      <td>NaN</td>\n",
       "      <td>NaN</td>\n",
       "      <td>NaN</td>\n",
       "      <td>1177.55</td>\n",
       "    </tr>\n",
       "    <tr>\n",
       "      <th>2</th>\n",
       "      <td>42</td>\n",
       "      <td>Male</td>\n",
       "      <td>Bachelors degree(BA AB BS)</td>\n",
       "      <td>Private</td>\n",
       "      <td>NaN</td>\n",
       "      <td>Married-civilian spouse present</td>\n",
       "      <td>White</td>\n",
       "      <td>All other</td>\n",
       "      <td>Full-time schedules</td>\n",
       "      <td>NaN</td>\n",
       "      <td>1</td>\n",
       "      <td>0</td>\n",
       "      <td>NaN</td>\n",
       "      <td>44</td>\n",
       "      <td>37</td>\n",
       "      <td>Business and repair services</td>\n",
       "      <td>4</td>\n",
       "      <td>Professional specialty</td>\n",
       "      <td>5</td>\n",
       "      <td>Householder</td>\n",
       "      <td>Householder</td>\n",
       "      <td>NaN</td>\n",
       "      <td>NaN</td>\n",
       "      <td>2</td>\n",
       "      <td>Joint both under 65</td>\n",
       "      <td>15024</td>\n",
       "      <td>0</td>\n",
       "      <td>500</td>\n",
       "      <td>Native</td>\n",
       "      <td>95</td>\n",
       "      <td>US</td>\n",
       "      <td>US</td>\n",
       "      <td>US</td>\n",
       "      <td>?</td>\n",
       "      <td>?</td>\n",
       "      <td>?</td>\n",
       "      <td>?</td>\n",
       "      <td>NaN</td>\n",
       "      <td>NaN</td>\n",
       "      <td>NaN</td>\n",
       "      <td>4898.55</td>\n",
       "    </tr>\n",
       "    <tr>\n",
       "      <th>3</th>\n",
       "      <td>16</td>\n",
       "      <td>Female</td>\n",
       "      <td>9th grade</td>\n",
       "      <td>NaN</td>\n",
       "      <td>High school</td>\n",
       "      <td>Never married</td>\n",
       "      <td>White</td>\n",
       "      <td>All other</td>\n",
       "      <td>Children or Armed Forces</td>\n",
       "      <td>NaN</td>\n",
       "      <td>0</td>\n",
       "      <td>0</td>\n",
       "      <td>NaN</td>\n",
       "      <td>8</td>\n",
       "      <td>0</td>\n",
       "      <td>Not in universe or children</td>\n",
       "      <td>0</td>\n",
       "      <td>NaN</td>\n",
       "      <td>6</td>\n",
       "      <td>Child &lt;18 never marr not in subfamily</td>\n",
       "      <td>Child under 18 never married</td>\n",
       "      <td>Both parents present</td>\n",
       "      <td>NaN</td>\n",
       "      <td>2</td>\n",
       "      <td>Single</td>\n",
       "      <td>0</td>\n",
       "      <td>0</td>\n",
       "      <td>0</td>\n",
       "      <td>Native</td>\n",
       "      <td>94</td>\n",
       "      <td>US</td>\n",
       "      <td>US</td>\n",
       "      <td>US</td>\n",
       "      <td>unchanged</td>\n",
       "      <td>NaN</td>\n",
       "      <td>unchanged</td>\n",
       "      <td>unchanged</td>\n",
       "      <td>Same</td>\n",
       "      <td>NaN</td>\n",
       "      <td>NaN</td>\n",
       "      <td>1391.44</td>\n",
       "    </tr>\n",
       "    <tr>\n",
       "      <th>4</th>\n",
       "      <td>16</td>\n",
       "      <td>Male</td>\n",
       "      <td>9th grade</td>\n",
       "      <td>NaN</td>\n",
       "      <td>High school</td>\n",
       "      <td>Never married</td>\n",
       "      <td>White</td>\n",
       "      <td>All other</td>\n",
       "      <td>Not in labor force</td>\n",
       "      <td>NaN</td>\n",
       "      <td>0</td>\n",
       "      <td>0</td>\n",
       "      <td>NaN</td>\n",
       "      <td>0</td>\n",
       "      <td>0</td>\n",
       "      <td>Not in universe or children</td>\n",
       "      <td>0</td>\n",
       "      <td>NaN</td>\n",
       "      <td>0</td>\n",
       "      <td>Child &lt;18 never marr not in subfamily</td>\n",
       "      <td>Child under 18 never married</td>\n",
       "      <td>Both parents present</td>\n",
       "      <td>NaN</td>\n",
       "      <td>2</td>\n",
       "      <td>Nonfiler</td>\n",
       "      <td>0</td>\n",
       "      <td>0</td>\n",
       "      <td>0</td>\n",
       "      <td>Native</td>\n",
       "      <td>95</td>\n",
       "      <td>US</td>\n",
       "      <td>US</td>\n",
       "      <td>US</td>\n",
       "      <td>?</td>\n",
       "      <td>?</td>\n",
       "      <td>?</td>\n",
       "      <td>?</td>\n",
       "      <td>NaN</td>\n",
       "      <td>NaN</td>\n",
       "      <td>NaN</td>\n",
       "      <td>1933.18</td>\n",
       "    </tr>\n",
       "  </tbody>\n",
       "</table>\n",
       "</div>"
      ],
      "text/plain": [
       "   age   gender                    education     class education_institute  \\\n",
       "0   54     Male         High school graduate   Private                 NaN   \n",
       "1   53     Male             5th or 6th grade   Private                 NaN   \n",
       "2   42     Male   Bachelors degree(BA AB BS)   Private                 NaN   \n",
       "3   16   Female                    9th grade       NaN         High school   \n",
       "4   16     Male                    9th grade       NaN         High school   \n",
       "\n",
       "                     marital_status    race                 is_hispanic  \\\n",
       "0   Married-civilian spouse present   White                   All other   \n",
       "1   Married-civilian spouse present   White   Central or South American   \n",
       "2   Married-civilian spouse present   White                   All other   \n",
       "3                     Never married   White                   All other   \n",
       "4                     Never married   White                   All other   \n",
       "\n",
       "       employment_commitment unemployment_reason  employment_stat  \\\n",
       "0   Children or Armed Forces                 NaN                0   \n",
       "1        Full-time schedules                 NaN                0   \n",
       "2        Full-time schedules                 NaN                1   \n",
       "3   Children or Armed Forces                 NaN                0   \n",
       "4         Not in labor force                 NaN                0   \n",
       "\n",
       "   wage_per_hour is_labor_union  working_week_per_year  industry_code  \\\n",
       "0            600             No                     46             29   \n",
       "1              0            NaN                     52              5   \n",
       "2              0            NaN                     44             37   \n",
       "3              0            NaN                      8              0   \n",
       "4              0            NaN                      0              0   \n",
       "\n",
       "              industry_code_main  occupation_code  \\\n",
       "0                 Transportation               38   \n",
       "1    Manufacturing-durable goods               37   \n",
       "2   Business and repair services                4   \n",
       "3    Not in universe or children                0   \n",
       "4    Not in universe or children                0   \n",
       "\n",
       "                     occupation_code_main  total_employed  \\\n",
       "0      Transportation and material moving               2   \n",
       "1   Machine operators assmblrs & inspctrs               4   \n",
       "2                  Professional specialty               5   \n",
       "3                                     NaN               6   \n",
       "4                                     NaN               0   \n",
       "\n",
       "                           household_stat              household_summary  \\\n",
       "0                             Householder                    Householder   \n",
       "1                             Householder                    Householder   \n",
       "2                             Householder                    Householder   \n",
       "3   Child <18 never marr not in subfamily   Child under 18 never married   \n",
       "4   Child <18 never marr not in subfamily   Child under 18 never married   \n",
       "\n",
       "         under_18_family veterans_admin_questionnaire  vet_benefit  \\\n",
       "0                    NaN                          NaN            2   \n",
       "1                    NaN                          NaN            2   \n",
       "2                    NaN                          NaN            2   \n",
       "3   Both parents present                          NaN            2   \n",
       "4   Both parents present                          NaN            2   \n",
       "\n",
       "             tax_status  gains  losses  stocks_status  \\\n",
       "0   Joint both under 65      0       0              0   \n",
       "1   Joint both under 65      0       0              0   \n",
       "2   Joint both under 65  15024       0            500   \n",
       "3                Single      0       0              0   \n",
       "4              Nonfiler      0       0              0   \n",
       "\n",
       "                            citizenship  mig_year country_of_birth_own  \\\n",
       "0                                Native        94                   US   \n",
       "1   Foreign born- Not a citizen of U S         95          El-Salvador   \n",
       "2                                Native        95                   US   \n",
       "3                                Native        94                   US   \n",
       "4                                Native        95                   US   \n",
       "\n",
       "  country_of_birth_father country_of_birth_mother  \\\n",
       "0                      US                      US   \n",
       "1             El-Salvador             El-Salvador   \n",
       "2                      US                      US   \n",
       "3                      US                      US   \n",
       "4                      US                      US   \n",
       "\n",
       "  migration_code_change_in_msa migration_prev_sunbelt  \\\n",
       "0                    unchanged                    NaN   \n",
       "1                            ?                      ?   \n",
       "2                            ?                      ?   \n",
       "3                    unchanged                    NaN   \n",
       "4                            ?                      ?   \n",
       "\n",
       "  migration_code_move_within_reg migration_code_change_in_reg  \\\n",
       "0                      unchanged                    unchanged   \n",
       "1                              ?                            ?   \n",
       "2                              ?                            ?   \n",
       "3                      unchanged                    unchanged   \n",
       "4                              ?                            ?   \n",
       "\n",
       "  residence_1_year_ago old_residence_reg old_residence_state  \\\n",
       "0                 Same               NaN                 NaN   \n",
       "1                  NaN               NaN                 NaN   \n",
       "2                  NaN               NaN                 NaN   \n",
       "3                 Same               NaN                 NaN   \n",
       "4                  NaN               NaN                 NaN   \n",
       "\n",
       "   importance_of_record  \n",
       "0               3388.96  \n",
       "1               1177.55  \n",
       "2               4898.55  \n",
       "3               1391.44  \n",
       "4               1933.18  "
      ]
     },
     "metadata": {},
     "output_type": "display_data"
    }
   ],
   "source": [
    "# Import Datasets.\n",
    "\n",
    "train = pd.read_csv(\"Train.csv\")\n",
    "test = pd.read_csv(\"Test.csv\")\n",
    "\n",
    "income_level = ['income_above_limit']\n",
    "\n",
    "# The target column to be used for training \n",
    "target_column      = train[income_level]\n",
    "\n",
    "# Drop unique identifiers\n",
    "Cols2drop          = ['ID']\n",
    "\n",
    "# Set all the columns to be visible.\n",
    "pd.set_option('display.max_columns', None)\n",
    "\n",
    "\n",
    "# Feature set corresponding to train and test data\n",
    "train_df           = train.drop(Cols2drop,axis=1)\n",
    "test_df            = test.drop(Cols2drop,axis=1)\n",
    "\n",
    "print(colored(f'The shape of train data is    {train_df.shape}     ','green',attrs=['bold']))\n",
    "\n",
    "print(colored(f'The shape of target column is {target_column.shape}','green',attrs=['bold']))\n",
    "\n",
    "print(colored(f'The shape of test data is     {test_df.shape}      ','blue',attrs=['bold']))\n",
    "\n",
    "print('------------------------------------------------------------------------------')\n",
    "print(colored('The train data looks like below :- \\n','green'))\n",
    "display(train_df.head(5))\n",
    "\n",
    "print('------------------------------------------------------------------------------')\n",
    "print(colored('The test data looks like below :- \\n','blue'))\n",
    "display(test_df.head(5))"
   ]
  },
  {
   "cell_type": "code",
   "execution_count": 290,
   "id": "ba9b1c22-a2d6-41d6-a8ae-e3c68e4a3801",
   "metadata": {},
   "outputs": [
    {
     "name": "stderr",
     "output_type": "stream",
     "text": [
      "/var/folders/kq/w9f_2tdn6f12kbr_720pr2yw0000gn/T/ipykernel_48583/3053586238.py:3: SettingWithCopyWarning:\n",
      "\n",
      "\n",
      "A value is trying to be set on a copy of a slice from a DataFrame.\n",
      "Try using .loc[row_indexer,col_indexer] = value instead\n",
      "\n",
      "See the caveats in the documentation: https://pandas.pydata.org/pandas-docs/stable/user_guide/indexing.html#returning-a-view-versus-a-copy\n",
      "\n"
     ]
    },
    {
     "data": {
      "text/plain": [
       "income_above_limit\n",
       "0    196501\n",
       "1     12998\n",
       "Name: count, dtype: int64"
      ]
     },
     "execution_count": 290,
     "metadata": {},
     "output_type": "execute_result"
    }
   ],
   "source": [
    "# Encoding the target column and analyse the class structure.\n",
    "\n",
    "target_column['income_above_limit'] = target_column['income_above_limit'].map({'Above limit':1,'Below limit':0})\n",
    "target_column['income_above_limit'].value_counts()"
   ]
  },
  {
   "cell_type": "code",
   "execution_count": 291,
   "id": "635e61c9-6fb7-4efb-b5fe-b3a9c9014aca",
   "metadata": {},
   "outputs": [
    {
     "name": "stdout",
     "output_type": "stream",
     "text": [
      "The class Imbalance in the data is given below\n"
     ]
    },
    {
     "data": {
      "text/plain": [
       "income_above_limit\n",
       "Below limit    196501\n",
       "Above limit     12998\n",
       "Name: count, dtype: int64"
      ]
     },
     "metadata": {},
     "output_type": "display_data"
    },
    {
     "name": "stdout",
     "output_type": "stream",
     "text": [
      "---------------------------------------------------------------\n",
      "\n",
      "The class imbalance in terms of percentage is given below \n"
     ]
    },
    {
     "data": {
      "text/plain": [
       "income_above_limit\n",
       "Below limit    0.937957\n",
       "Above limit    0.062043\n",
       "Name: proportion, dtype: float64"
      ]
     },
     "metadata": {},
     "output_type": "display_data"
    },
    {
     "name": "stdout",
     "output_type": "stream",
     "text": [
      "----------------------------------------------------------------\n",
      "\n"
     ]
    },
    {
     "data": {
      "image/png": "[encoded data removed]",
      "text/plain": [
       "<Figure size 800x600 with 1 Axes>"
      ]
     },
     "metadata": {},
     "output_type": "display_data"
    }
   ],
   "source": [
    "# Have a deeper look at the class imbalance and visualize for better perspective.\n",
    "\n",
    "print('The class Imbalance in the data is given below')\n",
    "display(train['income_above_limit'].value_counts())\n",
    "print('---------------------------------------------------------------\\n')\n",
    "print('The class imbalance in terms of percentage is given below ')\n",
    "display(train['income_above_limit'].value_counts(normalize=True))\n",
    "print('----------------------------------------------------------------\\n')\n",
    "\n",
    "\n",
    "# Count the occurrences of each value\n",
    "income_value_counts = train['income_above_limit'].value_counts()\n",
    "\n",
    "# Bar chart showing the class imbalance.\n",
    "plt.figure(figsize=(8, 6))  # Adjust figure size as needed\n",
    "plt.bar(income_value_counts.index, income_value_counts.values, color=[\"lightblue\", \"coral\"])\n",
    "plt.xlabel(\"Binary Values\")\n",
    "plt.ylabel(\"Count\")\n",
    "plt.title(\"Income Class Imbalance\")\n",
    "plt.xticks(rotation=0)  # Ensure readable x-axis labels\n",
    "plt.tight_layout()\n",
    "plt.show()"
   ]
  },
  {
   "cell_type": "code",
   "execution_count": 292,
   "id": "b7138532-0425-4656-8a59-2d479c8aff5e",
   "metadata": {},
   "outputs": [],
   "source": [
    "# Define function that plots a bar graph of the number of NaN values in the database.\n",
    "\n",
    "def nan_value_plot(df):\n",
    "    nan_dict  = {}\n",
    "    for cols in df.columns:\n",
    "        nan_dict[cols] = df[cols].isna().sum()/df.shape[0]\n",
    "    nan_pct_df = pd.DataFrame.from_dict(nan_dict,orient='index').reset_index().rename({'index':'Columns',0:'NaN_pct'},axis=1)\n",
    "    fig = px.bar(nan_pct_df,x='Columns',y='NaN_pct', height=1200,width = 1200,title='NaN value percentage in each column')\n",
    "    fig.update_layout(\n",
    "        yaxis=dict(tickformat = '0%') # To represent the values in the y axis as percentages\n",
    "        ,xaxis_tickangle=45\n",
    "        ,font=dict(size=fig.layout.width * 0.015)  # Adjust font size factor as needed\n",
    "        )\n",
    "    fig.show()  "
   ]
  },
  {
   "cell_type": "code",
   "execution_count": 293,
   "id": "d674129d-cd97-4246-ac40-8b5f321a27fc",
   "metadata": {},
   "outputs": [
    {
     "name": "stdout",
     "output_type": "stream",
     "text": [
      "\u001b[1m\u001b[32mWe see the distribution of NaN values in train data as below\u001b[0m\n"
     ]
    },
    {
     "data": {
      "application/vnd.plotly.v1+json": {
       "config": {
        "plotlyServerURL": "https://plot.ly"
       },
       "data": [
        {
         "alignmentgroup": "True",
         "hovertemplate": "Columns=%{x}<br>NaN_pct=%{y}<extra></extra>",
         "legendgroup": "",
         "marker": {
          "color": "#636efa",
          "pattern": {
           "shape": ""
          }
         },
         "name": "",
         "offsetgroup": "",
         "orientation": "v",
         "showlegend": false,
         "textposition": "auto",
         "type": "bar",
         "x": [
          "ID",
          "age",
          "gender",
          "education",
          "class",
          "education_institute",
          "marital_status",
          "race",
          "is_hispanic",
          "employment_commitment",
          "unemployment_reason",
          "employment_stat",
          "wage_per_hour",
          "is_labor_union",
          "working_week_per_year",
          "industry_code",
          "industry_code_main",
          "occupation_code",
          "occupation_code_main",
          "total_employed",
          "household_stat",
          "household_summary",
          "under_18_family",
          "veterans_admin_questionnaire",
          "vet_benefit",
          "tax_status",
          "gains",
          "losses",
          "stocks_status",
          "citizenship",
          "mig_year",
          "country_of_birth_own",
          "country_of_birth_father",
          "country_of_birth_mother",
          "migration_code_change_in_msa",
          "migration_prev_sunbelt",
          "migration_code_move_within_reg",
          "migration_code_change_in_reg",
          "residence_1_year_ago",
          "old_residence_reg",
          "old_residence_state",
          "importance_of_record",
          "income_above_limit"
         ],
         "xaxis": "x",
         "y": [
          0,
          0,
          0,
          0,
          0.5023651664208421,
          0.9365056635115203,
          0,
          0,
          0,
          0,
          0.9688781330698476,
          0,
          0,
          0.9041570604155629,
          0,
          0,
          0,
          0,
          0.5045083747416456,
          0,
          0,
          0,
          0.7238888968443763,
          0.9900524584842887,
          0,
          0,
          0,
          0,
          0,
          0,
          0,
          0,
          0,
          0,
          0.007579988448632213,
          0.4222072659058038,
          0.007579988448632213,
          0.007579988448632213,
          0.5073246173012759,
          0.9219518947584475,
          0.9219518947584475,
          0,
          0
         ],
         "yaxis": "y"
        }
       ],
       "layout": {
        "barmode": "relative",
        "font": {
         "size": 18
        },
        "height": 1200,
        "legend": {
         "tracegroupgap": 0
        },
        "template": {
         "data": {
          "bar": [
           {
            "error_x": {
             "color": "#2a3f5f"
            },
            "error_y": {
             "color": "#2a3f5f"
            },
            "marker": {
             "line": {
              "color": "#E5ECF6",
              "width": 0.5
             },
             "pattern": {
              "fillmode": "overlay",
              "size": 10,
              "solidity": 0.2
             }
            },
            "type": "bar"
           }
          ],
          "barpolar": [
           {
            "marker": {
             "line": {
              "color": "#E5ECF6",
              "width": 0.5
             },
             "pattern": {
              "fillmode": "overlay",
              "size": 10,
              "solidity": 0.2
             }
            },
            "type": "barpolar"
           }
          ],
          "carpet": [
           {
            "aaxis": {
             "endlinecolor": "#2a3f5f",
             "gridcolor": "white",
             "linecolor": "white",
             "minorgridcolor": "white",
             "startlinecolor": "#2a3f5f"
            },
            "baxis": {
             "endlinecolor": "#2a3f5f",
             "gridcolor": "white",
             "linecolor": "white",
             "minorgridcolor": "white",
             "startlinecolor": "#2a3f5f"
            },
            "type": "carpet"
           }
          ],
          "choropleth": [
           {
            "colorbar": {
             "outlinewidth": 0,
             "ticks": ""
            },
            "type": "choropleth"
           }
          ],
          "contour": [
           {
            "colorbar": {
             "outlinewidth": 0,
             "ticks": ""
            },
            "colorscale": [
             [
              0,
              "#0d0887"
             ],
             [
              0.1111111111111111,
              "#46039f"
             ],
             [
              0.2222222222222222,
              "#7201a8"
             ],
             [
              0.3333333333333333,
              "#9c179e"
             ],
             [
              0.4444444444444444,
              "#bd3786"
             ],
             [
              0.5555555555555556,
              "#d8576b"
             ],
             [
              0.6666666666666666,
              "#ed7953"
             ],
             [
              0.7777777777777778,
              "#fb9f3a"
             ],
             [
              0.8888888888888888,
              "#fdca26"
             ],
             [
              1,
              "#f0f921"
             ]
            ],
            "type": "contour"
           }
          ],
          "contourcarpet": [
           {
            "colorbar": {
             "outlinewidth": 0,
             "ticks": ""
            },
            "type": "contourcarpet"
           }
          ],
          "heatmap": [
           {
            "colorbar": {
             "outlinewidth": 0,
             "ticks": ""
            },
            "colorscale": [
             [
              0,
              "#0d0887"
             ],
             [
              0.1111111111111111,
              "#46039f"
             ],
             [
              0.2222222222222222,
              "#7201a8"
             ],
             [
              0.3333333333333333,
              "#9c179e"
             ],
             [
              0.4444444444444444,
              "#bd3786"
             ],
             [
              0.5555555555555556,
              "#d8576b"
             ],
             [
              0.6666666666666666,
              "#ed7953"
             ],
             [
              0.7777777777777778,
              "#fb9f3a"
             ],
             [
              0.8888888888888888,
              "#fdca26"
             ],
             [
              1,
              "#f0f921"
             ]
            ],
            "type": "heatmap"
           }
          ],
          "heatmapgl": [
           {
            "colorbar": {
             "outlinewidth": 0,
             "ticks": ""
            },
            "colorscale": [
             [
              0,
              "#0d0887"
             ],
             [
              0.1111111111111111,
              "#46039f"
             ],
             [
              0.2222222222222222,
              "#7201a8"
             ],
             [
              0.3333333333333333,
              "#9c179e"
             ],
             [
              0.4444444444444444,
              "#bd3786"
             ],
             [
              0.5555555555555556,
              "#d8576b"
             ],
             [
              0.6666666666666666,
              "#ed7953"
             ],
             [
              0.7777777777777778,
              "#fb9f3a"
             ],
             [
              0.8888888888888888,
              "#fdca26"
             ],
             [
              1,
              "#f0f921"
             ]
            ],
            "type": "heatmapgl"
           }
          ],
          "histogram": [
           {
            "marker": {
             "pattern": {
              "fillmode": "overlay",
              "size": 10,
              "solidity": 0.2
             }
            },
            "type": "histogram"
           }
          ],
          "histogram2d": [
           {
            "colorbar": {
             "outlinewidth": 0,
             "ticks": ""
            },
            "colorscale": [
             [
              0,
              "#0d0887"
             ],
             [
              0.1111111111111111,
              "#46039f"
             ],
             [
              0.2222222222222222,
              "#7201a8"
             ],
             [
              0.3333333333333333,
              "#9c179e"
             ],
             [
              0.4444444444444444,
              "#bd3786"
             ],
             [
              0.5555555555555556,
              "#d8576b"
             ],
             [
              0.6666666666666666,
              "#ed7953"
             ],
             [
              0.7777777777777778,
              "#fb9f3a"
             ],
             [
              0.8888888888888888,
              "#fdca26"
             ],
             [
              1,
              "#f0f921"
             ]
            ],
            "type": "histogram2d"
           }
          ],
          "histogram2dcontour": [
           {
            "colorbar": {
             "outlinewidth": 0,
             "ticks": ""
            },
            "colorscale": [
             [
              0,
              "#0d0887"
             ],
             [
              0.1111111111111111,
              "#46039f"
             ],
             [
              0.2222222222222222,
              "#7201a8"
             ],
             [
              0.3333333333333333,
              "#9c179e"
             ],
             [
              0.4444444444444444,
              "#bd3786"
             ],
             [
              0.5555555555555556,
              "#d8576b"
             ],
             [
              0.6666666666666666,
              "#ed7953"
             ],
             [
              0.7777777777777778,
              "#fb9f3a"
             ],
             [
              0.8888888888888888,
              "#fdca26"
             ],
             [
              1,
              "#f0f921"
             ]
            ],
            "type": "histogram2dcontour"
           }
          ],
          "mesh3d": [
           {
            "colorbar": {
             "outlinewidth": 0,
             "ticks": ""
            },
            "type": "mesh3d"
           }
          ],
          "parcoords": [
           {
            "line": {
             "colorbar": {
              "outlinewidth": 0,
              "ticks": ""
             }
            },
            "type": "parcoords"
           }
          ],
          "pie": [
           {
            "automargin": true,
            "type": "pie"
           }
          ],
          "scatter": [
           {
            "fillpattern": {
             "fillmode": "overlay",
             "size": 10,
             "solidity": 0.2
            },
            "type": "scatter"
           }
          ],
          "scatter3d": [
           {
            "line": {
             "colorbar": {
              "outlinewidth": 0,
              "ticks": ""
             }
            },
            "marker": {
             "colorbar": {
              "outlinewidth": 0,
              "ticks": ""
             }
            },
            "type": "scatter3d"
           }
          ],
          "scattercarpet": [
           {
            "marker": {
             "colorbar": {
              "outlinewidth": 0,
              "ticks": ""
             }
            },
            "type": "scattercarpet"
           }
          ],
          "scattergeo": [
           {
            "marker": {
             "colorbar": {
              "outlinewidth": 0,
              "ticks": ""
             }
            },
            "type": "scattergeo"
           }
          ],
          "scattergl": [
           {
            "marker": {
             "colorbar": {
              "outlinewidth": 0,
              "ticks": ""
             }
            },
            "type": "scattergl"
           }
          ],
          "scattermapbox": [
           {
            "marker": {
             "colorbar": {
              "outlinewidth": 0,
              "ticks": ""
             }
            },
            "type": "scattermapbox"
           }
          ],
          "scatterpolar": [
           {
            "marker": {
             "colorbar": {
              "outlinewidth": 0,
              "ticks": ""
             }
            },
            "type": "scatterpolar"
           }
          ],
          "scatterpolargl": [
           {
            "marker": {
             "colorbar": {
              "outlinewidth": 0,
              "ticks": ""
             }
            },
            "type": "scatterpolargl"
           }
          ],
          "scatterternary": [
           {
            "marker": {
             "colorbar": {
              "outlinewidth": 0,
              "ticks": ""
             }
            },
            "type": "scatterternary"
           }
          ],
          "surface": [
           {
            "colorbar": {
             "outlinewidth": 0,
             "ticks": ""
            },
            "colorscale": [
             [
              0,
              "#0d0887"
             ],
             [
              0.1111111111111111,
              "#46039f"
             ],
             [
              0.2222222222222222,
              "#7201a8"
             ],
             [
              0.3333333333333333,
              "#9c179e"
             ],
             [
              0.4444444444444444,
              "#bd3786"
             ],
             [
              0.5555555555555556,
              "#d8576b"
             ],
             [
              0.6666666666666666,
              "#ed7953"
             ],
             [
              0.7777777777777778,
              "#fb9f3a"
             ],
             [
              0.8888888888888888,
              "#fdca26"
             ],
             [
              1,
              "#f0f921"
             ]
            ],
            "type": "surface"
           }
          ],
          "table": [
           {
            "cells": {
             "fill": {
              "color": "#EBF0F8"
             },
             "line": {
              "color": "white"
             }
            },
            "header": {
             "fill": {
              "color": "#C8D4E3"
             },
             "line": {
              "color": "white"
             }
            },
            "type": "table"
           }
          ]
         },
         "layout": {
          "annotationdefaults": {
           "arrowcolor": "#2a3f5f",
           "arrowhead": 0,
           "arrowwidth": 1
          },
          "autotypenumbers": "strict",
          "coloraxis": {
           "colorbar": {
            "outlinewidth": 0,
            "ticks": ""
           }
          },
          "colorscale": {
           "diverging": [
            [
             0,
             "#8e0152"
            ],
            [
             0.1,
             "#c51b7d"
            ],
            [
             0.2,
             "#de77ae"
            ],
            [
             0.3,
             "#f1b6da"
            ],
            [
             0.4,
             "#fde0ef"
            ],
            [
             0.5,
             "#f7f7f7"
            ],
            [
             0.6,
             "#e6f5d0"
            ],
            [
             0.7,
             "#b8e186"
            ],
            [
             0.8,
             "#7fbc41"
            ],
            [
             0.9,
             "#4d9221"
            ],
            [
             1,
             "#276419"
            ]
           ],
           "sequential": [
            [
             0,
             "#0d0887"
            ],
            [
             0.1111111111111111,
             "#46039f"
            ],
            [
             0.2222222222222222,
             "#7201a8"
            ],
            [
             0.3333333333333333,
             "#9c179e"
            ],
            [
             0.4444444444444444,
             "#bd3786"
            ],
            [
             0.5555555555555556,
             "#d8576b"
            ],
            [
             0.6666666666666666,
             "#ed7953"
            ],
            [
             0.7777777777777778,
             "#fb9f3a"
            ],
            [
             0.8888888888888888,
             "#fdca26"
            ],
            [
             1,
             "#f0f921"
            ]
           ],
           "sequentialminus": [
            [
             0,
             "#0d0887"
            ],
            [
             0.1111111111111111,
             "#46039f"
            ],
            [
             0.2222222222222222,
             "#7201a8"
            ],
            [
             0.3333333333333333,
             "#9c179e"
            ],
            [
             0.4444444444444444,
             "#bd3786"
            ],
            [
             0.5555555555555556,
             "#d8576b"
            ],
            [
             0.6666666666666666,
             "#ed7953"
            ],
            [
             0.7777777777777778,
             "#fb9f3a"
            ],
            [
             0.8888888888888888,
             "#fdca26"
            ],
            [
             1,
             "#f0f921"
            ]
           ]
          },
          "colorway": [
           "#636efa",
           "#EF553B",
           "#00cc96",
           "#ab63fa",
           "#FFA15A",
           "#19d3f3",
           "#FF6692",
           "#B6E880",
           "#FF97FF",
           "#FECB52"
          ],
          "font": {
           "color": "#2a3f5f"
          },
          "geo": {
           "bgcolor": "white",
           "lakecolor": "white",
           "landcolor": "#E5ECF6",
           "showlakes": true,
           "showland": true,
           "subunitcolor": "white"
          },
          "hoverlabel": {
           "align": "left"
          },
          "hovermode": "closest",
          "mapbox": {
           "style": "light"
          },
          "paper_bgcolor": "white",
          "plot_bgcolor": "#E5ECF6",
          "polar": {
           "angularaxis": {
            "gridcolor": "white",
            "linecolor": "white",
            "ticks": ""
           },
           "bgcolor": "#E5ECF6",
           "radialaxis": {
            "gridcolor": "white",
            "linecolor": "white",
            "ticks": ""
           }
          },
          "scene": {
           "xaxis": {
            "backgroundcolor": "#E5ECF6",
            "gridcolor": "white",
            "gridwidth": 2,
            "linecolor": "white",
            "showbackground": true,
            "ticks": "",
            "zerolinecolor": "white"
           },
           "yaxis": {
            "backgroundcolor": "#E5ECF6",
            "gridcolor": "white",
            "gridwidth": 2,
            "linecolor": "white",
            "showbackground": true,
            "ticks": "",
            "zerolinecolor": "white"
           },
           "zaxis": {
            "backgroundcolor": "#E5ECF6",
            "gridcolor": "white",
            "gridwidth": 2,
            "linecolor": "white",
            "showbackground": true,
            "ticks": "",
            "zerolinecolor": "white"
           }
          },
          "shapedefaults": {
           "line": {
            "color": "#2a3f5f"
           }
          },
          "ternary": {
           "aaxis": {
            "gridcolor": "white",
            "linecolor": "white",
            "ticks": ""
           },
           "baxis": {
            "gridcolor": "white",
            "linecolor": "white",
            "ticks": ""
           },
           "bgcolor": "#E5ECF6",
           "caxis": {
            "gridcolor": "white",
            "linecolor": "white",
            "ticks": ""
           }
          },
          "title": {
           "x": 0.05
          },
          "xaxis": {
           "automargin": true,
           "gridcolor": "white",
           "linecolor": "white",
           "ticks": "",
           "title": {
            "standoff": 15
           },
           "zerolinecolor": "white",
           "zerolinewidth": 2
          },
          "yaxis": {
           "automargin": true,
           "gridcolor": "white",
           "linecolor": "white",
           "ticks": "",
           "title": {
            "standoff": 15
           },
           "zerolinecolor": "white",
           "zerolinewidth": 2
          }
         }
        },
        "title": {
         "text": "NaN value percentage in each column"
        },
        "width": 1200,
        "xaxis": {
         "anchor": "y",
         "domain": [
          0,
          1
         ],
         "tickangle": 45,
         "title": {
          "text": "Columns"
         }
        },
        "yaxis": {
         "anchor": "x",
         "domain": [
          0,
          1
         ],
         "tickformat": "0%",
         "title": {
          "text": "NaN_pct"
         }
        }
       }
      }
     },
     "metadata": {},
     "output_type": "display_data"
    },
    {
     "name": "stdout",
     "output_type": "stream",
     "text": [
      "-------------------------------------------------------------------------------------------------\n",
      "\n",
      "\n",
      "\u001b[1m\u001b[34mWe see the distribution of NaN values in test data as below\u001b[0m\n"
     ]
    },
    {
     "data": {
      "application/vnd.plotly.v1+json": {
       "config": {
        "plotlyServerURL": "https://plot.ly"
       },
       "data": [
        {
         "alignmentgroup": "True",
         "hovertemplate": "Columns=%{x}<br>NaN_pct=%{y}<extra></extra>",
         "legendgroup": "",
         "marker": {
          "color": "#636efa",
          "pattern": {
           "shape": ""
          }
         },
         "name": "",
         "offsetgroup": "",
         "orientation": "v",
         "showlegend": false,
         "textposition": "auto",
         "type": "bar",
         "x": [
          "ID",
          "age",
          "gender",
          "education",
          "class",
          "education_institute",
          "marital_status",
          "race",
          "is_hispanic",
          "employment_commitment",
          "unemployment_reason",
          "employment_stat",
          "wage_per_hour",
          "is_labor_union",
          "working_week_per_year",
          "industry_code",
          "industry_code_main",
          "occupation_code",
          "occupation_code_main",
          "total_employed",
          "household_stat",
          "household_summary",
          "under_18_family",
          "veterans_admin_questionnaire",
          "vet_benefit",
          "tax_status",
          "gains",
          "losses",
          "stocks_status",
          "citizenship",
          "mig_year",
          "country_of_birth_own",
          "country_of_birth_father",
          "country_of_birth_mother",
          "migration_code_change_in_msa",
          "migration_prev_sunbelt",
          "migration_code_move_within_reg",
          "migration_code_change_in_reg",
          "residence_1_year_ago",
          "old_residence_reg",
          "old_residence_state",
          "importance_of_record"
         ],
         "xaxis": "x",
         "y": [
          0,
          0,
          0,
          0,
          0.5020715924531665,
          0.9374512730269753,
          0,
          0,
          0,
          0,
          0.9701512485242688,
          0,
          0,
          0.9057314057870938,
          0,
          0,
          0,
          0,
          0.5042322856570066,
          0,
          0,
          0,
          0.7236317465974651,
          0.9896754505156706,
          0,
          0,
          0,
          0,
          0,
          0,
          0,
          0,
          0,
          0,
          0.007250573586082463,
          0.4201545898024191,
          0.007250573586082463,
          0.007250573586082463,
          0.5078408660592966,
          0.9207448822756332,
          0.9207448822756332,
          0
         ],
         "yaxis": "y"
        }
       ],
       "layout": {
        "barmode": "relative",
        "font": {
         "size": 18
        },
        "height": 1200,
        "legend": {
         "tracegroupgap": 0
        },
        "template": {
         "data": {
          "bar": [
           {
            "error_x": {
             "color": "#2a3f5f"
            },
            "error_y": {
             "color": "#2a3f5f"
            },
            "marker": {
             "line": {
              "color": "#E5ECF6",
              "width": 0.5
             },
             "pattern": {
              "fillmode": "overlay",
              "size": 10,
              "solidity": 0.2
             }
            },
            "type": "bar"
           }
          ],
          "barpolar": [
           {
            "marker": {
             "line": {
              "color": "#E5ECF6",
              "width": 0.5
             },
             "pattern": {
              "fillmode": "overlay",
              "size": 10,
              "solidity": 0.2
             }
            },
            "type": "barpolar"
           }
          ],
          "carpet": [
           {
            "aaxis": {
             "endlinecolor": "#2a3f5f",
             "gridcolor": "white",
             "linecolor": "white",
             "minorgridcolor": "white",
             "startlinecolor": "#2a3f5f"
            },
            "baxis": {
             "endlinecolor": "#2a3f5f",
             "gridcolor": "white",
             "linecolor": "white",
             "minorgridcolor": "white",
             "startlinecolor": "#2a3f5f"
            },
            "type": "carpet"
           }
          ],
          "choropleth": [
           {
            "colorbar": {
             "outlinewidth": 0,
             "ticks": ""
            },
            "type": "choropleth"
           }
          ],
          "contour": [
           {
            "colorbar": {
             "outlinewidth": 0,
             "ticks": ""
            },
            "colorscale": [
             [
              0,
              "#0d0887"
             ],
             [
              0.1111111111111111,
              "#46039f"
             ],
             [
              0.2222222222222222,
              "#7201a8"
             ],
             [
              0.3333333333333333,
              "#9c179e"
             ],
             [
              0.4444444444444444,
              "#bd3786"
             ],
             [
              0.5555555555555556,
              "#d8576b"
             ],
             [
              0.6666666666666666,
              "#ed7953"
             ],
             [
              0.7777777777777778,
              "#fb9f3a"
             ],
             [
              0.8888888888888888,
              "#fdca26"
             ],
             [
              1,
              "#f0f921"
             ]
            ],
            "type": "contour"
           }
          ],
          "contourcarpet": [
           {
            "colorbar": {
             "outlinewidth": 0,
             "ticks": ""
            },
            "type": "contourcarpet"
           }
          ],
          "heatmap": [
           {
            "colorbar": {
             "outlinewidth": 0,
             "ticks": ""
            },
            "colorscale": [
             [
              0,
              "#0d0887"
             ],
             [
              0.1111111111111111,
              "#46039f"
             ],
             [
              0.2222222222222222,
              "#7201a8"
             ],
             [
              0.3333333333333333,
              "#9c179e"
             ],
             [
              0.4444444444444444,
              "#bd3786"
             ],
             [
              0.5555555555555556,
              "#d8576b"
             ],
             [
              0.6666666666666666,
              "#ed7953"
             ],
             [
              0.7777777777777778,
              "#fb9f3a"
             ],
             [
              0.8888888888888888,
              "#fdca26"
             ],
             [
              1,
              "#f0f921"
             ]
            ],
            "type": "heatmap"
           }
          ],
          "heatmapgl": [
           {
            "colorbar": {
             "outlinewidth": 0,
             "ticks": ""
            },
            "colorscale": [
             [
              0,
              "#0d0887"
             ],
             [
              0.1111111111111111,
              "#46039f"
             ],
             [
              0.2222222222222222,
              "#7201a8"
             ],
             [
              0.3333333333333333,
              "#9c179e"
             ],
             [
              0.4444444444444444,
              "#bd3786"
             ],
             [
              0.5555555555555556,
              "#d8576b"
             ],
             [
              0.6666666666666666,
              "#ed7953"
             ],
             [
              0.7777777777777778,
              "#fb9f3a"
             ],
             [
              0.8888888888888888,
              "#fdca26"
             ],
             [
              1,
              "#f0f921"
             ]
            ],
            "type": "heatmapgl"
           }
          ],
          "histogram": [
           {
            "marker": {
             "pattern": {
              "fillmode": "overlay",
              "size": 10,
              "solidity": 0.2
             }
            },
            "type": "histogram"
           }
          ],
          "histogram2d": [
           {
            "colorbar": {
             "outlinewidth": 0,
             "ticks": ""
            },
            "colorscale": [
             [
              0,
              "#0d0887"
             ],
             [
              0.1111111111111111,
              "#46039f"
             ],
             [
              0.2222222222222222,
              "#7201a8"
             ],
             [
              0.3333333333333333,
              "#9c179e"
             ],
             [
              0.4444444444444444,
              "#bd3786"
             ],
             [
              0.5555555555555556,
              "#d8576b"
             ],
             [
              0.6666666666666666,
              "#ed7953"
             ],
             [
              0.7777777777777778,
              "#fb9f3a"
             ],
             [
              0.8888888888888888,
              "#fdca26"
             ],
             [
              1,
              "#f0f921"
             ]
            ],
            "type": "histogram2d"
           }
          ],
          "histogram2dcontour": [
           {
            "colorbar": {
             "outlinewidth": 0,
             "ticks": ""
            },
            "colorscale": [
             [
              0,
              "#0d0887"
             ],
             [
              0.1111111111111111,
              "#46039f"
             ],
             [
              0.2222222222222222,
              "#7201a8"
             ],
             [
              0.3333333333333333,
              "#9c179e"
             ],
             [
              0.4444444444444444,
              "#bd3786"
             ],
             [
              0.5555555555555556,
              "#d8576b"
             ],
             [
              0.6666666666666666,
              "#ed7953"
             ],
             [
              0.7777777777777778,
              "#fb9f3a"
             ],
             [
              0.8888888888888888,
              "#fdca26"
             ],
             [
              1,
              "#f0f921"
             ]
            ],
            "type": "histogram2dcontour"
           }
          ],
          "mesh3d": [
           {
            "colorbar": {
             "outlinewidth": 0,
             "ticks": ""
            },
            "type": "mesh3d"
           }
          ],
          "parcoords": [
           {
            "line": {
             "colorbar": {
              "outlinewidth": 0,
              "ticks": ""
             }
            },
            "type": "parcoords"
           }
          ],
          "pie": [
           {
            "automargin": true,
            "type": "pie"
           }
          ],
          "scatter": [
           {
            "fillpattern": {
             "fillmode": "overlay",
             "size": 10,
             "solidity": 0.2
            },
            "type": "scatter"
           }
          ],
          "scatter3d": [
           {
            "line": {
             "colorbar": {
              "outlinewidth": 0,
              "ticks": ""
             }
            },
            "marker": {
             "colorbar": {
              "outlinewidth": 0,
              "ticks": ""
             }
            },
            "type": "scatter3d"
           }
          ],
          "scattercarpet": [
           {
            "marker": {
             "colorbar": {
              "outlinewidth": 0,
              "ticks": ""
             }
            },
            "type": "scattercarpet"
           }
          ],
          "scattergeo": [
           {
            "marker": {
             "colorbar": {
              "outlinewidth": 0,
              "ticks": ""
             }
            },
            "type": "scattergeo"
           }
          ],
          "scattergl": [
           {
            "marker": {
             "colorbar": {
              "outlinewidth": 0,
              "ticks": ""
             }
            },
            "type": "scattergl"
           }
          ],
          "scattermapbox": [
           {
            "marker": {
             "colorbar": {
              "outlinewidth": 0,
              "ticks": ""
             }
            },
            "type": "scattermapbox"
           }
          ],
          "scatterpolar": [
           {
            "marker": {
             "colorbar": {
              "outlinewidth": 0,
              "ticks": ""
             }
            },
            "type": "scatterpolar"
           }
          ],
          "scatterpolargl": [
           {
            "marker": {
             "colorbar": {
              "outlinewidth": 0,
              "ticks": ""
             }
            },
            "type": "scatterpolargl"
           }
          ],
          "scatterternary": [
           {
            "marker": {
             "colorbar": {
              "outlinewidth": 0,
              "ticks": ""
             }
            },
            "type": "scatterternary"
           }
          ],
          "surface": [
           {
            "colorbar": {
             "outlinewidth": 0,
             "ticks": ""
            },
            "colorscale": [
             [
              0,
              "#0d0887"
             ],
             [
              0.1111111111111111,
              "#46039f"
             ],
             [
              0.2222222222222222,
              "#7201a8"
             ],
             [
              0.3333333333333333,
              "#9c179e"
             ],
             [
              0.4444444444444444,
              "#bd3786"
             ],
             [
              0.5555555555555556,
              "#d8576b"
             ],
             [
              0.6666666666666666,
              "#ed7953"
             ],
             [
              0.7777777777777778,
              "#fb9f3a"
             ],
             [
              0.8888888888888888,
              "#fdca26"
             ],
             [
              1,
              "#f0f921"
             ]
            ],
            "type": "surface"
           }
          ],
          "table": [
           {
            "cells": {
             "fill": {
              "color": "#EBF0F8"
             },
             "line": {
              "color": "white"
             }
            },
            "header": {
             "fill": {
              "color": "#C8D4E3"
             },
             "line": {
              "color": "white"
             }
            },
            "type": "table"
           }
          ]
         },
         "layout": {
          "annotationdefaults": {
           "arrowcolor": "#2a3f5f",
           "arrowhead": 0,
           "arrowwidth": 1
          },
          "autotypenumbers": "strict",
          "coloraxis": {
           "colorbar": {
            "outlinewidth": 0,
            "ticks": ""
           }
          },
          "colorscale": {
           "diverging": [
            [
             0,
             "#8e0152"
            ],
            [
             0.1,
             "#c51b7d"
            ],
            [
             0.2,
             "#de77ae"
            ],
            [
             0.3,
             "#f1b6da"
            ],
            [
             0.4,
             "#fde0ef"
            ],
            [
             0.5,
             "#f7f7f7"
            ],
            [
             0.6,
             "#e6f5d0"
            ],
            [
             0.7,
             "#b8e186"
            ],
            [
             0.8,
             "#7fbc41"
            ],
            [
             0.9,
             "#4d9221"
            ],
            [
             1,
             "#276419"
            ]
           ],
           "sequential": [
            [
             0,
             "#0d0887"
            ],
            [
             0.1111111111111111,
             "#46039f"
            ],
            [
             0.2222222222222222,
             "#7201a8"
            ],
            [
             0.3333333333333333,
             "#9c179e"
            ],
            [
             0.4444444444444444,
             "#bd3786"
            ],
            [
             0.5555555555555556,
             "#d8576b"
            ],
            [
             0.6666666666666666,
             "#ed7953"
            ],
            [
             0.7777777777777778,
             "#fb9f3a"
            ],
            [
             0.8888888888888888,
             "#fdca26"
            ],
            [
             1,
             "#f0f921"
            ]
           ],
           "sequentialminus": [
            [
             0,
             "#0d0887"
            ],
            [
             0.1111111111111111,
             "#46039f"
            ],
            [
             0.2222222222222222,
             "#7201a8"
            ],
            [
             0.3333333333333333,
             "#9c179e"
            ],
            [
             0.4444444444444444,
             "#bd3786"
            ],
            [
             0.5555555555555556,
             "#d8576b"
            ],
            [
             0.6666666666666666,
             "#ed7953"
            ],
            [
             0.7777777777777778,
             "#fb9f3a"
            ],
            [
             0.8888888888888888,
             "#fdca26"
            ],
            [
             1,
             "#f0f921"
            ]
           ]
          },
          "colorway": [
           "#636efa",
           "#EF553B",
           "#00cc96",
           "#ab63fa",
           "#FFA15A",
           "#19d3f3",
           "#FF6692",
           "#B6E880",
           "#FF97FF",
           "#FECB52"
          ],
          "font": {
           "color": "#2a3f5f"
          },
          "geo": {
           "bgcolor": "white",
           "lakecolor": "white",
           "landcolor": "#E5ECF6",
           "showlakes": true,
           "showland": true,
           "subunitcolor": "white"
          },
          "hoverlabel": {
           "align": "left"
          },
          "hovermode": "closest",
          "mapbox": {
           "style": "light"
          },
          "paper_bgcolor": "white",
          "plot_bgcolor": "#E5ECF6",
          "polar": {
           "angularaxis": {
            "gridcolor": "white",
            "linecolor": "white",
            "ticks": ""
           },
           "bgcolor": "#E5ECF6",
           "radialaxis": {
            "gridcolor": "white",
            "linecolor": "white",
            "ticks": ""
           }
          },
          "scene": {
           "xaxis": {
            "backgroundcolor": "#E5ECF6",
            "gridcolor": "white",
            "gridwidth": 2,
            "linecolor": "white",
            "showbackground": true,
            "ticks": "",
            "zerolinecolor": "white"
           },
           "yaxis": {
            "backgroundcolor": "#E5ECF6",
            "gridcolor": "white",
            "gridwidth": 2,
            "linecolor": "white",
            "showbackground": true,
            "ticks": "",
            "zerolinecolor": "white"
           },
           "zaxis": {
            "backgroundcolor": "#E5ECF6",
            "gridcolor": "white",
            "gridwidth": 2,
            "linecolor": "white",
            "showbackground": true,
            "ticks": "",
            "zerolinecolor": "white"
           }
          },
          "shapedefaults": {
           "line": {
            "color": "#2a3f5f"
           }
          },
          "ternary": {
           "aaxis": {
            "gridcolor": "white",
            "linecolor": "white",
            "ticks": ""
           },
           "baxis": {
            "gridcolor": "white",
            "linecolor": "white",
            "ticks": ""
           },
           "bgcolor": "#E5ECF6",
           "caxis": {
            "gridcolor": "white",
            "linecolor": "white",
            "ticks": ""
           }
          },
          "title": {
           "x": 0.05
          },
          "xaxis": {
           "automargin": true,
           "gridcolor": "white",
           "linecolor": "white",
           "ticks": "",
           "title": {
            "standoff": 15
           },
           "zerolinecolor": "white",
           "zerolinewidth": 2
          },
          "yaxis": {
           "automargin": true,
           "gridcolor": "white",
           "linecolor": "white",
           "ticks": "",
           "title": {
            "standoff": 15
           },
           "zerolinecolor": "white",
           "zerolinewidth": 2
          }
         }
        },
        "title": {
         "text": "NaN value percentage in each column"
        },
        "width": 1200,
        "xaxis": {
         "anchor": "y",
         "domain": [
          0,
          1
         ],
         "tickangle": 45,
         "title": {
          "text": "Columns"
         }
        },
        "yaxis": {
         "anchor": "x",
         "domain": [
          0,
          1
         ],
         "tickformat": "0%",
         "title": {
          "text": "NaN_pct"
         }
        }
       }
      }
     },
     "metadata": {},
     "output_type": "display_data"
    }
   ],
   "source": [
    "# Have a look at the unknown values in the train & test data\n",
    "\n",
    "print(colored('We see the distribution of NaN values in train data as below','green',attrs=['bold']))\n",
    "nan_value_plot(train)\n",
    "\n",
    "print('-------------------------------------------------------------------------------------------------')\n",
    "print('\\n')\n",
    "print(colored('We see the distribution of NaN values in test data as below','blue',attrs=['bold']))\n",
    "nan_value_plot(test)"
   ]
  },
  {
   "cell_type": "markdown",
   "id": "03482e3f",
   "metadata": {},
   "source": [
    "## Data Cleaning.\n",
    "\n",
    "There appear to be so much missing data that has to be addressed for easier data exploration."
   ]
  },
  {
   "cell_type": "code",
   "execution_count": 294,
   "id": "4b605b33-25e3-4a7e-ae52-50ea974c621c",
   "metadata": {},
   "outputs": [],
   "source": [
    "# Define a function that removes all whitespaces in the feature values and '?' values in some columns.\n",
    "\n",
    "def clean_strip(df):\n",
    "    df = df.apply(lambda x : x.str.strip() if x.dtype == 'object' else x)\n",
    "    df = df.replace('?', np.nan)\n",
    "    return df\n",
    "\n",
    "train_df = clean_strip(train_df)\n",
    "test_df = clean_strip(test_df)\n",
    "\n",
    "# Define a function that finds all columns with more than 70% NaN values and puts the names in a list.\n",
    "\n",
    "nan_cols_drop  = []\n",
    "for cols in test_df.columns:\n",
    "    if test_df[cols].isna().sum()/test_df.shape[0] >0.7:\n",
    "        nan_cols_drop.append(cols)"
   ]
  },
  {
   "cell_type": "code",
   "execution_count": 295,
   "id": "a926fdb5-979e-43bd-9046-0db2595bed18",
   "metadata": {},
   "outputs": [
    {
     "name": "stdout",
     "output_type": "stream",
     "text": [
      "\u001b[1m\u001b[33mWe will drop the following columns from both train and test data: \u001b[0m\n",
      "['education_institute', 'unemployment_reason', 'is_labor_union', 'under_18_family', 'veterans_admin_questionnaire', 'migration_prev_sunbelt', 'old_residence_reg', 'old_residence_state']\n"
     ]
    }
   ],
   "source": [
    "# Have a look at whats in the list of columns.\n",
    "\n",
    "print(colored(f'We will drop the following columns from both train and test data: ','yellow',attrs=['bold']))\n",
    "print(nan_cols_drop)"
   ]
  },
  {
   "cell_type": "code",
   "execution_count": 296,
   "id": "500ed1b7-4352-4b12-a51a-7fbd25ba85f2",
   "metadata": {},
   "outputs": [
    {
     "name": "stdout",
     "output_type": "stream",
     "text": [
      "The shape of train and test data before dropping columns with high proportion of NaN values is - \n",
      "\u001b[1m\u001b[32mThe shape of train data is    (209499, 42)     \u001b[0m\n",
      "\u001b[1m\u001b[32mThe shape of target column is (209499, 1)\u001b[0m\n",
      "\u001b[1m\u001b[34mThe shape of test data is     (89786, 41)      \u001b[0m\n"
     ]
    },
    {
     "name": "stdout",
     "output_type": "stream",
     "text": [
      "---------------------------------------------------------------------------------------------------\n",
      "The shape of train and test data after dropping columns with high proportion of NaN values is - \n",
      "\u001b[1m\u001b[32mThe shape of train data is    (209499, 34)     \u001b[0m\n",
      "\u001b[1m\u001b[32mThe shape of target column is (209499, 1)\u001b[0m\n",
      "\u001b[1m\u001b[34mThe shape of test data is     (89786, 33)      \u001b[0m\n"
     ]
    }
   ],
   "source": [
    "# Have a look at what happens to the structure of the dataset once we drop the columns with high nan values.\n",
    "## Structure of dataframe before drop.\n",
    "print('The shape of train and test data before dropping columns with high proportion of NaN values is - ')\n",
    "print(colored(f'The shape of train data is    {train_df.shape}     ','green',attrs=['bold']))\n",
    "\n",
    "print(colored(f'The shape of target column is {target_column.shape}','green',attrs=['bold']))\n",
    "\n",
    "print(colored(f'The shape of test data is     {test_df.shape}      ','blue',attrs=['bold']))\n",
    "\n",
    "## Drop the columns\n",
    "train_df = train_df.drop(nan_cols_drop,axis=1)\n",
    "test_df  = test_df.drop(nan_cols_drop,axis=1)\n",
    "\n",
    "## Structure of dataframe after drop.\n",
    "print('---------------------------------------------------------------------------------------------------')\n",
    "print('The shape of train and test data after dropping columns with high proportion of NaN values is - ')\n",
    "print(colored(f'The shape of train data is    {train_df.shape}     ','green',attrs=['bold']))\n",
    "\n",
    "print(colored(f'The shape of target column is {target_column.shape}','green',attrs=['bold']))\n",
    "\n",
    "print(colored(f'The shape of test data is     {test_df.shape}      ','blue',attrs=['bold']))"
   ]
  },
  {
   "cell_type": "markdown",
   "id": "193e0ebd-5ada-436f-a66c-8b4c2a15dc5d",
   "metadata": {},
   "source": [
    "## Handling Missing Data.\n",
    "\n",
    "We can now employ creative data replacement techniques based on logic and probability replacements."
   ]
  },
  {
   "cell_type": "code",
   "execution_count": 297,
   "id": "a6e45156-bdd1-4acb-8026-5ed7d6c97112",
   "metadata": {},
   "outputs": [
    {
     "data": {
      "text/html": [
       "<div>\n",
       "<style scoped>\n",
       "    .dataframe tbody tr th:only-of-type {\n",
       "        vertical-align: middle;\n",
       "    }\n",
       "\n",
       "    .dataframe tbody tr th {\n",
       "        vertical-align: top;\n",
       "    }\n",
       "\n",
       "    .dataframe thead th {\n",
       "        text-align: right;\n",
       "    }\n",
       "</style>\n",
       "<table border=\"1\" class=\"dataframe\">\n",
       "  <thead>\n",
       "    <tr style=\"text-align: right;\">\n",
       "      <th></th>\n",
       "      <th>age</th>\n",
       "      <th>gender</th>\n",
       "      <th>education</th>\n",
       "      <th>class</th>\n",
       "      <th>marital_status</th>\n",
       "      <th>race</th>\n",
       "      <th>is_hispanic</th>\n",
       "      <th>employment_commitment</th>\n",
       "      <th>employment_stat</th>\n",
       "      <th>wage_per_hour</th>\n",
       "      <th>working_week_per_year</th>\n",
       "      <th>industry_code</th>\n",
       "      <th>industry_code_main</th>\n",
       "      <th>occupation_code</th>\n",
       "      <th>occupation_code_main</th>\n",
       "      <th>total_employed</th>\n",
       "      <th>household_stat</th>\n",
       "      <th>household_summary</th>\n",
       "      <th>vet_benefit</th>\n",
       "      <th>tax_status</th>\n",
       "      <th>gains</th>\n",
       "      <th>losses</th>\n",
       "      <th>stocks_status</th>\n",
       "      <th>citizenship</th>\n",
       "      <th>mig_year</th>\n",
       "      <th>country_of_birth_own</th>\n",
       "      <th>country_of_birth_father</th>\n",
       "      <th>country_of_birth_mother</th>\n",
       "      <th>migration_code_change_in_msa</th>\n",
       "      <th>migration_code_move_within_reg</th>\n",
       "      <th>migration_code_change_in_reg</th>\n",
       "      <th>residence_1_year_ago</th>\n",
       "      <th>importance_of_record</th>\n",
       "      <th>income_above_limit</th>\n",
       "    </tr>\n",
       "  </thead>\n",
       "  <tbody>\n",
       "    <tr>\n",
       "      <th>3</th>\n",
       "      <td>2</td>\n",
       "      <td>Female</td>\n",
       "      <td>Children</td>\n",
       "      <td>NaN</td>\n",
       "      <td>Never married</td>\n",
       "      <td>Asian or Pacific Islander</td>\n",
       "      <td>All other</td>\n",
       "      <td>Children or Armed Forces</td>\n",
       "      <td>0</td>\n",
       "      <td>0</td>\n",
       "      <td>0</td>\n",
       "      <td>0</td>\n",
       "      <td>Not in universe or children</td>\n",
       "      <td>0</td>\n",
       "      <td>NaN</td>\n",
       "      <td>0</td>\n",
       "      <td>Child &lt;18 never marr not in subfamily</td>\n",
       "      <td>Child under 18 never married</td>\n",
       "      <td>0</td>\n",
       "      <td>Nonfiler</td>\n",
       "      <td>0</td>\n",
       "      <td>0</td>\n",
       "      <td>0</td>\n",
       "      <td>Native</td>\n",
       "      <td>94</td>\n",
       "      <td>US</td>\n",
       "      <td>India</td>\n",
       "      <td>India</td>\n",
       "      <td>unchanged</td>\n",
       "      <td>unchanged</td>\n",
       "      <td>unchanged</td>\n",
       "      <td>Same</td>\n",
       "      <td>1380.27</td>\n",
       "      <td>Below limit</td>\n",
       "    </tr>\n",
       "    <tr>\n",
       "      <th>11</th>\n",
       "      <td>4</td>\n",
       "      <td>Male</td>\n",
       "      <td>Children</td>\n",
       "      <td>NaN</td>\n",
       "      <td>Never married</td>\n",
       "      <td>Black</td>\n",
       "      <td>All other</td>\n",
       "      <td>Children or Armed Forces</td>\n",
       "      <td>0</td>\n",
       "      <td>0</td>\n",
       "      <td>0</td>\n",
       "      <td>0</td>\n",
       "      <td>Not in universe or children</td>\n",
       "      <td>0</td>\n",
       "      <td>NaN</td>\n",
       "      <td>0</td>\n",
       "      <td>Child &lt;18 never marr not in subfamily</td>\n",
       "      <td>Child under 18 never married</td>\n",
       "      <td>0</td>\n",
       "      <td>Nonfiler</td>\n",
       "      <td>0</td>\n",
       "      <td>0</td>\n",
       "      <td>0</td>\n",
       "      <td>Native</td>\n",
       "      <td>94</td>\n",
       "      <td>US</td>\n",
       "      <td>US</td>\n",
       "      <td>US</td>\n",
       "      <td>unchanged</td>\n",
       "      <td>unchanged</td>\n",
       "      <td>unchanged</td>\n",
       "      <td>Same</td>\n",
       "      <td>1944.73</td>\n",
       "      <td>Below limit</td>\n",
       "    </tr>\n",
       "    <tr>\n",
       "      <th>13</th>\n",
       "      <td>16</td>\n",
       "      <td>Female</td>\n",
       "      <td>9th grade</td>\n",
       "      <td>NaN</td>\n",
       "      <td>Never married</td>\n",
       "      <td>White</td>\n",
       "      <td>All other</td>\n",
       "      <td>Children or Armed Forces</td>\n",
       "      <td>0</td>\n",
       "      <td>0</td>\n",
       "      <td>0</td>\n",
       "      <td>0</td>\n",
       "      <td>Not in universe or children</td>\n",
       "      <td>0</td>\n",
       "      <td>NaN</td>\n",
       "      <td>0</td>\n",
       "      <td>Child &lt;18 never marr not in subfamily</td>\n",
       "      <td>Child under 18 never married</td>\n",
       "      <td>2</td>\n",
       "      <td>Nonfiler</td>\n",
       "      <td>0</td>\n",
       "      <td>0</td>\n",
       "      <td>0</td>\n",
       "      <td>Native</td>\n",
       "      <td>94</td>\n",
       "      <td>US</td>\n",
       "      <td>US</td>\n",
       "      <td>US</td>\n",
       "      <td>unchanged</td>\n",
       "      <td>unchanged</td>\n",
       "      <td>unchanged</td>\n",
       "      <td>Same</td>\n",
       "      <td>2684.64</td>\n",
       "      <td>Below limit</td>\n",
       "    </tr>\n",
       "    <tr>\n",
       "      <th>16</th>\n",
       "      <td>5</td>\n",
       "      <td>Female</td>\n",
       "      <td>Children</td>\n",
       "      <td>NaN</td>\n",
       "      <td>Never married</td>\n",
       "      <td>White</td>\n",
       "      <td>All other</td>\n",
       "      <td>Children or Armed Forces</td>\n",
       "      <td>0</td>\n",
       "      <td>0</td>\n",
       "      <td>0</td>\n",
       "      <td>0</td>\n",
       "      <td>Not in universe or children</td>\n",
       "      <td>0</td>\n",
       "      <td>NaN</td>\n",
       "      <td>0</td>\n",
       "      <td>Child &lt;18 never marr not in subfamily</td>\n",
       "      <td>Child under 18 never married</td>\n",
       "      <td>0</td>\n",
       "      <td>Nonfiler</td>\n",
       "      <td>0</td>\n",
       "      <td>0</td>\n",
       "      <td>0</td>\n",
       "      <td>Native</td>\n",
       "      <td>95</td>\n",
       "      <td>US</td>\n",
       "      <td>US</td>\n",
       "      <td>US</td>\n",
       "      <td>NaN</td>\n",
       "      <td>NaN</td>\n",
       "      <td>NaN</td>\n",
       "      <td>NaN</td>\n",
       "      <td>1340.44</td>\n",
       "      <td>Below limit</td>\n",
       "    </tr>\n",
       "    <tr>\n",
       "      <th>29</th>\n",
       "      <td>14</td>\n",
       "      <td>Male</td>\n",
       "      <td>Children</td>\n",
       "      <td>NaN</td>\n",
       "      <td>Never married</td>\n",
       "      <td>White</td>\n",
       "      <td>All other</td>\n",
       "      <td>Children or Armed Forces</td>\n",
       "      <td>0</td>\n",
       "      <td>0</td>\n",
       "      <td>0</td>\n",
       "      <td>0</td>\n",
       "      <td>Not in universe or children</td>\n",
       "      <td>0</td>\n",
       "      <td>NaN</td>\n",
       "      <td>0</td>\n",
       "      <td>Secondary individual</td>\n",
       "      <td>Nonrelative of householder</td>\n",
       "      <td>0</td>\n",
       "      <td>Nonfiler</td>\n",
       "      <td>0</td>\n",
       "      <td>0</td>\n",
       "      <td>0</td>\n",
       "      <td>Native</td>\n",
       "      <td>95</td>\n",
       "      <td>US</td>\n",
       "      <td>US</td>\n",
       "      <td>US</td>\n",
       "      <td>NaN</td>\n",
       "      <td>NaN</td>\n",
       "      <td>NaN</td>\n",
       "      <td>NaN</td>\n",
       "      <td>1652.34</td>\n",
       "      <td>Below limit</td>\n",
       "    </tr>\n",
       "  </tbody>\n",
       "</table>\n",
       "</div>"
      ],
      "text/plain": [
       "    age  gender  education class marital_status                       race  \\\n",
       "3     2  Female   Children   NaN  Never married  Asian or Pacific Islander   \n",
       "11    4    Male   Children   NaN  Never married                      Black   \n",
       "13   16  Female  9th grade   NaN  Never married                      White   \n",
       "16    5  Female   Children   NaN  Never married                      White   \n",
       "29   14    Male   Children   NaN  Never married                      White   \n",
       "\n",
       "   is_hispanic     employment_commitment  employment_stat  wage_per_hour  \\\n",
       "3    All other  Children or Armed Forces                0              0   \n",
       "11   All other  Children or Armed Forces                0              0   \n",
       "13   All other  Children or Armed Forces                0              0   \n",
       "16   All other  Children or Armed Forces                0              0   \n",
       "29   All other  Children or Armed Forces                0              0   \n",
       "\n",
       "    working_week_per_year  industry_code           industry_code_main  \\\n",
       "3                       0              0  Not in universe or children   \n",
       "11                      0              0  Not in universe or children   \n",
       "13                      0              0  Not in universe or children   \n",
       "16                      0              0  Not in universe or children   \n",
       "29                      0              0  Not in universe or children   \n",
       "\n",
       "    occupation_code occupation_code_main  total_employed  \\\n",
       "3                 0                  NaN               0   \n",
       "11                0                  NaN               0   \n",
       "13                0                  NaN               0   \n",
       "16                0                  NaN               0   \n",
       "29                0                  NaN               0   \n",
       "\n",
       "                           household_stat             household_summary  \\\n",
       "3   Child <18 never marr not in subfamily  Child under 18 never married   \n",
       "11  Child <18 never marr not in subfamily  Child under 18 never married   \n",
       "13  Child <18 never marr not in subfamily  Child under 18 never married   \n",
       "16  Child <18 never marr not in subfamily  Child under 18 never married   \n",
       "29                   Secondary individual    Nonrelative of householder   \n",
       "\n",
       "    vet_benefit tax_status  gains  losses  stocks_status citizenship  \\\n",
       "3             0   Nonfiler      0       0              0      Native   \n",
       "11            0   Nonfiler      0       0              0      Native   \n",
       "13            2   Nonfiler      0       0              0      Native   \n",
       "16            0   Nonfiler      0       0              0      Native   \n",
       "29            0   Nonfiler      0       0              0      Native   \n",
       "\n",
       "    mig_year country_of_birth_own country_of_birth_father  \\\n",
       "3         94                   US                   India   \n",
       "11        94                   US                      US   \n",
       "13        94                   US                      US   \n",
       "16        95                   US                      US   \n",
       "29        95                   US                      US   \n",
       "\n",
       "   country_of_birth_mother migration_code_change_in_msa  \\\n",
       "3                    India                    unchanged   \n",
       "11                      US                    unchanged   \n",
       "13                      US                    unchanged   \n",
       "16                      US                          NaN   \n",
       "29                      US                          NaN   \n",
       "\n",
       "   migration_code_move_within_reg migration_code_change_in_reg  \\\n",
       "3                       unchanged                    unchanged   \n",
       "11                      unchanged                    unchanged   \n",
       "13                      unchanged                    unchanged   \n",
       "16                            NaN                          NaN   \n",
       "29                            NaN                          NaN   \n",
       "\n",
       "   residence_1_year_ago  importance_of_record income_above_limit  \n",
       "3                  Same               1380.27        Below limit  \n",
       "11                 Same               1944.73        Below limit  \n",
       "13                 Same               2684.64        Below limit  \n",
       "16                  NaN               1340.44        Below limit  \n",
       "29                  NaN               1652.34        Below limit  "
      ]
     },
     "execution_count": 297,
     "metadata": {},
     "output_type": "execute_result"
    }
   ],
   "source": [
    "# Have a look at the values for people under 18 years.\n",
    "\n",
    "train_df[train_df[\"age\"] <= 18].head(5)"
   ]
  },
  {
   "cell_type": "code",
   "execution_count": 298,
   "id": "80840577-ce92-4a60-8bc1-703ca70b8c30",
   "metadata": {},
   "outputs": [
    {
     "data": {
      "text/html": [
       "<div>\n",
       "<style scoped>\n",
       "    .dataframe tbody tr th:only-of-type {\n",
       "        vertical-align: middle;\n",
       "    }\n",
       "\n",
       "    .dataframe tbody tr th {\n",
       "        vertical-align: top;\n",
       "    }\n",
       "\n",
       "    .dataframe thead th {\n",
       "        text-align: right;\n",
       "    }\n",
       "</style>\n",
       "<table border=\"1\" class=\"dataframe\">\n",
       "  <thead>\n",
       "    <tr style=\"text-align: right;\">\n",
       "      <th></th>\n",
       "      <th>age</th>\n",
       "      <th>gender</th>\n",
       "      <th>education</th>\n",
       "      <th>class</th>\n",
       "      <th>marital_status</th>\n",
       "      <th>race</th>\n",
       "      <th>is_hispanic</th>\n",
       "      <th>employment_commitment</th>\n",
       "      <th>employment_stat</th>\n",
       "      <th>wage_per_hour</th>\n",
       "      <th>working_week_per_year</th>\n",
       "      <th>industry_code</th>\n",
       "      <th>industry_code_main</th>\n",
       "      <th>occupation_code</th>\n",
       "      <th>occupation_code_main</th>\n",
       "      <th>total_employed</th>\n",
       "      <th>household_stat</th>\n",
       "      <th>household_summary</th>\n",
       "      <th>vet_benefit</th>\n",
       "      <th>tax_status</th>\n",
       "      <th>gains</th>\n",
       "      <th>losses</th>\n",
       "      <th>stocks_status</th>\n",
       "      <th>citizenship</th>\n",
       "      <th>mig_year</th>\n",
       "      <th>country_of_birth_own</th>\n",
       "      <th>country_of_birth_father</th>\n",
       "      <th>country_of_birth_mother</th>\n",
       "      <th>migration_code_change_in_msa</th>\n",
       "      <th>migration_code_move_within_reg</th>\n",
       "      <th>migration_code_change_in_reg</th>\n",
       "      <th>residence_1_year_ago</th>\n",
       "      <th>importance_of_record</th>\n",
       "      <th>income_above_limit</th>\n",
       "    </tr>\n",
       "  </thead>\n",
       "  <tbody>\n",
       "    <tr>\n",
       "      <th>0</th>\n",
       "      <td>79</td>\n",
       "      <td>Female</td>\n",
       "      <td>High school graduate</td>\n",
       "      <td>NaN</td>\n",
       "      <td>Widowed</td>\n",
       "      <td>White</td>\n",
       "      <td>All other</td>\n",
       "      <td>Not in labor force</td>\n",
       "      <td>0</td>\n",
       "      <td>0</td>\n",
       "      <td>52</td>\n",
       "      <td>0</td>\n",
       "      <td>Not in universe or children</td>\n",
       "      <td>0</td>\n",
       "      <td>NaN</td>\n",
       "      <td>2</td>\n",
       "      <td>Householder</td>\n",
       "      <td>Householder</td>\n",
       "      <td>2</td>\n",
       "      <td>Head of household</td>\n",
       "      <td>0</td>\n",
       "      <td>0</td>\n",
       "      <td>292</td>\n",
       "      <td>Native</td>\n",
       "      <td>95</td>\n",
       "      <td>US</td>\n",
       "      <td>US</td>\n",
       "      <td>US</td>\n",
       "      <td>NaN</td>\n",
       "      <td>NaN</td>\n",
       "      <td>NaN</td>\n",
       "      <td>NaN</td>\n",
       "      <td>1779.74</td>\n",
       "      <td>Below limit</td>\n",
       "    </tr>\n",
       "    <tr>\n",
       "      <th>1</th>\n",
       "      <td>65</td>\n",
       "      <td>Female</td>\n",
       "      <td>High school graduate</td>\n",
       "      <td>NaN</td>\n",
       "      <td>Widowed</td>\n",
       "      <td>White</td>\n",
       "      <td>All other</td>\n",
       "      <td>Children or Armed Forces</td>\n",
       "      <td>0</td>\n",
       "      <td>0</td>\n",
       "      <td>0</td>\n",
       "      <td>0</td>\n",
       "      <td>Not in universe or children</td>\n",
       "      <td>0</td>\n",
       "      <td>NaN</td>\n",
       "      <td>0</td>\n",
       "      <td>Nonfamily householder</td>\n",
       "      <td>Householder</td>\n",
       "      <td>2</td>\n",
       "      <td>Single</td>\n",
       "      <td>0</td>\n",
       "      <td>0</td>\n",
       "      <td>0</td>\n",
       "      <td>Native</td>\n",
       "      <td>94</td>\n",
       "      <td>US</td>\n",
       "      <td>US</td>\n",
       "      <td>US</td>\n",
       "      <td>unchanged</td>\n",
       "      <td>unchanged</td>\n",
       "      <td>unchanged</td>\n",
       "      <td>Same</td>\n",
       "      <td>2366.75</td>\n",
       "      <td>Below limit</td>\n",
       "    </tr>\n",
       "    <tr>\n",
       "      <th>4</th>\n",
       "      <td>70</td>\n",
       "      <td>Male</td>\n",
       "      <td>High school graduate</td>\n",
       "      <td>NaN</td>\n",
       "      <td>Married-civilian spouse present</td>\n",
       "      <td>White</td>\n",
       "      <td>All other</td>\n",
       "      <td>Not in labor force</td>\n",
       "      <td>0</td>\n",
       "      <td>0</td>\n",
       "      <td>0</td>\n",
       "      <td>0</td>\n",
       "      <td>Not in universe or children</td>\n",
       "      <td>0</td>\n",
       "      <td>NaN</td>\n",
       "      <td>0</td>\n",
       "      <td>Spouse of householder</td>\n",
       "      <td>Spouse of householder</td>\n",
       "      <td>2</td>\n",
       "      <td>Joint both 65+</td>\n",
       "      <td>0</td>\n",
       "      <td>0</td>\n",
       "      <td>0</td>\n",
       "      <td>Native</td>\n",
       "      <td>95</td>\n",
       "      <td>US</td>\n",
       "      <td>US</td>\n",
       "      <td>US</td>\n",
       "      <td>NaN</td>\n",
       "      <td>NaN</td>\n",
       "      <td>NaN</td>\n",
       "      <td>NaN</td>\n",
       "      <td>1580.79</td>\n",
       "      <td>Below limit</td>\n",
       "    </tr>\n",
       "    <tr>\n",
       "      <th>8</th>\n",
       "      <td>73</td>\n",
       "      <td>Female</td>\n",
       "      <td>7th and 8th grade</td>\n",
       "      <td>NaN</td>\n",
       "      <td>Married-civilian spouse present</td>\n",
       "      <td>Black</td>\n",
       "      <td>All other</td>\n",
       "      <td>Not in labor force</td>\n",
       "      <td>0</td>\n",
       "      <td>0</td>\n",
       "      <td>1</td>\n",
       "      <td>0</td>\n",
       "      <td>Not in universe or children</td>\n",
       "      <td>0</td>\n",
       "      <td>NaN</td>\n",
       "      <td>3</td>\n",
       "      <td>Spouse of householder</td>\n",
       "      <td>Spouse of householder</td>\n",
       "      <td>2</td>\n",
       "      <td>Joint both 65+</td>\n",
       "      <td>0</td>\n",
       "      <td>0</td>\n",
       "      <td>0</td>\n",
       "      <td>Native</td>\n",
       "      <td>95</td>\n",
       "      <td>US</td>\n",
       "      <td>US</td>\n",
       "      <td>US</td>\n",
       "      <td>NaN</td>\n",
       "      <td>NaN</td>\n",
       "      <td>NaN</td>\n",
       "      <td>NaN</td>\n",
       "      <td>1267.30</td>\n",
       "      <td>Below limit</td>\n",
       "    </tr>\n",
       "    <tr>\n",
       "      <th>17</th>\n",
       "      <td>88</td>\n",
       "      <td>Female</td>\n",
       "      <td>High school graduate</td>\n",
       "      <td>NaN</td>\n",
       "      <td>Widowed</td>\n",
       "      <td>White</td>\n",
       "      <td>All other</td>\n",
       "      <td>Not in labor force</td>\n",
       "      <td>0</td>\n",
       "      <td>0</td>\n",
       "      <td>0</td>\n",
       "      <td>0</td>\n",
       "      <td>Not in universe or children</td>\n",
       "      <td>0</td>\n",
       "      <td>NaN</td>\n",
       "      <td>0</td>\n",
       "      <td>Nonfamily householder</td>\n",
       "      <td>Householder</td>\n",
       "      <td>2</td>\n",
       "      <td>Single</td>\n",
       "      <td>991</td>\n",
       "      <td>0</td>\n",
       "      <td>400</td>\n",
       "      <td>Native</td>\n",
       "      <td>95</td>\n",
       "      <td>US</td>\n",
       "      <td>US</td>\n",
       "      <td>US</td>\n",
       "      <td>NaN</td>\n",
       "      <td>NaN</td>\n",
       "      <td>NaN</td>\n",
       "      <td>NaN</td>\n",
       "      <td>102.21</td>\n",
       "      <td>Below limit</td>\n",
       "    </tr>\n",
       "  </tbody>\n",
       "</table>\n",
       "</div>"
      ],
      "text/plain": [
       "    age  gender             education class                   marital_status  \\\n",
       "0    79  Female  High school graduate   NaN                          Widowed   \n",
       "1    65  Female  High school graduate   NaN                          Widowed   \n",
       "4    70    Male  High school graduate   NaN  Married-civilian spouse present   \n",
       "8    73  Female     7th and 8th grade   NaN  Married-civilian spouse present   \n",
       "17   88  Female  High school graduate   NaN                          Widowed   \n",
       "\n",
       "     race is_hispanic     employment_commitment  employment_stat  \\\n",
       "0   White   All other        Not in labor force                0   \n",
       "1   White   All other  Children or Armed Forces                0   \n",
       "4   White   All other        Not in labor force                0   \n",
       "8   Black   All other        Not in labor force                0   \n",
       "17  White   All other        Not in labor force                0   \n",
       "\n",
       "    wage_per_hour  working_week_per_year  industry_code  \\\n",
       "0               0                     52              0   \n",
       "1               0                      0              0   \n",
       "4               0                      0              0   \n",
       "8               0                      1              0   \n",
       "17              0                      0              0   \n",
       "\n",
       "             industry_code_main  occupation_code occupation_code_main  \\\n",
       "0   Not in universe or children                0                  NaN   \n",
       "1   Not in universe or children                0                  NaN   \n",
       "4   Not in universe or children                0                  NaN   \n",
       "8   Not in universe or children                0                  NaN   \n",
       "17  Not in universe or children                0                  NaN   \n",
       "\n",
       "    total_employed         household_stat      household_summary  vet_benefit  \\\n",
       "0                2            Householder            Householder            2   \n",
       "1                0  Nonfamily householder            Householder            2   \n",
       "4                0  Spouse of householder  Spouse of householder            2   \n",
       "8                3  Spouse of householder  Spouse of householder            2   \n",
       "17               0  Nonfamily householder            Householder            2   \n",
       "\n",
       "           tax_status  gains  losses  stocks_status citizenship  mig_year  \\\n",
       "0   Head of household      0       0            292      Native        95   \n",
       "1              Single      0       0              0      Native        94   \n",
       "4      Joint both 65+      0       0              0      Native        95   \n",
       "8      Joint both 65+      0       0              0      Native        95   \n",
       "17             Single    991       0            400      Native        95   \n",
       "\n",
       "   country_of_birth_own country_of_birth_father country_of_birth_mother  \\\n",
       "0                    US                      US                      US   \n",
       "1                    US                      US                      US   \n",
       "4                    US                      US                      US   \n",
       "8                    US                      US                      US   \n",
       "17                   US                      US                      US   \n",
       "\n",
       "   migration_code_change_in_msa migration_code_move_within_reg  \\\n",
       "0                           NaN                            NaN   \n",
       "1                     unchanged                      unchanged   \n",
       "4                           NaN                            NaN   \n",
       "8                           NaN                            NaN   \n",
       "17                          NaN                            NaN   \n",
       "\n",
       "   migration_code_change_in_reg residence_1_year_ago  importance_of_record  \\\n",
       "0                           NaN                  NaN               1779.74   \n",
       "1                     unchanged                 Same               2366.75   \n",
       "4                           NaN                  NaN               1580.79   \n",
       "8                           NaN                  NaN               1267.30   \n",
       "17                          NaN                  NaN                102.21   \n",
       "\n",
       "   income_above_limit  \n",
       "0         Below limit  \n",
       "1         Below limit  \n",
       "4         Below limit  \n",
       "8         Below limit  \n",
       "17        Below limit  "
      ]
     },
     "execution_count": 298,
     "metadata": {},
     "output_type": "execute_result"
    }
   ],
   "source": [
    "# Have a look at the values for people over 65 years.\n",
    "\n",
    "train_df[train_df[\"age\"] >= 65].head(5)"
   ]
  },
  {
   "cell_type": "code",
   "execution_count": 299,
   "id": "08b7a598-f2a6-4f98-bdc8-c0e4b9cd4d14",
   "metadata": {},
   "outputs": [
    {
     "data": {
      "text/html": [
       "<div>\n",
       "<style scoped>\n",
       "    .dataframe tbody tr th:only-of-type {\n",
       "        vertical-align: middle;\n",
       "    }\n",
       "\n",
       "    .dataframe tbody tr th {\n",
       "        vertical-align: top;\n",
       "    }\n",
       "\n",
       "    .dataframe thead th {\n",
       "        text-align: right;\n",
       "    }\n",
       "</style>\n",
       "<table border=\"1\" class=\"dataframe\">\n",
       "  <thead>\n",
       "    <tr style=\"text-align: right;\">\n",
       "      <th></th>\n",
       "      <th>age</th>\n",
       "      <th>gender</th>\n",
       "      <th>education</th>\n",
       "      <th>class</th>\n",
       "      <th>marital_status</th>\n",
       "      <th>race</th>\n",
       "      <th>is_hispanic</th>\n",
       "      <th>employment_commitment</th>\n",
       "      <th>employment_stat</th>\n",
       "      <th>wage_per_hour</th>\n",
       "      <th>working_week_per_year</th>\n",
       "      <th>industry_code</th>\n",
       "      <th>industry_code_main</th>\n",
       "      <th>occupation_code</th>\n",
       "      <th>occupation_code_main</th>\n",
       "      <th>total_employed</th>\n",
       "      <th>household_stat</th>\n",
       "      <th>household_summary</th>\n",
       "      <th>vet_benefit</th>\n",
       "      <th>tax_status</th>\n",
       "      <th>gains</th>\n",
       "      <th>losses</th>\n",
       "      <th>stocks_status</th>\n",
       "      <th>citizenship</th>\n",
       "      <th>mig_year</th>\n",
       "      <th>country_of_birth_own</th>\n",
       "      <th>country_of_birth_father</th>\n",
       "      <th>country_of_birth_mother</th>\n",
       "      <th>migration_code_change_in_msa</th>\n",
       "      <th>migration_code_move_within_reg</th>\n",
       "      <th>migration_code_change_in_reg</th>\n",
       "      <th>residence_1_year_ago</th>\n",
       "      <th>importance_of_record</th>\n",
       "      <th>income_above_limit</th>\n",
       "    </tr>\n",
       "  </thead>\n",
       "  <tbody>\n",
       "    <tr>\n",
       "      <th>0</th>\n",
       "      <td>79</td>\n",
       "      <td>Female</td>\n",
       "      <td>High school graduate</td>\n",
       "      <td>Retired</td>\n",
       "      <td>Widowed</td>\n",
       "      <td>White</td>\n",
       "      <td>All other</td>\n",
       "      <td>Not in labor force</td>\n",
       "      <td>0</td>\n",
       "      <td>0</td>\n",
       "      <td>52</td>\n",
       "      <td>0</td>\n",
       "      <td>Not in universe or children</td>\n",
       "      <td>0</td>\n",
       "      <td>None</td>\n",
       "      <td>2</td>\n",
       "      <td>Householder</td>\n",
       "      <td>Householder</td>\n",
       "      <td>2</td>\n",
       "      <td>Head of household</td>\n",
       "      <td>0</td>\n",
       "      <td>0</td>\n",
       "      <td>292</td>\n",
       "      <td>Native</td>\n",
       "      <td>95</td>\n",
       "      <td>US</td>\n",
       "      <td>US</td>\n",
       "      <td>US</td>\n",
       "      <td>NaN</td>\n",
       "      <td>NaN</td>\n",
       "      <td>NaN</td>\n",
       "      <td>NaN</td>\n",
       "      <td>1779.74</td>\n",
       "      <td>Below limit</td>\n",
       "    </tr>\n",
       "    <tr>\n",
       "      <th>1</th>\n",
       "      <td>65</td>\n",
       "      <td>Female</td>\n",
       "      <td>High school graduate</td>\n",
       "      <td>Retired</td>\n",
       "      <td>Widowed</td>\n",
       "      <td>White</td>\n",
       "      <td>All other</td>\n",
       "      <td>Children or Armed Forces</td>\n",
       "      <td>0</td>\n",
       "      <td>0</td>\n",
       "      <td>0</td>\n",
       "      <td>0</td>\n",
       "      <td>Not in universe or children</td>\n",
       "      <td>0</td>\n",
       "      <td>None</td>\n",
       "      <td>0</td>\n",
       "      <td>Nonfamily householder</td>\n",
       "      <td>Householder</td>\n",
       "      <td>2</td>\n",
       "      <td>Single</td>\n",
       "      <td>0</td>\n",
       "      <td>0</td>\n",
       "      <td>0</td>\n",
       "      <td>Native</td>\n",
       "      <td>94</td>\n",
       "      <td>US</td>\n",
       "      <td>US</td>\n",
       "      <td>US</td>\n",
       "      <td>unchanged</td>\n",
       "      <td>unchanged</td>\n",
       "      <td>unchanged</td>\n",
       "      <td>Same</td>\n",
       "      <td>2366.75</td>\n",
       "      <td>Below limit</td>\n",
       "    </tr>\n",
       "    <tr>\n",
       "      <th>4</th>\n",
       "      <td>70</td>\n",
       "      <td>Male</td>\n",
       "      <td>High school graduate</td>\n",
       "      <td>Retired</td>\n",
       "      <td>Married-civilian spouse present</td>\n",
       "      <td>White</td>\n",
       "      <td>All other</td>\n",
       "      <td>Not in labor force</td>\n",
       "      <td>0</td>\n",
       "      <td>0</td>\n",
       "      <td>0</td>\n",
       "      <td>0</td>\n",
       "      <td>Not in universe or children</td>\n",
       "      <td>0</td>\n",
       "      <td>None</td>\n",
       "      <td>0</td>\n",
       "      <td>Spouse of householder</td>\n",
       "      <td>Spouse of householder</td>\n",
       "      <td>2</td>\n",
       "      <td>Joint both 65+</td>\n",
       "      <td>0</td>\n",
       "      <td>0</td>\n",
       "      <td>0</td>\n",
       "      <td>Native</td>\n",
       "      <td>95</td>\n",
       "      <td>US</td>\n",
       "      <td>US</td>\n",
       "      <td>US</td>\n",
       "      <td>NaN</td>\n",
       "      <td>NaN</td>\n",
       "      <td>NaN</td>\n",
       "      <td>NaN</td>\n",
       "      <td>1580.79</td>\n",
       "      <td>Below limit</td>\n",
       "    </tr>\n",
       "    <tr>\n",
       "      <th>8</th>\n",
       "      <td>73</td>\n",
       "      <td>Female</td>\n",
       "      <td>7th and 8th grade</td>\n",
       "      <td>Retired</td>\n",
       "      <td>Married-civilian spouse present</td>\n",
       "      <td>Black</td>\n",
       "      <td>All other</td>\n",
       "      <td>Not in labor force</td>\n",
       "      <td>0</td>\n",
       "      <td>0</td>\n",
       "      <td>1</td>\n",
       "      <td>0</td>\n",
       "      <td>Not in universe or children</td>\n",
       "      <td>0</td>\n",
       "      <td>None</td>\n",
       "      <td>3</td>\n",
       "      <td>Spouse of householder</td>\n",
       "      <td>Spouse of householder</td>\n",
       "      <td>2</td>\n",
       "      <td>Joint both 65+</td>\n",
       "      <td>0</td>\n",
       "      <td>0</td>\n",
       "      <td>0</td>\n",
       "      <td>Native</td>\n",
       "      <td>95</td>\n",
       "      <td>US</td>\n",
       "      <td>US</td>\n",
       "      <td>US</td>\n",
       "      <td>NaN</td>\n",
       "      <td>NaN</td>\n",
       "      <td>NaN</td>\n",
       "      <td>NaN</td>\n",
       "      <td>1267.30</td>\n",
       "      <td>Below limit</td>\n",
       "    </tr>\n",
       "    <tr>\n",
       "      <th>17</th>\n",
       "      <td>88</td>\n",
       "      <td>Female</td>\n",
       "      <td>High school graduate</td>\n",
       "      <td>Retired</td>\n",
       "      <td>Widowed</td>\n",
       "      <td>White</td>\n",
       "      <td>All other</td>\n",
       "      <td>Not in labor force</td>\n",
       "      <td>0</td>\n",
       "      <td>0</td>\n",
       "      <td>0</td>\n",
       "      <td>0</td>\n",
       "      <td>Not in universe or children</td>\n",
       "      <td>0</td>\n",
       "      <td>None</td>\n",
       "      <td>0</td>\n",
       "      <td>Nonfamily householder</td>\n",
       "      <td>Householder</td>\n",
       "      <td>2</td>\n",
       "      <td>Single</td>\n",
       "      <td>991</td>\n",
       "      <td>0</td>\n",
       "      <td>400</td>\n",
       "      <td>Native</td>\n",
       "      <td>95</td>\n",
       "      <td>US</td>\n",
       "      <td>US</td>\n",
       "      <td>US</td>\n",
       "      <td>NaN</td>\n",
       "      <td>NaN</td>\n",
       "      <td>NaN</td>\n",
       "      <td>NaN</td>\n",
       "      <td>102.21</td>\n",
       "      <td>Below limit</td>\n",
       "    </tr>\n",
       "  </tbody>\n",
       "</table>\n",
       "</div>"
      ],
      "text/plain": [
       "    age  gender             education    class  \\\n",
       "0    79  Female  High school graduate  Retired   \n",
       "1    65  Female  High school graduate  Retired   \n",
       "4    70    Male  High school graduate  Retired   \n",
       "8    73  Female     7th and 8th grade  Retired   \n",
       "17   88  Female  High school graduate  Retired   \n",
       "\n",
       "                     marital_status   race is_hispanic  \\\n",
       "0                           Widowed  White   All other   \n",
       "1                           Widowed  White   All other   \n",
       "4   Married-civilian spouse present  White   All other   \n",
       "8   Married-civilian spouse present  Black   All other   \n",
       "17                          Widowed  White   All other   \n",
       "\n",
       "       employment_commitment  employment_stat  wage_per_hour  \\\n",
       "0         Not in labor force                0              0   \n",
       "1   Children or Armed Forces                0              0   \n",
       "4         Not in labor force                0              0   \n",
       "8         Not in labor force                0              0   \n",
       "17        Not in labor force                0              0   \n",
       "\n",
       "    working_week_per_year  industry_code           industry_code_main  \\\n",
       "0                      52              0  Not in universe or children   \n",
       "1                       0              0  Not in universe or children   \n",
       "4                       0              0  Not in universe or children   \n",
       "8                       1              0  Not in universe or children   \n",
       "17                      0              0  Not in universe or children   \n",
       "\n",
       "    occupation_code occupation_code_main  total_employed  \\\n",
       "0                 0                 None               2   \n",
       "1                 0                 None               0   \n",
       "4                 0                 None               0   \n",
       "8                 0                 None               3   \n",
       "17                0                 None               0   \n",
       "\n",
       "           household_stat      household_summary  vet_benefit  \\\n",
       "0             Householder            Householder            2   \n",
       "1   Nonfamily householder            Householder            2   \n",
       "4   Spouse of householder  Spouse of householder            2   \n",
       "8   Spouse of householder  Spouse of householder            2   \n",
       "17  Nonfamily householder            Householder            2   \n",
       "\n",
       "           tax_status  gains  losses  stocks_status citizenship  mig_year  \\\n",
       "0   Head of household      0       0            292      Native        95   \n",
       "1              Single      0       0              0      Native        94   \n",
       "4      Joint both 65+      0       0              0      Native        95   \n",
       "8      Joint both 65+      0       0              0      Native        95   \n",
       "17             Single    991       0            400      Native        95   \n",
       "\n",
       "   country_of_birth_own country_of_birth_father country_of_birth_mother  \\\n",
       "0                    US                      US                      US   \n",
       "1                    US                      US                      US   \n",
       "4                    US                      US                      US   \n",
       "8                    US                      US                      US   \n",
       "17                   US                      US                      US   \n",
       "\n",
       "   migration_code_change_in_msa migration_code_move_within_reg  \\\n",
       "0                           NaN                            NaN   \n",
       "1                     unchanged                      unchanged   \n",
       "4                           NaN                            NaN   \n",
       "8                           NaN                            NaN   \n",
       "17                          NaN                            NaN   \n",
       "\n",
       "   migration_code_change_in_reg residence_1_year_ago  importance_of_record  \\\n",
       "0                           NaN                  NaN               1779.74   \n",
       "1                     unchanged                 Same               2366.75   \n",
       "4                           NaN                  NaN               1580.79   \n",
       "8                           NaN                  NaN               1267.30   \n",
       "17                          NaN                  NaN                102.21   \n",
       "\n",
       "   income_above_limit  \n",
       "0         Below limit  \n",
       "1         Below limit  \n",
       "4         Below limit  \n",
       "8         Below limit  \n",
       "17        Below limit  "
      ]
     },
     "execution_count": 299,
     "metadata": {},
     "output_type": "execute_result"
    }
   ],
   "source": [
    "# We can assume that if they're younger than 18 and arent classed in any professional class then they've never been employed\n",
    "#  and if they're older than 65 and professionally unclass then there is a high probability they're retired.\n",
    "\n",
    "## Function to update employment status and related fields based on age and NaN values\n",
    "def update_employment_related(df):\n",
    "    df.loc[(df[\"age\"] <= 18) & pd.isna(df[\"class\"]), [\"class\", \"occupation_code\", \"occupation_code_main\"]] = [\"Never worked\", 0, \"None\"]\n",
    "    df.loc[(df[\"age\"] >= 65) & pd.isna(df[\"class\"]), [\"class\", \"occupation_code\", \"occupation_code_main\"]] = [\"Retired\", 0, \"None\"]\n",
    "    return df\n",
    "\n",
    "## Apply the function to the DataFrame\n",
    "train_df = update_employment_related(train_df.copy())  # Use a copy to avoid modifying the original\n",
    "test_df = update_employment_related(test_df.copy())  # Use a copy to avoid modifying the original\n",
    "\n",
    "## Confirm change has been implemented.\n",
    "train_df[train_df[\"age\"] >= 65].head(5)"
   ]
  },
  {
   "cell_type": "code",
   "execution_count": 300,
   "id": "25a76999-9534-4b9b-8372-dc75a2881d26",
   "metadata": {},
   "outputs": [
    {
     "data": {
      "text/html": [
       "<div>\n",
       "<style scoped>\n",
       "    .dataframe tbody tr th:only-of-type {\n",
       "        vertical-align: middle;\n",
       "    }\n",
       "\n",
       "    .dataframe tbody tr th {\n",
       "        vertical-align: top;\n",
       "    }\n",
       "\n",
       "    .dataframe thead th {\n",
       "        text-align: right;\n",
       "    }\n",
       "</style>\n",
       "<table border=\"1\" class=\"dataframe\">\n",
       "  <thead>\n",
       "    <tr style=\"text-align: right;\">\n",
       "      <th></th>\n",
       "      <th>age</th>\n",
       "      <th>gender</th>\n",
       "      <th>education</th>\n",
       "      <th>class</th>\n",
       "      <th>marital_status</th>\n",
       "      <th>race</th>\n",
       "      <th>is_hispanic</th>\n",
       "      <th>employment_commitment</th>\n",
       "      <th>employment_stat</th>\n",
       "      <th>wage_per_hour</th>\n",
       "      <th>working_week_per_year</th>\n",
       "      <th>industry_code</th>\n",
       "      <th>industry_code_main</th>\n",
       "      <th>occupation_code</th>\n",
       "      <th>occupation_code_main</th>\n",
       "      <th>total_employed</th>\n",
       "      <th>household_stat</th>\n",
       "      <th>household_summary</th>\n",
       "      <th>vet_benefit</th>\n",
       "      <th>tax_status</th>\n",
       "      <th>gains</th>\n",
       "      <th>losses</th>\n",
       "      <th>stocks_status</th>\n",
       "      <th>citizenship</th>\n",
       "      <th>mig_year</th>\n",
       "      <th>country_of_birth_own</th>\n",
       "      <th>country_of_birth_father</th>\n",
       "      <th>country_of_birth_mother</th>\n",
       "      <th>migration_code_change_in_msa</th>\n",
       "      <th>migration_code_move_within_reg</th>\n",
       "      <th>migration_code_change_in_reg</th>\n",
       "      <th>residence_1_year_ago</th>\n",
       "      <th>importance_of_record</th>\n",
       "      <th>income_above_limit</th>\n",
       "    </tr>\n",
       "  </thead>\n",
       "  <tbody>\n",
       "    <tr>\n",
       "      <th>12</th>\n",
       "      <td>21</td>\n",
       "      <td>Female</td>\n",
       "      <td>High school graduate</td>\n",
       "      <td>NaN</td>\n",
       "      <td>Never married</td>\n",
       "      <td>White</td>\n",
       "      <td>All other</td>\n",
       "      <td>Not in labor force</td>\n",
       "      <td>0</td>\n",
       "      <td>0</td>\n",
       "      <td>0</td>\n",
       "      <td>0</td>\n",
       "      <td>Not in universe or children</td>\n",
       "      <td>0</td>\n",
       "      <td>NaN</td>\n",
       "      <td>0</td>\n",
       "      <td>Child 18+ never marr RP of subfamily</td>\n",
       "      <td>Child 18 or older</td>\n",
       "      <td>2</td>\n",
       "      <td>Nonfiler</td>\n",
       "      <td>0</td>\n",
       "      <td>0</td>\n",
       "      <td>0</td>\n",
       "      <td>Native</td>\n",
       "      <td>95</td>\n",
       "      <td>US</td>\n",
       "      <td>US</td>\n",
       "      <td>US</td>\n",
       "      <td>NaN</td>\n",
       "      <td>NaN</td>\n",
       "      <td>NaN</td>\n",
       "      <td>NaN</td>\n",
       "      <td>1286.84</td>\n",
       "      <td>Below limit</td>\n",
       "    </tr>\n",
       "    <tr>\n",
       "      <th>15</th>\n",
       "      <td>36</td>\n",
       "      <td>Female</td>\n",
       "      <td>High school graduate</td>\n",
       "      <td>NaN</td>\n",
       "      <td>Married-civilian spouse present</td>\n",
       "      <td>White</td>\n",
       "      <td>Mexican-American</td>\n",
       "      <td>Children or Armed Forces</td>\n",
       "      <td>0</td>\n",
       "      <td>0</td>\n",
       "      <td>0</td>\n",
       "      <td>0</td>\n",
       "      <td>Not in universe or children</td>\n",
       "      <td>0</td>\n",
       "      <td>NaN</td>\n",
       "      <td>0</td>\n",
       "      <td>Spouse of householder</td>\n",
       "      <td>Spouse of householder</td>\n",
       "      <td>2</td>\n",
       "      <td>Joint both under 65</td>\n",
       "      <td>0</td>\n",
       "      <td>0</td>\n",
       "      <td>0</td>\n",
       "      <td>Native</td>\n",
       "      <td>94</td>\n",
       "      <td>US</td>\n",
       "      <td>US</td>\n",
       "      <td>US</td>\n",
       "      <td>unchanged</td>\n",
       "      <td>unchanged</td>\n",
       "      <td>unchanged</td>\n",
       "      <td>Same</td>\n",
       "      <td>1705.38</td>\n",
       "      <td>Below limit</td>\n",
       "    </tr>\n",
       "    <tr>\n",
       "      <th>27</th>\n",
       "      <td>29</td>\n",
       "      <td>Female</td>\n",
       "      <td>High school graduate</td>\n",
       "      <td>NaN</td>\n",
       "      <td>Married-civilian spouse present</td>\n",
       "      <td>White</td>\n",
       "      <td>All other</td>\n",
       "      <td>Children or Armed Forces</td>\n",
       "      <td>0</td>\n",
       "      <td>0</td>\n",
       "      <td>0</td>\n",
       "      <td>0</td>\n",
       "      <td>Not in universe or children</td>\n",
       "      <td>0</td>\n",
       "      <td>NaN</td>\n",
       "      <td>0</td>\n",
       "      <td>Spouse of householder</td>\n",
       "      <td>Spouse of householder</td>\n",
       "      <td>2</td>\n",
       "      <td>Joint both under 65</td>\n",
       "      <td>0</td>\n",
       "      <td>0</td>\n",
       "      <td>0</td>\n",
       "      <td>Native</td>\n",
       "      <td>94</td>\n",
       "      <td>US</td>\n",
       "      <td>US</td>\n",
       "      <td>US</td>\n",
       "      <td>unchanged</td>\n",
       "      <td>unchanged</td>\n",
       "      <td>unchanged</td>\n",
       "      <td>Same</td>\n",
       "      <td>1096.59</td>\n",
       "      <td>Below limit</td>\n",
       "    </tr>\n",
       "    <tr>\n",
       "      <th>28</th>\n",
       "      <td>41</td>\n",
       "      <td>Female</td>\n",
       "      <td>Associates degree-academic program</td>\n",
       "      <td>NaN</td>\n",
       "      <td>Never married</td>\n",
       "      <td>White</td>\n",
       "      <td>All other</td>\n",
       "      <td>Not in labor force</td>\n",
       "      <td>0</td>\n",
       "      <td>0</td>\n",
       "      <td>0</td>\n",
       "      <td>0</td>\n",
       "      <td>Not in universe or children</td>\n",
       "      <td>0</td>\n",
       "      <td>NaN</td>\n",
       "      <td>0</td>\n",
       "      <td>Child 18+ never marr Not in a subfamily</td>\n",
       "      <td>Child 18 or older</td>\n",
       "      <td>2</td>\n",
       "      <td>Nonfiler</td>\n",
       "      <td>0</td>\n",
       "      <td>0</td>\n",
       "      <td>0</td>\n",
       "      <td>Foreign born- U S citizen by naturalization</td>\n",
       "      <td>95</td>\n",
       "      <td>NaN</td>\n",
       "      <td>Germany</td>\n",
       "      <td>Germany</td>\n",
       "      <td>NaN</td>\n",
       "      <td>NaN</td>\n",
       "      <td>NaN</td>\n",
       "      <td>NaN</td>\n",
       "      <td>1982.02</td>\n",
       "      <td>Below limit</td>\n",
       "    </tr>\n",
       "    <tr>\n",
       "      <th>30</th>\n",
       "      <td>45</td>\n",
       "      <td>Female</td>\n",
       "      <td>High school graduate</td>\n",
       "      <td>NaN</td>\n",
       "      <td>Married-civilian spouse present</td>\n",
       "      <td>Black</td>\n",
       "      <td>All other</td>\n",
       "      <td>Children or Armed Forces</td>\n",
       "      <td>0</td>\n",
       "      <td>0</td>\n",
       "      <td>0</td>\n",
       "      <td>0</td>\n",
       "      <td>Not in universe or children</td>\n",
       "      <td>0</td>\n",
       "      <td>NaN</td>\n",
       "      <td>0</td>\n",
       "      <td>Householder</td>\n",
       "      <td>Householder</td>\n",
       "      <td>2</td>\n",
       "      <td>Joint both under 65</td>\n",
       "      <td>0</td>\n",
       "      <td>0</td>\n",
       "      <td>0</td>\n",
       "      <td>Native</td>\n",
       "      <td>94</td>\n",
       "      <td>US</td>\n",
       "      <td>US</td>\n",
       "      <td>US</td>\n",
       "      <td>unchanged</td>\n",
       "      <td>unchanged</td>\n",
       "      <td>unchanged</td>\n",
       "      <td>Same</td>\n",
       "      <td>1131.42</td>\n",
       "      <td>Below limit</td>\n",
       "    </tr>\n",
       "  </tbody>\n",
       "</table>\n",
       "</div>"
      ],
      "text/plain": [
       "    age  gender                           education class  \\\n",
       "12   21  Female                High school graduate   NaN   \n",
       "15   36  Female                High school graduate   NaN   \n",
       "27   29  Female                High school graduate   NaN   \n",
       "28   41  Female  Associates degree-academic program   NaN   \n",
       "30   45  Female                High school graduate   NaN   \n",
       "\n",
       "                     marital_status   race       is_hispanic  \\\n",
       "12                    Never married  White         All other   \n",
       "15  Married-civilian spouse present  White  Mexican-American   \n",
       "27  Married-civilian spouse present  White         All other   \n",
       "28                    Never married  White         All other   \n",
       "30  Married-civilian spouse present  Black         All other   \n",
       "\n",
       "       employment_commitment  employment_stat  wage_per_hour  \\\n",
       "12        Not in labor force                0              0   \n",
       "15  Children or Armed Forces                0              0   \n",
       "27  Children or Armed Forces                0              0   \n",
       "28        Not in labor force                0              0   \n",
       "30  Children or Armed Forces                0              0   \n",
       "\n",
       "    working_week_per_year  industry_code           industry_code_main  \\\n",
       "12                      0              0  Not in universe or children   \n",
       "15                      0              0  Not in universe or children   \n",
       "27                      0              0  Not in universe or children   \n",
       "28                      0              0  Not in universe or children   \n",
       "30                      0              0  Not in universe or children   \n",
       "\n",
       "    occupation_code occupation_code_main  total_employed  \\\n",
       "12                0                  NaN               0   \n",
       "15                0                  NaN               0   \n",
       "27                0                  NaN               0   \n",
       "28                0                  NaN               0   \n",
       "30                0                  NaN               0   \n",
       "\n",
       "                             household_stat      household_summary  \\\n",
       "12     Child 18+ never marr RP of subfamily      Child 18 or older   \n",
       "15                    Spouse of householder  Spouse of householder   \n",
       "27                    Spouse of householder  Spouse of householder   \n",
       "28  Child 18+ never marr Not in a subfamily      Child 18 or older   \n",
       "30                              Householder            Householder   \n",
       "\n",
       "    vet_benefit           tax_status  gains  losses  stocks_status  \\\n",
       "12            2             Nonfiler      0       0              0   \n",
       "15            2  Joint both under 65      0       0              0   \n",
       "27            2  Joint both under 65      0       0              0   \n",
       "28            2             Nonfiler      0       0              0   \n",
       "30            2  Joint both under 65      0       0              0   \n",
       "\n",
       "                                    citizenship  mig_year  \\\n",
       "12                                       Native        95   \n",
       "15                                       Native        94   \n",
       "27                                       Native        94   \n",
       "28  Foreign born- U S citizen by naturalization        95   \n",
       "30                                       Native        94   \n",
       "\n",
       "   country_of_birth_own country_of_birth_father country_of_birth_mother  \\\n",
       "12                   US                      US                      US   \n",
       "15                   US                      US                      US   \n",
       "27                   US                      US                      US   \n",
       "28                  NaN                 Germany                 Germany   \n",
       "30                   US                      US                      US   \n",
       "\n",
       "   migration_code_change_in_msa migration_code_move_within_reg  \\\n",
       "12                          NaN                            NaN   \n",
       "15                    unchanged                      unchanged   \n",
       "27                    unchanged                      unchanged   \n",
       "28                          NaN                            NaN   \n",
       "30                    unchanged                      unchanged   \n",
       "\n",
       "   migration_code_change_in_reg residence_1_year_ago  importance_of_record  \\\n",
       "12                          NaN                  NaN               1286.84   \n",
       "15                    unchanged                 Same               1705.38   \n",
       "27                    unchanged                 Same               1096.59   \n",
       "28                          NaN                  NaN               1982.02   \n",
       "30                    unchanged                 Same               1131.42   \n",
       "\n",
       "   income_above_limit  \n",
       "12        Below limit  \n",
       "15        Below limit  \n",
       "27        Below limit  \n",
       "28        Below limit  \n",
       "30        Below limit  "
      ]
     },
     "execution_count": 300,
     "metadata": {},
     "output_type": "execute_result"
    }
   ],
   "source": [
    "# Have a look at the values for the remaining people who's 'class' variable is still unknown.\n",
    "\n",
    "train_df[train_df[\"class\"].isnull()].head(5)"
   ]
  },
  {
   "cell_type": "code",
   "execution_count": 301,
   "id": "ed14a4f6-196a-4af3-b973-da95c2633c5d",
   "metadata": {},
   "outputs": [
    {
     "data": {
      "text/html": [
       "<div>\n",
       "<style scoped>\n",
       "    .dataframe tbody tr th:only-of-type {\n",
       "        vertical-align: middle;\n",
       "    }\n",
       "\n",
       "    .dataframe tbody tr th {\n",
       "        vertical-align: top;\n",
       "    }\n",
       "\n",
       "    .dataframe thead th {\n",
       "        text-align: right;\n",
       "    }\n",
       "</style>\n",
       "<table border=\"1\" class=\"dataframe\">\n",
       "  <thead>\n",
       "    <tr style=\"text-align: right;\">\n",
       "      <th></th>\n",
       "      <th>age</th>\n",
       "      <th>gender</th>\n",
       "      <th>education</th>\n",
       "      <th>class</th>\n",
       "      <th>marital_status</th>\n",
       "      <th>race</th>\n",
       "      <th>is_hispanic</th>\n",
       "      <th>employment_commitment</th>\n",
       "      <th>employment_stat</th>\n",
       "      <th>wage_per_hour</th>\n",
       "      <th>working_week_per_year</th>\n",
       "      <th>industry_code</th>\n",
       "      <th>industry_code_main</th>\n",
       "      <th>occupation_code</th>\n",
       "      <th>occupation_code_main</th>\n",
       "      <th>total_employed</th>\n",
       "      <th>household_stat</th>\n",
       "      <th>household_summary</th>\n",
       "      <th>vet_benefit</th>\n",
       "      <th>tax_status</th>\n",
       "      <th>gains</th>\n",
       "      <th>losses</th>\n",
       "      <th>stocks_status</th>\n",
       "      <th>citizenship</th>\n",
       "      <th>mig_year</th>\n",
       "      <th>country_of_birth_own</th>\n",
       "      <th>country_of_birth_father</th>\n",
       "      <th>country_of_birth_mother</th>\n",
       "      <th>migration_code_change_in_msa</th>\n",
       "      <th>migration_code_move_within_reg</th>\n",
       "      <th>migration_code_change_in_reg</th>\n",
       "      <th>residence_1_year_ago</th>\n",
       "      <th>importance_of_record</th>\n",
       "      <th>income_above_limit</th>\n",
       "    </tr>\n",
       "  </thead>\n",
       "  <tbody>\n",
       "  </tbody>\n",
       "</table>\n",
       "</div>"
      ],
      "text/plain": [
       "Empty DataFrame\n",
       "Columns: [age, gender, education, class, marital_status, race, is_hispanic, employment_commitment, employment_stat, wage_per_hour, working_week_per_year, industry_code, industry_code_main, occupation_code, occupation_code_main, total_employed, household_stat, household_summary, vet_benefit, tax_status, gains, losses, stocks_status, citizenship, mig_year, country_of_birth_own, country_of_birth_father, country_of_birth_mother, migration_code_change_in_msa, migration_code_move_within_reg, migration_code_change_in_reg, residence_1_year_ago, importance_of_record, income_above_limit]\n",
       "Index: []"
      ]
     },
     "execution_count": 301,
     "metadata": {},
     "output_type": "execute_result"
    }
   ],
   "source": [
    "# We can assume that the remaining people between 18-64 are just unemployed (there are outliers but we can assume they are few)\n",
    "# Function to update employment status and related fields based on unknown 'class' variable.\n",
    "def update_employment_related(df):\n",
    "    df.loc[(df[\"occupation_code\"] == 0) & pd.isna(df[\"class\"]), [\"class\", \"occupation_code\", \"occupation_code_main\"]] = [\"Unemployed\", 0, \"None\"]\n",
    "    return df\n",
    "\n",
    "# Apply the function to the DataFrame\n",
    "train_df = update_employment_related(train_df.copy())  # Use a copy to avoid modifying the original\n",
    "test_df  = update_employment_related(test_df.copy())  # Use a copy to avoid modifying the original\n",
    "\n",
    "train_df[train_df[\"class\"].isnull()].head(5)"
   ]
  },
  {
   "cell_type": "code",
   "execution_count": 302,
   "id": "fae7691e-49b1-49b0-a625-45a0d3a5f6d3",
   "metadata": {},
   "outputs": [
    {
     "name": "stdout",
     "output_type": "stream",
     "text": [
      "                                Missing values  Ratio\n",
      "migration_code_change_in_msa            106284  50.73\n",
      "migration_code_move_within_reg          106284  50.73\n",
      "migration_code_change_in_reg            106284  50.73\n",
      "residence_1_year_ago                    106284  50.73\n",
      "country_of_birth_father                   7181   3.43\n",
      "country_of_birth_mother                   6516   3.11\n",
      "country_of_birth_own                      3667   1.75\n",
      "occupation_code_main                       449   0.21\n",
      "****************************************************************************************************\n"
     ]
    },
    {
     "data": {
      "image/png": "[encoded data removed]",
      "text/plain": [
       "<Figure size 1200x800 with 1 Axes>"
      ]
     },
     "metadata": {},
     "output_type": "display_data"
    }
   ],
   "source": [
    "# Have a look at the variables with missing values.\n",
    "## Define a function that looks at the missing values and plots them in a bargraph.\n",
    "\n",
    "def missing_values(df):\n",
    "    na_columns_ = [col for col in df.columns if df[col].isnull().sum()>0]\n",
    "    n_miss = df[na_columns_].isnull().sum().sort_values(ascending=False)\n",
    "    ratio_ = (df[na_columns_].isnull().sum()/df.shape[0]*100).sort_values(ascending=False)\n",
    "    missing_df = pd.concat([n_miss, np.round(ratio_,2)], axis=1,keys=[\"Missing values\", \"Ratio\"])\n",
    "    missing_df= pd.DataFrame(missing_df)\n",
    "    print(missing_df)\n",
    "    print('*'*100)\n",
    "\n",
    "    plt.figure(figsize=(12, 8))\n",
    "    ax = sns.barplot(x=\"Ratio\", y=missing_df.index, data=missing_df, palette=\"crest\")\n",
    "    ax.set(xlabel=\"Missing Values Percentage (%)\", ylabel=\"Column\", \n",
    "        title=f\"Missing Values in the Dataset\")\n",
    "    plt.show()\n",
    "\n",
    "missing_values(train_df)"
   ]
  },
  {
   "cell_type": "code",
   "execution_count": 303,
   "id": "f39c278d-946f-4f6d-bacc-3e96b3fa9c69",
   "metadata": {},
   "outputs": [],
   "source": [
    "# Replace the  missing values in the above columns based on the values that appear in other columns with very similar values.\n",
    "## Function to impute missing values for the rest of the features above based probability calculated from variables in other columns.\n",
    "\n",
    "from sklearn.impute import SimpleImputer\n",
    "\n",
    "def impute_based_on_others(df):\n",
    "    for col in df.columns:\n",
    "        if df[col].dtype == \"object\":\n",
    "            # For categorical variables:\n",
    "            most_probable_values = df[col].dropna().mode().iloc[0]  # Get the most frequent value directly\n",
    "            df[col].fillna(most_probable_values, inplace=True)  # Fill missing values efficiently\n",
    "        else:\n",
    "            # For numerical variables:\n",
    "            imputer = SimpleImputer(strategy=\"most_frequent\")\n",
    "            df[col] = imputer.fit_transform(df[[col]])\n",
    "    return df\n",
    "\n",
    "## Apply the imputation function to the DataFrame\n",
    "train_df = impute_based_on_others(train_df.copy())  # Use a copy to avoid modifying the original\n",
    "test_df  = impute_based_on_others(test_df.copy())  # Use a copy to avoid modifying the original"
   ]
  },
  {
   "cell_type": "code",
   "execution_count": 304,
   "id": "a449dfe6-c2bd-4301-aca0-198d92f27fb2",
   "metadata": {},
   "outputs": [
    {
     "data": {
      "image/png": "[encoded data removed]",
      "text/plain": [
       "<Figure size 1600x500 with 1 Axes>"
      ]
     },
     "metadata": {},
     "output_type": "display_data"
    }
   ],
   "source": [
    "# Confirm whether any missing values exist.\n",
    "## Define a function that looks at the missing values and plots them in a bargraph.\n",
    "\n",
    "def visualize_missing_values(df):\n",
    "    missing = pd.DataFrame((df.isnull().sum()) * 100 / df.shape[0]).reset_index()\n",
    "\n",
    "    # Plot the percentage of missing values\n",
    "    plt.figure(figsize=(16, 5))\n",
    "    ax = sns.pointplot(x='index', y=0, data=missing)\n",
    "    plt.xticks(rotation=90, fontsize=7)\n",
    "    plt.title(\"Percentage of Missing values\")\n",
    "    plt.ylabel(\"PERCENTAGE\")\n",
    "    plt.show()\n",
    "    \n",
    "visualize_missing_values(train_df)"
   ]
  },
  {
   "cell_type": "markdown",
   "id": "70e69630-beab-46b4-9ed0-0c40d9f2023f",
   "metadata": {},
   "source": [
    "### Feature coding."
   ]
  },
  {
   "cell_type": "code",
   "execution_count": 305,
   "id": "0f1d5292-f4fd-43e1-a3fd-218f269bc9a3",
   "metadata": {},
   "outputs": [
    {
     "data": {
      "text/plain": [
       "array([1, 0])"
      ]
     },
     "execution_count": 305,
     "metadata": {},
     "output_type": "execute_result"
    }
   ],
   "source": [
    "# Gender & Income level encoding.\n",
    "## Define a mapping dictionary with inclusive representation\n",
    "gender_mapping = {\n",
    "    \"Male\": 0,\n",
    "    \"Female\": 1\n",
    "}\n",
    "\n",
    "income_mapping = {\n",
    "    \"Below limit\": 0,\n",
    "    \"Above limit\": 1\n",
    "}\n",
    "\n",
    "## Apply the mapping.\n",
    "train_df['gender'] = train_df['gender'].map(gender_mapping)\n",
    "\n",
    "test_df['gender'] = test_df['gender'].map(gender_mapping)\n",
    "\n",
    "train_df['income_above_limit'] = train_df['income_above_limit'].map(income_mapping)\n",
    "\n",
    "train_df['gender'].unique()"
   ]
  },
  {
   "cell_type": "code",
   "execution_count": 306,
   "id": "883b52e3-29e1-439b-9951-4aa97fa62b2a",
   "metadata": {},
   "outputs": [],
   "source": [
    "# Education level encoding.\n",
    "## Create a list of all the unique values in the feature.\n",
    "education_values = ['High school graduate', '5th or 6th grade',\n",
    "                    'Bachelors degree(BA AB BS)', '9th grade', 'Children',\n",
    "                    'Some college but no degree', '11th grade', '10th grade',\n",
    "                    '7th and 8th grade', 'Associates degree-occup /vocational',\n",
    "                    'Masters degree(MA MS MEng MEd MSW MBA)', '12th grade no diploma',\n",
    "                    'Associates degree-academic program', 'Less than 1st grade',\n",
    "                    'Prof school degree (MD DDS DVM LLB JD)',\n",
    "                    '1st 2nd 3rd or 4th grade', 'Doctorate degree(PhD EdD)']\n",
    "\n",
    "## Define the mapping rules\n",
    "education_mapping = {\"Children\": \"Below high school\",\n",
    "                    \"1st 2nd 3rd or 4th grade\": \"Below high school\",\n",
    "                    \"5th or 6th grade\": \"Below high school\",\n",
    "                    \"7th and 8th grade\": \"Below high school\",\n",
    "                    \"9th grade\": \"Below high school\",\n",
    "                    \"10th grade\": \"Below high school\",\n",
    "                    \"11th grade\": \"Below high school\",\n",
    "                    \"12th grade no diploma\": \"Below high school\",\n",
    "                    \"High school graduate\": \"High school\",\n",
    "                    \"Some college but no degree\": \"Undergraduate\",\n",
    "                    \"Associates degree-academic program\": \"Undergraduate\",\n",
    "                    \"Associates degree-occup /vocational\": \"Undergraduate\",\n",
    "                    \"Bachelors degree(BA AB BS)\": \"Undergraduate\",\n",
    "                    \"Masters degree(MA MS MEng MEd MSW MBA)\": \"Postgraduate\",\n",
    "                    \"Prof school degree (MD DDS DVM LLB JD)\": \"Postgraduate\",\n",
    "                    \"Doctorate degree(PhD EdD)\": \"Postgraduate\",\n",
    "}\n",
    "\n",
    "## Apply the mapping.\n",
    "train_df['education'] = train_df['education'].map(education_mapping)\n",
    "test_df['education'] = test_df['education'].map(education_mapping)"
   ]
  },
  {
   "cell_type": "code",
   "execution_count": 307,
   "id": "567ed61e-96b3-42f6-a3a9-2abf567c266a",
   "metadata": {},
   "outputs": [],
   "source": [
    "# Marital status encoding.\n",
    "## Create a list of all the unique values in the feature.\n",
    "\n",
    "marriage_status_values = [\"Widowed\", \"Never married\", \"Married-civilian spouse present\",\n",
    "                        \"Divorced\", \"Married-spouse absent\",\"Separated\",\"Married-A F spouse present\"]\n",
    "\n",
    "## Define the mapping rules.\n",
    "marriage_mapping = {\"Married-civilian spouse present\": \"Married\",\n",
    "                    \"Married-spouse absent\": \"Married\",\n",
    "                    \"Married-A F spouse present\": \"Married\",\n",
    "                    \"Widowed\": \"Single\", \"Divorced\": \"Single\",\n",
    "                    \"Separated\": \"Single\", \"Never married\": \"Single\",\n",
    "}\n",
    "\n",
    "## Apply the mapping.\n",
    "train_df['marital_status'] = train_df['marital_status'].map(marriage_mapping)\n",
    "test_df['marital_status'] = test_df['marital_status'].map(marriage_mapping)\n",
    "\n",
    "## Further map to binary values.\n",
    "train_df[\"marital_status\"] = train_df[\"marital_status\"].map({\"Married\": 0, \"Single\": 1})\n",
    "test_df['marital_status'] = test_df['marital_status'].map({\"Married\": 0, \"Single\": 1})"
   ]
  },
  {
   "cell_type": "code",
   "execution_count": 308,
   "id": "0f6b8644-af9e-46b0-8d9e-9087a86860c7",
   "metadata": {},
   "outputs": [],
   "source": [
    "# Citizenship status encoding.\n",
    "## Create a list of all the unique values in the feature.\n",
    "citizenship_values = [\"Native\", \"Foreign born- Not a citizen of U S\", \n",
    "                    \"Foreign born- U S citizen by naturalization\",\n",
    "                    \"Native- Born abroad of American Parent(s)\",\n",
    "                    \"Native- Born in Puerto Rico or U S Outlying\",\n",
    "]\n",
    "\n",
    "## Define the mapping rules\n",
    "citizenship_mapping = {\"Native\": \"Citizen\",\n",
    "                    \"Native- Born abroad of American Parent(s)\": \"Citizen\",\n",
    "                    \"Native- Born in Puerto Rico or U S Outlying\": \"Citizen\",\n",
    "                    \"Foreign born- U S citizen by naturalization\": \"Citizen\",\n",
    "                    \"Foreign born- Not a citizen of U S\": \"Non-citizen\"\n",
    "}\n",
    "\n",
    "## Apply the mapping.\n",
    "train_df['citizenship'] = train_df['citizenship'].map(citizenship_mapping)\n",
    "test_df['citizenship'] = test_df['citizenship'].map(citizenship_mapping)\n",
    "\n",
    "## Further map to binary values.\n",
    "train_df[\"citizenship\"] = train_df[\"citizenship\"].map({\"Citizen\": 0, \"Non-citizen\": 1})\n",
    "test_df['citizenship'] = test_df['citizenship'].map({\"Citizen\": 0, \"Non-citizen\": 1})"
   ]
  },
  {
   "cell_type": "code",
   "execution_count": 309,
   "id": "b12ac138-afb9-45ff-81bb-d54bbae1f396",
   "metadata": {},
   "outputs": [
    {
     "data": {
      "text/plain": [
       "wage_per_hour\n",
       "0-1000       7914\n",
       "1001-2000    3405\n",
       "2001-3000     424\n",
       "3001-4000      48\n",
       "4001-5000      20\n",
       "6001-7000      12\n",
       "5001-6000      11\n",
       "7001-8000       9\n",
       "9001-9999       7\n",
       "8001-9000       6\n",
       "Name: count, dtype: int64"
      ]
     },
     "execution_count": 309,
     "metadata": {},
     "output_type": "execute_result"
    }
   ],
   "source": [
    "# Hourly wage encoding.\n",
    "## Define bin edges\n",
    "bin_edges = [0, 1000, 2000, 3000, 4000, 5000, 6000, 7000, 8000, 9000, 10000]\n",
    "\n",
    "## Create labels for the bins\n",
    "bin_labels = [\"0-1000\", \"1001-2000\", \"2001-3000\", \"3001-4000\", \"4001-5000\",\n",
    "            \"5001-6000\", \"6001-7000\", \"7001-8000\", \"8001-9000\", \"9001-9999\"]\n",
    "\n",
    "## Apply the binning using pd.cut()\n",
    "train_df[\"wage_per_hour\"] = pd.cut(train_df[\"wage_per_hour\"], bins=bin_edges, labels=bin_labels)\n",
    "test_df[\"wage_per_hour\"] = pd.cut(test_df[\"wage_per_hour\"], bins=bin_edges, labels=bin_labels)\n",
    "\n",
    "train_df[\"wage_per_hour\"].value_counts()"
   ]
  },
  {
   "cell_type": "code",
   "execution_count": 310,
   "id": "54bb5ad8-f8c4-40b4-80d8-2022bdbc8176",
   "metadata": {},
   "outputs": [
    {
     "data": {
      "text/plain": [
       "gains\n",
       "0-10000        5866\n",
       "10001-20000    1299\n",
       "90001-99999     409\n",
       "20001-30000     245\n",
       "30001-40000       8\n",
       "40001-50000       3\n",
       "50001-60000       0\n",
       "60001-70000       0\n",
       "70001-80000       0\n",
       "80001-90000       0\n",
       "Name: count, dtype: int64"
      ]
     },
     "execution_count": 310,
     "metadata": {},
     "output_type": "execute_result"
    }
   ],
   "source": [
    "# Investment/capital market gains encoding.\n",
    "## Define bin edges\n",
    "bin_edges = [0, 10000, 20000, 30000, 40000, 50000, 60000, 70000, 80000, 90000, 100000]\n",
    "\n",
    "## Create labels for the bins\n",
    "bin_labels = [\"0-10000\", \"10001-20000\", \"20001-30000\", \"30001-40000\", \"40001-50000\",\n",
    "            \"50001-60000\", \"60001-70000\", \"70001-80000\", \"80001-90000\", \"90001-99999\"]\n",
    "\n",
    "## Apply the binning using pd.cut()\n",
    "train_df[\"gains\"] = pd.cut(train_df[\"gains\"], bins=bin_edges, labels=bin_labels)\n",
    "test_df[\"gains\"] = pd.cut(test_df[\"gains\"], bins=bin_edges, labels=bin_labels)\n",
    "\n",
    "train_df[\"gains\"].value_counts()"
   ]
  },
  {
   "cell_type": "code",
   "execution_count": 311,
   "id": "affccd6a-afaf-4d41-8136-27ae8ba52fae",
   "metadata": {},
   "outputs": [
    {
     "data": {
      "text/plain": [
       "stocks_status\n",
       "0-10000        21323\n",
       "10001-20000      432\n",
       "20001-30000      136\n",
       "40001-50000       53\n",
       "30001-40000       32\n",
       "90001-99999       23\n",
       "50001-60000       22\n",
       "60001-70000        5\n",
       "70001-80000        4\n",
       "80001-90000        2\n",
       "Name: count, dtype: int64"
      ]
     },
     "execution_count": 311,
     "metadata": {},
     "output_type": "execute_result"
    }
   ],
   "source": [
    "# Investment/capital market gains encoding.\n",
    "## Define bin edges\n",
    "bin_edges = [0, 10000, 20000, 30000, 40000, 50000, 60000, 70000, 80000, 90000, 100000]\n",
    "\n",
    "## Create labels for the bins\n",
    "bin_labels = [\"0-10000\", \"10001-20000\", \"20001-30000\", \"30001-40000\", \"40001-50000\",\n",
    "            \"50001-60000\", \"60001-70000\", \"70001-80000\", \"80001-90000\", \"90001-99999\"]\n",
    "\n",
    "## Apply the binning using pd.cut()\n",
    "train_df[\"stocks_status\"] = pd.cut(train_df[\"stocks_status\"], bins=bin_edges, labels=bin_labels)\n",
    "test_df[\"stocks_status\"] = pd.cut(test_df[\"stocks_status\"], bins=bin_edges, labels=bin_labels)\n",
    "\n",
    "train_df[\"stocks_status\"].value_counts()"
   ]
  },
  {
   "cell_type": "code",
   "execution_count": 312,
   "id": "6265053f-3a72-4d56-bac0-e59e35747a27",
   "metadata": {},
   "outputs": [
    {
     "data": {
      "text/plain": [
       "losses\n",
       "1001-2000    2902\n",
       "2001-3000     966\n",
       "0-1000        111\n",
       "3001-4000      46\n",
       "4001-5000      37\n",
       "5001-6000       0\n",
       "6001-7000       0\n",
       "7001-8000       0\n",
       "8001-9000       0\n",
       "9001-9999       0\n",
       "Name: count, dtype: int64"
      ]
     },
     "execution_count": 312,
     "metadata": {},
     "output_type": "execute_result"
    }
   ],
   "source": [
    "# Investment/capital market gains encoding.\n",
    "## Define bin edges\n",
    "bin_edges = [0, 1000, 2000, 3000, 4000, 5000, 6000, 7000, 8000, 9000, 10000]\n",
    "\n",
    "## Create labels for the bins\n",
    "bin_labels = [\"0-1000\", \"1001-2000\", \"2001-3000\", \"3001-4000\", \"4001-5000\",\n",
    "            \"5001-6000\", \"6001-7000\", \"7001-8000\", \"8001-9000\", \"9001-9999\"]\n",
    "\n",
    "## Apply the binning using pd.cut()\n",
    "train_df[\"losses\"] = pd.cut(train_df[\"losses\"], bins=bin_edges, labels=bin_labels)\n",
    "test_df[\"losses\"] = pd.cut(test_df[\"losses\"], bins=bin_edges, labels=bin_labels)\n",
    "\n",
    "train_df[\"losses\"].value_counts()"
   ]
  },
  {
   "cell_type": "code",
   "execution_count": 313,
   "id": "59b321dc-3431-458e-b409-fa99a474136a",
   "metadata": {},
   "outputs": [],
   "source": [
    "# Final Coding Procedure.\n",
    "\n",
    "## Create a list of all the unique values in the feature\n",
    "categorical_columns = ['class', 'race', 'education',\n",
    "                    'is_hispanic', 'employment_commitment', 'working_week_per_year',\n",
    "                    'industry_code_main', 'occupation_code_main', 'household_stat', 'stocks_status',\n",
    "                    'household_summary', 'tax_status', 'citizenship', 'gains', 'losses',\n",
    "                    'country_of_birth_own', 'country_of_birth_father', 'country_of_birth_mother',\n",
    "                    'migration_code_change_in_msa', \"wage_per_hour\",\n",
    "                    'migration_code_move_within_reg', 'migration_code_change_in_reg', 'residence_1_year_ago']\n",
    "\n",
    "## Define function that codes the values into categorical codes\n",
    "\n",
    "def consistent_coding(dataframes, categorical_columns):\n",
    "    \"\"\"Applies consistent category coding across multiple DataFrames.\"\"\"\n",
    "\n",
    "    # Create a dictionary to store global category mappings\n",
    "    category_codes = {}\n",
    "\n",
    "    for df in dataframes:\n",
    "        for col in categorical_columns:\n",
    "            if col not in category_codes:\n",
    "                # Create mapping for new categories\n",
    "                category_codes[col] = {\n",
    "                    value: i for i, value in enumerate(df[col].dropna().unique())\n",
    "                }\n",
    "\n",
    "            # Apply mapping to DataFrame\n",
    "            df[col] = df[col].astype('category')\n",
    "            df[col] = df[col].cat.set_categories(list(category_codes[col].keys()))\n",
    "            df[col] = df[col].cat.codes  # Assign codes based on global mapping\n",
    "    \n",
    "    df_category_codes = pd.DataFrame(category_codes)\n",
    "    return dataframes\n",
    "\n",
    "\n",
    "## Apply consistent coding to training & testing data.\n",
    "consistent_coded_dfs = consistent_coding([train_df, test_df], categorical_columns)\n",
    "train_df_coded, test_df_coded = consistent_coded_dfs  # Assign back to original DataFrames"
   ]
  },
  {
   "cell_type": "markdown",
   "id": "a0dcf891",
   "metadata": {},
   "source": [
    "## Exploratory Data Analysis.\n",
    "\n",
    "This is where we seek to derive insights from our data before modelling in order to get context regarding our analysis."
   ]
  },
  {
   "cell_type": "code",
   "execution_count": 314,
   "id": "8cf93284",
   "metadata": {},
   "outputs": [
    {
     "data": {
      "text/plain": [
       "Index(['age', 'gender', 'education', 'class', 'marital_status', 'race',\n",
       "       'is_hispanic', 'employment_commitment', 'employment_stat',\n",
       "       'wage_per_hour', 'working_week_per_year', 'industry_code',\n",
       "       'industry_code_main', 'occupation_code', 'occupation_code_main',\n",
       "       'total_employed', 'household_stat', 'household_summary', 'vet_benefit',\n",
       "       'tax_status', 'gains', 'losses', 'stocks_status', 'citizenship',\n",
       "       'mig_year', 'country_of_birth_own', 'country_of_birth_father',\n",
       "       'country_of_birth_mother', 'migration_code_change_in_msa',\n",
       "       'migration_code_move_within_reg', 'migration_code_change_in_reg',\n",
       "       'residence_1_year_ago', 'importance_of_record', 'income_above_limit'],\n",
       "      dtype='object')"
      ]
     },
     "execution_count": 314,
     "metadata": {},
     "output_type": "execute_result"
    }
   ],
   "source": [
    "# Have a look at the features in our analysis.\n",
    "\n",
    "train_df_coded.columns"
   ]
  },
  {
   "cell_type": "code",
   "execution_count": 315,
   "id": "ca6ceea2-3e3f-4682-b4dd-db3ec07f16a8",
   "metadata": {},
   "outputs": [
    {
     "data": {
      "image/png": "[encoded data removed]",
      "text/plain": [
       "<Figure size 2000x1500 with 1 Axes>"
      ]
     },
     "metadata": {},
     "output_type": "display_data"
    }
   ],
   "source": [
    "# Number of people in different age brackets.\n",
    "## Group by age ranges (10-year intervals) and count occurrences of 'value'\n",
    "grouped_age_data = train_df_coded.groupby(pd.cut(train['age'], range(10, 100, 10)))['age'].size()\n",
    "\n",
    "## Convet the index values into string values.\n",
    "\n",
    "grouped_age_data.index = grouped_age_data.index.astype(str)\n",
    "\n",
    "## Bar chart showing the class imbalance.\n",
    "plt.figure(figsize=(20,15))  # Adjust figure size as needed\n",
    "plt.yticks(fontsize=20)\n",
    "plt.bar(grouped_age_data.index, grouped_age_data.values)\n",
    "plt.xlabel(\"Age\", fontsize=20)\n",
    "plt.ylabel(\"Count\", fontsize=20)\n",
    "plt.title(\"Income Class Imbalance\", fontsize=30)\n",
    "plt.xticks(rotation=0, fontsize=20)  # Ensure readable x-axis labels\n",
    "plt.tight_layout()\n",
    "plt.show()"
   ]
  },
  {
   "cell_type": "markdown",
   "id": "9d8aaab4",
   "metadata": {},
   "source": [
    "The barplot above shows us that the data is right skewed hence the population sampled comprises of younger aged participants i.e 10-40."
   ]
  },
  {
   "cell_type": "code",
   "execution_count": 316,
   "id": "7681fce5",
   "metadata": {},
   "outputs": [
    {
     "data": {
      "image/png": "[encoded data removed]",
      "text/plain": [
       "<Figure size 1400x1000 with 1 Axes>"
      ]
     },
     "metadata": {},
     "output_type": "display_data"
    }
   ],
   "source": [
    "# Explore the probability of earning above $50,000 at different ages.\n",
    "\n",
    "g = sns.barplot(x=\"age\",y=\"income_above_limit\",data=train_df_coded)\n",
    "g = g.set_ylabel(\"Income >50K Probability\")\n",
    "g.figure.set_size_inches(14, 10)\n",
    "plt.xticks(fontsize=8)\n",
    "\n",
    "## Edit the labels\n",
    "plt.title(\"Relationship between age and income\", fontsize=18)\n",
    "plt.show()"
   ]
  },
  {
   "cell_type": "markdown",
   "id": "4489f732",
   "metadata": {},
   "source": [
    "Contrary to the previous visualisation the plot above is left skewed and the highest probabilities of earning incomes above 50K are for the participants aged between 35 and 60 years."
   ]
  },
  {
   "cell_type": "code",
   "execution_count": 317,
   "id": "187174ae",
   "metadata": {},
   "outputs": [
    {
     "data": {
      "image/png": "[encoded data removed]",
      "text/plain": [
       "<Figure size 1500x1000 with 1 Axes>"
      ]
     },
     "metadata": {},
     "output_type": "display_data"
    }
   ],
   "source": [
    "\n",
    "# Group by the labeled gender\n",
    "grouped_gender = train_df_coded.groupby(\"gender\").size()\n",
    "\n",
    "# Replace binary values with labels\n",
    "grouped_gender.index = grouped_gender.index.map({0: \"Male\", 1: \"Female\"})\n",
    "\n",
    "## Bar chart showing the class imbalance.\n",
    "plt.figure(figsize=(15,10))  # Adjust figure size as needed\n",
    "plt.yticks(fontsize=20)\n",
    "plt.bar(grouped_gender.index, grouped_gender.values, color=[\"blue\", \"pink\"])\n",
    "plt.xlabel(\"Gender\", fontsize=20)\n",
    "plt.ylabel(\"Count\", fontsize=20)\n",
    "plt.title(\"Income Class Imbalance\", fontsize=30)\n",
    "plt.xticks(rotation=0, fontsize=20)  # Ensure readable x-axis labels\n",
    "plt.tight_layout()\n",
    "plt.show()"
   ]
  },
  {
   "cell_type": "markdown",
   "id": "8f501543",
   "metadata": {},
   "source": [
    "There were more female participants compared to male participants."
   ]
  },
  {
   "cell_type": "code",
   "execution_count": 318,
   "id": "d73cf1e9",
   "metadata": {},
   "outputs": [
    {
     "data": {
      "image/png": "[encoded data removed]",
      "text/plain": [
       "<Figure size 1000x700 with 1 Axes>"
      ]
     },
     "metadata": {},
     "output_type": "display_data"
    }
   ],
   "source": [
    "# Explore the probability of earning above $50,000 at with different genders.\n",
    "g = sns.barplot(x=\"gender\",y=\"income_above_limit\",data=train_df_coded)\n",
    "g = g.set_ylabel(\"Income >50K Probability\")\n",
    "g.figure.set_size_inches(10, 7)\n",
    "plt.xticks(fontsize=8)\n",
    "\n",
    "## Edit the labels\n",
    "plt.yticks(fontsize=10)\n",
    "plt.title(\"Income Class Imbalance\", fontsize=30)\n",
    "plt.xlabel(\"Gender\", fontsize=10)\n",
    "plt.ylabel(\"Count\", fontsize=10)\n",
    "plt.xticks(rotation=0, fontsize=10)\n",
    "plt.title(\"Relationship between gender and income\", fontsize=18)\n",
    "plt.show()"
   ]
  },
  {
   "cell_type": "markdown",
   "id": "40fce6c7",
   "metadata": {},
   "source": [
    "The highest probabilities of earning incomes above 50K are significantly possessed more by men compared to women even though higher female participants were sampled."
   ]
  },
  {
   "cell_type": "code",
   "execution_count": 319,
   "id": "b403c9c7",
   "metadata": {},
   "outputs": [
    {
     "data": {
      "image/png": "[encoded data removed]",
      "text/plain": [
       "<Figure size 1200x800 with 1 Axes>"
      ]
     },
     "metadata": {},
     "output_type": "display_data"
    }
   ],
   "source": [
    "# Group by the labeled marital status\n",
    "grouped_marital = train_df_coded.groupby(\"marital_status\").size()\n",
    "\n",
    "# Replace binary values with labels\n",
    "grouped_marital.index = grouped_marital.index.map({0: \"Married\", 1: \"Single\"})\n",
    "\n",
    "## Bar chart showing the class imbalance.\n",
    "plt.figure(figsize=(12,8))  # Adjust figure size as needed\n",
    "plt.yticks(fontsize=10)\n",
    "plt.bar(grouped_marital.index, grouped_marital.values, color=[\"blue\", \"pink\"])\n",
    "plt.xlabel(\"marital status\", fontsize=15)\n",
    "plt.ylabel(\"Count\", fontsize=20)\n",
    "plt.title(\"Income Class Imbalance\", fontsize=20)\n",
    "plt.xticks(rotation=0, fontsize=10)  # Ensure readable x-axis labels\n",
    "plt.tight_layout()\n",
    "plt.show()"
   ]
  },
  {
   "cell_type": "markdown",
   "id": "8a908b17",
   "metadata": {},
   "source": [
    "There were slightly more single participants compared to married participants."
   ]
  },
  {
   "cell_type": "code",
   "execution_count": 320,
   "id": "d283e9d1",
   "metadata": {},
   "outputs": [
    {
     "data": {
      "image/png": "[encoded data removed]",
      "text/plain": [
       "<Figure size 1000x700 with 1 Axes>"
      ]
     },
     "metadata": {},
     "output_type": "display_data"
    }
   ],
   "source": [
    "# Explore the probability of earning above $50,000 at with different genders.\n",
    "g = sns.barplot(x=\"marital_status\",y=\"income_above_limit\",data=train_df_coded)\n",
    "g = g.set_ylabel(\"Income >50K Probability\")\n",
    "g.figure.set_size_inches(10, 7)\n",
    "plt.xticks(fontsize=8)\n",
    "\n",
    "## Edit the labels\n",
    "plt.yticks(fontsize=10)\n",
    "plt.title(\"Income Class Imbalance\", fontsize=30)\n",
    "plt.xlabel(\"Marital Status\", fontsize=10)\n",
    "plt.ylabel(\"Count\", fontsize=10)\n",
    "plt.xticks(rotation=0, fontsize=10)\n",
    "plt.title(\"Relationship between marital status and income\", fontsize=18)\n",
    "plt.show()"
   ]
  },
  {
   "cell_type": "markdown",
   "id": "ea59094e",
   "metadata": {},
   "source": [
    "The highest probabilities of earning incomes above 50K are significantly possessed more by married participants compared to single ones even though a higher number single participants were sampled."
   ]
  },
  {
   "cell_type": "code",
   "execution_count": 321,
   "id": "2b916c54",
   "metadata": {},
   "outputs": [
    {
     "data": {
      "image/png": "[encoded data removed]",
      "text/plain": [
       "<Figure size 1200x800 with 1 Axes>"
      ]
     },
     "metadata": {},
     "output_type": "display_data"
    }
   ],
   "source": [
    "# Group by the labeled marital status\n",
    "grouped_marital = train_df_coded.groupby(\"marital_status\").size()\n",
    "\n",
    "# Replace binary values with labels\n",
    "grouped_marital.index = grouped_marital.index.map({0: \"Married\", 1: \"Single\"})\n",
    "\n",
    "## Bar chart showing the class imbalance.\n",
    "plt.figure(figsize=(12,8))  # Adjust figure size as needed\n",
    "plt.yticks(fontsize=10)\n",
    "plt.bar(grouped_marital.index, grouped_marital.values, color=[\"blue\", \"pink\"])\n",
    "plt.xlabel(\"marital status\", fontsize=15)\n",
    "plt.ylabel(\"Count\", fontsize=20)\n",
    "plt.title(\"Income Class Imbalance\", fontsize=20)\n",
    "plt.xticks(rotation=0, fontsize=10)  # Ensure readable x-axis labels\n",
    "plt.tight_layout()\n",
    "plt.show()"
   ]
  },
  {
   "cell_type": "code",
   "execution_count": 322,
   "id": "47b6b5e2",
   "metadata": {},
   "outputs": [
    {
     "name": "stderr",
     "output_type": "stream",
     "text": [
      "/Library/Frameworks/Python.framework/Versions/3.10/lib/python3.10/site-packages/squarify/__init__.py:231: MatplotlibDeprecationWarning:\n",
      "\n",
      "The get_cmap function was deprecated in Matplotlib 3.7 and will be removed two minor releases later. Use ``matplotlib.colormaps[name]`` or ``matplotlib.colormaps.get_cmap(obj)`` instead.\n",
      "\n"
     ]
    },
    {
     "data": {
      "image/png": "[encoded data removed]",
      "text/plain": [
       "<Figure size 2000x1500 with 1 Axes>"
      ]
     },
     "metadata": {},
     "output_type": "display_data"
    }
   ],
   "source": [
    "import squarify\n",
    "\n",
    "# Count unique values and their occurrences\n",
    "class_counts = train[\"class\"].dropna().value_counts()\n",
    "\n",
    "# Prepare data for squarify\n",
    "labels = class_counts.index.to_list()\n",
    "values = class_counts.to_list()\n",
    "\n",
    "# Create the treemap\n",
    "plt.figure(figsize=(20, 15))  # Adjust figure size as needed\n",
    "squarify.plot(values, label = labels, alpha=0.8)  # Use squarify.plot() directly\n",
    "plt.axis(\"off\")\n",
    "# Increase font size\n",
    "plt.rc('font', size=10)\n",
    "plt.title(\"Treemap of Number Participants per Professional Class\", fontsize=15)\n",
    "plt.show()"
   ]
  },
  {
   "cell_type": "markdown",
   "id": "3a527e18",
   "metadata": {},
   "source": [
    "The visualization above shows indicates that the sample had a significantly large number of 'private' classed workers."
   ]
  },
  {
   "cell_type": "code",
   "execution_count": 328,
   "id": "547911f7",
   "metadata": {},
   "outputs": [
    {
     "name": "stderr",
     "output_type": "stream",
     "text": [
      "/Library/Frameworks/Python.framework/Versions/3.10/lib/python3.10/site-packages/seaborn/axisgrid.py:118: UserWarning:\n",
      "\n",
      "The figure layout has changed to tight\n",
      "\n"
     ]
    },
    {
     "data": {
      "image/png": "[encoded data removed]",
      "text/plain": [
       "<Figure size 1000x700 with 1 Axes>"
      ]
     },
     "metadata": {},
     "output_type": "display_data"
    }
   ],
   "source": [
    "# Explore Workclass vs Income\n",
    "g = sns.catplot(x=\"class\",y=\"income_above_limit\",data=train_df_coded,kind=\"bar\",\n",
    "palette = \"muted\")\n",
    "g.despine(left=True)\n",
    "g = g.set_ylabels(\"Income >50K Probability\")\n",
    "g.figure.set_size_inches(10, 7)\n",
    "plt.show()"
   ]
  },
  {
   "cell_type": "markdown",
   "id": "6f5f824e",
   "metadata": {},
   "source": [
    "The highest probabilities of earning incomes above 50K are significantly possessed more by self employed (incorporated) participants followed by Federal, local and state government officials compared to Private classed participants even though a higher number Private classed participants were sampled."
   ]
  },
  {
   "cell_type": "markdown",
   "id": "721a3d68",
   "metadata": {},
   "source": [
    "## Modelling."
   ]
  },
  {
   "cell_type": "code",
   "execution_count": null,
   "id": "469013c0-9ab0-42e7-8746-90c26c07b0ce",
   "metadata": {},
   "outputs": [
    {
     "name": "stdout",
     "output_type": "stream",
     "text": [
      "F1-score: 0.9694890959352924\n"
     ]
    }
   ],
   "source": [
    "import pandas as pd\n",
    "from sklearn.model_selection import train_test_split\n",
    "from sklearn.ensemble import RandomForestClassifier\n",
    "from sklearn.metrics import f1_score\n",
    "from imblearn.over_sampling import SMOTE\n",
    "\n",
    "# Separate features and target variable\n",
    "X = train_df_coded.drop(\"income_above_limit\", axis=1)\n",
    "y = train_df_coded[\"income_above_limit\"]\n",
    "\n",
    "# Oversample minority class using SMOTE\n",
    "smote = SMOTE(random_state=42)\n",
    "X_train_oversampled, y_train_oversampled = smote.fit_resample(X, y)\n",
    "\n",
    "# Split data into training and testing sets\n",
    "X_train, X_test, y_train, y_test = train_test_split(X_train_oversampled, y_train_oversampled, test_size=0.1, random_state=42)\n",
    "\n",
    "# Create a Random Forest classifier with hyperparameter tuning\n",
    "rf_clf_ov = RandomForestClassifier(n_estimators=100, random_state=42)  # Adjust hyperparameters as needed\n",
    "rf_clf_ov.fit(X_train, y_train)\n",
    "\n",
    "# Make predictions on the testing set\n",
    "y_pred = rf_clf_ov.predict(X_test)\n",
    "\n",
    "# Calculate F1-score\n",
    "f1 = f1_score(y_test, y_pred)\n",
    "print(\"F1-score:\", f1)\n"
   ]
  },
  {
   "cell_type": "code",
   "execution_count": null,
   "id": "94d5df16-c1bb-4c83-9d08-f87f33dac2c8",
   "metadata": {},
   "outputs": [
    {
     "name": "stdout",
     "output_type": "stream",
     "text": [
      "F1-score: 0.9684275163320654\n"
     ]
    }
   ],
   "source": [
    "import pandas as pd\n",
    "from sklearn.model_selection import train_test_split\n",
    "from sklearn.ensemble import RandomForestClassifier\n",
    "from sklearn.metrics import f1_score\n",
    "from imblearn.over_sampling import SMOTE\n",
    "\n",
    "# Separate features and target variable\n",
    "X = train_df_coded.drop(\"income_above_limit\", axis=1)\n",
    "y = train_df_coded[\"income_above_limit\"]\n",
    "\n",
    "# Oversample minority class using SMOTE\n",
    "smote = SMOTE(random_state=42)\n",
    "X_train_oversampled, y_train_oversampled = smote.fit_resample(X, y)\n",
    "\n",
    "# Split data into training and testing sets\n",
    "X_train, X_test, y_train, y_test = train_test_split(X_train_oversampled, y_train_oversampled, test_size=0.15, random_state=42)\n",
    "\n",
    "# Create a Random Forest classifier with hyperparameter tuning\n",
    "rf_clf = RandomForestClassifier(n_estimators=100, random_state=42)  # Adjust hyperparameters as needed\n",
    "rf_clf.fit(X_train, y_train)\n",
    "\n",
    "# Make predictions on the testing set\n",
    "y_pred = rf_clf.predict(X_test)\n",
    "\n",
    "# Calculate F1-score\n",
    "f1 = f1_score(y_test, y_pred)\n",
    "print(\"F1-score:\", f1)\n"
   ]
  },
  {
   "cell_type": "code",
   "execution_count": null,
   "id": "bd4428cb-bf51-4ded-b127-a6628c6ac671",
   "metadata": {},
   "outputs": [
    {
     "data": {
      "text/html": [
       "<style>#sk-container-id-1 {color: black;background-color: white;}#sk-container-id-1 pre{padding: 0;}#sk-container-id-1 div.sk-toggleable {background-color: white;}#sk-container-id-1 label.sk-toggleable__label {cursor: pointer;display: block;width: 100%;margin-bottom: 0;padding: 0.3em;box-sizing: border-box;text-align: center;}#sk-container-id-1 label.sk-toggleable__label-arrow:before {content: \"▸\";float: left;margin-right: 0.25em;color: #696969;}#sk-container-id-1 label.sk-toggleable__label-arrow:hover:before {color: black;}#sk-container-id-1 div.sk-estimator:hover label.sk-toggleable__label-arrow:before {color: black;}#sk-container-id-1 div.sk-toggleable__content {max-height: 0;max-width: 0;overflow: hidden;text-align: left;background-color: #f0f8ff;}#sk-container-id-1 div.sk-toggleable__content pre {margin: 0.2em;color: black;border-radius: 0.25em;background-color: #f0f8ff;}#sk-container-id-1 input.sk-toggleable__control:checked~div.sk-toggleable__content {max-height: 200px;max-width: 100%;overflow: auto;}#sk-container-id-1 input.sk-toggleable__control:checked~label.sk-toggleable__label-arrow:before {content: \"▾\";}#sk-container-id-1 div.sk-estimator input.sk-toggleable__control:checked~label.sk-toggleable__label {background-color: #d4ebff;}#sk-container-id-1 div.sk-label input.sk-toggleable__control:checked~label.sk-toggleable__label {background-color: #d4ebff;}#sk-container-id-1 input.sk-hidden--visually {border: 0;clip: rect(1px 1px 1px 1px);clip: rect(1px, 1px, 1px, 1px);height: 1px;margin: -1px;overflow: hidden;padding: 0;position: absolute;width: 1px;}#sk-container-id-1 div.sk-estimator {font-family: monospace;background-color: #f0f8ff;border: 1px dotted black;border-radius: 0.25em;box-sizing: border-box;margin-bottom: 0.5em;}#sk-container-id-1 div.sk-estimator:hover {background-color: #d4ebff;}#sk-container-id-1 div.sk-parallel-item::after {content: \"\";width: 100%;border-bottom: 1px solid gray;flex-grow: 1;}#sk-container-id-1 div.sk-label:hover label.sk-toggleable__label {background-color: #d4ebff;}#sk-container-id-1 div.sk-serial::before {content: \"\";position: absolute;border-left: 1px solid gray;box-sizing: border-box;top: 0;bottom: 0;left: 50%;z-index: 0;}#sk-container-id-1 div.sk-serial {display: flex;flex-direction: column;align-items: center;background-color: white;padding-right: 0.2em;padding-left: 0.2em;position: relative;}#sk-container-id-1 div.sk-item {position: relative;z-index: 1;}#sk-container-id-1 div.sk-parallel {display: flex;align-items: stretch;justify-content: center;background-color: white;position: relative;}#sk-container-id-1 div.sk-item::before, #sk-container-id-1 div.sk-parallel-item::before {content: \"\";position: absolute;border-left: 1px solid gray;box-sizing: border-box;top: 0;bottom: 0;left: 50%;z-index: -1;}#sk-container-id-1 div.sk-parallel-item {display: flex;flex-direction: column;z-index: 1;position: relative;background-color: white;}#sk-container-id-1 div.sk-parallel-item:first-child::after {align-self: flex-end;width: 50%;}#sk-container-id-1 div.sk-parallel-item:last-child::after {align-self: flex-start;width: 50%;}#sk-container-id-1 div.sk-parallel-item:only-child::after {width: 0;}#sk-container-id-1 div.sk-dashed-wrapped {border: 1px dashed gray;margin: 0 0.4em 0.5em 0.4em;box-sizing: border-box;padding-bottom: 0.4em;background-color: white;}#sk-container-id-1 div.sk-label label {font-family: monospace;font-weight: bold;display: inline-block;line-height: 1.2em;}#sk-container-id-1 div.sk-label-container {text-align: center;}#sk-container-id-1 div.sk-container {/* jupyter's `normalize.less` sets `[hidden] { display: none; }` but bootstrap.min.css set `[hidden] { display: none !important; }` so we also need the `!important` here to be able to override the default hidden behavior on the sphinx rendered scikit-learn.org. See: https://github.com/scikit-learn/scikit-learn/issues/21755 */display: inline-block !important;position: relative;}#sk-container-id-1 div.sk-text-repr-fallback {display: none;}</style><div id=\"sk-container-id-1\" class=\"sk-top-container\"><div class=\"sk-text-repr-fallback\"><pre>RandomForestClassifier(random_state=42)</pre><b>In a Jupyter environment, please rerun this cell to show the HTML representation or trust the notebook. <br />On GitHub, the HTML representation is unable to render, please try loading this page with nbviewer.org.</b></div><div class=\"sk-container\" hidden><div class=\"sk-item\"><div class=\"sk-estimator sk-toggleable\"><input class=\"sk-toggleable__control sk-hidden--visually\" id=\"sk-estimator-id-1\" type=\"checkbox\" checked><label for=\"sk-estimator-id-1\" class=\"sk-toggleable__label sk-toggleable__label-arrow\">RandomForestClassifier</label><div class=\"sk-toggleable__content\"><pre>RandomForestClassifier(random_state=42)</pre></div></div></div></div></div>"
      ],
      "text/plain": [
       "RandomForestClassifier(random_state=42)"
      ]
     },
     "execution_count": 35,
     "metadata": {},
     "output_type": "execute_result"
    }
   ],
   "source": [
    "# Conduct model refitting to avoid overfitting with balanced data and fit with the imbalanced data.\n",
    "# Split data into features (X) and target variable (y)\n",
    "X = train_df_coded.drop('income_above_limit', axis=1)\n",
    "y = train_df_coded['income_above_limit']\n",
    "\n",
    "# Split data into training and testing sets before oversampling\n",
    "X_train, X_test, y_train, y_test = train_test_split(X, y, test_size=0.1, random_state=42)\n",
    "\n",
    "# Refit the model to the original (non-oversampled) training data\n",
    "rf_clf_ov.fit(X_train, y_train)"
   ]
  },
  {
   "cell_type": "code",
   "execution_count": null,
   "id": "41003f7f-ff86-4d4a-83f0-2413a138e266",
   "metadata": {},
   "outputs": [
    {
     "data": {
      "text/html": [
       "<style>#sk-container-id-2 {color: black;background-color: white;}#sk-container-id-2 pre{padding: 0;}#sk-container-id-2 div.sk-toggleable {background-color: white;}#sk-container-id-2 label.sk-toggleable__label {cursor: pointer;display: block;width: 100%;margin-bottom: 0;padding: 0.3em;box-sizing: border-box;text-align: center;}#sk-container-id-2 label.sk-toggleable__label-arrow:before {content: \"▸\";float: left;margin-right: 0.25em;color: #696969;}#sk-container-id-2 label.sk-toggleable__label-arrow:hover:before {color: black;}#sk-container-id-2 div.sk-estimator:hover label.sk-toggleable__label-arrow:before {color: black;}#sk-container-id-2 div.sk-toggleable__content {max-height: 0;max-width: 0;overflow: hidden;text-align: left;background-color: #f0f8ff;}#sk-container-id-2 div.sk-toggleable__content pre {margin: 0.2em;color: black;border-radius: 0.25em;background-color: #f0f8ff;}#sk-container-id-2 input.sk-toggleable__control:checked~div.sk-toggleable__content {max-height: 200px;max-width: 100%;overflow: auto;}#sk-container-id-2 input.sk-toggleable__control:checked~label.sk-toggleable__label-arrow:before {content: \"▾\";}#sk-container-id-2 div.sk-estimator input.sk-toggleable__control:checked~label.sk-toggleable__label {background-color: #d4ebff;}#sk-container-id-2 div.sk-label input.sk-toggleable__control:checked~label.sk-toggleable__label {background-color: #d4ebff;}#sk-container-id-2 input.sk-hidden--visually {border: 0;clip: rect(1px 1px 1px 1px);clip: rect(1px, 1px, 1px, 1px);height: 1px;margin: -1px;overflow: hidden;padding: 0;position: absolute;width: 1px;}#sk-container-id-2 div.sk-estimator {font-family: monospace;background-color: #f0f8ff;border: 1px dotted black;border-radius: 0.25em;box-sizing: border-box;margin-bottom: 0.5em;}#sk-container-id-2 div.sk-estimator:hover {background-color: #d4ebff;}#sk-container-id-2 div.sk-parallel-item::after {content: \"\";width: 100%;border-bottom: 1px solid gray;flex-grow: 1;}#sk-container-id-2 div.sk-label:hover label.sk-toggleable__label {background-color: #d4ebff;}#sk-container-id-2 div.sk-serial::before {content: \"\";position: absolute;border-left: 1px solid gray;box-sizing: border-box;top: 0;bottom: 0;left: 50%;z-index: 0;}#sk-container-id-2 div.sk-serial {display: flex;flex-direction: column;align-items: center;background-color: white;padding-right: 0.2em;padding-left: 0.2em;position: relative;}#sk-container-id-2 div.sk-item {position: relative;z-index: 1;}#sk-container-id-2 div.sk-parallel {display: flex;align-items: stretch;justify-content: center;background-color: white;position: relative;}#sk-container-id-2 div.sk-item::before, #sk-container-id-2 div.sk-parallel-item::before {content: \"\";position: absolute;border-left: 1px solid gray;box-sizing: border-box;top: 0;bottom: 0;left: 50%;z-index: -1;}#sk-container-id-2 div.sk-parallel-item {display: flex;flex-direction: column;z-index: 1;position: relative;background-color: white;}#sk-container-id-2 div.sk-parallel-item:first-child::after {align-self: flex-end;width: 50%;}#sk-container-id-2 div.sk-parallel-item:last-child::after {align-self: flex-start;width: 50%;}#sk-container-id-2 div.sk-parallel-item:only-child::after {width: 0;}#sk-container-id-2 div.sk-dashed-wrapped {border: 1px dashed gray;margin: 0 0.4em 0.5em 0.4em;box-sizing: border-box;padding-bottom: 0.4em;background-color: white;}#sk-container-id-2 div.sk-label label {font-family: monospace;font-weight: bold;display: inline-block;line-height: 1.2em;}#sk-container-id-2 div.sk-label-container {text-align: center;}#sk-container-id-2 div.sk-container {/* jupyter's `normalize.less` sets `[hidden] { display: none; }` but bootstrap.min.css set `[hidden] { display: none !important; }` so we also need the `!important` here to be able to override the default hidden behavior on the sphinx rendered scikit-learn.org. See: https://github.com/scikit-learn/scikit-learn/issues/21755 */display: inline-block !important;position: relative;}#sk-container-id-2 div.sk-text-repr-fallback {display: none;}</style><div id=\"sk-container-id-2\" class=\"sk-top-container\"><div class=\"sk-text-repr-fallback\"><pre>RandomForestClassifier(random_state=42)</pre><b>In a Jupyter environment, please rerun this cell to show the HTML representation or trust the notebook. <br />On GitHub, the HTML representation is unable to render, please try loading this page with nbviewer.org.</b></div><div class=\"sk-container\" hidden><div class=\"sk-item\"><div class=\"sk-estimator sk-toggleable\"><input class=\"sk-toggleable__control sk-hidden--visually\" id=\"sk-estimator-id-2\" type=\"checkbox\" checked><label for=\"sk-estimator-id-2\" class=\"sk-toggleable__label sk-toggleable__label-arrow\">RandomForestClassifier</label><div class=\"sk-toggleable__content\"><pre>RandomForestClassifier(random_state=42)</pre></div></div></div></div></div>"
      ],
      "text/plain": [
       "RandomForestClassifier(random_state=42)"
      ]
     },
     "execution_count": 36,
     "metadata": {},
     "output_type": "execute_result"
    }
   ],
   "source": [
    "# Conduct model refitting to avoid overfitting with balanced data and fit with the imbalanced data.\n",
    "# Split data into features (X) and target variable (y)\n",
    "X = train_df_coded.drop('income_above_limit', axis=1)\n",
    "y = train_df_coded['income_above_limit']\n",
    "\n",
    "# Split data into training and testing sets before oversampling\n",
    "X_train, X_test, y_train, y_test = train_test_split(X, y, test_size=0.1, random_state=42)\n",
    "\n",
    "# Refit the model to the original (non-oversampled) training data\n",
    "rf_clf.fit(X_train, y_train)"
   ]
  },
  {
   "cell_type": "code",
   "execution_count": null,
   "id": "d08ef483-7cd3-4b8e-9bed-b3b7ab6b8f72",
   "metadata": {},
   "outputs": [
    {
     "data": {
      "text/plain": [
       "0    0.966331\n",
       "1    0.033669\n",
       "Name: income_above_limit, dtype: float64"
      ]
     },
     "execution_count": 37,
     "metadata": {},
     "output_type": "execute_result"
    }
   ],
   "source": [
    "subdf                       = pd.read_csv('SampleSubmission.csv')\n",
    "subdf['income_above_limit'] = rf_clf_ov.predict(test_df_coded)\n",
    "subdf.to_csv('Sample_submission_2.csv',index=False)\n",
    "subdf['income_above_limit'].value_counts(normalize=True)"
   ]
  },
  {
   "cell_type": "code",
   "execution_count": null,
   "id": "ec71eb98-f3ef-44a2-8c02-d0912b8d0edd",
   "metadata": {},
   "outputs": [
    {
     "data": {
      "text/plain": [
       "0    0.966331\n",
       "1    0.033669\n",
       "Name: income_above_limit, dtype: float64"
      ]
     },
     "execution_count": 38,
     "metadata": {},
     "output_type": "execute_result"
    }
   ],
   "source": [
    "subdf                       = pd.read_csv('SampleSubmission.csv')\n",
    "subdf['income_above_limit'] = rf_clf.predict(test_df_coded)\n",
    "subdf.to_csv('Sample_submission_3.csv',index=False)\n",
    "subdf['income_above_limit'].value_counts(normalize=True)"
   ]
  },
  {
   "cell_type": "code",
   "execution_count": null,
   "id": "4caa32f8-7e71-4e24-acdb-cd4178c1a462",
   "metadata": {},
   "outputs": [
    {
     "data": {
      "text/html": [
       "<div>\n",
       "<style scoped>\n",
       "    .dataframe tbody tr th:only-of-type {\n",
       "        vertical-align: middle;\n",
       "    }\n",
       "\n",
       "    .dataframe tbody tr th {\n",
       "        vertical-align: top;\n",
       "    }\n",
       "\n",
       "    .dataframe thead th {\n",
       "        text-align: right;\n",
       "    }\n",
       "</style>\n",
       "<table border=\"1\" class=\"dataframe\">\n",
       "  <thead>\n",
       "    <tr style=\"text-align: right;\">\n",
       "      <th></th>\n",
       "      <th>ID</th>\n",
       "      <th>income_above_limit</th>\n",
       "    </tr>\n",
       "  </thead>\n",
       "  <tbody>\n",
       "    <tr>\n",
       "      <th>0</th>\n",
       "      <td>ID_TZ209499</td>\n",
       "      <td>0</td>\n",
       "    </tr>\n",
       "    <tr>\n",
       "      <th>1</th>\n",
       "      <td>ID_TZ209500</td>\n",
       "      <td>0</td>\n",
       "    </tr>\n",
       "    <tr>\n",
       "      <th>2</th>\n",
       "      <td>ID_TZ209501</td>\n",
       "      <td>1</td>\n",
       "    </tr>\n",
       "    <tr>\n",
       "      <th>3</th>\n",
       "      <td>ID_TZ209502</td>\n",
       "      <td>0</td>\n",
       "    </tr>\n",
       "    <tr>\n",
       "      <th>4</th>\n",
       "      <td>ID_TZ209503</td>\n",
       "      <td>0</td>\n",
       "    </tr>\n",
       "    <tr>\n",
       "      <th>...</th>\n",
       "      <td>...</td>\n",
       "      <td>...</td>\n",
       "    </tr>\n",
       "    <tr>\n",
       "      <th>95</th>\n",
       "      <td>ID_TZ209594</td>\n",
       "      <td>0</td>\n",
       "    </tr>\n",
       "    <tr>\n",
       "      <th>96</th>\n",
       "      <td>ID_TZ209595</td>\n",
       "      <td>0</td>\n",
       "    </tr>\n",
       "    <tr>\n",
       "      <th>97</th>\n",
       "      <td>ID_TZ209596</td>\n",
       "      <td>0</td>\n",
       "    </tr>\n",
       "    <tr>\n",
       "      <th>98</th>\n",
       "      <td>ID_TZ209597</td>\n",
       "      <td>0</td>\n",
       "    </tr>\n",
       "    <tr>\n",
       "      <th>99</th>\n",
       "      <td>ID_TZ209598</td>\n",
       "      <td>0</td>\n",
       "    </tr>\n",
       "  </tbody>\n",
       "</table>\n",
       "<p>100 rows × 2 columns</p>\n",
       "</div>"
      ],
      "text/plain": [
       "             ID  income_above_limit\n",
       "0   ID_TZ209499                   0\n",
       "1   ID_TZ209500                   0\n",
       "2   ID_TZ209501                   1\n",
       "3   ID_TZ209502                   0\n",
       "4   ID_TZ209503                   0\n",
       "..          ...                 ...\n",
       "95  ID_TZ209594                   0\n",
       "96  ID_TZ209595                   0\n",
       "97  ID_TZ209596                   0\n",
       "98  ID_TZ209597                   0\n",
       "99  ID_TZ209598                   0\n",
       "\n",
       "[100 rows x 2 columns]"
      ]
     },
     "execution_count": 39,
     "metadata": {},
     "output_type": "execute_result"
    }
   ],
   "source": [
    "# Perform predictions using the loaded pipeline\n",
    "predictions = rf_clf_ov.predict(test_df_coded)\n",
    "\n",
    "# Add the predictions as a new column to df_test\n",
    "test_predictions = test.copy()\n",
    "test_predictions['income_above_limit'] = predictions\n",
    "\n",
    "# Merge the 'test_df' and 'test_predictions' based on the common column 'ID'\n",
    "merged_df = pd.DataFrame(data=predictions, columns=['income_above_limit']).merge(test[['ID']], left_index=True, right_index=True)\n",
    "\n",
    "# Now 'merged_df' contains the 'ID' column in addition to the data from 'test_predictions'\n",
    "results = merged_df[['ID', 'income_above_limit']]\n",
    "results.head(100)"
   ]
  },
  {
   "cell_type": "code",
   "execution_count": null,
   "id": "6c2eb834-0152-44d4-bc27-2569ccabb250",
   "metadata": {},
   "outputs": [],
   "source": [
    "results.to_csv('results.csv', index=False)"
   ]
  },
  {
   "cell_type": "code",
   "execution_count": 331,
   "id": "77c54017",
   "metadata": {},
   "outputs": [
    {
     "name": "stdout",
     "output_type": "stream",
     "text": [
      "F1-score: 0.9234230508362421\n"
     ]
    }
   ],
   "source": [
    "import pandas as pd\n",
    "from sklearn.model_selection import train_test_split, GridSearchCV\n",
    "from sklearn.ensemble import RandomForestClassifier\n",
    "from sklearn.metrics import f1_score\n",
    "from imblearn.pipeline import Pipeline\n",
    "from imblearn.over_sampling import SMOTE\n",
    "from sklearn.preprocessing import StandardScaler\n",
    "\n",
    "# Separate features and target variable\n",
    "X = train_df_coded.drop(\"income_above_limit\", axis=1)\n",
    "y = train_df_coded[\"income_above_limit\"]\n",
    "\n",
    "# Oversample minority class using SMOTE\n",
    "smote = SMOTE(random_state=42)\n",
    "X_train_oversampled, y_train_oversampled = smote.fit_resample(X, y)\n",
    "\n",
    "# Split data into training and testing sets\n",
    "X_train, X_test, y_train, y_test = train_test_split(X_train_oversampled, y_train_oversampled, test_size=0.15, random_state=42)\n",
    "\n",
    "# Create a pipeline for integrated preprocessing and modeling\n",
    "pipeline = Pipeline([\n",
    "    ('scaler', StandardScaler()),  # Standardize features\n",
    "    ('rf_clf', RandomForestClassifier(random_state=75))  # Random Forest model\n",
    "])\n",
    "\n",
    "# Define hyperparameter grid for tuning\n",
    "param_grid = {\n",
    "    'rf_clf__n_estimators': [100, 200, 300],\n",
    "    'rf_clf__max_depth': [4, 6, 8],\n",
    "    'rf_clf__min_samples_split': [2, 5, 10]\n",
    "}\n",
    "\n",
    "# Perform grid search with cross-validation\n",
    "grid_search = GridSearchCV(pipeline, param_grid, scoring='f1', cv=5)\n",
    "grid_search.fit(X_train, y_train)\n",
    "\n",
    "# Get the best model and its F1-score\n",
    "best_model = grid_search.best_estimator_\n",
    "y_pred = best_model.predict(X_test)\n",
    "f1 = f1_score(y_test, y_pred)\n",
    "print(\"F1-score:\", f1)\n"
   ]
  },
  {
   "cell_type": "code",
   "execution_count": 332,
   "id": "be4a51fe",
   "metadata": {},
   "outputs": [
    {
     "data": {
      "text/html": [
       "<style>#sk-container-id-1 {color: black;}#sk-container-id-1 pre{padding: 0;}#sk-container-id-1 div.sk-toggleable {background-color: white;}#sk-container-id-1 label.sk-toggleable__label {cursor: pointer;display: block;width: 100%;margin-bottom: 0;padding: 0.3em;box-sizing: border-box;text-align: center;}#sk-container-id-1 label.sk-toggleable__label-arrow:before {content: \"▸\";float: left;margin-right: 0.25em;color: #696969;}#sk-container-id-1 label.sk-toggleable__label-arrow:hover:before {color: black;}#sk-container-id-1 div.sk-estimator:hover label.sk-toggleable__label-arrow:before {color: black;}#sk-container-id-1 div.sk-toggleable__content {max-height: 0;max-width: 0;overflow: hidden;text-align: left;background-color: #f0f8ff;}#sk-container-id-1 div.sk-toggleable__content pre {margin: 0.2em;color: black;border-radius: 0.25em;background-color: #f0f8ff;}#sk-container-id-1 input.sk-toggleable__control:checked~div.sk-toggleable__content {max-height: 200px;max-width: 100%;overflow: auto;}#sk-container-id-1 input.sk-toggleable__control:checked~label.sk-toggleable__label-arrow:before {content: \"▾\";}#sk-container-id-1 div.sk-estimator input.sk-toggleable__control:checked~label.sk-toggleable__label {background-color: #d4ebff;}#sk-container-id-1 div.sk-label input.sk-toggleable__control:checked~label.sk-toggleable__label {background-color: #d4ebff;}#sk-container-id-1 input.sk-hidden--visually {border: 0;clip: rect(1px 1px 1px 1px);clip: rect(1px, 1px, 1px, 1px);height: 1px;margin: -1px;overflow: hidden;padding: 0;position: absolute;width: 1px;}#sk-container-id-1 div.sk-estimator {font-family: monospace;background-color: #f0f8ff;border: 1px dotted black;border-radius: 0.25em;box-sizing: border-box;margin-bottom: 0.5em;}#sk-container-id-1 div.sk-estimator:hover {background-color: #d4ebff;}#sk-container-id-1 div.sk-parallel-item::after {content: \"\";width: 100%;border-bottom: 1px solid gray;flex-grow: 1;}#sk-container-id-1 div.sk-label:hover label.sk-toggleable__label {background-color: #d4ebff;}#sk-container-id-1 div.sk-serial::before {content: \"\";position: absolute;border-left: 1px solid gray;box-sizing: border-box;top: 0;bottom: 0;left: 50%;z-index: 0;}#sk-container-id-1 div.sk-serial {display: flex;flex-direction: column;align-items: center;background-color: white;padding-right: 0.2em;padding-left: 0.2em;position: relative;}#sk-container-id-1 div.sk-item {position: relative;z-index: 1;}#sk-container-id-1 div.sk-parallel {display: flex;align-items: stretch;justify-content: center;background-color: white;position: relative;}#sk-container-id-1 div.sk-item::before, #sk-container-id-1 div.sk-parallel-item::before {content: \"\";position: absolute;border-left: 1px solid gray;box-sizing: border-box;top: 0;bottom: 0;left: 50%;z-index: -1;}#sk-container-id-1 div.sk-parallel-item {display: flex;flex-direction: column;z-index: 1;position: relative;background-color: white;}#sk-container-id-1 div.sk-parallel-item:first-child::after {align-self: flex-end;width: 50%;}#sk-container-id-1 div.sk-parallel-item:last-child::after {align-self: flex-start;width: 50%;}#sk-container-id-1 div.sk-parallel-item:only-child::after {width: 0;}#sk-container-id-1 div.sk-dashed-wrapped {border: 1px dashed gray;margin: 0 0.4em 0.5em 0.4em;box-sizing: border-box;padding-bottom: 0.4em;background-color: white;}#sk-container-id-1 div.sk-label label {font-family: monospace;font-weight: bold;display: inline-block;line-height: 1.2em;}#sk-container-id-1 div.sk-label-container {text-align: center;}#sk-container-id-1 div.sk-container {/* jupyter's `normalize.less` sets `[hidden] { display: none; }` but bootstrap.min.css set `[hidden] { display: none !important; }` so we also need the `!important` here to be able to override the default hidden behavior on the sphinx rendered scikit-learn.org. See: https://github.com/scikit-learn/scikit-learn/issues/21755 */display: inline-block !important;position: relative;}#sk-container-id-1 div.sk-text-repr-fallback {display: none;}</style><div id=\"sk-container-id-1\" class=\"sk-top-container\"><div class=\"sk-text-repr-fallback\"><pre>Pipeline(steps=[(&#x27;scaler&#x27;, StandardScaler()),\n",
       "                (&#x27;rf_clf&#x27;,\n",
       "                 RandomForestClassifier(max_depth=8, min_samples_split=10,\n",
       "                                        n_estimators=200, random_state=75))])</pre><b>In a Jupyter environment, please rerun this cell to show the HTML representation or trust the notebook. <br />On GitHub, the HTML representation is unable to render, please try loading this page with nbviewer.org.</b></div><div class=\"sk-container\" hidden><div class=\"sk-item sk-dashed-wrapped\"><div class=\"sk-label-container\"><div class=\"sk-label sk-toggleable\"><input class=\"sk-toggleable__control sk-hidden--visually\" id=\"sk-estimator-id-1\" type=\"checkbox\" ><label for=\"sk-estimator-id-1\" class=\"sk-toggleable__label sk-toggleable__label-arrow\">Pipeline</label><div class=\"sk-toggleable__content\"><pre>Pipeline(steps=[(&#x27;scaler&#x27;, StandardScaler()),\n",
       "                (&#x27;rf_clf&#x27;,\n",
       "                 RandomForestClassifier(max_depth=8, min_samples_split=10,\n",
       "                                        n_estimators=200, random_state=75))])</pre></div></div></div><div class=\"sk-serial\"><div class=\"sk-item\"><div class=\"sk-estimator sk-toggleable\"><input class=\"sk-toggleable__control sk-hidden--visually\" id=\"sk-estimator-id-2\" type=\"checkbox\" ><label for=\"sk-estimator-id-2\" class=\"sk-toggleable__label sk-toggleable__label-arrow\">StandardScaler</label><div class=\"sk-toggleable__content\"><pre>StandardScaler()</pre></div></div></div><div class=\"sk-item\"><div class=\"sk-estimator sk-toggleable\"><input class=\"sk-toggleable__control sk-hidden--visually\" id=\"sk-estimator-id-3\" type=\"checkbox\" ><label for=\"sk-estimator-id-3\" class=\"sk-toggleable__label sk-toggleable__label-arrow\">RandomForestClassifier</label><div class=\"sk-toggleable__content\"><pre>RandomForestClassifier(max_depth=8, min_samples_split=10, n_estimators=200,\n",
       "                       random_state=75)</pre></div></div></div></div></div></div></div>"
      ],
      "text/plain": [
       "Pipeline(steps=[('scaler', StandardScaler()),\n",
       "                ('rf_clf',\n",
       "                 RandomForestClassifier(max_depth=8, min_samples_split=10,\n",
       "                                        n_estimators=200, random_state=75))])"
      ]
     },
     "execution_count": 332,
     "metadata": {},
     "output_type": "execute_result"
    }
   ],
   "source": [
    "# Conduct model refitting to avoid overfitting with balanced data and fit with the imbalanced data.\n",
    "# Split data into features (X) and target variable (y)\n",
    "X = train_df_coded.drop('income_above_limit', axis=1)\n",
    "y = train_df_coded['income_above_limit']\n",
    "\n",
    "# Split data into training and testing sets before oversampling\n",
    "X_train, X_test, y_train, y_test = train_test_split(X, y, test_size=0.1, random_state=42)\n",
    "\n",
    "# Refit the model to the original (non-oversampled) training data\n",
    "best_model.fit(X_train, y_train)"
   ]
  },
  {
   "cell_type": "code",
   "execution_count": 333,
   "id": "1a1c01f8",
   "metadata": {},
   "outputs": [
    {
     "data": {
      "text/plain": [
       "income_above_limit\n",
       "0    0.984062\n",
       "1    0.015938\n",
       "Name: proportion, dtype: float64"
      ]
     },
     "execution_count": 333,
     "metadata": {},
     "output_type": "execute_result"
    }
   ],
   "source": [
    "subdf                       = pd.read_csv('SampleSubmission.csv')\n",
    "subdf['income_above_limit'] = best_model.predict(test_df_coded)\n",
    "subdf.to_csv('Sample_submission_cv.csv',index=False)\n",
    "subdf['income_above_limit'].value_counts(normalize=True)"
   ]
  }
 ],
 "metadata": {
  "kernelspec": {
   "display_name": "Python 3 (ipykernel)",
   "language": "python",
   "name": "python3"
  },
  "language_info": {
   "codemirror_mode": {
    "name": "ipython",
    "version": 3
   },
   "file_extension": ".py",
   "mimetype": "text/x-python",
   "name": "python",
   "nbconvert_exporter": "python",
   "pygments_lexer": "ipython3",
   "version": "3.10.4"
  }
 },
 "nbformat": 4,
 "nbformat_minor": 5
}
