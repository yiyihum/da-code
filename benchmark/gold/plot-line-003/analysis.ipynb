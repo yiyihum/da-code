{
 "cells": [
  {
   "cell_type": "code",
   "execution_count": 1,
   "id": "c20a3808",
   "metadata": {
    "_cell_guid": "b1076dfc-b9ad-4769-8c92-a6c4dae69d19",
    "_uuid": "8f2839f25d086af736a60e9eeb907d3b93b6e0e5",
    "execution": {
     "iopub.execute_input": "2022-12-17T13:46:54.317012Z",
     "iopub.status.busy": "2022-12-17T13:46:54.316111Z",
     "iopub.status.idle": "2022-12-17T13:46:55.487177Z",
     "shell.execute_reply": "2022-12-17T13:46:55.485860Z"
    },
    "papermill": {
     "duration": 1.184188,
     "end_time": "2022-12-17T13:46:55.490694",
     "exception": false,
     "start_time": "2022-12-17T13:46:54.306506",
     "status": "completed"
    },
    "tags": []
   },
   "outputs": [],
   "source": [
    "import pandas as pd\n",
    "import numpy as np\n",
    "import matplotlib.pyplot as plt\n",
    "import seaborn as sns\n",
    "%matplotlib inline\n",
    "sns.set_style('darkgrid')"
   ]
  },
  {
   "cell_type": "code",
   "execution_count": 2,
   "id": "59b451c4",
   "metadata": {
    "execution": {
     "iopub.execute_input": "2022-12-17T13:46:55.511499Z",
     "iopub.status.busy": "2022-12-17T13:46:55.511088Z",
     "iopub.status.idle": "2022-12-17T13:46:57.067881Z",
     "shell.execute_reply": "2022-12-17T13:46:57.066518Z"
    },
    "papermill": {
     "duration": 1.568259,
     "end_time": "2022-12-17T13:46:57.070462",
     "exception": false,
     "start_time": "2022-12-17T13:46:55.502203",
     "status": "completed"
    },
    "tags": []
   },
   "outputs": [
    {
     "data": {
      "text/html": [
       "<div>\n",
       "<style scoped>\n",
       "    .dataframe tbody tr th:only-of-type {\n",
       "        vertical-align: middle;\n",
       "    }\n",
       "\n",
       "    .dataframe tbody tr th {\n",
       "        vertical-align: top;\n",
       "    }\n",
       "\n",
       "    .dataframe thead th {\n",
       "        text-align: right;\n",
       "    }\n",
       "</style>\n",
       "<table border=\"1\" class=\"dataframe\">\n",
       "  <thead>\n",
       "    <tr style=\"text-align: right;\">\n",
       "      <th></th>\n",
       "      <th>uuid</th>\n",
       "      <th>ord_in_thread</th>\n",
       "      <th>author</th>\n",
       "      <th>published</th>\n",
       "      <th>title</th>\n",
       "      <th>text</th>\n",
       "      <th>language</th>\n",
       "      <th>crawled</th>\n",
       "      <th>site_url</th>\n",
       "      <th>country</th>\n",
       "      <th>domain_rank</th>\n",
       "      <th>thread_title</th>\n",
       "      <th>spam_score</th>\n",
       "      <th>main_img_url</th>\n",
       "      <th>replies_count</th>\n",
       "      <th>participants_count</th>\n",
       "      <th>likes</th>\n",
       "      <th>comments</th>\n",
       "      <th>shares</th>\n",
       "      <th>type</th>\n",
       "    </tr>\n",
       "  </thead>\n",
       "  <tbody>\n",
       "    <tr>\n",
       "      <th>0</th>\n",
       "      <td>6a175f46bcd24d39b3e962ad0f29936721db70db</td>\n",
       "      <td>0</td>\n",
       "      <td>Barracuda Brigade</td>\n",
       "      <td>2016-10-26T21:41:00.000+03:00</td>\n",
       "      <td>Muslims BUSTED: They Stole Millions In Gov’t B...</td>\n",
       "      <td>Print They should pay all the back all the mon...</td>\n",
       "      <td>english</td>\n",
       "      <td>2016-10-27T01:49:27.168+03:00</td>\n",
       "      <td>100percentfedup.com</td>\n",
       "      <td>US</td>\n",
       "      <td>25689.0</td>\n",
       "      <td>Muslims BUSTED: They Stole Millions In Gov’t B...</td>\n",
       "      <td>0.000</td>\n",
       "      <td>http://bb4sp.com/wp-content/uploads/2016/10/Fu...</td>\n",
       "      <td>0</td>\n",
       "      <td>1</td>\n",
       "      <td>0</td>\n",
       "      <td>0</td>\n",
       "      <td>0</td>\n",
       "      <td>bias</td>\n",
       "    </tr>\n",
       "    <tr>\n",
       "      <th>1</th>\n",
       "      <td>2bdc29d12605ef9cf3f09f9875040a7113be5d5b</td>\n",
       "      <td>0</td>\n",
       "      <td>reasoning with facts</td>\n",
       "      <td>2016-10-29T08:47:11.259+03:00</td>\n",
       "      <td>Re: Why Did Attorney General Loretta Lynch Ple...</td>\n",
       "      <td>Why Did Attorney General Loretta Lynch Plead T...</td>\n",
       "      <td>english</td>\n",
       "      <td>2016-10-29T08:47:11.259+03:00</td>\n",
       "      <td>100percentfedup.com</td>\n",
       "      <td>US</td>\n",
       "      <td>25689.0</td>\n",
       "      <td>Re: Why Did Attorney General Loretta Lynch Ple...</td>\n",
       "      <td>0.000</td>\n",
       "      <td>http://bb4sp.com/wp-content/uploads/2016/10/Fu...</td>\n",
       "      <td>0</td>\n",
       "      <td>1</td>\n",
       "      <td>0</td>\n",
       "      <td>0</td>\n",
       "      <td>0</td>\n",
       "      <td>bias</td>\n",
       "    </tr>\n",
       "    <tr>\n",
       "      <th>2</th>\n",
       "      <td>c70e149fdd53de5e61c29281100b9de0ed268bc3</td>\n",
       "      <td>0</td>\n",
       "      <td>Barracuda Brigade</td>\n",
       "      <td>2016-10-31T01:41:49.479+02:00</td>\n",
       "      <td>BREAKING: Weiner Cooperating With FBI On Hilla...</td>\n",
       "      <td>Red State : \\nFox News Sunday reported this mo...</td>\n",
       "      <td>english</td>\n",
       "      <td>2016-10-31T01:41:49.479+02:00</td>\n",
       "      <td>100percentfedup.com</td>\n",
       "      <td>US</td>\n",
       "      <td>25689.0</td>\n",
       "      <td>BREAKING: Weiner Cooperating With FBI On Hilla...</td>\n",
       "      <td>0.000</td>\n",
       "      <td>http://bb4sp.com/wp-content/uploads/2016/10/Fu...</td>\n",
       "      <td>0</td>\n",
       "      <td>1</td>\n",
       "      <td>0</td>\n",
       "      <td>0</td>\n",
       "      <td>0</td>\n",
       "      <td>bias</td>\n",
       "    </tr>\n",
       "    <tr>\n",
       "      <th>3</th>\n",
       "      <td>7cf7c15731ac2a116dd7f629bd57ea468ed70284</td>\n",
       "      <td>0</td>\n",
       "      <td>Fed Up</td>\n",
       "      <td>2016-11-01T05:22:00.000+02:00</td>\n",
       "      <td>PIN DROP SPEECH BY FATHER OF DAUGHTER Kidnappe...</td>\n",
       "      <td>Email Kayla Mueller was a prisoner and torture...</td>\n",
       "      <td>english</td>\n",
       "      <td>2016-11-01T15:46:26.304+02:00</td>\n",
       "      <td>100percentfedup.com</td>\n",
       "      <td>US</td>\n",
       "      <td>25689.0</td>\n",
       "      <td>PIN DROP SPEECH BY FATHER OF DAUGHTER Kidnappe...</td>\n",
       "      <td>0.068</td>\n",
       "      <td>http://100percentfedup.com/wp-content/uploads/...</td>\n",
       "      <td>0</td>\n",
       "      <td>0</td>\n",
       "      <td>0</td>\n",
       "      <td>0</td>\n",
       "      <td>0</td>\n",
       "      <td>bias</td>\n",
       "    </tr>\n",
       "    <tr>\n",
       "      <th>4</th>\n",
       "      <td>0206b54719c7e241ffe0ad4315b808290dbe6c0f</td>\n",
       "      <td>0</td>\n",
       "      <td>Fed Up</td>\n",
       "      <td>2016-11-01T21:56:00.000+02:00</td>\n",
       "      <td>FANTASTIC! TRUMP'S 7 POINT PLAN To Reform Heal...</td>\n",
       "      <td>Email HEALTHCARE REFORM TO MAKE AMERICA GREAT ...</td>\n",
       "      <td>english</td>\n",
       "      <td>2016-11-01T23:59:42.266+02:00</td>\n",
       "      <td>100percentfedup.com</td>\n",
       "      <td>US</td>\n",
       "      <td>25689.0</td>\n",
       "      <td>FANTASTIC! TRUMP'S 7 POINT PLAN To Reform Heal...</td>\n",
       "      <td>0.865</td>\n",
       "      <td>http://100percentfedup.com/wp-content/uploads/...</td>\n",
       "      <td>0</td>\n",
       "      <td>0</td>\n",
       "      <td>0</td>\n",
       "      <td>0</td>\n",
       "      <td>0</td>\n",
       "      <td>bias</td>\n",
       "    </tr>\n",
       "  </tbody>\n",
       "</table>\n",
       "</div>"
      ],
      "text/plain": [
       "                                       uuid  ord_in_thread  \\\n",
       "0  6a175f46bcd24d39b3e962ad0f29936721db70db              0   \n",
       "1  2bdc29d12605ef9cf3f09f9875040a7113be5d5b              0   \n",
       "2  c70e149fdd53de5e61c29281100b9de0ed268bc3              0   \n",
       "3  7cf7c15731ac2a116dd7f629bd57ea468ed70284              0   \n",
       "4  0206b54719c7e241ffe0ad4315b808290dbe6c0f              0   \n",
       "\n",
       "                 author                      published  \\\n",
       "0     Barracuda Brigade  2016-10-26T21:41:00.000+03:00   \n",
       "1  reasoning with facts  2016-10-29T08:47:11.259+03:00   \n",
       "2     Barracuda Brigade  2016-10-31T01:41:49.479+02:00   \n",
       "3                Fed Up  2016-11-01T05:22:00.000+02:00   \n",
       "4                Fed Up  2016-11-01T21:56:00.000+02:00   \n",
       "\n",
       "                                               title  \\\n",
       "0  Muslims BUSTED: They Stole Millions In Gov’t B...   \n",
       "1  Re: Why Did Attorney General Loretta Lynch Ple...   \n",
       "2  BREAKING: Weiner Cooperating With FBI On Hilla...   \n",
       "3  PIN DROP SPEECH BY FATHER OF DAUGHTER Kidnappe...   \n",
       "4  FANTASTIC! TRUMP'S 7 POINT PLAN To Reform Heal...   \n",
       "\n",
       "                                                text language  \\\n",
       "0  Print They should pay all the back all the mon...  english   \n",
       "1  Why Did Attorney General Loretta Lynch Plead T...  english   \n",
       "2  Red State : \\nFox News Sunday reported this mo...  english   \n",
       "3  Email Kayla Mueller was a prisoner and torture...  english   \n",
       "4  Email HEALTHCARE REFORM TO MAKE AMERICA GREAT ...  english   \n",
       "\n",
       "                         crawled             site_url country  domain_rank  \\\n",
       "0  2016-10-27T01:49:27.168+03:00  100percentfedup.com      US      25689.0   \n",
       "1  2016-10-29T08:47:11.259+03:00  100percentfedup.com      US      25689.0   \n",
       "2  2016-10-31T01:41:49.479+02:00  100percentfedup.com      US      25689.0   \n",
       "3  2016-11-01T15:46:26.304+02:00  100percentfedup.com      US      25689.0   \n",
       "4  2016-11-01T23:59:42.266+02:00  100percentfedup.com      US      25689.0   \n",
       "\n",
       "                                        thread_title  spam_score  \\\n",
       "0  Muslims BUSTED: They Stole Millions In Gov’t B...       0.000   \n",
       "1  Re: Why Did Attorney General Loretta Lynch Ple...       0.000   \n",
       "2  BREAKING: Weiner Cooperating With FBI On Hilla...       0.000   \n",
       "3  PIN DROP SPEECH BY FATHER OF DAUGHTER Kidnappe...       0.068   \n",
       "4  FANTASTIC! TRUMP'S 7 POINT PLAN To Reform Heal...       0.865   \n",
       "\n",
       "                                        main_img_url  replies_count  \\\n",
       "0  http://bb4sp.com/wp-content/uploads/2016/10/Fu...              0   \n",
       "1  http://bb4sp.com/wp-content/uploads/2016/10/Fu...              0   \n",
       "2  http://bb4sp.com/wp-content/uploads/2016/10/Fu...              0   \n",
       "3  http://100percentfedup.com/wp-content/uploads/...              0   \n",
       "4  http://100percentfedup.com/wp-content/uploads/...              0   \n",
       "\n",
       "   participants_count  likes  comments  shares  type  \n",
       "0                   1      0         0       0  bias  \n",
       "1                   1      0         0       0  bias  \n",
       "2                   1      0         0       0  bias  \n",
       "3                   0      0         0       0  bias  \n",
       "4                   0      0         0       0  bias  "
      ]
     },
     "execution_count": 2,
     "metadata": {},
     "output_type": "execute_result"
    }
   ],
   "source": [
    "df=pd.read_csv('/kaggle/input/fake-news/fake.csv')\n",
    "df.head()"
   ]
  },
  {
   "cell_type": "markdown",
   "id": "bc975602",
   "metadata": {
    "papermill": {
     "duration": 0.007521,
     "end_time": "2022-12-17T13:46:57.086340",
     "exception": false,
     "start_time": "2022-12-17T13:46:57.078819",
     "status": "completed"
    },
    "tags": []
   },
   "source": [
    "# cleaning"
   ]
  },
  {
   "cell_type": "code",
   "execution_count": 3,
   "id": "1297f74f",
   "metadata": {
    "execution": {
     "iopub.execute_input": "2022-12-17T13:46:57.104329Z",
     "iopub.status.busy": "2022-12-17T13:46:57.103877Z",
     "iopub.status.idle": "2022-12-17T13:46:57.111197Z",
     "shell.execute_reply": "2022-12-17T13:46:57.110047Z"
    },
    "papermill": {
     "duration": 0.018919,
     "end_time": "2022-12-17T13:46:57.113373",
     "exception": false,
     "start_time": "2022-12-17T13:46:57.094454",
     "status": "completed"
    },
    "tags": []
   },
   "outputs": [
    {
     "data": {
      "text/plain": [
       "(12999, 20)"
      ]
     },
     "execution_count": 3,
     "metadata": {},
     "output_type": "execute_result"
    }
   ],
   "source": [
    "df.shape"
   ]
  },
  {
   "cell_type": "code",
   "execution_count": 4,
   "id": "03522e75",
   "metadata": {
    "execution": {
     "iopub.execute_input": "2022-12-17T13:46:57.132561Z",
     "iopub.status.busy": "2022-12-17T13:46:57.132144Z",
     "iopub.status.idle": "2022-12-17T13:46:57.168034Z",
     "shell.execute_reply": "2022-12-17T13:46:57.166758Z"
    },
    "papermill": {
     "duration": 0.049229,
     "end_time": "2022-12-17T13:46:57.170485",
     "exception": false,
     "start_time": "2022-12-17T13:46:57.121256",
     "status": "completed"
    },
    "tags": []
   },
   "outputs": [
    {
     "name": "stdout",
     "output_type": "stream",
     "text": [
      "<class 'pandas.core.frame.DataFrame'>\n",
      "RangeIndex: 12999 entries, 0 to 12998\n",
      "Data columns (total 20 columns):\n",
      " #   Column              Non-Null Count  Dtype  \n",
      "---  ------              --------------  -----  \n",
      " 0   uuid                12999 non-null  object \n",
      " 1   ord_in_thread       12999 non-null  int64  \n",
      " 2   author              10575 non-null  object \n",
      " 3   published           12999 non-null  object \n",
      " 4   title               12319 non-null  object \n",
      " 5   text                12953 non-null  object \n",
      " 6   language            12999 non-null  object \n",
      " 7   crawled             12999 non-null  object \n",
      " 8   site_url            12999 non-null  object \n",
      " 9   country             12823 non-null  object \n",
      " 10  domain_rank         8776 non-null   float64\n",
      " 11  thread_title        12987 non-null  object \n",
      " 12  spam_score          12999 non-null  float64\n",
      " 13  main_img_url        9356 non-null   object \n",
      " 14  replies_count       12999 non-null  int64  \n",
      " 15  participants_count  12999 non-null  int64  \n",
      " 16  likes               12999 non-null  int64  \n",
      " 17  comments            12999 non-null  int64  \n",
      " 18  shares              12999 non-null  int64  \n",
      " 19  type                12999 non-null  object \n",
      "dtypes: float64(2), int64(6), object(12)\n",
      "memory usage: 2.0+ MB\n"
     ]
    }
   ],
   "source": [
    "# get information about data\n",
    "df.info()"
   ]
  },
  {
   "cell_type": "code",
   "execution_count": 5,
   "id": "1f928dae",
   "metadata": {
    "execution": {
     "iopub.execute_input": "2022-12-17T13:46:57.188614Z",
     "iopub.status.busy": "2022-12-17T13:46:57.188203Z",
     "iopub.status.idle": "2022-12-17T13:46:57.194112Z",
     "shell.execute_reply": "2022-12-17T13:46:57.192771Z"
    },
    "papermill": {
     "duration": 0.017634,
     "end_time": "2022-12-17T13:46:57.196248",
     "exception": false,
     "start_time": "2022-12-17T13:46:57.178614",
     "status": "completed"
    },
    "tags": []
   },
   "outputs": [],
   "source": [
    "# rename first column 'uuid' to 'id'\n",
    "df.rename(columns={'uuid':'id'},inplace=True)"
   ]
  },
  {
   "cell_type": "code",
   "execution_count": 6,
   "id": "b5b9ff17",
   "metadata": {
    "execution": {
     "iopub.execute_input": "2022-12-17T13:46:57.214313Z",
     "iopub.status.busy": "2022-12-17T13:46:57.213879Z",
     "iopub.status.idle": "2022-12-17T13:46:57.360946Z",
     "shell.execute_reply": "2022-12-17T13:46:57.359799Z"
    },
    "papermill": {
     "duration": 0.15954,
     "end_time": "2022-12-17T13:46:57.363766",
     "exception": false,
     "start_time": "2022-12-17T13:46:57.204226",
     "status": "completed"
    },
    "tags": []
   },
   "outputs": [],
   "source": [
    "#transform types of published and crawled columns from object to datetime\n",
    "df['published']=pd.to_datetime(df['published'],utc=True)\n",
    "df['crawled']=pd.to_datetime(df['crawled'],utc=True)"
   ]
  },
  {
   "cell_type": "code",
   "execution_count": 7,
   "id": "27e12a73",
   "metadata": {
    "execution": {
     "iopub.execute_input": "2022-12-17T13:46:57.381606Z",
     "iopub.status.busy": "2022-12-17T13:46:57.381214Z",
     "iopub.status.idle": "2022-12-17T13:46:57.558323Z",
     "shell.execute_reply": "2022-12-17T13:46:57.557383Z"
    },
    "papermill": {
     "duration": 0.189117,
     "end_time": "2022-12-17T13:46:57.560931",
     "exception": false,
     "start_time": "2022-12-17T13:46:57.371814",
     "status": "completed"
    },
    "tags": []
   },
   "outputs": [],
   "source": [
    "# add to column 'crawled_by_day' by transform column \"crawled\"\n",
    "df.insert(8,'crawled_by_day',pd.to_datetime(df['crawled'],utc=True).dt.strftime('%Y-%m-%d'))\n",
    "# add to column 'published_by_day' by transform column \"published\"\n",
    "df.insert(4,'published_by_day',pd.to_datetime(df['published'],utc=True).dt.strftime('%Y-%m-%d'))"
   ]
  },
  {
   "cell_type": "code",
   "execution_count": 8,
   "id": "55ef10fb",
   "metadata": {
    "execution": {
     "iopub.execute_input": "2022-12-17T13:46:57.578839Z",
     "iopub.status.busy": "2022-12-17T13:46:57.578420Z",
     "iopub.status.idle": "2022-12-17T13:46:57.600051Z",
     "shell.execute_reply": "2022-12-17T13:46:57.599070Z"
    },
    "papermill": {
     "duration": 0.033641,
     "end_time": "2022-12-17T13:46:57.602702",
     "exception": false,
     "start_time": "2022-12-17T13:46:57.569061",
     "status": "completed"
    },
    "tags": []
   },
   "outputs": [
    {
     "data": {
      "text/plain": [
       "id                       0\n",
       "ord_in_thread            0\n",
       "author                2424\n",
       "published                0\n",
       "published_by_day         0\n",
       "title                  680\n",
       "text                    46\n",
       "language                 0\n",
       "crawled                  0\n",
       "crawled_by_day           0\n",
       "site_url                 0\n",
       "country                176\n",
       "domain_rank           4223\n",
       "thread_title            12\n",
       "spam_score               0\n",
       "main_img_url          3643\n",
       "replies_count            0\n",
       "participants_count       0\n",
       "likes                    0\n",
       "comments                 0\n",
       "shares                   0\n",
       "type                     0\n",
       "dtype: int64"
      ]
     },
     "execution_count": 8,
     "metadata": {},
     "output_type": "execute_result"
    }
   ],
   "source": [
    "#check null values\n",
    "df.isnull().sum()"
   ]
  },
  {
   "cell_type": "markdown",
   "id": "bae6e35c",
   "metadata": {
    "papermill": {
     "duration": 0.008621,
     "end_time": "2022-12-17T13:46:57.619609",
     "exception": false,
     "start_time": "2022-12-17T13:46:57.610988",
     "status": "completed"
    },
    "tags": []
   },
   "source": [
    "##### some columns have null values but I not delete it"
   ]
  },
  {
   "cell_type": "code",
   "execution_count": 9,
   "id": "bbe26fd0",
   "metadata": {
    "execution": {
     "iopub.execute_input": "2022-12-17T13:46:57.637351Z",
     "iopub.status.busy": "2022-12-17T13:46:57.636943Z",
     "iopub.status.idle": "2022-12-17T13:46:57.738897Z",
     "shell.execute_reply": "2022-12-17T13:46:57.737735Z"
    },
    "papermill": {
     "duration": 0.11392,
     "end_time": "2022-12-17T13:46:57.741560",
     "exception": false,
     "start_time": "2022-12-17T13:46:57.627640",
     "status": "completed"
    },
    "tags": []
   },
   "outputs": [
    {
     "data": {
      "text/plain": [
       "0"
      ]
     },
     "execution_count": 9,
     "metadata": {},
     "output_type": "execute_result"
    }
   ],
   "source": [
    "# number of duplicated rows\n",
    "df.duplicated().sum()"
   ]
  },
  {
   "cell_type": "code",
   "execution_count": 10,
   "id": "81c88bb1",
   "metadata": {
    "execution": {
     "iopub.execute_input": "2022-12-17T13:46:57.761288Z",
     "iopub.status.busy": "2022-12-17T13:46:57.760480Z",
     "iopub.status.idle": "2022-12-17T13:46:57.774004Z",
     "shell.execute_reply": "2022-12-17T13:46:57.772120Z"
    },
    "papermill": {
     "duration": 0.026182,
     "end_time": "2022-12-17T13:46:57.776691",
     "exception": false,
     "start_time": "2022-12-17T13:46:57.750509",
     "status": "completed"
    },
    "tags": []
   },
   "outputs": [
    {
     "name": "stdout",
     "output_type": "stream",
     "text": [
      "ord_in_thread [  0   1   2   3   4   5   6   7   8   9  10  11  29  30  18  19  20  12\n",
      "  21  13  15  16  17  25  23  14  94  95  96  97  98  63  65  64  66  67\n",
      "  68  69  70  71  72  73  74  75  76  77  78  79  80  81  82  83  84  85\n",
      "  86  87  88  89  90  91  92  93  99 100  50  51  52  53  54  55  57  58\n",
      "  56  59  60  61  22  24  33  39  26  27  28  31  32  34  35  36  37  38\n",
      "  40  41  42  43  44  45  46  47  48  49] \n",
      "\n",
      "language ['english' 'ignore' 'german' 'french' 'spanish' 'russian' 'greek'\n",
      " 'finnish' 'portuguese' 'arabic' 'dutch' 'italian' 'turkish' 'norwegian'\n",
      " 'chinese' 'polish'] \n",
      "\n",
      "country ['US' 'CO' 'FR' 'DE' 'GB' 'CA' 'AU' 'EU' 'NL' 'LI' 'SG' 'IO' 'ME' 'TV'\n",
      " 'ES' 'RU' 'IN' nan 'IR' 'EE' 'SE' 'ZA' 'IS' 'BG' 'CH'] \n",
      "\n",
      "type ['bias' 'conspiracy' 'fake' 'bs' 'satire' 'hate' 'junksci' 'state'] \n",
      "\n"
     ]
    }
   ],
   "source": [
    "# check columns validation\n",
    "columns=[ 'ord_in_thread','language', 'country','type']\n",
    "for col in columns:\n",
    "    print(col,df[col].unique(),'\\n')\n",
    "    "
   ]
  },
  {
   "cell_type": "markdown",
   "id": "9712218d",
   "metadata": {
    "papermill": {
     "duration": 0.008177,
     "end_time": "2022-12-17T13:46:57.793313",
     "exception": false,
     "start_time": "2022-12-17T13:46:57.785136",
     "status": "completed"
    },
    "tags": []
   },
   "source": [
    "# exploring"
   ]
  },
  {
   "cell_type": "code",
   "execution_count": 11,
   "id": "8609acfb",
   "metadata": {
    "execution": {
     "iopub.execute_input": "2022-12-17T13:46:57.811980Z",
     "iopub.status.busy": "2022-12-17T13:46:57.811562Z",
     "iopub.status.idle": "2022-12-17T13:46:57.855624Z",
     "shell.execute_reply": "2022-12-17T13:46:57.854801Z"
    },
    "papermill": {
     "duration": 0.055984,
     "end_time": "2022-12-17T13:46:57.857779",
     "exception": false,
     "start_time": "2022-12-17T13:46:57.801795",
     "status": "completed"
    },
    "tags": []
   },
   "outputs": [
    {
     "data": {
      "text/html": [
       "<div>\n",
       "<style scoped>\n",
       "    .dataframe tbody tr th:only-of-type {\n",
       "        vertical-align: middle;\n",
       "    }\n",
       "\n",
       "    .dataframe tbody tr th {\n",
       "        vertical-align: top;\n",
       "    }\n",
       "\n",
       "    .dataframe thead th {\n",
       "        text-align: right;\n",
       "    }\n",
       "</style>\n",
       "<table border=\"1\" class=\"dataframe\">\n",
       "  <thead>\n",
       "    <tr style=\"text-align: right;\">\n",
       "      <th></th>\n",
       "      <th>ord_in_thread</th>\n",
       "      <th>domain_rank</th>\n",
       "      <th>spam_score</th>\n",
       "      <th>replies_count</th>\n",
       "      <th>participants_count</th>\n",
       "      <th>likes</th>\n",
       "      <th>comments</th>\n",
       "      <th>shares</th>\n",
       "    </tr>\n",
       "  </thead>\n",
       "  <tbody>\n",
       "    <tr>\n",
       "      <th>count</th>\n",
       "      <td>12999.000000</td>\n",
       "      <td>8776.000000</td>\n",
       "      <td>12999.000000</td>\n",
       "      <td>12999.000000</td>\n",
       "      <td>12999.000000</td>\n",
       "      <td>12999.000000</td>\n",
       "      <td>12999.000000</td>\n",
       "      <td>12999.000000</td>\n",
       "    </tr>\n",
       "    <tr>\n",
       "      <th>mean</th>\n",
       "      <td>0.891530</td>\n",
       "      <td>38092.996582</td>\n",
       "      <td>0.026122</td>\n",
       "      <td>1.383183</td>\n",
       "      <td>1.727518</td>\n",
       "      <td>10.831833</td>\n",
       "      <td>0.038311</td>\n",
       "      <td>10.831833</td>\n",
       "    </tr>\n",
       "    <tr>\n",
       "      <th>std</th>\n",
       "      <td>6.486822</td>\n",
       "      <td>26825.487454</td>\n",
       "      <td>0.122889</td>\n",
       "      <td>9.656838</td>\n",
       "      <td>6.884239</td>\n",
       "      <td>79.798949</td>\n",
       "      <td>0.827335</td>\n",
       "      <td>79.798949</td>\n",
       "    </tr>\n",
       "    <tr>\n",
       "      <th>min</th>\n",
       "      <td>0.000000</td>\n",
       "      <td>486.000000</td>\n",
       "      <td>0.000000</td>\n",
       "      <td>0.000000</td>\n",
       "      <td>0.000000</td>\n",
       "      <td>0.000000</td>\n",
       "      <td>0.000000</td>\n",
       "      <td>0.000000</td>\n",
       "    </tr>\n",
       "    <tr>\n",
       "      <th>25%</th>\n",
       "      <td>0.000000</td>\n",
       "      <td>17423.000000</td>\n",
       "      <td>0.000000</td>\n",
       "      <td>0.000000</td>\n",
       "      <td>1.000000</td>\n",
       "      <td>0.000000</td>\n",
       "      <td>0.000000</td>\n",
       "      <td>0.000000</td>\n",
       "    </tr>\n",
       "    <tr>\n",
       "      <th>50%</th>\n",
       "      <td>0.000000</td>\n",
       "      <td>34478.000000</td>\n",
       "      <td>0.000000</td>\n",
       "      <td>0.000000</td>\n",
       "      <td>1.000000</td>\n",
       "      <td>0.000000</td>\n",
       "      <td>0.000000</td>\n",
       "      <td>0.000000</td>\n",
       "    </tr>\n",
       "    <tr>\n",
       "      <th>75%</th>\n",
       "      <td>0.000000</td>\n",
       "      <td>60570.000000</td>\n",
       "      <td>0.000000</td>\n",
       "      <td>0.000000</td>\n",
       "      <td>1.000000</td>\n",
       "      <td>0.000000</td>\n",
       "      <td>0.000000</td>\n",
       "      <td>0.000000</td>\n",
       "    </tr>\n",
       "    <tr>\n",
       "      <th>max</th>\n",
       "      <td>100.000000</td>\n",
       "      <td>98679.000000</td>\n",
       "      <td>1.000000</td>\n",
       "      <td>309.000000</td>\n",
       "      <td>240.000000</td>\n",
       "      <td>988.000000</td>\n",
       "      <td>65.000000</td>\n",
       "      <td>988.000000</td>\n",
       "    </tr>\n",
       "  </tbody>\n",
       "</table>\n",
       "</div>"
      ],
      "text/plain": [
       "       ord_in_thread   domain_rank    spam_score  replies_count  \\\n",
       "count   12999.000000   8776.000000  12999.000000   12999.000000   \n",
       "mean        0.891530  38092.996582      0.026122       1.383183   \n",
       "std         6.486822  26825.487454      0.122889       9.656838   \n",
       "min         0.000000    486.000000      0.000000       0.000000   \n",
       "25%         0.000000  17423.000000      0.000000       0.000000   \n",
       "50%         0.000000  34478.000000      0.000000       0.000000   \n",
       "75%         0.000000  60570.000000      0.000000       0.000000   \n",
       "max       100.000000  98679.000000      1.000000     309.000000   \n",
       "\n",
       "       participants_count         likes      comments        shares  \n",
       "count        12999.000000  12999.000000  12999.000000  12999.000000  \n",
       "mean             1.727518     10.831833      0.038311     10.831833  \n",
       "std              6.884239     79.798949      0.827335     79.798949  \n",
       "min              0.000000      0.000000      0.000000      0.000000  \n",
       "25%              1.000000      0.000000      0.000000      0.000000  \n",
       "50%              1.000000      0.000000      0.000000      0.000000  \n",
       "75%              1.000000      0.000000      0.000000      0.000000  \n",
       "max            240.000000    988.000000     65.000000    988.000000  "
      ]
     },
     "execution_count": 11,
     "metadata": {},
     "output_type": "execute_result"
    }
   ],
   "source": [
    "df.describe()"
   ]
  },
  {
   "cell_type": "markdown",
   "id": "c9914194",
   "metadata": {
    "papermill": {
     "duration": 0.011302,
     "end_time": "2022-12-17T13:47:01.445196",
     "exception": false,
     "start_time": "2022-12-17T13:47:01.433894",
     "status": "completed"
    },
    "tags": []
   },
   "source": [
    "#### spam score over the time"
   ]
  },
  {
   "cell_type": "code",
   "execution_count": 18,
   "id": "3a9e9077",
   "metadata": {
    "execution": {
     "iopub.execute_input": "2022-12-17T13:47:01.471434Z",
     "iopub.status.busy": "2022-12-17T13:47:01.470882Z",
     "iopub.status.idle": "2022-12-17T13:47:02.129375Z",
     "shell.execute_reply": "2022-12-17T13:47:02.127755Z"
    },
    "papermill": {
     "duration": 0.674994,
     "end_time": "2022-12-17T13:47:02.132423",
     "exception": false,
     "start_time": "2022-12-17T13:47:01.457429",
     "status": "completed"
    },
    "tags": []
   },
   "outputs": [
    {
     "data": {
      "image/png": "[encoded data removed]",
      "text/plain": [
       "<Figure size 2160x504 with 1 Axes>"
      ]
     },
     "metadata": {},
     "output_type": "display_data"
    }
   ],
   "source": [
    "plt.figure(figsize=(30,7))\n",
    "plt.xticks(rotation=75)\n",
    "sns.lineplot(x='published_by_day',y='spam_score',data=df,ci=None)\n",
    "sns.lineplot(x='crawled_by_day',y='spam_score',data=df,ci=None)\n",
    "plt.text(0,0.08,'published', horizontalalignment='center', verticalalignment='center',bbox=dict(facecolor='blue', alpha=0.5))\n",
    "plt.text(0,0.075,'crawled', horizontalalignment='center', verticalalignment='center',bbox=dict(facecolor='orange', alpha=0.5))\n",
    "plt.xlabel('day');"
   ]
  },
  {
   "cell_type": "markdown",
   "id": "eb0348f8",
   "metadata": {
    "papermill": {
     "duration": 0.013113,
     "end_time": "2022-12-17T13:47:02.159580",
     "exception": false,
     "start_time": "2022-12-17T13:47:02.146467",
     "status": "completed"
    },
    "tags": []
   },
   "source": [
    "##### crawl date is biger than publish but not in all days \n",
    "##### both publish and crawl dates increase between 11-7 and 11-23"
   ]
  }
 ],
 "metadata": {
  "kernelspec": {
   "display_name": "Python 3",
   "language": "python",
   "name": "python3"
  },
  "language_info": {
   "codemirror_mode": {
    "name": "ipython",
    "version": 3
   },
   "file_extension": ".py",
   "mimetype": "text/x-python",
   "name": "python",
   "nbconvert_exporter": "python",
   "pygments_lexer": "ipython3",
   "version": "3.7.12"
  },
  "papermill": {
   "default_parameters": {},
   "duration": 18.827073,
   "end_time": "2022-12-17T13:47:04.451201",
   "environment_variables": {},
   "exception": null,
   "input_path": "__notebook__.ipynb",
   "output_path": "__notebook__.ipynb",
   "parameters": {},
   "start_time": "2022-12-17T13:46:45.624128",
   "version": "2.3.4"
  }
 },
 "nbformat": 4,
 "nbformat_minor": 5
}
