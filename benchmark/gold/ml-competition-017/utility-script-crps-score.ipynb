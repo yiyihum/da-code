{
 "cells": [
  {
   "cell_type": "markdown",
   "id": "0ebfc59c",
   "metadata": {
    "_cell_guid": "b1076dfc-b9ad-4769-8c92-a6c4dae69d19",
    "_uuid": "8f2839f25d086af736a60e9eeb907d3b93b6e0e5",
    "papermill": {
     "duration": 0.00317,
     "end_time": "2024-04-04T09:30:52.027189",
     "exception": false,
     "start_time": "2024-04-04T09:30:52.024019",
     "status": "completed"
    },
    "tags": []
   },
   "source": [
    "### How to use this Utility script\n",
    "\n",
    "To use this script to perform a local evaluation in the [\"Probabilistic forecasting I: Temperature\"](https://www.kaggle.com/competitions/probabilistic-forecasting-i-temperature) competition attach this notebook to your competition notebook by, when in the editor mode, going to \n",
    "the top right hand side **Notebook Input** section, then **+Add Input** and search for \"`[Utility Script] CRPS score`\" and click on **⊕**.\n",
    "\n",
    "Then, within a notebook code cell:\n",
    "\n",
    "```python\n",
    "import utility_script_crps_score as us\n",
    "help(us.crps)\n",
    "\n",
    "us.crps(submission_df, solution_df)\n",
    "```\n",
    "\n",
    "where the `submission_df` contains the (21) predictions columns, and the `solution_df` contains a ground truth `Temperature` column.\n",
    "\n",
    "For more on Kaggle utility scripts see the topic [\"*Feature Launch: Import scripts into notebook kernels*\"](https://www.kaggle.com/discussions/product-feedback/91185).\n",
    "\n",
    "There is also the function `coverage_report` that provides information regarding the coverage of ones calculations."
   ]
  },
  {
   "cell_type": "code",
   "execution_count": 1,
   "id": "d1daf899",
   "metadata": {
    "execution": {
     "iopub.execute_input": "2024-04-04T09:30:52.034666Z",
     "iopub.status.busy": "2024-04-04T09:30:52.034261Z",
     "iopub.status.idle": "2024-04-04T09:30:52.068792Z",
     "shell.execute_reply": "2024-04-04T09:30:52.067417Z"
    },
    "papermill": {
     "duration": 0.042105,
     "end_time": "2024-04-04T09:30:52.072057",
     "exception": false,
     "start_time": "2024-04-04T09:30:52.029952",
     "status": "completed"
    },
    "tags": []
   },
   "outputs": [],
   "source": [
    "def crps(submission, solution):\n",
    "    \"\"\"\n",
    "    This routine returns the mean continuous ranked probability score (CRPS).\n",
    "    Each individual CRPS score is numerically integrated using 23 points.\n",
    "    The extremal points (100% coverage) are competition fixed at -30 and 60.\n",
    "    The \"submission\" dataframe: the last 21 columns should be the predictions\n",
    "    The \"solution\" dataframe must contain a \"Temperature\" column (the \"ground truth\")\n",
    "    \n",
    "    Author: Carl McBride Ellis\n",
    "    Version: 1.0.0\n",
    "    Date: 2024-03-30\n",
    "    \"\"\"\n",
    "        \n",
    "    # A list of the requested quantile values, along with added 100% coverage endpoints \n",
    "    # (these values are all competition fixed)\n",
    "    # the 0.5 quantile is the \"zero coverage\" forecast i.e. the median point prediction\n",
    "    quantiles = [0.00, 0.025, 0.05, 0.10, 0.15, 0.20, 0.25, 0.30, 0.35, 0.40, 0.45, 0.50, 0.55, 0.60, 0.65, 0.70, 0.75, 0.80, 0.85, 0.90, 0.95, 0.975, 1.00]\n",
    "    submission_tmp = submission.copy()\n",
    "    # inset the y_true values to the submission_tmp dataframe to the LHS\n",
    "    submission_tmp.insert(0, \"Temperature\", solution[\"Temperature\"].values)\n",
    "    \n",
    "    CRPS = 0\n",
    "    for index, row in submission_tmp.iterrows():\n",
    "        x_values = row[-(len(quantiles)-2):] # column name agnostic\n",
    "        y_true = row[\"Temperature\"] # the ground truth value\n",
    "        \n",
    "        x_values = [float(i) for i in x_values] # make sure all x values are floats\n",
    "        # add extremal 100% quantile x-values so as to be sure to bracket all possible y_true values\n",
    "        # note: any changing of these values will change the score\n",
    "        x_values.append(-30.0)\n",
    "        x_values.append( 60.0)\n",
    "        x_values.sort() # sort x values into ascending order (no quantile crossing)\n",
    "\n",
    "        # split predictions to the left and right of the true value\n",
    "        # get items below the true value (y_true)\n",
    "        LHS_keys = [i for i,x in enumerate(x_values) if x < y_true]\n",
    "        # get items above the true value (y_true)\n",
    "        RHS_keys = [i for i,x in enumerate(x_values) if x >= y_true]\n",
    "\n",
    "        # quantiles and predictions below the true value (y_true)\n",
    "        LHS_values = [x_values[i] for i in LHS_keys]\n",
    "        LHS_quantiles = [quantiles[i] for i in LHS_keys]\n",
    "\n",
    "        # quantiles and predictions above the true value (y_true)\n",
    "        RHS_values = [x_values[i] for i in RHS_keys]\n",
    "        RHS_quantiles = [quantiles[i] for i in RHS_keys]\n",
    "\n",
    "        # also calculate quantile at y (q_at_y_true)\n",
    "        x1, y1 = LHS_values[-1], LHS_quantiles[-1]\n",
    "        x2, y2 = RHS_values[0], RHS_quantiles[0]\n",
    "        q_at_y_true = ((y2-y1)*(y_true-x1)/(x2-x1))+y1\n",
    "\n",
    "        # add y_true and q_at_y_true to RHS of LHS list\n",
    "        LHS_values.append(y_true)\n",
    "        LHS_quantiles.append(q_at_y_true)\n",
    "\n",
    "        # add y_true and q_at_y_true to LHS of RHS list\n",
    "        RHS_values.insert(0, y_true)\n",
    "        RHS_quantiles.insert(0, q_at_y_true)\n",
    "\n",
    "        # integrate the LHS as a sum of trapezium for CDF**2\n",
    "        LHS_integral = 0\n",
    "        for i in range(len(LHS_values)-1):\n",
    "            LHS_integral += (0.5 * (LHS_values[i+1]-LHS_values[i]) * (LHS_quantiles[i]**2 + LHS_quantiles[i+1]**2) )\n",
    "\n",
    "        # integrate the RHS as a sum of trapezium for (1-CDF)**2\n",
    "        RHS_integral = 0\n",
    "        for i in range(len(RHS_values)-1):\n",
    "            RHS_integral += (0.5 * (RHS_values[i+1]-RHS_values[i]) * ((1-RHS_quantiles[i])**2 +(1-RHS_quantiles[i+1])**2 ) )\n",
    "\n",
    "        CRPS += (LHS_integral + RHS_integral)\n",
    "\n",
    "    del submission_tmp\n",
    "    # calculate the mean CRPS\n",
    "    CRPS = CRPS/len(submission)\n",
    "    return CRPS\n",
    "\n",
    "\n",
    "def coverage_report(submission, solution):\n",
    "    \"\"\"\n",
    "    Version: 1.0.1\n",
    "    \"\"\"\n",
    "    y_true = solution[\"Temperature\"].values\n",
    "    # this does not take the \"zero coverage\" prediction into account\n",
    "    # which is assumed to be located in submission.csv column -11\n",
    "    coverages = [95, 90, 80, 70, 60, 50, 40, 30, 20, 10]\n",
    "    N = len(coverages)\n",
    "    # ANSI color codes\n",
    "    BOLD_RED = '\\033[1;31m'\n",
    "    BOLD_GREEN = '\\033[1;32m'\n",
    "    END_COLOR = '\\033[0m'\n",
    "    \n",
    "    def mean_coverage(y_pred_low,y_true,y_pred_up):\n",
    "        return ( (y_pred_low <= y_true) & (y_pred_up >= y_true) ).mean()\n",
    "    \n",
    "    for i, coverage in enumerate(coverages):\n",
    "        lower_col, upper_col = (2*N+1-i), (i+1)\n",
    "        actual_coverage = mean_coverage(submission.iloc[:,-lower_col], y_true, submission.iloc[:,-upper_col])\n",
    "        actual_coverage = round(actual_coverage*100,2)\n",
    "        if actual_coverage >= coverages[i]:\n",
    "            print(BOLD_GREEN, \"Ideal: {}% Actual: {}% [PASS]\".format(coverage, actual_coverage), END_COLOR)\n",
    "        else:\n",
    "            print(BOLD_RED, \"Ideal: {}% Actual: {}% [FAIL]\".format(coverage, actual_coverage), END_COLOR)"
   ]
  },
  {
   "cell_type": "markdown",
   "id": "b3f2070b",
   "metadata": {
    "papermill": {
     "duration": 0.00217,
     "end_time": "2024-04-04T09:30:52.077116",
     "exception": false,
     "start_time": "2024-04-04T09:30:52.074946",
     "status": "completed"
    },
    "tags": []
   },
   "source": [
    "#### Reading related to the CRPS metric\n",
    "* [James E. Matheson, Robert L. Winkler \"*Scoring Rules for Continuous Probability Distributions*\", Management Science **22** pages 1087-1096 (1976)](https://doi.org/10.1287/mnsc.22.10.1087)\n",
    "* [Tilmann Gneiting and Adrian E Raftery \"*Strictly Proper Scoring Rules, Prediction, and Estimation*\", Journal of the American Statistical Association, **102**, pp. 359-378 (2007)](https://doi.org/10.1198/016214506000001437) (Section 4.2)\n",
    "* [Michaël Zamo, Philippe Naveau \"*Estimation of the Continuous Ranked Probability Score with Limited Information and Applications to Ensemble Weather Forecasts*\", Math Geosci **50** pages 209-234 (2018)](https://doi.org/10.1007/s11004-017-9709-7)\n",
    "* [Johannes Bracher, Evan L. Ray, Tilmann Gneiting, Nicholas G. Reich \"*Evaluating epidemic forecasts in an interval format*\",  PLOS Computational Biology **17** e1008618 (2021)](https://doi.org/10.1371/journal.pcbi.1008618) "
   ]
  }
 ],
 "metadata": {
  "kaggle": {
   "accelerator": "none",
   "dataSources": [
    {
     "databundleVersionId": 8082133,
     "sourceId": 73372,
     "sourceType": "competition"
    }
   ],
   "dockerImageVersionId": 30673,
   "isGpuEnabled": false,
   "isInternetEnabled": true,
   "language": "python",
   "sourceType": "notebook"
  },
  "kernelspec": {
   "display_name": "Python 3",
   "language": "python",
   "name": "python3"
  },
  "language_info": {
   "codemirror_mode": {
    "name": "ipython",
    "version": 3
   },
   "file_extension": ".py",
   "mimetype": "text/x-python",
   "name": "python",
   "nbconvert_exporter": "python",
   "pygments_lexer": "ipython3",
   "version": "3.10.13"
  },
  "papermill": {
   "default_parameters": {},
   "duration": 3.78849,
   "end_time": "2024-04-04T09:30:52.501166",
   "environment_variables": {},
   "exception": null,
   "input_path": "__notebook__.ipynb",
   "output_path": "__notebook__.ipynb",
   "parameters": {},
   "start_time": "2024-04-04T09:30:48.712676",
   "version": "2.5.0"
  }
 },
 "nbformat": 4,
 "nbformat_minor": 5
}
