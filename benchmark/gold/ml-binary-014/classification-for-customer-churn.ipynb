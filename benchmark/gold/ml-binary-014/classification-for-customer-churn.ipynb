{
 "cells": [
  {
   "cell_type": "code",
   "execution_count": 1,
   "id": "29d30eb9",
   "metadata": {
    "_cell_guid": "b1076dfc-b9ad-4769-8c92-a6c4dae69d19",
    "_uuid": "8f2839f25d086af736a60e9eeb907d3b93b6e0e5",
    "execution": {
     "iopub.execute_input": "2023-10-28T14:30:09.992855Z",
     "iopub.status.busy": "2023-10-28T14:30:09.992446Z",
     "iopub.status.idle": "2023-10-28T14:30:10.440544Z",
     "shell.execute_reply": "2023-10-28T14:30:10.439340Z"
    },
    "papermill": {
     "duration": 0.463552,
     "end_time": "2023-10-28T14:30:10.444059",
     "exception": false,
     "start_time": "2023-10-28T14:30:09.980507",
     "status": "completed"
    },
    "tags": []
   },
   "outputs": [
    {
     "name": "stdout",
     "output_type": "stream",
     "text": [
      "/kaggle/input/predictive-analytics-for-customer-churn-dataset/data_descriptions.csv\n",
      "/kaggle/input/predictive-analytics-for-customer-churn-dataset/train.csv\n",
      "/kaggle/input/predictive-analytics-for-customer-churn-dataset/test.csv\n"
     ]
    }
   ],
   "source": [
    "# This Python 3 environment comes with many helpful analytics libraries installed\n",
    "# It is defined by the kaggle/python Docker image: https://github.com/kaggle/docker-python\n",
    "# For example, here's several helpful packages to load\n",
    "\n",
    "import numpy as np # linear algebra\n",
    "import pandas as pd # data processing, CSV file I/O (e.g. pd.read_csv)\n",
    "\n",
    "# Input data files are available in the read-only \"../input/\" directory\n",
    "# For example, running this (by clicking run or pressing Shift+Enter) will list all files under the input directory\n",
    "\n",
    "import os\n",
    "for dirname, _, filenames in os.walk('/kaggle/input'):\n",
    "    for filename in filenames:\n",
    "        print(os.path.join(dirname, filename))\n",
    "\n",
    "# You can write up to 20GB to the current directory (/kaggle/working/) that gets preserved as output when you create a version using \"Save & Run All\" \n",
    "# You can also write temporary files to /kaggle/temp/, but they won't be saved outside of the current session"
   ]
  },
  {
   "cell_type": "code",
   "execution_count": 2,
   "id": "aea47bea",
   "metadata": {
    "execution": {
     "iopub.execute_input": "2023-10-28T14:30:10.468199Z",
     "iopub.status.busy": "2023-10-28T14:30:10.467685Z",
     "iopub.status.idle": "2023-10-28T14:30:12.257944Z",
     "shell.execute_reply": "2023-10-28T14:30:12.256690Z"
    },
    "papermill": {
     "duration": 1.807072,
     "end_time": "2023-10-28T14:30:12.261716",
     "exception": false,
     "start_time": "2023-10-28T14:30:10.454644",
     "status": "completed"
    },
    "tags": []
   },
   "outputs": [],
   "source": [
    "#Importing Required Libraries\n",
    "import pandas as pd\n",
    "import numpy as np\n",
    "import matplotlib.pyplot as plt\n",
    "import seaborn as sns"
   ]
  },
  {
   "cell_type": "code",
   "execution_count": 3,
   "id": "aee3310d",
   "metadata": {
    "execution": {
     "iopub.execute_input": "2023-10-28T14:30:12.287379Z",
     "iopub.status.busy": "2023-10-28T14:30:12.286923Z",
     "iopub.status.idle": "2023-10-28T14:30:14.756173Z",
     "shell.execute_reply": "2023-10-28T14:30:14.754248Z"
    },
    "papermill": {
     "duration": 2.486645,
     "end_time": "2023-10-28T14:30:14.759634",
     "exception": false,
     "start_time": "2023-10-28T14:30:12.272989",
     "status": "completed"
    },
    "tags": []
   },
   "outputs": [],
   "source": [
    "#Importing Required Dataset\n",
    "train_data=pd.read_csv(\"/kaggle/input/predictive-analytics-for-customer-churn-dataset/train.csv\")\n",
    "test_data=pd.read_csv(\"/kaggle/input/predictive-analytics-for-customer-churn-dataset/test.csv\")"
   ]
  },
  {
   "cell_type": "code",
   "execution_count": 4,
   "id": "9db90166",
   "metadata": {
    "execution": {
     "iopub.execute_input": "2023-10-28T14:30:14.784172Z",
     "iopub.status.busy": "2023-10-28T14:30:14.783733Z",
     "iopub.status.idle": "2023-10-28T14:30:14.962804Z",
     "shell.execute_reply": "2023-10-28T14:30:14.961051Z"
    },
    "papermill": {
     "duration": 0.195311,
     "end_time": "2023-10-28T14:30:14.965754",
     "exception": false,
     "start_time": "2023-10-28T14:30:14.770443",
     "status": "completed"
    },
    "tags": []
   },
   "outputs": [
    {
     "name": "stdout",
     "output_type": "stream",
     "text": [
      "<class 'pandas.core.frame.DataFrame'>\n",
      "RangeIndex: 243787 entries, 0 to 243786\n",
      "Data columns (total 21 columns):\n",
      " #   Column                    Non-Null Count   Dtype  \n",
      "---  ------                    --------------   -----  \n",
      " 0   AccountAge                243787 non-null  int64  \n",
      " 1   MonthlyCharges            243787 non-null  float64\n",
      " 2   TotalCharges              243787 non-null  float64\n",
      " 3   SubscriptionType          243787 non-null  object \n",
      " 4   PaymentMethod             243787 non-null  object \n",
      " 5   PaperlessBilling          243787 non-null  object \n",
      " 6   ContentType               243787 non-null  object \n",
      " 7   MultiDeviceAccess         243787 non-null  object \n",
      " 8   DeviceRegistered          243787 non-null  object \n",
      " 9   ViewingHoursPerWeek       243787 non-null  float64\n",
      " 10  AverageViewingDuration    243787 non-null  float64\n",
      " 11  ContentDownloadsPerMonth  243787 non-null  int64  \n",
      " 12  GenrePreference           243787 non-null  object \n",
      " 13  UserRating                243787 non-null  float64\n",
      " 14  SupportTicketsPerMonth    243787 non-null  int64  \n",
      " 15  Gender                    243787 non-null  object \n",
      " 16  WatchlistSize             243787 non-null  int64  \n",
      " 17  ParentalControl           243787 non-null  object \n",
      " 18  SubtitlesEnabled          243787 non-null  object \n",
      " 19  CustomerID                243787 non-null  object \n",
      " 20  Churn                     243787 non-null  int64  \n",
      "dtypes: float64(5), int64(5), object(11)\n",
      "memory usage: 39.1+ MB\n"
     ]
    }
   ],
   "source": [
    "#Info About Dataset\n",
    "train_data.info()"
   ]
  },
  {
   "cell_type": "code",
   "execution_count": 5,
   "id": "ae3f558a",
   "metadata": {
    "execution": {
     "iopub.execute_input": "2023-10-28T14:30:14.991375Z",
     "iopub.status.busy": "2023-10-28T14:30:14.990410Z",
     "iopub.status.idle": "2023-10-28T14:30:15.068929Z",
     "shell.execute_reply": "2023-10-28T14:30:15.067023Z"
    },
    "papermill": {
     "duration": 0.095988,
     "end_time": "2023-10-28T14:30:15.073579",
     "exception": false,
     "start_time": "2023-10-28T14:30:14.977591",
     "status": "completed"
    },
    "tags": []
   },
   "outputs": [
    {
     "name": "stdout",
     "output_type": "stream",
     "text": [
      "<class 'pandas.core.frame.DataFrame'>\n",
      "RangeIndex: 104480 entries, 0 to 104479\n",
      "Data columns (total 20 columns):\n",
      " #   Column                    Non-Null Count   Dtype  \n",
      "---  ------                    --------------   -----  \n",
      " 0   AccountAge                104480 non-null  int64  \n",
      " 1   MonthlyCharges            104480 non-null  float64\n",
      " 2   TotalCharges              104480 non-null  float64\n",
      " 3   SubscriptionType          104480 non-null  object \n",
      " 4   PaymentMethod             104480 non-null  object \n",
      " 5   PaperlessBilling          104480 non-null  object \n",
      " 6   ContentType               104480 non-null  object \n",
      " 7   MultiDeviceAccess         104480 non-null  object \n",
      " 8   DeviceRegistered          104480 non-null  object \n",
      " 9   ViewingHoursPerWeek       104480 non-null  float64\n",
      " 10  AverageViewingDuration    104480 non-null  float64\n",
      " 11  ContentDownloadsPerMonth  104480 non-null  int64  \n",
      " 12  GenrePreference           104480 non-null  object \n",
      " 13  UserRating                104480 non-null  float64\n",
      " 14  SupportTicketsPerMonth    104480 non-null  int64  \n",
      " 15  Gender                    104480 non-null  object \n",
      " 16  WatchlistSize             104480 non-null  int64  \n",
      " 17  ParentalControl           104480 non-null  object \n",
      " 18  SubtitlesEnabled          104480 non-null  object \n",
      " 19  CustomerID                104480 non-null  object \n",
      "dtypes: float64(5), int64(4), object(11)\n",
      "memory usage: 15.9+ MB\n"
     ]
    }
   ],
   "source": [
    "#Test\n",
    "test_data.info()"
   ]
  },
  {
   "cell_type": "code",
   "execution_count": 6,
   "id": "52d58d26",
   "metadata": {
    "execution": {
     "iopub.execute_input": "2023-10-28T14:30:15.106947Z",
     "iopub.status.busy": "2023-10-28T14:30:15.106388Z",
     "iopub.status.idle": "2023-10-28T14:30:15.121391Z",
     "shell.execute_reply": "2023-10-28T14:30:15.119534Z"
    },
    "papermill": {
     "duration": 0.036169,
     "end_time": "2023-10-28T14:30:15.126691",
     "exception": false,
     "start_time": "2023-10-28T14:30:15.090522",
     "status": "completed"
    },
    "tags": []
   },
   "outputs": [
    {
     "data": {
      "text/plain": [
       "(243787, 21)"
      ]
     },
     "execution_count": 6,
     "metadata": {},
     "output_type": "execute_result"
    }
   ],
   "source": [
    "#Shape\n",
    "train_data.shape"
   ]
  },
  {
   "cell_type": "code",
   "execution_count": 7,
   "id": "c7ba921b",
   "metadata": {
    "execution": {
     "iopub.execute_input": "2023-10-28T14:30:15.166864Z",
     "iopub.status.busy": "2023-10-28T14:30:15.162127Z",
     "iopub.status.idle": "2023-10-28T14:30:15.175112Z",
     "shell.execute_reply": "2023-10-28T14:30:15.173830Z"
    },
    "papermill": {
     "duration": 0.035287,
     "end_time": "2023-10-28T14:30:15.178180",
     "exception": false,
     "start_time": "2023-10-28T14:30:15.142893",
     "status": "completed"
    },
    "tags": []
   },
   "outputs": [
    {
     "data": {
      "text/plain": [
       "Index(['AccountAge', 'MonthlyCharges', 'TotalCharges', 'SubscriptionType',\n",
       "       'PaymentMethod', 'PaperlessBilling', 'ContentType', 'MultiDeviceAccess',\n",
       "       'DeviceRegistered', 'ViewingHoursPerWeek', 'AverageViewingDuration',\n",
       "       'ContentDownloadsPerMonth', 'GenrePreference', 'UserRating',\n",
       "       'SupportTicketsPerMonth', 'Gender', 'WatchlistSize', 'ParentalControl',\n",
       "       'SubtitlesEnabled', 'CustomerID', 'Churn'],\n",
       "      dtype='object')"
      ]
     },
     "execution_count": 7,
     "metadata": {},
     "output_type": "execute_result"
    }
   ],
   "source": [
    "#Columns\n",
    "train_data.columns"
   ]
  },
  {
   "cell_type": "code",
   "execution_count": 8,
   "id": "885fd267",
   "metadata": {
    "execution": {
     "iopub.execute_input": "2023-10-28T14:30:15.210453Z",
     "iopub.status.busy": "2023-10-28T14:30:15.209619Z",
     "iopub.status.idle": "2023-10-28T14:30:15.246667Z",
     "shell.execute_reply": "2023-10-28T14:30:15.245722Z"
    },
    "papermill": {
     "duration": 0.054939,
     "end_time": "2023-10-28T14:30:15.248972",
     "exception": false,
     "start_time": "2023-10-28T14:30:15.194033",
     "status": "completed"
    },
    "tags": []
   },
   "outputs": [
    {
     "data": {
      "text/html": [
       "<div>\n",
       "<style scoped>\n",
       "    .dataframe tbody tr th:only-of-type {\n",
       "        vertical-align: middle;\n",
       "    }\n",
       "\n",
       "    .dataframe tbody tr th {\n",
       "        vertical-align: top;\n",
       "    }\n",
       "\n",
       "    .dataframe thead th {\n",
       "        text-align: right;\n",
       "    }\n",
       "</style>\n",
       "<table border=\"1\" class=\"dataframe\">\n",
       "  <thead>\n",
       "    <tr style=\"text-align: right;\">\n",
       "      <th></th>\n",
       "      <th>AccountAge</th>\n",
       "      <th>MonthlyCharges</th>\n",
       "      <th>TotalCharges</th>\n",
       "      <th>SubscriptionType</th>\n",
       "      <th>PaymentMethod</th>\n",
       "      <th>PaperlessBilling</th>\n",
       "      <th>ContentType</th>\n",
       "      <th>MultiDeviceAccess</th>\n",
       "      <th>DeviceRegistered</th>\n",
       "      <th>ViewingHoursPerWeek</th>\n",
       "      <th>...</th>\n",
       "      <th>ContentDownloadsPerMonth</th>\n",
       "      <th>GenrePreference</th>\n",
       "      <th>UserRating</th>\n",
       "      <th>SupportTicketsPerMonth</th>\n",
       "      <th>Gender</th>\n",
       "      <th>WatchlistSize</th>\n",
       "      <th>ParentalControl</th>\n",
       "      <th>SubtitlesEnabled</th>\n",
       "      <th>CustomerID</th>\n",
       "      <th>Churn</th>\n",
       "    </tr>\n",
       "  </thead>\n",
       "  <tbody>\n",
       "    <tr>\n",
       "      <th>0</th>\n",
       "      <td>20</td>\n",
       "      <td>11.055215</td>\n",
       "      <td>221.104302</td>\n",
       "      <td>Premium</td>\n",
       "      <td>Mailed check</td>\n",
       "      <td>No</td>\n",
       "      <td>Both</td>\n",
       "      <td>No</td>\n",
       "      <td>Mobile</td>\n",
       "      <td>36.758104</td>\n",
       "      <td>...</td>\n",
       "      <td>10</td>\n",
       "      <td>Sci-Fi</td>\n",
       "      <td>2.176498</td>\n",
       "      <td>4</td>\n",
       "      <td>Male</td>\n",
       "      <td>3</td>\n",
       "      <td>No</td>\n",
       "      <td>No</td>\n",
       "      <td>CB6SXPNVZA</td>\n",
       "      <td>0</td>\n",
       "    </tr>\n",
       "    <tr>\n",
       "      <th>1</th>\n",
       "      <td>57</td>\n",
       "      <td>5.175208</td>\n",
       "      <td>294.986882</td>\n",
       "      <td>Basic</td>\n",
       "      <td>Credit card</td>\n",
       "      <td>Yes</td>\n",
       "      <td>Movies</td>\n",
       "      <td>No</td>\n",
       "      <td>Tablet</td>\n",
       "      <td>32.450568</td>\n",
       "      <td>...</td>\n",
       "      <td>18</td>\n",
       "      <td>Action</td>\n",
       "      <td>3.478632</td>\n",
       "      <td>8</td>\n",
       "      <td>Male</td>\n",
       "      <td>23</td>\n",
       "      <td>No</td>\n",
       "      <td>Yes</td>\n",
       "      <td>S7R2G87O09</td>\n",
       "      <td>0</td>\n",
       "    </tr>\n",
       "    <tr>\n",
       "      <th>2</th>\n",
       "      <td>73</td>\n",
       "      <td>12.106657</td>\n",
       "      <td>883.785952</td>\n",
       "      <td>Basic</td>\n",
       "      <td>Mailed check</td>\n",
       "      <td>Yes</td>\n",
       "      <td>Movies</td>\n",
       "      <td>No</td>\n",
       "      <td>Computer</td>\n",
       "      <td>7.395160</td>\n",
       "      <td>...</td>\n",
       "      <td>23</td>\n",
       "      <td>Fantasy</td>\n",
       "      <td>4.238824</td>\n",
       "      <td>6</td>\n",
       "      <td>Male</td>\n",
       "      <td>1</td>\n",
       "      <td>Yes</td>\n",
       "      <td>Yes</td>\n",
       "      <td>EASDC20BDT</td>\n",
       "      <td>0</td>\n",
       "    </tr>\n",
       "    <tr>\n",
       "      <th>3</th>\n",
       "      <td>32</td>\n",
       "      <td>7.263743</td>\n",
       "      <td>232.439774</td>\n",
       "      <td>Basic</td>\n",
       "      <td>Electronic check</td>\n",
       "      <td>No</td>\n",
       "      <td>TV Shows</td>\n",
       "      <td>No</td>\n",
       "      <td>Tablet</td>\n",
       "      <td>27.960389</td>\n",
       "      <td>...</td>\n",
       "      <td>30</td>\n",
       "      <td>Drama</td>\n",
       "      <td>4.276013</td>\n",
       "      <td>2</td>\n",
       "      <td>Male</td>\n",
       "      <td>24</td>\n",
       "      <td>Yes</td>\n",
       "      <td>Yes</td>\n",
       "      <td>NPF69NT69N</td>\n",
       "      <td>0</td>\n",
       "    </tr>\n",
       "    <tr>\n",
       "      <th>4</th>\n",
       "      <td>57</td>\n",
       "      <td>16.953078</td>\n",
       "      <td>966.325422</td>\n",
       "      <td>Premium</td>\n",
       "      <td>Electronic check</td>\n",
       "      <td>Yes</td>\n",
       "      <td>TV Shows</td>\n",
       "      <td>No</td>\n",
       "      <td>TV</td>\n",
       "      <td>20.083397</td>\n",
       "      <td>...</td>\n",
       "      <td>20</td>\n",
       "      <td>Comedy</td>\n",
       "      <td>3.616170</td>\n",
       "      <td>4</td>\n",
       "      <td>Female</td>\n",
       "      <td>0</td>\n",
       "      <td>No</td>\n",
       "      <td>No</td>\n",
       "      <td>4LGYPK7VOL</td>\n",
       "      <td>0</td>\n",
       "    </tr>\n",
       "  </tbody>\n",
       "</table>\n",
       "<p>5 rows × 21 columns</p>\n",
       "</div>"
      ],
      "text/plain": [
       "   AccountAge  MonthlyCharges  TotalCharges SubscriptionType  \\\n",
       "0          20       11.055215    221.104302          Premium   \n",
       "1          57        5.175208    294.986882            Basic   \n",
       "2          73       12.106657    883.785952            Basic   \n",
       "3          32        7.263743    232.439774            Basic   \n",
       "4          57       16.953078    966.325422          Premium   \n",
       "\n",
       "      PaymentMethod PaperlessBilling ContentType MultiDeviceAccess  \\\n",
       "0      Mailed check               No        Both                No   \n",
       "1       Credit card              Yes      Movies                No   \n",
       "2      Mailed check              Yes      Movies                No   \n",
       "3  Electronic check               No    TV Shows                No   \n",
       "4  Electronic check              Yes    TV Shows                No   \n",
       "\n",
       "  DeviceRegistered  ViewingHoursPerWeek  ...  ContentDownloadsPerMonth  \\\n",
       "0           Mobile            36.758104  ...                        10   \n",
       "1           Tablet            32.450568  ...                        18   \n",
       "2         Computer             7.395160  ...                        23   \n",
       "3           Tablet            27.960389  ...                        30   \n",
       "4               TV            20.083397  ...                        20   \n",
       "\n",
       "   GenrePreference UserRating  SupportTicketsPerMonth  Gender WatchlistSize  \\\n",
       "0           Sci-Fi   2.176498                       4    Male             3   \n",
       "1           Action   3.478632                       8    Male            23   \n",
       "2          Fantasy   4.238824                       6    Male             1   \n",
       "3            Drama   4.276013                       2    Male            24   \n",
       "4           Comedy   3.616170                       4  Female             0   \n",
       "\n",
       "   ParentalControl SubtitlesEnabled  CustomerID Churn  \n",
       "0               No               No  CB6SXPNVZA     0  \n",
       "1               No              Yes  S7R2G87O09     0  \n",
       "2              Yes              Yes  EASDC20BDT     0  \n",
       "3              Yes              Yes  NPF69NT69N     0  \n",
       "4               No               No  4LGYPK7VOL     0  \n",
       "\n",
       "[5 rows x 21 columns]"
      ]
     },
     "execution_count": 8,
     "metadata": {},
     "output_type": "execute_result"
    }
   ],
   "source": [
    "#Head\n",
    "train_data.head()"
   ]
  },
  {
   "cell_type": "code",
   "execution_count": 9,
   "id": "0a0e054a",
   "metadata": {
    "execution": {
     "iopub.execute_input": "2023-10-28T14:30:15.275525Z",
     "iopub.status.busy": "2023-10-28T14:30:15.274794Z",
     "iopub.status.idle": "2023-10-28T14:30:15.300717Z",
     "shell.execute_reply": "2023-10-28T14:30:15.298510Z"
    },
    "papermill": {
     "duration": 0.04343,
     "end_time": "2023-10-28T14:30:15.304074",
     "exception": false,
     "start_time": "2023-10-28T14:30:15.260644",
     "status": "completed"
    },
    "tags": []
   },
   "outputs": [
    {
     "data": {
      "text/html": [
       "<div>\n",
       "<style scoped>\n",
       "    .dataframe tbody tr th:only-of-type {\n",
       "        vertical-align: middle;\n",
       "    }\n",
       "\n",
       "    .dataframe tbody tr th {\n",
       "        vertical-align: top;\n",
       "    }\n",
       "\n",
       "    .dataframe thead th {\n",
       "        text-align: right;\n",
       "    }\n",
       "</style>\n",
       "<table border=\"1\" class=\"dataframe\">\n",
       "  <thead>\n",
       "    <tr style=\"text-align: right;\">\n",
       "      <th></th>\n",
       "      <th>AccountAge</th>\n",
       "      <th>MonthlyCharges</th>\n",
       "      <th>TotalCharges</th>\n",
       "      <th>SubscriptionType</th>\n",
       "      <th>PaymentMethod</th>\n",
       "      <th>PaperlessBilling</th>\n",
       "      <th>ContentType</th>\n",
       "      <th>MultiDeviceAccess</th>\n",
       "      <th>DeviceRegistered</th>\n",
       "      <th>ViewingHoursPerWeek</th>\n",
       "      <th>AverageViewingDuration</th>\n",
       "      <th>ContentDownloadsPerMonth</th>\n",
       "      <th>GenrePreference</th>\n",
       "      <th>UserRating</th>\n",
       "      <th>SupportTicketsPerMonth</th>\n",
       "      <th>Gender</th>\n",
       "      <th>WatchlistSize</th>\n",
       "      <th>ParentalControl</th>\n",
       "      <th>SubtitlesEnabled</th>\n",
       "      <th>CustomerID</th>\n",
       "    </tr>\n",
       "  </thead>\n",
       "  <tbody>\n",
       "    <tr>\n",
       "      <th>0</th>\n",
       "      <td>38</td>\n",
       "      <td>17.869374</td>\n",
       "      <td>679.036195</td>\n",
       "      <td>Premium</td>\n",
       "      <td>Mailed check</td>\n",
       "      <td>No</td>\n",
       "      <td>TV Shows</td>\n",
       "      <td>No</td>\n",
       "      <td>TV</td>\n",
       "      <td>29.126308</td>\n",
       "      <td>122.274031</td>\n",
       "      <td>42</td>\n",
       "      <td>Comedy</td>\n",
       "      <td>3.522724</td>\n",
       "      <td>2</td>\n",
       "      <td>Male</td>\n",
       "      <td>23</td>\n",
       "      <td>No</td>\n",
       "      <td>No</td>\n",
       "      <td>O1W6BHP6RM</td>\n",
       "    </tr>\n",
       "    <tr>\n",
       "      <th>1</th>\n",
       "      <td>77</td>\n",
       "      <td>9.912854</td>\n",
       "      <td>763.289768</td>\n",
       "      <td>Basic</td>\n",
       "      <td>Electronic check</td>\n",
       "      <td>Yes</td>\n",
       "      <td>TV Shows</td>\n",
       "      <td>No</td>\n",
       "      <td>TV</td>\n",
       "      <td>36.873729</td>\n",
       "      <td>57.093319</td>\n",
       "      <td>43</td>\n",
       "      <td>Action</td>\n",
       "      <td>2.021545</td>\n",
       "      <td>2</td>\n",
       "      <td>Female</td>\n",
       "      <td>22</td>\n",
       "      <td>Yes</td>\n",
       "      <td>No</td>\n",
       "      <td>LFR4X92X8H</td>\n",
       "    </tr>\n",
       "    <tr>\n",
       "      <th>2</th>\n",
       "      <td>5</td>\n",
       "      <td>15.019011</td>\n",
       "      <td>75.095057</td>\n",
       "      <td>Standard</td>\n",
       "      <td>Bank transfer</td>\n",
       "      <td>No</td>\n",
       "      <td>TV Shows</td>\n",
       "      <td>Yes</td>\n",
       "      <td>Computer</td>\n",
       "      <td>7.601729</td>\n",
       "      <td>140.414001</td>\n",
       "      <td>14</td>\n",
       "      <td>Sci-Fi</td>\n",
       "      <td>4.806126</td>\n",
       "      <td>2</td>\n",
       "      <td>Female</td>\n",
       "      <td>22</td>\n",
       "      <td>No</td>\n",
       "      <td>Yes</td>\n",
       "      <td>QM5GBIYODA</td>\n",
       "    </tr>\n",
       "    <tr>\n",
       "      <th>3</th>\n",
       "      <td>88</td>\n",
       "      <td>15.357406</td>\n",
       "      <td>1351.451692</td>\n",
       "      <td>Standard</td>\n",
       "      <td>Electronic check</td>\n",
       "      <td>No</td>\n",
       "      <td>Both</td>\n",
       "      <td>Yes</td>\n",
       "      <td>Tablet</td>\n",
       "      <td>35.586430</td>\n",
       "      <td>177.002419</td>\n",
       "      <td>14</td>\n",
       "      <td>Comedy</td>\n",
       "      <td>4.943900</td>\n",
       "      <td>0</td>\n",
       "      <td>Female</td>\n",
       "      <td>23</td>\n",
       "      <td>Yes</td>\n",
       "      <td>Yes</td>\n",
       "      <td>D9RXTK2K9F</td>\n",
       "    </tr>\n",
       "    <tr>\n",
       "      <th>4</th>\n",
       "      <td>91</td>\n",
       "      <td>12.406033</td>\n",
       "      <td>1128.949004</td>\n",
       "      <td>Standard</td>\n",
       "      <td>Credit card</td>\n",
       "      <td>Yes</td>\n",
       "      <td>TV Shows</td>\n",
       "      <td>Yes</td>\n",
       "      <td>Tablet</td>\n",
       "      <td>23.503651</td>\n",
       "      <td>70.308376</td>\n",
       "      <td>6</td>\n",
       "      <td>Drama</td>\n",
       "      <td>2.846880</td>\n",
       "      <td>6</td>\n",
       "      <td>Female</td>\n",
       "      <td>0</td>\n",
       "      <td>No</td>\n",
       "      <td>No</td>\n",
       "      <td>ENTCCHR1LR</td>\n",
       "    </tr>\n",
       "  </tbody>\n",
       "</table>\n",
       "</div>"
      ],
      "text/plain": [
       "   AccountAge  MonthlyCharges  TotalCharges SubscriptionType  \\\n",
       "0          38       17.869374    679.036195          Premium   \n",
       "1          77        9.912854    763.289768            Basic   \n",
       "2           5       15.019011     75.095057         Standard   \n",
       "3          88       15.357406   1351.451692         Standard   \n",
       "4          91       12.406033   1128.949004         Standard   \n",
       "\n",
       "      PaymentMethod PaperlessBilling ContentType MultiDeviceAccess  \\\n",
       "0      Mailed check               No    TV Shows                No   \n",
       "1  Electronic check              Yes    TV Shows                No   \n",
       "2     Bank transfer               No    TV Shows               Yes   \n",
       "3  Electronic check               No        Both               Yes   \n",
       "4       Credit card              Yes    TV Shows               Yes   \n",
       "\n",
       "  DeviceRegistered  ViewingHoursPerWeek  AverageViewingDuration  \\\n",
       "0               TV            29.126308              122.274031   \n",
       "1               TV            36.873729               57.093319   \n",
       "2         Computer             7.601729              140.414001   \n",
       "3           Tablet            35.586430              177.002419   \n",
       "4           Tablet            23.503651               70.308376   \n",
       "\n",
       "   ContentDownloadsPerMonth GenrePreference  UserRating  \\\n",
       "0                        42          Comedy    3.522724   \n",
       "1                        43          Action    2.021545   \n",
       "2                        14          Sci-Fi    4.806126   \n",
       "3                        14          Comedy    4.943900   \n",
       "4                         6           Drama    2.846880   \n",
       "\n",
       "   SupportTicketsPerMonth  Gender  WatchlistSize ParentalControl  \\\n",
       "0                       2    Male             23              No   \n",
       "1                       2  Female             22             Yes   \n",
       "2                       2  Female             22              No   \n",
       "3                       0  Female             23             Yes   \n",
       "4                       6  Female              0              No   \n",
       "\n",
       "  SubtitlesEnabled  CustomerID  \n",
       "0               No  O1W6BHP6RM  \n",
       "1               No  LFR4X92X8H  \n",
       "2              Yes  QM5GBIYODA  \n",
       "3              Yes  D9RXTK2K9F  \n",
       "4               No  ENTCCHR1LR  "
      ]
     },
     "execution_count": 9,
     "metadata": {},
     "output_type": "execute_result"
    }
   ],
   "source": [
    "#Test\n",
    "test_data.head()"
   ]
  },
  {
   "cell_type": "code",
   "execution_count": 10,
   "id": "1a6c58c1",
   "metadata": {
    "execution": {
     "iopub.execute_input": "2023-10-28T14:30:15.335357Z",
     "iopub.status.busy": "2023-10-28T14:30:15.334733Z",
     "iopub.status.idle": "2023-10-28T14:30:15.384481Z",
     "shell.execute_reply": "2023-10-28T14:30:15.382525Z"
    },
    "papermill": {
     "duration": 0.068232,
     "end_time": "2023-10-28T14:30:15.387361",
     "exception": false,
     "start_time": "2023-10-28T14:30:15.319129",
     "status": "completed"
    },
    "tags": []
   },
   "outputs": [],
   "source": [
    "#Removing unnecessary features\n",
    "train_data.drop(columns={\"CustomerID\"},inplace=True)\n",
    "test_data.drop(columns={\"CustomerID\"},inplace=True)"
   ]
  },
  {
   "cell_type": "code",
   "execution_count": 11,
   "id": "3a541c78",
   "metadata": {
    "execution": {
     "iopub.execute_input": "2023-10-28T14:30:15.415510Z",
     "iopub.status.busy": "2023-10-28T14:30:15.414935Z",
     "iopub.status.idle": "2023-10-28T14:30:15.424808Z",
     "shell.execute_reply": "2023-10-28T14:30:15.422718Z"
    },
    "papermill": {
     "duration": 0.028351,
     "end_time": "2023-10-28T14:30:15.427860",
     "exception": false,
     "start_time": "2023-10-28T14:30:15.399509",
     "status": "completed"
    },
    "tags": []
   },
   "outputs": [
    {
     "name": "stdout",
     "output_type": "stream",
     "text": [
      "There are total 10 categorical columns in datset\n",
      "['SubscriptionType', 'PaymentMethod', 'PaperlessBilling', 'ContentType', 'MultiDeviceAccess', 'DeviceRegistered', 'GenrePreference', 'Gender', 'ParentalControl', 'SubtitlesEnabled']\n"
     ]
    }
   ],
   "source": [
    "#Finding Categorical  Columns\n",
    "cat_col=[]\n",
    "for col  in test_data.columns:\n",
    "    if(test_data[col].dtypes=='object'):\n",
    "        cat_col.append(col)\n",
    "print(f\"There are total {len(cat_col)} categorical columns in datset\")\n",
    "print(cat_col)"
   ]
  },
  {
   "cell_type": "code",
   "execution_count": 12,
   "id": "81875c42",
   "metadata": {
    "execution": {
     "iopub.execute_input": "2023-10-28T14:30:15.458274Z",
     "iopub.status.busy": "2023-10-28T14:30:15.457837Z",
     "iopub.status.idle": "2023-10-28T14:30:15.466082Z",
     "shell.execute_reply": "2023-10-28T14:30:15.464271Z"
    },
    "papermill": {
     "duration": 0.026472,
     "end_time": "2023-10-28T14:30:15.468847",
     "exception": false,
     "start_time": "2023-10-28T14:30:15.442375",
     "status": "completed"
    },
    "tags": []
   },
   "outputs": [
    {
     "name": "stdout",
     "output_type": "stream",
     "text": [
      "There are total 9 numerical columns in dataset\n",
      "['AccountAge', 'MonthlyCharges', 'TotalCharges', 'ViewingHoursPerWeek', 'AverageViewingDuration', 'ContentDownloadsPerMonth', 'UserRating', 'SupportTicketsPerMonth', 'WatchlistSize']\n"
     ]
    }
   ],
   "source": [
    "#Finding Numerical Columns\n",
    "num_col=[]\n",
    "for col in test_data.columns:\n",
    "    if(test_data[col].dtypes!='object'):\n",
    "        num_col.append(col)\n",
    "print(f\"There are total {len(num_col)} numerical columns in dataset\")\n",
    "print(num_col)"
   ]
  },
  {
   "cell_type": "markdown",
   "id": "4b7989b9",
   "metadata": {
    "papermill": {
     "duration": 0.012563,
     "end_time": "2023-10-28T14:30:15.574144",
     "exception": false,
     "start_time": "2023-10-28T14:30:15.561581",
     "status": "completed"
    },
    "tags": []
   },
   "source": [
    "<h1>Data Cleaning & Preprocessing</h1>"
   ]
  },
  {
   "cell_type": "code",
   "execution_count": 13,
   "id": "25a558d9",
   "metadata": {
    "execution": {
     "iopub.execute_input": "2023-10-28T14:30:15.601813Z",
     "iopub.status.busy": "2023-10-28T14:30:15.601421Z",
     "iopub.status.idle": "2023-10-28T14:30:15.605355Z",
     "shell.execute_reply": "2023-10-28T14:30:15.604380Z"
    },
    "papermill": {
     "duration": 0.020802,
     "end_time": "2023-10-28T14:30:15.607847",
     "exception": false,
     "start_time": "2023-10-28T14:30:15.587045",
     "status": "completed"
    },
    "tags": []
   },
   "outputs": [],
   "source": [
    "#sns.pairplot(train_data,hue='Churn')"
   ]
  },
  {
   "cell_type": "code",
   "execution_count": 14,
   "id": "a81fd921",
   "metadata": {
    "execution": {
     "iopub.execute_input": "2023-10-28T14:30:15.638445Z",
     "iopub.status.busy": "2023-10-28T14:30:15.637247Z",
     "iopub.status.idle": "2023-10-28T14:30:15.762690Z",
     "shell.execute_reply": "2023-10-28T14:30:15.761435Z"
    },
    "papermill": {
     "duration": 0.144153,
     "end_time": "2023-10-28T14:30:15.765492",
     "exception": false,
     "start_time": "2023-10-28T14:30:15.621339",
     "status": "completed"
    },
    "tags": []
   },
   "outputs": [
    {
     "data": {
      "text/plain": [
       "AccountAge                  0.0\n",
       "MonthlyCharges              0.0\n",
       "TotalCharges                0.0\n",
       "SubscriptionType            0.0\n",
       "PaymentMethod               0.0\n",
       "PaperlessBilling            0.0\n",
       "ContentType                 0.0\n",
       "MultiDeviceAccess           0.0\n",
       "DeviceRegistered            0.0\n",
       "ViewingHoursPerWeek         0.0\n",
       "AverageViewingDuration      0.0\n",
       "ContentDownloadsPerMonth    0.0\n",
       "GenrePreference             0.0\n",
       "UserRating                  0.0\n",
       "SupportTicketsPerMonth      0.0\n",
       "Gender                      0.0\n",
       "WatchlistSize               0.0\n",
       "ParentalControl             0.0\n",
       "SubtitlesEnabled            0.0\n",
       "Churn                       0.0\n",
       "dtype: float64"
      ]
     },
     "execution_count": 14,
     "metadata": {},
     "output_type": "execute_result"
    }
   ],
   "source": [
    "#Finding Null Values in Training Data\n",
    "train_data.isnull().mean()*100"
   ]
  },
  {
   "cell_type": "code",
   "execution_count": 15,
   "id": "8f6d4006",
   "metadata": {
    "execution": {
     "iopub.execute_input": "2023-10-28T14:30:15.794122Z",
     "iopub.status.busy": "2023-10-28T14:30:15.793127Z",
     "iopub.status.idle": "2023-10-28T14:30:15.854608Z",
     "shell.execute_reply": "2023-10-28T14:30:15.852672Z"
    },
    "papermill": {
     "duration": 0.079465,
     "end_time": "2023-10-28T14:30:15.857790",
     "exception": false,
     "start_time": "2023-10-28T14:30:15.778325",
     "status": "completed"
    },
    "tags": []
   },
   "outputs": [
    {
     "data": {
      "text/plain": [
       "AccountAge                  0.0\n",
       "MonthlyCharges              0.0\n",
       "TotalCharges                0.0\n",
       "SubscriptionType            0.0\n",
       "PaymentMethod               0.0\n",
       "PaperlessBilling            0.0\n",
       "ContentType                 0.0\n",
       "MultiDeviceAccess           0.0\n",
       "DeviceRegistered            0.0\n",
       "ViewingHoursPerWeek         0.0\n",
       "AverageViewingDuration      0.0\n",
       "ContentDownloadsPerMonth    0.0\n",
       "GenrePreference             0.0\n",
       "UserRating                  0.0\n",
       "SupportTicketsPerMonth      0.0\n",
       "Gender                      0.0\n",
       "WatchlistSize               0.0\n",
       "ParentalControl             0.0\n",
       "SubtitlesEnabled            0.0\n",
       "dtype: float64"
      ]
     },
     "execution_count": 15,
     "metadata": {},
     "output_type": "execute_result"
    }
   ],
   "source": [
    "#Finding NUll Values in Testing Data\n",
    "test_data.isnull().mean()*100"
   ]
  },
  {
   "cell_type": "code",
   "execution_count": 16,
   "id": "a7c2925e",
   "metadata": {
    "execution": {
     "iopub.execute_input": "2023-10-28T14:30:15.885610Z",
     "iopub.status.busy": "2023-10-28T14:30:15.885129Z",
     "iopub.status.idle": "2023-10-28T14:30:16.333167Z",
     "shell.execute_reply": "2023-10-28T14:30:16.331497Z"
    },
    "papermill": {
     "duration": 0.465049,
     "end_time": "2023-10-28T14:30:16.336137",
     "exception": false,
     "start_time": "2023-10-28T14:30:15.871088",
     "status": "completed"
    },
    "tags": []
   },
   "outputs": [
    {
     "data": {
      "text/plain": [
       "0"
      ]
     },
     "execution_count": 16,
     "metadata": {},
     "output_type": "execute_result"
    }
   ],
   "source": [
    "#Finding Duplicates in Train Data\n",
    "train_data.duplicated().sum()"
   ]
  },
  {
   "cell_type": "code",
   "execution_count": 17,
   "id": "f88eea12",
   "metadata": {
    "execution": {
     "iopub.execute_input": "2023-10-28T14:30:16.364315Z",
     "iopub.status.busy": "2023-10-28T14:30:16.363894Z",
     "iopub.status.idle": "2023-10-28T14:30:16.529701Z",
     "shell.execute_reply": "2023-10-28T14:30:16.527870Z"
    },
    "papermill": {
     "duration": 0.184025,
     "end_time": "2023-10-28T14:30:16.533235",
     "exception": false,
     "start_time": "2023-10-28T14:30:16.349210",
     "status": "completed"
    },
    "tags": []
   },
   "outputs": [
    {
     "data": {
      "text/plain": [
       "0"
      ]
     },
     "execution_count": 17,
     "metadata": {},
     "output_type": "execute_result"
    }
   ],
   "source": [
    "#Finding Duplicates in Test Data\n",
    "test_data.duplicated().sum()"
   ]
  },
  {
   "cell_type": "markdown",
   "id": "63655d85",
   "metadata": {
    "papermill": {
     "duration": 0.014311,
     "end_time": "2023-10-28T14:30:16.562114",
     "exception": false,
     "start_time": "2023-10-28T14:30:16.547803",
     "status": "completed"
    },
    "tags": []
   },
   "source": [
    "<h1>Data Visualization</h1>"
   ]
  },
  {
   "cell_type": "markdown",
   "id": "8011b593",
   "metadata": {
    "papermill": {
     "duration": 0.012124,
     "end_time": "2023-10-28T14:30:16.588216",
     "exception": false,
     "start_time": "2023-10-28T14:30:16.576092",
     "status": "completed"
    },
    "tags": []
   },
   "source": [
    "<h1>Feature Engineering</h1>"
   ]
  },
  {
   "cell_type": "code",
   "execution_count": 18,
   "id": "61847d54",
   "metadata": {
    "execution": {
     "iopub.execute_input": "2023-10-28T14:30:16.616009Z",
     "iopub.status.busy": "2023-10-28T14:30:16.615580Z",
     "iopub.status.idle": "2023-10-28T14:30:16.668848Z",
     "shell.execute_reply": "2023-10-28T14:30:16.667493Z"
    },
    "papermill": {
     "duration": 0.070658,
     "end_time": "2023-10-28T14:30:16.671299",
     "exception": false,
     "start_time": "2023-10-28T14:30:16.600641",
     "status": "completed"
    },
    "tags": []
   },
   "outputs": [
    {
     "data": {
      "text/html": [
       "<div>\n",
       "<style scoped>\n",
       "    .dataframe tbody tr th:only-of-type {\n",
       "        vertical-align: middle;\n",
       "    }\n",
       "\n",
       "    .dataframe tbody tr th {\n",
       "        vertical-align: top;\n",
       "    }\n",
       "\n",
       "    .dataframe thead th {\n",
       "        text-align: right;\n",
       "    }\n",
       "</style>\n",
       "<table border=\"1\" class=\"dataframe\">\n",
       "  <thead>\n",
       "    <tr style=\"text-align: right;\">\n",
       "      <th></th>\n",
       "      <th>SubscriptionType</th>\n",
       "      <th>PaymentMethod</th>\n",
       "      <th>PaperlessBilling</th>\n",
       "      <th>ContentType</th>\n",
       "      <th>MultiDeviceAccess</th>\n",
       "      <th>DeviceRegistered</th>\n",
       "      <th>GenrePreference</th>\n",
       "      <th>Gender</th>\n",
       "      <th>ParentalControl</th>\n",
       "      <th>SubtitlesEnabled</th>\n",
       "    </tr>\n",
       "  </thead>\n",
       "  <tbody>\n",
       "    <tr>\n",
       "      <th>240225</th>\n",
       "      <td>Basic</td>\n",
       "      <td>Mailed check</td>\n",
       "      <td>No</td>\n",
       "      <td>TV Shows</td>\n",
       "      <td>No</td>\n",
       "      <td>Mobile</td>\n",
       "      <td>Comedy</td>\n",
       "      <td>Male</td>\n",
       "      <td>No</td>\n",
       "      <td>No</td>\n",
       "    </tr>\n",
       "    <tr>\n",
       "      <th>81200</th>\n",
       "      <td>Premium</td>\n",
       "      <td>Bank transfer</td>\n",
       "      <td>No</td>\n",
       "      <td>Both</td>\n",
       "      <td>Yes</td>\n",
       "      <td>Tablet</td>\n",
       "      <td>Comedy</td>\n",
       "      <td>Male</td>\n",
       "      <td>Yes</td>\n",
       "      <td>Yes</td>\n",
       "    </tr>\n",
       "    <tr>\n",
       "      <th>173357</th>\n",
       "      <td>Basic</td>\n",
       "      <td>Credit card</td>\n",
       "      <td>Yes</td>\n",
       "      <td>Movies</td>\n",
       "      <td>No</td>\n",
       "      <td>Computer</td>\n",
       "      <td>Drama</td>\n",
       "      <td>Male</td>\n",
       "      <td>Yes</td>\n",
       "      <td>Yes</td>\n",
       "    </tr>\n",
       "  </tbody>\n",
       "</table>\n",
       "</div>"
      ],
      "text/plain": [
       "       SubscriptionType  PaymentMethod PaperlessBilling ContentType  \\\n",
       "240225            Basic   Mailed check               No    TV Shows   \n",
       "81200           Premium  Bank transfer               No        Both   \n",
       "173357            Basic    Credit card              Yes      Movies   \n",
       "\n",
       "       MultiDeviceAccess DeviceRegistered GenrePreference Gender  \\\n",
       "240225                No           Mobile          Comedy   Male   \n",
       "81200                Yes           Tablet          Comedy   Male   \n",
       "173357                No         Computer           Drama   Male   \n",
       "\n",
       "       ParentalControl SubtitlesEnabled  \n",
       "240225              No               No  \n",
       "81200              Yes              Yes  \n",
       "173357             Yes              Yes  "
      ]
     },
     "execution_count": 18,
     "metadata": {},
     "output_type": "execute_result"
    }
   ],
   "source": [
    "#Feature Encoding\n",
    "train_data[cat_col].sample(3)"
   ]
  },
  {
   "cell_type": "code",
   "execution_count": 19,
   "id": "bb74e33a",
   "metadata": {
    "execution": {
     "iopub.execute_input": "2023-10-28T14:30:16.701262Z",
     "iopub.status.busy": "2023-10-28T14:30:16.700465Z",
     "iopub.status.idle": "2023-10-28T14:30:16.893692Z",
     "shell.execute_reply": "2023-10-28T14:30:16.892668Z"
    },
    "papermill": {
     "duration": 0.2126,
     "end_time": "2023-10-28T14:30:16.896591",
     "exception": false,
     "start_time": "2023-10-28T14:30:16.683991",
     "status": "completed"
    },
    "tags": []
   },
   "outputs": [
    {
     "name": "stdout",
     "output_type": "stream",
     "text": [
      "\n",
      "SubscriptionType_encoder=LabelEncoder()\n",
      "train_data['SubscriptionType']=SubscriptionType_encoder.fit_transform(train_data['SubscriptionType'])\n",
      "\n",
      "PaymentMethod_encoder=LabelEncoder()\n",
      "train_data['PaymentMethod']=PaymentMethod_encoder.fit_transform(train_data['PaymentMethod'])\n",
      "\n",
      "PaperlessBilling_encoder=LabelEncoder()\n",
      "train_data['PaperlessBilling']=PaperlessBilling_encoder.fit_transform(train_data['PaperlessBilling'])\n",
      "\n",
      "ContentType_encoder=LabelEncoder()\n",
      "train_data['ContentType']=ContentType_encoder.fit_transform(train_data['ContentType'])\n",
      "\n",
      "MultiDeviceAccess_encoder=LabelEncoder()\n",
      "train_data['MultiDeviceAccess']=MultiDeviceAccess_encoder.fit_transform(train_data['MultiDeviceAccess'])\n",
      "\n",
      "DeviceRegistered_encoder=LabelEncoder()\n",
      "train_data['DeviceRegistered']=DeviceRegistered_encoder.fit_transform(train_data['DeviceRegistered'])\n",
      "\n",
      "GenrePreference_encoder=LabelEncoder()\n",
      "train_data['GenrePreference']=GenrePreference_encoder.fit_transform(train_data['GenrePreference'])\n",
      "\n",
      "Gender_encoder=LabelEncoder()\n",
      "train_data['Gender']=Gender_encoder.fit_transform(train_data['Gender'])\n",
      "\n",
      "ParentalControl_encoder=LabelEncoder()\n",
      "train_data['ParentalControl']=ParentalControl_encoder.fit_transform(train_data['ParentalControl'])\n",
      "\n",
      "SubtitlesEnabled_encoder=LabelEncoder()\n",
      "train_data['SubtitlesEnabled']=SubtitlesEnabled_encoder.fit_transform(train_data['SubtitlesEnabled'])\n"
     ]
    }
   ],
   "source": [
    "#Importing Required Libraries\n",
    "from sklearn.preprocessing import LabelEncoder\n",
    "for col in cat_col:\n",
    "    print()\n",
    "    print(f\"{col}_encoder=LabelEncoder()\")\n",
    "    print(f\"train_data['{col}']={col}_encoder.fit_transform(train_data['{col}'])\")"
   ]
  },
  {
   "cell_type": "code",
   "execution_count": 20,
   "id": "142ebaca",
   "metadata": {
    "execution": {
     "iopub.execute_input": "2023-10-28T14:30:16.926738Z",
     "iopub.status.busy": "2023-10-28T14:30:16.926244Z",
     "iopub.status.idle": "2023-10-28T14:30:17.560946Z",
     "shell.execute_reply": "2023-10-28T14:30:17.559785Z"
    },
    "papermill": {
     "duration": 0.65388,
     "end_time": "2023-10-28T14:30:17.564689",
     "exception": false,
     "start_time": "2023-10-28T14:30:16.910809",
     "status": "completed"
    },
    "tags": []
   },
   "outputs": [],
   "source": [
    "#Encoding on Training data\n",
    "SubscriptionType_encoder=LabelEncoder()\n",
    "train_data['SubscriptionType']=SubscriptionType_encoder.fit_transform(train_data['SubscriptionType'])\n",
    "\n",
    "PaymentMethod_encoder=LabelEncoder()\n",
    "train_data['PaymentMethod']=PaymentMethod_encoder.fit_transform(train_data['PaymentMethod'])\n",
    "\n",
    "PaperlessBilling_encoder=LabelEncoder()\n",
    "train_data['PaperlessBilling']=PaperlessBilling_encoder.fit_transform(train_data['PaperlessBilling'])\n",
    "\n",
    "ContentType_encoder=LabelEncoder()\n",
    "train_data['ContentType']=ContentType_encoder.fit_transform(train_data['ContentType'])\n",
    "\n",
    "MultiDeviceAccess_encoder=LabelEncoder()\n",
    "train_data['MultiDeviceAccess']=MultiDeviceAccess_encoder.fit_transform(train_data['MultiDeviceAccess'])\n",
    "\n",
    "DeviceRegistered_encoder=LabelEncoder()\n",
    "train_data['DeviceRegistered']=DeviceRegistered_encoder.fit_transform(train_data['DeviceRegistered'])\n",
    "\n",
    "GenrePreference_encoder=LabelEncoder()\n",
    "train_data['GenrePreference']=GenrePreference_encoder.fit_transform(train_data['GenrePreference'])\n",
    "\n",
    "Gender_encoder=LabelEncoder()\n",
    "train_data['Gender']=Gender_encoder.fit_transform(train_data['Gender'])\n",
    "\n",
    "ParentalControl_encoder=LabelEncoder()\n",
    "train_data['ParentalControl']=ParentalControl_encoder.fit_transform(train_data['ParentalControl'])\n",
    "\n",
    "SubtitlesEnabled_encoder=LabelEncoder()\n",
    "train_data['SubtitlesEnabled']=SubtitlesEnabled_encoder.fit_transform(train_data['SubtitlesEnabled'])"
   ]
  },
  {
   "cell_type": "code",
   "execution_count": 21,
   "id": "e7299f97",
   "metadata": {
    "execution": {
     "iopub.execute_input": "2023-10-28T14:30:17.593778Z",
     "iopub.status.busy": "2023-10-28T14:30:17.593017Z",
     "iopub.status.idle": "2023-10-28T14:30:17.625514Z",
     "shell.execute_reply": "2023-10-28T14:30:17.623896Z"
    },
    "papermill": {
     "duration": 0.050285,
     "end_time": "2023-10-28T14:30:17.628254",
     "exception": false,
     "start_time": "2023-10-28T14:30:17.577969",
     "status": "completed"
    },
    "tags": []
   },
   "outputs": [
    {
     "data": {
      "text/html": [
       "<div>\n",
       "<style scoped>\n",
       "    .dataframe tbody tr th:only-of-type {\n",
       "        vertical-align: middle;\n",
       "    }\n",
       "\n",
       "    .dataframe tbody tr th {\n",
       "        vertical-align: top;\n",
       "    }\n",
       "\n",
       "    .dataframe thead th {\n",
       "        text-align: right;\n",
       "    }\n",
       "</style>\n",
       "<table border=\"1\" class=\"dataframe\">\n",
       "  <thead>\n",
       "    <tr style=\"text-align: right;\">\n",
       "      <th></th>\n",
       "      <th>SubscriptionType</th>\n",
       "      <th>PaymentMethod</th>\n",
       "      <th>PaperlessBilling</th>\n",
       "      <th>ContentType</th>\n",
       "      <th>MultiDeviceAccess</th>\n",
       "      <th>DeviceRegistered</th>\n",
       "      <th>GenrePreference</th>\n",
       "      <th>Gender</th>\n",
       "      <th>ParentalControl</th>\n",
       "      <th>SubtitlesEnabled</th>\n",
       "    </tr>\n",
       "  </thead>\n",
       "  <tbody>\n",
       "    <tr>\n",
       "      <th>179515</th>\n",
       "      <td>1</td>\n",
       "      <td>2</td>\n",
       "      <td>0</td>\n",
       "      <td>1</td>\n",
       "      <td>0</td>\n",
       "      <td>2</td>\n",
       "      <td>2</td>\n",
       "      <td>1</td>\n",
       "      <td>1</td>\n",
       "      <td>1</td>\n",
       "    </tr>\n",
       "    <tr>\n",
       "      <th>224472</th>\n",
       "      <td>2</td>\n",
       "      <td>2</td>\n",
       "      <td>0</td>\n",
       "      <td>0</td>\n",
       "      <td>0</td>\n",
       "      <td>1</td>\n",
       "      <td>3</td>\n",
       "      <td>1</td>\n",
       "      <td>1</td>\n",
       "      <td>1</td>\n",
       "    </tr>\n",
       "    <tr>\n",
       "      <th>241842</th>\n",
       "      <td>1</td>\n",
       "      <td>1</td>\n",
       "      <td>1</td>\n",
       "      <td>0</td>\n",
       "      <td>1</td>\n",
       "      <td>1</td>\n",
       "      <td>0</td>\n",
       "      <td>1</td>\n",
       "      <td>0</td>\n",
       "      <td>1</td>\n",
       "    </tr>\n",
       "    <tr>\n",
       "      <th>54184</th>\n",
       "      <td>1</td>\n",
       "      <td>2</td>\n",
       "      <td>0</td>\n",
       "      <td>2</td>\n",
       "      <td>1</td>\n",
       "      <td>1</td>\n",
       "      <td>3</td>\n",
       "      <td>0</td>\n",
       "      <td>1</td>\n",
       "      <td>1</td>\n",
       "    </tr>\n",
       "    <tr>\n",
       "      <th>181</th>\n",
       "      <td>2</td>\n",
       "      <td>2</td>\n",
       "      <td>1</td>\n",
       "      <td>2</td>\n",
       "      <td>0</td>\n",
       "      <td>2</td>\n",
       "      <td>1</td>\n",
       "      <td>0</td>\n",
       "      <td>1</td>\n",
       "      <td>0</td>\n",
       "    </tr>\n",
       "  </tbody>\n",
       "</table>\n",
       "</div>"
      ],
      "text/plain": [
       "        SubscriptionType  PaymentMethod  PaperlessBilling  ContentType  \\\n",
       "179515                 1              2                 0            1   \n",
       "224472                 2              2                 0            0   \n",
       "241842                 1              1                 1            0   \n",
       "54184                  1              2                 0            2   \n",
       "181                    2              2                 1            2   \n",
       "\n",
       "        MultiDeviceAccess  DeviceRegistered  GenrePreference  Gender  \\\n",
       "179515                  0                 2                2       1   \n",
       "224472                  0                 1                3       1   \n",
       "241842                  1                 1                0       1   \n",
       "54184                   1                 1                3       0   \n",
       "181                     0                 2                1       0   \n",
       "\n",
       "        ParentalControl  SubtitlesEnabled  \n",
       "179515                1                 1  \n",
       "224472                1                 1  \n",
       "241842                0                 1  \n",
       "54184                 1                 1  \n",
       "181                   1                 0  "
      ]
     },
     "execution_count": 21,
     "metadata": {},
     "output_type": "execute_result"
    }
   ],
   "source": [
    "#After Encoding\n",
    "train_data[cat_col].sample(5)"
   ]
  },
  {
   "cell_type": "code",
   "execution_count": 22,
   "id": "68fb5652",
   "metadata": {
    "execution": {
     "iopub.execute_input": "2023-10-28T14:30:17.659291Z",
     "iopub.status.busy": "2023-10-28T14:30:17.658823Z",
     "iopub.status.idle": "2023-10-28T14:30:17.665652Z",
     "shell.execute_reply": "2023-10-28T14:30:17.663604Z"
    },
    "papermill": {
     "duration": 0.02795,
     "end_time": "2023-10-28T14:30:17.669601",
     "exception": false,
     "start_time": "2023-10-28T14:30:17.641651",
     "status": "completed"
    },
    "tags": []
   },
   "outputs": [
    {
     "name": "stdout",
     "output_type": "stream",
     "text": [
      "\n",
      "#SubscriptionType\n",
      "test_data['SubscriptionType']=SubscriptionType_encoder.transform(train_data['SubscriptionType'])\n",
      "\n",
      "#PaymentMethod\n",
      "test_data['PaymentMethod']=PaymentMethod_encoder.transform(train_data['PaymentMethod'])\n",
      "\n",
      "#PaperlessBilling\n",
      "test_data['PaperlessBilling']=PaperlessBilling_encoder.transform(train_data['PaperlessBilling'])\n",
      "\n",
      "#ContentType\n",
      "test_data['ContentType']=ContentType_encoder.transform(train_data['ContentType'])\n",
      "\n",
      "#MultiDeviceAccess\n",
      "test_data['MultiDeviceAccess']=MultiDeviceAccess_encoder.transform(train_data['MultiDeviceAccess'])\n",
      "\n",
      "#DeviceRegistered\n",
      "test_data['DeviceRegistered']=DeviceRegistered_encoder.transform(train_data['DeviceRegistered'])\n",
      "\n",
      "#GenrePreference\n",
      "test_data['GenrePreference']=GenrePreference_encoder.transform(train_data['GenrePreference'])\n",
      "\n",
      "#Gender\n",
      "test_data['Gender']=Gender_encoder.transform(train_data['Gender'])\n",
      "\n",
      "#ParentalControl\n",
      "test_data['ParentalControl']=ParentalControl_encoder.transform(train_data['ParentalControl'])\n",
      "\n",
      "#SubtitlesEnabled\n",
      "test_data['SubtitlesEnabled']=SubtitlesEnabled_encoder.transform(train_data['SubtitlesEnabled'])\n"
     ]
    }
   ],
   "source": [
    "#Encoding Categorical Columns of Testing Data\n",
    "for col in cat_col:\n",
    "    print()\n",
    "    print(f\"#{col}\")\n",
    "    print(f\"test_data['{col}']={col}_encoder.transform(train_data['{col}'])\")"
   ]
  },
  {
   "cell_type": "markdown",
   "id": "aa91a213",
   "metadata": {
    "papermill": {
     "duration": 0.013994,
     "end_time": "2023-10-28T14:30:17.696864",
     "exception": false,
     "start_time": "2023-10-28T14:30:17.682870",
     "status": "completed"
    },
    "tags": []
   },
   "source": [
    "<h4>Feature Encoding on Test Data</h1>"
   ]
  },
  {
   "cell_type": "code",
   "execution_count": 23,
   "id": "1b6a557e",
   "metadata": {
    "execution": {
     "iopub.execute_input": "2023-10-28T14:30:17.725166Z",
     "iopub.status.busy": "2023-10-28T14:30:17.724747Z",
     "iopub.status.idle": "2023-10-28T14:30:17.964539Z",
     "shell.execute_reply": "2023-10-28T14:30:17.962544Z"
    },
    "papermill": {
     "duration": 0.25728,
     "end_time": "2023-10-28T14:30:17.967202",
     "exception": false,
     "start_time": "2023-10-28T14:30:17.709922",
     "status": "completed"
    },
    "tags": []
   },
   "outputs": [],
   "source": [
    "\n",
    "#SubscriptionType\n",
    "test_data['SubscriptionType']=SubscriptionType_encoder.transform(test_data['SubscriptionType'])\n",
    "\n",
    "#PaymentMethod\n",
    "test_data['PaymentMethod']=PaymentMethod_encoder.transform(test_data['PaymentMethod'])\n",
    "\n",
    "#PaperlessBilling\n",
    "test_data['PaperlessBilling']=PaperlessBilling_encoder.transform(test_data['PaperlessBilling'])\n",
    "\n",
    "#ContentType\n",
    "test_data['ContentType']=ContentType_encoder.transform(test_data['ContentType'])\n",
    "\n",
    "#MultiDeviceAccess\n",
    "test_data['MultiDeviceAccess']=MultiDeviceAccess_encoder.transform(test_data['MultiDeviceAccess'])\n",
    "\n",
    "#DeviceRegistered\n",
    "test_data['DeviceRegistered']=DeviceRegistered_encoder.transform(test_data['DeviceRegistered'])\n",
    "\n",
    "#GenrePreference\n",
    "test_data['GenrePreference']=GenrePreference_encoder.transform(test_data['GenrePreference'])\n",
    "\n",
    "#Gender\n",
    "test_data['Gender']=Gender_encoder.transform(test_data['Gender'])\n",
    "\n",
    "#ParentalControl\n",
    "test_data['ParentalControl']=ParentalControl_encoder.transform(test_data['ParentalControl'])\n",
    "\n",
    "#SubtitlesEnabled\n",
    "test_data['SubtitlesEnabled']=SubtitlesEnabled_encoder.transform(test_data['SubtitlesEnabled'])"
   ]
  },
  {
   "cell_type": "code",
   "execution_count": 24,
   "id": "e57b3641",
   "metadata": {
    "execution": {
     "iopub.execute_input": "2023-10-28T14:30:17.995797Z",
     "iopub.status.busy": "2023-10-28T14:30:17.995195Z",
     "iopub.status.idle": "2023-10-28T14:30:18.020776Z",
     "shell.execute_reply": "2023-10-28T14:30:18.019183Z"
    },
    "papermill": {
     "duration": 0.042605,
     "end_time": "2023-10-28T14:30:18.023629",
     "exception": false,
     "start_time": "2023-10-28T14:30:17.981024",
     "status": "completed"
    },
    "tags": []
   },
   "outputs": [
    {
     "data": {
      "text/html": [
       "<div>\n",
       "<style scoped>\n",
       "    .dataframe tbody tr th:only-of-type {\n",
       "        vertical-align: middle;\n",
       "    }\n",
       "\n",
       "    .dataframe tbody tr th {\n",
       "        vertical-align: top;\n",
       "    }\n",
       "\n",
       "    .dataframe thead th {\n",
       "        text-align: right;\n",
       "    }\n",
       "</style>\n",
       "<table border=\"1\" class=\"dataframe\">\n",
       "  <thead>\n",
       "    <tr style=\"text-align: right;\">\n",
       "      <th></th>\n",
       "      <th>SubscriptionType</th>\n",
       "      <th>PaymentMethod</th>\n",
       "      <th>PaperlessBilling</th>\n",
       "      <th>ContentType</th>\n",
       "      <th>MultiDeviceAccess</th>\n",
       "      <th>DeviceRegistered</th>\n",
       "      <th>GenrePreference</th>\n",
       "      <th>Gender</th>\n",
       "      <th>ParentalControl</th>\n",
       "      <th>SubtitlesEnabled</th>\n",
       "    </tr>\n",
       "  </thead>\n",
       "  <tbody>\n",
       "    <tr>\n",
       "      <th>102295</th>\n",
       "      <td>2</td>\n",
       "      <td>0</td>\n",
       "      <td>0</td>\n",
       "      <td>0</td>\n",
       "      <td>0</td>\n",
       "      <td>1</td>\n",
       "      <td>3</td>\n",
       "      <td>0</td>\n",
       "      <td>0</td>\n",
       "      <td>1</td>\n",
       "    </tr>\n",
       "    <tr>\n",
       "      <th>56364</th>\n",
       "      <td>2</td>\n",
       "      <td>3</td>\n",
       "      <td>1</td>\n",
       "      <td>1</td>\n",
       "      <td>1</td>\n",
       "      <td>1</td>\n",
       "      <td>0</td>\n",
       "      <td>1</td>\n",
       "      <td>0</td>\n",
       "      <td>1</td>\n",
       "    </tr>\n",
       "    <tr>\n",
       "      <th>73635</th>\n",
       "      <td>0</td>\n",
       "      <td>2</td>\n",
       "      <td>1</td>\n",
       "      <td>2</td>\n",
       "      <td>1</td>\n",
       "      <td>1</td>\n",
       "      <td>3</td>\n",
       "      <td>0</td>\n",
       "      <td>0</td>\n",
       "      <td>0</td>\n",
       "    </tr>\n",
       "  </tbody>\n",
       "</table>\n",
       "</div>"
      ],
      "text/plain": [
       "        SubscriptionType  PaymentMethod  PaperlessBilling  ContentType  \\\n",
       "102295                 2              0                 0            0   \n",
       "56364                  2              3                 1            1   \n",
       "73635                  0              2                 1            2   \n",
       "\n",
       "        MultiDeviceAccess  DeviceRegistered  GenrePreference  Gender  \\\n",
       "102295                  0                 1                3       0   \n",
       "56364                   1                 1                0       1   \n",
       "73635                   1                 1                3       0   \n",
       "\n",
       "        ParentalControl  SubtitlesEnabled  \n",
       "102295                0                 1  \n",
       "56364                 0                 1  \n",
       "73635                 0                 0  "
      ]
     },
     "execution_count": 24,
     "metadata": {},
     "output_type": "execute_result"
    }
   ],
   "source": [
    "#After Encoding\n",
    "test_data[cat_col].sample(3)"
   ]
  },
  {
   "cell_type": "code",
   "execution_count": 25,
   "id": "2ed67299",
   "metadata": {
    "execution": {
     "iopub.execute_input": "2023-10-28T14:30:18.055280Z",
     "iopub.status.busy": "2023-10-28T14:30:18.054675Z",
     "iopub.status.idle": "2023-10-28T14:30:18.061666Z",
     "shell.execute_reply": "2023-10-28T14:30:18.060486Z"
    },
    "papermill": {
     "duration": 0.025937,
     "end_time": "2023-10-28T14:30:18.064137",
     "exception": false,
     "start_time": "2023-10-28T14:30:18.038200",
     "status": "completed"
    },
    "tags": []
   },
   "outputs": [
    {
     "name": "stdout",
     "output_type": "stream",
     "text": [
      "\n",
      "#AccountAge\n",
      "AccountAge_scaler=StandardScaler()\n",
      "train_data['AccountAge']=AccountAge_scaler.fit_transform(np.array(train_data['AccountAge']).reshape(len(train_data['AccountAge']),1))\n",
      "\n",
      "#MonthlyCharges\n",
      "MonthlyCharges_scaler=StandardScaler()\n",
      "train_data['MonthlyCharges']=MonthlyCharges_scaler.fit_transform(np.array(train_data['MonthlyCharges']).reshape(len(train_data['MonthlyCharges']),1))\n",
      "\n",
      "#TotalCharges\n",
      "TotalCharges_scaler=StandardScaler()\n",
      "train_data['TotalCharges']=TotalCharges_scaler.fit_transform(np.array(train_data['TotalCharges']).reshape(len(train_data['TotalCharges']),1))\n",
      "\n",
      "#ViewingHoursPerWeek\n",
      "ViewingHoursPerWeek_scaler=StandardScaler()\n",
      "train_data['ViewingHoursPerWeek']=ViewingHoursPerWeek_scaler.fit_transform(np.array(train_data['ViewingHoursPerWeek']).reshape(len(train_data['ViewingHoursPerWeek']),1))\n",
      "\n",
      "#AverageViewingDuration\n",
      "AverageViewingDuration_scaler=StandardScaler()\n",
      "train_data['AverageViewingDuration']=AverageViewingDuration_scaler.fit_transform(np.array(train_data['AverageViewingDuration']).reshape(len(train_data['AverageViewingDuration']),1))\n",
      "\n",
      "#ContentDownloadsPerMonth\n",
      "ContentDownloadsPerMonth_scaler=StandardScaler()\n",
      "train_data['ContentDownloadsPerMonth']=ContentDownloadsPerMonth_scaler.fit_transform(np.array(train_data['ContentDownloadsPerMonth']).reshape(len(train_data['ContentDownloadsPerMonth']),1))\n",
      "\n",
      "#UserRating\n",
      "UserRating_scaler=StandardScaler()\n",
      "train_data['UserRating']=UserRating_scaler.fit_transform(np.array(train_data['UserRating']).reshape(len(train_data['UserRating']),1))\n",
      "\n",
      "#SupportTicketsPerMonth\n",
      "SupportTicketsPerMonth_scaler=StandardScaler()\n",
      "train_data['SupportTicketsPerMonth']=SupportTicketsPerMonth_scaler.fit_transform(np.array(train_data['SupportTicketsPerMonth']).reshape(len(train_data['SupportTicketsPerMonth']),1))\n",
      "\n",
      "#WatchlistSize\n",
      "WatchlistSize_scaler=StandardScaler()\n",
      "train_data['WatchlistSize']=WatchlistSize_scaler.fit_transform(np.array(train_data['WatchlistSize']).reshape(len(train_data['WatchlistSize']),1))\n"
     ]
    }
   ],
   "source": [
    "#Feature Scaling \n",
    "from sklearn.preprocessing import StandardScaler\n",
    "for col in num_col:\n",
    "    print()\n",
    "    print(f\"#{col}\")\n",
    "    print(f\"{col}_scaler=StandardScaler()\")\n",
    "    print(f\"train_data['{col}']={col}_scaler.fit_transform(np.array(train_data['{col}']).reshape(len(train_data['{col}']),1))\")"
   ]
  },
  {
   "cell_type": "code",
   "execution_count": 26,
   "id": "afe9459c",
   "metadata": {
    "execution": {
     "iopub.execute_input": "2023-10-28T14:30:18.093053Z",
     "iopub.status.busy": "2023-10-28T14:30:18.092629Z",
     "iopub.status.idle": "2023-10-28T14:30:18.125358Z",
     "shell.execute_reply": "2023-10-28T14:30:18.124206Z"
    },
    "papermill": {
     "duration": 0.050345,
     "end_time": "2023-10-28T14:30:18.128101",
     "exception": false,
     "start_time": "2023-10-28T14:30:18.077756",
     "status": "completed"
    },
    "tags": []
   },
   "outputs": [
    {
     "data": {
      "text/html": [
       "<div>\n",
       "<style scoped>\n",
       "    .dataframe tbody tr th:only-of-type {\n",
       "        vertical-align: middle;\n",
       "    }\n",
       "\n",
       "    .dataframe tbody tr th {\n",
       "        vertical-align: top;\n",
       "    }\n",
       "\n",
       "    .dataframe thead th {\n",
       "        text-align: right;\n",
       "    }\n",
       "</style>\n",
       "<table border=\"1\" class=\"dataframe\">\n",
       "  <thead>\n",
       "    <tr style=\"text-align: right;\">\n",
       "      <th></th>\n",
       "      <th>AccountAge</th>\n",
       "      <th>MonthlyCharges</th>\n",
       "      <th>TotalCharges</th>\n",
       "      <th>ViewingHoursPerWeek</th>\n",
       "      <th>AverageViewingDuration</th>\n",
       "      <th>ContentDownloadsPerMonth</th>\n",
       "      <th>UserRating</th>\n",
       "      <th>SupportTicketsPerMonth</th>\n",
       "      <th>WatchlistSize</th>\n",
       "    </tr>\n",
       "  </thead>\n",
       "  <tbody>\n",
       "    <tr>\n",
       "      <th>107906</th>\n",
       "      <td>85</td>\n",
       "      <td>16.014727</td>\n",
       "      <td>1361.251768</td>\n",
       "      <td>22.605704</td>\n",
       "      <td>62.640322</td>\n",
       "      <td>1</td>\n",
       "      <td>3.032532</td>\n",
       "      <td>7</td>\n",
       "      <td>18</td>\n",
       "    </tr>\n",
       "    <tr>\n",
       "      <th>8575</th>\n",
       "      <td>44</td>\n",
       "      <td>14.478829</td>\n",
       "      <td>637.068497</td>\n",
       "      <td>24.639205</td>\n",
       "      <td>161.988116</td>\n",
       "      <td>44</td>\n",
       "      <td>1.297213</td>\n",
       "      <td>1</td>\n",
       "      <td>12</td>\n",
       "    </tr>\n",
       "    <tr>\n",
       "      <th>208990</th>\n",
       "      <td>38</td>\n",
       "      <td>8.312922</td>\n",
       "      <td>315.891025</td>\n",
       "      <td>6.626068</td>\n",
       "      <td>31.401974</td>\n",
       "      <td>0</td>\n",
       "      <td>2.151457</td>\n",
       "      <td>4</td>\n",
       "      <td>18</td>\n",
       "    </tr>\n",
       "  </tbody>\n",
       "</table>\n",
       "</div>"
      ],
      "text/plain": [
       "        AccountAge  MonthlyCharges  TotalCharges  ViewingHoursPerWeek  \\\n",
       "107906          85       16.014727   1361.251768            22.605704   \n",
       "8575            44       14.478829    637.068497            24.639205   \n",
       "208990          38        8.312922    315.891025             6.626068   \n",
       "\n",
       "        AverageViewingDuration  ContentDownloadsPerMonth  UserRating  \\\n",
       "107906               62.640322                         1    3.032532   \n",
       "8575                161.988116                        44    1.297213   \n",
       "208990               31.401974                         0    2.151457   \n",
       "\n",
       "        SupportTicketsPerMonth  WatchlistSize  \n",
       "107906                       7             18  \n",
       "8575                         1             12  \n",
       "208990                       4             18  "
      ]
     },
     "execution_count": 26,
     "metadata": {},
     "output_type": "execute_result"
    }
   ],
   "source": [
    "#Before Scaling Training Data\n",
    "train_data[num_col].sample(3)"
   ]
  },
  {
   "cell_type": "code",
   "execution_count": 27,
   "id": "767b614f",
   "metadata": {
    "execution": {
     "iopub.execute_input": "2023-10-28T14:30:18.160475Z",
     "iopub.status.busy": "2023-10-28T14:30:18.160030Z",
     "iopub.status.idle": "2023-10-28T14:30:18.207987Z",
     "shell.execute_reply": "2023-10-28T14:30:18.206793Z"
    },
    "papermill": {
     "duration": 0.067403,
     "end_time": "2023-10-28T14:30:18.210956",
     "exception": false,
     "start_time": "2023-10-28T14:30:18.143553",
     "status": "completed"
    },
    "tags": []
   },
   "outputs": [],
   "source": [
    "\n",
    "#AccountAge\n",
    "AccountAge_scaler=StandardScaler()\n",
    "train_data['AccountAge']=AccountAge_scaler.fit_transform(np.array(train_data['AccountAge']).reshape(len(train_data['AccountAge']),1))\n",
    "\n",
    "#MonthlyCharges\n",
    "MonthlyCharges_scaler=StandardScaler()\n",
    "train_data['MonthlyCharges']=MonthlyCharges_scaler.fit_transform(np.array(train_data['MonthlyCharges']).reshape(len(train_data['MonthlyCharges']),1))\n",
    "\n",
    "#TotalCharges\n",
    "TotalCharges_scaler=StandardScaler()\n",
    "train_data['TotalCharges']=TotalCharges_scaler.fit_transform(np.array(train_data['TotalCharges']).reshape(len(train_data['TotalCharges']),1))\n",
    "\n",
    "#ViewingHoursPerWeek\n",
    "ViewingHoursPerWeek_scaler=StandardScaler()\n",
    "train_data['ViewingHoursPerWeek']=ViewingHoursPerWeek_scaler.fit_transform(np.array(train_data['ViewingHoursPerWeek']).reshape(len(train_data['ViewingHoursPerWeek']),1))\n",
    "\n",
    "#AverageViewingDuration\n",
    "AverageViewingDuration_scaler=StandardScaler()\n",
    "train_data['AverageViewingDuration']=AverageViewingDuration_scaler.fit_transform(np.array(train_data['AverageViewingDuration']).reshape(len(train_data['AverageViewingDuration']),1))\n",
    "\n",
    "#ContentDownloadsPerMonth\n",
    "ContentDownloadsPerMonth_scaler=StandardScaler()\n",
    "train_data['ContentDownloadsPerMonth']=ContentDownloadsPerMonth_scaler.fit_transform(np.array(train_data['ContentDownloadsPerMonth']).reshape(len(train_data['ContentDownloadsPerMonth']),1))\n",
    "\n",
    "#UserRating\n",
    "UserRating_scaler=StandardScaler()\n",
    "train_data['UserRating']=UserRating_scaler.fit_transform(np.array(train_data['UserRating']).reshape(len(train_data['UserRating']),1))\n",
    "\n",
    "#SupportTicketsPerMonth\n",
    "SupportTicketsPerMonth_scaler=StandardScaler()\n",
    "train_data['SupportTicketsPerMonth']=SupportTicketsPerMonth_scaler.fit_transform(np.array(train_data['SupportTicketsPerMonth']).reshape(len(train_data['SupportTicketsPerMonth']),1))\n",
    "\n",
    "#WatchlistSize\n",
    "WatchlistSize_scaler=StandardScaler()\n",
    "train_data['WatchlistSize']=WatchlistSize_scaler.fit_transform(np.array(train_data['WatchlistSize']).reshape(len(train_data['WatchlistSize']),1))"
   ]
  },
  {
   "cell_type": "code",
   "execution_count": 28,
   "id": "83521262",
   "metadata": {
    "execution": {
     "iopub.execute_input": "2023-10-28T14:30:18.243695Z",
     "iopub.status.busy": "2023-10-28T14:30:18.243231Z",
     "iopub.status.idle": "2023-10-28T14:30:18.280993Z",
     "shell.execute_reply": "2023-10-28T14:30:18.279894Z"
    },
    "papermill": {
     "duration": 0.057922,
     "end_time": "2023-10-28T14:30:18.283990",
     "exception": false,
     "start_time": "2023-10-28T14:30:18.226068",
     "status": "completed"
    },
    "tags": []
   },
   "outputs": [
    {
     "data": {
      "text/html": [
       "<div>\n",
       "<style scoped>\n",
       "    .dataframe tbody tr th:only-of-type {\n",
       "        vertical-align: middle;\n",
       "    }\n",
       "\n",
       "    .dataframe tbody tr th {\n",
       "        vertical-align: top;\n",
       "    }\n",
       "\n",
       "    .dataframe thead th {\n",
       "        text-align: right;\n",
       "    }\n",
       "</style>\n",
       "<table border=\"1\" class=\"dataframe\">\n",
       "  <thead>\n",
       "    <tr style=\"text-align: right;\">\n",
       "      <th></th>\n",
       "      <th>AccountAge</th>\n",
       "      <th>MonthlyCharges</th>\n",
       "      <th>TotalCharges</th>\n",
       "      <th>ViewingHoursPerWeek</th>\n",
       "      <th>AverageViewingDuration</th>\n",
       "      <th>ContentDownloadsPerMonth</th>\n",
       "      <th>UserRating</th>\n",
       "      <th>SupportTicketsPerMonth</th>\n",
       "      <th>WatchlistSize</th>\n",
       "    </tr>\n",
       "  </thead>\n",
       "  <tbody>\n",
       "    <tr>\n",
       "      <th>206897</th>\n",
       "      <td>0.026724</td>\n",
       "      <td>-0.529468</td>\n",
       "      <td>-0.245816</td>\n",
       "      <td>-1.513251</td>\n",
       "      <td>-0.541060</td>\n",
       "      <td>-0.867026</td>\n",
       "      <td>1.060229</td>\n",
       "      <td>0.868852</td>\n",
       "      <td>-1.392810</td>\n",
       "    </tr>\n",
       "    <tr>\n",
       "      <th>197352</th>\n",
       "      <td>-0.439951</td>\n",
       "      <td>-0.366738</td>\n",
       "      <td>-0.497215</td>\n",
       "      <td>-0.020814</td>\n",
       "      <td>1.030803</td>\n",
       "      <td>0.727854</td>\n",
       "      <td>-0.257667</td>\n",
       "      <td>-0.175519</td>\n",
       "      <td>1.248640</td>\n",
       "    </tr>\n",
       "    <tr>\n",
       "      <th>192604</th>\n",
       "      <td>-0.235781</td>\n",
       "      <td>0.164118</td>\n",
       "      <td>-0.122913</td>\n",
       "      <td>-0.316483</td>\n",
       "      <td>-1.149090</td>\n",
       "      <td>1.005224</td>\n",
       "      <td>-1.216369</td>\n",
       "      <td>0.868852</td>\n",
       "      <td>-0.141597</td>\n",
       "    </tr>\n",
       "  </tbody>\n",
       "</table>\n",
       "</div>"
      ],
      "text/plain": [
       "        AccountAge  MonthlyCharges  TotalCharges  ViewingHoursPerWeek  \\\n",
       "206897    0.026724       -0.529468     -0.245816            -1.513251   \n",
       "197352   -0.439951       -0.366738     -0.497215            -0.020814   \n",
       "192604   -0.235781        0.164118     -0.122913            -0.316483   \n",
       "\n",
       "        AverageViewingDuration  ContentDownloadsPerMonth  UserRating  \\\n",
       "206897               -0.541060                 -0.867026    1.060229   \n",
       "197352                1.030803                  0.727854   -0.257667   \n",
       "192604               -1.149090                  1.005224   -1.216369   \n",
       "\n",
       "        SupportTicketsPerMonth  WatchlistSize  \n",
       "206897                0.868852      -1.392810  \n",
       "197352               -0.175519       1.248640  \n",
       "192604                0.868852      -0.141597  "
      ]
     },
     "execution_count": 28,
     "metadata": {},
     "output_type": "execute_result"
    }
   ],
   "source": [
    "#After Scaling Training Data\n",
    "train_data[num_col].sample(3)"
   ]
  },
  {
   "cell_type": "code",
   "execution_count": 29,
   "id": "1067c2bc",
   "metadata": {
    "execution": {
     "iopub.execute_input": "2023-10-28T14:30:18.318093Z",
     "iopub.status.busy": "2023-10-28T14:30:18.317563Z",
     "iopub.status.idle": "2023-10-28T14:30:18.343770Z",
     "shell.execute_reply": "2023-10-28T14:30:18.341997Z"
    },
    "papermill": {
     "duration": 0.047414,
     "end_time": "2023-10-28T14:30:18.347193",
     "exception": false,
     "start_time": "2023-10-28T14:30:18.299779",
     "status": "completed"
    },
    "tags": []
   },
   "outputs": [
    {
     "data": {
      "text/html": [
       "<div>\n",
       "<style scoped>\n",
       "    .dataframe tbody tr th:only-of-type {\n",
       "        vertical-align: middle;\n",
       "    }\n",
       "\n",
       "    .dataframe tbody tr th {\n",
       "        vertical-align: top;\n",
       "    }\n",
       "\n",
       "    .dataframe thead th {\n",
       "        text-align: right;\n",
       "    }\n",
       "</style>\n",
       "<table border=\"1\" class=\"dataframe\">\n",
       "  <thead>\n",
       "    <tr style=\"text-align: right;\">\n",
       "      <th></th>\n",
       "      <th>AccountAge</th>\n",
       "      <th>MonthlyCharges</th>\n",
       "      <th>TotalCharges</th>\n",
       "      <th>ViewingHoursPerWeek</th>\n",
       "      <th>AverageViewingDuration</th>\n",
       "      <th>ContentDownloadsPerMonth</th>\n",
       "      <th>UserRating</th>\n",
       "      <th>SupportTicketsPerMonth</th>\n",
       "      <th>WatchlistSize</th>\n",
       "    </tr>\n",
       "  </thead>\n",
       "  <tbody>\n",
       "    <tr>\n",
       "      <th>82905</th>\n",
       "      <td>80</td>\n",
       "      <td>12.165486</td>\n",
       "      <td>973.238891</td>\n",
       "      <td>15.019645</td>\n",
       "      <td>43.844743</td>\n",
       "      <td>20</td>\n",
       "      <td>2.404988</td>\n",
       "      <td>5</td>\n",
       "      <td>16</td>\n",
       "    </tr>\n",
       "    <tr>\n",
       "      <th>11327</th>\n",
       "      <td>112</td>\n",
       "      <td>6.158406</td>\n",
       "      <td>689.741467</td>\n",
       "      <td>3.032638</td>\n",
       "      <td>104.378551</td>\n",
       "      <td>43</td>\n",
       "      <td>3.794082</td>\n",
       "      <td>0</td>\n",
       "      <td>15</td>\n",
       "    </tr>\n",
       "    <tr>\n",
       "      <th>31370</th>\n",
       "      <td>86</td>\n",
       "      <td>13.942162</td>\n",
       "      <td>1199.025925</td>\n",
       "      <td>24.016030</td>\n",
       "      <td>78.578419</td>\n",
       "      <td>36</td>\n",
       "      <td>1.346679</td>\n",
       "      <td>7</td>\n",
       "      <td>1</td>\n",
       "    </tr>\n",
       "  </tbody>\n",
       "</table>\n",
       "</div>"
      ],
      "text/plain": [
       "       AccountAge  MonthlyCharges  TotalCharges  ViewingHoursPerWeek  \\\n",
       "82905          80       12.165486    973.238891            15.019645   \n",
       "11327         112        6.158406    689.741467             3.032638   \n",
       "31370          86       13.942162   1199.025925            24.016030   \n",
       "\n",
       "       AverageViewingDuration  ContentDownloadsPerMonth  UserRating  \\\n",
       "82905               43.844743                        20    2.404988   \n",
       "11327              104.378551                        43    3.794082   \n",
       "31370               78.578419                        36    1.346679   \n",
       "\n",
       "       SupportTicketsPerMonth  WatchlistSize  \n",
       "82905                       5             16  \n",
       "11327                       0             15  \n",
       "31370                       7              1  "
      ]
     },
     "execution_count": 29,
     "metadata": {},
     "output_type": "execute_result"
    }
   ],
   "source": [
    "#Before Scaling Testing data\n",
    "test_data[num_col].sample(3)"
   ]
  },
  {
   "cell_type": "code",
   "execution_count": 30,
   "id": "e744fa75",
   "metadata": {
    "execution": {
     "iopub.execute_input": "2023-10-28T14:30:18.383520Z",
     "iopub.status.busy": "2023-10-28T14:30:18.383002Z",
     "iopub.status.idle": "2023-10-28T14:30:18.391813Z",
     "shell.execute_reply": "2023-10-28T14:30:18.390057Z"
    },
    "papermill": {
     "duration": 0.030161,
     "end_time": "2023-10-28T14:30:18.394729",
     "exception": false,
     "start_time": "2023-10-28T14:30:18.364568",
     "status": "completed"
    },
    "tags": []
   },
   "outputs": [
    {
     "name": "stdout",
     "output_type": "stream",
     "text": [
      "\n",
      "#AccountAge\n",
      "test_data['AccountAge']=AccountAge_scaler.transform(np.array(test_data['AccountAge']).reshape(len(test_data['AccountAge']),1))\n",
      "\n",
      "#MonthlyCharges\n",
      "test_data['MonthlyCharges']=MonthlyCharges_scaler.transform(np.array(test_data['MonthlyCharges']).reshape(len(test_data['MonthlyCharges']),1))\n",
      "\n",
      "#TotalCharges\n",
      "test_data['TotalCharges']=TotalCharges_scaler.transform(np.array(test_data['TotalCharges']).reshape(len(test_data['TotalCharges']),1))\n",
      "\n",
      "#ViewingHoursPerWeek\n",
      "test_data['ViewingHoursPerWeek']=ViewingHoursPerWeek_scaler.transform(np.array(test_data['ViewingHoursPerWeek']).reshape(len(test_data['ViewingHoursPerWeek']),1))\n",
      "\n",
      "#AverageViewingDuration\n",
      "test_data['AverageViewingDuration']=AverageViewingDuration_scaler.transform(np.array(test_data['AverageViewingDuration']).reshape(len(test_data['AverageViewingDuration']),1))\n",
      "\n",
      "#ContentDownloadsPerMonth\n",
      "test_data['ContentDownloadsPerMonth']=ContentDownloadsPerMonth_scaler.transform(np.array(test_data['ContentDownloadsPerMonth']).reshape(len(test_data['ContentDownloadsPerMonth']),1))\n",
      "\n",
      "#UserRating\n",
      "test_data['UserRating']=UserRating_scaler.transform(np.array(test_data['UserRating']).reshape(len(test_data['UserRating']),1))\n",
      "\n",
      "#SupportTicketsPerMonth\n",
      "test_data['SupportTicketsPerMonth']=SupportTicketsPerMonth_scaler.transform(np.array(test_data['SupportTicketsPerMonth']).reshape(len(test_data['SupportTicketsPerMonth']),1))\n",
      "\n",
      "#WatchlistSize\n",
      "test_data['WatchlistSize']=WatchlistSize_scaler.transform(np.array(test_data['WatchlistSize']).reshape(len(test_data['WatchlistSize']),1))\n"
     ]
    }
   ],
   "source": [
    "#Feature Scaling \n",
    "from sklearn.preprocessing import StandardScaler\n",
    "for col in num_col:\n",
    "    print()\n",
    "    print(f\"#{col}\")\n",
    "    print(f\"test_data['{col}']={col}_scaler.transform(np.array(test_data['{col}']).reshape(len(test_data['{col}']),1))\")"
   ]
  },
  {
   "cell_type": "code",
   "execution_count": 31,
   "id": "c8f81ad8",
   "metadata": {
    "execution": {
     "iopub.execute_input": "2023-10-28T14:30:18.429795Z",
     "iopub.status.busy": "2023-10-28T14:30:18.429366Z",
     "iopub.status.idle": "2023-10-28T14:30:18.452289Z",
     "shell.execute_reply": "2023-10-28T14:30:18.450669Z"
    },
    "papermill": {
     "duration": 0.045125,
     "end_time": "2023-10-28T14:30:18.455506",
     "exception": false,
     "start_time": "2023-10-28T14:30:18.410381",
     "status": "completed"
    },
    "tags": []
   },
   "outputs": [],
   "source": [
    "#AccountAge\n",
    "test_data['AccountAge']=AccountAge_scaler.transform(np.array(test_data['AccountAge']).reshape(len(test_data['AccountAge']),1))\n",
    "\n",
    "#MonthlyCharges\n",
    "test_data['MonthlyCharges']=MonthlyCharges_scaler.transform(np.array(test_data['MonthlyCharges']).reshape(len(test_data['MonthlyCharges']),1))\n",
    "\n",
    "#TotalCharges\n",
    "test_data['TotalCharges']=TotalCharges_scaler.transform(np.array(test_data['TotalCharges']).reshape(len(test_data['TotalCharges']),1))\n",
    "\n",
    "#ViewingHoursPerWeek\n",
    "test_data['ViewingHoursPerWeek']=ViewingHoursPerWeek_scaler.transform(np.array(test_data['ViewingHoursPerWeek']).reshape(len(test_data['ViewingHoursPerWeek']),1))\n",
    "\n",
    "#AverageViewingDuration\n",
    "test_data['AverageViewingDuration']=AverageViewingDuration_scaler.transform(np.array(test_data['AverageViewingDuration']).reshape(len(test_data['AverageViewingDuration']),1))\n",
    "\n",
    "#ContentDownloadsPerMonth\n",
    "test_data['ContentDownloadsPerMonth']=ContentDownloadsPerMonth_scaler.transform(np.array(test_data['ContentDownloadsPerMonth']).reshape(len(test_data['ContentDownloadsPerMonth']),1))\n",
    "\n",
    "#UserRating\n",
    "test_data['UserRating']=UserRating_scaler.transform(np.array(test_data['UserRating']).reshape(len(test_data['UserRating']),1))\n",
    "\n",
    "#SupportTicketsPerMonth\n",
    "test_data['SupportTicketsPerMonth']=SupportTicketsPerMonth_scaler.transform(np.array(test_data['SupportTicketsPerMonth']).reshape(len(test_data['SupportTicketsPerMonth']),1))\n",
    "\n",
    "#WatchlistSize\n",
    "test_data['WatchlistSize']=WatchlistSize_scaler.transform(np.array(test_data['WatchlistSize']).reshape(len(test_data['WatchlistSize']),1))"
   ]
  },
  {
   "cell_type": "code",
   "execution_count": 32,
   "id": "abff9519",
   "metadata": {
    "execution": {
     "iopub.execute_input": "2023-10-28T14:30:18.489224Z",
     "iopub.status.busy": "2023-10-28T14:30:18.488786Z",
     "iopub.status.idle": "2023-10-28T14:30:18.516828Z",
     "shell.execute_reply": "2023-10-28T14:30:18.515442Z"
    },
    "papermill": {
     "duration": 0.048576,
     "end_time": "2023-10-28T14:30:18.519998",
     "exception": false,
     "start_time": "2023-10-28T14:30:18.471422",
     "status": "completed"
    },
    "tags": []
   },
   "outputs": [
    {
     "data": {
      "text/html": [
       "<div>\n",
       "<style scoped>\n",
       "    .dataframe tbody tr th:only-of-type {\n",
       "        vertical-align: middle;\n",
       "    }\n",
       "\n",
       "    .dataframe tbody tr th {\n",
       "        vertical-align: top;\n",
       "    }\n",
       "\n",
       "    .dataframe thead th {\n",
       "        text-align: right;\n",
       "    }\n",
       "</style>\n",
       "<table border=\"1\" class=\"dataframe\">\n",
       "  <thead>\n",
       "    <tr style=\"text-align: right;\">\n",
       "      <th></th>\n",
       "      <th>AccountAge</th>\n",
       "      <th>MonthlyCharges</th>\n",
       "      <th>TotalCharges</th>\n",
       "      <th>ViewingHoursPerWeek</th>\n",
       "      <th>AverageViewingDuration</th>\n",
       "      <th>ContentDownloadsPerMonth</th>\n",
       "      <th>UserRating</th>\n",
       "      <th>SupportTicketsPerMonth</th>\n",
       "      <th>WatchlistSize</th>\n",
       "    </tr>\n",
       "  </thead>\n",
       "  <tbody>\n",
       "    <tr>\n",
       "      <th>44683</th>\n",
       "      <td>-0.206613</td>\n",
       "      <td>-1.324978</td>\n",
       "      <td>-0.750633</td>\n",
       "      <td>-0.314462</td>\n",
       "      <td>-0.019054</td>\n",
       "      <td>-0.520313</td>\n",
       "      <td>0.615598</td>\n",
       "      <td>1.565099</td>\n",
       "      <td>0.414498</td>\n",
       "    </tr>\n",
       "    <tr>\n",
       "      <th>75377</th>\n",
       "      <td>1.280914</td>\n",
       "      <td>-1.049234</td>\n",
       "      <td>0.145413</td>\n",
       "      <td>-1.661941</td>\n",
       "      <td>-0.106417</td>\n",
       "      <td>0.866539</td>\n",
       "      <td>-1.679849</td>\n",
       "      <td>-1.568014</td>\n",
       "      <td>0.553522</td>\n",
       "    </tr>\n",
       "    <tr>\n",
       "      <th>99216</th>\n",
       "      <td>-0.760790</td>\n",
       "      <td>0.922586</td>\n",
       "      <td>-0.363830</td>\n",
       "      <td>1.210062</td>\n",
       "      <td>-0.831181</td>\n",
       "      <td>1.559965</td>\n",
       "      <td>-0.338717</td>\n",
       "      <td>1.216976</td>\n",
       "      <td>1.665711</td>\n",
       "    </tr>\n",
       "  </tbody>\n",
       "</table>\n",
       "</div>"
      ],
      "text/plain": [
       "       AccountAge  MonthlyCharges  TotalCharges  ViewingHoursPerWeek  \\\n",
       "44683   -0.206613       -1.324978     -0.750633            -0.314462   \n",
       "75377    1.280914       -1.049234      0.145413            -1.661941   \n",
       "99216   -0.760790        0.922586     -0.363830             1.210062   \n",
       "\n",
       "       AverageViewingDuration  ContentDownloadsPerMonth  UserRating  \\\n",
       "44683               -0.019054                 -0.520313    0.615598   \n",
       "75377               -0.106417                  0.866539   -1.679849   \n",
       "99216               -0.831181                  1.559965   -0.338717   \n",
       "\n",
       "       SupportTicketsPerMonth  WatchlistSize  \n",
       "44683                1.565099       0.414498  \n",
       "75377               -1.568014       0.553522  \n",
       "99216                1.216976       1.665711  "
      ]
     },
     "execution_count": 32,
     "metadata": {},
     "output_type": "execute_result"
    }
   ],
   "source": [
    "#After Scaling\n",
    "test_data[num_col].sample(3)"
   ]
  },
  {
   "cell_type": "markdown",
   "id": "0f585ea7",
   "metadata": {
    "papermill": {
     "duration": 0.014681,
     "end_time": "2023-10-28T14:30:18.549526",
     "exception": false,
     "start_time": "2023-10-28T14:30:18.534845",
     "status": "completed"
    },
    "tags": []
   },
   "source": [
    "<h1>Feature Selection</h1>"
   ]
  },
  {
   "cell_type": "code",
   "execution_count": 33,
   "id": "9249ec02",
   "metadata": {
    "execution": {
     "iopub.execute_input": "2023-10-28T14:30:18.582451Z",
     "iopub.status.busy": "2023-10-28T14:30:18.582024Z",
     "iopub.status.idle": "2023-10-28T14:30:18.621656Z",
     "shell.execute_reply": "2023-10-28T14:30:18.620054Z"
    },
    "papermill": {
     "duration": 0.059792,
     "end_time": "2023-10-28T14:30:18.624799",
     "exception": false,
     "start_time": "2023-10-28T14:30:18.565007",
     "status": "completed"
    },
    "tags": []
   },
   "outputs": [],
   "source": [
    "#Feature and Target\n",
    "Feature=train_data.drop(columns=\"Churn\")\n",
    "Target=train_data['Churn']"
   ]
  },
  {
   "cell_type": "code",
   "execution_count": 34,
   "id": "e4c20cf1",
   "metadata": {
    "execution": {
     "iopub.execute_input": "2023-10-28T14:30:18.657948Z",
     "iopub.status.busy": "2023-10-28T14:30:18.657522Z",
     "iopub.status.idle": "2023-10-28T14:30:18.957969Z",
     "shell.execute_reply": "2023-10-28T14:30:18.956699Z"
    },
    "papermill": {
     "duration": 0.320384,
     "end_time": "2023-10-28T14:30:18.961458",
     "exception": false,
     "start_time": "2023-10-28T14:30:18.641074",
     "status": "completed"
    },
    "tags": []
   },
   "outputs": [],
   "source": [
    "#Train_Test_Split\n",
    "from sklearn.model_selection import train_test_split as tts\n",
    "f_train,f_test,t_train,t_test=tts(Feature,Target,test_size=0.3)"
   ]
  },
  {
   "cell_type": "code",
   "execution_count": 35,
   "id": "497a46b1",
   "metadata": {
    "execution": {
     "iopub.execute_input": "2023-10-28T14:30:18.992894Z",
     "iopub.status.busy": "2023-10-28T14:30:18.992477Z",
     "iopub.status.idle": "2023-10-28T14:30:19.022529Z",
     "shell.execute_reply": "2023-10-28T14:30:19.020082Z"
    },
    "papermill": {
     "duration": 0.0501,
     "end_time": "2023-10-28T14:30:19.026585",
     "exception": false,
     "start_time": "2023-10-28T14:30:18.976485",
     "status": "completed"
    },
    "tags": []
   },
   "outputs": [],
   "source": [
    "#Importing required libraries for feature selection \n",
    "import mlxtend\n",
    "from mlxtend.feature_selection import SequentialFeatureSelector as SFS"
   ]
  },
  {
   "cell_type": "code",
   "execution_count": 36,
   "id": "ea986e3c",
   "metadata": {
    "execution": {
     "iopub.execute_input": "2023-10-28T14:30:19.061656Z",
     "iopub.status.busy": "2023-10-28T14:30:19.061175Z",
     "iopub.status.idle": "2023-10-28T14:35:26.108649Z",
     "shell.execute_reply": "2023-10-28T14:35:26.106954Z"
    },
    "papermill": {
     "duration": 307.070103,
     "end_time": "2023-10-28T14:35:26.113634",
     "exception": false,
     "start_time": "2023-10-28T14:30:19.043531",
     "status": "completed"
    },
    "tags": []
   },
   "outputs": [
    {
     "name": "stderr",
     "output_type": "stream",
     "text": [
      "Features: 19/19"
     ]
    }
   ],
   "source": [
    "#Using LogisticRegression\n",
    "from sklearn.linear_model import LogisticRegression\n",
    "lr=LogisticRegression()\n",
    "\n",
    "sfs1 = SFS(lr, \n",
    "           k_features=19, \n",
    "           forward=True, \n",
    "           floating=False, \n",
    "           verbose=1,\n",
    "           scoring='accuracy',\n",
    "           cv=5)\n",
    "\n",
    "sfs1 = sfs1.fit(Feature, Target)"
   ]
  },
  {
   "cell_type": "code",
   "execution_count": 37,
   "id": "ec076d32",
   "metadata": {
    "execution": {
     "iopub.execute_input": "2023-10-28T14:35:26.174134Z",
     "iopub.status.busy": "2023-10-28T14:35:26.173515Z",
     "iopub.status.idle": "2023-10-28T14:35:26.188688Z",
     "shell.execute_reply": "2023-10-28T14:35:26.186940Z"
    },
    "papermill": {
     "duration": 0.049834,
     "end_time": "2023-10-28T14:35:26.193161",
     "exception": false,
     "start_time": "2023-10-28T14:35:26.143327",
     "status": "completed"
    },
    "tags": []
   },
   "outputs": [
    {
     "name": "stdout",
     "output_type": "stream",
     "text": [
      "\n",
      "Sequential Backward Floating Selection (k=3):\n",
      "(0, 1, 2, 3, 4, 5, 6, 7, 8, 9, 10, 11, 12, 13, 14, 15, 16, 17, 18)\n",
      "Feature Name\n",
      "('AccountAge', 'MonthlyCharges', 'TotalCharges', 'SubscriptionType', 'PaymentMethod', 'PaperlessBilling', 'ContentType', 'MultiDeviceAccess', 'DeviceRegistered', 'ViewingHoursPerWeek', 'AverageViewingDuration', 'ContentDownloadsPerMonth', 'GenrePreference', 'UserRating', 'SupportTicketsPerMonth', 'Gender', 'WatchlistSize', 'ParentalControl', 'SubtitlesEnabled')\n",
      "CV Score:\n",
      "0.8235590863269173\n"
     ]
    }
   ],
   "source": [
    "print('\\nSequential Backward Floating Selection (k=3):')\n",
    "print(sfs1.k_feature_idx_)\n",
    "print(\"Feature Name\")\n",
    "print(sfs1.k_feature_names_)\n",
    "print('CV Score:')\n",
    "print(sfs1.k_score_)"
   ]
  },
  {
   "cell_type": "code",
   "execution_count": 38,
   "id": "5191a16a",
   "metadata": {
    "execution": {
     "iopub.execute_input": "2023-10-28T14:35:26.234808Z",
     "iopub.status.busy": "2023-10-28T14:35:26.234404Z",
     "iopub.status.idle": "2023-10-28T14:58:51.797419Z",
     "shell.execute_reply": "2023-10-28T14:58:51.795925Z"
    },
    "papermill": {
     "duration": 1405.582435,
     "end_time": "2023-10-28T14:58:51.800223",
     "exception": false,
     "start_time": "2023-10-28T14:35:26.217788",
     "status": "completed"
    },
    "tags": []
   },
   "outputs": [
    {
     "name": "stderr",
     "output_type": "stream",
     "text": [
      "Features: 19/19"
     ]
    }
   ],
   "source": [
    "#Using DecisionTree\n",
    "from sklearn.tree import DecisionTreeClassifier\n",
    "dtc=DecisionTreeClassifier()\n",
    "\n",
    "sfs2 = SFS(dtc, \n",
    "           k_features=19, \n",
    "           forward=True, \n",
    "           floating=False, \n",
    "           verbose=1,\n",
    "           scoring='accuracy',\n",
    "           cv=5)\n",
    "\n",
    "sfs2 = sfs2.fit(Feature, Target)"
   ]
  },
  {
   "cell_type": "code",
   "execution_count": 39,
   "id": "a770caa5",
   "metadata": {
    "execution": {
     "iopub.execute_input": "2023-10-28T14:58:51.838100Z",
     "iopub.status.busy": "2023-10-28T14:58:51.837663Z",
     "iopub.status.idle": "2023-10-28T14:58:51.845122Z",
     "shell.execute_reply": "2023-10-28T14:58:51.843345Z"
    },
    "papermill": {
     "duration": 0.03048,
     "end_time": "2023-10-28T14:58:51.848017",
     "exception": false,
     "start_time": "2023-10-28T14:58:51.817537",
     "status": "completed"
    },
    "tags": []
   },
   "outputs": [
    {
     "name": "stdout",
     "output_type": "stream",
     "text": [
      "\n",
      "Sequential Backward Floating Selection (k=3):\n",
      "(0, 1, 2, 3, 4, 5, 6, 7, 8, 9, 10, 11, 12, 13, 14, 15, 16, 17, 18)\n",
      "Feature Name\n",
      "('AccountAge', 'MonthlyCharges', 'TotalCharges', 'SubscriptionType', 'PaymentMethod', 'PaperlessBilling', 'ContentType', 'MultiDeviceAccess', 'DeviceRegistered', 'ViewingHoursPerWeek', 'AverageViewingDuration', 'ContentDownloadsPerMonth', 'GenrePreference', 'UserRating', 'SupportTicketsPerMonth', 'Gender', 'WatchlistSize', 'ParentalControl', 'SubtitlesEnabled')\n",
      "CV Score:\n",
      "0.7269173326571987\n"
     ]
    }
   ],
   "source": [
    "print('\\nSequential Backward Floating Selection (k=3):')\n",
    "print(sfs2.k_feature_idx_)\n",
    "print(\"Feature Name\")\n",
    "print(sfs1.k_feature_names_)\n",
    "print('CV Score:')\n",
    "print(sfs2.k_score_)"
   ]
  },
  {
   "cell_type": "markdown",
   "id": "9d6b201b",
   "metadata": {
    "papermill": {
     "duration": 0.017538,
     "end_time": "2023-10-28T14:58:51.883092",
     "exception": false,
     "start_time": "2023-10-28T14:58:51.865554",
     "status": "completed"
    },
    "tags": []
   },
   "source": [
    "<h1>Model Building</h1>"
   ]
  },
  {
   "cell_type": "code",
   "execution_count": 40,
   "id": "e6718a09",
   "metadata": {
    "execution": {
     "iopub.execute_input": "2023-10-28T14:58:51.924842Z",
     "iopub.status.busy": "2023-10-28T14:58:51.924071Z",
     "iopub.status.idle": "2023-10-28T14:58:52.695885Z",
     "shell.execute_reply": "2023-10-28T14:58:52.694476Z"
    },
    "papermill": {
     "duration": 0.796506,
     "end_time": "2023-10-28T14:58:52.699621",
     "exception": false,
     "start_time": "2023-10-28T14:58:51.903115",
     "status": "completed"
    },
    "tags": []
   },
   "outputs": [],
   "source": [
    "#LogisticRegression\n",
    "model=LogisticRegression()\n",
    "#Model Training\n",
    "model.fit(f_train[['AccountAge', 'MonthlyCharges', 'TotalCharges', 'SubscriptionType', 'PaymentMethod', 'PaperlessBilling', 'ContentType', 'MultiDeviceAccess', 'DeviceRegistered', 'ViewingHoursPerWeek', 'AverageViewingDuration', 'ContentDownloadsPerMonth', 'GenrePreference', 'UserRating', 'SupportTicketsPerMonth', 'Gender', 'WatchlistSize', 'ParentalControl', 'SubtitlesEnabled']],t_train)\n",
    "#Model Testing\n",
    "t_pred=model.predict(f_test[['AccountAge', 'MonthlyCharges', 'TotalCharges', 'SubscriptionType', 'PaymentMethod', 'PaperlessBilling', 'ContentType', 'MultiDeviceAccess', 'DeviceRegistered', 'ViewingHoursPerWeek', 'AverageViewingDuration', 'ContentDownloadsPerMonth', 'GenrePreference', 'UserRating', 'SupportTicketsPerMonth', 'Gender', 'WatchlistSize', 'ParentalControl', 'SubtitlesEnabled']])"
   ]
  },
  {
   "cell_type": "code",
   "execution_count": 41,
   "id": "d3b3f9a8",
   "metadata": {
    "execution": {
     "iopub.execute_input": "2023-10-28T14:58:52.760220Z",
     "iopub.status.busy": "2023-10-28T14:58:52.759622Z",
     "iopub.status.idle": "2023-10-28T14:58:52.786271Z",
     "shell.execute_reply": "2023-10-28T14:58:52.784983Z"
    },
    "papermill": {
     "duration": 0.061676,
     "end_time": "2023-10-28T14:58:52.790410",
     "exception": false,
     "start_time": "2023-10-28T14:58:52.728734",
     "status": "completed"
    },
    "tags": []
   },
   "outputs": [
    {
     "name": "stdout",
     "output_type": "stream",
     "text": [
      "Accuracy of model is 82.35229774259267\n"
     ]
    }
   ],
   "source": [
    "#Model Performance on Validation Data\n",
    "from sklearn.metrics import accuracy_score,confusion_matrix\n",
    "print(f\"Accuracy of model is {accuracy_score(t_test,t_pred)*100}\")"
   ]
  },
  {
   "cell_type": "code",
   "execution_count": 42,
   "id": "940c0495",
   "metadata": {
    "execution": {
     "iopub.execute_input": "2023-10-28T14:58:52.837622Z",
     "iopub.status.busy": "2023-10-28T14:58:52.837160Z",
     "iopub.status.idle": "2023-10-28T14:58:52.866448Z",
     "shell.execute_reply": "2023-10-28T14:58:52.864527Z"
    },
    "papermill": {
     "duration": 0.052987,
     "end_time": "2023-10-28T14:58:52.869885",
     "exception": false,
     "start_time": "2023-10-28T14:58:52.816898",
     "status": "completed"
    },
    "tags": []
   },
   "outputs": [],
   "source": [
    "#Model testing\n",
    "t_pred=model.predict(test_data[['AccountAge', 'MonthlyCharges', 'TotalCharges', 'SubscriptionType', 'PaymentMethod', 'PaperlessBilling', 'ContentType', 'MultiDeviceAccess', 'DeviceRegistered', 'ViewingHoursPerWeek', 'AverageViewingDuration', 'ContentDownloadsPerMonth', 'GenrePreference', 'UserRating', 'SupportTicketsPerMonth', 'Gender', 'WatchlistSize', 'ParentalControl', 'SubtitlesEnabled']])"
   ]
  }
 ],
 "metadata": {
  "kernelspec": {
   "display_name": "Python 3",
   "language": "python",
   "name": "python3"
  },
  "language_info": {
   "codemirror_mode": {
    "name": "ipython",
    "version": 3
   },
   "file_extension": ".py",
   "mimetype": "text/x-python",
   "name": "python",
   "nbconvert_exporter": "python",
   "pygments_lexer": "ipython3",
   "version": "3.10.12"
  },
  "papermill": {
   "default_parameters": {},
   "duration": 1727.38326,
   "end_time": "2023-10-28T14:58:53.631131",
   "environment_variables": {},
   "exception": null,
   "input_path": "__notebook__.ipynb",
   "output_path": "__notebook__.ipynb",
   "parameters": {},
   "start_time": "2023-10-28T14:30:06.247871",
   "version": "2.4.0"
  }
 },
 "nbformat": 4,
 "nbformat_minor": 5
}
