{
 "cells": [
  {
   "cell_type": "code",
   "execution_count": 6,
   "metadata": {},
   "outputs": [],
   "source": [
    "import pandas as pd\n",
    "import matplotlib.pyplot as plt\n",
    "import seaborn as sns\n",
    "import warnings"
   ]
  },
  {
   "cell_type": "code",
   "execution_count": 7,
   "metadata": {},
   "outputs": [],
   "source": [
    "df = pd.read_csv(\"../datascience_programs_list.csv\")"
   ]
  },
  {
   "cell_type": "code",
   "execution_count": 8,
   "metadata": {},
   "outputs": [
    {
     "name": "stdout",
     "output_type": "stream",
     "text": [
      "                        Subject Name                       University Name  \\\n",
      "0  Data Science for Business Leaders                               Udacity   \n",
      "1  Data Science MicroMasters Program        edX - online learning platform   \n",
      "2                       Data Science               George Mason University   \n",
      "3     Data Science - Earth Resources              Colorado School of Mines   \n",
      "4                       Data Science  The University of Texas at Arlington   \n",
      "\n",
      "       Per Year Fees                                      About Program  \\\n",
      "0   218 EUR / module  The Data Science for Business Leaders program ...   \n",
      "1   1,163 EUR / full  EdX is an online learning platform trusted by ...   \n",
      "2  20,566 EUR / full  This Data Science Postgrad.Cert. program at Ge...   \n",
      "3  18,484 EUR / year  This Data Science - Earth Resources program at...   \n",
      "4  21,669 EUR / year  The Master of Science in Data Science degree p...   \n",
      "\n",
      "  Program Duration               University Location  \\\n",
      "0          1 month                            Online   \n",
      "1        10 months                            Online   \n",
      "2              NaN  Fairfax, Virginia, United States   \n",
      "3              NaN                            Online   \n",
      "4          2 years  Texas City, Texas, United States   \n",
      "\n",
      "                                        Program Name  \n",
      "0                    Pre-Master / Part-time / Online  \n",
      "1                    Pre-Master / Part-time / Online  \n",
      "2  Postgraduate Certificate / Full-time, Part-tim...  \n",
      "3      Postgraduate Certificate / Part-time / Online  \n",
      "4                      M.Sc. / Full-time / On Campus  \n"
     ]
    }
   ],
   "source": [
    "print(df.head())"
   ]
  },
  {
   "cell_type": "code",
   "execution_count": 9,
   "metadata": {},
   "outputs": [
    {
     "name": "stdout",
     "output_type": "stream",
     "text": [
      "<class 'pandas.core.frame.DataFrame'>\n",
      "RangeIndex: 443 entries, 0 to 442\n",
      "Data columns (total 7 columns):\n",
      " #   Column               Non-Null Count  Dtype \n",
      "---  ------               --------------  ----- \n",
      " 0   Subject Name         443 non-null    object\n",
      " 1   University Name      443 non-null    object\n",
      " 2   Per Year Fees        436 non-null    object\n",
      " 3   About Program        443 non-null    object\n",
      " 4   Program Duration     427 non-null    object\n",
      " 5   University Location  443 non-null    object\n",
      " 6   Program Name         443 non-null    object\n",
      "dtypes: object(7)\n",
      "memory usage: 24.4+ KB\n",
      "None\n"
     ]
    }
   ],
   "source": [
    "# Display the summary of the dataframe to understand its columns and data types\n",
    "print(df.info())"
   ]
  },
  {
   "cell_type": "code",
   "execution_count": 11,
   "metadata": {},
   "outputs": [],
   "source": [
    "fees_cleaned = df['Per Year Fees'].str.replace(r'[^0-9.]', '', regex=True).astype(float)\n",
    "df['Per Year Fees Cleaned'] = fees_cleaned\n",
    "\n",
    "# Group by university and find the minimum fee\n",
    "affordable_universities = df.groupby('University Name')['Per Year Fees Cleaned'].min().sort_values().head(10)\n",
    "\n",
    "affordable_universities.to_csv('result.csv')"
   ]
  }
 ],
 "metadata": {
  "kernelspec": {
   "display_name": "spider",
   "language": "python",
   "name": "python3"
  },
  "language_info": {
   "codemirror_mode": {
    "name": "ipython",
    "version": 3
   },
   "file_extension": ".py",
   "mimetype": "text/x-python",
   "name": "python",
   "nbconvert_exporter": "python",
   "pygments_lexer": "ipython3",
   "version": "3.11.0"
  }
 },
 "nbformat": 4,
 "nbformat_minor": 2
}
