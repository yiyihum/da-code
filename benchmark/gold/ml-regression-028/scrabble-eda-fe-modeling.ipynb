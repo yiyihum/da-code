{
 "cells": [
  {
   "cell_type": "markdown",
   "id": "5028b17e",
   "metadata": {
    "papermill": {
     "duration": 0.00994,
     "end_time": "2022-12-08T07:42:23.406163",
     "exception": false,
     "start_time": "2022-12-08T07:42:23.396223",
     "status": "completed"
    },
    "tags": []
   },
   "source": [
    "# Introduction\n",
    "\n",
    "Hey, thanks for viewing my Kernel!\n",
    "\n",
    "If you like my work, please, leave an upvote: it will be really appreciated and it will motivate me in offering more content to the Kaggle community ! :)"
   ]
  },
  {
   "cell_type": "code",
   "execution_count": 33,
   "id": "8fa45f91",
   "metadata": {
    "_kg_hide-input": true,
    "_kg_hide-output": true,
    "execution": {
     "iopub.execute_input": "2022-12-08T07:42:23.425724Z",
     "iopub.status.busy": "2022-12-08T07:42:23.425094Z",
     "iopub.status.idle": "2022-12-08T07:42:36.714194Z",
     "shell.execute_reply": "2022-12-08T07:42:36.713134Z"
    },
    "papermill": {
     "duration": 13.30219,
     "end_time": "2022-12-08T07:42:36.717211",
     "exception": false,
     "start_time": "2022-12-08T07:42:23.415021",
     "status": "completed"
    },
    "tags": []
   },
   "outputs": [
    {
     "name": "stdout",
     "output_type": "stream",
     "text": [
      "Requirement already satisfied: textstat in /opt/anaconda3/envs/demo/lib/python3.11/site-packages (0.7.3)\n",
      "Requirement already satisfied: pyphen in /opt/anaconda3/envs/demo/lib/python3.11/site-packages (from textstat) (0.15.0)\n"
     ]
    }
   ],
   "source": [
    "!pip install textstat"
   ]
  },
  {
   "cell_type": "code",
   "execution_count": 34,
   "id": "48453390",
   "metadata": {
    "_kg_hide-output": true,
    "execution": {
     "iopub.execute_input": "2022-12-08T07:42:36.738134Z",
     "iopub.status.busy": "2022-12-08T07:42:36.737757Z",
     "iopub.status.idle": "2022-12-08T07:42:48.086112Z",
     "shell.execute_reply": "2022-12-08T07:42:48.084839Z"
    },
    "papermill": {
     "duration": 11.362189,
     "end_time": "2022-12-08T07:42:48.088892",
     "exception": false,
     "start_time": "2022-12-08T07:42:36.726703",
     "status": "completed"
    },
    "tags": []
   },
   "outputs": [
    {
     "name": "stdout",
     "output_type": "stream",
     "text": [
      "Requirement already satisfied: featdist in /opt/anaconda3/envs/demo/lib/python3.11/site-packages (0.1.6)\n",
      "Requirement already satisfied: pandas in /opt/anaconda3/envs/demo/lib/python3.11/site-packages (from featdist) (2.2.2)\n",
      "Requirement already satisfied: numpy in /opt/anaconda3/envs/demo/lib/python3.11/site-packages (from featdist) (1.26.4)\n",
      "Requirement already satisfied: matplotlib in /opt/anaconda3/envs/demo/lib/python3.11/site-packages (from featdist) (3.8.4)\n",
      "Requirement already satisfied: contourpy>=1.0.1 in /opt/anaconda3/envs/demo/lib/python3.11/site-packages (from matplotlib->featdist) (1.2.1)\n",
      "Requirement already satisfied: cycler>=0.10 in /opt/anaconda3/envs/demo/lib/python3.11/site-packages (from matplotlib->featdist) (0.12.1)\n",
      "Requirement already satisfied: fonttools>=4.22.0 in /opt/anaconda3/envs/demo/lib/python3.11/site-packages (from matplotlib->featdist) (4.51.0)\n",
      "Requirement already satisfied: kiwisolver>=1.3.1 in /opt/anaconda3/envs/demo/lib/python3.11/site-packages (from matplotlib->featdist) (1.4.5)\n",
      "Requirement already satisfied: packaging>=20.0 in /opt/anaconda3/envs/demo/lib/python3.11/site-packages (from matplotlib->featdist) (24.0)\n",
      "Requirement already satisfied: pillow>=8 in /opt/anaconda3/envs/demo/lib/python3.11/site-packages (from matplotlib->featdist) (10.3.0)\n",
      "Requirement already satisfied: pyparsing>=2.3.1 in /opt/anaconda3/envs/demo/lib/python3.11/site-packages (from matplotlib->featdist) (3.1.2)\n",
      "Requirement already satisfied: python-dateutil>=2.7 in /opt/anaconda3/envs/demo/lib/python3.11/site-packages (from matplotlib->featdist) (2.9.0.post0)\n",
      "Requirement already satisfied: pytz>=2020.1 in /opt/anaconda3/envs/demo/lib/python3.11/site-packages (from pandas->featdist) (2023.4)\n",
      "Requirement already satisfied: tzdata>=2022.7 in /opt/anaconda3/envs/demo/lib/python3.11/site-packages (from pandas->featdist) (2024.1)\n",
      "Requirement already satisfied: six>=1.5 in /opt/anaconda3/envs/demo/lib/python3.11/site-packages (from python-dateutil>=2.7->matplotlib->featdist) (1.16.0)\n"
     ]
    }
   ],
   "source": [
    "!pip install featdist"
   ]
  },
  {
   "cell_type": "code",
   "execution_count": 35,
   "id": "799aaefa",
   "metadata": {
    "execution": {
     "iopub.execute_input": "2022-12-08T07:42:48.113197Z",
     "iopub.status.busy": "2022-12-08T07:42:48.112797Z",
     "iopub.status.idle": "2022-12-08T07:42:49.332640Z",
     "shell.execute_reply": "2022-12-08T07:42:49.331585Z"
    },
    "papermill": {
     "duration": 1.234504,
     "end_time": "2022-12-08T07:42:49.335272",
     "exception": false,
     "start_time": "2022-12-08T07:42:48.100768",
     "status": "completed"
    },
    "tags": []
   },
   "outputs": [],
   "source": [
    "import pandas as pd\n",
    "import numpy as np\n",
    "import matplotlib.pyplot as plt\n",
    "import seaborn as sns\n",
    "import gc\n",
    "import warnings\n",
    "import datetime as dt\n",
    "import math\n",
    "\n",
    "from featdist import numerical_ttt_dist\n",
    "from featdist import categorical_ttt_dist\n",
    "import textstat\n",
    "\n",
    "np.random.seed(0)\n",
    "warnings.simplefilter(\"ignore\")"
   ]
  },
  {
   "cell_type": "code",
   "execution_count": 36,
   "id": "2ed0a240",
   "metadata": {
    "execution": {
     "iopub.execute_input": "2022-12-08T07:42:49.357162Z",
     "iopub.status.busy": "2022-12-08T07:42:49.356739Z",
     "iopub.status.idle": "2022-12-08T07:42:54.761392Z",
     "shell.execute_reply": "2022-12-08T07:42:54.760596Z"
    },
    "papermill": {
     "duration": 5.4178,
     "end_time": "2022-12-08T07:42:54.763363",
     "exception": false,
     "start_time": "2022-12-08T07:42:49.345563",
     "status": "completed"
    },
    "tags": []
   },
   "outputs": [
    {
     "data": {
      "text/html": [
       "<div>\n",
       "<style scoped>\n",
       "    .dataframe tbody tr th:only-of-type {\n",
       "        vertical-align: middle;\n",
       "    }\n",
       "\n",
       "    .dataframe tbody tr th {\n",
       "        vertical-align: top;\n",
       "    }\n",
       "\n",
       "    .dataframe thead th {\n",
       "        text-align: right;\n",
       "    }\n",
       "</style>\n",
       "<table border=\"1\" class=\"dataframe\">\n",
       "  <thead>\n",
       "    <tr style=\"text-align: right;\">\n",
       "      <th></th>\n",
       "      <th>game_id</th>\n",
       "      <th>nickname</th>\n",
       "      <th>score</th>\n",
       "      <th>rating</th>\n",
       "    </tr>\n",
       "  </thead>\n",
       "  <tbody>\n",
       "    <tr>\n",
       "      <th>0</th>\n",
       "      <td>1</td>\n",
       "      <td>BetterBot</td>\n",
       "      <td>335</td>\n",
       "      <td>1637</td>\n",
       "    </tr>\n",
       "    <tr>\n",
       "      <th>1</th>\n",
       "      <td>1</td>\n",
       "      <td>stevy</td>\n",
       "      <td>429</td>\n",
       "      <td>1500</td>\n",
       "    </tr>\n",
       "    <tr>\n",
       "      <th>2</th>\n",
       "      <td>3</td>\n",
       "      <td>davidavid</td>\n",
       "      <td>440</td>\n",
       "      <td>1811</td>\n",
       "    </tr>\n",
       "    <tr>\n",
       "      <th>3</th>\n",
       "      <td>3</td>\n",
       "      <td>BetterBot</td>\n",
       "      <td>318</td>\n",
       "      <td>2071</td>\n",
       "    </tr>\n",
       "    <tr>\n",
       "      <th>4</th>\n",
       "      <td>4</td>\n",
       "      <td>Inandoutworker</td>\n",
       "      <td>119</td>\n",
       "      <td>1473</td>\n",
       "    </tr>\n",
       "  </tbody>\n",
       "</table>\n",
       "</div>"
      ],
      "text/plain": [
       "   game_id        nickname  score  rating\n",
       "0        1       BetterBot    335    1637\n",
       "1        1           stevy    429    1500\n",
       "2        3       davidavid    440    1811\n",
       "3        3       BetterBot    318    2071\n",
       "4        4  Inandoutworker    119    1473"
      ]
     },
     "metadata": {},
     "output_type": "display_data"
    },
    {
     "data": {
      "text/html": [
       "<div>\n",
       "<style scoped>\n",
       "    .dataframe tbody tr th:only-of-type {\n",
       "        vertical-align: middle;\n",
       "    }\n",
       "\n",
       "    .dataframe tbody tr th {\n",
       "        vertical-align: top;\n",
       "    }\n",
       "\n",
       "    .dataframe thead th {\n",
       "        text-align: right;\n",
       "    }\n",
       "</style>\n",
       "<table border=\"1\" class=\"dataframe\">\n",
       "  <thead>\n",
       "    <tr style=\"text-align: right;\">\n",
       "      <th></th>\n",
       "      <th>game_id</th>\n",
       "      <th>nickname</th>\n",
       "      <th>score</th>\n",
       "      <th>rating</th>\n",
       "    </tr>\n",
       "  </thead>\n",
       "  <tbody>\n",
       "    <tr>\n",
       "      <th>0</th>\n",
       "      <td>2</td>\n",
       "      <td>Super</td>\n",
       "      <td>488</td>\n",
       "      <td>NaN</td>\n",
       "    </tr>\n",
       "    <tr>\n",
       "      <th>1</th>\n",
       "      <td>2</td>\n",
       "      <td>BetterBot</td>\n",
       "      <td>401</td>\n",
       "      <td>2000.0</td>\n",
       "    </tr>\n",
       "    <tr>\n",
       "      <th>2</th>\n",
       "      <td>7</td>\n",
       "      <td>STEEBot</td>\n",
       "      <td>377</td>\n",
       "      <td>2082.0</td>\n",
       "    </tr>\n",
       "    <tr>\n",
       "      <th>3</th>\n",
       "      <td>7</td>\n",
       "      <td>Priya1</td>\n",
       "      <td>379</td>\n",
       "      <td>NaN</td>\n",
       "    </tr>\n",
       "    <tr>\n",
       "      <th>4</th>\n",
       "      <td>11</td>\n",
       "      <td>STEEBot</td>\n",
       "      <td>334</td>\n",
       "      <td>1829.0</td>\n",
       "    </tr>\n",
       "  </tbody>\n",
       "</table>\n",
       "</div>"
      ],
      "text/plain": [
       "   game_id   nickname  score  rating\n",
       "0        2      Super    488     NaN\n",
       "1        2  BetterBot    401  2000.0\n",
       "2        7    STEEBot    377  2082.0\n",
       "3        7     Priya1    379     NaN\n",
       "4       11    STEEBot    334  1829.0"
      ]
     },
     "metadata": {},
     "output_type": "display_data"
    },
    {
     "data": {
      "text/html": [
       "<div>\n",
       "<style scoped>\n",
       "    .dataframe tbody tr th:only-of-type {\n",
       "        vertical-align: middle;\n",
       "    }\n",
       "\n",
       "    .dataframe tbody tr th {\n",
       "        vertical-align: top;\n",
       "    }\n",
       "\n",
       "    .dataframe thead th {\n",
       "        text-align: right;\n",
       "    }\n",
       "</style>\n",
       "<table border=\"1\" class=\"dataframe\">\n",
       "  <thead>\n",
       "    <tr style=\"text-align: right;\">\n",
       "      <th></th>\n",
       "      <th>game_id</th>\n",
       "      <th>turn_number</th>\n",
       "      <th>nickname</th>\n",
       "      <th>rack</th>\n",
       "      <th>location</th>\n",
       "      <th>move</th>\n",
       "      <th>points</th>\n",
       "      <th>score</th>\n",
       "      <th>turn_type</th>\n",
       "    </tr>\n",
       "  </thead>\n",
       "  <tbody>\n",
       "    <tr>\n",
       "      <th>0</th>\n",
       "      <td>1</td>\n",
       "      <td>1</td>\n",
       "      <td>BetterBot</td>\n",
       "      <td>DDEGITT</td>\n",
       "      <td>8G</td>\n",
       "      <td>DIG</td>\n",
       "      <td>10</td>\n",
       "      <td>10</td>\n",
       "      <td>Play</td>\n",
       "    </tr>\n",
       "    <tr>\n",
       "      <th>1</th>\n",
       "      <td>1</td>\n",
       "      <td>2</td>\n",
       "      <td>stevy</td>\n",
       "      <td>AEHOPUX</td>\n",
       "      <td>7H</td>\n",
       "      <td>HAP</td>\n",
       "      <td>18</td>\n",
       "      <td>18</td>\n",
       "      <td>Play</td>\n",
       "    </tr>\n",
       "    <tr>\n",
       "      <th>2</th>\n",
       "      <td>1</td>\n",
       "      <td>3</td>\n",
       "      <td>BetterBot</td>\n",
       "      <td>DEELTTU</td>\n",
       "      <td>6I</td>\n",
       "      <td>LUTE</td>\n",
       "      <td>16</td>\n",
       "      <td>26</td>\n",
       "      <td>Play</td>\n",
       "    </tr>\n",
       "    <tr>\n",
       "      <th>3</th>\n",
       "      <td>1</td>\n",
       "      <td>4</td>\n",
       "      <td>stevy</td>\n",
       "      <td>EMORSUX</td>\n",
       "      <td>5K</td>\n",
       "      <td>UM</td>\n",
       "      <td>16</td>\n",
       "      <td>34</td>\n",
       "      <td>Play</td>\n",
       "    </tr>\n",
       "    <tr>\n",
       "      <th>4</th>\n",
       "      <td>1</td>\n",
       "      <td>5</td>\n",
       "      <td>BetterBot</td>\n",
       "      <td>ACDEITU</td>\n",
       "      <td>L5</td>\n",
       "      <td>..DICATE</td>\n",
       "      <td>28</td>\n",
       "      <td>54</td>\n",
       "      <td>Play</td>\n",
       "    </tr>\n",
       "  </tbody>\n",
       "</table>\n",
       "</div>"
      ],
      "text/plain": [
       "   game_id  turn_number   nickname     rack location      move  points  score  \\\n",
       "0        1            1  BetterBot  DDEGITT       8G       DIG      10     10   \n",
       "1        1            2      stevy  AEHOPUX       7H       HAP      18     18   \n",
       "2        1            3  BetterBot  DEELTTU       6I      LUTE      16     26   \n",
       "3        1            4      stevy  EMORSUX       5K        UM      16     34   \n",
       "4        1            5  BetterBot  ACDEITU       L5  ..DICATE      28     54   \n",
       "\n",
       "  turn_type  \n",
       "0      Play  \n",
       "1      Play  \n",
       "2      Play  \n",
       "3      Play  \n",
       "4      Play  "
      ]
     },
     "metadata": {},
     "output_type": "display_data"
    },
    {
     "data": {
      "text/html": [
       "<div>\n",
       "<style scoped>\n",
       "    .dataframe tbody tr th:only-of-type {\n",
       "        vertical-align: middle;\n",
       "    }\n",
       "\n",
       "    .dataframe tbody tr th {\n",
       "        vertical-align: top;\n",
       "    }\n",
       "\n",
       "    .dataframe thead th {\n",
       "        text-align: right;\n",
       "    }\n",
       "</style>\n",
       "<table border=\"1\" class=\"dataframe\">\n",
       "  <thead>\n",
       "    <tr style=\"text-align: right;\">\n",
       "      <th></th>\n",
       "      <th>game_id</th>\n",
       "      <th>first</th>\n",
       "      <th>time_control_name</th>\n",
       "      <th>game_end_reason</th>\n",
       "      <th>winner</th>\n",
       "      <th>created_at</th>\n",
       "      <th>lexicon</th>\n",
       "      <th>initial_time_seconds</th>\n",
       "      <th>increment_seconds</th>\n",
       "      <th>rating_mode</th>\n",
       "      <th>max_overtime_minutes</th>\n",
       "      <th>game_duration_seconds</th>\n",
       "    </tr>\n",
       "  </thead>\n",
       "  <tbody>\n",
       "    <tr>\n",
       "      <th>0</th>\n",
       "      <td>1</td>\n",
       "      <td>BetterBot</td>\n",
       "      <td>regular</td>\n",
       "      <td>STANDARD</td>\n",
       "      <td>1</td>\n",
       "      <td>2022-08-26 03:38:49</td>\n",
       "      <td>NWL20</td>\n",
       "      <td>1200</td>\n",
       "      <td>0</td>\n",
       "      <td>CASUAL</td>\n",
       "      <td>1</td>\n",
       "      <td>674.844274</td>\n",
       "    </tr>\n",
       "    <tr>\n",
       "      <th>1</th>\n",
       "      <td>2</td>\n",
       "      <td>Super</td>\n",
       "      <td>regular</td>\n",
       "      <td>STANDARD</td>\n",
       "      <td>1</td>\n",
       "      <td>2022-08-10 19:19:59</td>\n",
       "      <td>CSW21</td>\n",
       "      <td>3600</td>\n",
       "      <td>0</td>\n",
       "      <td>RATED</td>\n",
       "      <td>1</td>\n",
       "      <td>364.214418</td>\n",
       "    </tr>\n",
       "    <tr>\n",
       "      <th>2</th>\n",
       "      <td>3</td>\n",
       "      <td>BetterBot</td>\n",
       "      <td>regular</td>\n",
       "      <td>STANDARD</td>\n",
       "      <td>1</td>\n",
       "      <td>2022-09-04 08:04:27</td>\n",
       "      <td>CSW21</td>\n",
       "      <td>900</td>\n",
       "      <td>0</td>\n",
       "      <td>RATED</td>\n",
       "      <td>5</td>\n",
       "      <td>492.268262</td>\n",
       "    </tr>\n",
       "    <tr>\n",
       "      <th>3</th>\n",
       "      <td>4</td>\n",
       "      <td>BetterBot</td>\n",
       "      <td>regular</td>\n",
       "      <td>RESIGNED</td>\n",
       "      <td>0</td>\n",
       "      <td>2022-09-12 02:36:19</td>\n",
       "      <td>CSW21</td>\n",
       "      <td>3600</td>\n",
       "      <td>0</td>\n",
       "      <td>CASUAL</td>\n",
       "      <td>1</td>\n",
       "      <td>350.861141</td>\n",
       "    </tr>\n",
       "    <tr>\n",
       "      <th>4</th>\n",
       "      <td>5</td>\n",
       "      <td>STEEBot</td>\n",
       "      <td>regular</td>\n",
       "      <td>STANDARD</td>\n",
       "      <td>0</td>\n",
       "      <td>2022-09-06 04:31:36</td>\n",
       "      <td>NWL20</td>\n",
       "      <td>1200</td>\n",
       "      <td>0</td>\n",
       "      <td>CASUAL</td>\n",
       "      <td>1</td>\n",
       "      <td>642.688722</td>\n",
       "    </tr>\n",
       "  </tbody>\n",
       "</table>\n",
       "</div>"
      ],
      "text/plain": [
       "   game_id      first time_control_name game_end_reason  winner  \\\n",
       "0        1  BetterBot           regular        STANDARD       1   \n",
       "1        2      Super           regular        STANDARD       1   \n",
       "2        3  BetterBot           regular        STANDARD       1   \n",
       "3        4  BetterBot           regular        RESIGNED       0   \n",
       "4        5    STEEBot           regular        STANDARD       0   \n",
       "\n",
       "            created_at lexicon  initial_time_seconds  increment_seconds  \\\n",
       "0  2022-08-26 03:38:49   NWL20                  1200                  0   \n",
       "1  2022-08-10 19:19:59   CSW21                  3600                  0   \n",
       "2  2022-09-04 08:04:27   CSW21                   900                  0   \n",
       "3  2022-09-12 02:36:19   CSW21                  3600                  0   \n",
       "4  2022-09-06 04:31:36   NWL20                  1200                  0   \n",
       "\n",
       "  rating_mode  max_overtime_minutes  game_duration_seconds  \n",
       "0      CASUAL                     1             674.844274  \n",
       "1       RATED                     1             364.214418  \n",
       "2       RATED                     5             492.268262  \n",
       "3      CASUAL                     1             350.861141  \n",
       "4      CASUAL                     1             642.688722  "
      ]
     },
     "metadata": {},
     "output_type": "display_data"
    },
    {
     "data": {
      "text/html": [
       "<div>\n",
       "<style scoped>\n",
       "    .dataframe tbody tr th:only-of-type {\n",
       "        vertical-align: middle;\n",
       "    }\n",
       "\n",
       "    .dataframe tbody tr th {\n",
       "        vertical-align: top;\n",
       "    }\n",
       "\n",
       "    .dataframe thead th {\n",
       "        text-align: right;\n",
       "    }\n",
       "</style>\n",
       "<table border=\"1\" class=\"dataframe\">\n",
       "  <thead>\n",
       "    <tr style=\"text-align: right;\">\n",
       "      <th></th>\n",
       "      <th>game_id</th>\n",
       "      <th>rating</th>\n",
       "    </tr>\n",
       "  </thead>\n",
       "  <tbody>\n",
       "    <tr>\n",
       "      <th>0</th>\n",
       "      <td>2</td>\n",
       "      <td>1790.322674</td>\n",
       "    </tr>\n",
       "    <tr>\n",
       "      <th>1</th>\n",
       "      <td>7</td>\n",
       "      <td>1790.322674</td>\n",
       "    </tr>\n",
       "    <tr>\n",
       "      <th>2</th>\n",
       "      <td>11</td>\n",
       "      <td>1790.322674</td>\n",
       "    </tr>\n",
       "    <tr>\n",
       "      <th>3</th>\n",
       "      <td>14</td>\n",
       "      <td>1790.322674</td>\n",
       "    </tr>\n",
       "    <tr>\n",
       "      <th>4</th>\n",
       "      <td>27</td>\n",
       "      <td>1790.322674</td>\n",
       "    </tr>\n",
       "  </tbody>\n",
       "</table>\n",
       "</div>"
      ],
      "text/plain": [
       "   game_id       rating\n",
       "0        2  1790.322674\n",
       "1        7  1790.322674\n",
       "2       11  1790.322674\n",
       "3       14  1790.322674\n",
       "4       27  1790.322674"
      ]
     },
     "metadata": {},
     "output_type": "display_data"
    }
   ],
   "source": [
    "train = pd.read_csv(\"../train.csv\")\n",
    "test = pd.read_csv(\"../test.csv\")\n",
    "turns = pd.read_csv(\"../turns.csv\")\n",
    "games = pd.read_csv(\"../games.csv\")\n",
    "sub = pd.read_csv(\"../sample_submission.csv\")\n",
    "\n",
    "display(train.head())\n",
    "display(test.head())\n",
    "display(turns.head())\n",
    "display(games.head())\n",
    "display(sub.head())"
   ]
  },
  {
   "cell_type": "code",
   "execution_count": 37,
   "id": "7bcd8f4c",
   "metadata": {
    "execution": {
     "iopub.execute_input": "2022-12-08T07:42:54.787284Z",
     "iopub.status.busy": "2022-12-08T07:42:54.786908Z",
     "iopub.status.idle": "2022-12-08T07:42:54.793547Z",
     "shell.execute_reply": "2022-12-08T07:42:54.792467Z"
    },
    "papermill": {
     "duration": 0.022382,
     "end_time": "2022-12-08T07:42:54.796845",
     "exception": false,
     "start_time": "2022-12-08T07:42:54.774463",
     "status": "completed"
    },
    "tags": []
   },
   "outputs": [
    {
     "name": "stdout",
     "output_type": "stream",
     "text": [
      "train shape: (100820, 4)\n",
      "test shape: (44726, 4)\n",
      "turns shape: (2005498, 9)\n",
      "games shape: (72773, 12)\n",
      "sub shape: (22363, 2)\n"
     ]
    }
   ],
   "source": [
    "print(\"train shape:\", train.shape)\n",
    "print(\"test shape:\", test.shape)\n",
    "print(\"turns shape:\", turns.shape)\n",
    "print(\"games shape:\", games.shape)\n",
    "print(\"sub shape:\", sub.shape)"
   ]
  },
  {
   "cell_type": "code",
   "execution_count": 38,
   "id": "bbf15400",
   "metadata": {
    "execution": {
     "iopub.execute_input": "2022-12-08T07:42:54.822175Z",
     "iopub.status.busy": "2022-12-08T07:42:54.821780Z",
     "iopub.status.idle": "2022-12-08T07:42:55.313548Z",
     "shell.execute_reply": "2022-12-08T07:42:55.312688Z"
    },
    "papermill": {
     "duration": 0.50689,
     "end_time": "2022-12-08T07:42:55.316502",
     "exception": false,
     "start_time": "2022-12-08T07:42:54.809612",
     "status": "completed"
    },
    "tags": []
   },
   "outputs": [
    {
     "name": "stdout",
     "output_type": "stream",
     "text": [
      "train nan value sum: 0\n",
      "test nan value sum: 22363\n",
      "turns nan value sum: 202478\n",
      "games nan value sum: 0\n"
     ]
    }
   ],
   "source": [
    "print(\"train nan value sum:\", train.isna().sum().sum())\n",
    "print(\"test nan value sum:\", test.isna().sum().sum())\n",
    "print(\"turns nan value sum:\", turns.isna().sum().sum())\n",
    "print(\"games nan value sum:\", games.isna().sum().sum())"
   ]
  },
  {
   "cell_type": "code",
   "execution_count": 39,
   "id": "e9ba6015",
   "metadata": {
    "execution": {
     "iopub.execute_input": "2022-12-08T07:42:55.340354Z",
     "iopub.status.busy": "2022-12-08T07:42:55.339558Z",
     "iopub.status.idle": "2022-12-08T07:42:55.807522Z",
     "shell.execute_reply": "2022-12-08T07:42:55.806365Z"
    },
    "papermill": {
     "duration": 0.482264,
     "end_time": "2022-12-08T07:42:55.809778",
     "exception": false,
     "start_time": "2022-12-08T07:42:55.327514",
     "status": "completed"
    },
    "tags": []
   },
   "outputs": [
    {
     "data": {
      "text/plain": [
       "game_id             0\n",
       "turn_number         0\n",
       "nickname            0\n",
       "rack            69390\n",
       "location       132239\n",
       "move              454\n",
       "points              0\n",
       "score               0\n",
       "turn_type         395\n",
       "dtype: int64"
      ]
     },
     "execution_count": 39,
     "metadata": {},
     "output_type": "execute_result"
    }
   ],
   "source": [
    "turns.isna().sum()"
   ]
  },
  {
   "cell_type": "code",
   "execution_count": 40,
   "id": "8b297716",
   "metadata": {
    "execution": {
     "iopub.execute_input": "2022-12-08T07:42:55.834702Z",
     "iopub.status.busy": "2022-12-08T07:42:55.833278Z",
     "iopub.status.idle": "2022-12-08T07:42:58.435827Z",
     "shell.execute_reply": "2022-12-08T07:42:58.434290Z"
    },
    "papermill": {
     "duration": 2.617618,
     "end_time": "2022-12-08T07:42:58.438615",
     "exception": false,
     "start_time": "2022-12-08T07:42:55.820997",
     "status": "completed"
    },
    "tags": []
   },
   "outputs": [
    {
     "name": "stdout",
     "output_type": "stream",
     "text": [
      "train dublicated value sum: 0\n",
      "test dublicated value sum: 0\n",
      "turns dublicated value sum: 0\n",
      "games dublicated value sum: 0\n"
     ]
    }
   ],
   "source": [
    "print(\"train dublicated value sum:\", train.duplicated().sum().sum())\n",
    "print(\"test dublicated value sum:\", test.duplicated().sum().sum())\n",
    "print(\"turns dublicated value sum:\", turns.duplicated().sum().sum())\n",
    "print(\"games dublicated value sum:\", games.duplicated().sum().sum())"
   ]
  },
  {
   "cell_type": "markdown",
   "id": "36e52563",
   "metadata": {
    "papermill": {
     "duration": 0.010888,
     "end_time": "2022-12-08T07:42:58.461867",
     "exception": false,
     "start_time": "2022-12-08T07:42:58.450979",
     "status": "completed"
    },
    "tags": []
   },
   "source": [
    "# Exploratory Data Analysis"
   ]
  },
  {
   "cell_type": "markdown",
   "id": "84a83cc8",
   "metadata": {
    "papermill": {
     "duration": 0.010827,
     "end_time": "2022-12-08T07:42:58.483852",
     "exception": false,
     "start_time": "2022-12-08T07:42:58.473025",
     "status": "completed"
    },
    "tags": []
   },
   "source": [
    "## Feature Engineering"
   ]
  },
  {
   "cell_type": "code",
   "execution_count": 41,
   "id": "ff252cae",
   "metadata": {
    "_kg_hide-input": true,
    "execution": {
     "iopub.execute_input": "2022-12-08T07:42:58.508700Z",
     "iopub.status.busy": "2022-12-08T07:42:58.508301Z",
     "iopub.status.idle": "2022-12-08T07:42:58.522467Z",
     "shell.execute_reply": "2022-12-08T07:42:58.521303Z"
    },
    "papermill": {
     "duration": 0.02939,
     "end_time": "2022-12-08T07:42:58.524498",
     "exception": false,
     "start_time": "2022-12-08T07:42:58.495108",
     "status": "completed"
    },
    "tags": []
   },
   "outputs": [],
   "source": [
    "def fe_turns(df):\n",
    "    df[\"rack_len\"] = df[\"rack\"].str.len()\n",
    "    df[\"move_len\"] = df[\"move\"].str.len()\n",
    "    df[\"move\"].fillna(\"None\",inplace=True)\n",
    "    df[\"difficult_word\"] = df[\"move\"].apply(textstat.difficult_words)\n",
    "    \n",
    "    # FE ref: https://www.kaggle.com/code/ijcrook/full-walkthrough-eda-fe-model-tuning\n",
    "    df[\"rack_len_less_than_7\"] = df[\"rack_len\"].apply(lambda x : x <7)\n",
    "    rare_letters = [\"Z\", \"Q\", \"J\", \"X\", \"K\", \"V\", \"Y\", \"W\", \"G\"]\n",
    "    df[\"difficult_letters\"] = df[\"move\"].apply(lambda x: len([letter for letter in x if letter in rare_letters]))\n",
    "    df[\"points_per_letter\"] = df[\"points\"]/df[\"move_len\"]\n",
    "    df[\"direction_of_play\"] = df[\"location\"].apply(lambda x: 1 if str(x)[0].isdigit() else 0)\n",
    "    df[\"curr_board_pieces_used\"] = df[\"move\"].apply(lambda x: str(x).count(\".\") + sum(int(c.islower()) for c in str(x)))\n",
    "    #\n",
    "    \n",
    "    df[\"turn_type\"].fillna(\"None\",inplace=True)\n",
    "    turn_type_unique = df[\"turn_type\"].unique()\n",
    "    df = pd.get_dummies(df, columns=[\"turn_type\"])\n",
    "    dummy_features = [f\"turn_type_{value}\" for value in turn_type_unique]\n",
    "    \n",
    "    char_map = {\n",
    "        'A': 1, 'B': 2, 'C': 3, 'D': 4, 'E': 5, 'F': 6, 'G': 7, 'H': 8,\n",
    "        'I': 9, 'J': 10, 'K': 11, 'L': 12, 'M': 13, 'N': 14, 'O': 15,\n",
    "    }\n",
    "    df[\"loc_nan\"] = df[\"location\"].isna()\n",
    "    df['y'] = df[\"location\"].str.extract('(\\d+)')[0].values\n",
    "    df['y'].fillna(\"0\",inplace=True)\n",
    "    df[\"y\"] = df[\"y\"].astype(int)\n",
    "    \n",
    "    df[\"x\"] = df[\"location\"].str.extract('([A-Z])')[0].values\n",
    "    df[\"x\"].replace(char_map, inplace=True)\n",
    "    df['y'].fillna(\"0\",inplace=True)\n",
    "    df[\"y\"] = df[\"y\"].astype(int)\n",
    "    \n",
    "    return df, dummy_features"
   ]
  },
  {
   "cell_type": "code",
   "execution_count": 42,
   "id": "46b3e188",
   "metadata": {
    "execution": {
     "iopub.execute_input": "2022-12-08T07:42:58.549310Z",
     "iopub.status.busy": "2022-12-08T07:42:58.548193Z",
     "iopub.status.idle": "2022-12-08T07:43:48.142652Z",
     "shell.execute_reply": "2022-12-08T07:43:48.141326Z"
    },
    "papermill": {
     "duration": 49.621989,
     "end_time": "2022-12-08T07:43:48.157880",
     "exception": false,
     "start_time": "2022-12-08T07:42:58.535891",
     "status": "completed"
    },
    "tags": []
   },
   "outputs": [
    {
     "name": "stdout",
     "output_type": "stream",
     "text": [
      "turns_group_bot.shape: (72773, 66)\n",
      "turns_group_player.shape: (72773, 66)\n",
      "turns_group_all.shape: (72773, 132)\n"
     ]
    },
    {
     "data": {
      "text/html": [
       "<div>\n",
       "<style scoped>\n",
       "    .dataframe tbody tr th:only-of-type {\n",
       "        vertical-align: middle;\n",
       "    }\n",
       "\n",
       "    .dataframe tbody tr th {\n",
       "        vertical-align: top;\n",
       "    }\n",
       "\n",
       "    .dataframe thead th {\n",
       "        text-align: right;\n",
       "    }\n",
       "</style>\n",
       "<table border=\"1\" class=\"dataframe\">\n",
       "  <thead>\n",
       "    <tr style=\"text-align: right;\">\n",
       "      <th></th>\n",
       "      <th>game_id_</th>\n",
       "      <th>nickname_</th>\n",
       "      <th>points_mean</th>\n",
       "      <th>points_sum</th>\n",
       "      <th>points_max</th>\n",
       "      <th>score_mean</th>\n",
       "      <th>score_sum</th>\n",
       "      <th>score_max</th>\n",
       "      <th>rack_len_mean</th>\n",
       "      <th>rack_len_sum</th>\n",
       "      <th>...</th>\n",
       "      <th>turn_type_Challenge_mean_bot</th>\n",
       "      <th>turn_type_Challenge_sum_bot</th>\n",
       "      <th>turn_type_Challenge_max_bot</th>\n",
       "      <th>turn_type_Six-Zero Rule_mean_bot</th>\n",
       "      <th>turn_type_Six-Zero Rule_sum_bot</th>\n",
       "      <th>turn_type_Six-Zero Rule_max_bot</th>\n",
       "      <th>turn_type_None_mean_bot</th>\n",
       "      <th>turn_type_None_sum_bot</th>\n",
       "      <th>turn_type_None_max_bot</th>\n",
       "      <th>game_count_count_bot</th>\n",
       "    </tr>\n",
       "  </thead>\n",
       "  <tbody>\n",
       "    <tr>\n",
       "      <th>0</th>\n",
       "      <td>1</td>\n",
       "      <td>stevy</td>\n",
       "      <td>30.642857</td>\n",
       "      <td>429</td>\n",
       "      <td>98</td>\n",
       "      <td>256.500000</td>\n",
       "      <td>3591</td>\n",
       "      <td>429</td>\n",
       "      <td>6.538462</td>\n",
       "      <td>85.0</td>\n",
       "      <td>...</td>\n",
       "      <td>0.0</td>\n",
       "      <td>0</td>\n",
       "      <td>False</td>\n",
       "      <td>0.0</td>\n",
       "      <td>0</td>\n",
       "      <td>False</td>\n",
       "      <td>0.0</td>\n",
       "      <td>0</td>\n",
       "      <td>False</td>\n",
       "      <td>13</td>\n",
       "    </tr>\n",
       "    <tr>\n",
       "      <th>1</th>\n",
       "      <td>2</td>\n",
       "      <td>Super</td>\n",
       "      <td>34.857143</td>\n",
       "      <td>488</td>\n",
       "      <td>94</td>\n",
       "      <td>282.285714</td>\n",
       "      <td>3952</td>\n",
       "      <td>488</td>\n",
       "      <td>7.000000</td>\n",
       "      <td>91.0</td>\n",
       "      <td>...</td>\n",
       "      <td>0.0</td>\n",
       "      <td>0</td>\n",
       "      <td>False</td>\n",
       "      <td>0.0</td>\n",
       "      <td>0</td>\n",
       "      <td>False</td>\n",
       "      <td>0.0</td>\n",
       "      <td>0</td>\n",
       "      <td>False</td>\n",
       "      <td>12</td>\n",
       "    </tr>\n",
       "    <tr>\n",
       "      <th>2</th>\n",
       "      <td>3</td>\n",
       "      <td>davidavid</td>\n",
       "      <td>31.428571</td>\n",
       "      <td>440</td>\n",
       "      <td>103</td>\n",
       "      <td>231.714286</td>\n",
       "      <td>3244</td>\n",
       "      <td>440</td>\n",
       "      <td>6.692308</td>\n",
       "      <td>87.0</td>\n",
       "      <td>...</td>\n",
       "      <td>0.0</td>\n",
       "      <td>0</td>\n",
       "      <td>False</td>\n",
       "      <td>0.0</td>\n",
       "      <td>0</td>\n",
       "      <td>False</td>\n",
       "      <td>0.0</td>\n",
       "      <td>0</td>\n",
       "      <td>False</td>\n",
       "      <td>13</td>\n",
       "    </tr>\n",
       "    <tr>\n",
       "      <th>3</th>\n",
       "      <td>4</td>\n",
       "      <td>Inandoutworker</td>\n",
       "      <td>8.500000</td>\n",
       "      <td>119</td>\n",
       "      <td>26</td>\n",
       "      <td>85.000000</td>\n",
       "      <td>1190</td>\n",
       "      <td>119</td>\n",
       "      <td>7.000000</td>\n",
       "      <td>98.0</td>\n",
       "      <td>...</td>\n",
       "      <td>0.0</td>\n",
       "      <td>0</td>\n",
       "      <td>False</td>\n",
       "      <td>0.0</td>\n",
       "      <td>0</td>\n",
       "      <td>False</td>\n",
       "      <td>0.0</td>\n",
       "      <td>0</td>\n",
       "      <td>False</td>\n",
       "      <td>15</td>\n",
       "    </tr>\n",
       "    <tr>\n",
       "      <th>4</th>\n",
       "      <td>5</td>\n",
       "      <td>stevy</td>\n",
       "      <td>20.312500</td>\n",
       "      <td>325</td>\n",
       "      <td>51</td>\n",
       "      <td>203.312500</td>\n",
       "      <td>3253</td>\n",
       "      <td>325</td>\n",
       "      <td>6.466667</td>\n",
       "      <td>97.0</td>\n",
       "      <td>...</td>\n",
       "      <td>0.0</td>\n",
       "      <td>0</td>\n",
       "      <td>False</td>\n",
       "      <td>0.0</td>\n",
       "      <td>0</td>\n",
       "      <td>False</td>\n",
       "      <td>0.0</td>\n",
       "      <td>0</td>\n",
       "      <td>False</td>\n",
       "      <td>15</td>\n",
       "    </tr>\n",
       "  </tbody>\n",
       "</table>\n",
       "<p>5 rows × 132 columns</p>\n",
       "</div>"
      ],
      "text/plain": [
       "   game_id_       nickname_  points_mean  points_sum  points_max  score_mean  \\\n",
       "0         1           stevy    30.642857         429          98  256.500000   \n",
       "1         2           Super    34.857143         488          94  282.285714   \n",
       "2         3       davidavid    31.428571         440         103  231.714286   \n",
       "3         4  Inandoutworker     8.500000         119          26   85.000000   \n",
       "4         5           stevy    20.312500         325          51  203.312500   \n",
       "\n",
       "   score_sum  score_max  rack_len_mean  rack_len_sum  ...  \\\n",
       "0       3591        429       6.538462          85.0  ...   \n",
       "1       3952        488       7.000000          91.0  ...   \n",
       "2       3244        440       6.692308          87.0  ...   \n",
       "3       1190        119       7.000000          98.0  ...   \n",
       "4       3253        325       6.466667          97.0  ...   \n",
       "\n",
       "   turn_type_Challenge_mean_bot  turn_type_Challenge_sum_bot  \\\n",
       "0                           0.0                            0   \n",
       "1                           0.0                            0   \n",
       "2                           0.0                            0   \n",
       "3                           0.0                            0   \n",
       "4                           0.0                            0   \n",
       "\n",
       "   turn_type_Challenge_max_bot  turn_type_Six-Zero Rule_mean_bot  \\\n",
       "0                        False                               0.0   \n",
       "1                        False                               0.0   \n",
       "2                        False                               0.0   \n",
       "3                        False                               0.0   \n",
       "4                        False                               0.0   \n",
       "\n",
       "   turn_type_Six-Zero Rule_sum_bot  turn_type_Six-Zero Rule_max_bot  \\\n",
       "0                                0                            False   \n",
       "1                                0                            False   \n",
       "2                                0                            False   \n",
       "3                                0                            False   \n",
       "4                                0                            False   \n",
       "\n",
       "   turn_type_None_mean_bot  turn_type_None_sum_bot  turn_type_None_max_bot  \\\n",
       "0                      0.0                       0                   False   \n",
       "1                      0.0                       0                   False   \n",
       "2                      0.0                       0                   False   \n",
       "3                      0.0                       0                   False   \n",
       "4                      0.0                       0                   False   \n",
       "\n",
       "   game_count_count_bot  \n",
       "0                    13  \n",
       "1                    12  \n",
       "2                    13  \n",
       "3                    15  \n",
       "4                    15  \n",
       "\n",
       "[5 rows x 132 columns]"
      ]
     },
     "execution_count": 42,
     "metadata": {},
     "output_type": "execute_result"
    }
   ],
   "source": [
    "turns_fe, dummy_features = fe_turns(turns.copy())\n",
    "turns_fe[\"game_count\"] = turns_fe[\"game_id\"]\n",
    "\n",
    "agg_features = [\"points\", \"score\", \"rack_len\", \"move_len\", \"difficult_word\", \"loc_nan\", \"x\", \"y\", \n",
    "                 \"rack_len_less_than_7\", \"difficult_letters\", \"points_per_letter\", \"direction_of_play\", \n",
    "                 \"curr_board_pieces_used\"] + dummy_features\n",
    "agg_func = {feature:['mean', 'sum', 'max'] for feature in agg_features}\n",
    "agg_func[\"game_count\"] = \"count\"\n",
    "    \n",
    "turns_group = turns_fe.groupby([\"game_id\", \"nickname\"], as_index=False).agg(agg_func)\n",
    "turns_group.columns = ['_'.join(col) for col in turns_group.columns]\n",
    "turns_group_bot = turns_group[turns_group[\"nickname_\"].isin([\"BetterBot\", \"STEEBot\", \"HastyBot\"])]\n",
    "turns_group_bot.columns = [col+'_bot' for col in turns_group_bot.columns]\n",
    "turns_group_player = turns_group[~turns_group[\"nickname_\"].isin([\"BetterBot\", \"STEEBot\", \"HastyBot\"])]\n",
    "print(\"turns_group_bot.shape:\",turns_group_bot.shape)\n",
    "print(\"turns_group_player.shape:\",turns_group_player.shape)\n",
    "turns_group_all = pd.concat([turns_group_player.reset_index(), turns_group_bot.reset_index()], axis=1, ignore_index=False)\n",
    "turns_group_all.drop(\"index\", axis=1, inplace=True)\n",
    "print(\"turns_group_all.shape:\",turns_group_all.shape)\n",
    "turns_group_all.head()"
   ]
  },
  {
   "cell_type": "code",
   "execution_count": 43,
   "id": "666cdbac",
   "metadata": {
    "_kg_hide-input": true,
    "execution": {
     "iopub.execute_input": "2022-12-08T07:43:48.183871Z",
     "iopub.status.busy": "2022-12-08T07:43:48.183373Z",
     "iopub.status.idle": "2022-12-08T07:43:48.192659Z",
     "shell.execute_reply": "2022-12-08T07:43:48.191392Z"
    },
    "papermill": {
     "duration": 0.02575,
     "end_time": "2022-12-08T07:43:48.195639",
     "exception": false,
     "start_time": "2022-12-08T07:43:48.169889",
     "status": "completed"
    },
    "tags": []
   },
   "outputs": [],
   "source": [
    "def feature_agg(df, turns_group, games):\n",
    "    df_bot = df[df[\"nickname\"].isin([\"BetterBot\", \"STEEBot\", \"HastyBot\"])]\n",
    "    \n",
    "    df[\"nickname_count\"] = df[\"nickname\"].replace(df[\"nickname\"].value_counts())\n",
    "    df = df.merge(turns_group, left_on=[\"game_id\", \"nickname\"], right_on=[\"game_id_\", \"nickname_\"], how='inner', suffixes=[\"\", \"_agg\"])\n",
    "    df = df.merge(df_bot, left_on=[\"game_id\"], right_on=[\"game_id\"], how='left', suffixes=[\"\", \"_bot\"])\n",
    "    df.drop([\"game_id_\", \"nickname_\", \"nickname_bot\", \"game_id__bot\"], axis=1,inplace=True)\n",
    "    \n",
    "    games[\"created_at\"] = pd.to_datetime(games[\"created_at\"])\n",
    "    df = df.merge(games, left_on=\"game_id\", right_on='game_id', how='left')\n",
    "    df[\"first\"] = df[\"first\"] == df[\"nickname\"]\n",
    "    df[\"first\"] = df[\"first\"].astype(int)\n",
    "    df[\"winner\"] = df[\"winner\"] == df[\"first\"]\n",
    "    df[\"winner\"] = df[\"winner\"].astype(int)\n",
    "    return df"
   ]
  },
  {
   "cell_type": "code",
   "execution_count": 44,
   "id": "c5c039da",
   "metadata": {
    "execution": {
     "iopub.execute_input": "2022-12-08T07:43:48.222053Z",
     "iopub.status.busy": "2022-12-08T07:43:48.221632Z",
     "iopub.status.idle": "2022-12-08T07:43:54.269922Z",
     "shell.execute_reply": "2022-12-08T07:43:54.268989Z"
    },
    "papermill": {
     "duration": 6.06399,
     "end_time": "2022-12-08T07:43:54.272283",
     "exception": false,
     "start_time": "2022-12-08T07:43:48.208293",
     "status": "completed"
    },
    "tags": []
   },
   "outputs": [
    {
     "data": {
      "text/html": [
       "<div>\n",
       "<style scoped>\n",
       "    .dataframe tbody tr th:only-of-type {\n",
       "        vertical-align: middle;\n",
       "    }\n",
       "\n",
       "    .dataframe tbody tr th {\n",
       "        vertical-align: top;\n",
       "    }\n",
       "\n",
       "    .dataframe thead th {\n",
       "        text-align: right;\n",
       "    }\n",
       "</style>\n",
       "<table border=\"1\" class=\"dataframe\">\n",
       "  <thead>\n",
       "    <tr style=\"text-align: right;\">\n",
       "      <th></th>\n",
       "      <th>game_id</th>\n",
       "      <th>nickname</th>\n",
       "      <th>score</th>\n",
       "      <th>rating</th>\n",
       "      <th>nickname_count</th>\n",
       "      <th>points_mean</th>\n",
       "      <th>points_sum</th>\n",
       "      <th>points_max</th>\n",
       "      <th>score_mean</th>\n",
       "      <th>score_sum</th>\n",
       "      <th>...</th>\n",
       "      <th>time_control_name</th>\n",
       "      <th>game_end_reason</th>\n",
       "      <th>winner</th>\n",
       "      <th>created_at</th>\n",
       "      <th>lexicon</th>\n",
       "      <th>initial_time_seconds</th>\n",
       "      <th>increment_seconds</th>\n",
       "      <th>rating_mode</th>\n",
       "      <th>max_overtime_minutes</th>\n",
       "      <th>game_duration_seconds</th>\n",
       "    </tr>\n",
       "  </thead>\n",
       "  <tbody>\n",
       "    <tr>\n",
       "      <th>0</th>\n",
       "      <td>1</td>\n",
       "      <td>stevy</td>\n",
       "      <td>429</td>\n",
       "      <td>1500</td>\n",
       "      <td>410</td>\n",
       "      <td>30.642857</td>\n",
       "      <td>429</td>\n",
       "      <td>98</td>\n",
       "      <td>256.500000</td>\n",
       "      <td>3591</td>\n",
       "      <td>...</td>\n",
       "      <td>regular</td>\n",
       "      <td>STANDARD</td>\n",
       "      <td>0</td>\n",
       "      <td>2022-08-26 03:38:49</td>\n",
       "      <td>NWL20</td>\n",
       "      <td>1200</td>\n",
       "      <td>0</td>\n",
       "      <td>CASUAL</td>\n",
       "      <td>1</td>\n",
       "      <td>674.844274</td>\n",
       "    </tr>\n",
       "    <tr>\n",
       "      <th>1</th>\n",
       "      <td>3</td>\n",
       "      <td>davidavid</td>\n",
       "      <td>440</td>\n",
       "      <td>1811</td>\n",
       "      <td>254</td>\n",
       "      <td>31.428571</td>\n",
       "      <td>440</td>\n",
       "      <td>103</td>\n",
       "      <td>231.714286</td>\n",
       "      <td>3244</td>\n",
       "      <td>...</td>\n",
       "      <td>regular</td>\n",
       "      <td>STANDARD</td>\n",
       "      <td>0</td>\n",
       "      <td>2022-09-04 08:04:27</td>\n",
       "      <td>CSW21</td>\n",
       "      <td>900</td>\n",
       "      <td>0</td>\n",
       "      <td>RATED</td>\n",
       "      <td>5</td>\n",
       "      <td>492.268262</td>\n",
       "    </tr>\n",
       "    <tr>\n",
       "      <th>2</th>\n",
       "      <td>4</td>\n",
       "      <td>Inandoutworker</td>\n",
       "      <td>119</td>\n",
       "      <td>1473</td>\n",
       "      <td>205</td>\n",
       "      <td>8.500000</td>\n",
       "      <td>119</td>\n",
       "      <td>26</td>\n",
       "      <td>85.000000</td>\n",
       "      <td>1190</td>\n",
       "      <td>...</td>\n",
       "      <td>regular</td>\n",
       "      <td>RESIGNED</td>\n",
       "      <td>1</td>\n",
       "      <td>2022-09-12 02:36:19</td>\n",
       "      <td>CSW21</td>\n",
       "      <td>3600</td>\n",
       "      <td>0</td>\n",
       "      <td>CASUAL</td>\n",
       "      <td>1</td>\n",
       "      <td>350.861141</td>\n",
       "    </tr>\n",
       "    <tr>\n",
       "      <th>3</th>\n",
       "      <td>5</td>\n",
       "      <td>stevy</td>\n",
       "      <td>325</td>\n",
       "      <td>1500</td>\n",
       "      <td>410</td>\n",
       "      <td>20.312500</td>\n",
       "      <td>325</td>\n",
       "      <td>51</td>\n",
       "      <td>203.312500</td>\n",
       "      <td>3253</td>\n",
       "      <td>...</td>\n",
       "      <td>regular</td>\n",
       "      <td>STANDARD</td>\n",
       "      <td>1</td>\n",
       "      <td>2022-09-06 04:31:36</td>\n",
       "      <td>NWL20</td>\n",
       "      <td>1200</td>\n",
       "      <td>0</td>\n",
       "      <td>CASUAL</td>\n",
       "      <td>1</td>\n",
       "      <td>642.688722</td>\n",
       "    </tr>\n",
       "    <tr>\n",
       "      <th>4</th>\n",
       "      <td>6</td>\n",
       "      <td>HivinD</td>\n",
       "      <td>378</td>\n",
       "      <td>2029</td>\n",
       "      <td>592</td>\n",
       "      <td>31.500000</td>\n",
       "      <td>378</td>\n",
       "      <td>74</td>\n",
       "      <td>184.333333</td>\n",
       "      <td>2212</td>\n",
       "      <td>...</td>\n",
       "      <td>regular</td>\n",
       "      <td>STANDARD</td>\n",
       "      <td>0</td>\n",
       "      <td>2022-08-21 14:56:35</td>\n",
       "      <td>CSW21</td>\n",
       "      <td>900</td>\n",
       "      <td>0</td>\n",
       "      <td>RATED</td>\n",
       "      <td>1</td>\n",
       "      <td>426.950541</td>\n",
       "    </tr>\n",
       "  </tbody>\n",
       "</table>\n",
       "<p>5 rows × 147 columns</p>\n",
       "</div>"
      ],
      "text/plain": [
       "   game_id        nickname  score  rating  nickname_count  points_mean  \\\n",
       "0        1           stevy    429    1500             410    30.642857   \n",
       "1        3       davidavid    440    1811             254    31.428571   \n",
       "2        4  Inandoutworker    119    1473             205     8.500000   \n",
       "3        5           stevy    325    1500             410    20.312500   \n",
       "4        6          HivinD    378    2029             592    31.500000   \n",
       "\n",
       "   points_sum  points_max  score_mean  score_sum  ...  time_control_name  \\\n",
       "0         429          98  256.500000       3591  ...            regular   \n",
       "1         440         103  231.714286       3244  ...            regular   \n",
       "2         119          26   85.000000       1190  ...            regular   \n",
       "3         325          51  203.312500       3253  ...            regular   \n",
       "4         378          74  184.333333       2212  ...            regular   \n",
       "\n",
       "   game_end_reason  winner          created_at  lexicon  initial_time_seconds  \\\n",
       "0         STANDARD       0 2022-08-26 03:38:49    NWL20                  1200   \n",
       "1         STANDARD       0 2022-09-04 08:04:27    CSW21                   900   \n",
       "2         RESIGNED       1 2022-09-12 02:36:19    CSW21                  3600   \n",
       "3         STANDARD       1 2022-09-06 04:31:36    NWL20                  1200   \n",
       "4         STANDARD       0 2022-08-21 14:56:35    CSW21                   900   \n",
       "\n",
       "   increment_seconds  rating_mode  max_overtime_minutes  game_duration_seconds  \n",
       "0                  0       CASUAL                     1             674.844274  \n",
       "1                  0        RATED                     5             492.268262  \n",
       "2                  0       CASUAL                     1             350.861141  \n",
       "3                  0       CASUAL                     1             642.688722  \n",
       "4                  0        RATED                     1             426.950541  \n",
       "\n",
       "[5 rows x 147 columns]"
      ]
     },
     "execution_count": 44,
     "metadata": {},
     "output_type": "execute_result"
    }
   ],
   "source": [
    "train_fe = feature_agg(train, turns_group_all, games)\n",
    "test_fe = feature_agg(test, turns_group_all, games)\n",
    "train_fe.head()"
   ]
  },
  {
   "cell_type": "code",
   "execution_count": 45,
   "id": "afc86b28",
   "metadata": {
    "execution": {
     "iopub.execute_input": "2022-12-08T07:43:54.298951Z",
     "iopub.status.busy": "2022-12-08T07:43:54.298509Z",
     "iopub.status.idle": "2022-12-08T07:43:54.495265Z",
     "shell.execute_reply": "2022-12-08T07:43:54.493913Z"
    },
    "papermill": {
     "duration": 0.212872,
     "end_time": "2022-12-08T07:43:54.497845",
     "exception": false,
     "start_time": "2022-12-08T07:43:54.284973",
     "status": "completed"
    },
    "tags": []
   },
   "outputs": [
    {
     "name": "stdout",
     "output_type": "stream",
     "text": [
      "bad_features len: 9\n"
     ]
    }
   ],
   "source": [
    "bad_features = []\n",
    "for f in train_fe.columns:\n",
    "    if train_fe[f].nunique() < 2:\n",
    "        bad_features.append(f)\n",
    "\n",
    "print(\"bad_features len:\",len(bad_features))\n",
    "train_fe.drop(bad_features, axis=1, inplace=True)\n",
    "test_fe.drop(bad_features, axis=1, inplace=True)"
   ]
  },
  {
   "cell_type": "code",
   "execution_count": 46,
   "id": "9dfa819f",
   "metadata": {
    "execution": {
     "iopub.execute_input": "2022-12-08T07:43:54.524950Z",
     "iopub.status.busy": "2022-12-08T07:43:54.524511Z",
     "iopub.status.idle": "2022-12-08T07:43:55.083392Z",
     "shell.execute_reply": "2022-12-08T07:43:55.082074Z"
    },
    "papermill": {
     "duration": 0.575799,
     "end_time": "2022-12-08T07:43:55.086628",
     "exception": false,
     "start_time": "2022-12-08T07:43:54.510829",
     "status": "completed"
    },
    "tags": []
   },
   "outputs": [],
   "source": [
    "train_fe.fillna(0, inplace=True)\n",
    "test_fe.fillna(0, inplace=True)"
   ]
  },
  {
   "cell_type": "code",
   "execution_count": 47,
   "id": "ef0ff641",
   "metadata": {
    "execution": {
     "iopub.execute_input": "2022-12-08T07:43:55.115347Z",
     "iopub.status.busy": "2022-12-08T07:43:55.114977Z",
     "iopub.status.idle": "2022-12-08T07:43:55.304206Z",
     "shell.execute_reply": "2022-12-08T07:43:55.303076Z"
    },
    "papermill": {
     "duration": 0.206587,
     "end_time": "2022-12-08T07:43:55.306921",
     "exception": false,
     "start_time": "2022-12-08T07:43:55.100334",
     "status": "completed"
    },
    "tags": []
   },
   "outputs": [],
   "source": [
    "train_fe.to_feather(\"train_fe.feather\")\n",
    "test_fe.to_feather(\"test_fe.feather\")"
   ]
  },
  {
   "cell_type": "markdown",
   "id": "0cf72254",
   "metadata": {
    "papermill": {
     "duration": 0.011874,
     "end_time": "2022-12-08T07:43:55.331163",
     "exception": false,
     "start_time": "2022-12-08T07:43:55.319289",
     "status": "completed"
    },
    "tags": []
   },
   "source": [
    "## Distributions"
   ]
  },
  {
   "cell_type": "code",
   "execution_count": 48,
   "id": "4106171f",
   "metadata": {
    "execution": {
     "iopub.execute_input": "2022-12-08T07:43:55.359104Z",
     "iopub.status.busy": "2022-12-08T07:43:55.358714Z",
     "iopub.status.idle": "2022-12-08T07:43:55.838714Z",
     "shell.execute_reply": "2022-12-08T07:43:55.837440Z"
    },
    "papermill": {
     "duration": 0.497605,
     "end_time": "2022-12-08T07:43:55.841696",
     "exception": false,
     "start_time": "2022-12-08T07:43:55.344091",
     "status": "completed"
    },
    "tags": []
   },
   "outputs": [
    {
     "data": {
      "image/png": "[encoded data removed]",
      "text/plain": [
       "<Figure size 1600x800 with 1 Axes>"
      ]
     },
     "metadata": {},
     "output_type": "display_data"
    }
   ],
   "source": [
    "fig, ax = plt.subplots(figsize=(16,8))\n",
    "sns.histplot(data=train_fe, x=\"rating\", ax=ax);\n",
    "ax.axvline(1500, color=\"tab:red\", linewidth=5, linestyle=\"--\");\n",
    "ax.text(1510, 5000, \"Anomaly\", fontsize=20,color=\"tab:red\");\n",
    "ax.set_title(\"Target Hist\");"
   ]
  },
  {
   "cell_type": "code",
   "execution_count": 49,
   "id": "5446d249",
   "metadata": {
    "execution": {
     "iopub.execute_input": "2022-12-08T07:43:55.871454Z",
     "iopub.status.busy": "2022-12-08T07:43:55.871001Z",
     "iopub.status.idle": "2022-12-08T07:43:55.904272Z",
     "shell.execute_reply": "2022-12-08T07:43:55.902488Z"
    },
    "papermill": {
     "duration": 0.051477,
     "end_time": "2022-12-08T07:43:55.907296",
     "exception": false,
     "start_time": "2022-12-08T07:43:55.855819",
     "status": "completed"
    },
    "tags": []
   },
   "outputs": [
    {
     "name": "stdout",
     "output_type": "stream",
     "text": [
      "num_features len: 113\n",
      "bool_features len: 17\n",
      "cat_features len: 6\n"
     ]
    }
   ],
   "source": [
    "numerics = ['int16', 'int32', 'int64', 'float16', 'float32', 'float64', 'uint8']\n",
    "num_features = train_fe.select_dtypes(include=numerics).columns.tolist()\n",
    "num_features.remove(\"rating\")\n",
    "bool_features = train_fe.select_dtypes(include=[\"bool\"]).columns.tolist()\n",
    "cat_features = train_fe.select_dtypes(include=[\"object\"]).columns.tolist()\n",
    "\n",
    "print(\"num_features len:\",len(num_features))\n",
    "print(\"bool_features len:\",len(bool_features))\n",
    "print(\"cat_features len:\",len(cat_features))"
   ]
  },
  {
   "cell_type": "code",
   "execution_count": 50,
   "id": "d9c380b3",
   "metadata": {
    "execution": {
     "iopub.execute_input": "2022-12-08T07:43:55.936566Z",
     "iopub.status.busy": "2022-12-08T07:43:55.936045Z",
     "iopub.status.idle": "2022-12-08T07:43:56.029232Z",
     "shell.execute_reply": "2022-12-08T07:43:56.027494Z"
    },
    "papermill": {
     "duration": 0.110711,
     "end_time": "2022-12-08T07:43:56.032229",
     "exception": false,
     "start_time": "2022-12-08T07:43:55.921518",
     "status": "completed"
    },
    "tags": []
   },
   "outputs": [
    {
     "name": "stdout",
     "output_type": "stream",
     "text": [
      "num_features_bins len: 90\n",
      "less_bins: ['difficult_word_sum', 'difficult_word_max', 'difficult_letters_max', 'direction_of_play_max', 'turn_type_End_sum', 'turn_type_Timeout_sum', 'turn_type_Six-Zero Rule_sum', 'turn_type_None_sum', 'difficult_word_max_bot', 'x_max_bot', 'y_max_bot', 'difficult_letters_max_bot', 'direction_of_play_max_bot', 'turn_type_End_sum_bot', 'turn_type_Exchange_sum_bot', 'turn_type_Pass_sum_bot', 'turn_type_Six-Zero Rule_sum_bot', 'turn_type_None_mean_bot', 'turn_type_None_sum_bot', 'first', 'winner', 'increment_seconds', 'max_overtime_minutes']\n"
     ]
    }
   ],
   "source": [
    "NBINS = 11\n",
    "num_features_bins = []\n",
    "less_bins = []\n",
    "for f in num_features:\n",
    "    if train_fe[f].nunique() >= NBINS:\n",
    "        num_features_bins.append(f)\n",
    "    else:\n",
    "        less_bins.append(f)\n",
    "print(\"num_features_bins len:\",len(num_features_bins))\n",
    "print(\"less_bins:\", less_bins)"
   ]
  },
  {
   "cell_type": "code",
   "execution_count": null,
   "id": "1e0ba403",
   "metadata": {
    "execution": {
     "iopub.execute_input": "2022-12-08T07:43:56.060315Z",
     "iopub.status.busy": "2022-12-08T07:43:56.059906Z",
     "iopub.status.idle": "2022-12-08T07:44:23.197840Z",
     "shell.execute_reply": "2022-12-08T07:44:23.196696Z"
    },
    "papermill": {
     "duration": 27.155271,
     "end_time": "2022-12-08T07:44:23.200493",
     "exception": false,
     "start_time": "2022-12-08T07:43:56.045222",
     "status": "completed"
    },
    "tags": []
   },
   "outputs": [],
   "source": []
  },
  {
   "cell_type": "markdown",
   "id": "6d120eab",
   "metadata": {
    "papermill": {
     "duration": 0.020846,
     "end_time": "2022-12-08T07:44:23.243708",
     "exception": false,
     "start_time": "2022-12-08T07:44:23.222862",
     "status": "completed"
    },
    "tags": []
   },
   "source": [
    "* nickname_count is not a well distributed feature"
   ]
  },
  {
   "cell_type": "code",
   "execution_count": null,
   "id": "dd1f9bb3",
   "metadata": {
    "execution": {
     "iopub.execute_input": "2022-12-08T07:44:23.288617Z",
     "iopub.status.busy": "2022-12-08T07:44:23.288200Z",
     "iopub.status.idle": "2022-12-08T07:44:52.558247Z",
     "shell.execute_reply": "2022-12-08T07:44:52.557076Z"
    },
    "papermill": {
     "duration": 29.295966,
     "end_time": "2022-12-08T07:44:52.560933",
     "exception": false,
     "start_time": "2022-12-08T07:44:23.264967",
     "status": "completed"
    },
    "tags": []
   },
   "outputs": [],
   "source": []
  },
  {
   "cell_type": "markdown",
   "id": "cc58da83",
   "metadata": {
    "papermill": {
     "duration": 0.022868,
     "end_time": "2022-12-08T07:44:52.607989",
     "exception": false,
     "start_time": "2022-12-08T07:44:52.585121",
     "status": "completed"
    },
    "tags": []
   },
   "source": [
    "# Validation"
   ]
  },
  {
   "cell_type": "code",
   "execution_count": 51,
   "id": "4ee81c49",
   "metadata": {
    "execution": {
     "iopub.execute_input": "2022-12-08T07:44:52.656962Z",
     "iopub.status.busy": "2022-12-08T07:44:52.656469Z",
     "iopub.status.idle": "2022-12-08T07:44:54.205375Z",
     "shell.execute_reply": "2022-12-08T07:44:54.204468Z"
    },
    "papermill": {
     "duration": 1.576177,
     "end_time": "2022-12-08T07:44:54.207851",
     "exception": false,
     "start_time": "2022-12-08T07:44:52.631674",
     "status": "completed"
    },
    "tags": []
   },
   "outputs": [],
   "source": [
    "from sklearn.linear_model import LinearRegression\n",
    "from sklearn.linear_model import Ridge\n",
    "from sklearn.tree import DecisionTreeRegressor\n",
    "from sklearn.ensemble import RandomForestRegressor\n",
    "import lightgbm as lgb\n",
    "import optuna\n",
    "\n",
    "from sklearn.preprocessing import StandardScaler\n",
    "from sklearn.model_selection import cross_val_score\n",
    "from sklearn.model_selection import KFold\n",
    "from sklearn.base import clone\n",
    "\n",
    "from sklearn.metrics import r2_score\n",
    "from sklearn.metrics import mean_squared_error"
   ]
  },
  {
   "cell_type": "code",
   "execution_count": 52,
   "id": "ce4d9270",
   "metadata": {
    "execution": {
     "iopub.execute_input": "2022-12-08T07:44:54.257387Z",
     "iopub.status.busy": "2022-12-08T07:44:54.256446Z",
     "iopub.status.idle": "2022-12-08T07:44:54.957243Z",
     "shell.execute_reply": "2022-12-08T07:44:54.955328Z"
    },
    "papermill": {
     "duration": 0.730135,
     "end_time": "2022-12-08T07:44:54.961461",
     "exception": false,
     "start_time": "2022-12-08T07:44:54.231326",
     "status": "completed"
    },
    "tags": []
   },
   "outputs": [
    {
     "name": "stdout",
     "output_type": "stream",
     "text": [
      "num_features len: 112\n",
      "bool_features len: 17\n",
      "cat_features len: 4\n",
      "X.shape: (50410, 116)\n",
      "y.shape: (50410, 1)\n",
      "X_test.shape: (22363, 116)\n"
     ]
    }
   ],
   "source": [
    "train_fe = pd.read_feather(\"./train_fe.feather\")\n",
    "test_fe = pd.read_feather(\"./test_fe.feather\")\n",
    "\n",
    "numerics = ['int16', 'int32', 'int64', 'float16', 'float32', 'float64', 'uint8']\n",
    "num_features = train_fe.select_dtypes(include=numerics).columns.tolist()\n",
    "num_features.remove(\"game_id\")\n",
    "num_features.remove(\"rating\")\n",
    "\n",
    "# Less correlated dist between the train and the test\n",
    "#num_features.remove(\"initial_time_seconds\")\n",
    "#num_features.remove(\"rating_bot\")\n",
    "#num_features.remove(\"nickname_count\")\n",
    "\n",
    "bool_features = train_fe.select_dtypes(include=[\"bool\"]).columns.tolist()\n",
    "cat_features = train_fe.select_dtypes(include=[\"object\"]).columns.tolist()\n",
    "cat_features.remove(\"nickname\")\n",
    "cat_features.remove(\"nickname__bot\")\n",
    "#features = num_features + cat_features + bool_features\n",
    "features = num_features + cat_features\n",
    "\n",
    "print(\"num_features len:\",len(num_features))\n",
    "print(\"bool_features len:\",len(bool_features))\n",
    "print(\"cat_features len:\",len(cat_features))\n",
    "\n",
    "X = train_fe[features]\n",
    "y = train_fe[[\"rating\"]]\n",
    "X_test = test_fe[features]\n",
    "\n",
    "for feature in cat_features:\n",
    "    X[feature] = X[feature].replace(X[feature].value_counts(normalize=True))\n",
    "    X_test[feature] = X_test[feature].replace(X_test[feature].value_counts(normalize=True))\n",
    "    \n",
    "print(\"X.shape:\", X.shape)\n",
    "print(\"y.shape:\", y.shape)\n",
    "print(\"X_test.shape:\", X_test.shape)"
   ]
  },
  {
   "cell_type": "code",
   "execution_count": 53,
   "id": "0a34c482",
   "metadata": {
    "_kg_hide-input": true,
    "execution": {
     "iopub.execute_input": "2022-12-08T07:44:55.016349Z",
     "iopub.status.busy": "2022-12-08T07:44:55.015328Z",
     "iopub.status.idle": "2022-12-08T07:44:55.035201Z",
     "shell.execute_reply": "2022-12-08T07:44:55.034056Z"
    },
    "papermill": {
     "duration": 0.050291,
     "end_time": "2022-12-08T07:44:55.037944",
     "exception": false,
     "start_time": "2022-12-08T07:44:54.987653",
     "status": "completed"
    },
    "tags": []
   },
   "outputs": [],
   "source": [
    "def get_scores(model_dict, X, y, X_test, nfolds=5):\n",
    "    df_score_details = {\n",
    "        'model':[],\n",
    "        'r2':[],\n",
    "        'rmse':[],\n",
    "    }\n",
    "    fig, axes = plt.subplots(len(model_dict), figsize=(16, 4*len(model_dict)))\n",
    "    for fig_index, model_key in enumerate(model_dict.keys()):\n",
    "        kf = KFold(n_splits=nfolds)\n",
    "        np_test = np.zeros((len(X_test)))\n",
    "        val_r2_scores = []\n",
    "        val_rmse_scores = []\n",
    "        for fold, (train_index, val_index) in enumerate(kf.split(X)):\n",
    "            X_train, X_val = X.loc[train_index,:], X.loc[val_index,:]\n",
    "            y_train, y_val = y.loc[train_index,:], y.loc[val_index,:]\n",
    "            \n",
    "            model = model_dict[model_key]\n",
    "            model.fit(X_train, y_train)\n",
    "            \n",
    "            val_preds = model.predict(X_val).reshape(-1)\n",
    "            test_preds = model.predict(X_test).reshape(-1)\n",
    "            \n",
    "            val_r2_scores.append(r2_score(y_val, val_preds))\n",
    "            val_rmse_scores.append(mean_squared_error(y_val, val_preds, squared=False))\n",
    "            \n",
    "            np_test += test_preds / nfolds\n",
    "        df_score_details[\"model\"].append(model_key)\n",
    "        df_score_details[\"r2\"].append(np.mean(val_r2_scores))\n",
    "        df_score_details[\"rmse\"].append(np.mean(val_rmse_scores))\n",
    "        \n",
    "        sub = pd.read_csv(\"../input/scrabble-player-rating/sample_submission.csv\")\n",
    "        sub.loc[sub[\"rating\"].isna(), \"rating\"] = np_test\n",
    "        sub.to_csv(f\"{model_key}_baseline_sub.csv\",index=False)\n",
    "        \n",
    "        axes[fig_index].hist(y, color='tab:blue', label='train', bins=50, density=True, alpha=0.5)\n",
    "        axes[fig_index].hist(sub[\"rating\"], color='tab:red', label='test', bins=50, density=True, alpha=0.5)\n",
    "        axes[fig_index].set_title(model_key)\n",
    "        axes[fig_index].legend()\n",
    "    df_score = pd.DataFrame(df_score_details)\n",
    "    gc.collect()\n",
    "    plt.show()\n",
    "    return df_score"
   ]
  },
  {
   "cell_type": "code",
   "execution_count": 54,
   "id": "8185dd65",
   "metadata": {
    "execution": {
     "iopub.execute_input": "2022-12-08T07:44:55.090524Z",
     "iopub.status.busy": "2022-12-08T07:44:55.089906Z",
     "iopub.status.idle": "2022-12-08T07:44:55.096737Z",
     "shell.execute_reply": "2022-12-08T07:44:55.095555Z"
    },
    "papermill": {
     "duration": 0.035987,
     "end_time": "2022-12-08T07:44:55.099054",
     "exception": false,
     "start_time": "2022-12-08T07:44:55.063067",
     "status": "completed"
    },
    "tags": []
   },
   "outputs": [],
   "source": [
    "model_dict = {\n",
    "    'lr':LinearRegression(),\n",
    "    'ridge':Ridge(),\n",
    "    'dt':DecisionTreeRegressor(),\n",
    "    'rf':RandomForestRegressor(),\n",
    "    'lgb':lgb.LGBMRegressor(),\n",
    "}\n",
    "#df_score = get_scores(model_dict, X, y, X_test, nfolds=5)"
   ]
  },
  {
   "cell_type": "code",
   "execution_count": 55,
   "id": "d8154e4c",
   "metadata": {
    "execution": {
     "iopub.execute_input": "2022-12-08T07:44:55.149526Z",
     "iopub.status.busy": "2022-12-08T07:44:55.149085Z",
     "iopub.status.idle": "2022-12-08T07:44:55.166950Z",
     "shell.execute_reply": "2022-12-08T07:44:55.165771Z"
    },
    "papermill": {
     "duration": 0.046628,
     "end_time": "2022-12-08T07:44:55.169413",
     "exception": false,
     "start_time": "2022-12-08T07:44:55.122785",
     "status": "completed"
    },
    "tags": []
   },
   "outputs": [
    {
     "data": {
      "text/html": [
       "<div>\n",
       "<style scoped>\n",
       "    .dataframe tbody tr th:only-of-type {\n",
       "        vertical-align: middle;\n",
       "    }\n",
       "\n",
       "    .dataframe tbody tr th {\n",
       "        vertical-align: top;\n",
       "    }\n",
       "\n",
       "    .dataframe thead th {\n",
       "        text-align: right;\n",
       "    }\n",
       "</style>\n",
       "<table border=\"1\" class=\"dataframe\">\n",
       "  <thead>\n",
       "    <tr style=\"text-align: right;\">\n",
       "      <th></th>\n",
       "      <th>model</th>\n",
       "      <th>r2</th>\n",
       "      <th>rmse</th>\n",
       "      <th>lb</th>\n",
       "    </tr>\n",
       "  </thead>\n",
       "  <tbody>\n",
       "    <tr>\n",
       "      <th>4</th>\n",
       "      <td>lgb</td>\n",
       "      <td>0.748295</td>\n",
       "      <td>115.208882</td>\n",
       "      <td>156.36289</td>\n",
       "    </tr>\n",
       "    <tr>\n",
       "      <th>3</th>\n",
       "      <td>rf</td>\n",
       "      <td>0.755419</td>\n",
       "      <td>113.566805</td>\n",
       "      <td>157.34657</td>\n",
       "    </tr>\n",
       "    <tr>\n",
       "      <th>0</th>\n",
       "      <td>lr</td>\n",
       "      <td>0.613072</td>\n",
       "      <td>142.861107</td>\n",
       "      <td>160.95957</td>\n",
       "    </tr>\n",
       "    <tr>\n",
       "      <th>1</th>\n",
       "      <td>ridge</td>\n",
       "      <td>0.613000</td>\n",
       "      <td>142.874325</td>\n",
       "      <td>161.01134</td>\n",
       "    </tr>\n",
       "    <tr>\n",
       "      <th>2</th>\n",
       "      <td>dt</td>\n",
       "      <td>0.507905</td>\n",
       "      <td>161.092383</td>\n",
       "      <td>172.17746</td>\n",
       "    </tr>\n",
       "  </tbody>\n",
       "</table>\n",
       "</div>"
      ],
      "text/plain": [
       "   model        r2        rmse         lb\n",
       "4    lgb  0.748295  115.208882  156.36289\n",
       "3     rf  0.755419  113.566805  157.34657\n",
       "0     lr  0.613072  142.861107  160.95957\n",
       "1  ridge  0.613000  142.874325  161.01134\n",
       "2     dt  0.507905  161.092383  172.17746"
      ]
     },
     "execution_count": 55,
     "metadata": {},
     "output_type": "execute_result"
    }
   ],
   "source": [
    "df_score_details = {'model': {0: 'lr', 1: 'ridge', 2: 'dt', 3: 'rf', 4: 'lgb'},\n",
    " 'r2': {0: 0.6130722539459688,\n",
    "  1: 0.6130003820326145,\n",
    "  2: 0.5079049576294109,\n",
    "  3: 0.7554189363524964,\n",
    "  4: 0.7482953578278093},\n",
    " 'rmse': {0: 142.86110682061616,\n",
    "  1: 142.87432546020736,\n",
    "  2: 161.09238311693016,\n",
    "  3: 113.56680458868478,\n",
    "  4: 115.20888248520865},\n",
    "  'lb':{0:160.95957,\n",
    "  1: 161.01134,\n",
    "  2: 172.17746,\n",
    "  3: 157.34657,\n",
    "  4: 156.36289}}\n",
    "df_score = pd.DataFrame(df_score_details)\n",
    "df_score.sort_values(\"lb\",inplace=True,ascending=True)\n",
    "df_score"
   ]
  },
  {
   "cell_type": "markdown",
   "id": "cb0285d1",
   "metadata": {
    "papermill": {
     "duration": 0.025203,
     "end_time": "2022-12-08T07:44:55.219617",
     "exception": false,
     "start_time": "2022-12-08T07:44:55.194414",
     "status": "completed"
    },
    "tags": []
   },
   "source": [
    "# Modeling"
   ]
  },
  {
   "cell_type": "markdown",
   "id": "e859454e",
   "metadata": {
    "papermill": {
     "duration": 0.025497,
     "end_time": "2022-12-08T07:44:55.269134",
     "exception": false,
     "start_time": "2022-12-08T07:44:55.243637",
     "status": "completed"
    },
    "tags": []
   },
   "source": [
    "## Hyperparameter Tuning"
   ]
  },
  {
   "cell_type": "code",
   "execution_count": 56,
   "id": "483f24bc",
   "metadata": {
    "_kg_hide-input": true,
    "execution": {
     "iopub.execute_input": "2022-12-08T07:44:55.320212Z",
     "iopub.status.busy": "2022-12-08T07:44:55.319428Z",
     "iopub.status.idle": "2022-12-08T07:44:55.329932Z",
     "shell.execute_reply": "2022-12-08T07:44:55.329088Z"
    },
    "papermill": {
     "duration": 0.038995,
     "end_time": "2022-12-08T07:44:55.332489",
     "exception": false,
     "start_time": "2022-12-08T07:44:55.293494",
     "status": "completed"
    },
    "tags": []
   },
   "outputs": [],
   "source": [
    "def objective(trial):\n",
    "    params = {\n",
    "        \"objective\": \"regression\",\n",
    "        \"metric\": \"rmse\",\n",
    "        \"learning_rate\": 0.01,\n",
    "        \"max_depth\":6,\n",
    "        'random_state': 42,\n",
    "        \"n_jobs\":-1,\n",
    "        \"seed\":123,\n",
    "        \"verbose\":-1,\n",
    "        \"num_leaves\":trial.suggest_int('num_leaves', 10, 200, step=10),\n",
    "        \"min_data_in_leaf\":trial.suggest_int('min_data_in_leaf', 10, 100, step=10),\n",
    "        'lambda_l1': trial.suggest_float('alpha', 0.0001, 10.0),\n",
    "        'lambda_l2': trial.suggest_float('lambda', 0.0001, 10.0),\n",
    "        'subsample': trial.suggest_float('subsample', 0.2, 1.0, step=0.1),\n",
    "        'feature_fraction': trial.suggest_float('feature_fraction', 0.2, 1.0, step=0.1),\n",
    "    }\n",
    "    \n",
    "    skf = KFold(n_splits=5, random_state=0, shuffle=True)\n",
    "    trainlist, validlist = [], []\n",
    "    for train_index, val_index in skf.split(X, y):\n",
    "        trainlist.append(train_index)\n",
    "        validlist.append(val_index)\n",
    "    folds = zip(trainlist, validlist)\n",
    "    \n",
    "    dataset = lgb.Dataset(X, y)\n",
    "    res = lgb.cv(\n",
    "        params, dataset, num_boost_round=1000, verbose_eval=0,\n",
    "        early_stopping_rounds=10,\n",
    "        folds=folds,\n",
    "        stratified=False,\n",
    "    )\n",
    "    \n",
    "    return res[\"rmse-mean\"][-1] + res[\"rmse-stdv\"][-1]"
   ]
  },
  {
   "cell_type": "code",
   "execution_count": 57,
   "id": "537e2757",
   "metadata": {
    "execution": {
     "iopub.execute_input": "2022-12-08T07:44:55.383345Z",
     "iopub.status.busy": "2022-12-08T07:44:55.382550Z",
     "iopub.status.idle": "2022-12-08T07:44:55.391968Z",
     "shell.execute_reply": "2022-12-08T07:44:55.391109Z"
    },
    "papermill": {
     "duration": 0.038575,
     "end_time": "2022-12-08T07:44:55.394293",
     "exception": false,
     "start_time": "2022-12-08T07:44:55.355718",
     "status": "completed"
    },
    "tags": []
   },
   "outputs": [
    {
     "data": {
      "text/plain": [
       "\"\\nstudy = optuna.create_study(direction='minimize')\\nstudy.optimize(objective, n_trials=100, timeout=18000)\\nprint('Number of finished trials: ', len(study.trials))\\nprint('Best trial: ', study.best_trial.params)\\nprint('Best value: ', study.best_value)\\n\""
      ]
     },
     "execution_count": 57,
     "metadata": {},
     "output_type": "execute_result"
    }
   ],
   "source": [
    "'''\n",
    "study = optuna.create_study(direction='minimize')\n",
    "study.optimize(objective, n_trials=100, timeout=18000)\n",
    "print('Number of finished trials: ', len(study.trials))\n",
    "print('Best trial: ', study.best_trial.params)\n",
    "print('Best value: ', study.best_value)\n",
    "'''"
   ]
  },
  {
   "cell_type": "code",
   "execution_count": 62,
   "id": "5dad6a5e",
   "metadata": {
    "_kg_hide-input": true,
    "execution": {
     "iopub.execute_input": "2022-12-08T07:44:55.444167Z",
     "iopub.status.busy": "2022-12-08T07:44:55.443811Z",
     "iopub.status.idle": "2022-12-08T07:44:55.459125Z",
     "shell.execute_reply": "2022-12-08T07:44:55.458199Z"
    },
    "papermill": {
     "duration": 0.043356,
     "end_time": "2022-12-08T07:44:55.461912",
     "exception": false,
     "start_time": "2022-12-08T07:44:55.418556",
     "status": "completed"
    },
    "tags": []
   },
   "outputs": [],
   "source": [
    "def get_scores_lgbm(params, X, y, X_test, nfolds=5):\n",
    "    df_score_details = {\n",
    "        'model':[],\n",
    "        'r2':[],\n",
    "        'rmse':[],\n",
    "    }\n",
    "    fig, ax = plt.subplots(figsize=(16, 4))\n",
    "    for fig_index in range(1):\n",
    "        model_key = \"lgbm\"\n",
    "        kf = KFold(n_splits=nfolds)\n",
    "        np_test = np.zeros((len(X_test)))\n",
    "        val_r2_scores = []\n",
    "        val_rmse_scores = []\n",
    "        for fold, (train_index, val_index) in enumerate(kf.split(X)):\n",
    "            X_train, X_val = X.loc[train_index,:], X.loc[val_index,:]\n",
    "            y_train, y_val = y.loc[train_index,:], y.loc[val_index,:]\n",
    "            \n",
    "            dtrain = lgb.Dataset(X_train, y_train)\n",
    "            dval = lgb.Dataset(X_val, y_val)\n",
    "            \n",
    "            evals_result = {}\n",
    "            model = lgb.train(params=params, train_set=dtrain, valid_sets=[dval], num_boost_round=10000, \n",
    "            )\n",
    "            \n",
    "            val_preds = model.predict(X_val).reshape(-1)\n",
    "            test_preds = model.predict(X_test).reshape(-1)\n",
    "            \n",
    "            val_r2_scores.append(r2_score(y_val, val_preds))\n",
    "            val_rmse_scores.append(mean_squared_error(y_val, val_preds, squared=False))\n",
    "            \n",
    "            np_test += test_preds / nfolds\n",
    "        df_score_details[\"model\"].append(model_key)\n",
    "        df_score_details[\"r2\"].append(np.mean(val_r2_scores))\n",
    "        df_score_details[\"rmse\"].append(np.mean(val_rmse_scores))\n",
    "        \n",
    "        sub = pd.read_csv(\"../sample_submission.csv\")\n",
    "        sub[\"rating\"] = np_test\n",
    "        sub.to_csv(f\"{model_key}_baseline_sub.csv\",index=False)\n",
    "        \n",
    "        ax.hist(y, color='tab:blue', label='train', bins=50, density=True, alpha=0.5)\n",
    "        ax.hist(sub[\"rating\"], color='tab:red', label='test', bins=50, density=True, alpha=0.5)\n",
    "        ax.set_title(model_key)\n",
    "        ax.legend()\n",
    "    df_score = pd.DataFrame(df_score_details)\n",
    "    gc.collect()\n",
    "    plt.show()\n",
    "    return df_score"
   ]
  },
  {
   "cell_type": "code",
   "execution_count": 64,
   "id": "7985422c",
   "metadata": {
    "execution": {
     "iopub.execute_input": "2022-12-08T07:44:55.538210Z",
     "iopub.status.busy": "2022-12-08T07:44:55.536981Z",
     "iopub.status.idle": "2022-12-08T07:54:04.655958Z",
     "shell.execute_reply": "2022-12-08T07:54:04.654454Z"
    },
    "papermill": {
     "duration": 549.174872,
     "end_time": "2022-12-08T07:54:04.673609",
     "exception": false,
     "start_time": "2022-12-08T07:44:55.498737",
     "status": "completed"
    },
    "tags": []
   },
   "outputs": [
    {
     "ename": "FileNotFoundError",
     "evalue": "[Errno 2] No such file or directory: '../input/scrabble-player-rating/sample_submission.csv'",
     "output_type": "error",
     "traceback": [
      "\u001b[0;31m---------------------------------------------------------------------------\u001b[0m",
      "\u001b[0;31mFileNotFoundError\u001b[0m                         Traceback (most recent call last)",
      "Cell \u001b[0;32mIn[64], line 18\u001b[0m\n\u001b[1;32m      1\u001b[0m params_lgbm \u001b[38;5;241m=\u001b[39m {\n\u001b[1;32m      2\u001b[0m         \u001b[38;5;124m\"\u001b[39m\u001b[38;5;124mobjective\u001b[39m\u001b[38;5;124m\"\u001b[39m: \u001b[38;5;124m\"\u001b[39m\u001b[38;5;124mregression\u001b[39m\u001b[38;5;124m\"\u001b[39m,\n\u001b[1;32m      3\u001b[0m         \u001b[38;5;124m\"\u001b[39m\u001b[38;5;124mmetric\u001b[39m\u001b[38;5;124m\"\u001b[39m: \u001b[38;5;124m\"\u001b[39m\u001b[38;5;124mrmse\u001b[39m\u001b[38;5;124m\"\u001b[39m,\n\u001b[0;32m   (...)\u001b[0m\n\u001b[1;32m     15\u001b[0m         \u001b[38;5;124m'\u001b[39m\u001b[38;5;124mfeature_fraction\u001b[39m\u001b[38;5;124m'\u001b[39m: \u001b[38;5;241m0.8\u001b[39m,\n\u001b[1;32m     16\u001b[0m     }\n\u001b[0;32m---> 18\u001b[0m df_score \u001b[38;5;241m=\u001b[39m \u001b[43mget_scores_lgbm\u001b[49m\u001b[43m(\u001b[49m\u001b[43mparams_lgbm\u001b[49m\u001b[43m,\u001b[49m\u001b[43m \u001b[49m\u001b[43mX\u001b[49m\u001b[43m,\u001b[49m\u001b[43m \u001b[49m\u001b[43my\u001b[49m\u001b[43m,\u001b[49m\u001b[43m \u001b[49m\u001b[43mX_test\u001b[49m\u001b[43m,\u001b[49m\u001b[43m \u001b[49m\u001b[43mnfolds\u001b[49m\u001b[38;5;241;43m=\u001b[39;49m\u001b[38;5;241;43m4\u001b[39;49m\u001b[43m)\u001b[49m\n",
      "Cell \u001b[0;32mIn[62], line 36\u001b[0m, in \u001b[0;36mget_scores_lgbm\u001b[0;34m(params, X, y, X_test, nfolds)\u001b[0m\n\u001b[1;32m     33\u001b[0m df_score_details[\u001b[38;5;124m\"\u001b[39m\u001b[38;5;124mr2\u001b[39m\u001b[38;5;124m\"\u001b[39m]\u001b[38;5;241m.\u001b[39mappend(np\u001b[38;5;241m.\u001b[39mmean(val_r2_scores))\n\u001b[1;32m     34\u001b[0m df_score_details[\u001b[38;5;124m\"\u001b[39m\u001b[38;5;124mrmse\u001b[39m\u001b[38;5;124m\"\u001b[39m]\u001b[38;5;241m.\u001b[39mappend(np\u001b[38;5;241m.\u001b[39mmean(val_rmse_scores))\n\u001b[0;32m---> 36\u001b[0m sub \u001b[38;5;241m=\u001b[39m \u001b[43mpd\u001b[49m\u001b[38;5;241;43m.\u001b[39;49m\u001b[43mread_csv\u001b[49m\u001b[43m(\u001b[49m\u001b[38;5;124;43m\"\u001b[39;49m\u001b[38;5;124;43m../input/scrabble-player-rating/sample_submission.csv\u001b[39;49m\u001b[38;5;124;43m\"\u001b[39;49m\u001b[43m)\u001b[49m\n\u001b[1;32m     37\u001b[0m sub[\u001b[38;5;124m\"\u001b[39m\u001b[38;5;124mrating\u001b[39m\u001b[38;5;124m\"\u001b[39m] \u001b[38;5;241m=\u001b[39m np_test\n\u001b[1;32m     38\u001b[0m sub\u001b[38;5;241m.\u001b[39mto_csv(\u001b[38;5;124mf\u001b[39m\u001b[38;5;124m\"\u001b[39m\u001b[38;5;132;01m{\u001b[39;00mmodel_key\u001b[38;5;132;01m}\u001b[39;00m\u001b[38;5;124m_baseline_sub.csv\u001b[39m\u001b[38;5;124m\"\u001b[39m,index\u001b[38;5;241m=\u001b[39m\u001b[38;5;28;01mFalse\u001b[39;00m)\n",
      "File \u001b[0;32m/opt/anaconda3/envs/demo/lib/python3.11/site-packages/pandas/io/parsers/readers.py:1026\u001b[0m, in \u001b[0;36mread_csv\u001b[0;34m(filepath_or_buffer, sep, delimiter, header, names, index_col, usecols, dtype, engine, converters, true_values, false_values, skipinitialspace, skiprows, skipfooter, nrows, na_values, keep_default_na, na_filter, verbose, skip_blank_lines, parse_dates, infer_datetime_format, keep_date_col, date_parser, date_format, dayfirst, cache_dates, iterator, chunksize, compression, thousands, decimal, lineterminator, quotechar, quoting, doublequote, escapechar, comment, encoding, encoding_errors, dialect, on_bad_lines, delim_whitespace, low_memory, memory_map, float_precision, storage_options, dtype_backend)\u001b[0m\n\u001b[1;32m   1013\u001b[0m kwds_defaults \u001b[38;5;241m=\u001b[39m _refine_defaults_read(\n\u001b[1;32m   1014\u001b[0m     dialect,\n\u001b[1;32m   1015\u001b[0m     delimiter,\n\u001b[0;32m   (...)\u001b[0m\n\u001b[1;32m   1022\u001b[0m     dtype_backend\u001b[38;5;241m=\u001b[39mdtype_backend,\n\u001b[1;32m   1023\u001b[0m )\n\u001b[1;32m   1024\u001b[0m kwds\u001b[38;5;241m.\u001b[39mupdate(kwds_defaults)\n\u001b[0;32m-> 1026\u001b[0m \u001b[38;5;28;01mreturn\u001b[39;00m \u001b[43m_read\u001b[49m\u001b[43m(\u001b[49m\u001b[43mfilepath_or_buffer\u001b[49m\u001b[43m,\u001b[49m\u001b[43m \u001b[49m\u001b[43mkwds\u001b[49m\u001b[43m)\u001b[49m\n",
      "File \u001b[0;32m/opt/anaconda3/envs/demo/lib/python3.11/site-packages/pandas/io/parsers/readers.py:620\u001b[0m, in \u001b[0;36m_read\u001b[0;34m(filepath_or_buffer, kwds)\u001b[0m\n\u001b[1;32m    617\u001b[0m _validate_names(kwds\u001b[38;5;241m.\u001b[39mget(\u001b[38;5;124m\"\u001b[39m\u001b[38;5;124mnames\u001b[39m\u001b[38;5;124m\"\u001b[39m, \u001b[38;5;28;01mNone\u001b[39;00m))\n\u001b[1;32m    619\u001b[0m \u001b[38;5;66;03m# Create the parser.\u001b[39;00m\n\u001b[0;32m--> 620\u001b[0m parser \u001b[38;5;241m=\u001b[39m \u001b[43mTextFileReader\u001b[49m\u001b[43m(\u001b[49m\u001b[43mfilepath_or_buffer\u001b[49m\u001b[43m,\u001b[49m\u001b[43m \u001b[49m\u001b[38;5;241;43m*\u001b[39;49m\u001b[38;5;241;43m*\u001b[39;49m\u001b[43mkwds\u001b[49m\u001b[43m)\u001b[49m\n\u001b[1;32m    622\u001b[0m \u001b[38;5;28;01mif\u001b[39;00m chunksize \u001b[38;5;129;01mor\u001b[39;00m iterator:\n\u001b[1;32m    623\u001b[0m     \u001b[38;5;28;01mreturn\u001b[39;00m parser\n",
      "File \u001b[0;32m/opt/anaconda3/envs/demo/lib/python3.11/site-packages/pandas/io/parsers/readers.py:1620\u001b[0m, in \u001b[0;36mTextFileReader.__init__\u001b[0;34m(self, f, engine, **kwds)\u001b[0m\n\u001b[1;32m   1617\u001b[0m     \u001b[38;5;28mself\u001b[39m\u001b[38;5;241m.\u001b[39moptions[\u001b[38;5;124m\"\u001b[39m\u001b[38;5;124mhas_index_names\u001b[39m\u001b[38;5;124m\"\u001b[39m] \u001b[38;5;241m=\u001b[39m kwds[\u001b[38;5;124m\"\u001b[39m\u001b[38;5;124mhas_index_names\u001b[39m\u001b[38;5;124m\"\u001b[39m]\n\u001b[1;32m   1619\u001b[0m \u001b[38;5;28mself\u001b[39m\u001b[38;5;241m.\u001b[39mhandles: IOHandles \u001b[38;5;241m|\u001b[39m \u001b[38;5;28;01mNone\u001b[39;00m \u001b[38;5;241m=\u001b[39m \u001b[38;5;28;01mNone\u001b[39;00m\n\u001b[0;32m-> 1620\u001b[0m \u001b[38;5;28mself\u001b[39m\u001b[38;5;241m.\u001b[39m_engine \u001b[38;5;241m=\u001b[39m \u001b[38;5;28;43mself\u001b[39;49m\u001b[38;5;241;43m.\u001b[39;49m\u001b[43m_make_engine\u001b[49m\u001b[43m(\u001b[49m\u001b[43mf\u001b[49m\u001b[43m,\u001b[49m\u001b[43m \u001b[49m\u001b[38;5;28;43mself\u001b[39;49m\u001b[38;5;241;43m.\u001b[39;49m\u001b[43mengine\u001b[49m\u001b[43m)\u001b[49m\n",
      "File \u001b[0;32m/opt/anaconda3/envs/demo/lib/python3.11/site-packages/pandas/io/parsers/readers.py:1880\u001b[0m, in \u001b[0;36mTextFileReader._make_engine\u001b[0;34m(self, f, engine)\u001b[0m\n\u001b[1;32m   1878\u001b[0m     \u001b[38;5;28;01mif\u001b[39;00m \u001b[38;5;124m\"\u001b[39m\u001b[38;5;124mb\u001b[39m\u001b[38;5;124m\"\u001b[39m \u001b[38;5;129;01mnot\u001b[39;00m \u001b[38;5;129;01min\u001b[39;00m mode:\n\u001b[1;32m   1879\u001b[0m         mode \u001b[38;5;241m+\u001b[39m\u001b[38;5;241m=\u001b[39m \u001b[38;5;124m\"\u001b[39m\u001b[38;5;124mb\u001b[39m\u001b[38;5;124m\"\u001b[39m\n\u001b[0;32m-> 1880\u001b[0m \u001b[38;5;28mself\u001b[39m\u001b[38;5;241m.\u001b[39mhandles \u001b[38;5;241m=\u001b[39m \u001b[43mget_handle\u001b[49m\u001b[43m(\u001b[49m\n\u001b[1;32m   1881\u001b[0m \u001b[43m    \u001b[49m\u001b[43mf\u001b[49m\u001b[43m,\u001b[49m\n\u001b[1;32m   1882\u001b[0m \u001b[43m    \u001b[49m\u001b[43mmode\u001b[49m\u001b[43m,\u001b[49m\n\u001b[1;32m   1883\u001b[0m \u001b[43m    \u001b[49m\u001b[43mencoding\u001b[49m\u001b[38;5;241;43m=\u001b[39;49m\u001b[38;5;28;43mself\u001b[39;49m\u001b[38;5;241;43m.\u001b[39;49m\u001b[43moptions\u001b[49m\u001b[38;5;241;43m.\u001b[39;49m\u001b[43mget\u001b[49m\u001b[43m(\u001b[49m\u001b[38;5;124;43m\"\u001b[39;49m\u001b[38;5;124;43mencoding\u001b[39;49m\u001b[38;5;124;43m\"\u001b[39;49m\u001b[43m,\u001b[49m\u001b[43m \u001b[49m\u001b[38;5;28;43;01mNone\u001b[39;49;00m\u001b[43m)\u001b[49m\u001b[43m,\u001b[49m\n\u001b[1;32m   1884\u001b[0m \u001b[43m    \u001b[49m\u001b[43mcompression\u001b[49m\u001b[38;5;241;43m=\u001b[39;49m\u001b[38;5;28;43mself\u001b[39;49m\u001b[38;5;241;43m.\u001b[39;49m\u001b[43moptions\u001b[49m\u001b[38;5;241;43m.\u001b[39;49m\u001b[43mget\u001b[49m\u001b[43m(\u001b[49m\u001b[38;5;124;43m\"\u001b[39;49m\u001b[38;5;124;43mcompression\u001b[39;49m\u001b[38;5;124;43m\"\u001b[39;49m\u001b[43m,\u001b[49m\u001b[43m \u001b[49m\u001b[38;5;28;43;01mNone\u001b[39;49;00m\u001b[43m)\u001b[49m\u001b[43m,\u001b[49m\n\u001b[1;32m   1885\u001b[0m \u001b[43m    \u001b[49m\u001b[43mmemory_map\u001b[49m\u001b[38;5;241;43m=\u001b[39;49m\u001b[38;5;28;43mself\u001b[39;49m\u001b[38;5;241;43m.\u001b[39;49m\u001b[43moptions\u001b[49m\u001b[38;5;241;43m.\u001b[39;49m\u001b[43mget\u001b[49m\u001b[43m(\u001b[49m\u001b[38;5;124;43m\"\u001b[39;49m\u001b[38;5;124;43mmemory_map\u001b[39;49m\u001b[38;5;124;43m\"\u001b[39;49m\u001b[43m,\u001b[49m\u001b[43m \u001b[49m\u001b[38;5;28;43;01mFalse\u001b[39;49;00m\u001b[43m)\u001b[49m\u001b[43m,\u001b[49m\n\u001b[1;32m   1886\u001b[0m \u001b[43m    \u001b[49m\u001b[43mis_text\u001b[49m\u001b[38;5;241;43m=\u001b[39;49m\u001b[43mis_text\u001b[49m\u001b[43m,\u001b[49m\n\u001b[1;32m   1887\u001b[0m \u001b[43m    \u001b[49m\u001b[43merrors\u001b[49m\u001b[38;5;241;43m=\u001b[39;49m\u001b[38;5;28;43mself\u001b[39;49m\u001b[38;5;241;43m.\u001b[39;49m\u001b[43moptions\u001b[49m\u001b[38;5;241;43m.\u001b[39;49m\u001b[43mget\u001b[49m\u001b[43m(\u001b[49m\u001b[38;5;124;43m\"\u001b[39;49m\u001b[38;5;124;43mencoding_errors\u001b[39;49m\u001b[38;5;124;43m\"\u001b[39;49m\u001b[43m,\u001b[49m\u001b[43m \u001b[49m\u001b[38;5;124;43m\"\u001b[39;49m\u001b[38;5;124;43mstrict\u001b[39;49m\u001b[38;5;124;43m\"\u001b[39;49m\u001b[43m)\u001b[49m\u001b[43m,\u001b[49m\n\u001b[1;32m   1888\u001b[0m \u001b[43m    \u001b[49m\u001b[43mstorage_options\u001b[49m\u001b[38;5;241;43m=\u001b[39;49m\u001b[38;5;28;43mself\u001b[39;49m\u001b[38;5;241;43m.\u001b[39;49m\u001b[43moptions\u001b[49m\u001b[38;5;241;43m.\u001b[39;49m\u001b[43mget\u001b[49m\u001b[43m(\u001b[49m\u001b[38;5;124;43m\"\u001b[39;49m\u001b[38;5;124;43mstorage_options\u001b[39;49m\u001b[38;5;124;43m\"\u001b[39;49m\u001b[43m,\u001b[49m\u001b[43m \u001b[49m\u001b[38;5;28;43;01mNone\u001b[39;49;00m\u001b[43m)\u001b[49m\u001b[43m,\u001b[49m\n\u001b[1;32m   1889\u001b[0m \u001b[43m\u001b[49m\u001b[43m)\u001b[49m\n\u001b[1;32m   1890\u001b[0m \u001b[38;5;28;01massert\u001b[39;00m \u001b[38;5;28mself\u001b[39m\u001b[38;5;241m.\u001b[39mhandles \u001b[38;5;129;01mis\u001b[39;00m \u001b[38;5;129;01mnot\u001b[39;00m \u001b[38;5;28;01mNone\u001b[39;00m\n\u001b[1;32m   1891\u001b[0m f \u001b[38;5;241m=\u001b[39m \u001b[38;5;28mself\u001b[39m\u001b[38;5;241m.\u001b[39mhandles\u001b[38;5;241m.\u001b[39mhandle\n",
      "File \u001b[0;32m/opt/anaconda3/envs/demo/lib/python3.11/site-packages/pandas/io/common.py:873\u001b[0m, in \u001b[0;36mget_handle\u001b[0;34m(path_or_buf, mode, encoding, compression, memory_map, is_text, errors, storage_options)\u001b[0m\n\u001b[1;32m    868\u001b[0m \u001b[38;5;28;01melif\u001b[39;00m \u001b[38;5;28misinstance\u001b[39m(handle, \u001b[38;5;28mstr\u001b[39m):\n\u001b[1;32m    869\u001b[0m     \u001b[38;5;66;03m# Check whether the filename is to be opened in binary mode.\u001b[39;00m\n\u001b[1;32m    870\u001b[0m     \u001b[38;5;66;03m# Binary mode does not support 'encoding' and 'newline'.\u001b[39;00m\n\u001b[1;32m    871\u001b[0m     \u001b[38;5;28;01mif\u001b[39;00m ioargs\u001b[38;5;241m.\u001b[39mencoding \u001b[38;5;129;01mand\u001b[39;00m \u001b[38;5;124m\"\u001b[39m\u001b[38;5;124mb\u001b[39m\u001b[38;5;124m\"\u001b[39m \u001b[38;5;129;01mnot\u001b[39;00m \u001b[38;5;129;01min\u001b[39;00m ioargs\u001b[38;5;241m.\u001b[39mmode:\n\u001b[1;32m    872\u001b[0m         \u001b[38;5;66;03m# Encoding\u001b[39;00m\n\u001b[0;32m--> 873\u001b[0m         handle \u001b[38;5;241m=\u001b[39m \u001b[38;5;28mopen\u001b[39m(\n\u001b[1;32m    874\u001b[0m             handle,\n\u001b[1;32m    875\u001b[0m             ioargs\u001b[38;5;241m.\u001b[39mmode,\n\u001b[1;32m    876\u001b[0m             encoding\u001b[38;5;241m=\u001b[39mioargs\u001b[38;5;241m.\u001b[39mencoding,\n\u001b[1;32m    877\u001b[0m             errors\u001b[38;5;241m=\u001b[39merrors,\n\u001b[1;32m    878\u001b[0m             newline\u001b[38;5;241m=\u001b[39m\u001b[38;5;124m\"\u001b[39m\u001b[38;5;124m\"\u001b[39m,\n\u001b[1;32m    879\u001b[0m         )\n\u001b[1;32m    880\u001b[0m     \u001b[38;5;28;01melse\u001b[39;00m:\n\u001b[1;32m    881\u001b[0m         \u001b[38;5;66;03m# Binary mode\u001b[39;00m\n\u001b[1;32m    882\u001b[0m         handle \u001b[38;5;241m=\u001b[39m \u001b[38;5;28mopen\u001b[39m(handle, ioargs\u001b[38;5;241m.\u001b[39mmode)\n",
      "\u001b[0;31mFileNotFoundError\u001b[0m: [Errno 2] No such file or directory: '../input/scrabble-player-rating/sample_submission.csv'"
     ]
    },
    {
     "data": {
      "image/png": "[encoded data removed]",
      "text/plain": [
       "<Figure size 1600x400 with 1 Axes>"
      ]
     },
     "metadata": {},
     "output_type": "display_data"
    }
   ],
   "source": [
    "params_lgbm = {\n",
    "        \"objective\": \"regression\",\n",
    "        \"metric\": \"rmse\",\n",
    "        \"learning_rate\": 0.01,\n",
    "        \"max_depth\":6,\n",
    "        'random_state': 42,\n",
    "        \"n_jobs\":-1,\n",
    "        \"seed\":123,\n",
    "        \"verbose\":-1,\n",
    "        'num_leaves': 170, \n",
    "        'min_data_in_leaf': 10, \n",
    "        'alpha': 6.213527693669625, \n",
    "        'lambda': 0.1701794289469321, \n",
    "        'subsample': 0.7, \n",
    "        'feature_fraction': 0.8,\n",
    "    }\n",
    "\n",
    "df_score = get_scores_lgbm(params_lgbm, X, y, X_test, nfolds=4)"
   ]
  },
  {
   "cell_type": "code",
   "execution_count": null,
   "id": "375babc7",
   "metadata": {
    "execution": {
     "iopub.execute_input": "2022-12-08T07:54:04.732826Z",
     "iopub.status.busy": "2022-12-08T07:54:04.732355Z",
     "iopub.status.idle": "2022-12-08T07:54:04.744234Z",
     "shell.execute_reply": "2022-12-08T07:54:04.742940Z"
    },
    "papermill": {
     "duration": 0.045046,
     "end_time": "2022-12-08T07:54:04.746988",
     "exception": false,
     "start_time": "2022-12-08T07:54:04.701942",
     "status": "completed"
    },
    "tags": []
   },
   "outputs": [
    {
     "data": {
      "text/html": [
       "<div>\n",
       "<style scoped>\n",
       "    .dataframe tbody tr th:only-of-type {\n",
       "        vertical-align: middle;\n",
       "    }\n",
       "\n",
       "    .dataframe tbody tr th {\n",
       "        vertical-align: top;\n",
       "    }\n",
       "\n",
       "    .dataframe thead th {\n",
       "        text-align: right;\n",
       "    }\n",
       "</style>\n",
       "<table border=\"1\" class=\"dataframe\">\n",
       "  <thead>\n",
       "    <tr style=\"text-align: right;\">\n",
       "      <th></th>\n",
       "      <th>model</th>\n",
       "      <th>r2</th>\n",
       "      <th>rmse</th>\n",
       "    </tr>\n",
       "  </thead>\n",
       "  <tbody>\n",
       "    <tr>\n",
       "      <th>0</th>\n",
       "      <td>lgbm</td>\n",
       "      <td>0.905608</td>\n",
       "      <td>70.547761</td>\n",
       "    </tr>\n",
       "  </tbody>\n",
       "</table>\n",
       "</div>"
      ],
      "text/plain": [
       "  model        r2       rmse\n",
       "0  lgbm  0.905608  70.547761"
      ]
     },
     "execution_count": 30,
     "metadata": {},
     "output_type": "execute_result"
    }
   ],
   "source": [
    "df_score"
   ]
  }
 ],
 "metadata": {
  "kernelspec": {
   "display_name": "Python 3",
   "language": "python",
   "name": "python3"
  },
  "language_info": {
   "codemirror_mode": {
    "name": "ipython",
    "version": 3
   },
   "file_extension": ".py",
   "mimetype": "text/x-python",
   "name": "python",
   "nbconvert_exporter": "python",
   "pygments_lexer": "ipython3",
   "version": "3.11.0"
  },
  "papermill": {
   "default_parameters": {},
   "duration": 712.49219,
   "end_time": "2022-12-08T07:54:07.397238",
   "environment_variables": {},
   "exception": null,
   "input_path": "__notebook__.ipynb",
   "output_path": "__notebook__.ipynb",
   "parameters": {},
   "start_time": "2022-12-08T07:42:14.905048",
   "version": "2.3.4"
  }
 },
 "nbformat": 4,
 "nbformat_minor": 5
}
