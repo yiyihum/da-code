{
 "cells": [
  {
   "cell_type": "code",
   "outputs": [],
   "source": [
    "import pandas as pd\n",
    "import sqlite3\n",
    "import matplotlib.pyplot as plt\n",
    "import seaborn as sns\n",
    "\n",
    "df = pd.read_csv('netflix.csv')\n",
    "# Create an in-memory SQLite database\n",
    "conn = sqlite3.connect(':memory:')\n",
    "\n",
    "# Convert the DataFrame to an SQLite table\n",
    "df.to_sql('netflix', conn, index=False)\n",
    "\n",
    "# Create a cursor object\n",
    "cursor = conn.cursor()\n"
   ],
   "metadata": {
    "collapsed": false
   },
   "id": "87d8e8a9dad8e6ef"
  },
  {
   "cell_type": "code",
   "outputs": [],
   "source": [
    "query = \"\"\"\n",
    "SELECT\n",
    "    genre,\n",
    "    language,\n",
    "    COUNT(*) AS title_count\n",
    "FROM netflix\n",
    "GROUP BY genre, language\n",
    "ORDER BY genre, title_count DESC;\n",
    "\"\"\"\n",
    "\n",
    "cursor.execute(query)\n",
    "\n",
    "rows = cursor.fetchall()\n",
    "\n",
    "for row in rows:\n",
    "    print(row)"
   ],
   "metadata": {
    "collapsed": true
   },
   "id": "initial_id",
   "execution_count": 0
  },
  {
   "cell_type": "code",
   "outputs": [],
   "source": [
    "query = \"\"\"\n",
    "SELECT \n",
    "    genre,\n",
    "    title,\n",
    "    imdb_score\n",
    "FROM netflix AS n1\n",
    "WHERE imdb_score = (\n",
    "    SELECT MAX(imdb_score)\n",
    "    FROM netflix AS n2\n",
    "    WHERE n1.genre = n2.genre\n",
    ");\n",
    "\"\"\"\n",
    "\n",
    "cursor.execute(query)\n",
    "\n",
    "rows = cursor.fetchall()\n",
    "\n",
    "for row in rows:\n",
    "    print(row)"
   ],
   "metadata": {
    "collapsed": false
   },
   "id": "c3d3b323ef5bc7b3"
  },
  {
   "cell_type": "code",
   "outputs": [],
   "source": [
    "df = pd.DataFrame(rows, columns=['Genre', 'Title', 'IMDb_Score'])\n",
    "\n",
    "sns.set(style=\"whitegrid\")\n",
    "\n",
    "plt.figure(figsize=(30, 20))\n",
    "sns.scatterplot(data=df, x='Title', y='IMDb_Score', hue='Genre', palette='viridis')\n",
    "\n",
    "plt.title('IMDb Score vs Genre')\n",
    "plt.xlabel('Title')\n",
    "plt.ylabel('IMDb Score')\n",
    "plt.xticks(rotation=90)\n",
    "\n",
    "handles, labels = plt.gca().get_legend_handles_labels()\n",
    "plt.legend(handles, labels, title='Genre', bbox_to_anchor=(1.05, 1), loc='upper left')\n",
    "\n",
    "plt.tight_layout()\n",
    "plt.show()"
   ],
   "metadata": {
    "collapsed": false
   },
   "id": "8c9d2931db9a078a"
  }
 ],
 "metadata": {
  "kernelspec": {
   "display_name": "Python 3",
   "language": "python",
   "name": "python3"
  },
  "language_info": {
   "codemirror_mode": {
    "name": "ipython",
    "version": 2
   },
   "file_extension": ".py",
   "mimetype": "text/x-python",
   "name": "python",
   "nbconvert_exporter": "python",
   "pygments_lexer": "ipython2",
   "version": "2.7.6"
  }
 },
 "nbformat": 4,
 "nbformat_minor": 5
}
