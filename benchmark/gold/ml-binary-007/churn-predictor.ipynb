{
 "cells": [
  {
   "cell_type": "code",
   "execution_count": 1,
   "id": "18531d7f",
   "metadata": {
    "_cell_guid": "b1076dfc-b9ad-4769-8c92-a6c4dae69d19",
    "_uuid": "8f2839f25d086af736a60e9eeb907d3b93b6e0e5",
    "execution": {
     "iopub.execute_input": "2023-08-24T16:50:09.633899Z",
     "iopub.status.busy": "2023-08-24T16:50:09.633367Z",
     "iopub.status.idle": "2023-08-24T16:50:09.657683Z",
     "shell.execute_reply": "2023-08-24T16:50:09.656396Z"
    },
    "papermill": {
     "duration": 0.041429,
     "end_time": "2023-08-24T16:50:09.660581",
     "exception": false,
     "start_time": "2023-08-24T16:50:09.619152",
     "status": "completed"
    },
    "tags": []
   },
   "outputs": [
    {
     "name": "stdout",
     "output_type": "stream",
     "text": [
      "/kaggle/input/customer-churn-dataset/customer_churn_dataset-testing-master.csv\n",
      "/kaggle/input/customer-churn-dataset/customer_churn_dataset-training-master.csv\n"
     ]
    }
   ],
   "source": [
    "# This Python 3 environment comes with many helpful analytics libraries installed\n",
    "# It is defined by the kaggle/python Docker image: https://github.com/kaggle/docker-python\n",
    "# For example, here's several helpful packages to load\n",
    "\n",
    "import numpy as np # linear algebra\n",
    "import pandas as pd # data processing, CSV file I/O (e.g. pd.read_csv)\n",
    "\n",
    "# Input data files are available in the read-only \"../input/\" directory\n",
    "# For example, running this (by clicking run or pressing Shift+Enter) will list all files under the input directory\n",
    "\n",
    "import os\n",
    "for dirname, _, filenames in os.walk('/kaggle/input'):\n",
    "    for filename in filenames:\n",
    "        print(os.path.join(dirname, filename))\n",
    "\n",
    "# You can write up to 20GB to the current directory (/kaggle/working/) that gets preserved as output when you create a version using \"Save & Run All\" \n",
    "# You can also write temporary files to /kaggle/temp/, but they won't be saved outside of the current session"
   ]
  },
  {
   "cell_type": "code",
   "execution_count": 2,
   "id": "589b6339",
   "metadata": {
    "execution": {
     "iopub.execute_input": "2023-08-24T16:50:09.687134Z",
     "iopub.status.busy": "2023-08-24T16:50:09.686368Z",
     "iopub.status.idle": "2023-08-24T16:50:10.847848Z",
     "shell.execute_reply": "2023-08-24T16:50:10.846788Z"
    },
    "papermill": {
     "duration": 1.177795,
     "end_time": "2023-08-24T16:50:10.850999",
     "exception": false,
     "start_time": "2023-08-24T16:50:09.673204",
     "status": "completed"
    },
    "tags": []
   },
   "outputs": [],
   "source": [
    "df = pd.read_csv('/kaggle/input/customer-churn-dataset/customer_churn_dataset-testing-master.csv')\n",
    "dt = pd.read_csv('/kaggle/input/customer-churn-dataset/customer_churn_dataset-training-master.csv')"
   ]
  },
  {
   "cell_type": "code",
   "execution_count": 3,
   "id": "ce0e4d6b",
   "metadata": {
    "execution": {
     "iopub.execute_input": "2023-08-24T16:50:10.876048Z",
     "iopub.status.busy": "2023-08-24T16:50:10.875647Z",
     "iopub.status.idle": "2023-08-24T16:50:10.907640Z",
     "shell.execute_reply": "2023-08-24T16:50:10.906396Z"
    },
    "papermill": {
     "duration": 0.04765,
     "end_time": "2023-08-24T16:50:10.910558",
     "exception": false,
     "start_time": "2023-08-24T16:50:10.862908",
     "status": "completed"
    },
    "tags": []
   },
   "outputs": [
    {
     "data": {
      "text/html": [
       "<div>\n",
       "<style scoped>\n",
       "    .dataframe tbody tr th:only-of-type {\n",
       "        vertical-align: middle;\n",
       "    }\n",
       "\n",
       "    .dataframe tbody tr th {\n",
       "        vertical-align: top;\n",
       "    }\n",
       "\n",
       "    .dataframe thead th {\n",
       "        text-align: right;\n",
       "    }\n",
       "</style>\n",
       "<table border=\"1\" class=\"dataframe\">\n",
       "  <thead>\n",
       "    <tr style=\"text-align: right;\">\n",
       "      <th></th>\n",
       "      <th>CustomerID</th>\n",
       "      <th>Age</th>\n",
       "      <th>Gender</th>\n",
       "      <th>Tenure</th>\n",
       "      <th>Usage Frequency</th>\n",
       "      <th>Support Calls</th>\n",
       "      <th>Payment Delay</th>\n",
       "      <th>Subscription Type</th>\n",
       "      <th>Contract Length</th>\n",
       "      <th>Total Spend</th>\n",
       "      <th>Last Interaction</th>\n",
       "      <th>Churn</th>\n",
       "    </tr>\n",
       "  </thead>\n",
       "  <tbody>\n",
       "    <tr>\n",
       "      <th>61394</th>\n",
       "      <td>61395</td>\n",
       "      <td>40</td>\n",
       "      <td>Female</td>\n",
       "      <td>54</td>\n",
       "      <td>1</td>\n",
       "      <td>5</td>\n",
       "      <td>30</td>\n",
       "      <td>Premium</td>\n",
       "      <td>Annual</td>\n",
       "      <td>279</td>\n",
       "      <td>21</td>\n",
       "      <td>1</td>\n",
       "    </tr>\n",
       "    <tr>\n",
       "      <th>20294</th>\n",
       "      <td>20295</td>\n",
       "      <td>48</td>\n",
       "      <td>Male</td>\n",
       "      <td>38</td>\n",
       "      <td>18</td>\n",
       "      <td>7</td>\n",
       "      <td>25</td>\n",
       "      <td>Premium</td>\n",
       "      <td>Quarterly</td>\n",
       "      <td>229</td>\n",
       "      <td>2</td>\n",
       "      <td>1</td>\n",
       "    </tr>\n",
       "    <tr>\n",
       "      <th>63819</th>\n",
       "      <td>63820</td>\n",
       "      <td>40</td>\n",
       "      <td>Female</td>\n",
       "      <td>22</td>\n",
       "      <td>2</td>\n",
       "      <td>1</td>\n",
       "      <td>26</td>\n",
       "      <td>Premium</td>\n",
       "      <td>Quarterly</td>\n",
       "      <td>354</td>\n",
       "      <td>2</td>\n",
       "      <td>1</td>\n",
       "    </tr>\n",
       "    <tr>\n",
       "      <th>30599</th>\n",
       "      <td>30600</td>\n",
       "      <td>63</td>\n",
       "      <td>Male</td>\n",
       "      <td>3</td>\n",
       "      <td>26</td>\n",
       "      <td>8</td>\n",
       "      <td>24</td>\n",
       "      <td>Basic</td>\n",
       "      <td>Monthly</td>\n",
       "      <td>772</td>\n",
       "      <td>12</td>\n",
       "      <td>0</td>\n",
       "    </tr>\n",
       "    <tr>\n",
       "      <th>52611</th>\n",
       "      <td>52612</td>\n",
       "      <td>55</td>\n",
       "      <td>Female</td>\n",
       "      <td>21</td>\n",
       "      <td>6</td>\n",
       "      <td>5</td>\n",
       "      <td>24</td>\n",
       "      <td>Basic</td>\n",
       "      <td>Monthly</td>\n",
       "      <td>632</td>\n",
       "      <td>20</td>\n",
       "      <td>1</td>\n",
       "    </tr>\n",
       "  </tbody>\n",
       "</table>\n",
       "</div>"
      ],
      "text/plain": [
       "       CustomerID  Age  Gender  Tenure  Usage Frequency  Support Calls  \\\n",
       "61394       61395   40  Female      54                1              5   \n",
       "20294       20295   48    Male      38               18              7   \n",
       "63819       63820   40  Female      22                2              1   \n",
       "30599       30600   63    Male       3               26              8   \n",
       "52611       52612   55  Female      21                6              5   \n",
       "\n",
       "       Payment Delay Subscription Type Contract Length  Total Spend  \\\n",
       "61394             30           Premium          Annual          279   \n",
       "20294             25           Premium       Quarterly          229   \n",
       "63819             26           Premium       Quarterly          354   \n",
       "30599             24             Basic         Monthly          772   \n",
       "52611             24             Basic         Monthly          632   \n",
       "\n",
       "       Last Interaction  Churn  \n",
       "61394                21      1  \n",
       "20294                 2      1  \n",
       "63819                 2      1  \n",
       "30599                12      0  \n",
       "52611                20      1  "
      ]
     },
     "execution_count": 3,
     "metadata": {},
     "output_type": "execute_result"
    }
   ],
   "source": [
    "df.sample(5)"
   ]
  },
  {
   "cell_type": "code",
   "execution_count": 4,
   "id": "82549f40",
   "metadata": {
    "execution": {
     "iopub.execute_input": "2023-08-24T16:50:10.939520Z",
     "iopub.status.busy": "2023-08-24T16:50:10.938786Z",
     "iopub.status.idle": "2023-08-24T16:50:10.999217Z",
     "shell.execute_reply": "2023-08-24T16:50:10.998047Z"
    },
    "papermill": {
     "duration": 0.076349,
     "end_time": "2023-08-24T16:50:11.001682",
     "exception": false,
     "start_time": "2023-08-24T16:50:10.925333",
     "status": "completed"
    },
    "tags": []
   },
   "outputs": [
    {
     "data": {
      "text/html": [
       "<div>\n",
       "<style scoped>\n",
       "    .dataframe tbody tr th:only-of-type {\n",
       "        vertical-align: middle;\n",
       "    }\n",
       "\n",
       "    .dataframe tbody tr th {\n",
       "        vertical-align: top;\n",
       "    }\n",
       "\n",
       "    .dataframe thead th {\n",
       "        text-align: right;\n",
       "    }\n",
       "</style>\n",
       "<table border=\"1\" class=\"dataframe\">\n",
       "  <thead>\n",
       "    <tr style=\"text-align: right;\">\n",
       "      <th></th>\n",
       "      <th>CustomerID</th>\n",
       "      <th>Age</th>\n",
       "      <th>Tenure</th>\n",
       "      <th>Usage Frequency</th>\n",
       "      <th>Support Calls</th>\n",
       "      <th>Payment Delay</th>\n",
       "      <th>Total Spend</th>\n",
       "      <th>Last Interaction</th>\n",
       "      <th>Churn</th>\n",
       "    </tr>\n",
       "  </thead>\n",
       "  <tbody>\n",
       "    <tr>\n",
       "      <th>count</th>\n",
       "      <td>64374.000000</td>\n",
       "      <td>64374.000000</td>\n",
       "      <td>64374.000000</td>\n",
       "      <td>64374.000000</td>\n",
       "      <td>64374.000000</td>\n",
       "      <td>64374.000000</td>\n",
       "      <td>64374.000000</td>\n",
       "      <td>64374.000000</td>\n",
       "      <td>64374.000000</td>\n",
       "    </tr>\n",
       "    <tr>\n",
       "      <th>mean</th>\n",
       "      <td>32187.500000</td>\n",
       "      <td>41.970982</td>\n",
       "      <td>31.994827</td>\n",
       "      <td>15.080234</td>\n",
       "      <td>5.400690</td>\n",
       "      <td>17.133952</td>\n",
       "      <td>541.023379</td>\n",
       "      <td>15.498850</td>\n",
       "      <td>0.473685</td>\n",
       "    </tr>\n",
       "    <tr>\n",
       "      <th>std</th>\n",
       "      <td>18583.317451</td>\n",
       "      <td>13.924911</td>\n",
       "      <td>17.098234</td>\n",
       "      <td>8.816470</td>\n",
       "      <td>3.114005</td>\n",
       "      <td>8.852211</td>\n",
       "      <td>260.874809</td>\n",
       "      <td>8.638436</td>\n",
       "      <td>0.499311</td>\n",
       "    </tr>\n",
       "    <tr>\n",
       "      <th>min</th>\n",
       "      <td>1.000000</td>\n",
       "      <td>18.000000</td>\n",
       "      <td>1.000000</td>\n",
       "      <td>1.000000</td>\n",
       "      <td>0.000000</td>\n",
       "      <td>0.000000</td>\n",
       "      <td>100.000000</td>\n",
       "      <td>1.000000</td>\n",
       "      <td>0.000000</td>\n",
       "    </tr>\n",
       "    <tr>\n",
       "      <th>25%</th>\n",
       "      <td>16094.250000</td>\n",
       "      <td>30.000000</td>\n",
       "      <td>18.000000</td>\n",
       "      <td>7.000000</td>\n",
       "      <td>3.000000</td>\n",
       "      <td>10.000000</td>\n",
       "      <td>313.000000</td>\n",
       "      <td>8.000000</td>\n",
       "      <td>0.000000</td>\n",
       "    </tr>\n",
       "    <tr>\n",
       "      <th>50%</th>\n",
       "      <td>32187.500000</td>\n",
       "      <td>42.000000</td>\n",
       "      <td>33.000000</td>\n",
       "      <td>15.000000</td>\n",
       "      <td>6.000000</td>\n",
       "      <td>19.000000</td>\n",
       "      <td>534.000000</td>\n",
       "      <td>15.000000</td>\n",
       "      <td>0.000000</td>\n",
       "    </tr>\n",
       "    <tr>\n",
       "      <th>75%</th>\n",
       "      <td>48280.750000</td>\n",
       "      <td>54.000000</td>\n",
       "      <td>47.000000</td>\n",
       "      <td>23.000000</td>\n",
       "      <td>8.000000</td>\n",
       "      <td>25.000000</td>\n",
       "      <td>768.000000</td>\n",
       "      <td>23.000000</td>\n",
       "      <td>1.000000</td>\n",
       "    </tr>\n",
       "    <tr>\n",
       "      <th>max</th>\n",
       "      <td>64374.000000</td>\n",
       "      <td>65.000000</td>\n",
       "      <td>60.000000</td>\n",
       "      <td>30.000000</td>\n",
       "      <td>10.000000</td>\n",
       "      <td>30.000000</td>\n",
       "      <td>1000.000000</td>\n",
       "      <td>30.000000</td>\n",
       "      <td>1.000000</td>\n",
       "    </tr>\n",
       "  </tbody>\n",
       "</table>\n",
       "</div>"
      ],
      "text/plain": [
       "         CustomerID           Age        Tenure  Usage Frequency  \\\n",
       "count  64374.000000  64374.000000  64374.000000     64374.000000   \n",
       "mean   32187.500000     41.970982     31.994827        15.080234   \n",
       "std    18583.317451     13.924911     17.098234         8.816470   \n",
       "min        1.000000     18.000000      1.000000         1.000000   \n",
       "25%    16094.250000     30.000000     18.000000         7.000000   \n",
       "50%    32187.500000     42.000000     33.000000        15.000000   \n",
       "75%    48280.750000     54.000000     47.000000        23.000000   \n",
       "max    64374.000000     65.000000     60.000000        30.000000   \n",
       "\n",
       "       Support Calls  Payment Delay   Total Spend  Last Interaction  \\\n",
       "count   64374.000000   64374.000000  64374.000000      64374.000000   \n",
       "mean        5.400690      17.133952    541.023379         15.498850   \n",
       "std         3.114005       8.852211    260.874809          8.638436   \n",
       "min         0.000000       0.000000    100.000000          1.000000   \n",
       "25%         3.000000      10.000000    313.000000          8.000000   \n",
       "50%         6.000000      19.000000    534.000000         15.000000   \n",
       "75%         8.000000      25.000000    768.000000         23.000000   \n",
       "max        10.000000      30.000000   1000.000000         30.000000   \n",
       "\n",
       "              Churn  \n",
       "count  64374.000000  \n",
       "mean       0.473685  \n",
       "std        0.499311  \n",
       "min        0.000000  \n",
       "25%        0.000000  \n",
       "50%        0.000000  \n",
       "75%        1.000000  \n",
       "max        1.000000  "
      ]
     },
     "execution_count": 4,
     "metadata": {},
     "output_type": "execute_result"
    }
   ],
   "source": [
    "df.describe()"
   ]
  },
  {
   "cell_type": "markdown",
   "id": "0fdd3980",
   "metadata": {
    "papermill": {
     "duration": 0.012097,
     "end_time": "2023-08-24T16:50:11.027644",
     "exception": false,
     "start_time": "2023-08-24T16:50:11.015547",
     "status": "completed"
    },
    "tags": []
   },
   "source": [
    "# **EDA and Cleaning**"
   ]
  },
  {
   "cell_type": "code",
   "execution_count": 5,
   "id": "19683752",
   "metadata": {
    "execution": {
     "iopub.execute_input": "2023-08-24T16:50:11.054787Z",
     "iopub.status.busy": "2023-08-24T16:50:11.054387Z",
     "iopub.status.idle": "2023-08-24T16:50:11.386446Z",
     "shell.execute_reply": "2023-08-24T16:50:11.385279Z"
    },
    "papermill": {
     "duration": 0.348197,
     "end_time": "2023-08-24T16:50:11.388997",
     "exception": false,
     "start_time": "2023-08-24T16:50:11.040800",
     "status": "completed"
    },
    "tags": []
   },
   "outputs": [
    {
     "data": {
      "text/plain": [
       "(array([5710., 5650., 5477., 5810., 6951., 6813., 6930., 7038., 7001.,\n",
       "        6994.]),\n",
       " array([ 1. ,  6.9, 12.8, 18.7, 24.6, 30.5, 36.4, 42.3, 48.2, 54.1, 60. ]),\n",
       " <BarContainer object of 10 artists>)"
      ]
     },
     "execution_count": 5,
     "metadata": {},
     "output_type": "execute_result"
    },
    {
     "data": {
      "image/png": "[encoded data removed]",
      "text/plain": [
       "<Figure size 640x480 with 1 Axes>"
      ]
     },
     "metadata": {},
     "output_type": "display_data"
    }
   ],
   "source": [
    "import matplotlib.pyplot as plt\n",
    "plt.hist(df['Tenure'])"
   ]
  },
  {
   "cell_type": "code",
   "execution_count": 6,
   "id": "4d563bfd",
   "metadata": {
    "execution": {
     "iopub.execute_input": "2023-08-24T16:50:11.415809Z",
     "iopub.status.busy": "2023-08-24T16:50:11.415394Z",
     "iopub.status.idle": "2023-08-24T16:50:11.487949Z",
     "shell.execute_reply": "2023-08-24T16:50:11.487142Z"
    },
    "papermill": {
     "duration": 0.088549,
     "end_time": "2023-08-24T16:50:11.490051",
     "exception": false,
     "start_time": "2023-08-24T16:50:11.401502",
     "status": "completed"
    },
    "tags": []
   },
   "outputs": [
    {
     "data": {
      "text/plain": [
       "CustomerID           0\n",
       "Age                  0\n",
       "Gender               0\n",
       "Tenure               0\n",
       "Usage Frequency      0\n",
       "Support Calls        0\n",
       "Payment Delay        0\n",
       "Subscription Type    0\n",
       "Contract Length      0\n",
       "Total Spend          0\n",
       "Last Interaction     0\n",
       "Churn                0\n",
       "dtype: int64"
      ]
     },
     "execution_count": 6,
     "metadata": {},
     "output_type": "execute_result"
    }
   ],
   "source": [
    "df.isnull().sum()\n"
   ]
  },
  {
   "cell_type": "code",
   "execution_count": 7,
   "id": "6702a6d8",
   "metadata": {
    "execution": {
     "iopub.execute_input": "2023-08-24T16:50:11.517191Z",
     "iopub.status.busy": "2023-08-24T16:50:11.516549Z",
     "iopub.status.idle": "2023-08-24T16:50:12.048182Z",
     "shell.execute_reply": "2023-08-24T16:50:12.046877Z"
    },
    "papermill": {
     "duration": 0.548359,
     "end_time": "2023-08-24T16:50:12.051133",
     "exception": false,
     "start_time": "2023-08-24T16:50:11.502774",
     "status": "completed"
    },
    "tags": []
   },
   "outputs": [],
   "source": [
    "df.dropna(inplace = True)\n",
    "dt.dropna(inplace = True)"
   ]
  },
  {
   "cell_type": "code",
   "execution_count": 8,
   "id": "1b30293f",
   "metadata": {
    "execution": {
     "iopub.execute_input": "2023-08-24T16:50:12.079285Z",
     "iopub.status.busy": "2023-08-24T16:50:12.078180Z",
     "iopub.status.idle": "2023-08-24T16:50:13.465180Z",
     "shell.execute_reply": "2023-08-24T16:50:13.463808Z"
    },
    "papermill": {
     "duration": 1.403977,
     "end_time": "2023-08-24T16:50:13.468119",
     "exception": false,
     "start_time": "2023-08-24T16:50:12.064142",
     "status": "completed"
    },
    "tags": []
   },
   "outputs": [
    {
     "name": "stderr",
     "output_type": "stream",
     "text": [
      "/opt/conda/lib/python3.10/site-packages/scipy/__init__.py:146: UserWarning: A NumPy version >=1.16.5 and <1.23.0 is required for this version of SciPy (detected version 1.23.5\n",
      "  warnings.warn(f\"A NumPy version >={np_minversion} and <{np_maxversion}\"\n"
     ]
    }
   ],
   "source": [
    "import seaborn as sns"
   ]
  },
  {
   "cell_type": "code",
   "execution_count": 9,
   "id": "647dafe4",
   "metadata": {
    "execution": {
     "iopub.execute_input": "2023-08-24T16:50:13.496205Z",
     "iopub.status.busy": "2023-08-24T16:50:13.495516Z",
     "iopub.status.idle": "2023-08-24T16:50:14.202019Z",
     "shell.execute_reply": "2023-08-24T16:50:14.200880Z"
    },
    "papermill": {
     "duration": 0.723301,
     "end_time": "2023-08-24T16:50:14.204514",
     "exception": false,
     "start_time": "2023-08-24T16:50:13.481213",
     "status": "completed"
    },
    "tags": []
   },
   "outputs": [
    {
     "data": {
      "text/plain": [
       "<Axes: xlabel='Usage Frequency', ylabel='Density'>"
      ]
     },
     "execution_count": 9,
     "metadata": {},
     "output_type": "execute_result"
    },
    {
     "data": {
      "image/png": "[encoded data removed]",
      "text/plain": [
       "<Figure size 640x480 with 1 Axes>"
      ]
     },
     "metadata": {},
     "output_type": "display_data"
    }
   ],
   "source": [
    "sns.kdeplot(data = df, x = 'Usage Frequency' , hue = 'Churn')"
   ]
  },
  {
   "cell_type": "code",
   "execution_count": 10,
   "id": "3c80c279",
   "metadata": {
    "execution": {
     "iopub.execute_input": "2023-08-24T16:50:14.233650Z",
     "iopub.status.busy": "2023-08-24T16:50:14.233204Z",
     "iopub.status.idle": "2023-08-24T16:50:14.917720Z",
     "shell.execute_reply": "2023-08-24T16:50:14.916487Z"
    },
    "papermill": {
     "duration": 0.701956,
     "end_time": "2023-08-24T16:50:14.920131",
     "exception": false,
     "start_time": "2023-08-24T16:50:14.218175",
     "status": "completed"
    },
    "tags": []
   },
   "outputs": [
    {
     "data": {
      "text/plain": [
       "<Axes: xlabel='Total Spend', ylabel='Density'>"
      ]
     },
     "execution_count": 10,
     "metadata": {},
     "output_type": "execute_result"
    },
    {
     "data": {
      "image/png": "[encoded data removed]",
      "text/plain": [
       "<Figure size 640x480 with 1 Axes>"
      ]
     },
     "metadata": {},
     "output_type": "display_data"
    }
   ],
   "source": [
    "sns.kdeplot(data = df, x = 'Total Spend' , hue = 'Churn')"
   ]
  },
  {
   "cell_type": "code",
   "execution_count": 11,
   "id": "2ee5ccb0",
   "metadata": {
    "execution": {
     "iopub.execute_input": "2023-08-24T16:50:14.952073Z",
     "iopub.status.busy": "2023-08-24T16:50:14.951677Z",
     "iopub.status.idle": "2023-08-24T16:50:14.957653Z",
     "shell.execute_reply": "2023-08-24T16:50:14.956384Z"
    },
    "papermill": {
     "duration": 0.025374,
     "end_time": "2023-08-24T16:50:14.960387",
     "exception": false,
     "start_time": "2023-08-24T16:50:14.935013",
     "status": "completed"
    },
    "tags": []
   },
   "outputs": [],
   "source": [
    "def cat_to_num(df, col, cat1, cat2, cat3 = None):\n",
    "    df.loc[df[col] == cat1, col] = 0\n",
    "    df.loc[df[col] == cat2, col] = 1\n",
    "    df.loc[df[col] == cat3, col] = 2\n"
   ]
  },
  {
   "cell_type": "code",
   "execution_count": 12,
   "id": "7bade11d",
   "metadata": {
    "execution": {
     "iopub.execute_input": "2023-08-24T16:50:14.991383Z",
     "iopub.status.busy": "2023-08-24T16:50:14.990943Z",
     "iopub.status.idle": "2023-08-24T16:50:15.792434Z",
     "shell.execute_reply": "2023-08-24T16:50:15.791108Z"
    },
    "papermill": {
     "duration": 0.820166,
     "end_time": "2023-08-24T16:50:15.795227",
     "exception": false,
     "start_time": "2023-08-24T16:50:14.975061",
     "status": "completed"
    },
    "tags": []
   },
   "outputs": [],
   "source": [
    "cat_to_num(df, 'Subscription Type', 'Standard' , 'Basic', 'Premium')\n",
    "cat_to_num(df, 'Contract Length', 'Monthly' , 'Quarterly', 'Annual')\n",
    "cat_to_num(df, 'Gender', 'Male' , 'Female')\n",
    "\n",
    "cat_to_num(dt, 'Subscription Type', 'Standard' , 'Basic', 'Premium')\n",
    "cat_to_num(dt, 'Contract Length', 'Monthly' , 'Quarterly', 'Annual')\n",
    "cat_to_num(dt, 'Gender', 'Male' , 'Female')\n"
   ]
  },
  {
   "cell_type": "code",
   "execution_count": 13,
   "id": "46d723d9",
   "metadata": {
    "execution": {
     "iopub.execute_input": "2023-08-24T16:50:15.826355Z",
     "iopub.status.busy": "2023-08-24T16:50:15.825621Z",
     "iopub.status.idle": "2023-08-24T16:50:15.842736Z",
     "shell.execute_reply": "2023-08-24T16:50:15.841548Z"
    },
    "papermill": {
     "duration": 0.035639,
     "end_time": "2023-08-24T16:50:15.845357",
     "exception": false,
     "start_time": "2023-08-24T16:50:15.809718",
     "status": "completed"
    },
    "tags": []
   },
   "outputs": [
    {
     "data": {
      "text/html": [
       "<div>\n",
       "<style scoped>\n",
       "    .dataframe tbody tr th:only-of-type {\n",
       "        vertical-align: middle;\n",
       "    }\n",
       "\n",
       "    .dataframe tbody tr th {\n",
       "        vertical-align: top;\n",
       "    }\n",
       "\n",
       "    .dataframe thead th {\n",
       "        text-align: right;\n",
       "    }\n",
       "</style>\n",
       "<table border=\"1\" class=\"dataframe\">\n",
       "  <thead>\n",
       "    <tr style=\"text-align: right;\">\n",
       "      <th></th>\n",
       "      <th>CustomerID</th>\n",
       "      <th>Age</th>\n",
       "      <th>Gender</th>\n",
       "      <th>Tenure</th>\n",
       "      <th>Usage Frequency</th>\n",
       "      <th>Support Calls</th>\n",
       "      <th>Payment Delay</th>\n",
       "      <th>Subscription Type</th>\n",
       "      <th>Contract Length</th>\n",
       "      <th>Total Spend</th>\n",
       "      <th>Last Interaction</th>\n",
       "      <th>Churn</th>\n",
       "    </tr>\n",
       "  </thead>\n",
       "  <tbody>\n",
       "    <tr>\n",
       "      <th>5582</th>\n",
       "      <td>5583</td>\n",
       "      <td>19</td>\n",
       "      <td>1</td>\n",
       "      <td>8</td>\n",
       "      <td>17</td>\n",
       "      <td>3</td>\n",
       "      <td>2</td>\n",
       "      <td>2</td>\n",
       "      <td>1</td>\n",
       "      <td>257</td>\n",
       "      <td>17</td>\n",
       "      <td>0</td>\n",
       "    </tr>\n",
       "    <tr>\n",
       "      <th>38891</th>\n",
       "      <td>38892</td>\n",
       "      <td>29</td>\n",
       "      <td>1</td>\n",
       "      <td>4</td>\n",
       "      <td>10</td>\n",
       "      <td>1</td>\n",
       "      <td>16</td>\n",
       "      <td>0</td>\n",
       "      <td>2</td>\n",
       "      <td>919</td>\n",
       "      <td>3</td>\n",
       "      <td>0</td>\n",
       "    </tr>\n",
       "    <tr>\n",
       "      <th>33371</th>\n",
       "      <td>33372</td>\n",
       "      <td>24</td>\n",
       "      <td>0</td>\n",
       "      <td>4</td>\n",
       "      <td>24</td>\n",
       "      <td>2</td>\n",
       "      <td>7</td>\n",
       "      <td>0</td>\n",
       "      <td>1</td>\n",
       "      <td>327</td>\n",
       "      <td>4</td>\n",
       "      <td>0</td>\n",
       "    </tr>\n",
       "    <tr>\n",
       "      <th>50924</th>\n",
       "      <td>50925</td>\n",
       "      <td>34</td>\n",
       "      <td>0</td>\n",
       "      <td>48</td>\n",
       "      <td>3</td>\n",
       "      <td>7</td>\n",
       "      <td>17</td>\n",
       "      <td>0</td>\n",
       "      <td>0</td>\n",
       "      <td>202</td>\n",
       "      <td>14</td>\n",
       "      <td>1</td>\n",
       "    </tr>\n",
       "    <tr>\n",
       "      <th>63588</th>\n",
       "      <td>63589</td>\n",
       "      <td>63</td>\n",
       "      <td>1</td>\n",
       "      <td>38</td>\n",
       "      <td>29</td>\n",
       "      <td>8</td>\n",
       "      <td>16</td>\n",
       "      <td>2</td>\n",
       "      <td>2</td>\n",
       "      <td>349</td>\n",
       "      <td>3</td>\n",
       "      <td>1</td>\n",
       "    </tr>\n",
       "  </tbody>\n",
       "</table>\n",
       "</div>"
      ],
      "text/plain": [
       "       CustomerID  Age Gender  Tenure  Usage Frequency  Support Calls  \\\n",
       "5582         5583   19      1       8               17              3   \n",
       "38891       38892   29      1       4               10              1   \n",
       "33371       33372   24      0       4               24              2   \n",
       "50924       50925   34      0      48                3              7   \n",
       "63588       63589   63      1      38               29              8   \n",
       "\n",
       "       Payment Delay Subscription Type Contract Length  Total Spend  \\\n",
       "5582               2                 2               1          257   \n",
       "38891             16                 0               2          919   \n",
       "33371              7                 0               1          327   \n",
       "50924             17                 0               0          202   \n",
       "63588             16                 2               2          349   \n",
       "\n",
       "       Last Interaction  Churn  \n",
       "5582                 17      0  \n",
       "38891                 3      0  \n",
       "33371                 4      0  \n",
       "50924                14      1  \n",
       "63588                 3      1  "
      ]
     },
     "execution_count": 13,
     "metadata": {},
     "output_type": "execute_result"
    }
   ],
   "source": [
    "df.sample(5)"
   ]
  },
  {
   "cell_type": "code",
   "execution_count": 14,
   "id": "69379360",
   "metadata": {
    "execution": {
     "iopub.execute_input": "2023-08-24T16:50:15.876597Z",
     "iopub.status.busy": "2023-08-24T16:50:15.875981Z",
     "iopub.status.idle": "2023-08-24T16:50:16.542179Z",
     "shell.execute_reply": "2023-08-24T16:50:16.541009Z"
    },
    "papermill": {
     "duration": 0.68516,
     "end_time": "2023-08-24T16:50:16.545144",
     "exception": false,
     "start_time": "2023-08-24T16:50:15.859984",
     "status": "completed"
    },
    "tags": []
   },
   "outputs": [],
   "source": [
    "from sklearn.model_selection import train_test_split\n",
    "from sklearn.ensemble import RandomForestClassifier,GradientBoostingClassifier\n",
    "from sklearn.metrics import accuracy_score \n",
    "from sklearn.compose import ColumnTransformer\n",
    "from sklearn.preprocessing import KBinsDiscretizer\n",
    "import matplotlib.pyplot as plt"
   ]
  },
  {
   "cell_type": "markdown",
   "id": "20acc3fa",
   "metadata": {
    "papermill": {
     "duration": 0.014227,
     "end_time": "2023-08-24T16:50:16.574798",
     "exception": false,
     "start_time": "2023-08-24T16:50:16.560571",
     "status": "completed"
    },
    "tags": []
   },
   "source": [
    "# Binning the Data"
   ]
  },
  {
   "cell_type": "code",
   "execution_count": 15,
   "id": "cb2da0a7",
   "metadata": {
    "execution": {
     "iopub.execute_input": "2023-08-24T16:50:16.606252Z",
     "iopub.status.busy": "2023-08-24T16:50:16.605619Z",
     "iopub.status.idle": "2023-08-24T16:50:16.610861Z",
     "shell.execute_reply": "2023-08-24T16:50:16.610029Z"
    },
    "papermill": {
     "duration": 0.023594,
     "end_time": "2023-08-24T16:50:16.612984",
     "exception": false,
     "start_time": "2023-08-24T16:50:16.589390",
     "status": "completed"
    },
    "tags": []
   },
   "outputs": [],
   "source": [
    "trans = KBinsDiscretizer(n_bins=7,encode='ordinal',strategy='kmeans')"
   ]
  },
  {
   "cell_type": "code",
   "execution_count": 16,
   "id": "2a15a9e2",
   "metadata": {
    "execution": {
     "iopub.execute_input": "2023-08-24T16:50:16.644612Z",
     "iopub.status.busy": "2023-08-24T16:50:16.643973Z",
     "iopub.status.idle": "2023-08-24T16:50:16.650512Z",
     "shell.execute_reply": "2023-08-24T16:50:16.649287Z"
    },
    "papermill": {
     "duration": 0.025317,
     "end_time": "2023-08-24T16:50:16.653032",
     "exception": false,
     "start_time": "2023-08-24T16:50:16.627715",
     "status": "completed"
    },
    "tags": []
   },
   "outputs": [],
   "source": [
    "def transform(df, cols, trans):\n",
    "    for col in cols:\n",
    "        trf = ColumnTransformer(\n",
    "            transformers=[(col, trans, [col])]\n",
    "        )\n",
    "        trf_data = trf.fit_transform(df)\n",
    "        df[col] = trf_data[:, 0] \n",
    "    return df"
   ]
  },
  {
   "cell_type": "code",
   "execution_count": 17,
   "id": "1127e42f",
   "metadata": {
    "execution": {
     "iopub.execute_input": "2023-08-24T16:50:16.685074Z",
     "iopub.status.busy": "2023-08-24T16:50:16.684232Z",
     "iopub.status.idle": "2023-08-24T16:50:16.921554Z",
     "shell.execute_reply": "2023-08-24T16:50:16.920388Z"
    },
    "papermill": {
     "duration": 0.255873,
     "end_time": "2023-08-24T16:50:16.923915",
     "exception": false,
     "start_time": "2023-08-24T16:50:16.668042",
     "status": "completed"
    },
    "tags": []
   },
   "outputs": [
    {
     "data": {
      "text/plain": [
       "(array([6458., 6481., 6556., 5295., 6495., 6522., 5209., 7231., 6974.,\n",
       "        7153.]),\n",
       " array([18. , 22.7, 27.4, 32.1, 36.8, 41.5, 46.2, 50.9, 55.6, 60.3, 65. ]),\n",
       " <BarContainer object of 10 artists>)"
      ]
     },
     "execution_count": 17,
     "metadata": {},
     "output_type": "execute_result"
    },
    {
     "data": {
      "image/png": "[encoded data removed]",
      "text/plain": [
       "<Figure size 640x480 with 1 Axes>"
      ]
     },
     "metadata": {},
     "output_type": "display_data"
    }
   ],
   "source": [
    "plt.hist(df['Age'])"
   ]
  },
  {
   "cell_type": "code",
   "execution_count": 18,
   "id": "5201a879",
   "metadata": {
    "execution": {
     "iopub.execute_input": "2023-08-24T16:50:16.956736Z",
     "iopub.status.busy": "2023-08-24T16:50:16.956094Z",
     "iopub.status.idle": "2023-08-24T16:50:17.404594Z",
     "shell.execute_reply": "2023-08-24T16:50:17.403355Z"
    },
    "papermill": {
     "duration": 0.468681,
     "end_time": "2023-08-24T16:50:17.407678",
     "exception": false,
     "start_time": "2023-08-24T16:50:16.938997",
     "status": "completed"
    },
    "tags": []
   },
   "outputs": [],
   "source": [
    "trf_df = transform(df, ['Support Calls','Tenure','Usage Frequency', 'Total Spend', 'Last Interaction'], trans)\n",
    "trf_dt = transform(df, ['Support Calls','Tenure','Usage Frequency', 'Total Spend', 'Last Interaction'], trans)"
   ]
  },
  {
   "cell_type": "code",
   "execution_count": 19,
   "id": "ed3d68ef",
   "metadata": {
    "execution": {
     "iopub.execute_input": "2023-08-24T16:50:17.440596Z",
     "iopub.status.busy": "2023-08-24T16:50:17.439521Z",
     "iopub.status.idle": "2023-08-24T16:50:17.461500Z",
     "shell.execute_reply": "2023-08-24T16:50:17.460673Z"
    },
    "papermill": {
     "duration": 0.040989,
     "end_time": "2023-08-24T16:50:17.464018",
     "exception": false,
     "start_time": "2023-08-24T16:50:17.423029",
     "status": "completed"
    },
    "tags": []
   },
   "outputs": [
    {
     "data": {
      "text/html": [
       "<div>\n",
       "<style scoped>\n",
       "    .dataframe tbody tr th:only-of-type {\n",
       "        vertical-align: middle;\n",
       "    }\n",
       "\n",
       "    .dataframe tbody tr th {\n",
       "        vertical-align: top;\n",
       "    }\n",
       "\n",
       "    .dataframe thead th {\n",
       "        text-align: right;\n",
       "    }\n",
       "</style>\n",
       "<table border=\"1\" class=\"dataframe\">\n",
       "  <thead>\n",
       "    <tr style=\"text-align: right;\">\n",
       "      <th></th>\n",
       "      <th>CustomerID</th>\n",
       "      <th>Age</th>\n",
       "      <th>Gender</th>\n",
       "      <th>Tenure</th>\n",
       "      <th>Usage Frequency</th>\n",
       "      <th>Support Calls</th>\n",
       "      <th>Payment Delay</th>\n",
       "      <th>Subscription Type</th>\n",
       "      <th>Contract Length</th>\n",
       "      <th>Total Spend</th>\n",
       "      <th>Last Interaction</th>\n",
       "      <th>Churn</th>\n",
       "    </tr>\n",
       "  </thead>\n",
       "  <tbody>\n",
       "    <tr>\n",
       "      <th>36432</th>\n",
       "      <td>36433</td>\n",
       "      <td>56</td>\n",
       "      <td>1</td>\n",
       "      <td>3.0</td>\n",
       "      <td>4.0</td>\n",
       "      <td>2.0</td>\n",
       "      <td>25</td>\n",
       "      <td>0</td>\n",
       "      <td>1</td>\n",
       "      <td>4.0</td>\n",
       "      <td>0.0</td>\n",
       "      <td>0</td>\n",
       "    </tr>\n",
       "    <tr>\n",
       "      <th>28431</th>\n",
       "      <td>28432</td>\n",
       "      <td>22</td>\n",
       "      <td>1</td>\n",
       "      <td>4.0</td>\n",
       "      <td>5.0</td>\n",
       "      <td>4.0</td>\n",
       "      <td>1</td>\n",
       "      <td>0</td>\n",
       "      <td>1</td>\n",
       "      <td>1.0</td>\n",
       "      <td>2.0</td>\n",
       "      <td>0</td>\n",
       "    </tr>\n",
       "    <tr>\n",
       "      <th>40656</th>\n",
       "      <td>40657</td>\n",
       "      <td>53</td>\n",
       "      <td>0</td>\n",
       "      <td>2.0</td>\n",
       "      <td>5.0</td>\n",
       "      <td>6.0</td>\n",
       "      <td>13</td>\n",
       "      <td>0</td>\n",
       "      <td>2</td>\n",
       "      <td>1.0</td>\n",
       "      <td>0.0</td>\n",
       "      <td>0</td>\n",
       "    </tr>\n",
       "    <tr>\n",
       "      <th>20625</th>\n",
       "      <td>20626</td>\n",
       "      <td>27</td>\n",
       "      <td>1</td>\n",
       "      <td>6.0</td>\n",
       "      <td>4.0</td>\n",
       "      <td>1.0</td>\n",
       "      <td>0</td>\n",
       "      <td>1</td>\n",
       "      <td>2</td>\n",
       "      <td>1.0</td>\n",
       "      <td>0.0</td>\n",
       "      <td>0</td>\n",
       "    </tr>\n",
       "    <tr>\n",
       "      <th>27594</th>\n",
       "      <td>27595</td>\n",
       "      <td>31</td>\n",
       "      <td>0</td>\n",
       "      <td>2.0</td>\n",
       "      <td>0.0</td>\n",
       "      <td>5.0</td>\n",
       "      <td>16</td>\n",
       "      <td>0</td>\n",
       "      <td>2</td>\n",
       "      <td>5.0</td>\n",
       "      <td>0.0</td>\n",
       "      <td>1</td>\n",
       "    </tr>\n",
       "  </tbody>\n",
       "</table>\n",
       "</div>"
      ],
      "text/plain": [
       "       CustomerID  Age Gender  Tenure  Usage Frequency  Support Calls  \\\n",
       "36432       36433   56      1     3.0              4.0            2.0   \n",
       "28431       28432   22      1     4.0              5.0            4.0   \n",
       "40656       40657   53      0     2.0              5.0            6.0   \n",
       "20625       20626   27      1     6.0              4.0            1.0   \n",
       "27594       27595   31      0     2.0              0.0            5.0   \n",
       "\n",
       "       Payment Delay Subscription Type Contract Length  Total Spend  \\\n",
       "36432             25                 0               1          4.0   \n",
       "28431              1                 0               1          1.0   \n",
       "40656             13                 0               2          1.0   \n",
       "20625              0                 1               2          1.0   \n",
       "27594             16                 0               2          5.0   \n",
       "\n",
       "       Last Interaction  Churn  \n",
       "36432               0.0      0  \n",
       "28431               2.0      0  \n",
       "40656               0.0      0  \n",
       "20625               0.0      0  \n",
       "27594               0.0      1  "
      ]
     },
     "execution_count": 19,
     "metadata": {},
     "output_type": "execute_result"
    }
   ],
   "source": [
    "trf_df.sample(5)"
   ]
  },
  {
   "cell_type": "code",
   "execution_count": 20,
   "id": "feed7b5b",
   "metadata": {
    "execution": {
     "iopub.execute_input": "2023-08-24T16:50:17.496939Z",
     "iopub.status.busy": "2023-08-24T16:50:17.496563Z",
     "iopub.status.idle": "2023-08-24T16:50:17.502500Z",
     "shell.execute_reply": "2023-08-24T16:50:17.501370Z"
    },
    "papermill": {
     "duration": 0.024928,
     "end_time": "2023-08-24T16:50:17.504744",
     "exception": false,
     "start_time": "2023-08-24T16:50:17.479816",
     "status": "completed"
    },
    "tags": []
   },
   "outputs": [],
   "source": [
    "trf_df.set_index('CustomerID', inplace = True)"
   ]
  },
  {
   "cell_type": "code",
   "execution_count": 21,
   "id": "d5599eff",
   "metadata": {
    "execution": {
     "iopub.execute_input": "2023-08-24T16:50:17.537792Z",
     "iopub.status.busy": "2023-08-24T16:50:17.537385Z",
     "iopub.status.idle": "2023-08-24T16:50:17.557456Z",
     "shell.execute_reply": "2023-08-24T16:50:17.556262Z"
    },
    "papermill": {
     "duration": 0.039056,
     "end_time": "2023-08-24T16:50:17.559695",
     "exception": false,
     "start_time": "2023-08-24T16:50:17.520639",
     "status": "completed"
    },
    "tags": []
   },
   "outputs": [
    {
     "data": {
      "text/html": [
       "<div>\n",
       "<style scoped>\n",
       "    .dataframe tbody tr th:only-of-type {\n",
       "        vertical-align: middle;\n",
       "    }\n",
       "\n",
       "    .dataframe tbody tr th {\n",
       "        vertical-align: top;\n",
       "    }\n",
       "\n",
       "    .dataframe thead th {\n",
       "        text-align: right;\n",
       "    }\n",
       "</style>\n",
       "<table border=\"1\" class=\"dataframe\">\n",
       "  <thead>\n",
       "    <tr style=\"text-align: right;\">\n",
       "      <th></th>\n",
       "      <th>Age</th>\n",
       "      <th>Gender</th>\n",
       "      <th>Tenure</th>\n",
       "      <th>Usage Frequency</th>\n",
       "      <th>Support Calls</th>\n",
       "      <th>Payment Delay</th>\n",
       "      <th>Subscription Type</th>\n",
       "      <th>Contract Length</th>\n",
       "      <th>Total Spend</th>\n",
       "      <th>Last Interaction</th>\n",
       "      <th>Churn</th>\n",
       "    </tr>\n",
       "    <tr>\n",
       "      <th>CustomerID</th>\n",
       "      <th></th>\n",
       "      <th></th>\n",
       "      <th></th>\n",
       "      <th></th>\n",
       "      <th></th>\n",
       "      <th></th>\n",
       "      <th></th>\n",
       "      <th></th>\n",
       "      <th></th>\n",
       "      <th></th>\n",
       "      <th></th>\n",
       "    </tr>\n",
       "  </thead>\n",
       "  <tbody>\n",
       "    <tr>\n",
       "      <th>1</th>\n",
       "      <td>22</td>\n",
       "      <td>1</td>\n",
       "      <td>2.0</td>\n",
       "      <td>3.0</td>\n",
       "      <td>2.0</td>\n",
       "      <td>27</td>\n",
       "      <td>1</td>\n",
       "      <td>0</td>\n",
       "      <td>3.0</td>\n",
       "      <td>1.0</td>\n",
       "      <td>1</td>\n",
       "    </tr>\n",
       "    <tr>\n",
       "      <th>2</th>\n",
       "      <td>41</td>\n",
       "      <td>1</td>\n",
       "      <td>3.0</td>\n",
       "      <td>6.0</td>\n",
       "      <td>4.0</td>\n",
       "      <td>13</td>\n",
       "      <td>0</td>\n",
       "      <td>0</td>\n",
       "      <td>3.0</td>\n",
       "      <td>4.0</td>\n",
       "      <td>0</td>\n",
       "    </tr>\n",
       "    <tr>\n",
       "      <th>3</th>\n",
       "      <td>47</td>\n",
       "      <td>0</td>\n",
       "      <td>3.0</td>\n",
       "      <td>2.0</td>\n",
       "      <td>1.0</td>\n",
       "      <td>29</td>\n",
       "      <td>2</td>\n",
       "      <td>2</td>\n",
       "      <td>5.0</td>\n",
       "      <td>4.0</td>\n",
       "      <td>0</td>\n",
       "    </tr>\n",
       "    <tr>\n",
       "      <th>4</th>\n",
       "      <td>35</td>\n",
       "      <td>0</td>\n",
       "      <td>0.0</td>\n",
       "      <td>2.0</td>\n",
       "      <td>3.0</td>\n",
       "      <td>17</td>\n",
       "      <td>2</td>\n",
       "      <td>1</td>\n",
       "      <td>1.0</td>\n",
       "      <td>4.0</td>\n",
       "      <td>0</td>\n",
       "    </tr>\n",
       "    <tr>\n",
       "      <th>5</th>\n",
       "      <td>53</td>\n",
       "      <td>1</td>\n",
       "      <td>6.0</td>\n",
       "      <td>5.0</td>\n",
       "      <td>6.0</td>\n",
       "      <td>2</td>\n",
       "      <td>0</td>\n",
       "      <td>2</td>\n",
       "      <td>3.0</td>\n",
       "      <td>4.0</td>\n",
       "      <td>0</td>\n",
       "    </tr>\n",
       "  </tbody>\n",
       "</table>\n",
       "</div>"
      ],
      "text/plain": [
       "            Age Gender  Tenure  Usage Frequency  Support Calls  Payment Delay  \\\n",
       "CustomerID                                                                      \n",
       "1            22      1     2.0              3.0            2.0             27   \n",
       "2            41      1     3.0              6.0            4.0             13   \n",
       "3            47      0     3.0              2.0            1.0             29   \n",
       "4            35      0     0.0              2.0            3.0             17   \n",
       "5            53      1     6.0              5.0            6.0              2   \n",
       "\n",
       "           Subscription Type Contract Length  Total Spend  Last Interaction  \\\n",
       "CustomerID                                                                    \n",
       "1                          1               0          3.0               1.0   \n",
       "2                          0               0          3.0               4.0   \n",
       "3                          2               2          5.0               4.0   \n",
       "4                          2               1          1.0               4.0   \n",
       "5                          0               2          3.0               4.0   \n",
       "\n",
       "            Churn  \n",
       "CustomerID         \n",
       "1               1  \n",
       "2               0  \n",
       "3               0  \n",
       "4               0  \n",
       "5               0  "
      ]
     },
     "execution_count": 21,
     "metadata": {},
     "output_type": "execute_result"
    }
   ],
   "source": [
    "trf_dt.head()"
   ]
  },
  {
   "cell_type": "markdown",
   "id": "4ed67676",
   "metadata": {
    "papermill": {
     "duration": 0.015368,
     "end_time": "2023-08-24T16:50:17.590841",
     "exception": false,
     "start_time": "2023-08-24T16:50:17.575473",
     "status": "completed"
    },
    "tags": []
   },
   "source": []
  },
  {
   "cell_type": "code",
   "execution_count": 22,
   "id": "0688b29f",
   "metadata": {
    "execution": {
     "iopub.execute_input": "2023-08-24T16:50:17.624580Z",
     "iopub.status.busy": "2023-08-24T16:50:17.623575Z",
     "iopub.status.idle": "2023-08-24T16:50:17.627870Z",
     "shell.execute_reply": "2023-08-24T16:50:17.627113Z"
    },
    "papermill": {
     "duration": 0.023316,
     "end_time": "2023-08-24T16:50:17.629902",
     "exception": false,
     "start_time": "2023-08-24T16:50:17.606586",
     "status": "completed"
    },
    "tags": []
   },
   "outputs": [],
   "source": [
    "#trf_dt.set_index('CustomerID', inplace = True)"
   ]
  },
  {
   "cell_type": "markdown",
   "id": "e99e1316",
   "metadata": {
    "papermill": {
     "duration": 0.015413,
     "end_time": "2023-08-24T16:50:17.661082",
     "exception": false,
     "start_time": "2023-08-24T16:50:17.645669",
     "status": "completed"
    },
    "tags": []
   },
   "source": [
    "# **Model Training and Testing**"
   ]
  },
  {
   "cell_type": "code",
   "execution_count": 23,
   "id": "ad4f3c0a",
   "metadata": {
    "execution": {
     "iopub.execute_input": "2023-08-24T16:50:17.695326Z",
     "iopub.status.busy": "2023-08-24T16:50:17.694714Z",
     "iopub.status.idle": "2023-08-24T16:50:17.770001Z",
     "shell.execute_reply": "2023-08-24T16:50:17.768808Z"
    },
    "papermill": {
     "duration": 0.096108,
     "end_time": "2023-08-24T16:50:17.772948",
     "exception": false,
     "start_time": "2023-08-24T16:50:17.676840",
     "status": "completed"
    },
    "tags": []
   },
   "outputs": [],
   "source": [
    "x_train = trf_df.iloc[:,:-1].values\n",
    "y_train = trf_df.iloc[:,-1].values\n",
    "x_test = trf_dt.iloc[:,:-1].values\n",
    "y_test = trf_dt.iloc[:,-1].values"
   ]
  },
  {
   "cell_type": "code",
   "execution_count": 24,
   "id": "3083a544",
   "metadata": {
    "execution": {
     "iopub.execute_input": "2023-08-24T16:50:17.807465Z",
     "iopub.status.busy": "2023-08-24T16:50:17.807018Z",
     "iopub.status.idle": "2023-08-24T16:50:20.561461Z",
     "shell.execute_reply": "2023-08-24T16:50:20.560383Z"
    },
    "papermill": {
     "duration": 2.774795,
     "end_time": "2023-08-24T16:50:20.564236",
     "exception": false,
     "start_time": "2023-08-24T16:50:17.789441",
     "status": "completed"
    },
    "tags": []
   },
   "outputs": [],
   "source": [
    "rfc = RandomForestClassifier(n_estimators=50, max_depth = 10)\n",
    "rfc.fit(x_train, y_train)\n",
    "y_pred = rfc.predict(x_test)"
   ]
  },
  {
   "cell_type": "code",
   "execution_count": 25,
   "id": "426b0d21",
   "metadata": {
    "execution": {
     "iopub.execute_input": "2023-08-24T16:50:20.598180Z",
     "iopub.status.busy": "2023-08-24T16:50:20.597160Z",
     "iopub.status.idle": "2023-08-24T16:50:20.702817Z",
     "shell.execute_reply": "2023-08-24T16:50:20.701753Z"
    },
    "papermill": {
     "duration": 0.125551,
     "end_time": "2023-08-24T16:50:20.705721",
     "exception": false,
     "start_time": "2023-08-24T16:50:20.580170",
     "status": "completed"
    },
    "tags": []
   },
   "outputs": [],
   "source": [
    "from sklearn.metrics import confusion_matrix, accuracy_score, precision_score, recall_score, f1_score, classification_report\n",
    "cm = confusion_matrix(y_test, y_pred)\n",
    "\n",
    "accuracy = accuracy_score(y_test, y_pred)\n",
    "precision = precision_score(y_test, y_pred)\n",
    "recall = recall_score(y_test, y_pred)\n",
    "f1 = f1_score(y_test, y_pred)"
   ]
  },
  {
   "cell_type": "code",
   "execution_count": 26,
   "id": "3be80180",
   "metadata": {
    "execution": {
     "iopub.execute_input": "2023-08-24T16:50:20.739171Z",
     "iopub.status.busy": "2023-08-24T16:50:20.738784Z",
     "iopub.status.idle": "2023-08-24T16:50:20.969875Z",
     "shell.execute_reply": "2023-08-24T16:50:20.968930Z"
    },
    "papermill": {
     "duration": 0.251008,
     "end_time": "2023-08-24T16:50:20.972643",
     "exception": false,
     "start_time": "2023-08-24T16:50:20.721635",
     "status": "completed"
    },
    "tags": []
   },
   "outputs": [
    {
     "data": {
      "image/png": "[encoded data removed]",
      "text/plain": [
       "<Figure size 640x480 with 2 Axes>"
      ]
     },
     "metadata": {},
     "output_type": "display_data"
    }
   ],
   "source": [
    "from sklearn.metrics import ConfusionMatrixDisplay\n",
    "ConfusionMatrixDisplay.from_predictions(y_test, y_pred, cmap = 'Blues')\n",
    "#plt.figure(figsize=(20, 20))\n",
    "plt.show()"
   ]
  },
  {
   "cell_type": "code",
   "execution_count": 27,
   "id": "4f8aff25",
   "metadata": {
    "execution": {
     "iopub.execute_input": "2023-08-24T16:50:21.007724Z",
     "iopub.status.busy": "2023-08-24T16:50:21.007271Z",
     "iopub.status.idle": "2023-08-24T16:50:21.129756Z",
     "shell.execute_reply": "2023-08-24T16:50:21.128414Z"
    },
    "papermill": {
     "duration": 0.143035,
     "end_time": "2023-08-24T16:50:21.132179",
     "exception": false,
     "start_time": "2023-08-24T16:50:20.989144",
     "status": "completed"
    },
    "tags": []
   },
   "outputs": [
    {
     "name": "stdout",
     "output_type": "stream",
     "text": [
      "              precision    recall  f1-score   support\n",
      "\n",
      "           0       0.97      0.99      0.98     33445\n",
      "           1       0.98      0.97      0.98     30929\n",
      "\n",
      "    accuracy                           0.98     64374\n",
      "   macro avg       0.98      0.98      0.98     64374\n",
      "weighted avg       0.98      0.98      0.98     64374\n",
      "\n"
     ]
    }
   ],
   "source": [
    "print(classification_report(y_pred, y_test))"
   ]
  },
  {
   "cell_type": "code",
   "execution_count": 28,
   "id": "807973f7",
   "metadata": {
    "execution": {
     "iopub.execute_input": "2023-08-24T16:50:21.167411Z",
     "iopub.status.busy": "2023-08-24T16:50:21.166998Z",
     "iopub.status.idle": "2023-08-24T16:50:21.173102Z",
     "shell.execute_reply": "2023-08-24T16:50:21.171826Z"
    },
    "papermill": {
     "duration": 0.027066,
     "end_time": "2023-08-24T16:50:21.175764",
     "exception": false,
     "start_time": "2023-08-24T16:50:21.148698",
     "status": "completed"
    },
    "tags": []
   },
   "outputs": [
    {
     "name": "stdout",
     "output_type": "stream",
     "text": [
      "Accuracy  :  0.978997732003604\n",
      "Precision :  0.9710950887516571\n",
      "Recall    :  0.9849801593808415\n",
      "F1-Score  :  0.9779883429390122\n"
     ]
    }
   ],
   "source": [
    "print(\"Accuracy  : \", accuracy)\n",
    "print(\"Precision : \", precision)\n",
    "print(\"Recall    : \", recall)\n",
    "print(\"F1-Score  : \", f1)"
   ]
  },
  {
   "cell_type": "markdown",
   "id": "9f717df2",
   "metadata": {
    "papermill": {
     "duration": 0.015885,
     "end_time": "2023-08-24T16:50:21.208126",
     "exception": false,
     "start_time": "2023-08-24T16:50:21.192241",
     "status": "completed"
    },
    "tags": []
   },
   "source": [
    "# Random Search CV"
   ]
  },
  {
   "cell_type": "code",
   "execution_count": 29,
   "id": "617a7b53",
   "metadata": {
    "execution": {
     "iopub.execute_input": "2023-08-24T16:50:21.242792Z",
     "iopub.status.busy": "2023-08-24T16:50:21.242406Z",
     "iopub.status.idle": "2023-08-24T16:50:21.249673Z",
     "shell.execute_reply": "2023-08-24T16:50:21.248502Z"
    },
    "papermill": {
     "duration": 0.027971,
     "end_time": "2023-08-24T16:50:21.252415",
     "exception": false,
     "start_time": "2023-08-24T16:50:21.224444",
     "status": "completed"
    },
    "tags": []
   },
   "outputs": [],
   "source": [
    "n_estimators = [25,50,100,120]\n",
    "max_features = [0.3,0.6,1.0]\n",
    "max_depth = [2,8,10]\n",
    "max_samples = [0.5,0.75,1.0]\n",
    "bootstrap = [True,False]\n",
    "min_samples_split = [2, 5 , 7]\n",
    "min_samples_leaf = [1, 2, 3]\n",
    "\n",
    "param_grid = {'n_estimators': n_estimators,\n",
    "               'max_features': max_features,\n",
    "               'max_depth': max_depth,\n",
    "              'max_samples':max_samples,\n",
    "              'bootstrap':bootstrap,\n",
    "              'min_samples_split':min_samples_split,\n",
    "              'min_samples_leaf':min_samples_leaf\n",
    "             }"
   ]
  },
  {
   "cell_type": "code",
   "execution_count": 30,
   "id": "9c7b9488",
   "metadata": {
    "execution": {
     "iopub.execute_input": "2023-08-24T16:50:21.287929Z",
     "iopub.status.busy": "2023-08-24T16:50:21.287511Z",
     "iopub.status.idle": "2023-08-24T16:51:05.596472Z",
     "shell.execute_reply": "2023-08-24T16:51:05.594934Z"
    },
    "papermill": {
     "duration": 44.329791,
     "end_time": "2023-08-24T16:51:05.599261",
     "exception": false,
     "start_time": "2023-08-24T16:50:21.269470",
     "status": "completed"
    },
    "tags": []
   },
   "outputs": [
    {
     "name": "stdout",
     "output_type": "stream",
     "text": [
      "Fitting 5 folds for each of 10 candidates, totalling 50 fits\n"
     ]
    },
    {
     "name": "stderr",
     "output_type": "stream",
     "text": [
      "/opt/conda/lib/python3.10/site-packages/scipy/__init__.py:146: UserWarning: A NumPy version >=1.16.5 and <1.23.0 is required for this version of SciPy (detected version 1.23.5\n",
      "  warnings.warn(f\"A NumPy version >={np_minversion} and <{np_maxversion}\"\n",
      "/opt/conda/lib/python3.10/site-packages/scipy/__init__.py:146: UserWarning: A NumPy version >=1.16.5 and <1.23.0 is required for this version of SciPy (detected version 1.23.5\n",
      "  warnings.warn(f\"A NumPy version >={np_minversion} and <{np_maxversion}\"\n",
      "/opt/conda/lib/python3.10/site-packages/scipy/__init__.py:146: UserWarning: A NumPy version >=1.16.5 and <1.23.0 is required for this version of SciPy (detected version 1.23.5\n",
      "  warnings.warn(f\"A NumPy version >={np_minversion} and <{np_maxversion}\"\n",
      "/opt/conda/lib/python3.10/site-packages/scipy/__init__.py:146: UserWarning: A NumPy version >=1.16.5 and <1.23.0 is required for this version of SciPy (detected version 1.23.5\n",
      "  warnings.warn(f\"A NumPy version >={np_minversion} and <{np_maxversion}\"\n",
      "/opt/conda/lib/python3.10/site-packages/sklearn/model_selection/_validation.py:378: FitFailedWarning: \n",
      "25 fits failed out of a total of 50.\n",
      "The score on these train-test partitions for these parameters will be set to nan.\n",
      "If these failures are not expected, you can try to debug them by setting error_score='raise'.\n",
      "\n",
      "Below are more details about the failures:\n",
      "--------------------------------------------------------------------------------\n",
      "25 fits failed with the following error:\n",
      "Traceback (most recent call last):\n",
      "  File \"/opt/conda/lib/python3.10/site-packages/sklearn/model_selection/_validation.py\", line 686, in _fit_and_score\n",
      "    estimator.fit(X_train, y_train, **fit_params)\n",
      "  File \"/opt/conda/lib/python3.10/site-packages/sklearn/ensemble/_forest.py\", line 397, in fit\n",
      "    raise ValueError(\n",
      "ValueError: `max_sample` cannot be set if `bootstrap=False`. Either switch to `bootstrap=True` or set `max_sample=None`.\n",
      "\n",
      "  warnings.warn(some_fits_failed_message, FitFailedWarning)\n",
      "/opt/conda/lib/python3.10/site-packages/sklearn/model_selection/_search.py:952: UserWarning: One or more of the test scores are non-finite: [       nan 0.97028301 0.81857578 0.96698978        nan        nan\n",
      "        nan        nan 0.84882139 0.97095099]\n",
      "  warnings.warn(\n"
     ]
    },
    {
     "data": {
      "text/html": [
       "<style>#sk-container-id-1 {color: black;background-color: white;}#sk-container-id-1 pre{padding: 0;}#sk-container-id-1 div.sk-toggleable {background-color: white;}#sk-container-id-1 label.sk-toggleable__label {cursor: pointer;display: block;width: 100%;margin-bottom: 0;padding: 0.3em;box-sizing: border-box;text-align: center;}#sk-container-id-1 label.sk-toggleable__label-arrow:before {content: \"▸\";float: left;margin-right: 0.25em;color: #696969;}#sk-container-id-1 label.sk-toggleable__label-arrow:hover:before {color: black;}#sk-container-id-1 div.sk-estimator:hover label.sk-toggleable__label-arrow:before {color: black;}#sk-container-id-1 div.sk-toggleable__content {max-height: 0;max-width: 0;overflow: hidden;text-align: left;background-color: #f0f8ff;}#sk-container-id-1 div.sk-toggleable__content pre {margin: 0.2em;color: black;border-radius: 0.25em;background-color: #f0f8ff;}#sk-container-id-1 input.sk-toggleable__control:checked~div.sk-toggleable__content {max-height: 200px;max-width: 100%;overflow: auto;}#sk-container-id-1 input.sk-toggleable__control:checked~label.sk-toggleable__label-arrow:before {content: \"▾\";}#sk-container-id-1 div.sk-estimator input.sk-toggleable__control:checked~label.sk-toggleable__label {background-color: #d4ebff;}#sk-container-id-1 div.sk-label input.sk-toggleable__control:checked~label.sk-toggleable__label {background-color: #d4ebff;}#sk-container-id-1 input.sk-hidden--visually {border: 0;clip: rect(1px 1px 1px 1px);clip: rect(1px, 1px, 1px, 1px);height: 1px;margin: -1px;overflow: hidden;padding: 0;position: absolute;width: 1px;}#sk-container-id-1 div.sk-estimator {font-family: monospace;background-color: #f0f8ff;border: 1px dotted black;border-radius: 0.25em;box-sizing: border-box;margin-bottom: 0.5em;}#sk-container-id-1 div.sk-estimator:hover {background-color: #d4ebff;}#sk-container-id-1 div.sk-parallel-item::after {content: \"\";width: 100%;border-bottom: 1px solid gray;flex-grow: 1;}#sk-container-id-1 div.sk-label:hover label.sk-toggleable__label {background-color: #d4ebff;}#sk-container-id-1 div.sk-serial::before {content: \"\";position: absolute;border-left: 1px solid gray;box-sizing: border-box;top: 0;bottom: 0;left: 50%;z-index: 0;}#sk-container-id-1 div.sk-serial {display: flex;flex-direction: column;align-items: center;background-color: white;padding-right: 0.2em;padding-left: 0.2em;position: relative;}#sk-container-id-1 div.sk-item {position: relative;z-index: 1;}#sk-container-id-1 div.sk-parallel {display: flex;align-items: stretch;justify-content: center;background-color: white;position: relative;}#sk-container-id-1 div.sk-item::before, #sk-container-id-1 div.sk-parallel-item::before {content: \"\";position: absolute;border-left: 1px solid gray;box-sizing: border-box;top: 0;bottom: 0;left: 50%;z-index: -1;}#sk-container-id-1 div.sk-parallel-item {display: flex;flex-direction: column;z-index: 1;position: relative;background-color: white;}#sk-container-id-1 div.sk-parallel-item:first-child::after {align-self: flex-end;width: 50%;}#sk-container-id-1 div.sk-parallel-item:last-child::after {align-self: flex-start;width: 50%;}#sk-container-id-1 div.sk-parallel-item:only-child::after {width: 0;}#sk-container-id-1 div.sk-dashed-wrapped {border: 1px dashed gray;margin: 0 0.4em 0.5em 0.4em;box-sizing: border-box;padding-bottom: 0.4em;background-color: white;}#sk-container-id-1 div.sk-label label {font-family: monospace;font-weight: bold;display: inline-block;line-height: 1.2em;}#sk-container-id-1 div.sk-label-container {text-align: center;}#sk-container-id-1 div.sk-container {/* jupyter's `normalize.less` sets `[hidden] { display: none; }` but bootstrap.min.css set `[hidden] { display: none !important; }` so we also need the `!important` here to be able to override the default hidden behavior on the sphinx rendered scikit-learn.org. See: https://github.com/scikit-learn/scikit-learn/issues/21755 */display: inline-block !important;position: relative;}#sk-container-id-1 div.sk-text-repr-fallback {display: none;}</style><div id=\"sk-container-id-1\" class=\"sk-top-container\"><div class=\"sk-text-repr-fallback\"><pre>RandomizedSearchCV(cv=5,\n",
       "                   estimator=RandomForestClassifier(max_depth=10,\n",
       "                                                    n_estimators=50),\n",
       "                   n_jobs=-1,\n",
       "                   param_distributions={&#x27;bootstrap&#x27;: [True, False],\n",
       "                                        &#x27;max_depth&#x27;: [2, 8, 10],\n",
       "                                        &#x27;max_features&#x27;: [0.3, 0.6, 1.0],\n",
       "                                        &#x27;max_samples&#x27;: [0.5, 0.75, 1.0],\n",
       "                                        &#x27;min_samples_leaf&#x27;: [1, 2, 3],\n",
       "                                        &#x27;min_samples_split&#x27;: [2, 5, 7],\n",
       "                                        &#x27;n_estimators&#x27;: [25, 50, 100, 120]},\n",
       "                   verbose=2)</pre><b>In a Jupyter environment, please rerun this cell to show the HTML representation or trust the notebook. <br />On GitHub, the HTML representation is unable to render, please try loading this page with nbviewer.org.</b></div><div class=\"sk-container\" hidden><div class=\"sk-item sk-dashed-wrapped\"><div class=\"sk-label-container\"><div class=\"sk-label sk-toggleable\"><input class=\"sk-toggleable__control sk-hidden--visually\" id=\"sk-estimator-id-1\" type=\"checkbox\" ><label for=\"sk-estimator-id-1\" class=\"sk-toggleable__label sk-toggleable__label-arrow\">RandomizedSearchCV</label><div class=\"sk-toggleable__content\"><pre>RandomizedSearchCV(cv=5,\n",
       "                   estimator=RandomForestClassifier(max_depth=10,\n",
       "                                                    n_estimators=50),\n",
       "                   n_jobs=-1,\n",
       "                   param_distributions={&#x27;bootstrap&#x27;: [True, False],\n",
       "                                        &#x27;max_depth&#x27;: [2, 8, 10],\n",
       "                                        &#x27;max_features&#x27;: [0.3, 0.6, 1.0],\n",
       "                                        &#x27;max_samples&#x27;: [0.5, 0.75, 1.0],\n",
       "                                        &#x27;min_samples_leaf&#x27;: [1, 2, 3],\n",
       "                                        &#x27;min_samples_split&#x27;: [2, 5, 7],\n",
       "                                        &#x27;n_estimators&#x27;: [25, 50, 100, 120]},\n",
       "                   verbose=2)</pre></div></div></div><div class=\"sk-parallel\"><div class=\"sk-parallel-item\"><div class=\"sk-item\"><div class=\"sk-label-container\"><div class=\"sk-label sk-toggleable\"><input class=\"sk-toggleable__control sk-hidden--visually\" id=\"sk-estimator-id-2\" type=\"checkbox\" ><label for=\"sk-estimator-id-2\" class=\"sk-toggleable__label sk-toggleable__label-arrow\">estimator: RandomForestClassifier</label><div class=\"sk-toggleable__content\"><pre>RandomForestClassifier(max_depth=10, n_estimators=50)</pre></div></div></div><div class=\"sk-serial\"><div class=\"sk-item\"><div class=\"sk-estimator sk-toggleable\"><input class=\"sk-toggleable__control sk-hidden--visually\" id=\"sk-estimator-id-3\" type=\"checkbox\" ><label for=\"sk-estimator-id-3\" class=\"sk-toggleable__label sk-toggleable__label-arrow\">RandomForestClassifier</label><div class=\"sk-toggleable__content\"><pre>RandomForestClassifier(max_depth=10, n_estimators=50)</pre></div></div></div></div></div></div></div></div></div></div>"
      ],
      "text/plain": [
       "RandomizedSearchCV(cv=5,\n",
       "                   estimator=RandomForestClassifier(max_depth=10,\n",
       "                                                    n_estimators=50),\n",
       "                   n_jobs=-1,\n",
       "                   param_distributions={'bootstrap': [True, False],\n",
       "                                        'max_depth': [2, 8, 10],\n",
       "                                        'max_features': [0.3, 0.6, 1.0],\n",
       "                                        'max_samples': [0.5, 0.75, 1.0],\n",
       "                                        'min_samples_leaf': [1, 2, 3],\n",
       "                                        'min_samples_split': [2, 5, 7],\n",
       "                                        'n_estimators': [25, 50, 100, 120]},\n",
       "                   verbose=2)"
      ]
     },
     "execution_count": 30,
     "metadata": {},
     "output_type": "execute_result"
    }
   ],
   "source": [
    "from sklearn.model_selection import RandomizedSearchCV\n",
    "\n",
    "rf_grid = RandomizedSearchCV(estimator = rfc, \n",
    "                       param_distributions = param_grid, \n",
    "                       cv = 5, \n",
    "                       verbose=2, \n",
    "                       n_jobs = -1)\n",
    "rf_grid.fit(x_train,y_train)"
   ]
  },
  {
   "cell_type": "code",
   "execution_count": 31,
   "id": "5a464867",
   "metadata": {
    "execution": {
     "iopub.execute_input": "2023-08-24T16:51:05.638397Z",
     "iopub.status.busy": "2023-08-24T16:51:05.637849Z",
     "iopub.status.idle": "2023-08-24T16:51:05.645956Z",
     "shell.execute_reply": "2023-08-24T16:51:05.644423Z"
    },
    "papermill": {
     "duration": 0.031199,
     "end_time": "2023-08-24T16:51:05.649023",
     "exception": false,
     "start_time": "2023-08-24T16:51:05.617824",
     "status": "completed"
    },
    "tags": []
   },
   "outputs": [
    {
     "data": {
      "text/plain": [
       "{'n_estimators': 100,\n",
       " 'min_samples_split': 7,\n",
       " 'min_samples_leaf': 3,\n",
       " 'max_samples': 1.0,\n",
       " 'max_features': 0.6,\n",
       " 'max_depth': 10,\n",
       " 'bootstrap': True}"
      ]
     },
     "execution_count": 31,
     "metadata": {},
     "output_type": "execute_result"
    }
   ],
   "source": [
    "rf_grid.best_params_"
   ]
  },
  {
   "cell_type": "code",
   "execution_count": 32,
   "id": "3f568b31",
   "metadata": {
    "execution": {
     "iopub.execute_input": "2023-08-24T16:51:05.694984Z",
     "iopub.status.busy": "2023-08-24T16:51:05.694430Z",
     "iopub.status.idle": "2023-08-24T16:51:05.702218Z",
     "shell.execute_reply": "2023-08-24T16:51:05.701193Z"
    },
    "papermill": {
     "duration": 0.035305,
     "end_time": "2023-08-24T16:51:05.707712",
     "exception": false,
     "start_time": "2023-08-24T16:51:05.672407",
     "status": "completed"
    },
    "tags": []
   },
   "outputs": [
    {
     "data": {
      "text/plain": [
       "0.9709509941765673"
      ]
     },
     "execution_count": 32,
     "metadata": {},
     "output_type": "execute_result"
    }
   ],
   "source": [
    "rf_grid.best_score_"
   ]
  }
 ],
 "metadata": {
  "kernelspec": {
   "display_name": "Python 3",
   "language": "python",
   "name": "python3"
  },
  "language_info": {
   "codemirror_mode": {
    "name": "ipython",
    "version": 3
   },
   "file_extension": ".py",
   "mimetype": "text/x-python",
   "name": "python",
   "nbconvert_exporter": "python",
   "pygments_lexer": "ipython3",
   "version": "3.10.12"
  },
  "papermill": {
   "default_parameters": {},
   "duration": 70.153568,
   "end_time": "2023-08-24T16:51:08.346129",
   "environment_variables": {},
   "exception": null,
   "input_path": "__notebook__.ipynb",
   "output_path": "__notebook__.ipynb",
   "parameters": {},
   "start_time": "2023-08-24T16:49:58.192561",
   "version": "2.4.0"
  }
 },
 "nbformat": 4,
 "nbformat_minor": 5
}
