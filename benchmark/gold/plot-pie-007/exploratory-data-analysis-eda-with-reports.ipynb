{
 "cells": [
  {
   "cell_type": "markdown",
   "id": "d83250aa",
   "metadata": {
    "id": "5iC2Z89b9DHJ",
    "papermill": {
     "duration": 0.072603,
     "end_time": "2022-05-01T23:58:21.037317",
     "exception": false,
     "start_time": "2022-05-01T23:58:20.964714",
     "status": "completed"
    },
    "tags": []
   },
   "source": [
    "## Importing Libraries"
   ]
  },
  {
   "cell_type": "code",
   "execution_count": 1,
   "id": "10b62017",
   "metadata": {
    "execution": {
     "iopub.execute_input": "2022-05-01T23:58:21.177144Z",
     "iopub.status.busy": "2022-05-01T23:58:21.176016Z",
     "iopub.status.idle": "2022-05-01T23:58:24.642142Z",
     "shell.execute_reply": "2022-05-01T23:58:24.641001Z"
    },
    "id": "h93SNvfR0Hmq",
    "papermill": {
     "duration": 3.538999,
     "end_time": "2022-05-01T23:58:24.645117",
     "exception": false,
     "start_time": "2022-05-01T23:58:21.106118",
     "status": "completed"
    },
    "tags": []
   },
   "outputs": [
    {
     "name": "stderr",
     "output_type": "stream",
     "text": [
      "/opt/conda/lib/python3.7/site-packages/geopandas/_compat.py:115: UserWarning: The Shapely GEOS version (3.9.1-CAPI-1.14.2) is incompatible with the GEOS version PyGEOS was compiled with (3.10.1-CAPI-1.16.0). Conversions between both will be slow.\n",
      "  shapely_geos_version, geos_capi_version_string\n"
     ]
    }
   ],
   "source": [
    "#Importing Libraries\n",
    "import pandas as pd\n",
    "import numpy as np\n",
    "import matplotlib.pyplot as plt\n",
    "import seaborn as sns\n",
    "import plotly.express as px\n",
    "import plotly.figure_factory as ff\n",
    "import plotly.graph_objects as go\n",
    "import seaborn as sns\n",
    "from itertools import cycle\n",
    "color_cycle = cycle(plt.rcParams['axes.prop_cycle'].by_key()['color'])\n",
    "%matplotlib inline"
   ]
  },
  {
   "cell_type": "markdown",
   "id": "2a232ab1",
   "metadata": {
    "id": "4Kd8AlQK2IZN",
    "papermill": {
     "duration": 0.068664,
     "end_time": "2022-05-01T23:58:24.785177",
     "exception": false,
     "start_time": "2022-05-01T23:58:24.716513",
     "status": "completed"
    },
    "tags": []
   },
   "source": [
    "## Data loading and overview\n",
    "\n",
    "<font color='cyan'>Let's start by reading in the Diabetes Health Indicators Dataset csv file into a pandas dataframe.</font>"
   ]
  },
  {
   "cell_type": "code",
   "execution_count": 2,
   "id": "670fb67e",
   "metadata": {
    "execution": {
     "iopub.execute_input": "2022-05-01T23:58:24.928193Z",
     "iopub.status.busy": "2022-05-01T23:58:24.927528Z",
     "iopub.status.idle": "2022-05-01T23:58:26.108592Z",
     "shell.execute_reply": "2022-05-01T23:58:26.107580Z"
    },
    "id": "JgEmaIrs1Wq9",
    "papermill": {
     "duration": 1.255535,
     "end_time": "2022-05-01T23:58:26.111713",
     "exception": false,
     "start_time": "2022-05-01T23:58:24.856178",
     "status": "completed"
    },
    "tags": []
   },
   "outputs": [],
   "source": [
    "df = pd.read_csv(\"../input/diabetes-health-indicators-dataset/diabetes_012_health_indicators_BRFSS2015.csv\")"
   ]
  },
  {
   "cell_type": "code",
   "execution_count": 3,
   "id": "15fa0526",
   "metadata": {
    "execution": {
     "iopub.execute_input": "2022-05-01T23:58:26.254302Z",
     "iopub.status.busy": "2022-05-01T23:58:26.253955Z",
     "iopub.status.idle": "2022-05-01T23:58:26.259130Z",
     "shell.execute_reply": "2022-05-01T23:58:26.258293Z"
    },
    "id": "toVp3jSn-hC-",
    "outputId": "01caf72f-7150-4973-856c-28c30bd1be2e",
    "papermill": {
     "duration": 0.080122,
     "end_time": "2022-05-01T23:58:26.262060",
     "exception": false,
     "start_time": "2022-05-01T23:58:26.181938",
     "status": "completed"
    },
    "tags": []
   },
   "outputs": [
    {
     "name": "stdout",
     "output_type": "stream",
     "text": [
      "The dataset has 253680 rows and 22 columns.\n"
     ]
    }
   ],
   "source": [
    "##shape of the dataset\n",
    "print(f'The dataset has {df.shape[0]} rows and {df.shape[1]} columns.') "
   ]
  },
  {
   "cell_type": "code",
   "execution_count": 4,
   "id": "23d46fdd",
   "metadata": {
    "execution": {
     "iopub.execute_input": "2022-05-01T23:58:26.403982Z",
     "iopub.status.busy": "2022-05-01T23:58:26.403330Z",
     "iopub.status.idle": "2022-05-01T23:58:26.445625Z",
     "shell.execute_reply": "2022-05-01T23:58:26.444692Z"
    },
    "id": "YS9T5R4d15MP",
    "outputId": "86e46943-b82d-4312-f7fd-1e13b9579212",
    "papermill": {
     "duration": 0.116825,
     "end_time": "2022-05-01T23:58:26.448914",
     "exception": false,
     "start_time": "2022-05-01T23:58:26.332089",
     "status": "completed"
    },
    "tags": []
   },
   "outputs": [
    {
     "data": {
      "text/html": [
       "<div>\n",
       "<style scoped>\n",
       "    .dataframe tbody tr th:only-of-type {\n",
       "        vertical-align: middle;\n",
       "    }\n",
       "\n",
       "    .dataframe tbody tr th {\n",
       "        vertical-align: top;\n",
       "    }\n",
       "\n",
       "    .dataframe thead th {\n",
       "        text-align: right;\n",
       "    }\n",
       "</style>\n",
       "<table border=\"1\" class=\"dataframe\">\n",
       "  <thead>\n",
       "    <tr style=\"text-align: right;\">\n",
       "      <th></th>\n",
       "      <th>Diabetes_012</th>\n",
       "      <th>HighBP</th>\n",
       "      <th>HighChol</th>\n",
       "      <th>CholCheck</th>\n",
       "      <th>BMI</th>\n",
       "      <th>Smoker</th>\n",
       "      <th>Stroke</th>\n",
       "      <th>HeartDiseaseorAttack</th>\n",
       "      <th>PhysActivity</th>\n",
       "      <th>Fruits</th>\n",
       "      <th>...</th>\n",
       "      <th>AnyHealthcare</th>\n",
       "      <th>NoDocbcCost</th>\n",
       "      <th>GenHlth</th>\n",
       "      <th>MentHlth</th>\n",
       "      <th>PhysHlth</th>\n",
       "      <th>DiffWalk</th>\n",
       "      <th>Sex</th>\n",
       "      <th>Age</th>\n",
       "      <th>Education</th>\n",
       "      <th>Income</th>\n",
       "    </tr>\n",
       "  </thead>\n",
       "  <tbody>\n",
       "    <tr>\n",
       "      <th>0</th>\n",
       "      <td>0.0</td>\n",
       "      <td>1.0</td>\n",
       "      <td>1.0</td>\n",
       "      <td>1.0</td>\n",
       "      <td>40.0</td>\n",
       "      <td>1.0</td>\n",
       "      <td>0.0</td>\n",
       "      <td>0.0</td>\n",
       "      <td>0.0</td>\n",
       "      <td>0.0</td>\n",
       "      <td>...</td>\n",
       "      <td>1.0</td>\n",
       "      <td>0.0</td>\n",
       "      <td>5.0</td>\n",
       "      <td>18.0</td>\n",
       "      <td>15.0</td>\n",
       "      <td>1.0</td>\n",
       "      <td>0.0</td>\n",
       "      <td>9.0</td>\n",
       "      <td>4.0</td>\n",
       "      <td>3.0</td>\n",
       "    </tr>\n",
       "    <tr>\n",
       "      <th>1</th>\n",
       "      <td>0.0</td>\n",
       "      <td>0.0</td>\n",
       "      <td>0.0</td>\n",
       "      <td>0.0</td>\n",
       "      <td>25.0</td>\n",
       "      <td>1.0</td>\n",
       "      <td>0.0</td>\n",
       "      <td>0.0</td>\n",
       "      <td>1.0</td>\n",
       "      <td>0.0</td>\n",
       "      <td>...</td>\n",
       "      <td>0.0</td>\n",
       "      <td>1.0</td>\n",
       "      <td>3.0</td>\n",
       "      <td>0.0</td>\n",
       "      <td>0.0</td>\n",
       "      <td>0.0</td>\n",
       "      <td>0.0</td>\n",
       "      <td>7.0</td>\n",
       "      <td>6.0</td>\n",
       "      <td>1.0</td>\n",
       "    </tr>\n",
       "    <tr>\n",
       "      <th>2</th>\n",
       "      <td>0.0</td>\n",
       "      <td>1.0</td>\n",
       "      <td>1.0</td>\n",
       "      <td>1.0</td>\n",
       "      <td>28.0</td>\n",
       "      <td>0.0</td>\n",
       "      <td>0.0</td>\n",
       "      <td>0.0</td>\n",
       "      <td>0.0</td>\n",
       "      <td>1.0</td>\n",
       "      <td>...</td>\n",
       "      <td>1.0</td>\n",
       "      <td>1.0</td>\n",
       "      <td>5.0</td>\n",
       "      <td>30.0</td>\n",
       "      <td>30.0</td>\n",
       "      <td>1.0</td>\n",
       "      <td>0.0</td>\n",
       "      <td>9.0</td>\n",
       "      <td>4.0</td>\n",
       "      <td>8.0</td>\n",
       "    </tr>\n",
       "    <tr>\n",
       "      <th>3</th>\n",
       "      <td>0.0</td>\n",
       "      <td>1.0</td>\n",
       "      <td>0.0</td>\n",
       "      <td>1.0</td>\n",
       "      <td>27.0</td>\n",
       "      <td>0.0</td>\n",
       "      <td>0.0</td>\n",
       "      <td>0.0</td>\n",
       "      <td>1.0</td>\n",
       "      <td>1.0</td>\n",
       "      <td>...</td>\n",
       "      <td>1.0</td>\n",
       "      <td>0.0</td>\n",
       "      <td>2.0</td>\n",
       "      <td>0.0</td>\n",
       "      <td>0.0</td>\n",
       "      <td>0.0</td>\n",
       "      <td>0.0</td>\n",
       "      <td>11.0</td>\n",
       "      <td>3.0</td>\n",
       "      <td>6.0</td>\n",
       "    </tr>\n",
       "    <tr>\n",
       "      <th>4</th>\n",
       "      <td>0.0</td>\n",
       "      <td>1.0</td>\n",
       "      <td>1.0</td>\n",
       "      <td>1.0</td>\n",
       "      <td>24.0</td>\n",
       "      <td>0.0</td>\n",
       "      <td>0.0</td>\n",
       "      <td>0.0</td>\n",
       "      <td>1.0</td>\n",
       "      <td>1.0</td>\n",
       "      <td>...</td>\n",
       "      <td>1.0</td>\n",
       "      <td>0.0</td>\n",
       "      <td>2.0</td>\n",
       "      <td>3.0</td>\n",
       "      <td>0.0</td>\n",
       "      <td>0.0</td>\n",
       "      <td>0.0</td>\n",
       "      <td>11.0</td>\n",
       "      <td>5.0</td>\n",
       "      <td>4.0</td>\n",
       "    </tr>\n",
       "  </tbody>\n",
       "</table>\n",
       "<p>5 rows × 22 columns</p>\n",
       "</div>"
      ],
      "text/plain": [
       "   Diabetes_012  HighBP  HighChol  CholCheck   BMI  Smoker  Stroke  \\\n",
       "0           0.0     1.0       1.0        1.0  40.0     1.0     0.0   \n",
       "1           0.0     0.0       0.0        0.0  25.0     1.0     0.0   \n",
       "2           0.0     1.0       1.0        1.0  28.0     0.0     0.0   \n",
       "3           0.0     1.0       0.0        1.0  27.0     0.0     0.0   \n",
       "4           0.0     1.0       1.0        1.0  24.0     0.0     0.0   \n",
       "\n",
       "   HeartDiseaseorAttack  PhysActivity  Fruits  ...  AnyHealthcare  \\\n",
       "0                   0.0           0.0     0.0  ...            1.0   \n",
       "1                   0.0           1.0     0.0  ...            0.0   \n",
       "2                   0.0           0.0     1.0  ...            1.0   \n",
       "3                   0.0           1.0     1.0  ...            1.0   \n",
       "4                   0.0           1.0     1.0  ...            1.0   \n",
       "\n",
       "   NoDocbcCost  GenHlth  MentHlth  PhysHlth  DiffWalk  Sex   Age  Education  \\\n",
       "0          0.0      5.0      18.0      15.0       1.0  0.0   9.0        4.0   \n",
       "1          1.0      3.0       0.0       0.0       0.0  0.0   7.0        6.0   \n",
       "2          1.0      5.0      30.0      30.0       1.0  0.0   9.0        4.0   \n",
       "3          0.0      2.0       0.0       0.0       0.0  0.0  11.0        3.0   \n",
       "4          0.0      2.0       3.0       0.0       0.0  0.0  11.0        5.0   \n",
       "\n",
       "   Income  \n",
       "0     3.0  \n",
       "1     1.0  \n",
       "2     8.0  \n",
       "3     6.0  \n",
       "4     4.0  \n",
       "\n",
       "[5 rows x 22 columns]"
      ]
     },
     "execution_count": 4,
     "metadata": {},
     "output_type": "execute_result"
    }
   ],
   "source": [
    "#print first five rows\n",
    "df.head()"
   ]
  },
  {
   "cell_type": "code",
   "execution_count": 5,
   "id": "92cb5db4",
   "metadata": {
    "execution": {
     "iopub.execute_input": "2022-05-01T23:58:26.592534Z",
     "iopub.status.busy": "2022-05-01T23:58:26.591820Z",
     "iopub.status.idle": "2022-05-01T23:58:26.632081Z",
     "shell.execute_reply": "2022-05-01T23:58:26.631103Z"
    },
    "id": "b34fVw-pV_RM",
    "outputId": "b6a6ee12-5651-4efd-aa5b-b09b635a65b4",
    "papermill": {
     "duration": 0.115136,
     "end_time": "2022-05-01T23:58:26.634583",
     "exception": false,
     "start_time": "2022-05-01T23:58:26.519447",
     "status": "completed"
    },
    "tags": []
   },
   "outputs": [
    {
     "name": "stdout",
     "output_type": "stream",
     "text": [
      "<class 'pandas.core.frame.DataFrame'>\n",
      "RangeIndex: 253680 entries, 0 to 253679\n",
      "Data columns (total 22 columns):\n",
      " #   Column                Non-Null Count   Dtype  \n",
      "---  ------                --------------   -----  \n",
      " 0   Diabetes_012          253680 non-null  float64\n",
      " 1   HighBP                253680 non-null  float64\n",
      " 2   HighChol              253680 non-null  float64\n",
      " 3   CholCheck             253680 non-null  float64\n",
      " 4   BMI                   253680 non-null  float64\n",
      " 5   Smoker                253680 non-null  float64\n",
      " 6   Stroke                253680 non-null  float64\n",
      " 7   HeartDiseaseorAttack  253680 non-null  float64\n",
      " 8   PhysActivity          253680 non-null  float64\n",
      " 9   Fruits                253680 non-null  float64\n",
      " 10  Veggies               253680 non-null  float64\n",
      " 11  HvyAlcoholConsump     253680 non-null  float64\n",
      " 12  AnyHealthcare         253680 non-null  float64\n",
      " 13  NoDocbcCost           253680 non-null  float64\n",
      " 14  GenHlth               253680 non-null  float64\n",
      " 15  MentHlth              253680 non-null  float64\n",
      " 16  PhysHlth              253680 non-null  float64\n",
      " 17  DiffWalk              253680 non-null  float64\n",
      " 18  Sex                   253680 non-null  float64\n",
      " 19  Age                   253680 non-null  float64\n",
      " 20  Education             253680 non-null  float64\n",
      " 21  Income                253680 non-null  float64\n",
      "dtypes: float64(22)\n",
      "memory usage: 42.6 MB\n"
     ]
    }
   ],
   "source": [
    "#Check the info of the data set which describes null values, data type, memory usage\n",
    "df.info()"
   ]
  },
  {
   "cell_type": "markdown",
   "id": "64ab11f6",
   "metadata": {
    "id": "25mWXaXEX1st",
    "papermill": {
     "duration": 0.071522,
     "end_time": "2022-05-01T23:58:26.776743",
     "exception": false,
     "start_time": "2022-05-01T23:58:26.705221",
     "status": "completed"
    },
    "tags": []
   },
   "source": [
    "``float64`` is the data types of our features. We can easily see if there are any missing values. Here, there are none because each column contains 253680 observations, the same number of rows we saw before with shape"
   ]
  },
  {
   "cell_type": "code",
   "execution_count": 6,
   "id": "a8d0e498",
   "metadata": {
    "execution": {
     "iopub.execute_input": "2022-05-01T23:58:26.921989Z",
     "iopub.status.busy": "2022-05-01T23:58:26.921140Z",
     "iopub.status.idle": "2022-05-01T23:58:27.251849Z",
     "shell.execute_reply": "2022-05-01T23:58:27.250961Z"
    },
    "id": "Bm7LZcFP4gX0",
    "outputId": "e4847667-15a1-41a2-f4c7-8090d0ee3799",
    "papermill": {
     "duration": 0.406325,
     "end_time": "2022-05-01T23:58:27.254661",
     "exception": false,
     "start_time": "2022-05-01T23:58:26.848336",
     "status": "completed"
    },
    "tags": []
   },
   "outputs": [
    {
     "data": {
      "text/html": [
       "<div>\n",
       "<style scoped>\n",
       "    .dataframe tbody tr th:only-of-type {\n",
       "        vertical-align: middle;\n",
       "    }\n",
       "\n",
       "    .dataframe tbody tr th {\n",
       "        vertical-align: top;\n",
       "    }\n",
       "\n",
       "    .dataframe thead th {\n",
       "        text-align: right;\n",
       "    }\n",
       "</style>\n",
       "<table border=\"1\" class=\"dataframe\">\n",
       "  <thead>\n",
       "    <tr style=\"text-align: right;\">\n",
       "      <th></th>\n",
       "      <th>Diabetes_012</th>\n",
       "      <th>HighBP</th>\n",
       "      <th>HighChol</th>\n",
       "      <th>CholCheck</th>\n",
       "      <th>BMI</th>\n",
       "      <th>Smoker</th>\n",
       "      <th>Stroke</th>\n",
       "      <th>HeartDiseaseorAttack</th>\n",
       "      <th>PhysActivity</th>\n",
       "      <th>Fruits</th>\n",
       "      <th>...</th>\n",
       "      <th>AnyHealthcare</th>\n",
       "      <th>NoDocbcCost</th>\n",
       "      <th>GenHlth</th>\n",
       "      <th>MentHlth</th>\n",
       "      <th>PhysHlth</th>\n",
       "      <th>DiffWalk</th>\n",
       "      <th>Sex</th>\n",
       "      <th>Age</th>\n",
       "      <th>Education</th>\n",
       "      <th>Income</th>\n",
       "    </tr>\n",
       "  </thead>\n",
       "  <tbody>\n",
       "    <tr>\n",
       "      <th>count</th>\n",
       "      <td>253680.000000</td>\n",
       "      <td>253680.000000</td>\n",
       "      <td>253680.000000</td>\n",
       "      <td>253680.000000</td>\n",
       "      <td>253680.000000</td>\n",
       "      <td>253680.000000</td>\n",
       "      <td>253680.000000</td>\n",
       "      <td>253680.000000</td>\n",
       "      <td>253680.000000</td>\n",
       "      <td>253680.000000</td>\n",
       "      <td>...</td>\n",
       "      <td>253680.000000</td>\n",
       "      <td>253680.000000</td>\n",
       "      <td>253680.000000</td>\n",
       "      <td>253680.000000</td>\n",
       "      <td>253680.000000</td>\n",
       "      <td>253680.000000</td>\n",
       "      <td>253680.000000</td>\n",
       "      <td>253680.000000</td>\n",
       "      <td>253680.000000</td>\n",
       "      <td>253680.000000</td>\n",
       "    </tr>\n",
       "    <tr>\n",
       "      <th>mean</th>\n",
       "      <td>0.296921</td>\n",
       "      <td>0.429001</td>\n",
       "      <td>0.424121</td>\n",
       "      <td>0.962670</td>\n",
       "      <td>28.382364</td>\n",
       "      <td>0.443169</td>\n",
       "      <td>0.040571</td>\n",
       "      <td>0.094186</td>\n",
       "      <td>0.756544</td>\n",
       "      <td>0.634256</td>\n",
       "      <td>...</td>\n",
       "      <td>0.951053</td>\n",
       "      <td>0.084177</td>\n",
       "      <td>2.511392</td>\n",
       "      <td>3.184772</td>\n",
       "      <td>4.242081</td>\n",
       "      <td>0.168224</td>\n",
       "      <td>0.440342</td>\n",
       "      <td>8.032119</td>\n",
       "      <td>5.050434</td>\n",
       "      <td>6.053875</td>\n",
       "    </tr>\n",
       "    <tr>\n",
       "      <th>std</th>\n",
       "      <td>0.698160</td>\n",
       "      <td>0.494934</td>\n",
       "      <td>0.494210</td>\n",
       "      <td>0.189571</td>\n",
       "      <td>6.608694</td>\n",
       "      <td>0.496761</td>\n",
       "      <td>0.197294</td>\n",
       "      <td>0.292087</td>\n",
       "      <td>0.429169</td>\n",
       "      <td>0.481639</td>\n",
       "      <td>...</td>\n",
       "      <td>0.215759</td>\n",
       "      <td>0.277654</td>\n",
       "      <td>1.068477</td>\n",
       "      <td>7.412847</td>\n",
       "      <td>8.717951</td>\n",
       "      <td>0.374066</td>\n",
       "      <td>0.496429</td>\n",
       "      <td>3.054220</td>\n",
       "      <td>0.985774</td>\n",
       "      <td>2.071148</td>\n",
       "    </tr>\n",
       "    <tr>\n",
       "      <th>min</th>\n",
       "      <td>0.000000</td>\n",
       "      <td>0.000000</td>\n",
       "      <td>0.000000</td>\n",
       "      <td>0.000000</td>\n",
       "      <td>12.000000</td>\n",
       "      <td>0.000000</td>\n",
       "      <td>0.000000</td>\n",
       "      <td>0.000000</td>\n",
       "      <td>0.000000</td>\n",
       "      <td>0.000000</td>\n",
       "      <td>...</td>\n",
       "      <td>0.000000</td>\n",
       "      <td>0.000000</td>\n",
       "      <td>1.000000</td>\n",
       "      <td>0.000000</td>\n",
       "      <td>0.000000</td>\n",
       "      <td>0.000000</td>\n",
       "      <td>0.000000</td>\n",
       "      <td>1.000000</td>\n",
       "      <td>1.000000</td>\n",
       "      <td>1.000000</td>\n",
       "    </tr>\n",
       "    <tr>\n",
       "      <th>25%</th>\n",
       "      <td>0.000000</td>\n",
       "      <td>0.000000</td>\n",
       "      <td>0.000000</td>\n",
       "      <td>1.000000</td>\n",
       "      <td>24.000000</td>\n",
       "      <td>0.000000</td>\n",
       "      <td>0.000000</td>\n",
       "      <td>0.000000</td>\n",
       "      <td>1.000000</td>\n",
       "      <td>0.000000</td>\n",
       "      <td>...</td>\n",
       "      <td>1.000000</td>\n",
       "      <td>0.000000</td>\n",
       "      <td>2.000000</td>\n",
       "      <td>0.000000</td>\n",
       "      <td>0.000000</td>\n",
       "      <td>0.000000</td>\n",
       "      <td>0.000000</td>\n",
       "      <td>6.000000</td>\n",
       "      <td>4.000000</td>\n",
       "      <td>5.000000</td>\n",
       "    </tr>\n",
       "    <tr>\n",
       "      <th>50%</th>\n",
       "      <td>0.000000</td>\n",
       "      <td>0.000000</td>\n",
       "      <td>0.000000</td>\n",
       "      <td>1.000000</td>\n",
       "      <td>27.000000</td>\n",
       "      <td>0.000000</td>\n",
       "      <td>0.000000</td>\n",
       "      <td>0.000000</td>\n",
       "      <td>1.000000</td>\n",
       "      <td>1.000000</td>\n",
       "      <td>...</td>\n",
       "      <td>1.000000</td>\n",
       "      <td>0.000000</td>\n",
       "      <td>2.000000</td>\n",
       "      <td>0.000000</td>\n",
       "      <td>0.000000</td>\n",
       "      <td>0.000000</td>\n",
       "      <td>0.000000</td>\n",
       "      <td>8.000000</td>\n",
       "      <td>5.000000</td>\n",
       "      <td>7.000000</td>\n",
       "    </tr>\n",
       "    <tr>\n",
       "      <th>75%</th>\n",
       "      <td>0.000000</td>\n",
       "      <td>1.000000</td>\n",
       "      <td>1.000000</td>\n",
       "      <td>1.000000</td>\n",
       "      <td>31.000000</td>\n",
       "      <td>1.000000</td>\n",
       "      <td>0.000000</td>\n",
       "      <td>0.000000</td>\n",
       "      <td>1.000000</td>\n",
       "      <td>1.000000</td>\n",
       "      <td>...</td>\n",
       "      <td>1.000000</td>\n",
       "      <td>0.000000</td>\n",
       "      <td>3.000000</td>\n",
       "      <td>2.000000</td>\n",
       "      <td>3.000000</td>\n",
       "      <td>0.000000</td>\n",
       "      <td>1.000000</td>\n",
       "      <td>10.000000</td>\n",
       "      <td>6.000000</td>\n",
       "      <td>8.000000</td>\n",
       "    </tr>\n",
       "    <tr>\n",
       "      <th>max</th>\n",
       "      <td>2.000000</td>\n",
       "      <td>1.000000</td>\n",
       "      <td>1.000000</td>\n",
       "      <td>1.000000</td>\n",
       "      <td>98.000000</td>\n",
       "      <td>1.000000</td>\n",
       "      <td>1.000000</td>\n",
       "      <td>1.000000</td>\n",
       "      <td>1.000000</td>\n",
       "      <td>1.000000</td>\n",
       "      <td>...</td>\n",
       "      <td>1.000000</td>\n",
       "      <td>1.000000</td>\n",
       "      <td>5.000000</td>\n",
       "      <td>30.000000</td>\n",
       "      <td>30.000000</td>\n",
       "      <td>1.000000</td>\n",
       "      <td>1.000000</td>\n",
       "      <td>13.000000</td>\n",
       "      <td>6.000000</td>\n",
       "      <td>8.000000</td>\n",
       "    </tr>\n",
       "  </tbody>\n",
       "</table>\n",
       "<p>8 rows × 22 columns</p>\n",
       "</div>"
      ],
      "text/plain": [
       "        Diabetes_012         HighBP       HighChol      CholCheck  \\\n",
       "count  253680.000000  253680.000000  253680.000000  253680.000000   \n",
       "mean        0.296921       0.429001       0.424121       0.962670   \n",
       "std         0.698160       0.494934       0.494210       0.189571   \n",
       "min         0.000000       0.000000       0.000000       0.000000   \n",
       "25%         0.000000       0.000000       0.000000       1.000000   \n",
       "50%         0.000000       0.000000       0.000000       1.000000   \n",
       "75%         0.000000       1.000000       1.000000       1.000000   \n",
       "max         2.000000       1.000000       1.000000       1.000000   \n",
       "\n",
       "                 BMI         Smoker         Stroke  HeartDiseaseorAttack  \\\n",
       "count  253680.000000  253680.000000  253680.000000         253680.000000   \n",
       "mean       28.382364       0.443169       0.040571              0.094186   \n",
       "std         6.608694       0.496761       0.197294              0.292087   \n",
       "min        12.000000       0.000000       0.000000              0.000000   \n",
       "25%        24.000000       0.000000       0.000000              0.000000   \n",
       "50%        27.000000       0.000000       0.000000              0.000000   \n",
       "75%        31.000000       1.000000       0.000000              0.000000   \n",
       "max        98.000000       1.000000       1.000000              1.000000   \n",
       "\n",
       "        PhysActivity         Fruits  ...  AnyHealthcare    NoDocbcCost  \\\n",
       "count  253680.000000  253680.000000  ...  253680.000000  253680.000000   \n",
       "mean        0.756544       0.634256  ...       0.951053       0.084177   \n",
       "std         0.429169       0.481639  ...       0.215759       0.277654   \n",
       "min         0.000000       0.000000  ...       0.000000       0.000000   \n",
       "25%         1.000000       0.000000  ...       1.000000       0.000000   \n",
       "50%         1.000000       1.000000  ...       1.000000       0.000000   \n",
       "75%         1.000000       1.000000  ...       1.000000       0.000000   \n",
       "max         1.000000       1.000000  ...       1.000000       1.000000   \n",
       "\n",
       "             GenHlth       MentHlth       PhysHlth       DiffWalk  \\\n",
       "count  253680.000000  253680.000000  253680.000000  253680.000000   \n",
       "mean        2.511392       3.184772       4.242081       0.168224   \n",
       "std         1.068477       7.412847       8.717951       0.374066   \n",
       "min         1.000000       0.000000       0.000000       0.000000   \n",
       "25%         2.000000       0.000000       0.000000       0.000000   \n",
       "50%         2.000000       0.000000       0.000000       0.000000   \n",
       "75%         3.000000       2.000000       3.000000       0.000000   \n",
       "max         5.000000      30.000000      30.000000       1.000000   \n",
       "\n",
       "                 Sex            Age      Education         Income  \n",
       "count  253680.000000  253680.000000  253680.000000  253680.000000  \n",
       "mean        0.440342       8.032119       5.050434       6.053875  \n",
       "std         0.496429       3.054220       0.985774       2.071148  \n",
       "min         0.000000       1.000000       1.000000       1.000000  \n",
       "25%         0.000000       6.000000       4.000000       5.000000  \n",
       "50%         0.000000       8.000000       5.000000       7.000000  \n",
       "75%         1.000000      10.000000       6.000000       8.000000  \n",
       "max         1.000000      13.000000       6.000000       8.000000  \n",
       "\n",
       "[8 rows x 22 columns]"
      ]
     },
     "execution_count": 6,
     "metadata": {},
     "output_type": "execute_result"
    }
   ],
   "source": [
    "df.describe()"
   ]
  },
  {
   "cell_type": "markdown",
   "id": "1663ed48",
   "metadata": {
    "id": "7FCuciZJ4z4Z",
    "papermill": {
     "duration": 0.071891,
     "end_time": "2022-05-01T23:58:27.398159",
     "exception": false,
     "start_time": "2022-05-01T23:58:27.326268",
     "status": "completed"
    },
    "tags": []
   },
   "source": [
    "> <font color='cyan'>  Check the description of the data set which describes the minimum value, maximum value, mean value, total count, standard deviation etc. and visualise the Diabetes of how many persons have diabetes or how many persons have no diabetes and how many have pre-diabetes. </font>"
   ]
  },
  {
   "cell_type": "markdown",
   "id": "2e32ee6a",
   "metadata": {
    "id": "ahxTCkXb2srv",
    "papermill": {
     "duration": 0.071236,
     "end_time": "2022-05-01T23:58:27.541028",
     "exception": false,
     "start_time": "2022-05-01T23:58:27.469792",
     "status": "completed"
    },
    "tags": []
   },
   "source": [
    "Exploratory Data Analysis# Exploratory Data Analysis\n",
    "\n",
    "<font color='cyan'>In this section, we will be doing some basic Exploratory Data Analysis to get the \"feel\" of the data, we will be checking the distributions, the correlations etc of the different columns</font>"
   ]
  },
  {
   "cell_type": "markdown",
   "id": "402c9873",
   "metadata": {
    "id": "TkiivwL39Rdj",
    "papermill": {
     "duration": 0.07097,
     "end_time": "2022-05-01T23:58:27.683496",
     "exception": false,
     "start_time": "2022-05-01T23:58:27.612526",
     "status": "completed"
    },
    "tags": []
   },
   "source": [
    "### Missing Data\n",
    "\n",
    "<font color='cyan'>We can use seaborn to create a simple heatmap to see where we are missing data!</font>"
   ]
  },
  {
   "cell_type": "code",
   "execution_count": 7,
   "id": "854c9ca3",
   "metadata": {
    "execution": {
     "iopub.execute_input": "2022-05-01T23:58:27.841709Z",
     "iopub.status.busy": "2022-05-01T23:58:27.841382Z",
     "iopub.status.idle": "2022-05-01T23:58:28.275929Z",
     "shell.execute_reply": "2022-05-01T23:58:28.274826Z"
    },
    "id": "_pCefOJY8EeM",
    "outputId": "8b0d985c-72de-445b-baab-954ab8387b24",
    "papermill": {
     "duration": 0.514927,
     "end_time": "2022-05-01T23:58:28.279104",
     "exception": false,
     "start_time": "2022-05-01T23:58:27.764177",
     "status": "completed"
    },
    "tags": []
   },
   "outputs": [
    {
     "data": {
      "image/png": "[encoded data removed]",
      "text/plain": [
       "<Figure size 1080x216 with 1 Axes>"
      ]
     },
     "metadata": {
      "needs_background": "light"
     },
     "output_type": "display_data"
    }
   ],
   "source": [
    "def msv_1(df, thresh = 20, color = 'black', edgecolor = 'black', height = 3, width = 15):\n",
    "    \n",
    "    plt.figure(figsize = (width, height))\n",
    "    percentage = (df.isnull().mean()) * 100\n",
    "    percentage.sort_values(ascending = False).plot.bar(color = color, edgecolor = edgecolor)\n",
    "    plt.axhline(y = thresh, color = 'r', linestyle = '-')\n",
    "    \n",
    "    plt.title('Missing values percentage per column', fontsize=20, weight='bold' )\n",
    "    \n",
    "    plt.text(len(df.isnull().sum()/len(df))/1.7, thresh+2.5, f'Columns with more than {thresh}% missing values', fontsize=12, color='crimson',\n",
    "         ha='left' ,va='top')\n",
    "    plt.text(len(df.isnull().sum()/len(df))/1.7, thresh - 0.5, f'Columns with less than {thresh}% missing values', fontsize=12, color='green',\n",
    "         ha='left' ,va='top')\n",
    "    plt.xlabel('Columns', size=15, weight='bold')\n",
    "    plt.ylabel('Missing values percentage')\n",
    "    plt.yticks(weight ='bold')\n",
    "    \n",
    "    return plt.show()\n",
    "msv_1(df, 20, color=sns.color_palette('Reds',15))"
   ]
  },
  {
   "cell_type": "code",
   "execution_count": 8,
   "id": "33b1ac1f",
   "metadata": {
    "execution": {
     "iopub.execute_input": "2022-05-01T23:58:28.429112Z",
     "iopub.status.busy": "2022-05-01T23:58:28.428778Z",
     "iopub.status.idle": "2022-05-01T23:58:28.444260Z",
     "shell.execute_reply": "2022-05-01T23:58:28.443167Z"
    },
    "id": "5ca4knRe-81m",
    "outputId": "0d579aca-d920-43f7-c4d7-a51571abe278",
    "papermill": {
     "duration": 0.093973,
     "end_time": "2022-05-01T23:58:28.447402",
     "exception": false,
     "start_time": "2022-05-01T23:58:28.353429",
     "status": "completed"
    },
    "tags": []
   },
   "outputs": [
    {
     "name": "stdout",
     "output_type": "stream",
     "text": [
      "There are 0 columns in diabetes dataset with missing values.\n"
     ]
    }
   ],
   "source": [
    "print(f'There are {df.isnull().any().sum()} columns in diabetes dataset with missing values.')"
   ]
  },
  {
   "cell_type": "markdown",
   "id": "a1220cd2",
   "metadata": {
    "id": "dUJslzMfnNM-",
    "papermill": {
     "duration": 0.07424,
     "end_time": "2022-05-01T23:58:28.597354",
     "exception": false,
     "start_time": "2022-05-01T23:58:28.523114",
     "status": "completed"
    },
    "tags": []
   },
   "source": [
    "> Here from the above code we first checked that is there any null values from the IsNull() function then we are going to take the sum of all those missing values from the sum() function and the inference we now get is that there are no missing values.\n",
    "\n"
   ]
  },
  {
   "cell_type": "code",
   "execution_count": 9,
   "id": "e97fd477",
   "metadata": {
    "execution": {
     "iopub.execute_input": "2022-05-01T23:58:28.746710Z",
     "iopub.status.busy": "2022-05-01T23:58:28.746354Z",
     "iopub.status.idle": "2022-05-01T23:58:36.322845Z",
     "shell.execute_reply": "2022-05-01T23:58:36.322076Z"
    },
    "id": "LxzjEV8J2ypI",
    "outputId": "40ea00aa-c084-46d5-e819-6958e12c0a22",
    "papermill": {
     "duration": 7.65427,
     "end_time": "2022-05-01T23:58:36.325028",
     "exception": false,
     "start_time": "2022-05-01T23:58:28.670758",
     "status": "completed"
    },
    "tags": []
   },
   "outputs": [
    {
     "data": {
      "text/plain": [
       "<AxesSubplot:>"
      ]
     },
     "execution_count": 9,
     "metadata": {},
     "output_type": "execute_result"
    },
    {
     "data": {
      "image/png": "[encoded data removed]",
      "text/plain": [
       "<Figure size 432x288 with 1 Axes>"
      ]
     },
     "metadata": {
      "needs_background": "light"
     },
     "output_type": "display_data"
    }
   ],
   "source": [
    "sns.heatmap(df.isnull(),yticklabels=False,cbar=False,cmap='viridis')"
   ]
  },
  {
   "cell_type": "markdown",
   "id": "b9291aba",
   "metadata": {
    "id": "N69LrryL8Py-",
    "papermill": {
     "duration": 0.075038,
     "end_time": "2022-05-01T23:58:36.476534",
     "exception": false,
     "start_time": "2022-05-01T23:58:36.401496",
     "status": "completed"
    },
    "tags": []
   },
   "source": [
    "> <font color='cyan'><font>Roughly no data is missing.\n",
    "\n",
    "Let's continue on by visualizing some more of the data! Check out the video for full explanations over these plots, this code is just to serve as reference."
   ]
  },
  {
   "cell_type": "markdown",
   "id": "0b664ed7",
   "metadata": {
    "id": "0-5GaKLI65qv",
    "papermill": {
     "duration": 0.074717,
     "end_time": "2022-05-01T23:58:36.626063",
     "exception": false,
     "start_time": "2022-05-01T23:58:36.551346",
     "status": "completed"
    },
    "tags": []
   },
   "source": [
    "## Data Exploration"
   ]
  },
  {
   "cell_type": "markdown",
   "id": "52104100",
   "metadata": {
    "id": "GfandQOa5jEX",
    "papermill": {
     "duration": 0.075535,
     "end_time": "2022-05-01T23:58:36.778716",
     "exception": false,
     "start_time": "2022-05-01T23:58:36.703181",
     "status": "completed"
    },
    "tags": []
   },
   "source": [
    "### Counts How many have diabetes or not"
   ]
  },
  {
   "cell_type": "code",
   "execution_count": 10,
   "id": "9c2337df",
   "metadata": {
    "execution": {
     "iopub.execute_input": "2022-05-01T23:58:36.932090Z",
     "iopub.status.busy": "2022-05-01T23:58:36.931438Z",
     "iopub.status.idle": "2022-05-01T23:58:36.968756Z",
     "shell.execute_reply": "2022-05-01T23:58:36.967627Z"
    },
    "id": "YguKt3CqYrkn",
    "papermill": {
     "duration": 0.11756,
     "end_time": "2022-05-01T23:58:36.971752",
     "exception": false,
     "start_time": "2022-05-01T23:58:36.854192",
     "status": "completed"
    },
    "tags": []
   },
   "outputs": [],
   "source": [
    "#Renaming Diabetes type from int to string for better consistency\n",
    "df['Diabetes_012_str'] = df['Diabetes_012'].replace({0.0:'Healthy', 1.0:'Pre-diabetic', 2.0:'Diabetic'})"
   ]
  },
  {
   "cell_type": "markdown",
   "id": "559e3995",
   "metadata": {
    "id": "3YmxdPrLY24Q",
    "papermill": {
     "duration": 0.074629,
     "end_time": "2022-05-01T23:58:37.122651",
     "exception": false,
     "start_time": "2022-05-01T23:58:37.048022",
     "status": "completed"
    },
    "tags": []
   },
   "source": [
    "> 213703 persons out of 253680 are ``Healthy``; 35346 have ``diabetic`` and rest of 4631 have ``Pre-diabetic`` phase. "
   ]
  },
  {
   "cell_type": "code",
   "execution_count": 11,
   "id": "722ca779",
   "metadata": {
    "execution": {
     "iopub.execute_input": "2022-05-01T23:58:37.275354Z",
     "iopub.status.busy": "2022-05-01T23:58:37.274274Z",
     "iopub.status.idle": "2022-05-01T23:58:37.326879Z",
     "shell.execute_reply": "2022-05-01T23:58:37.325899Z"
    },
    "id": "X909JBqI6-Zl",
    "outputId": "af0977a3-b8ea-4a0a-98bc-90db4cbaec8e",
    "papermill": {
     "duration": 0.13177,
     "end_time": "2022-05-01T23:58:37.329191",
     "exception": false,
     "start_time": "2022-05-01T23:58:37.197421",
     "status": "completed"
    },
    "tags": []
   },
   "outputs": [
    {
     "name": "stdout",
     "output_type": "stream",
     "text": [
      "Percentage of Patients Are Healthy: 84.24%\n",
      "Percentage of Patients Have Pre-Diabetic: 1.83%\n",
      "Percentage of Patients Have Diabetic: 13.93%\n"
     ]
    }
   ],
   "source": [
    "countHealthy = len(df[df.Diabetes_012 == 0])\n",
    "countHavePreDiabetic = len(df[df.Diabetes_012 == 1])\n",
    "countDiabteic = len(df[df.Diabetes_012 == 2])\n",
    "print(\"Percentage of Patients Are Healthy: {:.2f}%\".format((countHealthy / (len(df.Diabetes_012))*100)))\n",
    "print(\"Percentage of Patients Have Pre-Diabetic: {:.2f}%\".format((countHavePreDiabetic / (len(df.Diabetes_012))*100)))\n",
    "print(\"Percentage of Patients Have Diabetic: {:.2f}%\".format((countDiabteic / (len(df.Diabetes_012))*100)))"
   ]
  },
  {
   "cell_type": "markdown",
   "id": "fbf188bb",
   "metadata": {
    "id": "hjSwOsuRDRfq",
    "papermill": {
     "duration": 0.075941,
     "end_time": "2022-05-01T23:58:37.481939",
     "exception": false,
     "start_time": "2022-05-01T23:58:37.405998",
     "status": "completed"
    },
    "tags": []
   },
   "source": [
    "> * We have 213703 persons out of 253680 are Healthy; 35346 have diabetic and rest of 4631 have Pre-diabetic phase, so our problem is imbalanced."
   ]
  },
  {
   "cell_type": "code",
   "execution_count": 12,
   "id": "8ab9f0a8",
   "metadata": {
    "execution": {
     "iopub.execute_input": "2022-05-01T23:58:37.638114Z",
     "iopub.status.busy": "2022-05-01T23:58:37.637186Z",
     "iopub.status.idle": "2022-05-01T23:58:38.005585Z",
     "shell.execute_reply": "2022-05-01T23:58:38.004442Z"
    },
    "id": "RC_Ro3y_qMJH",
    "outputId": "44605521-7d4a-4ee8-d0b0-4b320529bae9",
    "papermill": {
     "duration": 0.448464,
     "end_time": "2022-05-01T23:58:38.008438",
     "exception": false,
     "start_time": "2022-05-01T23:58:37.559974",
     "status": "completed"
    },
    "tags": []
   },
   "outputs": [
    {
     "name": "stderr",
     "output_type": "stream",
     "text": [
      "/opt/conda/lib/python3.7/site-packages/seaborn/_decorators.py:43: FutureWarning: Pass the following variable as a keyword arg: x. From version 0.12, the only valid positional argument will be `data`, and passing other arguments without an explicit keyword will result in an error or misinterpretation.\n",
      "  FutureWarning\n"
     ]
    },
    {
     "data": {
      "text/plain": [
       "<AxesSubplot:ylabel='Diabetes_012'>"
      ]
     },
     "execution_count": 12,
     "metadata": {},
     "output_type": "execute_result"
    },
    {
     "data": {
      "image/png": "[encoded data removed]",
      "text/plain": [
       "<Figure size 576x576 with 2 Axes>"
      ]
     },
     "metadata": {
      "needs_background": "light"
     },
     "output_type": "display_data"
    }
   ],
   "source": [
    "# countplot----Plot the frequency of the Diabetes_012\n",
    "\n",
    "fig1, ax1 = plt.subplots(1,2,figsize=(8,8))\n",
    "\n",
    "#It shows the count of observations in each categorical bin using bars\n",
    "\n",
    "sns.countplot(df['Diabetes_012'],ax=ax1[0])\n",
    "\n",
    "#Find the % of diabetic and Healthy person\n",
    "\n",
    "labels = 'Healthy','Diabetic', 'Pre-Diabetic'\n",
    "\n",
    "df.Diabetes_012.value_counts().plot.pie(labels=labels, autopct='%1.1f%%',shadow=True, startangle=90)"
   ]
  },
  {
   "cell_type": "markdown",
   "id": "a6d9cd78",
   "metadata": {
    "id": "t6WgsGuwrFgI",
    "papermill": {
     "duration": 0.077518,
     "end_time": "2022-05-01T23:58:38.164937",
     "exception": false,
     "start_time": "2022-05-01T23:58:38.087419",
     "status": "completed"
    },
    "tags": []
   },
   "source": [
    "### Plots to analyze the Dataset "
   ]
  },
  {
   "cell_type": "code",
   "execution_count": 13,
   "id": "6595e9a3",
   "metadata": {
    "execution": {
     "iopub.execute_input": "2022-05-01T23:58:38.322726Z",
     "iopub.status.busy": "2022-05-01T23:58:38.322365Z",
     "iopub.status.idle": "2022-05-01T23:58:42.735684Z",
     "shell.execute_reply": "2022-05-01T23:58:42.734552Z"
    },
    "id": "ZiDpCH1RrHHU",
    "outputId": "6af2ec35-c22f-4df4-bf52-960fb32c5706",
    "papermill": {
     "duration": 4.496835,
     "end_time": "2022-05-01T23:58:42.739478",
     "exception": false,
     "start_time": "2022-05-01T23:58:38.242643",
     "status": "completed"
    },
    "tags": []
   },
   "outputs": [
    {
     "data": {
      "text/plain": [
       "array([[<AxesSubplot:title={'center':'Diabetes_012'}>,\n",
       "        <AxesSubplot:title={'center':'HighBP'}>,\n",
       "        <AxesSubplot:title={'center':'HighChol'}>,\n",
       "        <AxesSubplot:title={'center':'CholCheck'}>,\n",
       "        <AxesSubplot:title={'center':'BMI'}>],\n",
       "       [<AxesSubplot:title={'center':'Smoker'}>,\n",
       "        <AxesSubplot:title={'center':'Stroke'}>,\n",
       "        <AxesSubplot:title={'center':'HeartDiseaseorAttack'}>,\n",
       "        <AxesSubplot:title={'center':'PhysActivity'}>,\n",
       "        <AxesSubplot:title={'center':'Fruits'}>],\n",
       "       [<AxesSubplot:title={'center':'Veggies'}>,\n",
       "        <AxesSubplot:title={'center':'HvyAlcoholConsump'}>,\n",
       "        <AxesSubplot:title={'center':'AnyHealthcare'}>,\n",
       "        <AxesSubplot:title={'center':'NoDocbcCost'}>,\n",
       "        <AxesSubplot:title={'center':'GenHlth'}>],\n",
       "       [<AxesSubplot:title={'center':'MentHlth'}>,\n",
       "        <AxesSubplot:title={'center':'PhysHlth'}>,\n",
       "        <AxesSubplot:title={'center':'DiffWalk'}>,\n",
       "        <AxesSubplot:title={'center':'Sex'}>,\n",
       "        <AxesSubplot:title={'center':'Age'}>],\n",
       "       [<AxesSubplot:title={'center':'Education'}>,\n",
       "        <AxesSubplot:title={'center':'Income'}>, <AxesSubplot:>,\n",
       "        <AxesSubplot:>, <AxesSubplot:>]], dtype=object)"
      ]
     },
     "execution_count": 13,
     "metadata": {},
     "output_type": "execute_result"
    },
    {
     "data": {
      "image/png": "[encoded data removed]",
      "text/plain": [
       "<Figure size 2160x1440 with 25 Axes>"
      ]
     },
     "metadata": {
      "needs_background": "light"
     },
     "output_type": "display_data"
    }
   ],
   "source": [
    "# Histogram \n",
    "\n",
    "df.hist(figsize=(30,20))"
   ]
  },
  {
   "cell_type": "markdown",
   "id": "f9da8294",
   "metadata": {
    "id": "q-rRwoOwN4eX",
    "papermill": {
     "duration": 0.091048,
     "end_time": "2022-05-01T23:58:42.926316",
     "exception": false,
     "start_time": "2022-05-01T23:58:42.835268",
     "status": "completed"
    },
    "tags": []
   },
   "source": [
    "> From the above HIstogram we can easily visualize that these ```'BMI', 'GenHlth', 'MentHlth', 'PhysHlth', 'Age','Education', 'Income'```  variables are continuous and the rest of the variable are dicrete data. "
   ]
  },
  {
   "cell_type": "markdown",
   "id": "ee68dd7c",
   "metadata": {
    "id": "vIN3pIzXDmQ6",
    "papermill": {
     "duration": 0.084394,
     "end_time": "2022-05-01T23:58:43.091857",
     "exception": false,
     "start_time": "2022-05-01T23:58:43.007463",
     "status": "completed"
    },
    "tags": []
   },
   "source": [
    "### **Correlation with Target**"
   ]
  },
  {
   "cell_type": "code",
   "execution_count": 14,
   "id": "d6862fb2",
   "metadata": {
    "execution": {
     "iopub.execute_input": "2022-05-01T23:58:43.257359Z",
     "iopub.status.busy": "2022-05-01T23:58:43.257012Z",
     "iopub.status.idle": "2022-05-01T23:58:43.683120Z",
     "shell.execute_reply": "2022-05-01T23:58:43.682323Z"
    },
    "id": "5l7Jlv-MpUhn",
    "outputId": "47e36262-a8d9-4281-fbbd-e0ace02e5965",
    "papermill": {
     "duration": 0.512877,
     "end_time": "2022-05-01T23:58:43.686361",
     "exception": false,
     "start_time": "2022-05-01T23:58:43.173484",
     "status": "completed"
    },
    "tags": []
   },
   "outputs": [
    {
     "data": {
      "text/html": [
       "<div>\n",
       "<style scoped>\n",
       "    .dataframe tbody tr th:only-of-type {\n",
       "        vertical-align: middle;\n",
       "    }\n",
       "\n",
       "    .dataframe tbody tr th {\n",
       "        vertical-align: top;\n",
       "    }\n",
       "\n",
       "    .dataframe thead th {\n",
       "        text-align: right;\n",
       "    }\n",
       "</style>\n",
       "<table border=\"1\" class=\"dataframe\">\n",
       "  <thead>\n",
       "    <tr style=\"text-align: right;\">\n",
       "      <th></th>\n",
       "      <th>Diabetes_012</th>\n",
       "      <th>HighBP</th>\n",
       "      <th>HighChol</th>\n",
       "      <th>CholCheck</th>\n",
       "      <th>BMI</th>\n",
       "      <th>Smoker</th>\n",
       "      <th>Stroke</th>\n",
       "      <th>HeartDiseaseorAttack</th>\n",
       "      <th>PhysActivity</th>\n",
       "      <th>Fruits</th>\n",
       "      <th>...</th>\n",
       "      <th>AnyHealthcare</th>\n",
       "      <th>NoDocbcCost</th>\n",
       "      <th>GenHlth</th>\n",
       "      <th>MentHlth</th>\n",
       "      <th>PhysHlth</th>\n",
       "      <th>DiffWalk</th>\n",
       "      <th>Sex</th>\n",
       "      <th>Age</th>\n",
       "      <th>Education</th>\n",
       "      <th>Income</th>\n",
       "    </tr>\n",
       "  </thead>\n",
       "  <tbody>\n",
       "    <tr>\n",
       "      <th>Diabetes_012</th>\n",
       "      <td>1.000000</td>\n",
       "      <td>0.271596</td>\n",
       "      <td>0.209085</td>\n",
       "      <td>0.067546</td>\n",
       "      <td>0.224379</td>\n",
       "      <td>0.062914</td>\n",
       "      <td>0.107179</td>\n",
       "      <td>0.180272</td>\n",
       "      <td>-0.121947</td>\n",
       "      <td>-0.042192</td>\n",
       "      <td>...</td>\n",
       "      <td>0.015410</td>\n",
       "      <td>0.035436</td>\n",
       "      <td>0.302587</td>\n",
       "      <td>0.073507</td>\n",
       "      <td>0.176287</td>\n",
       "      <td>0.224239</td>\n",
       "      <td>0.031040</td>\n",
       "      <td>0.185026</td>\n",
       "      <td>-0.130517</td>\n",
       "      <td>-0.171483</td>\n",
       "    </tr>\n",
       "    <tr>\n",
       "      <th>HighBP</th>\n",
       "      <td>0.271596</td>\n",
       "      <td>1.000000</td>\n",
       "      <td>0.298199</td>\n",
       "      <td>0.098508</td>\n",
       "      <td>0.213748</td>\n",
       "      <td>0.096991</td>\n",
       "      <td>0.129575</td>\n",
       "      <td>0.209361</td>\n",
       "      <td>-0.125267</td>\n",
       "      <td>-0.040555</td>\n",
       "      <td>...</td>\n",
       "      <td>0.038425</td>\n",
       "      <td>0.017358</td>\n",
       "      <td>0.300530</td>\n",
       "      <td>0.056456</td>\n",
       "      <td>0.161212</td>\n",
       "      <td>0.223618</td>\n",
       "      <td>0.052207</td>\n",
       "      <td>0.344452</td>\n",
       "      <td>-0.141358</td>\n",
       "      <td>-0.171235</td>\n",
       "    </tr>\n",
       "    <tr>\n",
       "      <th>HighChol</th>\n",
       "      <td>0.209085</td>\n",
       "      <td>0.298199</td>\n",
       "      <td>1.000000</td>\n",
       "      <td>0.085642</td>\n",
       "      <td>0.106722</td>\n",
       "      <td>0.091299</td>\n",
       "      <td>0.092620</td>\n",
       "      <td>0.180765</td>\n",
       "      <td>-0.078046</td>\n",
       "      <td>-0.040859</td>\n",
       "      <td>...</td>\n",
       "      <td>0.042230</td>\n",
       "      <td>0.013310</td>\n",
       "      <td>0.208426</td>\n",
       "      <td>0.062069</td>\n",
       "      <td>0.121751</td>\n",
       "      <td>0.144672</td>\n",
       "      <td>0.031205</td>\n",
       "      <td>0.272318</td>\n",
       "      <td>-0.070802</td>\n",
       "      <td>-0.085459</td>\n",
       "    </tr>\n",
       "    <tr>\n",
       "      <th>CholCheck</th>\n",
       "      <td>0.067546</td>\n",
       "      <td>0.098508</td>\n",
       "      <td>0.085642</td>\n",
       "      <td>1.000000</td>\n",
       "      <td>0.034495</td>\n",
       "      <td>-0.009929</td>\n",
       "      <td>0.024158</td>\n",
       "      <td>0.044206</td>\n",
       "      <td>0.004190</td>\n",
       "      <td>0.023849</td>\n",
       "      <td>...</td>\n",
       "      <td>0.117626</td>\n",
       "      <td>-0.058255</td>\n",
       "      <td>0.046589</td>\n",
       "      <td>-0.008366</td>\n",
       "      <td>0.031775</td>\n",
       "      <td>0.040585</td>\n",
       "      <td>-0.022115</td>\n",
       "      <td>0.090321</td>\n",
       "      <td>0.001510</td>\n",
       "      <td>0.014259</td>\n",
       "    </tr>\n",
       "    <tr>\n",
       "      <th>BMI</th>\n",
       "      <td>0.224379</td>\n",
       "      <td>0.213748</td>\n",
       "      <td>0.106722</td>\n",
       "      <td>0.034495</td>\n",
       "      <td>1.000000</td>\n",
       "      <td>0.013804</td>\n",
       "      <td>0.020153</td>\n",
       "      <td>0.052904</td>\n",
       "      <td>-0.147294</td>\n",
       "      <td>-0.087518</td>\n",
       "      <td>...</td>\n",
       "      <td>-0.018471</td>\n",
       "      <td>0.058206</td>\n",
       "      <td>0.239185</td>\n",
       "      <td>0.085310</td>\n",
       "      <td>0.121141</td>\n",
       "      <td>0.197078</td>\n",
       "      <td>0.042950</td>\n",
       "      <td>-0.036618</td>\n",
       "      <td>-0.103932</td>\n",
       "      <td>-0.100069</td>\n",
       "    </tr>\n",
       "    <tr>\n",
       "      <th>Smoker</th>\n",
       "      <td>0.062914</td>\n",
       "      <td>0.096991</td>\n",
       "      <td>0.091299</td>\n",
       "      <td>-0.009929</td>\n",
       "      <td>0.013804</td>\n",
       "      <td>1.000000</td>\n",
       "      <td>0.061173</td>\n",
       "      <td>0.114441</td>\n",
       "      <td>-0.087401</td>\n",
       "      <td>-0.077666</td>\n",
       "      <td>...</td>\n",
       "      <td>-0.023251</td>\n",
       "      <td>0.048946</td>\n",
       "      <td>0.163143</td>\n",
       "      <td>0.092196</td>\n",
       "      <td>0.116460</td>\n",
       "      <td>0.122463</td>\n",
       "      <td>0.093662</td>\n",
       "      <td>0.120641</td>\n",
       "      <td>-0.161955</td>\n",
       "      <td>-0.123937</td>\n",
       "    </tr>\n",
       "    <tr>\n",
       "      <th>Stroke</th>\n",
       "      <td>0.107179</td>\n",
       "      <td>0.129575</td>\n",
       "      <td>0.092620</td>\n",
       "      <td>0.024158</td>\n",
       "      <td>0.020153</td>\n",
       "      <td>0.061173</td>\n",
       "      <td>1.000000</td>\n",
       "      <td>0.203002</td>\n",
       "      <td>-0.069151</td>\n",
       "      <td>-0.013389</td>\n",
       "      <td>...</td>\n",
       "      <td>0.008776</td>\n",
       "      <td>0.034804</td>\n",
       "      <td>0.177942</td>\n",
       "      <td>0.070172</td>\n",
       "      <td>0.148944</td>\n",
       "      <td>0.176567</td>\n",
       "      <td>0.002978</td>\n",
       "      <td>0.126974</td>\n",
       "      <td>-0.076009</td>\n",
       "      <td>-0.128599</td>\n",
       "    </tr>\n",
       "    <tr>\n",
       "      <th>HeartDiseaseorAttack</th>\n",
       "      <td>0.180272</td>\n",
       "      <td>0.209361</td>\n",
       "      <td>0.180765</td>\n",
       "      <td>0.044206</td>\n",
       "      <td>0.052904</td>\n",
       "      <td>0.114441</td>\n",
       "      <td>0.203002</td>\n",
       "      <td>1.000000</td>\n",
       "      <td>-0.087299</td>\n",
       "      <td>-0.019790</td>\n",
       "      <td>...</td>\n",
       "      <td>0.018734</td>\n",
       "      <td>0.031000</td>\n",
       "      <td>0.258383</td>\n",
       "      <td>0.064621</td>\n",
       "      <td>0.181698</td>\n",
       "      <td>0.212709</td>\n",
       "      <td>0.086096</td>\n",
       "      <td>0.221618</td>\n",
       "      <td>-0.099600</td>\n",
       "      <td>-0.141011</td>\n",
       "    </tr>\n",
       "    <tr>\n",
       "      <th>PhysActivity</th>\n",
       "      <td>-0.121947</td>\n",
       "      <td>-0.125267</td>\n",
       "      <td>-0.078046</td>\n",
       "      <td>0.004190</td>\n",
       "      <td>-0.147294</td>\n",
       "      <td>-0.087401</td>\n",
       "      <td>-0.069151</td>\n",
       "      <td>-0.087299</td>\n",
       "      <td>1.000000</td>\n",
       "      <td>0.142756</td>\n",
       "      <td>...</td>\n",
       "      <td>0.035505</td>\n",
       "      <td>-0.061638</td>\n",
       "      <td>-0.266186</td>\n",
       "      <td>-0.125587</td>\n",
       "      <td>-0.219230</td>\n",
       "      <td>-0.253174</td>\n",
       "      <td>0.032482</td>\n",
       "      <td>-0.092511</td>\n",
       "      <td>0.199658</td>\n",
       "      <td>0.198539</td>\n",
       "    </tr>\n",
       "    <tr>\n",
       "      <th>Fruits</th>\n",
       "      <td>-0.042192</td>\n",
       "      <td>-0.040555</td>\n",
       "      <td>-0.040859</td>\n",
       "      <td>0.023849</td>\n",
       "      <td>-0.087518</td>\n",
       "      <td>-0.077666</td>\n",
       "      <td>-0.013389</td>\n",
       "      <td>-0.019790</td>\n",
       "      <td>0.142756</td>\n",
       "      <td>1.000000</td>\n",
       "      <td>...</td>\n",
       "      <td>0.031544</td>\n",
       "      <td>-0.044243</td>\n",
       "      <td>-0.103854</td>\n",
       "      <td>-0.068217</td>\n",
       "      <td>-0.044633</td>\n",
       "      <td>-0.048352</td>\n",
       "      <td>-0.091175</td>\n",
       "      <td>0.064547</td>\n",
       "      <td>0.110187</td>\n",
       "      <td>0.079929</td>\n",
       "    </tr>\n",
       "    <tr>\n",
       "      <th>Veggies</th>\n",
       "      <td>-0.058972</td>\n",
       "      <td>-0.061266</td>\n",
       "      <td>-0.039874</td>\n",
       "      <td>0.006121</td>\n",
       "      <td>-0.062275</td>\n",
       "      <td>-0.030678</td>\n",
       "      <td>-0.041124</td>\n",
       "      <td>-0.039167</td>\n",
       "      <td>0.153150</td>\n",
       "      <td>0.254342</td>\n",
       "      <td>...</td>\n",
       "      <td>0.029584</td>\n",
       "      <td>-0.032232</td>\n",
       "      <td>-0.123066</td>\n",
       "      <td>-0.058884</td>\n",
       "      <td>-0.064290</td>\n",
       "      <td>-0.080506</td>\n",
       "      <td>-0.064765</td>\n",
       "      <td>-0.009771</td>\n",
       "      <td>0.154329</td>\n",
       "      <td>0.151087</td>\n",
       "    </tr>\n",
       "    <tr>\n",
       "      <th>HvyAlcoholConsump</th>\n",
       "      <td>-0.057882</td>\n",
       "      <td>-0.003972</td>\n",
       "      <td>-0.011543</td>\n",
       "      <td>-0.023730</td>\n",
       "      <td>-0.048736</td>\n",
       "      <td>0.101619</td>\n",
       "      <td>-0.016950</td>\n",
       "      <td>-0.028991</td>\n",
       "      <td>0.012392</td>\n",
       "      <td>-0.035288</td>\n",
       "      <td>...</td>\n",
       "      <td>-0.010488</td>\n",
       "      <td>0.004684</td>\n",
       "      <td>-0.036724</td>\n",
       "      <td>0.024716</td>\n",
       "      <td>-0.026415</td>\n",
       "      <td>-0.037668</td>\n",
       "      <td>0.005740</td>\n",
       "      <td>-0.034578</td>\n",
       "      <td>0.023997</td>\n",
       "      <td>0.053619</td>\n",
       "    </tr>\n",
       "    <tr>\n",
       "      <th>AnyHealthcare</th>\n",
       "      <td>0.015410</td>\n",
       "      <td>0.038425</td>\n",
       "      <td>0.042230</td>\n",
       "      <td>0.117626</td>\n",
       "      <td>-0.018471</td>\n",
       "      <td>-0.023251</td>\n",
       "      <td>0.008776</td>\n",
       "      <td>0.018734</td>\n",
       "      <td>0.035505</td>\n",
       "      <td>0.031544</td>\n",
       "      <td>...</td>\n",
       "      <td>1.000000</td>\n",
       "      <td>-0.232532</td>\n",
       "      <td>-0.040817</td>\n",
       "      <td>-0.052707</td>\n",
       "      <td>-0.008276</td>\n",
       "      <td>0.007074</td>\n",
       "      <td>-0.019405</td>\n",
       "      <td>0.138046</td>\n",
       "      <td>0.122514</td>\n",
       "      <td>0.157999</td>\n",
       "    </tr>\n",
       "    <tr>\n",
       "      <th>NoDocbcCost</th>\n",
       "      <td>0.035436</td>\n",
       "      <td>0.017358</td>\n",
       "      <td>0.013310</td>\n",
       "      <td>-0.058255</td>\n",
       "      <td>0.058206</td>\n",
       "      <td>0.048946</td>\n",
       "      <td>0.034804</td>\n",
       "      <td>0.031000</td>\n",
       "      <td>-0.061638</td>\n",
       "      <td>-0.044243</td>\n",
       "      <td>...</td>\n",
       "      <td>-0.232532</td>\n",
       "      <td>1.000000</td>\n",
       "      <td>0.166397</td>\n",
       "      <td>0.192107</td>\n",
       "      <td>0.148998</td>\n",
       "      <td>0.118447</td>\n",
       "      <td>-0.044931</td>\n",
       "      <td>-0.119777</td>\n",
       "      <td>-0.100701</td>\n",
       "      <td>-0.203182</td>\n",
       "    </tr>\n",
       "    <tr>\n",
       "      <th>GenHlth</th>\n",
       "      <td>0.302587</td>\n",
       "      <td>0.300530</td>\n",
       "      <td>0.208426</td>\n",
       "      <td>0.046589</td>\n",
       "      <td>0.239185</td>\n",
       "      <td>0.163143</td>\n",
       "      <td>0.177942</td>\n",
       "      <td>0.258383</td>\n",
       "      <td>-0.266186</td>\n",
       "      <td>-0.103854</td>\n",
       "      <td>...</td>\n",
       "      <td>-0.040817</td>\n",
       "      <td>0.166397</td>\n",
       "      <td>1.000000</td>\n",
       "      <td>0.301674</td>\n",
       "      <td>0.524364</td>\n",
       "      <td>0.456920</td>\n",
       "      <td>-0.006091</td>\n",
       "      <td>0.152450</td>\n",
       "      <td>-0.284912</td>\n",
       "      <td>-0.370014</td>\n",
       "    </tr>\n",
       "    <tr>\n",
       "      <th>MentHlth</th>\n",
       "      <td>0.073507</td>\n",
       "      <td>0.056456</td>\n",
       "      <td>0.062069</td>\n",
       "      <td>-0.008366</td>\n",
       "      <td>0.085310</td>\n",
       "      <td>0.092196</td>\n",
       "      <td>0.070172</td>\n",
       "      <td>0.064621</td>\n",
       "      <td>-0.125587</td>\n",
       "      <td>-0.068217</td>\n",
       "      <td>...</td>\n",
       "      <td>-0.052707</td>\n",
       "      <td>0.192107</td>\n",
       "      <td>0.301674</td>\n",
       "      <td>1.000000</td>\n",
       "      <td>0.353619</td>\n",
       "      <td>0.233688</td>\n",
       "      <td>-0.080705</td>\n",
       "      <td>-0.092068</td>\n",
       "      <td>-0.101830</td>\n",
       "      <td>-0.209806</td>\n",
       "    </tr>\n",
       "    <tr>\n",
       "      <th>PhysHlth</th>\n",
       "      <td>0.176287</td>\n",
       "      <td>0.161212</td>\n",
       "      <td>0.121751</td>\n",
       "      <td>0.031775</td>\n",
       "      <td>0.121141</td>\n",
       "      <td>0.116460</td>\n",
       "      <td>0.148944</td>\n",
       "      <td>0.181698</td>\n",
       "      <td>-0.219230</td>\n",
       "      <td>-0.044633</td>\n",
       "      <td>...</td>\n",
       "      <td>-0.008276</td>\n",
       "      <td>0.148998</td>\n",
       "      <td>0.524364</td>\n",
       "      <td>0.353619</td>\n",
       "      <td>1.000000</td>\n",
       "      <td>0.478417</td>\n",
       "      <td>-0.043137</td>\n",
       "      <td>0.099130</td>\n",
       "      <td>-0.155093</td>\n",
       "      <td>-0.266799</td>\n",
       "    </tr>\n",
       "    <tr>\n",
       "      <th>DiffWalk</th>\n",
       "      <td>0.224239</td>\n",
       "      <td>0.223618</td>\n",
       "      <td>0.144672</td>\n",
       "      <td>0.040585</td>\n",
       "      <td>0.197078</td>\n",
       "      <td>0.122463</td>\n",
       "      <td>0.176567</td>\n",
       "      <td>0.212709</td>\n",
       "      <td>-0.253174</td>\n",
       "      <td>-0.048352</td>\n",
       "      <td>...</td>\n",
       "      <td>0.007074</td>\n",
       "      <td>0.118447</td>\n",
       "      <td>0.456920</td>\n",
       "      <td>0.233688</td>\n",
       "      <td>0.478417</td>\n",
       "      <td>1.000000</td>\n",
       "      <td>-0.070299</td>\n",
       "      <td>0.204450</td>\n",
       "      <td>-0.192642</td>\n",
       "      <td>-0.320124</td>\n",
       "    </tr>\n",
       "    <tr>\n",
       "      <th>Sex</th>\n",
       "      <td>0.031040</td>\n",
       "      <td>0.052207</td>\n",
       "      <td>0.031205</td>\n",
       "      <td>-0.022115</td>\n",
       "      <td>0.042950</td>\n",
       "      <td>0.093662</td>\n",
       "      <td>0.002978</td>\n",
       "      <td>0.086096</td>\n",
       "      <td>0.032482</td>\n",
       "      <td>-0.091175</td>\n",
       "      <td>...</td>\n",
       "      <td>-0.019405</td>\n",
       "      <td>-0.044931</td>\n",
       "      <td>-0.006091</td>\n",
       "      <td>-0.080705</td>\n",
       "      <td>-0.043137</td>\n",
       "      <td>-0.070299</td>\n",
       "      <td>1.000000</td>\n",
       "      <td>-0.027340</td>\n",
       "      <td>0.019480</td>\n",
       "      <td>0.127141</td>\n",
       "    </tr>\n",
       "    <tr>\n",
       "      <th>Age</th>\n",
       "      <td>0.185026</td>\n",
       "      <td>0.344452</td>\n",
       "      <td>0.272318</td>\n",
       "      <td>0.090321</td>\n",
       "      <td>-0.036618</td>\n",
       "      <td>0.120641</td>\n",
       "      <td>0.126974</td>\n",
       "      <td>0.221618</td>\n",
       "      <td>-0.092511</td>\n",
       "      <td>0.064547</td>\n",
       "      <td>...</td>\n",
       "      <td>0.138046</td>\n",
       "      <td>-0.119777</td>\n",
       "      <td>0.152450</td>\n",
       "      <td>-0.092068</td>\n",
       "      <td>0.099130</td>\n",
       "      <td>0.204450</td>\n",
       "      <td>-0.027340</td>\n",
       "      <td>1.000000</td>\n",
       "      <td>-0.101901</td>\n",
       "      <td>-0.127775</td>\n",
       "    </tr>\n",
       "    <tr>\n",
       "      <th>Education</th>\n",
       "      <td>-0.130517</td>\n",
       "      <td>-0.141358</td>\n",
       "      <td>-0.070802</td>\n",
       "      <td>0.001510</td>\n",
       "      <td>-0.103932</td>\n",
       "      <td>-0.161955</td>\n",
       "      <td>-0.076009</td>\n",
       "      <td>-0.099600</td>\n",
       "      <td>0.199658</td>\n",
       "      <td>0.110187</td>\n",
       "      <td>...</td>\n",
       "      <td>0.122514</td>\n",
       "      <td>-0.100701</td>\n",
       "      <td>-0.284912</td>\n",
       "      <td>-0.101830</td>\n",
       "      <td>-0.155093</td>\n",
       "      <td>-0.192642</td>\n",
       "      <td>0.019480</td>\n",
       "      <td>-0.101901</td>\n",
       "      <td>1.000000</td>\n",
       "      <td>0.449106</td>\n",
       "    </tr>\n",
       "    <tr>\n",
       "      <th>Income</th>\n",
       "      <td>-0.171483</td>\n",
       "      <td>-0.171235</td>\n",
       "      <td>-0.085459</td>\n",
       "      <td>0.014259</td>\n",
       "      <td>-0.100069</td>\n",
       "      <td>-0.123937</td>\n",
       "      <td>-0.128599</td>\n",
       "      <td>-0.141011</td>\n",
       "      <td>0.198539</td>\n",
       "      <td>0.079929</td>\n",
       "      <td>...</td>\n",
       "      <td>0.157999</td>\n",
       "      <td>-0.203182</td>\n",
       "      <td>-0.370014</td>\n",
       "      <td>-0.209806</td>\n",
       "      <td>-0.266799</td>\n",
       "      <td>-0.320124</td>\n",
       "      <td>0.127141</td>\n",
       "      <td>-0.127775</td>\n",
       "      <td>0.449106</td>\n",
       "      <td>1.000000</td>\n",
       "    </tr>\n",
       "  </tbody>\n",
       "</table>\n",
       "<p>22 rows × 22 columns</p>\n",
       "</div>"
      ],
      "text/plain": [
       "                      Diabetes_012    HighBP  HighChol  CholCheck       BMI  \\\n",
       "Diabetes_012              1.000000  0.271596  0.209085   0.067546  0.224379   \n",
       "HighBP                    0.271596  1.000000  0.298199   0.098508  0.213748   \n",
       "HighChol                  0.209085  0.298199  1.000000   0.085642  0.106722   \n",
       "CholCheck                 0.067546  0.098508  0.085642   1.000000  0.034495   \n",
       "BMI                       0.224379  0.213748  0.106722   0.034495  1.000000   \n",
       "Smoker                    0.062914  0.096991  0.091299  -0.009929  0.013804   \n",
       "Stroke                    0.107179  0.129575  0.092620   0.024158  0.020153   \n",
       "HeartDiseaseorAttack      0.180272  0.209361  0.180765   0.044206  0.052904   \n",
       "PhysActivity             -0.121947 -0.125267 -0.078046   0.004190 -0.147294   \n",
       "Fruits                   -0.042192 -0.040555 -0.040859   0.023849 -0.087518   \n",
       "Veggies                  -0.058972 -0.061266 -0.039874   0.006121 -0.062275   \n",
       "HvyAlcoholConsump        -0.057882 -0.003972 -0.011543  -0.023730 -0.048736   \n",
       "AnyHealthcare             0.015410  0.038425  0.042230   0.117626 -0.018471   \n",
       "NoDocbcCost               0.035436  0.017358  0.013310  -0.058255  0.058206   \n",
       "GenHlth                   0.302587  0.300530  0.208426   0.046589  0.239185   \n",
       "MentHlth                  0.073507  0.056456  0.062069  -0.008366  0.085310   \n",
       "PhysHlth                  0.176287  0.161212  0.121751   0.031775  0.121141   \n",
       "DiffWalk                  0.224239  0.223618  0.144672   0.040585  0.197078   \n",
       "Sex                       0.031040  0.052207  0.031205  -0.022115  0.042950   \n",
       "Age                       0.185026  0.344452  0.272318   0.090321 -0.036618   \n",
       "Education                -0.130517 -0.141358 -0.070802   0.001510 -0.103932   \n",
       "Income                   -0.171483 -0.171235 -0.085459   0.014259 -0.100069   \n",
       "\n",
       "                        Smoker    Stroke  HeartDiseaseorAttack  PhysActivity  \\\n",
       "Diabetes_012          0.062914  0.107179              0.180272     -0.121947   \n",
       "HighBP                0.096991  0.129575              0.209361     -0.125267   \n",
       "HighChol              0.091299  0.092620              0.180765     -0.078046   \n",
       "CholCheck            -0.009929  0.024158              0.044206      0.004190   \n",
       "BMI                   0.013804  0.020153              0.052904     -0.147294   \n",
       "Smoker                1.000000  0.061173              0.114441     -0.087401   \n",
       "Stroke                0.061173  1.000000              0.203002     -0.069151   \n",
       "HeartDiseaseorAttack  0.114441  0.203002              1.000000     -0.087299   \n",
       "PhysActivity         -0.087401 -0.069151             -0.087299      1.000000   \n",
       "Fruits               -0.077666 -0.013389             -0.019790      0.142756   \n",
       "Veggies              -0.030678 -0.041124             -0.039167      0.153150   \n",
       "HvyAlcoholConsump     0.101619 -0.016950             -0.028991      0.012392   \n",
       "AnyHealthcare        -0.023251  0.008776              0.018734      0.035505   \n",
       "NoDocbcCost           0.048946  0.034804              0.031000     -0.061638   \n",
       "GenHlth               0.163143  0.177942              0.258383     -0.266186   \n",
       "MentHlth              0.092196  0.070172              0.064621     -0.125587   \n",
       "PhysHlth              0.116460  0.148944              0.181698     -0.219230   \n",
       "DiffWalk              0.122463  0.176567              0.212709     -0.253174   \n",
       "Sex                   0.093662  0.002978              0.086096      0.032482   \n",
       "Age                   0.120641  0.126974              0.221618     -0.092511   \n",
       "Education            -0.161955 -0.076009             -0.099600      0.199658   \n",
       "Income               -0.123937 -0.128599             -0.141011      0.198539   \n",
       "\n",
       "                        Fruits  ...  AnyHealthcare  NoDocbcCost   GenHlth  \\\n",
       "Diabetes_012         -0.042192  ...       0.015410     0.035436  0.302587   \n",
       "HighBP               -0.040555  ...       0.038425     0.017358  0.300530   \n",
       "HighChol             -0.040859  ...       0.042230     0.013310  0.208426   \n",
       "CholCheck             0.023849  ...       0.117626    -0.058255  0.046589   \n",
       "BMI                  -0.087518  ...      -0.018471     0.058206  0.239185   \n",
       "Smoker               -0.077666  ...      -0.023251     0.048946  0.163143   \n",
       "Stroke               -0.013389  ...       0.008776     0.034804  0.177942   \n",
       "HeartDiseaseorAttack -0.019790  ...       0.018734     0.031000  0.258383   \n",
       "PhysActivity          0.142756  ...       0.035505    -0.061638 -0.266186   \n",
       "Fruits                1.000000  ...       0.031544    -0.044243 -0.103854   \n",
       "Veggies               0.254342  ...       0.029584    -0.032232 -0.123066   \n",
       "HvyAlcoholConsump    -0.035288  ...      -0.010488     0.004684 -0.036724   \n",
       "AnyHealthcare         0.031544  ...       1.000000    -0.232532 -0.040817   \n",
       "NoDocbcCost          -0.044243  ...      -0.232532     1.000000  0.166397   \n",
       "GenHlth              -0.103854  ...      -0.040817     0.166397  1.000000   \n",
       "MentHlth             -0.068217  ...      -0.052707     0.192107  0.301674   \n",
       "PhysHlth             -0.044633  ...      -0.008276     0.148998  0.524364   \n",
       "DiffWalk             -0.048352  ...       0.007074     0.118447  0.456920   \n",
       "Sex                  -0.091175  ...      -0.019405    -0.044931 -0.006091   \n",
       "Age                   0.064547  ...       0.138046    -0.119777  0.152450   \n",
       "Education             0.110187  ...       0.122514    -0.100701 -0.284912   \n",
       "Income                0.079929  ...       0.157999    -0.203182 -0.370014   \n",
       "\n",
       "                      MentHlth  PhysHlth  DiffWalk       Sex       Age  \\\n",
       "Diabetes_012          0.073507  0.176287  0.224239  0.031040  0.185026   \n",
       "HighBP                0.056456  0.161212  0.223618  0.052207  0.344452   \n",
       "HighChol              0.062069  0.121751  0.144672  0.031205  0.272318   \n",
       "CholCheck            -0.008366  0.031775  0.040585 -0.022115  0.090321   \n",
       "BMI                   0.085310  0.121141  0.197078  0.042950 -0.036618   \n",
       "Smoker                0.092196  0.116460  0.122463  0.093662  0.120641   \n",
       "Stroke                0.070172  0.148944  0.176567  0.002978  0.126974   \n",
       "HeartDiseaseorAttack  0.064621  0.181698  0.212709  0.086096  0.221618   \n",
       "PhysActivity         -0.125587 -0.219230 -0.253174  0.032482 -0.092511   \n",
       "Fruits               -0.068217 -0.044633 -0.048352 -0.091175  0.064547   \n",
       "Veggies              -0.058884 -0.064290 -0.080506 -0.064765 -0.009771   \n",
       "HvyAlcoholConsump     0.024716 -0.026415 -0.037668  0.005740 -0.034578   \n",
       "AnyHealthcare        -0.052707 -0.008276  0.007074 -0.019405  0.138046   \n",
       "NoDocbcCost           0.192107  0.148998  0.118447 -0.044931 -0.119777   \n",
       "GenHlth               0.301674  0.524364  0.456920 -0.006091  0.152450   \n",
       "MentHlth              1.000000  0.353619  0.233688 -0.080705 -0.092068   \n",
       "PhysHlth              0.353619  1.000000  0.478417 -0.043137  0.099130   \n",
       "DiffWalk              0.233688  0.478417  1.000000 -0.070299  0.204450   \n",
       "Sex                  -0.080705 -0.043137 -0.070299  1.000000 -0.027340   \n",
       "Age                  -0.092068  0.099130  0.204450 -0.027340  1.000000   \n",
       "Education            -0.101830 -0.155093 -0.192642  0.019480 -0.101901   \n",
       "Income               -0.209806 -0.266799 -0.320124  0.127141 -0.127775   \n",
       "\n",
       "                      Education    Income  \n",
       "Diabetes_012          -0.130517 -0.171483  \n",
       "HighBP                -0.141358 -0.171235  \n",
       "HighChol              -0.070802 -0.085459  \n",
       "CholCheck              0.001510  0.014259  \n",
       "BMI                   -0.103932 -0.100069  \n",
       "Smoker                -0.161955 -0.123937  \n",
       "Stroke                -0.076009 -0.128599  \n",
       "HeartDiseaseorAttack  -0.099600 -0.141011  \n",
       "PhysActivity           0.199658  0.198539  \n",
       "Fruits                 0.110187  0.079929  \n",
       "Veggies                0.154329  0.151087  \n",
       "HvyAlcoholConsump      0.023997  0.053619  \n",
       "AnyHealthcare          0.122514  0.157999  \n",
       "NoDocbcCost           -0.100701 -0.203182  \n",
       "GenHlth               -0.284912 -0.370014  \n",
       "MentHlth              -0.101830 -0.209806  \n",
       "PhysHlth              -0.155093 -0.266799  \n",
       "DiffWalk              -0.192642 -0.320124  \n",
       "Sex                    0.019480  0.127141  \n",
       "Age                   -0.101901 -0.127775  \n",
       "Education              1.000000  0.449106  \n",
       "Income                 0.449106  1.000000  \n",
       "\n",
       "[22 rows x 22 columns]"
      ]
     },
     "execution_count": 14,
     "metadata": {},
     "output_type": "execute_result"
    }
   ],
   "source": [
    "df_corr = df.corr().transpose()\n",
    "df_corr"
   ]
  },
  {
   "cell_type": "code",
   "execution_count": 15,
   "id": "53fece7f",
   "metadata": {
    "execution": {
     "iopub.execute_input": "2022-05-01T23:58:43.853086Z",
     "iopub.status.busy": "2022-05-01T23:58:43.852716Z",
     "iopub.status.idle": "2022-05-01T23:58:46.930863Z",
     "shell.execute_reply": "2022-05-01T23:58:46.929848Z"
    },
    "id": "9Uimjh_sDwPC",
    "outputId": "dc1f9950-0fa6-43a4-9e0c-714679f4c7ae",
    "papermill": {
     "duration": 3.167853,
     "end_time": "2022-05-01T23:58:46.936571",
     "exception": false,
     "start_time": "2022-05-01T23:58:43.768718",
     "status": "completed"
    },
    "tags": []
   },
   "outputs": [
    {
     "data": {
      "image/png": "[encoded data removed]",
      "text/plain": [
       "<Figure size 1584x720 with 2 Axes>"
      ]
     },
     "metadata": {
      "needs_background": "light"
     },
     "output_type": "display_data"
    }
   ],
   "source": [
    "corr_matrix = df.corr()\n",
    "fig, ax = plt.subplots(figsize=(22, 10))\n",
    "ax = sns.heatmap(corr_matrix,annot=True,linewidths=0.5,fmt=\".2f\",cmap=\"YlGn\");\n",
    "bottom, top = ax.get_ylim()\n",
    "ax.set_ylim(bottom + 0.5, top - 0.5);"
   ]
  },
  {
   "cell_type": "markdown",
   "id": "107d8986",
   "metadata": {
    "id": "ok04ryhuBjxo",
    "papermill": {
     "duration": 0.090088,
     "end_time": "2022-05-01T23:58:47.117123",
     "exception": false,
     "start_time": "2022-05-01T23:58:47.027035",
     "status": "completed"
    },
    "tags": []
   },
   "source": [
    "The correlation plot shows the relation between the parameters.\n"
   ]
  },
  {
   "cell_type": "code",
   "execution_count": 16,
   "id": "bb24df84",
   "metadata": {
    "execution": {
     "iopub.execute_input": "2022-05-01T23:58:47.299180Z",
     "iopub.status.busy": "2022-05-01T23:58:47.298863Z",
     "iopub.status.idle": "2022-05-01T23:58:47.789474Z",
     "shell.execute_reply": "2022-05-01T23:58:47.788449Z"
    },
    "id": "MAh7Rkd2EKC2",
    "outputId": "3afa323a-b4a1-420e-afce-55ce5a2d3a27",
    "papermill": {
     "duration": 0.584752,
     "end_time": "2022-05-01T23:58:47.791889",
     "exception": false,
     "start_time": "2022-05-01T23:58:47.207137",
     "status": "completed"
    },
    "tags": []
   },
   "outputs": [
    {
     "data": {
      "image/png": "[encoded data removed]",
      "text/plain": [
       "<Figure size 1440x576 with 1 Axes>"
      ]
     },
     "metadata": {
      "needs_background": "light"
     },
     "output_type": "display_data"
    }
   ],
   "source": [
    "df.drop('Diabetes_012', axis=1).corrwith(df.Diabetes_012).plot(kind='bar', grid=True, figsize=(20, 8), title=\"Correlation with target\",color=\"lightgreen\");"
   ]
  },
  {
   "cell_type": "markdown",
   "id": "6602f475",
   "metadata": {
    "id": "IuRAVEfDFbH3",
    "papermill": {
     "duration": 0.094379,
     "end_time": "2022-05-01T23:58:47.978071",
     "exception": false,
     "start_time": "2022-05-01T23:58:47.883692",
     "status": "completed"
    },
    "tags": []
   },
   "source": [
    "---\n",
    "***Observations from correlation:***\n",
    "- *``AnyHealthCare``, ``NoDocbcCost`` and ``Sex`` are the least correlated with the target variable.*\n",
    "- *All other variables have a significant correlation with the target variable.*\n",
    "---\n"
   ]
  },
  {
   "cell_type": "markdown",
   "id": "9e421bba",
   "metadata": {
    "id": "xfwdhQ5G9rmR",
    "papermill": {
     "duration": 0.092805,
     "end_time": "2022-05-01T23:58:48.163580",
     "exception": false,
     "start_time": "2022-05-01T23:58:48.070775",
     "status": "completed"
    },
    "tags": []
   },
   "source": [
    "### Relationship Between Age vs Diabetes"
   ]
  },
  {
   "cell_type": "code",
   "execution_count": 17,
   "id": "4940fce7",
   "metadata": {
    "execution": {
     "iopub.execute_input": "2022-05-01T23:58:48.348517Z",
     "iopub.status.busy": "2022-05-01T23:58:48.348172Z",
     "iopub.status.idle": "2022-05-01T23:58:48.353451Z",
     "shell.execute_reply": "2022-05-01T23:58:48.352776Z"
    },
    "id": "q1tZgoga-Gal",
    "papermill": {
     "duration": 0.100271,
     "end_time": "2022-05-01T23:58:48.355223",
     "exception": false,
     "start_time": "2022-05-01T23:58:48.254952",
     "status": "completed"
    },
    "tags": []
   },
   "outputs": [],
   "source": [
    "def mean_target(var):\n",
    "    \"\"\"\n",
    "    A function that will return the mean values for 'var' column depending on whether the person\n",
    "    is diabetic or not\n",
    "    \"\"\"\n",
    "    return pd.DataFrame(df.groupby('Diabetes_012_str').count()[var])"
   ]
  },
  {
   "cell_type": "code",
   "execution_count": 18,
   "id": "1139c843",
   "metadata": {
    "execution": {
     "iopub.execute_input": "2022-05-01T23:58:48.543497Z",
     "iopub.status.busy": "2022-05-01T23:58:48.542818Z",
     "iopub.status.idle": "2022-05-01T23:58:48.956429Z",
     "shell.execute_reply": "2022-05-01T23:58:48.955701Z"
    },
    "id": "-xqVsH483Wk5",
    "outputId": "689c7abf-657c-42ca-8189-7b02897a8223",
    "papermill": {
     "duration": 0.510038,
     "end_time": "2022-05-01T23:58:48.958823",
     "exception": false,
     "start_time": "2022-05-01T23:58:48.448785",
     "status": "completed"
    },
    "tags": []
   },
   "outputs": [
    {
     "data": {
      "image/png": "[encoded data removed]",
      "text/plain": [
       "<Figure size 432x288 with 1 Axes>"
      ]
     },
     "metadata": {
      "needs_background": "light"
     },
     "output_type": "display_data"
    }
   ],
   "source": [
    "sns.boxplot(x = 'Diabetes_012_str', y = 'Age', data = df)\n",
    "plt.title('Age vs Diabetes_012_str')\n",
    "plt.show()"
   ]
  },
  {
   "cell_type": "markdown",
   "id": "9c995050",
   "metadata": {
    "id": "bRfFGo8g4Jwq",
    "papermill": {
     "duration": 0.092216,
     "end_time": "2022-05-01T23:58:49.143155",
     "exception": false,
     "start_time": "2022-05-01T23:58:49.050939",
     "status": "completed"
    },
    "tags": []
   },
   "source": [
    "> We know that as the age increases, the chances of diabetes also commonly increases. From above we can say, the median of the age of diabetic people is greater than that of non-diabetic people."
   ]
  },
  {
   "cell_type": "code",
   "execution_count": 19,
   "id": "ba851612",
   "metadata": {
    "execution": {
     "iopub.execute_input": "2022-05-01T23:58:49.330686Z",
     "iopub.status.busy": "2022-05-01T23:58:49.329992Z",
     "iopub.status.idle": "2022-05-01T23:58:50.002302Z",
     "shell.execute_reply": "2022-05-01T23:58:50.000027Z"
    },
    "id": "vJcS1E_T9exl",
    "outputId": "340f0066-3dc5-4f75-9c8b-bf8c1fcc747a",
    "papermill": {
     "duration": 0.768931,
     "end_time": "2022-05-01T23:58:50.004796",
     "exception": false,
     "start_time": "2022-05-01T23:58:49.235865",
     "status": "completed"
    },
    "tags": []
   },
   "outputs": [
    {
     "data": {
      "image/png": "[encoded data removed]",
      "text/plain": [
       "<Figure size 1440x432 with 1 Axes>"
      ]
     },
     "metadata": {
      "needs_background": "light"
     },
     "output_type": "display_data"
    }
   ],
   "source": [
    "pd.crosstab(df.Age,df.Diabetes_012_str).plot(kind=\"bar\",figsize=(20,6))\n",
    "plt.title('Diabetes Disease Frequency for Ages')\n",
    "plt.xlabel('Age')\n",
    "plt.ylabel('Frequency')\n",
    "plt.show()"
   ]
  },
  {
   "cell_type": "code",
   "execution_count": 20,
   "id": "da03e02f",
   "metadata": {
    "execution": {
     "iopub.execute_input": "2022-05-01T23:58:50.198883Z",
     "iopub.status.busy": "2022-05-01T23:58:50.198555Z",
     "iopub.status.idle": "2022-05-01T23:58:50.270508Z",
     "shell.execute_reply": "2022-05-01T23:58:50.269553Z"
    },
    "id": "Wl8_l_cxAUfC",
    "outputId": "1a280856-5b33-40af-8f18-674c19638f2c",
    "papermill": {
     "duration": 0.173736,
     "end_time": "2022-05-01T23:58:50.272931",
     "exception": false,
     "start_time": "2022-05-01T23:58:50.099195",
     "status": "completed"
    },
    "tags": []
   },
   "outputs": [
    {
     "data": {
      "text/html": [
       "<div>\n",
       "<style scoped>\n",
       "    .dataframe tbody tr th:only-of-type {\n",
       "        vertical-align: middle;\n",
       "    }\n",
       "\n",
       "    .dataframe tbody tr th {\n",
       "        vertical-align: top;\n",
       "    }\n",
       "\n",
       "    .dataframe thead th {\n",
       "        text-align: right;\n",
       "    }\n",
       "</style>\n",
       "<table border=\"1\" class=\"dataframe\">\n",
       "  <thead>\n",
       "    <tr style=\"text-align: right;\">\n",
       "      <th>Age</th>\n",
       "      <th>1.0</th>\n",
       "      <th>2.0</th>\n",
       "      <th>3.0</th>\n",
       "      <th>4.0</th>\n",
       "      <th>5.0</th>\n",
       "      <th>6.0</th>\n",
       "      <th>7.0</th>\n",
       "      <th>8.0</th>\n",
       "      <th>9.0</th>\n",
       "      <th>10.0</th>\n",
       "      <th>11.0</th>\n",
       "      <th>12.0</th>\n",
       "      <th>13.0</th>\n",
       "    </tr>\n",
       "    <tr>\n",
       "      <th>Diabetes_012_str</th>\n",
       "      <th></th>\n",
       "      <th></th>\n",
       "      <th></th>\n",
       "      <th></th>\n",
       "      <th></th>\n",
       "      <th></th>\n",
       "      <th></th>\n",
       "      <th></th>\n",
       "      <th></th>\n",
       "      <th></th>\n",
       "      <th></th>\n",
       "      <th></th>\n",
       "      <th></th>\n",
       "    </tr>\n",
       "  </thead>\n",
       "  <tbody>\n",
       "    <tr>\n",
       "      <th>Diabetic</th>\n",
       "      <td>78</td>\n",
       "      <td>140</td>\n",
       "      <td>314</td>\n",
       "      <td>626</td>\n",
       "      <td>1051</td>\n",
       "      <td>1742</td>\n",
       "      <td>3088</td>\n",
       "      <td>4263</td>\n",
       "      <td>5733</td>\n",
       "      <td>6558</td>\n",
       "      <td>5141</td>\n",
       "      <td>3403</td>\n",
       "      <td>3209</td>\n",
       "    </tr>\n",
       "    <tr>\n",
       "      <th>Healthy</th>\n",
       "      <td>5601</td>\n",
       "      <td>7404</td>\n",
       "      <td>10737</td>\n",
       "      <td>13055</td>\n",
       "      <td>14943</td>\n",
       "      <td>17765</td>\n",
       "      <td>22808</td>\n",
       "      <td>26019</td>\n",
       "      <td>26809</td>\n",
       "      <td>24939</td>\n",
       "      <td>17790</td>\n",
       "      <td>12132</td>\n",
       "      <td>13701</td>\n",
       "    </tr>\n",
       "    <tr>\n",
       "      <th>Pre-diabetic</th>\n",
       "      <td>21</td>\n",
       "      <td>54</td>\n",
       "      <td>72</td>\n",
       "      <td>142</td>\n",
       "      <td>163</td>\n",
       "      <td>312</td>\n",
       "      <td>418</td>\n",
       "      <td>550</td>\n",
       "      <td>702</td>\n",
       "      <td>697</td>\n",
       "      <td>602</td>\n",
       "      <td>445</td>\n",
       "      <td>453</td>\n",
       "    </tr>\n",
       "  </tbody>\n",
       "</table>\n",
       "</div>"
      ],
      "text/plain": [
       "Age               1.0   2.0    3.0    4.0    5.0    6.0    7.0    8.0    9.0   \\\n",
       "Diabetes_012_str                                                                \n",
       "Diabetic            78   140    314    626   1051   1742   3088   4263   5733   \n",
       "Healthy           5601  7404  10737  13055  14943  17765  22808  26019  26809   \n",
       "Pre-diabetic        21    54     72    142    163    312    418    550    702   \n",
       "\n",
       "Age                10.0   11.0   12.0   13.0  \n",
       "Diabetes_012_str                              \n",
       "Diabetic           6558   5141   3403   3209  \n",
       "Healthy           24939  17790  12132  13701  \n",
       "Pre-diabetic        697    602    445    453  "
      ]
     },
     "execution_count": 20,
     "metadata": {},
     "output_type": "execute_result"
    }
   ],
   "source": [
    "pd.crosstab(df[\"Diabetes_012_str\"], df[\"Age\"])"
   ]
  },
  {
   "cell_type": "code",
   "execution_count": 21,
   "id": "c6db11ec",
   "metadata": {
    "execution": {
     "iopub.execute_input": "2022-05-01T23:58:50.464778Z",
     "iopub.status.busy": "2022-05-01T23:58:50.464461Z",
     "iopub.status.idle": "2022-05-01T23:58:50.539010Z",
     "shell.execute_reply": "2022-05-01T23:58:50.538063Z"
    },
    "id": "V5Ij6T2x-KAH",
    "outputId": "1faf4318-6ac2-4d78-dacf-a14726294675",
    "papermill": {
     "duration": 0.174442,
     "end_time": "2022-05-01T23:58:50.541627",
     "exception": false,
     "start_time": "2022-05-01T23:58:50.367185",
     "status": "completed"
    },
    "tags": []
   },
   "outputs": [
    {
     "data": {
      "text/html": [
       "<div>\n",
       "<style scoped>\n",
       "    .dataframe tbody tr th:only-of-type {\n",
       "        vertical-align: middle;\n",
       "    }\n",
       "\n",
       "    .dataframe tbody tr th {\n",
       "        vertical-align: top;\n",
       "    }\n",
       "\n",
       "    .dataframe thead th {\n",
       "        text-align: right;\n",
       "    }\n",
       "</style>\n",
       "<table border=\"1\" class=\"dataframe\">\n",
       "  <thead>\n",
       "    <tr style=\"text-align: right;\">\n",
       "      <th></th>\n",
       "      <th>Age</th>\n",
       "    </tr>\n",
       "    <tr>\n",
       "      <th>Diabetes_012_str</th>\n",
       "      <th></th>\n",
       "    </tr>\n",
       "  </thead>\n",
       "  <tbody>\n",
       "    <tr>\n",
       "      <th>Diabetic</th>\n",
       "      <td>35346</td>\n",
       "    </tr>\n",
       "    <tr>\n",
       "      <th>Healthy</th>\n",
       "      <td>213703</td>\n",
       "    </tr>\n",
       "    <tr>\n",
       "      <th>Pre-diabetic</th>\n",
       "      <td>4631</td>\n",
       "    </tr>\n",
       "  </tbody>\n",
       "</table>\n",
       "</div>"
      ],
      "text/plain": [
       "                     Age\n",
       "Diabetes_012_str        \n",
       "Diabetic           35346\n",
       "Healthy           213703\n",
       "Pre-diabetic        4631"
      ]
     },
     "execution_count": 21,
     "metadata": {},
     "output_type": "execute_result"
    }
   ],
   "source": [
    "mean_target(\"Age\")"
   ]
  },
  {
   "cell_type": "markdown",
   "id": "9e49c5bb",
   "metadata": {
    "id": "pUqZlR3f--sM",
    "papermill": {
     "duration": 0.094336,
     "end_time": "2022-05-01T23:58:50.731030",
     "exception": false,
     "start_time": "2022-05-01T23:58:50.636694",
     "status": "completed"
    },
    "tags": []
   },
   "source": [
    "> As we can see, age has a significant impact on diabetic disease, with the greatest impact occurring between the ages of 9 and 10."
   ]
  },
  {
   "cell_type": "markdown",
   "id": "252b032f",
   "metadata": {
    "id": "tElXYsL4_19D",
    "papermill": {
     "duration": 0.0964,
     "end_time": "2022-05-01T23:58:50.923375",
     "exception": false,
     "start_time": "2022-05-01T23:58:50.826975",
     "status": "completed"
    },
    "tags": []
   },
   "source": [
    "### Relationship Between Smoker vs Diabetes"
   ]
  },
  {
   "cell_type": "code",
   "execution_count": 22,
   "id": "b0975d4a",
   "metadata": {
    "execution": {
     "iopub.execute_input": "2022-05-01T23:58:51.115837Z",
     "iopub.status.busy": "2022-05-01T23:58:51.115148Z",
     "iopub.status.idle": "2022-05-01T23:58:51.413525Z",
     "shell.execute_reply": "2022-05-01T23:58:51.412505Z"
    },
    "id": "zY3dterx_2jC",
    "outputId": "1795a623-ee5c-4900-af60-15d813f729f6",
    "papermill": {
     "duration": 0.39796,
     "end_time": "2022-05-01T23:58:51.416111",
     "exception": false,
     "start_time": "2022-05-01T23:58:51.018151",
     "status": "completed"
    },
    "tags": []
   },
   "outputs": [
    {
     "data": {
      "text/plain": [
       "Text(0.5, 1.0, 'Diabetes Frequency for Smoker')"
      ]
     },
     "execution_count": 22,
     "metadata": {},
     "output_type": "execute_result"
    },
    {
     "data": {
      "image/png": "[encoded data removed]",
      "text/plain": [
       "<Figure size 432x288 with 1 Axes>"
      ]
     },
     "metadata": {
      "needs_background": "light"
     },
     "output_type": "display_data"
    }
   ],
   "source": [
    "pd.crosstab(df.Smoker, df.Diabetes_012_str).plot(kind = 'bar')\n",
    "plt.title(\"Diabetes Frequency for Smoker\")"
   ]
  },
  {
   "cell_type": "code",
   "execution_count": 23,
   "id": "21eb27d9",
   "metadata": {
    "execution": {
     "iopub.execute_input": "2022-05-01T23:58:51.608763Z",
     "iopub.status.busy": "2022-05-01T23:58:51.608406Z",
     "iopub.status.idle": "2022-05-01T23:58:51.683160Z",
     "shell.execute_reply": "2022-05-01T23:58:51.682271Z"
    },
    "id": "kk7FRuwKAG6q",
    "outputId": "2d7e3079-6af2-45f2-918f-28f5c6dc6e08",
    "papermill": {
     "duration": 0.174462,
     "end_time": "2022-05-01T23:58:51.685860",
     "exception": false,
     "start_time": "2022-05-01T23:58:51.511398",
     "status": "completed"
    },
    "tags": []
   },
   "outputs": [
    {
     "data": {
      "text/html": [
       "<div>\n",
       "<style scoped>\n",
       "    .dataframe tbody tr th:only-of-type {\n",
       "        vertical-align: middle;\n",
       "    }\n",
       "\n",
       "    .dataframe tbody tr th {\n",
       "        vertical-align: top;\n",
       "    }\n",
       "\n",
       "    .dataframe thead th {\n",
       "        text-align: right;\n",
       "    }\n",
       "</style>\n",
       "<table border=\"1\" class=\"dataframe\">\n",
       "  <thead>\n",
       "    <tr style=\"text-align: right;\">\n",
       "      <th></th>\n",
       "      <th>Smoker</th>\n",
       "    </tr>\n",
       "    <tr>\n",
       "      <th>Diabetes_012_str</th>\n",
       "      <th></th>\n",
       "    </tr>\n",
       "  </thead>\n",
       "  <tbody>\n",
       "    <tr>\n",
       "      <th>Diabetic</th>\n",
       "      <td>35346</td>\n",
       "    </tr>\n",
       "    <tr>\n",
       "      <th>Healthy</th>\n",
       "      <td>213703</td>\n",
       "    </tr>\n",
       "    <tr>\n",
       "      <th>Pre-diabetic</th>\n",
       "      <td>4631</td>\n",
       "    </tr>\n",
       "  </tbody>\n",
       "</table>\n",
       "</div>"
      ],
      "text/plain": [
       "                  Smoker\n",
       "Diabetes_012_str        \n",
       "Diabetic           35346\n",
       "Healthy           213703\n",
       "Pre-diabetic        4631"
      ]
     },
     "execution_count": 23,
     "metadata": {},
     "output_type": "execute_result"
    }
   ],
   "source": [
    "mean_target(\"Smoker\")"
   ]
  },
  {
   "cell_type": "code",
   "execution_count": 24,
   "id": "1ad77c85",
   "metadata": {
    "execution": {
     "iopub.execute_input": "2022-05-01T23:58:51.885421Z",
     "iopub.status.busy": "2022-05-01T23:58:51.885075Z",
     "iopub.status.idle": "2022-05-01T23:58:51.951331Z",
     "shell.execute_reply": "2022-05-01T23:58:51.950383Z"
    },
    "id": "OKCURAxk_2xw",
    "outputId": "8d322926-e4e6-4799-82a2-1aca0bd543c2",
    "papermill": {
     "duration": 0.166939,
     "end_time": "2022-05-01T23:58:51.953754",
     "exception": false,
     "start_time": "2022-05-01T23:58:51.786815",
     "status": "completed"
    },
    "tags": []
   },
   "outputs": [
    {
     "data": {
      "text/html": [
       "<div>\n",
       "<style scoped>\n",
       "    .dataframe tbody tr th:only-of-type {\n",
       "        vertical-align: middle;\n",
       "    }\n",
       "\n",
       "    .dataframe tbody tr th {\n",
       "        vertical-align: top;\n",
       "    }\n",
       "\n",
       "    .dataframe thead th {\n",
       "        text-align: right;\n",
       "    }\n",
       "</style>\n",
       "<table border=\"1\" class=\"dataframe\">\n",
       "  <thead>\n",
       "    <tr style=\"text-align: right;\">\n",
       "      <th>Smoker</th>\n",
       "      <th>0.0</th>\n",
       "      <th>1.0</th>\n",
       "    </tr>\n",
       "    <tr>\n",
       "      <th>Diabetes_012_str</th>\n",
       "      <th></th>\n",
       "      <th></th>\n",
       "    </tr>\n",
       "  </thead>\n",
       "  <tbody>\n",
       "    <tr>\n",
       "      <th>Diabetic</th>\n",
       "      <td>17029</td>\n",
       "      <td>18317</td>\n",
       "    </tr>\n",
       "    <tr>\n",
       "      <th>Healthy</th>\n",
       "      <td>121879</td>\n",
       "      <td>91824</td>\n",
       "    </tr>\n",
       "    <tr>\n",
       "      <th>Pre-diabetic</th>\n",
       "      <td>2349</td>\n",
       "      <td>2282</td>\n",
       "    </tr>\n",
       "  </tbody>\n",
       "</table>\n",
       "</div>"
      ],
      "text/plain": [
       "Smoker               0.0    1.0\n",
       "Diabetes_012_str               \n",
       "Diabetic           17029  18317\n",
       "Healthy           121879  91824\n",
       "Pre-diabetic        2349   2282"
      ]
     },
     "execution_count": 24,
     "metadata": {},
     "output_type": "execute_result"
    }
   ],
   "source": [
    "pd.crosstab(df[\"Diabetes_012_str\"], df[\"Smoker\"])"
   ]
  },
  {
   "cell_type": "markdown",
   "id": "effa3071",
   "metadata": {
    "id": "NZbx1FfRAgY9",
    "papermill": {
     "duration": 0.096498,
     "end_time": "2022-05-01T23:58:52.146648",
     "exception": false,
     "start_time": "2022-05-01T23:58:52.050150",
     "status": "completed"
    },
    "tags": []
   },
   "source": [
    "> According to the table, persons with diabetes are the most likely to smoke."
   ]
  },
  {
   "cell_type": "markdown",
   "id": "d6cee187",
   "metadata": {
    "id": "aQ5CXNp-BH81",
    "papermill": {
     "duration": 0.096393,
     "end_time": "2022-05-01T23:58:52.339866",
     "exception": false,
     "start_time": "2022-05-01T23:58:52.243473",
     "status": "completed"
    },
    "tags": []
   },
   "source": [
    "### Relationship Between Sex and Diabetes"
   ]
  },
  {
   "cell_type": "code",
   "execution_count": 25,
   "id": "2185bd8a",
   "metadata": {
    "execution": {
     "iopub.execute_input": "2022-05-01T23:58:52.538189Z",
     "iopub.status.busy": "2022-05-01T23:58:52.537481Z",
     "iopub.status.idle": "2022-05-01T23:58:52.842229Z",
     "shell.execute_reply": "2022-05-01T23:58:52.841205Z"
    },
    "id": "nyuDhbw_90Qe",
    "outputId": "e7b006f0-723b-4e61-b904-bab0ee5d5151",
    "papermill": {
     "duration": 0.407008,
     "end_time": "2022-05-01T23:58:52.844988",
     "exception": false,
     "start_time": "2022-05-01T23:58:52.437980",
     "status": "completed"
    },
    "tags": []
   },
   "outputs": [
    {
     "data": {
      "image/png": "[encoded data removed]",
      "text/plain": [
       "<Figure size 1080x432 with 1 Axes>"
      ]
     },
     "metadata": {
      "needs_background": "light"
     },
     "output_type": "display_data"
    }
   ],
   "source": [
    "pd.crosstab(df.Sex,df.Diabetes_012_str).plot(kind=\"bar\",figsize=(15,6),color=['#1CA53B','#AA1111', '#FFA500' ])\n",
    "plt.title('Diabetes Disease Frequency for Sex')\n",
    "plt.xlabel('Sex (0 = Female, 1 = Male)')\n",
    "plt.xticks(rotation=0)\n",
    "plt.legend([\"Have Diabetic\", \"Healthy\", \"Have Pre-Diabetic\"])\n",
    "plt.ylabel('Frequency')\n",
    "plt.show()"
   ]
  },
  {
   "cell_type": "code",
   "execution_count": 26,
   "id": "08fce8cc",
   "metadata": {
    "execution": {
     "iopub.execute_input": "2022-05-01T23:58:53.051259Z",
     "iopub.status.busy": "2022-05-01T23:58:53.050901Z",
     "iopub.status.idle": "2022-05-01T23:58:53.133358Z",
     "shell.execute_reply": "2022-05-01T23:58:53.132416Z"
    },
    "id": "BloLPd_4BnEl",
    "outputId": "585da97d-7fd2-4025-b1d7-1f66bd2cf30c",
    "papermill": {
     "duration": 0.190688,
     "end_time": "2022-05-01T23:58:53.135526",
     "exception": false,
     "start_time": "2022-05-01T23:58:52.944838",
     "status": "completed"
    },
    "tags": []
   },
   "outputs": [
    {
     "data": {
      "text/html": [
       "<div>\n",
       "<style scoped>\n",
       "    .dataframe tbody tr th:only-of-type {\n",
       "        vertical-align: middle;\n",
       "    }\n",
       "\n",
       "    .dataframe tbody tr th {\n",
       "        vertical-align: top;\n",
       "    }\n",
       "\n",
       "    .dataframe thead th {\n",
       "        text-align: right;\n",
       "    }\n",
       "</style>\n",
       "<table border=\"1\" class=\"dataframe\">\n",
       "  <thead>\n",
       "    <tr style=\"text-align: right;\">\n",
       "      <th></th>\n",
       "      <th>Sex</th>\n",
       "    </tr>\n",
       "    <tr>\n",
       "      <th>Diabetes_012_str</th>\n",
       "      <th></th>\n",
       "    </tr>\n",
       "  </thead>\n",
       "  <tbody>\n",
       "    <tr>\n",
       "      <th>Diabetic</th>\n",
       "      <td>35346</td>\n",
       "    </tr>\n",
       "    <tr>\n",
       "      <th>Healthy</th>\n",
       "      <td>213703</td>\n",
       "    </tr>\n",
       "    <tr>\n",
       "      <th>Pre-diabetic</th>\n",
       "      <td>4631</td>\n",
       "    </tr>\n",
       "  </tbody>\n",
       "</table>\n",
       "</div>"
      ],
      "text/plain": [
       "                     Sex\n",
       "Diabetes_012_str        \n",
       "Diabetic           35346\n",
       "Healthy           213703\n",
       "Pre-diabetic        4631"
      ]
     },
     "execution_count": 26,
     "metadata": {},
     "output_type": "execute_result"
    }
   ],
   "source": [
    "mean_target(\"Sex\")"
   ]
  },
  {
   "cell_type": "code",
   "execution_count": 27,
   "id": "313ba4e6",
   "metadata": {
    "execution": {
     "iopub.execute_input": "2022-05-01T23:58:53.340457Z",
     "iopub.status.busy": "2022-05-01T23:58:53.339758Z",
     "iopub.status.idle": "2022-05-01T23:58:53.406202Z",
     "shell.execute_reply": "2022-05-01T23:58:53.405215Z"
    },
    "id": "qHVVLFf1BkMJ",
    "outputId": "b20e5103-681b-4823-edf9-c8d871f40df4",
    "papermill": {
     "duration": 0.172026,
     "end_time": "2022-05-01T23:58:53.408888",
     "exception": false,
     "start_time": "2022-05-01T23:58:53.236862",
     "status": "completed"
    },
    "tags": []
   },
   "outputs": [
    {
     "data": {
      "text/html": [
       "<div>\n",
       "<style scoped>\n",
       "    .dataframe tbody tr th:only-of-type {\n",
       "        vertical-align: middle;\n",
       "    }\n",
       "\n",
       "    .dataframe tbody tr th {\n",
       "        vertical-align: top;\n",
       "    }\n",
       "\n",
       "    .dataframe thead th {\n",
       "        text-align: right;\n",
       "    }\n",
       "</style>\n",
       "<table border=\"1\" class=\"dataframe\">\n",
       "  <thead>\n",
       "    <tr style=\"text-align: right;\">\n",
       "      <th>Sex</th>\n",
       "      <th>0.0</th>\n",
       "      <th>1.0</th>\n",
       "    </tr>\n",
       "    <tr>\n",
       "      <th>Diabetes_012_str</th>\n",
       "      <th></th>\n",
       "      <th></th>\n",
       "    </tr>\n",
       "  </thead>\n",
       "  <tbody>\n",
       "    <tr>\n",
       "      <th>Diabetic</th>\n",
       "      <td>18411</td>\n",
       "      <td>16935</td>\n",
       "    </tr>\n",
       "    <tr>\n",
       "      <th>Healthy</th>\n",
       "      <td>120959</td>\n",
       "      <td>92744</td>\n",
       "    </tr>\n",
       "    <tr>\n",
       "      <th>Pre-diabetic</th>\n",
       "      <td>2604</td>\n",
       "      <td>2027</td>\n",
       "    </tr>\n",
       "  </tbody>\n",
       "</table>\n",
       "</div>"
      ],
      "text/plain": [
       "Sex                  0.0    1.0\n",
       "Diabetes_012_str               \n",
       "Diabetic           18411  16935\n",
       "Healthy           120959  92744\n",
       "Pre-diabetic        2604   2027"
      ]
     },
     "execution_count": 27,
     "metadata": {},
     "output_type": "execute_result"
    }
   ],
   "source": [
    "pd.crosstab(df[\"Diabetes_012_str\"], df[\"Sex\"])"
   ]
  },
  {
   "cell_type": "markdown",
   "id": "3a460bac",
   "metadata": {
    "id": "DJq_halbBtbz",
    "papermill": {
     "duration": 0.100017,
     "end_time": "2022-05-01T23:58:53.610440",
     "exception": false,
     "start_time": "2022-05-01T23:58:53.510423",
     "status": "completed"
    },
    "tags": []
   },
   "source": [
    "> We can see that women are not just more diabetic than men, but they are also healthier."
   ]
  },
  {
   "cell_type": "markdown",
   "id": "c8c36b1b",
   "metadata": {
    "id": "O6SzUJXPC-mn",
    "papermill": {
     "duration": 0.10245,
     "end_time": "2022-05-01T23:58:53.813644",
     "exception": false,
     "start_time": "2022-05-01T23:58:53.711194",
     "status": "completed"
    },
    "tags": []
   },
   "source": [
    "### Relationship Between HighBP and Diabetes"
   ]
  },
  {
   "cell_type": "code",
   "execution_count": 28,
   "id": "a4ba8c46",
   "metadata": {
    "execution": {
     "iopub.execute_input": "2022-05-01T23:58:54.033061Z",
     "iopub.status.busy": "2022-05-01T23:58:54.032682Z",
     "iopub.status.idle": "2022-05-01T23:58:54.322929Z",
     "shell.execute_reply": "2022-05-01T23:58:54.321771Z"
    },
    "id": "Pbo_W5FvDD7J",
    "outputId": "4c2c04bd-0dd2-42ce-9a85-86ac7163a8a1",
    "papermill": {
     "duration": 0.394506,
     "end_time": "2022-05-01T23:58:54.325217",
     "exception": false,
     "start_time": "2022-05-01T23:58:53.930711",
     "status": "completed"
    },
    "tags": []
   },
   "outputs": [
    {
     "data": {
      "image/png": "[encoded data removed]",
      "text/plain": [
       "<Figure size 1080x432 with 1 Axes>"
      ]
     },
     "metadata": {
      "needs_background": "light"
     },
     "output_type": "display_data"
    }
   ],
   "source": [
    "pd.crosstab(df.HighBP,df.Diabetes_012_str).plot(kind=\"bar\",figsize=(15,6),color=['#1CA53B','#AA1111', '#FFA500' ])\n",
    "plt.title('Diabetes Disease Frequency for HighBP')\n",
    "plt.xlabel('HighBP')\n",
    "plt.xticks(rotation=0)\n",
    "plt.legend([\"Have Diabetic\", \"Healthy\", \"Have Pre-Diabetic\"])\n",
    "plt.ylabel('Frequency')\n",
    "plt.show()"
   ]
  },
  {
   "cell_type": "code",
   "execution_count": 29,
   "id": "b05ebd92",
   "metadata": {
    "execution": {
     "iopub.execute_input": "2022-05-01T23:58:54.533650Z",
     "iopub.status.busy": "2022-05-01T23:58:54.532614Z",
     "iopub.status.idle": "2022-05-01T23:58:54.607666Z",
     "shell.execute_reply": "2022-05-01T23:58:54.606903Z"
    },
    "id": "77EJXsiigCOt",
    "outputId": "a740832d-3e96-479c-acf5-bb0669443a59",
    "papermill": {
     "duration": 0.181948,
     "end_time": "2022-05-01T23:58:54.609859",
     "exception": false,
     "start_time": "2022-05-01T23:58:54.427911",
     "status": "completed"
    },
    "tags": []
   },
   "outputs": [
    {
     "data": {
      "text/html": [
       "<div>\n",
       "<style scoped>\n",
       "    .dataframe tbody tr th:only-of-type {\n",
       "        vertical-align: middle;\n",
       "    }\n",
       "\n",
       "    .dataframe tbody tr th {\n",
       "        vertical-align: top;\n",
       "    }\n",
       "\n",
       "    .dataframe thead th {\n",
       "        text-align: right;\n",
       "    }\n",
       "</style>\n",
       "<table border=\"1\" class=\"dataframe\">\n",
       "  <thead>\n",
       "    <tr style=\"text-align: right;\">\n",
       "      <th></th>\n",
       "      <th>HighBP</th>\n",
       "    </tr>\n",
       "    <tr>\n",
       "      <th>Diabetes_012_str</th>\n",
       "      <th></th>\n",
       "    </tr>\n",
       "  </thead>\n",
       "  <tbody>\n",
       "    <tr>\n",
       "      <th>Diabetic</th>\n",
       "      <td>35346</td>\n",
       "    </tr>\n",
       "    <tr>\n",
       "      <th>Healthy</th>\n",
       "      <td>213703</td>\n",
       "    </tr>\n",
       "    <tr>\n",
       "      <th>Pre-diabetic</th>\n",
       "      <td>4631</td>\n",
       "    </tr>\n",
       "  </tbody>\n",
       "</table>\n",
       "</div>"
      ],
      "text/plain": [
       "                  HighBP\n",
       "Diabetes_012_str        \n",
       "Diabetic           35346\n",
       "Healthy           213703\n",
       "Pre-diabetic        4631"
      ]
     },
     "execution_count": 29,
     "metadata": {},
     "output_type": "execute_result"
    }
   ],
   "source": [
    "mean_target(\"HighBP\")"
   ]
  },
  {
   "cell_type": "code",
   "execution_count": 30,
   "id": "541f97bd",
   "metadata": {
    "execution": {
     "iopub.execute_input": "2022-05-01T23:58:54.817152Z",
     "iopub.status.busy": "2022-05-01T23:58:54.816295Z",
     "iopub.status.idle": "2022-05-01T23:58:54.888365Z",
     "shell.execute_reply": "2022-05-01T23:58:54.887306Z"
    },
    "id": "LoZrV1BCf9IC",
    "outputId": "ddea867f-39f7-41f9-8137-8edd22dd801a",
    "papermill": {
     "duration": 0.179679,
     "end_time": "2022-05-01T23:58:54.891192",
     "exception": false,
     "start_time": "2022-05-01T23:58:54.711513",
     "status": "completed"
    },
    "tags": []
   },
   "outputs": [
    {
     "data": {
      "text/html": [
       "<div>\n",
       "<style scoped>\n",
       "    .dataframe tbody tr th:only-of-type {\n",
       "        vertical-align: middle;\n",
       "    }\n",
       "\n",
       "    .dataframe tbody tr th {\n",
       "        vertical-align: top;\n",
       "    }\n",
       "\n",
       "    .dataframe thead th {\n",
       "        text-align: right;\n",
       "    }\n",
       "</style>\n",
       "<table border=\"1\" class=\"dataframe\">\n",
       "  <thead>\n",
       "    <tr style=\"text-align: right;\">\n",
       "      <th>HighBP</th>\n",
       "      <th>0.0</th>\n",
       "      <th>1.0</th>\n",
       "    </tr>\n",
       "    <tr>\n",
       "      <th>Diabetes_012_str</th>\n",
       "      <th></th>\n",
       "      <th></th>\n",
       "    </tr>\n",
       "  </thead>\n",
       "  <tbody>\n",
       "    <tr>\n",
       "      <th>Diabetic</th>\n",
       "      <td>8742</td>\n",
       "      <td>26604</td>\n",
       "    </tr>\n",
       "    <tr>\n",
       "      <th>Healthy</th>\n",
       "      <td>134391</td>\n",
       "      <td>79312</td>\n",
       "    </tr>\n",
       "    <tr>\n",
       "      <th>Pre-diabetic</th>\n",
       "      <td>1718</td>\n",
       "      <td>2913</td>\n",
       "    </tr>\n",
       "  </tbody>\n",
       "</table>\n",
       "</div>"
      ],
      "text/plain": [
       "HighBP               0.0    1.0\n",
       "Diabetes_012_str               \n",
       "Diabetic            8742  26604\n",
       "Healthy           134391  79312\n",
       "Pre-diabetic        1718   2913"
      ]
     },
     "execution_count": 30,
     "metadata": {},
     "output_type": "execute_result"
    }
   ],
   "source": [
    "pd.crosstab(df[\"Diabetes_012_str\"], df[\"HighBP\"])"
   ]
  },
  {
   "cell_type": "markdown",
   "id": "2ca60dda",
   "metadata": {
    "id": "SsRQUGmvDjOc",
    "papermill": {
     "duration": 0.104118,
     "end_time": "2022-05-01T23:58:55.097848",
     "exception": false,
     "start_time": "2022-05-01T23:58:54.993730",
     "status": "completed"
    },
    "tags": []
   },
   "source": [
    "> People with high blood pressure are more likely to have diabetes."
   ]
  },
  {
   "cell_type": "markdown",
   "id": "56abd886",
   "metadata": {
    "id": "1i5_REpXECNt",
    "papermill": {
     "duration": 0.104299,
     "end_time": "2022-05-01T23:58:55.306848",
     "exception": false,
     "start_time": "2022-05-01T23:58:55.202549",
     "status": "completed"
    },
    "tags": []
   },
   "source": [
    "### Relationship Between HighChol and Diabetes"
   ]
  },
  {
   "cell_type": "code",
   "execution_count": 31,
   "id": "ada3845e",
   "metadata": {
    "execution": {
     "iopub.execute_input": "2022-05-01T23:58:55.516587Z",
     "iopub.status.busy": "2022-05-01T23:58:55.515604Z",
     "iopub.status.idle": "2022-05-01T23:58:55.801104Z",
     "shell.execute_reply": "2022-05-01T23:58:55.799950Z"
    },
    "id": "i9Y7e0tqEAvM",
    "outputId": "8c91b4e3-c84a-49f4-fbab-8a065e9ef225",
    "papermill": {
     "duration": 0.393826,
     "end_time": "2022-05-01T23:58:55.803577",
     "exception": false,
     "start_time": "2022-05-01T23:58:55.409751",
     "status": "completed"
    },
    "tags": []
   },
   "outputs": [
    {
     "data": {
      "image/png": "[encoded data removed]",
      "text/plain": [
       "<Figure size 1080x432 with 1 Axes>"
      ]
     },
     "metadata": {
      "needs_background": "light"
     },
     "output_type": "display_data"
    }
   ],
   "source": [
    "pd.crosstab(df.HighChol,df.Diabetes_012_str).plot(kind=\"bar\",figsize=(15,6),color=['#1CA53B','#AA1111', '#FFA500' ])\n",
    "plt.title('Diabetes Disease Frequency for HighChol')\n",
    "plt.xlabel('HighChol')\n",
    "plt.xticks(rotation=0)\n",
    "plt.legend([\"Have Diabetic\", \"Healthy\", \"Have Pre-Diabetic\"])\n",
    "plt.ylabel('Frequency')\n",
    "plt.show()"
   ]
  },
  {
   "cell_type": "code",
   "execution_count": 32,
   "id": "df098dfc",
   "metadata": {
    "execution": {
     "iopub.execute_input": "2022-05-01T23:58:56.012773Z",
     "iopub.status.busy": "2022-05-01T23:58:56.012443Z",
     "iopub.status.idle": "2022-05-01T23:58:56.087884Z",
     "shell.execute_reply": "2022-05-01T23:58:56.086837Z"
    },
    "id": "N9JdJiKPEOuc",
    "outputId": "89adf28d-8e0b-41fc-9295-76f79f36114d",
    "papermill": {
     "duration": 0.184259,
     "end_time": "2022-05-01T23:58:56.090423",
     "exception": false,
     "start_time": "2022-05-01T23:58:55.906164",
     "status": "completed"
    },
    "tags": []
   },
   "outputs": [
    {
     "data": {
      "text/html": [
       "<div>\n",
       "<style scoped>\n",
       "    .dataframe tbody tr th:only-of-type {\n",
       "        vertical-align: middle;\n",
       "    }\n",
       "\n",
       "    .dataframe tbody tr th {\n",
       "        vertical-align: top;\n",
       "    }\n",
       "\n",
       "    .dataframe thead th {\n",
       "        text-align: right;\n",
       "    }\n",
       "</style>\n",
       "<table border=\"1\" class=\"dataframe\">\n",
       "  <thead>\n",
       "    <tr style=\"text-align: right;\">\n",
       "      <th></th>\n",
       "      <th>HighChol</th>\n",
       "    </tr>\n",
       "    <tr>\n",
       "      <th>Diabetes_012_str</th>\n",
       "      <th></th>\n",
       "    </tr>\n",
       "  </thead>\n",
       "  <tbody>\n",
       "    <tr>\n",
       "      <th>Diabetic</th>\n",
       "      <td>35346</td>\n",
       "    </tr>\n",
       "    <tr>\n",
       "      <th>Healthy</th>\n",
       "      <td>213703</td>\n",
       "    </tr>\n",
       "    <tr>\n",
       "      <th>Pre-diabetic</th>\n",
       "      <td>4631</td>\n",
       "    </tr>\n",
       "  </tbody>\n",
       "</table>\n",
       "</div>"
      ],
      "text/plain": [
       "                  HighChol\n",
       "Diabetes_012_str          \n",
       "Diabetic             35346\n",
       "Healthy             213703\n",
       "Pre-diabetic          4631"
      ]
     },
     "execution_count": 32,
     "metadata": {},
     "output_type": "execute_result"
    }
   ],
   "source": [
    "mean_target(\"HighChol\")"
   ]
  },
  {
   "cell_type": "code",
   "execution_count": 33,
   "id": "afb98cc0",
   "metadata": {
    "execution": {
     "iopub.execute_input": "2022-05-01T23:58:56.298878Z",
     "iopub.status.busy": "2022-05-01T23:58:56.298134Z",
     "iopub.status.idle": "2022-05-01T23:58:56.364233Z",
     "shell.execute_reply": "2022-05-01T23:58:56.363339Z"
    },
    "id": "cbJCeS7kEA1v",
    "outputId": "b3cddd7b-f53a-4098-834f-f0e02a0b92a0",
    "papermill": {
     "duration": 0.173121,
     "end_time": "2022-05-01T23:58:56.366522",
     "exception": false,
     "start_time": "2022-05-01T23:58:56.193401",
     "status": "completed"
    },
    "tags": []
   },
   "outputs": [
    {
     "data": {
      "text/html": [
       "<div>\n",
       "<style scoped>\n",
       "    .dataframe tbody tr th:only-of-type {\n",
       "        vertical-align: middle;\n",
       "    }\n",
       "\n",
       "    .dataframe tbody tr th {\n",
       "        vertical-align: top;\n",
       "    }\n",
       "\n",
       "    .dataframe thead th {\n",
       "        text-align: right;\n",
       "    }\n",
       "</style>\n",
       "<table border=\"1\" class=\"dataframe\">\n",
       "  <thead>\n",
       "    <tr style=\"text-align: right;\">\n",
       "      <th>HighChol</th>\n",
       "      <th>0.0</th>\n",
       "      <th>1.0</th>\n",
       "    </tr>\n",
       "    <tr>\n",
       "      <th>Diabetes_012_str</th>\n",
       "      <th></th>\n",
       "      <th></th>\n",
       "    </tr>\n",
       "  </thead>\n",
       "  <tbody>\n",
       "    <tr>\n",
       "      <th>Diabetic</th>\n",
       "      <td>11660</td>\n",
       "      <td>23686</td>\n",
       "    </tr>\n",
       "    <tr>\n",
       "      <th>Healthy</th>\n",
       "      <td>132673</td>\n",
       "      <td>81030</td>\n",
       "    </tr>\n",
       "    <tr>\n",
       "      <th>Pre-diabetic</th>\n",
       "      <td>1756</td>\n",
       "      <td>2875</td>\n",
       "    </tr>\n",
       "  </tbody>\n",
       "</table>\n",
       "</div>"
      ],
      "text/plain": [
       "HighChol             0.0    1.0\n",
       "Diabetes_012_str               \n",
       "Diabetic           11660  23686\n",
       "Healthy           132673  81030\n",
       "Pre-diabetic        1756   2875"
      ]
     },
     "execution_count": 33,
     "metadata": {},
     "output_type": "execute_result"
    }
   ],
   "source": [
    "pd.crosstab(df[\"Diabetes_012_str\"], df[\"HighChol\"])"
   ]
  },
  {
   "cell_type": "markdown",
   "id": "8b2045f4",
   "metadata": {
    "id": "AmV-cQeuEZ6O",
    "papermill": {
     "duration": 0.106987,
     "end_time": "2022-05-01T23:58:56.576784",
     "exception": false,
     "start_time": "2022-05-01T23:58:56.469797",
     "status": "completed"
    },
    "tags": []
   },
   "source": [
    "> People with high high cholesterol are more likely to have diabetes."
   ]
  },
  {
   "cell_type": "markdown",
   "id": "cb849b15",
   "metadata": {
    "id": "I8_j-cgjEofd",
    "papermill": {
     "duration": 0.104109,
     "end_time": "2022-05-01T23:58:56.787028",
     "exception": false,
     "start_time": "2022-05-01T23:58:56.682919",
     "status": "completed"
    },
    "tags": []
   },
   "source": [
    "### Relationship Between BMI and Diabetes\n",
    "\n"
   ]
  },
  {
   "cell_type": "code",
   "execution_count": 34,
   "id": "ab48e0e7",
   "metadata": {
    "execution": {
     "iopub.execute_input": "2022-05-01T23:58:56.999234Z",
     "iopub.status.busy": "2022-05-01T23:58:56.998904Z",
     "iopub.status.idle": "2022-05-01T23:58:58.526661Z",
     "shell.execute_reply": "2022-05-01T23:58:58.525634Z"
    },
    "id": "7teazVJ-EA7f",
    "outputId": "cf2367c8-dd36-48e2-bb42-98d03840eb87",
    "papermill": {
     "duration": 1.636566,
     "end_time": "2022-05-01T23:58:58.529084",
     "exception": false,
     "start_time": "2022-05-01T23:58:56.892518",
     "status": "completed"
    },
    "tags": []
   },
   "outputs": [
    {
     "data": {
      "image/png": "[encoded data removed]",
      "text/plain": [
       "<Figure size 2160x864 with 1 Axes>"
      ]
     },
     "metadata": {
      "needs_background": "light"
     },
     "output_type": "display_data"
    }
   ],
   "source": [
    "pd.crosstab(df.BMI,df.Diabetes_012_str).plot(kind=\"bar\",figsize=(30,12),color=['#1CA53B','#AA1111', '#FFA500' ])\n",
    "plt.title('Diabetes Disease Frequency for BMI')\n",
    "plt.xlabel('BMI')\n",
    "plt.xticks(rotation=0)\n",
    "plt.legend([\"Have Diabetic\", \"Healthy\", \"Have Pre-Diabetic\"])\n",
    "plt.ylabel('Frequency')\n",
    "plt.show()"
   ]
  },
  {
   "cell_type": "code",
   "execution_count": 35,
   "id": "7cc9f24e",
   "metadata": {
    "execution": {
     "iopub.execute_input": "2022-05-01T23:58:58.743452Z",
     "iopub.status.busy": "2022-05-01T23:58:58.743070Z",
     "iopub.status.idle": "2022-05-01T23:58:58.842769Z",
     "shell.execute_reply": "2022-05-01T23:58:58.842017Z"
    },
    "id": "ZzdE1SxLEBHs",
    "outputId": "70c1f5ed-2b57-4f8b-e4cd-3fa43cd5e2cb",
    "papermill": {
     "duration": 0.209945,
     "end_time": "2022-05-01T23:58:58.844800",
     "exception": false,
     "start_time": "2022-05-01T23:58:58.634855",
     "status": "completed"
    },
    "tags": []
   },
   "outputs": [
    {
     "data": {
      "text/html": [
       "<div>\n",
       "<style scoped>\n",
       "    .dataframe tbody tr th:only-of-type {\n",
       "        vertical-align: middle;\n",
       "    }\n",
       "\n",
       "    .dataframe tbody tr th {\n",
       "        vertical-align: top;\n",
       "    }\n",
       "\n",
       "    .dataframe thead th {\n",
       "        text-align: right;\n",
       "    }\n",
       "</style>\n",
       "<table border=\"1\" class=\"dataframe\">\n",
       "  <thead>\n",
       "    <tr style=\"text-align: right;\">\n",
       "      <th>BMI</th>\n",
       "      <th>12.0</th>\n",
       "      <th>13.0</th>\n",
       "      <th>14.0</th>\n",
       "      <th>15.0</th>\n",
       "      <th>16.0</th>\n",
       "      <th>17.0</th>\n",
       "      <th>18.0</th>\n",
       "      <th>19.0</th>\n",
       "      <th>20.0</th>\n",
       "      <th>21.0</th>\n",
       "      <th>...</th>\n",
       "      <th>86.0</th>\n",
       "      <th>87.0</th>\n",
       "      <th>88.0</th>\n",
       "      <th>89.0</th>\n",
       "      <th>90.0</th>\n",
       "      <th>91.0</th>\n",
       "      <th>92.0</th>\n",
       "      <th>95.0</th>\n",
       "      <th>96.0</th>\n",
       "      <th>98.0</th>\n",
       "    </tr>\n",
       "    <tr>\n",
       "      <th>Diabetes_012_str</th>\n",
       "      <th></th>\n",
       "      <th></th>\n",
       "      <th></th>\n",
       "      <th></th>\n",
       "      <th></th>\n",
       "      <th></th>\n",
       "      <th></th>\n",
       "      <th></th>\n",
       "      <th></th>\n",
       "      <th></th>\n",
       "      <th></th>\n",
       "      <th></th>\n",
       "      <th></th>\n",
       "      <th></th>\n",
       "      <th></th>\n",
       "      <th></th>\n",
       "      <th></th>\n",
       "      <th></th>\n",
       "      <th></th>\n",
       "      <th></th>\n",
       "      <th></th>\n",
       "    </tr>\n",
       "  </thead>\n",
       "  <tbody>\n",
       "    <tr>\n",
       "      <th>Diabetic</th>\n",
       "      <td>0</td>\n",
       "      <td>2</td>\n",
       "      <td>4</td>\n",
       "      <td>12</td>\n",
       "      <td>20</td>\n",
       "      <td>48</td>\n",
       "      <td>83</td>\n",
       "      <td>135</td>\n",
       "      <td>241</td>\n",
       "      <td>479</td>\n",
       "      <td>...</td>\n",
       "      <td>0</td>\n",
       "      <td>9</td>\n",
       "      <td>0</td>\n",
       "      <td>3</td>\n",
       "      <td>0</td>\n",
       "      <td>0</td>\n",
       "      <td>5</td>\n",
       "      <td>1</td>\n",
       "      <td>0</td>\n",
       "      <td>3</td>\n",
       "    </tr>\n",
       "    <tr>\n",
       "      <th>Healthy</th>\n",
       "      <td>6</td>\n",
       "      <td>18</td>\n",
       "      <td>36</td>\n",
       "      <td>120</td>\n",
       "      <td>326</td>\n",
       "      <td>719</td>\n",
       "      <td>1705</td>\n",
       "      <td>3795</td>\n",
       "      <td>6039</td>\n",
       "      <td>9301</td>\n",
       "      <td>...</td>\n",
       "      <td>1</td>\n",
       "      <td>52</td>\n",
       "      <td>2</td>\n",
       "      <td>25</td>\n",
       "      <td>1</td>\n",
       "      <td>1</td>\n",
       "      <td>27</td>\n",
       "      <td>11</td>\n",
       "      <td>0</td>\n",
       "      <td>4</td>\n",
       "    </tr>\n",
       "    <tr>\n",
       "      <th>Pre-diabetic</th>\n",
       "      <td>0</td>\n",
       "      <td>1</td>\n",
       "      <td>1</td>\n",
       "      <td>0</td>\n",
       "      <td>2</td>\n",
       "      <td>9</td>\n",
       "      <td>15</td>\n",
       "      <td>38</td>\n",
       "      <td>47</td>\n",
       "      <td>75</td>\n",
       "      <td>...</td>\n",
       "      <td>0</td>\n",
       "      <td>0</td>\n",
       "      <td>0</td>\n",
       "      <td>0</td>\n",
       "      <td>0</td>\n",
       "      <td>0</td>\n",
       "      <td>0</td>\n",
       "      <td>0</td>\n",
       "      <td>1</td>\n",
       "      <td>0</td>\n",
       "    </tr>\n",
       "  </tbody>\n",
       "</table>\n",
       "<p>3 rows × 84 columns</p>\n",
       "</div>"
      ],
      "text/plain": [
       "BMI               12.0  13.0  14.0  15.0  16.0  17.0  18.0  19.0  20.0  21.0  \\\n",
       "Diabetes_012_str                                                               \n",
       "Diabetic             0     2     4    12    20    48    83   135   241   479   \n",
       "Healthy              6    18    36   120   326   719  1705  3795  6039  9301   \n",
       "Pre-diabetic         0     1     1     0     2     9    15    38    47    75   \n",
       "\n",
       "BMI               ...  86.0  87.0  88.0  89.0  90.0  91.0  92.0  95.0  96.0  \\\n",
       "Diabetes_012_str  ...                                                         \n",
       "Diabetic          ...     0     9     0     3     0     0     5     1     0   \n",
       "Healthy           ...     1    52     2    25     1     1    27    11     0   \n",
       "Pre-diabetic      ...     0     0     0     0     0     0     0     0     1   \n",
       "\n",
       "BMI               98.0  \n",
       "Diabetes_012_str        \n",
       "Diabetic             3  \n",
       "Healthy              4  \n",
       "Pre-diabetic         0  \n",
       "\n",
       "[3 rows x 84 columns]"
      ]
     },
     "execution_count": 35,
     "metadata": {},
     "output_type": "execute_result"
    }
   ],
   "source": [
    "pd.crosstab(df[\"Diabetes_012_str\"], df[\"BMI\"])"
   ]
  },
  {
   "cell_type": "code",
   "execution_count": 36,
   "id": "ed56de2e",
   "metadata": {
    "execution": {
     "iopub.execute_input": "2022-05-01T23:58:59.079120Z",
     "iopub.status.busy": "2022-05-01T23:58:59.078678Z",
     "iopub.status.idle": "2022-05-01T23:58:59.156229Z",
     "shell.execute_reply": "2022-05-01T23:58:59.155528Z"
    },
    "id": "1_kBVBFTEBBS",
    "outputId": "104d93ec-ae4d-41cf-a186-94b4be641f02",
    "papermill": {
     "duration": 0.198299,
     "end_time": "2022-05-01T23:58:59.158424",
     "exception": false,
     "start_time": "2022-05-01T23:58:58.960125",
     "status": "completed"
    },
    "tags": []
   },
   "outputs": [
    {
     "data": {
      "text/html": [
       "<div>\n",
       "<style scoped>\n",
       "    .dataframe tbody tr th:only-of-type {\n",
       "        vertical-align: middle;\n",
       "    }\n",
       "\n",
       "    .dataframe tbody tr th {\n",
       "        vertical-align: top;\n",
       "    }\n",
       "\n",
       "    .dataframe thead th {\n",
       "        text-align: right;\n",
       "    }\n",
       "</style>\n",
       "<table border=\"1\" class=\"dataframe\">\n",
       "  <thead>\n",
       "    <tr style=\"text-align: right;\">\n",
       "      <th></th>\n",
       "      <th>BMI</th>\n",
       "    </tr>\n",
       "    <tr>\n",
       "      <th>Diabetes_012_str</th>\n",
       "      <th></th>\n",
       "    </tr>\n",
       "  </thead>\n",
       "  <tbody>\n",
       "    <tr>\n",
       "      <th>Diabetic</th>\n",
       "      <td>35346</td>\n",
       "    </tr>\n",
       "    <tr>\n",
       "      <th>Healthy</th>\n",
       "      <td>213703</td>\n",
       "    </tr>\n",
       "    <tr>\n",
       "      <th>Pre-diabetic</th>\n",
       "      <td>4631</td>\n",
       "    </tr>\n",
       "  </tbody>\n",
       "</table>\n",
       "</div>"
      ],
      "text/plain": [
       "                     BMI\n",
       "Diabetes_012_str        \n",
       "Diabetic           35346\n",
       "Healthy           213703\n",
       "Pre-diabetic        4631"
      ]
     },
     "execution_count": 36,
     "metadata": {},
     "output_type": "execute_result"
    }
   ],
   "source": [
    "mean_target(\"BMI\")"
   ]
  },
  {
   "cell_type": "markdown",
   "id": "0c9e59b7",
   "metadata": {
    "id": "rU5ah2BJJatl",
    "papermill": {
     "duration": 0.106574,
     "end_time": "2022-05-01T23:58:59.372538",
     "exception": false,
     "start_time": "2022-05-01T23:58:59.265964",
     "status": "completed"
    },
    "tags": []
   },
   "source": [
    "> As we can see people range between 24-33 BMI have more likely to have Diabetic."
   ]
  },
  {
   "cell_type": "markdown",
   "id": "03c643c1",
   "metadata": {
    "id": "vmFxrrhCKXq_",
    "papermill": {
     "duration": 0.107666,
     "end_time": "2022-05-01T23:58:59.586556",
     "exception": false,
     "start_time": "2022-05-01T23:58:59.478890",
     "status": "completed"
    },
    "tags": []
   },
   "source": [
    "### Relationship Between MentlHlth and Diabetes\n",
    "\n"
   ]
  },
  {
   "cell_type": "code",
   "execution_count": 37,
   "id": "f9cca22a",
   "metadata": {
    "execution": {
     "iopub.execute_input": "2022-05-01T23:58:59.801336Z",
     "iopub.status.busy": "2022-05-01T23:58:59.800824Z",
     "iopub.status.idle": "2022-05-01T23:59:00.435220Z",
     "shell.execute_reply": "2022-05-01T23:59:00.434135Z"
    },
    "id": "9Vet1IDRKdb0",
    "outputId": "1e5c2dd5-69f7-48d8-a784-1f81e7defa5d",
    "papermill": {
     "duration": 0.744548,
     "end_time": "2022-05-01T23:59:00.437432",
     "exception": false,
     "start_time": "2022-05-01T23:58:59.692884",
     "status": "completed"
    },
    "tags": []
   },
   "outputs": [
    {
     "data": {
      "image/png": "[encoded data removed]",
      "text/plain": [
       "<Figure size 2160x864 with 1 Axes>"
      ]
     },
     "metadata": {
      "needs_background": "light"
     },
     "output_type": "display_data"
    }
   ],
   "source": [
    "pd.crosstab(df.MentHlth,df.Diabetes_012_str).plot(kind=\"bar\",figsize=(30,12),color=['#1CA53B','#AA1111', '#FFA500' ])\n",
    "plt.title('Diabetes Disease Frequency for MentHlth')\n",
    "plt.xlabel('MentHlth')\n",
    "plt.xticks(rotation=0)\n",
    "plt.legend([\"Have Diabetic\", \"Healthy\", \"Have Pre-Diabetic\"])\n",
    "plt.ylabel('Frequency')\n",
    "plt.show()"
   ]
  },
  {
   "cell_type": "code",
   "execution_count": 38,
   "id": "c7b1b2be",
   "metadata": {
    "execution": {
     "iopub.execute_input": "2022-05-01T23:59:00.655076Z",
     "iopub.status.busy": "2022-05-01T23:59:00.654729Z",
     "iopub.status.idle": "2022-05-01T23:59:00.758129Z",
     "shell.execute_reply": "2022-05-01T23:59:00.757007Z"
    },
    "id": "VLa7TX9oKdnb",
    "outputId": "56fdab9e-6a2b-495c-d8ae-18c006c3ce0b",
    "papermill": {
     "duration": 0.21489,
     "end_time": "2022-05-01T23:59:00.760722",
     "exception": false,
     "start_time": "2022-05-01T23:59:00.545832",
     "status": "completed"
    },
    "tags": []
   },
   "outputs": [
    {
     "data": {
      "text/html": [
       "<div>\n",
       "<style scoped>\n",
       "    .dataframe tbody tr th:only-of-type {\n",
       "        vertical-align: middle;\n",
       "    }\n",
       "\n",
       "    .dataframe tbody tr th {\n",
       "        vertical-align: top;\n",
       "    }\n",
       "\n",
       "    .dataframe thead th {\n",
       "        text-align: right;\n",
       "    }\n",
       "</style>\n",
       "<table border=\"1\" class=\"dataframe\">\n",
       "  <thead>\n",
       "    <tr style=\"text-align: right;\">\n",
       "      <th>BMI</th>\n",
       "      <th>12.0</th>\n",
       "      <th>13.0</th>\n",
       "      <th>14.0</th>\n",
       "      <th>15.0</th>\n",
       "      <th>16.0</th>\n",
       "      <th>17.0</th>\n",
       "      <th>18.0</th>\n",
       "      <th>19.0</th>\n",
       "      <th>20.0</th>\n",
       "      <th>21.0</th>\n",
       "      <th>...</th>\n",
       "      <th>86.0</th>\n",
       "      <th>87.0</th>\n",
       "      <th>88.0</th>\n",
       "      <th>89.0</th>\n",
       "      <th>90.0</th>\n",
       "      <th>91.0</th>\n",
       "      <th>92.0</th>\n",
       "      <th>95.0</th>\n",
       "      <th>96.0</th>\n",
       "      <th>98.0</th>\n",
       "    </tr>\n",
       "    <tr>\n",
       "      <th>Diabetes_012_str</th>\n",
       "      <th></th>\n",
       "      <th></th>\n",
       "      <th></th>\n",
       "      <th></th>\n",
       "      <th></th>\n",
       "      <th></th>\n",
       "      <th></th>\n",
       "      <th></th>\n",
       "      <th></th>\n",
       "      <th></th>\n",
       "      <th></th>\n",
       "      <th></th>\n",
       "      <th></th>\n",
       "      <th></th>\n",
       "      <th></th>\n",
       "      <th></th>\n",
       "      <th></th>\n",
       "      <th></th>\n",
       "      <th></th>\n",
       "      <th></th>\n",
       "      <th></th>\n",
       "    </tr>\n",
       "  </thead>\n",
       "  <tbody>\n",
       "    <tr>\n",
       "      <th>Diabetic</th>\n",
       "      <td>0</td>\n",
       "      <td>2</td>\n",
       "      <td>4</td>\n",
       "      <td>12</td>\n",
       "      <td>20</td>\n",
       "      <td>48</td>\n",
       "      <td>83</td>\n",
       "      <td>135</td>\n",
       "      <td>241</td>\n",
       "      <td>479</td>\n",
       "      <td>...</td>\n",
       "      <td>0</td>\n",
       "      <td>9</td>\n",
       "      <td>0</td>\n",
       "      <td>3</td>\n",
       "      <td>0</td>\n",
       "      <td>0</td>\n",
       "      <td>5</td>\n",
       "      <td>1</td>\n",
       "      <td>0</td>\n",
       "      <td>3</td>\n",
       "    </tr>\n",
       "    <tr>\n",
       "      <th>Healthy</th>\n",
       "      <td>6</td>\n",
       "      <td>18</td>\n",
       "      <td>36</td>\n",
       "      <td>120</td>\n",
       "      <td>326</td>\n",
       "      <td>719</td>\n",
       "      <td>1705</td>\n",
       "      <td>3795</td>\n",
       "      <td>6039</td>\n",
       "      <td>9301</td>\n",
       "      <td>...</td>\n",
       "      <td>1</td>\n",
       "      <td>52</td>\n",
       "      <td>2</td>\n",
       "      <td>25</td>\n",
       "      <td>1</td>\n",
       "      <td>1</td>\n",
       "      <td>27</td>\n",
       "      <td>11</td>\n",
       "      <td>0</td>\n",
       "      <td>4</td>\n",
       "    </tr>\n",
       "    <tr>\n",
       "      <th>Pre-diabetic</th>\n",
       "      <td>0</td>\n",
       "      <td>1</td>\n",
       "      <td>1</td>\n",
       "      <td>0</td>\n",
       "      <td>2</td>\n",
       "      <td>9</td>\n",
       "      <td>15</td>\n",
       "      <td>38</td>\n",
       "      <td>47</td>\n",
       "      <td>75</td>\n",
       "      <td>...</td>\n",
       "      <td>0</td>\n",
       "      <td>0</td>\n",
       "      <td>0</td>\n",
       "      <td>0</td>\n",
       "      <td>0</td>\n",
       "      <td>0</td>\n",
       "      <td>0</td>\n",
       "      <td>0</td>\n",
       "      <td>1</td>\n",
       "      <td>0</td>\n",
       "    </tr>\n",
       "  </tbody>\n",
       "</table>\n",
       "<p>3 rows × 84 columns</p>\n",
       "</div>"
      ],
      "text/plain": [
       "BMI               12.0  13.0  14.0  15.0  16.0  17.0  18.0  19.0  20.0  21.0  \\\n",
       "Diabetes_012_str                                                               \n",
       "Diabetic             0     2     4    12    20    48    83   135   241   479   \n",
       "Healthy              6    18    36   120   326   719  1705  3795  6039  9301   \n",
       "Pre-diabetic         0     1     1     0     2     9    15    38    47    75   \n",
       "\n",
       "BMI               ...  86.0  87.0  88.0  89.0  90.0  91.0  92.0  95.0  96.0  \\\n",
       "Diabetes_012_str  ...                                                         \n",
       "Diabetic          ...     0     9     0     3     0     0     5     1     0   \n",
       "Healthy           ...     1    52     2    25     1     1    27    11     0   \n",
       "Pre-diabetic      ...     0     0     0     0     0     0     0     0     1   \n",
       "\n",
       "BMI               98.0  \n",
       "Diabetes_012_str        \n",
       "Diabetic             3  \n",
       "Healthy              4  \n",
       "Pre-diabetic         0  \n",
       "\n",
       "[3 rows x 84 columns]"
      ]
     },
     "execution_count": 38,
     "metadata": {},
     "output_type": "execute_result"
    }
   ],
   "source": [
    "pd.crosstab(df[\"Diabetes_012_str\"], df[\"BMI\"])"
   ]
  },
  {
   "cell_type": "code",
   "execution_count": 39,
   "id": "4c7bd89d",
   "metadata": {
    "execution": {
     "iopub.execute_input": "2022-05-01T23:59:00.979444Z",
     "iopub.status.busy": "2022-05-01T23:59:00.979092Z",
     "iopub.status.idle": "2022-05-01T23:59:01.054965Z",
     "shell.execute_reply": "2022-05-01T23:59:01.053807Z"
    },
    "id": "zFtYVONSKdtL",
    "outputId": "22ed35d1-5a1e-4026-cd7d-4d963dcf46b3",
    "papermill": {
     "duration": 0.189227,
     "end_time": "2022-05-01T23:59:01.058444",
     "exception": false,
     "start_time": "2022-05-01T23:59:00.869217",
     "status": "completed"
    },
    "tags": []
   },
   "outputs": [
    {
     "data": {
      "text/html": [
       "<div>\n",
       "<style scoped>\n",
       "    .dataframe tbody tr th:only-of-type {\n",
       "        vertical-align: middle;\n",
       "    }\n",
       "\n",
       "    .dataframe tbody tr th {\n",
       "        vertical-align: top;\n",
       "    }\n",
       "\n",
       "    .dataframe thead th {\n",
       "        text-align: right;\n",
       "    }\n",
       "</style>\n",
       "<table border=\"1\" class=\"dataframe\">\n",
       "  <thead>\n",
       "    <tr style=\"text-align: right;\">\n",
       "      <th></th>\n",
       "      <th>MentHlth</th>\n",
       "    </tr>\n",
       "    <tr>\n",
       "      <th>Diabetes_012_str</th>\n",
       "      <th></th>\n",
       "    </tr>\n",
       "  </thead>\n",
       "  <tbody>\n",
       "    <tr>\n",
       "      <th>Diabetic</th>\n",
       "      <td>35346</td>\n",
       "    </tr>\n",
       "    <tr>\n",
       "      <th>Healthy</th>\n",
       "      <td>213703</td>\n",
       "    </tr>\n",
       "    <tr>\n",
       "      <th>Pre-diabetic</th>\n",
       "      <td>4631</td>\n",
       "    </tr>\n",
       "  </tbody>\n",
       "</table>\n",
       "</div>"
      ],
      "text/plain": [
       "                  MentHlth\n",
       "Diabetes_012_str          \n",
       "Diabetic             35346\n",
       "Healthy             213703\n",
       "Pre-diabetic          4631"
      ]
     },
     "execution_count": 39,
     "metadata": {},
     "output_type": "execute_result"
    }
   ],
   "source": [
    "mean_target(\"MentHlth\")"
   ]
  },
  {
   "cell_type": "markdown",
   "id": "20c585e0",
   "metadata": {
    "id": "kwyY-y65K-Pt",
    "papermill": {
     "duration": 0.111694,
     "end_time": "2022-05-01T23:59:01.278596",
     "exception": false,
     "start_time": "2022-05-01T23:59:01.166902",
     "status": "completed"
    },
    "tags": []
   },
   "source": [
    "> From figure we can say that Menthlth Group 0-5 have impact on Diabetic"
   ]
  },
  {
   "cell_type": "markdown",
   "id": "e1d1fab4",
   "metadata": {
    "id": "TWdinLEeLPep",
    "papermill": {
     "duration": 0.109059,
     "end_time": "2022-05-01T23:59:01.498822",
     "exception": false,
     "start_time": "2022-05-01T23:59:01.389763",
     "status": "completed"
    },
    "tags": []
   },
   "source": [
    "### Relationship Between Income and Diabetes\n",
    "\n"
   ]
  },
  {
   "cell_type": "code",
   "execution_count": 40,
   "id": "8fe828a7",
   "metadata": {
    "execution": {
     "iopub.execute_input": "2022-05-01T23:59:01.721002Z",
     "iopub.status.busy": "2022-05-01T23:59:01.720265Z",
     "iopub.status.idle": "2022-05-01T23:59:02.131684Z",
     "shell.execute_reply": "2022-05-01T23:59:02.130503Z"
    },
    "id": "JRVj2oVpK6TS",
    "outputId": "87c7f20d-e0cd-4c65-ccf6-5cd536db21ab",
    "papermill": {
     "duration": 0.525348,
     "end_time": "2022-05-01T23:59:02.134559",
     "exception": false,
     "start_time": "2022-05-01T23:59:01.609211",
     "status": "completed"
    },
    "tags": []
   },
   "outputs": [
    {
     "data": {
      "image/png": "[encoded data removed]",
      "text/plain": [
       "<Figure size 2160x864 with 1 Axes>"
      ]
     },
     "metadata": {
      "needs_background": "light"
     },
     "output_type": "display_data"
    }
   ],
   "source": [
    "pd.crosstab(df.Income,df.Diabetes_012_str).plot(kind=\"bar\",figsize=(30,12),color=['#1CA53B','#AA1111', '#FFA500' ])\n",
    "plt.title('Diabetes Disease Frequency for Income')\n",
    "plt.xlabel('Income')\n",
    "plt.xticks(rotation=0)\n",
    "plt.legend([\"Have Diabetic\", \"Healthy\", \"Have Pre-Diabetic\"])\n",
    "plt.ylabel('Frequency')\n",
    "plt.show()"
   ]
  },
  {
   "cell_type": "code",
   "execution_count": 41,
   "id": "da3d447b",
   "metadata": {
    "execution": {
     "iopub.execute_input": "2022-05-01T23:59:02.358152Z",
     "iopub.status.busy": "2022-05-01T23:59:02.357410Z",
     "iopub.status.idle": "2022-05-01T23:59:02.433933Z",
     "shell.execute_reply": "2022-05-01T23:59:02.432991Z"
    },
    "id": "SFmw6R7yK6k6",
    "outputId": "0d3635ab-5b83-4ce2-d07c-e0277fbe246f",
    "papermill": {
     "duration": 0.192223,
     "end_time": "2022-05-01T23:59:02.436688",
     "exception": false,
     "start_time": "2022-05-01T23:59:02.244465",
     "status": "completed"
    },
    "tags": []
   },
   "outputs": [
    {
     "data": {
      "text/html": [
       "<div>\n",
       "<style scoped>\n",
       "    .dataframe tbody tr th:only-of-type {\n",
       "        vertical-align: middle;\n",
       "    }\n",
       "\n",
       "    .dataframe tbody tr th {\n",
       "        vertical-align: top;\n",
       "    }\n",
       "\n",
       "    .dataframe thead th {\n",
       "        text-align: right;\n",
       "    }\n",
       "</style>\n",
       "<table border=\"1\" class=\"dataframe\">\n",
       "  <thead>\n",
       "    <tr style=\"text-align: right;\">\n",
       "      <th></th>\n",
       "      <th>Income</th>\n",
       "    </tr>\n",
       "    <tr>\n",
       "      <th>Diabetes_012_str</th>\n",
       "      <th></th>\n",
       "    </tr>\n",
       "  </thead>\n",
       "  <tbody>\n",
       "    <tr>\n",
       "      <th>Diabetic</th>\n",
       "      <td>35346</td>\n",
       "    </tr>\n",
       "    <tr>\n",
       "      <th>Healthy</th>\n",
       "      <td>213703</td>\n",
       "    </tr>\n",
       "    <tr>\n",
       "      <th>Pre-diabetic</th>\n",
       "      <td>4631</td>\n",
       "    </tr>\n",
       "  </tbody>\n",
       "</table>\n",
       "</div>"
      ],
      "text/plain": [
       "                  Income\n",
       "Diabetes_012_str        \n",
       "Diabetic           35346\n",
       "Healthy           213703\n",
       "Pre-diabetic        4631"
      ]
     },
     "execution_count": 41,
     "metadata": {},
     "output_type": "execute_result"
    }
   ],
   "source": [
    "mean_target(\"Income\")"
   ]
  },
  {
   "cell_type": "code",
   "execution_count": 42,
   "id": "cfbef415",
   "metadata": {
    "execution": {
     "iopub.execute_input": "2022-05-01T23:59:02.660471Z",
     "iopub.status.busy": "2022-05-01T23:59:02.660069Z",
     "iopub.status.idle": "2022-05-01T23:59:02.739817Z",
     "shell.execute_reply": "2022-05-01T23:59:02.739032Z"
    },
    "id": "pAzjsS8wK6ZX",
    "outputId": "6c053f58-c82d-4f6a-cd39-da91e1236aa5",
    "papermill": {
     "duration": 0.194837,
     "end_time": "2022-05-01T23:59:02.742267",
     "exception": false,
     "start_time": "2022-05-01T23:59:02.547430",
     "status": "completed"
    },
    "tags": []
   },
   "outputs": [
    {
     "data": {
      "text/html": [
       "<div>\n",
       "<style scoped>\n",
       "    .dataframe tbody tr th:only-of-type {\n",
       "        vertical-align: middle;\n",
       "    }\n",
       "\n",
       "    .dataframe tbody tr th {\n",
       "        vertical-align: top;\n",
       "    }\n",
       "\n",
       "    .dataframe thead th {\n",
       "        text-align: right;\n",
       "    }\n",
       "</style>\n",
       "<table border=\"1\" class=\"dataframe\">\n",
       "  <thead>\n",
       "    <tr style=\"text-align: right;\">\n",
       "      <th>Income</th>\n",
       "      <th>1.0</th>\n",
       "      <th>2.0</th>\n",
       "      <th>3.0</th>\n",
       "      <th>4.0</th>\n",
       "      <th>5.0</th>\n",
       "      <th>6.0</th>\n",
       "      <th>7.0</th>\n",
       "      <th>8.0</th>\n",
       "    </tr>\n",
       "    <tr>\n",
       "      <th>Diabetes_012_str</th>\n",
       "      <th></th>\n",
       "      <th></th>\n",
       "      <th></th>\n",
       "      <th></th>\n",
       "      <th></th>\n",
       "      <th></th>\n",
       "      <th></th>\n",
       "      <th></th>\n",
       "    </tr>\n",
       "  </thead>\n",
       "  <tbody>\n",
       "    <tr>\n",
       "      <th>Diabetic</th>\n",
       "      <td>2383</td>\n",
       "      <td>3086</td>\n",
       "      <td>3568</td>\n",
       "      <td>4054</td>\n",
       "      <td>4504</td>\n",
       "      <td>5291</td>\n",
       "      <td>5265</td>\n",
       "      <td>7195</td>\n",
       "    </tr>\n",
       "    <tr>\n",
       "      <th>Healthy</th>\n",
       "      <td>7114</td>\n",
       "      <td>8341</td>\n",
       "      <td>12005</td>\n",
       "      <td>15622</td>\n",
       "      <td>20792</td>\n",
       "      <td>30431</td>\n",
       "      <td>37219</td>\n",
       "      <td>82179</td>\n",
       "    </tr>\n",
       "    <tr>\n",
       "      <th>Pre-diabetic</th>\n",
       "      <td>314</td>\n",
       "      <td>356</td>\n",
       "      <td>421</td>\n",
       "      <td>459</td>\n",
       "      <td>587</td>\n",
       "      <td>748</td>\n",
       "      <td>735</td>\n",
       "      <td>1011</td>\n",
       "    </tr>\n",
       "  </tbody>\n",
       "</table>\n",
       "</div>"
      ],
      "text/plain": [
       "Income             1.0   2.0    3.0    4.0    5.0    6.0    7.0    8.0\n",
       "Diabetes_012_str                                                      \n",
       "Diabetic          2383  3086   3568   4054   4504   5291   5265   7195\n",
       "Healthy           7114  8341  12005  15622  20792  30431  37219  82179\n",
       "Pre-diabetic       314   356    421    459    587    748    735   1011"
      ]
     },
     "execution_count": 42,
     "metadata": {},
     "output_type": "execute_result"
    }
   ],
   "source": [
    "pd.crosstab(df[\"Diabetes_012_str\"], df[\"Income\"])"
   ]
  },
  {
   "cell_type": "markdown",
   "id": "7ef8de0c",
   "metadata": {
    "id": "Qqny-1dfLlYM",
    "papermill": {
     "duration": 0.116916,
     "end_time": "2022-05-01T23:59:02.973115",
     "exception": false,
     "start_time": "2022-05-01T23:59:02.856199",
     "status": "completed"
    },
    "tags": []
   },
   "source": [
    ">  We can deduce from the table that persons with greater income have more Diabetic than those with lower income."
   ]
  },
  {
   "cell_type": "code",
   "execution_count": 43,
   "id": "745b3d9a",
   "metadata": {
    "execution": {
     "iopub.execute_input": "2022-05-01T23:59:03.199387Z",
     "iopub.status.busy": "2022-05-01T23:59:03.198670Z",
     "iopub.status.idle": "2022-05-01T23:59:03.289612Z",
     "shell.execute_reply": "2022-05-01T23:59:03.288701Z"
    },
    "id": "UxOZM0b3kZ6I",
    "outputId": "1f7ea0d7-a51c-4da5-dbb1-3e577846de5f",
    "papermill": {
     "duration": 0.207372,
     "end_time": "2022-05-01T23:59:03.292623",
     "exception": false,
     "start_time": "2022-05-01T23:59:03.085251",
     "status": "completed"
    },
    "tags": []
   },
   "outputs": [
    {
     "data": {
      "text/html": [
       "<div>\n",
       "<style scoped>\n",
       "    .dataframe tbody tr th:only-of-type {\n",
       "        vertical-align: middle;\n",
       "    }\n",
       "\n",
       "    .dataframe tbody tr th {\n",
       "        vertical-align: top;\n",
       "    }\n",
       "\n",
       "    .dataframe thead th {\n",
       "        text-align: right;\n",
       "    }\n",
       "</style>\n",
       "<table border=\"1\" class=\"dataframe\">\n",
       "  <thead>\n",
       "    <tr style=\"text-align: right;\">\n",
       "      <th></th>\n",
       "      <th>Diabetes_012</th>\n",
       "      <th>HighBP</th>\n",
       "      <th>HighChol</th>\n",
       "      <th>CholCheck</th>\n",
       "      <th>BMI</th>\n",
       "      <th>Smoker</th>\n",
       "      <th>Stroke</th>\n",
       "      <th>HeartDiseaseorAttack</th>\n",
       "      <th>PhysActivity</th>\n",
       "      <th>Fruits</th>\n",
       "      <th>...</th>\n",
       "      <th>AnyHealthcare</th>\n",
       "      <th>NoDocbcCost</th>\n",
       "      <th>GenHlth</th>\n",
       "      <th>MentHlth</th>\n",
       "      <th>PhysHlth</th>\n",
       "      <th>DiffWalk</th>\n",
       "      <th>Sex</th>\n",
       "      <th>Age</th>\n",
       "      <th>Education</th>\n",
       "      <th>Income</th>\n",
       "    </tr>\n",
       "    <tr>\n",
       "      <th>Diabetes_012_str</th>\n",
       "      <th></th>\n",
       "      <th></th>\n",
       "      <th></th>\n",
       "      <th></th>\n",
       "      <th></th>\n",
       "      <th></th>\n",
       "      <th></th>\n",
       "      <th></th>\n",
       "      <th></th>\n",
       "      <th></th>\n",
       "      <th></th>\n",
       "      <th></th>\n",
       "      <th></th>\n",
       "      <th></th>\n",
       "      <th></th>\n",
       "      <th></th>\n",
       "      <th></th>\n",
       "      <th></th>\n",
       "      <th></th>\n",
       "      <th></th>\n",
       "      <th></th>\n",
       "    </tr>\n",
       "  </thead>\n",
       "  <tbody>\n",
       "    <tr>\n",
       "      <th>Diabetic</th>\n",
       "      <td>2.0</td>\n",
       "      <td>0.752674</td>\n",
       "      <td>0.670118</td>\n",
       "      <td>0.993182</td>\n",
       "      <td>31.944011</td>\n",
       "      <td>0.518220</td>\n",
       "      <td>0.092457</td>\n",
       "      <td>0.222882</td>\n",
       "      <td>0.630538</td>\n",
       "      <td>0.585441</td>\n",
       "      <td>...</td>\n",
       "      <td>0.959769</td>\n",
       "      <td>0.105868</td>\n",
       "      <td>3.290981</td>\n",
       "      <td>4.461806</td>\n",
       "      <td>7.954479</td>\n",
       "      <td>0.371216</td>\n",
       "      <td>0.479121</td>\n",
       "      <td>9.379053</td>\n",
       "      <td>4.745516</td>\n",
       "      <td>5.210094</td>\n",
       "    </tr>\n",
       "    <tr>\n",
       "      <th>Healthy</th>\n",
       "      <td>0.0</td>\n",
       "      <td>0.371132</td>\n",
       "      <td>0.379171</td>\n",
       "      <td>0.957104</td>\n",
       "      <td>27.742521</td>\n",
       "      <td>0.429680</td>\n",
       "      <td>0.031628</td>\n",
       "      <td>0.071833</td>\n",
       "      <td>0.779077</td>\n",
       "      <td>0.643023</td>\n",
       "      <td>...</td>\n",
       "      <td>0.949739</td>\n",
       "      <td>0.079610</td>\n",
       "      <td>2.372391</td>\n",
       "      <td>2.944404</td>\n",
       "      <td>3.582416</td>\n",
       "      <td>0.132282</td>\n",
       "      <td>0.433985</td>\n",
       "      <td>7.786559</td>\n",
       "      <td>5.106629</td>\n",
       "      <td>6.208663</td>\n",
       "    </tr>\n",
       "    <tr>\n",
       "      <th>Pre-diabetic</th>\n",
       "      <td>1.0</td>\n",
       "      <td>0.629022</td>\n",
       "      <td>0.620816</td>\n",
       "      <td>0.986612</td>\n",
       "      <td>30.724466</td>\n",
       "      <td>0.492766</td>\n",
       "      <td>0.057223</td>\n",
       "      <td>0.143382</td>\n",
       "      <td>0.678471</td>\n",
       "      <td>0.602246</td>\n",
       "      <td>...</td>\n",
       "      <td>0.945152</td>\n",
       "      <td>0.129346</td>\n",
       "      <td>2.975599</td>\n",
       "      <td>4.529907</td>\n",
       "      <td>6.348305</td>\n",
       "      <td>0.277478</td>\n",
       "      <td>0.437702</td>\n",
       "      <td>9.083351</td>\n",
       "      <td>4.784496</td>\n",
       "      <td>5.351112</td>\n",
       "    </tr>\n",
       "  </tbody>\n",
       "</table>\n",
       "<p>3 rows × 22 columns</p>\n",
       "</div>"
      ],
      "text/plain": [
       "                  Diabetes_012    HighBP  HighChol  CholCheck        BMI  \\\n",
       "Diabetes_012_str                                                           \n",
       "Diabetic                   2.0  0.752674  0.670118   0.993182  31.944011   \n",
       "Healthy                    0.0  0.371132  0.379171   0.957104  27.742521   \n",
       "Pre-diabetic               1.0  0.629022  0.620816   0.986612  30.724466   \n",
       "\n",
       "                    Smoker    Stroke  HeartDiseaseorAttack  PhysActivity  \\\n",
       "Diabetes_012_str                                                           \n",
       "Diabetic          0.518220  0.092457              0.222882      0.630538   \n",
       "Healthy           0.429680  0.031628              0.071833      0.779077   \n",
       "Pre-diabetic      0.492766  0.057223              0.143382      0.678471   \n",
       "\n",
       "                    Fruits  ...  AnyHealthcare  NoDocbcCost   GenHlth  \\\n",
       "Diabetes_012_str            ...                                         \n",
       "Diabetic          0.585441  ...       0.959769     0.105868  3.290981   \n",
       "Healthy           0.643023  ...       0.949739     0.079610  2.372391   \n",
       "Pre-diabetic      0.602246  ...       0.945152     0.129346  2.975599   \n",
       "\n",
       "                  MentHlth  PhysHlth  DiffWalk       Sex       Age  Education  \\\n",
       "Diabetes_012_str                                                                \n",
       "Diabetic          4.461806  7.954479  0.371216  0.479121  9.379053   4.745516   \n",
       "Healthy           2.944404  3.582416  0.132282  0.433985  7.786559   5.106629   \n",
       "Pre-diabetic      4.529907  6.348305  0.277478  0.437702  9.083351   4.784496   \n",
       "\n",
       "                    Income  \n",
       "Diabetes_012_str            \n",
       "Diabetic          5.210094  \n",
       "Healthy           6.208663  \n",
       "Pre-diabetic      5.351112  \n",
       "\n",
       "[3 rows x 22 columns]"
      ]
     },
     "execution_count": 43,
     "metadata": {},
     "output_type": "execute_result"
    }
   ],
   "source": [
    "df.groupby('Diabetes_012_str').mean()"
   ]
  },
  {
   "cell_type": "markdown",
   "id": "10687369",
   "metadata": {
    "id": "O6QL7wpSAyh6",
    "papermill": {
     "duration": 0.11156,
     "end_time": "2022-05-01T23:59:03.516690",
     "exception": false,
     "start_time": "2022-05-01T23:59:03.405130",
     "status": "completed"
    },
    "tags": []
   },
   "source": [
    "### In this section we will see the continuous variable have *Outliers* or not."
   ]
  },
  {
   "cell_type": "code",
   "execution_count": 44,
   "id": "9711ae5a",
   "metadata": {
    "execution": {
     "iopub.execute_input": "2022-05-01T23:59:03.753117Z",
     "iopub.status.busy": "2022-05-01T23:59:03.751896Z",
     "iopub.status.idle": "2022-05-01T23:59:04.746481Z",
     "shell.execute_reply": "2022-05-01T23:59:04.745444Z"
    },
    "id": "mKnzXChA-iCd",
    "outputId": "27dc8028-1c09-4aeb-bb28-75d37d85cadc",
    "papermill": {
     "duration": 1.119871,
     "end_time": "2022-05-01T23:59:04.749201",
     "exception": false,
     "start_time": "2022-05-01T23:59:03.629330",
     "status": "completed"
    },
    "tags": []
   },
   "outputs": [
    {
     "data": {
      "image/png": "[encoded data removed]",
      "text/plain": [
       "<Figure size 1080x1080 with 7 Axes>"
      ]
     },
     "metadata": {
      "needs_background": "light"
     },
     "output_type": "display_data"
    }
   ],
   "source": [
    "plt.figure(figsize = (15,15))\n",
    "for i,col in enumerate(['BMI', 'GenHlth', 'MentHlth', 'PhysHlth', 'Age','Education', 'Income']):\n",
    "    plt.subplot(4,2,i+1)\n",
    "    sns.boxplot(x = col, data = df)\n",
    "plt.show()"
   ]
  },
  {
   "cell_type": "markdown",
   "id": "fe0f73cb",
   "metadata": {
    "id": "TAhg4_4GBEhn",
    "papermill": {
     "duration": 0.118276,
     "end_time": "2022-05-01T23:59:04.983249",
     "exception": false,
     "start_time": "2022-05-01T23:59:04.864973",
     "status": "completed"
    },
    "tags": []
   },
   "source": [
    "> As we can see from the Boxplot ```BMI, GentHlth, MenHlth, PhysHlth``` have some outliers."
   ]
  },
  {
   "cell_type": "markdown",
   "id": "23354393",
   "metadata": {
    "id": "kYadUI-V7D11",
    "papermill": {
     "duration": 0.112694,
     "end_time": "2022-05-01T23:59:05.218165",
     "exception": false,
     "start_time": "2022-05-01T23:59:05.105471",
     "status": "completed"
    },
    "tags": []
   },
   "source": [
    "> As we can see, the smoker have high effect on Diabetes disease."
   ]
  },
  {
   "cell_type": "code",
   "execution_count": 45,
   "id": "77849eac",
   "metadata": {
    "execution": {
     "iopub.execute_input": "2022-05-01T23:59:05.446258Z",
     "iopub.status.busy": "2022-05-01T23:59:05.445592Z",
     "iopub.status.idle": "2022-05-01T23:59:05.519028Z",
     "shell.execute_reply": "2022-05-01T23:59:05.518112Z"
    },
    "id": "62fjeDoeeBOu",
    "outputId": "c636d976-d60b-4b72-f8e8-583482b94f55",
    "papermill": {
     "duration": 0.190462,
     "end_time": "2022-05-01T23:59:05.521508",
     "exception": false,
     "start_time": "2022-05-01T23:59:05.331046",
     "status": "completed"
    },
    "tags": []
   },
   "outputs": [
    {
     "data": {
      "text/html": [
       "<div>\n",
       "<style scoped>\n",
       "    .dataframe tbody tr th:only-of-type {\n",
       "        vertical-align: middle;\n",
       "    }\n",
       "\n",
       "    .dataframe tbody tr th {\n",
       "        vertical-align: top;\n",
       "    }\n",
       "\n",
       "    .dataframe thead th {\n",
       "        text-align: right;\n",
       "    }\n",
       "</style>\n",
       "<table border=\"1\" class=\"dataframe\">\n",
       "  <thead>\n",
       "    <tr style=\"text-align: right;\">\n",
       "      <th></th>\n",
       "      <th>MentHlth</th>\n",
       "    </tr>\n",
       "    <tr>\n",
       "      <th>Diabetes_012_str</th>\n",
       "      <th></th>\n",
       "    </tr>\n",
       "  </thead>\n",
       "  <tbody>\n",
       "    <tr>\n",
       "      <th>Diabetic</th>\n",
       "      <td>35346</td>\n",
       "    </tr>\n",
       "    <tr>\n",
       "      <th>Healthy</th>\n",
       "      <td>213703</td>\n",
       "    </tr>\n",
       "    <tr>\n",
       "      <th>Pre-diabetic</th>\n",
       "      <td>4631</td>\n",
       "    </tr>\n",
       "  </tbody>\n",
       "</table>\n",
       "</div>"
      ],
      "text/plain": [
       "                  MentHlth\n",
       "Diabetes_012_str          \n",
       "Diabetic             35346\n",
       "Healthy             213703\n",
       "Pre-diabetic          4631"
      ]
     },
     "execution_count": 45,
     "metadata": {},
     "output_type": "execute_result"
    }
   ],
   "source": [
    "mean_target('MentHlth')"
   ]
  },
  {
   "cell_type": "markdown",
   "id": "ec79911f",
   "metadata": {
    "id": "NCm7yUff8Htb",
    "papermill": {
     "duration": 0.115372,
     "end_time": "2022-05-01T23:59:05.752454",
     "exception": false,
     "start_time": "2022-05-01T23:59:05.637082",
     "status": "completed"
    },
    "tags": []
   },
   "source": [
    "> The value demonstrates that there is a similar distribution of mental health severity across the diabetes spectrum, implying that mental health does not offer value in terms of clinical scenario.\n"
   ]
  },
  {
   "cell_type": "markdown",
   "id": "f7139689",
   "metadata": {
    "id": "7wuD7HgB792J",
    "papermill": {
     "duration": 0.115578,
     "end_time": "2022-05-01T23:59:06.004234",
     "exception": false,
     "start_time": "2022-05-01T23:59:05.888656",
     "status": "completed"
    },
    "tags": []
   },
   "source": [
    "## Conclusion from EDA\n",
    "\n",
    "\n",
    "\n",
    "1.   The dataset contains 7 continuos feature variable and 15 Discrete type features variable.\n",
    "2.   The target feature is ``` Diabetes_012 ```.\n",
    "3.   ```float64``` is the data types of our features.\n",
    "4.   The parameters do not contain any null values (missing values).\n",
    "5.   The ```Diabetes_012``` feature shows that there are 213703 persons out of 253680 are Healthy; 35346 have diabetic and rest of 4631 have Pre-diabetic phase. It means 84.24% people are Healthy\n",
    "Percentage of Patients Have Pre-Diabetic: 1.83% people are Pre-Diabetic Phase, and 13.93% people Have Diabetic.\n",
    "6.   There are very less number of outliers in all features.\n",
    "7.   There is no apparent linear correlation between feature variable according to the heatmap.\n",
    "8. With age increases, the chances of diabetes also increases.\n",
    "9. persons with diabetes are the most likely to smoke.\n",
    "10. women are not just more diabetic than men, but they are also healthier.\n",
    "11. People with high blood pressure are more likely to have diabetes.\n",
    "12. People with high high cholesterol are more likely to have diabetes.\n",
    "13. people range between 24-33 BMI have more likely to have Diabetic.\n",
    "14. Menthlth Group 0-5 have impact on Diabetic\n",
    "15.  persons with greater income have more Diabetic than those with lower income."
   ]
  },
  {
   "cell_type": "markdown",
   "id": "55ac3e98",
   "metadata": {
    "id": "g3BSiPO6ONDn",
    "papermill": {
     "duration": 0.113623,
     "end_time": "2022-05-01T23:59:06.243178",
     "exception": false,
     "start_time": "2022-05-01T23:59:06.129555",
     "status": "completed"
    },
    "tags": []
   },
   "source": [
    "<font color='red'> # Thank You </font>"
   ]
  }
 ],
 "metadata": {
  "kernelspec": {
   "display_name": "Python 3",
   "language": "python",
   "name": "python3"
  },
  "language_info": {
   "codemirror_mode": {
    "name": "ipython",
    "version": 3
   },
   "file_extension": ".py",
   "mimetype": "text/x-python",
   "name": "python",
   "nbconvert_exporter": "python",
   "pygments_lexer": "ipython3",
   "version": "3.7.12"
  },
  "papermill": {
   "default_parameters": {},
   "duration": 57.248165,
   "end_time": "2022-05-01T23:59:07.883544",
   "environment_variables": {},
   "exception": null,
   "input_path": "__notebook__.ipynb",
   "output_path": "__notebook__.ipynb",
   "parameters": {},
   "start_time": "2022-05-01T23:58:10.635379",
   "version": "2.3.4"
  }
 },
 "nbformat": 4,
 "nbformat_minor": 5
}
