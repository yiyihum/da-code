{
 "cells": [
  {
   "cell_type": "markdown",
   "id": "1a37ea66",
   "metadata": {
    "papermill": {
     "duration": 0.004993,
     "end_time": "2022-01-28T06:31:15.444316",
     "exception": false,
     "start_time": "2022-01-28T06:31:15.439323",
     "status": "completed"
    },
    "tags": []
   },
   "source": [
    "## The Ideal Op Amp\n",
    "\n",
    "The characteristics of an ideal op amp form the basis for **two fundamental rules** that at first may seem somewhat unusual:\n",
    "\n",
    "1. No current ever flows into either input terminal.\n",
    "2. There is no voltage difference between the two input terminals.\n",
    "\n",
    "![alt text](https://4137876152-files.gitbook.io/~/files/v0/b/gitbook-x-prod.appspot.com/o/spaces%2F-M2g31CUvdCruJm660Ot%2Fuploads%2FGOf89gQg1RrewhTbcQEz%2F963.png?alt=media&token=fe7e9453-8e42-4f69-8ceb-ae716a0d47c7 \"The Ideal Op Amp\")\n",
    "\n",
    "In a real op amp, a **very small leakage current** will flow into the input (sometimes as low as 40 femtoamperes). It is also possible to obtain a **very small voltage** across the two input terminals. However, compared to other voltages and currents in most circuits, such values are so small that including them in the analysis does not typically affect our calculations.\n",
    "\n",
    "When analyzing op amp circuits, we should keep one other point in mind. An op amp circuit always has an output that depends on some type of input. Therefore, we will analyze op amp circuits with the goal of obtaining an expression for the output in terms of the input quantities.\n",
    "\n",
    "## Inverting Amplifier Circuit\n",
    "\n",
    "![alt text](https://4137876152-files.gitbook.io/~/files/v0/b/gitbook-x-prod.appspot.com/o/spaces%2F-M2g31CUvdCruJm660Ot%2Fuploads%2FRd1xbX2hVPet08vXT0el%2F964.png?alt=media&token=da2378c6-e15f-4309-8488-751bab07ca2f \"Inverting Amplifier Circuit\")\n",
    "\n",
    "The circuit shown in Fig. above is known as an **inverting amplifier**. The current labeled $i$ flows only through the two resistors $R_{1}$ and $R_{f}$; ideal op amp rule $1$ states that no current flows into the inverting input terminal. Thus, we can write:\n",
    "\n",
    "$$ −v_{in} + R_{1}i + R_{f}i + v_{out} = 0 $$\n",
    "\n",
    "By ideal op amp rule 2, the inverting input is therefore also at zero volts! Thus, we can write one more KVL equation:\n",
    "\n",
    "$$ −v_{in} + R_{1}i + 0 = 0 $$\n",
    "\n",
    "Combining these two equations, we obtain an expression for v_{out} in terms of v_{in}:\n",
    "\n",
    "$$ v_{out}=-\\frac{R_{f}}{R_{1}}v_{in} $$\n",
    "\n",
    "## Example\n",
    "\n",
    "Substituting $v_{in} = 5*sin(3t)$ mV, $R_{1} = 4.7 kΩ $, and $R_{f} = 47 kΩ$,we have:"
   ]
  },
  {
   "cell_type": "code",
   "execution_count": 3,
   "id": "48d4dac9",
   "metadata": {
    "execution": {
     "iopub.execute_input": "2022-01-28T06:31:15.453903Z",
     "iopub.status.busy": "2022-01-28T06:31:15.452804Z",
     "iopub.status.idle": "2022-01-28T06:31:16.812283Z",
     "shell.execute_reply": "2022-01-28T06:31:16.811718Z"
    },
    "papermill": {
     "duration": 1.364934,
     "end_time": "2022-01-28T06:31:16.812424",
     "exception": false,
     "start_time": "2022-01-28T06:31:15.447490",
     "status": "completed"
    },
    "tags": []
   },
   "outputs": [
    {
     "data": {
      "text/html": [
       "<div>\n",
       "<style scoped>\n",
       "    .dataframe tbody tr th:only-of-type {\n",
       "        vertical-align: middle;\n",
       "    }\n",
       "\n",
       "    .dataframe tbody tr th {\n",
       "        vertical-align: top;\n",
       "    }\n",
       "\n",
       "    .dataframe thead th {\n",
       "        text-align: right;\n",
       "    }\n",
       "</style>\n",
       "<table border=\"1\" class=\"dataframe\">\n",
       "  <thead>\n",
       "    <tr style=\"text-align: right;\">\n",
       "      <th></th>\n",
       "      <th>Time (seconds)</th>\n",
       "      <th>Input Voltage (V)</th>\n",
       "      <th>Output Voltage (V)</th>\n",
       "    </tr>\n",
       "  </thead>\n",
       "  <tbody>\n",
       "    <tr>\n",
       "      <th>0</th>\n",
       "      <td>0</td>\n",
       "      <td>0</td>\n",
       "      <td>0</td>\n",
       "    </tr>\n",
       "    <tr>\n",
       "      <th>1</th>\n",
       "      <td>1</td>\n",
       "      <td>0.705600040299336</td>\n",
       "      <td>-7.05600040299336</td>\n",
       "    </tr>\n",
       "    <tr>\n",
       "      <th>2</th>\n",
       "      <td>2</td>\n",
       "      <td>-1.39707749099463</td>\n",
       "      <td>13.9707749099463</td>\n",
       "    </tr>\n",
       "    <tr>\n",
       "      <th>3</th>\n",
       "      <td>3</td>\n",
       "      <td>2.06059242620878</td>\n",
       "      <td>-20.6059242620878</td>\n",
       "    </tr>\n",
       "    <tr>\n",
       "      <th>4</th>\n",
       "      <td>4</td>\n",
       "      <td>-2.68286459000218</td>\n",
       "      <td>26.8286459000217</td>\n",
       "    </tr>\n",
       "    <tr>\n",
       "      <th>5</th>\n",
       "      <td>5</td>\n",
       "      <td>3.25143920078558</td>\n",
       "      <td>-32.5143920078558</td>\n",
       "    </tr>\n",
       "  </tbody>\n",
       "</table>\n",
       "</div>"
      ],
      "text/plain": [
       "   Time (seconds)  Input Voltage (V) Output Voltage (V)\n",
       "0               0                  0                  0\n",
       "1               1  0.705600040299336  -7.05600040299336\n",
       "2               2  -1.39707749099463   13.9707749099463\n",
       "3               3   2.06059242620878  -20.6059242620878\n",
       "4               4  -2.68286459000218   26.8286459000217\n",
       "5               5   3.25143920078558  -32.5143920078558"
      ]
     },
     "execution_count": 3,
     "metadata": {},
     "output_type": "execute_result"
    }
   ],
   "source": [
    "# 导入必要的库\n",
    "import sympy as sp\n",
    "import pandas as pd\n",
    "\n",
    "# 定义符号\n",
    "t = sp.symbols('t')\n",
    "v_in = 5 * sp.sin(3 * t)\n",
    "R1 = 4.7e3  # 4.7 kΩ\n",
    "Rf = 47e3   # 47 kΩ\n",
    "\n",
    "# 定义反相放大器电路的输出电压公式\n",
    "v_out = -(Rf / R1) * v_in\n",
    "\n",
    "# 计算在特定时间点的输入电压和输出电压\n",
    "time_points = [0, 1, 2, 3, 4, 5]  # 例如：t = 0, 1, 2, 3, 4, 5 秒\n",
    "results = []\n",
    "\n",
    "for t_value in time_points:\n",
    "    v_in_value = v_in.subs(t, t_value)\n",
    "    v_out_value = v_out.subs(t, t_value)\n",
    "    results.append((t_value, v_in_value.evalf(), v_out_value.evalf()))\n",
    "\n",
    "# 创建一个DataFrame并保存为CSV文件\n",
    "df = pd.DataFrame(results, columns=['Time (seconds)', 'Input Voltage (V)', 'Output Voltage (V)'])\n",
    "df.to_csv('./inverting_amplifier_output.csv', index=False)\n",
    "\n",
    "# 显示DataFrame\n",
    "df\n"
   ]
  }
 ],
 "metadata": {
  "kernelspec": {
   "display_name": "Python 3",
   "language": "python",
   "name": "python3"
  },
  "language_info": {
   "codemirror_mode": {
    "name": "ipython",
    "version": 3
   },
   "file_extension": ".py",
   "mimetype": "text/x-python",
   "name": "python",
   "nbconvert_exporter": "python",
   "pygments_lexer": "ipython3",
   "version": "3.9.18"
  },
  "papermill": {
   "default_parameters": {},
   "duration": 10.451288,
   "end_time": "2022-01-28T06:31:17.533142",
   "environment_variables": {},
   "exception": null,
   "input_path": "__notebook__.ipynb",
   "output_path": "__notebook__.ipynb",
   "parameters": {},
   "start_time": "2022-01-28T06:31:07.081854",
   "version": "2.3.3"
  }
 },
 "nbformat": 4,
 "nbformat_minor": 5
}
