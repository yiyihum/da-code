{
 "cells": [
  {
   "cell_type": "markdown",
   "id": "4f5cd951",
   "metadata": {
    "papermill": {
     "duration": 0.011566,
     "end_time": "2024-05-23T05:29:57.454279",
     "exception": false,
     "start_time": "2024-05-23T05:29:57.442713",
     "status": "completed"
    },
    "tags": []
   },
   "source": [
    "# 🚀 Unlocking the Power of Data: A Beginner's Journey with K-Means Clustering 📊\n",
    "\n",
    "Welcome, fellow data enthusiasts, to an exciting voyage into the world of clustering analysis! In this beginner-friendly notebook, we embark on a quest to unravel the mysteries of K-Means clustering, one of the most widely used techniques in the realm of unsupervised learning. 🌟\n",
    "\n",
    "Have you ever wondered how machines can autonomously group data points into meaningful clusters, without any prior labels? 🤔 Prepare to be amazed as we delve deep into the inner workings of K-Means, right from its foundational principles to a hands-on implementation from scratch. 🛠️\n",
    "\n",
    "Whether you're a seasoned data scientist seeking to refresh your knowledge or a curious beginner eager to explore the realms of clustering, this journey is tailor-made for you. 🎓 No prior experience required – just an insatiable curiosity and a passion for unraveling the secrets hidden within data! 💡\n",
    "\n",
    "***So, buckle up and join me as we decode the language of clusters, empowering ourselves to extract valuable insights and unlock the true potential of our data. Let's embark on this exhilarating adventure together! 💫***\n"
   ]
  },
  {
   "cell_type": "markdown",
   "id": "e5324f3f",
   "metadata": {
    "papermill": {
     "duration": 0.009673,
     "end_time": "2024-05-23T05:29:57.474287",
     "exception": false,
     "start_time": "2024-05-23T05:29:57.464614",
     "status": "completed"
    },
    "tags": []
   },
   "source": [
    "### ***Import required dependencies***"
   ]
  },
  {
   "cell_type": "code",
   "execution_count": 1,
   "id": "25e0dfe6",
   "metadata": {
    "execution": {
     "iopub.execute_input": "2024-05-23T05:29:57.496641Z",
     "iopub.status.busy": "2024-05-23T05:29:57.495499Z",
     "iopub.status.idle": "2024-05-23T05:29:58.424639Z",
     "shell.execute_reply": "2024-05-23T05:29:58.423516Z"
    },
    "papermill": {
     "duration": 0.943384,
     "end_time": "2024-05-23T05:29:58.427356",
     "exception": false,
     "start_time": "2024-05-23T05:29:57.483972",
     "status": "completed"
    },
    "tags": []
   },
   "outputs": [
    {
     "name": "stdout",
     "output_type": "stream",
     "text": [
      "../README.md\n",
      "../IRIS.csv\n",
      "../gold/k-means-simplified-expedition-into-clustering.ipynb\n"
     ]
    }
   ],
   "source": [
    "# This Python 3 environment comes with many helpful analytics libraries installed\n",
    "# It is defined by the kaggle/python Docker image: https://github.com/kaggle/docker-python\n",
    "# For example, here's several helpful packages to load\n",
    "\n",
    "import numpy as np # linear algebra\n",
    "import pandas as pd # data processing, CSV file I/O (e.g. pd.read_csv)\n",
    "\n",
    "# Input data files are available in the read-only \"../input/\" directory\n",
    "# For example, running this (by clicking run or pressing Shift+Enter) will list all files under the input directory\n",
    "\n",
    "import os\n",
    "for dirname, _, filenames in os.walk('../'):\n",
    "    for filename in filenames:\n",
    "        print(os.path.join(dirname, filename))\n",
    "\n",
    "# You can write up to 20GB to the current directory (/kaggle/working/) that gets preserved as output when you create a version using \"Save & Run All\" \n",
    "# You can also write temporary files to /kaggle/temp/, but they won't be saved outside of the current session\n",
    "\n"
   ]
  },
  {
   "cell_type": "code",
   "execution_count": 2,
   "id": "48e1cbb8",
   "metadata": {
    "execution": {
     "iopub.execute_input": "2024-05-23T05:29:58.450745Z",
     "iopub.status.busy": "2024-05-23T05:29:58.449408Z",
     "iopub.status.idle": "2024-05-23T05:30:00.306318Z",
     "shell.execute_reply": "2024-05-23T05:30:00.304906Z"
    },
    "papermill": {
     "duration": 1.872055,
     "end_time": "2024-05-23T05:30:00.309614",
     "exception": false,
     "start_time": "2024-05-23T05:29:58.437559",
     "status": "completed"
    },
    "tags": []
   },
   "outputs": [],
   "source": [
    "import numpy as np\n",
    "import matplotlib.pyplot as plt\n",
    "import seaborn as sns\n",
    "import pandas as pd\n",
    "from sklearn.linear_model import Lasso\n",
    "from sklearn.model_selection import train_test_split\n",
    "from sklearn.metrics import accuracy_score, confusion_matrix, classification_report\n",
    "from sklearn.linear_model import LogisticRegression\n",
    "from sklearn.preprocessing import StandardScaler\n",
    "from collections import Counter\n",
    "%matplotlib inline"
   ]
  },
  {
   "cell_type": "markdown",
   "id": "e7363124",
   "metadata": {
    "papermill": {
     "duration": 0.009957,
     "end_time": "2024-05-23T05:30:00.330426",
     "exception": false,
     "start_time": "2024-05-23T05:30:00.320469",
     "status": "completed"
    },
    "tags": []
   },
   "source": [
    "### ***EDA***"
   ]
  },
  {
   "cell_type": "code",
   "execution_count": 3,
   "id": "3b7c2327",
   "metadata": {
    "execution": {
     "iopub.execute_input": "2024-05-23T05:30:00.352965Z",
     "iopub.status.busy": "2024-05-23T05:30:00.352498Z",
     "iopub.status.idle": "2024-05-23T05:30:00.399548Z",
     "shell.execute_reply": "2024-05-23T05:30:00.398533Z"
    },
    "papermill": {
     "duration": 0.061171,
     "end_time": "2024-05-23T05:30:00.401797",
     "exception": false,
     "start_time": "2024-05-23T05:30:00.340626",
     "status": "completed"
    },
    "tags": []
   },
   "outputs": [
    {
     "data": {
      "text/html": [
       "<div>\n",
       "<style scoped>\n",
       "    .dataframe tbody tr th:only-of-type {\n",
       "        vertical-align: middle;\n",
       "    }\n",
       "\n",
       "    .dataframe tbody tr th {\n",
       "        vertical-align: top;\n",
       "    }\n",
       "\n",
       "    .dataframe thead th {\n",
       "        text-align: right;\n",
       "    }\n",
       "</style>\n",
       "<table border=\"1\" class=\"dataframe\">\n",
       "  <thead>\n",
       "    <tr style=\"text-align: right;\">\n",
       "      <th></th>\n",
       "      <th>sepal_length</th>\n",
       "      <th>sepal_width</th>\n",
       "      <th>petal_length</th>\n",
       "      <th>petal_width</th>\n",
       "      <th>species</th>\n",
       "    </tr>\n",
       "  </thead>\n",
       "  <tbody>\n",
       "    <tr>\n",
       "      <th>0</th>\n",
       "      <td>5.1</td>\n",
       "      <td>3.5</td>\n",
       "      <td>1.4</td>\n",
       "      <td>0.2</td>\n",
       "      <td>Iris-setosa</td>\n",
       "    </tr>\n",
       "    <tr>\n",
       "      <th>1</th>\n",
       "      <td>4.9</td>\n",
       "      <td>3.0</td>\n",
       "      <td>1.4</td>\n",
       "      <td>0.2</td>\n",
       "      <td>Iris-setosa</td>\n",
       "    </tr>\n",
       "    <tr>\n",
       "      <th>2</th>\n",
       "      <td>4.7</td>\n",
       "      <td>3.2</td>\n",
       "      <td>1.3</td>\n",
       "      <td>0.2</td>\n",
       "      <td>Iris-setosa</td>\n",
       "    </tr>\n",
       "    <tr>\n",
       "      <th>3</th>\n",
       "      <td>4.6</td>\n",
       "      <td>3.1</td>\n",
       "      <td>1.5</td>\n",
       "      <td>0.2</td>\n",
       "      <td>Iris-setosa</td>\n",
       "    </tr>\n",
       "    <tr>\n",
       "      <th>4</th>\n",
       "      <td>5.0</td>\n",
       "      <td>3.6</td>\n",
       "      <td>1.4</td>\n",
       "      <td>0.2</td>\n",
       "      <td>Iris-setosa</td>\n",
       "    </tr>\n",
       "    <tr>\n",
       "      <th>5</th>\n",
       "      <td>5.4</td>\n",
       "      <td>3.9</td>\n",
       "      <td>1.7</td>\n",
       "      <td>0.4</td>\n",
       "      <td>Iris-setosa</td>\n",
       "    </tr>\n",
       "    <tr>\n",
       "      <th>6</th>\n",
       "      <td>4.6</td>\n",
       "      <td>3.4</td>\n",
       "      <td>1.4</td>\n",
       "      <td>0.3</td>\n",
       "      <td>Iris-setosa</td>\n",
       "    </tr>\n",
       "    <tr>\n",
       "      <th>7</th>\n",
       "      <td>5.0</td>\n",
       "      <td>3.4</td>\n",
       "      <td>1.5</td>\n",
       "      <td>0.2</td>\n",
       "      <td>Iris-setosa</td>\n",
       "    </tr>\n",
       "    <tr>\n",
       "      <th>8</th>\n",
       "      <td>4.4</td>\n",
       "      <td>2.9</td>\n",
       "      <td>1.4</td>\n",
       "      <td>0.2</td>\n",
       "      <td>Iris-setosa</td>\n",
       "    </tr>\n",
       "    <tr>\n",
       "      <th>9</th>\n",
       "      <td>4.9</td>\n",
       "      <td>3.1</td>\n",
       "      <td>1.5</td>\n",
       "      <td>0.1</td>\n",
       "      <td>Iris-setosa</td>\n",
       "    </tr>\n",
       "    <tr>\n",
       "      <th>10</th>\n",
       "      <td>5.4</td>\n",
       "      <td>3.7</td>\n",
       "      <td>1.5</td>\n",
       "      <td>0.2</td>\n",
       "      <td>Iris-setosa</td>\n",
       "    </tr>\n",
       "    <tr>\n",
       "      <th>11</th>\n",
       "      <td>4.8</td>\n",
       "      <td>3.4</td>\n",
       "      <td>1.6</td>\n",
       "      <td>0.2</td>\n",
       "      <td>Iris-setosa</td>\n",
       "    </tr>\n",
       "    <tr>\n",
       "      <th>12</th>\n",
       "      <td>4.8</td>\n",
       "      <td>3.0</td>\n",
       "      <td>1.4</td>\n",
       "      <td>0.1</td>\n",
       "      <td>Iris-setosa</td>\n",
       "    </tr>\n",
       "    <tr>\n",
       "      <th>13</th>\n",
       "      <td>4.3</td>\n",
       "      <td>3.0</td>\n",
       "      <td>1.1</td>\n",
       "      <td>0.1</td>\n",
       "      <td>Iris-setosa</td>\n",
       "    </tr>\n",
       "    <tr>\n",
       "      <th>14</th>\n",
       "      <td>5.8</td>\n",
       "      <td>4.0</td>\n",
       "      <td>1.2</td>\n",
       "      <td>0.2</td>\n",
       "      <td>Iris-setosa</td>\n",
       "    </tr>\n",
       "  </tbody>\n",
       "</table>\n",
       "</div>"
      ],
      "text/plain": [
       "    sepal_length  sepal_width  petal_length  petal_width      species\n",
       "0            5.1          3.5           1.4          0.2  Iris-setosa\n",
       "1            4.9          3.0           1.4          0.2  Iris-setosa\n",
       "2            4.7          3.2           1.3          0.2  Iris-setosa\n",
       "3            4.6          3.1           1.5          0.2  Iris-setosa\n",
       "4            5.0          3.6           1.4          0.2  Iris-setosa\n",
       "5            5.4          3.9           1.7          0.4  Iris-setosa\n",
       "6            4.6          3.4           1.4          0.3  Iris-setosa\n",
       "7            5.0          3.4           1.5          0.2  Iris-setosa\n",
       "8            4.4          2.9           1.4          0.2  Iris-setosa\n",
       "9            4.9          3.1           1.5          0.1  Iris-setosa\n",
       "10           5.4          3.7           1.5          0.2  Iris-setosa\n",
       "11           4.8          3.4           1.6          0.2  Iris-setosa\n",
       "12           4.8          3.0           1.4          0.1  Iris-setosa\n",
       "13           4.3          3.0           1.1          0.1  Iris-setosa\n",
       "14           5.8          4.0           1.2          0.2  Iris-setosa"
      ]
     },
     "execution_count": 3,
     "metadata": {},
     "output_type": "execute_result"
    }
   ],
   "source": [
    "df = pd.read_csv('../IRIS.csv')\n",
    "df.head(15)"
   ]
  },
  {
   "cell_type": "code",
   "execution_count": 4,
   "id": "915c2abe",
   "metadata": {
    "execution": {
     "iopub.execute_input": "2024-05-23T05:30:00.427147Z",
     "iopub.status.busy": "2024-05-23T05:30:00.426476Z",
     "iopub.status.idle": "2024-05-23T05:30:00.434416Z",
     "shell.execute_reply": "2024-05-23T05:30:00.433528Z"
    },
    "papermill": {
     "duration": 0.024281,
     "end_time": "2024-05-23T05:30:00.436677",
     "exception": false,
     "start_time": "2024-05-23T05:30:00.412396",
     "status": "completed"
    },
    "tags": []
   },
   "outputs": [
    {
     "data": {
      "text/plain": [
       "0         Iris-setosa\n",
       "1         Iris-setosa\n",
       "2         Iris-setosa\n",
       "3         Iris-setosa\n",
       "4         Iris-setosa\n",
       "            ...      \n",
       "145    Iris-virginica\n",
       "146    Iris-virginica\n",
       "147    Iris-virginica\n",
       "148    Iris-virginica\n",
       "149    Iris-virginica\n",
       "Name: species, Length: 150, dtype: object"
      ]
     },
     "execution_count": 4,
     "metadata": {},
     "output_type": "execute_result"
    }
   ],
   "source": [
    "df['species']"
   ]
  },
  {
   "cell_type": "code",
   "execution_count": 5,
   "id": "e2e90dce",
   "metadata": {
    "execution": {
     "iopub.execute_input": "2024-05-23T05:30:00.460225Z",
     "iopub.status.busy": "2024-05-23T05:30:00.459809Z",
     "iopub.status.idle": "2024-05-23T05:30:00.470535Z",
     "shell.execute_reply": "2024-05-23T05:30:00.469397Z"
    },
    "papermill": {
     "duration": 0.025382,
     "end_time": "2024-05-23T05:30:00.472914",
     "exception": false,
     "start_time": "2024-05-23T05:30:00.447532",
     "status": "completed"
    },
    "tags": []
   },
   "outputs": [
    {
     "data": {
      "text/plain": [
       "array(['Iris-setosa', 'Iris-versicolor', 'Iris-virginica'], dtype=object)"
      ]
     },
     "execution_count": 5,
     "metadata": {},
     "output_type": "execute_result"
    }
   ],
   "source": [
    "df['species'].unique()"
   ]
  },
  {
   "cell_type": "code",
   "execution_count": 6,
   "id": "33f2f7b0",
   "metadata": {
    "execution": {
     "iopub.execute_input": "2024-05-23T05:30:00.497691Z",
     "iopub.status.busy": "2024-05-23T05:30:00.497266Z",
     "iopub.status.idle": "2024-05-23T05:30:00.516475Z",
     "shell.execute_reply": "2024-05-23T05:30:00.515239Z"
    },
    "papermill": {
     "duration": 0.034798,
     "end_time": "2024-05-23T05:30:00.519190",
     "exception": false,
     "start_time": "2024-05-23T05:30:00.484392",
     "status": "completed"
    },
    "tags": []
   },
   "outputs": [
    {
     "data": {
      "text/html": [
       "<div>\n",
       "<style scoped>\n",
       "    .dataframe tbody tr th:only-of-type {\n",
       "        vertical-align: middle;\n",
       "    }\n",
       "\n",
       "    .dataframe tbody tr th {\n",
       "        vertical-align: top;\n",
       "    }\n",
       "\n",
       "    .dataframe thead th {\n",
       "        text-align: right;\n",
       "    }\n",
       "</style>\n",
       "<table border=\"1\" class=\"dataframe\">\n",
       "  <thead>\n",
       "    <tr style=\"text-align: right;\">\n",
       "      <th></th>\n",
       "      <th>sepal_length</th>\n",
       "      <th>sepal_width</th>\n",
       "      <th>petal_length</th>\n",
       "      <th>petal_width</th>\n",
       "      <th>species</th>\n",
       "    </tr>\n",
       "  </thead>\n",
       "  <tbody>\n",
       "    <tr>\n",
       "      <th>0</th>\n",
       "      <td>False</td>\n",
       "      <td>False</td>\n",
       "      <td>False</td>\n",
       "      <td>False</td>\n",
       "      <td>False</td>\n",
       "    </tr>\n",
       "    <tr>\n",
       "      <th>1</th>\n",
       "      <td>False</td>\n",
       "      <td>False</td>\n",
       "      <td>False</td>\n",
       "      <td>False</td>\n",
       "      <td>False</td>\n",
       "    </tr>\n",
       "    <tr>\n",
       "      <th>2</th>\n",
       "      <td>False</td>\n",
       "      <td>False</td>\n",
       "      <td>False</td>\n",
       "      <td>False</td>\n",
       "      <td>False</td>\n",
       "    </tr>\n",
       "    <tr>\n",
       "      <th>3</th>\n",
       "      <td>False</td>\n",
       "      <td>False</td>\n",
       "      <td>False</td>\n",
       "      <td>False</td>\n",
       "      <td>False</td>\n",
       "    </tr>\n",
       "    <tr>\n",
       "      <th>4</th>\n",
       "      <td>False</td>\n",
       "      <td>False</td>\n",
       "      <td>False</td>\n",
       "      <td>False</td>\n",
       "      <td>False</td>\n",
       "    </tr>\n",
       "    <tr>\n",
       "      <th>...</th>\n",
       "      <td>...</td>\n",
       "      <td>...</td>\n",
       "      <td>...</td>\n",
       "      <td>...</td>\n",
       "      <td>...</td>\n",
       "    </tr>\n",
       "    <tr>\n",
       "      <th>145</th>\n",
       "      <td>False</td>\n",
       "      <td>False</td>\n",
       "      <td>False</td>\n",
       "      <td>False</td>\n",
       "      <td>False</td>\n",
       "    </tr>\n",
       "    <tr>\n",
       "      <th>146</th>\n",
       "      <td>False</td>\n",
       "      <td>False</td>\n",
       "      <td>False</td>\n",
       "      <td>False</td>\n",
       "      <td>False</td>\n",
       "    </tr>\n",
       "    <tr>\n",
       "      <th>147</th>\n",
       "      <td>False</td>\n",
       "      <td>False</td>\n",
       "      <td>False</td>\n",
       "      <td>False</td>\n",
       "      <td>False</td>\n",
       "    </tr>\n",
       "    <tr>\n",
       "      <th>148</th>\n",
       "      <td>False</td>\n",
       "      <td>False</td>\n",
       "      <td>False</td>\n",
       "      <td>False</td>\n",
       "      <td>False</td>\n",
       "    </tr>\n",
       "    <tr>\n",
       "      <th>149</th>\n",
       "      <td>False</td>\n",
       "      <td>False</td>\n",
       "      <td>False</td>\n",
       "      <td>False</td>\n",
       "      <td>False</td>\n",
       "    </tr>\n",
       "  </tbody>\n",
       "</table>\n",
       "<p>150 rows × 5 columns</p>\n",
       "</div>"
      ],
      "text/plain": [
       "     sepal_length  sepal_width  petal_length  petal_width  species\n",
       "0           False        False         False        False    False\n",
       "1           False        False         False        False    False\n",
       "2           False        False         False        False    False\n",
       "3           False        False         False        False    False\n",
       "4           False        False         False        False    False\n",
       "..            ...          ...           ...          ...      ...\n",
       "145         False        False         False        False    False\n",
       "146         False        False         False        False    False\n",
       "147         False        False         False        False    False\n",
       "148         False        False         False        False    False\n",
       "149         False        False         False        False    False\n",
       "\n",
       "[150 rows x 5 columns]"
      ]
     },
     "execution_count": 6,
     "metadata": {},
     "output_type": "execute_result"
    }
   ],
   "source": [
    "df.isnull()"
   ]
  },
  {
   "cell_type": "markdown",
   "id": "ef809b65",
   "metadata": {
    "papermill": {
     "duration": 0.011349,
     "end_time": "2024-05-23T05:30:00.542248",
     "exception": false,
     "start_time": "2024-05-23T05:30:00.530899",
     "status": "completed"
    },
    "tags": []
   },
   "source": [
    "### ***Data preprocessing***"
   ]
  },
  {
   "cell_type": "code",
   "execution_count": 7,
   "id": "e30293d6",
   "metadata": {
    "execution": {
     "iopub.execute_input": "2024-05-23T05:30:00.567353Z",
     "iopub.status.busy": "2024-05-23T05:30:00.566926Z",
     "iopub.status.idle": "2024-05-23T05:30:00.579879Z",
     "shell.execute_reply": "2024-05-23T05:30:00.578745Z"
    },
    "papermill": {
     "duration": 0.029113,
     "end_time": "2024-05-23T05:30:00.583006",
     "exception": false,
     "start_time": "2024-05-23T05:30:00.553893",
     "status": "completed"
    },
    "tags": []
   },
   "outputs": [
    {
     "name": "stdout",
     "output_type": "stream",
     "text": [
      "     sepal_length  sepal_width  petal_length  petal_width         species\n",
      "0             5.1          3.5           1.4          0.2     Iris-setosa\n",
      "1             4.9          3.0           1.4          0.2     Iris-setosa\n",
      "2             4.7          3.2           1.3          0.2     Iris-setosa\n",
      "3             4.6          3.1           1.5          0.2     Iris-setosa\n",
      "4             5.0          3.6           1.4          0.2     Iris-setosa\n",
      "..            ...          ...           ...          ...             ...\n",
      "145           6.7          3.0           5.2          2.3  Iris-virginica\n",
      "146           6.3          2.5           5.0          1.9  Iris-virginica\n",
      "147           6.5          3.0           5.2          2.0  Iris-virginica\n",
      "148           6.2          3.4           5.4          2.3  Iris-virginica\n",
      "149           5.9          3.0           5.1          1.8  Iris-virginica\n",
      "\n",
      "[150 rows x 5 columns]\n"
     ]
    }
   ],
   "source": [
    "print(df)"
   ]
  },
  {
   "cell_type": "code",
   "execution_count": 8,
   "id": "4500e063",
   "metadata": {
    "execution": {
     "iopub.execute_input": "2024-05-23T05:30:00.608510Z",
     "iopub.status.busy": "2024-05-23T05:30:00.607849Z",
     "iopub.status.idle": "2024-05-23T05:30:00.618361Z",
     "shell.execute_reply": "2024-05-23T05:30:00.616919Z"
    },
    "papermill": {
     "duration": 0.026257,
     "end_time": "2024-05-23T05:30:00.620955",
     "exception": false,
     "start_time": "2024-05-23T05:30:00.594698",
     "status": "completed"
    },
    "tags": []
   },
   "outputs": [
    {
     "name": "stderr",
     "output_type": "stream",
     "text": [
      "/var/folders/0z/9ctsbk397rqc2kl_dplkdsr00000gn/T/ipykernel_22675/1898927120.py:3: FutureWarning: Downcasting behavior in `replace` is deprecated and will be removed in a future version. To retain the old behavior, explicitly call `result.infer_objects(copy=False)`. To opt-in to the future behavior, set `pd.set_option('future.no_silent_downcasting', True)`\n",
      "  df['species'].replace({'Iris-virginica': 2}, inplace=True)\n"
     ]
    }
   ],
   "source": [
    "df['species'].replace({'Iris-versicolor': 0}, inplace=True)\n",
    "df['species'].replace({'Iris-setosa': 1}, inplace=True)\n",
    "df['species'].replace({'Iris-virginica': 2}, inplace=True)"
   ]
  },
  {
   "cell_type": "code",
   "execution_count": 9,
   "id": "c337b773",
   "metadata": {
    "execution": {
     "iopub.execute_input": "2024-05-23T05:30:00.646000Z",
     "iopub.status.busy": "2024-05-23T05:30:00.645543Z",
     "iopub.status.idle": "2024-05-23T05:30:00.656970Z",
     "shell.execute_reply": "2024-05-23T05:30:00.655970Z"
    },
    "papermill": {
     "duration": 0.026989,
     "end_time": "2024-05-23T05:30:00.659473",
     "exception": false,
     "start_time": "2024-05-23T05:30:00.632484",
     "status": "completed"
    },
    "tags": []
   },
   "outputs": [
    {
     "name": "stdout",
     "output_type": "stream",
     "text": [
      "X (Features):\n",
      "   sepal_length  sepal_width\n",
      "0           5.1          3.5\n",
      "1           4.9          3.0\n",
      "2           4.7          3.2\n",
      "3           4.6          3.1\n",
      "4           5.0          3.6\n",
      "\n",
      "y (Target):\n",
      "0    1\n",
      "1    1\n",
      "2    1\n",
      "3    1\n",
      "4    1\n",
      "Name: species, dtype: int64\n"
     ]
    }
   ],
   "source": [
    "columns_to_drop = ['species', 'petal_length', 'petal_width']\n",
    "X = df.drop(columns=columns_to_drop, inplace=False)\n",
    "y = df['species']\n",
    "\n",
    "print(\"X (Features):\")\n",
    "print(X.head())\n",
    "print(\"\\ny (Target):\")\n",
    "print(y.head())"
   ]
  },
  {
   "cell_type": "code",
   "execution_count": 10,
   "id": "21bedb3f",
   "metadata": {
    "execution": {
     "iopub.execute_input": "2024-05-23T05:30:00.685377Z",
     "iopub.status.busy": "2024-05-23T05:30:00.684916Z",
     "iopub.status.idle": "2024-05-23T05:30:00.692245Z",
     "shell.execute_reply": "2024-05-23T05:30:00.691118Z"
    },
    "papermill": {
     "duration": 0.02348,
     "end_time": "2024-05-23T05:30:00.694737",
     "exception": false,
     "start_time": "2024-05-23T05:30:00.671257",
     "status": "completed"
    },
    "tags": []
   },
   "outputs": [
    {
     "data": {
      "text/plain": [
       "(150, 2)"
      ]
     },
     "execution_count": 10,
     "metadata": {},
     "output_type": "execute_result"
    }
   ],
   "source": [
    "X.shape"
   ]
  },
  {
   "cell_type": "code",
   "execution_count": 11,
   "id": "76d424e5",
   "metadata": {
    "execution": {
     "iopub.execute_input": "2024-05-23T05:30:00.722037Z",
     "iopub.status.busy": "2024-05-23T05:30:00.721248Z",
     "iopub.status.idle": "2024-05-23T05:30:00.727961Z",
     "shell.execute_reply": "2024-05-23T05:30:00.726853Z"
    },
    "papermill": {
     "duration": 0.023156,
     "end_time": "2024-05-23T05:30:00.730298",
     "exception": false,
     "start_time": "2024-05-23T05:30:00.707142",
     "status": "completed"
    },
    "tags": []
   },
   "outputs": [
    {
     "data": {
      "text/plain": [
       "(150,)"
      ]
     },
     "execution_count": 11,
     "metadata": {},
     "output_type": "execute_result"
    }
   ],
   "source": [
    "y.shape"
   ]
  },
  {
   "cell_type": "code",
   "execution_count": 12,
   "id": "5483ca85",
   "metadata": {
    "execution": {
     "iopub.execute_input": "2024-05-23T05:30:00.757771Z",
     "iopub.status.busy": "2024-05-23T05:30:00.756587Z",
     "iopub.status.idle": "2024-05-23T05:30:00.765093Z",
     "shell.execute_reply": "2024-05-23T05:30:00.764306Z"
    },
    "papermill": {
     "duration": 0.024429,
     "end_time": "2024-05-23T05:30:00.767175",
     "exception": false,
     "start_time": "2024-05-23T05:30:00.742746",
     "status": "completed"
    },
    "tags": []
   },
   "outputs": [
    {
     "data": {
      "text/plain": [
       "array([1, 0, 2])"
      ]
     },
     "execution_count": 12,
     "metadata": {},
     "output_type": "execute_result"
    }
   ],
   "source": [
    "y.unique()"
   ]
  },
  {
   "cell_type": "markdown",
   "id": "2e427565",
   "metadata": {
    "papermill": {
     "duration": 0.012117,
     "end_time": "2024-05-23T05:30:00.791929",
     "exception": false,
     "start_time": "2024-05-23T05:30:00.779812",
     "status": "completed"
    },
    "tags": []
   },
   "source": [
    "### ***K-mean clustering***"
   ]
  },
  {
   "cell_type": "code",
   "execution_count": 13,
   "id": "b0552e20",
   "metadata": {
    "execution": {
     "iopub.execute_input": "2024-05-23T05:30:00.819194Z",
     "iopub.status.busy": "2024-05-23T05:30:00.818518Z",
     "iopub.status.idle": "2024-05-23T05:30:00.823952Z",
     "shell.execute_reply": "2024-05-23T05:30:00.822915Z"
    },
    "papermill": {
     "duration": 0.021836,
     "end_time": "2024-05-23T05:30:00.826130",
     "exception": false,
     "start_time": "2024-05-23T05:30:00.804294",
     "status": "completed"
    },
    "tags": []
   },
   "outputs": [],
   "source": [
    "def l1_distance(X_i, X_j):\n",
    "    distance = 0\n",
    "    for i in range(len(X_i)):\n",
    "        distance += abs(X_i[i] - X_j[i])\n",
    "    return distance"
   ]
  },
  {
   "cell_type": "code",
   "execution_count": 14,
   "id": "31dc4ece",
   "metadata": {
    "execution": {
     "iopub.execute_input": "2024-05-23T05:30:00.852512Z",
     "iopub.status.busy": "2024-05-23T05:30:00.852020Z",
     "iopub.status.idle": "2024-05-23T05:30:00.857581Z",
     "shell.execute_reply": "2024-05-23T05:30:00.856419Z"
    },
    "papermill": {
     "duration": 0.02161,
     "end_time": "2024-05-23T05:30:00.859893",
     "exception": false,
     "start_time": "2024-05-23T05:30:00.838283",
     "status": "completed"
    },
    "tags": []
   },
   "outputs": [],
   "source": [
    "def l1_distance_numpy(X_i, X_j):\n",
    "    return np.sum(np.abs(X_i - X_j))"
   ]
  },
  {
   "cell_type": "code",
   "execution_count": 15,
   "id": "9419b258",
   "metadata": {
    "execution": {
     "iopub.execute_input": "2024-05-23T05:30:00.887177Z",
     "iopub.status.busy": "2024-05-23T05:30:00.886555Z",
     "iopub.status.idle": "2024-05-23T05:30:00.893941Z",
     "shell.execute_reply": "2024-05-23T05:30:00.892696Z"
    },
    "papermill": {
     "duration": 0.024656,
     "end_time": "2024-05-23T05:30:00.897180",
     "exception": false,
     "start_time": "2024-05-23T05:30:00.872524",
     "status": "completed"
    },
    "tags": []
   },
   "outputs": [],
   "source": [
    "def select_centroids_randomly(X, n, k):\n",
    "    result = []\n",
    "    for obj_id in np.random.randint(0, n, size=k):\n",
    "        result.append(X[obj_id, :])\n",
    "    return result"
   ]
  },
  {
   "cell_type": "code",
   "execution_count": 16,
   "id": "cf7d87da",
   "metadata": {
    "execution": {
     "iopub.execute_input": "2024-05-23T05:30:00.924622Z",
     "iopub.status.busy": "2024-05-23T05:30:00.923924Z",
     "iopub.status.idle": "2024-05-23T05:30:00.930379Z",
     "shell.execute_reply": "2024-05-23T05:30:00.929014Z"
    },
    "papermill": {
     "duration": 0.023722,
     "end_time": "2024-05-23T05:30:00.933450",
     "exception": false,
     "start_time": "2024-05-23T05:30:00.909728",
     "status": "completed"
    },
    "tags": []
   },
   "outputs": [],
   "source": [
    "def evaluate_weight_progress(centroid_objects_prev, centroid_objects, k):\n",
    "    \"\"\"Calculate how the centers moved in one step of the algorithm\"\"\"\n",
    "    result = []\n",
    "    for i in range(k):\n",
    "        dist = l1_distance_numpy(centroid_objects_prev[i],\n",
    "                                 centroid_objects[i])\n",
    "        result.append(dist)\n",
    "    return result"
   ]
  },
  {
   "cell_type": "code",
   "execution_count": 17,
   "id": "e5b2aae4",
   "metadata": {
    "execution": {
     "iopub.execute_input": "2024-05-23T05:30:00.963059Z",
     "iopub.status.busy": "2024-05-23T05:30:00.962543Z",
     "iopub.status.idle": "2024-05-23T05:30:00.970400Z",
     "shell.execute_reply": "2024-05-23T05:30:00.969511Z"
    },
    "papermill": {
     "duration": 0.025793,
     "end_time": "2024-05-23T05:30:00.972800",
     "exception": false,
     "start_time": "2024-05-23T05:30:00.947007",
     "status": "completed"
    },
    "tags": []
   },
   "outputs": [],
   "source": [
    "def evaluate_cluster_labels(X, centroid_objects):\n",
    "    \"\"\"Calculate cluster labels.\"\"\"\n",
    "    # Calculate the number of data points and centroids\n",
    "    n_samples = X.shape[0]\n",
    "    n_centroids = centroid_objects.shape[0]\n",
    "    \n",
    "    # Initialize array to store distances\n",
    "    distances = np.zeros((n_samples, n_centroids))\n",
    "    \n",
    "    # Calculate distances between each data point and each centroid using L1 distance\n",
    "    for i in range(n_samples):\n",
    "        for j in range(n_centroids):\n",
    "            distances[i, j] = l1_distance_numpy(X[i], centroid_objects[j])\n",
    "    \n",
    "    # Find the index of the closest centroid for each data point\n",
    "    cluster_labels = np.argmin(distances, axis=1)\n",
    "    \n",
    "    return cluster_labels"
   ]
  },
  {
   "cell_type": "code",
   "execution_count": 18,
   "id": "122ecdb9",
   "metadata": {
    "execution": {
     "iopub.execute_input": "2024-05-23T05:30:01.001733Z",
     "iopub.status.busy": "2024-05-23T05:30:01.001256Z",
     "iopub.status.idle": "2024-05-23T05:30:01.007400Z",
     "shell.execute_reply": "2024-05-23T05:30:01.006165Z"
    },
    "papermill": {
     "duration": 0.023527,
     "end_time": "2024-05-23T05:30:01.009732",
     "exception": false,
     "start_time": "2024-05-23T05:30:00.986205",
     "status": "completed"
    },
    "tags": []
   },
   "outputs": [],
   "source": [
    "def evaluate_centroids(X, k, cluster_lables):\n",
    "    \"\"\"Calculate new centroids using the coordinate averaging method.\"\"\"\n",
    "    result = []\n",
    "    for i in range(k):\n",
    "        new_centroid = X[cluster_lables == i].mean(axis=0)\n",
    "        result.append(new_centroid)\n",
    "    return result"
   ]
  },
  {
   "cell_type": "markdown",
   "id": "247e7474",
   "metadata": {
    "papermill": {
     "duration": 0.013076,
     "end_time": "2024-05-23T05:30:01.035934",
     "exception": false,
     "start_time": "2024-05-23T05:30:01.022858",
     "status": "completed"
    },
    "tags": []
   },
   "source": [
    "#### Value of the intragroup distance (Inertia)"
   ]
  },
  {
   "cell_type": "markdown",
   "id": "55352066",
   "metadata": {
    "papermill": {
     "duration": 0.012375,
     "end_time": "2024-05-23T05:30:01.061175",
     "exception": false,
     "start_time": "2024-05-23T05:30:01.048800",
     "status": "completed"
    },
    "tags": []
   },
   "source": [
    "To calculate inertia in the context of k-means clustering, we compute the total within-cluster sum of squares, which represents the sum of squared distances of samples to their closest cluster center. Mathematically, it can be expressed as:\n",
    "\n",
    "$D_{\\text{total}} = \\sum_{i=1}^{k} \\sum_{x \\in C_i} ||x - \\mu_i||^2 $\n",
    "\n",
    "Where:\n",
    "- $(D_{\\text{total}})$ is the total within-cluster sum of squares (inertia).\n",
    "- $(k)$ is the number of clusters.\n",
    "- $(C_i)$ is the \\(i\\)-th cluster.\n",
    "- $(x)$ is a sample in cluster $(C_i)$.\n",
    "- $(\\mu_i)$ is the centroid of cluster $(C_i)$.\n",
    "\n",
    "To calculate inertia, we need the following information:\n",
    "1. The cluster labels assigned to each sample in the dataset.\n",
    "2. The centroid coordinates of each cluster."
   ]
  },
  {
   "cell_type": "code",
   "execution_count": 19,
   "id": "e707d6c8",
   "metadata": {
    "execution": {
     "iopub.execute_input": "2024-05-23T05:30:01.089478Z",
     "iopub.status.busy": "2024-05-23T05:30:01.088754Z",
     "iopub.status.idle": "2024-05-23T05:30:01.095055Z",
     "shell.execute_reply": "2024-05-23T05:30:01.094263Z"
    },
    "papermill": {
     "duration": 0.023503,
     "end_time": "2024-05-23T05:30:01.097632",
     "exception": false,
     "start_time": "2024-05-23T05:30:01.074129",
     "status": "completed"
    },
    "tags": []
   },
   "outputs": [],
   "source": [
    "def calculate_inertia(X, centroids, cluster_labels):\n",
    "    \"\"\"Calculate inertia (total within-cluster sum of squares).\"\"\"\n",
    "    inertia = 0\n",
    "    for i, centroid in enumerate(centroids):\n",
    "        cluster_points = X[cluster_labels == i]\n",
    "        cluster_inertia = np.sum((cluster_points - centroid) ** 2)\n",
    "        inertia += cluster_inertia\n",
    "    return inertia"
   ]
  },
  {
   "cell_type": "code",
   "execution_count": 20,
   "id": "fc96d5f0",
   "metadata": {
    "execution": {
     "iopub.execute_input": "2024-05-23T05:30:01.126160Z",
     "iopub.status.busy": "2024-05-23T05:30:01.125506Z",
     "iopub.status.idle": "2024-05-23T05:30:01.131168Z",
     "shell.execute_reply": "2024-05-23T05:30:01.130384Z"
    },
    "papermill": {
     "duration": 0.022687,
     "end_time": "2024-05-23T05:30:01.133257",
     "exception": false,
     "start_time": "2024-05-23T05:30:01.110570",
     "status": "completed"
    },
    "tags": []
   },
   "outputs": [],
   "source": [
    "def plot_inertia(inertia_values):\n",
    "    \"\"\"Plot inertia values over iterations.\"\"\"\n",
    "    plt.plot(range(1, len(inertia_values) + 1), inertia_values, marker='o')\n",
    "    plt.xlabel('Iteration')\n",
    "    plt.ylabel('Inertia (Total Within-Cluster Sum of Squares)')\n",
    "    plt.title('Change in Inertia Over Iterations')\n",
    "    plt.grid(True)\n",
    "    plt.show()"
   ]
  },
  {
   "cell_type": "code",
   "execution_count": 21,
   "id": "af66a4c8",
   "metadata": {
    "execution": {
     "iopub.execute_input": "2024-05-23T05:30:01.161709Z",
     "iopub.status.busy": "2024-05-23T05:30:01.160843Z",
     "iopub.status.idle": "2024-05-23T05:30:01.172518Z",
     "shell.execute_reply": "2024-05-23T05:30:01.171505Z"
    },
    "papermill": {
     "duration": 0.028876,
     "end_time": "2024-05-23T05:30:01.174847",
     "exception": false,
     "start_time": "2024-05-23T05:30:01.145971",
     "status": "completed"
    },
    "tags": []
   },
   "outputs": [],
   "source": [
    "def k_means(X: np.array, k: int = 2, eps: float = 0.001, num_iteration: int = 10) -> np.array:\n",
    "    \"\"\"K-means algorithm\n",
    "\n",
    "    :param X: training data\n",
    "    :param k: number of clusters\n",
    "    \"\"\"\n",
    "    try:\n",
    "        n, m = X.shape\n",
    "    except ValueError:\n",
    "        print(\"The training sample must be a two-dimensional array (n, m) where m is the sample size\")\n",
    "    # initialize the centroids with a random sample element\n",
    "    centroid_objects = select_centroids_randomly(X, n, k)\n",
    "    centroid_objects_prev = [np.zeros(m) for i in range(k)]\n",
    "    # distance between the previous and current position of each centroid\n",
    "    weight_evolution = evaluate_weight_progress(centroid_objects_prev, centroid_objects, k)\n",
    "    step = 0\n",
    "    # stop condition: the centroids have not changed their position\n",
    "    # repeat until the stop condition is met\n",
    "    inertia_values = []\n",
    "    while sum(weight_evolution[i] > eps for i in range(k)) != 0 and step < num_iteration:\n",
    "        centroid_objects_prev = centroid_objects.copy()\n",
    "        # calculate cluster labels\n",
    "        cluster_labels = evaluate_cluster_labels(X, np.array(centroid_objects))\n",
    "        # average the coordinates of objects in each cluster - this is the new position of the centroid\n",
    "        centroid_objects = evaluate_centroids(X, k, cluster_labels)\n",
    "        # calculate the distance between centroids at adjacent iterations\n",
    "        weight_evolution = evaluate_weight_progress(centroid_objects_prev, centroid_objects, k)\n",
    "        print(\"шаг %s, смещение кластеров: %s\" % (step, weight_evolution))\n",
    "        inertia = calculate_inertia(X, centroid_objects, cluster_labels)\n",
    "        inertia_values.append(inertia)\n",
    "        # update clusters\n",
    "        step += 1\n",
    "    return np.vstack(centroid_objects), cluster_labels, inertia_values"
   ]
  },
  {
   "cell_type": "code",
   "execution_count": 30,
   "id": "64a9743c",
   "metadata": {
    "execution": {
     "iopub.execute_input": "2024-05-23T05:30:01.203448Z",
     "iopub.status.busy": "2024-05-23T05:30:01.202686Z",
     "iopub.status.idle": "2024-05-23T05:30:01.225318Z",
     "shell.execute_reply": "2024-05-23T05:30:01.224124Z"
    },
    "papermill": {
     "duration": 0.040084,
     "end_time": "2024-05-23T05:30:01.227998",
     "exception": false,
     "start_time": "2024-05-23T05:30:01.187914",
     "status": "completed"
    },
    "tags": []
   },
   "outputs": [
    {
     "name": "stdout",
     "output_type": "stream",
     "text": [
      "шаг 0, смещение кластеров: [0.7012048192771081, 0.16857142857142815, 0.11562499999999787]\n",
      "шаг 1, смещение кластеров: [0.22909821102592298, 0.14831168831168906, 0.06670258620689706]\n",
      "шаг 2, смещение кластеров: [0.16076839826839828, 0.08377622377622274, 0.0]\n",
      "шаг 3, смещение кластеров: [0.0, 0.02980148883374678, 0.06616379310344911]\n",
      "шаг 4, смещение кластеров: [0.0, 0.05956423316355286, 0.08192567567567721]\n",
      "шаг 5, смещение кластеров: [0.0, 0.0, 0.0]\n"
     ]
    }
   ],
   "source": [
    "centroids, cluster_labels,inertia_values = k_means(X.values, k=3)\n",
    "\n",
    "cluster_df = pd.DataFrame(X.values, columns=['Feature_{}'.format(i+1) for i in range(X.shape[1])])\n",
    "cluster_df['Cluster'] = cluster_labels\n",
    "\n",
    "# 保存DataFrame为CSV文件\n",
    "cluster_df.to_csv('cluster.csv', index=False)"
   ]
  },
  {
   "cell_type": "markdown",
   "id": "88ed9cc5",
   "metadata": {},
   "source": []
  },
  {
   "cell_type": "code",
   "execution_count": 23,
   "id": "f448024c",
   "metadata": {
    "execution": {
     "iopub.execute_input": "2024-05-23T05:30:01.257583Z",
     "iopub.status.busy": "2024-05-23T05:30:01.256798Z",
     "iopub.status.idle": "2024-05-23T05:30:01.597327Z",
     "shell.execute_reply": "2024-05-23T05:30:01.596158Z"
    },
    "papermill": {
     "duration": 0.358525,
     "end_time": "2024-05-23T05:30:01.599949",
     "exception": false,
     "start_time": "2024-05-23T05:30:01.241424",
     "status": "completed"
    },
    "tags": []
   },
   "outputs": [
    {
     "data": {
      "image/png": "[encoded data removed]",
      "text/plain": [
       "<Figure size 640x480 with 1 Axes>"
      ]
     },
     "metadata": {},
     "output_type": "display_data"
    }
   ],
   "source": [
    "plot_inertia(inertia_values)"
   ]
  },
  {
   "cell_type": "code",
   "execution_count": 24,
   "id": "c42d56d5",
   "metadata": {
    "execution": {
     "iopub.execute_input": "2024-05-23T05:30:01.630682Z",
     "iopub.status.busy": "2024-05-23T05:30:01.630002Z",
     "iopub.status.idle": "2024-05-23T05:30:01.636905Z",
     "shell.execute_reply": "2024-05-23T05:30:01.635884Z"
    },
    "papermill": {
     "duration": 0.024996,
     "end_time": "2024-05-23T05:30:01.639077",
     "exception": false,
     "start_time": "2024-05-23T05:30:01.614081",
     "status": "completed"
    },
    "tags": []
   },
   "outputs": [
    {
     "data": {
      "text/plain": [
       "array([[5.        , 3.29107143],\n",
       "       [5.96140351, 2.8       ],\n",
       "       [6.93783784, 3.08648649]])"
      ]
     },
     "execution_count": 24,
     "metadata": {},
     "output_type": "execute_result"
    }
   ],
   "source": [
    "centroids"
   ]
  },
  {
   "cell_type": "code",
   "execution_count": 25,
   "id": "a8551d42",
   "metadata": {
    "execution": {
     "iopub.execute_input": "2024-05-23T05:30:01.669495Z",
     "iopub.status.busy": "2024-05-23T05:30:01.668848Z",
     "iopub.status.idle": "2024-05-23T05:30:01.675986Z",
     "shell.execute_reply": "2024-05-23T05:30:01.674914Z"
    },
    "papermill": {
     "duration": 0.024825,
     "end_time": "2024-05-23T05:30:01.678069",
     "exception": false,
     "start_time": "2024-05-23T05:30:01.653244",
     "status": "completed"
    },
    "tags": []
   },
   "outputs": [
    {
     "data": {
      "text/plain": [
       "array([0, 0, 0, 0, 0, 0, 0, 0, 0, 0, 0, 0, 0, 0, 1, 0, 0, 0, 0, 0, 0, 0,\n",
       "       0, 0, 0, 0, 0, 0, 0, 0, 0, 0, 0, 0, 0, 0, 0, 0, 0, 0, 0, 0, 0, 0,\n",
       "       0, 0, 0, 0, 0, 0, 2, 2, 2, 1, 1, 1, 1, 0, 2, 0, 0, 1, 1, 1, 1, 2,\n",
       "       1, 1, 1, 1, 1, 1, 1, 1, 1, 2, 2, 2, 1, 1, 1, 1, 1, 1, 0, 1, 2, 1,\n",
       "       1, 1, 1, 1, 1, 0, 1, 1, 1, 1, 0, 1, 1, 1, 2, 1, 2, 2, 0, 2, 2, 2,\n",
       "       2, 1, 2, 1, 1, 2, 2, 2, 2, 1, 2, 1, 2, 1, 2, 2, 1, 1, 1, 2, 2, 2,\n",
       "       1, 1, 1, 2, 1, 2, 1, 2, 2, 2, 1, 2, 2, 2, 1, 2, 1, 1])"
      ]
     },
     "execution_count": 25,
     "metadata": {},
     "output_type": "execute_result"
    }
   ],
   "source": [
    "cluster_labels"
   ]
  },
  {
   "cell_type": "code",
   "execution_count": 26,
   "id": "5c57db9c",
   "metadata": {
    "execution": {
     "iopub.execute_input": "2024-05-23T05:30:01.708647Z",
     "iopub.status.busy": "2024-05-23T05:30:01.708000Z",
     "iopub.status.idle": "2024-05-23T05:30:02.109517Z",
     "shell.execute_reply": "2024-05-23T05:30:02.108261Z"
    },
    "papermill": {
     "duration": 0.419866,
     "end_time": "2024-05-23T05:30:02.112208",
     "exception": false,
     "start_time": "2024-05-23T05:30:01.692342",
     "status": "completed"
    },
    "tags": []
   },
   "outputs": [
    {
     "data": {
      "image/png": "[encoded data removed]",
      "text/plain": [
       "<Figure size 640x480 with 1 Axes>"
      ]
     },
     "metadata": {},
     "output_type": "display_data"
    }
   ],
   "source": [
    "def plot_clusters(X, centroids, cluster_labels):\n",
    "    \"\"\"Plot data points with centroids and cluster labels.\"\"\"\n",
    "    # Define colors for each cluster\n",
    "    colors = ['b', 'g', 'r']\n",
    "\n",
    "    # Create a scatter plot for each cluster\n",
    "    for cluster_id in range(len(centroids)):\n",
    "        plt.scatter(X[cluster_labels == cluster_id, 0], X[cluster_labels == cluster_id, 1], color=colors[cluster_id], label=f'Cluster {cluster_id}')\n",
    "\n",
    "    # Plot centroids\n",
    "    plt.scatter(centroids[:, 0], centroids[:, 1], marker='x', color='black', label='Centroids')\n",
    "\n",
    "    # Add labels and legend\n",
    "    plt.xlabel('Sepal Length')\n",
    "    plt.ylabel('Sepal Width')\n",
    "    plt.title('K-means Clustering Results')\n",
    "    plt.legend()\n",
    "\n",
    "    # Show plot\n",
    "    plt.grid(True)\n",
    "    plt.show()\n",
    "\n",
    "plot_clusters(X.values, centroids, cluster_labels)"
   ]
  },
  {
   "cell_type": "code",
   "execution_count": 27,
   "id": "9fb14977",
   "metadata": {
    "execution": {
     "iopub.execute_input": "2024-05-23T05:30:02.144346Z",
     "iopub.status.busy": "2024-05-23T05:30:02.143966Z",
     "iopub.status.idle": "2024-05-23T05:30:02.154744Z",
     "shell.execute_reply": "2024-05-23T05:30:02.153475Z"
    },
    "papermill": {
     "duration": 0.03015,
     "end_time": "2024-05-23T05:30:02.157400",
     "exception": false,
     "start_time": "2024-05-23T05:30:02.127250",
     "status": "completed"
    },
    "tags": []
   },
   "outputs": [
    {
     "name": "stdout",
     "output_type": "stream",
     "text": [
      "Accuracy of the prototype-based classifier: 0.7466666666666667\n"
     ]
    }
   ],
   "source": [
    "def assign_cluster_labels(cluster_labels, true_labels):\n",
    "    \"\"\"Assign class labels to clusters based on majority class.\"\"\"\n",
    "    cluster_to_class = {}\n",
    "    for cluster_id in np.unique(cluster_labels):\n",
    "        # Extract true labels corresponding to data points in the cluster\n",
    "        cluster_true_labels = true_labels[cluster_labels == cluster_id]\n",
    "        # Find the majority class in the cluster\n",
    "        majority_class = Counter(cluster_true_labels).most_common(1)[0][0]\n",
    "        cluster_to_class[cluster_id] = majority_class\n",
    "    # Assign class labels to clusters\n",
    "    assigned_labels = np.array([cluster_to_class[label] for label in cluster_labels])\n",
    "    return assigned_labels\n",
    "\n",
    "def calculate_accuracy(predicted_labels, true_labels):\n",
    "    \"\"\"Calculate accuracy of the classifier.\"\"\"\n",
    "    return np.mean(predicted_labels == true_labels)\n",
    "\n",
    "\n",
    "# Assign class labels to clusters\n",
    "predicted_labels = assign_cluster_labels(cluster_labels, y)\n",
    "\n",
    "# Calculate accuracy\n",
    "accuracy = calculate_accuracy(predicted_labels, y)\n",
    "print(f\"Accuracy of the prototype-based classifier: {accuracy}\")"
   ]
  },
  {
   "attachments": {
    "9efaec84-9b7d-48cc-934e-24c3482236af.jpg": {
     "image/jpeg": "[encoded data removed]"
    }
   },
   "cell_type": "markdown",
   "id": "dc75339f",
   "metadata": {
    "papermill": {
     "duration": 0.014601,
     "end_time": "2024-05-23T05:30:02.187240",
     "exception": false,
     "start_time": "2024-05-23T05:30:02.172639",
     "status": "completed"
    },
    "tags": []
   },
   "source": [
    "![in_conclusion_meme.jpg](attachment:9efaec84-9b7d-48cc-934e-24c3482236af.jpg)"
   ]
  }
 ],
 "metadata": {
  "kaggle": {
   "accelerator": "none",
   "dataSources": [
    {
     "datasetId": 17860,
     "sourceId": 23404,
     "sourceType": "datasetVersion"
    }
   ],
   "dockerImageVersionId": 30698,
   "isGpuEnabled": false,
   "isInternetEnabled": true,
   "language": "python",
   "sourceType": "notebook"
  },
  "kernelspec": {
   "display_name": "Python 3",
   "language": "python",
   "name": "python3"
  },
  "language_info": {
   "codemirror_mode": {
    "name": "ipython",
    "version": 3
   },
   "file_extension": ".py",
   "mimetype": "text/x-python",
   "name": "python",
   "nbconvert_exporter": "python",
   "pygments_lexer": "ipython3",
   "version": "3.11.0"
  },
  "papermill": {
   "default_parameters": {},
   "duration": 8.706933,
   "end_time": "2024-05-23T05:30:03.027179",
   "environment_variables": {},
   "exception": null,
   "input_path": "__notebook__.ipynb",
   "output_path": "__notebook__.ipynb",
   "parameters": {},
   "start_time": "2024-05-23T05:29:54.320246",
   "version": "2.5.0"
  }
 },
 "nbformat": 4,
 "nbformat_minor": 5
}
