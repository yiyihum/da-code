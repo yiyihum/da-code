{
 "cells": [
  {
   "cell_type": "code",
   "execution_count": 1,
   "id": "56866916",
   "metadata": {
    "_cell_guid": "b1076dfc-b9ad-4769-8c92-a6c4dae69d19",
    "_uuid": "8f2839f25d086af736a60e9eeb907d3b93b6e0e5",
    "execution": {
     "iopub.execute_input": "2024-05-10T21:57:28.730082Z",
     "iopub.status.busy": "2024-05-10T21:57:28.729650Z",
     "iopub.status.idle": "2024-05-10T21:57:29.775048Z",
     "shell.execute_reply": "2024-05-10T21:57:29.773380Z"
    },
    "papermill": {
     "duration": 1.064529,
     "end_time": "2024-05-10T21:57:29.777702",
     "exception": false,
     "start_time": "2024-05-10T21:57:28.713173",
     "status": "completed"
    },
    "tags": []
   },
   "outputs": [
    {
     "name": "stdout",
     "output_type": "stream",
     "text": [
      "/kaggle/input/barcelona-airbnb-listings-inside-airbnb/barcelona_listings.csv\n",
      "/kaggle/input/barcelona-airbnb-listings-inside-airbnb/Cleaned_airbnb_barcelona.csv\n"
     ]
    }
   ],
   "source": [
    "import numpy as np \n",
    "import pandas as pd"
   ]
  },
  {
   "cell_type": "code",
   "execution_count": 2,
   "id": "45eab82b",
   "metadata": {
    "execution": {
     "iopub.execute_input": "2024-05-10T21:57:29.812489Z",
     "iopub.status.busy": "2024-05-10T21:57:29.811960Z",
     "iopub.status.idle": "2024-05-10T21:57:45.394944Z",
     "shell.execute_reply": "2024-05-10T21:57:45.393542Z"
    },
    "papermill": {
     "duration": 15.602544,
     "end_time": "2024-05-10T21:57:45.397756",
     "exception": false,
     "start_time": "2024-05-10T21:57:29.795212",
     "status": "completed"
    },
    "tags": []
   },
   "outputs": [
    {
     "name": "stdout",
     "output_type": "stream",
     "text": [
      "Collecting wolta\r\n",
      "  Downloading wolta-0.2.2-py3-none-any.whl.metadata (21 kB)\r\n",
      "Requirement already satisfied: scikit-learn in /opt/conda/lib/python3.10/site-packages (from wolta) (1.2.2)\r\n",
      "Requirement already satisfied: pandas in /opt/conda/lib/python3.10/site-packages (from wolta) (2.2.2)\r\n",
      "Requirement already satisfied: numpy in /opt/conda/lib/python3.10/site-packages (from wolta) (1.26.4)\r\n",
      "Requirement already satisfied: hyperopt in /opt/conda/lib/python3.10/site-packages (from wolta) (0.2.7)\r\n",
      "Requirement already satisfied: catboost in /opt/conda/lib/python3.10/site-packages (from wolta) (1.2.3)\r\n",
      "Collecting imblearn (from wolta)\r\n",
      "  Downloading imblearn-0.0-py2.py3-none-any.whl.metadata (355 bytes)\r\n",
      "Requirement already satisfied: lightgbm in /opt/conda/lib/python3.10/site-packages (from wolta) (4.2.0)\r\n",
      "Requirement already satisfied: graphviz in /opt/conda/lib/python3.10/site-packages (from catboost->wolta) (0.20.3)\r\n",
      "Requirement already satisfied: matplotlib in /opt/conda/lib/python3.10/site-packages (from catboost->wolta) (3.7.5)\r\n",
      "Requirement already satisfied: scipy in /opt/conda/lib/python3.10/site-packages (from catboost->wolta) (1.11.4)\r\n",
      "Requirement already satisfied: plotly in /opt/conda/lib/python3.10/site-packages (from catboost->wolta) (5.18.0)\r\n",
      "Requirement already satisfied: six in /opt/conda/lib/python3.10/site-packages (from catboost->wolta) (1.16.0)\r\n",
      "Requirement already satisfied: python-dateutil>=2.8.2 in /opt/conda/lib/python3.10/site-packages (from pandas->wolta) (2.9.0.post0)\r\n",
      "Requirement already satisfied: pytz>=2020.1 in /opt/conda/lib/python3.10/site-packages (from pandas->wolta) (2023.3.post1)\r\n",
      "Requirement already satisfied: tzdata>=2022.7 in /opt/conda/lib/python3.10/site-packages (from pandas->wolta) (2023.4)\r\n",
      "Requirement already satisfied: networkx>=2.2 in /opt/conda/lib/python3.10/site-packages (from hyperopt->wolta) (3.2.1)\r\n",
      "Requirement already satisfied: future in /opt/conda/lib/python3.10/site-packages (from hyperopt->wolta) (1.0.0)\r\n",
      "Requirement already satisfied: tqdm in /opt/conda/lib/python3.10/site-packages (from hyperopt->wolta) (4.66.1)\r\n",
      "Requirement already satisfied: cloudpickle in /opt/conda/lib/python3.10/site-packages (from hyperopt->wolta) (2.2.1)\r\n",
      "Requirement already satisfied: py4j in /opt/conda/lib/python3.10/site-packages (from hyperopt->wolta) (0.10.9.7)\r\n",
      "Requirement already satisfied: imbalanced-learn in /opt/conda/lib/python3.10/site-packages (from imblearn->wolta) (0.12.2)\r\n",
      "Requirement already satisfied: joblib>=1.1.1 in /opt/conda/lib/python3.10/site-packages (from scikit-learn->wolta) (1.4.0)\r\n",
      "Requirement already satisfied: threadpoolctl>=2.0.0 in /opt/conda/lib/python3.10/site-packages (from scikit-learn->wolta) (3.2.0)\r\n",
      "Requirement already satisfied: contourpy>=1.0.1 in /opt/conda/lib/python3.10/site-packages (from matplotlib->catboost->wolta) (1.2.0)\r\n",
      "Requirement already satisfied: cycler>=0.10 in /opt/conda/lib/python3.10/site-packages (from matplotlib->catboost->wolta) (0.12.1)\r\n",
      "Requirement already satisfied: fonttools>=4.22.0 in /opt/conda/lib/python3.10/site-packages (from matplotlib->catboost->wolta) (4.47.0)\r\n",
      "Requirement already satisfied: kiwisolver>=1.0.1 in /opt/conda/lib/python3.10/site-packages (from matplotlib->catboost->wolta) (1.4.5)\r\n",
      "Requirement already satisfied: packaging>=20.0 in /opt/conda/lib/python3.10/site-packages (from matplotlib->catboost->wolta) (21.3)\r\n",
      "Requirement already satisfied: pillow>=6.2.0 in /opt/conda/lib/python3.10/site-packages (from matplotlib->catboost->wolta) (9.5.0)\r\n",
      "Requirement already satisfied: pyparsing>=2.3.1 in /opt/conda/lib/python3.10/site-packages (from matplotlib->catboost->wolta) (3.1.1)\r\n",
      "Requirement already satisfied: tenacity>=6.2.0 in /opt/conda/lib/python3.10/site-packages (from plotly->catboost->wolta) (8.2.3)\r\n",
      "Downloading wolta-0.2.2-py3-none-any.whl (16 kB)\r\n",
      "Downloading imblearn-0.0-py2.py3-none-any.whl (1.9 kB)\r\n",
      "Installing collected packages: imblearn, wolta\r\n",
      "Successfully installed imblearn-0.0 wolta-0.2.2\r\n"
     ]
    }
   ],
   "source": [
    "!pip install wolta"
   ]
  },
  {
   "cell_type": "code",
   "execution_count": 3,
   "id": "dc6df362",
   "metadata": {
    "execution": {
     "iopub.execute_input": "2024-05-10T21:57:45.433796Z",
     "iopub.status.busy": "2024-05-10T21:57:45.433271Z",
     "iopub.status.idle": "2024-05-10T21:57:47.259739Z",
     "shell.execute_reply": "2024-05-10T21:57:47.258457Z"
    },
    "papermill": {
     "duration": 1.847578,
     "end_time": "2024-05-10T21:57:47.262225",
     "exception": false,
     "start_time": "2024-05-10T21:57:45.414647",
     "status": "completed"
    },
    "tags": []
   },
   "outputs": [
    {
     "name": "stderr",
     "output_type": "stream",
     "text": [
      "/tmp/ipykernel_18/118960038.py:1: DtypeWarning: Columns (27) have mixed types. Specify dtype option on import or set low_memory=False.\n",
      "  df = pd.read_csv('/kaggle/input/barcelona-airbnb-listings-inside-airbnb/barcelona_listings.csv')\n"
     ]
    }
   ],
   "source": [
    "df = pd.read_csv('../barcelona_listings.csv')"
   ]
  },
  {
   "cell_type": "markdown",
   "id": "00f4e500",
   "metadata": {
    "papermill": {
     "duration": 0.016227,
     "end_time": "2024-05-10T21:57:47.294251",
     "exception": false,
     "start_time": "2024-05-10T21:57:47.278024",
     "status": "completed"
    },
    "tags": []
   },
   "source": [
    "# First Look In Data"
   ]
  },
  {
   "cell_type": "code",
   "execution_count": 4,
   "id": "ed4ea0eb",
   "metadata": {
    "execution": {
     "iopub.execute_input": "2024-05-10T21:57:47.327328Z",
     "iopub.status.busy": "2024-05-10T21:57:47.326914Z",
     "iopub.status.idle": "2024-05-10T21:57:47.340538Z",
     "shell.execute_reply": "2024-05-10T21:57:47.338388Z"
    },
    "papermill": {
     "duration": 0.033164,
     "end_time": "2024-05-10T21:57:47.343108",
     "exception": false,
     "start_time": "2024-05-10T21:57:47.309944",
     "status": "completed"
    },
    "tags": []
   },
   "outputs": [
    {
     "name": "stdout",
     "output_type": "stream",
     "text": [
      "id: int64\n",
      "listing_url: str\n",
      "name: str\n",
      "summary: str\n",
      "space: str\n",
      "description: str\n",
      "neighborhood_overview: str\n",
      "access: str\n",
      "picture_url: str\n",
      "host_id: int64\n",
      "host_url: str\n",
      "host_name: str\n",
      "host_since: str\n",
      "host_response_time: str\n",
      "host_response_rate: str\n",
      "host_is_superhost: str\n",
      "host_picture_url: str\n",
      "host_neighbourhood: str\n",
      "host_listings_count: float64\n",
      "host_verifications: str\n",
      "host_has_profile_pic: str\n",
      "host_identity_verified: str\n",
      "street: str\n",
      "neighbourhood: str\n",
      "neighbourhood_cleansed: str\n",
      "neighbourhood_group_cleansed: str\n",
      "city: str\n",
      "zipcode: str\n",
      "country: str\n",
      "latitude: float64\n",
      "longitude: float64\n",
      "is_location_exact: str\n",
      "property_type: str\n",
      "room_type: str\n",
      "accommodates: int64\n",
      "bathrooms: float64\n",
      "bedrooms: float64\n",
      "beds: float64\n",
      "amenities: str\n",
      "square_feet: float64\n",
      "price: str\n",
      "cleaning_fee: str\n",
      "minimum_nights: int64\n",
      "maximum_nights: int64\n",
      "has_availability: str\n",
      "availability_30: int64\n",
      "availability_60: int64\n",
      "availability_90: int64\n",
      "availability_365: int64\n",
      "number_of_reviews: int64\n",
      "number_of_reviews_ltm: int64\n",
      "first_review: str\n",
      "last_review: str\n",
      "review_scores_rating: float64\n",
      "review_scores_accuracy: float64\n",
      "review_scores_cleanliness: float64\n",
      "review_scores_checkin: float64\n",
      "review_scores_communication: float64\n",
      "review_scores_location: float64\n",
      "review_scores_value: float64\n",
      "instant_bookable: str\n",
      "reviews_per_month: float64\n"
     ]
    }
   ],
   "source": [
    "from wolta.data_tools import col_types\n",
    "\n",
    "types = col_types(df, print_columns=True)"
   ]
  },
  {
   "cell_type": "code",
   "execution_count": 5,
   "id": "4c7b0274",
   "metadata": {
    "execution": {
     "iopub.execute_input": "2024-05-10T21:57:47.379188Z",
     "iopub.status.busy": "2024-05-10T21:57:47.378103Z",
     "iopub.status.idle": "2024-05-10T21:57:47.445590Z",
     "shell.execute_reply": "2024-05-10T21:57:47.444309Z"
    },
    "papermill": {
     "duration": 0.088406,
     "end_time": "2024-05-10T21:57:47.448243",
     "exception": false,
     "start_time": "2024-05-10T21:57:47.359837",
     "status": "completed"
    },
    "tags": []
   },
   "outputs": [
    {
     "data": {
      "text/html": [
       "<div>\n",
       "<style scoped>\n",
       "    .dataframe tbody tr th:only-of-type {\n",
       "        vertical-align: middle;\n",
       "    }\n",
       "\n",
       "    .dataframe tbody tr th {\n",
       "        vertical-align: top;\n",
       "    }\n",
       "\n",
       "    .dataframe thead th {\n",
       "        text-align: right;\n",
       "    }\n",
       "</style>\n",
       "<table border=\"1\" class=\"dataframe\">\n",
       "  <thead>\n",
       "    <tr style=\"text-align: right;\">\n",
       "      <th></th>\n",
       "      <th>id</th>\n",
       "      <th>listing_url</th>\n",
       "      <th>name</th>\n",
       "      <th>summary</th>\n",
       "      <th>space</th>\n",
       "      <th>description</th>\n",
       "      <th>neighborhood_overview</th>\n",
       "      <th>access</th>\n",
       "      <th>picture_url</th>\n",
       "      <th>host_id</th>\n",
       "      <th>host_url</th>\n",
       "      <th>host_name</th>\n",
       "      <th>host_since</th>\n",
       "      <th>host_response_time</th>\n",
       "      <th>host_response_rate</th>\n",
       "      <th>host_is_superhost</th>\n",
       "      <th>host_picture_url</th>\n",
       "      <th>host_neighbourhood</th>\n",
       "      <th>host_listings_count</th>\n",
       "      <th>host_verifications</th>\n",
       "      <th>host_has_profile_pic</th>\n",
       "      <th>host_identity_verified</th>\n",
       "      <th>street</th>\n",
       "      <th>neighbourhood</th>\n",
       "      <th>neighbourhood_cleansed</th>\n",
       "      <th>neighbourhood_group_cleansed</th>\n",
       "      <th>city</th>\n",
       "      <th>zipcode</th>\n",
       "      <th>country</th>\n",
       "      <th>latitude</th>\n",
       "      <th>longitude</th>\n",
       "      <th>is_location_exact</th>\n",
       "      <th>property_type</th>\n",
       "      <th>room_type</th>\n",
       "      <th>accommodates</th>\n",
       "      <th>bathrooms</th>\n",
       "      <th>bedrooms</th>\n",
       "      <th>beds</th>\n",
       "      <th>amenities</th>\n",
       "      <th>square_feet</th>\n",
       "      <th>price</th>\n",
       "      <th>cleaning_fee</th>\n",
       "      <th>minimum_nights</th>\n",
       "      <th>maximum_nights</th>\n",
       "      <th>has_availability</th>\n",
       "      <th>availability_30</th>\n",
       "      <th>availability_60</th>\n",
       "      <th>availability_90</th>\n",
       "      <th>availability_365</th>\n",
       "      <th>number_of_reviews</th>\n",
       "      <th>number_of_reviews_ltm</th>\n",
       "      <th>first_review</th>\n",
       "      <th>last_review</th>\n",
       "      <th>review_scores_rating</th>\n",
       "      <th>review_scores_accuracy</th>\n",
       "      <th>review_scores_cleanliness</th>\n",
       "      <th>review_scores_checkin</th>\n",
       "      <th>review_scores_communication</th>\n",
       "      <th>review_scores_location</th>\n",
       "      <th>review_scores_value</th>\n",
       "      <th>instant_bookable</th>\n",
       "      <th>reviews_per_month</th>\n",
       "    </tr>\n",
       "  </thead>\n",
       "  <tbody>\n",
       "    <tr>\n",
       "      <th>0</th>\n",
       "      <td>18666</td>\n",
       "      <td>https://www.airbnb.com/rooms/18666</td>\n",
       "      <td>Flat with Sunny Terrace</td>\n",
       "      <td>Apartment located near the \"Plaza de las Glori...</td>\n",
       "      <td>Nice apartment situated on the penthouse floor...</td>\n",
       "      <td>Apartment located near the \"Plaza de las Glori...</td>\n",
       "      <td>Apartment in Barcelona near to the Plaza de la...</td>\n",
       "      <td>Free Wifi - air conditioning. We will provide ...</td>\n",
       "      <td>https://a0.muscache.com/im/pictures/47f88bc6-6...</td>\n",
       "      <td>71615</td>\n",
       "      <td>https://www.airbnb.com/users/show/71615</td>\n",
       "      <td>Mireia And Maria</td>\n",
       "      <td>19/01/2010</td>\n",
       "      <td>within an hour</td>\n",
       "      <td>99%</td>\n",
       "      <td>f</td>\n",
       "      <td>https://a0.muscache.com/im/users/71615/profile...</td>\n",
       "      <td>El Camp de l'Arpa del Clot</td>\n",
       "      <td>45.0</td>\n",
       "      <td>['email', 'phone', 'reviews', 'jumio', 'govern...</td>\n",
       "      <td>t</td>\n",
       "      <td>t</td>\n",
       "      <td>Barcelona, CT, Spain</td>\n",
       "      <td>Sant Martí</td>\n",
       "      <td>el Camp de l'Arpa del Clot</td>\n",
       "      <td>Sant Martí</td>\n",
       "      <td>Barcelona</td>\n",
       "      <td>8026</td>\n",
       "      <td>Spain</td>\n",
       "      <td>41.40889</td>\n",
       "      <td>2.18555</td>\n",
       "      <td>t</td>\n",
       "      <td>Apartment</td>\n",
       "      <td>Entire home/apt</td>\n",
       "      <td>6</td>\n",
       "      <td>1.0</td>\n",
       "      <td>2.0</td>\n",
       "      <td>4.0</td>\n",
       "      <td>{TV,Internet,Wifi,\"Air conditioning\",\"Wheelcha...</td>\n",
       "      <td>75.0</td>\n",
       "      <td>$130.00</td>\n",
       "      <td>$42.00</td>\n",
       "      <td>3</td>\n",
       "      <td>730</td>\n",
       "      <td>t</td>\n",
       "      <td>0</td>\n",
       "      <td>0</td>\n",
       "      <td>0</td>\n",
       "      <td>182</td>\n",
       "      <td>1</td>\n",
       "      <td>0</td>\n",
       "      <td>10/10/2015</td>\n",
       "      <td>10/10/2015</td>\n",
       "      <td>80.0</td>\n",
       "      <td>10.0</td>\n",
       "      <td>10.0</td>\n",
       "      <td>2.0</td>\n",
       "      <td>10.0</td>\n",
       "      <td>10.0</td>\n",
       "      <td>8.0</td>\n",
       "      <td>f</td>\n",
       "      <td>0.02</td>\n",
       "    </tr>\n",
       "    <tr>\n",
       "      <th>1</th>\n",
       "      <td>18674</td>\n",
       "      <td>https://www.airbnb.com/rooms/18674</td>\n",
       "      <td>Huge flat for 8 people close to Sagrada Familia</td>\n",
       "      <td>110m2 apartment to rent in Barcelona. Located ...</td>\n",
       "      <td>Apartment with 110 m2 located in the 6th floor...</td>\n",
       "      <td>110m2 apartment to rent in Barcelona. Located ...</td>\n",
       "      <td>Apartment in Barcelona located in the heart of...</td>\n",
       "      <td>Free Wifi - air conditioning. We will provide ...</td>\n",
       "      <td>https://a0.muscache.com/im/pictures/13031453/4...</td>\n",
       "      <td>71615</td>\n",
       "      <td>https://www.airbnb.com/users/show/71615</td>\n",
       "      <td>Mireia And Maria</td>\n",
       "      <td>19/01/2010</td>\n",
       "      <td>within an hour</td>\n",
       "      <td>99%</td>\n",
       "      <td>f</td>\n",
       "      <td>https://a0.muscache.com/im/users/71615/profile...</td>\n",
       "      <td>El Camp de l'Arpa del Clot</td>\n",
       "      <td>45.0</td>\n",
       "      <td>['email', 'phone', 'reviews', 'jumio', 'govern...</td>\n",
       "      <td>t</td>\n",
       "      <td>t</td>\n",
       "      <td>Barcelona, CT, Spain</td>\n",
       "      <td>La Sagrada Família</td>\n",
       "      <td>la Sagrada Família</td>\n",
       "      <td>Eixample</td>\n",
       "      <td>Barcelona</td>\n",
       "      <td>8025</td>\n",
       "      <td>Spain</td>\n",
       "      <td>41.40420</td>\n",
       "      <td>2.17306</td>\n",
       "      <td>t</td>\n",
       "      <td>Apartment</td>\n",
       "      <td>Entire home/apt</td>\n",
       "      <td>8</td>\n",
       "      <td>2.0</td>\n",
       "      <td>3.0</td>\n",
       "      <td>6.0</td>\n",
       "      <td>{TV,Internet,Wifi,\"Air conditioning\",\"Wheelcha...</td>\n",
       "      <td>NaN</td>\n",
       "      <td>$60.00</td>\n",
       "      <td>$50.00</td>\n",
       "      <td>1</td>\n",
       "      <td>1125</td>\n",
       "      <td>t</td>\n",
       "      <td>3</td>\n",
       "      <td>20</td>\n",
       "      <td>50</td>\n",
       "      <td>129</td>\n",
       "      <td>15</td>\n",
       "      <td>10</td>\n",
       "      <td>27/05/2013</td>\n",
       "      <td>02/07/2019</td>\n",
       "      <td>87.0</td>\n",
       "      <td>9.0</td>\n",
       "      <td>9.0</td>\n",
       "      <td>10.0</td>\n",
       "      <td>10.0</td>\n",
       "      <td>9.0</td>\n",
       "      <td>8.0</td>\n",
       "      <td>t</td>\n",
       "      <td>0.20</td>\n",
       "    </tr>\n",
       "    <tr>\n",
       "      <th>2</th>\n",
       "      <td>21605</td>\n",
       "      <td>https://www.airbnb.com/rooms/21605</td>\n",
       "      <td>Nice and sunny duble room</td>\n",
       "      <td>The flat is in Poblenou district, and the room...</td>\n",
       "      <td>L'apartament està al barri de Poblenou, i l'ha...</td>\n",
       "      <td>The flat is in Poblenou district, and the room...</td>\n",
       "      <td>Poblenou as one of the few areas that has grow...</td>\n",
       "      <td>The kitchen is fully equipped and can use the ...</td>\n",
       "      <td>https://a0.muscache.com/im/pictures/774ca73d-1...</td>\n",
       "      <td>82522</td>\n",
       "      <td>https://www.airbnb.com/users/show/82522</td>\n",
       "      <td>Meritxell</td>\n",
       "      <td>18/02/2010</td>\n",
       "      <td>within a few hours</td>\n",
       "      <td>100%</td>\n",
       "      <td>f</td>\n",
       "      <td>https://a0.muscache.com/im/pictures/ece65ffd-a...</td>\n",
       "      <td>El Poblenou</td>\n",
       "      <td>2.0</td>\n",
       "      <td>['email', 'phone', 'reviews', 'jumio', 'offlin...</td>\n",
       "      <td>t</td>\n",
       "      <td>t</td>\n",
       "      <td>Barcelona, Catalunya, Spain</td>\n",
       "      <td>Sant Martí</td>\n",
       "      <td>el Poblenou</td>\n",
       "      <td>Sant Martí</td>\n",
       "      <td>Barcelona</td>\n",
       "      <td>8018</td>\n",
       "      <td>Spain</td>\n",
       "      <td>41.40560</td>\n",
       "      <td>2.19821</td>\n",
       "      <td>t</td>\n",
       "      <td>Apartment</td>\n",
       "      <td>Private room</td>\n",
       "      <td>2</td>\n",
       "      <td>1.0</td>\n",
       "      <td>1.0</td>\n",
       "      <td>1.0</td>\n",
       "      <td>{TV,Wifi,Kitchen,\"Paid parking off premises\",E...</td>\n",
       "      <td>108.0</td>\n",
       "      <td>$33.00</td>\n",
       "      <td>NaN</td>\n",
       "      <td>2</td>\n",
       "      <td>1125</td>\n",
       "      <td>t</td>\n",
       "      <td>4</td>\n",
       "      <td>8</td>\n",
       "      <td>15</td>\n",
       "      <td>15</td>\n",
       "      <td>119</td>\n",
       "      <td>36</td>\n",
       "      <td>08/05/2016</td>\n",
       "      <td>04/07/2019</td>\n",
       "      <td>90.0</td>\n",
       "      <td>10.0</td>\n",
       "      <td>9.0</td>\n",
       "      <td>10.0</td>\n",
       "      <td>10.0</td>\n",
       "      <td>9.0</td>\n",
       "      <td>9.0</td>\n",
       "      <td>f</td>\n",
       "      <td>3.08</td>\n",
       "    </tr>\n",
       "    <tr>\n",
       "      <th>3</th>\n",
       "      <td>23197</td>\n",
       "      <td>https://www.airbnb.com/rooms/23197</td>\n",
       "      <td>FORUM DELUXE 5 MINS WALK  CCIB CENTER &amp; SEA!</td>\n",
       "      <td>I do not accept groups of young people under 2...</td>\n",
       "      <td>Elegant spacious apartment suitable for 6. Amp...</td>\n",
       "      <td>I do not accept groups of young people under 2...</td>\n",
       "      <td>Strategically located in the area of Parc del ...</td>\n",
       "      <td>You book the entire apartment for yourselves.</td>\n",
       "      <td>https://a0.muscache.com/im/pictures/738532/806...</td>\n",
       "      <td>90417</td>\n",
       "      <td>https://www.airbnb.com/users/show/90417</td>\n",
       "      <td>Etain (Marnie)</td>\n",
       "      <td>09/03/2010</td>\n",
       "      <td>within an hour</td>\n",
       "      <td>100%</td>\n",
       "      <td>t</td>\n",
       "      <td>https://a0.muscache.com/im/users/90417/profile...</td>\n",
       "      <td>El Besòs i el Maresme</td>\n",
       "      <td>5.0</td>\n",
       "      <td>['email', 'phone', 'reviews', 'jumio', 'offlin...</td>\n",
       "      <td>t</td>\n",
       "      <td>t</td>\n",
       "      <td>Sant Adria de Besos, Barcelona, Spain</td>\n",
       "      <td>Sant Martí</td>\n",
       "      <td>el Besòs i el Maresme</td>\n",
       "      <td>Sant Martí</td>\n",
       "      <td>Sant Adria de Besos</td>\n",
       "      <td>8930</td>\n",
       "      <td>Spain</td>\n",
       "      <td>41.41203</td>\n",
       "      <td>2.22114</td>\n",
       "      <td>f</td>\n",
       "      <td>Apartment</td>\n",
       "      <td>Entire home/apt</td>\n",
       "      <td>6</td>\n",
       "      <td>2.0</td>\n",
       "      <td>3.0</td>\n",
       "      <td>8.0</td>\n",
       "      <td>{TV,Internet,Wifi,\"Wheelchair accessible\",Kitc...</td>\n",
       "      <td>NaN</td>\n",
       "      <td>$210.00</td>\n",
       "      <td>$80.00</td>\n",
       "      <td>3</td>\n",
       "      <td>1125</td>\n",
       "      <td>t</td>\n",
       "      <td>11</td>\n",
       "      <td>33</td>\n",
       "      <td>63</td>\n",
       "      <td>318</td>\n",
       "      <td>45</td>\n",
       "      <td>16</td>\n",
       "      <td>15/03/2011</td>\n",
       "      <td>07/07/2019</td>\n",
       "      <td>95.0</td>\n",
       "      <td>10.0</td>\n",
       "      <td>10.0</td>\n",
       "      <td>10.0</td>\n",
       "      <td>10.0</td>\n",
       "      <td>9.0</td>\n",
       "      <td>9.0</td>\n",
       "      <td>t</td>\n",
       "      <td>0.44</td>\n",
       "    </tr>\n",
       "    <tr>\n",
       "      <th>4</th>\n",
       "      <td>25786</td>\n",
       "      <td>https://www.airbnb.com/rooms/25786</td>\n",
       "      <td>NICE ROOM AVAILABLE IN THE HEART OF GRACIA</td>\n",
       "      <td>JUST GO THROUGH THE MANY REVIEWS I GOT THROUGH...</td>\n",
       "      <td>Room available for rent.-  PEDRO PEREZ.  Share...</td>\n",
       "      <td>JUST GO THROUGH THE MANY REVIEWS I GOT THROUGH...</td>\n",
       "      <td>Solo decir que a menudo ni salgo del barrio. M...</td>\n",
       "      <td>All access with respect. Kitchen facilities ne...</td>\n",
       "      <td>https://a0.muscache.com/im/pictures/6619f0c7-8...</td>\n",
       "      <td>108310</td>\n",
       "      <td>https://www.airbnb.com/users/show/108310</td>\n",
       "      <td>Pedro</td>\n",
       "      <td>14/04/2010</td>\n",
       "      <td>within an hour</td>\n",
       "      <td>100%</td>\n",
       "      <td>t</td>\n",
       "      <td>https://a0.muscache.com/im/pictures/user/2b13f...</td>\n",
       "      <td>Vila de Gràcia</td>\n",
       "      <td>1.0</td>\n",
       "      <td>['email', 'phone', 'reviews', 'jumio', 'offlin...</td>\n",
       "      <td>t</td>\n",
       "      <td>t</td>\n",
       "      <td>Barcelona, Barcelona, Spain</td>\n",
       "      <td>Vila de Gràcia</td>\n",
       "      <td>la Vila de Gràcia</td>\n",
       "      <td>Gràcia</td>\n",
       "      <td>Barcelona</td>\n",
       "      <td>8012</td>\n",
       "      <td>Spain</td>\n",
       "      <td>41.40145</td>\n",
       "      <td>2.15645</td>\n",
       "      <td>t</td>\n",
       "      <td>Apartment</td>\n",
       "      <td>Private room</td>\n",
       "      <td>2</td>\n",
       "      <td>1.0</td>\n",
       "      <td>1.0</td>\n",
       "      <td>1.0</td>\n",
       "      <td>{TV,Wifi,\"Air conditioning\",Kitchen,\"Smoking a...</td>\n",
       "      <td>NaN</td>\n",
       "      <td>$45.00</td>\n",
       "      <td>NaN</td>\n",
       "      <td>1</td>\n",
       "      <td>730</td>\n",
       "      <td>t</td>\n",
       "      <td>8</td>\n",
       "      <td>19</td>\n",
       "      <td>41</td>\n",
       "      <td>115</td>\n",
       "      <td>241</td>\n",
       "      <td>49</td>\n",
       "      <td>11/08/2010</td>\n",
       "      <td>03/07/2019</td>\n",
       "      <td>95.0</td>\n",
       "      <td>10.0</td>\n",
       "      <td>10.0</td>\n",
       "      <td>10.0</td>\n",
       "      <td>10.0</td>\n",
       "      <td>10.0</td>\n",
       "      <td>9.0</td>\n",
       "      <td>t</td>\n",
       "      <td>2.22</td>\n",
       "    </tr>\n",
       "  </tbody>\n",
       "</table>\n",
       "</div>"
      ],
      "text/plain": [
       "      id                         listing_url  \\\n",
       "0  18666  https://www.airbnb.com/rooms/18666   \n",
       "1  18674  https://www.airbnb.com/rooms/18674   \n",
       "2  21605  https://www.airbnb.com/rooms/21605   \n",
       "3  23197  https://www.airbnb.com/rooms/23197   \n",
       "4  25786  https://www.airbnb.com/rooms/25786   \n",
       "\n",
       "                                              name  \\\n",
       "0                          Flat with Sunny Terrace   \n",
       "1  Huge flat for 8 people close to Sagrada Familia   \n",
       "2                        Nice and sunny duble room   \n",
       "3     FORUM DELUXE 5 MINS WALK  CCIB CENTER & SEA!   \n",
       "4       NICE ROOM AVAILABLE IN THE HEART OF GRACIA   \n",
       "\n",
       "                                             summary  \\\n",
       "0  Apartment located near the \"Plaza de las Glori...   \n",
       "1  110m2 apartment to rent in Barcelona. Located ...   \n",
       "2  The flat is in Poblenou district, and the room...   \n",
       "3  I do not accept groups of young people under 2...   \n",
       "4  JUST GO THROUGH THE MANY REVIEWS I GOT THROUGH...   \n",
       "\n",
       "                                               space  \\\n",
       "0  Nice apartment situated on the penthouse floor...   \n",
       "1  Apartment with 110 m2 located in the 6th floor...   \n",
       "2  L'apartament està al barri de Poblenou, i l'ha...   \n",
       "3  Elegant spacious apartment suitable for 6. Amp...   \n",
       "4  Room available for rent.-  PEDRO PEREZ.  Share...   \n",
       "\n",
       "                                         description  \\\n",
       "0  Apartment located near the \"Plaza de las Glori...   \n",
       "1  110m2 apartment to rent in Barcelona. Located ...   \n",
       "2  The flat is in Poblenou district, and the room...   \n",
       "3  I do not accept groups of young people under 2...   \n",
       "4  JUST GO THROUGH THE MANY REVIEWS I GOT THROUGH...   \n",
       "\n",
       "                               neighborhood_overview  \\\n",
       "0  Apartment in Barcelona near to the Plaza de la...   \n",
       "1  Apartment in Barcelona located in the heart of...   \n",
       "2  Poblenou as one of the few areas that has grow...   \n",
       "3  Strategically located in the area of Parc del ...   \n",
       "4  Solo decir que a menudo ni salgo del barrio. M...   \n",
       "\n",
       "                                              access  \\\n",
       "0  Free Wifi - air conditioning. We will provide ...   \n",
       "1  Free Wifi - air conditioning. We will provide ...   \n",
       "2  The kitchen is fully equipped and can use the ...   \n",
       "3      You book the entire apartment for yourselves.   \n",
       "4  All access with respect. Kitchen facilities ne...   \n",
       "\n",
       "                                         picture_url  host_id  \\\n",
       "0  https://a0.muscache.com/im/pictures/47f88bc6-6...    71615   \n",
       "1  https://a0.muscache.com/im/pictures/13031453/4...    71615   \n",
       "2  https://a0.muscache.com/im/pictures/774ca73d-1...    82522   \n",
       "3  https://a0.muscache.com/im/pictures/738532/806...    90417   \n",
       "4  https://a0.muscache.com/im/pictures/6619f0c7-8...   108310   \n",
       "\n",
       "                                   host_url         host_name  host_since  \\\n",
       "0   https://www.airbnb.com/users/show/71615  Mireia And Maria  19/01/2010   \n",
       "1   https://www.airbnb.com/users/show/71615  Mireia And Maria  19/01/2010   \n",
       "2   https://www.airbnb.com/users/show/82522         Meritxell  18/02/2010   \n",
       "3   https://www.airbnb.com/users/show/90417    Etain (Marnie)  09/03/2010   \n",
       "4  https://www.airbnb.com/users/show/108310             Pedro  14/04/2010   \n",
       "\n",
       "   host_response_time host_response_rate host_is_superhost  \\\n",
       "0      within an hour                99%                 f   \n",
       "1      within an hour                99%                 f   \n",
       "2  within a few hours               100%                 f   \n",
       "3      within an hour               100%                 t   \n",
       "4      within an hour               100%                 t   \n",
       "\n",
       "                                    host_picture_url  \\\n",
       "0  https://a0.muscache.com/im/users/71615/profile...   \n",
       "1  https://a0.muscache.com/im/users/71615/profile...   \n",
       "2  https://a0.muscache.com/im/pictures/ece65ffd-a...   \n",
       "3  https://a0.muscache.com/im/users/90417/profile...   \n",
       "4  https://a0.muscache.com/im/pictures/user/2b13f...   \n",
       "\n",
       "           host_neighbourhood  host_listings_count  \\\n",
       "0  El Camp de l'Arpa del Clot                 45.0   \n",
       "1  El Camp de l'Arpa del Clot                 45.0   \n",
       "2                 El Poblenou                  2.0   \n",
       "3       El Besòs i el Maresme                  5.0   \n",
       "4              Vila de Gràcia                  1.0   \n",
       "\n",
       "                                  host_verifications host_has_profile_pic  \\\n",
       "0  ['email', 'phone', 'reviews', 'jumio', 'govern...                    t   \n",
       "1  ['email', 'phone', 'reviews', 'jumio', 'govern...                    t   \n",
       "2  ['email', 'phone', 'reviews', 'jumio', 'offlin...                    t   \n",
       "3  ['email', 'phone', 'reviews', 'jumio', 'offlin...                    t   \n",
       "4  ['email', 'phone', 'reviews', 'jumio', 'offlin...                    t   \n",
       "\n",
       "  host_identity_verified                                 street  \\\n",
       "0                      t                   Barcelona, CT, Spain   \n",
       "1                      t                   Barcelona, CT, Spain   \n",
       "2                      t            Barcelona, Catalunya, Spain   \n",
       "3                      t  Sant Adria de Besos, Barcelona, Spain   \n",
       "4                      t            Barcelona, Barcelona, Spain   \n",
       "\n",
       "        neighbourhood      neighbourhood_cleansed  \\\n",
       "0          Sant Martí  el Camp de l'Arpa del Clot   \n",
       "1  La Sagrada Família          la Sagrada Família   \n",
       "2          Sant Martí                 el Poblenou   \n",
       "3          Sant Martí       el Besòs i el Maresme   \n",
       "4      Vila de Gràcia           la Vila de Gràcia   \n",
       "\n",
       "  neighbourhood_group_cleansed                 city zipcode country  latitude  \\\n",
       "0                   Sant Martí            Barcelona    8026   Spain  41.40889   \n",
       "1                     Eixample            Barcelona    8025   Spain  41.40420   \n",
       "2                   Sant Martí            Barcelona    8018   Spain  41.40560   \n",
       "3                   Sant Martí  Sant Adria de Besos    8930   Spain  41.41203   \n",
       "4                       Gràcia            Barcelona    8012   Spain  41.40145   \n",
       "\n",
       "   longitude is_location_exact property_type        room_type  accommodates  \\\n",
       "0    2.18555                 t     Apartment  Entire home/apt             6   \n",
       "1    2.17306                 t     Apartment  Entire home/apt             8   \n",
       "2    2.19821                 t     Apartment     Private room             2   \n",
       "3    2.22114                 f     Apartment  Entire home/apt             6   \n",
       "4    2.15645                 t     Apartment     Private room             2   \n",
       "\n",
       "   bathrooms  bedrooms  beds  \\\n",
       "0        1.0       2.0   4.0   \n",
       "1        2.0       3.0   6.0   \n",
       "2        1.0       1.0   1.0   \n",
       "3        2.0       3.0   8.0   \n",
       "4        1.0       1.0   1.0   \n",
       "\n",
       "                                           amenities  square_feet    price  \\\n",
       "0  {TV,Internet,Wifi,\"Air conditioning\",\"Wheelcha...         75.0  $130.00   \n",
       "1  {TV,Internet,Wifi,\"Air conditioning\",\"Wheelcha...          NaN   $60.00   \n",
       "2  {TV,Wifi,Kitchen,\"Paid parking off premises\",E...        108.0   $33.00   \n",
       "3  {TV,Internet,Wifi,\"Wheelchair accessible\",Kitc...          NaN  $210.00   \n",
       "4  {TV,Wifi,\"Air conditioning\",Kitchen,\"Smoking a...          NaN   $45.00   \n",
       "\n",
       "  cleaning_fee  minimum_nights  maximum_nights has_availability  \\\n",
       "0       $42.00               3             730                t   \n",
       "1       $50.00               1            1125                t   \n",
       "2          NaN               2            1125                t   \n",
       "3       $80.00               3            1125                t   \n",
       "4          NaN               1             730                t   \n",
       "\n",
       "   availability_30  availability_60  availability_90  availability_365  \\\n",
       "0                0                0                0               182   \n",
       "1                3               20               50               129   \n",
       "2                4                8               15                15   \n",
       "3               11               33               63               318   \n",
       "4                8               19               41               115   \n",
       "\n",
       "   number_of_reviews  number_of_reviews_ltm first_review last_review  \\\n",
       "0                  1                      0   10/10/2015  10/10/2015   \n",
       "1                 15                     10   27/05/2013  02/07/2019   \n",
       "2                119                     36   08/05/2016  04/07/2019   \n",
       "3                 45                     16   15/03/2011  07/07/2019   \n",
       "4                241                     49   11/08/2010  03/07/2019   \n",
       "\n",
       "   review_scores_rating  review_scores_accuracy  review_scores_cleanliness  \\\n",
       "0                  80.0                    10.0                       10.0   \n",
       "1                  87.0                     9.0                        9.0   \n",
       "2                  90.0                    10.0                        9.0   \n",
       "3                  95.0                    10.0                       10.0   \n",
       "4                  95.0                    10.0                       10.0   \n",
       "\n",
       "   review_scores_checkin  review_scores_communication  review_scores_location  \\\n",
       "0                    2.0                         10.0                    10.0   \n",
       "1                   10.0                         10.0                     9.0   \n",
       "2                   10.0                         10.0                     9.0   \n",
       "3                   10.0                         10.0                     9.0   \n",
       "4                   10.0                         10.0                    10.0   \n",
       "\n",
       "   review_scores_value instant_bookable  reviews_per_month  \n",
       "0                  8.0                f               0.02  \n",
       "1                  8.0                t               0.20  \n",
       "2                  9.0                f               3.08  \n",
       "3                  9.0                t               0.44  \n",
       "4                  9.0                t               2.22  "
      ]
     },
     "execution_count": 5,
     "metadata": {},
     "output_type": "execute_result"
    }
   ],
   "source": [
    "pd.set_option('display.max_columns', None)\n",
    "df.head()"
   ]
  },
  {
   "cell_type": "code",
   "execution_count": 6,
   "id": "c56e0980",
   "metadata": {
    "execution": {
     "iopub.execute_input": "2024-05-10T21:57:47.484685Z",
     "iopub.status.busy": "2024-05-10T21:57:47.484048Z",
     "iopub.status.idle": "2024-05-10T21:57:47.490424Z",
     "shell.execute_reply": "2024-05-10T21:57:47.489389Z"
    },
    "papermill": {
     "duration": 0.027823,
     "end_time": "2024-05-10T21:57:47.493027",
     "exception": false,
     "start_time": "2024-05-10T21:57:47.465204",
     "status": "completed"
    },
    "tags": []
   },
   "outputs": [
    {
     "data": {
      "text/plain": [
       "(19833, 62)"
      ]
     },
     "execution_count": 6,
     "metadata": {},
     "output_type": "execute_result"
    }
   ],
   "source": [
    "df.shape"
   ]
  },
  {
   "cell_type": "code",
   "execution_count": 7,
   "id": "59a8e167",
   "metadata": {
    "execution": {
     "iopub.execute_input": "2024-05-10T21:57:47.528163Z",
     "iopub.status.busy": "2024-05-10T21:57:47.527700Z",
     "iopub.status.idle": "2024-05-10T21:57:47.622276Z",
     "shell.execute_reply": "2024-05-10T21:57:47.620719Z"
    },
    "papermill": {
     "duration": 0.115385,
     "end_time": "2024-05-10T21:57:47.625106",
     "exception": false,
     "start_time": "2024-05-10T21:57:47.509721",
     "status": "completed"
    },
    "tags": []
   },
   "outputs": [
    {
     "name": "stdout",
     "output_type": "stream",
     "text": [
      "name has 17 null values\n",
      "summary has 1010 null values\n",
      "space has 5234 null values\n",
      "description has 361 null values\n",
      "neighborhood_overview has 6794 null values\n",
      "access has 9129 null values\n",
      "host_name has 34 null values\n",
      "host_since has 34 null values\n",
      "host_response_time has 2518 null values\n",
      "host_response_rate has 2518 null values\n",
      "host_is_superhost has 34 null values\n",
      "host_picture_url has 34 null values\n",
      "host_neighbourhood has 3880 null values\n",
      "host_listings_count has 34 null values\n",
      "host_verifications has 34 null values\n",
      "host_has_profile_pic has 34 null values\n",
      "host_identity_verified has 34 null values\n",
      "neighbourhood has 10 null values\n",
      "city has 4 null values\n",
      "zipcode has 604 null values\n",
      "bathrooms has 9 null values\n",
      "bedrooms has 3 null values\n",
      "beds has 34 null values\n",
      "square_feet has 19309 null values\n",
      "cleaning_fee has 4069 null values\n",
      "first_review has 4618 null values\n",
      "last_review has 4618 null values\n",
      "review_scores_rating has 4847 null values\n",
      "review_scores_accuracy has 4855 null values\n",
      "review_scores_cleanliness has 4855 null values\n",
      "review_scores_checkin has 4860 null values\n",
      "review_scores_communication has 4851 null values\n",
      "review_scores_location has 4858 null values\n",
      "review_scores_value has 4857 null values\n",
      "reviews_per_month has 4618 null values\n"
     ]
    }
   ],
   "source": [
    "from wolta.data_tools import seek_null\n",
    "\n",
    "seeked = seek_null(df, print_columns=True)"
   ]
  },
  {
   "cell_type": "markdown",
   "id": "ef16f120",
   "metadata": {
    "papermill": {
     "duration": 0.016621,
     "end_time": "2024-05-10T21:57:47.658890",
     "exception": false,
     "start_time": "2024-05-10T21:57:47.642269",
     "status": "completed"
    },
    "tags": []
   },
   "source": [
    "If a feature has nan samples more than 20% of all samples, then it will be deleted."
   ]
  },
  {
   "cell_type": "code",
   "execution_count": 8,
   "id": "d99a15b0",
   "metadata": {
    "execution": {
     "iopub.execute_input": "2024-05-10T21:57:47.694346Z",
     "iopub.status.busy": "2024-05-10T21:57:47.693963Z",
     "iopub.status.idle": "2024-05-10T21:57:47.700677Z",
     "shell.execute_reply": "2024-05-10T21:57:47.699087Z"
    },
    "papermill": {
     "duration": 0.027263,
     "end_time": "2024-05-10T21:57:47.702988",
     "exception": false,
     "start_time": "2024-05-10T21:57:47.675725",
     "status": "completed"
    },
    "tags": []
   },
   "outputs": [
    {
     "name": "stdout",
     "output_type": "stream",
     "text": [
      "3966.6\n"
     ]
    }
   ],
   "source": [
    "max_nan_count = 20 * df.shape[0] / 100\n",
    "print(max_nan_count)"
   ]
  },
  {
   "cell_type": "code",
   "execution_count": 9,
   "id": "619e706e",
   "metadata": {
    "execution": {
     "iopub.execute_input": "2024-05-10T21:57:47.738898Z",
     "iopub.status.busy": "2024-05-10T21:57:47.738372Z",
     "iopub.status.idle": "2024-05-10T21:57:47.876239Z",
     "shell.execute_reply": "2024-05-10T21:57:47.875105Z"
    },
    "papermill": {
     "duration": 0.158663,
     "end_time": "2024-05-10T21:57:47.878723",
     "exception": false,
     "start_time": "2024-05-10T21:57:47.720060",
     "status": "completed"
    },
    "tags": []
   },
   "outputs": [
    {
     "data": {
      "text/plain": [
       "{'id': 19833,\n",
       " 'listing_url': 19833,\n",
       " 'name': 19216,\n",
       " 'summary': 16948,\n",
       " 'space': 12914,\n",
       " 'description': 18257,\n",
       " 'neighborhood_overview': 9742,\n",
       " 'access': 7891,\n",
       " 'picture_url': 19499,\n",
       " 'host_id': 9743,\n",
       " 'host_url': 9743,\n",
       " 'host_name': 4121,\n",
       " 'host_since': 2804,\n",
       " 'host_response_time': 5,\n",
       " 'host_response_rate': 73,\n",
       " 'host_is_superhost': 3,\n",
       " 'host_picture_url': 9698,\n",
       " 'host_neighbourhood': 153,\n",
       " 'host_listings_count': 78,\n",
       " 'host_verifications': 279,\n",
       " 'host_has_profile_pic': 3,\n",
       " 'host_identity_verified': 3,\n",
       " 'street': 114,\n",
       " 'neighbourhood': 69,\n",
       " 'neighbourhood_cleansed': 71,\n",
       " 'neighbourhood_group_cleansed': 10,\n",
       " 'city': 39,\n",
       " 'zipcode': 122,\n",
       " 'country': 1,\n",
       " 'latitude': 5566,\n",
       " 'longitude': 6871,\n",
       " 'is_location_exact': 2,\n",
       " 'property_type': 28,\n",
       " 'room_type': 3,\n",
       " 'accommodates': 17,\n",
       " 'bathrooms': 20,\n",
       " 'bedrooms': 15,\n",
       " 'beds': 28,\n",
       " 'amenities': 17301,\n",
       " 'square_feet': 87,\n",
       " 'price': 462,\n",
       " 'cleaning_fee': 141,\n",
       " 'minimum_nights': 73,\n",
       " 'maximum_nights': 241,\n",
       " 'has_availability': 1,\n",
       " 'availability_30': 31,\n",
       " 'availability_60': 61,\n",
       " 'availability_90': 91,\n",
       " 'availability_365': 366,\n",
       " 'number_of_reviews': 391,\n",
       " 'number_of_reviews_ltm': 125,\n",
       " 'first_review': 2380,\n",
       " 'last_review': 1079,\n",
       " 'review_scores_rating': 55,\n",
       " 'review_scores_accuracy': 10,\n",
       " 'review_scores_cleanliness': 10,\n",
       " 'review_scores_checkin': 10,\n",
       " 'review_scores_communication': 10,\n",
       " 'review_scores_location': 9,\n",
       " 'review_scores_value': 10,\n",
       " 'instant_bookable': 2,\n",
       " 'reviews_per_month': 803}"
      ]
     },
     "execution_count": 9,
     "metadata": {},
     "output_type": "execute_result"
    }
   ],
   "source": [
    "from wolta.data_tools import unique_amounts\n",
    "\n",
    "unique_amounts(df)"
   ]
  },
  {
   "cell_type": "markdown",
   "id": "fc3adc09",
   "metadata": {
    "papermill": {
     "duration": 0.016882,
     "end_time": "2024-05-10T21:57:47.912870",
     "exception": false,
     "start_time": "2024-05-10T21:57:47.895988",
     "status": "completed"
    },
    "tags": []
   },
   "source": [
    "we will take these actions for these features:\n",
    "\n",
    "| feature | action | reason |\n",
    "| --- | --- | --- |\n",
    "| id | delete | id |\n",
    "| listing_url | delete | useless |\n",
    "| host_id | delete | useless |\n",
    "| host_url | delete | useless |\n",
    "| host_name | delete | useless |\n",
    "| host_since | delete | useless |\n",
    "| host_picture_url | delete | useless |\n",
    "| zipcode | delete | useless |\n",
    "| first_review | delete | useless |\n",
    "| last_review | delete | useless |\n",
    "| country | delete | single value |\n",
    "| has_availability | delete | single value |\n",
    "| square_feet | delete | too much null |\n",
    "| cleaning_fee | delete | too much null |\n",
    "| review_scores_rating | delete | too much null |\n",
    "| review_scores_accuracy | delete | too much null |\n",
    "| review_scores_cleanliness | delete | too much null |\n",
    "| review_scores_checkin | delete | too much null |\n",
    "| review_scores_communication | delete | too much null |\n",
    "| review_scores_location | delete | too much null |\n",
    "| review_scores_value | delete | too much null |\n",
    "| review_per_month | delete | too much null |\n",
    "| name | make boolean | info existance is the case |\n",
    "| summary | make boolean | info existance is the case |\n",
    "| space | make boolean | info existance is the case |\n",
    "| description | make boolean | info existance is the case |\n",
    "| neighborhood_overview | make boolean | info existance is the case |\n",
    "| access | make boolean | info existance is the case |\n",
    "| picture_url | make boolean | info existance is the case |\n",
    "| host_is_superhost | make boolean | true false |\n",
    "| host_has_profile_pic | make boolean | true false |\n",
    "| host_identify_verified | make boolean | true false |\n",
    "| is_location_exact | make boolean | true false |\n",
    "| instant_bookable | make boolean | true false |\n",
    "| host_response_time | make numerical | categorical |\n",
    "| host_neighborhood | make numerical | categorical |\n",
    "| street | make numerical | categorical |\n",
    "| neighborhood | make numerical | categorical |\n",
    "| neighborhood_cleansed | make numerical | categorical |\n",
    "| neighborhood_group_cleansed | make numerical | categorical |\n",
    "| city | make numerical | categorical |\n",
    "| property_type | make numerical | categorical |\n",
    "| room_type | make numerical | categorical |\n",
    "| host_response_rate | make numerical | number but in string form |\n",
    "| price | make numerical | number but in string form |\n",
    "| host_verifications | make numerical | count |\n",
    "| amenities | make numerical | count |"
   ]
  },
  {
   "cell_type": "markdown",
   "id": "29b0447e",
   "metadata": {
    "papermill": {
     "duration": 0.017582,
     "end_time": "2024-05-10T21:57:47.947398",
     "exception": false,
     "start_time": "2024-05-10T21:57:47.929816",
     "status": "completed"
    },
    "tags": []
   },
   "source": [
    "# Deleting"
   ]
  },
  {
   "cell_type": "code",
   "execution_count": 10,
   "id": "b43c9ed9",
   "metadata": {
    "execution": {
     "iopub.execute_input": "2024-05-10T21:57:47.983183Z",
     "iopub.status.busy": "2024-05-10T21:57:47.982767Z",
     "iopub.status.idle": "2024-05-10T21:57:47.992542Z",
     "shell.execute_reply": "2024-05-10T21:57:47.990894Z"
    },
    "papermill": {
     "duration": 0.030864,
     "end_time": "2024-05-10T21:57:47.995143",
     "exception": false,
     "start_time": "2024-05-10T21:57:47.964279",
     "status": "completed"
    },
    "tags": []
   },
   "outputs": [],
   "source": [
    "del df['id']"
   ]
  },
  {
   "cell_type": "code",
   "execution_count": 11,
   "id": "3ea9adf2",
   "metadata": {
    "execution": {
     "iopub.execute_input": "2024-05-10T21:57:48.033786Z",
     "iopub.status.busy": "2024-05-10T21:57:48.033071Z",
     "iopub.status.idle": "2024-05-10T21:57:48.044387Z",
     "shell.execute_reply": "2024-05-10T21:57:48.043168Z"
    },
    "papermill": {
     "duration": 0.033793,
     "end_time": "2024-05-10T21:57:48.046646",
     "exception": false,
     "start_time": "2024-05-10T21:57:48.012853",
     "status": "completed"
    },
    "tags": []
   },
   "outputs": [],
   "source": [
    "del df['listing_url']\n",
    "del df['host_id']\n",
    "del df['host_url']\n",
    "del df['host_name']\n",
    "del df['host_since']\n",
    "del df['host_picture_url']\n",
    "del df['zipcode']\n",
    "del df['first_review']\n",
    "del df['last_review']"
   ]
  },
  {
   "cell_type": "code",
   "execution_count": 12,
   "id": "3cee4ab6",
   "metadata": {
    "execution": {
     "iopub.execute_input": "2024-05-10T21:57:48.084740Z",
     "iopub.status.busy": "2024-05-10T21:57:48.084346Z",
     "iopub.status.idle": "2024-05-10T21:57:48.090548Z",
     "shell.execute_reply": "2024-05-10T21:57:48.089293Z"
    },
    "papermill": {
     "duration": 0.027811,
     "end_time": "2024-05-10T21:57:48.093154",
     "exception": false,
     "start_time": "2024-05-10T21:57:48.065343",
     "status": "completed"
    },
    "tags": []
   },
   "outputs": [],
   "source": [
    "del df['country']\n",
    "del df['has_availability']"
   ]
  },
  {
   "cell_type": "code",
   "execution_count": 13,
   "id": "94a151a9",
   "metadata": {
    "execution": {
     "iopub.execute_input": "2024-05-10T21:57:48.129209Z",
     "iopub.status.busy": "2024-05-10T21:57:48.128823Z",
     "iopub.status.idle": "2024-05-10T21:57:48.139082Z",
     "shell.execute_reply": "2024-05-10T21:57:48.138001Z"
    },
    "papermill": {
     "duration": 0.031156,
     "end_time": "2024-05-10T21:57:48.141267",
     "exception": false,
     "start_time": "2024-05-10T21:57:48.110111",
     "status": "completed"
    },
    "tags": []
   },
   "outputs": [],
   "source": [
    "del df['square_feet']\n",
    "del df['cleaning_fee']\n",
    "del df['review_scores_rating']\n",
    "del df['review_scores_accuracy']\n",
    "del df['review_scores_cleanliness']\n",
    "del df['review_scores_checkin']\n",
    "del df['review_scores_communication']\n",
    "del df['review_scores_location']\n",
    "del df['review_scores_value']\n",
    "del df['reviews_per_month']"
   ]
  },
  {
   "cell_type": "markdown",
   "id": "ebf95c0b",
   "metadata": {
    "papermill": {
     "duration": 0.018371,
     "end_time": "2024-05-10T21:57:48.176720",
     "exception": false,
     "start_time": "2024-05-10T21:57:48.158349",
     "status": "completed"
    },
    "tags": []
   },
   "source": [
    "# Making Boolean (0/1) Due To Existance"
   ]
  },
  {
   "cell_type": "markdown",
   "id": "6b29186f",
   "metadata": {
    "papermill": {
     "duration": 0.017135,
     "end_time": "2024-05-10T21:57:48.211723",
     "exception": false,
     "start_time": "2024-05-10T21:57:48.194588",
     "status": "completed"
    },
    "tags": []
   },
   "source": [
    "| boolean | integer | meaning |\n",
    "| --- | --- | --- |\n",
    "| false | 0 | value is missing |\n",
    "| true | 1 | value exists |"
   ]
  },
  {
   "cell_type": "code",
   "execution_count": 14,
   "id": "52e6c0cd",
   "metadata": {
    "execution": {
     "iopub.execute_input": "2024-05-10T21:57:48.309757Z",
     "iopub.status.busy": "2024-05-10T21:57:48.309327Z",
     "iopub.status.idle": "2024-05-10T21:57:48.316279Z",
     "shell.execute_reply": "2024-05-10T21:57:48.314667Z"
    },
    "papermill": {
     "duration": 0.089883,
     "end_time": "2024-05-10T21:57:48.318492",
     "exception": false,
     "start_time": "2024-05-10T21:57:48.228609",
     "status": "completed"
    },
    "tags": []
   },
   "outputs": [],
   "source": [
    "def make_boolean(col):\n",
    "    for i in range(col.shape[0]):\n",
    "        if col.values[i] == None or col.values[i] == np.nan:\n",
    "            col.values[i] = 0\n",
    "        else:\n",
    "            col.values[i] = 1\n",
    "    \n",
    "    return col"
   ]
  },
  {
   "cell_type": "code",
   "execution_count": 15,
   "id": "6d135008",
   "metadata": {
    "execution": {
     "iopub.execute_input": "2024-05-10T21:57:48.355414Z",
     "iopub.status.busy": "2024-05-10T21:57:48.355006Z",
     "iopub.status.idle": "2024-05-10T21:57:49.006769Z",
     "shell.execute_reply": "2024-05-10T21:57:49.005444Z"
    },
    "papermill": {
     "duration": 0.673346,
     "end_time": "2024-05-10T21:57:49.009693",
     "exception": false,
     "start_time": "2024-05-10T21:57:48.336347",
     "status": "completed"
    },
    "tags": []
   },
   "outputs": [],
   "source": [
    "df['name'] = make_boolean(df['name'])\n",
    "df['summary'] = make_boolean(df['summary'])\n",
    "df['space'] = make_boolean(df['space'])\n",
    "df['description'] = make_boolean(df['description'])\n",
    "df['neighborhood_overview'] = make_boolean(df['neighborhood_overview'])\n",
    "df['access'] = make_boolean(df['access'])\n",
    "df['picture_url'] = make_boolean(df['picture_url'])"
   ]
  },
  {
   "cell_type": "markdown",
   "id": "45d2f703",
   "metadata": {
    "papermill": {
     "duration": 0.016961,
     "end_time": "2024-05-10T21:57:49.045186",
     "exception": false,
     "start_time": "2024-05-10T21:57:49.028225",
     "status": "completed"
    },
    "tags": []
   },
   "source": [
    "# Making Boolean (0/1) For True/False Data"
   ]
  },
  {
   "cell_type": "markdown",
   "id": "9d8db17f",
   "metadata": {
    "papermill": {
     "duration": 0.016973,
     "end_time": "2024-05-10T21:57:49.079660",
     "exception": false,
     "start_time": "2024-05-10T21:57:49.062687",
     "status": "completed"
    },
    "tags": []
   },
   "source": [
    "## host_is_superhost"
   ]
  },
  {
   "cell_type": "code",
   "execution_count": 16,
   "id": "e19d7568",
   "metadata": {
    "execution": {
     "iopub.execute_input": "2024-05-10T21:57:49.118671Z",
     "iopub.status.busy": "2024-05-10T21:57:49.118007Z",
     "iopub.status.idle": "2024-05-10T21:57:49.130939Z",
     "shell.execute_reply": "2024-05-10T21:57:49.129753Z"
    },
    "papermill": {
     "duration": 0.036201,
     "end_time": "2024-05-10T21:57:49.133408",
     "exception": false,
     "start_time": "2024-05-10T21:57:49.097207",
     "status": "completed"
    },
    "tags": []
   },
   "outputs": [
    {
     "data": {
      "text/plain": [
       "host_is_superhost\n",
       "f    16097\n",
       "t     3702\n",
       "Name: count, dtype: int64"
      ]
     },
     "execution_count": 16,
     "metadata": {},
     "output_type": "execute_result"
    }
   ],
   "source": [
    "df['host_is_superhost'].value_counts()"
   ]
  },
  {
   "cell_type": "code",
   "execution_count": 17,
   "id": "236ce94e",
   "metadata": {
    "execution": {
     "iopub.execute_input": "2024-05-10T21:57:49.169780Z",
     "iopub.status.busy": "2024-05-10T21:57:49.169336Z",
     "iopub.status.idle": "2024-05-10T21:57:49.177442Z",
     "shell.execute_reply": "2024-05-10T21:57:49.176207Z"
    },
    "papermill": {
     "duration": 0.029361,
     "end_time": "2024-05-10T21:57:49.180145",
     "exception": false,
     "start_time": "2024-05-10T21:57:49.150784",
     "status": "completed"
    },
    "tags": []
   },
   "outputs": [],
   "source": [
    "df['host_is_superhost'] = df['host_is_superhost'].map({\n",
    "    'f': 0,\n",
    "    't': 1,\n",
    "    None: 0,\n",
    "    np.nan: 0\n",
    "}) "
   ]
  },
  {
   "cell_type": "code",
   "execution_count": 18,
   "id": "8e934df3",
   "metadata": {
    "execution": {
     "iopub.execute_input": "2024-05-10T21:57:49.220351Z",
     "iopub.status.busy": "2024-05-10T21:57:49.219416Z",
     "iopub.status.idle": "2024-05-10T21:57:49.230835Z",
     "shell.execute_reply": "2024-05-10T21:57:49.229711Z"
    },
    "papermill": {
     "duration": 0.034979,
     "end_time": "2024-05-10T21:57:49.233364",
     "exception": false,
     "start_time": "2024-05-10T21:57:49.198385",
     "status": "completed"
    },
    "tags": []
   },
   "outputs": [
    {
     "data": {
      "text/plain": [
       "host_is_superhost\n",
       "0    16131\n",
       "1     3702\n",
       "Name: count, dtype: int64"
      ]
     },
     "execution_count": 18,
     "metadata": {},
     "output_type": "execute_result"
    }
   ],
   "source": [
    "df['host_is_superhost'].value_counts()"
   ]
  },
  {
   "cell_type": "markdown",
   "id": "acbc83a0",
   "metadata": {
    "papermill": {
     "duration": 0.019011,
     "end_time": "2024-05-10T21:57:49.270423",
     "exception": false,
     "start_time": "2024-05-10T21:57:49.251412",
     "status": "completed"
    },
    "tags": []
   },
   "source": [
    "## host_has_profile_pic"
   ]
  },
  {
   "cell_type": "code",
   "execution_count": 19,
   "id": "0657ede4",
   "metadata": {
    "execution": {
     "iopub.execute_input": "2024-05-10T21:57:49.309666Z",
     "iopub.status.busy": "2024-05-10T21:57:49.308908Z",
     "iopub.status.idle": "2024-05-10T21:57:49.318766Z",
     "shell.execute_reply": "2024-05-10T21:57:49.317441Z"
    },
    "papermill": {
     "duration": 0.032741,
     "end_time": "2024-05-10T21:57:49.321874",
     "exception": false,
     "start_time": "2024-05-10T21:57:49.289133",
     "status": "completed"
    },
    "tags": []
   },
   "outputs": [
    {
     "data": {
      "text/plain": [
       "host_has_profile_pic\n",
       "t    19757\n",
       "f       42\n",
       "Name: count, dtype: int64"
      ]
     },
     "execution_count": 19,
     "metadata": {},
     "output_type": "execute_result"
    }
   ],
   "source": [
    "df['host_has_profile_pic'].value_counts()"
   ]
  },
  {
   "cell_type": "code",
   "execution_count": 20,
   "id": "d018f47a",
   "metadata": {
    "execution": {
     "iopub.execute_input": "2024-05-10T21:57:49.366084Z",
     "iopub.status.busy": "2024-05-10T21:57:49.365280Z",
     "iopub.status.idle": "2024-05-10T21:57:49.373500Z",
     "shell.execute_reply": "2024-05-10T21:57:49.372167Z"
    },
    "papermill": {
     "duration": 0.032951,
     "end_time": "2024-05-10T21:57:49.376101",
     "exception": false,
     "start_time": "2024-05-10T21:57:49.343150",
     "status": "completed"
    },
    "tags": []
   },
   "outputs": [],
   "source": [
    "df['host_has_profile_pic'] = df['host_has_profile_pic'].map({\n",
    "    'f': 0,\n",
    "    't': 1,\n",
    "    None: 1,\n",
    "    np.nan: 1\n",
    "}) "
   ]
  },
  {
   "cell_type": "code",
   "execution_count": 21,
   "id": "0f379fda",
   "metadata": {
    "execution": {
     "iopub.execute_input": "2024-05-10T21:57:49.416753Z",
     "iopub.status.busy": "2024-05-10T21:57:49.416320Z",
     "iopub.status.idle": "2024-05-10T21:57:49.426307Z",
     "shell.execute_reply": "2024-05-10T21:57:49.425257Z"
    },
    "papermill": {
     "duration": 0.033617,
     "end_time": "2024-05-10T21:57:49.428640",
     "exception": false,
     "start_time": "2024-05-10T21:57:49.395023",
     "status": "completed"
    },
    "tags": []
   },
   "outputs": [
    {
     "data": {
      "text/plain": [
       "host_has_profile_pic\n",
       "1    19791\n",
       "0       42\n",
       "Name: count, dtype: int64"
      ]
     },
     "execution_count": 21,
     "metadata": {},
     "output_type": "execute_result"
    }
   ],
   "source": [
    "df['host_has_profile_pic'].value_counts()"
   ]
  },
  {
   "cell_type": "markdown",
   "id": "9eae38e9",
   "metadata": {
    "papermill": {
     "duration": 0.019737,
     "end_time": "2024-05-10T21:57:49.468866",
     "exception": false,
     "start_time": "2024-05-10T21:57:49.449129",
     "status": "completed"
    },
    "tags": []
   },
   "source": [
    "## host_identity_verified"
   ]
  },
  {
   "cell_type": "code",
   "execution_count": 22,
   "id": "d43bdc1f",
   "metadata": {
    "execution": {
     "iopub.execute_input": "2024-05-10T21:57:49.509791Z",
     "iopub.status.busy": "2024-05-10T21:57:49.509343Z",
     "iopub.status.idle": "2024-05-10T21:57:49.518953Z",
     "shell.execute_reply": "2024-05-10T21:57:49.517861Z"
    },
    "papermill": {
     "duration": 0.03269,
     "end_time": "2024-05-10T21:57:49.521323",
     "exception": false,
     "start_time": "2024-05-10T21:57:49.488633",
     "status": "completed"
    },
    "tags": []
   },
   "outputs": [
    {
     "data": {
      "text/plain": [
       "host_identity_verified\n",
       "f    13159\n",
       "t     6640\n",
       "Name: count, dtype: int64"
      ]
     },
     "execution_count": 22,
     "metadata": {},
     "output_type": "execute_result"
    }
   ],
   "source": [
    "df['host_identity_verified'].value_counts()"
   ]
  },
  {
   "cell_type": "code",
   "execution_count": 23,
   "id": "e6cff556",
   "metadata": {
    "execution": {
     "iopub.execute_input": "2024-05-10T21:57:49.563755Z",
     "iopub.status.busy": "2024-05-10T21:57:49.562676Z",
     "iopub.status.idle": "2024-05-10T21:57:49.571870Z",
     "shell.execute_reply": "2024-05-10T21:57:49.570474Z"
    },
    "papermill": {
     "duration": 0.033328,
     "end_time": "2024-05-10T21:57:49.574334",
     "exception": false,
     "start_time": "2024-05-10T21:57:49.541006",
     "status": "completed"
    },
    "tags": []
   },
   "outputs": [],
   "source": [
    "df['host_identity_verified'] = df['host_identity_verified'].map({\n",
    "    'f': 0,\n",
    "    't': 1,\n",
    "    None: 0,\n",
    "    np.nan: 0\n",
    "}) "
   ]
  },
  {
   "cell_type": "code",
   "execution_count": 24,
   "id": "e24d703a",
   "metadata": {
    "execution": {
     "iopub.execute_input": "2024-05-10T21:57:49.612298Z",
     "iopub.status.busy": "2024-05-10T21:57:49.611904Z",
     "iopub.status.idle": "2024-05-10T21:57:49.621320Z",
     "shell.execute_reply": "2024-05-10T21:57:49.620014Z"
    },
    "papermill": {
     "duration": 0.031587,
     "end_time": "2024-05-10T21:57:49.623679",
     "exception": false,
     "start_time": "2024-05-10T21:57:49.592092",
     "status": "completed"
    },
    "tags": []
   },
   "outputs": [
    {
     "data": {
      "text/plain": [
       "host_identity_verified\n",
       "0    13193\n",
       "1     6640\n",
       "Name: count, dtype: int64"
      ]
     },
     "execution_count": 24,
     "metadata": {},
     "output_type": "execute_result"
    }
   ],
   "source": [
    "df['host_identity_verified'].value_counts()"
   ]
  },
  {
   "cell_type": "markdown",
   "id": "febf94ff",
   "metadata": {
    "papermill": {
     "duration": 0.017684,
     "end_time": "2024-05-10T21:57:49.660674",
     "exception": false,
     "start_time": "2024-05-10T21:57:49.642990",
     "status": "completed"
    },
    "tags": []
   },
   "source": [
    "## is_location_exact"
   ]
  },
  {
   "cell_type": "code",
   "execution_count": 25,
   "id": "6a908375",
   "metadata": {
    "execution": {
     "iopub.execute_input": "2024-05-10T21:57:49.700305Z",
     "iopub.status.busy": "2024-05-10T21:57:49.699839Z",
     "iopub.status.idle": "2024-05-10T21:57:49.710034Z",
     "shell.execute_reply": "2024-05-10T21:57:49.708772Z"
    },
    "papermill": {
     "duration": 0.03257,
     "end_time": "2024-05-10T21:57:49.712367",
     "exception": false,
     "start_time": "2024-05-10T21:57:49.679797",
     "status": "completed"
    },
    "tags": []
   },
   "outputs": [
    {
     "data": {
      "text/plain": [
       "is_location_exact\n",
       "t    13349\n",
       "f     6484\n",
       "Name: count, dtype: int64"
      ]
     },
     "execution_count": 25,
     "metadata": {},
     "output_type": "execute_result"
    }
   ],
   "source": [
    "df['is_location_exact'].value_counts()"
   ]
  },
  {
   "cell_type": "code",
   "execution_count": 26,
   "id": "7acd82ee",
   "metadata": {
    "execution": {
     "iopub.execute_input": "2024-05-10T21:57:49.752702Z",
     "iopub.status.busy": "2024-05-10T21:57:49.751408Z",
     "iopub.status.idle": "2024-05-10T21:57:49.759478Z",
     "shell.execute_reply": "2024-05-10T21:57:49.758113Z"
    },
    "papermill": {
     "duration": 0.031264,
     "end_time": "2024-05-10T21:57:49.762203",
     "exception": false,
     "start_time": "2024-05-10T21:57:49.730939",
     "status": "completed"
    },
    "tags": []
   },
   "outputs": [],
   "source": [
    "df['is_location_exact'] = df['is_location_exact'].map({\n",
    "    'f': 0,\n",
    "    't': 1,\n",
    "    None: 1,\n",
    "    np.nan: 1\n",
    "}) "
   ]
  },
  {
   "cell_type": "code",
   "execution_count": 27,
   "id": "b01b186a",
   "metadata": {
    "execution": {
     "iopub.execute_input": "2024-05-10T21:57:49.803330Z",
     "iopub.status.busy": "2024-05-10T21:57:49.802894Z",
     "iopub.status.idle": "2024-05-10T21:57:49.811613Z",
     "shell.execute_reply": "2024-05-10T21:57:49.810406Z"
    },
    "papermill": {
     "duration": 0.031651,
     "end_time": "2024-05-10T21:57:49.813974",
     "exception": false,
     "start_time": "2024-05-10T21:57:49.782323",
     "status": "completed"
    },
    "tags": []
   },
   "outputs": [
    {
     "data": {
      "text/plain": [
       "is_location_exact\n",
       "1    13349\n",
       "0     6484\n",
       "Name: count, dtype: int64"
      ]
     },
     "execution_count": 27,
     "metadata": {},
     "output_type": "execute_result"
    }
   ],
   "source": [
    "df['is_location_exact'].value_counts()"
   ]
  },
  {
   "cell_type": "markdown",
   "id": "8cf866f5",
   "metadata": {
    "papermill": {
     "duration": 0.017779,
     "end_time": "2024-05-10T21:57:49.849974",
     "exception": false,
     "start_time": "2024-05-10T21:57:49.832195",
     "status": "completed"
    },
    "tags": []
   },
   "source": [
    "## instant_bookable"
   ]
  },
  {
   "cell_type": "code",
   "execution_count": 28,
   "id": "98dc93ca",
   "metadata": {
    "execution": {
     "iopub.execute_input": "2024-05-10T21:57:49.887983Z",
     "iopub.status.busy": "2024-05-10T21:57:49.887529Z",
     "iopub.status.idle": "2024-05-10T21:57:49.897659Z",
     "shell.execute_reply": "2024-05-10T21:57:49.896696Z"
    },
    "papermill": {
     "duration": 0.031856,
     "end_time": "2024-05-10T21:57:49.899691",
     "exception": false,
     "start_time": "2024-05-10T21:57:49.867835",
     "status": "completed"
    },
    "tags": []
   },
   "outputs": [
    {
     "data": {
      "text/plain": [
       "instant_bookable\n",
       "t    11132\n",
       "f     8701\n",
       "Name: count, dtype: int64"
      ]
     },
     "execution_count": 28,
     "metadata": {},
     "output_type": "execute_result"
    }
   ],
   "source": [
    "df['instant_bookable'].value_counts()"
   ]
  },
  {
   "cell_type": "code",
   "execution_count": 29,
   "id": "c112a1e3",
   "metadata": {
    "execution": {
     "iopub.execute_input": "2024-05-10T21:57:49.938368Z",
     "iopub.status.busy": "2024-05-10T21:57:49.937853Z",
     "iopub.status.idle": "2024-05-10T21:57:49.945835Z",
     "shell.execute_reply": "2024-05-10T21:57:49.944635Z"
    },
    "papermill": {
     "duration": 0.029649,
     "end_time": "2024-05-10T21:57:49.948249",
     "exception": false,
     "start_time": "2024-05-10T21:57:49.918600",
     "status": "completed"
    },
    "tags": []
   },
   "outputs": [],
   "source": [
    "df['instant_bookable'] = df['instant_bookable'].map({\n",
    "    'f': 0,\n",
    "    't': 1,\n",
    "    None: 1,\n",
    "    np.nan: 1\n",
    "}) "
   ]
  },
  {
   "cell_type": "code",
   "execution_count": 30,
   "id": "a2e9bff0",
   "metadata": {
    "execution": {
     "iopub.execute_input": "2024-05-10T21:57:49.986810Z",
     "iopub.status.busy": "2024-05-10T21:57:49.986149Z",
     "iopub.status.idle": "2024-05-10T21:57:49.995371Z",
     "shell.execute_reply": "2024-05-10T21:57:49.994229Z"
    },
    "papermill": {
     "duration": 0.031256,
     "end_time": "2024-05-10T21:57:49.997638",
     "exception": false,
     "start_time": "2024-05-10T21:57:49.966382",
     "status": "completed"
    },
    "tags": []
   },
   "outputs": [
    {
     "data": {
      "text/plain": [
       "instant_bookable\n",
       "1    11132\n",
       "0     8701\n",
       "Name: count, dtype: int64"
      ]
     },
     "execution_count": 30,
     "metadata": {},
     "output_type": "execute_result"
    }
   ],
   "source": [
    "df['instant_bookable'].value_counts()"
   ]
  },
  {
   "cell_type": "markdown",
   "id": "53a8b54d",
   "metadata": {
    "papermill": {
     "duration": 0.018137,
     "end_time": "2024-05-10T21:57:50.034150",
     "exception": false,
     "start_time": "2024-05-10T21:57:50.016013",
     "status": "completed"
    },
    "tags": []
   },
   "source": [
    "# Categorical Data"
   ]
  },
  {
   "cell_type": "code",
   "execution_count": 31,
   "id": "cc2758b4",
   "metadata": {
    "execution": {
     "iopub.execute_input": "2024-05-10T21:57:50.074349Z",
     "iopub.status.busy": "2024-05-10T21:57:50.073027Z",
     "iopub.status.idle": "2024-05-10T21:57:50.106436Z",
     "shell.execute_reply": "2024-05-10T21:57:50.105628Z"
    },
    "papermill": {
     "duration": 0.055987,
     "end_time": "2024-05-10T21:57:50.109032",
     "exception": false,
     "start_time": "2024-05-10T21:57:50.053045",
     "status": "completed"
    },
    "tags": []
   },
   "outputs": [],
   "source": [
    "from wolta.data_tools import make_numerics\n",
    "\n",
    "df['host_response_time'] = make_numerics(df['host_response_time'])\n",
    "df['host_neighbourhood'] = make_numerics(df['host_neighbourhood'])\n",
    "df['street'] = make_numerics(df['street'])\n",
    "df['neighbourhood'] = make_numerics(df['neighbourhood'])\n",
    "df['neighbourhood_cleansed'] = make_numerics(df['neighbourhood_cleansed'])\n",
    "df['neighbourhood_group_cleansed'] = make_numerics(df['neighbourhood_group_cleansed'])\n",
    "df['city'] = make_numerics(df['city'])\n",
    "df['property_type'] = make_numerics(df['property_type'])\n",
    "df['room_type'] = make_numerics(df['room_type'])"
   ]
  },
  {
   "cell_type": "markdown",
   "id": "8fe021e9",
   "metadata": {
    "papermill": {
     "duration": 0.01794,
     "end_time": "2024-05-10T21:57:50.145176",
     "exception": false,
     "start_time": "2024-05-10T21:57:50.127236",
     "status": "completed"
    },
    "tags": []
   },
   "source": [
    "# Type Casting"
   ]
  },
  {
   "cell_type": "markdown",
   "id": "f1a17254",
   "metadata": {
    "papermill": {
     "duration": 0.017817,
     "end_time": "2024-05-10T21:57:50.181000",
     "exception": false,
     "start_time": "2024-05-10T21:57:50.163183",
     "status": "completed"
    },
    "tags": []
   },
   "source": [
    "## host_response_rate"
   ]
  },
  {
   "cell_type": "code",
   "execution_count": 32,
   "id": "04a55c2e",
   "metadata": {
    "execution": {
     "iopub.execute_input": "2024-05-10T21:57:50.219268Z",
     "iopub.status.busy": "2024-05-10T21:57:50.218898Z",
     "iopub.status.idle": "2024-05-10T21:57:50.226745Z",
     "shell.execute_reply": "2024-05-10T21:57:50.225622Z"
    },
    "papermill": {
     "duration": 0.029794,
     "end_time": "2024-05-10T21:57:50.229008",
     "exception": false,
     "start_time": "2024-05-10T21:57:50.199214",
     "status": "completed"
    },
    "tags": []
   },
   "outputs": [
    {
     "data": {
      "text/plain": [
       "0     99%\n",
       "1     99%\n",
       "2    100%\n",
       "3    100%\n",
       "4    100%\n",
       "Name: host_response_rate, dtype: object"
      ]
     },
     "execution_count": 32,
     "metadata": {},
     "output_type": "execute_result"
    }
   ],
   "source": [
    "df['host_response_rate'].head()"
   ]
  },
  {
   "cell_type": "code",
   "execution_count": 33,
   "id": "a8e11efd",
   "metadata": {
    "execution": {
     "iopub.execute_input": "2024-05-10T21:57:50.267877Z",
     "iopub.status.busy": "2024-05-10T21:57:50.267434Z",
     "iopub.status.idle": "2024-05-10T21:57:50.510103Z",
     "shell.execute_reply": "2024-05-10T21:57:50.508543Z"
    },
    "papermill": {
     "duration": 0.265931,
     "end_time": "2024-05-10T21:57:50.513390",
     "exception": false,
     "start_time": "2024-05-10T21:57:50.247459",
     "status": "completed"
    },
    "tags": []
   },
   "outputs": [],
   "source": [
    "df['host_response_rate'] = df['host_response_rate'].fillna(0)\n",
    "\n",
    "for i in range(df.shape[0]):\n",
    "    df['host_response_rate'].values[i] = int(str(df['host_response_rate'].values[i]).replace('%', ''))"
   ]
  },
  {
   "cell_type": "code",
   "execution_count": 34,
   "id": "d122d64b",
   "metadata": {
    "execution": {
     "iopub.execute_input": "2024-05-10T21:57:50.558204Z",
     "iopub.status.busy": "2024-05-10T21:57:50.557501Z",
     "iopub.status.idle": "2024-05-10T21:57:50.567892Z",
     "shell.execute_reply": "2024-05-10T21:57:50.565997Z"
    },
    "papermill": {
     "duration": 0.036613,
     "end_time": "2024-05-10T21:57:50.570363",
     "exception": false,
     "start_time": "2024-05-10T21:57:50.533750",
     "status": "completed"
    },
    "tags": []
   },
   "outputs": [
    {
     "data": {
      "text/plain": [
       "0     99\n",
       "1     99\n",
       "2    100\n",
       "3    100\n",
       "4    100\n",
       "Name: host_response_rate, dtype: object"
      ]
     },
     "execution_count": 34,
     "metadata": {},
     "output_type": "execute_result"
    }
   ],
   "source": [
    "df['host_response_rate'].head()"
   ]
  },
  {
   "cell_type": "markdown",
   "id": "81398aa8",
   "metadata": {
    "papermill": {
     "duration": 0.018272,
     "end_time": "2024-05-10T21:57:50.607062",
     "exception": false,
     "start_time": "2024-05-10T21:57:50.588790",
     "status": "completed"
    },
    "tags": []
   },
   "source": [
    "## price"
   ]
  },
  {
   "cell_type": "code",
   "execution_count": 35,
   "id": "c75e3c8d",
   "metadata": {
    "execution": {
     "iopub.execute_input": "2024-05-10T21:57:50.646371Z",
     "iopub.status.busy": "2024-05-10T21:57:50.645947Z",
     "iopub.status.idle": "2024-05-10T21:57:50.654171Z",
     "shell.execute_reply": "2024-05-10T21:57:50.653049Z"
    },
    "papermill": {
     "duration": 0.030722,
     "end_time": "2024-05-10T21:57:50.656642",
     "exception": false,
     "start_time": "2024-05-10T21:57:50.625920",
     "status": "completed"
    },
    "tags": []
   },
   "outputs": [
    {
     "data": {
      "text/plain": [
       "0    $130.00\n",
       "1     $60.00\n",
       "2     $33.00\n",
       "3    $210.00\n",
       "4     $45.00\n",
       "Name: price, dtype: object"
      ]
     },
     "execution_count": 35,
     "metadata": {},
     "output_type": "execute_result"
    }
   ],
   "source": [
    "df['price'].head()"
   ]
  },
  {
   "cell_type": "code",
   "execution_count": 36,
   "id": "01d0ce66",
   "metadata": {
    "execution": {
     "iopub.execute_input": "2024-05-10T21:57:50.696719Z",
     "iopub.status.busy": "2024-05-10T21:57:50.695823Z",
     "iopub.status.idle": "2024-05-10T21:57:50.932197Z",
     "shell.execute_reply": "2024-05-10T21:57:50.930962Z"
    },
    "papermill": {
     "duration": 0.259572,
     "end_time": "2024-05-10T21:57:50.934887",
     "exception": false,
     "start_time": "2024-05-10T21:57:50.675315",
     "status": "completed"
    },
    "tags": []
   },
   "outputs": [],
   "source": [
    "df['price'] = df['price'].fillna(0)\n",
    "\n",
    "for i in range(df.shape[0]):\n",
    "    df['price'].values[i] = float(str(df['price'].values[i]).replace('$', '').replace(',', ''))"
   ]
  },
  {
   "cell_type": "code",
   "execution_count": 37,
   "id": "5ef8b4c0",
   "metadata": {
    "execution": {
     "iopub.execute_input": "2024-05-10T21:57:50.975352Z",
     "iopub.status.busy": "2024-05-10T21:57:50.974920Z",
     "iopub.status.idle": "2024-05-10T21:57:50.982297Z",
     "shell.execute_reply": "2024-05-10T21:57:50.981302Z"
    },
    "papermill": {
     "duration": 0.030276,
     "end_time": "2024-05-10T21:57:50.984519",
     "exception": false,
     "start_time": "2024-05-10T21:57:50.954243",
     "status": "completed"
    },
    "tags": []
   },
   "outputs": [
    {
     "data": {
      "text/plain": [
       "0    130.0\n",
       "1     60.0\n",
       "2     33.0\n",
       "3    210.0\n",
       "4     45.0\n",
       "Name: price, dtype: object"
      ]
     },
     "execution_count": 37,
     "metadata": {},
     "output_type": "execute_result"
    }
   ],
   "source": [
    "df['price'].head()"
   ]
  },
  {
   "cell_type": "markdown",
   "id": "2a13172a",
   "metadata": {
    "papermill": {
     "duration": 0.018491,
     "end_time": "2024-05-10T21:57:51.023356",
     "exception": false,
     "start_time": "2024-05-10T21:57:51.004865",
     "status": "completed"
    },
    "tags": []
   },
   "source": [
    "# Counting"
   ]
  },
  {
   "cell_type": "markdown",
   "id": "272b6af0",
   "metadata": {
    "papermill": {
     "duration": 0.018512,
     "end_time": "2024-05-10T21:57:51.060536",
     "exception": false,
     "start_time": "2024-05-10T21:57:51.042024",
     "status": "completed"
    },
    "tags": []
   },
   "source": [
    "## host_verifications"
   ]
  },
  {
   "cell_type": "code",
   "execution_count": 38,
   "id": "eca49282",
   "metadata": {
    "execution": {
     "iopub.execute_input": "2024-05-10T21:57:51.102073Z",
     "iopub.status.busy": "2024-05-10T21:57:51.101130Z",
     "iopub.status.idle": "2024-05-10T21:57:51.109391Z",
     "shell.execute_reply": "2024-05-10T21:57:51.108188Z"
    },
    "papermill": {
     "duration": 0.030782,
     "end_time": "2024-05-10T21:57:51.111814",
     "exception": false,
     "start_time": "2024-05-10T21:57:51.081032",
     "status": "completed"
    },
    "tags": []
   },
   "outputs": [
    {
     "data": {
      "text/plain": [
       "0    ['email', 'phone', 'reviews', 'jumio', 'govern...\n",
       "1    ['email', 'phone', 'reviews', 'jumio', 'govern...\n",
       "2    ['email', 'phone', 'reviews', 'jumio', 'offlin...\n",
       "3    ['email', 'phone', 'reviews', 'jumio', 'offlin...\n",
       "4    ['email', 'phone', 'reviews', 'jumio', 'offlin...\n",
       "Name: host_verifications, dtype: object"
      ]
     },
     "execution_count": 38,
     "metadata": {},
     "output_type": "execute_result"
    }
   ],
   "source": [
    "df['host_verifications'].head()"
   ]
  },
  {
   "cell_type": "code",
   "execution_count": 39,
   "id": "54435c02",
   "metadata": {
    "execution": {
     "iopub.execute_input": "2024-05-10T21:57:51.152794Z",
     "iopub.status.busy": "2024-05-10T21:57:51.152390Z",
     "iopub.status.idle": "2024-05-10T21:57:51.501345Z",
     "shell.execute_reply": "2024-05-10T21:57:51.500200Z"
    },
    "papermill": {
     "duration": 0.372905,
     "end_time": "2024-05-10T21:57:51.504046",
     "exception": false,
     "start_time": "2024-05-10T21:57:51.131141",
     "status": "completed"
    },
    "tags": []
   },
   "outputs": [],
   "source": [
    "df['host_verifications'] = df['host_verifications'].fillna(0)\n",
    "\n",
    "for i in range(df.shape[0]):\n",
    "    if df['host_verifications'].values[i] == '[]':\n",
    "        df['host_verifications'].values[i] = 0\n",
    "    else:\n",
    "        df['host_verifications'].values[i] = int(len(str(df['host_verifications'].values[i]).split(',')))"
   ]
  },
  {
   "cell_type": "markdown",
   "id": "30a1807c",
   "metadata": {
    "papermill": {
     "duration": 0.020008,
     "end_time": "2024-05-10T21:57:51.543079",
     "exception": false,
     "start_time": "2024-05-10T21:57:51.523071",
     "status": "completed"
    },
    "tags": []
   },
   "source": [
    "## amenities"
   ]
  },
  {
   "cell_type": "code",
   "execution_count": 40,
   "id": "7e94dd94",
   "metadata": {
    "execution": {
     "iopub.execute_input": "2024-05-10T21:57:51.584259Z",
     "iopub.status.busy": "2024-05-10T21:57:51.583465Z",
     "iopub.status.idle": "2024-05-10T21:57:51.591405Z",
     "shell.execute_reply": "2024-05-10T21:57:51.590189Z"
    },
    "papermill": {
     "duration": 0.031562,
     "end_time": "2024-05-10T21:57:51.594016",
     "exception": false,
     "start_time": "2024-05-10T21:57:51.562454",
     "status": "completed"
    },
    "tags": []
   },
   "outputs": [
    {
     "data": {
      "text/plain": [
       "0    {TV,Internet,Wifi,\"Air conditioning\",\"Wheelcha...\n",
       "1    {TV,Internet,Wifi,\"Air conditioning\",\"Wheelcha...\n",
       "2    {TV,Wifi,Kitchen,\"Paid parking off premises\",E...\n",
       "3    {TV,Internet,Wifi,\"Wheelchair accessible\",Kitc...\n",
       "4    {TV,Wifi,\"Air conditioning\",Kitchen,\"Smoking a...\n",
       "Name: amenities, dtype: object"
      ]
     },
     "execution_count": 40,
     "metadata": {},
     "output_type": "execute_result"
    }
   ],
   "source": [
    "df['amenities'].head()"
   ]
  },
  {
   "cell_type": "code",
   "execution_count": 41,
   "id": "f5422589",
   "metadata": {
    "execution": {
     "iopub.execute_input": "2024-05-10T21:57:51.635095Z",
     "iopub.status.busy": "2024-05-10T21:57:51.634288Z",
     "iopub.status.idle": "2024-05-10T21:57:51.999328Z",
     "shell.execute_reply": "2024-05-10T21:57:51.998317Z"
    },
    "papermill": {
     "duration": 0.388116,
     "end_time": "2024-05-10T21:57:52.001956",
     "exception": false,
     "start_time": "2024-05-10T21:57:51.613840",
     "status": "completed"
    },
    "tags": []
   },
   "outputs": [],
   "source": [
    "df['amenities'] = df['amenities'].fillna(0)\n",
    "\n",
    "for i in range(df.shape[0]):\n",
    "    if df['amenities'].values[i] == '{}':\n",
    "        df['amenities'].values[i] = 0\n",
    "    else:\n",
    "        df['amenities'].values[i] = int(len(str(df['amenities'].values[i]).split(',')))"
   ]
  },
  {
   "cell_type": "markdown",
   "id": "d903445d",
   "metadata": {
    "papermill": {
     "duration": 0.018458,
     "end_time": "2024-05-10T21:57:52.039215",
     "exception": false,
     "start_time": "2024-05-10T21:57:52.020757",
     "status": "completed"
    },
    "tags": []
   },
   "source": [
    "# Last Data Analysing"
   ]
  },
  {
   "cell_type": "code",
   "execution_count": 42,
   "id": "27abf75a",
   "metadata": {
    "execution": {
     "iopub.execute_input": "2024-05-10T21:57:52.082065Z",
     "iopub.status.busy": "2024-05-10T21:57:52.081378Z",
     "iopub.status.idle": "2024-05-10T21:57:52.179715Z",
     "shell.execute_reply": "2024-05-10T21:57:52.176891Z"
    },
    "papermill": {
     "duration": 0.124753,
     "end_time": "2024-05-10T21:57:52.182895",
     "exception": false,
     "start_time": "2024-05-10T21:57:52.058142",
     "status": "completed"
    },
    "tags": []
   },
   "outputs": [
    {
     "name": "stderr",
     "output_type": "stream",
     "text": [
      "/tmp/ipykernel_18/2269220089.py:2: FutureWarning: Downcasting object dtype arrays on .fillna, .ffill, .bfill is deprecated and will change in a future version. Call result.infer_objects(copy=False) instead. To opt-in to the future behavior, set `pd.set_option('future.no_silent_downcasting', True)`\n",
      "  df[col] = df[col].fillna(0)\n"
     ]
    }
   ],
   "source": [
    "for col in df.columns:\n",
    "    df[col] = df[col].fillna(0)"
   ]
  },
  {
   "cell_type": "code",
   "execution_count": 43,
   "id": "047a3976",
   "metadata": {
    "execution": {
     "iopub.execute_input": "2024-05-10T21:57:52.224881Z",
     "iopub.status.busy": "2024-05-10T21:57:52.224231Z",
     "iopub.status.idle": "2024-05-10T21:57:52.253750Z",
     "shell.execute_reply": "2024-05-10T21:57:52.252631Z"
    },
    "papermill": {
     "duration": 0.053437,
     "end_time": "2024-05-10T21:57:52.256059",
     "exception": false,
     "start_time": "2024-05-10T21:57:52.202622",
     "status": "completed"
    },
    "tags": []
   },
   "outputs": [
    {
     "data": {
      "text/html": [
       "<div>\n",
       "<style scoped>\n",
       "    .dataframe tbody tr th:only-of-type {\n",
       "        vertical-align: middle;\n",
       "    }\n",
       "\n",
       "    .dataframe tbody tr th {\n",
       "        vertical-align: top;\n",
       "    }\n",
       "\n",
       "    .dataframe thead th {\n",
       "        text-align: right;\n",
       "    }\n",
       "</style>\n",
       "<table border=\"1\" class=\"dataframe\">\n",
       "  <thead>\n",
       "    <tr style=\"text-align: right;\">\n",
       "      <th></th>\n",
       "      <th>name</th>\n",
       "      <th>summary</th>\n",
       "      <th>space</th>\n",
       "      <th>description</th>\n",
       "      <th>neighborhood_overview</th>\n",
       "      <th>access</th>\n",
       "      <th>picture_url</th>\n",
       "      <th>host_response_time</th>\n",
       "      <th>host_response_rate</th>\n",
       "      <th>host_is_superhost</th>\n",
       "      <th>host_neighbourhood</th>\n",
       "      <th>host_listings_count</th>\n",
       "      <th>host_verifications</th>\n",
       "      <th>host_has_profile_pic</th>\n",
       "      <th>host_identity_verified</th>\n",
       "      <th>street</th>\n",
       "      <th>neighbourhood</th>\n",
       "      <th>neighbourhood_cleansed</th>\n",
       "      <th>neighbourhood_group_cleansed</th>\n",
       "      <th>city</th>\n",
       "      <th>latitude</th>\n",
       "      <th>longitude</th>\n",
       "      <th>is_location_exact</th>\n",
       "      <th>property_type</th>\n",
       "      <th>room_type</th>\n",
       "      <th>accommodates</th>\n",
       "      <th>bathrooms</th>\n",
       "      <th>bedrooms</th>\n",
       "      <th>beds</th>\n",
       "      <th>amenities</th>\n",
       "      <th>price</th>\n",
       "      <th>minimum_nights</th>\n",
       "      <th>maximum_nights</th>\n",
       "      <th>availability_30</th>\n",
       "      <th>availability_60</th>\n",
       "      <th>availability_90</th>\n",
       "      <th>availability_365</th>\n",
       "      <th>number_of_reviews</th>\n",
       "      <th>number_of_reviews_ltm</th>\n",
       "      <th>instant_bookable</th>\n",
       "    </tr>\n",
       "  </thead>\n",
       "  <tbody>\n",
       "    <tr>\n",
       "      <th>0</th>\n",
       "      <td>1</td>\n",
       "      <td>1</td>\n",
       "      <td>1</td>\n",
       "      <td>1</td>\n",
       "      <td>1</td>\n",
       "      <td>1</td>\n",
       "      <td>1</td>\n",
       "      <td>0</td>\n",
       "      <td>99</td>\n",
       "      <td>0</td>\n",
       "      <td>0</td>\n",
       "      <td>45.0</td>\n",
       "      <td>5</td>\n",
       "      <td>1</td>\n",
       "      <td>1</td>\n",
       "      <td>0</td>\n",
       "      <td>0</td>\n",
       "      <td>0</td>\n",
       "      <td>0</td>\n",
       "      <td>0</td>\n",
       "      <td>41.40889</td>\n",
       "      <td>2.18555</td>\n",
       "      <td>1</td>\n",
       "      <td>0</td>\n",
       "      <td>0</td>\n",
       "      <td>6</td>\n",
       "      <td>1.0</td>\n",
       "      <td>2.0</td>\n",
       "      <td>4.0</td>\n",
       "      <td>18</td>\n",
       "      <td>130.0</td>\n",
       "      <td>3</td>\n",
       "      <td>730</td>\n",
       "      <td>0</td>\n",
       "      <td>0</td>\n",
       "      <td>0</td>\n",
       "      <td>182</td>\n",
       "      <td>1</td>\n",
       "      <td>0</td>\n",
       "      <td>0</td>\n",
       "    </tr>\n",
       "    <tr>\n",
       "      <th>1</th>\n",
       "      <td>1</td>\n",
       "      <td>1</td>\n",
       "      <td>1</td>\n",
       "      <td>1</td>\n",
       "      <td>1</td>\n",
       "      <td>1</td>\n",
       "      <td>1</td>\n",
       "      <td>0</td>\n",
       "      <td>99</td>\n",
       "      <td>0</td>\n",
       "      <td>0</td>\n",
       "      <td>45.0</td>\n",
       "      <td>5</td>\n",
       "      <td>1</td>\n",
       "      <td>1</td>\n",
       "      <td>0</td>\n",
       "      <td>1</td>\n",
       "      <td>1</td>\n",
       "      <td>1</td>\n",
       "      <td>0</td>\n",
       "      <td>41.40420</td>\n",
       "      <td>2.17306</td>\n",
       "      <td>1</td>\n",
       "      <td>0</td>\n",
       "      <td>0</td>\n",
       "      <td>8</td>\n",
       "      <td>2.0</td>\n",
       "      <td>3.0</td>\n",
       "      <td>6.0</td>\n",
       "      <td>22</td>\n",
       "      <td>60.0</td>\n",
       "      <td>1</td>\n",
       "      <td>1125</td>\n",
       "      <td>3</td>\n",
       "      <td>20</td>\n",
       "      <td>50</td>\n",
       "      <td>129</td>\n",
       "      <td>15</td>\n",
       "      <td>10</td>\n",
       "      <td>1</td>\n",
       "    </tr>\n",
       "    <tr>\n",
       "      <th>2</th>\n",
       "      <td>1</td>\n",
       "      <td>1</td>\n",
       "      <td>1</td>\n",
       "      <td>1</td>\n",
       "      <td>1</td>\n",
       "      <td>1</td>\n",
       "      <td>1</td>\n",
       "      <td>1</td>\n",
       "      <td>100</td>\n",
       "      <td>0</td>\n",
       "      <td>1</td>\n",
       "      <td>2.0</td>\n",
       "      <td>6</td>\n",
       "      <td>1</td>\n",
       "      <td>1</td>\n",
       "      <td>1</td>\n",
       "      <td>0</td>\n",
       "      <td>2</td>\n",
       "      <td>0</td>\n",
       "      <td>0</td>\n",
       "      <td>41.40560</td>\n",
       "      <td>2.19821</td>\n",
       "      <td>1</td>\n",
       "      <td>0</td>\n",
       "      <td>1</td>\n",
       "      <td>2</td>\n",
       "      <td>1.0</td>\n",
       "      <td>1.0</td>\n",
       "      <td>1.0</td>\n",
       "      <td>41</td>\n",
       "      <td>33.0</td>\n",
       "      <td>2</td>\n",
       "      <td>1125</td>\n",
       "      <td>4</td>\n",
       "      <td>8</td>\n",
       "      <td>15</td>\n",
       "      <td>15</td>\n",
       "      <td>119</td>\n",
       "      <td>36</td>\n",
       "      <td>0</td>\n",
       "    </tr>\n",
       "    <tr>\n",
       "      <th>3</th>\n",
       "      <td>1</td>\n",
       "      <td>1</td>\n",
       "      <td>1</td>\n",
       "      <td>1</td>\n",
       "      <td>1</td>\n",
       "      <td>1</td>\n",
       "      <td>1</td>\n",
       "      <td>0</td>\n",
       "      <td>100</td>\n",
       "      <td>1</td>\n",
       "      <td>2</td>\n",
       "      <td>5.0</td>\n",
       "      <td>8</td>\n",
       "      <td>1</td>\n",
       "      <td>1</td>\n",
       "      <td>2</td>\n",
       "      <td>0</td>\n",
       "      <td>3</td>\n",
       "      <td>0</td>\n",
       "      <td>1</td>\n",
       "      <td>41.41203</td>\n",
       "      <td>2.22114</td>\n",
       "      <td>0</td>\n",
       "      <td>0</td>\n",
       "      <td>0</td>\n",
       "      <td>6</td>\n",
       "      <td>2.0</td>\n",
       "      <td>3.0</td>\n",
       "      <td>8.0</td>\n",
       "      <td>46</td>\n",
       "      <td>210.0</td>\n",
       "      <td>3</td>\n",
       "      <td>1125</td>\n",
       "      <td>11</td>\n",
       "      <td>33</td>\n",
       "      <td>63</td>\n",
       "      <td>318</td>\n",
       "      <td>45</td>\n",
       "      <td>16</td>\n",
       "      <td>1</td>\n",
       "    </tr>\n",
       "    <tr>\n",
       "      <th>4</th>\n",
       "      <td>1</td>\n",
       "      <td>1</td>\n",
       "      <td>1</td>\n",
       "      <td>1</td>\n",
       "      <td>1</td>\n",
       "      <td>1</td>\n",
       "      <td>1</td>\n",
       "      <td>0</td>\n",
       "      <td>100</td>\n",
       "      <td>1</td>\n",
       "      <td>3</td>\n",
       "      <td>1.0</td>\n",
       "      <td>8</td>\n",
       "      <td>1</td>\n",
       "      <td>1</td>\n",
       "      <td>3</td>\n",
       "      <td>2</td>\n",
       "      <td>4</td>\n",
       "      <td>2</td>\n",
       "      <td>0</td>\n",
       "      <td>41.40145</td>\n",
       "      <td>2.15645</td>\n",
       "      <td>1</td>\n",
       "      <td>0</td>\n",
       "      <td>1</td>\n",
       "      <td>2</td>\n",
       "      <td>1.0</td>\n",
       "      <td>1.0</td>\n",
       "      <td>1.0</td>\n",
       "      <td>17</td>\n",
       "      <td>45.0</td>\n",
       "      <td>1</td>\n",
       "      <td>730</td>\n",
       "      <td>8</td>\n",
       "      <td>19</td>\n",
       "      <td>41</td>\n",
       "      <td>115</td>\n",
       "      <td>241</td>\n",
       "      <td>49</td>\n",
       "      <td>1</td>\n",
       "    </tr>\n",
       "  </tbody>\n",
       "</table>\n",
       "</div>"
      ],
      "text/plain": [
       "   name  summary  space  description  neighborhood_overview  access  \\\n",
       "0     1        1      1            1                      1       1   \n",
       "1     1        1      1            1                      1       1   \n",
       "2     1        1      1            1                      1       1   \n",
       "3     1        1      1            1                      1       1   \n",
       "4     1        1      1            1                      1       1   \n",
       "\n",
       "   picture_url  host_response_time  host_response_rate  host_is_superhost  \\\n",
       "0            1                   0                  99                  0   \n",
       "1            1                   0                  99                  0   \n",
       "2            1                   1                 100                  0   \n",
       "3            1                   0                 100                  1   \n",
       "4            1                   0                 100                  1   \n",
       "\n",
       "   host_neighbourhood  host_listings_count  host_verifications  \\\n",
       "0                   0                 45.0                   5   \n",
       "1                   0                 45.0                   5   \n",
       "2                   1                  2.0                   6   \n",
       "3                   2                  5.0                   8   \n",
       "4                   3                  1.0                   8   \n",
       "\n",
       "   host_has_profile_pic  host_identity_verified  street  neighbourhood  \\\n",
       "0                     1                       1       0              0   \n",
       "1                     1                       1       0              1   \n",
       "2                     1                       1       1              0   \n",
       "3                     1                       1       2              0   \n",
       "4                     1                       1       3              2   \n",
       "\n",
       "   neighbourhood_cleansed  neighbourhood_group_cleansed  city  latitude  \\\n",
       "0                       0                             0     0  41.40889   \n",
       "1                       1                             1     0  41.40420   \n",
       "2                       2                             0     0  41.40560   \n",
       "3                       3                             0     1  41.41203   \n",
       "4                       4                             2     0  41.40145   \n",
       "\n",
       "   longitude  is_location_exact  property_type  room_type  accommodates  \\\n",
       "0    2.18555                  1              0          0             6   \n",
       "1    2.17306                  1              0          0             8   \n",
       "2    2.19821                  1              0          1             2   \n",
       "3    2.22114                  0              0          0             6   \n",
       "4    2.15645                  1              0          1             2   \n",
       "\n",
       "   bathrooms  bedrooms  beds  amenities  price  minimum_nights  \\\n",
       "0        1.0       2.0   4.0         18  130.0               3   \n",
       "1        2.0       3.0   6.0         22   60.0               1   \n",
       "2        1.0       1.0   1.0         41   33.0               2   \n",
       "3        2.0       3.0   8.0         46  210.0               3   \n",
       "4        1.0       1.0   1.0         17   45.0               1   \n",
       "\n",
       "   maximum_nights  availability_30  availability_60  availability_90  \\\n",
       "0             730                0                0                0   \n",
       "1            1125                3               20               50   \n",
       "2            1125                4                8               15   \n",
       "3            1125               11               33               63   \n",
       "4             730                8               19               41   \n",
       "\n",
       "   availability_365  number_of_reviews  number_of_reviews_ltm  \\\n",
       "0               182                  1                      0   \n",
       "1               129                 15                     10   \n",
       "2                15                119                     36   \n",
       "3               318                 45                     16   \n",
       "4               115                241                     49   \n",
       "\n",
       "   instant_bookable  \n",
       "0                 0  \n",
       "1                 1  \n",
       "2                 0  \n",
       "3                 1  \n",
       "4                 1  "
      ]
     },
     "execution_count": 43,
     "metadata": {},
     "output_type": "execute_result"
    }
   ],
   "source": [
    "df.head()"
   ]
  },
  {
   "cell_type": "code",
   "execution_count": 44,
   "id": "8d1005c1",
   "metadata": {
    "execution": {
     "iopub.execute_input": "2024-05-10T21:57:52.297503Z",
     "iopub.status.busy": "2024-05-10T21:57:52.297092Z",
     "iopub.status.idle": "2024-05-10T21:57:52.446490Z",
     "shell.execute_reply": "2024-05-10T21:57:52.445382Z"
    },
    "papermill": {
     "duration": 0.1734,
     "end_time": "2024-05-10T21:57:52.449090",
     "exception": false,
     "start_time": "2024-05-10T21:57:52.275690",
     "status": "completed"
    },
    "tags": []
   },
   "outputs": [
    {
     "data": {
      "text/html": [
       "<div>\n",
       "<style scoped>\n",
       "    .dataframe tbody tr th:only-of-type {\n",
       "        vertical-align: middle;\n",
       "    }\n",
       "\n",
       "    .dataframe tbody tr th {\n",
       "        vertical-align: top;\n",
       "    }\n",
       "\n",
       "    .dataframe thead th {\n",
       "        text-align: right;\n",
       "    }\n",
       "</style>\n",
       "<table border=\"1\" class=\"dataframe\">\n",
       "  <thead>\n",
       "    <tr style=\"text-align: right;\">\n",
       "      <th></th>\n",
       "      <th>name</th>\n",
       "      <th>summary</th>\n",
       "      <th>space</th>\n",
       "      <th>description</th>\n",
       "      <th>neighborhood_overview</th>\n",
       "      <th>access</th>\n",
       "      <th>picture_url</th>\n",
       "      <th>host_response_time</th>\n",
       "      <th>host_response_rate</th>\n",
       "      <th>host_is_superhost</th>\n",
       "      <th>host_neighbourhood</th>\n",
       "      <th>host_listings_count</th>\n",
       "      <th>host_verifications</th>\n",
       "      <th>host_has_profile_pic</th>\n",
       "      <th>host_identity_verified</th>\n",
       "      <th>street</th>\n",
       "      <th>neighbourhood</th>\n",
       "      <th>neighbourhood_cleansed</th>\n",
       "      <th>neighbourhood_group_cleansed</th>\n",
       "      <th>city</th>\n",
       "      <th>latitude</th>\n",
       "      <th>longitude</th>\n",
       "      <th>is_location_exact</th>\n",
       "      <th>property_type</th>\n",
       "      <th>room_type</th>\n",
       "      <th>accommodates</th>\n",
       "      <th>bathrooms</th>\n",
       "      <th>bedrooms</th>\n",
       "      <th>beds</th>\n",
       "      <th>amenities</th>\n",
       "      <th>price</th>\n",
       "      <th>minimum_nights</th>\n",
       "      <th>maximum_nights</th>\n",
       "      <th>availability_30</th>\n",
       "      <th>availability_60</th>\n",
       "      <th>availability_90</th>\n",
       "      <th>availability_365</th>\n",
       "      <th>number_of_reviews</th>\n",
       "      <th>number_of_reviews_ltm</th>\n",
       "      <th>instant_bookable</th>\n",
       "    </tr>\n",
       "  </thead>\n",
       "  <tbody>\n",
       "    <tr>\n",
       "      <th>count</th>\n",
       "      <td>19833.0</td>\n",
       "      <td>19833.0</td>\n",
       "      <td>19833.0</td>\n",
       "      <td>19833.0</td>\n",
       "      <td>19833.0</td>\n",
       "      <td>19833.0</td>\n",
       "      <td>19833.0</td>\n",
       "      <td>19833.000000</td>\n",
       "      <td>19833.000000</td>\n",
       "      <td>19833.000000</td>\n",
       "      <td>19833.000000</td>\n",
       "      <td>19833.000000</td>\n",
       "      <td>19833.000000</td>\n",
       "      <td>19833.000000</td>\n",
       "      <td>19833.000000</td>\n",
       "      <td>19833.000000</td>\n",
       "      <td>19833.000000</td>\n",
       "      <td>19833.000000</td>\n",
       "      <td>19833.000000</td>\n",
       "      <td>19833.000000</td>\n",
       "      <td>19833.000000</td>\n",
       "      <td>19833.000000</td>\n",
       "      <td>19833.000000</td>\n",
       "      <td>19833.000000</td>\n",
       "      <td>19833.000000</td>\n",
       "      <td>19833.000000</td>\n",
       "      <td>19833.000000</td>\n",
       "      <td>19833.000000</td>\n",
       "      <td>19833.000000</td>\n",
       "      <td>19833.000000</td>\n",
       "      <td>19833.000000</td>\n",
       "      <td>19833.000000</td>\n",
       "      <td>1.983300e+04</td>\n",
       "      <td>19833.000000</td>\n",
       "      <td>19833.000000</td>\n",
       "      <td>19833.000000</td>\n",
       "      <td>19833.000000</td>\n",
       "      <td>19833.00000</td>\n",
       "      <td>19833.000000</td>\n",
       "      <td>19833.000000</td>\n",
       "    </tr>\n",
       "    <tr>\n",
       "      <th>mean</th>\n",
       "      <td>1.0</td>\n",
       "      <td>1.0</td>\n",
       "      <td>1.0</td>\n",
       "      <td>1.0</td>\n",
       "      <td>1.0</td>\n",
       "      <td>1.0</td>\n",
       "      <td>1.0</td>\n",
       "      <td>0.938537</td>\n",
       "      <td>81.686079</td>\n",
       "      <td>0.186659</td>\n",
       "      <td>17.667423</td>\n",
       "      <td>20.327636</td>\n",
       "      <td>5.294307</td>\n",
       "      <td>0.997882</td>\n",
       "      <td>0.334796</td>\n",
       "      <td>3.161045</td>\n",
       "      <td>13.829577</td>\n",
       "      <td>16.171280</td>\n",
       "      <td>3.066354</td>\n",
       "      <td>0.348661</td>\n",
       "      <td>41.392060</td>\n",
       "      <td>2.167585</td>\n",
       "      <td>0.673070</td>\n",
       "      <td>0.916755</td>\n",
       "      <td>0.532900</td>\n",
       "      <td>3.347502</td>\n",
       "      <td>1.317249</td>\n",
       "      <td>1.567337</td>\n",
       "      <td>2.253819</td>\n",
       "      <td>20.890738</td>\n",
       "      <td>129.624716</td>\n",
       "      <td>8.521303</td>\n",
       "      <td>2.172701e+05</td>\n",
       "      <td>8.245147</td>\n",
       "      <td>21.734584</td>\n",
       "      <td>37.139868</td>\n",
       "      <td>170.540009</td>\n",
       "      <td>32.81798</td>\n",
       "      <td>12.400847</td>\n",
       "      <td>0.561287</td>\n",
       "    </tr>\n",
       "    <tr>\n",
       "      <th>std</th>\n",
       "      <td>0.0</td>\n",
       "      <td>0.0</td>\n",
       "      <td>0.0</td>\n",
       "      <td>0.0</td>\n",
       "      <td>0.0</td>\n",
       "      <td>0.0</td>\n",
       "      <td>0.0</td>\n",
       "      <td>1.369694</td>\n",
       "      <td>34.242840</td>\n",
       "      <td>0.389647</td>\n",
       "      <td>18.354434</td>\n",
       "      <td>56.090909</td>\n",
       "      <td>2.265206</td>\n",
       "      <td>0.045971</td>\n",
       "      <td>0.471931</td>\n",
       "      <td>8.647119</td>\n",
       "      <td>11.357848</td>\n",
       "      <td>12.916614</td>\n",
       "      <td>2.441290</td>\n",
       "      <td>2.283573</td>\n",
       "      <td>0.014934</td>\n",
       "      <td>0.018054</td>\n",
       "      <td>0.469103</td>\n",
       "      <td>2.912150</td>\n",
       "      <td>0.519816</td>\n",
       "      <td>2.196285</td>\n",
       "      <td>0.643915</td>\n",
       "      <td>1.014923</td>\n",
       "      <td>1.882226</td>\n",
       "      <td>11.051660</td>\n",
       "      <td>423.999470</td>\n",
       "      <td>17.964452</td>\n",
       "      <td>2.156451e+07</td>\n",
       "      <td>9.111552</td>\n",
       "      <td>19.139073</td>\n",
       "      <td>29.110984</td>\n",
       "      <td>126.602977</td>\n",
       "      <td>58.31839</td>\n",
       "      <td>17.901569</td>\n",
       "      <td>0.496242</td>\n",
       "    </tr>\n",
       "    <tr>\n",
       "      <th>min</th>\n",
       "      <td>1.0</td>\n",
       "      <td>1.0</td>\n",
       "      <td>1.0</td>\n",
       "      <td>1.0</td>\n",
       "      <td>1.0</td>\n",
       "      <td>1.0</td>\n",
       "      <td>1.0</td>\n",
       "      <td>0.000000</td>\n",
       "      <td>0.000000</td>\n",
       "      <td>0.000000</td>\n",
       "      <td>0.000000</td>\n",
       "      <td>0.000000</td>\n",
       "      <td>0.000000</td>\n",
       "      <td>0.000000</td>\n",
       "      <td>0.000000</td>\n",
       "      <td>0.000000</td>\n",
       "      <td>0.000000</td>\n",
       "      <td>0.000000</td>\n",
       "      <td>0.000000</td>\n",
       "      <td>0.000000</td>\n",
       "      <td>41.349540</td>\n",
       "      <td>2.088380</td>\n",
       "      <td>0.000000</td>\n",
       "      <td>0.000000</td>\n",
       "      <td>0.000000</td>\n",
       "      <td>1.000000</td>\n",
       "      <td>0.000000</td>\n",
       "      <td>0.000000</td>\n",
       "      <td>0.000000</td>\n",
       "      <td>0.000000</td>\n",
       "      <td>7.000000</td>\n",
       "      <td>1.000000</td>\n",
       "      <td>1.000000e+00</td>\n",
       "      <td>0.000000</td>\n",
       "      <td>0.000000</td>\n",
       "      <td>0.000000</td>\n",
       "      <td>0.000000</td>\n",
       "      <td>0.00000</td>\n",
       "      <td>0.000000</td>\n",
       "      <td>0.000000</td>\n",
       "    </tr>\n",
       "    <tr>\n",
       "      <th>25%</th>\n",
       "      <td>1.0</td>\n",
       "      <td>1.0</td>\n",
       "      <td>1.0</td>\n",
       "      <td>1.0</td>\n",
       "      <td>1.0</td>\n",
       "      <td>1.0</td>\n",
       "      <td>1.0</td>\n",
       "      <td>0.000000</td>\n",
       "      <td>86.000000</td>\n",
       "      <td>0.000000</td>\n",
       "      <td>7.000000</td>\n",
       "      <td>1.000000</td>\n",
       "      <td>3.000000</td>\n",
       "      <td>1.000000</td>\n",
       "      <td>0.000000</td>\n",
       "      <td>1.000000</td>\n",
       "      <td>8.000000</td>\n",
       "      <td>8.000000</td>\n",
       "      <td>1.000000</td>\n",
       "      <td>0.000000</td>\n",
       "      <td>41.380350</td>\n",
       "      <td>2.156980</td>\n",
       "      <td>0.000000</td>\n",
       "      <td>0.000000</td>\n",
       "      <td>0.000000</td>\n",
       "      <td>2.000000</td>\n",
       "      <td>1.000000</td>\n",
       "      <td>1.000000</td>\n",
       "      <td>1.000000</td>\n",
       "      <td>13.000000</td>\n",
       "      <td>40.000000</td>\n",
       "      <td>1.000000</td>\n",
       "      <td>6.000000e+01</td>\n",
       "      <td>0.000000</td>\n",
       "      <td>4.000000</td>\n",
       "      <td>9.000000</td>\n",
       "      <td>49.000000</td>\n",
       "      <td>1.00000</td>\n",
       "      <td>0.000000</td>\n",
       "      <td>0.000000</td>\n",
       "    </tr>\n",
       "    <tr>\n",
       "      <th>50%</th>\n",
       "      <td>1.0</td>\n",
       "      <td>1.0</td>\n",
       "      <td>1.0</td>\n",
       "      <td>1.0</td>\n",
       "      <td>1.0</td>\n",
       "      <td>1.0</td>\n",
       "      <td>1.0</td>\n",
       "      <td>0.000000</td>\n",
       "      <td>100.000000</td>\n",
       "      <td>0.000000</td>\n",
       "      <td>11.000000</td>\n",
       "      <td>3.000000</td>\n",
       "      <td>6.000000</td>\n",
       "      <td>1.000000</td>\n",
       "      <td>0.000000</td>\n",
       "      <td>1.000000</td>\n",
       "      <td>9.000000</td>\n",
       "      <td>12.000000</td>\n",
       "      <td>2.000000</td>\n",
       "      <td>0.000000</td>\n",
       "      <td>41.389020</td>\n",
       "      <td>2.168180</td>\n",
       "      <td>1.000000</td>\n",
       "      <td>0.000000</td>\n",
       "      <td>1.000000</td>\n",
       "      <td>2.000000</td>\n",
       "      <td>1.000000</td>\n",
       "      <td>1.000000</td>\n",
       "      <td>2.000000</td>\n",
       "      <td>19.000000</td>\n",
       "      <td>65.000000</td>\n",
       "      <td>2.000000</td>\n",
       "      <td>1.125000e+03</td>\n",
       "      <td>5.000000</td>\n",
       "      <td>17.000000</td>\n",
       "      <td>35.000000</td>\n",
       "      <td>160.000000</td>\n",
       "      <td>7.00000</td>\n",
       "      <td>4.000000</td>\n",
       "      <td>1.000000</td>\n",
       "    </tr>\n",
       "    <tr>\n",
       "      <th>75%</th>\n",
       "      <td>1.0</td>\n",
       "      <td>1.0</td>\n",
       "      <td>1.0</td>\n",
       "      <td>1.0</td>\n",
       "      <td>1.0</td>\n",
       "      <td>1.0</td>\n",
       "      <td>1.0</td>\n",
       "      <td>2.000000</td>\n",
       "      <td>100.000000</td>\n",
       "      <td>0.000000</td>\n",
       "      <td>21.000000</td>\n",
       "      <td>12.000000</td>\n",
       "      <td>7.000000</td>\n",
       "      <td>1.000000</td>\n",
       "      <td>1.000000</td>\n",
       "      <td>3.000000</td>\n",
       "      <td>17.000000</td>\n",
       "      <td>20.000000</td>\n",
       "      <td>5.000000</td>\n",
       "      <td>0.000000</td>\n",
       "      <td>41.402190</td>\n",
       "      <td>2.178060</td>\n",
       "      <td>1.000000</td>\n",
       "      <td>0.000000</td>\n",
       "      <td>1.000000</td>\n",
       "      <td>4.000000</td>\n",
       "      <td>1.500000</td>\n",
       "      <td>2.000000</td>\n",
       "      <td>3.000000</td>\n",
       "      <td>27.000000</td>\n",
       "      <td>113.000000</td>\n",
       "      <td>4.000000</td>\n",
       "      <td>1.125000e+03</td>\n",
       "      <td>13.000000</td>\n",
       "      <td>37.000000</td>\n",
       "      <td>61.000000</td>\n",
       "      <td>296.000000</td>\n",
       "      <td>38.00000</td>\n",
       "      <td>19.000000</td>\n",
       "      <td>1.000000</td>\n",
       "    </tr>\n",
       "    <tr>\n",
       "      <th>max</th>\n",
       "      <td>1.0</td>\n",
       "      <td>1.0</td>\n",
       "      <td>1.0</td>\n",
       "      <td>1.0</td>\n",
       "      <td>1.0</td>\n",
       "      <td>1.0</td>\n",
       "      <td>1.0</td>\n",
       "      <td>4.000000</td>\n",
       "      <td>100.000000</td>\n",
       "      <td>1.000000</td>\n",
       "      <td>152.000000</td>\n",
       "      <td>1411.000000</td>\n",
       "      <td>12.000000</td>\n",
       "      <td>1.000000</td>\n",
       "      <td>1.000000</td>\n",
       "      <td>113.000000</td>\n",
       "      <td>68.000000</td>\n",
       "      <td>70.000000</td>\n",
       "      <td>9.000000</td>\n",
       "      <td>38.000000</td>\n",
       "      <td>41.464010</td>\n",
       "      <td>2.229410</td>\n",
       "      <td>1.000000</td>\n",
       "      <td>27.000000</td>\n",
       "      <td>2.000000</td>\n",
       "      <td>18.000000</td>\n",
       "      <td>16.000000</td>\n",
       "      <td>16.000000</td>\n",
       "      <td>40.000000</td>\n",
       "      <td>99.000000</td>\n",
       "      <td>9120.000000</td>\n",
       "      <td>900.000000</td>\n",
       "      <td>2.147484e+09</td>\n",
       "      <td>30.000000</td>\n",
       "      <td>60.000000</td>\n",
       "      <td>90.000000</td>\n",
       "      <td>365.000000</td>\n",
       "      <td>645.00000</td>\n",
       "      <td>172.000000</td>\n",
       "      <td>1.000000</td>\n",
       "    </tr>\n",
       "  </tbody>\n",
       "</table>\n",
       "</div>"
      ],
      "text/plain": [
       "          name  summary    space  description  neighborhood_overview   access  \\\n",
       "count  19833.0  19833.0  19833.0      19833.0                19833.0  19833.0   \n",
       "mean       1.0      1.0      1.0          1.0                    1.0      1.0   \n",
       "std        0.0      0.0      0.0          0.0                    0.0      0.0   \n",
       "min        1.0      1.0      1.0          1.0                    1.0      1.0   \n",
       "25%        1.0      1.0      1.0          1.0                    1.0      1.0   \n",
       "50%        1.0      1.0      1.0          1.0                    1.0      1.0   \n",
       "75%        1.0      1.0      1.0          1.0                    1.0      1.0   \n",
       "max        1.0      1.0      1.0          1.0                    1.0      1.0   \n",
       "\n",
       "       picture_url  host_response_time  host_response_rate  host_is_superhost  \\\n",
       "count      19833.0        19833.000000        19833.000000       19833.000000   \n",
       "mean           1.0            0.938537           81.686079           0.186659   \n",
       "std            0.0            1.369694           34.242840           0.389647   \n",
       "min            1.0            0.000000            0.000000           0.000000   \n",
       "25%            1.0            0.000000           86.000000           0.000000   \n",
       "50%            1.0            0.000000          100.000000           0.000000   \n",
       "75%            1.0            2.000000          100.000000           0.000000   \n",
       "max            1.0            4.000000          100.000000           1.000000   \n",
       "\n",
       "       host_neighbourhood  host_listings_count  host_verifications  \\\n",
       "count        19833.000000         19833.000000        19833.000000   \n",
       "mean            17.667423            20.327636            5.294307   \n",
       "std             18.354434            56.090909            2.265206   \n",
       "min              0.000000             0.000000            0.000000   \n",
       "25%              7.000000             1.000000            3.000000   \n",
       "50%             11.000000             3.000000            6.000000   \n",
       "75%             21.000000            12.000000            7.000000   \n",
       "max            152.000000          1411.000000           12.000000   \n",
       "\n",
       "       host_has_profile_pic  host_identity_verified        street  \\\n",
       "count          19833.000000            19833.000000  19833.000000   \n",
       "mean               0.997882                0.334796      3.161045   \n",
       "std                0.045971                0.471931      8.647119   \n",
       "min                0.000000                0.000000      0.000000   \n",
       "25%                1.000000                0.000000      1.000000   \n",
       "50%                1.000000                0.000000      1.000000   \n",
       "75%                1.000000                1.000000      3.000000   \n",
       "max                1.000000                1.000000    113.000000   \n",
       "\n",
       "       neighbourhood  neighbourhood_cleansed  neighbourhood_group_cleansed  \\\n",
       "count   19833.000000            19833.000000                  19833.000000   \n",
       "mean       13.829577               16.171280                      3.066354   \n",
       "std        11.357848               12.916614                      2.441290   \n",
       "min         0.000000                0.000000                      0.000000   \n",
       "25%         8.000000                8.000000                      1.000000   \n",
       "50%         9.000000               12.000000                      2.000000   \n",
       "75%        17.000000               20.000000                      5.000000   \n",
       "max        68.000000               70.000000                      9.000000   \n",
       "\n",
       "               city      latitude     longitude  is_location_exact  \\\n",
       "count  19833.000000  19833.000000  19833.000000       19833.000000   \n",
       "mean       0.348661     41.392060      2.167585           0.673070   \n",
       "std        2.283573      0.014934      0.018054           0.469103   \n",
       "min        0.000000     41.349540      2.088380           0.000000   \n",
       "25%        0.000000     41.380350      2.156980           0.000000   \n",
       "50%        0.000000     41.389020      2.168180           1.000000   \n",
       "75%        0.000000     41.402190      2.178060           1.000000   \n",
       "max       38.000000     41.464010      2.229410           1.000000   \n",
       "\n",
       "       property_type     room_type  accommodates     bathrooms      bedrooms  \\\n",
       "count   19833.000000  19833.000000  19833.000000  19833.000000  19833.000000   \n",
       "mean        0.916755      0.532900      3.347502      1.317249      1.567337   \n",
       "std         2.912150      0.519816      2.196285      0.643915      1.014923   \n",
       "min         0.000000      0.000000      1.000000      0.000000      0.000000   \n",
       "25%         0.000000      0.000000      2.000000      1.000000      1.000000   \n",
       "50%         0.000000      1.000000      2.000000      1.000000      1.000000   \n",
       "75%         0.000000      1.000000      4.000000      1.500000      2.000000   \n",
       "max        27.000000      2.000000     18.000000     16.000000     16.000000   \n",
       "\n",
       "               beds     amenities         price  minimum_nights  \\\n",
       "count  19833.000000  19833.000000  19833.000000    19833.000000   \n",
       "mean       2.253819     20.890738    129.624716        8.521303   \n",
       "std        1.882226     11.051660    423.999470       17.964452   \n",
       "min        0.000000      0.000000      7.000000        1.000000   \n",
       "25%        1.000000     13.000000     40.000000        1.000000   \n",
       "50%        2.000000     19.000000     65.000000        2.000000   \n",
       "75%        3.000000     27.000000    113.000000        4.000000   \n",
       "max       40.000000     99.000000   9120.000000      900.000000   \n",
       "\n",
       "       maximum_nights  availability_30  availability_60  availability_90  \\\n",
       "count    1.983300e+04     19833.000000     19833.000000     19833.000000   \n",
       "mean     2.172701e+05         8.245147        21.734584        37.139868   \n",
       "std      2.156451e+07         9.111552        19.139073        29.110984   \n",
       "min      1.000000e+00         0.000000         0.000000         0.000000   \n",
       "25%      6.000000e+01         0.000000         4.000000         9.000000   \n",
       "50%      1.125000e+03         5.000000        17.000000        35.000000   \n",
       "75%      1.125000e+03        13.000000        37.000000        61.000000   \n",
       "max      2.147484e+09        30.000000        60.000000        90.000000   \n",
       "\n",
       "       availability_365  number_of_reviews  number_of_reviews_ltm  \\\n",
       "count      19833.000000        19833.00000           19833.000000   \n",
       "mean         170.540009           32.81798              12.400847   \n",
       "std          126.602977           58.31839              17.901569   \n",
       "min            0.000000            0.00000               0.000000   \n",
       "25%           49.000000            1.00000               0.000000   \n",
       "50%          160.000000            7.00000               4.000000   \n",
       "75%          296.000000           38.00000              19.000000   \n",
       "max          365.000000          645.00000             172.000000   \n",
       "\n",
       "       instant_bookable  \n",
       "count      19833.000000  \n",
       "mean           0.561287  \n",
       "std            0.496242  \n",
       "min            0.000000  \n",
       "25%            0.000000  \n",
       "50%            1.000000  \n",
       "75%            1.000000  \n",
       "max            1.000000  "
      ]
     },
     "execution_count": 44,
     "metadata": {},
     "output_type": "execute_result"
    }
   ],
   "source": [
    "df.describe()"
   ]
  },
  {
   "cell_type": "code",
   "execution_count": 45,
   "id": "5369f1f6",
   "metadata": {
    "execution": {
     "iopub.execute_input": "2024-05-10T21:57:52.491936Z",
     "iopub.status.busy": "2024-05-10T21:57:52.491533Z",
     "iopub.status.idle": "2024-05-10T21:57:52.522042Z",
     "shell.execute_reply": "2024-05-10T21:57:52.520878Z"
    },
    "papermill": {
     "duration": 0.057091,
     "end_time": "2024-05-10T21:57:52.526773",
     "exception": false,
     "start_time": "2024-05-10T21:57:52.469682",
     "status": "completed"
    },
    "tags": []
   },
   "outputs": [
    {
     "name": "stdout",
     "output_type": "stream",
     "text": [
      "name\n",
      "min: 1\n",
      "max: 1\n",
      "width: 0\n",
      "median: 1.0\n",
      "variance: 0.0\n",
      "***\n",
      "summary\n",
      "min: 1\n",
      "max: 1\n",
      "width: 0\n",
      "median: 1.0\n",
      "variance: 0.0\n",
      "***\n",
      "space\n",
      "min: 1\n",
      "max: 1\n",
      "width: 0\n",
      "median: 1.0\n",
      "variance: 0.0\n",
      "***\n",
      "description\n",
      "min: 1\n",
      "max: 1\n",
      "width: 0\n",
      "median: 1.0\n",
      "variance: 0.0\n",
      "***\n",
      "neighborhood_overview\n",
      "min: 1\n",
      "max: 1\n",
      "width: 0\n",
      "median: 1.0\n",
      "variance: 0.0\n",
      "***\n",
      "access\n",
      "min: 1\n",
      "max: 1\n",
      "width: 0\n",
      "median: 1.0\n",
      "variance: 0.0\n",
      "***\n",
      "picture_url\n",
      "min: 1\n",
      "max: 1\n",
      "width: 0\n",
      "median: 1.0\n",
      "variance: 0.0\n",
      "***\n",
      "host_response_time\n",
      "min: 0\n",
      "max: 4\n",
      "width: 4\n",
      "median: 0.0\n",
      "variance: 1.8759681509311472\n",
      "***\n",
      "host_response_rate\n",
      "min: 0\n",
      "max: 100\n",
      "width: 100\n",
      "median: 100.0\n",
      "variance: 1172.5129595293188\n",
      "***\n",
      "host_is_superhost\n",
      "min: 0\n",
      "max: 1\n",
      "width: 1\n",
      "median: 0.0\n",
      "variance: 0.15181716660998784\n",
      "***\n",
      "host_neighbourhood\n",
      "min: 0\n",
      "max: 152\n",
      "width: 152\n",
      "median: 11.0\n",
      "variance: 336.86826612154516\n",
      "***\n",
      "host_listings_count\n",
      "min: 0.0\n",
      "max: 1411.0\n",
      "width: 1411.0\n",
      "median: 3.0\n",
      "variance: 3146.031413444296\n",
      "***\n",
      "host_verifications\n",
      "min: 0\n",
      "max: 12\n",
      "width: 12\n",
      "median: 6.0\n",
      "variance: 5.130899375438113\n",
      "***\n",
      "host_has_profile_pic\n",
      "min: 0\n",
      "max: 1\n",
      "width: 1\n",
      "median: 1.0\n",
      "variance: 0.0021131980703219173\n",
      "***\n",
      "host_identity_verified\n",
      "min: 0\n",
      "max: 1\n",
      "width: 1\n",
      "median: 0.0\n",
      "variance: 0.22270748731538254\n",
      "***\n",
      "street\n",
      "min: 0\n",
      "max: 113\n",
      "width: 113\n",
      "median: 1.0\n",
      "variance: 74.76890148506683\n",
      "***\n",
      "neighbourhood\n",
      "min: 0\n",
      "max: 68\n",
      "width: 68\n",
      "median: 9.0\n",
      "variance: 128.99420007819083\n",
      "***\n",
      "neighbourhood_cleansed\n",
      "min: 0\n",
      "max: 70\n",
      "width: 70\n",
      "median: 12.0\n",
      "variance: 166.8304926736241\n",
      "***\n",
      "neighbourhood_group_cleansed\n",
      "min: 0\n",
      "max: 9\n",
      "width: 9\n",
      "median: 2.0\n",
      "variance: 5.959596534150969\n",
      "***\n",
      "city\n",
      "min: 0\n",
      "max: 38\n",
      "width: 38\n",
      "median: 0.0\n",
      "variance: 5.214440929667733\n",
      "***\n",
      "latitude\n",
      "min: 41.34954\n",
      "max: 41.46401\n",
      "width: 0.11447000000000429\n",
      "median: 41.38902\n",
      "variance: 0.00022300862208452437\n",
      "***\n",
      "longitude\n",
      "min: 2.08838\n",
      "max: 2.22941\n",
      "width: 0.1410300000000002\n",
      "median: 2.16818\n",
      "variance: 0.0003259406733553905\n",
      "***\n",
      "is_location_exact\n",
      "min: 0\n",
      "max: 1\n",
      "width: 1\n",
      "median: 1.0\n",
      "variance: 0.2200467281521371\n",
      "***\n",
      "property_type\n",
      "min: 0\n",
      "max: 27\n",
      "width: 27\n",
      "median: 0.0\n",
      "variance: 8.480187684444394\n",
      "***\n",
      "room_type\n",
      "min: 0\n",
      "max: 2\n",
      "width: 2\n",
      "median: 1.0\n",
      "variance: 0.2701952774430677\n",
      "***\n",
      "accommodates\n",
      "min: 1\n",
      "max: 18\n",
      "width: 17\n",
      "median: 2.0\n",
      "variance: 4.823426546977097\n",
      "***\n",
      "bathrooms\n",
      "min: 0.0\n",
      "max: 16.0\n",
      "width: 16.0\n",
      "median: 1.0\n",
      "variance: 0.4146054105301173\n",
      "***\n",
      "bedrooms\n",
      "min: 0.0\n",
      "max: 16.0\n",
      "width: 16.0\n",
      "median: 1.0\n",
      "variance: 1.0300166934415658\n",
      "***\n",
      "beds\n",
      "min: 0.0\n",
      "max: 40.0\n",
      "width: 40.0\n",
      "median: 2.0\n",
      "variance: 3.542594321638777\n",
      "***\n",
      "amenities\n",
      "min: 0\n",
      "max: 99\n",
      "width: 99\n",
      "median: 19.0\n",
      "variance: 122.1330221604418\n",
      "***\n",
      "price\n",
      "min: 7.0\n",
      "max: 9120.0\n",
      "width: 9113.0\n",
      "median: 65.0\n",
      "variance: 179766.48645005948\n",
      "***\n",
      "minimum_nights\n",
      "min: 1\n",
      "max: 900\n",
      "width: 899\n",
      "median: 2.0\n",
      "variance: 322.705251325246\n",
      "***\n",
      "maximum_nights\n",
      "min: 1\n",
      "max: 2147483647\n",
      "width: 2147483646\n",
      "median: 1125.0\n",
      "variance: 465004583873588.6\n",
      "***\n",
      "availability_30\n",
      "min: 0\n",
      "max: 30\n",
      "width: 30\n",
      "median: 5.0\n",
      "variance: 83.01618995596034\n",
      "***\n",
      "availability_60\n",
      "min: 0\n",
      "max: 60\n",
      "width: 60\n",
      "median: 17.0\n",
      "variance: 366.2856274385649\n",
      "***\n",
      "availability_90\n",
      "min: 0\n",
      "max: 90\n",
      "width: 90\n",
      "median: 35.0\n",
      "variance: 847.4066458152519\n",
      "***\n",
      "availability_365\n",
      "min: 0\n",
      "max: 365\n",
      "width: 365\n",
      "median: 160.0\n",
      "variance: 16027.505697715844\n",
      "***\n",
      "number_of_reviews\n",
      "min: 0\n",
      "max: 645\n",
      "width: 645\n",
      "median: 7.0\n",
      "variance: 3400.863152739584\n",
      "***\n",
      "number_of_reviews_ltm\n",
      "min: 0\n",
      "max: 172\n",
      "width: 172\n",
      "median: 4.0\n",
      "variance: 320.4500209635039\n",
      "***\n",
      "instant_bookable\n",
      "min: 0\n",
      "max: 1\n",
      "width: 1\n",
      "median: 1.0\n",
      "variance: 0.24624393497126404\n",
      "***\n"
     ]
    }
   ],
   "source": [
    "from wolta.data_tools import stat_sum\n",
    "\n",
    "stat_sum(df, ['min', 'max', 'width', 'med', 'var'])"
   ]
  },
  {
   "cell_type": "markdown",
   "id": "bdaba63b",
   "metadata": {
    "papermill": {
     "duration": 0.022257,
     "end_time": "2024-05-10T21:57:52.569754",
     "exception": false,
     "start_time": "2024-05-10T21:57:52.547497",
     "status": "completed"
    },
    "tags": []
   },
   "source": [
    "# Data Preparing"
   ]
  },
  {
   "cell_type": "code",
   "execution_count": 46,
   "id": "29616256",
   "metadata": {
    "execution": {
     "iopub.execute_input": "2024-05-10T21:57:52.613353Z",
     "iopub.status.busy": "2024-05-10T21:57:52.612988Z",
     "iopub.status.idle": "2024-05-10T21:57:52.621609Z",
     "shell.execute_reply": "2024-05-10T21:57:52.620628Z"
    },
    "papermill": {
     "duration": 0.033538,
     "end_time": "2024-05-10T21:57:52.624015",
     "exception": false,
     "start_time": "2024-05-10T21:57:52.590477",
     "status": "completed"
    },
    "tags": []
   },
   "outputs": [],
   "source": [
    "y = df['price'].values\n",
    "del df['price']\n",
    "X = df.values\n",
    "del df"
   ]
  },
  {
   "cell_type": "code",
   "execution_count": 47,
   "id": "c35da923",
   "metadata": {
    "execution": {
     "iopub.execute_input": "2024-05-10T21:57:52.668381Z",
     "iopub.status.busy": "2024-05-10T21:57:52.667417Z",
     "iopub.status.idle": "2024-05-10T21:57:54.262759Z",
     "shell.execute_reply": "2024-05-10T21:57:54.261380Z"
    },
    "papermill": {
     "duration": 1.62031,
     "end_time": "2024-05-10T21:57:54.265633",
     "exception": false,
     "start_time": "2024-05-10T21:57:52.645323",
     "status": "completed"
    },
    "tags": []
   },
   "outputs": [],
   "source": [
    "from sklearn.model_selection import train_test_split\n",
    "\n",
    "X_train, X_test, y_train, y_test = train_test_split(X, y, test_size=0.2, random_state=42)\n",
    "del X, y"
   ]
  },
  {
   "cell_type": "markdown",
   "id": "42cb1c9d",
   "metadata": {
    "papermill": {
     "duration": 0.020456,
     "end_time": "2024-05-10T21:57:54.307412",
     "exception": false,
     "start_time": "2024-05-10T21:57:54.286956",
     "status": "completed"
    },
    "tags": []
   },
   "source": [
    "# Model"
   ]
  },
  {
   "cell_type": "code",
   "execution_count": 48,
   "id": "36538800",
   "metadata": {
    "execution": {
     "iopub.execute_input": "2024-05-10T21:57:54.351801Z",
     "iopub.status.busy": "2024-05-10T21:57:54.351312Z",
     "iopub.status.idle": "2024-05-10T21:58:28.352161Z",
     "shell.execute_reply": "2024-05-10T21:58:28.350693Z"
    },
    "papermill": {
     "duration": 34.103141,
     "end_time": "2024-05-10T21:58:28.431121",
     "exception": false,
     "start_time": "2024-05-10T21:57:54.327980",
     "status": "completed"
    },
    "tags": []
   },
   "outputs": [
    {
     "name": "stdout",
     "output_type": "stream",
     "text": [
      "CatBoost\n",
      "Mean Squared Error: 28253.037225753294\n",
      "***\n",
      "AdaBoost\n",
      "Mean Squared Error: 541730.038891886\n",
      "***\n",
      "Random Forest\n",
      "Mean Squared Error: 34354.6576477691\n",
      "***\n",
      "Linear Regression\n",
      "Mean Squared Error: 149316.17864147644\n",
      "***\n"
     ]
    }
   ],
   "source": [
    "from wolta.model_tools import compare_models\n",
    "\n",
    "compare_models('reg',\n",
    "              ['cat', 'ada', 'raf', 'lin'],\n",
    "              ['sq'],\n",
    "              X_train, y_train, X_test, y_test)"
   ]
  },
  {
   "cell_type": "markdown",
   "id": "3931e5ee",
   "metadata": {
    "papermill": {
     "duration": 0.020357,
     "end_time": "2024-05-10T21:58:28.494119",
     "exception": false,
     "start_time": "2024-05-10T21:58:28.473762",
     "status": "completed"
    },
    "tags": []
   },
   "source": [
    "catboost gave the **best** result."
   ]
  },
  {
   "cell_type": "code",
   "execution_count": 49,
   "id": "b6878eee",
   "metadata": {
    "execution": {
     "iopub.execute_input": "2024-05-10T21:58:28.538363Z",
     "iopub.status.busy": "2024-05-10T21:58:28.537920Z",
     "iopub.status.idle": "2024-05-10T21:58:33.430981Z",
     "shell.execute_reply": "2024-05-10T21:58:33.429898Z"
    },
    "papermill": {
     "duration": 4.918068,
     "end_time": "2024-05-10T21:58:33.433653",
     "exception": false,
     "start_time": "2024-05-10T21:58:28.515585",
     "status": "completed"
    },
    "tags": []
   },
   "outputs": [],
   "source": [
    "from catboost import CatBoostRegressor as cat\n",
    "\n",
    "model = cat(verbose=False)\n",
    "model.fit(X_train, y_train)\n",
    "y_pred = model.predict(X_test)"
   ]
  },
  {
   "cell_type": "markdown",
   "id": "1bb588d3",
   "metadata": {
    "papermill": {
     "duration": 0.020459,
     "end_time": "2024-05-10T21:58:33.477102",
     "exception": false,
     "start_time": "2024-05-10T21:58:33.456643",
     "status": "completed"
    },
    "tags": []
   },
   "source": [
    "# Results"
   ]
  },
  {
   "cell_type": "code",
   "execution_count": 50,
   "id": "e75fd9ad",
   "metadata": {
    "execution": {
     "iopub.execute_input": "2024-05-10T21:58:33.520744Z",
     "iopub.status.busy": "2024-05-10T21:58:33.520264Z",
     "iopub.status.idle": "2024-05-10T21:58:33.527870Z",
     "shell.execute_reply": "2024-05-10T21:58:33.526486Z"
    },
    "papermill": {
     "duration": 0.03274,
     "end_time": "2024-05-10T21:58:33.530383",
     "exception": false,
     "start_time": "2024-05-10T21:58:33.497643",
     "status": "completed"
    },
    "tags": []
   },
   "outputs": [
    {
     "data": {
      "text/plain": [
       "array([122.43497243, 183.44693581,  22.05449293, ...,  59.67361597,\n",
       "       122.36956456, 228.59562913])"
      ]
     },
     "execution_count": 50,
     "metadata": {},
     "output_type": "execute_result"
    }
   ],
   "source": [
    "y_pred"
   ]
  },
  {
   "cell_type": "code",
   "execution_count": 51,
   "id": "d1400e47",
   "metadata": {
    "execution": {
     "iopub.execute_input": "2024-05-10T21:58:33.577828Z",
     "iopub.status.busy": "2024-05-10T21:58:33.576330Z",
     "iopub.status.idle": "2024-05-10T21:58:33.584400Z",
     "shell.execute_reply": "2024-05-10T21:58:33.583099Z"
    },
    "papermill": {
     "duration": 0.033471,
     "end_time": "2024-05-10T21:58:33.586499",
     "exception": false,
     "start_time": "2024-05-10T21:58:33.553028",
     "status": "completed"
    },
    "tags": []
   },
   "outputs": [
    {
     "data": {
      "text/plain": [
       "array([ 79., 100.,  17., ...,  15., 110., 119.])"
      ]
     },
     "execution_count": 51,
     "metadata": {},
     "output_type": "execute_result"
    }
   ],
   "source": [
    "y_test"
   ]
  },
  {
   "cell_type": "code",
   "execution_count": 52,
   "id": "de8d3ff0",
   "metadata": {
    "execution": {
     "iopub.execute_input": "2024-05-10T21:58:33.631215Z",
     "iopub.status.busy": "2024-05-10T21:58:33.630050Z",
     "iopub.status.idle": "2024-05-10T21:58:33.640333Z",
     "shell.execute_reply": "2024-05-10T21:58:33.638889Z"
    },
    "papermill": {
     "duration": 0.034931,
     "end_time": "2024-05-10T21:58:33.642708",
     "exception": false,
     "start_time": "2024-05-10T21:58:33.607777",
     "status": "completed"
    },
    "tags": []
   },
   "outputs": [
    {
     "name": "stdout",
     "output_type": "stream",
     "text": [
      "5.772245941432873\n"
     ]
    }
   ],
   "source": [
    "avg = 0\n",
    "\n",
    "for i in range(y_pred.shape[0]):\n",
    "    avg += y_pred[i] - y_test[i]\n",
    "    \n",
    "avg /= y_pred.shape[0]\n",
    "print(avg)"
   ]
  }
 ],
 "metadata": {
  "kaggle": {
   "accelerator": "none",
   "dataSources": [
    {
     "datasetId": 4973632,
     "sourceId": 8367227,
     "sourceType": "datasetVersion"
    }
   ],
   "dockerImageVersionId": 30698,
   "isGpuEnabled": false,
   "isInternetEnabled": true,
   "language": "python",
   "sourceType": "notebook"
  },
  "kernelspec": {
   "display_name": "Python 3",
   "language": "python",
   "name": "python3"
  },
  "language_info": {
   "codemirror_mode": {
    "name": "ipython",
    "version": 3
   },
   "file_extension": ".py",
   "mimetype": "text/x-python",
   "name": "python",
   "nbconvert_exporter": "python",
   "pygments_lexer": "ipython3",
   "version": "3.10.13"
  },
  "papermill": {
   "default_parameters": {},
   "duration": 69.274014,
   "end_time": "2024-05-10T21:58:34.486038",
   "environment_variables": {},
   "exception": null,
   "input_path": "__notebook__.ipynb",
   "output_path": "__notebook__.ipynb",
   "parameters": {},
   "start_time": "2024-05-10T21:57:25.212024",
   "version": "2.5.0"
  }
 },
 "nbformat": 4,
 "nbformat_minor": 5
}
