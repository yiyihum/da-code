{
 "cells": [
  {
   "cell_type": "markdown",
   "id": "671abacf",
   "metadata": {
    "papermill": {
     "duration": 0.036,
     "end_time": "2024-04-14T14:17:44.867334",
     "exception": false,
     "start_time": "2024-04-14T14:17:44.831334",
     "status": "completed"
    },
    "tags": []
   },
   "source": [
    "<center>\n",
    "<div style=\"color:;\n",
    "           display:fill;\n",
    "           border-radius:5px;\n",
    "           background-color: ;\n",
    "           font-size:120%;\n",
    "           letter-spacing:0.5px\">\n",
    "\n",
    "<h2 style=\"padding: 10px;\n",
    "              color:black;\">PCA and LDA Implementation\n",
    "    \n",
    "</h2>\n",
    "</div>\n",
    "    \n",
    "</center>\n",
    "\n",
    "<center>\n",
    "<div style=\"color:;\n",
    "           display:fill;\n",
    "           border-radius:5px;\n",
    "           background-color: ;\n",
    "           font-size:100%;\n",
    "           letter-spacing:0.5px\">\n",
    "​\n",
    "<h3 style=\"padding: 10px;\n",
    "              color:black;\"> Breast Cancer Wisconsin (Diagnostic) Data Set\n",
    " \n",
    "    \n",
    "</h3>\n",
    "</div>\n",
    "    \n",
    "</center>\n",
    "\n",
    "\n",
    "<center>\n",
    "<img src=\"https://www.uicc.org/sites/main/files/styles/uicc_news_main_image/public/thumbnails/image/BCAM2016_FA.jpg?itok=zimiEGKS\", width=800>\n",
    "</center>"
   ]
  },
  {
   "cell_type": "markdown",
   "id": "d581e769",
   "metadata": {
    "papermill": {
     "duration": 0.0267,
     "end_time": "2024-04-14T14:17:44.924262",
     "exception": false,
     "start_time": "2024-04-14T14:17:44.897562",
     "status": "completed"
    },
    "tags": []
   },
   "source": [
    "Breast cancer is the most common cancer in women, accounting for **1 in 4 cancers** diagnosed in the U.S. and causing over 40,000 deaths each year. It is also the second leading cause of cancer death in women, after lung cancer. Early detection of breast cancer is key and can help improve the chances of survival. Women should be sure to get regular mammograms and self-exams to detect any changes in their breasts.\n",
    "\n",
    "In 2020, an estimated **276,480 new cases of invasive breast cancer** were diagnosed in women in the United States along with 48,530 new cases of non-invasive (in situ) breast cancer. It is estimated that about 42,170 women will die from this disease in 2020. Additionally, breast cancer accounts for **15% of all cancer deaths** in women. Although it is most common in women, men can also get breast cancer. In 2020, an estimated 2,620 new cases of invasive breast cancer were **diagnosed in men** in the United States, along with 500 new cases of non-invasive (in situ) breast cancer. An estimated 520 men died from this disease.\n",
    "\n",
    "## Problem Statement\n",
    "\n",
    "In this tutorial, based on the data we are going to find out if the cancer is **benign** or **malignant**. We'd use a technique called **Dimensionality Reduction** which would help a ton with our model building and getting a high accuracy. \n",
    "\n",
    "> **QUESTION**: Ramakant Hospital. offers medical facilities to thousands of patients all over India. As the lead data scientist at Ramakant Hospital, **you're tasked with creating an automated system to detect if the cancer is malign or benignant**, using information such as their mean radius, mean compactness, worst area etc. \n",
    ">\n",
    "> Classification from your system will be used to determine if the patient should be operated or not. Due to regulatory requirements, you must be able to explain why your system outputs a certain prediction.\n",
    "> \n",
    "> Below is what the data looks like and you are given a CSV file to make the predictions\n",
    ">\n",
    "> <img src=\"https://encrypted-tbn0.gstatic.com/images?q=tbn:ANd9GcTgXNxLPAru6FyxUKOPTXNUbu7Vu16dfVYZXA&usqp=CAU\" width=\"480\">\n",
    ">\n",
    ">\n",
    "> Dataset source: [link](https://www.kaggle.com/uciml/breast-cancer-wisconsin-data)"
   ]
  },
  {
   "cell_type": "markdown",
   "id": "f0f13375",
   "metadata": {
    "papermill": {
     "duration": 0.02449,
     "end_time": "2024-04-14T14:17:44.975226",
     "exception": false,
     "start_time": "2024-04-14T14:17:44.950736",
     "status": "completed"
    },
    "tags": []
   },
   "source": [
    "<center>\n",
    "<div style=\"color:;\n",
    "           display:fill;\n",
    "           border-radius:5px;\n",
    "           background-color: mediumseagreen;\n",
    "           font-size:110%;\n",
    "           letter-spacing:0.5px\">\n",
    "\n",
    "<h2 style=\"padding: 10px;\n",
    "              color:white;\">Importing Libraries\n",
    "    \n",
    "</h2>\n",
    "</div>"
   ]
  },
  {
   "cell_type": "markdown",
   "id": "e3121fe5",
   "metadata": {
    "papermill": {
     "duration": 0.025103,
     "end_time": "2024-04-14T14:17:45.024921",
     "exception": false,
     "start_time": "2024-04-14T14:17:44.999818",
     "status": "completed"
    },
    "tags": []
   },
   "source": [
    "We would use python libraries such as **Numpy**, **Pandas** and **Plotly** so let's start off by installing and import the required libraries into our code"
   ]
  },
  {
   "cell_type": "code",
   "execution_count": 1,
   "id": "023f0b3c",
   "metadata": {
    "execution": {
     "iopub.execute_input": "2024-04-14T14:17:45.076648Z",
     "iopub.status.busy": "2024-04-14T14:17:45.075601Z",
     "iopub.status.idle": "2024-04-14T14:17:48.429990Z",
     "shell.execute_reply": "2024-04-14T14:17:48.429264Z"
    },
    "papermill": {
     "duration": 3.382355,
     "end_time": "2024-04-14T14:17:48.432295",
     "exception": false,
     "start_time": "2024-04-14T14:17:45.049940",
     "status": "completed"
    },
    "tags": []
   },
   "outputs": [],
   "source": [
    "import warnings\n",
    "warnings.filterwarnings(\"ignore\")\n",
    "import numpy as np\n",
    "import pandas as pd \n",
    "import seaborn as sns\n",
    "from scipy import stats\n",
    "import plotly.express as px\n",
    "import matplotlib.pyplot as plt\n",
    "import sqlite3\n",
    "%matplotlib inline\n",
    "plt.rcParams['font.size'] = 12\n",
    "plt.rcParams['figure.figsize'] = (22,5)\n",
    "plt.rcParams['figure.dpi'] = 100"
   ]
  },
  {
   "cell_type": "code",
   "execution_count": 2,
   "id": "769de237",
   "metadata": {
    "execution": {
     "iopub.execute_input": "2024-04-14T14:17:48.483291Z",
     "iopub.status.busy": "2024-04-14T14:17:48.482542Z",
     "iopub.status.idle": "2024-04-14T14:17:48.529882Z",
     "shell.execute_reply": "2024-04-14T14:17:48.529250Z"
    },
    "papermill": {
     "duration": 0.07434,
     "end_time": "2024-04-14T14:17:48.531776",
     "exception": false,
     "start_time": "2024-04-14T14:17:48.457436",
     "status": "completed"
    },
    "tags": []
   },
   "outputs": [],
   "source": [
    "from sklearn.datasets import load_breast_cancer\n",
    "from sklearn.preprocessing import MinMaxScaler\n",
    "from sklearn.model_selection import train_test_split, cross_val_score\n",
    "from sklearn.discriminant_analysis import LinearDiscriminantAnalysis\n",
    "\n",
    "#Models\n",
    "from sklearn.neighbors import KNeighborsClassifier\n",
    "from sklearn.svm import SVC\n",
    "from sklearn.ensemble import GradientBoostingClassifier, RandomForestClassifier\n",
    "from sklearn.tree import DecisionTreeClassifier\n",
    "from sklearn.linear_model import LogisticRegression\n",
    "\n",
    "#Model Performance Evaluators\n",
    "from sklearn.metrics import confusion_matrix, classification_report, roc_curve, roc_auc_score"
   ]
  },
  {
   "cell_type": "markdown",
   "id": "76455d01",
   "metadata": {
    "papermill": {
     "duration": 0.023641,
     "end_time": "2024-04-14T14:17:48.579364",
     "exception": false,
     "start_time": "2024-04-14T14:17:48.555723",
     "status": "completed"
    },
    "tags": []
   },
   "source": [
    "`sklearn` provides this dataset for us to work with so we are going to be using the same library for importing our dataset and loading into a dataframe with the help of `pandas` library"
   ]
  },
  {
   "cell_type": "markdown",
   "id": "33eaf6d2",
   "metadata": {
    "papermill": {
     "duration": 0.023442,
     "end_time": "2024-04-14T14:17:48.626240",
     "exception": false,
     "start_time": "2024-04-14T14:17:48.602798",
     "status": "completed"
    },
    "tags": []
   },
   "source": [
    "<center>\n",
    "<div style=\"color:;\n",
    "           display:fill;\n",
    "           border-radius:5px;\n",
    "           background-color: mediumseagreen;\n",
    "           font-size:110%;\n",
    "           letter-spacing:0.5px\">\n",
    "\n",
    "<h2 style=\"padding: 10px;\n",
    "              color:white;\">Loading the data\n",
    "    \n",
    "</h2>\n",
    "</div>"
   ]
  },
  {
   "cell_type": "markdown",
   "id": "85af5bd3",
   "metadata": {
    "papermill": {
     "duration": 0.02341,
     "end_time": "2024-04-14T14:17:48.673448",
     "exception": false,
     "start_time": "2024-04-14T14:17:48.650038",
     "status": "completed"
    },
    "tags": []
   },
   "source": [
    "To begin, let's download the data using the `load_breast_cancer()` function from `sklearn.datasets`."
   ]
  },
  {
   "cell_type": "code",
   "execution_count": 3,
   "id": "ee56aeb9",
   "metadata": {
    "execution": {
     "iopub.execute_input": "2024-04-14T14:17:48.722301Z",
     "iopub.status.busy": "2024-04-14T14:17:48.721443Z",
     "iopub.status.idle": "2024-04-14T14:17:48.782256Z",
     "shell.execute_reply": "2024-04-14T14:17:48.781342Z"
    },
    "papermill": {
     "duration": 0.088115,
     "end_time": "2024-04-14T14:17:48.785198",
     "exception": false,
     "start_time": "2024-04-14T14:17:48.697083",
     "status": "completed"
    },
    "tags": []
   },
   "outputs": [
    {
     "data": {
      "text/html": [
       "<div>\n",
       "<style scoped>\n",
       "    .dataframe tbody tr th:only-of-type {\n",
       "        vertical-align: middle;\n",
       "    }\n",
       "\n",
       "    .dataframe tbody tr th {\n",
       "        vertical-align: top;\n",
       "    }\n",
       "\n",
       "    .dataframe thead th {\n",
       "        text-align: right;\n",
       "    }\n",
       "</style>\n",
       "<table border=\"1\" class=\"dataframe\">\n",
       "  <thead>\n",
       "    <tr style=\"text-align: right;\">\n",
       "      <th></th>\n",
       "      <th>mean_radius</th>\n",
       "      <th>mean_texture</th>\n",
       "      <th>mean_perimeter</th>\n",
       "      <th>mean_area</th>\n",
       "      <th>mean_smoothness</th>\n",
       "      <th>mean_compactness</th>\n",
       "      <th>mean_concavity</th>\n",
       "      <th>mean_concave_points</th>\n",
       "      <th>mean_symmetry</th>\n",
       "      <th>mean_fractal_dimension</th>\n",
       "      <th>...</th>\n",
       "      <th>worst_texture</th>\n",
       "      <th>worst_perimeter</th>\n",
       "      <th>worst_area</th>\n",
       "      <th>worst_smoothness</th>\n",
       "      <th>worst_compactness</th>\n",
       "      <th>worst_concavity</th>\n",
       "      <th>worst_concave_points</th>\n",
       "      <th>worst_symmetry</th>\n",
       "      <th>worst_fractal_dimension</th>\n",
       "      <th>target</th>\n",
       "    </tr>\n",
       "  </thead>\n",
       "  <tbody>\n",
       "    <tr>\n",
       "      <th>0</th>\n",
       "      <td>17.99</td>\n",
       "      <td>10.38</td>\n",
       "      <td>122.80</td>\n",
       "      <td>1001.0</td>\n",
       "      <td>0.11840</td>\n",
       "      <td>0.27760</td>\n",
       "      <td>0.3001</td>\n",
       "      <td>0.14710</td>\n",
       "      <td>0.2419</td>\n",
       "      <td>0.07871</td>\n",
       "      <td>...</td>\n",
       "      <td>17.33</td>\n",
       "      <td>184.60</td>\n",
       "      <td>2019.0</td>\n",
       "      <td>0.1622</td>\n",
       "      <td>0.6656</td>\n",
       "      <td>0.7119</td>\n",
       "      <td>0.2654</td>\n",
       "      <td>0.4601</td>\n",
       "      <td>0.11890</td>\n",
       "      <td>0</td>\n",
       "    </tr>\n",
       "    <tr>\n",
       "      <th>1</th>\n",
       "      <td>20.57</td>\n",
       "      <td>17.77</td>\n",
       "      <td>132.90</td>\n",
       "      <td>1326.0</td>\n",
       "      <td>0.08474</td>\n",
       "      <td>0.07864</td>\n",
       "      <td>0.0869</td>\n",
       "      <td>0.07017</td>\n",
       "      <td>0.1812</td>\n",
       "      <td>0.05667</td>\n",
       "      <td>...</td>\n",
       "      <td>23.41</td>\n",
       "      <td>158.80</td>\n",
       "      <td>1956.0</td>\n",
       "      <td>0.1238</td>\n",
       "      <td>0.1866</td>\n",
       "      <td>0.2416</td>\n",
       "      <td>0.1860</td>\n",
       "      <td>0.2750</td>\n",
       "      <td>0.08902</td>\n",
       "      <td>0</td>\n",
       "    </tr>\n",
       "    <tr>\n",
       "      <th>2</th>\n",
       "      <td>19.69</td>\n",
       "      <td>21.25</td>\n",
       "      <td>130.00</td>\n",
       "      <td>1203.0</td>\n",
       "      <td>0.10960</td>\n",
       "      <td>0.15990</td>\n",
       "      <td>0.1974</td>\n",
       "      <td>0.12790</td>\n",
       "      <td>0.2069</td>\n",
       "      <td>0.05999</td>\n",
       "      <td>...</td>\n",
       "      <td>25.53</td>\n",
       "      <td>152.50</td>\n",
       "      <td>1709.0</td>\n",
       "      <td>0.1444</td>\n",
       "      <td>0.4245</td>\n",
       "      <td>0.4504</td>\n",
       "      <td>0.2430</td>\n",
       "      <td>0.3613</td>\n",
       "      <td>0.08758</td>\n",
       "      <td>0</td>\n",
       "    </tr>\n",
       "    <tr>\n",
       "      <th>3</th>\n",
       "      <td>11.42</td>\n",
       "      <td>20.38</td>\n",
       "      <td>77.58</td>\n",
       "      <td>386.1</td>\n",
       "      <td>0.14250</td>\n",
       "      <td>0.28390</td>\n",
       "      <td>0.2414</td>\n",
       "      <td>0.10520</td>\n",
       "      <td>0.2597</td>\n",
       "      <td>0.09744</td>\n",
       "      <td>...</td>\n",
       "      <td>26.50</td>\n",
       "      <td>98.87</td>\n",
       "      <td>567.7</td>\n",
       "      <td>0.2098</td>\n",
       "      <td>0.8663</td>\n",
       "      <td>0.6869</td>\n",
       "      <td>0.2575</td>\n",
       "      <td>0.6638</td>\n",
       "      <td>0.17300</td>\n",
       "      <td>0</td>\n",
       "    </tr>\n",
       "    <tr>\n",
       "      <th>4</th>\n",
       "      <td>20.29</td>\n",
       "      <td>14.34</td>\n",
       "      <td>135.10</td>\n",
       "      <td>1297.0</td>\n",
       "      <td>0.10030</td>\n",
       "      <td>0.13280</td>\n",
       "      <td>0.1980</td>\n",
       "      <td>0.10430</td>\n",
       "      <td>0.1809</td>\n",
       "      <td>0.05883</td>\n",
       "      <td>...</td>\n",
       "      <td>16.67</td>\n",
       "      <td>152.20</td>\n",
       "      <td>1575.0</td>\n",
       "      <td>0.1374</td>\n",
       "      <td>0.2050</td>\n",
       "      <td>0.4000</td>\n",
       "      <td>0.1625</td>\n",
       "      <td>0.2364</td>\n",
       "      <td>0.07678</td>\n",
       "      <td>0</td>\n",
       "    </tr>\n",
       "  </tbody>\n",
       "</table>\n",
       "<p>5 rows × 31 columns</p>\n",
       "</div>"
      ],
      "text/plain": [
       "   mean_radius  mean_texture  mean_perimeter  mean_area  mean_smoothness  \\\n",
       "0        17.99         10.38          122.80     1001.0          0.11840   \n",
       "1        20.57         17.77          132.90     1326.0          0.08474   \n",
       "2        19.69         21.25          130.00     1203.0          0.10960   \n",
       "3        11.42         20.38           77.58      386.1          0.14250   \n",
       "4        20.29         14.34          135.10     1297.0          0.10030   \n",
       "\n",
       "   mean_compactness  mean_concavity  mean_concave_points  mean_symmetry  \\\n",
       "0           0.27760          0.3001              0.14710         0.2419   \n",
       "1           0.07864          0.0869              0.07017         0.1812   \n",
       "2           0.15990          0.1974              0.12790         0.2069   \n",
       "3           0.28390          0.2414              0.10520         0.2597   \n",
       "4           0.13280          0.1980              0.10430         0.1809   \n",
       "\n",
       "   mean_fractal_dimension  ...  worst_texture  worst_perimeter  worst_area  \\\n",
       "0                 0.07871  ...          17.33           184.60      2019.0   \n",
       "1                 0.05667  ...          23.41           158.80      1956.0   \n",
       "2                 0.05999  ...          25.53           152.50      1709.0   \n",
       "3                 0.09744  ...          26.50            98.87       567.7   \n",
       "4                 0.05883  ...          16.67           152.20      1575.0   \n",
       "\n",
       "   worst_smoothness  worst_compactness  worst_concavity  worst_concave_points  \\\n",
       "0            0.1622             0.6656           0.7119                0.2654   \n",
       "1            0.1238             0.1866           0.2416                0.1860   \n",
       "2            0.1444             0.4245           0.4504                0.2430   \n",
       "3            0.2098             0.8663           0.6869                0.2575   \n",
       "4            0.1374             0.2050           0.4000                0.1625   \n",
       "\n",
       "   worst_symmetry  worst_fractal_dimension  target  \n",
       "0          0.4601                  0.11890       0  \n",
       "1          0.2750                  0.08902       0  \n",
       "2          0.3613                  0.08758       0  \n",
       "3          0.6638                  0.17300       0  \n",
       "4          0.2364                  0.07678       0  \n",
       "\n",
       "[5 rows x 31 columns]"
      ]
     },
     "execution_count": 3,
     "metadata": {},
     "output_type": "execute_result"
    }
   ],
   "source": [
    "data = load_breast_cancer()\n",
    "df = pd.DataFrame(data=data.data, columns=data.feature_names)\n",
    "df['target'] = data.target\n",
    "df.columns = [i.replace(\" \", '_') for i in df.columns]\n",
    "df.head()"
   ]
  },
  {
   "cell_type": "markdown",
   "id": "3481f198",
   "metadata": {
    "papermill": {
     "duration": 0.024554,
     "end_time": "2024-04-14T14:17:48.834396",
     "exception": false,
     "start_time": "2024-04-14T14:17:48.809842",
     "status": "completed"
    },
    "tags": []
   },
   "source": [
    "<center>\n",
    "<div style=\"color:;\n",
    "           display:fill;\n",
    "           border-radius:5px;\n",
    "           background-color: mediumseagreen;\n",
    "           font-size:110%;\n",
    "           letter-spacing:0.5px\">\n",
    "\n",
    "<h2 style=\"padding: 10px;\n",
    "              color:white;\">Exploratory Data Analysis aka EDA\n",
    "    \n",
    "</h2>\n",
    "</div>"
   ]
  },
  {
   "cell_type": "markdown",
   "id": "0f0f395e",
   "metadata": {
    "papermill": {
     "duration": 0.024751,
     "end_time": "2024-04-14T14:17:48.883406",
     "exception": false,
     "start_time": "2024-04-14T14:17:48.858655",
     "status": "completed"
    },
    "tags": []
   },
   "source": [
    "Let's explore the data by visualizing the distribution of values in some columns of the dataset, and the relationships between \"target\" and other columns. We'll use libraries Matplotlib, Seaborn and Plotly for visualization. You can follow this [tutorial](https://www.kaggle.com/code/bhatnagardaksh/visualization-guide-for-beginners) to learn how to use these libraries where I dive a little deeper and show various ways to use these libraries."
   ]
  },
  {
   "cell_type": "code",
   "execution_count": 4,
   "id": "fbbbc183",
   "metadata": {
    "execution": {
     "iopub.execute_input": "2024-04-14T14:17:48.932719Z",
     "iopub.status.busy": "2024-04-14T14:17:48.932041Z",
     "iopub.status.idle": "2024-04-14T14:17:48.951853Z",
     "shell.execute_reply": "2024-04-14T14:17:48.950919Z"
    },
    "papermill": {
     "duration": 0.047214,
     "end_time": "2024-04-14T14:17:48.954537",
     "exception": false,
     "start_time": "2024-04-14T14:17:48.907323",
     "status": "completed"
    },
    "tags": []
   },
   "outputs": [
    {
     "name": "stdout",
     "output_type": "stream",
     "text": [
      "<class 'pandas.core.frame.DataFrame'>\n",
      "RangeIndex: 569 entries, 0 to 568\n",
      "Data columns (total 31 columns):\n",
      " #   Column                   Non-Null Count  Dtype  \n",
      "---  ------                   --------------  -----  \n",
      " 0   mean_radius              569 non-null    float64\n",
      " 1   mean_texture             569 non-null    float64\n",
      " 2   mean_perimeter           569 non-null    float64\n",
      " 3   mean_area                569 non-null    float64\n",
      " 4   mean_smoothness          569 non-null    float64\n",
      " 5   mean_compactness         569 non-null    float64\n",
      " 6   mean_concavity           569 non-null    float64\n",
      " 7   mean_concave_points      569 non-null    float64\n",
      " 8   mean_symmetry            569 non-null    float64\n",
      " 9   mean_fractal_dimension   569 non-null    float64\n",
      " 10  radius_error             569 non-null    float64\n",
      " 11  texture_error            569 non-null    float64\n",
      " 12  perimeter_error          569 non-null    float64\n",
      " 13  area_error               569 non-null    float64\n",
      " 14  smoothness_error         569 non-null    float64\n",
      " 15  compactness_error        569 non-null    float64\n",
      " 16  concavity_error          569 non-null    float64\n",
      " 17  concave_points_error     569 non-null    float64\n",
      " 18  symmetry_error           569 non-null    float64\n",
      " 19  fractal_dimension_error  569 non-null    float64\n",
      " 20  worst_radius             569 non-null    float64\n",
      " 21  worst_texture            569 non-null    float64\n",
      " 22  worst_perimeter          569 non-null    float64\n",
      " 23  worst_area               569 non-null    float64\n",
      " 24  worst_smoothness         569 non-null    float64\n",
      " 25  worst_compactness        569 non-null    float64\n",
      " 26  worst_concavity          569 non-null    float64\n",
      " 27  worst_concave_points     569 non-null    float64\n",
      " 28  worst_symmetry           569 non-null    float64\n",
      " 29  worst_fractal_dimension  569 non-null    float64\n",
      " 30  target                   569 non-null    int64  \n",
      "dtypes: float64(30), int64(1)\n",
      "memory usage: 137.9 KB\n"
     ]
    }
   ],
   "source": [
    "df.info()"
   ]
  },
  {
   "cell_type": "code",
   "execution_count": 5,
   "id": "272d42cc",
   "metadata": {
    "execution": {
     "iopub.execute_input": "2024-04-14T14:17:49.006070Z",
     "iopub.status.busy": "2024-04-14T14:17:49.005314Z",
     "iopub.status.idle": "2024-04-14T14:17:49.012377Z",
     "shell.execute_reply": "2024-04-14T14:17:49.011571Z"
    },
    "papermill": {
     "duration": 0.03438,
     "end_time": "2024-04-14T14:17:49.014308",
     "exception": false,
     "start_time": "2024-04-14T14:17:48.979928",
     "status": "completed"
    },
    "tags": []
   },
   "outputs": [
    {
     "data": {
      "text/plain": [
       "float64    30\n",
       "int64       1\n",
       "dtype: int64"
      ]
     },
     "execution_count": 5,
     "metadata": {},
     "output_type": "execute_result"
    }
   ],
   "source": [
    "#Value counts of unique data types in our dataframe\n",
    "df.dtypes.value_counts()"
   ]
  },
  {
   "cell_type": "markdown",
   "id": "abf9a6a3",
   "metadata": {
    "papermill": {
     "duration": 0.025791,
     "end_time": "2024-04-14T14:17:49.065060",
     "exception": false,
     "start_time": "2024-04-14T14:17:49.039269",
     "status": "completed"
    },
    "tags": []
   },
   "source": [
    "Looks like all the data is numerical.`float` and `int`. None of the columns contain any missing values, which saves us a fair bit of work!\n",
    "\n",
    "Here are some statistics for the numerical columns:"
   ]
  },
  {
   "cell_type": "code",
   "execution_count": 6,
   "id": "07acc737",
   "metadata": {
    "execution": {
     "iopub.execute_input": "2024-04-14T14:17:49.115173Z",
     "iopub.status.busy": "2024-04-14T14:17:49.114805Z",
     "iopub.status.idle": "2024-04-14T14:17:49.209932Z",
     "shell.execute_reply": "2024-04-14T14:17:49.209164Z"
    },
    "papermill": {
     "duration": 0.122377,
     "end_time": "2024-04-14T14:17:49.211682",
     "exception": false,
     "start_time": "2024-04-14T14:17:49.089305",
     "status": "completed"
    },
    "tags": []
   },
   "outputs": [
    {
     "data": {
      "text/html": [
       "<div>\n",
       "<style scoped>\n",
       "    .dataframe tbody tr th:only-of-type {\n",
       "        vertical-align: middle;\n",
       "    }\n",
       "\n",
       "    .dataframe tbody tr th {\n",
       "        vertical-align: top;\n",
       "    }\n",
       "\n",
       "    .dataframe thead th {\n",
       "        text-align: right;\n",
       "    }\n",
       "</style>\n",
       "<table border=\"1\" class=\"dataframe\">\n",
       "  <thead>\n",
       "    <tr style=\"text-align: right;\">\n",
       "      <th></th>\n",
       "      <th>count</th>\n",
       "      <th>mean</th>\n",
       "      <th>std</th>\n",
       "      <th>min</th>\n",
       "      <th>25%</th>\n",
       "      <th>50%</th>\n",
       "      <th>75%</th>\n",
       "      <th>max</th>\n",
       "    </tr>\n",
       "  </thead>\n",
       "  <tbody>\n",
       "    <tr>\n",
       "      <th>mean_radius</th>\n",
       "      <td>569.0</td>\n",
       "      <td>14.127292</td>\n",
       "      <td>3.524049</td>\n",
       "      <td>6.981000</td>\n",
       "      <td>11.700000</td>\n",
       "      <td>13.370000</td>\n",
       "      <td>15.780000</td>\n",
       "      <td>28.11000</td>\n",
       "    </tr>\n",
       "    <tr>\n",
       "      <th>mean_texture</th>\n",
       "      <td>569.0</td>\n",
       "      <td>19.289649</td>\n",
       "      <td>4.301036</td>\n",
       "      <td>9.710000</td>\n",
       "      <td>16.170000</td>\n",
       "      <td>18.840000</td>\n",
       "      <td>21.800000</td>\n",
       "      <td>39.28000</td>\n",
       "    </tr>\n",
       "    <tr>\n",
       "      <th>mean_perimeter</th>\n",
       "      <td>569.0</td>\n",
       "      <td>91.969033</td>\n",
       "      <td>24.298981</td>\n",
       "      <td>43.790000</td>\n",
       "      <td>75.170000</td>\n",
       "      <td>86.240000</td>\n",
       "      <td>104.100000</td>\n",
       "      <td>188.50000</td>\n",
       "    </tr>\n",
       "    <tr>\n",
       "      <th>mean_area</th>\n",
       "      <td>569.0</td>\n",
       "      <td>654.889104</td>\n",
       "      <td>351.914129</td>\n",
       "      <td>143.500000</td>\n",
       "      <td>420.300000</td>\n",
       "      <td>551.100000</td>\n",
       "      <td>782.700000</td>\n",
       "      <td>2501.00000</td>\n",
       "    </tr>\n",
       "    <tr>\n",
       "      <th>mean_smoothness</th>\n",
       "      <td>569.0</td>\n",
       "      <td>0.096360</td>\n",
       "      <td>0.014064</td>\n",
       "      <td>0.052630</td>\n",
       "      <td>0.086370</td>\n",
       "      <td>0.095870</td>\n",
       "      <td>0.105300</td>\n",
       "      <td>0.16340</td>\n",
       "    </tr>\n",
       "    <tr>\n",
       "      <th>mean_compactness</th>\n",
       "      <td>569.0</td>\n",
       "      <td>0.104341</td>\n",
       "      <td>0.052813</td>\n",
       "      <td>0.019380</td>\n",
       "      <td>0.064920</td>\n",
       "      <td>0.092630</td>\n",
       "      <td>0.130400</td>\n",
       "      <td>0.34540</td>\n",
       "    </tr>\n",
       "    <tr>\n",
       "      <th>mean_concavity</th>\n",
       "      <td>569.0</td>\n",
       "      <td>0.088799</td>\n",
       "      <td>0.079720</td>\n",
       "      <td>0.000000</td>\n",
       "      <td>0.029560</td>\n",
       "      <td>0.061540</td>\n",
       "      <td>0.130700</td>\n",
       "      <td>0.42680</td>\n",
       "    </tr>\n",
       "    <tr>\n",
       "      <th>mean_concave_points</th>\n",
       "      <td>569.0</td>\n",
       "      <td>0.048919</td>\n",
       "      <td>0.038803</td>\n",
       "      <td>0.000000</td>\n",
       "      <td>0.020310</td>\n",
       "      <td>0.033500</td>\n",
       "      <td>0.074000</td>\n",
       "      <td>0.20120</td>\n",
       "    </tr>\n",
       "    <tr>\n",
       "      <th>mean_symmetry</th>\n",
       "      <td>569.0</td>\n",
       "      <td>0.181162</td>\n",
       "      <td>0.027414</td>\n",
       "      <td>0.106000</td>\n",
       "      <td>0.161900</td>\n",
       "      <td>0.179200</td>\n",
       "      <td>0.195700</td>\n",
       "      <td>0.30400</td>\n",
       "    </tr>\n",
       "    <tr>\n",
       "      <th>mean_fractal_dimension</th>\n",
       "      <td>569.0</td>\n",
       "      <td>0.062798</td>\n",
       "      <td>0.007060</td>\n",
       "      <td>0.049960</td>\n",
       "      <td>0.057700</td>\n",
       "      <td>0.061540</td>\n",
       "      <td>0.066120</td>\n",
       "      <td>0.09744</td>\n",
       "    </tr>\n",
       "    <tr>\n",
       "      <th>radius_error</th>\n",
       "      <td>569.0</td>\n",
       "      <td>0.405172</td>\n",
       "      <td>0.277313</td>\n",
       "      <td>0.111500</td>\n",
       "      <td>0.232400</td>\n",
       "      <td>0.324200</td>\n",
       "      <td>0.478900</td>\n",
       "      <td>2.87300</td>\n",
       "    </tr>\n",
       "    <tr>\n",
       "      <th>texture_error</th>\n",
       "      <td>569.0</td>\n",
       "      <td>1.216853</td>\n",
       "      <td>0.551648</td>\n",
       "      <td>0.360200</td>\n",
       "      <td>0.833900</td>\n",
       "      <td>1.108000</td>\n",
       "      <td>1.474000</td>\n",
       "      <td>4.88500</td>\n",
       "    </tr>\n",
       "    <tr>\n",
       "      <th>perimeter_error</th>\n",
       "      <td>569.0</td>\n",
       "      <td>2.866059</td>\n",
       "      <td>2.021855</td>\n",
       "      <td>0.757000</td>\n",
       "      <td>1.606000</td>\n",
       "      <td>2.287000</td>\n",
       "      <td>3.357000</td>\n",
       "      <td>21.98000</td>\n",
       "    </tr>\n",
       "    <tr>\n",
       "      <th>area_error</th>\n",
       "      <td>569.0</td>\n",
       "      <td>40.337079</td>\n",
       "      <td>45.491006</td>\n",
       "      <td>6.802000</td>\n",
       "      <td>17.850000</td>\n",
       "      <td>24.530000</td>\n",
       "      <td>45.190000</td>\n",
       "      <td>542.20000</td>\n",
       "    </tr>\n",
       "    <tr>\n",
       "      <th>smoothness_error</th>\n",
       "      <td>569.0</td>\n",
       "      <td>0.007041</td>\n",
       "      <td>0.003003</td>\n",
       "      <td>0.001713</td>\n",
       "      <td>0.005169</td>\n",
       "      <td>0.006380</td>\n",
       "      <td>0.008146</td>\n",
       "      <td>0.03113</td>\n",
       "    </tr>\n",
       "    <tr>\n",
       "      <th>compactness_error</th>\n",
       "      <td>569.0</td>\n",
       "      <td>0.025478</td>\n",
       "      <td>0.017908</td>\n",
       "      <td>0.002252</td>\n",
       "      <td>0.013080</td>\n",
       "      <td>0.020450</td>\n",
       "      <td>0.032450</td>\n",
       "      <td>0.13540</td>\n",
       "    </tr>\n",
       "    <tr>\n",
       "      <th>concavity_error</th>\n",
       "      <td>569.0</td>\n",
       "      <td>0.031894</td>\n",
       "      <td>0.030186</td>\n",
       "      <td>0.000000</td>\n",
       "      <td>0.015090</td>\n",
       "      <td>0.025890</td>\n",
       "      <td>0.042050</td>\n",
       "      <td>0.39600</td>\n",
       "    </tr>\n",
       "    <tr>\n",
       "      <th>concave_points_error</th>\n",
       "      <td>569.0</td>\n",
       "      <td>0.011796</td>\n",
       "      <td>0.006170</td>\n",
       "      <td>0.000000</td>\n",
       "      <td>0.007638</td>\n",
       "      <td>0.010930</td>\n",
       "      <td>0.014710</td>\n",
       "      <td>0.05279</td>\n",
       "    </tr>\n",
       "    <tr>\n",
       "      <th>symmetry_error</th>\n",
       "      <td>569.0</td>\n",
       "      <td>0.020542</td>\n",
       "      <td>0.008266</td>\n",
       "      <td>0.007882</td>\n",
       "      <td>0.015160</td>\n",
       "      <td>0.018730</td>\n",
       "      <td>0.023480</td>\n",
       "      <td>0.07895</td>\n",
       "    </tr>\n",
       "    <tr>\n",
       "      <th>fractal_dimension_error</th>\n",
       "      <td>569.0</td>\n",
       "      <td>0.003795</td>\n",
       "      <td>0.002646</td>\n",
       "      <td>0.000895</td>\n",
       "      <td>0.002248</td>\n",
       "      <td>0.003187</td>\n",
       "      <td>0.004558</td>\n",
       "      <td>0.02984</td>\n",
       "    </tr>\n",
       "    <tr>\n",
       "      <th>worst_radius</th>\n",
       "      <td>569.0</td>\n",
       "      <td>16.269190</td>\n",
       "      <td>4.833242</td>\n",
       "      <td>7.930000</td>\n",
       "      <td>13.010000</td>\n",
       "      <td>14.970000</td>\n",
       "      <td>18.790000</td>\n",
       "      <td>36.04000</td>\n",
       "    </tr>\n",
       "    <tr>\n",
       "      <th>worst_texture</th>\n",
       "      <td>569.0</td>\n",
       "      <td>25.677223</td>\n",
       "      <td>6.146258</td>\n",
       "      <td>12.020000</td>\n",
       "      <td>21.080000</td>\n",
       "      <td>25.410000</td>\n",
       "      <td>29.720000</td>\n",
       "      <td>49.54000</td>\n",
       "    </tr>\n",
       "    <tr>\n",
       "      <th>worst_perimeter</th>\n",
       "      <td>569.0</td>\n",
       "      <td>107.261213</td>\n",
       "      <td>33.602542</td>\n",
       "      <td>50.410000</td>\n",
       "      <td>84.110000</td>\n",
       "      <td>97.660000</td>\n",
       "      <td>125.400000</td>\n",
       "      <td>251.20000</td>\n",
       "    </tr>\n",
       "    <tr>\n",
       "      <th>worst_area</th>\n",
       "      <td>569.0</td>\n",
       "      <td>880.583128</td>\n",
       "      <td>569.356993</td>\n",
       "      <td>185.200000</td>\n",
       "      <td>515.300000</td>\n",
       "      <td>686.500000</td>\n",
       "      <td>1084.000000</td>\n",
       "      <td>4254.00000</td>\n",
       "    </tr>\n",
       "    <tr>\n",
       "      <th>worst_smoothness</th>\n",
       "      <td>569.0</td>\n",
       "      <td>0.132369</td>\n",
       "      <td>0.022832</td>\n",
       "      <td>0.071170</td>\n",
       "      <td>0.116600</td>\n",
       "      <td>0.131300</td>\n",
       "      <td>0.146000</td>\n",
       "      <td>0.22260</td>\n",
       "    </tr>\n",
       "    <tr>\n",
       "      <th>worst_compactness</th>\n",
       "      <td>569.0</td>\n",
       "      <td>0.254265</td>\n",
       "      <td>0.157336</td>\n",
       "      <td>0.027290</td>\n",
       "      <td>0.147200</td>\n",
       "      <td>0.211900</td>\n",
       "      <td>0.339100</td>\n",
       "      <td>1.05800</td>\n",
       "    </tr>\n",
       "    <tr>\n",
       "      <th>worst_concavity</th>\n",
       "      <td>569.0</td>\n",
       "      <td>0.272188</td>\n",
       "      <td>0.208624</td>\n",
       "      <td>0.000000</td>\n",
       "      <td>0.114500</td>\n",
       "      <td>0.226700</td>\n",
       "      <td>0.382900</td>\n",
       "      <td>1.25200</td>\n",
       "    </tr>\n",
       "    <tr>\n",
       "      <th>worst_concave_points</th>\n",
       "      <td>569.0</td>\n",
       "      <td>0.114606</td>\n",
       "      <td>0.065732</td>\n",
       "      <td>0.000000</td>\n",
       "      <td>0.064930</td>\n",
       "      <td>0.099930</td>\n",
       "      <td>0.161400</td>\n",
       "      <td>0.29100</td>\n",
       "    </tr>\n",
       "    <tr>\n",
       "      <th>worst_symmetry</th>\n",
       "      <td>569.0</td>\n",
       "      <td>0.290076</td>\n",
       "      <td>0.061867</td>\n",
       "      <td>0.156500</td>\n",
       "      <td>0.250400</td>\n",
       "      <td>0.282200</td>\n",
       "      <td>0.317900</td>\n",
       "      <td>0.66380</td>\n",
       "    </tr>\n",
       "    <tr>\n",
       "      <th>worst_fractal_dimension</th>\n",
       "      <td>569.0</td>\n",
       "      <td>0.083946</td>\n",
       "      <td>0.018061</td>\n",
       "      <td>0.055040</td>\n",
       "      <td>0.071460</td>\n",
       "      <td>0.080040</td>\n",
       "      <td>0.092080</td>\n",
       "      <td>0.20750</td>\n",
       "    </tr>\n",
       "    <tr>\n",
       "      <th>target</th>\n",
       "      <td>569.0</td>\n",
       "      <td>0.627417</td>\n",
       "      <td>0.483918</td>\n",
       "      <td>0.000000</td>\n",
       "      <td>0.000000</td>\n",
       "      <td>1.000000</td>\n",
       "      <td>1.000000</td>\n",
       "      <td>1.00000</td>\n",
       "    </tr>\n",
       "  </tbody>\n",
       "</table>\n",
       "</div>"
      ],
      "text/plain": [
       "                         count        mean         std         min  \\\n",
       "mean_radius              569.0   14.127292    3.524049    6.981000   \n",
       "mean_texture             569.0   19.289649    4.301036    9.710000   \n",
       "mean_perimeter           569.0   91.969033   24.298981   43.790000   \n",
       "mean_area                569.0  654.889104  351.914129  143.500000   \n",
       "mean_smoothness          569.0    0.096360    0.014064    0.052630   \n",
       "mean_compactness         569.0    0.104341    0.052813    0.019380   \n",
       "mean_concavity           569.0    0.088799    0.079720    0.000000   \n",
       "mean_concave_points      569.0    0.048919    0.038803    0.000000   \n",
       "mean_symmetry            569.0    0.181162    0.027414    0.106000   \n",
       "mean_fractal_dimension   569.0    0.062798    0.007060    0.049960   \n",
       "radius_error             569.0    0.405172    0.277313    0.111500   \n",
       "texture_error            569.0    1.216853    0.551648    0.360200   \n",
       "perimeter_error          569.0    2.866059    2.021855    0.757000   \n",
       "area_error               569.0   40.337079   45.491006    6.802000   \n",
       "smoothness_error         569.0    0.007041    0.003003    0.001713   \n",
       "compactness_error        569.0    0.025478    0.017908    0.002252   \n",
       "concavity_error          569.0    0.031894    0.030186    0.000000   \n",
       "concave_points_error     569.0    0.011796    0.006170    0.000000   \n",
       "symmetry_error           569.0    0.020542    0.008266    0.007882   \n",
       "fractal_dimension_error  569.0    0.003795    0.002646    0.000895   \n",
       "worst_radius             569.0   16.269190    4.833242    7.930000   \n",
       "worst_texture            569.0   25.677223    6.146258   12.020000   \n",
       "worst_perimeter          569.0  107.261213   33.602542   50.410000   \n",
       "worst_area               569.0  880.583128  569.356993  185.200000   \n",
       "worst_smoothness         569.0    0.132369    0.022832    0.071170   \n",
       "worst_compactness        569.0    0.254265    0.157336    0.027290   \n",
       "worst_concavity          569.0    0.272188    0.208624    0.000000   \n",
       "worst_concave_points     569.0    0.114606    0.065732    0.000000   \n",
       "worst_symmetry           569.0    0.290076    0.061867    0.156500   \n",
       "worst_fractal_dimension  569.0    0.083946    0.018061    0.055040   \n",
       "target                   569.0    0.627417    0.483918    0.000000   \n",
       "\n",
       "                                25%         50%          75%         max  \n",
       "mean_radius               11.700000   13.370000    15.780000    28.11000  \n",
       "mean_texture              16.170000   18.840000    21.800000    39.28000  \n",
       "mean_perimeter            75.170000   86.240000   104.100000   188.50000  \n",
       "mean_area                420.300000  551.100000   782.700000  2501.00000  \n",
       "mean_smoothness            0.086370    0.095870     0.105300     0.16340  \n",
       "mean_compactness           0.064920    0.092630     0.130400     0.34540  \n",
       "mean_concavity             0.029560    0.061540     0.130700     0.42680  \n",
       "mean_concave_points        0.020310    0.033500     0.074000     0.20120  \n",
       "mean_symmetry              0.161900    0.179200     0.195700     0.30400  \n",
       "mean_fractal_dimension     0.057700    0.061540     0.066120     0.09744  \n",
       "radius_error               0.232400    0.324200     0.478900     2.87300  \n",
       "texture_error              0.833900    1.108000     1.474000     4.88500  \n",
       "perimeter_error            1.606000    2.287000     3.357000    21.98000  \n",
       "area_error                17.850000   24.530000    45.190000   542.20000  \n",
       "smoothness_error           0.005169    0.006380     0.008146     0.03113  \n",
       "compactness_error          0.013080    0.020450     0.032450     0.13540  \n",
       "concavity_error            0.015090    0.025890     0.042050     0.39600  \n",
       "concave_points_error       0.007638    0.010930     0.014710     0.05279  \n",
       "symmetry_error             0.015160    0.018730     0.023480     0.07895  \n",
       "fractal_dimension_error    0.002248    0.003187     0.004558     0.02984  \n",
       "worst_radius              13.010000   14.970000    18.790000    36.04000  \n",
       "worst_texture             21.080000   25.410000    29.720000    49.54000  \n",
       "worst_perimeter           84.110000   97.660000   125.400000   251.20000  \n",
       "worst_area               515.300000  686.500000  1084.000000  4254.00000  \n",
       "worst_smoothness           0.116600    0.131300     0.146000     0.22260  \n",
       "worst_compactness          0.147200    0.211900     0.339100     1.05800  \n",
       "worst_concavity            0.114500    0.226700     0.382900     1.25200  \n",
       "worst_concave_points       0.064930    0.099930     0.161400     0.29100  \n",
       "worst_symmetry             0.250400    0.282200     0.317900     0.66380  \n",
       "worst_fractal_dimension    0.071460    0.080040     0.092080     0.20750  \n",
       "target                     0.000000    1.000000     1.000000     1.00000  "
      ]
     },
     "execution_count": 6,
     "metadata": {},
     "output_type": "execute_result"
    }
   ],
   "source": [
    "df[df.columns].describe().T"
   ]
  },
  {
   "cell_type": "markdown",
   "id": "9319c9ce",
   "metadata": {
    "papermill": {
     "duration": 0.026741,
     "end_time": "2024-04-14T14:17:49.265726",
     "exception": false,
     "start_time": "2024-04-14T14:17:49.238985",
     "status": "completed"
    },
    "tags": []
   },
   "source": [
    "## What is the distribution of the Target Values?"
   ]
  },
  {
   "cell_type": "code",
   "execution_count": 7,
   "id": "d75a6c39",
   "metadata": {
    "execution": {
     "iopub.execute_input": "2024-04-14T14:17:49.316773Z",
     "iopub.status.busy": "2024-04-14T14:17:49.316474Z",
     "iopub.status.idle": "2024-04-14T14:17:49.601000Z",
     "shell.execute_reply": "2024-04-14T14:17:49.600214Z"
    },
    "papermill": {
     "duration": 0.31218,
     "end_time": "2024-04-14T14:17:49.603057",
     "exception": false,
     "start_time": "2024-04-14T14:17:49.290877",
     "status": "completed"
    },
    "tags": []
   },
   "outputs": [
    {
     "data": {
      "image/png": "[encoded data removed]",
      "text/plain": [
       "<Figure size 2200x500 with 1 Axes>"
      ]
     },
     "metadata": {
      "needs_background": "light"
     },
     "output_type": "display_data"
    }
   ],
   "source": [
    "sns.countplot(df['target'], hue=df.target, dodge=False)\n",
    "plt.gca().spines['top'].set_visible(False)\n",
    "plt.gca().spines['right'].set_visible(False)\n",
    "plt.legend(['benign', 'malignant'])\n",
    "plt.title('Distribution of Target Values', fontsize=18)\n",
    "plt.show()"
   ]
  },
  {
   "cell_type": "markdown",
   "id": "6d84cab7",
   "metadata": {
    "papermill": {
     "duration": 0.02566,
     "end_time": "2024-04-14T14:17:49.654833",
     "exception": false,
     "start_time": "2024-04-14T14:17:49.629173",
     "status": "completed"
    },
    "tags": []
   },
   "source": [
    "## Which columns are least related to our target class?"
   ]
  },
  {
   "cell_type": "markdown",
   "id": "7e475aa7",
   "metadata": {
    "papermill": {
     "duration": 0.025414,
     "end_time": "2024-04-14T14:17:49.705572",
     "exception": false,
     "start_time": "2024-04-14T14:17:49.680158",
     "status": "completed"
    },
    "tags": []
   },
   "source": [
    "To find this out we can use ANOVA. ANOVA is a statistical test used to determine whether there are significant differences between the means of two or more groups. In this case, you can use ANOVA to compare the means of the numerical columns for the two groups of the binary target variable (0 and 1)."
   ]
  },
  {
   "cell_type": "code",
   "execution_count": 8,
   "id": "8c83d9c2",
   "metadata": {
    "execution": {
     "iopub.execute_input": "2024-04-14T14:17:49.757712Z",
     "iopub.status.busy": "2024-04-14T14:17:49.757340Z",
     "iopub.status.idle": "2024-04-14T14:17:49.797935Z",
     "shell.execute_reply": "2024-04-14T14:17:49.796984Z"
    },
    "papermill": {
     "duration": 0.069599,
     "end_time": "2024-04-14T14:17:49.800301",
     "exception": false,
     "start_time": "2024-04-14T14:17:49.730702",
     "status": "completed"
    },
    "tags": []
   },
   "outputs": [
    {
     "name": "stdout",
     "output_type": "stream",
     "text": [
      "ANOVA statistic: 646.98\n",
      "p-value: 8.46594057226382e-96\n",
      "\u001b[32mReject the null hypothesis: There is a significant relationship between mean_radius and target\n",
      "\u001b[0m\n",
      "ANOVA statistic: 118.1\n",
      "p-value: 4.0586360478986136e-25\n",
      "\u001b[32mReject the null hypothesis: There is a significant relationship between mean_texture and target\n",
      "\u001b[0m\n",
      "ANOVA statistic: 697.24\n",
      "p-value: 8.43625103617395e-101\n",
      "\u001b[32mReject the null hypothesis: There is a significant relationship between mean_perimeter and target\n",
      "\u001b[0m\n",
      "ANOVA statistic: 573.06\n",
      "p-value: 4.7345643103077244e-88\n",
      "\u001b[32mReject the null hypothesis: There is a significant relationship between mean_area and target\n",
      "\u001b[0m\n",
      "ANOVA statistic: 83.65\n",
      "p-value: 1.051850359203376e-18\n",
      "\u001b[32mReject the null hypothesis: There is a significant relationship between mean_smoothness and target\n",
      "\u001b[0m\n",
      "ANOVA statistic: 313.23\n",
      "p-value: 3.938263105887389e-56\n",
      "\u001b[32mReject the null hypothesis: There is a significant relationship between mean_compactness and target\n",
      "\u001b[0m\n",
      "ANOVA statistic: 533.79\n",
      "p-value: 9.966555755074321e-84\n",
      "\u001b[32mReject the null hypothesis: There is a significant relationship between mean_concavity and target\n",
      "\u001b[0m\n",
      "ANOVA statistic: 861.68\n",
      "p-value: 7.101150161059154e-116\n",
      "\u001b[32mReject the null hypothesis: There is a significant relationship between mean_concave_points and target\n",
      "\u001b[0m\n",
      "ANOVA statistic: 69.53\n",
      "p-value: 5.73338402846732e-16\n",
      "\u001b[32mReject the null hypothesis: There is a significant relationship between mean_symmetry and target\n",
      "\u001b[0m\n",
      "ANOVA statistic: 0.09\n",
      "p-value: 0.7599368037255626\n",
      "\u001b[31mNo significant relationship between mean_fractal_dimension and target\n",
      "\u001b[0m\n",
      "ANOVA statistic: 268.84\n",
      "p-value: 9.738948656462521e-50\n",
      "\u001b[32mReject the null hypothesis: There is a significant relationship between radius_error and target\n",
      "\u001b[0m\n",
      "ANOVA statistic: 0.04\n",
      "p-value: 0.8433320287670788\n",
      "\u001b[31mNo significant relationship between texture_error and target\n",
      "\u001b[0m\n",
      "ANOVA statistic: 253.9\n",
      "p-value: 1.6519051758498877e-47\n",
      "\u001b[32mReject the null hypothesis: There is a significant relationship between perimeter_error and target\n",
      "\u001b[0m\n",
      "ANOVA statistic: 243.65\n",
      "p-value: 5.895521392606798e-46\n",
      "\u001b[32mReject the null hypothesis: There is a significant relationship between area_error and target\n",
      "\u001b[0m\n",
      "ANOVA statistic: 2.56\n",
      "p-value: 0.11029660865790443\n",
      "\u001b[31mNo significant relationship between smoothness_error and target\n",
      "\u001b[0m\n",
      "ANOVA statistic: 53.25\n",
      "p-value: 9.975994654075776e-13\n",
      "\u001b[32mReject the null hypothesis: There is a significant relationship between compactness_error and target\n",
      "\u001b[0m\n",
      "ANOVA statistic: 39.01\n",
      "p-value: 8.260176167970819e-10\n",
      "\u001b[32mReject the null hypothesis: There is a significant relationship between concavity_error and target\n",
      "\u001b[0m\n",
      "ANOVA statistic: 113.26\n",
      "p-value: 3.072308768818453e-24\n",
      "\u001b[32mReject the null hypothesis: There is a significant relationship between concave_points_error and target\n",
      "\u001b[0m\n",
      "ANOVA statistic: 0.02\n",
      "p-value: 0.8766418183860331\n",
      "\u001b[31mNo significant relationship between symmetry_error and target\n",
      "\u001b[0m\n",
      "ANOVA statistic: 3.47\n",
      "p-value: 0.06307355082240175\n",
      "\u001b[31mNo significant relationship between fractal_dimension_error and target\n",
      "\u001b[0m\n",
      "ANOVA statistic: 860.78\n",
      "p-value: 8.482291921685478e-116\n",
      "\u001b[32mReject the null hypothesis: There is a significant relationship between worst_radius and target\n",
      "\u001b[0m\n",
      "ANOVA statistic: 149.6\n",
      "p-value: 1.0780574879494634e-30\n",
      "\u001b[32mReject the null hypothesis: There is a significant relationship between worst_texture and target\n",
      "\u001b[0m\n",
      "ANOVA statistic: 897.94\n",
      "p-value: 5.771397139669512e-119\n",
      "\u001b[32mReject the null hypothesis: There is a significant relationship between worst_perimeter and target\n",
      "\u001b[0m\n",
      "ANOVA statistic: 661.6\n",
      "p-value: 2.8288477042872213e-97\n",
      "\u001b[32mReject the null hypothesis: There is a significant relationship between worst_area and target\n",
      "\u001b[0m\n",
      "ANOVA statistic: 122.47\n",
      "p-value: 6.575143633985019e-26\n",
      "\u001b[32mReject the null hypothesis: There is a significant relationship between worst_smoothness and target\n",
      "\u001b[0m\n",
      "ANOVA statistic: 304.34\n",
      "p-value: 7.069816352539104e-55\n",
      "\u001b[32mReject the null hypothesis: There is a significant relationship between worst_compactness and target\n",
      "\u001b[0m\n",
      "ANOVA statistic: 436.69\n",
      "p-value: 2.464663956782974e-72\n",
      "\u001b[32mReject the null hypothesis: There is a significant relationship between worst_concavity and target\n",
      "\u001b[0m\n",
      "ANOVA statistic: 964.39\n",
      "p-value: 1.9690997072169153e-124\n",
      "\u001b[32mReject the null hypothesis: There is a significant relationship between worst_concave_points and target\n",
      "\u001b[0m\n",
      "ANOVA statistic: 118.86\n",
      "p-value: 2.9511205771542106e-25\n",
      "\u001b[32mReject the null hypothesis: There is a significant relationship between worst_symmetry and target\n",
      "\u001b[0m\n",
      "ANOVA statistic: 66.44\n",
      "p-value: 2.31643244998312e-15\n",
      "\u001b[32mReject the null hypothesis: There is a significant relationship between worst_fractal_dimension and target\n",
      "\u001b[0m\n"
     ]
    }
   ],
   "source": [
    "num_cols = list(df.select_dtypes('float64').columns)\n",
    "unrelated_num_cols = []\n",
    "categorical_col = 'target'\n",
    "\n",
    "for i in num_cols:\n",
    "    # Perform Kruskal-Wallis test\n",
    "    grouped_data = [df[i][df[categorical_col] == category] for category in df[categorical_col].unique()]\n",
    "    statistic, p_value = stats.f_oneway(*grouped_data)\n",
    "\n",
    "    # Set the significance level (alpha)\n",
    "    alpha = 0.05\n",
    "\n",
    "    # Print the results with appropriate text color\n",
    "    if p_value < alpha:\n",
    "        print( f\"ANOVA statistic: {round(statistic, 2)}\")\n",
    "        print(f\"p-value: {p_value}\")\n",
    "        print(\"\\033[32m\" + f\"Reject the null hypothesis: There is a significant relationship between {i} and {categorical_col}\")\n",
    "        print(\"\\033[0m\")  # Reset text color to default\n",
    "    else:\n",
    "        print( f\"ANOVA statistic: {round(statistic, 2)}\")\n",
    "        print(f\"p-value: {p_value}\")\n",
    "        print(\"\\033[31m\" + f\"No significant relationship between {i} and {categorical_col}\")\n",
    "        print(\"\\033[0m\")  # Reset text color to default\n",
    "        unrelated_num_cols.append(i)"
   ]
  },
  {
   "cell_type": "code",
   "execution_count": 9,
   "id": "a0e0e312",
   "metadata": {
    "execution": {
     "iopub.execute_input": "2024-04-14T14:17:49.852899Z",
     "iopub.status.busy": "2024-04-14T14:17:49.852579Z",
     "iopub.status.idle": "2024-04-14T14:17:49.856863Z",
     "shell.execute_reply": "2024-04-14T14:17:49.856094Z"
    },
    "papermill": {
     "duration": 0.032647,
     "end_time": "2024-04-14T14:17:49.858946",
     "exception": false,
     "start_time": "2024-04-14T14:17:49.826299",
     "status": "completed"
    },
    "tags": []
   },
   "outputs": [
    {
     "name": "stdout",
     "output_type": "stream",
     "text": [
      "The columns that failed the ANOVA test are ['mean_fractal_dimension', 'texture_error', 'smoothness_error', 'symmetry_error', 'fractal_dimension_error']. These columns don't help in making predictions.\n"
     ]
    }
   ],
   "source": [
    "print(f'The columns that failed the ANOVA test are {unrelated_num_cols}. These columns don\\'t help in making predictions.')"
   ]
  },
  {
   "cell_type": "markdown",
   "id": "74ed6d30",
   "metadata": {
    "papermill": {
     "duration": 0.027356,
     "end_time": "2024-04-14T14:17:49.912030",
     "exception": false,
     "start_time": "2024-04-14T14:17:49.884674",
     "status": "completed"
    },
    "tags": []
   },
   "source": [
    "We can drop these columns from our data and then we can use PCA to find which column explain the most variance in our data. By doing this, we will be helping the PCA algorithm computationally."
   ]
  },
  {
   "cell_type": "code",
   "execution_count": 10,
   "id": "4456ed86",
   "metadata": {
    "execution": {
     "iopub.execute_input": "2024-04-14T14:17:49.964090Z",
     "iopub.status.busy": "2024-04-14T14:17:49.963765Z",
     "iopub.status.idle": "2024-04-14T14:17:50.000996Z",
     "shell.execute_reply": "2024-04-14T14:17:50.000403Z"
    },
    "papermill": {
     "duration": 0.06536,
     "end_time": "2024-04-14T14:17:50.002774",
     "exception": false,
     "start_time": "2024-04-14T14:17:49.937414",
     "status": "completed"
    },
    "tags": []
   },
   "outputs": [],
   "source": [
    "# Creating a sqlite3 database to run some SQL Queries \n",
    "conn = sqlite3.connect('database.db' )\n",
    "\n",
    "#Creating a cursor object\n",
    "cursor = conn.cursor()\n",
    "\n",
    "# Write the DataFrame to a table in the database\n",
    "df.to_sql('data', conn, if_exists='replace', index=False)\n",
    "\n",
    "#Helper Function that takes sql query and returns a pandas dataframe\n",
    "def run_query(query):\n",
    "    cursor.execute(query)\n",
    "    results = cursor.fetchall()\n",
    "    df =  pd.DataFrame(results, columns=[i[0] for i in cursor.description])\n",
    "    return df"
   ]
  },
  {
   "cell_type": "markdown",
   "id": "57055604",
   "metadata": {
    "papermill": {
     "duration": 0.025219,
     "end_time": "2024-04-14T14:17:50.053527",
     "exception": false,
     "start_time": "2024-04-14T14:17:50.028308",
     "status": "completed"
    },
    "tags": []
   },
   "source": [
    "## What is the spread of Mean Texture??\n",
    "\n",
    "The texture is an important feature for image analysis techniques that are used to classify tumors and evaluate the presence of cancer. Texture analysis can be used to detect regions of high and low density in an image, which can help to identify the presence and type of tumor."
   ]
  },
  {
   "cell_type": "code",
   "execution_count": 11,
   "id": "aec453e4",
   "metadata": {
    "execution": {
     "iopub.execute_input": "2024-04-14T14:17:50.105600Z",
     "iopub.status.busy": "2024-04-14T14:17:50.105290Z",
     "iopub.status.idle": "2024-04-14T14:17:50.898178Z",
     "shell.execute_reply": "2024-04-14T14:17:50.897244Z"
    },
    "papermill": {
     "duration": 0.821396,
     "end_time": "2024-04-14T14:17:50.900348",
     "exception": false,
     "start_time": "2024-04-14T14:17:50.078952",
     "status": "completed"
    },
    "tags": []
   },
   "outputs": [
    {
     "data": {
      "text/html": [
       "        <script type=\"text/javascript\">\n",
       "        window.PlotlyConfig = {MathJaxConfig: 'local'};\n",
       "        if (window.MathJax && window.MathJax.Hub && window.MathJax.Hub.Config) {window.MathJax.Hub.Config({SVG: {font: \"STIX-Web\"}});}\n",
       "        if (typeof require !== 'undefined') {\n",
       "        require.undef(\"plotly\");\n",
       "        requirejs.config({\n",
       "            paths: {\n",
       "                'plotly': ['https://cdn.plot.ly/plotly-2.12.1.min']\n",
       "            }\n",
       "        });\n",
       "        require(['plotly'], function(Plotly) {\n",
       "            window._Plotly = Plotly;\n",
       "        });\n",
       "        }\n",
       "        </script>\n",
       "        "
      ]
     },
     "metadata": {},
     "output_type": "display_data"
    },
    {
     "data": {
      "text/html": [
       "<div>                            <div id=\"f01e651f-f896-4b8f-9f93-027abab115c4\" class=\"plotly-graph-div\" style=\"height:525px; width:100%;\"></div>            <script type=\"text/javascript\">                require([\"plotly\"], function(Plotly) {                    window.PLOTLYENV=window.PLOTLYENV || {};                                    if (document.getElementById(\"f01e651f-f896-4b8f-9f93-027abab115c4\")) {                    Plotly.newPlot(                        \"f01e651f-f896-4b8f-9f93-027abab115c4\",                        [{\"alignmentgroup\":\"True\",\"hovertemplate\":\"target=%{marker.color}<br>AvgMeanTexture=%{y}<extra></extra>\",\"legendgroup\":\"\",\"marker\":{\"color\":[0,1],\"coloraxis\":\"coloraxis\",\"pattern\":{\"shape\":\"\"}},\"name\":\"\",\"offsetgroup\":\"\",\"orientation\":\"v\",\"showlegend\":false,\"textposition\":\"auto\",\"x\":[0,1],\"xaxis\":\"x\",\"y\":[21.6,17.91],\"yaxis\":\"y\",\"type\":\"bar\"}],                        {\"template\":{\"data\":{\"barpolar\":[{\"marker\":{\"line\":{\"color\":\"white\",\"width\":0.5},\"pattern\":{\"fillmode\":\"overlay\",\"size\":10,\"solidity\":0.2}},\"type\":\"barpolar\"}],\"bar\":[{\"error_x\":{\"color\":\"rgb(36,36,36)\"},\"error_y\":{\"color\":\"rgb(36,36,36)\"},\"marker\":{\"line\":{\"color\":\"white\",\"width\":0.5},\"pattern\":{\"fillmode\":\"overlay\",\"size\":10,\"solidity\":0.2}},\"type\":\"bar\"}],\"carpet\":[{\"aaxis\":{\"endlinecolor\":\"rgb(36,36,36)\",\"gridcolor\":\"white\",\"linecolor\":\"white\",\"minorgridcolor\":\"white\",\"startlinecolor\":\"rgb(36,36,36)\"},\"baxis\":{\"endlinecolor\":\"rgb(36,36,36)\",\"gridcolor\":\"white\",\"linecolor\":\"white\",\"minorgridcolor\":\"white\",\"startlinecolor\":\"rgb(36,36,36)\"},\"type\":\"carpet\"}],\"choropleth\":[{\"colorbar\":{\"outlinewidth\":1,\"tickcolor\":\"rgb(36,36,36)\",\"ticks\":\"outside\"},\"type\":\"choropleth\"}],\"contourcarpet\":[{\"colorbar\":{\"outlinewidth\":1,\"tickcolor\":\"rgb(36,36,36)\",\"ticks\":\"outside\"},\"type\":\"contourcarpet\"}],\"contour\":[{\"colorbar\":{\"outlinewidth\":1,\"tickcolor\":\"rgb(36,36,36)\",\"ticks\":\"outside\"},\"colorscale\":[[0.0,\"#440154\"],[0.1111111111111111,\"#482878\"],[0.2222222222222222,\"#3e4989\"],[0.3333333333333333,\"#31688e\"],[0.4444444444444444,\"#26828e\"],[0.5555555555555556,\"#1f9e89\"],[0.6666666666666666,\"#35b779\"],[0.7777777777777778,\"#6ece58\"],[0.8888888888888888,\"#b5de2b\"],[1.0,\"#fde725\"]],\"type\":\"contour\"}],\"heatmapgl\":[{\"colorbar\":{\"outlinewidth\":1,\"tickcolor\":\"rgb(36,36,36)\",\"ticks\":\"outside\"},\"colorscale\":[[0.0,\"#440154\"],[0.1111111111111111,\"#482878\"],[0.2222222222222222,\"#3e4989\"],[0.3333333333333333,\"#31688e\"],[0.4444444444444444,\"#26828e\"],[0.5555555555555556,\"#1f9e89\"],[0.6666666666666666,\"#35b779\"],[0.7777777777777778,\"#6ece58\"],[0.8888888888888888,\"#b5de2b\"],[1.0,\"#fde725\"]],\"type\":\"heatmapgl\"}],\"heatmap\":[{\"colorbar\":{\"outlinewidth\":1,\"tickcolor\":\"rgb(36,36,36)\",\"ticks\":\"outside\"},\"colorscale\":[[0.0,\"#440154\"],[0.1111111111111111,\"#482878\"],[0.2222222222222222,\"#3e4989\"],[0.3333333333333333,\"#31688e\"],[0.4444444444444444,\"#26828e\"],[0.5555555555555556,\"#1f9e89\"],[0.6666666666666666,\"#35b779\"],[0.7777777777777778,\"#6ece58\"],[0.8888888888888888,\"#b5de2b\"],[1.0,\"#fde725\"]],\"type\":\"heatmap\"}],\"histogram2dcontour\":[{\"colorbar\":{\"outlinewidth\":1,\"tickcolor\":\"rgb(36,36,36)\",\"ticks\":\"outside\"},\"colorscale\":[[0.0,\"#440154\"],[0.1111111111111111,\"#482878\"],[0.2222222222222222,\"#3e4989\"],[0.3333333333333333,\"#31688e\"],[0.4444444444444444,\"#26828e\"],[0.5555555555555556,\"#1f9e89\"],[0.6666666666666666,\"#35b779\"],[0.7777777777777778,\"#6ece58\"],[0.8888888888888888,\"#b5de2b\"],[1.0,\"#fde725\"]],\"type\":\"histogram2dcontour\"}],\"histogram2d\":[{\"colorbar\":{\"outlinewidth\":1,\"tickcolor\":\"rgb(36,36,36)\",\"ticks\":\"outside\"},\"colorscale\":[[0.0,\"#440154\"],[0.1111111111111111,\"#482878\"],[0.2222222222222222,\"#3e4989\"],[0.3333333333333333,\"#31688e\"],[0.4444444444444444,\"#26828e\"],[0.5555555555555556,\"#1f9e89\"],[0.6666666666666666,\"#35b779\"],[0.7777777777777778,\"#6ece58\"],[0.8888888888888888,\"#b5de2b\"],[1.0,\"#fde725\"]],\"type\":\"histogram2d\"}],\"histogram\":[{\"marker\":{\"line\":{\"color\":\"white\",\"width\":0.6}},\"type\":\"histogram\"}],\"mesh3d\":[{\"colorbar\":{\"outlinewidth\":1,\"tickcolor\":\"rgb(36,36,36)\",\"ticks\":\"outside\"},\"type\":\"mesh3d\"}],\"parcoords\":[{\"line\":{\"colorbar\":{\"outlinewidth\":1,\"tickcolor\":\"rgb(36,36,36)\",\"ticks\":\"outside\"}},\"type\":\"parcoords\"}],\"pie\":[{\"automargin\":true,\"type\":\"pie\"}],\"scatter3d\":[{\"line\":{\"colorbar\":{\"outlinewidth\":1,\"tickcolor\":\"rgb(36,36,36)\",\"ticks\":\"outside\"}},\"marker\":{\"colorbar\":{\"outlinewidth\":1,\"tickcolor\":\"rgb(36,36,36)\",\"ticks\":\"outside\"}},\"type\":\"scatter3d\"}],\"scattercarpet\":[{\"marker\":{\"colorbar\":{\"outlinewidth\":1,\"tickcolor\":\"rgb(36,36,36)\",\"ticks\":\"outside\"}},\"type\":\"scattercarpet\"}],\"scattergeo\":[{\"marker\":{\"colorbar\":{\"outlinewidth\":1,\"tickcolor\":\"rgb(36,36,36)\",\"ticks\":\"outside\"}},\"type\":\"scattergeo\"}],\"scattergl\":[{\"marker\":{\"colorbar\":{\"outlinewidth\":1,\"tickcolor\":\"rgb(36,36,36)\",\"ticks\":\"outside\"}},\"type\":\"scattergl\"}],\"scattermapbox\":[{\"marker\":{\"colorbar\":{\"outlinewidth\":1,\"tickcolor\":\"rgb(36,36,36)\",\"ticks\":\"outside\"}},\"type\":\"scattermapbox\"}],\"scatterpolargl\":[{\"marker\":{\"colorbar\":{\"outlinewidth\":1,\"tickcolor\":\"rgb(36,36,36)\",\"ticks\":\"outside\"}},\"type\":\"scatterpolargl\"}],\"scatterpolar\":[{\"marker\":{\"colorbar\":{\"outlinewidth\":1,\"tickcolor\":\"rgb(36,36,36)\",\"ticks\":\"outside\"}},\"type\":\"scatterpolar\"}],\"scatter\":[{\"fillpattern\":{\"fillmode\":\"overlay\",\"size\":10,\"solidity\":0.2},\"type\":\"scatter\"}],\"scatterternary\":[{\"marker\":{\"colorbar\":{\"outlinewidth\":1,\"tickcolor\":\"rgb(36,36,36)\",\"ticks\":\"outside\"}},\"type\":\"scatterternary\"}],\"surface\":[{\"colorbar\":{\"outlinewidth\":1,\"tickcolor\":\"rgb(36,36,36)\",\"ticks\":\"outside\"},\"colorscale\":[[0.0,\"#440154\"],[0.1111111111111111,\"#482878\"],[0.2222222222222222,\"#3e4989\"],[0.3333333333333333,\"#31688e\"],[0.4444444444444444,\"#26828e\"],[0.5555555555555556,\"#1f9e89\"],[0.6666666666666666,\"#35b779\"],[0.7777777777777778,\"#6ece58\"],[0.8888888888888888,\"#b5de2b\"],[1.0,\"#fde725\"]],\"type\":\"surface\"}],\"table\":[{\"cells\":{\"fill\":{\"color\":\"rgb(237,237,237)\"},\"line\":{\"color\":\"white\"}},\"header\":{\"fill\":{\"color\":\"rgb(217,217,217)\"},\"line\":{\"color\":\"white\"}},\"type\":\"table\"}]},\"layout\":{\"annotationdefaults\":{\"arrowhead\":0,\"arrowwidth\":1},\"autotypenumbers\":\"strict\",\"coloraxis\":{\"colorbar\":{\"outlinewidth\":1,\"tickcolor\":\"rgb(36,36,36)\",\"ticks\":\"outside\"}},\"colorscale\":{\"diverging\":[[0.0,\"rgb(103,0,31)\"],[0.1,\"rgb(178,24,43)\"],[0.2,\"rgb(214,96,77)\"],[0.3,\"rgb(244,165,130)\"],[0.4,\"rgb(253,219,199)\"],[0.5,\"rgb(247,247,247)\"],[0.6,\"rgb(209,229,240)\"],[0.7,\"rgb(146,197,222)\"],[0.8,\"rgb(67,147,195)\"],[0.9,\"rgb(33,102,172)\"],[1.0,\"rgb(5,48,97)\"]],\"sequential\":[[0.0,\"#440154\"],[0.1111111111111111,\"#482878\"],[0.2222222222222222,\"#3e4989\"],[0.3333333333333333,\"#31688e\"],[0.4444444444444444,\"#26828e\"],[0.5555555555555556,\"#1f9e89\"],[0.6666666666666666,\"#35b779\"],[0.7777777777777778,\"#6ece58\"],[0.8888888888888888,\"#b5de2b\"],[1.0,\"#fde725\"]],\"sequentialminus\":[[0.0,\"#440154\"],[0.1111111111111111,\"#482878\"],[0.2222222222222222,\"#3e4989\"],[0.3333333333333333,\"#31688e\"],[0.4444444444444444,\"#26828e\"],[0.5555555555555556,\"#1f9e89\"],[0.6666666666666666,\"#35b779\"],[0.7777777777777778,\"#6ece58\"],[0.8888888888888888,\"#b5de2b\"],[1.0,\"#fde725\"]]},\"colorway\":[\"#1F77B4\",\"#FF7F0E\",\"#2CA02C\",\"#D62728\",\"#9467BD\",\"#8C564B\",\"#E377C2\",\"#7F7F7F\",\"#BCBD22\",\"#17BECF\"],\"font\":{\"color\":\"rgb(36,36,36)\"},\"geo\":{\"bgcolor\":\"white\",\"lakecolor\":\"white\",\"landcolor\":\"white\",\"showlakes\":true,\"showland\":true,\"subunitcolor\":\"white\"},\"hoverlabel\":{\"align\":\"left\"},\"hovermode\":\"closest\",\"mapbox\":{\"style\":\"light\"},\"paper_bgcolor\":\"white\",\"plot_bgcolor\":\"white\",\"polar\":{\"angularaxis\":{\"gridcolor\":\"rgb(232,232,232)\",\"linecolor\":\"rgb(36,36,36)\",\"showgrid\":false,\"showline\":true,\"ticks\":\"outside\"},\"bgcolor\":\"white\",\"radialaxis\":{\"gridcolor\":\"rgb(232,232,232)\",\"linecolor\":\"rgb(36,36,36)\",\"showgrid\":false,\"showline\":true,\"ticks\":\"outside\"}},\"scene\":{\"xaxis\":{\"backgroundcolor\":\"white\",\"gridcolor\":\"rgb(232,232,232)\",\"gridwidth\":2,\"linecolor\":\"rgb(36,36,36)\",\"showbackground\":true,\"showgrid\":false,\"showline\":true,\"ticks\":\"outside\",\"zeroline\":false,\"zerolinecolor\":\"rgb(36,36,36)\"},\"yaxis\":{\"backgroundcolor\":\"white\",\"gridcolor\":\"rgb(232,232,232)\",\"gridwidth\":2,\"linecolor\":\"rgb(36,36,36)\",\"showbackground\":true,\"showgrid\":false,\"showline\":true,\"ticks\":\"outside\",\"zeroline\":false,\"zerolinecolor\":\"rgb(36,36,36)\"},\"zaxis\":{\"backgroundcolor\":\"white\",\"gridcolor\":\"rgb(232,232,232)\",\"gridwidth\":2,\"linecolor\":\"rgb(36,36,36)\",\"showbackground\":true,\"showgrid\":false,\"showline\":true,\"ticks\":\"outside\",\"zeroline\":false,\"zerolinecolor\":\"rgb(36,36,36)\"}},\"shapedefaults\":{\"fillcolor\":\"black\",\"line\":{\"width\":0},\"opacity\":0.3},\"ternary\":{\"aaxis\":{\"gridcolor\":\"rgb(232,232,232)\",\"linecolor\":\"rgb(36,36,36)\",\"showgrid\":false,\"showline\":true,\"ticks\":\"outside\"},\"baxis\":{\"gridcolor\":\"rgb(232,232,232)\",\"linecolor\":\"rgb(36,36,36)\",\"showgrid\":false,\"showline\":true,\"ticks\":\"outside\"},\"bgcolor\":\"white\",\"caxis\":{\"gridcolor\":\"rgb(232,232,232)\",\"linecolor\":\"rgb(36,36,36)\",\"showgrid\":false,\"showline\":true,\"ticks\":\"outside\"}},\"title\":{\"x\":0.05},\"xaxis\":{\"automargin\":true,\"gridcolor\":\"rgb(232,232,232)\",\"linecolor\":\"rgb(36,36,36)\",\"showgrid\":false,\"showline\":true,\"ticks\":\"outside\",\"title\":{\"standoff\":15},\"zeroline\":false,\"zerolinecolor\":\"rgb(36,36,36)\"},\"yaxis\":{\"automargin\":true,\"gridcolor\":\"rgb(232,232,232)\",\"linecolor\":\"rgb(36,36,36)\",\"showgrid\":false,\"showline\":true,\"ticks\":\"outside\",\"title\":{\"standoff\":15},\"zeroline\":false,\"zerolinecolor\":\"rgb(36,36,36)\"}}},\"xaxis\":{\"anchor\":\"y\",\"domain\":[0.0,1.0],\"title\":{\"text\":\"target\"}},\"yaxis\":{\"anchor\":\"x\",\"domain\":[0.0,1.0],\"title\":{\"text\":\"AvgMeanTexture\"}},\"coloraxis\":{\"colorbar\":{\"title\":{\"text\":\"target\"}},\"colorscale\":[[0.0,\"#440154\"],[0.1111111111111111,\"#482878\"],[0.2222222222222222,\"#3e4989\"],[0.3333333333333333,\"#31688e\"],[0.4444444444444444,\"#26828e\"],[0.5555555555555556,\"#1f9e89\"],[0.6666666666666666,\"#35b779\"],[0.7777777777777778,\"#6ece58\"],[0.8888888888888888,\"#b5de2b\"],[1.0,\"#fde725\"]]},\"legend\":{\"tracegroupgap\":0},\"title\":{\"text\":\"Avg Mean Texture Target Wise\"},\"barmode\":\"relative\"},                        {\"responsive\": true}                    ).then(function(){\n",
       "                            \n",
       "var gd = document.getElementById('f01e651f-f896-4b8f-9f93-027abab115c4');\n",
       "var x = new MutationObserver(function (mutations, observer) {{\n",
       "        var display = window.getComputedStyle(gd).display;\n",
       "        if (!display || display === 'none') {{\n",
       "            console.log([gd, 'removed!']);\n",
       "            Plotly.purge(gd);\n",
       "            observer.disconnect();\n",
       "        }}\n",
       "}});\n",
       "\n",
       "// Listen for the removal of the full notebook cells\n",
       "var notebookContainer = gd.closest('#notebook-container');\n",
       "if (notebookContainer) {{\n",
       "    x.observe(notebookContainer, {childList: true});\n",
       "}}\n",
       "\n",
       "// Listen for the clearing of the current output cell\n",
       "var outputEl = gd.closest('.output');\n",
       "if (outputEl) {{\n",
       "    x.observe(outputEl, {childList: true});\n",
       "}}\n",
       "\n",
       "                        })                };                });            </script>        </div>"
      ]
     },
     "metadata": {},
     "output_type": "display_data"
    }
   ],
   "source": [
    "query = '''\n",
    "\n",
    "select target,round(avg(mean_texture),2) as AvgMeanTexture \n",
    "from data group by target\n",
    "'''\n",
    "temp = run_query(query)\n",
    "\n",
    "fig = px.bar(temp, x='target', y='AvgMeanTexture', template='simple_white', \n",
    "                 title='Avg Mean Texture Target Wise',color='target',\n",
    "                 hover_data=[\"target\"])\n",
    "fig.show()"
   ]
  },
  {
   "cell_type": "markdown",
   "id": "99bec748",
   "metadata": {
    "papermill": {
     "duration": 0.026859,
     "end_time": "2024-04-14T14:17:50.954480",
     "exception": false,
     "start_time": "2024-04-14T14:17:50.927621",
     "status": "completed"
    },
    "tags": []
   },
   "source": [
    "## What is the spread of Mean Compactness??\n",
    "\n",
    "Compactness is a measure of how densely packed the cells of a tumor are. It is an important factor in determining the prognosis of a cancer patient. Compactness is used to classify tumors into different types, such as solid or non-solid. Solid tumors tend to have higher compactness and can be more difficult to treat. Non-solid tumors tend to be less dense and can often be treated more easily."
   ]
  },
  {
   "cell_type": "code",
   "execution_count": 12,
   "id": "813e3a57",
   "metadata": {
    "execution": {
     "iopub.execute_input": "2024-04-14T14:17:51.008070Z",
     "iopub.status.busy": "2024-04-14T14:17:51.007728Z",
     "iopub.status.idle": "2024-04-14T14:17:51.077837Z",
     "shell.execute_reply": "2024-04-14T14:17:51.077081Z"
    },
    "papermill": {
     "duration": 0.098894,
     "end_time": "2024-04-14T14:17:51.079641",
     "exception": false,
     "start_time": "2024-04-14T14:17:50.980747",
     "status": "completed"
    },
    "tags": []
   },
   "outputs": [
    {
     "data": {
      "text/html": [
       "<div>                            <div id=\"e3e76a2e-5c02-48fa-9031-2bd3e8bf40d6\" class=\"plotly-graph-div\" style=\"height:525px; width:100%;\"></div>            <script type=\"text/javascript\">                require([\"plotly\"], function(Plotly) {                    window.PLOTLYENV=window.PLOTLYENV || {};                                    if (document.getElementById(\"e3e76a2e-5c02-48fa-9031-2bd3e8bf40d6\")) {                    Plotly.newPlot(                        \"e3e76a2e-5c02-48fa-9031-2bd3e8bf40d6\",                        [{\"alignmentgroup\":\"True\",\"hovertemplate\":\"target=%{marker.color}<br>AvgMeancompactness=%{y}<extra></extra>\",\"legendgroup\":\"\",\"marker\":{\"color\":[0,1],\"coloraxis\":\"coloraxis\",\"pattern\":{\"shape\":\"\"}},\"name\":\"\",\"offsetgroup\":\"\",\"orientation\":\"v\",\"showlegend\":false,\"textposition\":\"auto\",\"x\":[0,1],\"xaxis\":\"x\",\"y\":[0.15,0.08],\"yaxis\":\"y\",\"type\":\"bar\"}],                        {\"template\":{\"data\":{\"barpolar\":[{\"marker\":{\"line\":{\"color\":\"white\",\"width\":0.5},\"pattern\":{\"fillmode\":\"overlay\",\"size\":10,\"solidity\":0.2}},\"type\":\"barpolar\"}],\"bar\":[{\"error_x\":{\"color\":\"rgb(36,36,36)\"},\"error_y\":{\"color\":\"rgb(36,36,36)\"},\"marker\":{\"line\":{\"color\":\"white\",\"width\":0.5},\"pattern\":{\"fillmode\":\"overlay\",\"size\":10,\"solidity\":0.2}},\"type\":\"bar\"}],\"carpet\":[{\"aaxis\":{\"endlinecolor\":\"rgb(36,36,36)\",\"gridcolor\":\"white\",\"linecolor\":\"white\",\"minorgridcolor\":\"white\",\"startlinecolor\":\"rgb(36,36,36)\"},\"baxis\":{\"endlinecolor\":\"rgb(36,36,36)\",\"gridcolor\":\"white\",\"linecolor\":\"white\",\"minorgridcolor\":\"white\",\"startlinecolor\":\"rgb(36,36,36)\"},\"type\":\"carpet\"}],\"choropleth\":[{\"colorbar\":{\"outlinewidth\":1,\"tickcolor\":\"rgb(36,36,36)\",\"ticks\":\"outside\"},\"type\":\"choropleth\"}],\"contourcarpet\":[{\"colorbar\":{\"outlinewidth\":1,\"tickcolor\":\"rgb(36,36,36)\",\"ticks\":\"outside\"},\"type\":\"contourcarpet\"}],\"contour\":[{\"colorbar\":{\"outlinewidth\":1,\"tickcolor\":\"rgb(36,36,36)\",\"ticks\":\"outside\"},\"colorscale\":[[0.0,\"#440154\"],[0.1111111111111111,\"#482878\"],[0.2222222222222222,\"#3e4989\"],[0.3333333333333333,\"#31688e\"],[0.4444444444444444,\"#26828e\"],[0.5555555555555556,\"#1f9e89\"],[0.6666666666666666,\"#35b779\"],[0.7777777777777778,\"#6ece58\"],[0.8888888888888888,\"#b5de2b\"],[1.0,\"#fde725\"]],\"type\":\"contour\"}],\"heatmapgl\":[{\"colorbar\":{\"outlinewidth\":1,\"tickcolor\":\"rgb(36,36,36)\",\"ticks\":\"outside\"},\"colorscale\":[[0.0,\"#440154\"],[0.1111111111111111,\"#482878\"],[0.2222222222222222,\"#3e4989\"],[0.3333333333333333,\"#31688e\"],[0.4444444444444444,\"#26828e\"],[0.5555555555555556,\"#1f9e89\"],[0.6666666666666666,\"#35b779\"],[0.7777777777777778,\"#6ece58\"],[0.8888888888888888,\"#b5de2b\"],[1.0,\"#fde725\"]],\"type\":\"heatmapgl\"}],\"heatmap\":[{\"colorbar\":{\"outlinewidth\":1,\"tickcolor\":\"rgb(36,36,36)\",\"ticks\":\"outside\"},\"colorscale\":[[0.0,\"#440154\"],[0.1111111111111111,\"#482878\"],[0.2222222222222222,\"#3e4989\"],[0.3333333333333333,\"#31688e\"],[0.4444444444444444,\"#26828e\"],[0.5555555555555556,\"#1f9e89\"],[0.6666666666666666,\"#35b779\"],[0.7777777777777778,\"#6ece58\"],[0.8888888888888888,\"#b5de2b\"],[1.0,\"#fde725\"]],\"type\":\"heatmap\"}],\"histogram2dcontour\":[{\"colorbar\":{\"outlinewidth\":1,\"tickcolor\":\"rgb(36,36,36)\",\"ticks\":\"outside\"},\"colorscale\":[[0.0,\"#440154\"],[0.1111111111111111,\"#482878\"],[0.2222222222222222,\"#3e4989\"],[0.3333333333333333,\"#31688e\"],[0.4444444444444444,\"#26828e\"],[0.5555555555555556,\"#1f9e89\"],[0.6666666666666666,\"#35b779\"],[0.7777777777777778,\"#6ece58\"],[0.8888888888888888,\"#b5de2b\"],[1.0,\"#fde725\"]],\"type\":\"histogram2dcontour\"}],\"histogram2d\":[{\"colorbar\":{\"outlinewidth\":1,\"tickcolor\":\"rgb(36,36,36)\",\"ticks\":\"outside\"},\"colorscale\":[[0.0,\"#440154\"],[0.1111111111111111,\"#482878\"],[0.2222222222222222,\"#3e4989\"],[0.3333333333333333,\"#31688e\"],[0.4444444444444444,\"#26828e\"],[0.5555555555555556,\"#1f9e89\"],[0.6666666666666666,\"#35b779\"],[0.7777777777777778,\"#6ece58\"],[0.8888888888888888,\"#b5de2b\"],[1.0,\"#fde725\"]],\"type\":\"histogram2d\"}],\"histogram\":[{\"marker\":{\"line\":{\"color\":\"white\",\"width\":0.6}},\"type\":\"histogram\"}],\"mesh3d\":[{\"colorbar\":{\"outlinewidth\":1,\"tickcolor\":\"rgb(36,36,36)\",\"ticks\":\"outside\"},\"type\":\"mesh3d\"}],\"parcoords\":[{\"line\":{\"colorbar\":{\"outlinewidth\":1,\"tickcolor\":\"rgb(36,36,36)\",\"ticks\":\"outside\"}},\"type\":\"parcoords\"}],\"pie\":[{\"automargin\":true,\"type\":\"pie\"}],\"scatter3d\":[{\"line\":{\"colorbar\":{\"outlinewidth\":1,\"tickcolor\":\"rgb(36,36,36)\",\"ticks\":\"outside\"}},\"marker\":{\"colorbar\":{\"outlinewidth\":1,\"tickcolor\":\"rgb(36,36,36)\",\"ticks\":\"outside\"}},\"type\":\"scatter3d\"}],\"scattercarpet\":[{\"marker\":{\"colorbar\":{\"outlinewidth\":1,\"tickcolor\":\"rgb(36,36,36)\",\"ticks\":\"outside\"}},\"type\":\"scattercarpet\"}],\"scattergeo\":[{\"marker\":{\"colorbar\":{\"outlinewidth\":1,\"tickcolor\":\"rgb(36,36,36)\",\"ticks\":\"outside\"}},\"type\":\"scattergeo\"}],\"scattergl\":[{\"marker\":{\"colorbar\":{\"outlinewidth\":1,\"tickcolor\":\"rgb(36,36,36)\",\"ticks\":\"outside\"}},\"type\":\"scattergl\"}],\"scattermapbox\":[{\"marker\":{\"colorbar\":{\"outlinewidth\":1,\"tickcolor\":\"rgb(36,36,36)\",\"ticks\":\"outside\"}},\"type\":\"scattermapbox\"}],\"scatterpolargl\":[{\"marker\":{\"colorbar\":{\"outlinewidth\":1,\"tickcolor\":\"rgb(36,36,36)\",\"ticks\":\"outside\"}},\"type\":\"scatterpolargl\"}],\"scatterpolar\":[{\"marker\":{\"colorbar\":{\"outlinewidth\":1,\"tickcolor\":\"rgb(36,36,36)\",\"ticks\":\"outside\"}},\"type\":\"scatterpolar\"}],\"scatter\":[{\"fillpattern\":{\"fillmode\":\"overlay\",\"size\":10,\"solidity\":0.2},\"type\":\"scatter\"}],\"scatterternary\":[{\"marker\":{\"colorbar\":{\"outlinewidth\":1,\"tickcolor\":\"rgb(36,36,36)\",\"ticks\":\"outside\"}},\"type\":\"scatterternary\"}],\"surface\":[{\"colorbar\":{\"outlinewidth\":1,\"tickcolor\":\"rgb(36,36,36)\",\"ticks\":\"outside\"},\"colorscale\":[[0.0,\"#440154\"],[0.1111111111111111,\"#482878\"],[0.2222222222222222,\"#3e4989\"],[0.3333333333333333,\"#31688e\"],[0.4444444444444444,\"#26828e\"],[0.5555555555555556,\"#1f9e89\"],[0.6666666666666666,\"#35b779\"],[0.7777777777777778,\"#6ece58\"],[0.8888888888888888,\"#b5de2b\"],[1.0,\"#fde725\"]],\"type\":\"surface\"}],\"table\":[{\"cells\":{\"fill\":{\"color\":\"rgb(237,237,237)\"},\"line\":{\"color\":\"white\"}},\"header\":{\"fill\":{\"color\":\"rgb(217,217,217)\"},\"line\":{\"color\":\"white\"}},\"type\":\"table\"}]},\"layout\":{\"annotationdefaults\":{\"arrowhead\":0,\"arrowwidth\":1},\"autotypenumbers\":\"strict\",\"coloraxis\":{\"colorbar\":{\"outlinewidth\":1,\"tickcolor\":\"rgb(36,36,36)\",\"ticks\":\"outside\"}},\"colorscale\":{\"diverging\":[[0.0,\"rgb(103,0,31)\"],[0.1,\"rgb(178,24,43)\"],[0.2,\"rgb(214,96,77)\"],[0.3,\"rgb(244,165,130)\"],[0.4,\"rgb(253,219,199)\"],[0.5,\"rgb(247,247,247)\"],[0.6,\"rgb(209,229,240)\"],[0.7,\"rgb(146,197,222)\"],[0.8,\"rgb(67,147,195)\"],[0.9,\"rgb(33,102,172)\"],[1.0,\"rgb(5,48,97)\"]],\"sequential\":[[0.0,\"#440154\"],[0.1111111111111111,\"#482878\"],[0.2222222222222222,\"#3e4989\"],[0.3333333333333333,\"#31688e\"],[0.4444444444444444,\"#26828e\"],[0.5555555555555556,\"#1f9e89\"],[0.6666666666666666,\"#35b779\"],[0.7777777777777778,\"#6ece58\"],[0.8888888888888888,\"#b5de2b\"],[1.0,\"#fde725\"]],\"sequentialminus\":[[0.0,\"#440154\"],[0.1111111111111111,\"#482878\"],[0.2222222222222222,\"#3e4989\"],[0.3333333333333333,\"#31688e\"],[0.4444444444444444,\"#26828e\"],[0.5555555555555556,\"#1f9e89\"],[0.6666666666666666,\"#35b779\"],[0.7777777777777778,\"#6ece58\"],[0.8888888888888888,\"#b5de2b\"],[1.0,\"#fde725\"]]},\"colorway\":[\"#1F77B4\",\"#FF7F0E\",\"#2CA02C\",\"#D62728\",\"#9467BD\",\"#8C564B\",\"#E377C2\",\"#7F7F7F\",\"#BCBD22\",\"#17BECF\"],\"font\":{\"color\":\"rgb(36,36,36)\"},\"geo\":{\"bgcolor\":\"white\",\"lakecolor\":\"white\",\"landcolor\":\"white\",\"showlakes\":true,\"showland\":true,\"subunitcolor\":\"white\"},\"hoverlabel\":{\"align\":\"left\"},\"hovermode\":\"closest\",\"mapbox\":{\"style\":\"light\"},\"paper_bgcolor\":\"white\",\"plot_bgcolor\":\"white\",\"polar\":{\"angularaxis\":{\"gridcolor\":\"rgb(232,232,232)\",\"linecolor\":\"rgb(36,36,36)\",\"showgrid\":false,\"showline\":true,\"ticks\":\"outside\"},\"bgcolor\":\"white\",\"radialaxis\":{\"gridcolor\":\"rgb(232,232,232)\",\"linecolor\":\"rgb(36,36,36)\",\"showgrid\":false,\"showline\":true,\"ticks\":\"outside\"}},\"scene\":{\"xaxis\":{\"backgroundcolor\":\"white\",\"gridcolor\":\"rgb(232,232,232)\",\"gridwidth\":2,\"linecolor\":\"rgb(36,36,36)\",\"showbackground\":true,\"showgrid\":false,\"showline\":true,\"ticks\":\"outside\",\"zeroline\":false,\"zerolinecolor\":\"rgb(36,36,36)\"},\"yaxis\":{\"backgroundcolor\":\"white\",\"gridcolor\":\"rgb(232,232,232)\",\"gridwidth\":2,\"linecolor\":\"rgb(36,36,36)\",\"showbackground\":true,\"showgrid\":false,\"showline\":true,\"ticks\":\"outside\",\"zeroline\":false,\"zerolinecolor\":\"rgb(36,36,36)\"},\"zaxis\":{\"backgroundcolor\":\"white\",\"gridcolor\":\"rgb(232,232,232)\",\"gridwidth\":2,\"linecolor\":\"rgb(36,36,36)\",\"showbackground\":true,\"showgrid\":false,\"showline\":true,\"ticks\":\"outside\",\"zeroline\":false,\"zerolinecolor\":\"rgb(36,36,36)\"}},\"shapedefaults\":{\"fillcolor\":\"black\",\"line\":{\"width\":0},\"opacity\":0.3},\"ternary\":{\"aaxis\":{\"gridcolor\":\"rgb(232,232,232)\",\"linecolor\":\"rgb(36,36,36)\",\"showgrid\":false,\"showline\":true,\"ticks\":\"outside\"},\"baxis\":{\"gridcolor\":\"rgb(232,232,232)\",\"linecolor\":\"rgb(36,36,36)\",\"showgrid\":false,\"showline\":true,\"ticks\":\"outside\"},\"bgcolor\":\"white\",\"caxis\":{\"gridcolor\":\"rgb(232,232,232)\",\"linecolor\":\"rgb(36,36,36)\",\"showgrid\":false,\"showline\":true,\"ticks\":\"outside\"}},\"title\":{\"x\":0.05},\"xaxis\":{\"automargin\":true,\"gridcolor\":\"rgb(232,232,232)\",\"linecolor\":\"rgb(36,36,36)\",\"showgrid\":false,\"showline\":true,\"ticks\":\"outside\",\"title\":{\"standoff\":15},\"zeroline\":false,\"zerolinecolor\":\"rgb(36,36,36)\"},\"yaxis\":{\"automargin\":true,\"gridcolor\":\"rgb(232,232,232)\",\"linecolor\":\"rgb(36,36,36)\",\"showgrid\":false,\"showline\":true,\"ticks\":\"outside\",\"title\":{\"standoff\":15},\"zeroline\":false,\"zerolinecolor\":\"rgb(36,36,36)\"}}},\"xaxis\":{\"anchor\":\"y\",\"domain\":[0.0,1.0],\"title\":{\"text\":\"target\"}},\"yaxis\":{\"anchor\":\"x\",\"domain\":[0.0,1.0],\"title\":{\"text\":\"AvgMeancompactness\"}},\"coloraxis\":{\"colorbar\":{\"title\":{\"text\":\"target\"}},\"colorscale\":[[0.0,\"#440154\"],[0.1111111111111111,\"#482878\"],[0.2222222222222222,\"#3e4989\"],[0.3333333333333333,\"#31688e\"],[0.4444444444444444,\"#26828e\"],[0.5555555555555556,\"#1f9e89\"],[0.6666666666666666,\"#35b779\"],[0.7777777777777778,\"#6ece58\"],[0.8888888888888888,\"#b5de2b\"],[1.0,\"#fde725\"]]},\"legend\":{\"tracegroupgap\":0},\"title\":{\"text\":\"Avg Mean compactness, Target Wise\"},\"barmode\":\"relative\"},                        {\"responsive\": true}                    ).then(function(){\n",
       "                            \n",
       "var gd = document.getElementById('e3e76a2e-5c02-48fa-9031-2bd3e8bf40d6');\n",
       "var x = new MutationObserver(function (mutations, observer) {{\n",
       "        var display = window.getComputedStyle(gd).display;\n",
       "        if (!display || display === 'none') {{\n",
       "            console.log([gd, 'removed!']);\n",
       "            Plotly.purge(gd);\n",
       "            observer.disconnect();\n",
       "        }}\n",
       "}});\n",
       "\n",
       "// Listen for the removal of the full notebook cells\n",
       "var notebookContainer = gd.closest('#notebook-container');\n",
       "if (notebookContainer) {{\n",
       "    x.observe(notebookContainer, {childList: true});\n",
       "}}\n",
       "\n",
       "// Listen for the clearing of the current output cell\n",
       "var outputEl = gd.closest('.output');\n",
       "if (outputEl) {{\n",
       "    x.observe(outputEl, {childList: true});\n",
       "}}\n",
       "\n",
       "                        })                };                });            </script>        </div>"
      ]
     },
     "metadata": {},
     "output_type": "display_data"
    }
   ],
   "source": [
    "query = '''\n",
    "\n",
    "select target,round(avg(mean_compactness),2) as AvgMeancompactness \n",
    "from data group by target\n",
    "'''\n",
    "temp = run_query(query)\n",
    "\n",
    "fig = px.bar(temp, x='target', y='AvgMeancompactness', template='simple_white', \n",
    "                 title='Avg Mean compactness, Target Wise',color='target',\n",
    "                 hover_data=[\"target\"])\n",
    "fig.show()"
   ]
  },
  {
   "cell_type": "code",
   "execution_count": 13,
   "id": "fdc55f0f",
   "metadata": {
    "execution": {
     "iopub.execute_input": "2024-04-14T14:17:51.133205Z",
     "iopub.status.busy": "2024-04-14T14:17:51.132917Z",
     "iopub.status.idle": "2024-04-14T14:17:51.143310Z",
     "shell.execute_reply": "2024-04-14T14:17:51.142545Z"
    },
    "papermill": {
     "duration": 0.039295,
     "end_time": "2024-04-14T14:17:51.145172",
     "exception": false,
     "start_time": "2024-04-14T14:17:51.105877",
     "status": "completed"
    },
    "tags": []
   },
   "outputs": [
    {
     "data": {
      "text/html": [
       "<div>\n",
       "<style scoped>\n",
       "    .dataframe tbody tr th:only-of-type {\n",
       "        vertical-align: middle;\n",
       "    }\n",
       "\n",
       "    .dataframe tbody tr th {\n",
       "        vertical-align: top;\n",
       "    }\n",
       "\n",
       "    .dataframe thead th {\n",
       "        text-align: right;\n",
       "    }\n",
       "</style>\n",
       "<table border=\"1\" class=\"dataframe\">\n",
       "  <thead>\n",
       "    <tr style=\"text-align: right;\">\n",
       "      <th></th>\n",
       "      <th>target</th>\n",
       "      <th>Max_MeanCompactness</th>\n",
       "      <th>Min_MeanCompactness</th>\n",
       "    </tr>\n",
       "  </thead>\n",
       "  <tbody>\n",
       "    <tr>\n",
       "      <th>0</th>\n",
       "      <td>0</td>\n",
       "      <td>0.345</td>\n",
       "      <td>0.046</td>\n",
       "    </tr>\n",
       "    <tr>\n",
       "      <th>1</th>\n",
       "      <td>1</td>\n",
       "      <td>0.224</td>\n",
       "      <td>0.019</td>\n",
       "    </tr>\n",
       "  </tbody>\n",
       "</table>\n",
       "</div>"
      ],
      "text/plain": [
       "   target  Max_MeanCompactness  Min_MeanCompactness\n",
       "0       0                0.345                0.046\n",
       "1       1                0.224                0.019"
      ]
     },
     "execution_count": 13,
     "metadata": {},
     "output_type": "execute_result"
    }
   ],
   "source": [
    "query = '''\n",
    "\n",
    "SELECT\n",
    "    target, round(max(mean_compactness),3) as Max_MeanCompactness, \n",
    "    round(min(mean_compactness),3) as Min_MeanCompactness from data where target = 0\n",
    "    \n",
    "UNION\n",
    "\n",
    "SELECT\n",
    "    target, round(max(mean_compactness),3) as Max_MeanCompactness, \n",
    "    round(min(mean_compactness),3) as Min_MeanCompactness from data where target = 1\n",
    "\n",
    "'''\n",
    "temp = run_query(query)\n",
    "temp"
   ]
  },
  {
   "cell_type": "markdown",
   "id": "a5c80c3d",
   "metadata": {
    "papermill": {
     "duration": 0.027023,
     "end_time": "2024-04-14T14:17:51.199075",
     "exception": false,
     "start_time": "2024-04-14T14:17:51.172052",
     "status": "completed"
    },
    "tags": []
   },
   "source": [
    "## What is the spread of Symmetry Error??"
   ]
  },
  {
   "cell_type": "markdown",
   "id": "a77218a3",
   "metadata": {
    "papermill": {
     "duration": 0.026278,
     "end_time": "2024-04-14T14:17:51.251810",
     "exception": false,
     "start_time": "2024-04-14T14:17:51.225532",
     "status": "completed"
    },
    "tags": []
   },
   "source": [
    "Symmetry error is when there is an uneven or asymmetrical distribution of concave points across the tumor surface. This may indicate that the tumor is not benign, or not completely benign, but rather has malignant areas."
   ]
  },
  {
   "cell_type": "code",
   "execution_count": 14,
   "id": "c5105294",
   "metadata": {
    "execution": {
     "iopub.execute_input": "2024-04-14T14:17:51.307064Z",
     "iopub.status.busy": "2024-04-14T14:17:51.306346Z",
     "iopub.status.idle": "2024-04-14T14:17:51.406671Z",
     "shell.execute_reply": "2024-04-14T14:17:51.405912Z"
    },
    "papermill": {
     "duration": 0.130468,
     "end_time": "2024-04-14T14:17:51.408566",
     "exception": false,
     "start_time": "2024-04-14T14:17:51.278098",
     "status": "completed"
    },
    "tags": []
   },
   "outputs": [
    {
     "data": {
      "text/html": [
       "<div>                            <div id=\"025f57e7-0fd4-4240-aeab-aad96a8864ea\" class=\"plotly-graph-div\" style=\"height:525px; width:100%;\"></div>            <script type=\"text/javascript\">                require([\"plotly\"], function(Plotly) {                    window.PLOTLYENV=window.PLOTLYENV || {};                                    if (document.getElementById(\"025f57e7-0fd4-4240-aeab-aad96a8864ea\")) {                    Plotly.newPlot(                        \"025f57e7-0fd4-4240-aeab-aad96a8864ea\",                        [{\"customdata\":[[0],[0],[0],[0],[0],[0],[0],[0],[0],[0],[0],[0],[0],[0],[0],[0],[0],[0],[0],[1],[1],[1],[0],[0],[0],[0],[0],[0],[0],[0],[0],[0],[0],[0],[0],[0],[0],[1],[0],[0],[0],[0],[0],[0],[0],[0],[1],[0],[1],[1],[1],[1],[1],[0],[0],[1],[0],[0],[1],[1],[1],[1],[0],[1],[0],[0],[1],[1],[1],[1],[0],[1],[0],[0],[1],[0],[1],[0],[0],[1],[1],[1],[0],[0],[1],[0],[0],[0],[1],[1],[1],[0],[1],[1],[0],[0],[1],[1],[1],[0],[0],[1],[1],[1],[1],[0],[1],[1],[0],[1],[1],[1],[1],[1],[1],[1],[1],[0],[0],[0],[1],[0],[0],[1],[1],[1],[0],[0],[1],[0],[1],[0],[0],[1],[0],[0],[1],[1],[0],[1],[1],[0],[1],[1],[1],[1],[0],[1],[1],[1],[1],[1],[1],[1],[1],[1],[0],[1],[1],[1],[1],[0],[0],[1],[0],[1],[1],[0],[0],[1],[1],[0],[0],[1],[1],[1],[1],[0],[1],[1],[0],[0],[0],[1],[0],[1],[0],[1],[1],[1],[0],[1],[1],[0],[0],[1],[0],[0],[0],[0],[1],[0],[0],[0],[1],[0],[1],[0],[1],[1],[0],[1],[0],[0],[0],[0],[1],[1],[0],[0],[1],[1],[1],[0],[1],[1],[1],[1],[1],[0],[0],[1],[1],[0],[1],[1],[0],[0],[1],[0],[1],[1],[1],[1],[0],[1],[1],[1],[1],[1],[0],[1],[0],[0],[0],[0],[0],[0],[0],[0],[0],[0],[0],[0],[0],[0],[1],[1],[1],[1],[1],[1],[0],[1],[0],[1],[1],[0],[1],[1],[0],[1],[0],[0],[1],[1],[1],[1],[1],[1],[1],[1],[1],[1],[1],[1],[1],[0],[1],[1],[0],[1],[0],[1],[1],[1],[1],[1],[1],[1],[1],[1],[1],[1],[1],[1],[1],[0],[1],[1],[1],[0],[1],[0],[1],[1],[1],[1],[0],[0],[0],[1],[1],[1],[1],[0],[1],[0],[1],[0],[1],[1],[1],[0],[1],[1],[1],[1],[1],[1],[1],[0],[0],[0],[1],[1],[1],[1],[1],[1],[1],[1],[1],[1],[1],[0],[0],[1],[0],[0],[0],[1],[0],[0],[1],[1],[1],[1],[1],[0],[1],[1],[1],[1],[1],[0],[1],[1],[1],[0],[1],[1],[0],[0],[1],[1],[1],[1],[1],[1],[0],[1],[1],[1],[1],[1],[1],[1],[0],[1],[1],[1],[1],[1],[0],[1],[1],[0],[1],[1],[1],[1],[1],[1],[1],[1],[1],[1],[1],[1],[0],[1],[0],[0],[1],[0],[1],[1],[1],[1],[1],[0],[1],[1],[0],[1],[0],[1],[1],[0],[1],[0],[1],[1],[1],[1],[1],[1],[1],[1],[0],[0],[1],[1],[1],[1],[1],[1],[0],[1],[1],[1],[1],[1],[1],[1],[1],[1],[1],[0],[1],[1],[1],[1],[1],[1],[1],[0],[1],[0],[1],[1],[0],[1],[1],[1],[1],[1],[0],[0],[1],[0],[1],[0],[1],[1],[1],[1],[1],[0],[1],[1],[0],[1],[0],[1],[0],[0],[1],[1],[1],[0],[1],[1],[1],[1],[1],[1],[1],[1],[1],[1],[1],[0],[1],[0],[0],[1],[1],[1],[1],[1],[1],[1],[1],[1],[1],[1],[1],[1],[1],[1],[1],[1],[1],[1],[1],[1],[1],[1],[1],[1],[0],[0],[0],[0],[0],[0],[1]],\"hovertemplate\":\"Symmetry Error=%{marker.size}<br>index=%{y}<br>target=%{marker.color}<extra></extra>\",\"legendgroup\":\"\",\"marker\":{\"color\":[0,0,0,0,0,0,0,0,0,0,0,0,0,0,0,0,0,0,0,1,1,1,0,0,0,0,0,0,0,0,0,0,0,0,0,0,0,1,0,0,0,0,0,0,0,0,1,0,1,1,1,1,1,0,0,1,0,0,1,1,1,1,0,1,0,0,1,1,1,1,0,1,0,0,1,0,1,0,0,1,1,1,0,0,1,0,0,0,1,1,1,0,1,1,0,0,1,1,1,0,0,1,1,1,1,0,1,1,0,1,1,1,1,1,1,1,1,0,0,0,1,0,0,1,1,1,0,0,1,0,1,0,0,1,0,0,1,1,0,1,1,0,1,1,1,1,0,1,1,1,1,1,1,1,1,1,0,1,1,1,1,0,0,1,0,1,1,0,0,1,1,0,0,1,1,1,1,0,1,1,0,0,0,1,0,1,0,1,1,1,0,1,1,0,0,1,0,0,0,0,1,0,0,0,1,0,1,0,1,1,0,1,0,0,0,0,1,1,0,0,1,1,1,0,1,1,1,1,1,0,0,1,1,0,1,1,0,0,1,0,1,1,1,1,0,1,1,1,1,1,0,1,0,0,0,0,0,0,0,0,0,0,0,0,0,0,1,1,1,1,1,1,0,1,0,1,1,0,1,1,0,1,0,0,1,1,1,1,1,1,1,1,1,1,1,1,1,0,1,1,0,1,0,1,1,1,1,1,1,1,1,1,1,1,1,1,1,0,1,1,1,0,1,0,1,1,1,1,0,0,0,1,1,1,1,0,1,0,1,0,1,1,1,0,1,1,1,1,1,1,1,0,0,0,1,1,1,1,1,1,1,1,1,1,1,0,0,1,0,0,0,1,0,0,1,1,1,1,1,0,1,1,1,1,1,0,1,1,1,0,1,1,0,0,1,1,1,1,1,1,0,1,1,1,1,1,1,1,0,1,1,1,1,1,0,1,1,0,1,1,1,1,1,1,1,1,1,1,1,1,0,1,0,0,1,0,1,1,1,1,1,0,1,1,0,1,0,1,1,0,1,0,1,1,1,1,1,1,1,1,0,0,1,1,1,1,1,1,0,1,1,1,1,1,1,1,1,1,1,0,1,1,1,1,1,1,1,0,1,0,1,1,0,1,1,1,1,1,0,0,1,0,1,0,1,1,1,1,1,0,1,1,0,1,0,1,0,0,1,1,1,0,1,1,1,1,1,1,1,1,1,1,1,0,1,0,0,1,1,1,1,1,1,1,1,1,1,1,1,1,1,1,1,1,1,1,1,1,1,1,1,1,0,0,0,0,0,0,1],\"coloraxis\":\"coloraxis\",\"size\":[0.03003,0.01389,0.0225,0.05963,0.01756,0.02165,0.01369,0.01486,0.02143,0.01789,0.0146,0.02008,0.04484,0.02981,0.01961,0.01857,0.0141,0.01689,0.01356,0.0198,0.01678,0.02027,0.03672,0.01083,0.01468,0.02308,0.01454,0.02293,0.01768,0.01925,0.02007,0.02273,0.02102,0.01543,0.01703,0.02789,0.02028,0.02671,0.007882,0.01377,0.0138,0.01357,0.05333,0.01719,0.01113,0.02428,0.02574,0.01743,0.01428,0.01641,0.02406,0.01325,0.01996,0.02674,0.01095,0.03218,0.01852,0.01817,0.0219,0.0209,0.04183,0.03357,0.017,0.04192,0.01635,0.019,0.02279,0.02183,0.04197,0.02254,0.01386,0.02541,0.01527,0.0122,0.01386,0.0155,0.02572,0.02591,0.07895,0.01748,0.01816,0.02134,0.01065,0.03056,0.01972,0.0237,0.02418,0.01964,0.01958,0.02427,0.02085,0.02471,0.01069,0.01884,0.01498,0.02657,0.0222,0.01801,0.01651,0.01462,0.01465,0.02659,0.01447,0.01609,0.0271,0.01547,0.01565,0.01251,0.03112,0.01568,0.03281,0.02144,0.02566,0.02287,0.01708,0.01278,0.02384,0.01602,0.01495,0.05014,0.01344,0.02045,0.04547,0.0191,0.01208,0.01247,0.01323,0.0203,0.02353,0.01578,0.02662,0.01397,0.01535,0.01669,0.01492,0.01647,0.01359,0.01501,0.05168,0.0158,0.02277,0.01875,0.02282,0.02104,0.01671,0.03127,0.05628,0.03356,0.01454,0.01329,0.02951,0.02309,0.03546,0.02388,0.02769,0.01799,0.01778,0.0152,0.01465,0.01637,0.03397,0.03156,0.01686,0.01879,0.01956,0.01924,0.01254,0.02091,0.01145,0.0135,0.01924,0.0152,0.01792,0.03082,0.03265,0.02711,0.0388,0.01682,0.01613,0.01065,0.01575,0.01798,0.01547,0.02165,0.01172,0.02538,0.01069,0.01897,0.03139,0.02025,0.05113,0.03373,0.03799,0.01878,0.02545,0.01853,0.02689,0.0214,0.01415,0.01522,0.01503,0.01594,0.02175,0.01998,0.01782,0.01523,0.0221,0.02294,0.02514,0.009539,0.03176,0.01616,0.04783,0.02175,0.04499,0.01939,0.02793,0.0256,0.01897,0.01332,0.01371,0.01842,0.02637,0.01772,0.01482,0.02266,0.01502,0.01391,0.01365,0.0168,0.01177,0.01537,0.01916,0.01298,0.02383,0.01263,0.0159,0.01341,0.01185,0.01226,0.01898,0.0172,0.01995,0.02598,0.02186,0.03476,0.01962,0.01266,0.02158,0.01677,0.02401,0.02292,0.01467,0.01394,0.01365,0.02062,0.01936,0.01884,0.02337,0.009947,0.01282,0.01411,0.02747,0.01013,0.01144,0.01367,0.03504,0.0203,0.02593,0.02728,0.01536,0.01692,0.01924,0.01798,0.01419,0.02678,0.02358,0.0193,0.01344,0.01528,0.01435,0.02921,0.01623,0.01388,0.01878,0.02571,0.01872,0.01619,0.03418,0.03416,0.04077,0.01522,0.02625,0.01792,0.01374,0.02154,0.02941,0.01575,0.01103,0.03464,0.01884,0.0274,0.02736,0.01791,0.01894,0.03194,0.01344,0.02701,0.0148,0.01422,0.02349,0.01494,0.01731,0.02032,0.06146,0.01393,0.01977,0.01275,0.03491,0.03433,0.02719,0.02193,0.01202,0.02768,0.01333,0.02057,0.01416,0.01466,0.01536,0.04022,0.01467,0.02751,0.04243,0.017,0.01939,0.01829,0.01639,0.02168,0.021,0.01479,0.01873,0.0175,0.02348,0.03756,0.01953,0.03675,0.01982,0.02163,0.01755,0.02734,0.02216,0.05543,0.02335,0.0212,0.03102,0.02639,0.0286,0.01544,0.02837,0.01942,0.02043,0.01829,0.01909,0.01694,0.01291,0.01445,0.0371,0.01938,0.01263,0.01518,0.03197,0.01647,0.01675,0.01276,0.01943,0.01934,0.01617,0.01442,0.01818,0.01738,0.02108,0.0188,0.0247,0.01838,0.01461,0.0174,0.01921,0.01647,0.01219,0.02768,0.01938,0.01865,0.01852,0.02045,0.02015,0.01719,0.01315,0.01869,0.01191,0.01477,0.01591,0.01096,0.02632,0.0187,0.0297,0.02079,0.015,0.02669,0.01414,0.02578,0.01341,0.01718,0.01951,0.01906,0.03151,0.02258,0.03044,0.02018,0.01713,0.02694,0.01868,0.02653,0.01848,0.01581,0.031,0.01445,0.02161,0.01844,0.02009,0.0194,0.01499,0.02187,0.02451,0.02383,0.01551,0.01223,0.02223,0.02005,0.02014,0.01171,0.01516,0.01594,0.01227,0.01717,0.01295,0.02094,0.01237,0.02254,0.01394,0.01029,0.02354,0.01641,0.01745,0.02207,0.01608,0.01564,0.02475,0.01347,0.01215,0.01574,0.02045,0.01697,0.01414,0.02124,0.01093,0.01526,0.01561,0.02693,0.01673,0.01807,0.0196,0.02047,0.01148,0.03141,0.01212,0.01601,0.0161,0.01316,0.01843,0.02773,0.01454,0.01062,0.01698,0.01285,0.01175,0.03232,0.01254,0.01717,0.02152,0.01961,0.01608,0.01302,0.02897,0.02869,0.02086,0.01959,0.01759,0.01536,0.01617,0.01117,0.01055,0.02434,0.02801,0.02201,0.02542,0.02632,0.0132,0.0222,0.01344,0.02105,0.0226,0.0158,0.01705,0.01539,0.01152,0.02434,0.01559,0.01057,0.01816,0.01805,0.03997,0.01879,0.01487,0.0187,0.01824,0.01592,0.01354,0.01129,0.01715,0.01962,0.01835,0.01449,0.01054,0.02816,0.01322,0.01948,0.01451,0.0156,0.02882,0.02105,0.0184,0.02068,0.0187,0.01724,0.0149,0.02087,0.0156,0.02277,0.02203,0.02466,0.03004,0.02912,0.01897,0.03759,0.01695,0.01843,0.02572,0.03004,0.01638,0.01488,0.0208,0.01989,0.02137,0.02057,0.01114,0.01898,0.01318,0.02324,0.02676],\"sizemode\":\"area\",\"sizeref\":0.000197375,\"symbol\":\"circle\"},\"mode\":\"markers\",\"name\":\"\",\"orientation\":\"h\",\"showlegend\":false,\"x\":[0.03003,0.01389,0.0225,0.05963,0.01756,0.02165,0.01369,0.01486,0.02143,0.01789,0.0146,0.02008,0.04484,0.02981,0.01961,0.01857,0.0141,0.01689,0.01356,0.0198,0.01678,0.02027,0.03672,0.01083,0.01468,0.02308,0.01454,0.02293,0.01768,0.01925,0.02007,0.02273,0.02102,0.01543,0.01703,0.02789,0.02028,0.02671,0.007882,0.01377,0.0138,0.01357,0.05333,0.01719,0.01113,0.02428,0.02574,0.01743,0.01428,0.01641,0.02406,0.01325,0.01996,0.02674,0.01095,0.03218,0.01852,0.01817,0.0219,0.0209,0.04183,0.03357,0.017,0.04192,0.01635,0.019,0.02279,0.02183,0.04197,0.02254,0.01386,0.02541,0.01527,0.0122,0.01386,0.0155,0.02572,0.02591,0.07895,0.01748,0.01816,0.02134,0.01065,0.03056,0.01972,0.0237,0.02418,0.01964,0.01958,0.02427,0.02085,0.02471,0.01069,0.01884,0.01498,0.02657,0.0222,0.01801,0.01651,0.01462,0.01465,0.02659,0.01447,0.01609,0.0271,0.01547,0.01565,0.01251,0.03112,0.01568,0.03281,0.02144,0.02566,0.02287,0.01708,0.01278,0.02384,0.01602,0.01495,0.05014,0.01344,0.02045,0.04547,0.0191,0.01208,0.01247,0.01323,0.0203,0.02353,0.01578,0.02662,0.01397,0.01535,0.01669,0.01492,0.01647,0.01359,0.01501,0.05168,0.0158,0.02277,0.01875,0.02282,0.02104,0.01671,0.03127,0.05628,0.03356,0.01454,0.01329,0.02951,0.02309,0.03546,0.02388,0.02769,0.01799,0.01778,0.0152,0.01465,0.01637,0.03397,0.03156,0.01686,0.01879,0.01956,0.01924,0.01254,0.02091,0.01145,0.0135,0.01924,0.0152,0.01792,0.03082,0.03265,0.02711,0.0388,0.01682,0.01613,0.01065,0.01575,0.01798,0.01547,0.02165,0.01172,0.02538,0.01069,0.01897,0.03139,0.02025,0.05113,0.03373,0.03799,0.01878,0.02545,0.01853,0.02689,0.0214,0.01415,0.01522,0.01503,0.01594,0.02175,0.01998,0.01782,0.01523,0.0221,0.02294,0.02514,0.009539,0.03176,0.01616,0.04783,0.02175,0.04499,0.01939,0.02793,0.0256,0.01897,0.01332,0.01371,0.01842,0.02637,0.01772,0.01482,0.02266,0.01502,0.01391,0.01365,0.0168,0.01177,0.01537,0.01916,0.01298,0.02383,0.01263,0.0159,0.01341,0.01185,0.01226,0.01898,0.0172,0.01995,0.02598,0.02186,0.03476,0.01962,0.01266,0.02158,0.01677,0.02401,0.02292,0.01467,0.01394,0.01365,0.02062,0.01936,0.01884,0.02337,0.009947,0.01282,0.01411,0.02747,0.01013,0.01144,0.01367,0.03504,0.0203,0.02593,0.02728,0.01536,0.01692,0.01924,0.01798,0.01419,0.02678,0.02358,0.0193,0.01344,0.01528,0.01435,0.02921,0.01623,0.01388,0.01878,0.02571,0.01872,0.01619,0.03418,0.03416,0.04077,0.01522,0.02625,0.01792,0.01374,0.02154,0.02941,0.01575,0.01103,0.03464,0.01884,0.0274,0.02736,0.01791,0.01894,0.03194,0.01344,0.02701,0.0148,0.01422,0.02349,0.01494,0.01731,0.02032,0.06146,0.01393,0.01977,0.01275,0.03491,0.03433,0.02719,0.02193,0.01202,0.02768,0.01333,0.02057,0.01416,0.01466,0.01536,0.04022,0.01467,0.02751,0.04243,0.017,0.01939,0.01829,0.01639,0.02168,0.021,0.01479,0.01873,0.0175,0.02348,0.03756,0.01953,0.03675,0.01982,0.02163,0.01755,0.02734,0.02216,0.05543,0.02335,0.0212,0.03102,0.02639,0.0286,0.01544,0.02837,0.01942,0.02043,0.01829,0.01909,0.01694,0.01291,0.01445,0.0371,0.01938,0.01263,0.01518,0.03197,0.01647,0.01675,0.01276,0.01943,0.01934,0.01617,0.01442,0.01818,0.01738,0.02108,0.0188,0.0247,0.01838,0.01461,0.0174,0.01921,0.01647,0.01219,0.02768,0.01938,0.01865,0.01852,0.02045,0.02015,0.01719,0.01315,0.01869,0.01191,0.01477,0.01591,0.01096,0.02632,0.0187,0.0297,0.02079,0.015,0.02669,0.01414,0.02578,0.01341,0.01718,0.01951,0.01906,0.03151,0.02258,0.03044,0.02018,0.01713,0.02694,0.01868,0.02653,0.01848,0.01581,0.031,0.01445,0.02161,0.01844,0.02009,0.0194,0.01499,0.02187,0.02451,0.02383,0.01551,0.01223,0.02223,0.02005,0.02014,0.01171,0.01516,0.01594,0.01227,0.01717,0.01295,0.02094,0.01237,0.02254,0.01394,0.01029,0.02354,0.01641,0.01745,0.02207,0.01608,0.01564,0.02475,0.01347,0.01215,0.01574,0.02045,0.01697,0.01414,0.02124,0.01093,0.01526,0.01561,0.02693,0.01673,0.01807,0.0196,0.02047,0.01148,0.03141,0.01212,0.01601,0.0161,0.01316,0.01843,0.02773,0.01454,0.01062,0.01698,0.01285,0.01175,0.03232,0.01254,0.01717,0.02152,0.01961,0.01608,0.01302,0.02897,0.02869,0.02086,0.01959,0.01759,0.01536,0.01617,0.01117,0.01055,0.02434,0.02801,0.02201,0.02542,0.02632,0.0132,0.0222,0.01344,0.02105,0.0226,0.0158,0.01705,0.01539,0.01152,0.02434,0.01559,0.01057,0.01816,0.01805,0.03997,0.01879,0.01487,0.0187,0.01824,0.01592,0.01354,0.01129,0.01715,0.01962,0.01835,0.01449,0.01054,0.02816,0.01322,0.01948,0.01451,0.0156,0.02882,0.02105,0.0184,0.02068,0.0187,0.01724,0.0149,0.02087,0.0156,0.02277,0.02203,0.02466,0.03004,0.02912,0.01897,0.03759,0.01695,0.01843,0.02572,0.03004,0.01638,0.01488,0.0208,0.01989,0.02137,0.02057,0.01114,0.01898,0.01318,0.02324,0.02676],\"xaxis\":\"x\",\"y\":[0,1,2,3,4,5,6,7,8,9,10,11,12,13,14,15,16,17,18,19,20,21,22,23,24,25,26,27,28,29,30,31,32,33,34,35,36,37,38,39,40,41,42,43,44,45,46,47,48,49,50,51,52,53,54,55,56,57,58,59,60,61,62,63,64,65,66,67,68,69,70,71,72,73,74,75,76,77,78,79,80,81,82,83,84,85,86,87,88,89,90,91,92,93,94,95,96,97,98,99,100,101,102,103,104,105,106,107,108,109,110,111,112,113,114,115,116,117,118,119,120,121,122,123,124,125,126,127,128,129,130,131,132,133,134,135,136,137,138,139,140,141,142,143,144,145,146,147,148,149,150,151,152,153,154,155,156,157,158,159,160,161,162,163,164,165,166,167,168,169,170,171,172,173,174,175,176,177,178,179,180,181,182,183,184,185,186,187,188,189,190,191,192,193,194,195,196,197,198,199,200,201,202,203,204,205,206,207,208,209,210,211,212,213,214,215,216,217,218,219,220,221,222,223,224,225,226,227,228,229,230,231,232,233,234,235,236,237,238,239,240,241,242,243,244,245,246,247,248,249,250,251,252,253,254,255,256,257,258,259,260,261,262,263,264,265,266,267,268,269,270,271,272,273,274,275,276,277,278,279,280,281,282,283,284,285,286,287,288,289,290,291,292,293,294,295,296,297,298,299,300,301,302,303,304,305,306,307,308,309,310,311,312,313,314,315,316,317,318,319,320,321,322,323,324,325,326,327,328,329,330,331,332,333,334,335,336,337,338,339,340,341,342,343,344,345,346,347,348,349,350,351,352,353,354,355,356,357,358,359,360,361,362,363,364,365,366,367,368,369,370,371,372,373,374,375,376,377,378,379,380,381,382,383,384,385,386,387,388,389,390,391,392,393,394,395,396,397,398,399,400,401,402,403,404,405,406,407,408,409,410,411,412,413,414,415,416,417,418,419,420,421,422,423,424,425,426,427,428,429,430,431,432,433,434,435,436,437,438,439,440,441,442,443,444,445,446,447,448,449,450,451,452,453,454,455,456,457,458,459,460,461,462,463,464,465,466,467,468,469,470,471,472,473,474,475,476,477,478,479,480,481,482,483,484,485,486,487,488,489,490,491,492,493,494,495,496,497,498,499,500,501,502,503,504,505,506,507,508,509,510,511,512,513,514,515,516,517,518,519,520,521,522,523,524,525,526,527,528,529,530,531,532,533,534,535,536,537,538,539,540,541,542,543,544,545,546,547,548,549,550,551,552,553,554,555,556,557,558,559,560,561,562,563,564,565,566,567,568],\"yaxis\":\"y\",\"type\":\"scatter\"}],                        {\"template\":{\"data\":{\"barpolar\":[{\"marker\":{\"line\":{\"color\":\"white\",\"width\":0.5},\"pattern\":{\"fillmode\":\"overlay\",\"size\":10,\"solidity\":0.2}},\"type\":\"barpolar\"}],\"bar\":[{\"error_x\":{\"color\":\"#2a3f5f\"},\"error_y\":{\"color\":\"#2a3f5f\"},\"marker\":{\"line\":{\"color\":\"white\",\"width\":0.5},\"pattern\":{\"fillmode\":\"overlay\",\"size\":10,\"solidity\":0.2}},\"type\":\"bar\"}],\"carpet\":[{\"aaxis\":{\"endlinecolor\":\"#2a3f5f\",\"gridcolor\":\"#C8D4E3\",\"linecolor\":\"#C8D4E3\",\"minorgridcolor\":\"#C8D4E3\",\"startlinecolor\":\"#2a3f5f\"},\"baxis\":{\"endlinecolor\":\"#2a3f5f\",\"gridcolor\":\"#C8D4E3\",\"linecolor\":\"#C8D4E3\",\"minorgridcolor\":\"#C8D4E3\",\"startlinecolor\":\"#2a3f5f\"},\"type\":\"carpet\"}],\"choropleth\":[{\"colorbar\":{\"outlinewidth\":0,\"ticks\":\"\"},\"type\":\"choropleth\"}],\"contourcarpet\":[{\"colorbar\":{\"outlinewidth\":0,\"ticks\":\"\"},\"type\":\"contourcarpet\"}],\"contour\":[{\"colorbar\":{\"outlinewidth\":0,\"ticks\":\"\"},\"colorscale\":[[0.0,\"#0d0887\"],[0.1111111111111111,\"#46039f\"],[0.2222222222222222,\"#7201a8\"],[0.3333333333333333,\"#9c179e\"],[0.4444444444444444,\"#bd3786\"],[0.5555555555555556,\"#d8576b\"],[0.6666666666666666,\"#ed7953\"],[0.7777777777777778,\"#fb9f3a\"],[0.8888888888888888,\"#fdca26\"],[1.0,\"#f0f921\"]],\"type\":\"contour\"}],\"heatmapgl\":[{\"colorbar\":{\"outlinewidth\":0,\"ticks\":\"\"},\"colorscale\":[[0.0,\"#0d0887\"],[0.1111111111111111,\"#46039f\"],[0.2222222222222222,\"#7201a8\"],[0.3333333333333333,\"#9c179e\"],[0.4444444444444444,\"#bd3786\"],[0.5555555555555556,\"#d8576b\"],[0.6666666666666666,\"#ed7953\"],[0.7777777777777778,\"#fb9f3a\"],[0.8888888888888888,\"#fdca26\"],[1.0,\"#f0f921\"]],\"type\":\"heatmapgl\"}],\"heatmap\":[{\"colorbar\":{\"outlinewidth\":0,\"ticks\":\"\"},\"colorscale\":[[0.0,\"#0d0887\"],[0.1111111111111111,\"#46039f\"],[0.2222222222222222,\"#7201a8\"],[0.3333333333333333,\"#9c179e\"],[0.4444444444444444,\"#bd3786\"],[0.5555555555555556,\"#d8576b\"],[0.6666666666666666,\"#ed7953\"],[0.7777777777777778,\"#fb9f3a\"],[0.8888888888888888,\"#fdca26\"],[1.0,\"#f0f921\"]],\"type\":\"heatmap\"}],\"histogram2dcontour\":[{\"colorbar\":{\"outlinewidth\":0,\"ticks\":\"\"},\"colorscale\":[[0.0,\"#0d0887\"],[0.1111111111111111,\"#46039f\"],[0.2222222222222222,\"#7201a8\"],[0.3333333333333333,\"#9c179e\"],[0.4444444444444444,\"#bd3786\"],[0.5555555555555556,\"#d8576b\"],[0.6666666666666666,\"#ed7953\"],[0.7777777777777778,\"#fb9f3a\"],[0.8888888888888888,\"#fdca26\"],[1.0,\"#f0f921\"]],\"type\":\"histogram2dcontour\"}],\"histogram2d\":[{\"colorbar\":{\"outlinewidth\":0,\"ticks\":\"\"},\"colorscale\":[[0.0,\"#0d0887\"],[0.1111111111111111,\"#46039f\"],[0.2222222222222222,\"#7201a8\"],[0.3333333333333333,\"#9c179e\"],[0.4444444444444444,\"#bd3786\"],[0.5555555555555556,\"#d8576b\"],[0.6666666666666666,\"#ed7953\"],[0.7777777777777778,\"#fb9f3a\"],[0.8888888888888888,\"#fdca26\"],[1.0,\"#f0f921\"]],\"type\":\"histogram2d\"}],\"histogram\":[{\"marker\":{\"pattern\":{\"fillmode\":\"overlay\",\"size\":10,\"solidity\":0.2}},\"type\":\"histogram\"}],\"mesh3d\":[{\"colorbar\":{\"outlinewidth\":0,\"ticks\":\"\"},\"type\":\"mesh3d\"}],\"parcoords\":[{\"line\":{\"colorbar\":{\"outlinewidth\":0,\"ticks\":\"\"}},\"type\":\"parcoords\"}],\"pie\":[{\"automargin\":true,\"type\":\"pie\"}],\"scatter3d\":[{\"line\":{\"colorbar\":{\"outlinewidth\":0,\"ticks\":\"\"}},\"marker\":{\"colorbar\":{\"outlinewidth\":0,\"ticks\":\"\"}},\"type\":\"scatter3d\"}],\"scattercarpet\":[{\"marker\":{\"colorbar\":{\"outlinewidth\":0,\"ticks\":\"\"}},\"type\":\"scattercarpet\"}],\"scattergeo\":[{\"marker\":{\"colorbar\":{\"outlinewidth\":0,\"ticks\":\"\"}},\"type\":\"scattergeo\"}],\"scattergl\":[{\"marker\":{\"colorbar\":{\"outlinewidth\":0,\"ticks\":\"\"}},\"type\":\"scattergl\"}],\"scattermapbox\":[{\"marker\":{\"colorbar\":{\"outlinewidth\":0,\"ticks\":\"\"}},\"type\":\"scattermapbox\"}],\"scatterpolargl\":[{\"marker\":{\"colorbar\":{\"outlinewidth\":0,\"ticks\":\"\"}},\"type\":\"scatterpolargl\"}],\"scatterpolar\":[{\"marker\":{\"colorbar\":{\"outlinewidth\":0,\"ticks\":\"\"}},\"type\":\"scatterpolar\"}],\"scatter\":[{\"fillpattern\":{\"fillmode\":\"overlay\",\"size\":10,\"solidity\":0.2},\"type\":\"scatter\"}],\"scatterternary\":[{\"marker\":{\"colorbar\":{\"outlinewidth\":0,\"ticks\":\"\"}},\"type\":\"scatterternary\"}],\"surface\":[{\"colorbar\":{\"outlinewidth\":0,\"ticks\":\"\"},\"colorscale\":[[0.0,\"#0d0887\"],[0.1111111111111111,\"#46039f\"],[0.2222222222222222,\"#7201a8\"],[0.3333333333333333,\"#9c179e\"],[0.4444444444444444,\"#bd3786\"],[0.5555555555555556,\"#d8576b\"],[0.6666666666666666,\"#ed7953\"],[0.7777777777777778,\"#fb9f3a\"],[0.8888888888888888,\"#fdca26\"],[1.0,\"#f0f921\"]],\"type\":\"surface\"}],\"table\":[{\"cells\":{\"fill\":{\"color\":\"#EBF0F8\"},\"line\":{\"color\":\"white\"}},\"header\":{\"fill\":{\"color\":\"#C8D4E3\"},\"line\":{\"color\":\"white\"}},\"type\":\"table\"}]},\"layout\":{\"annotationdefaults\":{\"arrowcolor\":\"#2a3f5f\",\"arrowhead\":0,\"arrowwidth\":1},\"autotypenumbers\":\"strict\",\"coloraxis\":{\"colorbar\":{\"outlinewidth\":0,\"ticks\":\"\"}},\"colorscale\":{\"diverging\":[[0,\"#8e0152\"],[0.1,\"#c51b7d\"],[0.2,\"#de77ae\"],[0.3,\"#f1b6da\"],[0.4,\"#fde0ef\"],[0.5,\"#f7f7f7\"],[0.6,\"#e6f5d0\"],[0.7,\"#b8e186\"],[0.8,\"#7fbc41\"],[0.9,\"#4d9221\"],[1,\"#276419\"]],\"sequential\":[[0.0,\"#0d0887\"],[0.1111111111111111,\"#46039f\"],[0.2222222222222222,\"#7201a8\"],[0.3333333333333333,\"#9c179e\"],[0.4444444444444444,\"#bd3786\"],[0.5555555555555556,\"#d8576b\"],[0.6666666666666666,\"#ed7953\"],[0.7777777777777778,\"#fb9f3a\"],[0.8888888888888888,\"#fdca26\"],[1.0,\"#f0f921\"]],\"sequentialminus\":[[0.0,\"#0d0887\"],[0.1111111111111111,\"#46039f\"],[0.2222222222222222,\"#7201a8\"],[0.3333333333333333,\"#9c179e\"],[0.4444444444444444,\"#bd3786\"],[0.5555555555555556,\"#d8576b\"],[0.6666666666666666,\"#ed7953\"],[0.7777777777777778,\"#fb9f3a\"],[0.8888888888888888,\"#fdca26\"],[1.0,\"#f0f921\"]]},\"colorway\":[\"#636efa\",\"#EF553B\",\"#00cc96\",\"#ab63fa\",\"#FFA15A\",\"#19d3f3\",\"#FF6692\",\"#B6E880\",\"#FF97FF\",\"#FECB52\"],\"font\":{\"color\":\"#2a3f5f\"},\"geo\":{\"bgcolor\":\"white\",\"lakecolor\":\"white\",\"landcolor\":\"white\",\"showlakes\":true,\"showland\":true,\"subunitcolor\":\"#C8D4E3\"},\"hoverlabel\":{\"align\":\"left\"},\"hovermode\":\"closest\",\"mapbox\":{\"style\":\"light\"},\"paper_bgcolor\":\"white\",\"plot_bgcolor\":\"white\",\"polar\":{\"angularaxis\":{\"gridcolor\":\"#EBF0F8\",\"linecolor\":\"#EBF0F8\",\"ticks\":\"\"},\"bgcolor\":\"white\",\"radialaxis\":{\"gridcolor\":\"#EBF0F8\",\"linecolor\":\"#EBF0F8\",\"ticks\":\"\"}},\"scene\":{\"xaxis\":{\"backgroundcolor\":\"white\",\"gridcolor\":\"#DFE8F3\",\"gridwidth\":2,\"linecolor\":\"#EBF0F8\",\"showbackground\":true,\"ticks\":\"\",\"zerolinecolor\":\"#EBF0F8\"},\"yaxis\":{\"backgroundcolor\":\"white\",\"gridcolor\":\"#DFE8F3\",\"gridwidth\":2,\"linecolor\":\"#EBF0F8\",\"showbackground\":true,\"ticks\":\"\",\"zerolinecolor\":\"#EBF0F8\"},\"zaxis\":{\"backgroundcolor\":\"white\",\"gridcolor\":\"#DFE8F3\",\"gridwidth\":2,\"linecolor\":\"#EBF0F8\",\"showbackground\":true,\"ticks\":\"\",\"zerolinecolor\":\"#EBF0F8\"}},\"shapedefaults\":{\"line\":{\"color\":\"#2a3f5f\"}},\"ternary\":{\"aaxis\":{\"gridcolor\":\"#DFE8F3\",\"linecolor\":\"#A2B1C6\",\"ticks\":\"\"},\"baxis\":{\"gridcolor\":\"#DFE8F3\",\"linecolor\":\"#A2B1C6\",\"ticks\":\"\"},\"bgcolor\":\"white\",\"caxis\":{\"gridcolor\":\"#DFE8F3\",\"linecolor\":\"#A2B1C6\",\"ticks\":\"\"}},\"title\":{\"x\":0.05},\"xaxis\":{\"automargin\":true,\"gridcolor\":\"#EBF0F8\",\"linecolor\":\"#EBF0F8\",\"ticks\":\"\",\"title\":{\"standoff\":15},\"zerolinecolor\":\"#EBF0F8\",\"zerolinewidth\":2},\"yaxis\":{\"automargin\":true,\"gridcolor\":\"#EBF0F8\",\"linecolor\":\"#EBF0F8\",\"ticks\":\"\",\"title\":{\"standoff\":15},\"zerolinecolor\":\"#EBF0F8\",\"zerolinewidth\":2}}},\"xaxis\":{\"anchor\":\"y\",\"domain\":[0.0,1.0],\"title\":{\"text\":\"Symmetry Error\"}},\"yaxis\":{\"anchor\":\"x\",\"domain\":[0.0,1.0],\"title\":{\"text\":\" \"}},\"coloraxis\":{\"colorbar\":{\"title\":{\"text\":\"target\"}},\"colorscale\":[[0.0,\"#0d0887\"],[0.1111111111111111,\"#46039f\"],[0.2222222222222222,\"#7201a8\"],[0.3333333333333333,\"#9c179e\"],[0.4444444444444444,\"#bd3786\"],[0.5555555555555556,\"#d8576b\"],[0.6666666666666666,\"#ed7953\"],[0.7777777777777778,\"#fb9f3a\"],[0.8888888888888888,\"#fdca26\"],[1.0,\"#f0f921\"]]},\"legend\":{\"tracegroupgap\":0,\"itemsizing\":\"constant\"},\"title\":{\"text\":\"Symmetry Error Spread\"},\"plot_bgcolor\":\"rgba(0, 0, 0, 0)\",\"paper_bgcolor\":\"rgba(0, 0, 0, 0)\"},                        {\"responsive\": true}                    ).then(function(){\n",
       "                            \n",
       "var gd = document.getElementById('025f57e7-0fd4-4240-aeab-aad96a8864ea');\n",
       "var x = new MutationObserver(function (mutations, observer) {{\n",
       "        var display = window.getComputedStyle(gd).display;\n",
       "        if (!display || display === 'none') {{\n",
       "            console.log([gd, 'removed!']);\n",
       "            Plotly.purge(gd);\n",
       "            observer.disconnect();\n",
       "        }}\n",
       "}});\n",
       "\n",
       "// Listen for the removal of the full notebook cells\n",
       "var notebookContainer = gd.closest('#notebook-container');\n",
       "if (notebookContainer) {{\n",
       "    x.observe(notebookContainer, {childList: true});\n",
       "}}\n",
       "\n",
       "// Listen for the clearing of the current output cell\n",
       "var outputEl = gd.closest('.output');\n",
       "if (outputEl) {{\n",
       "    x.observe(outputEl, {childList: true});\n",
       "}}\n",
       "\n",
       "                        })                };                });            </script>        </div>"
      ]
     },
     "metadata": {},
     "output_type": "display_data"
    }
   ],
   "source": [
    "fig = px.scatter(df,\n",
    "                 x=\"symmetry_error\", \n",
    "                 size='symmetry_error',\n",
    "                 color = 'target',\n",
    "                 hover_data=[\"target\"],\n",
    "                 template='plotly_white', \n",
    "                 labels={\"symmetry_error\": \"Symmetry Error\"},\n",
    "                 title=\"Symmetry Error Spread\")\n",
    "fig.update_layout(xaxis_title=\"Symmetry Error\",yaxis_title=\" \")\n",
    "fig.update_layout({'plot_bgcolor': 'rgba(0, 0, 0, 0)','paper_bgcolor': 'rgba(0, 0, 0, 0)'})\n",
    "fig.show()"
   ]
  },
  {
   "cell_type": "markdown",
   "id": "beb4e645",
   "metadata": {
    "papermill": {
     "duration": 0.026628,
     "end_time": "2024-04-14T14:17:51.462116",
     "exception": false,
     "start_time": "2024-04-14T14:17:51.435488",
     "status": "completed"
    },
    "tags": []
   },
   "source": [
    "## What is the spread of Mean Concave Points??"
   ]
  },
  {
   "cell_type": "markdown",
   "id": "8e178e79",
   "metadata": {
    "papermill": {
     "duration": 0.027769,
     "end_time": "2024-04-14T14:17:51.516929",
     "exception": false,
     "start_time": "2024-04-14T14:17:51.489160",
     "status": "completed"
    },
    "tags": []
   },
   "source": [
    "Concave points refer to the indented areas that can sometimes appear on the surface of a tumor. They are seen on a mammogram or other imaging and can be an indicator of malignancy, or cancer."
   ]
  },
  {
   "cell_type": "code",
   "execution_count": 15,
   "id": "e0f0e0d2",
   "metadata": {
    "execution": {
     "iopub.execute_input": "2024-04-14T14:17:51.572519Z",
     "iopub.status.busy": "2024-04-14T14:17:51.571672Z",
     "iopub.status.idle": "2024-04-14T14:17:51.651385Z",
     "shell.execute_reply": "2024-04-14T14:17:51.650574Z"
    },
    "papermill": {
     "duration": 0.109247,
     "end_time": "2024-04-14T14:17:51.653164",
     "exception": false,
     "start_time": "2024-04-14T14:17:51.543917",
     "status": "completed"
    },
    "tags": []
   },
   "outputs": [
    {
     "data": {
      "text/html": [
       "<div>                            <div id=\"84520816-3eb8-4004-9228-b20780a03c87\" class=\"plotly-graph-div\" style=\"height:525px; width:100%;\"></div>            <script type=\"text/javascript\">                require([\"plotly\"], function(Plotly) {                    window.PLOTLYENV=window.PLOTLYENV || {};                                    if (document.getElementById(\"84520816-3eb8-4004-9228-b20780a03c87\")) {                    Plotly.newPlot(                        \"84520816-3eb8-4004-9228-b20780a03c87\",                        [{\"customdata\":[[0],[0],[0],[0],[0],[0],[0],[0],[0],[0],[0],[0],[0],[0],[0],[0],[0],[0],[0],[1],[1],[1],[0],[0],[0],[0],[0],[0],[0],[0],[0],[0],[0],[0],[0],[0],[0],[1],[0],[0],[0],[0],[0],[0],[0],[0],[1],[0],[1],[1],[1],[1],[1],[0],[0],[1],[0],[0],[1],[1],[1],[1],[0],[1],[0],[0],[1],[1],[1],[1],[0],[1],[0],[0],[1],[0],[1],[0],[0],[1],[1],[1],[0],[0],[1],[0],[0],[0],[1],[1],[1],[0],[1],[1],[0],[0],[1],[1],[1],[0],[0],[1],[1],[1],[1],[0],[1],[1],[0],[1],[1],[1],[1],[1],[1],[1],[1],[0],[0],[0],[1],[0],[0],[1],[1],[1],[0],[0],[1],[0],[1],[0],[0],[1],[0],[0],[1],[1],[0],[1],[1],[0],[1],[1],[1],[1],[0],[1],[1],[1],[1],[1],[1],[1],[1],[1],[0],[1],[1],[1],[1],[0],[0],[1],[0],[1],[1],[0],[0],[1],[1],[0],[0],[1],[1],[1],[1],[0],[1],[1],[0],[0],[0],[1],[0],[1],[0],[1],[1],[1],[0],[1],[1],[0],[0],[1],[0],[0],[0],[0],[1],[0],[0],[0],[1],[0],[1],[0],[1],[1],[0],[1],[0],[0],[0],[0],[1],[1],[0],[0],[1],[1],[1],[0],[1],[1],[1],[1],[1],[0],[0],[1],[1],[0],[1],[1],[0],[0],[1],[0],[1],[1],[1],[1],[0],[1],[1],[1],[1],[1],[0],[1],[0],[0],[0],[0],[0],[0],[0],[0],[0],[0],[0],[0],[0],[0],[1],[1],[1],[1],[1],[1],[0],[1],[0],[1],[1],[0],[1],[1],[0],[1],[0],[0],[1],[1],[1],[1],[1],[1],[1],[1],[1],[1],[1],[1],[1],[0],[1],[1],[0],[1],[0],[1],[1],[1],[1],[1],[1],[1],[1],[1],[1],[1],[1],[1],[1],[0],[1],[1],[1],[0],[1],[0],[1],[1],[1],[1],[0],[0],[0],[1],[1],[1],[1],[0],[1],[0],[1],[0],[1],[1],[1],[0],[1],[1],[1],[1],[1],[1],[1],[0],[0],[0],[1],[1],[1],[1],[1],[1],[1],[1],[1],[1],[1],[0],[0],[1],[0],[0],[0],[1],[0],[0],[1],[1],[1],[1],[1],[0],[1],[1],[1],[1],[1],[0],[1],[1],[1],[0],[1],[1],[0],[0],[1],[1],[1],[1],[1],[1],[0],[1],[1],[1],[1],[1],[1],[1],[0],[1],[1],[1],[1],[1],[0],[1],[1],[0],[1],[1],[1],[1],[1],[1],[1],[1],[1],[1],[1],[1],[0],[1],[0],[0],[1],[0],[1],[1],[1],[1],[1],[0],[1],[1],[0],[1],[0],[1],[1],[0],[1],[0],[1],[1],[1],[1],[1],[1],[1],[1],[0],[0],[1],[1],[1],[1],[1],[1],[0],[1],[1],[1],[1],[1],[1],[1],[1],[1],[1],[0],[1],[1],[1],[1],[1],[1],[1],[0],[1],[0],[1],[1],[0],[1],[1],[1],[1],[1],[0],[0],[1],[0],[1],[0],[1],[1],[1],[1],[1],[0],[1],[1],[0],[1],[0],[1],[0],[0],[1],[1],[1],[0],[1],[1],[1],[1],[1],[1],[1],[1],[1],[1],[1],[0],[1],[0],[0],[1],[1],[1],[1],[1],[1],[1],[1],[1],[1],[1],[1],[1],[1],[1],[1],[1],[1],[1],[1],[1],[1],[1],[1],[1],[0],[0],[0],[0],[0],[0],[1]],\"hovertemplate\":\"Mean Concave Points=%{marker.size}<br>index=%{y}<br>target=%{marker.color}<extra></extra>\",\"legendgroup\":\"\",\"marker\":{\"color\":[0,0,0,0,0,0,0,0,0,0,0,0,0,0,0,0,0,0,0,1,1,1,0,0,0,0,0,0,0,0,0,0,0,0,0,0,0,1,0,0,0,0,0,0,0,0,1,0,1,1,1,1,1,0,0,1,0,0,1,1,1,1,0,1,0,0,1,1,1,1,0,1,0,0,1,0,1,0,0,1,1,1,0,0,1,0,0,0,1,1,1,0,1,1,0,0,1,1,1,0,0,1,1,1,1,0,1,1,0,1,1,1,1,1,1,1,1,0,0,0,1,0,0,1,1,1,0,0,1,0,1,0,0,1,0,0,1,1,0,1,1,0,1,1,1,1,0,1,1,1,1,1,1,1,1,1,0,1,1,1,1,0,0,1,0,1,1,0,0,1,1,0,0,1,1,1,1,0,1,1,0,0,0,1,0,1,0,1,1,1,0,1,1,0,0,1,0,0,0,0,1,0,0,0,1,0,1,0,1,1,0,1,0,0,0,0,1,1,0,0,1,1,1,0,1,1,1,1,1,0,0,1,1,0,1,1,0,0,1,0,1,1,1,1,0,1,1,1,1,1,0,1,0,0,0,0,0,0,0,0,0,0,0,0,0,0,1,1,1,1,1,1,0,1,0,1,1,0,1,1,0,1,0,0,1,1,1,1,1,1,1,1,1,1,1,1,1,0,1,1,0,1,0,1,1,1,1,1,1,1,1,1,1,1,1,1,1,0,1,1,1,0,1,0,1,1,1,1,0,0,0,1,1,1,1,0,1,0,1,0,1,1,1,0,1,1,1,1,1,1,1,0,0,0,1,1,1,1,1,1,1,1,1,1,1,0,0,1,0,0,0,1,0,0,1,1,1,1,1,0,1,1,1,1,1,0,1,1,1,0,1,1,0,0,1,1,1,1,1,1,0,1,1,1,1,1,1,1,0,1,1,1,1,1,0,1,1,0,1,1,1,1,1,1,1,1,1,1,1,1,0,1,0,0,1,0,1,1,1,1,1,0,1,1,0,1,0,1,1,0,1,0,1,1,1,1,1,1,1,1,0,0,1,1,1,1,1,1,0,1,1,1,1,1,1,1,1,1,1,0,1,1,1,1,1,1,1,0,1,0,1,1,0,1,1,1,1,1,0,0,1,0,1,0,1,1,1,1,1,0,1,1,0,1,0,1,0,0,1,1,1,0,1,1,1,1,1,1,1,1,1,1,1,0,1,0,0,1,1,1,1,1,1,1,1,1,1,1,1,1,1,1,1,1,1,1,1,1,1,1,1,1,0,0,0,0,0,0,1],\"coloraxis\":\"coloraxis\",\"size\":[0.1471,0.07017,0.1279,0.1052,0.1043,0.08089,0.074,0.05985,0.09353,0.08543,0.03323,0.06606,0.1118,0.05364,0.08025,0.07364,0.05259,0.1028,0.09498,0.04781,0.0311,0.02076,0.09756,0.08632,0.0917,0.1401,0.08783,0.07731,0.08751,0.07953,0.1244,0.05182,0.1203,0.07593,0.07752,0.06018,0.05598,0.02923,0.02899,0.05439,0.02031,0.05669,0.09961,0.06158,0.05252,0.1009,0.005917,0.0734,0.02749,0.03384,0.01115,0.01723,0.01349,0.106,0.03334,0.02278,0.08994,0.08123,0.004167,0.007799,0.0129,0.009259,0.08653,0.0218,0.06873,0.09029,0.01504,0.0223,0.04375,0.02864,0.07951,0.02872,0.07944,0.05069,0.02272,0.06638,0.06556,0.108,0.1604,0.02315,0.02233,0.06987,0.1845,0.1469,0.01863,0.08795,0.04938,0.08271,0.03745,0.07064,0.02957,0.07483,0.02648,0.0278,0.08815,0.08683,0.02941,0.007937,0.0335,0.05839,0.04489,0.0,0.0177,0.03029,0.01201,0.09601,0.03485,0.01921,0.1823,0.01899,0.01778,0.06021,0.07798,0.03068,0.01924,0.02008,0.02308,0.08923,0.09479,0.05596,0.02623,0.08665,0.2012,0.05778,0.028,0.01141,0.03085,0.05627,0.08534,0.1149,0.02882,0.08087,0.05613,0.05933,0.06847,0.02704,0.026,0.02875,0.08624,0.04796,0.0,0.05943,0.01861,0.03088,0.007875,0.03003,0.07415,0.03562,0.05532,0.01329,0.02645,0.02168,0.07857,0.01786,0.03483,0.02331,0.1054,0.02771,0.01963,0.006588,0.03738,0.09667,0.1286,0.02822,0.09702,0.01939,0.01698,0.06576,0.1043,0.03781,0.037,0.03438,0.1097,0.02583,0.0,0.0,0.03716,0.08866,0.001852,0.0133,0.1878,0.1496,0.05189,0.02361,0.03263,0.002404,0.05814,0.03239,0.01553,0.01654,0.06618,0.02864,0.0,0.04562,0.08878,0.02377,0.06526,0.05778,0.06772,0.0598,0.04107,0.07488,0.162,0.09176,0.03821,0.04079,0.01952,0.0539,0.05102,0.03157,0.09561,0.01393,0.1595,0.06597,0.06462,0.05602,0.03142,0.01071,0.08691,0.06637,0.02563,0.04451,0.01915,0.06462,0.02456,0.04603,0.01216,0.0378,0.02036,0.06861,0.109,0.003125,0.006434,0.0834,0.01667,0.01896,0.1237,0.06022,0.04408,0.08811,0.03731,0.01108,0.02854,0.02344,0.08886,0.0307,0.01105,0.0398,0.01615,0.02929,0.131,0.02069,0.0974,0.08353,0.08591,0.05246,0.1144,0.1242,0.1377,0.08399,0.09333,0.02837,0.07507,0.02847,0.06527,0.08646,0.02642,0.02142,0.01615,0.02867,0.00625,0.02755,0.1088,0.01407,0.04744,0.07404,0.003333,0.05843,0.01238,0.03711,0.09664,0.02763,0.09464,0.09052,0.0339,0.002924,0.03791,0.01171,0.05588,0.02173,0.06602,0.04819,0.0337,0.0228,0.01924,0.01917,0.01369,0.03515,0.01374,0.01875,0.1062,0.03099,0.128,0.0178,0.01502,0.01313,0.003261,0.003472,0.004419,0.008829,0.01148,0.01877,0.02548,0.008907,0.0,0.006423,0.005051,0.0795,0.04908,0.01699,0.03965,0.07726,0.034,0.1504,0.01692,0.02107,0.02733,0.005592,0.08488,0.07981,0.07041,0.0295,0.007583,0.002941,0.008535,0.09934,0.02098,0.0609,0.01775,0.141,0.04223,0.02292,0.03341,0.1103,0.0325,0.02037,0.008488,0.03528,0.02322,0.01787,0.01162,0.1242,0.1913,0.06553,0.01471,0.04391,0.05603,0.02088,0.02381,0.01406,0.005449,0.02424,0.01781,0.04835,0.01473,0.07785,0.1265,0.02027,0.08465,0.1501,0.08773,0.02657,0.1255,0.08941,0.02031,0.05397,0.05941,0.01117,0.02471,0.06367,0.0555,0.02074,0.02978,0.0288,0.02864,0.05271,0.02534,0.008507,0.02757,0.1021,0.01968,0.0,0.09113,0.1562,0.03326,0.03251,0.05381,0.04083,0.007246,0.01638,0.1198,0.01796,0.01883,0.0239,0.02054,0.02932,0.04528,0.01867,0.08824,0.02653,0.021,0.0248,0.005128,0.03876,0.02739,0.02179,0.01257,0.08481,0.02402,0.01076,0.01428,0.063,0.04497,0.04812,0.01967,0.005159,0.02218,0.01404,0.0137,0.01835,0.09711,0.02799,0.1259,0.08744,0.02877,0.06463,0.0209,0.02944,0.02293,0.02652,0.03613,0.05736,0.009937,0.01111,0.06254,0.04274,0.08293,0.0226,0.02925,0.1155,0.02386,0.09063,0.01945,0.06495,0.02272,0.03264,0.02017,0.02068,0.01762,0.01043,0.06431,0.1689,0.01737,0.01777,0.0287,0.02833,0.0351,0.005769,0.1002,0.05564,0.01514,0.02377,0.03221,0.0,0.01571,0.03078,0.03058,0.01339,0.01969,0.09194,0.01527,0.0207,0.05266,0.0316,0.06211,0.04846,0.02791,0.1194,0.03132,0.02307,0.01261,0.04178,0.07762,0.01149,0.01256,0.04951,0.05074,0.02369,0.09183,0.1121,0.06142,0.06759,0.03279,0.1003,0.05252,0.07038,0.02166,0.04268,0.04563,0.0852,0.02639,0.02541,0.08172,0.04349,0.04335,0.02594,0.09451,0.09431,0.05303,0.02995,0.02421,0.1471,0.005664,0.03783,0.02416,0.0151,0.03152,0.02647,0.06615,0.02798,0.0444,0.02157,0.0188,0.1015,0.02788,0.1322,0.06139,0.04531,0.0,0.01364,0.02594,0.0389,0.03027,0.03275,0.02369,0.02443,0.005495,0.02438,0.009615,0.00816,0.0,0.02257,0.01499,0.01282,0.02343,0.02738,0.01116,0.0,0.03736,0.04105,0.04304,0.0,0.09429,0.1474,0.1389,0.09791,0.05302,0.152,0.0],\"sizemode\":\"area\",\"sizeref\":0.000503,\"symbol\":\"circle\"},\"mode\":\"markers\",\"name\":\"\",\"orientation\":\"h\",\"showlegend\":false,\"x\":[0.1471,0.07017,0.1279,0.1052,0.1043,0.08089,0.074,0.05985,0.09353,0.08543,0.03323,0.06606,0.1118,0.05364,0.08025,0.07364,0.05259,0.1028,0.09498,0.04781,0.0311,0.02076,0.09756,0.08632,0.0917,0.1401,0.08783,0.07731,0.08751,0.07953,0.1244,0.05182,0.1203,0.07593,0.07752,0.06018,0.05598,0.02923,0.02899,0.05439,0.02031,0.05669,0.09961,0.06158,0.05252,0.1009,0.005917,0.0734,0.02749,0.03384,0.01115,0.01723,0.01349,0.106,0.03334,0.02278,0.08994,0.08123,0.004167,0.007799,0.0129,0.009259,0.08653,0.0218,0.06873,0.09029,0.01504,0.0223,0.04375,0.02864,0.07951,0.02872,0.07944,0.05069,0.02272,0.06638,0.06556,0.108,0.1604,0.02315,0.02233,0.06987,0.1845,0.1469,0.01863,0.08795,0.04938,0.08271,0.03745,0.07064,0.02957,0.07483,0.02648,0.0278,0.08815,0.08683,0.02941,0.007937,0.0335,0.05839,0.04489,0.0,0.0177,0.03029,0.01201,0.09601,0.03485,0.01921,0.1823,0.01899,0.01778,0.06021,0.07798,0.03068,0.01924,0.02008,0.02308,0.08923,0.09479,0.05596,0.02623,0.08665,0.2012,0.05778,0.028,0.01141,0.03085,0.05627,0.08534,0.1149,0.02882,0.08087,0.05613,0.05933,0.06847,0.02704,0.026,0.02875,0.08624,0.04796,0.0,0.05943,0.01861,0.03088,0.007875,0.03003,0.07415,0.03562,0.05532,0.01329,0.02645,0.02168,0.07857,0.01786,0.03483,0.02331,0.1054,0.02771,0.01963,0.006588,0.03738,0.09667,0.1286,0.02822,0.09702,0.01939,0.01698,0.06576,0.1043,0.03781,0.037,0.03438,0.1097,0.02583,0.0,0.0,0.03716,0.08866,0.001852,0.0133,0.1878,0.1496,0.05189,0.02361,0.03263,0.002404,0.05814,0.03239,0.01553,0.01654,0.06618,0.02864,0.0,0.04562,0.08878,0.02377,0.06526,0.05778,0.06772,0.0598,0.04107,0.07488,0.162,0.09176,0.03821,0.04079,0.01952,0.0539,0.05102,0.03157,0.09561,0.01393,0.1595,0.06597,0.06462,0.05602,0.03142,0.01071,0.08691,0.06637,0.02563,0.04451,0.01915,0.06462,0.02456,0.04603,0.01216,0.0378,0.02036,0.06861,0.109,0.003125,0.006434,0.0834,0.01667,0.01896,0.1237,0.06022,0.04408,0.08811,0.03731,0.01108,0.02854,0.02344,0.08886,0.0307,0.01105,0.0398,0.01615,0.02929,0.131,0.02069,0.0974,0.08353,0.08591,0.05246,0.1144,0.1242,0.1377,0.08399,0.09333,0.02837,0.07507,0.02847,0.06527,0.08646,0.02642,0.02142,0.01615,0.02867,0.00625,0.02755,0.1088,0.01407,0.04744,0.07404,0.003333,0.05843,0.01238,0.03711,0.09664,0.02763,0.09464,0.09052,0.0339,0.002924,0.03791,0.01171,0.05588,0.02173,0.06602,0.04819,0.0337,0.0228,0.01924,0.01917,0.01369,0.03515,0.01374,0.01875,0.1062,0.03099,0.128,0.0178,0.01502,0.01313,0.003261,0.003472,0.004419,0.008829,0.01148,0.01877,0.02548,0.008907,0.0,0.006423,0.005051,0.0795,0.04908,0.01699,0.03965,0.07726,0.034,0.1504,0.01692,0.02107,0.02733,0.005592,0.08488,0.07981,0.07041,0.0295,0.007583,0.002941,0.008535,0.09934,0.02098,0.0609,0.01775,0.141,0.04223,0.02292,0.03341,0.1103,0.0325,0.02037,0.008488,0.03528,0.02322,0.01787,0.01162,0.1242,0.1913,0.06553,0.01471,0.04391,0.05603,0.02088,0.02381,0.01406,0.005449,0.02424,0.01781,0.04835,0.01473,0.07785,0.1265,0.02027,0.08465,0.1501,0.08773,0.02657,0.1255,0.08941,0.02031,0.05397,0.05941,0.01117,0.02471,0.06367,0.0555,0.02074,0.02978,0.0288,0.02864,0.05271,0.02534,0.008507,0.02757,0.1021,0.01968,0.0,0.09113,0.1562,0.03326,0.03251,0.05381,0.04083,0.007246,0.01638,0.1198,0.01796,0.01883,0.0239,0.02054,0.02932,0.04528,0.01867,0.08824,0.02653,0.021,0.0248,0.005128,0.03876,0.02739,0.02179,0.01257,0.08481,0.02402,0.01076,0.01428,0.063,0.04497,0.04812,0.01967,0.005159,0.02218,0.01404,0.0137,0.01835,0.09711,0.02799,0.1259,0.08744,0.02877,0.06463,0.0209,0.02944,0.02293,0.02652,0.03613,0.05736,0.009937,0.01111,0.06254,0.04274,0.08293,0.0226,0.02925,0.1155,0.02386,0.09063,0.01945,0.06495,0.02272,0.03264,0.02017,0.02068,0.01762,0.01043,0.06431,0.1689,0.01737,0.01777,0.0287,0.02833,0.0351,0.005769,0.1002,0.05564,0.01514,0.02377,0.03221,0.0,0.01571,0.03078,0.03058,0.01339,0.01969,0.09194,0.01527,0.0207,0.05266,0.0316,0.06211,0.04846,0.02791,0.1194,0.03132,0.02307,0.01261,0.04178,0.07762,0.01149,0.01256,0.04951,0.05074,0.02369,0.09183,0.1121,0.06142,0.06759,0.03279,0.1003,0.05252,0.07038,0.02166,0.04268,0.04563,0.0852,0.02639,0.02541,0.08172,0.04349,0.04335,0.02594,0.09451,0.09431,0.05303,0.02995,0.02421,0.1471,0.005664,0.03783,0.02416,0.0151,0.03152,0.02647,0.06615,0.02798,0.0444,0.02157,0.0188,0.1015,0.02788,0.1322,0.06139,0.04531,0.0,0.01364,0.02594,0.0389,0.03027,0.03275,0.02369,0.02443,0.005495,0.02438,0.009615,0.00816,0.0,0.02257,0.01499,0.01282,0.02343,0.02738,0.01116,0.0,0.03736,0.04105,0.04304,0.0,0.09429,0.1474,0.1389,0.09791,0.05302,0.152,0.0],\"xaxis\":\"x\",\"y\":[0,1,2,3,4,5,6,7,8,9,10,11,12,13,14,15,16,17,18,19,20,21,22,23,24,25,26,27,28,29,30,31,32,33,34,35,36,37,38,39,40,41,42,43,44,45,46,47,48,49,50,51,52,53,54,55,56,57,58,59,60,61,62,63,64,65,66,67,68,69,70,71,72,73,74,75,76,77,78,79,80,81,82,83,84,85,86,87,88,89,90,91,92,93,94,95,96,97,98,99,100,101,102,103,104,105,106,107,108,109,110,111,112,113,114,115,116,117,118,119,120,121,122,123,124,125,126,127,128,129,130,131,132,133,134,135,136,137,138,139,140,141,142,143,144,145,146,147,148,149,150,151,152,153,154,155,156,157,158,159,160,161,162,163,164,165,166,167,168,169,170,171,172,173,174,175,176,177,178,179,180,181,182,183,184,185,186,187,188,189,190,191,192,193,194,195,196,197,198,199,200,201,202,203,204,205,206,207,208,209,210,211,212,213,214,215,216,217,218,219,220,221,222,223,224,225,226,227,228,229,230,231,232,233,234,235,236,237,238,239,240,241,242,243,244,245,246,247,248,249,250,251,252,253,254,255,256,257,258,259,260,261,262,263,264,265,266,267,268,269,270,271,272,273,274,275,276,277,278,279,280,281,282,283,284,285,286,287,288,289,290,291,292,293,294,295,296,297,298,299,300,301,302,303,304,305,306,307,308,309,310,311,312,313,314,315,316,317,318,319,320,321,322,323,324,325,326,327,328,329,330,331,332,333,334,335,336,337,338,339,340,341,342,343,344,345,346,347,348,349,350,351,352,353,354,355,356,357,358,359,360,361,362,363,364,365,366,367,368,369,370,371,372,373,374,375,376,377,378,379,380,381,382,383,384,385,386,387,388,389,390,391,392,393,394,395,396,397,398,399,400,401,402,403,404,405,406,407,408,409,410,411,412,413,414,415,416,417,418,419,420,421,422,423,424,425,426,427,428,429,430,431,432,433,434,435,436,437,438,439,440,441,442,443,444,445,446,447,448,449,450,451,452,453,454,455,456,457,458,459,460,461,462,463,464,465,466,467,468,469,470,471,472,473,474,475,476,477,478,479,480,481,482,483,484,485,486,487,488,489,490,491,492,493,494,495,496,497,498,499,500,501,502,503,504,505,506,507,508,509,510,511,512,513,514,515,516,517,518,519,520,521,522,523,524,525,526,527,528,529,530,531,532,533,534,535,536,537,538,539,540,541,542,543,544,545,546,547,548,549,550,551,552,553,554,555,556,557,558,559,560,561,562,563,564,565,566,567,568],\"yaxis\":\"y\",\"type\":\"scatter\"}],                        {\"template\":{\"data\":{\"barpolar\":[{\"marker\":{\"line\":{\"color\":\"white\",\"width\":0.5},\"pattern\":{\"fillmode\":\"overlay\",\"size\":10,\"solidity\":0.2}},\"type\":\"barpolar\"}],\"bar\":[{\"error_x\":{\"color\":\"rgb(36,36,36)\"},\"error_y\":{\"color\":\"rgb(36,36,36)\"},\"marker\":{\"line\":{\"color\":\"white\",\"width\":0.5},\"pattern\":{\"fillmode\":\"overlay\",\"size\":10,\"solidity\":0.2}},\"type\":\"bar\"}],\"carpet\":[{\"aaxis\":{\"endlinecolor\":\"rgb(36,36,36)\",\"gridcolor\":\"white\",\"linecolor\":\"white\",\"minorgridcolor\":\"white\",\"startlinecolor\":\"rgb(36,36,36)\"},\"baxis\":{\"endlinecolor\":\"rgb(36,36,36)\",\"gridcolor\":\"white\",\"linecolor\":\"white\",\"minorgridcolor\":\"white\",\"startlinecolor\":\"rgb(36,36,36)\"},\"type\":\"carpet\"}],\"choropleth\":[{\"colorbar\":{\"outlinewidth\":1,\"tickcolor\":\"rgb(36,36,36)\",\"ticks\":\"outside\"},\"type\":\"choropleth\"}],\"contourcarpet\":[{\"colorbar\":{\"outlinewidth\":1,\"tickcolor\":\"rgb(36,36,36)\",\"ticks\":\"outside\"},\"type\":\"contourcarpet\"}],\"contour\":[{\"colorbar\":{\"outlinewidth\":1,\"tickcolor\":\"rgb(36,36,36)\",\"ticks\":\"outside\"},\"colorscale\":[[0.0,\"#440154\"],[0.1111111111111111,\"#482878\"],[0.2222222222222222,\"#3e4989\"],[0.3333333333333333,\"#31688e\"],[0.4444444444444444,\"#26828e\"],[0.5555555555555556,\"#1f9e89\"],[0.6666666666666666,\"#35b779\"],[0.7777777777777778,\"#6ece58\"],[0.8888888888888888,\"#b5de2b\"],[1.0,\"#fde725\"]],\"type\":\"contour\"}],\"heatmapgl\":[{\"colorbar\":{\"outlinewidth\":1,\"tickcolor\":\"rgb(36,36,36)\",\"ticks\":\"outside\"},\"colorscale\":[[0.0,\"#440154\"],[0.1111111111111111,\"#482878\"],[0.2222222222222222,\"#3e4989\"],[0.3333333333333333,\"#31688e\"],[0.4444444444444444,\"#26828e\"],[0.5555555555555556,\"#1f9e89\"],[0.6666666666666666,\"#35b779\"],[0.7777777777777778,\"#6ece58\"],[0.8888888888888888,\"#b5de2b\"],[1.0,\"#fde725\"]],\"type\":\"heatmapgl\"}],\"heatmap\":[{\"colorbar\":{\"outlinewidth\":1,\"tickcolor\":\"rgb(36,36,36)\",\"ticks\":\"outside\"},\"colorscale\":[[0.0,\"#440154\"],[0.1111111111111111,\"#482878\"],[0.2222222222222222,\"#3e4989\"],[0.3333333333333333,\"#31688e\"],[0.4444444444444444,\"#26828e\"],[0.5555555555555556,\"#1f9e89\"],[0.6666666666666666,\"#35b779\"],[0.7777777777777778,\"#6ece58\"],[0.8888888888888888,\"#b5de2b\"],[1.0,\"#fde725\"]],\"type\":\"heatmap\"}],\"histogram2dcontour\":[{\"colorbar\":{\"outlinewidth\":1,\"tickcolor\":\"rgb(36,36,36)\",\"ticks\":\"outside\"},\"colorscale\":[[0.0,\"#440154\"],[0.1111111111111111,\"#482878\"],[0.2222222222222222,\"#3e4989\"],[0.3333333333333333,\"#31688e\"],[0.4444444444444444,\"#26828e\"],[0.5555555555555556,\"#1f9e89\"],[0.6666666666666666,\"#35b779\"],[0.7777777777777778,\"#6ece58\"],[0.8888888888888888,\"#b5de2b\"],[1.0,\"#fde725\"]],\"type\":\"histogram2dcontour\"}],\"histogram2d\":[{\"colorbar\":{\"outlinewidth\":1,\"tickcolor\":\"rgb(36,36,36)\",\"ticks\":\"outside\"},\"colorscale\":[[0.0,\"#440154\"],[0.1111111111111111,\"#482878\"],[0.2222222222222222,\"#3e4989\"],[0.3333333333333333,\"#31688e\"],[0.4444444444444444,\"#26828e\"],[0.5555555555555556,\"#1f9e89\"],[0.6666666666666666,\"#35b779\"],[0.7777777777777778,\"#6ece58\"],[0.8888888888888888,\"#b5de2b\"],[1.0,\"#fde725\"]],\"type\":\"histogram2d\"}],\"histogram\":[{\"marker\":{\"line\":{\"color\":\"white\",\"width\":0.6}},\"type\":\"histogram\"}],\"mesh3d\":[{\"colorbar\":{\"outlinewidth\":1,\"tickcolor\":\"rgb(36,36,36)\",\"ticks\":\"outside\"},\"type\":\"mesh3d\"}],\"parcoords\":[{\"line\":{\"colorbar\":{\"outlinewidth\":1,\"tickcolor\":\"rgb(36,36,36)\",\"ticks\":\"outside\"}},\"type\":\"parcoords\"}],\"pie\":[{\"automargin\":true,\"type\":\"pie\"}],\"scatter3d\":[{\"line\":{\"colorbar\":{\"outlinewidth\":1,\"tickcolor\":\"rgb(36,36,36)\",\"ticks\":\"outside\"}},\"marker\":{\"colorbar\":{\"outlinewidth\":1,\"tickcolor\":\"rgb(36,36,36)\",\"ticks\":\"outside\"}},\"type\":\"scatter3d\"}],\"scattercarpet\":[{\"marker\":{\"colorbar\":{\"outlinewidth\":1,\"tickcolor\":\"rgb(36,36,36)\",\"ticks\":\"outside\"}},\"type\":\"scattercarpet\"}],\"scattergeo\":[{\"marker\":{\"colorbar\":{\"outlinewidth\":1,\"tickcolor\":\"rgb(36,36,36)\",\"ticks\":\"outside\"}},\"type\":\"scattergeo\"}],\"scattergl\":[{\"marker\":{\"colorbar\":{\"outlinewidth\":1,\"tickcolor\":\"rgb(36,36,36)\",\"ticks\":\"outside\"}},\"type\":\"scattergl\"}],\"scattermapbox\":[{\"marker\":{\"colorbar\":{\"outlinewidth\":1,\"tickcolor\":\"rgb(36,36,36)\",\"ticks\":\"outside\"}},\"type\":\"scattermapbox\"}],\"scatterpolargl\":[{\"marker\":{\"colorbar\":{\"outlinewidth\":1,\"tickcolor\":\"rgb(36,36,36)\",\"ticks\":\"outside\"}},\"type\":\"scatterpolargl\"}],\"scatterpolar\":[{\"marker\":{\"colorbar\":{\"outlinewidth\":1,\"tickcolor\":\"rgb(36,36,36)\",\"ticks\":\"outside\"}},\"type\":\"scatterpolar\"}],\"scatter\":[{\"fillpattern\":{\"fillmode\":\"overlay\",\"size\":10,\"solidity\":0.2},\"type\":\"scatter\"}],\"scatterternary\":[{\"marker\":{\"colorbar\":{\"outlinewidth\":1,\"tickcolor\":\"rgb(36,36,36)\",\"ticks\":\"outside\"}},\"type\":\"scatterternary\"}],\"surface\":[{\"colorbar\":{\"outlinewidth\":1,\"tickcolor\":\"rgb(36,36,36)\",\"ticks\":\"outside\"},\"colorscale\":[[0.0,\"#440154\"],[0.1111111111111111,\"#482878\"],[0.2222222222222222,\"#3e4989\"],[0.3333333333333333,\"#31688e\"],[0.4444444444444444,\"#26828e\"],[0.5555555555555556,\"#1f9e89\"],[0.6666666666666666,\"#35b779\"],[0.7777777777777778,\"#6ece58\"],[0.8888888888888888,\"#b5de2b\"],[1.0,\"#fde725\"]],\"type\":\"surface\"}],\"table\":[{\"cells\":{\"fill\":{\"color\":\"rgb(237,237,237)\"},\"line\":{\"color\":\"white\"}},\"header\":{\"fill\":{\"color\":\"rgb(217,217,217)\"},\"line\":{\"color\":\"white\"}},\"type\":\"table\"}]},\"layout\":{\"annotationdefaults\":{\"arrowhead\":0,\"arrowwidth\":1},\"autotypenumbers\":\"strict\",\"coloraxis\":{\"colorbar\":{\"outlinewidth\":1,\"tickcolor\":\"rgb(36,36,36)\",\"ticks\":\"outside\"}},\"colorscale\":{\"diverging\":[[0.0,\"rgb(103,0,31)\"],[0.1,\"rgb(178,24,43)\"],[0.2,\"rgb(214,96,77)\"],[0.3,\"rgb(244,165,130)\"],[0.4,\"rgb(253,219,199)\"],[0.5,\"rgb(247,247,247)\"],[0.6,\"rgb(209,229,240)\"],[0.7,\"rgb(146,197,222)\"],[0.8,\"rgb(67,147,195)\"],[0.9,\"rgb(33,102,172)\"],[1.0,\"rgb(5,48,97)\"]],\"sequential\":[[0.0,\"#440154\"],[0.1111111111111111,\"#482878\"],[0.2222222222222222,\"#3e4989\"],[0.3333333333333333,\"#31688e\"],[0.4444444444444444,\"#26828e\"],[0.5555555555555556,\"#1f9e89\"],[0.6666666666666666,\"#35b779\"],[0.7777777777777778,\"#6ece58\"],[0.8888888888888888,\"#b5de2b\"],[1.0,\"#fde725\"]],\"sequentialminus\":[[0.0,\"#440154\"],[0.1111111111111111,\"#482878\"],[0.2222222222222222,\"#3e4989\"],[0.3333333333333333,\"#31688e\"],[0.4444444444444444,\"#26828e\"],[0.5555555555555556,\"#1f9e89\"],[0.6666666666666666,\"#35b779\"],[0.7777777777777778,\"#6ece58\"],[0.8888888888888888,\"#b5de2b\"],[1.0,\"#fde725\"]]},\"colorway\":[\"#1F77B4\",\"#FF7F0E\",\"#2CA02C\",\"#D62728\",\"#9467BD\",\"#8C564B\",\"#E377C2\",\"#7F7F7F\",\"#BCBD22\",\"#17BECF\"],\"font\":{\"color\":\"rgb(36,36,36)\"},\"geo\":{\"bgcolor\":\"white\",\"lakecolor\":\"white\",\"landcolor\":\"white\",\"showlakes\":true,\"showland\":true,\"subunitcolor\":\"white\"},\"hoverlabel\":{\"align\":\"left\"},\"hovermode\":\"closest\",\"mapbox\":{\"style\":\"light\"},\"paper_bgcolor\":\"white\",\"plot_bgcolor\":\"white\",\"polar\":{\"angularaxis\":{\"gridcolor\":\"rgb(232,232,232)\",\"linecolor\":\"rgb(36,36,36)\",\"showgrid\":false,\"showline\":true,\"ticks\":\"outside\"},\"bgcolor\":\"white\",\"radialaxis\":{\"gridcolor\":\"rgb(232,232,232)\",\"linecolor\":\"rgb(36,36,36)\",\"showgrid\":false,\"showline\":true,\"ticks\":\"outside\"}},\"scene\":{\"xaxis\":{\"backgroundcolor\":\"white\",\"gridcolor\":\"rgb(232,232,232)\",\"gridwidth\":2,\"linecolor\":\"rgb(36,36,36)\",\"showbackground\":true,\"showgrid\":false,\"showline\":true,\"ticks\":\"outside\",\"zeroline\":false,\"zerolinecolor\":\"rgb(36,36,36)\"},\"yaxis\":{\"backgroundcolor\":\"white\",\"gridcolor\":\"rgb(232,232,232)\",\"gridwidth\":2,\"linecolor\":\"rgb(36,36,36)\",\"showbackground\":true,\"showgrid\":false,\"showline\":true,\"ticks\":\"outside\",\"zeroline\":false,\"zerolinecolor\":\"rgb(36,36,36)\"},\"zaxis\":{\"backgroundcolor\":\"white\",\"gridcolor\":\"rgb(232,232,232)\",\"gridwidth\":2,\"linecolor\":\"rgb(36,36,36)\",\"showbackground\":true,\"showgrid\":false,\"showline\":true,\"ticks\":\"outside\",\"zeroline\":false,\"zerolinecolor\":\"rgb(36,36,36)\"}},\"shapedefaults\":{\"fillcolor\":\"black\",\"line\":{\"width\":0},\"opacity\":0.3},\"ternary\":{\"aaxis\":{\"gridcolor\":\"rgb(232,232,232)\",\"linecolor\":\"rgb(36,36,36)\",\"showgrid\":false,\"showline\":true,\"ticks\":\"outside\"},\"baxis\":{\"gridcolor\":\"rgb(232,232,232)\",\"linecolor\":\"rgb(36,36,36)\",\"showgrid\":false,\"showline\":true,\"ticks\":\"outside\"},\"bgcolor\":\"white\",\"caxis\":{\"gridcolor\":\"rgb(232,232,232)\",\"linecolor\":\"rgb(36,36,36)\",\"showgrid\":false,\"showline\":true,\"ticks\":\"outside\"}},\"title\":{\"x\":0.05},\"xaxis\":{\"automargin\":true,\"gridcolor\":\"rgb(232,232,232)\",\"linecolor\":\"rgb(36,36,36)\",\"showgrid\":false,\"showline\":true,\"ticks\":\"outside\",\"title\":{\"standoff\":15},\"zeroline\":false,\"zerolinecolor\":\"rgb(36,36,36)\"},\"yaxis\":{\"automargin\":true,\"gridcolor\":\"rgb(232,232,232)\",\"linecolor\":\"rgb(36,36,36)\",\"showgrid\":false,\"showline\":true,\"ticks\":\"outside\",\"title\":{\"standoff\":15},\"zeroline\":false,\"zerolinecolor\":\"rgb(36,36,36)\"}}},\"xaxis\":{\"anchor\":\"y\",\"domain\":[0.0,1.0],\"title\":{\"text\":\"Mean concave points\"}},\"yaxis\":{\"anchor\":\"x\",\"domain\":[0.0,1.0],\"title\":{\"text\":\" \"}},\"coloraxis\":{\"colorbar\":{\"title\":{\"text\":\"target\"}},\"colorscale\":[[0.0,\"#440154\"],[0.1111111111111111,\"#482878\"],[0.2222222222222222,\"#3e4989\"],[0.3333333333333333,\"#31688e\"],[0.4444444444444444,\"#26828e\"],[0.5555555555555556,\"#1f9e89\"],[0.6666666666666666,\"#35b779\"],[0.7777777777777778,\"#6ece58\"],[0.8888888888888888,\"#b5de2b\"],[1.0,\"#fde725\"]]},\"legend\":{\"tracegroupgap\":0,\"itemsizing\":\"constant\"},\"title\":{\"text\":\"Mean Concave Points Spread\"}},                        {\"responsive\": true}                    ).then(function(){\n",
       "                            \n",
       "var gd = document.getElementById('84520816-3eb8-4004-9228-b20780a03c87');\n",
       "var x = new MutationObserver(function (mutations, observer) {{\n",
       "        var display = window.getComputedStyle(gd).display;\n",
       "        if (!display || display === 'none') {{\n",
       "            console.log([gd, 'removed!']);\n",
       "            Plotly.purge(gd);\n",
       "            observer.disconnect();\n",
       "        }}\n",
       "}});\n",
       "\n",
       "// Listen for the removal of the full notebook cells\n",
       "var notebookContainer = gd.closest('#notebook-container');\n",
       "if (notebookContainer) {{\n",
       "    x.observe(notebookContainer, {childList: true});\n",
       "}}\n",
       "\n",
       "// Listen for the clearing of the current output cell\n",
       "var outputEl = gd.closest('.output');\n",
       "if (outputEl) {{\n",
       "    x.observe(outputEl, {childList: true});\n",
       "}}\n",
       "\n",
       "                        })                };                });            </script>        </div>"
      ]
     },
     "metadata": {},
     "output_type": "display_data"
    }
   ],
   "source": [
    "fig = px.scatter(df,\n",
    "                 x=\"mean_concave_points\", \n",
    "                 size='mean_concave_points',\n",
    "                 color=\"target\", \n",
    "                 hover_data=[\"target\"],\n",
    "                 template=\"simple_white\", \n",
    "                 labels={\"mean_concave_points\": \"Mean Concave Points\"},\n",
    "                 title=\"Mean Concave Points Spread\")\n",
    "fig.update_layout(xaxis_title=\"Mean concave points\",yaxis_title=\" \")\n",
    "fig.show()"
   ]
  },
  {
   "cell_type": "markdown",
   "id": "c556eccb",
   "metadata": {
    "papermill": {
     "duration": 0.027331,
     "end_time": "2024-04-14T14:17:51.709078",
     "exception": false,
     "start_time": "2024-04-14T14:17:51.681747",
     "status": "completed"
    },
    "tags": []
   },
   "source": [
    "We can definitely go more in-depth analysis but that's beyond the scope of this notebook."
   ]
  },
  {
   "cell_type": "markdown",
   "id": "2606bb36",
   "metadata": {
    "papermill": {
     "duration": 0.027245,
     "end_time": "2024-04-14T14:17:51.763917",
     "exception": false,
     "start_time": "2024-04-14T14:17:51.736672",
     "status": "completed"
    },
    "tags": []
   },
   "source": [
    "\n",
    "<center>\n",
    "<div style=\"color:;\n",
    "           display:fill;\n",
    "           border-radius:5px;\n",
    "           background-color: mediumseagreen;\n",
    "           font-size:110%;\n",
    "           letter-spacing:0.5px\">\n",
    "\n",
    "<h2 style=\"padding: 10px;\n",
    "              color:white;\">Data Pre-processing\n",
    "    \n",
    "</h2>\n",
    "</div>\n",
    "    \n",
    "**Data preprocessing** is essential in machine learning because it helps to convert raw data into a more suitable form, which can then be more effectively used by a machine learning algorithm. By preprocessing data, it can be better **organized** and **structured**, which can reduce noise, simplify features, and eliminate irrelevant and redundant features. This helps **improve** the accuracy and performance of the machine learning algorithm.\n",
    "    \n",
    "Now, lets start processing our data and make sure its in line with the requirements of the machine learning ecosystem."
   ]
  },
  {
   "cell_type": "code",
   "execution_count": 16,
   "id": "125ce40d",
   "metadata": {
    "execution": {
     "iopub.execute_input": "2024-04-14T14:17:51.822880Z",
     "iopub.status.busy": "2024-04-14T14:17:51.822205Z",
     "iopub.status.idle": "2024-04-14T14:17:51.827803Z",
     "shell.execute_reply": "2024-04-14T14:17:51.827024Z"
    },
    "papermill": {
     "duration": 0.036765,
     "end_time": "2024-04-14T14:17:51.829610",
     "exception": false,
     "start_time": "2024-04-14T14:17:51.792845",
     "status": "completed"
    },
    "tags": []
   },
   "outputs": [],
   "source": [
    "#Dropping the unrelated cols we found out using ANOVA\n",
    "df.drop(labels=unrelated_num_cols, axis=1, inplace=True)"
   ]
  },
  {
   "cell_type": "code",
   "execution_count": 17,
   "id": "a1f50e01",
   "metadata": {
    "execution": {
     "iopub.execute_input": "2024-04-14T14:17:51.887572Z",
     "iopub.status.busy": "2024-04-14T14:17:51.886972Z",
     "iopub.status.idle": "2024-04-14T14:17:51.892647Z",
     "shell.execute_reply": "2024-04-14T14:17:51.891899Z"
    },
    "papermill": {
     "duration": 0.036064,
     "end_time": "2024-04-14T14:17:51.894531",
     "exception": false,
     "start_time": "2024-04-14T14:17:51.858467",
     "status": "completed"
    },
    "tags": []
   },
   "outputs": [
    {
     "data": {
      "text/plain": [
       "Index(['mean_radius', 'mean_texture', 'mean_perimeter', 'mean_area',\n",
       "       'mean_smoothness', 'mean_compactness', 'mean_concavity',\n",
       "       'mean_concave_points', 'mean_symmetry', 'radius_error',\n",
       "       'perimeter_error', 'area_error', 'compactness_error', 'concavity_error',\n",
       "       'concave_points_error', 'worst_radius', 'worst_texture',\n",
       "       'worst_perimeter', 'worst_area', 'worst_smoothness',\n",
       "       'worst_compactness', 'worst_concavity', 'worst_concave_points',\n",
       "       'worst_symmetry', 'worst_fractal_dimension', 'target'],\n",
       "      dtype='object')"
      ]
     },
     "execution_count": 17,
     "metadata": {},
     "output_type": "execute_result"
    }
   ],
   "source": [
    "#Columns in the dataframe after dropping columns\n",
    "df.columns"
   ]
  },
  {
   "cell_type": "code",
   "execution_count": 18,
   "id": "aa8842de",
   "metadata": {
    "execution": {
     "iopub.execute_input": "2024-04-14T14:17:51.952300Z",
     "iopub.status.busy": "2024-04-14T14:17:51.951942Z",
     "iopub.status.idle": "2024-04-14T14:17:51.956222Z",
     "shell.execute_reply": "2024-04-14T14:17:51.955454Z"
    },
    "papermill": {
     "duration": 0.034911,
     "end_time": "2024-04-14T14:17:51.957985",
     "exception": false,
     "start_time": "2024-04-14T14:17:51.923074",
     "status": "completed"
    },
    "tags": []
   },
   "outputs": [],
   "source": [
    "input_cols = df.columns[:-1]\n",
    "target_col =  df.columns[-1]"
   ]
  },
  {
   "cell_type": "markdown",
   "id": "bedcd532",
   "metadata": {
    "papermill": {
     "duration": 0.027323,
     "end_time": "2024-04-14T14:17:52.012982",
     "exception": false,
     "start_time": "2024-04-14T14:17:51.985659",
     "status": "completed"
    },
    "tags": []
   },
   "source": [
    "We are now **seperating** our input and output values so that when are about to split the data, it is easier for us."
   ]
  },
  {
   "cell_type": "code",
   "execution_count": 19,
   "id": "d2b36d0f",
   "metadata": {
    "execution": {
     "iopub.execute_input": "2024-04-14T14:17:52.069425Z",
     "iopub.status.busy": "2024-04-14T14:17:52.068721Z",
     "iopub.status.idle": "2024-04-14T14:17:52.099238Z",
     "shell.execute_reply": "2024-04-14T14:17:52.098464Z"
    },
    "papermill": {
     "duration": 0.060494,
     "end_time": "2024-04-14T14:17:52.101025",
     "exception": false,
     "start_time": "2024-04-14T14:17:52.040531",
     "status": "completed"
    },
    "tags": []
   },
   "outputs": [
    {
     "data": {
      "text/html": [
       "<div>\n",
       "<style scoped>\n",
       "    .dataframe tbody tr th:only-of-type {\n",
       "        vertical-align: middle;\n",
       "    }\n",
       "\n",
       "    .dataframe tbody tr th {\n",
       "        vertical-align: top;\n",
       "    }\n",
       "\n",
       "    .dataframe thead th {\n",
       "        text-align: right;\n",
       "    }\n",
       "</style>\n",
       "<table border=\"1\" class=\"dataframe\">\n",
       "  <thead>\n",
       "    <tr style=\"text-align: right;\">\n",
       "      <th></th>\n",
       "      <th>mean_radius</th>\n",
       "      <th>mean_texture</th>\n",
       "      <th>mean_perimeter</th>\n",
       "      <th>mean_area</th>\n",
       "      <th>mean_smoothness</th>\n",
       "      <th>mean_compactness</th>\n",
       "      <th>mean_concavity</th>\n",
       "      <th>mean_concave_points</th>\n",
       "      <th>mean_symmetry</th>\n",
       "      <th>radius_error</th>\n",
       "      <th>...</th>\n",
       "      <th>worst_radius</th>\n",
       "      <th>worst_texture</th>\n",
       "      <th>worst_perimeter</th>\n",
       "      <th>worst_area</th>\n",
       "      <th>worst_smoothness</th>\n",
       "      <th>worst_compactness</th>\n",
       "      <th>worst_concavity</th>\n",
       "      <th>worst_concave_points</th>\n",
       "      <th>worst_symmetry</th>\n",
       "      <th>worst_fractal_dimension</th>\n",
       "    </tr>\n",
       "  </thead>\n",
       "  <tbody>\n",
       "    <tr>\n",
       "      <th>418</th>\n",
       "      <td>12.70</td>\n",
       "      <td>12.17</td>\n",
       "      <td>80.88</td>\n",
       "      <td>495.0</td>\n",
       "      <td>0.08785</td>\n",
       "      <td>0.05794</td>\n",
       "      <td>0.02360</td>\n",
       "      <td>0.02402</td>\n",
       "      <td>0.1583</td>\n",
       "      <td>0.2253</td>\n",
       "      <td>...</td>\n",
       "      <td>13.65</td>\n",
       "      <td>16.92</td>\n",
       "      <td>88.12</td>\n",
       "      <td>566.9</td>\n",
       "      <td>0.1314</td>\n",
       "      <td>0.16070</td>\n",
       "      <td>0.09385</td>\n",
       "      <td>0.08224</td>\n",
       "      <td>0.2775</td>\n",
       "      <td>0.09464</td>\n",
       "    </tr>\n",
       "    <tr>\n",
       "      <th>89</th>\n",
       "      <td>14.64</td>\n",
       "      <td>15.24</td>\n",
       "      <td>95.77</td>\n",
       "      <td>651.9</td>\n",
       "      <td>0.11320</td>\n",
       "      <td>0.13390</td>\n",
       "      <td>0.09966</td>\n",
       "      <td>0.07064</td>\n",
       "      <td>0.2116</td>\n",
       "      <td>0.5115</td>\n",
       "      <td>...</td>\n",
       "      <td>16.34</td>\n",
       "      <td>18.24</td>\n",
       "      <td>109.40</td>\n",
       "      <td>803.6</td>\n",
       "      <td>0.1277</td>\n",
       "      <td>0.30890</td>\n",
       "      <td>0.26040</td>\n",
       "      <td>0.13970</td>\n",
       "      <td>0.3151</td>\n",
       "      <td>0.08473</td>\n",
       "    </tr>\n",
       "    <tr>\n",
       "      <th>550</th>\n",
       "      <td>10.86</td>\n",
       "      <td>21.48</td>\n",
       "      <td>68.51</td>\n",
       "      <td>360.5</td>\n",
       "      <td>0.07431</td>\n",
       "      <td>0.04227</td>\n",
       "      <td>0.00000</td>\n",
       "      <td>0.00000</td>\n",
       "      <td>0.1661</td>\n",
       "      <td>0.3163</td>\n",
       "      <td>...</td>\n",
       "      <td>11.66</td>\n",
       "      <td>24.77</td>\n",
       "      <td>74.08</td>\n",
       "      <td>412.3</td>\n",
       "      <td>0.1001</td>\n",
       "      <td>0.07348</td>\n",
       "      <td>0.00000</td>\n",
       "      <td>0.00000</td>\n",
       "      <td>0.2458</td>\n",
       "      <td>0.06592</td>\n",
       "    </tr>\n",
       "    <tr>\n",
       "      <th>147</th>\n",
       "      <td>14.95</td>\n",
       "      <td>18.77</td>\n",
       "      <td>97.84</td>\n",
       "      <td>689.5</td>\n",
       "      <td>0.08138</td>\n",
       "      <td>0.11670</td>\n",
       "      <td>0.09050</td>\n",
       "      <td>0.03562</td>\n",
       "      <td>0.1744</td>\n",
       "      <td>0.4220</td>\n",
       "      <td>...</td>\n",
       "      <td>16.25</td>\n",
       "      <td>25.47</td>\n",
       "      <td>107.10</td>\n",
       "      <td>809.7</td>\n",
       "      <td>0.0997</td>\n",
       "      <td>0.25210</td>\n",
       "      <td>0.25000</td>\n",
       "      <td>0.08405</td>\n",
       "      <td>0.2852</td>\n",
       "      <td>0.09218</td>\n",
       "    </tr>\n",
       "    <tr>\n",
       "      <th>330</th>\n",
       "      <td>16.03</td>\n",
       "      <td>15.51</td>\n",
       "      <td>105.80</td>\n",
       "      <td>793.2</td>\n",
       "      <td>0.09491</td>\n",
       "      <td>0.13710</td>\n",
       "      <td>0.12040</td>\n",
       "      <td>0.07041</td>\n",
       "      <td>0.1782</td>\n",
       "      <td>0.3371</td>\n",
       "      <td>...</td>\n",
       "      <td>18.76</td>\n",
       "      <td>21.98</td>\n",
       "      <td>124.30</td>\n",
       "      <td>1070.0</td>\n",
       "      <td>0.1435</td>\n",
       "      <td>0.44780</td>\n",
       "      <td>0.49560</td>\n",
       "      <td>0.19810</td>\n",
       "      <td>0.3019</td>\n",
       "      <td>0.09124</td>\n",
       "    </tr>\n",
       "  </tbody>\n",
       "</table>\n",
       "<p>5 rows × 25 columns</p>\n",
       "</div>"
      ],
      "text/plain": [
       "     mean_radius  mean_texture  mean_perimeter  mean_area  mean_smoothness  \\\n",
       "418        12.70         12.17           80.88      495.0          0.08785   \n",
       "89         14.64         15.24           95.77      651.9          0.11320   \n",
       "550        10.86         21.48           68.51      360.5          0.07431   \n",
       "147        14.95         18.77           97.84      689.5          0.08138   \n",
       "330        16.03         15.51          105.80      793.2          0.09491   \n",
       "\n",
       "     mean_compactness  mean_concavity  mean_concave_points  mean_symmetry  \\\n",
       "418           0.05794         0.02360              0.02402         0.1583   \n",
       "89            0.13390         0.09966              0.07064         0.2116   \n",
       "550           0.04227         0.00000              0.00000         0.1661   \n",
       "147           0.11670         0.09050              0.03562         0.1744   \n",
       "330           0.13710         0.12040              0.07041         0.1782   \n",
       "\n",
       "     radius_error  ...  worst_radius  worst_texture  worst_perimeter  \\\n",
       "418        0.2253  ...         13.65          16.92            88.12   \n",
       "89         0.5115  ...         16.34          18.24           109.40   \n",
       "550        0.3163  ...         11.66          24.77            74.08   \n",
       "147        0.4220  ...         16.25          25.47           107.10   \n",
       "330        0.3371  ...         18.76          21.98           124.30   \n",
       "\n",
       "     worst_area  worst_smoothness  worst_compactness  worst_concavity  \\\n",
       "418       566.9            0.1314            0.16070          0.09385   \n",
       "89        803.6            0.1277            0.30890          0.26040   \n",
       "550       412.3            0.1001            0.07348          0.00000   \n",
       "147       809.7            0.0997            0.25210          0.25000   \n",
       "330      1070.0            0.1435            0.44780          0.49560   \n",
       "\n",
       "     worst_concave_points  worst_symmetry  worst_fractal_dimension  \n",
       "418               0.08224          0.2775                  0.09464  \n",
       "89                0.13970          0.3151                  0.08473  \n",
       "550               0.00000          0.2458                  0.06592  \n",
       "147               0.08405          0.2852                  0.09218  \n",
       "330               0.19810          0.3019                  0.09124  \n",
       "\n",
       "[5 rows x 25 columns]"
      ]
     },
     "execution_count": 19,
     "metadata": {},
     "output_type": "execute_result"
    }
   ],
   "source": [
    "inputs_df = df[list(input_cols)].copy()\n",
    "inputs_df.sample(5)"
   ]
  },
  {
   "cell_type": "code",
   "execution_count": 20,
   "id": "d5628f62",
   "metadata": {
    "execution": {
     "iopub.execute_input": "2024-04-14T14:17:52.157979Z",
     "iopub.status.busy": "2024-04-14T14:17:52.157671Z",
     "iopub.status.idle": "2024-04-14T14:17:52.164350Z",
     "shell.execute_reply": "2024-04-14T14:17:52.163555Z"
    },
    "papermill": {
     "duration": 0.037559,
     "end_time": "2024-04-14T14:17:52.166300",
     "exception": false,
     "start_time": "2024-04-14T14:17:52.128741",
     "status": "completed"
    },
    "tags": []
   },
   "outputs": [
    {
     "data": {
      "text/plain": [
       "91     0\n",
       "102    1\n",
       "52     1\n",
       "23     0\n",
       "535    0\n",
       "Name: target, dtype: int64"
      ]
     },
     "execution_count": 20,
     "metadata": {},
     "output_type": "execute_result"
    }
   ],
   "source": [
    "targets = df[(target_col)]\n",
    "targets.sample(5)"
   ]
  },
  {
   "cell_type": "markdown",
   "id": "d358cb50",
   "metadata": {
    "papermill": {
     "duration": 0.028317,
     "end_time": "2024-04-14T14:17:52.222799",
     "exception": false,
     "start_time": "2024-04-14T14:17:52.194482",
     "status": "completed"
    },
    "tags": []
   },
   "source": [
    "<center>\n",
    "<div style=\"color:;\n",
    "           display:fill;\n",
    "           border-radius:5px;\n",
    "           background-color: gray;\n",
    "           font-size:110%;\n",
    "           letter-spacing:0.5px\">\n",
    "\n",
    "<h3 style=\"padding: 10px;\n",
    "              color:white;\">Data Scaling\n",
    "    \n",
    "</h3>\n",
    "</div>\n"
   ]
  },
  {
   "cell_type": "markdown",
   "id": "f24004d3",
   "metadata": {
    "papermill": {
     "duration": 0.027617,
     "end_time": "2024-04-14T14:17:52.278408",
     "exception": false,
     "start_time": "2024-04-14T14:17:52.250791",
     "status": "completed"
    },
    "tags": []
   },
   "source": [
    "Normalization and standardization are two fundamental data scaling techniques extensively employed in algorithms that necessitate scaling. Both methods can be implemented using the `scikit-learn` library's preprocessing package.\n",
    "\n",
    "**Normalization**, also known as Min-Max scaling, transforms the data linearly to a specified range, typically between 0 and 1. It accomplishes this by subtracting the feature's minimum value and then dividing by the range (max - min). Mathematically, for a feature vector X, normalization transforms it as follows:\n",
    "\n",
    "$$X_{scaled} = \\frac{X - X_{min}}{X_{max} - X_{min}}$$\n",
    "\n",
    "**Standardization**, on the other hand, rescales the data to have a mean of 0 and a standard deviation of 1. It accomplishes this by subtracting the feature's mean and then dividing by the standard deviation. Mathematically, for a feature vector X, standardization transforms it as follows:\n",
    "\n",
    "$$X_{scaled} = \\frac{X - \\bar{X}}{\\sigma}$$\n",
    "\n",
    "**Comparison**\n",
    "\n",
    "The primary distinction between normalization and standardization lies in their sensitivity to outliers. Normalization is susceptible to outliers because it scales the data based on the minimum and maximum values, which can be significantly affected by outliers. Standardization, on the other hand, is less sensitive to outliers because it scales the data based on the mean and standard deviation, which are more resilient to outliers.\n",
    "\n",
    "**Applications**\n",
    "\n",
    "- Normalization is frequently used when the data has a well-defined range or when preserving relative distances between data points is critical. It is commonly used in image processing and neural networks.\n",
    "\n",
    "- Standardization is preferred when the data distribution is approximately Gaussian or when the presence of outliers is a concern. It is widely used in statistical analysis and machine learning algorithms that assume normally distributed data.\n",
    "\n",
    "Since we have a high dimensionality data, **scaling** the data will help us with the **Principal Component Analysis** which we will take a look at next."
   ]
  },
  {
   "cell_type": "code",
   "execution_count": 21,
   "id": "46e5515e",
   "metadata": {
    "execution": {
     "iopub.execute_input": "2024-04-14T14:17:52.336454Z",
     "iopub.status.busy": "2024-04-14T14:17:52.335633Z",
     "iopub.status.idle": "2024-04-14T14:17:52.368281Z",
     "shell.execute_reply": "2024-04-14T14:17:52.367542Z"
    },
    "papermill": {
     "duration": 0.064184,
     "end_time": "2024-04-14T14:17:52.370428",
     "exception": false,
     "start_time": "2024-04-14T14:17:52.306244",
     "status": "completed"
    },
    "tags": []
   },
   "outputs": [
    {
     "data": {
      "text/html": [
       "<div>\n",
       "<style scoped>\n",
       "    .dataframe tbody tr th:only-of-type {\n",
       "        vertical-align: middle;\n",
       "    }\n",
       "\n",
       "    .dataframe tbody tr th {\n",
       "        vertical-align: top;\n",
       "    }\n",
       "\n",
       "    .dataframe thead th {\n",
       "        text-align: right;\n",
       "    }\n",
       "</style>\n",
       "<table border=\"1\" class=\"dataframe\">\n",
       "  <thead>\n",
       "    <tr style=\"text-align: right;\">\n",
       "      <th></th>\n",
       "      <th>mean_radius</th>\n",
       "      <th>mean_texture</th>\n",
       "      <th>mean_perimeter</th>\n",
       "      <th>mean_area</th>\n",
       "      <th>mean_smoothness</th>\n",
       "      <th>mean_compactness</th>\n",
       "      <th>mean_concavity</th>\n",
       "      <th>mean_concave_points</th>\n",
       "      <th>mean_symmetry</th>\n",
       "      <th>radius_error</th>\n",
       "      <th>...</th>\n",
       "      <th>worst_radius</th>\n",
       "      <th>worst_texture</th>\n",
       "      <th>worst_perimeter</th>\n",
       "      <th>worst_area</th>\n",
       "      <th>worst_smoothness</th>\n",
       "      <th>worst_compactness</th>\n",
       "      <th>worst_concavity</th>\n",
       "      <th>worst_concave_points</th>\n",
       "      <th>worst_symmetry</th>\n",
       "      <th>worst_fractal_dimension</th>\n",
       "    </tr>\n",
       "  </thead>\n",
       "  <tbody>\n",
       "    <tr>\n",
       "      <th>0</th>\n",
       "      <td>0.521037</td>\n",
       "      <td>0.022658</td>\n",
       "      <td>0.545989</td>\n",
       "      <td>0.363733</td>\n",
       "      <td>0.593753</td>\n",
       "      <td>0.792037</td>\n",
       "      <td>0.703140</td>\n",
       "      <td>0.731113</td>\n",
       "      <td>0.686364</td>\n",
       "      <td>0.356147</td>\n",
       "      <td>...</td>\n",
       "      <td>0.620776</td>\n",
       "      <td>0.141525</td>\n",
       "      <td>0.668310</td>\n",
       "      <td>0.450698</td>\n",
       "      <td>0.601136</td>\n",
       "      <td>0.619292</td>\n",
       "      <td>0.568610</td>\n",
       "      <td>0.912027</td>\n",
       "      <td>0.598462</td>\n",
       "      <td>0.418864</td>\n",
       "    </tr>\n",
       "    <tr>\n",
       "      <th>1</th>\n",
       "      <td>0.643144</td>\n",
       "      <td>0.272574</td>\n",
       "      <td>0.615783</td>\n",
       "      <td>0.501591</td>\n",
       "      <td>0.289880</td>\n",
       "      <td>0.181768</td>\n",
       "      <td>0.203608</td>\n",
       "      <td>0.348757</td>\n",
       "      <td>0.379798</td>\n",
       "      <td>0.156437</td>\n",
       "      <td>...</td>\n",
       "      <td>0.606901</td>\n",
       "      <td>0.303571</td>\n",
       "      <td>0.539818</td>\n",
       "      <td>0.435214</td>\n",
       "      <td>0.347553</td>\n",
       "      <td>0.154563</td>\n",
       "      <td>0.192971</td>\n",
       "      <td>0.639175</td>\n",
       "      <td>0.233590</td>\n",
       "      <td>0.222878</td>\n",
       "    </tr>\n",
       "    <tr>\n",
       "      <th>2</th>\n",
       "      <td>0.601496</td>\n",
       "      <td>0.390260</td>\n",
       "      <td>0.595743</td>\n",
       "      <td>0.449417</td>\n",
       "      <td>0.514309</td>\n",
       "      <td>0.431017</td>\n",
       "      <td>0.462512</td>\n",
       "      <td>0.635686</td>\n",
       "      <td>0.509596</td>\n",
       "      <td>0.229622</td>\n",
       "      <td>...</td>\n",
       "      <td>0.556386</td>\n",
       "      <td>0.360075</td>\n",
       "      <td>0.508442</td>\n",
       "      <td>0.374508</td>\n",
       "      <td>0.483590</td>\n",
       "      <td>0.385375</td>\n",
       "      <td>0.359744</td>\n",
       "      <td>0.835052</td>\n",
       "      <td>0.403706</td>\n",
       "      <td>0.213433</td>\n",
       "    </tr>\n",
       "    <tr>\n",
       "      <th>3</th>\n",
       "      <td>0.210090</td>\n",
       "      <td>0.360839</td>\n",
       "      <td>0.233501</td>\n",
       "      <td>0.102906</td>\n",
       "      <td>0.811321</td>\n",
       "      <td>0.811361</td>\n",
       "      <td>0.565604</td>\n",
       "      <td>0.522863</td>\n",
       "      <td>0.776263</td>\n",
       "      <td>0.139091</td>\n",
       "      <td>...</td>\n",
       "      <td>0.248310</td>\n",
       "      <td>0.385928</td>\n",
       "      <td>0.241347</td>\n",
       "      <td>0.094008</td>\n",
       "      <td>0.915472</td>\n",
       "      <td>0.814012</td>\n",
       "      <td>0.548642</td>\n",
       "      <td>0.884880</td>\n",
       "      <td>1.000000</td>\n",
       "      <td>0.773711</td>\n",
       "    </tr>\n",
       "    <tr>\n",
       "      <th>4</th>\n",
       "      <td>0.629893</td>\n",
       "      <td>0.156578</td>\n",
       "      <td>0.630986</td>\n",
       "      <td>0.489290</td>\n",
       "      <td>0.430351</td>\n",
       "      <td>0.347893</td>\n",
       "      <td>0.463918</td>\n",
       "      <td>0.518390</td>\n",
       "      <td>0.378283</td>\n",
       "      <td>0.233822</td>\n",
       "      <td>...</td>\n",
       "      <td>0.519744</td>\n",
       "      <td>0.123934</td>\n",
       "      <td>0.506948</td>\n",
       "      <td>0.341575</td>\n",
       "      <td>0.437364</td>\n",
       "      <td>0.172415</td>\n",
       "      <td>0.319489</td>\n",
       "      <td>0.558419</td>\n",
       "      <td>0.157500</td>\n",
       "      <td>0.142595</td>\n",
       "    </tr>\n",
       "  </tbody>\n",
       "</table>\n",
       "<p>5 rows × 25 columns</p>\n",
       "</div>"
      ],
      "text/plain": [
       "   mean_radius  mean_texture  mean_perimeter  mean_area  mean_smoothness  \\\n",
       "0     0.521037      0.022658        0.545989   0.363733         0.593753   \n",
       "1     0.643144      0.272574        0.615783   0.501591         0.289880   \n",
       "2     0.601496      0.390260        0.595743   0.449417         0.514309   \n",
       "3     0.210090      0.360839        0.233501   0.102906         0.811321   \n",
       "4     0.629893      0.156578        0.630986   0.489290         0.430351   \n",
       "\n",
       "   mean_compactness  mean_concavity  mean_concave_points  mean_symmetry  \\\n",
       "0          0.792037        0.703140             0.731113       0.686364   \n",
       "1          0.181768        0.203608             0.348757       0.379798   \n",
       "2          0.431017        0.462512             0.635686       0.509596   \n",
       "3          0.811361        0.565604             0.522863       0.776263   \n",
       "4          0.347893        0.463918             0.518390       0.378283   \n",
       "\n",
       "   radius_error  ...  worst_radius  worst_texture  worst_perimeter  \\\n",
       "0      0.356147  ...      0.620776       0.141525         0.668310   \n",
       "1      0.156437  ...      0.606901       0.303571         0.539818   \n",
       "2      0.229622  ...      0.556386       0.360075         0.508442   \n",
       "3      0.139091  ...      0.248310       0.385928         0.241347   \n",
       "4      0.233822  ...      0.519744       0.123934         0.506948   \n",
       "\n",
       "   worst_area  worst_smoothness  worst_compactness  worst_concavity  \\\n",
       "0    0.450698          0.601136           0.619292         0.568610   \n",
       "1    0.435214          0.347553           0.154563         0.192971   \n",
       "2    0.374508          0.483590           0.385375         0.359744   \n",
       "3    0.094008          0.915472           0.814012         0.548642   \n",
       "4    0.341575          0.437364           0.172415         0.319489   \n",
       "\n",
       "   worst_concave_points  worst_symmetry  worst_fractal_dimension  \n",
       "0              0.912027        0.598462                 0.418864  \n",
       "1              0.639175        0.233590                 0.222878  \n",
       "2              0.835052        0.403706                 0.213433  \n",
       "3              0.884880        1.000000                 0.773711  \n",
       "4              0.558419        0.157500                 0.142595  \n",
       "\n",
       "[5 rows x 25 columns]"
      ]
     },
     "execution_count": 21,
     "metadata": {},
     "output_type": "execute_result"
    }
   ],
   "source": [
    "scaler = MinMaxScaler()\n",
    "scaler.fit(inputs_df[input_cols])\n",
    "inputs_df[input_cols] = scaler.transform(inputs_df[input_cols])\n",
    "inputs_df[input_cols].head()"
   ]
  },
  {
   "cell_type": "markdown",
   "id": "f6512d4e",
   "metadata": {
    "papermill": {
     "duration": 0.028177,
     "end_time": "2024-04-14T14:17:52.428923",
     "exception": false,
     "start_time": "2024-04-14T14:17:52.400746",
     "status": "completed"
    },
    "tags": []
   },
   "source": [
    "<center>\n",
    "<div style=\"color:;\n",
    "           display:fill;\n",
    "           border-radius:5px;\n",
    "           background-color: mediumseagreen;\n",
    "           font-size:110%;\n",
    "           letter-spacing:0.5px\">\n",
    "\n",
    "<h2 style=\"padding: 10px;\n",
    "              color:white;\">Principal Component Analysis (PCA)\n",
    "    \n",
    "</h2>\n",
    "</div>\n",
    "    \n",
    "</center>\n",
    "\n",
    "\n",
    "\n",
    "Principal Component Analysis (PCA) is a dimensionality reduction technique that aims to simplify complex data while retaining essential information. It transforms a set of correlated variables into a smaller number of uncorrelated variables called principal components, effectively summarizing the data's key patterns.\n",
    "\n",
    "PCA serves two primary purposes:\n",
    "\n",
    "1. **Dimensionality Reduction:** PCA reduces the number of variables, simplifying data visualization and analysis. This makes it easier to identify patterns and relationships within the data.\n",
    "\n",
    "2. **Overfitting Prevention:** By eliminating highly correlated features, PCA reduces the risk of overfitting in machine learning models. Overfitting occurs when a model becomes too closely aligned with the training data, leading to poor performance on new data.\n",
    "\n",
    "<span style=\"background-color: yellow;\"> PCA achieves these goals by **maximizing the variance** of the projected data on a given axis while **minimizing the reconstruction error** or residuals. It identifies principal components, directions that capture the most significant variations in the data.</span> Projecting data onto these principal components maximizes variance and minimizes reconstruction error, effectively reducing dimensionality without losing crucial information.\n",
    "\n",
    "The below image aptly illustrates PCA's objective. The red dots represent data points, and the arrows represent principal components. Longer arrows correspond to directions with higher variance, while shorter arrows correspond to directions with lower variance. PCA projects data onto these principal components, reducing dimensionality while preserving essential information.\n",
    "    \n",
    "    \n",
    "<center>\n",
    "<img src=\"https://alexhwilliams.info/itsneuronalblog/img/pca/pca_two_views.png\", width=800>\n",
    "</center>\n",
    "    \n"
   ]
  },
  {
   "cell_type": "markdown",
   "id": "66551519",
   "metadata": {
    "papermill": {
     "duration": 0.028557,
     "end_time": "2024-04-14T14:17:52.485421",
     "exception": false,
     "start_time": "2024-04-14T14:17:52.456864",
     "status": "completed"
    },
    "tags": []
   },
   "source": [
    "\n",
    "<center>\n",
    "<div style=\"color:;\n",
    "           display:fill;\n",
    "           border-radius:5px;\n",
    "           background-color: royalblue;\n",
    "           font-size:110%;\n",
    "           letter-spacing:0.5px\">\n",
    "\n",
    "<h3 style=\"padding: 10px;\n",
    "              color:white;\">Creating Covariance Matrix and finding Eigenvalues and Eigen Vectors\n",
    "    \n",
    "</h3>\n",
    "</div>"
   ]
  },
  {
   "cell_type": "markdown",
   "id": "f7a76ba9",
   "metadata": {
    "papermill": {
     "duration": 0.029058,
     "end_time": "2024-04-14T14:17:52.544577",
     "exception": false,
     "start_time": "2024-04-14T14:17:52.515519",
     "status": "completed"
    },
    "tags": []
   },
   "source": [
    "An **eigenvector** (eigen is German for \"typical\"; we could translate eigenvector to \"characteristic vector\") is a special vector $v$ such that when it is transformed by some matrix (let's say $A$), the product  has the exact same direction as $v$. An **eigenvalue** is a scalar (traditionally represented as $\\lambda$) that simply scales the eigenvector $v$ such that the following equation is satisfied: $$A\\vec{v} = \\lambda*\\vec{v}$$\n",
    "\n",
    "where,\n",
    "\n",
    "$A$ = square matrix (equal rows & columns)\n",
    "\n",
    "$\\vec{v}$ = non-zero vector\n",
    "\n",
    "$\\lambda$ = scalar value or eigenvalue\n",
    "\n",
    "<span style=\"background-color: yellow;\"> \n",
    "An eigenvector of a square matrix $A$ is a non-zero vector $\\vec{v}$ that, when multiplied by the matrix $A$, results in a scalar multiple of itself. Basically, Eigenvectors are vectors that, when transformed by the matrix $A$, only change in magnitude, not in direction.</span>\n",
    "\n",
    "**For example**, \n",
    "\n",
    "consider a 2D eigenvector [1, 1] and its corresponding matrix $A$. If $A$ scales the vector by a factor of 2, the transformed vector will be [2, 2]. The vector has doubled in length, but its direction remains the same – it still points along a 45-degree angle from the $x$-axis.\n",
    "\n",
    "---\n",
    "\n",
    "**Calculation of Eigenvalues and Eigenvectors**\n",
    "\n",
    "Let's see how we calculate the eigenvalues and the eigenvectors. To find the eigenvectors of the matrix $A$, we first need to find the eigenvalues. The eigenvalues are the values $\\lambda$ that satisfy the equation:\n",
    "\n",
    "$$det(A - \\lambda*I) = 0$$\n",
    "\n",
    "- The equation $det(A - \\lambda*I) = 0$ is the characteristic equation of a square matrix $A$, where $\\lambda$ represents the eigenvalues of the matrix and $I$ is the identity matrix. We try to satisfy this equation to find the eigenvalues of $A$, which are crucial for understanding the matrix's properties and behavior.\n",
    "\n",
    "- The reason we set the determinant of $(A - \\lambda*I)$ to zero is that the determinant of a matrix is zero if and only if the matrix is singular, meaning it has no inverse. In the context of eigenvectors, this means that there exists a non-zero vector $\\vec{v}$ such that $A\\vec{v} = \\lambda*\\vec{v}$. This equation represents the defining property of eigenvectors: when multiplied by the matrix $A$, they only change in magnitude, not in direction.\n",
    "\n",
    "- By solving the characteristic equation, we find the values of $\\lambda$ that make the matrix $(A - \\lambda*I)$ singular, and these values correspond to the eigenvalues of $A$. Once we have the eigenvalues, we can find the corresponding eigenvectors by solving the equation $A - \\lambda*I = 0$ for each eigenvalue.\n",
    "\n",
    "Consider a square matrix $A$ with 3 rows and 3 columns\n",
    "\n",
    "$$ A = \\begin{bmatrix}\n",
    "3 & 1 & 4 \\\\\n",
    "1 & 2 & 5 \\\\\n",
    "4 & 5 & 6 \\\\\n",
    "\\end{bmatrix}$$\n",
    "\n",
    "Here the $I$ is an identity matrix which is show below\n",
    "\n",
    "$$ A_{I} = \\begin{bmatrix}\n",
    "1 & 0 & 0 \\\\\n",
    "0 & 1 & 0 \\\\\n",
    "0 & 0 & 1 \\\\\n",
    "\\end{bmatrix}$$\n",
    "\n",
    "So when we perform the operation $A - \\lambda\\space I$ we get\n",
    "\n",
    "$$ A-\\lambda I = \\begin{bmatrix}\n",
    "\\color{red}3\\color{red}-\\color{red}\\lambda & 1 & 4 \\\\\n",
    "1 & \\color{red}2\\color{red}-\\color{red}\\lambda & 5 \\\\\n",
    "4 & 5 & \\color{red}6\\color{red}-\\color{red}\\lambda \\\\\n",
    "\\end{bmatrix} = 0 $$\n",
    "\n",
    "And when we apply [Gaussian Elimination](https://bit.ly/3RqRCdQ) on this matrix, we get\n",
    "\n",
    "\n",
    "$$ B = \\begin{bmatrix}\n",
    "1-\\lambda & 2-\\lambda & 5 \\\\\n",
    "0 & 1-\\lambda & -1 \\\\\n",
    "-3-\\lambda & 2-\\lambda & 1 \\\\\n",
    "\\end{bmatrix}$$\n",
    "\n",
    "Solving for $\\lambda$, we get the eigenvalues  $\\lambda_{1}$ = -2,  $\\lambda_{2}$ = 2, and  $\\lambda_{3}$ = 11. From here on out, it becomes easy as we simply have to substitute the  $\\lambda$ values in to the equation $A\\vec{v} = \\lambda*\\vec{v}$ which will give us \n",
    "\n",
    "$$\\vec{v_{1}} = [-1, 1, 1]$$ \n",
    "$$\\space \\vec{v_{2}} = [2, 1, 0]$$\n",
    "$$\\space \\vec{v_{3}} = [1, 2, 1]$$\n",
    "\n",
    "The above vectors are your eigenvectors"
   ]
  },
  {
   "cell_type": "code",
   "execution_count": 22,
   "id": "4420c90e",
   "metadata": {
    "execution": {
     "iopub.execute_input": "2024-04-14T14:17:52.606216Z",
     "iopub.status.busy": "2024-04-14T14:17:52.605402Z",
     "iopub.status.idle": "2024-04-14T14:17:52.624884Z",
     "shell.execute_reply": "2024-04-14T14:17:52.624219Z"
    },
    "papermill": {
     "duration": 0.052317,
     "end_time": "2024-04-14T14:17:52.626846",
     "exception": false,
     "start_time": "2024-04-14T14:17:52.574529",
     "status": "completed"
    },
    "tags": []
   },
   "outputs": [],
   "source": [
    "#Extracting input values\n",
    "column_values = []\n",
    "for i in range(len(inputs_df.columns)):\n",
    "    column_values.append(inputs_df.iloc[:,i].values)\n",
    "    \n",
    "#Making Covariance Matrix\n",
    "covariance_matrix = np.cov(column_values)\n",
    "\n",
    "#Getting the EigenVectors and the EigenValues\n",
    "eigen_values, eigen_vectors = np.linalg.eig(covariance_matrix)"
   ]
  },
  {
   "cell_type": "markdown",
   "id": "3e306bfe",
   "metadata": {
    "papermill": {
     "duration": 0.028333,
     "end_time": "2024-04-14T14:17:52.684339",
     "exception": false,
     "start_time": "2024-04-14T14:17:52.656006",
     "status": "completed"
    },
    "tags": []
   },
   "source": [
    "**Why do we calculate the covariance matrix**\n",
    "\n",
    "- <span style=\"background-color: yellow;\"> The covariance matrix is used to calculate eigenvectors and eigenvalues in principal component analysis (PCA) because it captures the variances and covariances between the features in a dataset.</span> PCA aims to identify the principal components, which are the directions of maximum variance in the data. These directions correspond to the eigenvectors of the covariance matrix, and the corresponding eigenvalues represent the magnitudes of variance along those directions.\n",
    "\n",
    "- <span style=\"background-color: yellow;\"> The covariance matrix is a square matrix where each element represents the covariance between two features.</span> The diagonal elements represent the variances of individual features, while the off-diagonal elements represent the covariances between different features.\n",
    "\n",
    "\n",
    "- By calculating the eigenvectors and eigenvalues of the covariance matrix, <span style=\"background-color: yellow;\"> PCA identifies the directions of maximum variance in the data. These directions are the principal components, and they represent the most significant patterns of variation in the dataset.</span> Projecting the data onto these principal components reduces dimensionality while preserving as much of the original information as possible."
   ]
  },
  {
   "cell_type": "code",
   "execution_count": 23,
   "id": "9d05a65e",
   "metadata": {
    "execution": {
     "iopub.execute_input": "2024-04-14T14:17:52.743936Z",
     "iopub.status.busy": "2024-04-14T14:17:52.743262Z",
     "iopub.status.idle": "2024-04-14T14:17:52.748410Z",
     "shell.execute_reply": "2024-04-14T14:17:52.747504Z"
    },
    "papermill": {
     "duration": 0.037918,
     "end_time": "2024-04-14T14:17:52.750924",
     "exception": false,
     "start_time": "2024-04-14T14:17:52.713006",
     "status": "completed"
    },
    "tags": []
   },
   "outputs": [
    {
     "name": "stdout",
     "output_type": "stream",
     "text": [
      "Shape of eigenvalues: (25,)\n",
      "Shape of eigenvectors: (25, 25)\n",
      "Shape of covariance matrix: (25, 25)\n"
     ]
    }
   ],
   "source": [
    "print(\"Shape of eigenvalues:\", eigen_values.shape)\n",
    "print(\"Shape of eigenvectors:\", eigen_vectors.shape)\n",
    "print(\"Shape of covariance matrix:\", covariance_matrix.shape)"
   ]
  },
  {
   "cell_type": "code",
   "execution_count": 24,
   "id": "0c86fd55",
   "metadata": {
    "execution": {
     "iopub.execute_input": "2024-04-14T14:17:52.811635Z",
     "iopub.status.busy": "2024-04-14T14:17:52.811339Z",
     "iopub.status.idle": "2024-04-14T14:17:52.817523Z",
     "shell.execute_reply": "2024-04-14T14:17:52.816648Z"
    },
    "papermill": {
     "duration": 0.038733,
     "end_time": "2024-04-14T14:17:52.819742",
     "exception": false,
     "start_time": "2024-04-14T14:17:52.781009",
     "status": "completed"
    },
    "tags": []
   },
   "outputs": [
    {
     "data": {
      "text/plain": [
       "array([0.027818  , 0.00785484, 0.02794603, 0.02458229, 0.00361231,\n",
       "       0.01367458, 0.02108345, 0.02645754, 0.00341174, 0.01137405,\n",
       "       0.01071215, 0.01042819, 0.00462112, 0.00246906, 0.0073333 ,\n",
       "       0.02780391, 0.00811481, 0.02693902, 0.02196388, 0.0030081 ,\n",
       "       0.0105267 , 0.01464405, 0.028038  , 0.00333488, 0.00013961])"
      ]
     },
     "execution_count": 24,
     "metadata": {},
     "output_type": "execute_result"
    }
   ],
   "source": [
    "#First Element of the Covariance Matrix\n",
    "covariance_matrix[0]"
   ]
  },
  {
   "cell_type": "code",
   "execution_count": 25,
   "id": "81c25f6d",
   "metadata": {
    "execution": {
     "iopub.execute_input": "2024-04-14T14:17:52.888748Z",
     "iopub.status.busy": "2024-04-14T14:17:52.888143Z",
     "iopub.status.idle": "2024-04-14T14:17:52.894846Z",
     "shell.execute_reply": "2024-04-14T14:17:52.893931Z"
    },
    "papermill": {
     "duration": 0.044374,
     "end_time": "2024-04-14T14:17:52.896979",
     "exception": false,
     "start_time": "2024-04-14T14:17:52.852605",
     "status": "completed"
    },
    "tags": []
   },
   "outputs": [
    {
     "data": {
      "text/plain": [
       "array([ 0.24595212, -0.28506715, -0.05288632,  0.04299417,  0.07429854,\n",
       "        0.04581977,  0.07854236, -0.17635877, -0.03245573,  0.21481119,\n",
       "        0.00737844,  0.01610437,  0.12459388, -0.18581714, -0.24581679,\n",
       "       -0.17792538,  0.03830878,  0.13958935, -0.70693551,  0.1966754 ,\n",
       "       -0.15904637,  0.07589162,  0.07905804,  0.11604536,  0.09432928])"
      ]
     },
     "execution_count": 25,
     "metadata": {},
     "output_type": "execute_result"
    }
   ],
   "source": [
    "#First Eigenvector\n",
    "eigen_vectors[0]"
   ]
  },
  {
   "cell_type": "code",
   "execution_count": 26,
   "id": "1bb0e547",
   "metadata": {
    "execution": {
     "iopub.execute_input": "2024-04-14T14:17:52.962184Z",
     "iopub.status.busy": "2024-04-14T14:17:52.961876Z",
     "iopub.status.idle": "2024-04-14T14:17:52.966469Z",
     "shell.execute_reply": "2024-04-14T14:17:52.965763Z"
    },
    "papermill": {
     "duration": 0.038124,
     "end_time": "2024-04-14T14:17:52.968498",
     "exception": false,
     "start_time": "2024-04-14T14:17:52.930374",
     "status": "completed"
    },
    "tags": []
   },
   "outputs": [
    {
     "name": "stdout",
     "output_type": "stream",
     "text": [
      "The first eigen value is 0.3301\n"
     ]
    }
   ],
   "source": [
    "print('The first eigen value is',round(eigen_values[0],4))"
   ]
  },
  {
   "cell_type": "markdown",
   "id": "cfeb3ffd",
   "metadata": {
    "papermill": {
     "duration": 0.028602,
     "end_time": "2024-04-14T14:17:53.025553",
     "exception": false,
     "start_time": "2024-04-14T14:17:52.996951",
     "status": "completed"
    },
    "tags": []
   },
   "source": [
    "<center>\n",
    "<div style=\"color:;\n",
    "           display:fill;\n",
    "           border-radius:5px;\n",
    "           background-color: royalblue;\n",
    "           font-size:110%;\n",
    "           letter-spacing:0.5px\">\n",
    "\n",
    "<h3 style=\"padding: 10px;\n",
    "              color:white;\">Explained Variance\n",
    "    \n",
    "</h3>\n",
    "</div>"
   ]
  },
  {
   "cell_type": "markdown",
   "id": "ab95b575",
   "metadata": {
    "papermill": {
     "duration": 0.028232,
     "end_time": "2024-04-14T14:17:53.082022",
     "exception": false,
     "start_time": "2024-04-14T14:17:53.053790",
     "status": "completed"
    },
    "tags": []
   },
   "source": [
    "**Explained variance** is a measure of how much of the total variance in a dataset can be explained by a particular model. It is a measure used to evaluate how well a model fits the data. It is calculated by taking the ratio of the variance explained by the model to the total variance of the data. A higher explained variance indicates that the model is capturing more of the underlying structure of the data."
   ]
  },
  {
   "cell_type": "code",
   "execution_count": 27,
   "id": "ad4b6b85",
   "metadata": {
    "execution": {
     "iopub.execute_input": "2024-04-14T14:17:53.140455Z",
     "iopub.status.busy": "2024-04-14T14:17:53.139681Z",
     "iopub.status.idle": "2024-04-14T14:17:53.146957Z",
     "shell.execute_reply": "2024-04-14T14:17:53.146217Z"
    },
    "papermill": {
     "duration": 0.038741,
     "end_time": "2024-04-14T14:17:53.148986",
     "exception": false,
     "start_time": "2024-04-14T14:17:53.110245",
     "status": "completed"
    },
    "tags": []
   },
   "outputs": [
    {
     "name": "stdout",
     "output_type": "stream",
     "text": [
      "At 1 PC, Explained Variance is 59.5%\n",
      "At 2 PC, Explained Variance is 74.84%\n",
      "At 3 PC, Explained Variance is 82.28%\n",
      "At 4 PC, Explained Variance is 87.3%\n",
      "At 5 PC, Explained Variance is 90.78%\n"
     ]
    }
   ],
   "source": [
    "explained_variance = []\n",
    "c= 0\n",
    "for i in range(len((eigen_values/(np.sum(eigen_values))*100))): \n",
    "    c = c + np.around((eigen_values[i]/(np.sum(eigen_values))*100),3)\n",
    "    while c < 92:\n",
    "        explained_variance.append(c)\n",
    "        print(f'At {i+1} PC, Explained Variance is {round(c,2)}%')\n",
    "        break"
   ]
  },
  {
   "cell_type": "code",
   "execution_count": 28,
   "id": "af06bd0c",
   "metadata": {
    "execution": {
     "iopub.execute_input": "2024-04-14T14:17:53.207863Z",
     "iopub.status.busy": "2024-04-14T14:17:53.207157Z",
     "iopub.status.idle": "2024-04-14T14:17:53.212115Z",
     "shell.execute_reply": "2024-04-14T14:17:53.211338Z"
    },
    "papermill": {
     "duration": 0.036768,
     "end_time": "2024-04-14T14:17:53.214650",
     "exception": false,
     "start_time": "2024-04-14T14:17:53.177882",
     "status": "completed"
    },
    "tags": []
   },
   "outputs": [
    {
     "name": "stdout",
     "output_type": "stream",
     "text": [
      "Explained Variance Achieved : 90.78% , PCs needed : 5\n"
     ]
    }
   ],
   "source": [
    "variance_percentage = np.around(explained_variance[-1], 2)\n",
    "num_principal_components = len(explained_variance)\n",
    "\n",
    "print(f\"Explained Variance Achieved : {variance_percentage}% , PCs needed : {num_principal_components}\")"
   ]
  },
  {
   "cell_type": "code",
   "execution_count": 29,
   "id": "8a65fa62",
   "metadata": {
    "execution": {
     "iopub.execute_input": "2024-04-14T14:17:53.273247Z",
     "iopub.status.busy": "2024-04-14T14:17:53.272942Z",
     "iopub.status.idle": "2024-04-14T14:17:53.583919Z",
     "shell.execute_reply": "2024-04-14T14:17:53.583107Z"
    },
    "papermill": {
     "duration": 0.34283,
     "end_time": "2024-04-14T14:17:53.586218",
     "exception": false,
     "start_time": "2024-04-14T14:17:53.243388",
     "status": "completed"
    },
    "tags": []
   },
   "outputs": [
    {
     "data": {
      "image/png": "[encoded data removed]",
      "text/plain": [
       "<Figure size 2200x500 with 1 Axes>"
      ]
     },
     "metadata": {
      "needs_background": "light"
     },
     "output_type": "display_data"
    }
   ],
   "source": [
    "sns.lineplot(x=explained_variance,  y=range(1,len(explained_variance)+1), marker='o')\n",
    "\n",
    "plt.gca().spines['top'].set_visible(False)\n",
    "plt.gca().spines['right'].set_visible(False)\n",
    "\n",
    "plt.annotate(f'{round(explained_variance[0],2)}', (round(explained_variance[0],2)-1, 1.12), \n",
    "             fontsize=15, fontweight='bold', color='red')\n",
    "plt.annotate(f'{round(explained_variance[1],2)}', (round(explained_variance[1],2)-1, 2.12), \n",
    "             fontsize=15, fontweight='bold', color='red')\n",
    "plt.annotate(f'{round(explained_variance[4],2)}', (round(explained_variance[4],2)-1, 5.1), \n",
    "             fontsize=15, fontweight='bold', color='red')\n",
    "plt.yticks(range(1,len(explained_variance)+1,1))\n",
    "plt.title('Explained Variance Plot', fontsize=20)\n",
    "plt.xlabel('Explained Variance', fontsize=14)\n",
    "plt.ylabel('Principal Components',fontsize=14)\n",
    "plt.show()"
   ]
  },
  {
   "cell_type": "markdown",
   "id": "8f37507d",
   "metadata": {
    "papermill": {
     "duration": 0.030216,
     "end_time": "2024-04-14T14:17:53.646982",
     "exception": false,
     "start_time": "2024-04-14T14:17:53.616766",
     "status": "completed"
    },
    "tags": []
   },
   "source": [
    "<center>\n",
    "<div style=\"color:;\n",
    "           display:fill;\n",
    "           border-radius:5px;\n",
    "           background-color: royalblue;\n",
    "           font-size:110%;\n",
    "           letter-spacing:0.5px\">\n",
    "\n",
    "<h3 style=\"padding: 10px;\n",
    "              color:white;\">Displaying the Linear Transformations (Before and After)\n",
    "    \n",
    "</h3>\n",
    "</div>"
   ]
  },
  {
   "cell_type": "markdown",
   "id": "34318b16",
   "metadata": {
    "papermill": {
     "duration": 0.029985,
     "end_time": "2024-04-14T14:17:53.706714",
     "exception": false,
     "start_time": "2024-04-14T14:17:53.676729",
     "status": "completed"
    },
    "tags": []
   },
   "source": [
    "Let's now transform our original data now that we have found out our principal components. The operation of transforming the original data using principal components is called **principal component projection**. It involves projecting the original data onto the principal components, which are the directions of maximum variance in the data. This projection effectively reduces the dimensionality of the data while preserving as much of the original information as possible.\n",
    "\n",
    "In this transformation, what we do is do a dot-product between the original data and the **Principal components** we just found out.\n",
    "\n",
    "$$ X_{new} =  X \\cdot PC $$\n",
    "\n",
    "The process involves multiplying the centered data matrix by the matrix of selected eigenvectors, resulting in a transformed data matrix with lower dimensionality. This transformed data captures the most significant variations in the original data while reducing the number of variables, making it easier to analyze and visualize."
   ]
  },
  {
   "cell_type": "code",
   "execution_count": 30,
   "id": "c90b1c7c",
   "metadata": {
    "_kg_hide-input": true,
    "execution": {
     "iopub.execute_input": "2024-04-14T14:17:53.768012Z",
     "iopub.status.busy": "2024-04-14T14:17:53.767639Z",
     "iopub.status.idle": "2024-04-14T14:17:53.777011Z",
     "shell.execute_reply": "2024-04-14T14:17:53.776177Z"
    },
    "papermill": {
     "duration": 0.0421,
     "end_time": "2024-04-14T14:17:53.778742",
     "exception": false,
     "start_time": "2024-04-14T14:17:53.736642",
     "status": "completed"
    },
    "tags": []
   },
   "outputs": [],
   "source": [
    "# function to convert column of matrix to 1D vector: \n",
    "def vectorfy(mtrx, clmn):\n",
    "    return np.array(mtrx[:,clmn]).reshape(-1)\n",
    "\n",
    "def plot_vectors(vectors, colors, labels):\n",
    "    \"\"\"\n",
    "    Plot one or more vectors in a 2D plane, specifying a color for each. \n",
    "\n",
    "    Arguments\n",
    "    ---------\n",
    "    vectors: list of lists or of arrays\n",
    "        Coordinates of the vectors to plot. For example, [[1, 3], [2, 2]] \n",
    "        contains two vectors to plot, [1, 3] and [2, 2].\n",
    "    colors: list\n",
    "        Colors of the vectors. For instance: ['red', 'blue'] will display the\n",
    "        first vector in red and the second in blue.\n",
    "        \n",
    "    Example\n",
    "    -------\n",
    "    plot_vectors([[1, 3], [2, 2]], ['red', 'blue'], ['Vector 1', 'Vector 2'])\n",
    "    plt.xlim(-1, 4)\n",
    "    plt.ylim(-1, 4)\n",
    "    \"\"\"\n",
    "    plt.figure()\n",
    "    plt.axvline(x=0, color='lightgray')\n",
    "    plt.axhline(y=0, color='lightgray')\n",
    "\n",
    "    for i in range(len(vectors)):\n",
    "        x = np.concatenate([[0,0],vectors[i]])\n",
    "        plt.quiver([x[0]], [x[1]], [x[2]], [x[3]],angles='xy', scale_units='xy', scale=1, color=colors[i],label=labels[i])"
   ]
  },
  {
   "cell_type": "code",
   "execution_count": 31,
   "id": "d3dfecf6",
   "metadata": {
    "execution": {
     "iopub.execute_input": "2024-04-14T14:17:53.838815Z",
     "iopub.status.busy": "2024-04-14T14:17:53.838481Z",
     "iopub.status.idle": "2024-04-14T14:17:54.228127Z",
     "shell.execute_reply": "2024-04-14T14:17:54.227325Z"
    },
    "papermill": {
     "duration": 0.421819,
     "end_time": "2024-04-14T14:17:54.230082",
     "exception": false,
     "start_time": "2024-04-14T14:17:53.808263",
     "status": "completed"
    },
    "tags": []
   },
   "outputs": [
    {
     "data": {
      "image/png": "[encoded data removed]",
      "text/plain": [
       "<Figure size 2200x500 with 1 Axes>"
      ]
     },
     "metadata": {
      "needs_background": "light"
     },
     "output_type": "display_data"
    }
   ],
   "source": [
    "plot_vectors([eigen_vectors[0], eigen_vectors[1]] , ['blue', 'orange'], ['1st Eigenvector', '2nd Eigenvector'])\n",
    "plt.gca().spines['top'].set_visible(False)\n",
    "plt.gca().spines['right'].set_visible(False)\n",
    "plt.title('1st and 2nd Eigen Vector', fontsize=18)\n",
    "plt.xlabel('X -axis')\n",
    "plt.ylabel('Y-axis')\n",
    "plt.xlim(-0.3, 0.3)\n",
    "_ = plt.ylim(-0.3, 0.1)\n",
    "plt.legend()\n",
    "plt.show()"
   ]
  },
  {
   "cell_type": "code",
   "execution_count": 32,
   "id": "07189cf6",
   "metadata": {
    "execution": {
     "iopub.execute_input": "2024-04-14T14:17:54.293714Z",
     "iopub.status.busy": "2024-04-14T14:17:54.293161Z",
     "iopub.status.idle": "2024-04-14T14:17:54.796931Z",
     "shell.execute_reply": "2024-04-14T14:17:54.796149Z"
    },
    "papermill": {
     "duration": 0.537764,
     "end_time": "2024-04-14T14:17:54.799097",
     "exception": false,
     "start_time": "2024-04-14T14:17:54.261333",
     "status": "completed"
    },
    "tags": []
   },
   "outputs": [
    {
     "data": {
      "image/png": "[encoded data removed]",
      "text/plain": [
       "<Figure size 2200x500 with 1 Axes>"
      ]
     },
     "metadata": {
      "needs_background": "light"
     },
     "output_type": "display_data"
    }
   ],
   "source": [
    "plot_vectors([eigen_vectors[2], eigen_vectors[3]] , ['mediumslateblue', 'green'], ['3rd Eigenvector', '4th Eigenvector'])\n",
    "plt.gca().spines['top'].set_visible(False)\n",
    "plt.gca().spines['right'].set_visible(False)\n",
    "plt.title('3rd and 4th Eigen Vector', fontsize=18)\n",
    "plt.xlabel('X -axis')\n",
    "plt.legend(['3rd Vector', '4th Vector'])\n",
    "plt.ylabel('Y-axis')\n",
    "plt.xlim(-0.1, 0.4)\n",
    "_ = plt.ylim(-0.3, 0.1)\n",
    "plt.legend()\n",
    "plt.show()"
   ]
  },
  {
   "cell_type": "markdown",
   "id": "0ac1adb4",
   "metadata": {
    "papermill": {
     "duration": 0.031261,
     "end_time": "2024-04-14T14:17:54.862717",
     "exception": false,
     "start_time": "2024-04-14T14:17:54.831456",
     "status": "completed"
    },
    "tags": []
   },
   "source": [
    "<center>\n",
    "<div style=\"color:;\n",
    "           display:fill;\n",
    "           border-radius:5px;\n",
    "           background-color: royalblue;\n",
    "           font-size:110%;\n",
    "           letter-spacing:0.5px\">\n",
    "\n",
    "<h3 style=\"padding: 10px;\n",
    "              color:white;\">Transforming the entire data\n",
    "    \n",
    "</h3>\n",
    "</div>"
   ]
  },
  {
   "cell_type": "markdown",
   "id": "2a20a328",
   "metadata": {
    "papermill": {
     "duration": 0.030716,
     "end_time": "2024-04-14T14:17:54.924724",
     "exception": false,
     "start_time": "2024-04-14T14:17:54.894008",
     "status": "completed"
    },
    "tags": []
   },
   "source": [
    "We have chosen 5 components since they explain the 90% of the explained variance in our data. The transpose is being done to enable the `matrix multiplication`. The shape of the dataframe and the Principal Components array is different and to be able to multiply the matrices, the length of the rows of one matrix should be equal to the length of the columns of another matrix\n",
    "\n",
    "\n",
    "$$ a \\space @ \\space b = a_{m*n} * b_{n*p}$$\n",
    "\n",
    "where $m$, $n$ and $p$ are dimensions of the matrices $A$ and $B$"
   ]
  },
  {
   "cell_type": "code",
   "execution_count": 33,
   "id": "028dcb6d",
   "metadata": {
    "execution": {
     "iopub.execute_input": "2024-04-14T14:17:54.988451Z",
     "iopub.status.busy": "2024-04-14T14:17:54.988076Z",
     "iopub.status.idle": "2024-04-14T14:17:54.992526Z",
     "shell.execute_reply": "2024-04-14T14:17:54.991806Z"
    },
    "papermill": {
     "duration": 0.038714,
     "end_time": "2024-04-14T14:17:54.994635",
     "exception": false,
     "start_time": "2024-04-14T14:17:54.955921",
     "status": "completed"
    },
    "tags": []
   },
   "outputs": [
    {
     "name": "stdout",
     "output_type": "stream",
     "text": [
      "The shape of the Principal Component Matrix is (5, 25)\n"
     ]
    }
   ],
   "source": [
    "pc = eigen_vectors[0:len(explained_variance)]\n",
    "print(f'The shape of the Principal Component Matrix is {pc.shape}')"
   ]
  },
  {
   "cell_type": "code",
   "execution_count": 34,
   "id": "76639fa4",
   "metadata": {
    "execution": {
     "iopub.execute_input": "2024-04-14T14:17:55.060256Z",
     "iopub.status.busy": "2024-04-14T14:17:55.059666Z",
     "iopub.status.idle": "2024-04-14T14:17:55.066769Z",
     "shell.execute_reply": "2024-04-14T14:17:55.065908Z"
    },
    "papermill": {
     "duration": 0.042707,
     "end_time": "2024-04-14T14:17:55.068589",
     "exception": false,
     "start_time": "2024-04-14T14:17:55.025882",
     "status": "completed"
    },
    "tags": []
   },
   "outputs": [
    {
     "name": "stdout",
     "output_type": "stream",
     "text": [
      "The Original PC array\n"
     ]
    },
    {
     "data": {
      "text/plain": [
       "array([ 0.24595212, -0.28506715, -0.05288632,  0.04299417,  0.07429854,\n",
       "        0.04581977,  0.07854236, -0.17635877, -0.03245573,  0.21481119,\n",
       "        0.00737844,  0.01610437,  0.12459388, -0.18581714, -0.24581679,\n",
       "       -0.17792538,  0.03830878,  0.13958935, -0.70693551,  0.1966754 ,\n",
       "       -0.15904637,  0.07589162,  0.07905804,  0.11604536,  0.09432928])"
      ]
     },
     "execution_count": 34,
     "metadata": {},
     "output_type": "execute_result"
    }
   ],
   "source": [
    "print('The Original PC array')\n",
    "pc[0]"
   ]
  },
  {
   "cell_type": "code",
   "execution_count": 35,
   "id": "bf93d8ec",
   "metadata": {
    "execution": {
     "iopub.execute_input": "2024-04-14T14:17:55.132877Z",
     "iopub.status.busy": "2024-04-14T14:17:55.132598Z",
     "iopub.status.idle": "2024-04-14T14:17:55.138910Z",
     "shell.execute_reply": "2024-04-14T14:17:55.137935Z"
    },
    "papermill": {
     "duration": 0.040057,
     "end_time": "2024-04-14T14:17:55.140730",
     "exception": false,
     "start_time": "2024-04-14T14:17:55.100673",
     "status": "completed"
    },
    "tags": []
   },
   "outputs": [
    {
     "name": "stdout",
     "output_type": "stream",
     "text": [
      "The Transpose of PC array\n"
     ]
    },
    {
     "data": {
      "text/plain": [
       "array([0.24595212, 0.09735703, 0.25557267, 0.21928724, 0.10784383])"
      ]
     },
     "execution_count": 35,
     "metadata": {},
     "output_type": "execute_result"
    }
   ],
   "source": [
    "print('The Transpose of PC array')\n",
    "pc.T[0]"
   ]
  },
  {
   "cell_type": "code",
   "execution_count": 36,
   "id": "05952b55",
   "metadata": {
    "execution": {
     "iopub.execute_input": "2024-04-14T14:17:55.204304Z",
     "iopub.status.busy": "2024-04-14T14:17:55.203995Z",
     "iopub.status.idle": "2024-04-14T14:17:55.219155Z",
     "shell.execute_reply": "2024-04-14T14:17:55.218404Z"
    },
    "papermill": {
     "duration": 0.0488,
     "end_time": "2024-04-14T14:17:55.220914",
     "exception": false,
     "start_time": "2024-04-14T14:17:55.172114",
     "status": "completed"
    },
    "tags": []
   },
   "outputs": [
    {
     "data": {
      "text/html": [
       "<div>\n",
       "<style scoped>\n",
       "    .dataframe tbody tr th:only-of-type {\n",
       "        vertical-align: middle;\n",
       "    }\n",
       "\n",
       "    .dataframe tbody tr th {\n",
       "        vertical-align: top;\n",
       "    }\n",
       "\n",
       "    .dataframe thead th {\n",
       "        text-align: right;\n",
       "    }\n",
       "</style>\n",
       "<table border=\"1\" class=\"dataframe\">\n",
       "  <thead>\n",
       "    <tr style=\"text-align: right;\">\n",
       "      <th></th>\n",
       "      <th>PC1</th>\n",
       "      <th>PC2</th>\n",
       "      <th>PC3</th>\n",
       "      <th>PC4</th>\n",
       "      <th>PC5</th>\n",
       "      <th>Target</th>\n",
       "    </tr>\n",
       "  </thead>\n",
       "  <tbody>\n",
       "    <tr>\n",
       "      <th>0</th>\n",
       "      <td>0.034773</td>\n",
       "      <td>0.398491</td>\n",
       "      <td>0.686401</td>\n",
       "      <td>-1.055867</td>\n",
       "      <td>-0.138927</td>\n",
       "      <td>0</td>\n",
       "    </tr>\n",
       "    <tr>\n",
       "      <th>1</th>\n",
       "      <td>-0.154531</td>\n",
       "      <td>0.489669</td>\n",
       "      <td>0.468577</td>\n",
       "      <td>-0.786602</td>\n",
       "      <td>0.111376</td>\n",
       "      <td>0</td>\n",
       "    </tr>\n",
       "    <tr>\n",
       "      <th>2</th>\n",
       "      <td>-0.119872</td>\n",
       "      <td>0.437182</td>\n",
       "      <td>0.444838</td>\n",
       "      <td>-1.045942</td>\n",
       "      <td>0.024061</td>\n",
       "      <td>0</td>\n",
       "    </tr>\n",
       "    <tr>\n",
       "      <th>3</th>\n",
       "      <td>0.240011</td>\n",
       "      <td>0.060654</td>\n",
       "      <td>0.452463</td>\n",
       "      <td>-1.322787</td>\n",
       "      <td>-0.231652</td>\n",
       "      <td>0</td>\n",
       "    </tr>\n",
       "    <tr>\n",
       "      <th>4</th>\n",
       "      <td>-0.060162</td>\n",
       "      <td>0.451352</td>\n",
       "      <td>0.439179</td>\n",
       "      <td>-0.755014</td>\n",
       "      <td>0.015844</td>\n",
       "      <td>0</td>\n",
       "    </tr>\n",
       "  </tbody>\n",
       "</table>\n",
       "</div>"
      ],
      "text/plain": [
       "        PC1       PC2       PC3       PC4       PC5  Target\n",
       "0  0.034773  0.398491  0.686401 -1.055867 -0.138927       0\n",
       "1 -0.154531  0.489669  0.468577 -0.786602  0.111376       0\n",
       "2 -0.119872  0.437182  0.444838 -1.045942  0.024061       0\n",
       "3  0.240011  0.060654  0.452463 -1.322787 -0.231652       0\n",
       "4 -0.060162  0.451352  0.439179 -0.755014  0.015844       0"
      ]
     },
     "execution_count": 36,
     "metadata": {},
     "output_type": "execute_result"
    }
   ],
   "source": [
    "transformed_df = np.dot(inputs_df.iloc[:,0:len(inputs_df.columns)],pc.T)\n",
    "new_df = pd.DataFrame(transformed_df,columns=[\"PC\"+str(i+1) for i in range(len(pc))])\n",
    "new_df['Target'] = df['target'].values\n",
    "new_df.head()"
   ]
  },
  {
   "cell_type": "markdown",
   "id": "6921712b",
   "metadata": {
    "papermill": {
     "duration": 0.031256,
     "end_time": "2024-04-14T14:17:55.283506",
     "exception": false,
     "start_time": "2024-04-14T14:17:55.252250",
     "status": "completed"
    },
    "tags": []
   },
   "source": [
    "From all the **Eigen Vectors** we have thus received after the Linear Transformation, we have selected the one that have the tallest vectors which means the variance on the unit vector will be the highest."
   ]
  },
  {
   "cell_type": "code",
   "execution_count": 37,
   "id": "03d73c92",
   "metadata": {
    "execution": {
     "iopub.execute_input": "2024-04-14T14:17:55.349327Z",
     "iopub.status.busy": "2024-04-14T14:17:55.348672Z",
     "iopub.status.idle": "2024-04-14T14:17:55.353280Z",
     "shell.execute_reply": "2024-04-14T14:17:55.352430Z"
    },
    "papermill": {
     "duration": 0.039464,
     "end_time": "2024-04-14T14:17:55.355138",
     "exception": false,
     "start_time": "2024-04-14T14:17:55.315674",
     "status": "completed"
    },
    "tags": []
   },
   "outputs": [],
   "source": [
    "new_df['Target'] = new_df['Target'].astype('int')"
   ]
  },
  {
   "cell_type": "code",
   "execution_count": 38,
   "id": "f8af20a7",
   "metadata": {
    "execution": {
     "iopub.execute_input": "2024-04-14T14:17:55.418885Z",
     "iopub.status.busy": "2024-04-14T14:17:55.418617Z",
     "iopub.status.idle": "2024-04-14T14:17:55.513514Z",
     "shell.execute_reply": "2024-04-14T14:17:55.512727Z"
    },
    "papermill": {
     "duration": 0.129631,
     "end_time": "2024-04-14T14:17:55.516158",
     "exception": false,
     "start_time": "2024-04-14T14:17:55.386527",
     "status": "completed"
    },
    "tags": []
   },
   "outputs": [
    {
     "data": {
      "text/html": [
       "<div>                            <div id=\"050c2c4b-2b6a-4d7b-b129-ca5cdeff3d88\" class=\"plotly-graph-div\" style=\"height:525px; width:100%;\"></div>            <script type=\"text/javascript\">                require([\"plotly\"], function(Plotly) {                    window.PLOTLYENV=window.PLOTLYENV || {};                                    if (document.getElementById(\"050c2c4b-2b6a-4d7b-b129-ca5cdeff3d88\")) {                    Plotly.newPlot(                        \"050c2c4b-2b6a-4d7b-b129-ca5cdeff3d88\",                        [{\"hovertemplate\":\"PC1=%{x}<br>PC2=%{y}<br>Target=%{marker.color}<extra></extra>\",\"legendgroup\":\"\",\"marker\":{\"color\":[0,0,0,0,0,0,0,0,0,0,0,0,0,0,0,0,0,0,0,1,1,1,0,0,0,0,0,0,0,0,0,0,0,0,0,0,0,1,0,0,0,0,0,0,0,0,1,0,1,1,1,1,1,0,0,1,0,0,1,1,1,1,0,1,0,0,1,1,1,1,0,1,0,0,1,0,1,0,0,1,1,1,0,0,1,0,0,0,1,1,1,0,1,1,0,0,1,1,1,0,0,1,1,1,1,0,1,1,0,1,1,1,1,1,1,1,1,0,0,0,1,0,0,1,1,1,0,0,1,0,1,0,0,1,0,0,1,1,0,1,1,0,1,1,1,1,0,1,1,1,1,1,1,1,1,1,0,1,1,1,1,0,0,1,0,1,1,0,0,1,1,0,0,1,1,1,1,0,1,1,0,0,0,1,0,1,0,1,1,1,0,1,1,0,0,1,0,0,0,0,1,0,0,0,1,0,1,0,1,1,0,1,0,0,0,0,1,1,0,0,1,1,1,0,1,1,1,1,1,0,0,1,1,0,1,1,0,0,1,0,1,1,1,1,0,1,1,1,1,1,0,1,0,0,0,0,0,0,0,0,0,0,0,0,0,0,1,1,1,1,1,1,0,1,0,1,1,0,1,1,0,1,0,0,1,1,1,1,1,1,1,1,1,1,1,1,1,0,1,1,0,1,0,1,1,1,1,1,1,1,1,1,1,1,1,1,1,0,1,1,1,0,1,0,1,1,1,1,0,0,0,1,1,1,1,0,1,0,1,0,1,1,1,0,1,1,1,1,1,1,1,0,0,0,1,1,1,1,1,1,1,1,1,1,1,0,0,1,0,0,0,1,0,0,1,1,1,1,1,0,1,1,1,1,1,0,1,1,1,0,1,1,0,0,1,1,1,1,1,1,0,1,1,1,1,1,1,1,0,1,1,1,1,1,0,1,1,0,1,1,1,1,1,1,1,1,1,1,1,1,0,1,0,0,1,0,1,1,1,1,1,0,1,1,0,1,0,1,1,0,1,0,1,1,1,1,1,1,1,1,0,0,1,1,1,1,1,1,0,1,1,1,1,1,1,1,1,1,1,0,1,1,1,1,1,1,1,0,1,0,1,1,0,1,1,1,1,1,0,0,1,0,1,0,1,1,1,1,1,0,1,1,0,1,0,1,0,0,1,1,1,0,1,1,1,1,1,1,1,1,1,1,1,0,1,0,0,1,1,1,1,1,1,1,1,1,1,1,1,1,1,1,1,1,1,1,1,1,1,1,1,1,0,0,0,0,0,0,1],\"coloraxis\":\"coloraxis\",\"symbol\":\"circle\"},\"mode\":\"markers\",\"name\":\"\",\"orientation\":\"v\",\"showlegend\":false,\"x\":[0.03477277525911629,-0.15453051985214852,-0.11987192079564764,0.24001111995665375,-0.06016211311808443,0.13404610560463465,-0.08170682186888559,0.03894285338821115,0.07159912236218689,0.12107190746297243,-0.08915506969581197,-0.03330468085461005,-0.192895281930669,-0.12943759488890302,0.06377639988779987,0.010142088758620554,-0.025929348194985626,0.016455858773323753,-0.2154060110828245,0.04039937677602576,0.052233033401044675,0.0628592697268248,0.03388804309664009,-0.2681507515250728,-0.12530254010568423,-0.01591659588975944,0.02319931097784848,-0.09016313325754764,-0.043629031978445185,-0.03243862249392918,-0.09717656883758358,0.10061925794691333,-0.0437104526222397,-0.13949406148470198,0.005504040972407109,0.01884634555680843,0.015854381687533635,-0.07390395333679527,-0.11437544231492791,0.04036582777168752,-0.05811209697090259,0.10916656410284108,-0.11200331142591373,0.018285226621956068,0.020596895149094834,-0.006215775788899432,0.05554143274535109,0.1020278091240858,0.09661576823273375,-0.05669753092189232,-0.03462153095479249,-0.00522262858305248,-0.006793239955111431,-0.018286520766909575,-0.0414141923082521,0.019902723598854446,-0.13129463660230617,-0.021004102311641647,-0.02850105592918149,0.17445085640769517,0.09408035605357579,0.09579478176020258,0.012327447889427893,0.02193138679711387,0.015034403756101917,-0.016353200086259883,0.06630478874337961,-0.00040366128858304573,0.04284278885434631,0.017849088009681966,-0.18858571938403743,0.0923086433497622,-0.09118208231875854,0.03420712087836712,0.011446079914667057,-0.06997958070282516,0.11547297798249904,-0.03714427211630171,-0.029107994028983498,0.024143421937885677,0.06264062252310557,0.07763515318826907,-0.2247913362645001,-0.10556377384595853,0.07555902392560242,-0.06818030951195357,-0.04599694627724469,-0.1316688370122336,-0.010948118365839733,0.023037074946565133,-0.08197937099352207,-0.10112277780253832,-0.055561335860730754,0.007643080539592448,-0.029706495086950384,-0.1409623417389731,-0.02646543499108223,0.04345578330319283,0.08945484570885827,-0.006870108909370989,-0.07570219594724137,0.1800270023705708,-0.024233967945449773,0.05293194656632571,0.015075379452777685,0.14139054746375407,0.08602877348557812,0.011880234309532715,-0.0771900357272489,0.07076787664725168,0.08514364515070177,-0.055169699083515614,-0.07415264353422668,0.005621351367545629,0.14183934671456086,0.019146573048534014,-0.014770320924390212,0.07763588667488268,0.013756223722718232,-0.05999916432436742,0.12471141206212964,-0.04743066826409996,0.00017311146706696742,0.06919164934384787,-0.035603910746189564,-0.005451542804221036,-0.01911089326631196,-0.13484211511744232,-0.013662149421842584,-0.13242936147433557,0.10807571106702832,-0.023349499002078052,-0.04197186986890474,-0.012331992934712535,-0.08323049874775751,-0.004936363766631555,0.010046052783416234,0.028656666626330228,0.005666859194543868,0.030186439716140306,0.11427840434878064,-0.03955592932912751,0.05789973388304236,0.049555511220459154,0.022327623915594015,0.10271009484823562,0.09040438374019234,-0.03889373213092787,0.009689047430210585,-0.04339937404051499,-0.011582221911671927,0.12091146519990784,-0.09724712568357667,0.07318058508374017,0.08973844277733534,0.016583647685234734,-0.07743127427304095,-0.09622870163943553,0.06845403711781697,0.06675720507968563,0.0321574954753757,-0.1466366083587399,-0.1377243884068108,0.008914523792549978,-0.22905509265858312,-0.05382568734460606,0.11671336459913245,-0.09954774218995195,-0.13317370260640712,-0.020842884538063773,0.05632890473483751,-0.02202266187845905,0.06091197751965739,0.0017584962516476708,0.05654666340150697,0.08343910670926018,0.028246273105853325,-0.025242389048452264,-0.09643632063122227,0.028255998369061265,-0.29909109799863864,-0.17516258186918132,-0.05497600706226926,-0.012374893929131568,-0.03579820146102832,0.12079430344894725,-0.07354468575252485,0.01880085600932234,0.055319758946679634,0.00561039902656148,0.09607192568801826,-0.08713748648114883,-0.029416194830933082,0.013347828277426654,-0.05457597450314962,-0.0012547677413796792,0.03776340685141586,-0.1484483073924521,-0.14460871798426736,0.036421629882671655,-0.0005776428416457469,-0.053349937361012685,-0.17462028826247442,0.07658462039305472,0.03147195089635136,0.03340425343544142,0.07401261360834649,-0.08877806455733774,0.020729420137574756,0.005918437034364428,-0.18942921433591225,0.014509546401255131,-0.03864371151266875,-0.20805792914018276,0.019332950566776835,0.05312872524708666,0.020316302949080253,-0.011831813248659657,-0.16905727029692802,-0.3414378133566165,0.05413632406854522,0.06692028421482876,0.07551200871385379,0.012818720236474916,0.007130133949335322,0.012968847042185646,0.07718454803613649,-0.005341631232890897,-0.03367441039015471,0.06719114610966836,0.003065201766105148,-0.09948333449239798,-0.1360861516625804,-0.21662777400222707,0.07297309731165812,-0.03144197940338981,-0.3160483595256315,-0.16609951266620682,-0.12041700257052769,-0.26178214750576356,0.007347828515664883,0.015655515955538934,0.09409568257009139,-0.09746387147002143,-0.08414038530354885,0.05768578669102263,0.004731552830203024,0.05642361725549162,0.021590388705808813,0.06220962615534808,-0.20051017602833046,0.0020781595349381172,-0.0667422223031338,-0.025679801409232417,-0.12023074911379794,0.03439180341954653,-0.2289003249818952,0.07964569019815916,-0.04543520786102901,-0.050307106273176784,-0.15851863227408164,-0.1009199836248082,-0.1215376598066916,-0.06047087698127087,-0.0660893268163135,-0.43269515823732885,0.016882435406832458,-0.06767215401274963,0.05724798445958769,0.008746382430197092,-0.05088685960062045,0.07584270043209992,-0.1855194808977799,0.06969603403379752,-0.10821364464326057,-0.0065614085977281356,0.0670726408145723,-0.10351183732388665,-0.0340686984582784,0.012157114849282447,-0.09193442696898238,-0.015569065967590973,-0.06409772769157675,-0.012825622498709967,-0.05356260055569745,-0.008786690872409821,-0.03259771135510051,0.002478434339014215,-0.12069597944659258,-0.004571498244210921,-0.05802941943725779,-0.014533591026767363,0.08342437042264472,0.03351601803209349,0.04718925133724708,0.03811617773045974,0.0027499754245062596,-0.025259105403397396,-0.05927819636168514,-0.0591817990188607,-0.09945625860354541,-0.04675779965036424,-0.11775346850576691,0.03859354233223166,0.010072287588029777,-0.0649649087242809,0.026254334779903847,0.03449124565715683,-0.00798345476006674,0.008305228342537408,0.01700318650048489,-0.040631111046311695,0.03467273535225705,0.07836328713546115,0.11024073274250762,-0.002349697869862698,-0.0001652730975057468,-0.07882121270970062,0.013193320454146758,-0.06758443582462259,0.06552327115683892,-0.16052743033556147,0.10168954129441046,-0.06854448819725316,0.043571364350578935,0.04302504611875996,0.03276317377779501,-0.017271633271188292,-0.01791570482273577,-0.01050808366421823,0.0018290823498197518,0.03236938928675975,0.06368263609868077,0.04569474140565623,-0.00009267186162520378,-0.07136417105833297,0.04181568535573003,-0.12429903492052881,0.06474100517201282,-0.2867819766677197,0.011404055392067902,0.04764079745204213,0.08924382011892645,-0.09780773928932554,0.06700537560354157,0.08329707262181811,0.026575633133714683,0.01686193104191279,0.08493302825727372,0.06642786549950339,-0.01659913913984699,0.04152696893366178,-0.24660528868001944,-0.04844419440656804,-0.02022173072402288,-0.06145850847984448,0.0032022072168303647,0.007406675485604637,-0.002033858869149037,0.04951167678433962,-0.040235568390398185,-0.03612278103084309,0.01116119640135349,-0.03304690888412746,0.007318349997026796,-0.16151076912728587,-0.20257661341413655,0.03841409090385289,-0.28253417590274,-0.18379105463196965,-0.03159848467615411,-0.013148401638255256,-0.07320430236234386,-0.0949721350694434,0.009694377838300478,0.0015307720094556122,-0.05977553834170223,-0.10168580283311454,0.055114731115222866,0.19080581387709772,0.13292294317725598,0.026495746417235774,-0.09754135664994654,0.060412472355952526,0.026068288642713218,-0.06465480732685416,0.025404902669058173,-0.057407498504787935,-0.0058987481932357075,-0.18432836648115494,0.09457245751312442,0.1308919560036305,-0.016776631522727386,-0.14077352624221173,0.04975194163256746,-0.04110465453023867,0.00610413087813363,-0.0602506010024605,0.040843528483888315,0.0383308739325818,0.06024270332884777,0.08778341510312639,-0.040594874301555624,0.03907823665511806,-0.008594990790508572,0.029096170372436295,-0.002863254536687937,-0.06506360328824226,-0.07565633037082732,0.013362267705429162,0.0713813363603203,0.06311074459877394,-0.007788307002429152,-0.0666997205954677,-0.13157222802653626,0.025217576329474894,0.05591846469223165,-0.0879924980201183,0.08258013123734533,0.020421471238215062,0.01682632468460437,0.05053828040526698,0.04771921054719796,-0.0307048135104826,0.06560417735688902,-0.01370777817245105,0.07349445548692277,-0.0074277051716121,-0.007000087310346082,-0.026975145977479197,-0.028537539317722505,0.054608077056841994,-0.05237740187889397,-0.11386140144018056,-0.004866965592678246,0.04449460560266195,0.01566454855481185,0.0037278599764824128,-0.03507195802279127,-0.04294848796931598,0.037524179108430734,-0.11603153232031911,-0.008616130588891569,-0.05058260416941785,-0.043889427985002887,-0.05967434477972013,-0.12446845564783808,0.011073637469468347,-0.04312991295552816,-0.1789464367916386,-0.06637304536190607,-0.1257156200728739,-0.07927094283344963,0.030687569179428505,0.0166588057244833,-0.12569818369497107,-0.046769957498387076,-0.05413590157214862,-0.07260616780469578,-0.08727398627284261,-0.12052127353932586,-0.41870585953442685,-0.1256448270983048,0.044071038858815394,-0.023538526444491052,0.004212378914061329,-0.01284426327188109,0.0700433309097581,-0.1161250771820939,0.07636425902145126,0.028343964082987293,-0.11275648662277318,-0.026155625402915928,-0.09521707242918456,0.07835430241950618,0.03701982445246626,-0.05467079264595663,-0.03811759712528284,0.09321426069879217,-0.03450062323107348,0.021854071589068116,-0.049677259844639304,0.0705095771368263,-0.006972422349499857,0.07647683050131551,-0.007764204521969804,-0.019408203496826176,-0.0647939639118124,0.07663514643968787,-0.049130582842334077,-0.008922110889920684,-0.06163102968096036,-0.09054064445002595,0.0034034235288587034,-0.026116931375887713,-0.052602245205800126,0.06333760722291414,0.02575069068463389,-0.08086814273132215,-0.10124122143173299,-0.03123410232639745,0.04581045325928315,0.0829508498587437,-0.2671109019027421,0.19723655395496775,0.19931597836839365,0.038182970669055884,0.09917264542815121,-0.024758197408226025,0.015282505547744525,0.01605625055413739,-0.016965360171886056,0.03788067000652472,0.020241936457276285,-0.04604036693160615,0.04356740519935563,-0.06871060047218497,-0.10369245298946302,0.032750030639745194,0.07052571566019027,0.16990838205077227,-0.21600128420801815,-0.004328994083351918,0.024082776862507795,0.0808295536010296,0.15753069588784593,0.07939050331916395,0.07688615128943661,-0.003307038698751303,0.10056861785481735,0.027875178543983498,0.06622189542222415,0.020083898965785208,-0.15239429967356108,0.03324956746704987,-0.14919203929100788,-0.01863354004916795,0.030357880073978775,0.023654260434326908,0.01922734855114359,0.047286246116255364,-0.03080562038449551,-0.11987623400296052,-0.12217530010426214,-0.020002712092125393,-0.05378804472578244,0.048565293390753744,0.06735707426850722,-0.0007941504362388147,-0.020005373365489035,-0.01642811693789445,-0.022204520536298053,-0.10734583881798564,-0.047874460935686904,-0.09441697202784789,-0.07478008348177505,0.016489671844641444,-0.03220470239156335,-0.09295118068068235,-0.03177030940692969,-0.1026236185011514,-0.10522835028685817,-0.044435410756745466,-0.15327833531546478,-0.19017403214580814,-0.22822632921113747,-0.1706891418175122,-0.11365498857001918,-0.05666655989289936],\"xaxis\":\"x\",\"y\":[0.39849133734760434,0.4896692046614347,0.4371816258470055,0.06065436122393093,0.4513515622720151,0.08206006833067328,0.3674137189344808,0.16726180321543785,0.09191012207837862,0.07511970227692849,0.27278642333834957,0.31531165062205196,0.5574609948553537,0.31026474332168597,0.17881199089871394,0.1508518545746952,0.22971611380213255,0.24230962971263176,0.46438201021562053,0.19671934515011028,0.12483980953022805,0.046777731443070625,0.30887506194583986,0.4839247444519028,0.31827397958902215,0.3691929645369679,0.21123239526088497,0.40092724618338094,0.22327815520367536,0.3482546463415714,0.31977060751093034,0.09976093938827965,0.23000951261866603,0.3931175643442355,0.2649554619613329,0.3034858808637983,0.17982826484164768,0.15959873824408558,0.2550774235231293,0.1765376195196891,0.18726223558706917,0.0006076549384726719,0.5197379100450741,0.15616957615059718,0.13825410911984584,0.3916378317177737,-0.02815062037319732,0.1223690355677723,0.08885936839577849,0.18817235355420603,0.10831400972728222,0.2166748198989928,0.13120689671761818,0.2958638833552222,0.2431314238699206,0.08824851332503096,0.43105656174777823,0.18879556110978188,0.16699213421671696,-0.033352820328302786,0.006476179306519048,-0.08276610649307807,0.25411344056655,0.0923105307333432,0.1237146419789403,0.1607156035345371,-0.01875565989011488,0.10391517454078776,-0.11149236961480126,0.12442731799890663,0.436347625967053,0.10589000580734846,0.3316715491017061,0.1949312035936593,0.14301482688675277,0.333317265828033,0.11925955113834573,0.4215184368665297,0.40586036172965084,0.13206570491653624,0.030884384699698827,0.16435190848487322,0.6313090632247796,0.3781759594399434,0.10853452504877738,0.3765372100320668,0.2343318064559967,0.3847684435951701,0.1511971502308921,0.22630093386758565,0.21341074485016284,0.25414684144091854,0.2525613432520734,0.15735337051113363,0.27621778824338894,0.43306980016923974,0.13483393832101276,-0.002431907080240134,0.10804530957328787,0.22198185344634092,0.1671819914996961,-0.16161851660238616,0.12212347210123525,0.019724028498301654,0.0347382524849388,0.07373881945992662,0.08384136303034298,0.12385775246856692,0.5355589605573053,0.07700671580623326,0.031447777678260305,0.18595200581681182,0.25621595429865945,0.0408695702389202,-0.04755394094122475,0.10463446949656362,0.07670842592759601,0.21190370755496574,0.22955052009953508,0.33291866449680496,0.10626191369994464,0.3801941306670026,0.4591147139552501,0.1924590911100968,0.21896931334201572,0.18438730451528762,0.1606241506076634,0.431112043127907,0.2773678025898458,0.3554319143979079,0.12101407199888611,0.22515406055400916,0.2602382119742933,0.28774231507246123,0.3441465560067068,0.12688285580982742,0.10292012748442605,0.09539848441826296,0.2783857462318457,0.13273578188514115,0.0030332422253804736,0.28520603002214545,0.07527617545841817,0.16929607931254928,0.09913143228211888,0.11565942815822396,0.12408334886847017,0.2914614690953159,0.23865761826927406,0.20625398577382317,0.11005188751844545,-0.06576527806417547,-0.08232788208807072,0.08531507857986477,0.16891661926384585,0.13029242149794443,0.3449633438421348,0.34832968088035715,0.12287169453261786,0.10770987197257244,0.0632762713153619,0.5167642346706944,0.4090095286509518,0.11790657105586642,0.591130103584425,0.22684339752252988,0.07289549200679081,0.3595045898709166,0.34523509375823447,0.22400154524338442,0.14307875161656472,0.19644359015908044,0.20919784504694203,0.12338973951337337,0.0490149036418155,-0.04118948531705041,0.09548286691880085,0.30805876101918056,0.16750638564433923,0.16995705023416202,0.6359582661668368,0.4470081114803556,0.27099144231172084,0.1470474793715834,0.22141097866344708,0.034333557259045244,0.35811313881121676,0.1098257093929926,0.06590717801480406,0.15767648838059672,0.21677889340707224,0.20003633713662114,0.03338438263341604,0.12267460792558471,0.24588318092339234,0.17672791414022548,0.18355731125012853,0.40482484529416074,0.44573228921610025,0.19471600064105543,0.13620961224456468,0.36640798389494267,0.5140836211185801,0.12058562450848269,0.13331292599442113,0.260784863334428,-0.005505949388701655,0.32786044315054375,0.12542683825517414,0.28382234706705056,0.5318267106116011,0.10852505564176923,0.6295003365018157,0.4067575379490245,0.2242152464674436,0.19721765304058786,0.14800752268416612,0.06552740149028763,0.47532361091601777,0.4466533309415813,0.18435021827109965,0.1615790328916377,0.014654890454763958,0.23783032649867708,0.18434486023685442,0.23452712272817997,0.021801730300620506,0.2790101834401888,0.15419016997119978,0.1399180807723489,0.2817210336135203,0.07986106862524715,0.037847871637903846,0.4163081415628447,0.05209970888681035,0.2042294073640615,0.5739057284081216,0.4990149525326838,0.19153310936761894,0.2995770713870438,0.1935414616170449,0.13752794827088918,0.08873977685020257,0.2020172571280596,0.39901100427837194,0.026156711974843684,0.1689154272402637,0.19936382633771366,0.016845020460882192,0.08867976005399987,0.4306639279871742,0.10460364962070597,0.46104404488465556,0.3159785991591535,0.41694557415270955,0.19780840657606635,0.4489670930051698,0.2241907471649344,0.3403075325750596,0.17637115051958469,0.3747261045151786,0.3136127155607674,0.4196598676367832,0.25871299954041993,0.31259516533257237,0.47337111428098666,0.09795640203595804,0.19448917711575553,0.13465899023764824,0.05620773358727986,0.23531837603213066,0.09313186808944734,0.5458157294642406,0.047480856529219385,0.3233868182502543,0.09825815599103661,0.08050615732702143,0.38418204955991725,0.18850936682416367,0.19922289052377912,0.36238327066283044,0.21475878516073488,0.41351321213993464,0.26903111158763926,0.2157556494381503,0.131864369161344,0.18374930472486423,0.20231756514335522,0.2697904749513671,0.10576820298248918,0.347260809343641,0.252517715145895,0.15020535827014322,0.1322012574918695,0.1524107796590236,0.193156440846017,0.11757024329419102,0.12726047983172892,0.2542497065242279,0.04364111572421668,0.4141996885862593,0.16645407913408491,0.40213481744943086,0.01737123690352375,0.11746632518004613,0.11794132530617586,0.15682757330173386,0.026036563931247425,0.21133675509510894,0.18137773734226215,0.10188127922564141,0.25251395960150996,0.1885052002826358,0.12078306300768696,-0.09100074251453906,0.13115536165929476,0.14653427588000692,0.3557228825470018,0.05221064344344122,0.1895725490637279,0.0693164843710997,0.45571650277451214,0.12990531632668628,0.3843910149465768,0.13395289881579947,0.10824564985034406,0.2070598029632712,0.13481899662375352,0.24102334749623108,0.20955258275258243,0.3191675457434223,0.1475407879816903,0.03948243418061875,0.09602740963629908,0.13193839877754981,0.28815692350755057,0.14000307038527612,0.4575856733798806,0.018588581301145025,0.5292860277701994,0.23394379097550652,0.03193316969029407,0.06364041542220152,0.425346130860372,0.07797532245224177,0.09992762893867327,0.12471133450533668,0.26467730884570306,0.08626081687246719,0.10453751388559844,0.1400741237247709,0.23120420002599762,0.6444235536749691,0.2289557689122819,0.17585118554905274,0.1981942140875751,0.1651998142301999,0.1881844984736818,0.06888671789969447,-0.013896105895992099,0.16069935903684318,0.15547007715322822,0.1469623273023744,0.284318944131549,0.18517812393184183,0.47044559805352004,0.4695102472390747,0.1251525419974084,0.5488390204448834,0.4981773675907093,0.2921642714195562,0.2862471096383871,0.4496559205414439,0.4777130847630291,0.20007022302354355,0.2737622269153511,0.09815363939841269,0.16505720049978498,0.21516016362022777,0.047568620658866655,0.04677099805876809,0.11057419905645281,0.21462104604272503,0.11263196231114013,0.19490088691156154,0.23239408523500388,0.16741787287844737,0.23898515879582605,0.16338071576576924,0.4745987112375645,0.05217505825551148,-0.05690801562918772,0.2555902525812292,0.42533147525200476,0.08753367082727669,0.21928111164856376,0.1576674784084902,0.1993618785458924,0.10242546290837654,0.0987449667572139,0.2704078489258518,0.13549191312279457,0.21815838912528634,0.12979052772497088,0.16106020812439997,0.08641015391498941,0.27261886646129263,0.20769500702524132,0.35502579271676177,0.15810592596873332,0.07900940516447766,0.041510031926888215,-0.0001634032202190985,0.24944900415904436,0.21532835140725742,0.11571493779261761,-0.01718265786580393,0.33425836613223847,0.16796111033085967,0.04344413644321176,0.09240199104407743,0.2645132945112703,0.09426733664246405,0.20326625545597865,0.019493858888442458,0.026721913156438785,0.07439954107167679,0.08089620500840185,0.09173256225122195,0.1687595813708645,0.28784862714851683,0.10595510474058986,0.3907446674523044,0.39743208418441517,0.2388158435473914,0.16735011878205241,0.144816848343241,0.21892782402190164,0.19293397225132203,0.24218710228759252,0.13741535142197325,0.38032840232786963,0.2016503336769518,0.0864453902529209,0.34971058022603363,0.11540101326073594,0.30278381208392996,0.2159428439550846,0.23038235236501156,0.46836380135233413,0.2007017329199948,0.3537496600702909,0.10132146816917388,0.18909832481272765,0.15161213092648063,0.13514430130596458,0.05573055598846326,0.12540167042040049,0.14307066825701845,0.007171178073981571,0.3330612728887219,0.7770457993281179,0.21480942109100848,0.10994332710042565,0.20934144627197185,0.22529382329789388,0.19392880983239416,0.024893827593619446,0.4324663246752987,0.09045122176577988,0.033718215893534305,0.123434462073636,0.27185895171657865,0.07993126444196123,0.06475480196367374,0.1485125123327353,0.25632084427966695,0.23130313735092126,0.05501364055690988,0.31142377956182343,0.11207870884720315,0.20771582475033573,0.14716569692257006,0.1625330540881429,0.25076678912750405,0.22314839683236332,0.22414663682382302,0.36963878263160166,0.08617445116212138,0.31110276497432565,0.11935942653673559,0.3742978811620655,0.36703168750687104,0.19023114114910014,0.18576991231533058,0.21619749962660456,0.12000513416879752,0.14495462904245685,0.38652127225508565,0.4261304509010403,0.22523779837447172,0.16459564747379204,0.09915448319127941,0.6544481507523754,-0.0414707622191688,-0.025124974470989513,0.07872289156710484,0.03905493838803302,0.3004663656348012,0.2397850518079791,0.1902192961752318,0.26302755503480807,0.1450891087386502,0.21503362526114042,0.23222238040293192,0.0780147901455889,0.32261865964371705,0.39854877109672515,0.11980084123768783,0.10640005460044882,-0.02158580357423051,0.6013101167092575,0.06990639066899222,0.1976629717563609,0.034894271052803794,-0.03357063971427505,0.13768583915073596,0.1376384390459936,0.23607408210335848,0.09066955293276559,0.10489059398551501,0.0601139008546354,0.17778440024185396,0.46040931222818976,0.08426466997774075,0.4243682239723413,0.16310674908954678,0.08361570688790469,-0.09477572945192375,-0.06606452479672226,0.11816649506012272,0.2412149279588342,0.2406840449603802,0.13977560679375525,0.1726051448044273,0.1723105954083893,0.03233592774363051,0.07900083908330359,0.03555859088335022,0.07582212918393202,0.0647580178324611,0.06759638446985888,0.13886009967851462,0.002749907627050664,0.1163415720401226,0.049885620111946465,0.03694415979410192,-0.02772650639852857,0.2537416749294072,0.06797340493396409,0.20317925817023827,0.04866979384475909,0.20157309351322847,0.47879852277396423,0.4998263622822765,0.40955901870412603,0.32139066608504974,0.4092631070199357,-0.026934412049333462],\"yaxis\":\"y\",\"type\":\"scatter\"}],                        {\"template\":{\"data\":{\"barpolar\":[{\"marker\":{\"line\":{\"color\":\"white\",\"width\":0.5},\"pattern\":{\"fillmode\":\"overlay\",\"size\":10,\"solidity\":0.2}},\"type\":\"barpolar\"}],\"bar\":[{\"error_x\":{\"color\":\"rgb(36,36,36)\"},\"error_y\":{\"color\":\"rgb(36,36,36)\"},\"marker\":{\"line\":{\"color\":\"white\",\"width\":0.5},\"pattern\":{\"fillmode\":\"overlay\",\"size\":10,\"solidity\":0.2}},\"type\":\"bar\"}],\"carpet\":[{\"aaxis\":{\"endlinecolor\":\"rgb(36,36,36)\",\"gridcolor\":\"white\",\"linecolor\":\"white\",\"minorgridcolor\":\"white\",\"startlinecolor\":\"rgb(36,36,36)\"},\"baxis\":{\"endlinecolor\":\"rgb(36,36,36)\",\"gridcolor\":\"white\",\"linecolor\":\"white\",\"minorgridcolor\":\"white\",\"startlinecolor\":\"rgb(36,36,36)\"},\"type\":\"carpet\"}],\"choropleth\":[{\"colorbar\":{\"outlinewidth\":1,\"tickcolor\":\"rgb(36,36,36)\",\"ticks\":\"outside\"},\"type\":\"choropleth\"}],\"contourcarpet\":[{\"colorbar\":{\"outlinewidth\":1,\"tickcolor\":\"rgb(36,36,36)\",\"ticks\":\"outside\"},\"type\":\"contourcarpet\"}],\"contour\":[{\"colorbar\":{\"outlinewidth\":1,\"tickcolor\":\"rgb(36,36,36)\",\"ticks\":\"outside\"},\"colorscale\":[[0.0,\"#440154\"],[0.1111111111111111,\"#482878\"],[0.2222222222222222,\"#3e4989\"],[0.3333333333333333,\"#31688e\"],[0.4444444444444444,\"#26828e\"],[0.5555555555555556,\"#1f9e89\"],[0.6666666666666666,\"#35b779\"],[0.7777777777777778,\"#6ece58\"],[0.8888888888888888,\"#b5de2b\"],[1.0,\"#fde725\"]],\"type\":\"contour\"}],\"heatmapgl\":[{\"colorbar\":{\"outlinewidth\":1,\"tickcolor\":\"rgb(36,36,36)\",\"ticks\":\"outside\"},\"colorscale\":[[0.0,\"#440154\"],[0.1111111111111111,\"#482878\"],[0.2222222222222222,\"#3e4989\"],[0.3333333333333333,\"#31688e\"],[0.4444444444444444,\"#26828e\"],[0.5555555555555556,\"#1f9e89\"],[0.6666666666666666,\"#35b779\"],[0.7777777777777778,\"#6ece58\"],[0.8888888888888888,\"#b5de2b\"],[1.0,\"#fde725\"]],\"type\":\"heatmapgl\"}],\"heatmap\":[{\"colorbar\":{\"outlinewidth\":1,\"tickcolor\":\"rgb(36,36,36)\",\"ticks\":\"outside\"},\"colorscale\":[[0.0,\"#440154\"],[0.1111111111111111,\"#482878\"],[0.2222222222222222,\"#3e4989\"],[0.3333333333333333,\"#31688e\"],[0.4444444444444444,\"#26828e\"],[0.5555555555555556,\"#1f9e89\"],[0.6666666666666666,\"#35b779\"],[0.7777777777777778,\"#6ece58\"],[0.8888888888888888,\"#b5de2b\"],[1.0,\"#fde725\"]],\"type\":\"heatmap\"}],\"histogram2dcontour\":[{\"colorbar\":{\"outlinewidth\":1,\"tickcolor\":\"rgb(36,36,36)\",\"ticks\":\"outside\"},\"colorscale\":[[0.0,\"#440154\"],[0.1111111111111111,\"#482878\"],[0.2222222222222222,\"#3e4989\"],[0.3333333333333333,\"#31688e\"],[0.4444444444444444,\"#26828e\"],[0.5555555555555556,\"#1f9e89\"],[0.6666666666666666,\"#35b779\"],[0.7777777777777778,\"#6ece58\"],[0.8888888888888888,\"#b5de2b\"],[1.0,\"#fde725\"]],\"type\":\"histogram2dcontour\"}],\"histogram2d\":[{\"colorbar\":{\"outlinewidth\":1,\"tickcolor\":\"rgb(36,36,36)\",\"ticks\":\"outside\"},\"colorscale\":[[0.0,\"#440154\"],[0.1111111111111111,\"#482878\"],[0.2222222222222222,\"#3e4989\"],[0.3333333333333333,\"#31688e\"],[0.4444444444444444,\"#26828e\"],[0.5555555555555556,\"#1f9e89\"],[0.6666666666666666,\"#35b779\"],[0.7777777777777778,\"#6ece58\"],[0.8888888888888888,\"#b5de2b\"],[1.0,\"#fde725\"]],\"type\":\"histogram2d\"}],\"histogram\":[{\"marker\":{\"line\":{\"color\":\"white\",\"width\":0.6}},\"type\":\"histogram\"}],\"mesh3d\":[{\"colorbar\":{\"outlinewidth\":1,\"tickcolor\":\"rgb(36,36,36)\",\"ticks\":\"outside\"},\"type\":\"mesh3d\"}],\"parcoords\":[{\"line\":{\"colorbar\":{\"outlinewidth\":1,\"tickcolor\":\"rgb(36,36,36)\",\"ticks\":\"outside\"}},\"type\":\"parcoords\"}],\"pie\":[{\"automargin\":true,\"type\":\"pie\"}],\"scatter3d\":[{\"line\":{\"colorbar\":{\"outlinewidth\":1,\"tickcolor\":\"rgb(36,36,36)\",\"ticks\":\"outside\"}},\"marker\":{\"colorbar\":{\"outlinewidth\":1,\"tickcolor\":\"rgb(36,36,36)\",\"ticks\":\"outside\"}},\"type\":\"scatter3d\"}],\"scattercarpet\":[{\"marker\":{\"colorbar\":{\"outlinewidth\":1,\"tickcolor\":\"rgb(36,36,36)\",\"ticks\":\"outside\"}},\"type\":\"scattercarpet\"}],\"scattergeo\":[{\"marker\":{\"colorbar\":{\"outlinewidth\":1,\"tickcolor\":\"rgb(36,36,36)\",\"ticks\":\"outside\"}},\"type\":\"scattergeo\"}],\"scattergl\":[{\"marker\":{\"colorbar\":{\"outlinewidth\":1,\"tickcolor\":\"rgb(36,36,36)\",\"ticks\":\"outside\"}},\"type\":\"scattergl\"}],\"scattermapbox\":[{\"marker\":{\"colorbar\":{\"outlinewidth\":1,\"tickcolor\":\"rgb(36,36,36)\",\"ticks\":\"outside\"}},\"type\":\"scattermapbox\"}],\"scatterpolargl\":[{\"marker\":{\"colorbar\":{\"outlinewidth\":1,\"tickcolor\":\"rgb(36,36,36)\",\"ticks\":\"outside\"}},\"type\":\"scatterpolargl\"}],\"scatterpolar\":[{\"marker\":{\"colorbar\":{\"outlinewidth\":1,\"tickcolor\":\"rgb(36,36,36)\",\"ticks\":\"outside\"}},\"type\":\"scatterpolar\"}],\"scatter\":[{\"fillpattern\":{\"fillmode\":\"overlay\",\"size\":10,\"solidity\":0.2},\"type\":\"scatter\"}],\"scatterternary\":[{\"marker\":{\"colorbar\":{\"outlinewidth\":1,\"tickcolor\":\"rgb(36,36,36)\",\"ticks\":\"outside\"}},\"type\":\"scatterternary\"}],\"surface\":[{\"colorbar\":{\"outlinewidth\":1,\"tickcolor\":\"rgb(36,36,36)\",\"ticks\":\"outside\"},\"colorscale\":[[0.0,\"#440154\"],[0.1111111111111111,\"#482878\"],[0.2222222222222222,\"#3e4989\"],[0.3333333333333333,\"#31688e\"],[0.4444444444444444,\"#26828e\"],[0.5555555555555556,\"#1f9e89\"],[0.6666666666666666,\"#35b779\"],[0.7777777777777778,\"#6ece58\"],[0.8888888888888888,\"#b5de2b\"],[1.0,\"#fde725\"]],\"type\":\"surface\"}],\"table\":[{\"cells\":{\"fill\":{\"color\":\"rgb(237,237,237)\"},\"line\":{\"color\":\"white\"}},\"header\":{\"fill\":{\"color\":\"rgb(217,217,217)\"},\"line\":{\"color\":\"white\"}},\"type\":\"table\"}]},\"layout\":{\"annotationdefaults\":{\"arrowhead\":0,\"arrowwidth\":1},\"autotypenumbers\":\"strict\",\"coloraxis\":{\"colorbar\":{\"outlinewidth\":1,\"tickcolor\":\"rgb(36,36,36)\",\"ticks\":\"outside\"}},\"colorscale\":{\"diverging\":[[0.0,\"rgb(103,0,31)\"],[0.1,\"rgb(178,24,43)\"],[0.2,\"rgb(214,96,77)\"],[0.3,\"rgb(244,165,130)\"],[0.4,\"rgb(253,219,199)\"],[0.5,\"rgb(247,247,247)\"],[0.6,\"rgb(209,229,240)\"],[0.7,\"rgb(146,197,222)\"],[0.8,\"rgb(67,147,195)\"],[0.9,\"rgb(33,102,172)\"],[1.0,\"rgb(5,48,97)\"]],\"sequential\":[[0.0,\"#440154\"],[0.1111111111111111,\"#482878\"],[0.2222222222222222,\"#3e4989\"],[0.3333333333333333,\"#31688e\"],[0.4444444444444444,\"#26828e\"],[0.5555555555555556,\"#1f9e89\"],[0.6666666666666666,\"#35b779\"],[0.7777777777777778,\"#6ece58\"],[0.8888888888888888,\"#b5de2b\"],[1.0,\"#fde725\"]],\"sequentialminus\":[[0.0,\"#440154\"],[0.1111111111111111,\"#482878\"],[0.2222222222222222,\"#3e4989\"],[0.3333333333333333,\"#31688e\"],[0.4444444444444444,\"#26828e\"],[0.5555555555555556,\"#1f9e89\"],[0.6666666666666666,\"#35b779\"],[0.7777777777777778,\"#6ece58\"],[0.8888888888888888,\"#b5de2b\"],[1.0,\"#fde725\"]]},\"colorway\":[\"#1F77B4\",\"#FF7F0E\",\"#2CA02C\",\"#D62728\",\"#9467BD\",\"#8C564B\",\"#E377C2\",\"#7F7F7F\",\"#BCBD22\",\"#17BECF\"],\"font\":{\"color\":\"rgb(36,36,36)\"},\"geo\":{\"bgcolor\":\"white\",\"lakecolor\":\"white\",\"landcolor\":\"white\",\"showlakes\":true,\"showland\":true,\"subunitcolor\":\"white\"},\"hoverlabel\":{\"align\":\"left\"},\"hovermode\":\"closest\",\"mapbox\":{\"style\":\"light\"},\"paper_bgcolor\":\"white\",\"plot_bgcolor\":\"white\",\"polar\":{\"angularaxis\":{\"gridcolor\":\"rgb(232,232,232)\",\"linecolor\":\"rgb(36,36,36)\",\"showgrid\":false,\"showline\":true,\"ticks\":\"outside\"},\"bgcolor\":\"white\",\"radialaxis\":{\"gridcolor\":\"rgb(232,232,232)\",\"linecolor\":\"rgb(36,36,36)\",\"showgrid\":false,\"showline\":true,\"ticks\":\"outside\"}},\"scene\":{\"xaxis\":{\"backgroundcolor\":\"white\",\"gridcolor\":\"rgb(232,232,232)\",\"gridwidth\":2,\"linecolor\":\"rgb(36,36,36)\",\"showbackground\":true,\"showgrid\":false,\"showline\":true,\"ticks\":\"outside\",\"zeroline\":false,\"zerolinecolor\":\"rgb(36,36,36)\"},\"yaxis\":{\"backgroundcolor\":\"white\",\"gridcolor\":\"rgb(232,232,232)\",\"gridwidth\":2,\"linecolor\":\"rgb(36,36,36)\",\"showbackground\":true,\"showgrid\":false,\"showline\":true,\"ticks\":\"outside\",\"zeroline\":false,\"zerolinecolor\":\"rgb(36,36,36)\"},\"zaxis\":{\"backgroundcolor\":\"white\",\"gridcolor\":\"rgb(232,232,232)\",\"gridwidth\":2,\"linecolor\":\"rgb(36,36,36)\",\"showbackground\":true,\"showgrid\":false,\"showline\":true,\"ticks\":\"outside\",\"zeroline\":false,\"zerolinecolor\":\"rgb(36,36,36)\"}},\"shapedefaults\":{\"fillcolor\":\"black\",\"line\":{\"width\":0},\"opacity\":0.3},\"ternary\":{\"aaxis\":{\"gridcolor\":\"rgb(232,232,232)\",\"linecolor\":\"rgb(36,36,36)\",\"showgrid\":false,\"showline\":true,\"ticks\":\"outside\"},\"baxis\":{\"gridcolor\":\"rgb(232,232,232)\",\"linecolor\":\"rgb(36,36,36)\",\"showgrid\":false,\"showline\":true,\"ticks\":\"outside\"},\"bgcolor\":\"white\",\"caxis\":{\"gridcolor\":\"rgb(232,232,232)\",\"linecolor\":\"rgb(36,36,36)\",\"showgrid\":false,\"showline\":true,\"ticks\":\"outside\"}},\"title\":{\"x\":0.05},\"xaxis\":{\"automargin\":true,\"gridcolor\":\"rgb(232,232,232)\",\"linecolor\":\"rgb(36,36,36)\",\"showgrid\":false,\"showline\":true,\"ticks\":\"outside\",\"title\":{\"standoff\":15},\"zeroline\":false,\"zerolinecolor\":\"rgb(36,36,36)\"},\"yaxis\":{\"automargin\":true,\"gridcolor\":\"rgb(232,232,232)\",\"linecolor\":\"rgb(36,36,36)\",\"showgrid\":false,\"showline\":true,\"ticks\":\"outside\",\"title\":{\"standoff\":15},\"zeroline\":false,\"zerolinecolor\":\"rgb(36,36,36)\"}}},\"xaxis\":{\"anchor\":\"y\",\"domain\":[0.0,1.0],\"title\":{\"text\":\"PC1\"},\"showgrid\":false,\"zeroline\":true,\"zerolinewidth\":3,\"zerolinecolor\":\"lightgray\"},\"yaxis\":{\"anchor\":\"x\",\"domain\":[0.0,1.0],\"title\":{\"text\":\"PC2\"},\"showgrid\":false,\"zeroline\":true,\"zerolinewidth\":3,\"zerolinecolor\":\"lightgray\"},\"coloraxis\":{\"colorbar\":{\"title\":{\"text\":\"Target\"}},\"colorscale\":[[0.0,\"#440154\"],[0.1111111111111111,\"#482878\"],[0.2222222222222222,\"#3e4989\"],[0.3333333333333333,\"#31688e\"],[0.4444444444444444,\"#26828e\"],[0.5555555555555556,\"#1f9e89\"],[0.6666666666666666,\"#35b779\"],[0.7777777777777778,\"#6ece58\"],[0.8888888888888888,\"#b5de2b\"],[1.0,\"#fde725\"]]},\"legend\":{\"tracegroupgap\":0},\"margin\":{\"t\":60},\"title\":{\"text\":\"Top 2 PCs Scatterplot\",\"font\":{\"size\":18}},\"annotations\":[{\"font\":{\"color\":\"red\",\"size\":14},\"text\":\"Quadrant 2\",\"x\":-0.45,\"y\":0.1},{\"font\":{\"color\":\"red\",\"size\":14},\"text\":\"Quadrant 1\",\"x\":0.23,\"y\":0.1}]},                        {\"responsive\": true}                    ).then(function(){\n",
       "                            \n",
       "var gd = document.getElementById('050c2c4b-2b6a-4d7b-b129-ca5cdeff3d88');\n",
       "var x = new MutationObserver(function (mutations, observer) {{\n",
       "        var display = window.getComputedStyle(gd).display;\n",
       "        if (!display || display === 'none') {{\n",
       "            console.log([gd, 'removed!']);\n",
       "            Plotly.purge(gd);\n",
       "            observer.disconnect();\n",
       "        }}\n",
       "}});\n",
       "\n",
       "// Listen for the removal of the full notebook cells\n",
       "var notebookContainer = gd.closest('#notebook-container');\n",
       "if (notebookContainer) {{\n",
       "    x.observe(notebookContainer, {childList: true});\n",
       "}}\n",
       "\n",
       "// Listen for the clearing of the current output cell\n",
       "var outputEl = gd.closest('.output');\n",
       "if (outputEl) {{\n",
       "    x.observe(outputEl, {childList: true});\n",
       "}}\n",
       "\n",
       "                        })                };                });            </script>        </div>"
      ]
     },
     "metadata": {},
     "output_type": "display_data"
    }
   ],
   "source": [
    "fig = px.scatter(new_df, x='PC1', y='PC2', color='Target', template=\"simple_white\")\n",
    "fig.update_layout(title='Top 2 PCs Scatterplot', title_font_size=18)\n",
    "fig.update_xaxes(showgrid=False, zeroline=True, zerolinewidth=3, zerolinecolor='lightgray')\n",
    "fig.update_yaxes(showgrid=False, zeroline=True, zerolinewidth=3, zerolinecolor='lightgray')\n",
    "\n",
    "# Add annotations for quadrants\n",
    "fig.add_annotation(x=-0.45, y=0.1, text='Quadrant 2', font_size=14, font_color='red')\n",
    "fig.add_annotation(x=0.23, y=0.1, text='Quadrant 1', font_size=14, font_color='red')\n",
    "\n",
    "fig.update_xaxes(title='PC1')\n",
    "fig.update_yaxes(title='PC2')\n",
    "\n",
    "fig.show()"
   ]
  },
  {
   "cell_type": "code",
   "execution_count": 39,
   "id": "ff930114",
   "metadata": {
    "execution": {
     "iopub.execute_input": "2024-04-14T14:17:55.584041Z",
     "iopub.status.busy": "2024-04-14T14:17:55.583274Z",
     "iopub.status.idle": "2024-04-14T14:17:55.596876Z",
     "shell.execute_reply": "2024-04-14T14:17:55.596153Z"
    },
    "papermill": {
     "duration": 0.049395,
     "end_time": "2024-04-14T14:17:55.599000",
     "exception": false,
     "start_time": "2024-04-14T14:17:55.549605",
     "status": "completed"
    },
    "tags": []
   },
   "outputs": [
    {
     "data": {
      "text/html": [
       "<div>\n",
       "<style scoped>\n",
       "    .dataframe tbody tr th:only-of-type {\n",
       "        vertical-align: middle;\n",
       "    }\n",
       "\n",
       "    .dataframe tbody tr th {\n",
       "        vertical-align: top;\n",
       "    }\n",
       "\n",
       "    .dataframe thead th {\n",
       "        text-align: right;\n",
       "    }\n",
       "</style>\n",
       "<table border=\"1\" class=\"dataframe\">\n",
       "  <thead>\n",
       "    <tr style=\"text-align: right;\">\n",
       "      <th></th>\n",
       "      <th>PC1</th>\n",
       "      <th>PC2</th>\n",
       "      <th>PC3</th>\n",
       "      <th>PC4</th>\n",
       "      <th>PC5</th>\n",
       "      <th>Target</th>\n",
       "    </tr>\n",
       "  </thead>\n",
       "  <tbody>\n",
       "    <tr>\n",
       "      <th>15</th>\n",
       "      <td>0.010142</td>\n",
       "      <td>0.150852</td>\n",
       "      <td>0.319424</td>\n",
       "      <td>-1.082736</td>\n",
       "      <td>-0.017248</td>\n",
       "      <td>0</td>\n",
       "    </tr>\n",
       "    <tr>\n",
       "      <th>263</th>\n",
       "      <td>-0.060471</td>\n",
       "      <td>0.258713</td>\n",
       "      <td>0.228840</td>\n",
       "      <td>-0.564014</td>\n",
       "      <td>0.072919</td>\n",
       "      <td>0</td>\n",
       "    </tr>\n",
       "    <tr>\n",
       "      <th>6</th>\n",
       "      <td>-0.081707</td>\n",
       "      <td>0.367414</td>\n",
       "      <td>0.445879</td>\n",
       "      <td>-0.922444</td>\n",
       "      <td>0.018524</td>\n",
       "      <td>0</td>\n",
       "    </tr>\n",
       "    <tr>\n",
       "      <th>207</th>\n",
       "      <td>-0.088778</td>\n",
       "      <td>0.327860</td>\n",
       "      <td>0.275144</td>\n",
       "      <td>-0.633575</td>\n",
       "      <td>0.088293</td>\n",
       "      <td>0</td>\n",
       "    </tr>\n",
       "    <tr>\n",
       "      <th>94</th>\n",
       "      <td>-0.029706</td>\n",
       "      <td>0.276218</td>\n",
       "      <td>0.330494</td>\n",
       "      <td>-0.962766</td>\n",
       "      <td>-0.041641</td>\n",
       "      <td>0</td>\n",
       "    </tr>\n",
       "  </tbody>\n",
       "</table>\n",
       "</div>"
      ],
      "text/plain": [
       "          PC1       PC2       PC3       PC4       PC5  Target\n",
       "15   0.010142  0.150852  0.319424 -1.082736 -0.017248       0\n",
       "263 -0.060471  0.258713  0.228840 -0.564014  0.072919       0\n",
       "6   -0.081707  0.367414  0.445879 -0.922444  0.018524       0\n",
       "207 -0.088778  0.327860  0.275144 -0.633575  0.088293       0\n",
       "94  -0.029706  0.276218  0.330494 -0.962766 -0.041641       0"
      ]
     },
     "execution_count": 39,
     "metadata": {},
     "output_type": "execute_result"
    }
   ],
   "source": [
    "# Class 0 Individuals\n",
    "new_df[new_df.Target==0].sample(5)"
   ]
  },
  {
   "cell_type": "code",
   "execution_count": 40,
   "id": "3efeada8",
   "metadata": {
    "execution": {
     "iopub.execute_input": "2024-04-14T14:17:55.668688Z",
     "iopub.status.busy": "2024-04-14T14:17:55.668400Z",
     "iopub.status.idle": "2024-04-14T14:17:55.681264Z",
     "shell.execute_reply": "2024-04-14T14:17:55.680519Z"
    },
    "papermill": {
     "duration": 0.04863,
     "end_time": "2024-04-14T14:17:55.683242",
     "exception": false,
     "start_time": "2024-04-14T14:17:55.634612",
     "status": "completed"
    },
    "tags": []
   },
   "outputs": [
    {
     "data": {
      "text/html": [
       "<div>\n",
       "<style scoped>\n",
       "    .dataframe tbody tr th:only-of-type {\n",
       "        vertical-align: middle;\n",
       "    }\n",
       "\n",
       "    .dataframe tbody tr th {\n",
       "        vertical-align: top;\n",
       "    }\n",
       "\n",
       "    .dataframe thead th {\n",
       "        text-align: right;\n",
       "    }\n",
       "</style>\n",
       "<table border=\"1\" class=\"dataframe\">\n",
       "  <thead>\n",
       "    <tr style=\"text-align: right;\">\n",
       "      <th></th>\n",
       "      <th>PC1</th>\n",
       "      <th>PC2</th>\n",
       "      <th>PC3</th>\n",
       "      <th>PC4</th>\n",
       "      <th>PC5</th>\n",
       "      <th>Target</th>\n",
       "    </tr>\n",
       "  </thead>\n",
       "  <tbody>\n",
       "    <tr>\n",
       "      <th>176</th>\n",
       "      <td>0.028246</td>\n",
       "      <td>0.095483</td>\n",
       "      <td>0.114111</td>\n",
       "      <td>-0.700373</td>\n",
       "      <td>0.176243</td>\n",
       "      <td>1</td>\n",
       "    </tr>\n",
       "    <tr>\n",
       "      <th>482</th>\n",
       "      <td>0.070510</td>\n",
       "      <td>0.147166</td>\n",
       "      <td>0.283986</td>\n",
       "      <td>-0.627671</td>\n",
       "      <td>-0.178301</td>\n",
       "      <td>1</td>\n",
       "    </tr>\n",
       "    <tr>\n",
       "      <th>220</th>\n",
       "      <td>0.054136</td>\n",
       "      <td>0.184350</td>\n",
       "      <td>0.275295</td>\n",
       "      <td>-0.447683</td>\n",
       "      <td>-0.064295</td>\n",
       "      <td>1</td>\n",
       "    </tr>\n",
       "    <tr>\n",
       "      <th>148</th>\n",
       "      <td>0.009689</td>\n",
       "      <td>0.238658</td>\n",
       "      <td>0.263411</td>\n",
       "      <td>-0.696334</td>\n",
       "      <td>-0.075277</td>\n",
       "      <td>1</td>\n",
       "    </tr>\n",
       "    <tr>\n",
       "      <th>204</th>\n",
       "      <td>0.031472</td>\n",
       "      <td>0.133313</td>\n",
       "      <td>0.247999</td>\n",
       "      <td>-0.665805</td>\n",
       "      <td>-0.066862</td>\n",
       "      <td>1</td>\n",
       "    </tr>\n",
       "  </tbody>\n",
       "</table>\n",
       "</div>"
      ],
      "text/plain": [
       "          PC1       PC2       PC3       PC4       PC5  Target\n",
       "176  0.028246  0.095483  0.114111 -0.700373  0.176243       1\n",
       "482  0.070510  0.147166  0.283986 -0.627671 -0.178301       1\n",
       "220  0.054136  0.184350  0.275295 -0.447683 -0.064295       1\n",
       "148  0.009689  0.238658  0.263411 -0.696334 -0.075277       1\n",
       "204  0.031472  0.133313  0.247999 -0.665805 -0.066862       1"
      ]
     },
     "execution_count": 40,
     "metadata": {},
     "output_type": "execute_result"
    }
   ],
   "source": [
    "#Class 1 Individuals\n",
    "new_df[new_df.Target==1].sample(5)"
   ]
  },
  {
   "cell_type": "markdown",
   "id": "f48305b1",
   "metadata": {
    "papermill": {
     "duration": 0.03555,
     "end_time": "2024-04-14T14:17:55.753526",
     "exception": false,
     "start_time": "2024-04-14T14:17:55.717976",
     "status": "completed"
    },
    "tags": []
   },
   "source": [
    "<center>\n",
    "<div style=\"color:;\n",
    "           display:fill;\n",
    "           border-radius:5px;\n",
    "           background-color: mediumseagreen;\n",
    "           font-size:110%;\n",
    "           letter-spacing:0.5px\">\n",
    "\n",
    "<h2 style=\"padding: 10px;\n",
    "              color:white;\">Handling Class Imbalance\n",
    "    \n",
    "</h2>\n",
    "</div>\n",
    "\n",
    "<span style=\"background-color: yellow;\"> To make the model pay more attention to the classes where there are fewer occurence of a given class in the entire data, class weights can be used.</span> Almost all the classifiers will have the argument which will essentially take a dictionary to be passed when training the model.\n",
    "\n",
    "In the code cell just below, we are creating just a dictionary containing the classes and the class weights that will be used while training a model."
   ]
  },
  {
   "cell_type": "code",
   "execution_count": 41,
   "id": "1901422d",
   "metadata": {
    "execution": {
     "iopub.execute_input": "2024-04-14T14:17:55.826977Z",
     "iopub.status.busy": "2024-04-14T14:17:55.826214Z",
     "iopub.status.idle": "2024-04-14T14:17:55.832468Z",
     "shell.execute_reply": "2024-04-14T14:17:55.831522Z"
    },
    "papermill": {
     "duration": 0.043651,
     "end_time": "2024-04-14T14:17:55.834647",
     "exception": false,
     "start_time": "2024-04-14T14:17:55.790996",
     "status": "completed"
    },
    "tags": []
   },
   "outputs": [
    {
     "name": "stdout",
     "output_type": "stream",
     "text": [
      "=== CLASS WEIGHTS ===\n",
      "{0: 1.684, 1: 1.0}\n"
     ]
    }
   ],
   "source": [
    "label, counts = np.unique(targets, return_counts=True)\n",
    "# compute the class weights\n",
    "counts = max(counts) / counts\n",
    "class_weights = dict(zip(label, np.around(counts,3)))\n",
    "\n",
    "print('=== CLASS WEIGHTS ===')\n",
    "print(class_weights)"
   ]
  },
  {
   "cell_type": "markdown",
   "id": "5eb7085c",
   "metadata": {
    "papermill": {
     "duration": 0.032635,
     "end_time": "2024-04-14T14:17:55.900396",
     "exception": false,
     "start_time": "2024-04-14T14:17:55.867761",
     "status": "completed"
    },
    "tags": []
   },
   "source": [
    "<center>\n",
    "<div style=\"color:;\n",
    "           display:fill;\n",
    "           border-radius:5px;\n",
    "           background-color: mediumseagreen;\n",
    "           font-size:110%;\n",
    "           letter-spacing:0.5px\">\n",
    "\n",
    "<h2 style=\"padding: 10px;\n",
    "              color:white;\">Splitting Data and Training Models\n",
    "    \n",
    "</h2>\n",
    "</div>\n",
    "\n",
    "\n",
    "We start the process of training our data now that we are done with preprocessing of the data. Lets go ahead and split the data into 2 splits i.e. training and validation data. Training data will be used to train our model and we will validate the score on the validation data."
   ]
  },
  {
   "cell_type": "code",
   "execution_count": 42,
   "id": "ede5236a",
   "metadata": {
    "execution": {
     "iopub.execute_input": "2024-04-14T14:17:55.967458Z",
     "iopub.status.busy": "2024-04-14T14:17:55.966861Z",
     "iopub.status.idle": "2024-04-14T14:17:55.972849Z",
     "shell.execute_reply": "2024-04-14T14:17:55.972088Z"
    },
    "papermill": {
     "duration": 0.04159,
     "end_time": "2024-04-14T14:17:55.974699",
     "exception": false,
     "start_time": "2024-04-14T14:17:55.933109",
     "status": "completed"
    },
    "tags": []
   },
   "outputs": [],
   "source": [
    "#Splitting the data into train and validation set\n",
    "train_inputs, val_inputs, train_targets, val_targets = train_test_split(new_df, targets, test_size=0.20, random_state=42)"
   ]
  },
  {
   "cell_type": "code",
   "execution_count": 43,
   "id": "0e4615cf",
   "metadata": {
    "execution": {
     "iopub.execute_input": "2024-04-14T14:17:56.042242Z",
     "iopub.status.busy": "2024-04-14T14:17:56.041944Z",
     "iopub.status.idle": "2024-04-14T14:17:56.047197Z",
     "shell.execute_reply": "2024-04-14T14:17:56.046350Z"
    },
    "papermill": {
     "duration": 0.04167,
     "end_time": "2024-04-14T14:17:56.049403",
     "exception": false,
     "start_time": "2024-04-14T14:17:56.007733",
     "status": "completed"
    },
    "tags": []
   },
   "outputs": [
    {
     "name": "stdout",
     "output_type": "stream",
     "text": [
      "X_train Shape - (455, 6) , y_train Shape - (455,)\n",
      "X_test shape - (114, 6) , y_test shape - (114,)\n"
     ]
    }
   ],
   "source": [
    "print('X_train Shape -',train_inputs.shape,',', 'y_train Shape -', train_targets.shape)\n",
    "print('X_test shape -', val_inputs.shape,',','y_test shape -', val_targets.shape)"
   ]
  },
  {
   "cell_type": "markdown",
   "id": "b22ea402",
   "metadata": {
    "papermill": {
     "duration": 0.033958,
     "end_time": "2024-04-14T14:17:56.116940",
     "exception": false,
     "start_time": "2024-04-14T14:17:56.082982",
     "status": "completed"
    },
    "tags": []
   },
   "source": [
    "We have used the `class_weights` parameter while defining the models in the cell below."
   ]
  },
  {
   "cell_type": "code",
   "execution_count": 44,
   "id": "f13ea851",
   "metadata": {
    "execution": {
     "iopub.execute_input": "2024-04-14T14:17:56.185657Z",
     "iopub.status.busy": "2024-04-14T14:17:56.184949Z",
     "iopub.status.idle": "2024-04-14T14:17:56.191608Z",
     "shell.execute_reply": "2024-04-14T14:17:56.190811Z"
    },
    "papermill": {
     "duration": 0.04249,
     "end_time": "2024-04-14T14:17:56.193443",
     "exception": false,
     "start_time": "2024-04-14T14:17:56.150953",
     "status": "completed"
    },
    "tags": []
   },
   "outputs": [],
   "source": [
    "#Creating a list of classifier models\n",
    "names = ['Logistic Regression', \"KNN\", \"Linear SVM\",\"Gradient Boosting\", \"Decision Tree\", \"Random Forest\"]\n",
    "classifiers = [\n",
    "    LogisticRegression(solver='liblinear', class_weight=class_weights, random_state=42),\n",
    "    KNeighborsClassifier(n_neighbors=3, weights= 'distance'),\n",
    "    SVC(kernel=\"linear\", C=0.025, class_weight=class_weights, random_state=42),\n",
    "    GradientBoostingClassifier(n_estimators=100, random_state=42),\n",
    "    DecisionTreeClassifier(max_depth=5, class_weight=class_weights, random_state=42),\n",
    "    RandomForestClassifier(max_depth=5, n_estimators=100, class_weight=class_weights, random_state=42)]"
   ]
  },
  {
   "cell_type": "code",
   "execution_count": 45,
   "id": "82d4c57b",
   "metadata": {
    "execution": {
     "iopub.execute_input": "2024-04-14T14:17:56.262321Z",
     "iopub.status.busy": "2024-04-14T14:17:56.262001Z",
     "iopub.status.idle": "2024-04-14T14:17:57.701462Z",
     "shell.execute_reply": "2024-04-14T14:17:57.700557Z"
    },
    "papermill": {
     "duration": 1.476032,
     "end_time": "2024-04-14T14:17:57.703498",
     "exception": false,
     "start_time": "2024-04-14T14:17:56.227466",
     "status": "completed"
    },
    "tags": []
   },
   "outputs": [
    {
     "data": {
      "text/html": [
       "<div>\n",
       "<style scoped>\n",
       "    .dataframe tbody tr th:only-of-type {\n",
       "        vertical-align: middle;\n",
       "    }\n",
       "\n",
       "    .dataframe tbody tr th {\n",
       "        vertical-align: top;\n",
       "    }\n",
       "\n",
       "    .dataframe thead th {\n",
       "        text-align: right;\n",
       "    }\n",
       "</style>\n",
       "<table border=\"1\" class=\"dataframe\">\n",
       "  <thead>\n",
       "    <tr style=\"text-align: right;\">\n",
       "      <th></th>\n",
       "      <th>Name</th>\n",
       "      <th>CV Mean score</th>\n",
       "    </tr>\n",
       "  </thead>\n",
       "  <tbody>\n",
       "    <tr>\n",
       "      <th>0</th>\n",
       "      <td>Logistic Regression</td>\n",
       "      <td>1.0</td>\n",
       "    </tr>\n",
       "    <tr>\n",
       "      <th>1</th>\n",
       "      <td>KNN</td>\n",
       "      <td>1.0</td>\n",
       "    </tr>\n",
       "    <tr>\n",
       "      <th>2</th>\n",
       "      <td>Linear SVM</td>\n",
       "      <td>1.0</td>\n",
       "    </tr>\n",
       "    <tr>\n",
       "      <th>3</th>\n",
       "      <td>Gradient Boosting</td>\n",
       "      <td>1.0</td>\n",
       "    </tr>\n",
       "    <tr>\n",
       "      <th>4</th>\n",
       "      <td>Decision Tree</td>\n",
       "      <td>1.0</td>\n",
       "    </tr>\n",
       "    <tr>\n",
       "      <th>5</th>\n",
       "      <td>Random Forest</td>\n",
       "      <td>1.0</td>\n",
       "    </tr>\n",
       "  </tbody>\n",
       "</table>\n",
       "</div>"
      ],
      "text/plain": [
       "                  Name  CV Mean score\n",
       "0  Logistic Regression            1.0\n",
       "1                  KNN            1.0\n",
       "2           Linear SVM            1.0\n",
       "3    Gradient Boosting            1.0\n",
       "4        Decision Tree            1.0\n",
       "5        Random Forest            1.0"
      ]
     },
     "execution_count": 45,
     "metadata": {},
     "output_type": "execute_result"
    }
   ],
   "source": [
    "# Define the number of folds for cross-validation\n",
    "num_folds = 5  # You can adjust this as needed\n",
    "\n",
    "# Initialize an empty list to store scores\n",
    "scores = []\n",
    "\n",
    "for name, clf in zip(names, classifiers):\n",
    "    # Perform k-fold cross-validation and calculate the mean score\n",
    "    cv_scores = cross_val_score(clf, train_inputs, train_targets, cv=num_folds)\n",
    "    mean_score = np.mean(cv_scores)\n",
    "    scores.append(mean_score)\n",
    "    \n",
    "\n",
    "# Create a DataFrame to store the results\n",
    "scores_df = pd.DataFrame()\n",
    "scores_df['Name'] = names\n",
    "scores_df['CV Mean score'] = np.around(scores, 3)\n",
    "\n",
    "# Sort the DataFrame by score in descending order\n",
    "sorted_scores_df = scores_df.sort_values('CV Mean score', ascending=False)\n",
    "sorted_scores_df"
   ]
  },
  {
   "cell_type": "markdown",
   "id": "75d7a6e1",
   "metadata": {
    "papermill": {
     "duration": 0.033617,
     "end_time": "2024-04-14T14:17:57.771314",
     "exception": false,
     "start_time": "2024-04-14T14:17:57.737697",
     "status": "completed"
    },
    "tags": []
   },
   "source": [
    "<center>\n",
    "<div style=\"color:;\n",
    "           display:fill;\n",
    "           border-radius:5px;\n",
    "           background-color: mediumseagreen;\n",
    "           font-size:110%;\n",
    "           letter-spacing:0.5px\">\n",
    "\n",
    "<h2 style=\"padding: 10px;\n",
    "              color:white;\">Model Accuracy and Performance Check\n",
    "    \n",
    "</h2>\n",
    "</div>\n",
    "</center>\n",
    "\n",
    "When it comes to checking the model accuracy, you can use the below techniques to see how well the model is performing.\n",
    "\n",
    "1. **Confusion Matrix:** A confusion matrix is a table that is used to evaluate the performance of a classification model. It is a table of the true positive, true negative, false positive, and false negative values for a classification problem. It is also used to calculate various metrics such as precision, recall, accuracy, and f1-score.\n",
    "\n",
    "2. **Accuracy Score:** The accuracy score is the ratio of correctly predicted observations to the total observations. It is a primary evaluation metric for classification problems.\n",
    "\n",
    "3. **F1 Score:** F1 score is the harmonic mean of precision and recall. It is usually used to compare two or more classifiers.\n",
    "\n",
    "4. **ROC Curve:** A ROC curve is a graphical representation of the performance of a classification model. It is a plot of the true positive rate against the false positive rate. The higher the area under the curve, the better the model is at predicting the positive class.\n",
    "\n",
    "\n",
    "<center><img src=\"https://i.imgur.com/UM28BCN.png%22%20width=%22480\", width=700> </center>\n",
    "    \n",
    " We will achieve this by using `sklearn` Confusion Matrix."
   ]
  },
  {
   "cell_type": "code",
   "execution_count": 46,
   "id": "57220f64",
   "metadata": {
    "execution": {
     "iopub.execute_input": "2024-04-14T14:17:57.840665Z",
     "iopub.status.busy": "2024-04-14T14:17:57.839827Z",
     "iopub.status.idle": "2024-04-14T14:17:57.933311Z",
     "shell.execute_reply": "2024-04-14T14:17:57.932530Z"
    },
    "papermill": {
     "duration": 0.130012,
     "end_time": "2024-04-14T14:17:57.935187",
     "exception": false,
     "start_time": "2024-04-14T14:17:57.805175",
     "status": "completed"
    },
    "tags": []
   },
   "outputs": [
    {
     "data": {
      "text/html": [
       "<div>                            <div id=\"bdf6f07f-e016-4ecf-9933-5ed830c7d3d0\" class=\"plotly-graph-div\" style=\"height:525px; width:100%;\"></div>            <script type=\"text/javascript\">                require([\"plotly\"], function(Plotly) {                    window.PLOTLYENV=window.PLOTLYENV || {};                                    if (document.getElementById(\"bdf6f07f-e016-4ecf-9933-5ed830c7d3d0\")) {                    Plotly.newPlot(                        \"bdf6f07f-e016-4ecf-9933-5ed830c7d3d0\",                        [{\"coloraxis\":\"coloraxis\",\"name\":\"0\",\"texttemplate\":\"%{z}\",\"z\":[[1.0,0.0],[0.0,1.0]],\"type\":\"heatmap\",\"xaxis\":\"x\",\"yaxis\":\"y\",\"hovertemplate\":\"Predicted Label: %{x}<br>Correct Label: %{y}<br>Value: %{z}<extra></extra>\"}],                        {\"template\":{\"data\":{\"barpolar\":[{\"marker\":{\"line\":{\"color\":\"rgb(237,237,237)\",\"width\":0.5},\"pattern\":{\"fillmode\":\"overlay\",\"size\":10,\"solidity\":0.2}},\"type\":\"barpolar\"}],\"bar\":[{\"error_x\":{\"color\":\"rgb(51,51,51)\"},\"error_y\":{\"color\":\"rgb(51,51,51)\"},\"marker\":{\"line\":{\"color\":\"rgb(237,237,237)\",\"width\":0.5},\"pattern\":{\"fillmode\":\"overlay\",\"size\":10,\"solidity\":0.2}},\"type\":\"bar\"}],\"carpet\":[{\"aaxis\":{\"endlinecolor\":\"rgb(51,51,51)\",\"gridcolor\":\"white\",\"linecolor\":\"white\",\"minorgridcolor\":\"white\",\"startlinecolor\":\"rgb(51,51,51)\"},\"baxis\":{\"endlinecolor\":\"rgb(51,51,51)\",\"gridcolor\":\"white\",\"linecolor\":\"white\",\"minorgridcolor\":\"white\",\"startlinecolor\":\"rgb(51,51,51)\"},\"type\":\"carpet\"}],\"choropleth\":[{\"colorbar\":{\"outlinewidth\":0,\"tickcolor\":\"rgb(237,237,237)\",\"ticklen\":6,\"ticks\":\"inside\"},\"type\":\"choropleth\"}],\"contourcarpet\":[{\"colorbar\":{\"outlinewidth\":0,\"tickcolor\":\"rgb(237,237,237)\",\"ticklen\":6,\"ticks\":\"inside\"},\"type\":\"contourcarpet\"}],\"contour\":[{\"colorbar\":{\"outlinewidth\":0,\"tickcolor\":\"rgb(237,237,237)\",\"ticklen\":6,\"ticks\":\"inside\"},\"colorscale\":[[0,\"rgb(20,44,66)\"],[1,\"rgb(90,179,244)\"]],\"type\":\"contour\"}],\"heatmapgl\":[{\"colorbar\":{\"outlinewidth\":0,\"tickcolor\":\"rgb(237,237,237)\",\"ticklen\":6,\"ticks\":\"inside\"},\"colorscale\":[[0,\"rgb(20,44,66)\"],[1,\"rgb(90,179,244)\"]],\"type\":\"heatmapgl\"}],\"heatmap\":[{\"colorbar\":{\"outlinewidth\":0,\"tickcolor\":\"rgb(237,237,237)\",\"ticklen\":6,\"ticks\":\"inside\"},\"colorscale\":[[0,\"rgb(20,44,66)\"],[1,\"rgb(90,179,244)\"]],\"type\":\"heatmap\"}],\"histogram2dcontour\":[{\"colorbar\":{\"outlinewidth\":0,\"tickcolor\":\"rgb(237,237,237)\",\"ticklen\":6,\"ticks\":\"inside\"},\"colorscale\":[[0,\"rgb(20,44,66)\"],[1,\"rgb(90,179,244)\"]],\"type\":\"histogram2dcontour\"}],\"histogram2d\":[{\"colorbar\":{\"outlinewidth\":0,\"tickcolor\":\"rgb(237,237,237)\",\"ticklen\":6,\"ticks\":\"inside\"},\"colorscale\":[[0,\"rgb(20,44,66)\"],[1,\"rgb(90,179,244)\"]],\"type\":\"histogram2d\"}],\"histogram\":[{\"marker\":{\"pattern\":{\"fillmode\":\"overlay\",\"size\":10,\"solidity\":0.2}},\"type\":\"histogram\"}],\"mesh3d\":[{\"colorbar\":{\"outlinewidth\":0,\"tickcolor\":\"rgb(237,237,237)\",\"ticklen\":6,\"ticks\":\"inside\"},\"type\":\"mesh3d\"}],\"parcoords\":[{\"line\":{\"colorbar\":{\"outlinewidth\":0,\"tickcolor\":\"rgb(237,237,237)\",\"ticklen\":6,\"ticks\":\"inside\"}},\"type\":\"parcoords\"}],\"pie\":[{\"automargin\":true,\"type\":\"pie\"}],\"scatter3d\":[{\"line\":{\"colorbar\":{\"outlinewidth\":0,\"tickcolor\":\"rgb(237,237,237)\",\"ticklen\":6,\"ticks\":\"inside\"}},\"marker\":{\"colorbar\":{\"outlinewidth\":0,\"tickcolor\":\"rgb(237,237,237)\",\"ticklen\":6,\"ticks\":\"inside\"}},\"type\":\"scatter3d\"}],\"scattercarpet\":[{\"marker\":{\"colorbar\":{\"outlinewidth\":0,\"tickcolor\":\"rgb(237,237,237)\",\"ticklen\":6,\"ticks\":\"inside\"}},\"type\":\"scattercarpet\"}],\"scattergeo\":[{\"marker\":{\"colorbar\":{\"outlinewidth\":0,\"tickcolor\":\"rgb(237,237,237)\",\"ticklen\":6,\"ticks\":\"inside\"}},\"type\":\"scattergeo\"}],\"scattergl\":[{\"marker\":{\"colorbar\":{\"outlinewidth\":0,\"tickcolor\":\"rgb(237,237,237)\",\"ticklen\":6,\"ticks\":\"inside\"}},\"type\":\"scattergl\"}],\"scattermapbox\":[{\"marker\":{\"colorbar\":{\"outlinewidth\":0,\"tickcolor\":\"rgb(237,237,237)\",\"ticklen\":6,\"ticks\":\"inside\"}},\"type\":\"scattermapbox\"}],\"scatterpolargl\":[{\"marker\":{\"colorbar\":{\"outlinewidth\":0,\"tickcolor\":\"rgb(237,237,237)\",\"ticklen\":6,\"ticks\":\"inside\"}},\"type\":\"scatterpolargl\"}],\"scatterpolar\":[{\"marker\":{\"colorbar\":{\"outlinewidth\":0,\"tickcolor\":\"rgb(237,237,237)\",\"ticklen\":6,\"ticks\":\"inside\"}},\"type\":\"scatterpolar\"}],\"scatter\":[{\"fillpattern\":{\"fillmode\":\"overlay\",\"size\":10,\"solidity\":0.2},\"type\":\"scatter\"}],\"scatterternary\":[{\"marker\":{\"colorbar\":{\"outlinewidth\":0,\"tickcolor\":\"rgb(237,237,237)\",\"ticklen\":6,\"ticks\":\"inside\"}},\"type\":\"scatterternary\"}],\"surface\":[{\"colorbar\":{\"outlinewidth\":0,\"tickcolor\":\"rgb(237,237,237)\",\"ticklen\":6,\"ticks\":\"inside\"},\"colorscale\":[[0,\"rgb(20,44,66)\"],[1,\"rgb(90,179,244)\"]],\"type\":\"surface\"}],\"table\":[{\"cells\":{\"fill\":{\"color\":\"rgb(237,237,237)\"},\"line\":{\"color\":\"white\"}},\"header\":{\"fill\":{\"color\":\"rgb(217,217,217)\"},\"line\":{\"color\":\"white\"}},\"type\":\"table\"}]},\"layout\":{\"annotationdefaults\":{\"arrowhead\":0,\"arrowwidth\":1},\"autotypenumbers\":\"strict\",\"coloraxis\":{\"colorbar\":{\"outlinewidth\":0,\"tickcolor\":\"rgb(237,237,237)\",\"ticklen\":6,\"ticks\":\"inside\"}},\"colorscale\":{\"sequential\":[[0,\"rgb(20,44,66)\"],[1,\"rgb(90,179,244)\"]],\"sequentialminus\":[[0,\"rgb(20,44,66)\"],[1,\"rgb(90,179,244)\"]]},\"colorway\":[\"#F8766D\",\"#A3A500\",\"#00BF7D\",\"#00B0F6\",\"#E76BF3\"],\"font\":{\"color\":\"rgb(51,51,51)\"},\"geo\":{\"bgcolor\":\"white\",\"lakecolor\":\"white\",\"landcolor\":\"rgb(237,237,237)\",\"showlakes\":true,\"showland\":true,\"subunitcolor\":\"white\"},\"hoverlabel\":{\"align\":\"left\"},\"hovermode\":\"closest\",\"paper_bgcolor\":\"white\",\"plot_bgcolor\":\"rgb(237,237,237)\",\"polar\":{\"angularaxis\":{\"gridcolor\":\"white\",\"linecolor\":\"white\",\"showgrid\":true,\"tickcolor\":\"rgb(51,51,51)\",\"ticks\":\"outside\"},\"bgcolor\":\"rgb(237,237,237)\",\"radialaxis\":{\"gridcolor\":\"white\",\"linecolor\":\"white\",\"showgrid\":true,\"tickcolor\":\"rgb(51,51,51)\",\"ticks\":\"outside\"}},\"scene\":{\"xaxis\":{\"backgroundcolor\":\"rgb(237,237,237)\",\"gridcolor\":\"white\",\"gridwidth\":2,\"linecolor\":\"white\",\"showbackground\":true,\"showgrid\":true,\"tickcolor\":\"rgb(51,51,51)\",\"ticks\":\"outside\",\"zerolinecolor\":\"white\"},\"yaxis\":{\"backgroundcolor\":\"rgb(237,237,237)\",\"gridcolor\":\"white\",\"gridwidth\":2,\"linecolor\":\"white\",\"showbackground\":true,\"showgrid\":true,\"tickcolor\":\"rgb(51,51,51)\",\"ticks\":\"outside\",\"zerolinecolor\":\"white\"},\"zaxis\":{\"backgroundcolor\":\"rgb(237,237,237)\",\"gridcolor\":\"white\",\"gridwidth\":2,\"linecolor\":\"white\",\"showbackground\":true,\"showgrid\":true,\"tickcolor\":\"rgb(51,51,51)\",\"ticks\":\"outside\",\"zerolinecolor\":\"white\"}},\"shapedefaults\":{\"fillcolor\":\"black\",\"line\":{\"width\":0},\"opacity\":0.3},\"ternary\":{\"aaxis\":{\"gridcolor\":\"white\",\"linecolor\":\"white\",\"showgrid\":true,\"tickcolor\":\"rgb(51,51,51)\",\"ticks\":\"outside\"},\"baxis\":{\"gridcolor\":\"white\",\"linecolor\":\"white\",\"showgrid\":true,\"tickcolor\":\"rgb(51,51,51)\",\"ticks\":\"outside\"},\"bgcolor\":\"rgb(237,237,237)\",\"caxis\":{\"gridcolor\":\"white\",\"linecolor\":\"white\",\"showgrid\":true,\"tickcolor\":\"rgb(51,51,51)\",\"ticks\":\"outside\"}},\"xaxis\":{\"automargin\":true,\"gridcolor\":\"white\",\"linecolor\":\"white\",\"showgrid\":true,\"tickcolor\":\"rgb(51,51,51)\",\"ticks\":\"outside\",\"title\":{\"standoff\":15},\"zerolinecolor\":\"white\"},\"yaxis\":{\"automargin\":true,\"gridcolor\":\"white\",\"linecolor\":\"white\",\"showgrid\":true,\"tickcolor\":\"rgb(51,51,51)\",\"ticks\":\"outside\",\"title\":{\"standoff\":15},\"zerolinecolor\":\"white\"}}},\"xaxis\":{\"anchor\":\"y\",\"domain\":[0.0,1.0],\"title\":{\"text\":\"Predicted Label\"},\"side\":\"bottom\"},\"yaxis\":{\"anchor\":\"x\",\"domain\":[0.0,1.0],\"autorange\":\"reversed\",\"title\":{\"text\":\"Correct Label\"}},\"coloraxis\":{\"colorbar\":{\"title\":{\"text\":\"Value\"}},\"colorscale\":[[0.0,\"rgb(20,44,66)\"],[1.0,\"rgb(90,179,244)\"]]},\"margin\":{\"t\":60}},                        {\"responsive\": true}                    ).then(function(){\n",
       "                            \n",
       "var gd = document.getElementById('bdf6f07f-e016-4ecf-9933-5ed830c7d3d0');\n",
       "var x = new MutationObserver(function (mutations, observer) {{\n",
       "        var display = window.getComputedStyle(gd).display;\n",
       "        if (!display || display === 'none') {{\n",
       "            console.log([gd, 'removed!']);\n",
       "            Plotly.purge(gd);\n",
       "            observer.disconnect();\n",
       "        }}\n",
       "}});\n",
       "\n",
       "// Listen for the removal of the full notebook cells\n",
       "var notebookContainer = gd.closest('#notebook-container');\n",
       "if (notebookContainer) {{\n",
       "    x.observe(notebookContainer, {childList: true});\n",
       "}}\n",
       "\n",
       "// Listen for the clearing of the current output cell\n",
       "var outputEl = gd.closest('.output');\n",
       "if (outputEl) {{\n",
       "    x.observe(outputEl, {childList: true});\n",
       "}}\n",
       "\n",
       "                        })                };                });            </script>        </div>"
      ]
     },
     "metadata": {},
     "output_type": "display_data"
    }
   ],
   "source": [
    "#Initiating the model\n",
    "model = LogisticRegression(solver='liblinear', random_state=42,  n_jobs=-1, class_weight=class_weights)\n",
    "\n",
    "#fitting the model\n",
    "model.fit(train_inputs, train_targets)\n",
    "\n",
    "#making the predictions\n",
    "LRtrain_preds = model.predict(val_inputs)\n",
    "\n",
    "#Creating the confusion matrix\n",
    "confusionmatrix = np.around(confusion_matrix(val_targets, LRtrain_preds, normalize='true'),3)\n",
    "\n",
    "#Plotting the Confusion Matrix\n",
    "fig = px.imshow(confusionmatrix, template='ggplot2',text_auto=True, aspect=\"auto\", \n",
    "                labels=dict(x=\"Predicted Label\", y=\"Correct Label\", color='Value'))\n",
    "fig.update_xaxes(side=\"bottom\")\n",
    "fig.show()"
   ]
  },
  {
   "cell_type": "code",
   "execution_count": 47,
   "id": "583b481c",
   "metadata": {
    "execution": {
     "iopub.execute_input": "2024-04-14T14:17:58.004687Z",
     "iopub.status.busy": "2024-04-14T14:17:58.004225Z",
     "iopub.status.idle": "2024-04-14T14:17:58.202992Z",
     "shell.execute_reply": "2024-04-14T14:17:58.202131Z"
    },
    "papermill": {
     "duration": 0.235698,
     "end_time": "2024-04-14T14:17:58.205058",
     "exception": false,
     "start_time": "2024-04-14T14:17:57.969360",
     "status": "completed"
    },
    "tags": []
   },
   "outputs": [
    {
     "data": {
      "image/png": "[encoded data removed]",
      "text/plain": [
       "<Figure size 2200x500 with 1 Axes>"
      ]
     },
     "metadata": {
      "needs_background": "light"
     },
     "output_type": "display_data"
    }
   ],
   "source": [
    "# Assuming you have your model predictions and true labels\n",
    "y_pred = model.predict(val_inputs)  # Replace with your model's predictions\n",
    "fpr, tpr, thresholds = roc_curve(val_targets, y_pred)\n",
    "\n",
    "# Calculate AUC (Area Under the ROC Curve)\n",
    "auc = roc_auc_score(val_targets, y_pred)\n",
    "\n",
    "# Plot the ROC curve\n",
    "plt.figure()\n",
    "plt.plot(fpr, tpr, label='ROC curve (AUC = {:.2f})'.format(auc), color='orange')\n",
    "plt.plot([0, 1], [0, 1], 'k--')  # Random guessing line\n",
    "plt.xlim([0.0, 1.0])\n",
    "plt.ylim([0.0, 1.05])\n",
    "\n",
    "plt.gca().spines['top'].set_visible(False)\n",
    "plt.gca().spines['right'].set_visible(False)\n",
    "plt.xlabel('False Positive Rate')\n",
    "plt.ylabel('True Positive Rate')\n",
    "plt.title('Test Set ROC Curve')\n",
    "plt.legend(loc=\"lower right\")\n",
    "plt.show()"
   ]
  },
  {
   "cell_type": "markdown",
   "id": "6fc8f7e5",
   "metadata": {
    "papermill": {
     "duration": 0.034983,
     "end_time": "2024-04-14T14:17:58.275827",
     "exception": false,
     "start_time": "2024-04-14T14:17:58.240844",
     "status": "completed"
    },
    "tags": []
   },
   "source": [
    "We can see that the model is making pretty good classification."
   ]
  },
  {
   "cell_type": "markdown",
   "id": "00818ccf",
   "metadata": {
    "papermill": {
     "duration": 0.034354,
     "end_time": "2024-04-14T14:17:58.345361",
     "exception": false,
     "start_time": "2024-04-14T14:17:58.311007",
     "status": "completed"
    },
    "tags": []
   },
   "source": [
    "<center>\n",
    "<div style=\"color:;\n",
    "           display:fill;\n",
    "           border-radius:5px;\n",
    "           background-color: royalblue;\n",
    "           font-size:110%;\n",
    "           letter-spacing:0.5px\">\n",
    "\n",
    "<h3 style=\"padding: 10px;\n",
    "              color:white;\">Logistic Regression Classification Report\n",
    "    \n",
    "</h3>\n",
    "</div>"
   ]
  },
  {
   "cell_type": "code",
   "execution_count": 48,
   "id": "f5d1a65f",
   "metadata": {
    "execution": {
     "iopub.execute_input": "2024-04-14T14:17:58.414970Z",
     "iopub.status.busy": "2024-04-14T14:17:58.414579Z",
     "iopub.status.idle": "2024-04-14T14:17:58.424970Z",
     "shell.execute_reply": "2024-04-14T14:17:58.423822Z"
    },
    "papermill": {
     "duration": 0.047417,
     "end_time": "2024-04-14T14:17:58.426918",
     "exception": false,
     "start_time": "2024-04-14T14:17:58.379501",
     "status": "completed"
    },
    "tags": []
   },
   "outputs": [
    {
     "name": "stdout",
     "output_type": "stream",
     "text": [
      "              precision    recall  f1-score   support\n",
      "\n",
      "           0       1.00      1.00      1.00        43\n",
      "           1       1.00      1.00      1.00        71\n",
      "\n",
      "    accuracy                           1.00       114\n",
      "   macro avg       1.00      1.00      1.00       114\n",
      "weighted avg       1.00      1.00      1.00       114\n",
      "\n"
     ]
    }
   ],
   "source": [
    "print(classification_report(val_targets, LRtrain_preds))"
   ]
  },
  {
   "cell_type": "code",
   "execution_count": 49,
   "id": "4727f1e3",
   "metadata": {
    "execution": {
     "iopub.execute_input": "2024-04-14T14:17:58.497964Z",
     "iopub.status.busy": "2024-04-14T14:17:58.497651Z",
     "iopub.status.idle": "2024-04-14T14:17:58.503622Z",
     "shell.execute_reply": "2024-04-14T14:17:58.502871Z"
    },
    "papermill": {
     "duration": 0.044315,
     "end_time": "2024-04-14T14:17:58.505751",
     "exception": false,
     "start_time": "2024-04-14T14:17:58.461436",
     "status": "completed"
    },
    "tags": []
   },
   "outputs": [
    {
     "name": "stdout",
     "output_type": "stream",
     "text": [
      "0 / 114 cases misclassified by LR model, Error rate : 0.0%.\n"
     ]
    }
   ],
   "source": [
    "misclassified_count = np.sum(val_targets != LRtrain_preds)\n",
    "total_cases = len(val_targets)\n",
    "error_rate = np.around((misclassified_count / total_cases) * 100, 3)\n",
    "\n",
    "print(f\"{misclassified_count} / {total_cases} cases misclassified by LR model, Error rate : {error_rate}%.\")"
   ]
  },
  {
   "cell_type": "markdown",
   "id": "30ae2171",
   "metadata": {
    "papermill": {
     "duration": 0.03474,
     "end_time": "2024-04-14T14:17:58.578584",
     "exception": false,
     "start_time": "2024-04-14T14:17:58.543844",
     "status": "completed"
    },
    "tags": []
   },
   "source": [
    "<center>\n",
    "<div style=\"color:;\n",
    "           display:fill;\n",
    "           border-radius:5px;\n",
    "           background-color: mediumseagreen;\n",
    "           font-size:110%;\n",
    "           letter-spacing:0.5px\">\n",
    "\n",
    "<h2 style=\"padding: 10px;\n",
    "              color:white;\">Linear Discriminant Analysis (LDA)\n",
    "    \n",
    "</h2>\n",
    "</div>\n",
    "</center>\n",
    "\n",
    "<span style=\"background-color: yellow;\"> **Linear Discriminant Analysis (LDA)** is a supervised learning algorithm used to classify a data set into multiple classes. It is a linear transformation technique which seeks to find a set of linear combinations of variables that best separate classes of data. LDA is a classification technique that looks at the data set and finds a linear combination of variables that will best separate the data.</span> It is often used to reduce the number of variables in a data set while still retaining the important information for classification. \n",
    "\n",
    "The basic idea behind LDA is to maximize the ratio of the between-class variance to the within-class variance. The goal of LDA is to find a linear combination of variables that separates the classes as much as possible. This is accomplished by finding the direction that maximizes the ratio of the between-class variance to the within-class variance.\n",
    "\n",
    "- The first step in LDA is to calculate the means and the covariance matrix of the data set. The means are the average values of each variable across all the classes. The covariance matrix is a measure of the variance between the variables. \n",
    "- Once the means and the covariance matrix are calculated, a linear combination of the variables is calculated that maximizes the ratio of between-class variance to within\n",
    "    \n",
    "**Why LDA?**\n",
    "- LDA is particularly useful when dealing with a high-dimensional dataset as it provides a way to reduce the number of dimensions while preserving as much of the variation in the original data as possible. \n",
    "- It also helps identify the most important variables in a dataset, which is useful for further analysis. LDA can be used for exploratory data analysis and for predictive modeling.\n",
    "- LDA is also used in face detection algorithms. In Fisherfaces, LDA is used to extract useful data from different faces. Coupled with eigenfaces, it produces effective results.\n",
    "    \n",
    "**Drawbacks of Linear Discriminant Analysis (LDA)**\n",
    "\n",
    "1. It assumes that the data is normally distributed, which may not always be the case in real-world data sets. \n",
    "2. It assumes that the variables are statistically independent, which is also not always the case in real-world data sets. \n",
    "3. It is sensitive to outliers, which can affect the accuracy of the model. \n",
    "4. It can only be used for two-class classification problems, and does not work well with multi-class problems. \n",
    "5. It is not suitable for data sets with a large number of features, as it can become computationally expensive.\n",
    "\n",
    "\n",
    "**Difference between Linear Discriminant Analysis and Principal Component Analysis**\n",
    "\n",
    "| Feature                                      | Linear Discriminant Analysis (LDA)                        | Principal Component Analysis (PCA)                       |\n",
    "|----------------------------------------------|-----------------------------------------------------------|----------------------------------------------------------|\n",
    "| **Nature**                                   | Supervised learning technique                               | Unsupervised dimensionality reduction technique          |\n",
    "| **Objective**                                | Classify objects into categories based on predictor variables | Reduce dimensionality and retain most data variability    |\n",
    "| **Applicability**                            | Commonly used in classification problems, especially for binary classification | Widely used for simplifying datasets with many variables  |\n",
    "| **Linear Combination**                       | Finds the linear combination of features that best separates classes | Extracts uncorrelated components capturing data variability |\n",
    "| **Classes Separation**                       | Maximizes the separation between classes                    | Maximizes variance along principal components              |\n",
    "| **Data Requirement**                         | Requires labeled data for training                          | Works well with unlabeled data                             |\n",
    "| **Complexity Reduction**                     | Focuses on separating classes, less emphasis on reducing complexity | Primarily used to reduce the complexity of a dataset       |\n",
    "| **Ordered Components**                       | Components are ordered based on their contribution to class separation | Components are ordered by the amount of total variance they explain |\n",
    "| **Use Case Example**                         | Face recognition, medical diagnosis                         | Image compression, feature extraction                      |\n",
    "\n"
   ]
  },
  {
   "cell_type": "code",
   "execution_count": 50,
   "id": "17e0024e",
   "metadata": {
    "execution": {
     "iopub.execute_input": "2024-04-14T14:17:58.649341Z",
     "iopub.status.busy": "2024-04-14T14:17:58.648969Z",
     "iopub.status.idle": "2024-04-14T14:17:58.654037Z",
     "shell.execute_reply": "2024-04-14T14:17:58.653307Z"
    },
    "papermill": {
     "duration": 0.042641,
     "end_time": "2024-04-14T14:17:58.655956",
     "exception": false,
     "start_time": "2024-04-14T14:17:58.613315",
     "status": "completed"
    },
    "tags": []
   },
   "outputs": [],
   "source": [
    "X = df.iloc[:,:-1].values\n",
    "y = df.iloc[:,-1].values"
   ]
  },
  {
   "cell_type": "code",
   "execution_count": 51,
   "id": "96e75e85",
   "metadata": {
    "execution": {
     "iopub.execute_input": "2024-04-14T14:17:58.727222Z",
     "iopub.status.busy": "2024-04-14T14:17:58.726890Z",
     "iopub.status.idle": "2024-04-14T14:17:58.767018Z",
     "shell.execute_reply": "2024-04-14T14:17:58.765509Z"
    },
    "papermill": {
     "duration": 0.079168,
     "end_time": "2024-04-14T14:17:58.770345",
     "exception": false,
     "start_time": "2024-04-14T14:17:58.691177",
     "status": "completed"
    },
    "tags": []
   },
   "outputs": [
    {
     "name": "stdout",
     "output_type": "stream",
     "text": [
      "Original Data shape: (569, 25) \n",
      "Modified Data shape: (569, 1)\n"
     ]
    }
   ],
   "source": [
    "# Create an instance of LinearDiscriminantAnalysis\n",
    "lda = LinearDiscriminantAnalysis()\n",
    "# Fit the model to the data and transform the data using the fit\n",
    "X_lda = lda.fit_transform(X, y)\n",
    "# Print the shape of the original data and the transformed data\n",
    "print(\"Original Data shape:\",X.shape, \"\\nModified Data shape:\", X_lda.shape)"
   ]
  },
  {
   "cell_type": "code",
   "execution_count": 52,
   "id": "fab5598b",
   "metadata": {
    "execution": {
     "iopub.execute_input": "2024-04-14T14:17:58.922314Z",
     "iopub.status.busy": "2024-04-14T14:17:58.921944Z",
     "iopub.status.idle": "2024-04-14T14:17:58.927503Z",
     "shell.execute_reply": "2024-04-14T14:17:58.926745Z"
    },
    "papermill": {
     "duration": 0.043234,
     "end_time": "2024-04-14T14:17:58.929371",
     "exception": false,
     "start_time": "2024-04-14T14:17:58.886137",
     "status": "completed"
    },
    "tags": []
   },
   "outputs": [],
   "source": [
    "X_train, X_test, y_train, y_test = train_test_split(X_lda, y, test_size=0.2, random_state=42)"
   ]
  },
  {
   "cell_type": "code",
   "execution_count": 53,
   "id": "354e6523",
   "metadata": {
    "execution": {
     "iopub.execute_input": "2024-04-14T14:17:58.998669Z",
     "iopub.status.busy": "2024-04-14T14:17:58.998380Z",
     "iopub.status.idle": "2024-04-14T14:17:59.007146Z",
     "shell.execute_reply": "2024-04-14T14:17:59.006431Z"
    },
    "papermill": {
     "duration": 0.045629,
     "end_time": "2024-04-14T14:17:59.008937",
     "exception": false,
     "start_time": "2024-04-14T14:17:58.963308",
     "status": "completed"
    },
    "tags": []
   },
   "outputs": [
    {
     "data": {
      "text/plain": [
       "LinearDiscriminantAnalysis()"
      ]
     },
     "execution_count": 53,
     "metadata": {},
     "output_type": "execute_result"
    }
   ],
   "source": [
    "lda.fit(X_train, y_train)"
   ]
  },
  {
   "cell_type": "markdown",
   "id": "b486f0b2",
   "metadata": {
    "papermill": {
     "duration": 0.03382,
     "end_time": "2024-04-14T14:17:59.076898",
     "exception": false,
     "start_time": "2024-04-14T14:17:59.043078",
     "status": "completed"
    },
    "tags": []
   },
   "source": [
    "<center>\n",
    "<div style=\"color:;\n",
    "           display:fill;\n",
    "           border-radius:5px;\n",
    "           background-color: royalblue;\n",
    "           font-size:110%;\n",
    "           letter-spacing:0.5px\">\n",
    "\n",
    "<h2 style=\"padding: 10px;\n",
    "              color:white;\">LDA Predictions and Performance\n",
    "    \n",
    "</h2>\n",
    "</div>\n",
    "</center>"
   ]
  },
  {
   "cell_type": "code",
   "execution_count": 54,
   "id": "c83aea8e",
   "metadata": {
    "execution": {
     "iopub.execute_input": "2024-04-14T14:17:59.146392Z",
     "iopub.status.busy": "2024-04-14T14:17:59.146067Z",
     "iopub.status.idle": "2024-04-14T14:17:59.206179Z",
     "shell.execute_reply": "2024-04-14T14:17:59.205443Z"
    },
    "papermill": {
     "duration": 0.096981,
     "end_time": "2024-04-14T14:17:59.208170",
     "exception": false,
     "start_time": "2024-04-14T14:17:59.111189",
     "status": "completed"
    },
    "tags": []
   },
   "outputs": [
    {
     "data": {
      "text/html": [
       "<div>                            <div id=\"c975ed4c-ca1a-459c-9637-f887ad82bf8d\" class=\"plotly-graph-div\" style=\"height:525px; width:100%;\"></div>            <script type=\"text/javascript\">                require([\"plotly\"], function(Plotly) {                    window.PLOTLYENV=window.PLOTLYENV || {};                                    if (document.getElementById(\"c975ed4c-ca1a-459c-9637-f887ad82bf8d\")) {                    Plotly.newPlot(                        \"c975ed4c-ca1a-459c-9637-f887ad82bf8d\",                        [{\"coloraxis\":\"coloraxis\",\"name\":\"0\",\"texttemplate\":\"%{z}\",\"z\":[[0.899,0.101],[0.003,0.997]],\"type\":\"heatmap\",\"xaxis\":\"x\",\"yaxis\":\"y\",\"hovertemplate\":\"Predicted Label: %{x}<br>Correct Label: %{y}<br>Value: %{z}<extra></extra>\"}],                        {\"template\":{\"data\":{\"barpolar\":[{\"marker\":{\"line\":{\"color\":\"white\",\"width\":0.5},\"pattern\":{\"fillmode\":\"overlay\",\"size\":10,\"solidity\":0.2}},\"type\":\"barpolar\"}],\"bar\":[{\"error_x\":{\"color\":\"rgb(36,36,36)\"},\"error_y\":{\"color\":\"rgb(36,36,36)\"},\"marker\":{\"line\":{\"color\":\"white\",\"width\":0.5},\"pattern\":{\"fillmode\":\"overlay\",\"size\":10,\"solidity\":0.2}},\"type\":\"bar\"}],\"carpet\":[{\"aaxis\":{\"endlinecolor\":\"rgb(36,36,36)\",\"gridcolor\":\"white\",\"linecolor\":\"white\",\"minorgridcolor\":\"white\",\"startlinecolor\":\"rgb(36,36,36)\"},\"baxis\":{\"endlinecolor\":\"rgb(36,36,36)\",\"gridcolor\":\"white\",\"linecolor\":\"white\",\"minorgridcolor\":\"white\",\"startlinecolor\":\"rgb(36,36,36)\"},\"type\":\"carpet\"}],\"choropleth\":[{\"colorbar\":{\"outlinewidth\":1,\"tickcolor\":\"rgb(36,36,36)\",\"ticks\":\"outside\"},\"type\":\"choropleth\"}],\"contourcarpet\":[{\"colorbar\":{\"outlinewidth\":1,\"tickcolor\":\"rgb(36,36,36)\",\"ticks\":\"outside\"},\"type\":\"contourcarpet\"}],\"contour\":[{\"colorbar\":{\"outlinewidth\":1,\"tickcolor\":\"rgb(36,36,36)\",\"ticks\":\"outside\"},\"colorscale\":[[0.0,\"#440154\"],[0.1111111111111111,\"#482878\"],[0.2222222222222222,\"#3e4989\"],[0.3333333333333333,\"#31688e\"],[0.4444444444444444,\"#26828e\"],[0.5555555555555556,\"#1f9e89\"],[0.6666666666666666,\"#35b779\"],[0.7777777777777778,\"#6ece58\"],[0.8888888888888888,\"#b5de2b\"],[1.0,\"#fde725\"]],\"type\":\"contour\"}],\"heatmapgl\":[{\"colorbar\":{\"outlinewidth\":1,\"tickcolor\":\"rgb(36,36,36)\",\"ticks\":\"outside\"},\"colorscale\":[[0.0,\"#440154\"],[0.1111111111111111,\"#482878\"],[0.2222222222222222,\"#3e4989\"],[0.3333333333333333,\"#31688e\"],[0.4444444444444444,\"#26828e\"],[0.5555555555555556,\"#1f9e89\"],[0.6666666666666666,\"#35b779\"],[0.7777777777777778,\"#6ece58\"],[0.8888888888888888,\"#b5de2b\"],[1.0,\"#fde725\"]],\"type\":\"heatmapgl\"}],\"heatmap\":[{\"colorbar\":{\"outlinewidth\":1,\"tickcolor\":\"rgb(36,36,36)\",\"ticks\":\"outside\"},\"colorscale\":[[0.0,\"#440154\"],[0.1111111111111111,\"#482878\"],[0.2222222222222222,\"#3e4989\"],[0.3333333333333333,\"#31688e\"],[0.4444444444444444,\"#26828e\"],[0.5555555555555556,\"#1f9e89\"],[0.6666666666666666,\"#35b779\"],[0.7777777777777778,\"#6ece58\"],[0.8888888888888888,\"#b5de2b\"],[1.0,\"#fde725\"]],\"type\":\"heatmap\"}],\"histogram2dcontour\":[{\"colorbar\":{\"outlinewidth\":1,\"tickcolor\":\"rgb(36,36,36)\",\"ticks\":\"outside\"},\"colorscale\":[[0.0,\"#440154\"],[0.1111111111111111,\"#482878\"],[0.2222222222222222,\"#3e4989\"],[0.3333333333333333,\"#31688e\"],[0.4444444444444444,\"#26828e\"],[0.5555555555555556,\"#1f9e89\"],[0.6666666666666666,\"#35b779\"],[0.7777777777777778,\"#6ece58\"],[0.8888888888888888,\"#b5de2b\"],[1.0,\"#fde725\"]],\"type\":\"histogram2dcontour\"}],\"histogram2d\":[{\"colorbar\":{\"outlinewidth\":1,\"tickcolor\":\"rgb(36,36,36)\",\"ticks\":\"outside\"},\"colorscale\":[[0.0,\"#440154\"],[0.1111111111111111,\"#482878\"],[0.2222222222222222,\"#3e4989\"],[0.3333333333333333,\"#31688e\"],[0.4444444444444444,\"#26828e\"],[0.5555555555555556,\"#1f9e89\"],[0.6666666666666666,\"#35b779\"],[0.7777777777777778,\"#6ece58\"],[0.8888888888888888,\"#b5de2b\"],[1.0,\"#fde725\"]],\"type\":\"histogram2d\"}],\"histogram\":[{\"marker\":{\"line\":{\"color\":\"white\",\"width\":0.6}},\"type\":\"histogram\"}],\"mesh3d\":[{\"colorbar\":{\"outlinewidth\":1,\"tickcolor\":\"rgb(36,36,36)\",\"ticks\":\"outside\"},\"type\":\"mesh3d\"}],\"parcoords\":[{\"line\":{\"colorbar\":{\"outlinewidth\":1,\"tickcolor\":\"rgb(36,36,36)\",\"ticks\":\"outside\"}},\"type\":\"parcoords\"}],\"pie\":[{\"automargin\":true,\"type\":\"pie\"}],\"scatter3d\":[{\"line\":{\"colorbar\":{\"outlinewidth\":1,\"tickcolor\":\"rgb(36,36,36)\",\"ticks\":\"outside\"}},\"marker\":{\"colorbar\":{\"outlinewidth\":1,\"tickcolor\":\"rgb(36,36,36)\",\"ticks\":\"outside\"}},\"type\":\"scatter3d\"}],\"scattercarpet\":[{\"marker\":{\"colorbar\":{\"outlinewidth\":1,\"tickcolor\":\"rgb(36,36,36)\",\"ticks\":\"outside\"}},\"type\":\"scattercarpet\"}],\"scattergeo\":[{\"marker\":{\"colorbar\":{\"outlinewidth\":1,\"tickcolor\":\"rgb(36,36,36)\",\"ticks\":\"outside\"}},\"type\":\"scattergeo\"}],\"scattergl\":[{\"marker\":{\"colorbar\":{\"outlinewidth\":1,\"tickcolor\":\"rgb(36,36,36)\",\"ticks\":\"outside\"}},\"type\":\"scattergl\"}],\"scattermapbox\":[{\"marker\":{\"colorbar\":{\"outlinewidth\":1,\"tickcolor\":\"rgb(36,36,36)\",\"ticks\":\"outside\"}},\"type\":\"scattermapbox\"}],\"scatterpolargl\":[{\"marker\":{\"colorbar\":{\"outlinewidth\":1,\"tickcolor\":\"rgb(36,36,36)\",\"ticks\":\"outside\"}},\"type\":\"scatterpolargl\"}],\"scatterpolar\":[{\"marker\":{\"colorbar\":{\"outlinewidth\":1,\"tickcolor\":\"rgb(36,36,36)\",\"ticks\":\"outside\"}},\"type\":\"scatterpolar\"}],\"scatter\":[{\"fillpattern\":{\"fillmode\":\"overlay\",\"size\":10,\"solidity\":0.2},\"type\":\"scatter\"}],\"scatterternary\":[{\"marker\":{\"colorbar\":{\"outlinewidth\":1,\"tickcolor\":\"rgb(36,36,36)\",\"ticks\":\"outside\"}},\"type\":\"scatterternary\"}],\"surface\":[{\"colorbar\":{\"outlinewidth\":1,\"tickcolor\":\"rgb(36,36,36)\",\"ticks\":\"outside\"},\"colorscale\":[[0.0,\"#440154\"],[0.1111111111111111,\"#482878\"],[0.2222222222222222,\"#3e4989\"],[0.3333333333333333,\"#31688e\"],[0.4444444444444444,\"#26828e\"],[0.5555555555555556,\"#1f9e89\"],[0.6666666666666666,\"#35b779\"],[0.7777777777777778,\"#6ece58\"],[0.8888888888888888,\"#b5de2b\"],[1.0,\"#fde725\"]],\"type\":\"surface\"}],\"table\":[{\"cells\":{\"fill\":{\"color\":\"rgb(237,237,237)\"},\"line\":{\"color\":\"white\"}},\"header\":{\"fill\":{\"color\":\"rgb(217,217,217)\"},\"line\":{\"color\":\"white\"}},\"type\":\"table\"}]},\"layout\":{\"annotationdefaults\":{\"arrowhead\":0,\"arrowwidth\":1},\"autotypenumbers\":\"strict\",\"coloraxis\":{\"colorbar\":{\"outlinewidth\":1,\"tickcolor\":\"rgb(36,36,36)\",\"ticks\":\"outside\"}},\"colorscale\":{\"diverging\":[[0.0,\"rgb(103,0,31)\"],[0.1,\"rgb(178,24,43)\"],[0.2,\"rgb(214,96,77)\"],[0.3,\"rgb(244,165,130)\"],[0.4,\"rgb(253,219,199)\"],[0.5,\"rgb(247,247,247)\"],[0.6,\"rgb(209,229,240)\"],[0.7,\"rgb(146,197,222)\"],[0.8,\"rgb(67,147,195)\"],[0.9,\"rgb(33,102,172)\"],[1.0,\"rgb(5,48,97)\"]],\"sequential\":[[0.0,\"#440154\"],[0.1111111111111111,\"#482878\"],[0.2222222222222222,\"#3e4989\"],[0.3333333333333333,\"#31688e\"],[0.4444444444444444,\"#26828e\"],[0.5555555555555556,\"#1f9e89\"],[0.6666666666666666,\"#35b779\"],[0.7777777777777778,\"#6ece58\"],[0.8888888888888888,\"#b5de2b\"],[1.0,\"#fde725\"]],\"sequentialminus\":[[0.0,\"#440154\"],[0.1111111111111111,\"#482878\"],[0.2222222222222222,\"#3e4989\"],[0.3333333333333333,\"#31688e\"],[0.4444444444444444,\"#26828e\"],[0.5555555555555556,\"#1f9e89\"],[0.6666666666666666,\"#35b779\"],[0.7777777777777778,\"#6ece58\"],[0.8888888888888888,\"#b5de2b\"],[1.0,\"#fde725\"]]},\"colorway\":[\"#1F77B4\",\"#FF7F0E\",\"#2CA02C\",\"#D62728\",\"#9467BD\",\"#8C564B\",\"#E377C2\",\"#7F7F7F\",\"#BCBD22\",\"#17BECF\"],\"font\":{\"color\":\"rgb(36,36,36)\"},\"geo\":{\"bgcolor\":\"white\",\"lakecolor\":\"white\",\"landcolor\":\"white\",\"showlakes\":true,\"showland\":true,\"subunitcolor\":\"white\"},\"hoverlabel\":{\"align\":\"left\"},\"hovermode\":\"closest\",\"mapbox\":{\"style\":\"light\"},\"paper_bgcolor\":\"white\",\"plot_bgcolor\":\"white\",\"polar\":{\"angularaxis\":{\"gridcolor\":\"rgb(232,232,232)\",\"linecolor\":\"rgb(36,36,36)\",\"showgrid\":false,\"showline\":true,\"ticks\":\"outside\"},\"bgcolor\":\"white\",\"radialaxis\":{\"gridcolor\":\"rgb(232,232,232)\",\"linecolor\":\"rgb(36,36,36)\",\"showgrid\":false,\"showline\":true,\"ticks\":\"outside\"}},\"scene\":{\"xaxis\":{\"backgroundcolor\":\"white\",\"gridcolor\":\"rgb(232,232,232)\",\"gridwidth\":2,\"linecolor\":\"rgb(36,36,36)\",\"showbackground\":true,\"showgrid\":false,\"showline\":true,\"ticks\":\"outside\",\"zeroline\":false,\"zerolinecolor\":\"rgb(36,36,36)\"},\"yaxis\":{\"backgroundcolor\":\"white\",\"gridcolor\":\"rgb(232,232,232)\",\"gridwidth\":2,\"linecolor\":\"rgb(36,36,36)\",\"showbackground\":true,\"showgrid\":false,\"showline\":true,\"ticks\":\"outside\",\"zeroline\":false,\"zerolinecolor\":\"rgb(36,36,36)\"},\"zaxis\":{\"backgroundcolor\":\"white\",\"gridcolor\":\"rgb(232,232,232)\",\"gridwidth\":2,\"linecolor\":\"rgb(36,36,36)\",\"showbackground\":true,\"showgrid\":false,\"showline\":true,\"ticks\":\"outside\",\"zeroline\":false,\"zerolinecolor\":\"rgb(36,36,36)\"}},\"shapedefaults\":{\"fillcolor\":\"black\",\"line\":{\"width\":0},\"opacity\":0.3},\"ternary\":{\"aaxis\":{\"gridcolor\":\"rgb(232,232,232)\",\"linecolor\":\"rgb(36,36,36)\",\"showgrid\":false,\"showline\":true,\"ticks\":\"outside\"},\"baxis\":{\"gridcolor\":\"rgb(232,232,232)\",\"linecolor\":\"rgb(36,36,36)\",\"showgrid\":false,\"showline\":true,\"ticks\":\"outside\"},\"bgcolor\":\"white\",\"caxis\":{\"gridcolor\":\"rgb(232,232,232)\",\"linecolor\":\"rgb(36,36,36)\",\"showgrid\":false,\"showline\":true,\"ticks\":\"outside\"}},\"title\":{\"x\":0.05},\"xaxis\":{\"automargin\":true,\"gridcolor\":\"rgb(232,232,232)\",\"linecolor\":\"rgb(36,36,36)\",\"showgrid\":false,\"showline\":true,\"ticks\":\"outside\",\"title\":{\"standoff\":15},\"zeroline\":false,\"zerolinecolor\":\"rgb(36,36,36)\"},\"yaxis\":{\"automargin\":true,\"gridcolor\":\"rgb(232,232,232)\",\"linecolor\":\"rgb(36,36,36)\",\"showgrid\":false,\"showline\":true,\"ticks\":\"outside\",\"title\":{\"standoff\":15},\"zeroline\":false,\"zerolinecolor\":\"rgb(36,36,36)\"}}},\"xaxis\":{\"anchor\":\"y\",\"domain\":[0.0,1.0],\"title\":{\"text\":\"Predicted Label\"},\"side\":\"bottom\"},\"yaxis\":{\"anchor\":\"x\",\"domain\":[0.0,1.0],\"autorange\":\"reversed\",\"title\":{\"text\":\"Correct Label\"}},\"coloraxis\":{\"colorbar\":{\"title\":{\"text\":\"Value\"}},\"colorscale\":[[0.0,\"#440154\"],[0.1111111111111111,\"#482878\"],[0.2222222222222222,\"#3e4989\"],[0.3333333333333333,\"#31688e\"],[0.4444444444444444,\"#26828e\"],[0.5555555555555556,\"#1f9e89\"],[0.6666666666666666,\"#35b779\"],[0.7777777777777778,\"#6ece58\"],[0.8888888888888888,\"#b5de2b\"],[1.0,\"#fde725\"]]},\"margin\":{\"t\":60}},                        {\"responsive\": true}                    ).then(function(){\n",
       "                            \n",
       "var gd = document.getElementById('c975ed4c-ca1a-459c-9637-f887ad82bf8d');\n",
       "var x = new MutationObserver(function (mutations, observer) {{\n",
       "        var display = window.getComputedStyle(gd).display;\n",
       "        if (!display || display === 'none') {{\n",
       "            console.log([gd, 'removed!']);\n",
       "            Plotly.purge(gd);\n",
       "            observer.disconnect();\n",
       "        }}\n",
       "}});\n",
       "\n",
       "// Listen for the removal of the full notebook cells\n",
       "var notebookContainer = gd.closest('#notebook-container');\n",
       "if (notebookContainer) {{\n",
       "    x.observe(notebookContainer, {childList: true});\n",
       "}}\n",
       "\n",
       "// Listen for the clearing of the current output cell\n",
       "var outputEl = gd.closest('.output');\n",
       "if (outputEl) {{\n",
       "    x.observe(outputEl, {childList: true});\n",
       "}}\n",
       "\n",
       "                        })                };                });            </script>        </div>"
      ]
     },
     "metadata": {},
     "output_type": "display_data"
    }
   ],
   "source": [
    "LDAtrain_preds = lda.predict(X_train)\n",
    "confusionmatrix = np.around(confusion_matrix(y_train, LDAtrain_preds, normalize='true'),3)\n",
    "\n",
    "#Plotting the Confusion Matrix\n",
    "fig = px.imshow(confusionmatrix, \n",
    "                template='simple_white',\n",
    "                text_auto=True, \n",
    "                aspect=\"auto\", \n",
    "                labels=dict(x=\"Predicted Label\", y=\"Correct Label\", color='Value'))\n",
    "fig.update_xaxes(side=\"bottom\")\n",
    "fig.show()"
   ]
  },
  {
   "cell_type": "code",
   "execution_count": 55,
   "id": "ee6bee84",
   "metadata": {
    "execution": {
     "iopub.execute_input": "2024-04-14T14:17:59.281028Z",
     "iopub.status.busy": "2024-04-14T14:17:59.280717Z",
     "iopub.status.idle": "2024-04-14T14:17:59.549460Z",
     "shell.execute_reply": "2024-04-14T14:17:59.548678Z"
    },
    "papermill": {
     "duration": 0.306969,
     "end_time": "2024-04-14T14:17:59.551519",
     "exception": false,
     "start_time": "2024-04-14T14:17:59.244550",
     "status": "completed"
    },
    "tags": []
   },
   "outputs": [
    {
     "data": {
      "image/png": "[encoded data removed]",
      "text/plain": [
       "<Figure size 2200x500 with 1 Axes>"
      ]
     },
     "metadata": {
      "needs_background": "light"
     },
     "output_type": "display_data"
    }
   ],
   "source": [
    "# Assuming you have your model predictions and true labels\n",
    "y_pred = lda.predict(X_train)  # Replace with your model's predictions\n",
    "fpr, tpr, thresholds = roc_curve(y_train, y_pred)\n",
    "\n",
    "# Calculate AUC (Area Under the ROC Curve)\n",
    "auc = roc_auc_score(y_train, y_pred)\n",
    "\n",
    "# Plot the ROC curve\n",
    "plt.figure()\n",
    "plt.plot(fpr, tpr, label='LDA ROC curve (AUC = {:.2f})'.format(auc))\n",
    "plt.plot([0, 1], [0, 1], 'k--')  # Random guessing line\n",
    "plt.xlim([0.0, 1.0])\n",
    "plt.ylim([0.0, 1.05])\n",
    "\n",
    "plt.gca().spines['top'].set_visible(False)\n",
    "plt.gca().spines['right'].set_visible(False)\n",
    "plt.xlabel('False Positive Rate')\n",
    "plt.ylabel('True Positive Rate')\n",
    "plt.title('LDA ROC Curve')\n",
    "plt.legend(loc=\"lower right\")\n",
    "plt.show()"
   ]
  },
  {
   "cell_type": "code",
   "execution_count": 56,
   "id": "8c5b7e6c",
   "metadata": {
    "execution": {
     "iopub.execute_input": "2024-04-14T14:17:59.625125Z",
     "iopub.status.busy": "2024-04-14T14:17:59.624780Z",
     "iopub.status.idle": "2024-04-14T14:17:59.630405Z",
     "shell.execute_reply": "2024-04-14T14:17:59.629599Z"
    },
    "papermill": {
     "duration": 0.044324,
     "end_time": "2024-04-14T14:17:59.632375",
     "exception": false,
     "start_time": "2024-04-14T14:17:59.588051",
     "status": "completed"
    },
    "tags": []
   },
   "outputs": [
    {
     "name": "stdout",
     "output_type": "stream",
     "text": [
      "18 / 455 cases misclassified by LDA, Error rate : 3.956%.\n"
     ]
    }
   ],
   "source": [
    "misclassified_count = len(y_train[y_train != LDAtrain_preds])\n",
    "total_cases = len(y_train)\n",
    "error_rate = np.around((misclassified_count / total_cases) * 100, 3)\n",
    "\n",
    "print(f\"{misclassified_count} / {total_cases} cases misclassified by LDA, Error rate : {error_rate}%.\")"
   ]
  },
  {
   "cell_type": "markdown",
   "id": "fe7472e3",
   "metadata": {
    "papermill": {
     "duration": 0.035097,
     "end_time": "2024-04-14T14:17:59.703286",
     "exception": false,
     "start_time": "2024-04-14T14:17:59.668189",
     "status": "completed"
    },
    "tags": []
   },
   "source": [
    "There are bunch of models that we can use however with **Logistic Regression** its easier to explain to the relevant stakeholders, especially when we are in a setting where the stakeholder is a patient hanging between life & death.\n",
    "\n",
    "<center>\n",
    "<div style=\"color:;\n",
    "           display:fill;\n",
    "           border-radius:5px;\n",
    "           background-color: mediumseagreen;\n",
    "           font-size:110%;\n",
    "           letter-spacing:0.5px\">\n",
    "\n",
    "<h2 style=\"padding: 10px;\n",
    "              color:white;\">Summary of the notebook\n",
    "    \n",
    "</h2>\n",
    "</div>\n",
    "</center>\n",
    "\n",
    "1. The notebook began with an introduction to the breast cancer dataset, highlighting its significance in cancer research. It emphasized the need for effective feature extraction techniques to uncover meaningful patterns within the data.\n",
    "\n",
    "2. Comprehensive explanation of PCA was provided, outlining its core principles and application in reducing the dimensionality of a dataset while preserving its essential variance. The emphasis was on transforming the original features into a new set of uncorrelated variables, known as principal components. We also learnt that you can create the `class weight` dictionary and ensure each class weightage comes out the same and then this parameter can be given to the model to make better predictions for cases where there is a class imbalance.\n",
    "\n",
    "3. The notebook demonstrated the step-by-step implementation of PCA on the breast cancer dataset using a popular Python library, likely scikit-learn. This involved standardizing the data, computing the covariance matrix, obtaining eigenvalues and eigenvectors, and finally, selecting the principal components. We also delved into how Eigenvalues and Eigenvectors get calculated.\n",
    "\n",
    "4. Visualizations, such as scree plots and cumulative explained variance plots, were included to illustrate the contribution of each principal component to the overall variance. These visuals aided in determining the optimal number of principal components to retain.\n",
    "\n",
    "5. While the notebook briefly touched upon Linear Discriminant Analysis (LDA), the primary focus remained on contrasting PCA's unsupervised nature with LDA's supervised approach. The key distinction was likely highlighted in terms of maximizing variance (PCA) versus maximizing class separability (LDA).\n",
    "\n",
    "6. Metrics, such as explained variance ratio, cumulative explained variance, and possibly reconstruction error, were discussed to evaluate the performance of PCA in capturing and retaining the essential information present in the breast cancer dataset.\n",
    "\n",
    "7. The notebook concluded with an interpretation of the results, emphasizing the utility of PCA in reducing the dimensionality of the higher dimension dataset while retaining a significant portion of the original information. We also found that Linear Discriminant Analysis (LDA) can be applied to multiclass classification problems however it fails to create a new axis that makes the classes linearly seperable.\n",
    "\n",
    "<center>\n",
    "<div style=\"color:;\n",
    "           display:fill;\n",
    "           border-radius:5px;\n",
    "           background-color: mediumseagreen;\n",
    "           font-size:110%;\n",
    "           letter-spacing:0.5px\">\n",
    "\n",
    "<h2 style=\"padding: 10px;\n",
    "              color:white;\">Resources\n",
    "    \n",
    "</h2>\n",
    "</div>\n",
    "</center>\n",
    "\n",
    "\n",
    "- Support Vector Machine — Introduction to Machine Learning Algorithms - [Link](https://bit.ly/3RrTXFB)\n",
    "- Linear Algebra II: Matrix Operations - [Link](https://github.com/jonkrohn/ML-foundations/blob/master/notebooks/2-linear-algebra-ii.ipynb)\n",
    "- Linear Discriminant Analysis (LDA) in Machine Learning - [Link](https://bit.ly/49XBMPf)\n",
    "\n",
    "I HOPE THIS HELPED YOU IN SOME WAY. THANKS FOR TAKING OUT THE TIME TO GO THROUGH THE NOTEBOOK!!"
   ]
  }
 ],
 "metadata": {
  "kaggle": {
   "accelerator": "gpu",
   "dataSources": [
    {
     "datasetId": 180,
     "sourceId": 408,
     "sourceType": "datasetVersion"
    },
    {
     "datasetId": 3681,
     "sourceId": 5854,
     "sourceType": "datasetVersion"
    },
    {
     "datasetId": 56485,
     "sourceId": 108594,
     "sourceType": "datasetVersion"
    },
    {
     "datasetId": 59,
     "sourceId": 793476,
     "sourceType": "datasetVersion"
    },
    {
     "datasetId": 1514897,
     "sourceId": 2501723,
     "sourceType": "datasetVersion"
    },
    {
     "datasetId": 1829286,
     "sourceId": 2984728,
     "sourceType": "datasetVersion"
    },
    {
     "datasetId": 2158143,
     "sourceId": 3819198,
     "sourceType": "datasetVersion"
    },
    {
     "datasetId": 2396275,
     "sourceId": 4045493,
     "sourceType": "datasetVersion"
    }
   ],
   "dockerImageVersionId": 30198,
   "isGpuEnabled": true,
   "isInternetEnabled": true,
   "language": "python",
   "sourceType": "notebook"
  },
  "kernelspec": {
   "display_name": "Python 3",
   "language": "python",
   "name": "python3"
  },
  "language_info": {
   "codemirror_mode": {
    "name": "ipython",
    "version": 3
   },
   "file_extension": ".py",
   "mimetype": "text/x-python",
   "name": "python",
   "nbconvert_exporter": "python",
   "pygments_lexer": "ipython3",
   "version": "3.7.12"
  },
  "papermill": {
   "default_parameters": {},
   "duration": 24.961827,
   "end_time": "2024-04-14T14:18:00.758879",
   "environment_variables": {},
   "exception": null,
   "input_path": "__notebook__.ipynb",
   "output_path": "__notebook__.ipynb",
   "parameters": {},
   "start_time": "2024-04-14T14:17:35.797052",
   "version": "2.3.4"
  }
 },
 "nbformat": 4,
 "nbformat_minor": 5
}
