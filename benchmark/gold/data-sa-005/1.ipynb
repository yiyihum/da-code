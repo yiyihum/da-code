{
 "cells": [
  {
   "cell_type": "code",
   "execution_count": 2,
   "metadata": {},
   "outputs": [
    {
     "name": "stdout",
     "output_type": "stream",
     "text": [
      "52\n"
     ]
    }
   ],
   "source": [
    "from sympy import *\n",
    "\n",
    "# Define symbols\n",
    "x, y, k, l = symbols('x y k l', real=True)\n",
    "\n",
    "# Define the parabola and line equations\n",
    "parabola = k*x**2 - 2*k*x + l\n",
    "line = 4\n",
    "\n",
    "# Solve for the intersection points\n",
    "intersection_points = solve(Eq(parabola, line), x)\n",
    "\n",
    "# Extract the x-coordinates of the intersection points\n",
    "x1, x2 = intersection_points\n",
    "\n",
    "# Calculate the y-coordinate (it's the same for both points)\n",
    "y1 = line\n",
    "\n",
    "# Calculate the distance between the two points\n",
    "distance = sqrt((x2 - x1)**2 + (y1 - y1)**2)\n",
    "\n",
    "# Set up the equation for the distance\n",
    "distance_eq = Eq(distance, 6)\n",
    "\n",
    "# Solve the equation for k\n",
    "k_sol = solve(distance_eq, k)[0]\n",
    "\n",
    "# Substitute the value of k into the x-coordinates\n",
    "x1_sol = x1.subs(k, k_sol)\n",
    "x2_sol = x2.subs(k, k_sol)\n",
    "\n",
    "# Calculate the distances from the points to the origin\n",
    "dist1 = sqrt(x1_sol**2 + y1**2)\n",
    "dist2 = sqrt(x2_sol**2 + y1**2)\n",
    "\n",
    "# Calculate the sum of the squares of the distances\n",
    "sum_of_squares = simplify(dist1**2 + dist2**2)\n",
    "\n",
    "print(sum_of_squares)\n"
   ]
  }
 ],
 "metadata": {
  "kernelspec": {
   "display_name": "cv",
   "language": "python",
   "name": "python3"
  },
  "language_info": {
   "codemirror_mode": {
    "name": "ipython",
    "version": 3
   },
   "file_extension": ".py",
   "mimetype": "text/x-python",
   "name": "python",
   "nbconvert_exporter": "python",
   "pygments_lexer": "ipython3",
   "version": "3.9.18"
  },
  "orig_nbformat": 4
 },
 "nbformat": 4,
 "nbformat_minor": 2
}
