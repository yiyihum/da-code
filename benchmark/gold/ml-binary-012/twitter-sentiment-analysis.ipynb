{
 "cells": [
  {
   "cell_type": "markdown",
   "id": "771e3784",
   "metadata": {
    "papermill": {
     "duration": 0.017787,
     "end_time": "2024-01-29T16:31:51.118715",
     "exception": false,
     "start_time": "2024-01-29T16:31:51.100928",
     "status": "completed"
    },
    "tags": []
   },
   "source": [
    "<h3>Table of Contents:</h3>\n",
    "<div>\n",
    "<ol>\n",
    "    <li><a href=\"#il\">Importing Libraries</a></li>\n",
    "    <li><a href=\"#rd\">Reading the Data</a></li>\n",
    "    <li><a href=\"#td\">Detailed analysis of train data</a></li>\n",
    "    <li><a href=\"#ct\">Cleaning and Tokenization</a></li>\n",
    "    <li><a href=\"#lt\">Lemmatization</a></li>\n",
    "    <li><a href=\"#sv\">Splitting the Dataset</a></li>\n",
    "    <li><a href=\"#tf\">Tfidf Vectorization</a></li>\n",
    "    <li><a href=\"#lc\">Linear SVC</a></li>\n",
    "    <li><a href=\"#lr\">Logistic Regression</a></li>\n",
    "</ol>\n",
    "</div>"
   ]
  },
  {
   "cell_type": "markdown",
   "id": "b0a263bb",
   "metadata": {
    "papermill": {
     "duration": 0.016844,
     "end_time": "2024-01-29T16:31:51.152766",
     "exception": false,
     "start_time": "2024-01-29T16:31:51.135922",
     "status": "completed"
    },
    "tags": []
   },
   "source": [
    "<div id = 'il'>\n",
    "<h3\n",
    "   style=\"color:green;\"  >1. Importing Libraries</h3>\n",
    "</div>"
   ]
  },
  {
   "cell_type": "code",
   "execution_count": 1,
   "id": "5330c233",
   "metadata": {
    "_cell_guid": "b1076dfc-b9ad-4769-8c92-a6c4dae69d19",
    "_uuid": "8f2839f25d086af736a60e9eeb907d3b93b6e0e5",
    "execution": {
     "iopub.execute_input": "2024-01-29T16:31:51.190193Z",
     "iopub.status.busy": "2024-01-29T16:31:51.189886Z",
     "iopub.status.idle": "2024-01-29T16:32:07.064531Z",
     "shell.execute_reply": "2024-01-29T16:32:07.063685Z"
    },
    "papermill": {
     "duration": 15.895668,
     "end_time": "2024-01-29T16:32:07.067094",
     "exception": false,
     "start_time": "2024-01-29T16:31:51.171426",
     "status": "completed"
    },
    "tags": []
   },
   "outputs": [
    {
     "name": "stderr",
     "output_type": "stream",
     "text": [
      "/opt/conda/lib/python3.10/site-packages/scipy/__init__.py:146: UserWarning: A NumPy version >=1.16.5 and <1.23.0 is required for this version of SciPy (detected version 1.24.3\n",
      "  warnings.warn(f\"A NumPy version >={np_minversion} and <{np_maxversion}\"\n"
     ]
    }
   ],
   "source": [
    "import pandas as pd\n",
    "import re\n",
    "import emoji\n",
    "import spacy\n",
    "import nltk\n",
    "from nltk.corpus import stopwords\n",
    "from nltk.tokenize import word_tokenize\n",
    "from nltk.tokenize import word_tokenize\n",
    "from nltk.stem import WordNetLemmatizer\n",
    "from sklearn.feature_extraction.text import TfidfVectorizer\n",
    "from nltk.tokenize import word_tokenize\n",
    "from sklearn.model_selection import train_test_split\n",
    "from sklearn.metrics import confusion_matrix, classification_report"
   ]
  },
  {
   "cell_type": "markdown",
   "id": "1fc7d19b",
   "metadata": {
    "papermill": {
     "duration": 0.016849,
     "end_time": "2024-01-29T16:32:07.101471",
     "exception": false,
     "start_time": "2024-01-29T16:32:07.084622",
     "status": "completed"
    },
    "tags": []
   },
   "source": [
    "<div id = \"rd\">\n",
    "<h3\n",
    "   style=\"color:green;\"  >2. Reading the Data</h3>\n",
    "</div>"
   ]
  },
  {
   "cell_type": "code",
   "execution_count": 2,
   "id": "64348807",
   "metadata": {
    "execution": {
     "iopub.execute_input": "2024-01-29T16:32:07.136875Z",
     "iopub.status.busy": "2024-01-29T16:32:07.136301Z",
     "iopub.status.idle": "2024-01-29T16:32:13.381622Z",
     "shell.execute_reply": "2024-01-29T16:32:13.380783Z"
    },
    "papermill": {
     "duration": 6.265598,
     "end_time": "2024-01-29T16:32:13.383954",
     "exception": false,
     "start_time": "2024-01-29T16:32:07.118356",
     "status": "completed"
    },
    "tags": []
   },
   "outputs": [],
   "source": [
    "train_df = pd.read_csv(\"/kaggle/input/sentiment-analysis/training.1600000.processed.noemoticon.csv\",encoding='latin-1', header=None)\n",
    "\n",
    "test_df= pd.read_csv(\"/kaggle/input/sentiment-analysis/testdata.manual.2009.06.14.csv\",header = None)"
   ]
  },
  {
   "cell_type": "markdown",
   "id": "11801b37",
   "metadata": {
    "papermill": {
     "duration": 0.016609,
     "end_time": "2024-01-29T16:32:13.418312",
     "exception": false,
     "start_time": "2024-01-29T16:32:13.401703",
     "status": "completed"
    },
    "tags": []
   },
   "source": [
    "<h4\n",
    "   style=\"color:brown;\" >Quick Inspection of data</h4>\n"
   ]
  },
  {
   "cell_type": "markdown",
   "id": "f761b6cd",
   "metadata": {
    "papermill": {
     "duration": 0.016469,
     "end_time": "2024-01-29T16:32:13.451569",
     "exception": false,
     "start_time": "2024-01-29T16:32:13.435100",
     "status": "completed"
    },
    "tags": []
   },
   "source": [
    "<h5\n",
    "   style=\"color:blue;\" >1. Inspection of Training data</h3>"
   ]
  },
  {
   "cell_type": "code",
   "execution_count": 3,
   "id": "cc6a7ae6",
   "metadata": {
    "execution": {
     "iopub.execute_input": "2024-01-29T16:32:13.486405Z",
     "iopub.status.busy": "2024-01-29T16:32:13.486072Z",
     "iopub.status.idle": "2024-01-29T16:32:13.509957Z",
     "shell.execute_reply": "2024-01-29T16:32:13.509098Z"
    },
    "papermill": {
     "duration": 0.043647,
     "end_time": "2024-01-29T16:32:13.511932",
     "exception": false,
     "start_time": "2024-01-29T16:32:13.468285",
     "status": "completed"
    },
    "tags": []
   },
   "outputs": [
    {
     "data": {
      "text/html": [
       "<div>\n",
       "<style scoped>\n",
       "    .dataframe tbody tr th:only-of-type {\n",
       "        vertical-align: middle;\n",
       "    }\n",
       "\n",
       "    .dataframe tbody tr th {\n",
       "        vertical-align: top;\n",
       "    }\n",
       "\n",
       "    .dataframe thead th {\n",
       "        text-align: right;\n",
       "    }\n",
       "</style>\n",
       "<table border=\"1\" class=\"dataframe\">\n",
       "  <thead>\n",
       "    <tr style=\"text-align: right;\">\n",
       "      <th></th>\n",
       "      <th>0</th>\n",
       "      <th>1</th>\n",
       "      <th>2</th>\n",
       "      <th>3</th>\n",
       "      <th>4</th>\n",
       "      <th>5</th>\n",
       "    </tr>\n",
       "  </thead>\n",
       "  <tbody>\n",
       "    <tr>\n",
       "      <th>0</th>\n",
       "      <td>0</td>\n",
       "      <td>1467810369</td>\n",
       "      <td>Mon Apr 06 22:19:45 PDT 2009</td>\n",
       "      <td>NO_QUERY</td>\n",
       "      <td>_TheSpecialOne_</td>\n",
       "      <td>@switchfoot http://twitpic.com/2y1zl - Awww, t...</td>\n",
       "    </tr>\n",
       "    <tr>\n",
       "      <th>1</th>\n",
       "      <td>0</td>\n",
       "      <td>1467810672</td>\n",
       "      <td>Mon Apr 06 22:19:49 PDT 2009</td>\n",
       "      <td>NO_QUERY</td>\n",
       "      <td>scotthamilton</td>\n",
       "      <td>is upset that he can't update his Facebook by ...</td>\n",
       "    </tr>\n",
       "    <tr>\n",
       "      <th>2</th>\n",
       "      <td>0</td>\n",
       "      <td>1467810917</td>\n",
       "      <td>Mon Apr 06 22:19:53 PDT 2009</td>\n",
       "      <td>NO_QUERY</td>\n",
       "      <td>mattycus</td>\n",
       "      <td>@Kenichan I dived many times for the ball. Man...</td>\n",
       "    </tr>\n",
       "    <tr>\n",
       "      <th>3</th>\n",
       "      <td>0</td>\n",
       "      <td>1467811184</td>\n",
       "      <td>Mon Apr 06 22:19:57 PDT 2009</td>\n",
       "      <td>NO_QUERY</td>\n",
       "      <td>ElleCTF</td>\n",
       "      <td>my whole body feels itchy and like its on fire</td>\n",
       "    </tr>\n",
       "    <tr>\n",
       "      <th>4</th>\n",
       "      <td>0</td>\n",
       "      <td>1467811193</td>\n",
       "      <td>Mon Apr 06 22:19:57 PDT 2009</td>\n",
       "      <td>NO_QUERY</td>\n",
       "      <td>Karoli</td>\n",
       "      <td>@nationwideclass no, it's not behaving at all....</td>\n",
       "    </tr>\n",
       "    <tr>\n",
       "      <th>5</th>\n",
       "      <td>0</td>\n",
       "      <td>1467811372</td>\n",
       "      <td>Mon Apr 06 22:20:00 PDT 2009</td>\n",
       "      <td>NO_QUERY</td>\n",
       "      <td>joy_wolf</td>\n",
       "      <td>@Kwesidei not the whole crew</td>\n",
       "    </tr>\n",
       "    <tr>\n",
       "      <th>6</th>\n",
       "      <td>0</td>\n",
       "      <td>1467811592</td>\n",
       "      <td>Mon Apr 06 22:20:03 PDT 2009</td>\n",
       "      <td>NO_QUERY</td>\n",
       "      <td>mybirch</td>\n",
       "      <td>Need a hug</td>\n",
       "    </tr>\n",
       "    <tr>\n",
       "      <th>7</th>\n",
       "      <td>0</td>\n",
       "      <td>1467811594</td>\n",
       "      <td>Mon Apr 06 22:20:03 PDT 2009</td>\n",
       "      <td>NO_QUERY</td>\n",
       "      <td>coZZ</td>\n",
       "      <td>@LOLTrish hey  long time no see! Yes.. Rains a...</td>\n",
       "    </tr>\n",
       "    <tr>\n",
       "      <th>8</th>\n",
       "      <td>0</td>\n",
       "      <td>1467811795</td>\n",
       "      <td>Mon Apr 06 22:20:05 PDT 2009</td>\n",
       "      <td>NO_QUERY</td>\n",
       "      <td>2Hood4Hollywood</td>\n",
       "      <td>@Tatiana_K nope they didn't have it</td>\n",
       "    </tr>\n",
       "    <tr>\n",
       "      <th>9</th>\n",
       "      <td>0</td>\n",
       "      <td>1467812025</td>\n",
       "      <td>Mon Apr 06 22:20:09 PDT 2009</td>\n",
       "      <td>NO_QUERY</td>\n",
       "      <td>mimismo</td>\n",
       "      <td>@twittera que me muera ?</td>\n",
       "    </tr>\n",
       "    <tr>\n",
       "      <th>10</th>\n",
       "      <td>0</td>\n",
       "      <td>1467812416</td>\n",
       "      <td>Mon Apr 06 22:20:16 PDT 2009</td>\n",
       "      <td>NO_QUERY</td>\n",
       "      <td>erinx3leannexo</td>\n",
       "      <td>spring break in plain city... it's snowing</td>\n",
       "    </tr>\n",
       "    <tr>\n",
       "      <th>11</th>\n",
       "      <td>0</td>\n",
       "      <td>1467812579</td>\n",
       "      <td>Mon Apr 06 22:20:17 PDT 2009</td>\n",
       "      <td>NO_QUERY</td>\n",
       "      <td>pardonlauren</td>\n",
       "      <td>I just re-pierced my ears</td>\n",
       "    </tr>\n",
       "    <tr>\n",
       "      <th>12</th>\n",
       "      <td>0</td>\n",
       "      <td>1467812723</td>\n",
       "      <td>Mon Apr 06 22:20:19 PDT 2009</td>\n",
       "      <td>NO_QUERY</td>\n",
       "      <td>TLeC</td>\n",
       "      <td>@caregiving I couldn't bear to watch it.  And ...</td>\n",
       "    </tr>\n",
       "    <tr>\n",
       "      <th>13</th>\n",
       "      <td>0</td>\n",
       "      <td>1467812771</td>\n",
       "      <td>Mon Apr 06 22:20:19 PDT 2009</td>\n",
       "      <td>NO_QUERY</td>\n",
       "      <td>robrobbierobert</td>\n",
       "      <td>@octolinz16 It it counts, idk why I did either...</td>\n",
       "    </tr>\n",
       "    <tr>\n",
       "      <th>14</th>\n",
       "      <td>0</td>\n",
       "      <td>1467812784</td>\n",
       "      <td>Mon Apr 06 22:20:20 PDT 2009</td>\n",
       "      <td>NO_QUERY</td>\n",
       "      <td>bayofwolves</td>\n",
       "      <td>@smarrison i would've been the first, but i di...</td>\n",
       "    </tr>\n",
       "  </tbody>\n",
       "</table>\n",
       "</div>"
      ],
      "text/plain": [
       "    0           1                             2         3                4  \\\n",
       "0   0  1467810369  Mon Apr 06 22:19:45 PDT 2009  NO_QUERY  _TheSpecialOne_   \n",
       "1   0  1467810672  Mon Apr 06 22:19:49 PDT 2009  NO_QUERY    scotthamilton   \n",
       "2   0  1467810917  Mon Apr 06 22:19:53 PDT 2009  NO_QUERY         mattycus   \n",
       "3   0  1467811184  Mon Apr 06 22:19:57 PDT 2009  NO_QUERY          ElleCTF   \n",
       "4   0  1467811193  Mon Apr 06 22:19:57 PDT 2009  NO_QUERY           Karoli   \n",
       "5   0  1467811372  Mon Apr 06 22:20:00 PDT 2009  NO_QUERY         joy_wolf   \n",
       "6   0  1467811592  Mon Apr 06 22:20:03 PDT 2009  NO_QUERY          mybirch   \n",
       "7   0  1467811594  Mon Apr 06 22:20:03 PDT 2009  NO_QUERY             coZZ   \n",
       "8   0  1467811795  Mon Apr 06 22:20:05 PDT 2009  NO_QUERY  2Hood4Hollywood   \n",
       "9   0  1467812025  Mon Apr 06 22:20:09 PDT 2009  NO_QUERY          mimismo   \n",
       "10  0  1467812416  Mon Apr 06 22:20:16 PDT 2009  NO_QUERY   erinx3leannexo   \n",
       "11  0  1467812579  Mon Apr 06 22:20:17 PDT 2009  NO_QUERY     pardonlauren   \n",
       "12  0  1467812723  Mon Apr 06 22:20:19 PDT 2009  NO_QUERY             TLeC   \n",
       "13  0  1467812771  Mon Apr 06 22:20:19 PDT 2009  NO_QUERY  robrobbierobert   \n",
       "14  0  1467812784  Mon Apr 06 22:20:20 PDT 2009  NO_QUERY      bayofwolves   \n",
       "\n",
       "                                                    5  \n",
       "0   @switchfoot http://twitpic.com/2y1zl - Awww, t...  \n",
       "1   is upset that he can't update his Facebook by ...  \n",
       "2   @Kenichan I dived many times for the ball. Man...  \n",
       "3     my whole body feels itchy and like its on fire   \n",
       "4   @nationwideclass no, it's not behaving at all....  \n",
       "5                       @Kwesidei not the whole crew   \n",
       "6                                         Need a hug   \n",
       "7   @LOLTrish hey  long time no see! Yes.. Rains a...  \n",
       "8                @Tatiana_K nope they didn't have it   \n",
       "9                           @twittera que me muera ?   \n",
       "10        spring break in plain city... it's snowing   \n",
       "11                         I just re-pierced my ears   \n",
       "12  @caregiving I couldn't bear to watch it.  And ...  \n",
       "13  @octolinz16 It it counts, idk why I did either...  \n",
       "14  @smarrison i would've been the first, but i di...  "
      ]
     },
     "execution_count": 3,
     "metadata": {},
     "output_type": "execute_result"
    }
   ],
   "source": [
    "train_df.head(15)"
   ]
  },
  {
   "cell_type": "markdown",
   "id": "6247d50f",
   "metadata": {
    "papermill": {
     "duration": 0.017353,
     "end_time": "2024-01-29T16:32:13.586603",
     "exception": false,
     "start_time": "2024-01-29T16:32:13.569250",
     "status": "completed"
    },
    "tags": []
   },
   "source": [
    "<div>\n",
    "<h5\n",
    "   style=\"color:blue;\" >Upon initial Inspection of train data these were my observations:</h5>\n",
    "<ul >\n",
    "     <li>Data has no column names</li>\n",
    "     <li>Column 0 is target label</li>\n",
    "     <li>I need to check if column 3 has any significance</li>\n",
    "     <li>The main Text data in column 5 is raw data with links, mentions, stopwords, puntuations, emojis etc</li>\n",
    "     \n",
    "</ul>\n",
    "</div>\n",
    "\n",
    "\n",
    "\n",
    "\n",
    "\n",
    "\n",
    "\n",
    "\n"
   ]
  },
  {
   "cell_type": "code",
   "execution_count": 4,
   "id": "2c88418f",
   "metadata": {
    "execution": {
     "iopub.execute_input": "2024-01-29T16:32:13.622737Z",
     "iopub.status.busy": "2024-01-29T16:32:13.622391Z",
     "iopub.status.idle": "2024-01-29T16:32:13.634669Z",
     "shell.execute_reply": "2024-01-29T16:32:13.633881Z"
    },
    "papermill": {
     "duration": 0.032391,
     "end_time": "2024-01-29T16:32:13.636593",
     "exception": false,
     "start_time": "2024-01-29T16:32:13.604202",
     "status": "completed"
    },
    "tags": []
   },
   "outputs": [
    {
     "data": {
      "text/html": [
       "<div>\n",
       "<style scoped>\n",
       "    .dataframe tbody tr th:only-of-type {\n",
       "        vertical-align: middle;\n",
       "    }\n",
       "\n",
       "    .dataframe tbody tr th {\n",
       "        vertical-align: top;\n",
       "    }\n",
       "\n",
       "    .dataframe thead th {\n",
       "        text-align: right;\n",
       "    }\n",
       "</style>\n",
       "<table border=\"1\" class=\"dataframe\">\n",
       "  <thead>\n",
       "    <tr style=\"text-align: right;\">\n",
       "      <th></th>\n",
       "      <th>0</th>\n",
       "      <th>1</th>\n",
       "      <th>2</th>\n",
       "      <th>3</th>\n",
       "      <th>4</th>\n",
       "      <th>5</th>\n",
       "    </tr>\n",
       "  </thead>\n",
       "  <tbody>\n",
       "    <tr>\n",
       "      <th>0</th>\n",
       "      <td>4</td>\n",
       "      <td>3</td>\n",
       "      <td>Mon May 11 03:17:40 UTC 2009</td>\n",
       "      <td>kindle2</td>\n",
       "      <td>tpryan</td>\n",
       "      <td>@stellargirl I loooooooovvvvvveee my Kindle2. ...</td>\n",
       "    </tr>\n",
       "    <tr>\n",
       "      <th>1</th>\n",
       "      <td>4</td>\n",
       "      <td>4</td>\n",
       "      <td>Mon May 11 03:18:03 UTC 2009</td>\n",
       "      <td>kindle2</td>\n",
       "      <td>vcu451</td>\n",
       "      <td>Reading my kindle2...  Love it... Lee childs i...</td>\n",
       "    </tr>\n",
       "    <tr>\n",
       "      <th>2</th>\n",
       "      <td>4</td>\n",
       "      <td>5</td>\n",
       "      <td>Mon May 11 03:18:54 UTC 2009</td>\n",
       "      <td>kindle2</td>\n",
       "      <td>chadfu</td>\n",
       "      <td>Ok, first assesment of the #kindle2 ...it fuck...</td>\n",
       "    </tr>\n",
       "    <tr>\n",
       "      <th>3</th>\n",
       "      <td>4</td>\n",
       "      <td>6</td>\n",
       "      <td>Mon May 11 03:19:04 UTC 2009</td>\n",
       "      <td>kindle2</td>\n",
       "      <td>SIX15</td>\n",
       "      <td>@kenburbary You'll love your Kindle2. I've had...</td>\n",
       "    </tr>\n",
       "    <tr>\n",
       "      <th>4</th>\n",
       "      <td>4</td>\n",
       "      <td>7</td>\n",
       "      <td>Mon May 11 03:21:41 UTC 2009</td>\n",
       "      <td>kindle2</td>\n",
       "      <td>yamarama</td>\n",
       "      <td>@mikefish  Fair enough. But i have the Kindle2...</td>\n",
       "    </tr>\n",
       "    <tr>\n",
       "      <th>5</th>\n",
       "      <td>4</td>\n",
       "      <td>8</td>\n",
       "      <td>Mon May 11 03:22:00 UTC 2009</td>\n",
       "      <td>kindle2</td>\n",
       "      <td>GeorgeVHulme</td>\n",
       "      <td>@richardebaker no. it is too big. I'm quite ha...</td>\n",
       "    </tr>\n",
       "    <tr>\n",
       "      <th>6</th>\n",
       "      <td>0</td>\n",
       "      <td>9</td>\n",
       "      <td>Mon May 11 03:22:30 UTC 2009</td>\n",
       "      <td>aig</td>\n",
       "      <td>Seth937</td>\n",
       "      <td>Fuck this economy. I hate aig and their non lo...</td>\n",
       "    </tr>\n",
       "    <tr>\n",
       "      <th>7</th>\n",
       "      <td>4</td>\n",
       "      <td>10</td>\n",
       "      <td>Mon May 11 03:26:10 UTC 2009</td>\n",
       "      <td>jquery</td>\n",
       "      <td>dcostalis</td>\n",
       "      <td>Jquery is my new best friend.</td>\n",
       "    </tr>\n",
       "    <tr>\n",
       "      <th>8</th>\n",
       "      <td>4</td>\n",
       "      <td>11</td>\n",
       "      <td>Mon May 11 03:27:15 UTC 2009</td>\n",
       "      <td>twitter</td>\n",
       "      <td>PJ_King</td>\n",
       "      <td>Loves twitter</td>\n",
       "    </tr>\n",
       "    <tr>\n",
       "      <th>9</th>\n",
       "      <td>4</td>\n",
       "      <td>12</td>\n",
       "      <td>Mon May 11 03:29:20 UTC 2009</td>\n",
       "      <td>obama</td>\n",
       "      <td>mandanicole</td>\n",
       "      <td>how can you not love Obama? he makes jokes abo...</td>\n",
       "    </tr>\n",
       "    <tr>\n",
       "      <th>10</th>\n",
       "      <td>2</td>\n",
       "      <td>13</td>\n",
       "      <td>Mon May 11 03:32:42 UTC 2009</td>\n",
       "      <td>obama</td>\n",
       "      <td>jpeb</td>\n",
       "      <td>Check this video out -- President Obama at the...</td>\n",
       "    </tr>\n",
       "    <tr>\n",
       "      <th>11</th>\n",
       "      <td>0</td>\n",
       "      <td>14</td>\n",
       "      <td>Mon May 11 03:32:48 UTC 2009</td>\n",
       "      <td>obama</td>\n",
       "      <td>kylesellers</td>\n",
       "      <td>@Karoli I firmly believe that Obama/Pelosi hav...</td>\n",
       "    </tr>\n",
       "    <tr>\n",
       "      <th>12</th>\n",
       "      <td>4</td>\n",
       "      <td>15</td>\n",
       "      <td>Mon May 11 03:33:38 UTC 2009</td>\n",
       "      <td>obama</td>\n",
       "      <td>theviewfans</td>\n",
       "      <td>House Correspondents dinner was last night who...</td>\n",
       "    </tr>\n",
       "    <tr>\n",
       "      <th>13</th>\n",
       "      <td>4</td>\n",
       "      <td>16</td>\n",
       "      <td>Mon May 11 05:05:58 UTC 2009</td>\n",
       "      <td>nike</td>\n",
       "      <td>MumsFP</td>\n",
       "      <td>Watchin Espn..Jus seen this new Nike Commerica...</td>\n",
       "    </tr>\n",
       "    <tr>\n",
       "      <th>14</th>\n",
       "      <td>0</td>\n",
       "      <td>17</td>\n",
       "      <td>Mon May 11 05:06:22 UTC 2009</td>\n",
       "      <td>nike</td>\n",
       "      <td>vincentx24x</td>\n",
       "      <td>dear nike, stop with the flywire. that shit is...</td>\n",
       "    </tr>\n",
       "  </tbody>\n",
       "</table>\n",
       "</div>"
      ],
      "text/plain": [
       "    0   1                             2        3             4  \\\n",
       "0   4   3  Mon May 11 03:17:40 UTC 2009  kindle2        tpryan   \n",
       "1   4   4  Mon May 11 03:18:03 UTC 2009  kindle2        vcu451   \n",
       "2   4   5  Mon May 11 03:18:54 UTC 2009  kindle2        chadfu   \n",
       "3   4   6  Mon May 11 03:19:04 UTC 2009  kindle2         SIX15   \n",
       "4   4   7  Mon May 11 03:21:41 UTC 2009  kindle2      yamarama   \n",
       "5   4   8  Mon May 11 03:22:00 UTC 2009  kindle2  GeorgeVHulme   \n",
       "6   0   9  Mon May 11 03:22:30 UTC 2009      aig       Seth937   \n",
       "7   4  10  Mon May 11 03:26:10 UTC 2009   jquery     dcostalis   \n",
       "8   4  11  Mon May 11 03:27:15 UTC 2009  twitter       PJ_King   \n",
       "9   4  12  Mon May 11 03:29:20 UTC 2009    obama   mandanicole   \n",
       "10  2  13  Mon May 11 03:32:42 UTC 2009    obama          jpeb   \n",
       "11  0  14  Mon May 11 03:32:48 UTC 2009    obama   kylesellers   \n",
       "12  4  15  Mon May 11 03:33:38 UTC 2009    obama   theviewfans   \n",
       "13  4  16  Mon May 11 05:05:58 UTC 2009     nike        MumsFP   \n",
       "14  0  17  Mon May 11 05:06:22 UTC 2009     nike   vincentx24x   \n",
       "\n",
       "                                                    5  \n",
       "0   @stellargirl I loooooooovvvvvveee my Kindle2. ...  \n",
       "1   Reading my kindle2...  Love it... Lee childs i...  \n",
       "2   Ok, first assesment of the #kindle2 ...it fuck...  \n",
       "3   @kenburbary You'll love your Kindle2. I've had...  \n",
       "4   @mikefish  Fair enough. But i have the Kindle2...  \n",
       "5   @richardebaker no. it is too big. I'm quite ha...  \n",
       "6   Fuck this economy. I hate aig and their non lo...  \n",
       "7                       Jquery is my new best friend.  \n",
       "8                                       Loves twitter  \n",
       "9   how can you not love Obama? he makes jokes abo...  \n",
       "10  Check this video out -- President Obama at the...  \n",
       "11  @Karoli I firmly believe that Obama/Pelosi hav...  \n",
       "12  House Correspondents dinner was last night who...  \n",
       "13  Watchin Espn..Jus seen this new Nike Commerica...  \n",
       "14  dear nike, stop with the flywire. that shit is...  "
      ]
     },
     "execution_count": 4,
     "metadata": {},
     "output_type": "execute_result"
    }
   ],
   "source": [
    "test_df.head(15)"
   ]
  },
  {
   "cell_type": "markdown",
   "id": "61d7a4ac",
   "metadata": {
    "papermill": {
     "duration": 0.017394,
     "end_time": "2024-01-29T16:32:13.671548",
     "exception": false,
     "start_time": "2024-01-29T16:32:13.654154",
     "status": "completed"
    },
    "tags": []
   },
   "source": [
    "\n",
    "\n",
    "<div>\n",
    "<h5\n",
    "   style=\"color:blue;\" >Upon initial Inspection of test data these were my observations:</h5>\n",
    "<ul >\n",
    "     <li>Data has no column names</li>\n",
    "     <li>Column 0 is target label</li>\n",
    "     <li>Column 2 is date and time of the respective tweets</li>\n",
    "     <li>Column 3 Might be the Topic of tweets </li>\n",
    "     <li>The main Text data in column 5 is raw data with links,mentions,stopwords, emojis, puntuations etc</li>\n",
    "     \n",
    "</ul>\n",
    "</div>\n",
    "\n",
    "\n",
    "\n",
    "\n",
    "\n",
    "\n",
    "\n",
    "\n",
    "\n",
    "\n"
   ]
  },
  {
   "cell_type": "markdown",
   "id": "c66f4421",
   "metadata": {
    "papermill": {
     "duration": 0.017243,
     "end_time": "2024-01-29T16:32:13.706275",
     "exception": false,
     "start_time": "2024-01-29T16:32:13.689032",
     "status": "completed"
    },
    "tags": []
   },
   "source": [
    "\n",
    "<h4\n",
    "   style=\"color:brown;\" >Giving data Column names:</h4>\n"
   ]
  },
  {
   "cell_type": "code",
   "execution_count": 5,
   "id": "d4e80108",
   "metadata": {
    "execution": {
     "iopub.execute_input": "2024-01-29T16:32:13.744156Z",
     "iopub.status.busy": "2024-01-29T16:32:13.743900Z",
     "iopub.status.idle": "2024-01-29T16:32:13.748568Z",
     "shell.execute_reply": "2024-01-29T16:32:13.747781Z"
    },
    "papermill": {
     "duration": 0.026511,
     "end_time": "2024-01-29T16:32:13.750570",
     "exception": false,
     "start_time": "2024-01-29T16:32:13.724059",
     "status": "completed"
    },
    "tags": []
   },
   "outputs": [],
   "source": [
    "train_df.columns = ['Sentiment','Id', 'Time', 'Query','User', 'Text']\n",
    "\n",
    "\n",
    "\n",
    "test_df.columns = ['Sentiment','Id', 'Time', 'Topic','User', 'Text']"
   ]
  },
  {
   "cell_type": "code",
   "execution_count": 6,
   "id": "2bd079fd",
   "metadata": {
    "execution": {
     "iopub.execute_input": "2024-01-29T16:32:13.786493Z",
     "iopub.status.busy": "2024-01-29T16:32:13.786202Z",
     "iopub.status.idle": "2024-01-29T16:32:14.382337Z",
     "shell.execute_reply": "2024-01-29T16:32:14.381417Z"
    },
    "papermill": {
     "duration": 0.616649,
     "end_time": "2024-01-29T16:32:14.384668",
     "exception": false,
     "start_time": "2024-01-29T16:32:13.768019",
     "status": "completed"
    },
    "tags": []
   },
   "outputs": [
    {
     "name": "stdout",
     "output_type": "stream",
     "text": [
      "<class 'pandas.core.frame.DataFrame'>\n",
      "RangeIndex: 1600000 entries, 0 to 1599999\n",
      "Data columns (total 6 columns):\n",
      " #   Column     Non-Null Count    Dtype \n",
      "---  ------     --------------    ----- \n",
      " 0   Sentiment  1600000 non-null  int64 \n",
      " 1   Id         1600000 non-null  int64 \n",
      " 2   Time       1600000 non-null  object\n",
      " 3   Query      1600000 non-null  object\n",
      " 4   User       1600000 non-null  object\n",
      " 5   Text       1600000 non-null  object\n",
      "dtypes: int64(2), object(4)\n",
      "memory usage: 73.2+ MB\n"
     ]
    }
   ],
   "source": [
    "train_df.info()"
   ]
  },
  {
   "cell_type": "code",
   "execution_count": 7,
   "id": "2a894512",
   "metadata": {
    "execution": {
     "iopub.execute_input": "2024-01-29T16:32:14.422248Z",
     "iopub.status.busy": "2024-01-29T16:32:14.421598Z",
     "iopub.status.idle": "2024-01-29T16:32:14.430287Z",
     "shell.execute_reply": "2024-01-29T16:32:14.429466Z"
    },
    "papermill": {
     "duration": 0.029611,
     "end_time": "2024-01-29T16:32:14.432534",
     "exception": false,
     "start_time": "2024-01-29T16:32:14.402923",
     "status": "completed"
    },
    "tags": []
   },
   "outputs": [
    {
     "name": "stdout",
     "output_type": "stream",
     "text": [
      "<class 'pandas.core.frame.DataFrame'>\n",
      "RangeIndex: 498 entries, 0 to 497\n",
      "Data columns (total 6 columns):\n",
      " #   Column     Non-Null Count  Dtype \n",
      "---  ------     --------------  ----- \n",
      " 0   Sentiment  498 non-null    int64 \n",
      " 1   Id         498 non-null    int64 \n",
      " 2   Time       498 non-null    object\n",
      " 3   Topic      498 non-null    object\n",
      " 4   User       498 non-null    object\n",
      " 5   Text       498 non-null    object\n",
      "dtypes: int64(2), object(4)\n",
      "memory usage: 23.5+ KB\n"
     ]
    }
   ],
   "source": [
    "test_df.info()"
   ]
  },
  {
   "cell_type": "markdown",
   "id": "b1c9936d",
   "metadata": {
    "papermill": {
     "duration": 0.017821,
     "end_time": "2024-01-29T16:32:14.468122",
     "exception": false,
     "start_time": "2024-01-29T16:32:14.450301",
     "status": "completed"
    },
    "tags": []
   },
   "source": [
    "<strong>There are no null values in both train and test sets</strong>"
   ]
  },
  {
   "cell_type": "markdown",
   "id": "04d7e38a",
   "metadata": {
    "papermill": {
     "duration": 0.017672,
     "end_time": "2024-01-29T16:32:14.503605",
     "exception": false,
     "start_time": "2024-01-29T16:32:14.485933",
     "status": "completed"
    },
    "tags": []
   },
   "source": [
    "<h4\n",
    "   style=\"color:brown;\" >Checking the significance of Query Column:</h4>\n",
    "\n"
   ]
  },
  {
   "cell_type": "code",
   "execution_count": 8,
   "id": "9d25c81c",
   "metadata": {
    "execution": {
     "iopub.execute_input": "2024-01-29T16:32:14.540823Z",
     "iopub.status.busy": "2024-01-29T16:32:14.540070Z",
     "iopub.status.idle": "2024-01-29T16:32:14.766840Z",
     "shell.execute_reply": "2024-01-29T16:32:14.766062Z"
    },
    "papermill": {
     "duration": 0.247436,
     "end_time": "2024-01-29T16:32:14.768755",
     "exception": false,
     "start_time": "2024-01-29T16:32:14.521319",
     "status": "completed"
    },
    "tags": []
   },
   "outputs": [
    {
     "data": {
      "text/plain": [
       "Query\n",
       "NO_QUERY    1600000\n",
       "Name: count, dtype: int64"
      ]
     },
     "execution_count": 8,
     "metadata": {},
     "output_type": "execute_result"
    }
   ],
   "source": [
    "train_df['Query'].value_counts()"
   ]
  },
  {
   "cell_type": "code",
   "execution_count": 9,
   "id": "ad9fcb01",
   "metadata": {
    "execution": {
     "iopub.execute_input": "2024-01-29T16:32:14.806981Z",
     "iopub.status.busy": "2024-01-29T16:32:14.806688Z",
     "iopub.status.idle": "2024-01-29T16:32:15.446949Z",
     "shell.execute_reply": "2024-01-29T16:32:15.445949Z"
    },
    "papermill": {
     "duration": 0.662497,
     "end_time": "2024-01-29T16:32:15.449057",
     "exception": false,
     "start_time": "2024-01-29T16:32:14.786560",
     "status": "completed"
    },
    "tags": []
   },
   "outputs": [
    {
     "data": {
      "image/png": "[encoded data removed]",
      "text/plain": [
       "<Figure size 1000x600 with 1 Axes>"
      ]
     },
     "metadata": {},
     "output_type": "display_data"
    }
   ],
   "source": [
    "import matplotlib.pyplot as plt\n",
    "\n",
    "\n",
    "query_counts = train_df['Query'].value_counts()\n",
    "\n",
    "\n",
    "plt.figure(figsize=(10, 6))  \n",
    "query_counts.plot(kind='bar')\n",
    "plt.title('Query Counts')\n",
    "plt.xlabel('Query')\n",
    "plt.ylabel('Count')\n",
    "plt.xticks(rotation=45)  \n",
    "plt.tight_layout()\n",
    "plt.show()"
   ]
  },
  {
   "cell_type": "markdown",
   "id": "dbfdcb24",
   "metadata": {
    "papermill": {
     "duration": 0.018171,
     "end_time": "2024-01-29T16:32:15.486148",
     "exception": false,
     "start_time": "2024-01-29T16:32:15.467977",
     "status": "completed"
    },
    "tags": []
   },
   "source": [
    "<strong>Since all the values are \"NO_QUERY\" the Query column dosent hold any significance in training a model\"</strong>"
   ]
  },
  {
   "cell_type": "markdown",
   "id": "58e1e4f5",
   "metadata": {
    "papermill": {
     "duration": 0.01823,
     "end_time": "2024-01-29T16:32:15.522971",
     "exception": false,
     "start_time": "2024-01-29T16:32:15.504741",
     "status": "completed"
    },
    "tags": []
   },
   "source": [
    "<h4\n",
    "   style=\"color:brown;\" >Checking Number of unique Labels:</h4>\n",
    "\n"
   ]
  },
  {
   "cell_type": "code",
   "execution_count": 10,
   "id": "45378b6b",
   "metadata": {
    "execution": {
     "iopub.execute_input": "2024-01-29T16:32:15.560715Z",
     "iopub.status.busy": "2024-01-29T16:32:15.560388Z",
     "iopub.status.idle": "2024-01-29T16:32:15.931873Z",
     "shell.execute_reply": "2024-01-29T16:32:15.930898Z"
    },
    "papermill": {
     "duration": 0.392798,
     "end_time": "2024-01-29T16:32:15.934113",
     "exception": false,
     "start_time": "2024-01-29T16:32:15.541315",
     "status": "completed"
    },
    "tags": []
   },
   "outputs": [
    {
     "data": {
      "image/png": "[encoded data removed]",
      "text/plain": [
       "<Figure size 800x600 with 1 Axes>"
      ]
     },
     "metadata": {},
     "output_type": "display_data"
    }
   ],
   "source": [
    "\n",
    "sentiment_counts = train_df['Sentiment'].value_counts()\n",
    "\n",
    "\n",
    "plt.figure(figsize=(8, 6))  \n",
    "sentiment_counts.plot(kind='bar', color='skyblue')\n",
    "plt.title('Sentiment Distribution')\n",
    "plt.xlabel('Sentiment')\n",
    "plt.ylabel('Count')\n",
    "plt.xticks(rotation=45)  \n",
    "plt.tight_layout()\n",
    "plt.show()"
   ]
  },
  {
   "cell_type": "markdown",
   "id": "9909ad63",
   "metadata": {
    "papermill": {
     "duration": 0.018474,
     "end_time": "2024-01-29T16:32:15.972676",
     "exception": false,
     "start_time": "2024-01-29T16:32:15.954202",
     "status": "completed"
    },
    "tags": []
   },
   "source": [
    "<strong>Since there are only two labels they should be positive and negative, from Observation 0 is negative and 4 is positive</strong>"
   ]
  },
  {
   "cell_type": "code",
   "execution_count": 11,
   "id": "6f7d8650",
   "metadata": {
    "execution": {
     "iopub.execute_input": "2024-01-29T16:32:16.010838Z",
     "iopub.status.busy": "2024-01-29T16:32:16.010507Z",
     "iopub.status.idle": "2024-01-29T16:32:16.342496Z",
     "shell.execute_reply": "2024-01-29T16:32:16.341583Z"
    },
    "papermill": {
     "duration": 0.353328,
     "end_time": "2024-01-29T16:32:16.344536",
     "exception": false,
     "start_time": "2024-01-29T16:32:15.991208",
     "status": "completed"
    },
    "tags": []
   },
   "outputs": [
    {
     "data": {
      "image/png": "[encoded data removed]",
      "text/plain": [
       "<Figure size 800x600 with 1 Axes>"
      ]
     },
     "metadata": {},
     "output_type": "display_data"
    }
   ],
   "source": [
    "test_sentiment_counts = test_df['Sentiment'].value_counts()\n",
    "plt.figure(figsize=(8, 6))  \n",
    "test_sentiment_counts.plot(kind='bar', color='skyblue')\n",
    "plt.title('Sentiment Distribution')\n",
    "plt.xlabel('Sentiment')\n",
    "plt.ylabel('Count')\n",
    "plt.xticks(rotation=45)  \n",
    "plt.tight_layout()\n",
    "plt.show()"
   ]
  },
  {
   "cell_type": "markdown",
   "id": "79d04ae9",
   "metadata": {
    "papermill": {
     "duration": 0.018607,
     "end_time": "2024-01-29T16:32:16.382559",
     "exception": false,
     "start_time": "2024-01-29T16:32:16.363952",
     "status": "completed"
    },
    "tags": []
   },
   "source": [
    "<strong>There are no values with sentiment = 2 in the train set so we can not predict sentiment = 2 [neutral],in testset. So we have to drop these values</strong>"
   ]
  },
  {
   "cell_type": "markdown",
   "id": "e3091b82",
   "metadata": {
    "papermill": {
     "duration": 0.019788,
     "end_time": "2024-01-29T16:32:16.421283",
     "exception": false,
     "start_time": "2024-01-29T16:32:16.401495",
     "status": "completed"
    },
    "tags": []
   },
   "source": [
    "<h4\n",
    "   style=\"color:brown;\" >Removing the neutral/'2's from test data::</h4>\n",
    "\n"
   ]
  },
  {
   "cell_type": "code",
   "execution_count": 12,
   "id": "1d60591f",
   "metadata": {
    "execution": {
     "iopub.execute_input": "2024-01-29T16:32:16.460149Z",
     "iopub.status.busy": "2024-01-29T16:32:16.459849Z",
     "iopub.status.idle": "2024-01-29T16:32:16.548027Z",
     "shell.execute_reply": "2024-01-29T16:32:16.547343Z"
    },
    "papermill": {
     "duration": 0.109799,
     "end_time": "2024-01-29T16:32:16.549921",
     "exception": false,
     "start_time": "2024-01-29T16:32:16.440122",
     "status": "completed"
    },
    "tags": []
   },
   "outputs": [],
   "source": [
    "for index, rows in test_df.iterrows():\n",
    "    if rows['Sentiment'] == 2:\n",
    "        test_df = test_df.drop(index)"
   ]
  },
  {
   "cell_type": "code",
   "execution_count": 13,
   "id": "969f3c2f",
   "metadata": {
    "execution": {
     "iopub.execute_input": "2024-01-29T16:32:16.588529Z",
     "iopub.status.busy": "2024-01-29T16:32:16.588273Z",
     "iopub.status.idle": "2024-01-29T16:32:16.913457Z",
     "shell.execute_reply": "2024-01-29T16:32:16.912576Z"
    },
    "papermill": {
     "duration": 0.346781,
     "end_time": "2024-01-29T16:32:16.915492",
     "exception": false,
     "start_time": "2024-01-29T16:32:16.568711",
     "status": "completed"
    },
    "tags": []
   },
   "outputs": [
    {
     "data": {
      "image/png": "[encoded data removed]",
      "text/plain": [
       "<Figure size 800x600 with 1 Axes>"
      ]
     },
     "metadata": {},
     "output_type": "display_data"
    }
   ],
   "source": [
    "test_sentiment_counts = test_df['Sentiment'].value_counts()\n",
    "plt.figure(figsize=(8, 6))  \n",
    "test_sentiment_counts.plot(kind='bar', color='skyblue')\n",
    "plt.title('Sentiment Distribution')\n",
    "plt.xlabel('Sentiment')\n",
    "plt.ylabel('Count')\n",
    "plt.xticks(rotation=45)  \n",
    "plt.tight_layout()\n",
    "plt.show()"
   ]
  },
  {
   "cell_type": "markdown",
   "id": "5a1bb019",
   "metadata": {
    "papermill": {
     "duration": 0.020018,
     "end_time": "2024-01-29T16:32:16.954962",
     "exception": false,
     "start_time": "2024-01-29T16:32:16.934944",
     "status": "completed"
    },
    "tags": []
   },
   "source": [
    "\n",
    "<h3\n",
    "   style=\"color:green;\" >3. Detailed analysis of train data</h3>\n",
    "\n"
   ]
  },
  {
   "cell_type": "markdown",
   "id": "a57f73a2",
   "metadata": {
    "papermill": {
     "duration": 0.018987,
     "end_time": "2024-01-29T16:32:16.993336",
     "exception": false,
     "start_time": "2024-01-29T16:32:16.974349",
     "status": "completed"
    },
    "tags": []
   },
   "source": [
    "<div id = 'td'>\n",
    "<h4\n",
    "   style=\"color:brown;\" >Checking for Duplicates:</h4>\n",
    "</div>\n",
    "\n"
   ]
  },
  {
   "cell_type": "code",
   "execution_count": 14,
   "id": "9767bad5",
   "metadata": {
    "execution": {
     "iopub.execute_input": "2024-01-29T16:32:17.033697Z",
     "iopub.status.busy": "2024-01-29T16:32:17.033401Z",
     "iopub.status.idle": "2024-01-29T16:32:18.863568Z",
     "shell.execute_reply": "2024-01-29T16:32:18.862587Z"
    },
    "papermill": {
     "duration": 1.852877,
     "end_time": "2024-01-29T16:32:18.865876",
     "exception": false,
     "start_time": "2024-01-29T16:32:17.012999",
     "status": "completed"
    },
    "tags": []
   },
   "outputs": [
    {
     "data": {
      "image/png": "[encoded data removed]",
      "text/plain": [
       "<Figure size 600x400 with 1 Axes>"
      ]
     },
     "metadata": {},
     "output_type": "display_data"
    }
   ],
   "source": [
    "# print(\"Number of Duplicates : \",1600000-train_df['Text'].nunique())\n",
    "num_duplicates = 1600000 - train_df['Text'].nunique()\n",
    "\n",
    "plt.figure(figsize=(6, 4))  \n",
    "plt.bar(['Duplicates', 'Unique'], [num_duplicates, train_df['Text'].nunique()], color=['skyblue', 'lightgreen'])\n",
    "plt.title('Duplicate vs. Unique Texts')\n",
    "plt.ylabel('Count')\n",
    "plt.tight_layout()\n",
    "plt.show()"
   ]
  },
  {
   "cell_type": "code",
   "execution_count": 15,
   "id": "0e92263f",
   "metadata": {
    "execution": {
     "iopub.execute_input": "2024-01-29T16:32:18.908010Z",
     "iopub.status.busy": "2024-01-29T16:32:18.907662Z",
     "iopub.status.idle": "2024-01-29T16:32:19.691473Z",
     "shell.execute_reply": "2024-01-29T16:32:19.690282Z"
    },
    "papermill": {
     "duration": 0.807028,
     "end_time": "2024-01-29T16:32:19.693526",
     "exception": false,
     "start_time": "2024-01-29T16:32:18.886498",
     "status": "completed"
    },
    "tags": []
   },
   "outputs": [
    {
     "name": "stdout",
     "output_type": "stream",
     "text": [
      "Number of Duplicates :  18534\n"
     ]
    }
   ],
   "source": [
    "print(\"Number of Duplicates : \",1600000-train_df['Text'].nunique())"
   ]
  },
  {
   "cell_type": "markdown",
   "id": "af4e2564",
   "metadata": {
    "papermill": {
     "duration": 0.021763,
     "end_time": "2024-01-29T16:32:19.735537",
     "exception": false,
     "start_time": "2024-01-29T16:32:19.713774",
     "status": "completed"
    },
    "tags": []
   },
   "source": [
    "\n",
    "\n",
    "<h4\n",
    "   style=\"color:brown;\" >Checking for Null Values:</h4>\n",
    "\n"
   ]
  },
  {
   "cell_type": "code",
   "execution_count": 16,
   "id": "3bfba1e9",
   "metadata": {
    "execution": {
     "iopub.execute_input": "2024-01-29T16:32:19.786310Z",
     "iopub.status.busy": "2024-01-29T16:32:19.785289Z",
     "iopub.status.idle": "2024-01-29T16:32:20.162903Z",
     "shell.execute_reply": "2024-01-29T16:32:20.161956Z"
    },
    "papermill": {
     "duration": 0.405846,
     "end_time": "2024-01-29T16:32:20.165006",
     "exception": false,
     "start_time": "2024-01-29T16:32:19.759160",
     "status": "completed"
    },
    "tags": []
   },
   "outputs": [
    {
     "data": {
      "text/plain": [
       "0"
      ]
     },
     "execution_count": 16,
     "metadata": {},
     "output_type": "execute_result"
    }
   ],
   "source": [
    "(train_df['Text'].isna() | (train_df['Text'] == '')).sum()\n"
   ]
  },
  {
   "cell_type": "code",
   "execution_count": 17,
   "id": "f3cc048c",
   "metadata": {
    "execution": {
     "iopub.execute_input": "2024-01-29T16:32:20.206741Z",
     "iopub.status.busy": "2024-01-29T16:32:20.206431Z",
     "iopub.status.idle": "2024-01-29T16:32:20.213423Z",
     "shell.execute_reply": "2024-01-29T16:32:20.212570Z"
    },
    "papermill": {
     "duration": 0.029735,
     "end_time": "2024-01-29T16:32:20.215411",
     "exception": false,
     "start_time": "2024-01-29T16:32:20.185676",
     "status": "completed"
    },
    "tags": []
   },
   "outputs": [
    {
     "data": {
      "text/plain": [
       "0     @switchfoot http://twitpic.com/2y1zl - Awww, t...\n",
       "1     is upset that he can't update his Facebook by ...\n",
       "2     @Kenichan I dived many times for the ball. Man...\n",
       "3       my whole body feels itchy and like its on fire \n",
       "4     @nationwideclass no, it's not behaving at all....\n",
       "5                         @Kwesidei not the whole crew \n",
       "6                                           Need a hug \n",
       "7     @LOLTrish hey  long time no see! Yes.. Rains a...\n",
       "8                  @Tatiana_K nope they didn't have it \n",
       "9                             @twittera que me muera ? \n",
       "10          spring break in plain city... it's snowing \n",
       "11                           I just re-pierced my ears \n",
       "12    @caregiving I couldn't bear to watch it.  And ...\n",
       "13    @octolinz16 It it counts, idk why I did either...\n",
       "14    @smarrison i would've been the first, but i di...\n",
       "15    @iamjazzyfizzle I wish I got to watch it with ...\n",
       "16    Hollis' death scene will hurt me severely to w...\n",
       "17                                 about to file taxes \n",
       "18    @LettyA ahh ive always wanted to see rent  lov...\n",
       "19    @FakerPattyPattz Oh dear. Were you drinking ou...\n",
       "Name: Text, dtype: object"
      ]
     },
     "execution_count": 17,
     "metadata": {},
     "output_type": "execute_result"
    }
   ],
   "source": [
    "train_df['Text'].head(20)"
   ]
  },
  {
   "cell_type": "markdown",
   "id": "e734662d",
   "metadata": {
    "papermill": {
     "duration": 0.019789,
     "end_time": "2024-01-29T16:32:20.254968",
     "exception": false,
     "start_time": "2024-01-29T16:32:20.235179",
     "status": "completed"
    },
    "tags": []
   },
   "source": [
    "<strong>The text column has both uppercase and lower case letters with lots of stopwords and insignificant data as mentioned in the Initial Inspection</strong>"
   ]
  },
  {
   "cell_type": "markdown",
   "id": "39ac64c1",
   "metadata": {
    "papermill": {
     "duration": 0.019882,
     "end_time": "2024-01-29T16:32:20.294584",
     "exception": false,
     "start_time": "2024-01-29T16:32:20.274702",
     "status": "completed"
    },
    "tags": []
   },
   "source": [
    "\n",
    "<div id = \"ct\">\n",
    "<h3\n",
    "   style=\"color:green;\" >4. Cleaning and Tokenization Function</h3>\n",
    "</div>\n"
   ]
  },
  {
   "cell_type": "code",
   "execution_count": 18,
   "id": "369ef7ec",
   "metadata": {
    "execution": {
     "iopub.execute_input": "2024-01-29T16:32:20.335317Z",
     "iopub.status.busy": "2024-01-29T16:32:20.335052Z",
     "iopub.status.idle": "2024-01-29T16:32:21.555344Z",
     "shell.execute_reply": "2024-01-29T16:32:21.554530Z"
    },
    "papermill": {
     "duration": 1.243345,
     "end_time": "2024-01-29T16:32:21.557697",
     "exception": false,
     "start_time": "2024-01-29T16:32:20.314352",
     "status": "completed"
    },
    "tags": []
   },
   "outputs": [],
   "source": [
    "nlp = spacy.load('en_core_web_sm')\n",
    "def cleanNTokenize(df):\n",
    "\n",
    "#  Removing Emojis: \n",
    "\n",
    "    for col in df.columns:\n",
    "        if col == 'text':\n",
    "            df[col] = df[col].apply(lambda x: emoji.demojize(x))\n",
    "\n",
    "#  Replacing @ Tags with Empty Strings:\n",
    "\n",
    "    pattern = r'@\\w+'\n",
    "    df['Text'] = df['Text'].apply(lambda x: re.sub(pattern, '', str(x)))\n",
    "    \n",
    "#  Replacing # hashtags with Empty Strings: \n",
    "    \n",
    "    pattern = r'#\\w+'\n",
    "    df['Text'] = df['Text'].apply(lambda x: re.sub(pattern, '', str(x)))\n",
    "    \n",
    "    \n",
    "#  Replacing Links with Empty Strings: \n",
    "\n",
    "    pattern = r'http\\S+|www.\\S+'\n",
    "    df['Text'] = df['Text'].str.replace(pattern, '', regex=True)\n",
    "    \n",
    "#  Removing all the stopwords:\n",
    "    \n",
    "    stop_words = set(stopwords.words('english'))\n",
    "    df['Text'] = df['Text'].apply(lambda x: ' '.join([word for word in word_tokenize(x) if word.lower() not in stop_words]))\n",
    "\n",
    "#  Convertin into LowerCase: \n",
    "    \n",
    "    df['Text'] = df['Text'].str.lower()\n",
    "    \n",
    "#  Removing Duplicates: \n",
    "    \n",
    "    df.drop_duplicates(subset='Text', inplace=True)\n",
    "    \n",
    "#  Replacing punctuations with empty Strings: \n",
    "    \n",
    "    df['Text'] = df['Text'].apply(lambda x: re.sub(r'[^\\w\\s]', '', x))\n",
    "\n",
    "#  Finally Tokenizing\n",
    "    \n",
    "    df['tokenized'] = df['Text'].apply(word_tokenize)\n",
    "    \n",
    "    return df"
   ]
  },
  {
   "cell_type": "code",
   "execution_count": 19,
   "id": "83585065",
   "metadata": {
    "execution": {
     "iopub.execute_input": "2024-01-29T16:32:21.599777Z",
     "iopub.status.busy": "2024-01-29T16:32:21.599239Z",
     "iopub.status.idle": "2024-01-29T16:32:21.610777Z",
     "shell.execute_reply": "2024-01-29T16:32:21.609949Z"
    },
    "papermill": {
     "duration": 0.034529,
     "end_time": "2024-01-29T16:32:21.612590",
     "exception": false,
     "start_time": "2024-01-29T16:32:21.578061",
     "status": "completed"
    },
    "tags": []
   },
   "outputs": [
    {
     "data": {
      "text/html": [
       "<div>\n",
       "<style scoped>\n",
       "    .dataframe tbody tr th:only-of-type {\n",
       "        vertical-align: middle;\n",
       "    }\n",
       "\n",
       "    .dataframe tbody tr th {\n",
       "        vertical-align: top;\n",
       "    }\n",
       "\n",
       "    .dataframe thead th {\n",
       "        text-align: right;\n",
       "    }\n",
       "</style>\n",
       "<table border=\"1\" class=\"dataframe\">\n",
       "  <thead>\n",
       "    <tr style=\"text-align: right;\">\n",
       "      <th></th>\n",
       "      <th>Sentiment</th>\n",
       "      <th>Id</th>\n",
       "      <th>Time</th>\n",
       "      <th>Query</th>\n",
       "      <th>User</th>\n",
       "      <th>Text</th>\n",
       "    </tr>\n",
       "  </thead>\n",
       "  <tbody>\n",
       "    <tr>\n",
       "      <th>0</th>\n",
       "      <td>0</td>\n",
       "      <td>1467810369</td>\n",
       "      <td>Mon Apr 06 22:19:45 PDT 2009</td>\n",
       "      <td>NO_QUERY</td>\n",
       "      <td>_TheSpecialOne_</td>\n",
       "      <td>@switchfoot http://twitpic.com/2y1zl - Awww, t...</td>\n",
       "    </tr>\n",
       "    <tr>\n",
       "      <th>1</th>\n",
       "      <td>0</td>\n",
       "      <td>1467810672</td>\n",
       "      <td>Mon Apr 06 22:19:49 PDT 2009</td>\n",
       "      <td>NO_QUERY</td>\n",
       "      <td>scotthamilton</td>\n",
       "      <td>is upset that he can't update his Facebook by ...</td>\n",
       "    </tr>\n",
       "    <tr>\n",
       "      <th>2</th>\n",
       "      <td>0</td>\n",
       "      <td>1467810917</td>\n",
       "      <td>Mon Apr 06 22:19:53 PDT 2009</td>\n",
       "      <td>NO_QUERY</td>\n",
       "      <td>mattycus</td>\n",
       "      <td>@Kenichan I dived many times for the ball. Man...</td>\n",
       "    </tr>\n",
       "    <tr>\n",
       "      <th>3</th>\n",
       "      <td>0</td>\n",
       "      <td>1467811184</td>\n",
       "      <td>Mon Apr 06 22:19:57 PDT 2009</td>\n",
       "      <td>NO_QUERY</td>\n",
       "      <td>ElleCTF</td>\n",
       "      <td>my whole body feels itchy and like its on fire</td>\n",
       "    </tr>\n",
       "    <tr>\n",
       "      <th>4</th>\n",
       "      <td>0</td>\n",
       "      <td>1467811193</td>\n",
       "      <td>Mon Apr 06 22:19:57 PDT 2009</td>\n",
       "      <td>NO_QUERY</td>\n",
       "      <td>Karoli</td>\n",
       "      <td>@nationwideclass no, it's not behaving at all....</td>\n",
       "    </tr>\n",
       "    <tr>\n",
       "      <th>5</th>\n",
       "      <td>0</td>\n",
       "      <td>1467811372</td>\n",
       "      <td>Mon Apr 06 22:20:00 PDT 2009</td>\n",
       "      <td>NO_QUERY</td>\n",
       "      <td>joy_wolf</td>\n",
       "      <td>@Kwesidei not the whole crew</td>\n",
       "    </tr>\n",
       "    <tr>\n",
       "      <th>6</th>\n",
       "      <td>0</td>\n",
       "      <td>1467811592</td>\n",
       "      <td>Mon Apr 06 22:20:03 PDT 2009</td>\n",
       "      <td>NO_QUERY</td>\n",
       "      <td>mybirch</td>\n",
       "      <td>Need a hug</td>\n",
       "    </tr>\n",
       "    <tr>\n",
       "      <th>7</th>\n",
       "      <td>0</td>\n",
       "      <td>1467811594</td>\n",
       "      <td>Mon Apr 06 22:20:03 PDT 2009</td>\n",
       "      <td>NO_QUERY</td>\n",
       "      <td>coZZ</td>\n",
       "      <td>@LOLTrish hey  long time no see! Yes.. Rains a...</td>\n",
       "    </tr>\n",
       "    <tr>\n",
       "      <th>8</th>\n",
       "      <td>0</td>\n",
       "      <td>1467811795</td>\n",
       "      <td>Mon Apr 06 22:20:05 PDT 2009</td>\n",
       "      <td>NO_QUERY</td>\n",
       "      <td>2Hood4Hollywood</td>\n",
       "      <td>@Tatiana_K nope they didn't have it</td>\n",
       "    </tr>\n",
       "    <tr>\n",
       "      <th>9</th>\n",
       "      <td>0</td>\n",
       "      <td>1467812025</td>\n",
       "      <td>Mon Apr 06 22:20:09 PDT 2009</td>\n",
       "      <td>NO_QUERY</td>\n",
       "      <td>mimismo</td>\n",
       "      <td>@twittera que me muera ?</td>\n",
       "    </tr>\n",
       "  </tbody>\n",
       "</table>\n",
       "</div>"
      ],
      "text/plain": [
       "   Sentiment          Id                          Time     Query  \\\n",
       "0          0  1467810369  Mon Apr 06 22:19:45 PDT 2009  NO_QUERY   \n",
       "1          0  1467810672  Mon Apr 06 22:19:49 PDT 2009  NO_QUERY   \n",
       "2          0  1467810917  Mon Apr 06 22:19:53 PDT 2009  NO_QUERY   \n",
       "3          0  1467811184  Mon Apr 06 22:19:57 PDT 2009  NO_QUERY   \n",
       "4          0  1467811193  Mon Apr 06 22:19:57 PDT 2009  NO_QUERY   \n",
       "5          0  1467811372  Mon Apr 06 22:20:00 PDT 2009  NO_QUERY   \n",
       "6          0  1467811592  Mon Apr 06 22:20:03 PDT 2009  NO_QUERY   \n",
       "7          0  1467811594  Mon Apr 06 22:20:03 PDT 2009  NO_QUERY   \n",
       "8          0  1467811795  Mon Apr 06 22:20:05 PDT 2009  NO_QUERY   \n",
       "9          0  1467812025  Mon Apr 06 22:20:09 PDT 2009  NO_QUERY   \n",
       "\n",
       "              User                                               Text  \n",
       "0  _TheSpecialOne_  @switchfoot http://twitpic.com/2y1zl - Awww, t...  \n",
       "1    scotthamilton  is upset that he can't update his Facebook by ...  \n",
       "2         mattycus  @Kenichan I dived many times for the ball. Man...  \n",
       "3          ElleCTF    my whole body feels itchy and like its on fire   \n",
       "4           Karoli  @nationwideclass no, it's not behaving at all....  \n",
       "5         joy_wolf                      @Kwesidei not the whole crew   \n",
       "6          mybirch                                        Need a hug   \n",
       "7             coZZ  @LOLTrish hey  long time no see! Yes.. Rains a...  \n",
       "8  2Hood4Hollywood               @Tatiana_K nope they didn't have it   \n",
       "9          mimismo                          @twittera que me muera ?   "
      ]
     },
     "execution_count": 19,
     "metadata": {},
     "output_type": "execute_result"
    }
   ],
   "source": [
    "train_df.head(10)"
   ]
  },
  {
   "cell_type": "code",
   "execution_count": 20,
   "id": "a33738f2",
   "metadata": {
    "execution": {
     "iopub.execute_input": "2024-01-29T16:32:21.655439Z",
     "iopub.status.busy": "2024-01-29T16:32:21.655167Z",
     "iopub.status.idle": "2024-01-29T16:42:59.977404Z",
     "shell.execute_reply": "2024-01-29T16:42:59.976507Z"
    },
    "papermill": {
     "duration": 638.346549,
     "end_time": "2024-01-29T16:42:59.979952",
     "exception": false,
     "start_time": "2024-01-29T16:32:21.633403",
     "status": "completed"
    },
    "tags": []
   },
   "outputs": [],
   "source": [
    "train_df = cleanNTokenize(train_df)"
   ]
  },
  {
   "cell_type": "markdown",
   "id": "0ddbd371",
   "metadata": {
    "papermill": {
     "duration": 0.02267,
     "end_time": "2024-01-29T16:43:00.025281",
     "exception": false,
     "start_time": "2024-01-29T16:43:00.002611",
     "status": "completed"
    },
    "tags": []
   },
   "source": [
    "<strong>since there can be new null values after cleaning we need to check for null values again</strong>"
   ]
  },
  {
   "cell_type": "code",
   "execution_count": 21,
   "id": "dc5c93c7",
   "metadata": {
    "execution": {
     "iopub.execute_input": "2024-01-29T16:43:00.070810Z",
     "iopub.status.busy": "2024-01-29T16:43:00.070458Z",
     "iopub.status.idle": "2024-01-29T16:43:00.461771Z",
     "shell.execute_reply": "2024-01-29T16:43:00.460850Z"
    },
    "papermill": {
     "duration": 0.416511,
     "end_time": "2024-01-29T16:43:00.463724",
     "exception": false,
     "start_time": "2024-01-29T16:43:00.047213",
     "status": "completed"
    },
    "tags": []
   },
   "outputs": [
    {
     "data": {
      "text/plain": [
       "17"
      ]
     },
     "execution_count": 21,
     "metadata": {},
     "output_type": "execute_result"
    }
   ],
   "source": [
    "(train_df['Text'].isna() | (train_df['Text'] == '')).sum()"
   ]
  },
  {
   "cell_type": "markdown",
   "id": "d7f8341c",
   "metadata": {
    "papermill": {
     "duration": 0.021709,
     "end_time": "2024-01-29T16:43:00.507227",
     "exception": false,
     "start_time": "2024-01-29T16:43:00.485518",
     "status": "completed"
    },
    "tags": []
   },
   "source": [
    "\n",
    "\n",
    "<h4\n",
    "   style=\"color:brown;\" >Dropping the null Values:</h4>\n",
    "\n"
   ]
  },
  {
   "cell_type": "code",
   "execution_count": 22,
   "id": "b2612057",
   "metadata": {
    "execution": {
     "iopub.execute_input": "2024-01-29T16:43:00.552846Z",
     "iopub.status.busy": "2024-01-29T16:43:00.552056Z",
     "iopub.status.idle": "2024-01-29T16:43:01.790376Z",
     "shell.execute_reply": "2024-01-29T16:43:01.789529Z"
    },
    "papermill": {
     "duration": 1.264004,
     "end_time": "2024-01-29T16:43:01.792934",
     "exception": false,
     "start_time": "2024-01-29T16:43:00.528930",
     "status": "completed"
    },
    "tags": []
   },
   "outputs": [],
   "source": [
    "train_df.dropna(subset=['Text'], inplace=True)\n",
    "train_df = train_df[train_df['Text'] != '']"
   ]
  },
  {
   "cell_type": "code",
   "execution_count": 23,
   "id": "f1ff59b4",
   "metadata": {
    "execution": {
     "iopub.execute_input": "2024-01-29T16:43:01.840179Z",
     "iopub.status.busy": "2024-01-29T16:43:01.839859Z",
     "iopub.status.idle": "2024-01-29T16:43:01.857858Z",
     "shell.execute_reply": "2024-01-29T16:43:01.856903Z"
    },
    "papermill": {
     "duration": 0.043801,
     "end_time": "2024-01-29T16:43:01.860502",
     "exception": false,
     "start_time": "2024-01-29T16:43:01.816701",
     "status": "completed"
    },
    "tags": []
   },
   "outputs": [
    {
     "data": {
      "text/html": [
       "<div>\n",
       "<style scoped>\n",
       "    .dataframe tbody tr th:only-of-type {\n",
       "        vertical-align: middle;\n",
       "    }\n",
       "\n",
       "    .dataframe tbody tr th {\n",
       "        vertical-align: top;\n",
       "    }\n",
       "\n",
       "    .dataframe thead th {\n",
       "        text-align: right;\n",
       "    }\n",
       "</style>\n",
       "<table border=\"1\" class=\"dataframe\">\n",
       "  <thead>\n",
       "    <tr style=\"text-align: right;\">\n",
       "      <th></th>\n",
       "      <th>Sentiment</th>\n",
       "      <th>Id</th>\n",
       "      <th>Time</th>\n",
       "      <th>Query</th>\n",
       "      <th>User</th>\n",
       "      <th>Text</th>\n",
       "      <th>tokenized</th>\n",
       "    </tr>\n",
       "  </thead>\n",
       "  <tbody>\n",
       "    <tr>\n",
       "      <th>0</th>\n",
       "      <td>0</td>\n",
       "      <td>1467810369</td>\n",
       "      <td>Mon Apr 06 22:19:45 PDT 2009</td>\n",
       "      <td>NO_QUERY</td>\n",
       "      <td>_TheSpecialOne_</td>\n",
       "      <td>awww  s bummer  shoulda got david carr third ...</td>\n",
       "      <td>[awww, s, bummer, shoulda, got, david, carr, t...</td>\n",
       "    </tr>\n",
       "    <tr>\n",
       "      <th>1</th>\n",
       "      <td>0</td>\n",
       "      <td>1467810672</td>\n",
       "      <td>Mon Apr 06 22:19:49 PDT 2009</td>\n",
       "      <td>NO_QUERY</td>\n",
       "      <td>scotthamilton</td>\n",
       "      <td>upset ca nt update facebook texting  might cry...</td>\n",
       "      <td>[upset, ca, nt, update, facebook, texting, mig...</td>\n",
       "    </tr>\n",
       "    <tr>\n",
       "      <th>2</th>\n",
       "      <td>0</td>\n",
       "      <td>1467810917</td>\n",
       "      <td>Mon Apr 06 22:19:53 PDT 2009</td>\n",
       "      <td>NO_QUERY</td>\n",
       "      <td>mattycus</td>\n",
       "      <td>dived many times ball  managed save 50  rest g...</td>\n",
       "      <td>[dived, many, times, ball, managed, save, 50, ...</td>\n",
       "    </tr>\n",
       "    <tr>\n",
       "      <th>3</th>\n",
       "      <td>0</td>\n",
       "      <td>1467811184</td>\n",
       "      <td>Mon Apr 06 22:19:57 PDT 2009</td>\n",
       "      <td>NO_QUERY</td>\n",
       "      <td>ElleCTF</td>\n",
       "      <td>whole body feels itchy like fire</td>\n",
       "      <td>[whole, body, feels, itchy, like, fire]</td>\n",
       "    </tr>\n",
       "    <tr>\n",
       "      <th>4</th>\n",
       "      <td>0</td>\n",
       "      <td>1467811193</td>\n",
       "      <td>Mon Apr 06 22:19:57 PDT 2009</td>\n",
       "      <td>NO_QUERY</td>\n",
       "      <td>Karoli</td>\n",
       "      <td>s behaving  m mad   ca nt see</td>\n",
       "      <td>[s, behaving, m, mad, ca, nt, see]</td>\n",
       "    </tr>\n",
       "    <tr>\n",
       "      <th>5</th>\n",
       "      <td>0</td>\n",
       "      <td>1467811372</td>\n",
       "      <td>Mon Apr 06 22:20:00 PDT 2009</td>\n",
       "      <td>NO_QUERY</td>\n",
       "      <td>joy_wolf</td>\n",
       "      <td>whole crew</td>\n",
       "      <td>[whole, crew]</td>\n",
       "    </tr>\n",
       "    <tr>\n",
       "      <th>6</th>\n",
       "      <td>0</td>\n",
       "      <td>1467811592</td>\n",
       "      <td>Mon Apr 06 22:20:03 PDT 2009</td>\n",
       "      <td>NO_QUERY</td>\n",
       "      <td>mybirch</td>\n",
       "      <td>need hug</td>\n",
       "      <td>[need, hug]</td>\n",
       "    </tr>\n",
       "    <tr>\n",
       "      <th>7</th>\n",
       "      <td>0</td>\n",
       "      <td>1467811594</td>\n",
       "      <td>Mon Apr 06 22:20:03 PDT 2009</td>\n",
       "      <td>NO_QUERY</td>\n",
       "      <td>coZZ</td>\n",
       "      <td>hey long time see  yes rains bit  bit lol  m f...</td>\n",
       "      <td>[hey, long, time, see, yes, rains, bit, bit, l...</td>\n",
       "    </tr>\n",
       "    <tr>\n",
       "      <th>8</th>\n",
       "      <td>0</td>\n",
       "      <td>1467811795</td>\n",
       "      <td>Mon Apr 06 22:20:05 PDT 2009</td>\n",
       "      <td>NO_QUERY</td>\n",
       "      <td>2Hood4Hollywood</td>\n",
       "      <td>nope nt</td>\n",
       "      <td>[nope, nt]</td>\n",
       "    </tr>\n",
       "    <tr>\n",
       "      <th>9</th>\n",
       "      <td>0</td>\n",
       "      <td>1467812025</td>\n",
       "      <td>Mon Apr 06 22:20:09 PDT 2009</td>\n",
       "      <td>NO_QUERY</td>\n",
       "      <td>mimismo</td>\n",
       "      <td>que muera</td>\n",
       "      <td>[que, muera]</td>\n",
       "    </tr>\n",
       "  </tbody>\n",
       "</table>\n",
       "</div>"
      ],
      "text/plain": [
       "   Sentiment          Id                          Time     Query  \\\n",
       "0          0  1467810369  Mon Apr 06 22:19:45 PDT 2009  NO_QUERY   \n",
       "1          0  1467810672  Mon Apr 06 22:19:49 PDT 2009  NO_QUERY   \n",
       "2          0  1467810917  Mon Apr 06 22:19:53 PDT 2009  NO_QUERY   \n",
       "3          0  1467811184  Mon Apr 06 22:19:57 PDT 2009  NO_QUERY   \n",
       "4          0  1467811193  Mon Apr 06 22:19:57 PDT 2009  NO_QUERY   \n",
       "5          0  1467811372  Mon Apr 06 22:20:00 PDT 2009  NO_QUERY   \n",
       "6          0  1467811592  Mon Apr 06 22:20:03 PDT 2009  NO_QUERY   \n",
       "7          0  1467811594  Mon Apr 06 22:20:03 PDT 2009  NO_QUERY   \n",
       "8          0  1467811795  Mon Apr 06 22:20:05 PDT 2009  NO_QUERY   \n",
       "9          0  1467812025  Mon Apr 06 22:20:09 PDT 2009  NO_QUERY   \n",
       "\n",
       "              User                                               Text  \\\n",
       "0  _TheSpecialOne_   awww  s bummer  shoulda got david carr third ...   \n",
       "1    scotthamilton  upset ca nt update facebook texting  might cry...   \n",
       "2         mattycus  dived many times ball  managed save 50  rest g...   \n",
       "3          ElleCTF                   whole body feels itchy like fire   \n",
       "4           Karoli                     s behaving  m mad   ca nt see    \n",
       "5         joy_wolf                                         whole crew   \n",
       "6          mybirch                                           need hug   \n",
       "7             coZZ  hey long time see  yes rains bit  bit lol  m f...   \n",
       "8  2Hood4Hollywood                                            nope nt   \n",
       "9          mimismo                                         que muera    \n",
       "\n",
       "                                           tokenized  \n",
       "0  [awww, s, bummer, shoulda, got, david, carr, t...  \n",
       "1  [upset, ca, nt, update, facebook, texting, mig...  \n",
       "2  [dived, many, times, ball, managed, save, 50, ...  \n",
       "3            [whole, body, feels, itchy, like, fire]  \n",
       "4                 [s, behaving, m, mad, ca, nt, see]  \n",
       "5                                      [whole, crew]  \n",
       "6                                        [need, hug]  \n",
       "7  [hey, long, time, see, yes, rains, bit, bit, l...  \n",
       "8                                         [nope, nt]  \n",
       "9                                       [que, muera]  "
      ]
     },
     "execution_count": 23,
     "metadata": {},
     "output_type": "execute_result"
    }
   ],
   "source": [
    "train_df.head(10)"
   ]
  },
  {
   "cell_type": "code",
   "execution_count": 24,
   "id": "66942840",
   "metadata": {
    "execution": {
     "iopub.execute_input": "2024-01-29T16:43:01.908483Z",
     "iopub.status.busy": "2024-01-29T16:43:01.908143Z",
     "iopub.status.idle": "2024-01-29T16:43:02.092786Z",
     "shell.execute_reply": "2024-01-29T16:43:02.091760Z"
    },
    "papermill": {
     "duration": 0.210215,
     "end_time": "2024-01-29T16:43:02.095454",
     "exception": false,
     "start_time": "2024-01-29T16:43:01.885239",
     "status": "completed"
    },
    "tags": []
   },
   "outputs": [],
   "source": [
    "test_df = cleanNTokenize(test_df)"
   ]
  },
  {
   "cell_type": "code",
   "execution_count": 25,
   "id": "f2a7875f",
   "metadata": {
    "execution": {
     "iopub.execute_input": "2024-01-29T16:43:02.145651Z",
     "iopub.status.busy": "2024-01-29T16:43:02.145266Z",
     "iopub.status.idle": "2024-01-29T16:43:02.404937Z",
     "shell.execute_reply": "2024-01-29T16:43:02.403846Z"
    },
    "papermill": {
     "duration": 0.287539,
     "end_time": "2024-01-29T16:43:02.407132",
     "exception": false,
     "start_time": "2024-01-29T16:43:02.119593",
     "status": "completed"
    },
    "tags": []
   },
   "outputs": [
    {
     "name": "stdout",
     "output_type": "stream",
     "text": [
      "[nltk_data] Downloading package wordnet to /root/nltk_data/...\n"
     ]
    },
    {
     "data": {
      "text/plain": [
       "True"
      ]
     },
     "execution_count": 25,
     "metadata": {},
     "output_type": "execute_result"
    }
   ],
   "source": [
    "from nltk.stem import WordNetLemmatizer\n",
    "import nltk\n",
    "# nltk.download()\n",
    "nltk.download('wordnet',download_dir='/root/nltk_data/')"
   ]
  },
  {
   "cell_type": "markdown",
   "id": "f926b913",
   "metadata": {
    "papermill": {
     "duration": 0.022319,
     "end_time": "2024-01-29T16:43:02.452665",
     "exception": false,
     "start_time": "2024-01-29T16:43:02.430346",
     "status": "completed"
    },
    "tags": []
   },
   "source": [
    "\n",
    "<div id = 'lt'>\n",
    "<h3\n",
    "   style=\"color:green;\" >5. Lemmatization</h3>\n",
    "</div>\n",
    "\n"
   ]
  },
  {
   "cell_type": "markdown",
   "id": "f8621177",
   "metadata": {
    "papermill": {
     "duration": 0.022335,
     "end_time": "2024-01-29T16:43:02.498554",
     "exception": false,
     "start_time": "2024-01-29T16:43:02.476219",
     "status": "completed"
    },
    "tags": []
   },
   "source": [
    "There seems to be an issue in unzipping the wordnet.zip file, so i am manually unzipping it."
   ]
  },
  {
   "cell_type": "code",
   "execution_count": 26,
   "id": "ae6f2bc8",
   "metadata": {
    "execution": {
     "iopub.execute_input": "2024-01-29T16:43:02.546062Z",
     "iopub.status.busy": "2024-01-29T16:43:02.545411Z",
     "iopub.status.idle": "2024-01-29T16:43:02.786876Z",
     "shell.execute_reply": "2024-01-29T16:43:02.785941Z"
    },
    "papermill": {
     "duration": 0.267849,
     "end_time": "2024-01-29T16:43:02.789062",
     "exception": false,
     "start_time": "2024-01-29T16:43:02.521213",
     "status": "completed"
    },
    "tags": []
   },
   "outputs": [
    {
     "name": "stdout",
     "output_type": "stream",
     "text": [
      "['wordnet', 'wordnet.zip']\n"
     ]
    }
   ],
   "source": [
    "# ls ../../root/nltk_data/corpora/wordnet.zip\n",
    "import zipfile\n",
    "import os\n",
    "\n",
    "zip_file_path = '../../root/nltk_data/corpora/wordnet.zip'\n",
    "\n",
    "extracted_dir = '../../root/nltk_data/corpora/'\n",
    "\n",
    "with zipfile.ZipFile(zip_file_path, 'r') as zip_ref:\n",
    "    zip_ref.extractall(extracted_dir)\n",
    "\n",
    "print(os.listdir(extracted_dir))"
   ]
  },
  {
   "cell_type": "code",
   "execution_count": null,
   "id": "786293a5",
   "metadata": {
    "papermill": {
     "duration": 0.021055,
     "end_time": "2024-01-29T16:43:02.832672",
     "exception": false,
     "start_time": "2024-01-29T16:43:02.811617",
     "status": "completed"
    },
    "tags": []
   },
   "outputs": [],
   "source": [
    "\n",
    "\n"
   ]
  },
  {
   "cell_type": "code",
   "execution_count": 27,
   "id": "8547f679",
   "metadata": {
    "execution": {
     "iopub.execute_input": "2024-01-29T16:43:02.878715Z",
     "iopub.status.busy": "2024-01-29T16:43:02.877944Z",
     "iopub.status.idle": "2024-01-29T16:44:16.871095Z",
     "shell.execute_reply": "2024-01-29T16:44:16.870137Z"
    },
    "papermill": {
     "duration": 74.018589,
     "end_time": "2024-01-29T16:44:16.873696",
     "exception": false,
     "start_time": "2024-01-29T16:43:02.855107",
     "status": "completed"
    },
    "tags": []
   },
   "outputs": [],
   "source": [
    "def lemmatize_text(tokens):\n",
    "    lemmatizer = WordNetLemmatizer()\n",
    "    lemmatized_tokens = [lemmatizer.lemmatize(token) for token in tokens]\n",
    "    lemmatized_text = ' '.join(lemmatized_tokens)  # Join lemmatized tokens into a string\n",
    "    return lemmatized_text\n",
    "\n",
    "train_df['Lemmatized'] = train_df['tokenized'].apply(lemmatize_text)\n"
   ]
  },
  {
   "cell_type": "code",
   "execution_count": 28,
   "id": "20e1c307",
   "metadata": {
    "execution": {
     "iopub.execute_input": "2024-01-29T16:44:16.921625Z",
     "iopub.status.busy": "2024-01-29T16:44:16.921264Z",
     "iopub.status.idle": "2024-01-29T16:44:16.925772Z",
     "shell.execute_reply": "2024-01-29T16:44:16.924677Z"
    },
    "papermill": {
     "duration": 0.030793,
     "end_time": "2024-01-29T16:44:16.927775",
     "exception": false,
     "start_time": "2024-01-29T16:44:16.896982",
     "status": "completed"
    },
    "tags": []
   },
   "outputs": [],
   "source": [
    "# train_df['Lemmatized'] = train_df['tokenized'].apply(lemmatize_text)"
   ]
  },
  {
   "cell_type": "code",
   "execution_count": 29,
   "id": "18bf90af",
   "metadata": {
    "execution": {
     "iopub.execute_input": "2024-01-29T16:44:16.975510Z",
     "iopub.status.busy": "2024-01-29T16:44:16.975128Z",
     "iopub.status.idle": "2024-01-29T16:44:17.001821Z",
     "shell.execute_reply": "2024-01-29T16:44:17.000933Z"
    },
    "papermill": {
     "duration": 0.053003,
     "end_time": "2024-01-29T16:44:17.003835",
     "exception": false,
     "start_time": "2024-01-29T16:44:16.950832",
     "status": "completed"
    },
    "tags": []
   },
   "outputs": [],
   "source": [
    "test_df['Lemmatized'] = test_df['tokenized'].apply(lemmatize_text)"
   ]
  },
  {
   "cell_type": "code",
   "execution_count": 30,
   "id": "462f0e8d",
   "metadata": {
    "execution": {
     "iopub.execute_input": "2024-01-29T16:44:17.051247Z",
     "iopub.status.busy": "2024-01-29T16:44:17.050927Z",
     "iopub.status.idle": "2024-01-29T16:44:17.066523Z",
     "shell.execute_reply": "2024-01-29T16:44:17.065565Z"
    },
    "papermill": {
     "duration": 0.041313,
     "end_time": "2024-01-29T16:44:17.068505",
     "exception": false,
     "start_time": "2024-01-29T16:44:17.027192",
     "status": "completed"
    },
    "tags": []
   },
   "outputs": [
    {
     "data": {
      "text/html": [
       "<div>\n",
       "<style scoped>\n",
       "    .dataframe tbody tr th:only-of-type {\n",
       "        vertical-align: middle;\n",
       "    }\n",
       "\n",
       "    .dataframe tbody tr th {\n",
       "        vertical-align: top;\n",
       "    }\n",
       "\n",
       "    .dataframe thead th {\n",
       "        text-align: right;\n",
       "    }\n",
       "</style>\n",
       "<table border=\"1\" class=\"dataframe\">\n",
       "  <thead>\n",
       "    <tr style=\"text-align: right;\">\n",
       "      <th></th>\n",
       "      <th>Sentiment</th>\n",
       "      <th>Id</th>\n",
       "      <th>Time</th>\n",
       "      <th>Query</th>\n",
       "      <th>User</th>\n",
       "      <th>Text</th>\n",
       "      <th>tokenized</th>\n",
       "      <th>Lemmatized</th>\n",
       "    </tr>\n",
       "  </thead>\n",
       "  <tbody>\n",
       "    <tr>\n",
       "      <th>0</th>\n",
       "      <td>0</td>\n",
       "      <td>1467810369</td>\n",
       "      <td>Mon Apr 06 22:19:45 PDT 2009</td>\n",
       "      <td>NO_QUERY</td>\n",
       "      <td>_TheSpecialOne_</td>\n",
       "      <td>awww  s bummer  shoulda got david carr third ...</td>\n",
       "      <td>[awww, s, bummer, shoulda, got, david, carr, t...</td>\n",
       "      <td>awww s bummer shoulda got david carr third day</td>\n",
       "    </tr>\n",
       "    <tr>\n",
       "      <th>1</th>\n",
       "      <td>0</td>\n",
       "      <td>1467810672</td>\n",
       "      <td>Mon Apr 06 22:19:49 PDT 2009</td>\n",
       "      <td>NO_QUERY</td>\n",
       "      <td>scotthamilton</td>\n",
       "      <td>upset ca nt update facebook texting  might cry...</td>\n",
       "      <td>[upset, ca, nt, update, facebook, texting, mig...</td>\n",
       "      <td>upset ca nt update facebook texting might cry ...</td>\n",
       "    </tr>\n",
       "    <tr>\n",
       "      <th>2</th>\n",
       "      <td>0</td>\n",
       "      <td>1467810917</td>\n",
       "      <td>Mon Apr 06 22:19:53 PDT 2009</td>\n",
       "      <td>NO_QUERY</td>\n",
       "      <td>mattycus</td>\n",
       "      <td>dived many times ball  managed save 50  rest g...</td>\n",
       "      <td>[dived, many, times, ball, managed, save, 50, ...</td>\n",
       "      <td>dived many time ball managed save 50 rest go b...</td>\n",
       "    </tr>\n",
       "    <tr>\n",
       "      <th>3</th>\n",
       "      <td>0</td>\n",
       "      <td>1467811184</td>\n",
       "      <td>Mon Apr 06 22:19:57 PDT 2009</td>\n",
       "      <td>NO_QUERY</td>\n",
       "      <td>ElleCTF</td>\n",
       "      <td>whole body feels itchy like fire</td>\n",
       "      <td>[whole, body, feels, itchy, like, fire]</td>\n",
       "      <td>whole body feel itchy like fire</td>\n",
       "    </tr>\n",
       "    <tr>\n",
       "      <th>4</th>\n",
       "      <td>0</td>\n",
       "      <td>1467811193</td>\n",
       "      <td>Mon Apr 06 22:19:57 PDT 2009</td>\n",
       "      <td>NO_QUERY</td>\n",
       "      <td>Karoli</td>\n",
       "      <td>s behaving  m mad   ca nt see</td>\n",
       "      <td>[s, behaving, m, mad, ca, nt, see]</td>\n",
       "      <td>s behaving m mad ca nt see</td>\n",
       "    </tr>\n",
       "  </tbody>\n",
       "</table>\n",
       "</div>"
      ],
      "text/plain": [
       "   Sentiment          Id                          Time     Query  \\\n",
       "0          0  1467810369  Mon Apr 06 22:19:45 PDT 2009  NO_QUERY   \n",
       "1          0  1467810672  Mon Apr 06 22:19:49 PDT 2009  NO_QUERY   \n",
       "2          0  1467810917  Mon Apr 06 22:19:53 PDT 2009  NO_QUERY   \n",
       "3          0  1467811184  Mon Apr 06 22:19:57 PDT 2009  NO_QUERY   \n",
       "4          0  1467811193  Mon Apr 06 22:19:57 PDT 2009  NO_QUERY   \n",
       "\n",
       "              User                                               Text  \\\n",
       "0  _TheSpecialOne_   awww  s bummer  shoulda got david carr third ...   \n",
       "1    scotthamilton  upset ca nt update facebook texting  might cry...   \n",
       "2         mattycus  dived many times ball  managed save 50  rest g...   \n",
       "3          ElleCTF                   whole body feels itchy like fire   \n",
       "4           Karoli                     s behaving  m mad   ca nt see    \n",
       "\n",
       "                                           tokenized  \\\n",
       "0  [awww, s, bummer, shoulda, got, david, carr, t...   \n",
       "1  [upset, ca, nt, update, facebook, texting, mig...   \n",
       "2  [dived, many, times, ball, managed, save, 50, ...   \n",
       "3            [whole, body, feels, itchy, like, fire]   \n",
       "4                 [s, behaving, m, mad, ca, nt, see]   \n",
       "\n",
       "                                          Lemmatized  \n",
       "0     awww s bummer shoulda got david carr third day  \n",
       "1  upset ca nt update facebook texting might cry ...  \n",
       "2  dived many time ball managed save 50 rest go b...  \n",
       "3                    whole body feel itchy like fire  \n",
       "4                         s behaving m mad ca nt see  "
      ]
     },
     "execution_count": 30,
     "metadata": {},
     "output_type": "execute_result"
    }
   ],
   "source": [
    "train_df.head()"
   ]
  },
  {
   "cell_type": "code",
   "execution_count": 31,
   "id": "7257765c",
   "metadata": {
    "execution": {
     "iopub.execute_input": "2024-01-29T16:44:17.115185Z",
     "iopub.status.busy": "2024-01-29T16:44:17.114862Z",
     "iopub.status.idle": "2024-01-29T16:44:17.119504Z",
     "shell.execute_reply": "2024-01-29T16:44:17.118560Z"
    },
    "papermill": {
     "duration": 0.030888,
     "end_time": "2024-01-29T16:44:17.121679",
     "exception": false,
     "start_time": "2024-01-29T16:44:17.090791",
     "status": "completed"
    },
    "tags": []
   },
   "outputs": [],
   "source": [
    "X = train_df['Lemmatized']\n",
    "y = train_df['Sentiment']"
   ]
  },
  {
   "cell_type": "markdown",
   "id": "24b1e2c9",
   "metadata": {
    "papermill": {
     "duration": 0.023275,
     "end_time": "2024-01-29T16:44:17.168499",
     "exception": false,
     "start_time": "2024-01-29T16:44:17.145224",
     "status": "completed"
    },
    "tags": []
   },
   "source": [
    "\n",
    "\n",
    "<div id = \"sv\">\n",
    "<h3\n",
    "   style=\"color:green;\" >6. Splitting into Training and validation sets:</h3>\n",
    "</div>\n",
    "\n",
    "\n"
   ]
  },
  {
   "cell_type": "code",
   "execution_count": 32,
   "id": "d7ad3dd1",
   "metadata": {
    "execution": {
     "iopub.execute_input": "2024-01-29T16:44:17.216594Z",
     "iopub.status.busy": "2024-01-29T16:44:17.216246Z",
     "iopub.status.idle": "2024-01-29T16:44:17.435610Z",
     "shell.execute_reply": "2024-01-29T16:44:17.434847Z"
    },
    "papermill": {
     "duration": 0.246497,
     "end_time": "2024-01-29T16:44:17.438130",
     "exception": false,
     "start_time": "2024-01-29T16:44:17.191633",
     "status": "completed"
    },
    "tags": []
   },
   "outputs": [],
   "source": [
    "from sklearn.model_selection import train_test_split\n",
    "X_train, X_val, y_train, y_val = train_test_split(X, y,\n",
    "                                                    test_size =0.3, random_state = 0)"
   ]
  },
  {
   "cell_type": "markdown",
   "id": "dd2cb39e",
   "metadata": {
    "papermill": {
     "duration": 0.023399,
     "end_time": "2024-01-29T16:44:17.484233",
     "exception": false,
     "start_time": "2024-01-29T16:44:17.460834",
     "status": "completed"
    },
    "tags": []
   },
   "source": [
    "\n",
    "<div id = \"tf\">\n",
    "<h3\n",
    "   style=\"color:green;\" >7. Tfidf Vectorization:</h3>\n",
    "</div>\n"
   ]
  },
  {
   "cell_type": "code",
   "execution_count": 33,
   "id": "96641ae7",
   "metadata": {
    "execution": {
     "iopub.execute_input": "2024-01-29T16:44:17.532107Z",
     "iopub.status.busy": "2024-01-29T16:44:17.531672Z",
     "iopub.status.idle": "2024-01-29T16:44:32.314324Z",
     "shell.execute_reply": "2024-01-29T16:44:32.313506Z"
    },
    "papermill": {
     "duration": 14.809351,
     "end_time": "2024-01-29T16:44:32.316716",
     "exception": false,
     "start_time": "2024-01-29T16:44:17.507365",
     "status": "completed"
    },
    "tags": []
   },
   "outputs": [],
   "source": [
    "vectorizer = TfidfVectorizer()\n",
    "X_train_transformed = vectorizer.fit_transform(X_train)"
   ]
  },
  {
   "cell_type": "markdown",
   "id": "3d6f5228",
   "metadata": {
    "papermill": {
     "duration": 0.021907,
     "end_time": "2024-01-29T16:44:32.362213",
     "exception": false,
     "start_time": "2024-01-29T16:44:32.340306",
     "status": "completed"
    },
    "tags": []
   },
   "source": [
    "\n",
    "\n",
    "<div id = \"lc\">\n",
    "<h3\n",
    "   style=\"color:green;\" >8. Linear SVC</h3>\n",
    "</div>\n",
    "\n"
   ]
  },
  {
   "cell_type": "code",
   "execution_count": 34,
   "id": "618aad7c",
   "metadata": {
    "execution": {
     "iopub.execute_input": "2024-01-29T16:44:32.407814Z",
     "iopub.status.busy": "2024-01-29T16:44:32.406960Z",
     "iopub.status.idle": "2024-01-29T16:44:50.577868Z",
     "shell.execute_reply": "2024-01-29T16:44:50.576792Z"
    },
    "papermill": {
     "duration": 18.196164,
     "end_time": "2024-01-29T16:44:50.579969",
     "exception": false,
     "start_time": "2024-01-29T16:44:32.383805",
     "status": "completed"
    },
    "tags": []
   },
   "outputs": [
    {
     "data": {
      "text/html": [
       "<style>#sk-container-id-1 {color: black;background-color: white;}#sk-container-id-1 pre{padding: 0;}#sk-container-id-1 div.sk-toggleable {background-color: white;}#sk-container-id-1 label.sk-toggleable__label {cursor: pointer;display: block;width: 100%;margin-bottom: 0;padding: 0.3em;box-sizing: border-box;text-align: center;}#sk-container-id-1 label.sk-toggleable__label-arrow:before {content: \"▸\";float: left;margin-right: 0.25em;color: #696969;}#sk-container-id-1 label.sk-toggleable__label-arrow:hover:before {color: black;}#sk-container-id-1 div.sk-estimator:hover label.sk-toggleable__label-arrow:before {color: black;}#sk-container-id-1 div.sk-toggleable__content {max-height: 0;max-width: 0;overflow: hidden;text-align: left;background-color: #f0f8ff;}#sk-container-id-1 div.sk-toggleable__content pre {margin: 0.2em;color: black;border-radius: 0.25em;background-color: #f0f8ff;}#sk-container-id-1 input.sk-toggleable__control:checked~div.sk-toggleable__content {max-height: 200px;max-width: 100%;overflow: auto;}#sk-container-id-1 input.sk-toggleable__control:checked~label.sk-toggleable__label-arrow:before {content: \"▾\";}#sk-container-id-1 div.sk-estimator input.sk-toggleable__control:checked~label.sk-toggleable__label {background-color: #d4ebff;}#sk-container-id-1 div.sk-label input.sk-toggleable__control:checked~label.sk-toggleable__label {background-color: #d4ebff;}#sk-container-id-1 input.sk-hidden--visually {border: 0;clip: rect(1px 1px 1px 1px);clip: rect(1px, 1px, 1px, 1px);height: 1px;margin: -1px;overflow: hidden;padding: 0;position: absolute;width: 1px;}#sk-container-id-1 div.sk-estimator {font-family: monospace;background-color: #f0f8ff;border: 1px dotted black;border-radius: 0.25em;box-sizing: border-box;margin-bottom: 0.5em;}#sk-container-id-1 div.sk-estimator:hover {background-color: #d4ebff;}#sk-container-id-1 div.sk-parallel-item::after {content: \"\";width: 100%;border-bottom: 1px solid gray;flex-grow: 1;}#sk-container-id-1 div.sk-label:hover label.sk-toggleable__label {background-color: #d4ebff;}#sk-container-id-1 div.sk-serial::before {content: \"\";position: absolute;border-left: 1px solid gray;box-sizing: border-box;top: 0;bottom: 0;left: 50%;z-index: 0;}#sk-container-id-1 div.sk-serial {display: flex;flex-direction: column;align-items: center;background-color: white;padding-right: 0.2em;padding-left: 0.2em;position: relative;}#sk-container-id-1 div.sk-item {position: relative;z-index: 1;}#sk-container-id-1 div.sk-parallel {display: flex;align-items: stretch;justify-content: center;background-color: white;position: relative;}#sk-container-id-1 div.sk-item::before, #sk-container-id-1 div.sk-parallel-item::before {content: \"\";position: absolute;border-left: 1px solid gray;box-sizing: border-box;top: 0;bottom: 0;left: 50%;z-index: -1;}#sk-container-id-1 div.sk-parallel-item {display: flex;flex-direction: column;z-index: 1;position: relative;background-color: white;}#sk-container-id-1 div.sk-parallel-item:first-child::after {align-self: flex-end;width: 50%;}#sk-container-id-1 div.sk-parallel-item:last-child::after {align-self: flex-start;width: 50%;}#sk-container-id-1 div.sk-parallel-item:only-child::after {width: 0;}#sk-container-id-1 div.sk-dashed-wrapped {border: 1px dashed gray;margin: 0 0.4em 0.5em 0.4em;box-sizing: border-box;padding-bottom: 0.4em;background-color: white;}#sk-container-id-1 div.sk-label label {font-family: monospace;font-weight: bold;display: inline-block;line-height: 1.2em;}#sk-container-id-1 div.sk-label-container {text-align: center;}#sk-container-id-1 div.sk-container {/* jupyter's `normalize.less` sets `[hidden] { display: none; }` but bootstrap.min.css set `[hidden] { display: none !important; }` so we also need the `!important` here to be able to override the default hidden behavior on the sphinx rendered scikit-learn.org. See: https://github.com/scikit-learn/scikit-learn/issues/21755 */display: inline-block !important;position: relative;}#sk-container-id-1 div.sk-text-repr-fallback {display: none;}</style><div id=\"sk-container-id-1\" class=\"sk-top-container\"><div class=\"sk-text-repr-fallback\"><pre>LinearSVC()</pre><b>In a Jupyter environment, please rerun this cell to show the HTML representation or trust the notebook. <br />On GitHub, the HTML representation is unable to render, please try loading this page with nbviewer.org.</b></div><div class=\"sk-container\" hidden><div class=\"sk-item\"><div class=\"sk-estimator sk-toggleable\"><input class=\"sk-toggleable__control sk-hidden--visually\" id=\"sk-estimator-id-1\" type=\"checkbox\" checked><label for=\"sk-estimator-id-1\" class=\"sk-toggleable__label sk-toggleable__label-arrow\">LinearSVC</label><div class=\"sk-toggleable__content\"><pre>LinearSVC()</pre></div></div></div></div></div>"
      ],
      "text/plain": [
       "LinearSVC()"
      ]
     },
     "execution_count": 34,
     "metadata": {},
     "output_type": "execute_result"
    }
   ],
   "source": [
    "from sklearn.svm import LinearSVC\n",
    "svm = LinearSVC()\n",
    "svm.fit(X_train_transformed, y_train)"
   ]
  },
  {
   "cell_type": "code",
   "execution_count": 35,
   "id": "2e72b73e",
   "metadata": {
    "execution": {
     "iopub.execute_input": "2024-01-29T16:44:50.627434Z",
     "iopub.status.busy": "2024-01-29T16:44:50.626847Z",
     "iopub.status.idle": "2024-01-29T16:44:56.353830Z",
     "shell.execute_reply": "2024-01-29T16:44:56.352918Z"
    },
    "papermill": {
     "duration": 5.753462,
     "end_time": "2024-01-29T16:44:56.356365",
     "exception": false,
     "start_time": "2024-01-29T16:44:50.602903",
     "status": "completed"
    },
    "tags": []
   },
   "outputs": [],
   "source": [
    "X_val_transformed = vectorizer.transform(X_val)"
   ]
  },
  {
   "cell_type": "code",
   "execution_count": 36,
   "id": "c4801619",
   "metadata": {
    "execution": {
     "iopub.execute_input": "2024-01-29T16:44:56.403434Z",
     "iopub.status.busy": "2024-01-29T16:44:56.403036Z",
     "iopub.status.idle": "2024-01-29T16:44:56.424806Z",
     "shell.execute_reply": "2024-01-29T16:44:56.423969Z"
    },
    "papermill": {
     "duration": 0.047241,
     "end_time": "2024-01-29T16:44:56.426837",
     "exception": false,
     "start_time": "2024-01-29T16:44:56.379596",
     "status": "completed"
    },
    "tags": []
   },
   "outputs": [],
   "source": [
    "y_pred = svm.predict(X_val_transformed)"
   ]
  },
  {
   "cell_type": "markdown",
   "id": "88e7ab2d",
   "metadata": {
    "papermill": {
     "duration": 0.022551,
     "end_time": "2024-01-29T16:44:56.472462",
     "exception": false,
     "start_time": "2024-01-29T16:44:56.449911",
     "status": "completed"
    },
    "tags": []
   },
   "source": [
    "\n",
    "\n",
    "<h4\n",
    "   style=\"color:brown;\" >Accuracy Score on Validation Set:</h4>\n",
    "\n"
   ]
  },
  {
   "cell_type": "code",
   "execution_count": 37,
   "id": "2cdf17aa",
   "metadata": {
    "execution": {
     "iopub.execute_input": "2024-01-29T16:44:56.517363Z",
     "iopub.status.busy": "2024-01-29T16:44:56.516962Z",
     "iopub.status.idle": "2024-01-29T16:44:56.561371Z",
     "shell.execute_reply": "2024-01-29T16:44:56.560163Z"
    },
    "papermill": {
     "duration": 0.069343,
     "end_time": "2024-01-29T16:44:56.563576",
     "exception": false,
     "start_time": "2024-01-29T16:44:56.494233",
     "status": "completed"
    },
    "tags": []
   },
   "outputs": [
    {
     "name": "stdout",
     "output_type": "stream",
     "text": [
      "Accuracy: 0.7723098238437686\n"
     ]
    }
   ],
   "source": [
    "from sklearn.metrics import accuracy_score\n",
    "accuracy = accuracy_score(y_val, y_pred)\n",
    "print(\"Accuracy:\", accuracy)"
   ]
  },
  {
   "cell_type": "code",
   "execution_count": 38,
   "id": "616465e6",
   "metadata": {
    "execution": {
     "iopub.execute_input": "2024-01-29T16:44:56.610793Z",
     "iopub.status.busy": "2024-01-29T16:44:56.610429Z",
     "iopub.status.idle": "2024-01-29T16:44:56.624885Z",
     "shell.execute_reply": "2024-01-29T16:44:56.624182Z"
    },
    "papermill": {
     "duration": 0.040141,
     "end_time": "2024-01-29T16:44:56.626800",
     "exception": false,
     "start_time": "2024-01-29T16:44:56.586659",
     "status": "completed"
    },
    "tags": []
   },
   "outputs": [],
   "source": [
    "X_test = test_df['Lemmatized']\n",
    "y_test = test_df['Sentiment']\n",
    "X_test_transformed = vectorizer.transform(X_test)"
   ]
  },
  {
   "cell_type": "code",
   "execution_count": 39,
   "id": "988dc6cd",
   "metadata": {
    "execution": {
     "iopub.execute_input": "2024-01-29T16:44:56.672493Z",
     "iopub.status.busy": "2024-01-29T16:44:56.672197Z",
     "iopub.status.idle": "2024-01-29T16:44:56.676793Z",
     "shell.execute_reply": "2024-01-29T16:44:56.675956Z"
    },
    "papermill": {
     "duration": 0.029691,
     "end_time": "2024-01-29T16:44:56.678561",
     "exception": false,
     "start_time": "2024-01-29T16:44:56.648870",
     "status": "completed"
    },
    "tags": []
   },
   "outputs": [],
   "source": [
    "preds1 = svm.predict(X_test_transformed)"
   ]
  },
  {
   "cell_type": "markdown",
   "id": "bd1e61c6",
   "metadata": {
    "papermill": {
     "duration": 0.02151,
     "end_time": "2024-01-29T16:44:56.722274",
     "exception": false,
     "start_time": "2024-01-29T16:44:56.700764",
     "status": "completed"
    },
    "tags": []
   },
   "source": [
    "\n",
    "\n",
    "<h4\n",
    "   style=\"color:brown;\" >Accuracy Score on Test data using Linear SVC</h4>\n",
    "\n"
   ]
  },
  {
   "cell_type": "code",
   "execution_count": 40,
   "id": "7101a7cb",
   "metadata": {
    "execution": {
     "iopub.execute_input": "2024-01-29T16:44:56.767151Z",
     "iopub.status.busy": "2024-01-29T16:44:56.766832Z",
     "iopub.status.idle": "2024-01-29T16:44:56.773755Z",
     "shell.execute_reply": "2024-01-29T16:44:56.772742Z"
    },
    "papermill": {
     "duration": 0.031417,
     "end_time": "2024-01-29T16:44:56.775633",
     "exception": false,
     "start_time": "2024-01-29T16:44:56.744216",
     "status": "completed"
    },
    "tags": []
   },
   "outputs": [
    {
     "name": "stdout",
     "output_type": "stream",
     "text": [
      "Accuracy: 0.807799442896936\n"
     ]
    }
   ],
   "source": [
    "accuracy = accuracy_score(y_test, preds1)\n",
    "print(\"Accuracy:\", accuracy)"
   ]
  },
  {
   "cell_type": "markdown",
   "id": "aa26153f",
   "metadata": {
    "papermill": {
     "duration": 0.021798,
     "end_time": "2024-01-29T16:44:56.819802",
     "exception": false,
     "start_time": "2024-01-29T16:44:56.798004",
     "status": "completed"
    },
    "tags": []
   },
   "source": [
    "\n",
    "<div id=\"lr\">\n",
    "\n",
    "<h3\n",
    "   style=\"color:green;\" >9. Logistic Regression:</h3>\n",
    "</div>\n"
   ]
  },
  {
   "cell_type": "code",
   "execution_count": 41,
   "id": "5dc44348",
   "metadata": {
    "execution": {
     "iopub.execute_input": "2024-01-29T16:44:56.865689Z",
     "iopub.status.busy": "2024-01-29T16:44:56.865097Z",
     "iopub.status.idle": "2024-01-29T16:46:13.541679Z",
     "shell.execute_reply": "2024-01-29T16:46:13.540769Z"
    },
    "papermill": {
     "duration": 76.747279,
     "end_time": "2024-01-29T16:46:13.589766",
     "exception": false,
     "start_time": "2024-01-29T16:44:56.842487",
     "status": "completed"
    },
    "tags": []
   },
   "outputs": [
    {
     "data": {
      "text/html": [
       "<style>#sk-container-id-2 {color: black;background-color: white;}#sk-container-id-2 pre{padding: 0;}#sk-container-id-2 div.sk-toggleable {background-color: white;}#sk-container-id-2 label.sk-toggleable__label {cursor: pointer;display: block;width: 100%;margin-bottom: 0;padding: 0.3em;box-sizing: border-box;text-align: center;}#sk-container-id-2 label.sk-toggleable__label-arrow:before {content: \"▸\";float: left;margin-right: 0.25em;color: #696969;}#sk-container-id-2 label.sk-toggleable__label-arrow:hover:before {color: black;}#sk-container-id-2 div.sk-estimator:hover label.sk-toggleable__label-arrow:before {color: black;}#sk-container-id-2 div.sk-toggleable__content {max-height: 0;max-width: 0;overflow: hidden;text-align: left;background-color: #f0f8ff;}#sk-container-id-2 div.sk-toggleable__content pre {margin: 0.2em;color: black;border-radius: 0.25em;background-color: #f0f8ff;}#sk-container-id-2 input.sk-toggleable__control:checked~div.sk-toggleable__content {max-height: 200px;max-width: 100%;overflow: auto;}#sk-container-id-2 input.sk-toggleable__control:checked~label.sk-toggleable__label-arrow:before {content: \"▾\";}#sk-container-id-2 div.sk-estimator input.sk-toggleable__control:checked~label.sk-toggleable__label {background-color: #d4ebff;}#sk-container-id-2 div.sk-label input.sk-toggleable__control:checked~label.sk-toggleable__label {background-color: #d4ebff;}#sk-container-id-2 input.sk-hidden--visually {border: 0;clip: rect(1px 1px 1px 1px);clip: rect(1px, 1px, 1px, 1px);height: 1px;margin: -1px;overflow: hidden;padding: 0;position: absolute;width: 1px;}#sk-container-id-2 div.sk-estimator {font-family: monospace;background-color: #f0f8ff;border: 1px dotted black;border-radius: 0.25em;box-sizing: border-box;margin-bottom: 0.5em;}#sk-container-id-2 div.sk-estimator:hover {background-color: #d4ebff;}#sk-container-id-2 div.sk-parallel-item::after {content: \"\";width: 100%;border-bottom: 1px solid gray;flex-grow: 1;}#sk-container-id-2 div.sk-label:hover label.sk-toggleable__label {background-color: #d4ebff;}#sk-container-id-2 div.sk-serial::before {content: \"\";position: absolute;border-left: 1px solid gray;box-sizing: border-box;top: 0;bottom: 0;left: 50%;z-index: 0;}#sk-container-id-2 div.sk-serial {display: flex;flex-direction: column;align-items: center;background-color: white;padding-right: 0.2em;padding-left: 0.2em;position: relative;}#sk-container-id-2 div.sk-item {position: relative;z-index: 1;}#sk-container-id-2 div.sk-parallel {display: flex;align-items: stretch;justify-content: center;background-color: white;position: relative;}#sk-container-id-2 div.sk-item::before, #sk-container-id-2 div.sk-parallel-item::before {content: \"\";position: absolute;border-left: 1px solid gray;box-sizing: border-box;top: 0;bottom: 0;left: 50%;z-index: -1;}#sk-container-id-2 div.sk-parallel-item {display: flex;flex-direction: column;z-index: 1;position: relative;background-color: white;}#sk-container-id-2 div.sk-parallel-item:first-child::after {align-self: flex-end;width: 50%;}#sk-container-id-2 div.sk-parallel-item:last-child::after {align-self: flex-start;width: 50%;}#sk-container-id-2 div.sk-parallel-item:only-child::after {width: 0;}#sk-container-id-2 div.sk-dashed-wrapped {border: 1px dashed gray;margin: 0 0.4em 0.5em 0.4em;box-sizing: border-box;padding-bottom: 0.4em;background-color: white;}#sk-container-id-2 div.sk-label label {font-family: monospace;font-weight: bold;display: inline-block;line-height: 1.2em;}#sk-container-id-2 div.sk-label-container {text-align: center;}#sk-container-id-2 div.sk-container {/* jupyter's `normalize.less` sets `[hidden] { display: none; }` but bootstrap.min.css set `[hidden] { display: none !important; }` so we also need the `!important` here to be able to override the default hidden behavior on the sphinx rendered scikit-learn.org. See: https://github.com/scikit-learn/scikit-learn/issues/21755 */display: inline-block !important;position: relative;}#sk-container-id-2 div.sk-text-repr-fallback {display: none;}</style><div id=\"sk-container-id-2\" class=\"sk-top-container\"><div class=\"sk-text-repr-fallback\"><pre>LogisticRegression(max_iter=1000)</pre><b>In a Jupyter environment, please rerun this cell to show the HTML representation or trust the notebook. <br />On GitHub, the HTML representation is unable to render, please try loading this page with nbviewer.org.</b></div><div class=\"sk-container\" hidden><div class=\"sk-item\"><div class=\"sk-estimator sk-toggleable\"><input class=\"sk-toggleable__control sk-hidden--visually\" id=\"sk-estimator-id-2\" type=\"checkbox\" checked><label for=\"sk-estimator-id-2\" class=\"sk-toggleable__label sk-toggleable__label-arrow\">LogisticRegression</label><div class=\"sk-toggleable__content\"><pre>LogisticRegression(max_iter=1000)</pre></div></div></div></div></div>"
      ],
      "text/plain": [
       "LogisticRegression(max_iter=1000)"
      ]
     },
     "execution_count": 41,
     "metadata": {},
     "output_type": "execute_result"
    }
   ],
   "source": [
    "from sklearn.linear_model import LogisticRegression\n",
    "logReg = LogisticRegression(penalty='l2', max_iter=1000)\n",
    "logReg.fit(X_train_transformed,y_train)"
   ]
  },
  {
   "cell_type": "code",
   "execution_count": 42,
   "id": "a8a7d170",
   "metadata": {
    "execution": {
     "iopub.execute_input": "2024-01-29T16:46:13.637332Z",
     "iopub.status.busy": "2024-01-29T16:46:13.636971Z",
     "iopub.status.idle": "2024-01-29T16:46:13.641777Z",
     "shell.execute_reply": "2024-01-29T16:46:13.640996Z"
    },
    "papermill": {
     "duration": 0.029741,
     "end_time": "2024-01-29T16:46:13.643684",
     "exception": false,
     "start_time": "2024-01-29T16:46:13.613943",
     "status": "completed"
    },
    "tags": []
   },
   "outputs": [],
   "source": [
    "preds2=logReg.predict(X_test_transformed)"
   ]
  },
  {
   "cell_type": "markdown",
   "id": "bed910e9",
   "metadata": {
    "papermill": {
     "duration": 0.021681,
     "end_time": "2024-01-29T16:46:13.687535",
     "exception": false,
     "start_time": "2024-01-29T16:46:13.665854",
     "status": "completed"
    },
    "tags": []
   },
   "source": [
    "\n",
    "<h4\n",
    "   style=\"color:brown;\" >Accuracy Score on Test Data using LogisticRegression:</h4>"
   ]
  },
  {
   "cell_type": "code",
   "execution_count": 43,
   "id": "2d2e11cb",
   "metadata": {
    "execution": {
     "iopub.execute_input": "2024-01-29T16:46:13.733120Z",
     "iopub.status.busy": "2024-01-29T16:46:13.732808Z",
     "iopub.status.idle": "2024-01-29T16:46:13.739111Z",
     "shell.execute_reply": "2024-01-29T16:46:13.738219Z"
    },
    "papermill": {
     "duration": 0.031524,
     "end_time": "2024-01-29T16:46:13.740969",
     "exception": false,
     "start_time": "2024-01-29T16:46:13.709445",
     "status": "completed"
    },
    "tags": []
   },
   "outputs": [
    {
     "name": "stdout",
     "output_type": "stream",
     "text": [
      "Accuracy: 0.8050139275766016\n"
     ]
    }
   ],
   "source": [
    "accuracy = accuracy_score(y_test, preds2)\n",
    "print(\"Accuracy:\", accuracy)"
   ]
  },
  {
   "cell_type": "code",
   "execution_count": 44,
   "id": "def76c4b",
   "metadata": {
    "execution": {
     "iopub.execute_input": "2024-01-29T16:46:13.786311Z",
     "iopub.status.busy": "2024-01-29T16:46:13.785772Z",
     "iopub.status.idle": "2024-01-29T16:46:14.030349Z",
     "shell.execute_reply": "2024-01-29T16:46:14.029470Z"
    },
    "papermill": {
     "duration": 0.269226,
     "end_time": "2024-01-29T16:46:14.032317",
     "exception": false,
     "start_time": "2024-01-29T16:46:13.763091",
     "status": "completed"
    },
    "tags": []
   },
   "outputs": [
    {
     "data": {
      "text/html": [
       "<style>#sk-container-id-3 {color: black;background-color: white;}#sk-container-id-3 pre{padding: 0;}#sk-container-id-3 div.sk-toggleable {background-color: white;}#sk-container-id-3 label.sk-toggleable__label {cursor: pointer;display: block;width: 100%;margin-bottom: 0;padding: 0.3em;box-sizing: border-box;text-align: center;}#sk-container-id-3 label.sk-toggleable__label-arrow:before {content: \"▸\";float: left;margin-right: 0.25em;color: #696969;}#sk-container-id-3 label.sk-toggleable__label-arrow:hover:before {color: black;}#sk-container-id-3 div.sk-estimator:hover label.sk-toggleable__label-arrow:before {color: black;}#sk-container-id-3 div.sk-toggleable__content {max-height: 0;max-width: 0;overflow: hidden;text-align: left;background-color: #f0f8ff;}#sk-container-id-3 div.sk-toggleable__content pre {margin: 0.2em;color: black;border-radius: 0.25em;background-color: #f0f8ff;}#sk-container-id-3 input.sk-toggleable__control:checked~div.sk-toggleable__content {max-height: 200px;max-width: 100%;overflow: auto;}#sk-container-id-3 input.sk-toggleable__control:checked~label.sk-toggleable__label-arrow:before {content: \"▾\";}#sk-container-id-3 div.sk-estimator input.sk-toggleable__control:checked~label.sk-toggleable__label {background-color: #d4ebff;}#sk-container-id-3 div.sk-label input.sk-toggleable__control:checked~label.sk-toggleable__label {background-color: #d4ebff;}#sk-container-id-3 input.sk-hidden--visually {border: 0;clip: rect(1px 1px 1px 1px);clip: rect(1px, 1px, 1px, 1px);height: 1px;margin: -1px;overflow: hidden;padding: 0;position: absolute;width: 1px;}#sk-container-id-3 div.sk-estimator {font-family: monospace;background-color: #f0f8ff;border: 1px dotted black;border-radius: 0.25em;box-sizing: border-box;margin-bottom: 0.5em;}#sk-container-id-3 div.sk-estimator:hover {background-color: #d4ebff;}#sk-container-id-3 div.sk-parallel-item::after {content: \"\";width: 100%;border-bottom: 1px solid gray;flex-grow: 1;}#sk-container-id-3 div.sk-label:hover label.sk-toggleable__label {background-color: #d4ebff;}#sk-container-id-3 div.sk-serial::before {content: \"\";position: absolute;border-left: 1px solid gray;box-sizing: border-box;top: 0;bottom: 0;left: 50%;z-index: 0;}#sk-container-id-3 div.sk-serial {display: flex;flex-direction: column;align-items: center;background-color: white;padding-right: 0.2em;padding-left: 0.2em;position: relative;}#sk-container-id-3 div.sk-item {position: relative;z-index: 1;}#sk-container-id-3 div.sk-parallel {display: flex;align-items: stretch;justify-content: center;background-color: white;position: relative;}#sk-container-id-3 div.sk-item::before, #sk-container-id-3 div.sk-parallel-item::before {content: \"\";position: absolute;border-left: 1px solid gray;box-sizing: border-box;top: 0;bottom: 0;left: 50%;z-index: -1;}#sk-container-id-3 div.sk-parallel-item {display: flex;flex-direction: column;z-index: 1;position: relative;background-color: white;}#sk-container-id-3 div.sk-parallel-item:first-child::after {align-self: flex-end;width: 50%;}#sk-container-id-3 div.sk-parallel-item:last-child::after {align-self: flex-start;width: 50%;}#sk-container-id-3 div.sk-parallel-item:only-child::after {width: 0;}#sk-container-id-3 div.sk-dashed-wrapped {border: 1px dashed gray;margin: 0 0.4em 0.5em 0.4em;box-sizing: border-box;padding-bottom: 0.4em;background-color: white;}#sk-container-id-3 div.sk-label label {font-family: monospace;font-weight: bold;display: inline-block;line-height: 1.2em;}#sk-container-id-3 div.sk-label-container {text-align: center;}#sk-container-id-3 div.sk-container {/* jupyter's `normalize.less` sets `[hidden] { display: none; }` but bootstrap.min.css set `[hidden] { display: none !important; }` so we also need the `!important` here to be able to override the default hidden behavior on the sphinx rendered scikit-learn.org. See: https://github.com/scikit-learn/scikit-learn/issues/21755 */display: inline-block !important;position: relative;}#sk-container-id-3 div.sk-text-repr-fallback {display: none;}</style><div id=\"sk-container-id-3\" class=\"sk-top-container\"><div class=\"sk-text-repr-fallback\"><pre>MultinomialNB()</pre><b>In a Jupyter environment, please rerun this cell to show the HTML representation or trust the notebook. <br />On GitHub, the HTML representation is unable to render, please try loading this page with nbviewer.org.</b></div><div class=\"sk-container\" hidden><div class=\"sk-item\"><div class=\"sk-estimator sk-toggleable\"><input class=\"sk-toggleable__control sk-hidden--visually\" id=\"sk-estimator-id-3\" type=\"checkbox\" checked><label for=\"sk-estimator-id-3\" class=\"sk-toggleable__label sk-toggleable__label-arrow\">MultinomialNB</label><div class=\"sk-toggleable__content\"><pre>MultinomialNB()</pre></div></div></div></div></div>"
      ],
      "text/plain": [
       "MultinomialNB()"
      ]
     },
     "execution_count": 44,
     "metadata": {},
     "output_type": "execute_result"
    }
   ],
   "source": [
    "from sklearn.naive_bayes import MultinomialNB\n",
    "\n",
    "nB = MultinomialNB()\n",
    "nB.fit(X_train_transformed,y_train)"
   ]
  },
  {
   "cell_type": "code",
   "execution_count": 45,
   "id": "81c74585",
   "metadata": {
    "execution": {
     "iopub.execute_input": "2024-01-29T16:46:14.078956Z",
     "iopub.status.busy": "2024-01-29T16:46:14.078425Z",
     "iopub.status.idle": "2024-01-29T16:46:14.084526Z",
     "shell.execute_reply": "2024-01-29T16:46:14.083868Z"
    },
    "papermill": {
     "duration": 0.030921,
     "end_time": "2024-01-29T16:46:14.086318",
     "exception": false,
     "start_time": "2024-01-29T16:46:14.055397",
     "status": "completed"
    },
    "tags": []
   },
   "outputs": [],
   "source": [
    "preds4 = nB.predict(X_test_transformed)"
   ]
  },
  {
   "cell_type": "code",
   "execution_count": 46,
   "id": "2ec9c879",
   "metadata": {
    "execution": {
     "iopub.execute_input": "2024-01-29T16:46:14.131372Z",
     "iopub.status.busy": "2024-01-29T16:46:14.131061Z",
     "iopub.status.idle": "2024-01-29T16:46:14.137433Z",
     "shell.execute_reply": "2024-01-29T16:46:14.136182Z"
    },
    "papermill": {
     "duration": 0.03131,
     "end_time": "2024-01-29T16:46:14.139514",
     "exception": false,
     "start_time": "2024-01-29T16:46:14.108204",
     "status": "completed"
    },
    "tags": []
   },
   "outputs": [
    {
     "name": "stdout",
     "output_type": "stream",
     "text": [
      "Accuracy: 0.7994428969359332\n"
     ]
    }
   ],
   "source": [
    "accuracy = accuracy_score(y_test, preds4)\n",
    "print(\"Accuracy:\", accuracy)"
   ]
  },
  {
   "cell_type": "code",
   "execution_count": null,
   "id": "6c0b5994",
   "metadata": {
    "papermill": {
     "duration": 0.021807,
     "end_time": "2024-01-29T16:46:14.183781",
     "exception": false,
     "start_time": "2024-01-29T16:46:14.161974",
     "status": "completed"
    },
    "tags": []
   },
   "outputs": [],
   "source": []
  }
 ],
 "metadata": {
  "kaggle": {
   "accelerator": "nvidiaTeslaT4",
   "dataSources": [
    {
     "datasetId": 3260041,
     "sourceId": 5670981,
     "sourceType": "datasetVersion"
    }
   ],
   "dockerImageVersionId": 30635,
   "isGpuEnabled": true,
   "isInternetEnabled": true,
   "language": "python",
   "sourceType": "notebook"
  },
  "kernelspec": {
   "display_name": "Python 3",
   "language": "python",
   "name": "python3"
  },
  "language_info": {
   "codemirror_mode": {
    "name": "ipython",
    "version": 3
   },
   "file_extension": ".py",
   "mimetype": "text/x-python",
   "name": "python",
   "nbconvert_exporter": "python",
   "pygments_lexer": "ipython3",
   "version": "3.10.12"
  },
  "papermill": {
   "default_parameters": {},
   "duration": 870.316837,
   "end_time": "2024-01-29T16:46:16.825705",
   "environment_variables": {},
   "exception": null,
   "input_path": "__notebook__.ipynb",
   "output_path": "__notebook__.ipynb",
   "parameters": {},
   "start_time": "2024-01-29T16:31:46.508868",
   "version": "2.4.0"
  }
 },
 "nbformat": 4,
 "nbformat_minor": 5
}
