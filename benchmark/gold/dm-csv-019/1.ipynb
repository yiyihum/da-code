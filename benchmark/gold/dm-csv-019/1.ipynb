{
 "cells": [
  {
   "cell_type": "code",
   "execution_count": 18,
   "metadata": {},
   "outputs": [],
   "source": [
    "import pandas as pd\n",
    "import numpy as np\n",
    "import matplotlib.pyplot as plt\n",
    "import seaborn as sns"
   ]
  },
  {
   "cell_type": "code",
   "execution_count": 19,
   "metadata": {},
   "outputs": [],
   "source": [
    "data = pd.read_csv('../LaLiga_Matches.csv')"
   ]
  },
  {
   "cell_type": "code",
   "execution_count": 20,
   "metadata": {},
   "outputs": [
    {
     "data": {
      "text/html": [
       "<div>\n",
       "<style scoped>\n",
       "    .dataframe tbody tr th:only-of-type {\n",
       "        vertical-align: middle;\n",
       "    }\n",
       "\n",
       "    .dataframe tbody tr th {\n",
       "        vertical-align: top;\n",
       "    }\n",
       "\n",
       "    .dataframe thead th {\n",
       "        text-align: right;\n",
       "    }\n",
       "</style>\n",
       "<table border=\"1\" class=\"dataframe\">\n",
       "  <thead>\n",
       "    <tr style=\"text-align: right;\">\n",
       "      <th></th>\n",
       "      <th>FTHG</th>\n",
       "      <th>FTAG</th>\n",
       "      <th>HTHG</th>\n",
       "      <th>HTAG</th>\n",
       "    </tr>\n",
       "  </thead>\n",
       "  <tbody>\n",
       "    <tr>\n",
       "      <th>count</th>\n",
       "      <td>10883.000000</td>\n",
       "      <td>10883.000000</td>\n",
       "      <td>10881.000000</td>\n",
       "      <td>10881.000000</td>\n",
       "    </tr>\n",
       "    <tr>\n",
       "      <th>mean</th>\n",
       "      <td>1.553340</td>\n",
       "      <td>1.116971</td>\n",
       "      <td>0.687713</td>\n",
       "      <td>0.484790</td>\n",
       "    </tr>\n",
       "    <tr>\n",
       "      <th>std</th>\n",
       "      <td>1.303854</td>\n",
       "      <td>1.114065</td>\n",
       "      <td>0.840542</td>\n",
       "      <td>0.699772</td>\n",
       "    </tr>\n",
       "    <tr>\n",
       "      <th>min</th>\n",
       "      <td>0.000000</td>\n",
       "      <td>0.000000</td>\n",
       "      <td>0.000000</td>\n",
       "      <td>0.000000</td>\n",
       "    </tr>\n",
       "    <tr>\n",
       "      <th>25%</th>\n",
       "      <td>1.000000</td>\n",
       "      <td>0.000000</td>\n",
       "      <td>0.000000</td>\n",
       "      <td>0.000000</td>\n",
       "    </tr>\n",
       "    <tr>\n",
       "      <th>50%</th>\n",
       "      <td>1.000000</td>\n",
       "      <td>1.000000</td>\n",
       "      <td>0.000000</td>\n",
       "      <td>0.000000</td>\n",
       "    </tr>\n",
       "    <tr>\n",
       "      <th>75%</th>\n",
       "      <td>2.000000</td>\n",
       "      <td>2.000000</td>\n",
       "      <td>1.000000</td>\n",
       "      <td>1.000000</td>\n",
       "    </tr>\n",
       "    <tr>\n",
       "      <th>max</th>\n",
       "      <td>10.000000</td>\n",
       "      <td>8.000000</td>\n",
       "      <td>6.000000</td>\n",
       "      <td>6.000000</td>\n",
       "    </tr>\n",
       "  </tbody>\n",
       "</table>\n",
       "</div>"
      ],
      "text/plain": [
       "               FTHG          FTAG          HTHG          HTAG\n",
       "count  10883.000000  10883.000000  10881.000000  10881.000000\n",
       "mean       1.553340      1.116971      0.687713      0.484790\n",
       "std        1.303854      1.114065      0.840542      0.699772\n",
       "min        0.000000      0.000000      0.000000      0.000000\n",
       "25%        1.000000      0.000000      0.000000      0.000000\n",
       "50%        1.000000      1.000000      0.000000      0.000000\n",
       "75%        2.000000      2.000000      1.000000      1.000000\n",
       "max       10.000000      8.000000      6.000000      6.000000"
      ]
     },
     "execution_count": 20,
     "metadata": {},
     "output_type": "execute_result"
    }
   ],
   "source": [
    "data.describe()"
   ]
  },
  {
   "cell_type": "code",
   "execution_count": 21,
   "metadata": {},
   "outputs": [
    {
     "name": "stdout",
     "output_type": "stream",
     "text": [
      "<class 'pandas.core.frame.DataFrame'>\n",
      "RangeIndex: 10883 entries, 0 to 10882\n",
      "Data columns (total 10 columns):\n",
      " #   Column    Non-Null Count  Dtype  \n",
      "---  ------    --------------  -----  \n",
      " 0   Season    10883 non-null  object \n",
      " 1   Date      10883 non-null  object \n",
      " 2   HomeTeam  10883 non-null  object \n",
      " 3   AwayTeam  10883 non-null  object \n",
      " 4   FTHG      10883 non-null  int64  \n",
      " 5   FTAG      10883 non-null  int64  \n",
      " 6   FTR       10883 non-null  object \n",
      " 7   HTHG      10881 non-null  float64\n",
      " 8   HTAG      10881 non-null  float64\n",
      " 9   HTR       10881 non-null  object \n",
      "dtypes: float64(2), int64(2), object(6)\n",
      "memory usage: 850.4+ KB\n"
     ]
    }
   ],
   "source": [
    "data.info()"
   ]
  },
  {
   "cell_type": "code",
   "execution_count": 22,
   "metadata": {},
   "outputs": [
    {
     "data": {
      "text/html": [
       "<div>\n",
       "<style scoped>\n",
       "    .dataframe tbody tr th:only-of-type {\n",
       "        vertical-align: middle;\n",
       "    }\n",
       "\n",
       "    .dataframe tbody tr th {\n",
       "        vertical-align: top;\n",
       "    }\n",
       "\n",
       "    .dataframe thead th {\n",
       "        text-align: right;\n",
       "    }\n",
       "</style>\n",
       "<table border=\"1\" class=\"dataframe\">\n",
       "  <thead>\n",
       "    <tr style=\"text-align: right;\">\n",
       "      <th></th>\n",
       "      <th>Season</th>\n",
       "      <th>Date</th>\n",
       "      <th>HomeTeam</th>\n",
       "      <th>AwayTeam</th>\n",
       "      <th>FTHG</th>\n",
       "      <th>FTAG</th>\n",
       "      <th>FTR</th>\n",
       "      <th>HTHG</th>\n",
       "      <th>HTAG</th>\n",
       "      <th>HTR</th>\n",
       "    </tr>\n",
       "  </thead>\n",
       "  <tbody>\n",
       "    <tr>\n",
       "      <th>136</th>\n",
       "      <td>1995-96</td>\n",
       "      <td>19-11-1995</td>\n",
       "      <td>Ath Bilbao</td>\n",
       "      <td>La Coruna</td>\n",
       "      <td>1</td>\n",
       "      <td>0</td>\n",
       "      <td>H</td>\n",
       "      <td>NaN</td>\n",
       "      <td>NaN</td>\n",
       "      <td>NaN</td>\n",
       "    </tr>\n",
       "    <tr>\n",
       "      <th>1472</th>\n",
       "      <td>1998-99</td>\n",
       "      <td>10-01-1999</td>\n",
       "      <td>Valladolid</td>\n",
       "      <td>Betis</td>\n",
       "      <td>0</td>\n",
       "      <td>3</td>\n",
       "      <td>A</td>\n",
       "      <td>NaN</td>\n",
       "      <td>NaN</td>\n",
       "      <td>NaN</td>\n",
       "    </tr>\n",
       "  </tbody>\n",
       "</table>\n",
       "</div>"
      ],
      "text/plain": [
       "       Season        Date    HomeTeam   AwayTeam  FTHG  FTAG FTR  HTHG  HTAG  \\\n",
       "136   1995-96  19-11-1995  Ath Bilbao  La Coruna     1     0   H   NaN   NaN   \n",
       "1472  1998-99  10-01-1999  Valladolid      Betis     0     3   A   NaN   NaN   \n",
       "\n",
       "      HTR  \n",
       "136   NaN  \n",
       "1472  NaN  "
      ]
     },
     "execution_count": 22,
     "metadata": {},
     "output_type": "execute_result"
    }
   ],
   "source": [
    "data[data.isnull().any(axis=1)]"
   ]
  },
  {
   "cell_type": "code",
   "execution_count": 23,
   "metadata": {},
   "outputs": [],
   "source": [
    "data.loc[136,'HTHG'] = 0\n",
    "data.loc[1472,'HTHG'] = 0\n",
    "\n",
    "data.loc[136,'HTAG'] = 0\n",
    "data.loc[1472,'HTAG'] = 0\n",
    "\n",
    "data.loc[136,'HTR'] = 'D'\n",
    "data.loc[1472,'HTR'] = 'D'"
   ]
  },
  {
   "cell_type": "code",
   "execution_count": 24,
   "metadata": {},
   "outputs": [
    {
     "data": {
      "text/plain": [
       "False"
      ]
     },
     "execution_count": 24,
     "metadata": {},
     "output_type": "execute_result"
    }
   ],
   "source": [
    "data.isnull().values.any()"
   ]
  },
  {
   "cell_type": "code",
   "execution_count": 25,
   "metadata": {},
   "outputs": [],
   "source": [
    "team_list = list(data['HomeTeam'].unique())\n",
    "team_win_dic = {}\n",
    "\n",
    "for team in team_list:\n",
    "    win_cnt = 0\n",
    "    \n",
    "    for i in range(len(data)):\n",
    "        if data['FTR'][i] == 'D' and data['HomeTeam'][i] == team:\n",
    "            win_cnt += 1\n",
    "        elif data['FTR'][i] == 'D' and data['AwayTeam'][i] == team:\n",
    "            win_cnt += 1\n",
    "               \n",
    "    team_win_dic[team] = win_cnt\n",
    "    \n",
    "\n",
    "teams_win = sorted(team_win_dic.items(), key=lambda team : team[1], reverse=True)\n",
    "team_win = pd.DataFrame(teams_win, columns=['Team','Number of Draw']).head(20)"
   ]
  },
  {
   "cell_type": "code",
   "execution_count": 26,
   "metadata": {},
   "outputs": [],
   "source": [
    "team_win.to_csv('result.csv',index=False)"
   ]
  }
 ],
 "metadata": {
  "kernelspec": {
   "display_name": "spider",
   "language": "python",
   "name": "python3"
  },
  "language_info": {
   "codemirror_mode": {
    "name": "ipython",
    "version": 3
   },
   "file_extension": ".py",
   "mimetype": "text/x-python",
   "name": "python",
   "nbconvert_exporter": "python",
   "pygments_lexer": "ipython3",
   "version": "3.11.0"
  }
 },
 "nbformat": 4,
 "nbformat_minor": 2
}
