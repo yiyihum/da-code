{
 "cells": [
  {
   "cell_type": "markdown",
   "id": "cdfc2808",
   "metadata": {
    "papermill": {
     "duration": 0.053648,
     "end_time": "2023-08-01T14:36:27.958981",
     "exception": false,
     "start_time": "2023-08-01T14:36:27.905333",
     "status": "completed"
    },
    "tags": []
   },
   "source": [
    "[Decision Tree Terminology](#1) \n",
    "\n",
    "[CART - Classification and Regression Trees](#2)\n",
    "\n",
    "[Entropy](#3)\n",
    "\n",
    "[Information Gain](#4)\n",
    "\n",
    "[Gini index](#5)\n",
    "\n",
    "[Pruning](#6)\n",
    "\n",
    "[Importing Libraries and Dataset](#7)\n",
    "\n",
    "[Exploratory data analysis ](#8)\n",
    "\n",
    "[Separating Features and Target](#9)\n",
    "\n",
    "[Splitting Dataset to training and test data](#10)\n",
    "\n",
    "[Decision Tree Creation](#11)\n",
    "\n",
    "[ Creation of Decision Tree using Gini Index](#12)\n",
    "\n",
    "[Creation of Decision Tree using with entropy](#13)\n",
    "\n",
    "[Confusion Matrix](#14)\n",
    "\n",
    "[Conclusion](#15)"
   ]
  },
  {
   "cell_type": "markdown",
   "id": "b2857868",
   "metadata": {
    "papermill": {
     "duration": 0.053005,
     "end_time": "2023-08-01T14:36:28.067580",
     "exception": false,
     "start_time": "2023-08-01T14:36:28.014575",
     "status": "completed"
    },
    "tags": []
   },
   "source": [
    "If you want to know how to calculate Entropy and Information Gain mathematically, you can check my medium article [here](https://medium.com/codex/decision-tree-for-classification-entropy-and-information-gain-cd9f99a26e0d)"
   ]
  },
  {
   "cell_type": "markdown",
   "id": "250c08ec",
   "metadata": {
    "papermill": {
     "duration": 0.051893,
     "end_time": "2023-08-01T14:36:28.174563",
     "exception": false,
     "start_time": "2023-08-01T14:36:28.122670",
     "status": "completed"
    },
    "tags": []
   },
   "source": [
    "<a id=\"1\"></a> <br>\n",
    "# 1. Decision Tree Terminology"
   ]
  },
  {
   "cell_type": "markdown",
   "id": "3d5cac53",
   "metadata": {
    "papermill": {
     "duration": 0.05207,
     "end_time": "2023-08-01T14:36:28.280074",
     "exception": false,
     "start_time": "2023-08-01T14:36:28.228004",
     "status": "completed"
    },
    "tags": []
   },
   "source": [
    "A Decision Tree learning is a predictive modeling approach. It is used to address classification problems in statistics, data mining, and machine learning."
   ]
  },
  {
   "cell_type": "markdown",
   "id": "c61c32e6",
   "metadata": {
    "papermill": {
     "duration": 0.052269,
     "end_time": "2023-08-01T14:36:28.384837",
     "exception": false,
     "start_time": "2023-08-01T14:36:28.332568",
     "status": "completed"
    },
    "tags": []
   },
   "source": [
    "It is having a tree-like structure upside down and represents decisions or for decision-making. It can handle high dimension data and have good accuracy.\n",
    "\n",
    "The topmost node is called the root node which has no incoming edges. An internal node represents a test or an attribute and each branch represents an outcome of a test and each terminal node or leaf holds a class. It has one incoming edge and has two or more outgoing edges. Terminal node or Leaf node represents a class node and has exactly one incoming node and no outgoing node."
   ]
  },
  {
   "cell_type": "markdown",
   "id": "a7985aa5",
   "metadata": {
    "papermill": {
     "duration": 0.05163,
     "end_time": "2023-08-01T14:36:28.490117",
     "exception": false,
     "start_time": "2023-08-01T14:36:28.438487",
     "status": "completed"
    },
    "tags": []
   },
   "source": [
    "<a id=\"2\"></a> <br>\n",
    "# 2. CART - Classification and Regression Trees"
   ]
  },
  {
   "cell_type": "markdown",
   "id": "fd8e5d54",
   "metadata": {
    "papermill": {
     "duration": 0.051262,
     "end_time": "2023-08-01T14:36:28.593834",
     "exception": false,
     "start_time": "2023-08-01T14:36:28.542572",
     "status": "completed"
    },
    "tags": []
   },
   "source": [
    "Tree analogy is generally represented by CART known as Classification And Regression Tree. CART is simple to understand, interpret, visualize and requires little effort for data preparation. Moreover, it performs feature selection. Regression trees are mainly used when the target variable is numerical. Here value obtained by a terminal node is always the mean or average of the responses falling in that region. As a result, if any unseen data or observation will predict with the mean value. Classification is used when the target variable is categorical. Here value obtained by a terminal node is the mode of response falling in that region and any unseen data or observation in this region will make a prediction based on the mode value.\n",
    "Even though CART is simple and has great advantages, but it can lead to overfitting if data is not properly handled. Moreover, it can lead to instability, if there is a small variation in data."
   ]
  },
  {
   "cell_type": "markdown",
   "id": "199f5c50",
   "metadata": {
    "papermill": {
     "duration": 0.051384,
     "end_time": "2023-08-01T14:36:28.696766",
     "exception": false,
     "start_time": "2023-08-01T14:36:28.645382",
     "status": "completed"
    },
    "tags": []
   },
   "source": [
    "While growing a tree below points are to be considered :\n",
    "\n",
    "* Features to choose\n",
    "* Conditions for splitting \n",
    "* To know where to stop\n",
    "* Pruning\n",
    "\n",
    "\n",
    "The decision to make a strategic split heavily affects the accuracy of the tree and the decision criteria for regression and classification trees will be different. Entropy/Information gain or Gini Index can be used for choosing the best split. Entropy and Information gain go hand in hand.\n",
    "\n",
    "\n",
    "For a given dataset with different features, to decide which feature to be considered as the root node and which feature should be the next decision node and so on, information gain of each feature should be known. The feature which has maximum information gain will be considered as the root node. To calculate information gain first we should calculate the entropy.\n",
    "\n"
   ]
  },
  {
   "cell_type": "markdown",
   "id": "0e85b851",
   "metadata": {
    "papermill": {
     "duration": 0.051413,
     "end_time": "2023-08-01T14:36:28.800385",
     "exception": false,
     "start_time": "2023-08-01T14:36:28.748972",
     "status": "completed"
    },
    "tags": []
   },
   "source": [
    "<a id=\"3\"></a> <br>\n",
    "# 3. Entropy "
   ]
  },
  {
   "cell_type": "markdown",
   "id": "f13f9690",
   "metadata": {
    "papermill": {
     "duration": 0.05121,
     "end_time": "2023-08-01T14:36:28.903186",
     "exception": false,
     "start_time": "2023-08-01T14:36:28.851976",
     "status": "completed"
    },
    "tags": []
   },
   "source": [
    "Entropy is a measure of disorder or impurity in the given dataset. In the decision tree, messy data are split based on values of the feature vector associated with each data point. With each split, the data becomes more homogenous which will decrease the entropy. However, some data in some nodes will not be homogenous, where the entropy value will not be small. The higher the entropy, the harder it is to draw any conclusion. When the tree finally reaches the terminal or leaf node maximum purity is added.\n",
    "\n"
   ]
  },
  {
   "cell_type": "markdown",
   "id": "4ea90370",
   "metadata": {
    "papermill": {
     "duration": 0.052295,
     "end_time": "2023-08-01T14:36:29.006947",
     "exception": false,
     "start_time": "2023-08-01T14:36:28.954652",
     "status": "completed"
    },
    "tags": []
   },
   "source": [
    "<a id=\"4\"></a> <br>\n",
    "# 4. Information Gain"
   ]
  },
  {
   "cell_type": "markdown",
   "id": "6bdbb3ea",
   "metadata": {
    "papermill": {
     "duration": 0.051232,
     "end_time": "2023-08-01T14:36:29.109732",
     "exception": false,
     "start_time": "2023-08-01T14:36:29.058500",
     "status": "completed"
    },
    "tags": []
   },
   "source": [
    "The Information Gain measures the expected reduction in entropy. Entropy measures impurity in the data and information gain measures reduction in impurity in the data. The feature which has minimum impurity will be considered as the root node. \n",
    "\n",
    "Information gain is used to decide which feature to split on at each step in building the tree. The creation of sub-nodes increases the homogeneity, that is decreases the entropy of these nodes. The more the child node is homogeneous, the more the variance will be decreased after each split. Thus Information Gain is the variance reduction and can calculate by how much the variance decreases after each split.\n",
    "\n",
    "Information gain of a parent node can be calculated as the entropy of the parent node subtracted entropy of the weighted average of the child node."
   ]
  },
  {
   "cell_type": "markdown",
   "id": "a8f0aea9",
   "metadata": {
    "papermill": {
     "duration": 0.054195,
     "end_time": "2023-08-01T14:36:29.215423",
     "exception": false,
     "start_time": "2023-08-01T14:36:29.161228",
     "status": "completed"
    },
    "tags": []
   },
   "source": [
    "<a id=\"5\"></a> <br>\n",
    "# 5. Gini index"
   ]
  },
  {
   "cell_type": "markdown",
   "id": "c7aba572",
   "metadata": {
    "papermill": {
     "duration": 0.051493,
     "end_time": "2023-08-01T14:36:29.318622",
     "exception": false,
     "start_time": "2023-08-01T14:36:29.267129",
     "status": "completed"
    },
    "tags": []
   },
   "source": [
    "The Gini index can also be used for feature selection. The tree chooses the feature that minimizes the Gini impurity index. The higher value of the Gini Index indicates the impurity is higher. Both Gini Index and Gini Impurity are used interchangeably. The Gini Index or Gini Impurity favors large partitions and is very simple to implement. It performs only binary split. For categorical variables, it gives the results in terms of \"success\" or \"failure\"."
   ]
  },
  {
   "cell_type": "markdown",
   "id": "088a67be",
   "metadata": {
    "papermill": {
     "duration": 0.052454,
     "end_time": "2023-08-01T14:36:29.424735",
     "exception": false,
     "start_time": "2023-08-01T14:36:29.372281",
     "status": "completed"
    },
    "tags": []
   },
   "source": [
    "<a id=\"6\"></a> <br>\n",
    "# 6. Pruning"
   ]
  },
  {
   "cell_type": "markdown",
   "id": "0e5775b7",
   "metadata": {
    "papermill": {
     "duration": 0.051293,
     "end_time": "2023-08-01T14:36:29.529999",
     "exception": false,
     "start_time": "2023-08-01T14:36:29.478706",
     "status": "completed"
    },
    "tags": []
   },
   "source": [
    "When the tree is fully grown up, it is liking to overfit data due to noise or outliers which can lead to anomalies in decision trees. Which in turn leads to poor accuracy. This can be handled by using pruning.\n",
    "Pruning is the process of removing redundant comparisons or removing subtrees. Pruning reduces unnecessary comparisons and achieves better performance. Pruned trees are less complex, smaller, and easy to understand. There are two approaches for pruning, the pre-pruning approach in which splitting or partition of the tree is halted at a particular node whereas in post-pruning approach removes subtree from the full tree. A subtree is pruned at a node. It is done by removing the branches at a node and replacing it with a leaf node."
   ]
  },
  {
   "cell_type": "markdown",
   "id": "13ba94ee",
   "metadata": {
    "papermill": {
     "duration": 0.051445,
     "end_time": "2023-08-01T14:36:29.633143",
     "exception": false,
     "start_time": "2023-08-01T14:36:29.581698",
     "status": "completed"
    },
    "tags": []
   },
   "source": [
    "<a id=\"7\"></a> <br>\n",
    "# 7. Importing Libraries and Dataset"
   ]
  },
  {
   "cell_type": "markdown",
   "id": "b9eb2431",
   "metadata": {
    "papermill": {
     "duration": 0.051683,
     "end_time": "2023-08-01T14:36:29.736528",
     "exception": false,
     "start_time": "2023-08-01T14:36:29.684845",
     "status": "completed"
    },
    "tags": []
   },
   "source": [
    "Importing libraries matplotlib and seaborn"
   ]
  },
  {
   "cell_type": "code",
   "execution_count": 1,
   "id": "0c4b62c5",
   "metadata": {
    "execution": {
     "iopub.execute_input": "2023-08-01T14:36:29.850657Z",
     "iopub.status.busy": "2023-08-01T14:36:29.849926Z",
     "iopub.status.idle": "2023-08-01T14:36:30.920409Z",
     "shell.execute_reply": "2023-08-01T14:36:30.919442Z",
     "shell.execute_reply.started": "2022-01-05T06:23:47.817352Z"
    },
    "papermill": {
     "duration": 1.130888,
     "end_time": "2023-08-01T14:36:30.920614",
     "exception": false,
     "start_time": "2023-08-01T14:36:29.789726",
     "status": "completed"
    },
    "tags": []
   },
   "outputs": [],
   "source": [
    "import numpy as np\n",
    "import pandas as pd \n",
    "import matplotlib.pyplot as plt\n",
    "import seaborn  as sns"
   ]
  },
  {
   "cell_type": "markdown",
   "id": "215f5f9e",
   "metadata": {
    "papermill": {
     "duration": 0.052895,
     "end_time": "2023-08-01T14:36:31.025898",
     "exception": false,
     "start_time": "2023-08-01T14:36:30.973003",
     "status": "completed"
    },
    "tags": []
   },
   "source": [
    "Importing data set"
   ]
  },
  {
   "cell_type": "code",
   "execution_count": 2,
   "id": "c277160b",
   "metadata": {
    "execution": {
     "iopub.execute_input": "2023-08-01T14:36:31.135596Z",
     "iopub.status.busy": "2023-08-01T14:36:31.134849Z",
     "iopub.status.idle": "2023-08-01T14:36:31.198396Z",
     "shell.execute_reply": "2023-08-01T14:36:31.197634Z",
     "shell.execute_reply.started": "2022-01-05T06:23:48.740703Z"
    },
    "papermill": {
     "duration": 0.12086,
     "end_time": "2023-08-01T14:36:31.198584",
     "exception": false,
     "start_time": "2023-08-01T14:36:31.077724",
     "status": "completed"
    },
    "tags": []
   },
   "outputs": [],
   "source": [
    "dataset = pd.read_csv('../mushrooms.csv')"
   ]
  },
  {
   "cell_type": "markdown",
   "id": "1248b2ee",
   "metadata": {
    "papermill": {
     "duration": 0.052684,
     "end_time": "2023-08-01T14:36:31.306362",
     "exception": false,
     "start_time": "2023-08-01T14:36:31.253678",
     "status": "completed"
    },
    "tags": []
   },
   "source": [
    "<a id=\"8\"></a> <br>\n",
    "# 8. Exploratory data analysis "
   ]
  },
  {
   "cell_type": "code",
   "execution_count": 3,
   "id": "3ec757a7",
   "metadata": {
    "execution": {
     "iopub.execute_input": "2023-08-01T14:36:31.423304Z",
     "iopub.status.busy": "2023-08-01T14:36:31.422465Z",
     "iopub.status.idle": "2023-08-01T14:36:31.464431Z",
     "shell.execute_reply": "2023-08-01T14:36:31.465005Z",
     "shell.execute_reply.started": "2022-01-05T06:23:59.297567Z"
    },
    "papermill": {
     "duration": 0.106426,
     "end_time": "2023-08-01T14:36:31.465217",
     "exception": false,
     "start_time": "2023-08-01T14:36:31.358791",
     "status": "completed"
    },
    "tags": []
   },
   "outputs": [
    {
     "data": {
      "text/html": [
       "<div>\n",
       "<style scoped>\n",
       "    .dataframe tbody tr th:only-of-type {\n",
       "        vertical-align: middle;\n",
       "    }\n",
       "\n",
       "    .dataframe tbody tr th {\n",
       "        vertical-align: top;\n",
       "    }\n",
       "\n",
       "    .dataframe thead th {\n",
       "        text-align: right;\n",
       "    }\n",
       "</style>\n",
       "<table border=\"1\" class=\"dataframe\">\n",
       "  <thead>\n",
       "    <tr style=\"text-align: right;\">\n",
       "      <th></th>\n",
       "      <th>class</th>\n",
       "      <th>cap-shape</th>\n",
       "      <th>cap-surface</th>\n",
       "      <th>cap-color</th>\n",
       "      <th>bruises</th>\n",
       "      <th>odor</th>\n",
       "      <th>gill-attachment</th>\n",
       "      <th>gill-spacing</th>\n",
       "      <th>gill-size</th>\n",
       "      <th>gill-color</th>\n",
       "      <th>...</th>\n",
       "      <th>stalk-surface-below-ring</th>\n",
       "      <th>stalk-color-above-ring</th>\n",
       "      <th>stalk-color-below-ring</th>\n",
       "      <th>veil-type</th>\n",
       "      <th>veil-color</th>\n",
       "      <th>ring-number</th>\n",
       "      <th>ring-type</th>\n",
       "      <th>spore-print-color</th>\n",
       "      <th>population</th>\n",
       "      <th>habitat</th>\n",
       "    </tr>\n",
       "  </thead>\n",
       "  <tbody>\n",
       "    <tr>\n",
       "      <th>0</th>\n",
       "      <td>p</td>\n",
       "      <td>x</td>\n",
       "      <td>s</td>\n",
       "      <td>n</td>\n",
       "      <td>t</td>\n",
       "      <td>p</td>\n",
       "      <td>f</td>\n",
       "      <td>c</td>\n",
       "      <td>n</td>\n",
       "      <td>k</td>\n",
       "      <td>...</td>\n",
       "      <td>s</td>\n",
       "      <td>w</td>\n",
       "      <td>w</td>\n",
       "      <td>p</td>\n",
       "      <td>w</td>\n",
       "      <td>o</td>\n",
       "      <td>p</td>\n",
       "      <td>k</td>\n",
       "      <td>s</td>\n",
       "      <td>u</td>\n",
       "    </tr>\n",
       "    <tr>\n",
       "      <th>1</th>\n",
       "      <td>e</td>\n",
       "      <td>x</td>\n",
       "      <td>s</td>\n",
       "      <td>y</td>\n",
       "      <td>t</td>\n",
       "      <td>a</td>\n",
       "      <td>f</td>\n",
       "      <td>c</td>\n",
       "      <td>b</td>\n",
       "      <td>k</td>\n",
       "      <td>...</td>\n",
       "      <td>s</td>\n",
       "      <td>w</td>\n",
       "      <td>w</td>\n",
       "      <td>p</td>\n",
       "      <td>w</td>\n",
       "      <td>o</td>\n",
       "      <td>p</td>\n",
       "      <td>n</td>\n",
       "      <td>n</td>\n",
       "      <td>g</td>\n",
       "    </tr>\n",
       "    <tr>\n",
       "      <th>2</th>\n",
       "      <td>e</td>\n",
       "      <td>b</td>\n",
       "      <td>s</td>\n",
       "      <td>w</td>\n",
       "      <td>t</td>\n",
       "      <td>l</td>\n",
       "      <td>f</td>\n",
       "      <td>c</td>\n",
       "      <td>b</td>\n",
       "      <td>n</td>\n",
       "      <td>...</td>\n",
       "      <td>s</td>\n",
       "      <td>w</td>\n",
       "      <td>w</td>\n",
       "      <td>p</td>\n",
       "      <td>w</td>\n",
       "      <td>o</td>\n",
       "      <td>p</td>\n",
       "      <td>n</td>\n",
       "      <td>n</td>\n",
       "      <td>m</td>\n",
       "    </tr>\n",
       "    <tr>\n",
       "      <th>3</th>\n",
       "      <td>p</td>\n",
       "      <td>x</td>\n",
       "      <td>y</td>\n",
       "      <td>w</td>\n",
       "      <td>t</td>\n",
       "      <td>p</td>\n",
       "      <td>f</td>\n",
       "      <td>c</td>\n",
       "      <td>n</td>\n",
       "      <td>n</td>\n",
       "      <td>...</td>\n",
       "      <td>s</td>\n",
       "      <td>w</td>\n",
       "      <td>w</td>\n",
       "      <td>p</td>\n",
       "      <td>w</td>\n",
       "      <td>o</td>\n",
       "      <td>p</td>\n",
       "      <td>k</td>\n",
       "      <td>s</td>\n",
       "      <td>u</td>\n",
       "    </tr>\n",
       "    <tr>\n",
       "      <th>4</th>\n",
       "      <td>e</td>\n",
       "      <td>x</td>\n",
       "      <td>s</td>\n",
       "      <td>g</td>\n",
       "      <td>f</td>\n",
       "      <td>n</td>\n",
       "      <td>f</td>\n",
       "      <td>w</td>\n",
       "      <td>b</td>\n",
       "      <td>k</td>\n",
       "      <td>...</td>\n",
       "      <td>s</td>\n",
       "      <td>w</td>\n",
       "      <td>w</td>\n",
       "      <td>p</td>\n",
       "      <td>w</td>\n",
       "      <td>o</td>\n",
       "      <td>e</td>\n",
       "      <td>n</td>\n",
       "      <td>a</td>\n",
       "      <td>g</td>\n",
       "    </tr>\n",
       "  </tbody>\n",
       "</table>\n",
       "<p>5 rows × 23 columns</p>\n",
       "</div>"
      ],
      "text/plain": [
       "  class cap-shape cap-surface cap-color bruises odor gill-attachment  \\\n",
       "0     p         x           s         n       t    p               f   \n",
       "1     e         x           s         y       t    a               f   \n",
       "2     e         b           s         w       t    l               f   \n",
       "3     p         x           y         w       t    p               f   \n",
       "4     e         x           s         g       f    n               f   \n",
       "\n",
       "  gill-spacing gill-size gill-color  ... stalk-surface-below-ring  \\\n",
       "0            c         n          k  ...                        s   \n",
       "1            c         b          k  ...                        s   \n",
       "2            c         b          n  ...                        s   \n",
       "3            c         n          n  ...                        s   \n",
       "4            w         b          k  ...                        s   \n",
       "\n",
       "  stalk-color-above-ring stalk-color-below-ring veil-type veil-color  \\\n",
       "0                      w                      w         p          w   \n",
       "1                      w                      w         p          w   \n",
       "2                      w                      w         p          w   \n",
       "3                      w                      w         p          w   \n",
       "4                      w                      w         p          w   \n",
       "\n",
       "  ring-number ring-type spore-print-color population habitat  \n",
       "0           o         p                 k          s       u  \n",
       "1           o         p                 n          n       g  \n",
       "2           o         p                 n          n       m  \n",
       "3           o         p                 k          s       u  \n",
       "4           o         e                 n          a       g  \n",
       "\n",
       "[5 rows x 23 columns]"
      ]
     },
     "execution_count": 3,
     "metadata": {},
     "output_type": "execute_result"
    }
   ],
   "source": [
    "#To see the first five rows of the dataset we can use dataset.head()\n",
    "dataset.head()"
   ]
  },
  {
   "cell_type": "code",
   "execution_count": 4,
   "id": "4a6df3f8",
   "metadata": {
    "execution": {
     "iopub.execute_input": "2023-08-01T14:36:31.600087Z",
     "iopub.status.busy": "2023-08-01T14:36:31.599251Z",
     "iopub.status.idle": "2023-08-01T14:36:31.606357Z",
     "shell.execute_reply": "2023-08-01T14:36:31.605727Z",
     "shell.execute_reply.started": "2022-01-05T06:25:39.806969Z"
    },
    "papermill": {
     "duration": 0.086883,
     "end_time": "2023-08-01T14:36:31.606524",
     "exception": false,
     "start_time": "2023-08-01T14:36:31.519641",
     "status": "completed"
    },
    "tags": []
   },
   "outputs": [
    {
     "data": {
      "text/plain": [
       "0"
      ]
     },
     "execution_count": 4,
     "metadata": {},
     "output_type": "execute_result"
    }
   ],
   "source": [
    "dataset.isnull().sum().sum()"
   ]
  },
  {
   "cell_type": "markdown",
   "id": "f2ddf9ba",
   "metadata": {
    "papermill": {
     "duration": 0.054073,
     "end_time": "2023-08-01T14:36:31.713839",
     "exception": false,
     "start_time": "2023-08-01T14:36:31.659766",
     "status": "completed"
    },
    "tags": []
   },
   "source": [
    "There is no null value in the dataset"
   ]
  },
  {
   "cell_type": "code",
   "execution_count": 5,
   "id": "4014c68a",
   "metadata": {
    "execution": {
     "iopub.execute_input": "2023-08-01T14:36:31.824651Z",
     "iopub.status.busy": "2023-08-01T14:36:31.823900Z",
     "iopub.status.idle": "2023-08-01T14:36:31.835581Z",
     "shell.execute_reply": "2023-08-01T14:36:31.836337Z",
     "shell.execute_reply.started": "2021-08-26T18:33:18.752773Z"
    },
    "papermill": {
     "duration": 0.069265,
     "end_time": "2023-08-01T14:36:31.836563",
     "exception": false,
     "start_time": "2023-08-01T14:36:31.767298",
     "status": "completed"
    },
    "tags": []
   },
   "outputs": [
    {
     "data": {
      "text/plain": [
       "array(['p', 'e'], dtype=object)"
      ]
     },
     "execution_count": 5,
     "metadata": {},
     "output_type": "execute_result"
    }
   ],
   "source": [
    "dataset['class'].unique()"
   ]
  },
  {
   "cell_type": "markdown",
   "id": "6e5a9bb2",
   "metadata": {
    "papermill": {
     "duration": 0.054822,
     "end_time": "2023-08-01T14:36:31.946642",
     "exception": false,
     "start_time": "2023-08-01T14:36:31.891820",
     "status": "completed"
    },
    "tags": []
   },
   "source": [
    "The class column is target and it has two clasification which describes if mushroom is poisonous or edible. In class column posionous is p and edible is e."
   ]
  },
  {
   "cell_type": "code",
   "execution_count": 6,
   "id": "c899a027",
   "metadata": {
    "execution": {
     "iopub.execute_input": "2023-08-01T14:36:32.059403Z",
     "iopub.status.busy": "2023-08-01T14:36:32.058508Z",
     "iopub.status.idle": "2023-08-01T14:36:32.095928Z",
     "shell.execute_reply": "2023-08-01T14:36:32.096634Z",
     "shell.execute_reply.started": "2021-08-26T18:33:18.766634Z"
    },
    "papermill": {
     "duration": 0.095678,
     "end_time": "2023-08-01T14:36:32.096842",
     "exception": false,
     "start_time": "2023-08-01T14:36:32.001164",
     "status": "completed"
    },
    "tags": []
   },
   "outputs": [
    {
     "name": "stdout",
     "output_type": "stream",
     "text": [
      "<class 'pandas.core.frame.DataFrame'>\n",
      "RangeIndex: 8124 entries, 0 to 8123\n",
      "Data columns (total 23 columns):\n",
      " #   Column                    Non-Null Count  Dtype \n",
      "---  ------                    --------------  ----- \n",
      " 0   class                     8124 non-null   object\n",
      " 1   cap-shape                 8124 non-null   object\n",
      " 2   cap-surface               8124 non-null   object\n",
      " 3   cap-color                 8124 non-null   object\n",
      " 4   bruises                   8124 non-null   object\n",
      " 5   odor                      8124 non-null   object\n",
      " 6   gill-attachment           8124 non-null   object\n",
      " 7   gill-spacing              8124 non-null   object\n",
      " 8   gill-size                 8124 non-null   object\n",
      " 9   gill-color                8124 non-null   object\n",
      " 10  stalk-shape               8124 non-null   object\n",
      " 11  stalk-root                8124 non-null   object\n",
      " 12  stalk-surface-above-ring  8124 non-null   object\n",
      " 13  stalk-surface-below-ring  8124 non-null   object\n",
      " 14  stalk-color-above-ring    8124 non-null   object\n",
      " 15  stalk-color-below-ring    8124 non-null   object\n",
      " 16  veil-type                 8124 non-null   object\n",
      " 17  veil-color                8124 non-null   object\n",
      " 18  ring-number               8124 non-null   object\n",
      " 19  ring-type                 8124 non-null   object\n",
      " 20  spore-print-color         8124 non-null   object\n",
      " 21  population                8124 non-null   object\n",
      " 22  habitat                   8124 non-null   object\n",
      "dtypes: object(23)\n",
      "memory usage: 1.4+ MB\n"
     ]
    }
   ],
   "source": [
    "# To see if there is any null values in the dataset\n",
    "dataset.info()"
   ]
  },
  {
   "cell_type": "markdown",
   "id": "3a7e819a",
   "metadata": {
    "papermill": {
     "duration": 0.055018,
     "end_time": "2023-08-01T14:36:32.206621",
     "exception": false,
     "start_time": "2023-08-01T14:36:32.151603",
     "status": "completed"
    },
    "tags": []
   },
   "source": [
    "All the features are categorical and there is no missing value."
   ]
  },
  {
   "cell_type": "code",
   "execution_count": 7,
   "id": "26bc25fb",
   "metadata": {
    "execution": {
     "iopub.execute_input": "2023-08-01T14:36:32.325876Z",
     "iopub.status.busy": "2023-08-01T14:36:32.325069Z",
     "iopub.status.idle": "2023-08-01T14:36:32.328824Z",
     "shell.execute_reply": "2023-08-01T14:36:32.329607Z",
     "shell.execute_reply.started": "2021-08-26T18:33:18.812878Z"
    },
    "papermill": {
     "duration": 0.067352,
     "end_time": "2023-08-01T14:36:32.329824",
     "exception": false,
     "start_time": "2023-08-01T14:36:32.262472",
     "status": "completed"
    },
    "tags": []
   },
   "outputs": [
    {
     "data": {
      "text/plain": [
       "(8124, 23)"
      ]
     },
     "execution_count": 7,
     "metadata": {},
     "output_type": "execute_result"
    }
   ],
   "source": [
    "#To find number of rows and column\n",
    "dataset.shape"
   ]
  },
  {
   "cell_type": "code",
   "execution_count": 8,
   "id": "bb2571aa",
   "metadata": {
    "execution": {
     "iopub.execute_input": "2023-08-01T14:36:32.444407Z",
     "iopub.status.busy": "2023-08-01T14:36:32.443598Z",
     "iopub.status.idle": "2023-08-01T14:36:32.686503Z",
     "shell.execute_reply": "2023-08-01T14:36:32.687106Z",
     "shell.execute_reply.started": "2021-08-26T18:36:17.610329Z"
    },
    "papermill": {
     "duration": 0.301986,
     "end_time": "2023-08-01T14:36:32.687335",
     "exception": false,
     "start_time": "2023-08-01T14:36:32.385349",
     "status": "completed"
    },
    "tags": []
   },
   "outputs": [
    {
     "data": {
      "text/plain": [
       "<AxesSubplot:xlabel='class', ylabel='Count'>"
      ]
     },
     "execution_count": 8,
     "metadata": {},
     "output_type": "execute_result"
    },
    {
     "data": {
      "image/png": "[encoded data removed]",
      "text/plain": [
       "<Figure size 432x288 with 1 Axes>"
      ]
     },
     "metadata": {
      "needs_background": "light"
     },
     "output_type": "display_data"
    }
   ],
   "source": [
    "sns.histplot(dataset['class'])"
   ]
  },
  {
   "cell_type": "markdown",
   "id": "53218415",
   "metadata": {
    "papermill": {
     "duration": 0.056158,
     "end_time": "2023-08-01T14:36:32.800377",
     "exception": false,
     "start_time": "2023-08-01T14:36:32.744219",
     "status": "completed"
    },
    "tags": []
   },
   "source": [
    "<a id=\"9\"></a> <br>\n",
    "# 9. Separating Features and Target"
   ]
  },
  {
   "cell_type": "markdown",
   "id": "46e8cc75",
   "metadata": {
    "papermill": {
     "duration": 0.055533,
     "end_time": "2023-08-01T14:36:32.911735",
     "exception": false,
     "start_time": "2023-08-01T14:36:32.856202",
     "status": "completed"
    },
    "tags": []
   },
   "source": [
    "Target is in column class. So X will have all values apart from column class and y will have column class"
   ]
  },
  {
   "cell_type": "code",
   "execution_count": 9,
   "id": "215dd0ff",
   "metadata": {
    "execution": {
     "iopub.execute_input": "2023-08-01T14:36:33.029434Z",
     "iopub.status.busy": "2023-08-01T14:36:33.028518Z",
     "iopub.status.idle": "2023-08-01T14:36:33.036739Z",
     "shell.execute_reply": "2023-08-01T14:36:33.037390Z",
     "shell.execute_reply.started": "2021-08-26T18:24:15.744262Z"
    },
    "papermill": {
     "duration": 0.069924,
     "end_time": "2023-08-01T14:36:33.037608",
     "exception": false,
     "start_time": "2023-08-01T14:36:32.967684",
     "status": "completed"
    },
    "tags": []
   },
   "outputs": [],
   "source": [
    "X = dataset.drop(['class'],axis=1)\n",
    "y = dataset['class']"
   ]
  },
  {
   "cell_type": "markdown",
   "id": "6b554910",
   "metadata": {
    "papermill": {
     "duration": 0.05539,
     "end_time": "2023-08-01T14:36:33.149158",
     "exception": false,
     "start_time": "2023-08-01T14:36:33.093768",
     "status": "completed"
    },
    "tags": []
   },
   "source": [
    "As all the values in the dataset are categorical.\n",
    "X can be encoded using pandas dummy variable and y using LabelEncoder.\n",
    "\n",
    "Dummy variable creates a separte column for each unique value of the column, where as LabelEncoder encodes target labels with value between 0 and n_classes-1. LabelEncoder should be used to encode target values, i.e. y, and not the input X."
   ]
  },
  {
   "cell_type": "code",
   "execution_count": 10,
   "id": "a26a5fec",
   "metadata": {
    "execution": {
     "iopub.execute_input": "2023-08-01T14:36:33.265005Z",
     "iopub.status.busy": "2023-08-01T14:36:33.264246Z",
     "iopub.status.idle": "2023-08-01T14:36:33.334361Z",
     "shell.execute_reply": "2023-08-01T14:36:33.334974Z",
     "shell.execute_reply.started": "2021-08-26T18:04:11.776633Z"
    },
    "papermill": {
     "duration": 0.130023,
     "end_time": "2023-08-01T14:36:33.335188",
     "exception": false,
     "start_time": "2023-08-01T14:36:33.205165",
     "status": "completed"
    },
    "tags": []
   },
   "outputs": [
    {
     "data": {
      "text/html": [
       "<div>\n",
       "<style scoped>\n",
       "    .dataframe tbody tr th:only-of-type {\n",
       "        vertical-align: middle;\n",
       "    }\n",
       "\n",
       "    .dataframe tbody tr th {\n",
       "        vertical-align: top;\n",
       "    }\n",
       "\n",
       "    .dataframe thead th {\n",
       "        text-align: right;\n",
       "    }\n",
       "</style>\n",
       "<table border=\"1\" class=\"dataframe\">\n",
       "  <thead>\n",
       "    <tr style=\"text-align: right;\">\n",
       "      <th></th>\n",
       "      <th>cap-shape_b</th>\n",
       "      <th>cap-shape_c</th>\n",
       "      <th>cap-shape_f</th>\n",
       "      <th>cap-shape_k</th>\n",
       "      <th>cap-shape_s</th>\n",
       "      <th>cap-shape_x</th>\n",
       "      <th>cap-surface_f</th>\n",
       "      <th>cap-surface_g</th>\n",
       "      <th>cap-surface_s</th>\n",
       "      <th>cap-surface_y</th>\n",
       "      <th>...</th>\n",
       "      <th>population_s</th>\n",
       "      <th>population_v</th>\n",
       "      <th>population_y</th>\n",
       "      <th>habitat_d</th>\n",
       "      <th>habitat_g</th>\n",
       "      <th>habitat_l</th>\n",
       "      <th>habitat_m</th>\n",
       "      <th>habitat_p</th>\n",
       "      <th>habitat_u</th>\n",
       "      <th>habitat_w</th>\n",
       "    </tr>\n",
       "  </thead>\n",
       "  <tbody>\n",
       "    <tr>\n",
       "      <th>0</th>\n",
       "      <td>0</td>\n",
       "      <td>0</td>\n",
       "      <td>0</td>\n",
       "      <td>0</td>\n",
       "      <td>0</td>\n",
       "      <td>1</td>\n",
       "      <td>0</td>\n",
       "      <td>0</td>\n",
       "      <td>1</td>\n",
       "      <td>0</td>\n",
       "      <td>...</td>\n",
       "      <td>1</td>\n",
       "      <td>0</td>\n",
       "      <td>0</td>\n",
       "      <td>0</td>\n",
       "      <td>0</td>\n",
       "      <td>0</td>\n",
       "      <td>0</td>\n",
       "      <td>0</td>\n",
       "      <td>1</td>\n",
       "      <td>0</td>\n",
       "    </tr>\n",
       "    <tr>\n",
       "      <th>1</th>\n",
       "      <td>0</td>\n",
       "      <td>0</td>\n",
       "      <td>0</td>\n",
       "      <td>0</td>\n",
       "      <td>0</td>\n",
       "      <td>1</td>\n",
       "      <td>0</td>\n",
       "      <td>0</td>\n",
       "      <td>1</td>\n",
       "      <td>0</td>\n",
       "      <td>...</td>\n",
       "      <td>0</td>\n",
       "      <td>0</td>\n",
       "      <td>0</td>\n",
       "      <td>0</td>\n",
       "      <td>1</td>\n",
       "      <td>0</td>\n",
       "      <td>0</td>\n",
       "      <td>0</td>\n",
       "      <td>0</td>\n",
       "      <td>0</td>\n",
       "    </tr>\n",
       "    <tr>\n",
       "      <th>2</th>\n",
       "      <td>1</td>\n",
       "      <td>0</td>\n",
       "      <td>0</td>\n",
       "      <td>0</td>\n",
       "      <td>0</td>\n",
       "      <td>0</td>\n",
       "      <td>0</td>\n",
       "      <td>0</td>\n",
       "      <td>1</td>\n",
       "      <td>0</td>\n",
       "      <td>...</td>\n",
       "      <td>0</td>\n",
       "      <td>0</td>\n",
       "      <td>0</td>\n",
       "      <td>0</td>\n",
       "      <td>0</td>\n",
       "      <td>0</td>\n",
       "      <td>1</td>\n",
       "      <td>0</td>\n",
       "      <td>0</td>\n",
       "      <td>0</td>\n",
       "    </tr>\n",
       "    <tr>\n",
       "      <th>3</th>\n",
       "      <td>0</td>\n",
       "      <td>0</td>\n",
       "      <td>0</td>\n",
       "      <td>0</td>\n",
       "      <td>0</td>\n",
       "      <td>1</td>\n",
       "      <td>0</td>\n",
       "      <td>0</td>\n",
       "      <td>0</td>\n",
       "      <td>1</td>\n",
       "      <td>...</td>\n",
       "      <td>1</td>\n",
       "      <td>0</td>\n",
       "      <td>0</td>\n",
       "      <td>0</td>\n",
       "      <td>0</td>\n",
       "      <td>0</td>\n",
       "      <td>0</td>\n",
       "      <td>0</td>\n",
       "      <td>1</td>\n",
       "      <td>0</td>\n",
       "    </tr>\n",
       "    <tr>\n",
       "      <th>4</th>\n",
       "      <td>0</td>\n",
       "      <td>0</td>\n",
       "      <td>0</td>\n",
       "      <td>0</td>\n",
       "      <td>0</td>\n",
       "      <td>1</td>\n",
       "      <td>0</td>\n",
       "      <td>0</td>\n",
       "      <td>1</td>\n",
       "      <td>0</td>\n",
       "      <td>...</td>\n",
       "      <td>0</td>\n",
       "      <td>0</td>\n",
       "      <td>0</td>\n",
       "      <td>0</td>\n",
       "      <td>1</td>\n",
       "      <td>0</td>\n",
       "      <td>0</td>\n",
       "      <td>0</td>\n",
       "      <td>0</td>\n",
       "      <td>0</td>\n",
       "    </tr>\n",
       "  </tbody>\n",
       "</table>\n",
       "<p>5 rows × 117 columns</p>\n",
       "</div>"
      ],
      "text/plain": [
       "   cap-shape_b  cap-shape_c  cap-shape_f  cap-shape_k  cap-shape_s  \\\n",
       "0            0            0            0            0            0   \n",
       "1            0            0            0            0            0   \n",
       "2            1            0            0            0            0   \n",
       "3            0            0            0            0            0   \n",
       "4            0            0            0            0            0   \n",
       "\n",
       "   cap-shape_x  cap-surface_f  cap-surface_g  cap-surface_s  cap-surface_y  \\\n",
       "0            1              0              0              1              0   \n",
       "1            1              0              0              1              0   \n",
       "2            0              0              0              1              0   \n",
       "3            1              0              0              0              1   \n",
       "4            1              0              0              1              0   \n",
       "\n",
       "   ...  population_s  population_v  population_y  habitat_d  habitat_g  \\\n",
       "0  ...             1             0             0          0          0   \n",
       "1  ...             0             0             0          0          1   \n",
       "2  ...             0             0             0          0          0   \n",
       "3  ...             1             0             0          0          0   \n",
       "4  ...             0             0             0          0          1   \n",
       "\n",
       "   habitat_l  habitat_m  habitat_p  habitat_u  habitat_w  \n",
       "0          0          0          0          1          0  \n",
       "1          0          0          0          0          0  \n",
       "2          0          1          0          0          0  \n",
       "3          0          0          0          1          0  \n",
       "4          0          0          0          0          0  \n",
       "\n",
       "[5 rows x 117 columns]"
      ]
     },
     "execution_count": 10,
     "metadata": {},
     "output_type": "execute_result"
    }
   ],
   "source": [
    "X = pd.get_dummies(X)\n",
    "X.head()"
   ]
  },
  {
   "cell_type": "code",
   "execution_count": 11,
   "id": "6c48c590",
   "metadata": {
    "execution": {
     "iopub.execute_input": "2023-08-01T14:36:33.456692Z",
     "iopub.status.busy": "2023-08-01T14:36:33.455790Z",
     "iopub.status.idle": "2023-08-01T14:36:33.599295Z",
     "shell.execute_reply": "2023-08-01T14:36:33.598599Z",
     "shell.execute_reply.started": "2021-08-26T18:04:11.835927Z"
    },
    "papermill": {
     "duration": 0.206871,
     "end_time": "2023-08-01T14:36:33.599465",
     "exception": false,
     "start_time": "2023-08-01T14:36:33.392594",
     "status": "completed"
    },
    "tags": []
   },
   "outputs": [
    {
     "name": "stdout",
     "output_type": "stream",
     "text": [
      "[1 0 0 ... 0 1 0]\n"
     ]
    }
   ],
   "source": [
    "from sklearn.preprocessing import LabelEncoder\n",
    "\n",
    "encoder = LabelEncoder()\n",
    "y = encoder.fit_transform(y)\n",
    "print(y)"
   ]
  },
  {
   "cell_type": "markdown",
   "id": "62d4ef78",
   "metadata": {
    "papermill": {
     "duration": 0.057966,
     "end_time": "2023-08-01T14:36:33.715916",
     "exception": false,
     "start_time": "2023-08-01T14:36:33.657950",
     "status": "completed"
    },
    "tags": []
   },
   "source": [
    "For y variable encoding is done as\n",
    "Poisonous = p -> 1\n",
    "Edible = e -> 0"
   ]
  },
  {
   "cell_type": "markdown",
   "id": "e4202192",
   "metadata": {
    "papermill": {
     "duration": 0.05702,
     "end_time": "2023-08-01T14:36:33.830175",
     "exception": false,
     "start_time": "2023-08-01T14:36:33.773155",
     "status": "completed"
    },
    "tags": []
   },
   "source": [
    "<a id=\"10\"></a> <br>\n",
    "# 10. Splitting Dataset to training and test data"
   ]
  },
  {
   "cell_type": "code",
   "execution_count": 12,
   "id": "86d667c6",
   "metadata": {
    "execution": {
     "iopub.execute_input": "2023-08-01T14:36:33.948406Z",
     "iopub.status.busy": "2023-08-01T14:36:33.947340Z",
     "iopub.status.idle": "2023-08-01T14:36:34.017949Z",
     "shell.execute_reply": "2023-08-01T14:36:34.016643Z",
     "shell.execute_reply.started": "2021-08-26T18:04:11.969441Z"
    },
    "papermill": {
     "duration": 0.1311,
     "end_time": "2023-08-01T14:36:34.018153",
     "exception": false,
     "start_time": "2023-08-01T14:36:33.887053",
     "status": "completed"
    },
    "tags": []
   },
   "outputs": [],
   "source": [
    "from sklearn.model_selection import train_test_split\n",
    "X_train, X_test, y_train, y_test = train_test_split(X, y, test_size=0.2, random_state=1)"
   ]
  },
  {
   "cell_type": "code",
   "execution_count": 13,
   "id": "4e3ab955",
   "metadata": {
    "execution": {
     "iopub.execute_input": "2023-08-01T14:36:34.139574Z",
     "iopub.status.busy": "2023-08-01T14:36:34.138583Z",
     "iopub.status.idle": "2023-08-01T14:36:34.143001Z",
     "shell.execute_reply": "2023-08-01T14:36:34.142429Z",
     "shell.execute_reply.started": "2021-08-26T18:04:12.037934Z"
    },
    "papermill": {
     "duration": 0.068008,
     "end_time": "2023-08-01T14:36:34.143192",
     "exception": false,
     "start_time": "2023-08-01T14:36:34.075184",
     "status": "completed"
    },
    "tags": []
   },
   "outputs": [
    {
     "data": {
      "text/plain": [
       "((6499, 117), (1625, 117))"
      ]
     },
     "execution_count": 13,
     "metadata": {},
     "output_type": "execute_result"
    }
   ],
   "source": [
    "X_train.shape , X_test.shape"
   ]
  },
  {
   "cell_type": "code",
   "execution_count": 14,
   "id": "937734b3",
   "metadata": {
    "execution": {
     "iopub.execute_input": "2023-08-01T14:36:34.266639Z",
     "iopub.status.busy": "2023-08-01T14:36:34.265618Z",
     "iopub.status.idle": "2023-08-01T14:36:34.268872Z",
     "shell.execute_reply": "2023-08-01T14:36:34.269464Z",
     "shell.execute_reply.started": "2021-08-26T18:04:12.046039Z"
    },
    "papermill": {
     "duration": 0.068889,
     "end_time": "2023-08-01T14:36:34.269663",
     "exception": false,
     "start_time": "2023-08-01T14:36:34.200774",
     "status": "completed"
    },
    "tags": []
   },
   "outputs": [
    {
     "data": {
      "text/plain": [
       "((6499,), (1625,))"
      ]
     },
     "execution_count": 14,
     "metadata": {},
     "output_type": "execute_result"
    }
   ],
   "source": [
    "y_train.shape , y_test.shape"
   ]
  },
  {
   "cell_type": "markdown",
   "id": "64d3bae4",
   "metadata": {
    "papermill": {
     "duration": 0.061557,
     "end_time": "2023-08-01T14:36:34.390330",
     "exception": false,
     "start_time": "2023-08-01T14:36:34.328773",
     "status": "completed"
    },
    "tags": []
   },
   "source": [
    "<a id=\"11\"></a> <br>\n",
    "# 11. Decision Tree Creation"
   ]
  },
  {
   "cell_type": "code",
   "execution_count": 15,
   "id": "869f5fae",
   "metadata": {
    "execution": {
     "iopub.execute_input": "2023-08-01T14:36:34.511317Z",
     "iopub.status.busy": "2023-08-01T14:36:34.510563Z",
     "iopub.status.idle": "2023-08-01T14:36:34.704259Z",
     "shell.execute_reply": "2023-08-01T14:36:34.702839Z",
     "shell.execute_reply.started": "2021-08-26T18:04:12.057406Z"
    },
    "papermill": {
     "duration": 0.255757,
     "end_time": "2023-08-01T14:36:34.704439",
     "exception": false,
     "start_time": "2023-08-01T14:36:34.448682",
     "status": "completed"
    },
    "tags": []
   },
   "outputs": [],
   "source": [
    "from sklearn.tree import DecisionTreeClassifier\n",
    "from sklearn import tree"
   ]
  },
  {
   "cell_type": "code",
   "execution_count": 16,
   "id": "ada46759",
   "metadata": {
    "execution": {
     "iopub.execute_input": "2023-08-01T14:36:34.825727Z",
     "iopub.status.busy": "2023-08-01T14:36:34.824959Z",
     "iopub.status.idle": "2023-08-01T14:36:34.828298Z",
     "shell.execute_reply": "2023-08-01T14:36:34.827631Z",
     "shell.execute_reply.started": "2021-08-26T18:04:12.222901Z"
    },
    "papermill": {
     "duration": 0.065942,
     "end_time": "2023-08-01T14:36:34.828459",
     "exception": false,
     "start_time": "2023-08-01T14:36:34.762517",
     "status": "completed"
    },
    "tags": []
   },
   "outputs": [],
   "source": [
    "from sklearn.metrics import accuracy_score"
   ]
  },
  {
   "cell_type": "markdown",
   "id": "189fb581",
   "metadata": {
    "papermill": {
     "duration": 0.057513,
     "end_time": "2023-08-01T14:36:34.943861",
     "exception": false,
     "start_time": "2023-08-01T14:36:34.886348",
     "status": "completed"
    },
    "tags": []
   },
   "source": [
    "<a id=\"12\"></a> <br>\n",
    "# 12. Creation of Decision Tree using Gini Index"
   ]
  },
  {
   "cell_type": "code",
   "execution_count": 17,
   "id": "be509272",
   "metadata": {
    "execution": {
     "iopub.execute_input": "2023-08-01T14:36:35.068423Z",
     "iopub.status.busy": "2023-08-01T14:36:35.067599Z",
     "iopub.status.idle": "2023-08-01T14:36:35.099965Z",
     "shell.execute_reply": "2023-08-01T14:36:35.100589Z",
     "shell.execute_reply.started": "2021-08-26T18:04:12.227702Z"
    },
    "papermill": {
     "duration": 0.096974,
     "end_time": "2023-08-01T14:36:35.100788",
     "exception": false,
     "start_time": "2023-08-01T14:36:35.003814",
     "status": "completed"
    },
    "tags": []
   },
   "outputs": [
    {
     "data": {
      "text/plain": [
       "DecisionTreeClassifier(max_depth=3, random_state=0)"
      ]
     },
     "execution_count": 17,
     "metadata": {},
     "output_type": "execute_result"
    }
   ],
   "source": [
    "#Using the Decision Tree Classifier with splitting criterion as Gini impurity, the maximum depth of the tree is 3.\n",
    "clf_gini = DecisionTreeClassifier(criterion='gini', max_depth=3, random_state=0)\n",
    "\n",
    "\n",
    "# fit the model\n",
    "clf_gini.fit(X_train, y_train)"
   ]
  },
  {
   "cell_type": "code",
   "execution_count": 18,
   "id": "4a651212",
   "metadata": {
    "execution": {
     "iopub.execute_input": "2023-08-01T14:36:35.220745Z",
     "iopub.status.busy": "2023-08-01T14:36:35.219967Z",
     "iopub.status.idle": "2023-08-01T14:36:36.304720Z",
     "shell.execute_reply": "2023-08-01T14:36:36.304092Z",
     "shell.execute_reply.started": "2021-08-26T18:04:12.266231Z"
    },
    "papermill": {
     "duration": 1.145983,
     "end_time": "2023-08-01T14:36:36.304875",
     "exception": false,
     "start_time": "2023-08-01T14:36:35.158892",
     "status": "completed"
    },
    "tags": []
   },
   "outputs": [
    {
     "data": {
      "text/plain": [
       "[Text(386.3076923076923, 380.52, 'X[27] <= 0.5\\ngini = 0.499\\nsamples = 6499\\nvalue = [3388, 3111]'),\n",
       " Text(206.03076923076924, 271.8, 'X[53] <= 0.5\\ngini = 0.288\\nsamples = 3660\\nvalue = [637, 3023]'),\n",
       " Text(103.01538461538462, 163.07999999999998, 'X[55] <= 0.5\\ngini = 0.135\\nsamples = 3229\\nvalue = [236, 2993]'),\n",
       " Text(51.50769230769231, 54.360000000000014, 'gini = 0.055\\nsamples = 3080\\nvalue = [87, 2993]'),\n",
       " Text(154.52307692307693, 54.360000000000014, 'gini = 0.0\\nsamples = 149\\nvalue = [149, 0]'),\n",
       " Text(309.04615384615386, 163.07999999999998, 'X[94] <= 0.5\\ngini = 0.13\\nsamples = 431\\nvalue = [401, 30]'),\n",
       " Text(257.53846153846155, 54.360000000000014, 'gini = 0.0\\nsamples = 30\\nvalue = [0, 30]'),\n",
       " Text(360.55384615384617, 54.360000000000014, 'gini = 0.0\\nsamples = 401\\nvalue = [401, 0]'),\n",
       " Text(566.5846153846154, 271.8, 'X[100] <= 0.5\\ngini = 0.06\\nsamples = 2839\\nvalue = [2751, 88]'),\n",
       " Text(515.0769230769231, 163.07999999999998, 'X[63] <= 0.5\\ngini = 0.023\\nsamples = 2784\\nvalue = [2751, 33]'),\n",
       " Text(463.5692307692308, 54.360000000000014, 'gini = 0.002\\nsamples = 2740\\nvalue = [2737, 3]'),\n",
       " Text(566.5846153846154, 54.360000000000014, 'gini = 0.434\\nsamples = 44\\nvalue = [14, 30]'),\n",
       " Text(618.0923076923077, 163.07999999999998, 'gini = 0.0\\nsamples = 55\\nvalue = [0, 55]')]"
      ]
     },
     "execution_count": 18,
     "metadata": {},
     "output_type": "execute_result"
    },
    {
     "data": {
      "image/png": "[encoded data removed]",
      "text/plain": [
       "<Figure size 864x576 with 1 Axes>"
      ]
     },
     "metadata": {
      "needs_background": "light"
     },
     "output_type": "display_data"
    }
   ],
   "source": [
    "#Plot the tree\n",
    "plt.figure(figsize=(12,8))\n",
    "\n",
    "tree.plot_tree(clf_gini.fit(X_train, y_train)) "
   ]
  },
  {
   "cell_type": "code",
   "execution_count": 19,
   "id": "e90cf9e1",
   "metadata": {
    "execution": {
     "iopub.execute_input": "2023-08-01T14:36:36.436843Z",
     "iopub.status.busy": "2023-08-01T14:36:36.436065Z",
     "iopub.status.idle": "2023-08-01T14:36:36.439738Z",
     "shell.execute_reply": "2023-08-01T14:36:36.438992Z",
     "shell.execute_reply.started": "2021-08-26T18:04:13.109796Z"
    },
    "papermill": {
     "duration": 0.073896,
     "end_time": "2023-08-01T14:36:36.439909",
     "exception": false,
     "start_time": "2023-08-01T14:36:36.366013",
     "status": "completed"
    },
    "tags": []
   },
   "outputs": [],
   "source": [
    "#Predict the values \n",
    "y_pred_gini = clf_gini.predict(X_test)"
   ]
  },
  {
   "cell_type": "markdown",
   "id": "6bbe4a37",
   "metadata": {
    "papermill": {
     "duration": 0.060897,
     "end_time": "2023-08-01T14:36:36.562776",
     "exception": false,
     "start_time": "2023-08-01T14:36:36.501879",
     "status": "completed"
    },
    "tags": []
   },
   "source": [
    "Overfitting occurs when accuracy for traning set is high and test set is very low comparing to training set. Overfitting is very common problem with decision tree."
   ]
  },
  {
   "cell_type": "code",
   "execution_count": 20,
   "id": "ce9d83f6",
   "metadata": {
    "execution": {
     "iopub.execute_input": "2023-08-01T14:36:36.688321Z",
     "iopub.status.busy": "2023-08-01T14:36:36.687534Z",
     "iopub.status.idle": "2023-08-01T14:36:36.701915Z",
     "shell.execute_reply": "2023-08-01T14:36:36.701110Z",
     "shell.execute_reply.started": "2021-08-26T18:04:13.119189Z"
    },
    "papermill": {
     "duration": 0.078313,
     "end_time": "2023-08-01T14:36:36.702098",
     "exception": false,
     "start_time": "2023-08-01T14:36:36.623785",
     "status": "completed"
    },
    "tags": []
   },
   "outputs": [
    {
     "data": {
      "text/plain": [
       "array([0, 0, 1, ..., 1, 1, 1])"
      ]
     },
     "execution_count": 20,
     "metadata": {},
     "output_type": "execute_result"
    }
   ],
   "source": [
    "#Predict the value using X train for accuracy comparision \n",
    "y_pred_train_gini = clf_gini.predict(X_train)\n",
    "\n",
    "y_pred_train_gini"
   ]
  },
  {
   "cell_type": "code",
   "execution_count": 21,
   "id": "0bf14ac8",
   "metadata": {
    "execution": {
     "iopub.execute_input": "2023-08-01T14:36:36.828912Z",
     "iopub.status.busy": "2023-08-01T14:36:36.828103Z",
     "iopub.status.idle": "2023-08-01T14:36:36.835936Z",
     "shell.execute_reply": "2023-08-01T14:36:36.836536Z",
     "shell.execute_reply.started": "2021-08-26T18:04:13.137559Z"
    },
    "papermill": {
     "duration": 0.073043,
     "end_time": "2023-08-01T14:36:36.836734",
     "exception": false,
     "start_time": "2023-08-01T14:36:36.763691",
     "status": "completed"
    },
    "tags": []
   },
   "outputs": [
    {
     "name": "stdout",
     "output_type": "stream",
     "text": [
      "Model accuracy score with criterion gini index: 0.9902\n",
      "Training-set accuracy score: 0.9840\n"
     ]
    }
   ],
   "source": [
    "#Determine the accuracy score\n",
    "print('Model accuracy score with criterion gini index: {0:0.4f}'. format(accuracy_score(y_test, y_pred_gini)))\n",
    "#Accuracy Score for training set\n",
    "print('Training-set accuracy score: {0:0.4f}'. format(accuracy_score(y_train, y_pred_train_gini)))"
   ]
  },
  {
   "cell_type": "markdown",
   "id": "872d1ab7",
   "metadata": {
    "papermill": {
     "duration": 0.061276,
     "end_time": "2023-08-01T14:36:36.959700",
     "exception": false,
     "start_time": "2023-08-01T14:36:36.898424",
     "status": "completed"
    },
    "tags": []
   },
   "source": [
    "<a id=\"13\"></a> <br>\n",
    "# 13. Creation of Decision Tree using with entropy"
   ]
  },
  {
   "cell_type": "code",
   "execution_count": 22,
   "id": "b312b389",
   "metadata": {
    "execution": {
     "iopub.execute_input": "2023-08-01T14:36:37.090179Z",
     "iopub.status.busy": "2023-08-01T14:36:37.089369Z",
     "iopub.status.idle": "2023-08-01T14:36:37.117242Z",
     "shell.execute_reply": "2023-08-01T14:36:37.117896Z",
     "shell.execute_reply.started": "2021-08-26T18:04:13.150157Z"
    },
    "papermill": {
     "duration": 0.095894,
     "end_time": "2023-08-01T14:36:37.118120",
     "exception": false,
     "start_time": "2023-08-01T14:36:37.022226",
     "status": "completed"
    },
    "tags": []
   },
   "outputs": [
    {
     "data": {
      "text/plain": [
       "DecisionTreeClassifier(criterion='entropy', max_depth=3, random_state=0)"
      ]
     },
     "execution_count": 22,
     "metadata": {},
     "output_type": "execute_result"
    }
   ],
   "source": [
    "clf_en = DecisionTreeClassifier(criterion='entropy', max_depth=3, random_state=0)\n",
    "\n",
    "\n",
    "# fit the model\n",
    "clf_en.fit(X_train, y_train)"
   ]
  },
  {
   "cell_type": "code",
   "execution_count": 23,
   "id": "4efc9e79",
   "metadata": {
    "execution": {
     "iopub.execute_input": "2023-08-01T14:36:37.255961Z",
     "iopub.status.busy": "2023-08-01T14:36:37.255140Z",
     "iopub.status.idle": "2023-08-01T14:36:38.181997Z",
     "shell.execute_reply": "2023-08-01T14:36:38.181299Z",
     "shell.execute_reply.started": "2021-08-26T18:04:13.178644Z"
    },
    "papermill": {
     "duration": 1.001028,
     "end_time": "2023-08-01T14:36:38.182204",
     "exception": false,
     "start_time": "2023-08-01T14:36:37.181176",
     "status": "completed"
    },
    "tags": []
   },
   "outputs": [
    {
     "data": {
      "text/plain": [
       "[Text(372.0, 380.52, 'X[27] <= 0.5\\nentropy = 0.999\\nsamples = 6499\\nvalue = [3388, 3111]'),\n",
       " Text(223.20000000000002, 271.8, 'X[20] <= 0.5\\nentropy = 0.667\\nsamples = 3660\\nvalue = [637, 3023]'),\n",
       " Text(148.8, 163.07999999999998, 'X[53] <= 0.5\\nentropy = 0.976\\nsamples = 1077\\nvalue = [637, 440]'),\n",
       " Text(74.4, 54.360000000000014, 'entropy = 0.933\\nsamples = 676\\nvalue = [236, 440]'),\n",
       " Text(223.20000000000002, 54.360000000000014, 'entropy = 0.0\\nsamples = 401\\nvalue = [401, 0]'),\n",
       " Text(297.6, 163.07999999999998, 'entropy = 0.0\\nsamples = 2583\\nvalue = [0, 2583]'),\n",
       " Text(520.8000000000001, 271.8, 'X[100] <= 0.5\\nentropy = 0.199\\nsamples = 2839\\nvalue = [2751, 88]'),\n",
       " Text(446.40000000000003, 163.07999999999998, 'X[63] <= 0.5\\nentropy = 0.093\\nsamples = 2784\\nvalue = [2751, 33]'),\n",
       " Text(372.0, 54.360000000000014, 'entropy = 0.012\\nsamples = 2740\\nvalue = [2737, 3]'),\n",
       " Text(520.8000000000001, 54.360000000000014, 'entropy = 0.902\\nsamples = 44\\nvalue = [14, 30]'),\n",
       " Text(595.2, 163.07999999999998, 'entropy = 0.0\\nsamples = 55\\nvalue = [0, 55]')]"
      ]
     },
     "execution_count": 23,
     "metadata": {},
     "output_type": "execute_result"
    },
    {
     "data": {
      "image/png": "[encoded data removed]",
      "text/plain": [
       "<Figure size 864x576 with 1 Axes>"
      ]
     },
     "metadata": {
      "needs_background": "light"
     },
     "output_type": "display_data"
    }
   ],
   "source": [
    "plt.figure(figsize=(12,8))\n",
    "tree.plot_tree(clf_en.fit(X_train, y_train)) "
   ]
  },
  {
   "cell_type": "code",
   "execution_count": 24,
   "id": "c1708824",
   "metadata": {
    "execution": {
     "iopub.execute_input": "2023-08-01T14:36:38.318446Z",
     "iopub.status.busy": "2023-08-01T14:36:38.317675Z",
     "iopub.status.idle": "2023-08-01T14:36:38.325935Z",
     "shell.execute_reply": "2023-08-01T14:36:38.326502Z",
     "shell.execute_reply.started": "2021-08-26T18:04:13.876754Z"
    },
    "papermill": {
     "duration": 0.079271,
     "end_time": "2023-08-01T14:36:38.326720",
     "exception": false,
     "start_time": "2023-08-01T14:36:38.247449",
     "status": "completed"
    },
    "tags": []
   },
   "outputs": [],
   "source": [
    "#Predict the values \n",
    "y_pred_en = clf_en.predict(X_test)"
   ]
  },
  {
   "cell_type": "code",
   "execution_count": 25,
   "id": "bb87f712",
   "metadata": {
    "execution": {
     "iopub.execute_input": "2023-08-01T14:36:38.468241Z",
     "iopub.status.busy": "2023-08-01T14:36:38.466974Z",
     "iopub.status.idle": "2023-08-01T14:36:38.473517Z",
     "shell.execute_reply": "2023-08-01T14:36:38.472708Z",
     "shell.execute_reply.started": "2021-08-26T18:04:13.886444Z"
    },
    "papermill": {
     "duration": 0.080887,
     "end_time": "2023-08-01T14:36:38.473696",
     "exception": false,
     "start_time": "2023-08-01T14:36:38.392809",
     "status": "completed"
    },
    "tags": []
   },
   "outputs": [],
   "source": [
    "#Predict the value using X train for accuracy comparision\n",
    "y_pred_train_en = clf_en.predict(X_train)"
   ]
  },
  {
   "cell_type": "code",
   "execution_count": 26,
   "id": "baeda731",
   "metadata": {
    "execution": {
     "iopub.execute_input": "2023-08-01T14:36:38.649061Z",
     "iopub.status.busy": "2023-08-01T14:36:38.647886Z",
     "iopub.status.idle": "2023-08-01T14:36:38.657764Z",
     "shell.execute_reply": "2023-08-01T14:36:38.657129Z",
     "shell.execute_reply.started": "2021-08-26T18:04:13.904697Z"
    },
    "papermill": {
     "duration": 0.092748,
     "end_time": "2023-08-01T14:36:38.657933",
     "exception": false,
     "start_time": "2023-08-01T14:36:38.565185",
     "status": "completed"
    },
    "tags": []
   },
   "outputs": [
    {
     "name": "stdout",
     "output_type": "stream",
     "text": [
      "Model accuracy score with criterion entropy: 0.9637\n",
      "Training-set accuracy score: 0.9611\n"
     ]
    }
   ],
   "source": [
    "print('Model accuracy score with criterion entropy: {0:0.4f}'. format(accuracy_score(y_test, y_pred_en)))\n",
    "print('Training-set accuracy score: {0:0.4f}'. format(accuracy_score(y_train, y_pred_train_en)))"
   ]
  },
  {
   "cell_type": "code",
   "execution_count": 27,
   "id": "ab94f31f",
   "metadata": {
    "execution": {
     "iopub.execute_input": "2023-08-01T14:36:38.814763Z",
     "iopub.status.busy": "2023-08-01T14:36:38.813977Z",
     "iopub.status.idle": "2023-08-01T14:36:38.827762Z",
     "shell.execute_reply": "2023-08-01T14:36:38.828430Z",
     "shell.execute_reply.started": "2021-08-26T18:04:13.915422Z"
    },
    "papermill": {
     "duration": 0.103172,
     "end_time": "2023-08-01T14:36:38.828632",
     "exception": false,
     "start_time": "2023-08-01T14:36:38.725460",
     "status": "completed"
    },
    "tags": []
   },
   "outputs": [
    {
     "name": "stdout",
     "output_type": "stream",
     "text": [
      "Training set score: 0.9611\n",
      "Test set score: 0.9637\n"
     ]
    }
   ],
   "source": [
    "print('Training set score: {:.4f}'.format(clf_en.score(X_train, y_train)))\n",
    "print('Test set score: {:.4f}'.format(clf_en.score(X_test, y_test)))"
   ]
  },
  {
   "cell_type": "markdown",
   "id": "0df359c3",
   "metadata": {
    "papermill": {
     "duration": 0.067429,
     "end_time": "2023-08-01T14:36:38.962035",
     "exception": false,
     "start_time": "2023-08-01T14:36:38.894606",
     "status": "completed"
    },
    "tags": []
   },
   "source": [
    "<a id=\"14\"></a> <br>\n",
    "# 14. Confusion Matrix "
   ]
  },
  {
   "cell_type": "code",
   "execution_count": 28,
   "id": "fef42940",
   "metadata": {
    "execution": {
     "iopub.execute_input": "2023-08-01T14:36:39.102495Z",
     "iopub.status.busy": "2023-08-01T14:36:39.101713Z",
     "iopub.status.idle": "2023-08-01T14:36:39.106789Z",
     "shell.execute_reply": "2023-08-01T14:36:39.107526Z",
     "shell.execute_reply.started": "2021-08-26T18:04:13.934131Z"
    },
    "papermill": {
     "duration": 0.075594,
     "end_time": "2023-08-01T14:36:39.107728",
     "exception": false,
     "start_time": "2023-08-01T14:36:39.032134",
     "status": "completed"
    },
    "tags": []
   },
   "outputs": [],
   "source": [
    "from sklearn.metrics import confusion_matrix\n",
    "from sklearn.metrics import classification_report\n",
    "from sklearn.metrics import  f1_score"
   ]
  },
  {
   "cell_type": "code",
   "execution_count": 29,
   "id": "e9784d3a",
   "metadata": {
    "execution": {
     "iopub.execute_input": "2023-08-01T14:36:39.245312Z",
     "iopub.status.busy": "2023-08-01T14:36:39.244510Z",
     "iopub.status.idle": "2023-08-01T14:36:39.258081Z",
     "shell.execute_reply": "2023-08-01T14:36:39.258667Z",
     "shell.execute_reply.started": "2021-08-26T18:04:13.941543Z"
    },
    "papermill": {
     "duration": 0.085481,
     "end_time": "2023-08-01T14:36:39.258882",
     "exception": false,
     "start_time": "2023-08-01T14:36:39.173401",
     "status": "completed"
    },
    "tags": []
   },
   "outputs": [
    {
     "name": "stdout",
     "output_type": "stream",
     "text": [
      "Confusion matrix\n",
      "\n",
      " [[766  54]\n",
      " [  5 800]]\n"
     ]
    }
   ],
   "source": [
    "cm = confusion_matrix(y_test, y_pred_en)\n",
    "\n",
    "print('Confusion matrix\\n\\n', cm)"
   ]
  },
  {
   "cell_type": "code",
   "execution_count": 30,
   "id": "cc741526",
   "metadata": {
    "execution": {
     "iopub.execute_input": "2023-08-01T14:36:39.399713Z",
     "iopub.status.busy": "2023-08-01T14:36:39.398923Z",
     "iopub.status.idle": "2023-08-01T14:36:39.835474Z",
     "shell.execute_reply": "2023-08-01T14:36:39.834673Z",
     "shell.execute_reply.started": "2021-08-26T18:04:13.958474Z"
    },
    "papermill": {
     "duration": 0.508949,
     "end_time": "2023-08-01T14:36:39.835644",
     "exception": false,
     "start_time": "2023-08-01T14:36:39.326695",
     "status": "completed"
    },
    "tags": []
   },
   "outputs": [
    {
     "data": {
      "image/png": "[encoded data removed]",
      "text/plain": [
       "<Figure size 720x720 with 2 Axes>"
      ]
     },
     "metadata": {
      "needs_background": "light"
     },
     "output_type": "display_data"
    },
    {
     "data": {
      "text/plain": [
       "<Figure size 432x288 with 0 Axes>"
      ]
     },
     "metadata": {},
     "output_type": "display_data"
    }
   ],
   "source": [
    "f,ax = plt.subplots(figsize=(10, 10))\n",
    "sns.heatmap(cm, annot=True, linewidths=0.5,linecolor=\"red\", fmt= '.0f',ax=ax)\n",
    "plt.show()\n",
    "plt.savefig('ConfusionMatrix.png')"
   ]
  },
  {
   "cell_type": "code",
   "execution_count": 31,
   "id": "96badfad",
   "metadata": {
    "execution": {
     "iopub.execute_input": "2023-08-01T14:36:39.976693Z",
     "iopub.status.busy": "2023-08-01T14:36:39.975578Z",
     "iopub.status.idle": "2023-08-01T14:36:39.989260Z",
     "shell.execute_reply": "2023-08-01T14:36:39.988564Z",
     "shell.execute_reply.started": "2021-08-26T18:04:14.210509Z"
    },
    "papermill": {
     "duration": 0.086249,
     "end_time": "2023-08-01T14:36:39.989466",
     "exception": false,
     "start_time": "2023-08-01T14:36:39.903217",
     "status": "completed"
    },
    "tags": []
   },
   "outputs": [
    {
     "name": "stdout",
     "output_type": "stream",
     "text": [
      "              precision    recall  f1-score   support\n",
      "\n",
      "           0       0.99      0.93      0.96       820\n",
      "           1       0.94      0.99      0.96       805\n",
      "\n",
      "    accuracy                           0.96      1625\n",
      "   macro avg       0.97      0.96      0.96      1625\n",
      "weighted avg       0.97      0.96      0.96      1625\n",
      "\n"
     ]
    }
   ],
   "source": [
    "print(classification_report(y_test, y_pred_en))"
   ]
  },
  {
   "cell_type": "code",
   "execution_count": 32,
   "id": "0738effc",
   "metadata": {
    "execution": {
     "iopub.execute_input": "2023-08-01T14:36:40.134291Z",
     "iopub.status.busy": "2023-08-01T14:36:40.133476Z",
     "iopub.status.idle": "2023-08-01T14:36:40.140125Z",
     "shell.execute_reply": "2023-08-01T14:36:40.139364Z",
     "shell.execute_reply.started": "2021-08-26T18:04:14.22584Z"
    },
    "papermill": {
     "duration": 0.080766,
     "end_time": "2023-08-01T14:36:40.140291",
     "exception": false,
     "start_time": "2023-08-01T14:36:40.059525",
     "status": "completed"
    },
    "tags": []
   },
   "outputs": [
    {
     "name": "stdout",
     "output_type": "stream",
     "text": [
      "F1 Score: 0.9644364074743822\n"
     ]
    }
   ],
   "source": [
    "f1_score = f1_score(y_test, y_pred_en)\n",
    "print(\"F1 Score:\",f1_score)"
   ]
  },
  {
   "cell_type": "markdown",
   "id": "884b248b",
   "metadata": {
    "papermill": {
     "duration": 0.069823,
     "end_time": "2023-08-01T14:36:40.278633",
     "exception": false,
     "start_time": "2023-08-01T14:36:40.208810",
     "status": "completed"
    },
    "tags": []
   },
   "source": [
    "<a id=\"15\"></a> <br>\n",
    "# 15. Conclusion"
   ]
  },
  {
   "cell_type": "markdown",
   "id": "c6ec8d9e",
   "metadata": {
    "papermill": {
     "duration": 0.069057,
     "end_time": "2023-08-01T14:36:40.417327",
     "exception": false,
     "start_time": "2023-08-01T14:36:40.348270",
     "status": "completed"
    },
    "tags": []
   },
   "source": [
    "Decision-Tree Classifier model using both gini index and entropy have only very very small difference in model accuracy and training set accuracy, so there is no sign of overfitting."
   ]
  }
 ],
 "metadata": {
  "kernelspec": {
   "display_name": "Python 3",
   "language": "python",
   "name": "python3"
  },
  "language_info": {
   "codemirror_mode": {
    "name": "ipython",
    "version": 3
   },
   "file_extension": ".py",
   "mimetype": "text/x-python",
   "name": "python",
   "nbconvert_exporter": "python",
   "pygments_lexer": "ipython3",
   "version": "3.11.0"
  },
  "papermill": {
   "default_parameters": {},
   "duration": 24.012579,
   "end_time": "2023-08-01T14:36:42.032840",
   "environment_variables": {},
   "exception": null,
   "input_path": "__notebook__.ipynb",
   "output_path": "__notebook__.ipynb",
   "parameters": {},
   "start_time": "2023-08-01T14:36:18.020261",
   "version": "2.3.3"
  }
 },
 "nbformat": 4,
 "nbformat_minor": 5
}
